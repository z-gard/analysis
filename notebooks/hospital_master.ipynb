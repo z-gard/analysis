{
  "nbformat": 4,
  "nbformat_minor": 0,
  "metadata": {
    "colab": {
      "provenance": [],
      "authorship_tag": "ABX9TyM+Vs3Y5bqY7uM1snICjvBg",
      "include_colab_link": true
    },
    "kernelspec": {
      "name": "python3",
      "display_name": "Python 3"
    },
    "language_info": {
      "name": "python"
    }
  },
  "cells": [
    {
      "cell_type": "markdown",
      "metadata": {
        "id": "view-in-github",
        "colab_type": "text"
      },
      "source": [
        "<a href=\"https://colab.research.google.com/github/z-gard/analysis/blob/main/notebooks/hospital_master.ipynb\" target=\"_parent\"><img src=\"https://colab.research.google.com/assets/colab-badge.svg\" alt=\"Open In Colab\"/></a>"
      ]
    },
    {
      "cell_type": "markdown",
      "source": [
        "# 医療機関\n",
        "- [診療・検査医療機関の一覧リスト](https://catalog.data.metro.tokyo.lg.jp/dataset/t000010d0000000095/resource/49aa4ba8-32e6-4e35-ad85-0cdb4db01950)"
      ],
      "metadata": {
        "id": "5FnfplBJqIeL"
      }
    },
    {
      "cell_type": "code",
      "execution_count": 1,
      "metadata": {
        "colab": {
          "base_uri": "https://localhost:8080/"
        },
        "id": "WNunGjdrptBI",
        "outputId": "890a60ad-3465-4541-fa67-de2662b58bc6"
      },
      "outputs": [
        {
          "output_type": "stream",
          "name": "stdout",
          "text": [
            "Mounted at /content/drive\n"
          ]
        }
      ],
      "source": [
        "from google.colab import drive\n",
        "drive.mount('/content/drive')"
      ]
    },
    {
      "cell_type": "code",
      "source": [
        "import os\n",
        "import requests\n",
        "import json\n",
        "import pandas as pd\n",
        "from urllib.parse import urlparse, quote\n",
        "import io\n",
        "import numpy as np\n",
        "\n",
        "pd.set_option('display.max_columns', 50)\n",
        "pd.set_option('display.max_rows', 100)"
      ],
      "metadata": {
        "id": "_OUhchtApyyW"
      },
      "execution_count": 3,
      "outputs": []
    },
    {
      "cell_type": "code",
      "source": [
        "DIR_NAME = '/content/drive/MyDrive/z-gard/data'"
      ],
      "metadata": {
        "id": "WvS9dgmUqAe0"
      },
      "execution_count": 4,
      "outputs": []
    },
    {
      "cell_type": "code",
      "source": [
        "def get_data_csv_url(url, encoding='utf-8', excel=False):\n",
        "    res = requests.get(url)\n",
        "    if res.status_code == 200:\n",
        "        if not excel:\n",
        "            return pd.read_csv(io.BytesIO(res.content), encoding=encoding)\n",
        "        else:\n",
        "            return pd.read_excel(io.BytesIO(res.content))\n",
        "    else:\n",
        "        raise Exception(f'status_code: {res.status_code} ({url})')"
      ],
      "metadata": {
        "id": "TG4gcQs4qEu-"
      },
      "execution_count": 5,
      "outputs": []
    },
    {
      "cell_type": "code",
      "source": [
        "hospital_url = 'https://www.opendata.metro.tokyo.lg.jp/fukushihoken/130001_shinryoukensa.csv'\n",
        "\n",
        "df_hospital = get_data_csv_url(hospital_url)\n",
        "print(df_hospital.shape)"
      ],
      "metadata": {
        "colab": {
          "base_uri": "https://localhost:8080/"
        },
        "id": "IUKxpW5QqGdt",
        "outputId": "e761e7dd-7a02-4b09-b2d8-9b3a6fad955e"
      },
      "execution_count": 43,
      "outputs": [
        {
          "output_type": "stream",
          "name": "stdout",
          "text": [
            "(4759, 40)\n"
          ]
        }
      ]
    },
    {
      "cell_type": "code",
      "source": [
        "df_hospital['施設分類'] = '医療機関'\n",
        "df_hospital = df_hospital[df_hospital['区市町村'].str.endswith('区')].rename(columns={'医療機関名':'名称', '区市町村':'市区町村名', '正規化住所':'所在地'})\\\n",
        "    [['検索キー', '名称', '市区町村名', '所在地', '施設分類', '小児', '妊婦']].reset_index(drop=True)\n",
        "print(df_hospital.shape)"
      ],
      "metadata": {
        "colab": {
          "base_uri": "https://localhost:8080/"
        },
        "id": "09bpuZy3qcEk",
        "outputId": "034a35f2-b5f6-45a7-df42-ee31b5493000"
      },
      "execution_count": 44,
      "outputs": [
        {
          "output_type": "stream",
          "name": "stdout",
          "text": [
            "(3596, 7)\n"
          ]
        }
      ]
    },
    {
      "cell_type": "code",
      "source": [
        "df_hospital.head()"
      ],
      "metadata": {
        "colab": {
          "base_uri": "https://localhost:8080/",
          "height": 250
        },
        "id": "plkCgPNyqkaF",
        "outputId": "e78f8543-8d76-44b1-ec66-ac4d1f611a40"
      },
      "execution_count": 45,
      "outputs": [
        {
          "output_type": "execute_result",
          "data": {
            "text/plain": [
              "                                      検索キー                   名称 市区町村名  \\\n",
              "0            メディカクリニック神田小川町3-1-10　メディカビル4階            メディカクリニック  千代田区   \n",
              "1  九段坂内科消化器内科クリニック神田神保町3丁目2-3Daiwa神保町3丁目ビル      九段坂内科消化器内科クリニック  千代田区   \n",
              "2  医療法人社団平晴会晴海3丁目クリニック晴海3-10-1　Daiwa晴海ビル1F  医療法人社団平晴会晴海3丁目クリニック   中央区   \n",
              "3  文京春日こどもクリニック小石川1－5－1　パークコート文京小石川ザタワー304         文京春日こどもクリニック   文京区   \n",
              "4                  蔵前まえだクリニック寿1-2-3 ATビル３階           蔵前まえだクリニック   台東区   \n",
              "\n",
              "                               所在地  施設分類   小児   妊婦  \n",
              "0              東京都千代田区神田小川町3-1-10　  医療機関  1.0  1.0  \n",
              "1  東京都千代田区神田神保町3丁目2-3Daiwa神保町3丁目ビル  医療機関  NaN  NaN  \n",
              "2                  東京都中央区晴海3-10-1　  医療機関  NaN  NaN  \n",
              "3                  東京都文京区小石川1－5－1　  医療機関  2.0  NaN  \n",
              "4                    東京都台東区寿1-2-3   医療機関  NaN  NaN  "
            ],
            "text/html": [
              "\n",
              "  <div id=\"df-6485f36d-c81a-4f50-9802-fe54bc0cc243\">\n",
              "    <div class=\"colab-df-container\">\n",
              "      <div>\n",
              "<style scoped>\n",
              "    .dataframe tbody tr th:only-of-type {\n",
              "        vertical-align: middle;\n",
              "    }\n",
              "\n",
              "    .dataframe tbody tr th {\n",
              "        vertical-align: top;\n",
              "    }\n",
              "\n",
              "    .dataframe thead th {\n",
              "        text-align: right;\n",
              "    }\n",
              "</style>\n",
              "<table border=\"1\" class=\"dataframe\">\n",
              "  <thead>\n",
              "    <tr style=\"text-align: right;\">\n",
              "      <th></th>\n",
              "      <th>検索キー</th>\n",
              "      <th>名称</th>\n",
              "      <th>市区町村名</th>\n",
              "      <th>所在地</th>\n",
              "      <th>施設分類</th>\n",
              "      <th>小児</th>\n",
              "      <th>妊婦</th>\n",
              "    </tr>\n",
              "  </thead>\n",
              "  <tbody>\n",
              "    <tr>\n",
              "      <th>0</th>\n",
              "      <td>メディカクリニック神田小川町3-1-10　メディカビル4階</td>\n",
              "      <td>メディカクリニック</td>\n",
              "      <td>千代田区</td>\n",
              "      <td>東京都千代田区神田小川町3-1-10</td>\n",
              "      <td>医療機関</td>\n",
              "      <td>1.0</td>\n",
              "      <td>1.0</td>\n",
              "    </tr>\n",
              "    <tr>\n",
              "      <th>1</th>\n",
              "      <td>九段坂内科消化器内科クリニック神田神保町3丁目2-3Daiwa神保町3丁目ビル</td>\n",
              "      <td>九段坂内科消化器内科クリニック</td>\n",
              "      <td>千代田区</td>\n",
              "      <td>東京都千代田区神田神保町3丁目2-3Daiwa神保町3丁目ビル</td>\n",
              "      <td>医療機関</td>\n",
              "      <td>NaN</td>\n",
              "      <td>NaN</td>\n",
              "    </tr>\n",
              "    <tr>\n",
              "      <th>2</th>\n",
              "      <td>医療法人社団平晴会晴海3丁目クリニック晴海3-10-1　Daiwa晴海ビル1F</td>\n",
              "      <td>医療法人社団平晴会晴海3丁目クリニック</td>\n",
              "      <td>中央区</td>\n",
              "      <td>東京都中央区晴海3-10-1</td>\n",
              "      <td>医療機関</td>\n",
              "      <td>NaN</td>\n",
              "      <td>NaN</td>\n",
              "    </tr>\n",
              "    <tr>\n",
              "      <th>3</th>\n",
              "      <td>文京春日こどもクリニック小石川1－5－1　パークコート文京小石川ザタワー304</td>\n",
              "      <td>文京春日こどもクリニック</td>\n",
              "      <td>文京区</td>\n",
              "      <td>東京都文京区小石川1－5－1</td>\n",
              "      <td>医療機関</td>\n",
              "      <td>2.0</td>\n",
              "      <td>NaN</td>\n",
              "    </tr>\n",
              "    <tr>\n",
              "      <th>4</th>\n",
              "      <td>蔵前まえだクリニック寿1-2-3 ATビル３階</td>\n",
              "      <td>蔵前まえだクリニック</td>\n",
              "      <td>台東区</td>\n",
              "      <td>東京都台東区寿1-2-3</td>\n",
              "      <td>医療機関</td>\n",
              "      <td>NaN</td>\n",
              "      <td>NaN</td>\n",
              "    </tr>\n",
              "  </tbody>\n",
              "</table>\n",
              "</div>\n",
              "      <button class=\"colab-df-convert\" onclick=\"convertToInteractive('df-6485f36d-c81a-4f50-9802-fe54bc0cc243')\"\n",
              "              title=\"Convert this dataframe to an interactive table.\"\n",
              "              style=\"display:none;\">\n",
              "        \n",
              "  <svg xmlns=\"http://www.w3.org/2000/svg\" height=\"24px\"viewBox=\"0 0 24 24\"\n",
              "       width=\"24px\">\n",
              "    <path d=\"M0 0h24v24H0V0z\" fill=\"none\"/>\n",
              "    <path d=\"M18.56 5.44l.94 2.06.94-2.06 2.06-.94-2.06-.94-.94-2.06-.94 2.06-2.06.94zm-11 1L8.5 8.5l.94-2.06 2.06-.94-2.06-.94L8.5 2.5l-.94 2.06-2.06.94zm10 10l.94 2.06.94-2.06 2.06-.94-2.06-.94-.94-2.06-.94 2.06-2.06.94z\"/><path d=\"M17.41 7.96l-1.37-1.37c-.4-.4-.92-.59-1.43-.59-.52 0-1.04.2-1.43.59L10.3 9.45l-7.72 7.72c-.78.78-.78 2.05 0 2.83L4 21.41c.39.39.9.59 1.41.59.51 0 1.02-.2 1.41-.59l7.78-7.78 2.81-2.81c.8-.78.8-2.07 0-2.86zM5.41 20L4 18.59l7.72-7.72 1.47 1.35L5.41 20z\"/>\n",
              "  </svg>\n",
              "      </button>\n",
              "      \n",
              "  <style>\n",
              "    .colab-df-container {\n",
              "      display:flex;\n",
              "      flex-wrap:wrap;\n",
              "      gap: 12px;\n",
              "    }\n",
              "\n",
              "    .colab-df-convert {\n",
              "      background-color: #E8F0FE;\n",
              "      border: none;\n",
              "      border-radius: 50%;\n",
              "      cursor: pointer;\n",
              "      display: none;\n",
              "      fill: #1967D2;\n",
              "      height: 32px;\n",
              "      padding: 0 0 0 0;\n",
              "      width: 32px;\n",
              "    }\n",
              "\n",
              "    .colab-df-convert:hover {\n",
              "      background-color: #E2EBFA;\n",
              "      box-shadow: 0px 1px 2px rgba(60, 64, 67, 0.3), 0px 1px 3px 1px rgba(60, 64, 67, 0.15);\n",
              "      fill: #174EA6;\n",
              "    }\n",
              "\n",
              "    [theme=dark] .colab-df-convert {\n",
              "      background-color: #3B4455;\n",
              "      fill: #D2E3FC;\n",
              "    }\n",
              "\n",
              "    [theme=dark] .colab-df-convert:hover {\n",
              "      background-color: #434B5C;\n",
              "      box-shadow: 0px 1px 3px 1px rgba(0, 0, 0, 0.15);\n",
              "      filter: drop-shadow(0px 1px 2px rgba(0, 0, 0, 0.3));\n",
              "      fill: #FFFFFF;\n",
              "    }\n",
              "  </style>\n",
              "\n",
              "      <script>\n",
              "        const buttonEl =\n",
              "          document.querySelector('#df-6485f36d-c81a-4f50-9802-fe54bc0cc243 button.colab-df-convert');\n",
              "        buttonEl.style.display =\n",
              "          google.colab.kernel.accessAllowed ? 'block' : 'none';\n",
              "\n",
              "        async function convertToInteractive(key) {\n",
              "          const element = document.querySelector('#df-6485f36d-c81a-4f50-9802-fe54bc0cc243');\n",
              "          const dataTable =\n",
              "            await google.colab.kernel.invokeFunction('convertToInteractive',\n",
              "                                                     [key], {});\n",
              "          if (!dataTable) return;\n",
              "\n",
              "          const docLinkHtml = 'Like what you see? Visit the ' +\n",
              "            '<a target=\"_blank\" href=https://colab.research.google.com/notebooks/data_table.ipynb>data table notebook</a>'\n",
              "            + ' to learn more about interactive tables.';\n",
              "          element.innerHTML = '';\n",
              "          dataTable['output_type'] = 'display_data';\n",
              "          await google.colab.output.renderOutput(dataTable, element);\n",
              "          const docLink = document.createElement('div');\n",
              "          docLink.innerHTML = docLinkHtml;\n",
              "          element.appendChild(docLink);\n",
              "        }\n",
              "      </script>\n",
              "    </div>\n",
              "  </div>\n",
              "  "
            ]
          },
          "metadata": {},
          "execution_count": 45
        }
      ]
    },
    {
      "cell_type": "markdown",
      "source": [
        "### 場所を探す"
      ],
      "metadata": {
        "id": "U0Yj7roWt4lS"
      }
    },
    {
      "cell_type": "code",
      "source": [
        "YOUR_API_KEY = 'xxxxxx'"
      ],
      "metadata": {
        "id": "rVD8WcXMsIRT"
      },
      "execution_count": 18,
      "outputs": []
    },
    {
      "cell_type": "code",
      "source": [
        "def get_place_info(place_name, unique_no, is_rating=True):\n",
        "    place = quote(place_name)\n",
        "    rating = '%2Crating' if is_rating else ''\n",
        "    \n",
        "    url = f\"https://maps.googleapis.com/maps/api/place/findplacefromtext/json?input={place}&inputtype=textquery&fields=name{rating}%2Cgeometry&key={YOUR_API_KEY}\"\n",
        "    response = requests.get(url)\n",
        "    if response.status_code == requests.codes.ok:\n",
        "        try:\n",
        "            _df = pd.DataFrame(response.json()['candidates'])\n",
        "            _df['no'] = unique_no\n",
        "            _df['place_name'] = place_name\n",
        "            _df['lat'] = _df['geometry'].apply(lambda x: x['location']['lat'])\n",
        "            _df['lng'] = _df['geometry'].apply(lambda x: x['location']['lng'])\n",
        "            if not is_rating:\n",
        "                _df['rating'] = np.NaN\n",
        "            return _df[['no', 'place_name', 'name', 'lat', 'lng', 'rating']]\n",
        "        except Exception as e:\n",
        "            print(unique_no, place_name, e)\n",
        "            pass\n",
        "    else:\n",
        "        print(unique_no, place_name, response.status_code)\n",
        "    \n",
        "    return pd.DataFrame([{'no': unique_no, 'place_name': place_name}])"
      ],
      "metadata": {
        "id": "zLuDcRCkt_PM"
      },
      "execution_count": 17,
      "outputs": []
    },
    {
      "cell_type": "code",
      "source": [
        "df_result = pd.DataFrame()\n",
        "for index, row in df_hospital.iterrows():\n",
        "    _df = get_place_info(row['検索キー'], index)\n",
        "    df_result = pd.concat([df_result, _df])\n",
        "df_result = df_result.reset_index(drop=True)\n",
        "print(df_result.shape)"
      ],
      "metadata": {
        "colab": {
          "base_uri": "https://localhost:8080/"
        },
        "id": "8MVSMM8wuA4P",
        "outputId": "fdb3a67d-7816-42fc-e7fc-2ee536bb9fdc"
      },
      "execution_count": 22,
      "outputs": [
        {
          "output_type": "stream",
          "name": "stdout",
          "text": [
            "106 近藤しんたろうクリニック松涛1-28-7-201 \"['rating'] not in index\"\n",
            "126 医療法人社団 アースクリニック池袋西池袋3-25-10リバーストンビル3階 'geometry'\n",
            "206 東京メディカルテラス北青山2－13－4　青山MYビル4階 'geometry'\n",
            "259 社会医療法人社団大成会　長汐病院池袋1-5-8 \"['rating'] not in index\"\n",
            "262 kクリニック要町1－30－1 'geometry'\n",
            "467 社会福祉法人聖母会 聖母病院中落合二丁目5番1号 \"['rating'] not in index\"\n",
            "514 赤池耳鼻咽喉科千石４－４０－２ \"['rating'] not in index\"\n",
            "730 愛和病院東砂4-20-2 \"['rating'] not in index\"\n",
            "734 三ツ木診療所西品川2-13-20 \"['rating'] not in index\"\n",
            "738 鈴木内科医院東大井6-7-3 \"['rating'] not in index\"\n",
            "756 医療法人 社団 笑鯨会 なかのぶクリニック東中延2-10-11 智勇第二ビル3階 'geometry'\n",
            "884 大田病院附属うのき診療所鵜の木3-13-10 \"['rating'] not in index\"\n",
            "938 水野内科クリニック池上6-11-16ワキタビル2F 'geometry'\n",
            "947 医療法人社団静恒会 本多病院東矢口一丁目17-15 \"['rating'] not in index\"\n",
            "1078 橋本医院野方3-15-3 \"['rating'] not in index\"\n",
            "1080 山田クリニック南台5-32-2 \"['rating'] not in index\"\n",
            "1269 たかねクリニック中里３－１７－１ \"['rating'] not in index\"\n",
            "1273 医療法人社団慈広会 王子神谷齋藤クリニック豊島8-24-4 \"['rating'] not in index\"\n",
            "1326 医療法人社団健康会 高橋医院町屋三丁目2番10号ISEビル1階2階3階地下1階 'geometry'\n",
            "1439 医療法人社団 明芳会 イムス記念病院常盤台4-25-5 \"['rating'] not in index\"\n",
            "1517 山東医院西大泉1-2-5 \"['rating'] not in index\"\n",
            "1562 医療法人社団医眞会　竹ノ塚診療所竹の塚1-39-14-101 'geometry'\n",
            "2043 あおきクリニック浜松町1-9-12中野ビル5階 'geometry'\n",
            "2046 芝公園もちもち訪問クリニック芝3-13-12　藤和シティコープ301 \"['rating'] not in index\"\n",
            "2091 木山なごみクリニック浅草橋5－1－38　アイビー浅草橋501 \"['rating'] not in index\"\n",
            "2126 医療法人社団ホームアレー　ホームアレークリニック不動前西五反田3-15-8　ビズフィールド目黒9F 'geometry'\n",
            "2164 医療法人社団健栄会　渋谷駅東口ひろばクリニック渋谷1-24-15FPG links SHIBUYA9階 'geometry'\n",
            "2196 森　医院中台2-17-1-213 'geometry'\n",
            "2250 糀谷皮膚科西糀谷4-21-4　1F \"['rating'] not in index\"\n",
            "2385 医療法人社団 相心会 ワイズクリニック南麻布4-13-7 南麻布アコルトビル5階 'geometry'\n",
            "2487 あやめ診療所竜泉3-32-3 \"['rating'] not in index\"\n",
            "2515 医療法人社団パリアン クリニック川越立川2-1-9 KHハウス3F 'geometry'\n",
            "2599 梅澤医院南品川5-3-22 \"['rating'] not in index\"\n",
            "2766 佐中医院若林4-17-7 \"['rating'] not in index\"\n",
            "2933 鬼子母神診療所雑司ヶ谷３－３－１７ \"['rating'] not in index\"\n",
            "2971 かとうクリニック神谷１－１２－９ \"['rating'] not in index\"\n",
            "2994 医療法人社団ききょう会東十条クリニック東十条2-14-11マンシオンフルーランス102 'geometry'\n",
            "3000 医療法人社団 天使の梯子 十条堀江クリニック東京都北区十条仲原2-10-20 'geometry'\n",
            "3002 医療法人社団あおば　つばめ医科歯科クリニック東田端１－２－８　早川住建田端マンション１０１号室 'geometry'\n",
            "3017 医療法人社団健咲樹会東尾久8-14-1-2F 'geometry'\n",
            "3019 医療法人社団ことり会 ことり訪問診療所東日暮里５－５２－６折原ビル４階 'geometry'\n",
            "3051 上板橋松山内科クリニック常盤台4-30-9宝田ビル1F 'geometry'\n",
            "3074 工藤クリニック高島平二丁目32街区2号棟102号 'geometry'\n",
            "3075 平成ホームクリニック向原三丁目７－７コーシャハイム向原７号棟２階 'geometry'\n",
            "3089 板橋北クリニック高島平8-7-6サンプレジエール202 'geometry'\n",
            "3270 医療法人財団謙仁会 亀有病院亀有３－３６－３ \"['rating'] not in index\"\n",
            "3274 栗原医院新小岩2-21-21 \"['rating'] not in index\"\n",
            "3315 梶原医院宝町2-25-10 1階 'geometry'\n",
            "3466 野沢耳鼻咽喉科野沢3-39-12 野沢ビル1階 'geometry'\n",
            "3560 エルブイビークリニック西新宿３－９－１西新宿ティーオービル5階 'geometry'\n",
            "(3708, 6)\n"
          ]
        }
      ]
    },
    {
      "cell_type": "markdown",
      "source": [
        "### データが取得できなかった病院"
      ],
      "metadata": {
        "id": "JVPiHSQm3EuF"
      }
    },
    {
      "cell_type": "code",
      "source": [
        "df_na_data = df_result[df_result['name'].isna()][['no', 'place_name']]\n",
        "print(len(df_na_data))"
      ],
      "metadata": {
        "colab": {
          "base_uri": "https://localhost:8080/"
        },
        "id": "xFWei_gRuYL7",
        "outputId": "8e800065-3cf7-4d8c-b17b-fd23ef24bd2b"
      },
      "execution_count": 25,
      "outputs": [
        {
          "output_type": "stream",
          "name": "stdout",
          "text": [
            "50\n"
          ]
        }
      ]
    },
    {
      "cell_type": "code",
      "source": [
        "# ratingなしで検索\n",
        "df_result_2 = pd.DataFrame()\n",
        "for index, row in df_na_data.iterrows():\n",
        "    _df = get_place_info(row['place_name'], row['no'], is_rating=False)\n",
        "    df_result_2 = pd.concat([df_result_2, _df])\n",
        "df_result_2 = df_result_2.reset_index(drop=True)\n",
        "print(df_result_2.shape)"
      ],
      "metadata": {
        "colab": {
          "base_uri": "https://localhost:8080/"
        },
        "id": "aQ9KwvjQuaTV",
        "outputId": "10b03b75-f9bb-412a-b761-ca1bfecf24d3"
      },
      "execution_count": 26,
      "outputs": [
        {
          "output_type": "stream",
          "name": "stdout",
          "text": [
            "126 医療法人社団 アースクリニック池袋西池袋3-25-10リバーストンビル3階 'geometry'\n",
            "206 東京メディカルテラス北青山2－13－4　青山MYビル4階 'geometry'\n",
            "262 kクリニック要町1－30－1 'geometry'\n",
            "756 医療法人 社団 笑鯨会 なかのぶクリニック東中延2-10-11 智勇第二ビル3階 'geometry'\n",
            "938 水野内科クリニック池上6-11-16ワキタビル2F 'geometry'\n",
            "1326 医療法人社団健康会 高橋医院町屋三丁目2番10号ISEビル1階2階3階地下1階 'geometry'\n",
            "1562 医療法人社団医眞会　竹ノ塚診療所竹の塚1-39-14-101 'geometry'\n",
            "2043 あおきクリニック浜松町1-9-12中野ビル5階 'geometry'\n",
            "2126 医療法人社団ホームアレー　ホームアレークリニック不動前西五反田3-15-8　ビズフィールド目黒9F 'geometry'\n",
            "2164 医療法人社団健栄会　渋谷駅東口ひろばクリニック渋谷1-24-15FPG links SHIBUYA9階 'geometry'\n",
            "2196 森　医院中台2-17-1-213 'geometry'\n",
            "2385 医療法人社団 相心会 ワイズクリニック南麻布4-13-7 南麻布アコルトビル5階 'geometry'\n",
            "2515 医療法人社団パリアン クリニック川越立川2-1-9 KHハウス3F 'geometry'\n",
            "2994 医療法人社団ききょう会東十条クリニック東十条2-14-11マンシオンフルーランス102 'geometry'\n",
            "3000 医療法人社団 天使の梯子 十条堀江クリニック東京都北区十条仲原2-10-20 'geometry'\n",
            "3002 医療法人社団あおば　つばめ医科歯科クリニック東田端１－２－８　早川住建田端マンション１０１号室 'geometry'\n",
            "3017 医療法人社団健咲樹会東尾久8-14-1-2F 'geometry'\n",
            "3019 医療法人社団ことり会 ことり訪問診療所東日暮里５－５２－６折原ビル４階 'geometry'\n",
            "3051 上板橋松山内科クリニック常盤台4-30-9宝田ビル1F 'geometry'\n",
            "3074 工藤クリニック高島平二丁目32街区2号棟102号 'geometry'\n",
            "3075 平成ホームクリニック向原三丁目７－７コーシャハイム向原７号棟２階 'geometry'\n",
            "3089 板橋北クリニック高島平8-7-6サンプレジエール202 'geometry'\n",
            "3315 梶原医院宝町2-25-10 1階 'geometry'\n",
            "3466 野沢耳鼻咽喉科野沢3-39-12 野沢ビル1階 'geometry'\n",
            "3560 エルブイビークリニック西新宿３－９－１西新宿ティーオービル5階 'geometry'\n",
            "(50, 6)\n"
          ]
        }
      ]
    },
    {
      "cell_type": "markdown",
      "source": [
        "### 重複している検索結果を削除して結合"
      ],
      "metadata": {
        "id": "mhbKBYue3qeZ"
      }
    },
    {
      "cell_type": "code",
      "source": [
        "df_result_all = df_result.drop_duplicates(subset=['no', 'place_name'])\n",
        "print(len(df_result_all))\n",
        "\n",
        "df_result_all = pd.concat([\n",
        "    df_result_all[df_result_all['name'].notna()],\n",
        "    df_result_2[df_result_2['name'].notna()]\n",
        "])\n",
        "print(df_result_all.shape)"
      ],
      "metadata": {
        "colab": {
          "base_uri": "https://localhost:8080/"
        },
        "id": "fkaKU73m3qEC",
        "outputId": "d7195c01-94e6-4f0a-fb41-fb89a0e170e4"
      },
      "execution_count": 32,
      "outputs": [
        {
          "output_type": "stream",
          "name": "stdout",
          "text": [
            "3596\n",
            "(3571, 6)\n"
          ]
        }
      ]
    },
    {
      "cell_type": "code",
      "source": [
        "assert df_result_all['no'].nunique() == len(df_result_all)"
      ],
      "metadata": {
        "id": "N_tjv3qM4f12"
      },
      "execution_count": 37,
      "outputs": []
    },
    {
      "cell_type": "code",
      "source": [
        "df_hospital_master = pd.concat([\n",
        "    df_hospital[['名称', '市区町村名', '所在地', '施設分類', '小児', '妊婦']],\n",
        "    df_result_all.set_index('no')[['lat', 'lng', 'rating']]\n",
        "], axis=1).sort_index()"
      ],
      "metadata": {
        "id": "xMrJMd793Xcm"
      },
      "execution_count": 56,
      "outputs": []
    },
    {
      "cell_type": "code",
      "source": [
        "df_hospital_master = df_hospital_master[\n",
        "    (df_hospital_master['lat'].notna())&(df_hospital_master['lng'].notna())\n",
        "].rename(columns={'lat':'緯度', 'lng':'経度'}).reset_index(drop=True)\n",
        "print(df_hospital_master.shape)"
      ],
      "metadata": {
        "colab": {
          "base_uri": "https://localhost:8080/"
        },
        "id": "t5PQyfIq4SgX",
        "outputId": "b0cb5234-f2bc-47a5-9296-3566d916fde4"
      },
      "execution_count": 58,
      "outputs": [
        {
          "output_type": "stream",
          "name": "stdout",
          "text": [
            "(3571, 9)\n"
          ]
        }
      ]
    },
    {
      "cell_type": "code",
      "source": [
        "df_hospital_master"
      ],
      "metadata": {
        "colab": {
          "base_uri": "https://localhost:8080/",
          "height": 424
        },
        "id": "a-CkQS5l6gly",
        "outputId": "9a577e30-ce52-4561-da0f-a461976ced3c"
      },
      "execution_count": 59,
      "outputs": [
        {
          "output_type": "execute_result",
          "data": {
            "text/plain": [
              "                        名称 市区町村名                              所在地  施設分類   小児  \\\n",
              "0                メディカクリニック  千代田区              東京都千代田区神田小川町3-1-10　  医療機関  1.0   \n",
              "1          九段坂内科消化器内科クリニック  千代田区  東京都千代田区神田神保町3丁目2-3Daiwa神保町3丁目ビル  医療機関  NaN   \n",
              "2      医療法人社団平晴会晴海3丁目クリニック   中央区                  東京都中央区晴海3-10-1　  医療機関  NaN   \n",
              "3             文京春日こどもクリニック   文京区                  東京都文京区小石川1－5－1　  医療機関  2.0   \n",
              "4               蔵前まえだクリニック   台東区                    東京都台東区寿1-2-3   医療機関  NaN   \n",
              "...                    ...   ...                              ...   ...  ...   \n",
              "3566             にれの木クリニック   杉並区         東京都杉並区天沼2-3-18カシタスデ荻窪107  医療機関  1.0   \n",
              "3567          mocoこどもクリニック   杉並区                 東京都杉並区久我山４－５０－２　  医療機関  2.0   \n",
              "3568              いたるクリニック   杉並区                東京都杉並区阿佐谷南2-14-8　  医療機関  NaN   \n",
              "3569  独立行政法人国立病院機構東京医療センター   目黒区                   東京都目黒区東が丘２－５－１  医療機関  NaN   \n",
              "3570        国立がん研究センター中央病院   中央区                    東京都中央区築地5-1-1  医療機関  NaN   \n",
              "\n",
              "       妊婦         緯度          経度  rating  \n",
              "0     1.0  35.694355  139.762639     3.6  \n",
              "1     NaN  35.696069  139.754469     4.2  \n",
              "2     NaN  35.654056  139.779257     4.7  \n",
              "3     NaN  35.710461  139.752461     4.2  \n",
              "4     NaN  35.706362  139.789713     4.6  \n",
              "...   ...        ...         ...     ...  \n",
              "3566  1.0  35.705432  139.624899     2.4  \n",
              "3567  NaN  35.689386  139.599999     3.8  \n",
              "3568  NaN  35.704418  139.637852     0.0  \n",
              "3569  NaN  35.626213  139.666690     3.2  \n",
              "3570  NaN  35.665540  139.767373     0.0  \n",
              "\n",
              "[3571 rows x 9 columns]"
            ],
            "text/html": [
              "\n",
              "  <div id=\"df-b1b194b1-1736-4013-b0a3-99e5eef3d061\">\n",
              "    <div class=\"colab-df-container\">\n",
              "      <div>\n",
              "<style scoped>\n",
              "    .dataframe tbody tr th:only-of-type {\n",
              "        vertical-align: middle;\n",
              "    }\n",
              "\n",
              "    .dataframe tbody tr th {\n",
              "        vertical-align: top;\n",
              "    }\n",
              "\n",
              "    .dataframe thead th {\n",
              "        text-align: right;\n",
              "    }\n",
              "</style>\n",
              "<table border=\"1\" class=\"dataframe\">\n",
              "  <thead>\n",
              "    <tr style=\"text-align: right;\">\n",
              "      <th></th>\n",
              "      <th>名称</th>\n",
              "      <th>市区町村名</th>\n",
              "      <th>所在地</th>\n",
              "      <th>施設分類</th>\n",
              "      <th>小児</th>\n",
              "      <th>妊婦</th>\n",
              "      <th>緯度</th>\n",
              "      <th>経度</th>\n",
              "      <th>rating</th>\n",
              "    </tr>\n",
              "  </thead>\n",
              "  <tbody>\n",
              "    <tr>\n",
              "      <th>0</th>\n",
              "      <td>メディカクリニック</td>\n",
              "      <td>千代田区</td>\n",
              "      <td>東京都千代田区神田小川町3-1-10</td>\n",
              "      <td>医療機関</td>\n",
              "      <td>1.0</td>\n",
              "      <td>1.0</td>\n",
              "      <td>35.694355</td>\n",
              "      <td>139.762639</td>\n",
              "      <td>3.6</td>\n",
              "    </tr>\n",
              "    <tr>\n",
              "      <th>1</th>\n",
              "      <td>九段坂内科消化器内科クリニック</td>\n",
              "      <td>千代田区</td>\n",
              "      <td>東京都千代田区神田神保町3丁目2-3Daiwa神保町3丁目ビル</td>\n",
              "      <td>医療機関</td>\n",
              "      <td>NaN</td>\n",
              "      <td>NaN</td>\n",
              "      <td>35.696069</td>\n",
              "      <td>139.754469</td>\n",
              "      <td>4.2</td>\n",
              "    </tr>\n",
              "    <tr>\n",
              "      <th>2</th>\n",
              "      <td>医療法人社団平晴会晴海3丁目クリニック</td>\n",
              "      <td>中央区</td>\n",
              "      <td>東京都中央区晴海3-10-1</td>\n",
              "      <td>医療機関</td>\n",
              "      <td>NaN</td>\n",
              "      <td>NaN</td>\n",
              "      <td>35.654056</td>\n",
              "      <td>139.779257</td>\n",
              "      <td>4.7</td>\n",
              "    </tr>\n",
              "    <tr>\n",
              "      <th>3</th>\n",
              "      <td>文京春日こどもクリニック</td>\n",
              "      <td>文京区</td>\n",
              "      <td>東京都文京区小石川1－5－1</td>\n",
              "      <td>医療機関</td>\n",
              "      <td>2.0</td>\n",
              "      <td>NaN</td>\n",
              "      <td>35.710461</td>\n",
              "      <td>139.752461</td>\n",
              "      <td>4.2</td>\n",
              "    </tr>\n",
              "    <tr>\n",
              "      <th>4</th>\n",
              "      <td>蔵前まえだクリニック</td>\n",
              "      <td>台東区</td>\n",
              "      <td>東京都台東区寿1-2-3</td>\n",
              "      <td>医療機関</td>\n",
              "      <td>NaN</td>\n",
              "      <td>NaN</td>\n",
              "      <td>35.706362</td>\n",
              "      <td>139.789713</td>\n",
              "      <td>4.6</td>\n",
              "    </tr>\n",
              "    <tr>\n",
              "      <th>...</th>\n",
              "      <td>...</td>\n",
              "      <td>...</td>\n",
              "      <td>...</td>\n",
              "      <td>...</td>\n",
              "      <td>...</td>\n",
              "      <td>...</td>\n",
              "      <td>...</td>\n",
              "      <td>...</td>\n",
              "      <td>...</td>\n",
              "    </tr>\n",
              "    <tr>\n",
              "      <th>3566</th>\n",
              "      <td>にれの木クリニック</td>\n",
              "      <td>杉並区</td>\n",
              "      <td>東京都杉並区天沼2-3-18カシタスデ荻窪107</td>\n",
              "      <td>医療機関</td>\n",
              "      <td>1.0</td>\n",
              "      <td>1.0</td>\n",
              "      <td>35.705432</td>\n",
              "      <td>139.624899</td>\n",
              "      <td>2.4</td>\n",
              "    </tr>\n",
              "    <tr>\n",
              "      <th>3567</th>\n",
              "      <td>mocoこどもクリニック</td>\n",
              "      <td>杉並区</td>\n",
              "      <td>東京都杉並区久我山４－５０－２</td>\n",
              "      <td>医療機関</td>\n",
              "      <td>2.0</td>\n",
              "      <td>NaN</td>\n",
              "      <td>35.689386</td>\n",
              "      <td>139.599999</td>\n",
              "      <td>3.8</td>\n",
              "    </tr>\n",
              "    <tr>\n",
              "      <th>3568</th>\n",
              "      <td>いたるクリニック</td>\n",
              "      <td>杉並区</td>\n",
              "      <td>東京都杉並区阿佐谷南2-14-8</td>\n",
              "      <td>医療機関</td>\n",
              "      <td>NaN</td>\n",
              "      <td>NaN</td>\n",
              "      <td>35.704418</td>\n",
              "      <td>139.637852</td>\n",
              "      <td>0.0</td>\n",
              "    </tr>\n",
              "    <tr>\n",
              "      <th>3569</th>\n",
              "      <td>独立行政法人国立病院機構東京医療センター</td>\n",
              "      <td>目黒区</td>\n",
              "      <td>東京都目黒区東が丘２－５－１</td>\n",
              "      <td>医療機関</td>\n",
              "      <td>NaN</td>\n",
              "      <td>NaN</td>\n",
              "      <td>35.626213</td>\n",
              "      <td>139.666690</td>\n",
              "      <td>3.2</td>\n",
              "    </tr>\n",
              "    <tr>\n",
              "      <th>3570</th>\n",
              "      <td>国立がん研究センター中央病院</td>\n",
              "      <td>中央区</td>\n",
              "      <td>東京都中央区築地5-1-1</td>\n",
              "      <td>医療機関</td>\n",
              "      <td>NaN</td>\n",
              "      <td>NaN</td>\n",
              "      <td>35.665540</td>\n",
              "      <td>139.767373</td>\n",
              "      <td>0.0</td>\n",
              "    </tr>\n",
              "  </tbody>\n",
              "</table>\n",
              "<p>3571 rows × 9 columns</p>\n",
              "</div>\n",
              "      <button class=\"colab-df-convert\" onclick=\"convertToInteractive('df-b1b194b1-1736-4013-b0a3-99e5eef3d061')\"\n",
              "              title=\"Convert this dataframe to an interactive table.\"\n",
              "              style=\"display:none;\">\n",
              "        \n",
              "  <svg xmlns=\"http://www.w3.org/2000/svg\" height=\"24px\"viewBox=\"0 0 24 24\"\n",
              "       width=\"24px\">\n",
              "    <path d=\"M0 0h24v24H0V0z\" fill=\"none\"/>\n",
              "    <path d=\"M18.56 5.44l.94 2.06.94-2.06 2.06-.94-2.06-.94-.94-2.06-.94 2.06-2.06.94zm-11 1L8.5 8.5l.94-2.06 2.06-.94-2.06-.94L8.5 2.5l-.94 2.06-2.06.94zm10 10l.94 2.06.94-2.06 2.06-.94-2.06-.94-.94-2.06-.94 2.06-2.06.94z\"/><path d=\"M17.41 7.96l-1.37-1.37c-.4-.4-.92-.59-1.43-.59-.52 0-1.04.2-1.43.59L10.3 9.45l-7.72 7.72c-.78.78-.78 2.05 0 2.83L4 21.41c.39.39.9.59 1.41.59.51 0 1.02-.2 1.41-.59l7.78-7.78 2.81-2.81c.8-.78.8-2.07 0-2.86zM5.41 20L4 18.59l7.72-7.72 1.47 1.35L5.41 20z\"/>\n",
              "  </svg>\n",
              "      </button>\n",
              "      \n",
              "  <style>\n",
              "    .colab-df-container {\n",
              "      display:flex;\n",
              "      flex-wrap:wrap;\n",
              "      gap: 12px;\n",
              "    }\n",
              "\n",
              "    .colab-df-convert {\n",
              "      background-color: #E8F0FE;\n",
              "      border: none;\n",
              "      border-radius: 50%;\n",
              "      cursor: pointer;\n",
              "      display: none;\n",
              "      fill: #1967D2;\n",
              "      height: 32px;\n",
              "      padding: 0 0 0 0;\n",
              "      width: 32px;\n",
              "    }\n",
              "\n",
              "    .colab-df-convert:hover {\n",
              "      background-color: #E2EBFA;\n",
              "      box-shadow: 0px 1px 2px rgba(60, 64, 67, 0.3), 0px 1px 3px 1px rgba(60, 64, 67, 0.15);\n",
              "      fill: #174EA6;\n",
              "    }\n",
              "\n",
              "    [theme=dark] .colab-df-convert {\n",
              "      background-color: #3B4455;\n",
              "      fill: #D2E3FC;\n",
              "    }\n",
              "\n",
              "    [theme=dark] .colab-df-convert:hover {\n",
              "      background-color: #434B5C;\n",
              "      box-shadow: 0px 1px 3px 1px rgba(0, 0, 0, 0.15);\n",
              "      filter: drop-shadow(0px 1px 2px rgba(0, 0, 0, 0.3));\n",
              "      fill: #FFFFFF;\n",
              "    }\n",
              "  </style>\n",
              "\n",
              "      <script>\n",
              "        const buttonEl =\n",
              "          document.querySelector('#df-b1b194b1-1736-4013-b0a3-99e5eef3d061 button.colab-df-convert');\n",
              "        buttonEl.style.display =\n",
              "          google.colab.kernel.accessAllowed ? 'block' : 'none';\n",
              "\n",
              "        async function convertToInteractive(key) {\n",
              "          const element = document.querySelector('#df-b1b194b1-1736-4013-b0a3-99e5eef3d061');\n",
              "          const dataTable =\n",
              "            await google.colab.kernel.invokeFunction('convertToInteractive',\n",
              "                                                     [key], {});\n",
              "          if (!dataTable) return;\n",
              "\n",
              "          const docLinkHtml = 'Like what you see? Visit the ' +\n",
              "            '<a target=\"_blank\" href=https://colab.research.google.com/notebooks/data_table.ipynb>data table notebook</a>'\n",
              "            + ' to learn more about interactive tables.';\n",
              "          element.innerHTML = '';\n",
              "          dataTable['output_type'] = 'display_data';\n",
              "          await google.colab.output.renderOutput(dataTable, element);\n",
              "          const docLink = document.createElement('div');\n",
              "          docLink.innerHTML = docLinkHtml;\n",
              "          element.appendChild(docLink);\n",
              "        }\n",
              "      </script>\n",
              "    </div>\n",
              "  </div>\n",
              "  "
            ]
          },
          "metadata": {},
          "execution_count": 59
        }
      ]
    },
    {
      "cell_type": "code",
      "source": [
        "df_hospital_master.to_csv(os.path.join(DIR_NAME, 'hospital_master.csv'), index=False)"
      ],
      "metadata": {
        "id": "CEktA5K49C4Y"
      },
      "execution_count": 60,
      "outputs": []
    },
    {
      "cell_type": "code",
      "source": [],
      "metadata": {
        "id": "e7Ox8qMP9cj0"
      },
      "execution_count": null,
      "outputs": []
    }
  ]
}