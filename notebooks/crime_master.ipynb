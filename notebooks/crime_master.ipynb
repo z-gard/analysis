{
  "nbformat": 4,
  "nbformat_minor": 0,
  "metadata": {
    "colab": {
      "provenance": [],
      "authorship_tag": "ABX9TyNHSn1AmR04EPMX+86I6Nth",
      "include_colab_link": true
    },
    "kernelspec": {
      "name": "python3",
      "display_name": "Python 3"
    },
    "language_info": {
      "name": "python"
    }
  },
  "cells": [
    {
      "cell_type": "markdown",
      "metadata": {
        "id": "view-in-github",
        "colab_type": "text"
      },
      "source": [
        "<a href=\"https://colab.research.google.com/github/z-gard/analysis/blob/main/notebooks/crime_master.ipynb\" target=\"_parent\"><img src=\"https://colab.research.google.com/assets/colab-badge.svg\" alt=\"Open In Colab\"/></a>"
      ]
    },
    {
      "cell_type": "markdown",
      "source": [
        "# 犯罪情報\n",
        "- [町丁字別犯罪情報　令和３年分（累計値）](https://catalog.data.metro.tokyo.lg.jp/dataset/t000022d0000100001/resource/38bc69bc-3f83-4c70-af49-137c6b0db5e3)"
      ],
      "metadata": {
        "id": "JRZtUgXCjmqX"
      }
    },
    {
      "cell_type": "code",
      "execution_count": 1,
      "metadata": {
        "id": "zWnbbYnejGA-"
      },
      "outputs": [],
      "source": [
        "!pip install -q japanize-matplotlib"
      ]
    },
    {
      "cell_type": "code",
      "source": [
        "from google.colab import drive\n",
        "drive.mount('/content/drive')"
      ],
      "metadata": {
        "colab": {
          "base_uri": "https://localhost:8080/"
        },
        "id": "AQsMOpP6jRZK",
        "outputId": "d1ae6356-b8bb-4343-ecbf-78c7e710e24c"
      },
      "execution_count": 2,
      "outputs": [
        {
          "output_type": "stream",
          "name": "stdout",
          "text": [
            "Drive already mounted at /content/drive; to attempt to forcibly remount, call drive.mount(\"/content/drive\", force_remount=True).\n"
          ]
        }
      ]
    },
    {
      "cell_type": "code",
      "source": [
        "import os\n",
        "import requests\n",
        "import json\n",
        "import pandas as pd\n",
        "from urllib.parse import urlparse, quote\n",
        "import io\n",
        "import math\n",
        "import numpy as np\n",
        "import matplotlib.pyplot as plt\n",
        "import japanize_matplotlib\n",
        "import seaborn as sns\n",
        "\n",
        "pd.set_option('display.max_columns', 50)\n",
        "pd.set_option('display.max_rows', 100)"
      ],
      "metadata": {
        "id": "bMxNr65WjS9y"
      },
      "execution_count": 3,
      "outputs": []
    },
    {
      "cell_type": "code",
      "source": [
        "DIR_NAME = '/content/drive/MyDrive/z-gard/data'"
      ],
      "metadata": {
        "id": "cu2fXWnrjUxq"
      },
      "execution_count": 4,
      "outputs": []
    },
    {
      "cell_type": "code",
      "source": [
        "output_master_file = 'crime_master.csv'\n",
        "output_score_file = 'crime_score.csv'"
      ],
      "metadata": {
        "id": "rph849rWjcw3"
      },
      "execution_count": 5,
      "outputs": []
    },
    {
      "cell_type": "code",
      "source": [
        "def get_data_csv_url(url, encoding='utf-8', excel=False):\n",
        "    res = requests.get(url)\n",
        "    if res.status_code == 200:\n",
        "        if not excel:\n",
        "            return pd.read_csv(io.BytesIO(res.content), encoding=encoding)\n",
        "        else:\n",
        "            return pd.read_excel(io.BytesIO(res.content))\n",
        "    else:\n",
        "        raise Exception(f'status_code: {res.status_code} ({url})')"
      ],
      "metadata": {
        "id": "Qh_Xd7ymjgkb"
      },
      "execution_count": 6,
      "outputs": []
    },
    {
      "cell_type": "code",
      "source": [
        "crime_url = 'https://www.keishicho.metro.tokyo.lg.jp/about_mpd/jokyo_tokei/jokyo/ninchikensu.files/R3.csv'\n",
        "df_crime = get_data_csv_url(crime_url, encoding='shift-jis')\n",
        "print(df_crime.shape)"
      ],
      "metadata": {
        "colab": {
          "base_uri": "https://localhost:8080/"
        },
        "id": "q2YLAPEojkCM",
        "outputId": "0227424e-9c3c-4945-b6f5-3074e5cc832a"
      },
      "execution_count": 7,
      "outputs": [
        {
          "output_type": "stream",
          "name": "stdout",
          "text": [
            "(5096, 38)\n"
          ]
        }
      ]
    },
    {
      "cell_type": "code",
      "source": [
        "df_crime.columns"
      ],
      "metadata": {
        "colab": {
          "base_uri": "https://localhost:8080/"
        },
        "id": "TjXr5HNhkX2d",
        "outputId": "a571f6fe-64c6-48dc-e6de-554ec07448ea"
      },
      "execution_count": 8,
      "outputs": [
        {
          "output_type": "execute_result",
          "data": {
            "text/plain": [
              "Index(['市区町丁', '総合計', '凶悪犯計', '凶悪犯強盗', '凶悪犯その他', '粗暴犯計', '粗暴犯凶器準備集合', '粗暴犯暴行',\n",
              "       '粗暴犯傷害', '粗暴犯脅迫', '粗暴犯恐喝', '侵入窃盗計', '侵入窃盗金庫破り', '侵入窃盗学校荒し', '侵入窃盗事務所荒し',\n",
              "       '侵入窃盗出店荒し', '侵入窃盗空き巣', '侵入窃盗忍込み', '侵入窃盗居空き', '侵入窃盗その他', '非侵入窃盗計',\n",
              "       '非侵入窃盗自動車盗', '非侵入窃盗オートバイ盗', '非侵入窃盗自転車盗', '非侵入窃盗車上ねらい', '非侵入窃盗自販機ねらい',\n",
              "       '非侵入窃盗工事場ねらい', '非侵入窃盗すり', '非侵入窃盗ひったくり', '非侵入窃盗置引き', '非侵入窃盗万引き',\n",
              "       '非侵入窃盗その他', 'その他計', 'その他詐欺', 'その他占有離脱物横領', 'その他その他知能犯', 'その他賭博',\n",
              "       'その他その他刑法犯'],\n",
              "      dtype='object')"
            ]
          },
          "metadata": {},
          "execution_count": 8
        }
      ]
    },
    {
      "cell_type": "code",
      "source": [
        "total_cols = [col for col in df_crime.columns if col.endswith('計')]\n",
        "print(len(total_cols))\n",
        "\n",
        "exclusion_rows = [row for row in list(df_crime['市区町丁'].unique()) if row.endswith('計')] + ['他県', '海外認知', '不明']\n",
        "print(len(exclusion_rows))"
      ],
      "metadata": {
        "colab": {
          "base_uri": "https://localhost:8080/"
        },
        "id": "egcfu1PHj1Ke",
        "outputId": "4e789eb1-32f6-43f9-d905-7739bac43aaa"
      },
      "execution_count": 9,
      "outputs": [
        {
          "output_type": "stream",
          "name": "stdout",
          "text": [
            "6\n",
            "67\n"
          ]
        }
      ]
    },
    {
      "cell_type": "code",
      "source": [
        "df_crime_extract = df_crime[['市区町丁'] + total_cols]\n",
        "df_crime_extract = df_crime_extract[~df_crime_extract['市区町丁'].isin(exclusion_rows)].reset_index(drop=True)\n",
        "print(df_crime_extract.shape)"
      ],
      "metadata": {
        "colab": {
          "base_uri": "https://localhost:8080/"
        },
        "id": "06wyIuxwlTJc",
        "outputId": "abcaa478-795a-4dfd-ba19-eaf6ceb7f007"
      },
      "execution_count": 10,
      "outputs": [
        {
          "output_type": "stream",
          "name": "stdout",
          "text": [
            "(5029, 7)\n"
          ]
        }
      ]
    },
    {
      "cell_type": "code",
      "source": [
        "df_crime_extract['市区町村名'] = df_crime_extract['市区町丁'].str.extract('(^.*?[区市])', expand=False)\n",
        "df_crime_ward = df_crime_extract[df_crime_extract['市区町村名'].fillna('').str.endswith('区')].reset_index(drop=True)\n",
        "df_crime_ward['町丁目'] = df_crime_ward.apply(lambda x: x['市区町丁'].replace(x['市区町村名'], ''), axis=1)\n",
        "print(df_crime_ward.shape)\n",
        "\n",
        "assert df_crime_ward['市区町村名'].nunique() == 23"
      ],
      "metadata": {
        "colab": {
          "base_uri": "https://localhost:8080/"
        },
        "id": "-l_eerktmh5t",
        "outputId": "9dad8b2b-1490-43f1-bdbe-b58c5cd5a87c"
      },
      "execution_count": 11,
      "outputs": [
        {
          "output_type": "stream",
          "name": "stdout",
          "text": [
            "(3089, 9)\n"
          ]
        }
      ]
    },
    {
      "cell_type": "markdown",
      "source": [
        "### 犯罪マスタ"
      ],
      "metadata": {
        "id": "81-kED4qvxF9"
      }
    },
    {
      "cell_type": "code",
      "source": [
        "df_crime_ward.to_csv(os.path.join(DIR_NAME, output_master_file), index=False)"
      ],
      "metadata": {
        "id": "Ql4DwM182V1p"
      },
      "execution_count": 12,
      "outputs": []
    },
    {
      "cell_type": "markdown",
      "source": [
        "### 人口マスタ"
      ],
      "metadata": {
        "id": "bxaM7QMYpl_Q"
      }
    },
    {
      "cell_type": "code",
      "source": [
        "df_pop_master = pd.read_csv(os.path.join(DIR_NAME, 'population_master.csv'))[['地域ID', '市区町村名', '町名', '町丁目']]\n",
        "print(df_pop_master.shape)"
      ],
      "metadata": {
        "colab": {
          "base_uri": "https://localhost:8080/"
        },
        "id": "TKVhIaIAooXm",
        "outputId": "fb3e78d0-4690-4e5f-d16a-6ef55478fecc"
      },
      "execution_count": 13,
      "outputs": [
        {
          "output_type": "stream",
          "name": "stdout",
          "text": [
            "(2921, 4)\n"
          ]
        }
      ]
    },
    {
      "cell_type": "code",
      "source": [
        "df_crime_master = pd.merge(\n",
        "    df_pop_master, \n",
        "    df_crime_ward.drop(columns=['市区町丁']),\n",
        "    on=['市区町村名', '町丁目'], how='left').fillna(0)\n",
        "print(df_crime_master.shape)"
      ],
      "metadata": {
        "colab": {
          "base_uri": "https://localhost:8080/"
        },
        "id": "h8OM9wXKm6WO",
        "outputId": "74d926db-21af-4f5b-82d7-43c92dc8a6a0"
      },
      "execution_count": 14,
      "outputs": [
        {
          "output_type": "stream",
          "name": "stdout",
          "text": [
            "(2921, 10)\n"
          ]
        }
      ]
    },
    {
      "cell_type": "code",
      "source": [
        "df_crime_master.head()"
      ],
      "metadata": {
        "colab": {
          "base_uri": "https://localhost:8080/",
          "height": 206
        },
        "id": "fsU6dFhXnTRO",
        "outputId": "c63529be-46ba-41b1-e7e6-dc774486543c"
      },
      "execution_count": 15,
      "outputs": [
        {
          "output_type": "execute_result",
          "data": {
            "text/plain": [
              "     地域ID 市区町村名   町名     町丁目    総合計  凶悪犯計  粗暴犯計  侵入窃盗計  非侵入窃盗計   その他計\n",
              "0  101003  千代田区  丸の内  丸の内１丁目  242.0   1.0  23.0    0.0   136.0   82.0\n",
              "1  101004  千代田区  丸の内  丸の内２丁目   40.0   0.0   1.0    0.0    22.0   17.0\n",
              "2  101005  千代田区  丸の内  丸の内３丁目  141.0   0.0   3.0    0.0    13.0  125.0\n",
              "3  101007  千代田区  大手町  大手町１丁目   36.0   1.0   8.0    3.0    18.0    6.0\n",
              "4  101008  千代田区  大手町  大手町２丁目   24.0   0.0   9.0    0.0    12.0    3.0"
            ],
            "text/html": [
              "\n",
              "  <div id=\"df-072c2b1a-9906-4637-ac8a-050bafa88e56\">\n",
              "    <div class=\"colab-df-container\">\n",
              "      <div>\n",
              "<style scoped>\n",
              "    .dataframe tbody tr th:only-of-type {\n",
              "        vertical-align: middle;\n",
              "    }\n",
              "\n",
              "    .dataframe tbody tr th {\n",
              "        vertical-align: top;\n",
              "    }\n",
              "\n",
              "    .dataframe thead th {\n",
              "        text-align: right;\n",
              "    }\n",
              "</style>\n",
              "<table border=\"1\" class=\"dataframe\">\n",
              "  <thead>\n",
              "    <tr style=\"text-align: right;\">\n",
              "      <th></th>\n",
              "      <th>地域ID</th>\n",
              "      <th>市区町村名</th>\n",
              "      <th>町名</th>\n",
              "      <th>町丁目</th>\n",
              "      <th>総合計</th>\n",
              "      <th>凶悪犯計</th>\n",
              "      <th>粗暴犯計</th>\n",
              "      <th>侵入窃盗計</th>\n",
              "      <th>非侵入窃盗計</th>\n",
              "      <th>その他計</th>\n",
              "    </tr>\n",
              "  </thead>\n",
              "  <tbody>\n",
              "    <tr>\n",
              "      <th>0</th>\n",
              "      <td>101003</td>\n",
              "      <td>千代田区</td>\n",
              "      <td>丸の内</td>\n",
              "      <td>丸の内１丁目</td>\n",
              "      <td>242.0</td>\n",
              "      <td>1.0</td>\n",
              "      <td>23.0</td>\n",
              "      <td>0.0</td>\n",
              "      <td>136.0</td>\n",
              "      <td>82.0</td>\n",
              "    </tr>\n",
              "    <tr>\n",
              "      <th>1</th>\n",
              "      <td>101004</td>\n",
              "      <td>千代田区</td>\n",
              "      <td>丸の内</td>\n",
              "      <td>丸の内２丁目</td>\n",
              "      <td>40.0</td>\n",
              "      <td>0.0</td>\n",
              "      <td>1.0</td>\n",
              "      <td>0.0</td>\n",
              "      <td>22.0</td>\n",
              "      <td>17.0</td>\n",
              "    </tr>\n",
              "    <tr>\n",
              "      <th>2</th>\n",
              "      <td>101005</td>\n",
              "      <td>千代田区</td>\n",
              "      <td>丸の内</td>\n",
              "      <td>丸の内３丁目</td>\n",
              "      <td>141.0</td>\n",
              "      <td>0.0</td>\n",
              "      <td>3.0</td>\n",
              "      <td>0.0</td>\n",
              "      <td>13.0</td>\n",
              "      <td>125.0</td>\n",
              "    </tr>\n",
              "    <tr>\n",
              "      <th>3</th>\n",
              "      <td>101007</td>\n",
              "      <td>千代田区</td>\n",
              "      <td>大手町</td>\n",
              "      <td>大手町１丁目</td>\n",
              "      <td>36.0</td>\n",
              "      <td>1.0</td>\n",
              "      <td>8.0</td>\n",
              "      <td>3.0</td>\n",
              "      <td>18.0</td>\n",
              "      <td>6.0</td>\n",
              "    </tr>\n",
              "    <tr>\n",
              "      <th>4</th>\n",
              "      <td>101008</td>\n",
              "      <td>千代田区</td>\n",
              "      <td>大手町</td>\n",
              "      <td>大手町２丁目</td>\n",
              "      <td>24.0</td>\n",
              "      <td>0.0</td>\n",
              "      <td>9.0</td>\n",
              "      <td>0.0</td>\n",
              "      <td>12.0</td>\n",
              "      <td>3.0</td>\n",
              "    </tr>\n",
              "  </tbody>\n",
              "</table>\n",
              "</div>\n",
              "      <button class=\"colab-df-convert\" onclick=\"convertToInteractive('df-072c2b1a-9906-4637-ac8a-050bafa88e56')\"\n",
              "              title=\"Convert this dataframe to an interactive table.\"\n",
              "              style=\"display:none;\">\n",
              "        \n",
              "  <svg xmlns=\"http://www.w3.org/2000/svg\" height=\"24px\"viewBox=\"0 0 24 24\"\n",
              "       width=\"24px\">\n",
              "    <path d=\"M0 0h24v24H0V0z\" fill=\"none\"/>\n",
              "    <path d=\"M18.56 5.44l.94 2.06.94-2.06 2.06-.94-2.06-.94-.94-2.06-.94 2.06-2.06.94zm-11 1L8.5 8.5l.94-2.06 2.06-.94-2.06-.94L8.5 2.5l-.94 2.06-2.06.94zm10 10l.94 2.06.94-2.06 2.06-.94-2.06-.94-.94-2.06-.94 2.06-2.06.94z\"/><path d=\"M17.41 7.96l-1.37-1.37c-.4-.4-.92-.59-1.43-.59-.52 0-1.04.2-1.43.59L10.3 9.45l-7.72 7.72c-.78.78-.78 2.05 0 2.83L4 21.41c.39.39.9.59 1.41.59.51 0 1.02-.2 1.41-.59l7.78-7.78 2.81-2.81c.8-.78.8-2.07 0-2.86zM5.41 20L4 18.59l7.72-7.72 1.47 1.35L5.41 20z\"/>\n",
              "  </svg>\n",
              "      </button>\n",
              "      \n",
              "  <style>\n",
              "    .colab-df-container {\n",
              "      display:flex;\n",
              "      flex-wrap:wrap;\n",
              "      gap: 12px;\n",
              "    }\n",
              "\n",
              "    .colab-df-convert {\n",
              "      background-color: #E8F0FE;\n",
              "      border: none;\n",
              "      border-radius: 50%;\n",
              "      cursor: pointer;\n",
              "      display: none;\n",
              "      fill: #1967D2;\n",
              "      height: 32px;\n",
              "      padding: 0 0 0 0;\n",
              "      width: 32px;\n",
              "    }\n",
              "\n",
              "    .colab-df-convert:hover {\n",
              "      background-color: #E2EBFA;\n",
              "      box-shadow: 0px 1px 2px rgba(60, 64, 67, 0.3), 0px 1px 3px 1px rgba(60, 64, 67, 0.15);\n",
              "      fill: #174EA6;\n",
              "    }\n",
              "\n",
              "    [theme=dark] .colab-df-convert {\n",
              "      background-color: #3B4455;\n",
              "      fill: #D2E3FC;\n",
              "    }\n",
              "\n",
              "    [theme=dark] .colab-df-convert:hover {\n",
              "      background-color: #434B5C;\n",
              "      box-shadow: 0px 1px 3px 1px rgba(0, 0, 0, 0.15);\n",
              "      filter: drop-shadow(0px 1px 2px rgba(0, 0, 0, 0.3));\n",
              "      fill: #FFFFFF;\n",
              "    }\n",
              "  </style>\n",
              "\n",
              "      <script>\n",
              "        const buttonEl =\n",
              "          document.querySelector('#df-072c2b1a-9906-4637-ac8a-050bafa88e56 button.colab-df-convert');\n",
              "        buttonEl.style.display =\n",
              "          google.colab.kernel.accessAllowed ? 'block' : 'none';\n",
              "\n",
              "        async function convertToInteractive(key) {\n",
              "          const element = document.querySelector('#df-072c2b1a-9906-4637-ac8a-050bafa88e56');\n",
              "          const dataTable =\n",
              "            await google.colab.kernel.invokeFunction('convertToInteractive',\n",
              "                                                     [key], {});\n",
              "          if (!dataTable) return;\n",
              "\n",
              "          const docLinkHtml = 'Like what you see? Visit the ' +\n",
              "            '<a target=\"_blank\" href=https://colab.research.google.com/notebooks/data_table.ipynb>data table notebook</a>'\n",
              "            + ' to learn more about interactive tables.';\n",
              "          element.innerHTML = '';\n",
              "          dataTable['output_type'] = 'display_data';\n",
              "          await google.colab.output.renderOutput(dataTable, element);\n",
              "          const docLink = document.createElement('div');\n",
              "          docLink.innerHTML = docLinkHtml;\n",
              "          element.appendChild(docLink);\n",
              "        }\n",
              "      </script>\n",
              "    </div>\n",
              "  </div>\n",
              "  "
            ]
          },
          "metadata": {},
          "execution_count": 15
        }
      ]
    },
    {
      "cell_type": "code",
      "source": [
        "df_group_crime = df_crime_master.groupby('市区町村名')[['凶悪犯計', '粗暴犯計', '侵入窃盗計', '非侵入窃盗計', 'その他計']].sum().stack().rename('count').reset_index()\n",
        "\n",
        "plt.figure(figsize=(15, 5))\n",
        "sns.barplot(data=df_group_crime, x='市区町村名', y='count', hue='level_1')\n",
        "plt.legend(loc='upper left', bbox_to_anchor=(1, 1))\n",
        "plt.show()"
      ],
      "metadata": {
        "colab": {
          "base_uri": "https://localhost:8080/",
          "height": 333
        },
        "id": "XlalWnkiohb_",
        "outputId": "42ef6504-7dad-4985-d53b-87115546a4f5"
      },
      "execution_count": 16,
      "outputs": [
        {
          "output_type": "display_data",
          "data": {
            "text/plain": [
              "<Figure size 1080x360 with 1 Axes>"
            ],
            "image/png": "[encoded data removed]"
          },
          "metadata": {
            "needs_background": "light"
          }
        }
      ]
    },
    {
      "cell_type": "code",
      "source": [
        "sns.histplot(df_crime_master['凶悪犯計'], bins=10)\n",
        "plt.show()"
      ],
      "metadata": {
        "colab": {
          "base_uri": "https://localhost:8080/",
          "height": 278
        },
        "id": "S5iX2WmdqvQP",
        "outputId": "9996310c-09ac-4eb7-eeb3-a743920775ce"
      },
      "execution_count": 17,
      "outputs": [
        {
          "output_type": "display_data",
          "data": {
            "text/plain": [
              "<Figure size 432x288 with 1 Axes>"
            ],
            "image/png": "[encoded data removed]"
          },
          "metadata": {
            "needs_background": "light"
          }
        }
      ]
    },
    {
      "cell_type": "code",
      "source": [
        "sns.histplot(df_crime_master['粗暴犯計'], bins=20)\n",
        "plt.show()"
      ],
      "metadata": {
        "colab": {
          "base_uri": "https://localhost:8080/",
          "height": 278
        },
        "id": "97P1Q07uwrTM",
        "outputId": "daeb1e54-0a8e-490e-84fb-435e699748ef"
      },
      "execution_count": 18,
      "outputs": [
        {
          "output_type": "display_data",
          "data": {
            "text/plain": [
              "<Figure size 432x288 with 1 Axes>"
            ],
            "image/png": "[encoded data removed]"
          },
          "metadata": {
            "needs_background": "light"
          }
        }
      ]
    },
    {
      "cell_type": "code",
      "source": [
        "sns.histplot(df_crime_master['侵入窃盗計'], bins=20)\n",
        "plt.show()"
      ],
      "metadata": {
        "colab": {
          "base_uri": "https://localhost:8080/",
          "height": 278
        },
        "id": "DMuGpywywxRN",
        "outputId": "07c3843f-25bb-460f-fe6c-269c2437181c"
      },
      "execution_count": 19,
      "outputs": [
        {
          "output_type": "display_data",
          "data": {
            "text/plain": [
              "<Figure size 432x288 with 1 Axes>"
            ],
            "image/png": "[encoded data removed]"
          },
          "metadata": {
            "needs_background": "light"
          }
        }
      ]
    },
    {
      "cell_type": "code",
      "source": [
        "sns.histplot(df_crime_master['非侵入窃盗計'], bins=20)\n",
        "plt.show()"
      ],
      "metadata": {
        "colab": {
          "base_uri": "https://localhost:8080/",
          "height": 278
        },
        "id": "uJo1phI0w3N8",
        "outputId": "6f21852b-3a05-4f28-e45c-421f834bd94d"
      },
      "execution_count": 20,
      "outputs": [
        {
          "output_type": "display_data",
          "data": {
            "text/plain": [
              "<Figure size 432x288 with 1 Axes>"
            ],
            "image/png": "[encoded data removed]"
          },
          "metadata": {
            "needs_background": "light"
          }
        }
      ]
    },
    {
      "cell_type": "code",
      "source": [
        "sns.histplot(df_crime_master['その他計'], bins=20)\n",
        "plt.show()"
      ],
      "metadata": {
        "colab": {
          "base_uri": "https://localhost:8080/",
          "height": 277
        },
        "id": "v_5dckR9w79Y",
        "outputId": "ac3da429-326e-4250-ec32-267d7ce0c14f"
      },
      "execution_count": 21,
      "outputs": [
        {
          "output_type": "display_data",
          "data": {
            "text/plain": [
              "<Figure size 432x288 with 1 Axes>"
            ],
            "image/png": "[encoded data removed]"
          },
          "metadata": {
            "needs_background": "light"
          }
        }
      ]
    },
    {
      "cell_type": "code",
      "source": [
        "def normalize_score(sr_data, high=True, outlier=True):\n",
        "    score = (sr_data - sr_data.mean())/sr_data.std()\n",
        "    score = score if high else -score\n",
        "\n",
        "    if outlier:\n",
        "        high_s = score.quantile(0.99)\n",
        "        low_s = score.quantile(0.01)\n",
        "        score[score > high_s] = high_s\n",
        "        score[score < low_s] = low_s\n",
        "    else:\n",
        "        high_s = score.max()\n",
        "        low_s = score.min()\n",
        "        \n",
        "    return (score - low_s)/(high_s - low_s)\n",
        "\n",
        "\n",
        "def rank_score(sr_data):\n",
        "    size = sr_data.notna().sum()\n",
        "    rank = sr_data.rank()\n",
        "    result = rank.copy()\n",
        "    # 0~1: 15%, 1~2: 20%, 2~3: 30%, 3~4: 20%, 4~5: 15%\n",
        "    level_list = [0.15, (0.15+0.2), (0.15+0.2+0.3), (0.15+0.2+0.3+0.2), 1]\n",
        "    \n",
        "    pre_level = 0\n",
        "    for index, level in enumerate([lv*size for lv in level_list]):\n",
        "        result[(rank > pre_level)&(rank <= level)] = (rank - pre_level)/(level - pre_level) + index\n",
        "        pre_level = level\n",
        "\n",
        "    return result"
      ],
      "metadata": {
        "id": "cvoENKP2w_tC"
      },
      "execution_count": 22,
      "outputs": []
    },
    {
      "cell_type": "code",
      "source": [
        "df_crime_master['凶悪犯レベル'] = normalize_score(df_crime_master['凶悪犯計'], high=False, outlier=False)\n",
        "sns.histplot(df_crime_master['凶悪犯レベル'], bins=20)\n",
        "plt.show()"
      ],
      "metadata": {
        "colab": {
          "base_uri": "https://localhost:8080/",
          "height": 278
        },
        "id": "xYOFyzAsxGPk",
        "outputId": "2c66f751-ac02-4b70-b2f1-dc3c2334fb0c"
      },
      "execution_count": 23,
      "outputs": [
        {
          "output_type": "display_data",
          "data": {
            "text/plain": [
              "<Figure size 432x288 with 1 Axes>"
            ],
            "image/png": "[encoded data removed]"
          },
          "metadata": {
            "needs_background": "light"
          }
        }
      ]
    },
    {
      "cell_type": "code",
      "source": [
        "df_crime_master['粗暴犯レベル'] = normalize_score(df_crime_master['粗暴犯計'], high=False)\n",
        "sns.histplot(df_crime_master['粗暴犯レベル'], bins=20)\n",
        "plt.show()"
      ],
      "metadata": {
        "colab": {
          "base_uri": "https://localhost:8080/",
          "height": 278
        },
        "id": "3SkEven3xZjE",
        "outputId": "d6e448f5-8168-4b43-ee4a-f502057f1ea9"
      },
      "execution_count": 24,
      "outputs": [
        {
          "output_type": "display_data",
          "data": {
            "text/plain": [
              "<Figure size 432x288 with 1 Axes>"
            ],
            "image/png": "[encoded data removed]"
          },
          "metadata": {
            "needs_background": "light"
          }
        }
      ]
    },
    {
      "cell_type": "code",
      "source": [
        "df_crime_master['侵入窃盗レベル'] = normalize_score(df_crime_master['侵入窃盗計'], high=False)\n",
        "sns.histplot(df_crime_master['侵入窃盗レベル'], bins=20)\n",
        "plt.show()"
      ],
      "metadata": {
        "colab": {
          "base_uri": "https://localhost:8080/",
          "height": 278
        },
        "id": "Kn1gViXhxgQ9",
        "outputId": "b8f300b7-0715-4ea6-9aa7-1942463636ec"
      },
      "execution_count": 25,
      "outputs": [
        {
          "output_type": "display_data",
          "data": {
            "text/plain": [
              "<Figure size 432x288 with 1 Axes>"
            ],
            "image/png": "[encoded data removed]"
          },
          "metadata": {
            "needs_background": "light"
          }
        }
      ]
    },
    {
      "cell_type": "code",
      "source": [
        "df_crime_master['非侵入窃盗レベル'] = normalize_score(df_crime_master['非侵入窃盗計'], high=False)\n",
        "sns.histplot(df_crime_master['非侵入窃盗レベル'], bins=20)\n",
        "plt.show()"
      ],
      "metadata": {
        "colab": {
          "base_uri": "https://localhost:8080/",
          "height": 278
        },
        "id": "LZEXJYSpybR9",
        "outputId": "08ae1eb4-7e7f-4633-88c9-c3a4d3dc804a"
      },
      "execution_count": 26,
      "outputs": [
        {
          "output_type": "display_data",
          "data": {
            "text/plain": [
              "<Figure size 432x288 with 1 Axes>"
            ],
            "image/png": "[encoded data removed]"
          },
          "metadata": {
            "needs_background": "light"
          }
        }
      ]
    },
    {
      "cell_type": "code",
      "source": [
        "df_crime_master['その他レベル'] = normalize_score(df_crime_master['その他計'], high=False)\n",
        "sns.histplot(df_crime_master['その他レベル'], bins=20)\n",
        "plt.show()"
      ],
      "metadata": {
        "colab": {
          "base_uri": "https://localhost:8080/",
          "height": 277
        },
        "id": "arGJUC6U0NU7",
        "outputId": "0b48918d-088e-4bbc-d317-5ba00fdc4a92"
      },
      "execution_count": 27,
      "outputs": [
        {
          "output_type": "display_data",
          "data": {
            "text/plain": [
              "<Figure size 432x288 with 1 Axes>"
            ],
            "image/png": "[encoded data removed]"
          },
          "metadata": {
            "needs_background": "light"
          }
        }
      ]
    },
    {
      "cell_type": "code",
      "source": [
        "score_list = [\n",
        "    df_crime_master['凶悪犯レベル'] * 1.0,\n",
        "    df_crime_master['粗暴犯レベル'] * 0.8,\n",
        "    df_crime_master['侵入窃盗レベル'] * 0.6,\n",
        "    df_crime_master['非侵入窃盗レベル'] * 0.5,\n",
        "    df_crime_master['その他レベル'] * 0.4,\n",
        "]\n",
        "df_crime_master['_犯罪スコア'] = normalize_score(pd.concat(score_list, axis=1).sum(axis=1, skipna=False), outlier=False)\n",
        "df_crime_master['犯罪スコア'] = rank_score(df_crime_master['_犯罪スコア'])"
      ],
      "metadata": {
        "id": "mQax3EXh0VuF"
      },
      "execution_count": 28,
      "outputs": []
    },
    {
      "cell_type": "code",
      "source": [
        "sns.histplot(df_crime_master['_犯罪スコア'], bins=20)\n",
        "plt.show()"
      ],
      "metadata": {
        "colab": {
          "base_uri": "https://localhost:8080/",
          "height": 278
        },
        "id": "b82VjjWL08KP",
        "outputId": "b0f16cad-69b8-42d4-c62f-e4324e8f9927"
      },
      "execution_count": 29,
      "outputs": [
        {
          "output_type": "display_data",
          "data": {
            "text/plain": [
              "<Figure size 432x288 with 1 Axes>"
            ],
            "image/png": "[encoded data removed]"
          },
          "metadata": {
            "needs_background": "light"
          }
        }
      ]
    },
    {
      "cell_type": "code",
      "source": [
        "sns.histplot(df_crime_master['犯罪スコア'], bins=20)\n",
        "plt.show()"
      ],
      "metadata": {
        "colab": {
          "base_uri": "https://localhost:8080/",
          "height": 278
        },
        "id": "SYZz1_ps1JRB",
        "outputId": "8cde3ce9-cb1c-407e-910b-2f513538c43e"
      },
      "execution_count": 30,
      "outputs": [
        {
          "output_type": "display_data",
          "data": {
            "text/plain": [
              "<Figure size 432x288 with 1 Axes>"
            ],
            "image/png": "[encoded data removed]"
          },
          "metadata": {
            "needs_background": "light"
          }
        }
      ]
    },
    {
      "cell_type": "code",
      "source": [
        "df_crime_master[['地域ID', '市区町村名', '町丁目', '凶悪犯計', '粗暴犯計', '侵入窃盗計', '非侵入窃盗計', 'その他計', '_犯罪スコア', '犯罪スコア']]\\\n",
        "    .to_csv(os.path.join(DIR_NAME, output_score_file), index=False)"
      ],
      "metadata": {
        "id": "XA8Yq1fR1OZL"
      },
      "execution_count": 31,
      "outputs": []
    },
    {
      "cell_type": "code",
      "source": [
        "plt.figure(figsize=(15, 5))\n",
        "sns.barplot(x='市区町村名', y='犯罪スコア', data=df_crime_master)\n",
        "plt.show()"
      ],
      "metadata": {
        "colab": {
          "base_uri": "https://localhost:8080/",
          "height": 333
        },
        "id": "xMjpl1D71UtG",
        "outputId": "c9126b72-ad74-4c43-eb11-229d5d869b23"
      },
      "execution_count": 32,
      "outputs": [
        {
          "output_type": "display_data",
          "data": {
            "text/plain": [
              "<Figure size 1080x360 with 1 Axes>"
            ],
            "image/png": "[encoded data removed]"
          },
          "metadata": {
            "needs_background": "light"
          }
        }
      ]
    },
    {
      "cell_type": "code",
      "source": [
        "df_level = df_crime_master.copy()\n",
        "df_level['rank'] = df_level.groupby('町名')['犯罪スコア'].transform('rank', ascending=False)\n",
        "df_level = df_level[df_level['rank'] == 1].sort_values('犯罪スコア', ascending=False)[\n",
        "    ['市区町村名', '町名', '町丁目', '犯罪スコア', '_犯罪スコア', '凶悪犯計', '粗暴犯計', '侵入窃盗計', '非侵入窃盗計', 'その他計']\n",
        "].reset_index(drop=True)\n",
        "print(df_level.shape)"
      ],
      "metadata": {
        "colab": {
          "base_uri": "https://localhost:8080/"
        },
        "id": "pxyG3T9Z24GO",
        "outputId": "e4a095d5-8a48-4353-abbe-de207d2581b1"
      },
      "execution_count": 35,
      "outputs": [
        {
          "output_type": "stream",
          "name": "stdout",
          "text": [
            "(681, 10)\n"
          ]
        }
      ]
    },
    {
      "cell_type": "code",
      "source": [
        "df_level.head(20)"
      ],
      "metadata": {
        "colab": {
          "base_uri": "https://localhost:8080/",
          "height": 677
        },
        "id": "qUd7eYtO3D1-",
        "outputId": "bd3b7712-0c70-4d7c-c7df-94dcaaf382d7"
      },
      "execution_count": 36,
      "outputs": [
        {
          "output_type": "execute_result",
          "data": {
            "text/plain": [
              "   市区町村名      町名        町丁目     犯罪スコア  _犯罪スコア  凶悪犯計  粗暴犯計  侵入窃盗計  非侵入窃盗計  その他計\n",
              "0    品川区      八潮      八潮１丁目  4.933813     1.0   0.0   0.0    0.0     0.0   0.0\n",
              "1    足立区     東伊興     東伊興４丁目  4.933813     1.0   0.0   0.0    0.0     0.0   0.0\n",
              "2    足立区      入谷      入谷６丁目  4.933813     1.0   0.0   0.0    0.0     0.0   0.0\n",
              "3    足立区     古千谷     古千谷１丁目  4.933813     1.0   0.0   0.0    0.0     0.0   0.0\n",
              "4    大田区      東海      東海５丁目  4.933813     1.0   0.0   0.0    0.0     0.0   0.0\n",
              "5    大田区     京浜島     京浜島１丁目  4.933813     1.0   0.0   0.0    0.0     0.0   0.0\n",
              "6    品川区      豊町      豊町３丁目  4.933813     1.0   0.0   0.0    0.0     0.0   0.0\n",
              "7    品川区      小山      小山７丁目  4.933813     1.0   0.0   0.0    0.0     0.0   0.0\n",
              "8    中央区  日本橋本石町  日本橋本石町３丁目  4.933813     1.0   0.0   0.0    0.0     0.0   0.0\n",
              "9    江東区     夢の島     夢の島１丁目  4.933813     1.0   0.0   0.0    0.0     0.0   0.0\n",
              "10  世田谷区  玉川田園調布  玉川田園調布１丁目  4.933813     1.0   0.0   0.0    0.0     0.0   0.0\n",
              "11   江東区      青海      青海３丁目  4.933813     1.0   0.0   0.0    0.0     0.0   0.0\n",
              "12   江東区      福住      福住２丁目  4.933813     1.0   0.0   0.0    0.0     0.0   0.0\n",
              "13   江東区      森下      森下５丁目  4.933813     1.0   0.0   0.0    0.0     0.0   0.0\n",
              "14   台東区      谷中      谷中６丁目  4.933813     1.0   0.0   0.0    0.0     0.0   0.0\n",
              "15   新宿区     戸塚町     戸塚町１丁目  4.933813     1.0   0.0   0.0    0.0     0.0   0.0\n",
              "16   新宿区     神楽坂     神楽坂３丁目  4.933813     1.0   0.0   0.0    0.0     0.0   0.0\n",
              "17   新宿区  市谷砂土原町  市谷砂土原町３丁目  4.933813     1.0   0.0   0.0    0.0     0.0   0.0\n",
              "18   練馬区     南大泉     南大泉６丁目  4.933813     1.0   0.0   0.0    0.0     0.0   0.0\n",
              "19    港区     麻布台     麻布台２丁目  4.933813     1.0   0.0   0.0    0.0     0.0   0.0"
            ],
            "text/html": [
              "\n",
              "  <div id=\"df-c5ec88f5-f27d-44ec-bbe0-26621dea94b5\">\n",
              "    <div class=\"colab-df-container\">\n",
              "      <div>\n",
              "<style scoped>\n",
              "    .dataframe tbody tr th:only-of-type {\n",
              "        vertical-align: middle;\n",
              "    }\n",
              "\n",
              "    .dataframe tbody tr th {\n",
              "        vertical-align: top;\n",
              "    }\n",
              "\n",
              "    .dataframe thead th {\n",
              "        text-align: right;\n",
              "    }\n",
              "</style>\n",
              "<table border=\"1\" class=\"dataframe\">\n",
              "  <thead>\n",
              "    <tr style=\"text-align: right;\">\n",
              "      <th></th>\n",
              "      <th>市区町村名</th>\n",
              "      <th>町名</th>\n",
              "      <th>町丁目</th>\n",
              "      <th>犯罪スコア</th>\n",
              "      <th>_犯罪スコア</th>\n",
              "      <th>凶悪犯計</th>\n",
              "      <th>粗暴犯計</th>\n",
              "      <th>侵入窃盗計</th>\n",
              "      <th>非侵入窃盗計</th>\n",
              "      <th>その他計</th>\n",
              "    </tr>\n",
              "  </thead>\n",
              "  <tbody>\n",
              "    <tr>\n",
              "      <th>0</th>\n",
              "      <td>品川区</td>\n",
              "      <td>八潮</td>\n",
              "      <td>八潮１丁目</td>\n",
              "      <td>4.933813</td>\n",
              "      <td>1.0</td>\n",
              "      <td>0.0</td>\n",
              "      <td>0.0</td>\n",
              "      <td>0.0</td>\n",
              "      <td>0.0</td>\n",
              "      <td>0.0</td>\n",
              "    </tr>\n",
              "    <tr>\n",
              "      <th>1</th>\n",
              "      <td>足立区</td>\n",
              "      <td>東伊興</td>\n",
              "      <td>東伊興４丁目</td>\n",
              "      <td>4.933813</td>\n",
              "      <td>1.0</td>\n",
              "      <td>0.0</td>\n",
              "      <td>0.0</td>\n",
              "      <td>0.0</td>\n",
              "      <td>0.0</td>\n",
              "      <td>0.0</td>\n",
              "    </tr>\n",
              "    <tr>\n",
              "      <th>2</th>\n",
              "      <td>足立区</td>\n",
              "      <td>入谷</td>\n",
              "      <td>入谷６丁目</td>\n",
              "      <td>4.933813</td>\n",
              "      <td>1.0</td>\n",
              "      <td>0.0</td>\n",
              "      <td>0.0</td>\n",
              "      <td>0.0</td>\n",
              "      <td>0.0</td>\n",
              "      <td>0.0</td>\n",
              "    </tr>\n",
              "    <tr>\n",
              "      <th>3</th>\n",
              "      <td>足立区</td>\n",
              "      <td>古千谷</td>\n",
              "      <td>古千谷１丁目</td>\n",
              "      <td>4.933813</td>\n",
              "      <td>1.0</td>\n",
              "      <td>0.0</td>\n",
              "      <td>0.0</td>\n",
              "      <td>0.0</td>\n",
              "      <td>0.0</td>\n",
              "      <td>0.0</td>\n",
              "    </tr>\n",
              "    <tr>\n",
              "      <th>4</th>\n",
              "      <td>大田区</td>\n",
              "      <td>東海</td>\n",
              "      <td>東海５丁目</td>\n",
              "      <td>4.933813</td>\n",
              "      <td>1.0</td>\n",
              "      <td>0.0</td>\n",
              "      <td>0.0</td>\n",
              "      <td>0.0</td>\n",
              "      <td>0.0</td>\n",
              "      <td>0.0</td>\n",
              "    </tr>\n",
              "    <tr>\n",
              "      <th>5</th>\n",
              "      <td>大田区</td>\n",
              "      <td>京浜島</td>\n",
              "      <td>京浜島１丁目</td>\n",
              "      <td>4.933813</td>\n",
              "      <td>1.0</td>\n",
              "      <td>0.0</td>\n",
              "      <td>0.0</td>\n",
              "      <td>0.0</td>\n",
              "      <td>0.0</td>\n",
              "      <td>0.0</td>\n",
              "    </tr>\n",
              "    <tr>\n",
              "      <th>6</th>\n",
              "      <td>品川区</td>\n",
              "      <td>豊町</td>\n",
              "      <td>豊町３丁目</td>\n",
              "      <td>4.933813</td>\n",
              "      <td>1.0</td>\n",
              "      <td>0.0</td>\n",
              "      <td>0.0</td>\n",
              "      <td>0.0</td>\n",
              "      <td>0.0</td>\n",
              "      <td>0.0</td>\n",
              "    </tr>\n",
              "    <tr>\n",
              "      <th>7</th>\n",
              "      <td>品川区</td>\n",
              "      <td>小山</td>\n",
              "      <td>小山７丁目</td>\n",
              "      <td>4.933813</td>\n",
              "      <td>1.0</td>\n",
              "      <td>0.0</td>\n",
              "      <td>0.0</td>\n",
              "      <td>0.0</td>\n",
              "      <td>0.0</td>\n",
              "      <td>0.0</td>\n",
              "    </tr>\n",
              "    <tr>\n",
              "      <th>8</th>\n",
              "      <td>中央区</td>\n",
              "      <td>日本橋本石町</td>\n",
              "      <td>日本橋本石町３丁目</td>\n",
              "      <td>4.933813</td>\n",
              "      <td>1.0</td>\n",
              "      <td>0.0</td>\n",
              "      <td>0.0</td>\n",
              "      <td>0.0</td>\n",
              "      <td>0.0</td>\n",
              "      <td>0.0</td>\n",
              "    </tr>\n",
              "    <tr>\n",
              "      <th>9</th>\n",
              "      <td>江東区</td>\n",
              "      <td>夢の島</td>\n",
              "      <td>夢の島１丁目</td>\n",
              "      <td>4.933813</td>\n",
              "      <td>1.0</td>\n",
              "      <td>0.0</td>\n",
              "      <td>0.0</td>\n",
              "      <td>0.0</td>\n",
              "      <td>0.0</td>\n",
              "      <td>0.0</td>\n",
              "    </tr>\n",
              "    <tr>\n",
              "      <th>10</th>\n",
              "      <td>世田谷区</td>\n",
              "      <td>玉川田園調布</td>\n",
              "      <td>玉川田園調布１丁目</td>\n",
              "      <td>4.933813</td>\n",
              "      <td>1.0</td>\n",
              "      <td>0.0</td>\n",
              "      <td>0.0</td>\n",
              "      <td>0.0</td>\n",
              "      <td>0.0</td>\n",
              "      <td>0.0</td>\n",
              "    </tr>\n",
              "    <tr>\n",
              "      <th>11</th>\n",
              "      <td>江東区</td>\n",
              "      <td>青海</td>\n",
              "      <td>青海３丁目</td>\n",
              "      <td>4.933813</td>\n",
              "      <td>1.0</td>\n",
              "      <td>0.0</td>\n",
              "      <td>0.0</td>\n",
              "      <td>0.0</td>\n",
              "      <td>0.0</td>\n",
              "      <td>0.0</td>\n",
              "    </tr>\n",
              "    <tr>\n",
              "      <th>12</th>\n",
              "      <td>江東区</td>\n",
              "      <td>福住</td>\n",
              "      <td>福住２丁目</td>\n",
              "      <td>4.933813</td>\n",
              "      <td>1.0</td>\n",
              "      <td>0.0</td>\n",
              "      <td>0.0</td>\n",
              "      <td>0.0</td>\n",
              "      <td>0.0</td>\n",
              "      <td>0.0</td>\n",
              "    </tr>\n",
              "    <tr>\n",
              "      <th>13</th>\n",
              "      <td>江東区</td>\n",
              "      <td>森下</td>\n",
              "      <td>森下５丁目</td>\n",
              "      <td>4.933813</td>\n",
              "      <td>1.0</td>\n",
              "      <td>0.0</td>\n",
              "      <td>0.0</td>\n",
              "      <td>0.0</td>\n",
              "      <td>0.0</td>\n",
              "      <td>0.0</td>\n",
              "    </tr>\n",
              "    <tr>\n",
              "      <th>14</th>\n",
              "      <td>台東区</td>\n",
              "      <td>谷中</td>\n",
              "      <td>谷中６丁目</td>\n",
              "      <td>4.933813</td>\n",
              "      <td>1.0</td>\n",
              "      <td>0.0</td>\n",
              "      <td>0.0</td>\n",
              "      <td>0.0</td>\n",
              "      <td>0.0</td>\n",
              "      <td>0.0</td>\n",
              "    </tr>\n",
              "    <tr>\n",
              "      <th>15</th>\n",
              "      <td>新宿区</td>\n",
              "      <td>戸塚町</td>\n",
              "      <td>戸塚町１丁目</td>\n",
              "      <td>4.933813</td>\n",
              "      <td>1.0</td>\n",
              "      <td>0.0</td>\n",
              "      <td>0.0</td>\n",
              "      <td>0.0</td>\n",
              "      <td>0.0</td>\n",
              "      <td>0.0</td>\n",
              "    </tr>\n",
              "    <tr>\n",
              "      <th>16</th>\n",
              "      <td>新宿区</td>\n",
              "      <td>神楽坂</td>\n",
              "      <td>神楽坂３丁目</td>\n",
              "      <td>4.933813</td>\n",
              "      <td>1.0</td>\n",
              "      <td>0.0</td>\n",
              "      <td>0.0</td>\n",
              "      <td>0.0</td>\n",
              "      <td>0.0</td>\n",
              "      <td>0.0</td>\n",
              "    </tr>\n",
              "    <tr>\n",
              "      <th>17</th>\n",
              "      <td>新宿区</td>\n",
              "      <td>市谷砂土原町</td>\n",
              "      <td>市谷砂土原町３丁目</td>\n",
              "      <td>4.933813</td>\n",
              "      <td>1.0</td>\n",
              "      <td>0.0</td>\n",
              "      <td>0.0</td>\n",
              "      <td>0.0</td>\n",
              "      <td>0.0</td>\n",
              "      <td>0.0</td>\n",
              "    </tr>\n",
              "    <tr>\n",
              "      <th>18</th>\n",
              "      <td>練馬区</td>\n",
              "      <td>南大泉</td>\n",
              "      <td>南大泉６丁目</td>\n",
              "      <td>4.933813</td>\n",
              "      <td>1.0</td>\n",
              "      <td>0.0</td>\n",
              "      <td>0.0</td>\n",
              "      <td>0.0</td>\n",
              "      <td>0.0</td>\n",
              "      <td>0.0</td>\n",
              "    </tr>\n",
              "    <tr>\n",
              "      <th>19</th>\n",
              "      <td>港区</td>\n",
              "      <td>麻布台</td>\n",
              "      <td>麻布台２丁目</td>\n",
              "      <td>4.933813</td>\n",
              "      <td>1.0</td>\n",
              "      <td>0.0</td>\n",
              "      <td>0.0</td>\n",
              "      <td>0.0</td>\n",
              "      <td>0.0</td>\n",
              "      <td>0.0</td>\n",
              "    </tr>\n",
              "  </tbody>\n",
              "</table>\n",
              "</div>\n",
              "      <button class=\"colab-df-convert\" onclick=\"convertToInteractive('df-c5ec88f5-f27d-44ec-bbe0-26621dea94b5')\"\n",
              "              title=\"Convert this dataframe to an interactive table.\"\n",
              "              style=\"display:none;\">\n",
              "        \n",
              "  <svg xmlns=\"http://www.w3.org/2000/svg\" height=\"24px\"viewBox=\"0 0 24 24\"\n",
              "       width=\"24px\">\n",
              "    <path d=\"M0 0h24v24H0V0z\" fill=\"none\"/>\n",
              "    <path d=\"M18.56 5.44l.94 2.06.94-2.06 2.06-.94-2.06-.94-.94-2.06-.94 2.06-2.06.94zm-11 1L8.5 8.5l.94-2.06 2.06-.94-2.06-.94L8.5 2.5l-.94 2.06-2.06.94zm10 10l.94 2.06.94-2.06 2.06-.94-2.06-.94-.94-2.06-.94 2.06-2.06.94z\"/><path d=\"M17.41 7.96l-1.37-1.37c-.4-.4-.92-.59-1.43-.59-.52 0-1.04.2-1.43.59L10.3 9.45l-7.72 7.72c-.78.78-.78 2.05 0 2.83L4 21.41c.39.39.9.59 1.41.59.51 0 1.02-.2 1.41-.59l7.78-7.78 2.81-2.81c.8-.78.8-2.07 0-2.86zM5.41 20L4 18.59l7.72-7.72 1.47 1.35L5.41 20z\"/>\n",
              "  </svg>\n",
              "      </button>\n",
              "      \n",
              "  <style>\n",
              "    .colab-df-container {\n",
              "      display:flex;\n",
              "      flex-wrap:wrap;\n",
              "      gap: 12px;\n",
              "    }\n",
              "\n",
              "    .colab-df-convert {\n",
              "      background-color: #E8F0FE;\n",
              "      border: none;\n",
              "      border-radius: 50%;\n",
              "      cursor: pointer;\n",
              "      display: none;\n",
              "      fill: #1967D2;\n",
              "      height: 32px;\n",
              "      padding: 0 0 0 0;\n",
              "      width: 32px;\n",
              "    }\n",
              "\n",
              "    .colab-df-convert:hover {\n",
              "      background-color: #E2EBFA;\n",
              "      box-shadow: 0px 1px 2px rgba(60, 64, 67, 0.3), 0px 1px 3px 1px rgba(60, 64, 67, 0.15);\n",
              "      fill: #174EA6;\n",
              "    }\n",
              "\n",
              "    [theme=dark] .colab-df-convert {\n",
              "      background-color: #3B4455;\n",
              "      fill: #D2E3FC;\n",
              "    }\n",
              "\n",
              "    [theme=dark] .colab-df-convert:hover {\n",
              "      background-color: #434B5C;\n",
              "      box-shadow: 0px 1px 3px 1px rgba(0, 0, 0, 0.15);\n",
              "      filter: drop-shadow(0px 1px 2px rgba(0, 0, 0, 0.3));\n",
              "      fill: #FFFFFF;\n",
              "    }\n",
              "  </style>\n",
              "\n",
              "      <script>\n",
              "        const buttonEl =\n",
              "          document.querySelector('#df-c5ec88f5-f27d-44ec-bbe0-26621dea94b5 button.colab-df-convert');\n",
              "        buttonEl.style.display =\n",
              "          google.colab.kernel.accessAllowed ? 'block' : 'none';\n",
              "\n",
              "        async function convertToInteractive(key) {\n",
              "          const element = document.querySelector('#df-c5ec88f5-f27d-44ec-bbe0-26621dea94b5');\n",
              "          const dataTable =\n",
              "            await google.colab.kernel.invokeFunction('convertToInteractive',\n",
              "                                                     [key], {});\n",
              "          if (!dataTable) return;\n",
              "\n",
              "          const docLinkHtml = 'Like what you see? Visit the ' +\n",
              "            '<a target=\"_blank\" href=https://colab.research.google.com/notebooks/data_table.ipynb>data table notebook</a>'\n",
              "            + ' to learn more about interactive tables.';\n",
              "          element.innerHTML = '';\n",
              "          dataTable['output_type'] = 'display_data';\n",
              "          await google.colab.output.renderOutput(dataTable, element);\n",
              "          const docLink = document.createElement('div');\n",
              "          docLink.innerHTML = docLinkHtml;\n",
              "          element.appendChild(docLink);\n",
              "        }\n",
              "      </script>\n",
              "    </div>\n",
              "  </div>\n",
              "  "
            ]
          },
          "metadata": {},
          "execution_count": 36
        }
      ]
    },
    {
      "cell_type": "code",
      "source": [
        "df_level.tail(20)"
      ],
      "metadata": {
        "colab": {
          "base_uri": "https://localhost:8080/",
          "height": 677
        },
        "id": "GpB9gQce3Mez",
        "outputId": "3403301d-f69b-4b7e-8998-3c69028d111e"
      },
      "execution_count": 37,
      "outputs": [
        {
          "output_type": "execute_result",
          "data": {
            "text/plain": [
              "    市区町村名    町名      町丁目     犯罪スコア    _犯罪スコア  凶悪犯計  粗暴犯計  侵入窃盗計  非侵入窃盗計   その他計\n",
              "661  世田谷区    松原    松原６丁目  1.422544  0.892240   1.0   2.0    0.0     7.0    6.0\n",
              "662    港区    高輪    高輪１丁目  1.417408  0.892170   0.0   3.0    0.0     6.0    9.0\n",
              "663   葛飾区    亀有    亀有１丁目  1.388309  0.889574   1.0   1.0    0.0    10.0    9.0\n",
              "664  千代田区   有楽町   有楽町２丁目  1.354074  0.886754   0.0   1.0    0.0    41.0    4.0\n",
              "665   台東区   西浅草   西浅草１丁目  1.263352  0.881474   0.0   5.0    0.0     6.0    4.0\n",
              "666   杉並区  阿佐谷南  阿佐谷南２丁目  1.134971  0.869958   1.0   2.0    0.0    19.0    6.0\n",
              "667   中央区    新川    新川１丁目  1.039113  0.860249   0.0   1.0    1.0    12.0   13.0\n",
              "668  千代田区   丸の内   丸の内２丁目  1.027131  0.858494   0.0   1.0    0.0    22.0   17.0\n",
              "669  世田谷区    大原    大原１丁目  1.016861  0.857129   0.0   1.0    0.0    28.0   15.0\n",
              "670    港区   西麻布   西麻布３丁目  0.960858  0.851830   0.0   4.0    0.0    13.0   11.0\n",
              "671   台東区   日本堤   日本堤２丁目  0.851307  0.841672   0.0   4.0    0.0    29.0    7.0\n",
              "672   新宿区   西新宿   西新宿８丁目  0.737190  0.825504   0.0   3.0    2.0     8.0    7.0\n",
              "673   豊島区    池袋    池袋４丁目  0.636768  0.807539   0.0   7.0    0.0    19.0    7.0\n",
              "674  千代田区   大手町   大手町２丁目  0.613945  0.804953   0.0   9.0    0.0    12.0    3.0\n",
              "675  世田谷区   桜新町   桜新町２丁目  0.600251  0.803362   0.0   4.0    0.0    47.0    8.0\n",
              "676   新宿区   大久保   大久保３丁目  0.538628  0.792571   2.0   3.0    0.0    27.0    9.0\n",
              "677   新宿区  高田馬場  高田馬場４丁目  0.440488  0.769501   0.0   3.0    2.0    25.0   12.0\n",
              "678  世田谷区  三軒茶屋  三軒茶屋１丁目  0.168892  0.647762   0.0   5.0    3.0    31.0   20.0\n",
              "679   渋谷区   道玄坂   道玄坂１丁目  0.036517  0.351515   2.0  37.0    2.0    82.0   45.0\n",
              "680   新宿区  歌舞伎町  歌舞伎町１丁目  0.006847  0.030303   9.0  82.0   22.0   242.0  101.0"
            ],
            "text/html": [
              "\n",
              "  <div id=\"df-83477cb0-f2fd-40d8-a8da-b9298187a82c\">\n",
              "    <div class=\"colab-df-container\">\n",
              "      <div>\n",
              "<style scoped>\n",
              "    .dataframe tbody tr th:only-of-type {\n",
              "        vertical-align: middle;\n",
              "    }\n",
              "\n",
              "    .dataframe tbody tr th {\n",
              "        vertical-align: top;\n",
              "    }\n",
              "\n",
              "    .dataframe thead th {\n",
              "        text-align: right;\n",
              "    }\n",
              "</style>\n",
              "<table border=\"1\" class=\"dataframe\">\n",
              "  <thead>\n",
              "    <tr style=\"text-align: right;\">\n",
              "      <th></th>\n",
              "      <th>市区町村名</th>\n",
              "      <th>町名</th>\n",
              "      <th>町丁目</th>\n",
              "      <th>犯罪スコア</th>\n",
              "      <th>_犯罪スコア</th>\n",
              "      <th>凶悪犯計</th>\n",
              "      <th>粗暴犯計</th>\n",
              "      <th>侵入窃盗計</th>\n",
              "      <th>非侵入窃盗計</th>\n",
              "      <th>その他計</th>\n",
              "    </tr>\n",
              "  </thead>\n",
              "  <tbody>\n",
              "    <tr>\n",
              "      <th>661</th>\n",
              "      <td>世田谷区</td>\n",
              "      <td>松原</td>\n",
              "      <td>松原６丁目</td>\n",
              "      <td>1.422544</td>\n",
              "      <td>0.892240</td>\n",
              "      <td>1.0</td>\n",
              "      <td>2.0</td>\n",
              "      <td>0.0</td>\n",
              "      <td>7.0</td>\n",
              "      <td>6.0</td>\n",
              "    </tr>\n",
              "    <tr>\n",
              "      <th>662</th>\n",
              "      <td>港区</td>\n",
              "      <td>高輪</td>\n",
              "      <td>高輪１丁目</td>\n",
              "      <td>1.417408</td>\n",
              "      <td>0.892170</td>\n",
              "      <td>0.0</td>\n",
              "      <td>3.0</td>\n",
              "      <td>0.0</td>\n",
              "      <td>6.0</td>\n",
              "      <td>9.0</td>\n",
              "    </tr>\n",
              "    <tr>\n",
              "      <th>663</th>\n",
              "      <td>葛飾区</td>\n",
              "      <td>亀有</td>\n",
              "      <td>亀有１丁目</td>\n",
              "      <td>1.388309</td>\n",
              "      <td>0.889574</td>\n",
              "      <td>1.0</td>\n",
              "      <td>1.0</td>\n",
              "      <td>0.0</td>\n",
              "      <td>10.0</td>\n",
              "      <td>9.0</td>\n",
              "    </tr>\n",
              "    <tr>\n",
              "      <th>664</th>\n",
              "      <td>千代田区</td>\n",
              "      <td>有楽町</td>\n",
              "      <td>有楽町２丁目</td>\n",
              "      <td>1.354074</td>\n",
              "      <td>0.886754</td>\n",
              "      <td>0.0</td>\n",
              "      <td>1.0</td>\n",
              "      <td>0.0</td>\n",
              "      <td>41.0</td>\n",
              "      <td>4.0</td>\n",
              "    </tr>\n",
              "    <tr>\n",
              "      <th>665</th>\n",
              "      <td>台東区</td>\n",
              "      <td>西浅草</td>\n",
              "      <td>西浅草１丁目</td>\n",
              "      <td>1.263352</td>\n",
              "      <td>0.881474</td>\n",
              "      <td>0.0</td>\n",
              "      <td>5.0</td>\n",
              "      <td>0.0</td>\n",
              "      <td>6.0</td>\n",
              "      <td>4.0</td>\n",
              "    </tr>\n",
              "    <tr>\n",
              "      <th>666</th>\n",
              "      <td>杉並区</td>\n",
              "      <td>阿佐谷南</td>\n",
              "      <td>阿佐谷南２丁目</td>\n",
              "      <td>1.134971</td>\n",
              "      <td>0.869958</td>\n",
              "      <td>1.0</td>\n",
              "      <td>2.0</td>\n",
              "      <td>0.0</td>\n",
              "      <td>19.0</td>\n",
              "      <td>6.0</td>\n",
              "    </tr>\n",
              "    <tr>\n",
              "      <th>667</th>\n",
              "      <td>中央区</td>\n",
              "      <td>新川</td>\n",
              "      <td>新川１丁目</td>\n",
              "      <td>1.039113</td>\n",
              "      <td>0.860249</td>\n",
              "      <td>0.0</td>\n",
              "      <td>1.0</td>\n",
              "      <td>1.0</td>\n",
              "      <td>12.0</td>\n",
              "      <td>13.0</td>\n",
              "    </tr>\n",
              "    <tr>\n",
              "      <th>668</th>\n",
              "      <td>千代田区</td>\n",
              "      <td>丸の内</td>\n",
              "      <td>丸の内２丁目</td>\n",
              "      <td>1.027131</td>\n",
              "      <td>0.858494</td>\n",
              "      <td>0.0</td>\n",
              "      <td>1.0</td>\n",
              "      <td>0.0</td>\n",
              "      <td>22.0</td>\n",
              "      <td>17.0</td>\n",
              "    </tr>\n",
              "    <tr>\n",
              "      <th>669</th>\n",
              "      <td>世田谷区</td>\n",
              "      <td>大原</td>\n",
              "      <td>大原１丁目</td>\n",
              "      <td>1.016861</td>\n",
              "      <td>0.857129</td>\n",
              "      <td>0.0</td>\n",
              "      <td>1.0</td>\n",
              "      <td>0.0</td>\n",
              "      <td>28.0</td>\n",
              "      <td>15.0</td>\n",
              "    </tr>\n",
              "    <tr>\n",
              "      <th>670</th>\n",
              "      <td>港区</td>\n",
              "      <td>西麻布</td>\n",
              "      <td>西麻布３丁目</td>\n",
              "      <td>0.960858</td>\n",
              "      <td>0.851830</td>\n",
              "      <td>0.0</td>\n",
              "      <td>4.0</td>\n",
              "      <td>0.0</td>\n",
              "      <td>13.0</td>\n",
              "      <td>11.0</td>\n",
              "    </tr>\n",
              "    <tr>\n",
              "      <th>671</th>\n",
              "      <td>台東区</td>\n",
              "      <td>日本堤</td>\n",
              "      <td>日本堤２丁目</td>\n",
              "      <td>0.851307</td>\n",
              "      <td>0.841672</td>\n",
              "      <td>0.0</td>\n",
              "      <td>4.0</td>\n",
              "      <td>0.0</td>\n",
              "      <td>29.0</td>\n",
              "      <td>7.0</td>\n",
              "    </tr>\n",
              "    <tr>\n",
              "      <th>672</th>\n",
              "      <td>新宿区</td>\n",
              "      <td>西新宿</td>\n",
              "      <td>西新宿８丁目</td>\n",
              "      <td>0.737190</td>\n",
              "      <td>0.825504</td>\n",
              "      <td>0.0</td>\n",
              "      <td>3.0</td>\n",
              "      <td>2.0</td>\n",
              "      <td>8.0</td>\n",
              "      <td>7.0</td>\n",
              "    </tr>\n",
              "    <tr>\n",
              "      <th>673</th>\n",
              "      <td>豊島区</td>\n",
              "      <td>池袋</td>\n",
              "      <td>池袋４丁目</td>\n",
              "      <td>0.636768</td>\n",
              "      <td>0.807539</td>\n",
              "      <td>0.0</td>\n",
              "      <td>7.0</td>\n",
              "      <td>0.0</td>\n",
              "      <td>19.0</td>\n",
              "      <td>7.0</td>\n",
              "    </tr>\n",
              "    <tr>\n",
              "      <th>674</th>\n",
              "      <td>千代田区</td>\n",
              "      <td>大手町</td>\n",
              "      <td>大手町２丁目</td>\n",
              "      <td>0.613945</td>\n",
              "      <td>0.804953</td>\n",
              "      <td>0.0</td>\n",
              "      <td>9.0</td>\n",
              "      <td>0.0</td>\n",
              "      <td>12.0</td>\n",
              "      <td>3.0</td>\n",
              "    </tr>\n",
              "    <tr>\n",
              "      <th>675</th>\n",
              "      <td>世田谷区</td>\n",
              "      <td>桜新町</td>\n",
              "      <td>桜新町２丁目</td>\n",
              "      <td>0.600251</td>\n",
              "      <td>0.803362</td>\n",
              "      <td>0.0</td>\n",
              "      <td>4.0</td>\n",
              "      <td>0.0</td>\n",
              "      <td>47.0</td>\n",
              "      <td>8.0</td>\n",
              "    </tr>\n",
              "    <tr>\n",
              "      <th>676</th>\n",
              "      <td>新宿区</td>\n",
              "      <td>大久保</td>\n",
              "      <td>大久保３丁目</td>\n",
              "      <td>0.538628</td>\n",
              "      <td>0.792571</td>\n",
              "      <td>2.0</td>\n",
              "      <td>3.0</td>\n",
              "      <td>0.0</td>\n",
              "      <td>27.0</td>\n",
              "      <td>9.0</td>\n",
              "    </tr>\n",
              "    <tr>\n",
              "      <th>677</th>\n",
              "      <td>新宿区</td>\n",
              "      <td>高田馬場</td>\n",
              "      <td>高田馬場４丁目</td>\n",
              "      <td>0.440488</td>\n",
              "      <td>0.769501</td>\n",
              "      <td>0.0</td>\n",
              "      <td>3.0</td>\n",
              "      <td>2.0</td>\n",
              "      <td>25.0</td>\n",
              "      <td>12.0</td>\n",
              "    </tr>\n",
              "    <tr>\n",
              "      <th>678</th>\n",
              "      <td>世田谷区</td>\n",
              "      <td>三軒茶屋</td>\n",
              "      <td>三軒茶屋１丁目</td>\n",
              "      <td>0.168892</td>\n",
              "      <td>0.647762</td>\n",
              "      <td>0.0</td>\n",
              "      <td>5.0</td>\n",
              "      <td>3.0</td>\n",
              "      <td>31.0</td>\n",
              "      <td>20.0</td>\n",
              "    </tr>\n",
              "    <tr>\n",
              "      <th>679</th>\n",
              "      <td>渋谷区</td>\n",
              "      <td>道玄坂</td>\n",
              "      <td>道玄坂１丁目</td>\n",
              "      <td>0.036517</td>\n",
              "      <td>0.351515</td>\n",
              "      <td>2.0</td>\n",
              "      <td>37.0</td>\n",
              "      <td>2.0</td>\n",
              "      <td>82.0</td>\n",
              "      <td>45.0</td>\n",
              "    </tr>\n",
              "    <tr>\n",
              "      <th>680</th>\n",
              "      <td>新宿区</td>\n",
              "      <td>歌舞伎町</td>\n",
              "      <td>歌舞伎町１丁目</td>\n",
              "      <td>0.006847</td>\n",
              "      <td>0.030303</td>\n",
              "      <td>9.0</td>\n",
              "      <td>82.0</td>\n",
              "      <td>22.0</td>\n",
              "      <td>242.0</td>\n",
              "      <td>101.0</td>\n",
              "    </tr>\n",
              "  </tbody>\n",
              "</table>\n",
              "</div>\n",
              "      <button class=\"colab-df-convert\" onclick=\"convertToInteractive('df-83477cb0-f2fd-40d8-a8da-b9298187a82c')\"\n",
              "              title=\"Convert this dataframe to an interactive table.\"\n",
              "              style=\"display:none;\">\n",
              "        \n",
              "  <svg xmlns=\"http://www.w3.org/2000/svg\" height=\"24px\"viewBox=\"0 0 24 24\"\n",
              "       width=\"24px\">\n",
              "    <path d=\"M0 0h24v24H0V0z\" fill=\"none\"/>\n",
              "    <path d=\"M18.56 5.44l.94 2.06.94-2.06 2.06-.94-2.06-.94-.94-2.06-.94 2.06-2.06.94zm-11 1L8.5 8.5l.94-2.06 2.06-.94-2.06-.94L8.5 2.5l-.94 2.06-2.06.94zm10 10l.94 2.06.94-2.06 2.06-.94-2.06-.94-.94-2.06-.94 2.06-2.06.94z\"/><path d=\"M17.41 7.96l-1.37-1.37c-.4-.4-.92-.59-1.43-.59-.52 0-1.04.2-1.43.59L10.3 9.45l-7.72 7.72c-.78.78-.78 2.05 0 2.83L4 21.41c.39.39.9.59 1.41.59.51 0 1.02-.2 1.41-.59l7.78-7.78 2.81-2.81c.8-.78.8-2.07 0-2.86zM5.41 20L4 18.59l7.72-7.72 1.47 1.35L5.41 20z\"/>\n",
              "  </svg>\n",
              "      </button>\n",
              "      \n",
              "  <style>\n",
              "    .colab-df-container {\n",
              "      display:flex;\n",
              "      flex-wrap:wrap;\n",
              "      gap: 12px;\n",
              "    }\n",
              "\n",
              "    .colab-df-convert {\n",
              "      background-color: #E8F0FE;\n",
              "      border: none;\n",
              "      border-radius: 50%;\n",
              "      cursor: pointer;\n",
              "      display: none;\n",
              "      fill: #1967D2;\n",
              "      height: 32px;\n",
              "      padding: 0 0 0 0;\n",
              "      width: 32px;\n",
              "    }\n",
              "\n",
              "    .colab-df-convert:hover {\n",
              "      background-color: #E2EBFA;\n",
              "      box-shadow: 0px 1px 2px rgba(60, 64, 67, 0.3), 0px 1px 3px 1px rgba(60, 64, 67, 0.15);\n",
              "      fill: #174EA6;\n",
              "    }\n",
              "\n",
              "    [theme=dark] .colab-df-convert {\n",
              "      background-color: #3B4455;\n",
              "      fill: #D2E3FC;\n",
              "    }\n",
              "\n",
              "    [theme=dark] .colab-df-convert:hover {\n",
              "      background-color: #434B5C;\n",
              "      box-shadow: 0px 1px 3px 1px rgba(0, 0, 0, 0.15);\n",
              "      filter: drop-shadow(0px 1px 2px rgba(0, 0, 0, 0.3));\n",
              "      fill: #FFFFFF;\n",
              "    }\n",
              "  </style>\n",
              "\n",
              "      <script>\n",
              "        const buttonEl =\n",
              "          document.querySelector('#df-83477cb0-f2fd-40d8-a8da-b9298187a82c button.colab-df-convert');\n",
              "        buttonEl.style.display =\n",
              "          google.colab.kernel.accessAllowed ? 'block' : 'none';\n",
              "\n",
              "        async function convertToInteractive(key) {\n",
              "          const element = document.querySelector('#df-83477cb0-f2fd-40d8-a8da-b9298187a82c');\n",
              "          const dataTable =\n",
              "            await google.colab.kernel.invokeFunction('convertToInteractive',\n",
              "                                                     [key], {});\n",
              "          if (!dataTable) return;\n",
              "\n",
              "          const docLinkHtml = 'Like what you see? Visit the ' +\n",
              "            '<a target=\"_blank\" href=https://colab.research.google.com/notebooks/data_table.ipynb>data table notebook</a>'\n",
              "            + ' to learn more about interactive tables.';\n",
              "          element.innerHTML = '';\n",
              "          dataTable['output_type'] = 'display_data';\n",
              "          await google.colab.output.renderOutput(dataTable, element);\n",
              "          const docLink = document.createElement('div');\n",
              "          docLink.innerHTML = docLinkHtml;\n",
              "          element.appendChild(docLink);\n",
              "        }\n",
              "      </script>\n",
              "    </div>\n",
              "  </div>\n",
              "  "
            ]
          },
          "metadata": {},
          "execution_count": 37
        }
      ]
    },
    {
      "cell_type": "code",
      "source": [],
      "metadata": {
        "id": "pknABJ0N3PL7"
      },
      "execution_count": null,
      "outputs": []
    }
  ]
}