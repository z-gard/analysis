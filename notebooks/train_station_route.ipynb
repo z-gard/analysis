{
  "nbformat": 4,
  "nbformat_minor": 0,
  "metadata": {
    "colab": {
      "provenance": [],
      "authorship_tag": "ABX9TyOqSbsGAOIFLtKIPkM2chs0",
      "include_colab_link": true
    },
    "kernelspec": {
      "name": "python3",
      "display_name": "Python 3"
    },
    "language_info": {
      "name": "python"
    }
  },
  "cells": [
    {
      "cell_type": "markdown",
      "metadata": {
        "id": "view-in-github",
        "colab_type": "text"
      },
      "source": [
        "<a href=\"https://colab.research.google.com/github/z-gard/analysis/blob/main/notebooks/train_station_route.ipynb\" target=\"_parent\"><img src=\"https://colab.research.google.com/assets/colab-badge.svg\" alt=\"Open In Colab\"/></a>"
      ]
    },
    {
      "cell_type": "code",
      "source": [
        "from google.colab import drive\n",
        "drive.mount('/content/drive')"
      ],
      "metadata": {
        "colab": {
          "base_uri": "https://localhost:8080/"
        },
        "id": "e8CMPkOn-BPH",
        "outputId": "226fb9bb-e469-4adb-ef4a-c80a70a94758"
      },
      "execution_count": 30,
      "outputs": [
        {
          "output_type": "stream",
          "name": "stdout",
          "text": [
            "Mounted at /content/drive\n"
          ]
        }
      ]
    },
    {
      "cell_type": "code",
      "source": [
        "DIR_NAME = '/content/drive/MyDrive/z-gard/data'"
      ],
      "metadata": {
        "id": "lgbRHOz_9rmZ"
      },
      "execution_count": 31,
      "outputs": []
    },
    {
      "cell_type": "code",
      "source": [
        "output_file = 'train_station_route.csv'"
      ],
      "metadata": {
        "id": "aUC86s9Vgrnw"
      },
      "execution_count": 283,
      "outputs": []
    },
    {
      "cell_type": "code",
      "source": [
        "import os\n",
        "import requests\n",
        "import json\n",
        "import pandas as pd\n",
        "from urllib.parse import urlparse, quote\n",
        "import io\n",
        "import numpy as np\n",
        "import datetime\n",
        "import pprint\n",
        "import time\n",
        "\n",
        "pd.set_option('display.max_columns', 50)\n",
        "pd.set_option('display.max_rows', 100)"
      ],
      "metadata": {
        "id": "yKh-qITMmURl"
      },
      "execution_count": 85,
      "outputs": []
    },
    {
      "cell_type": "code",
      "source": [
        "df_station = pd.read_csv(os.path.join(DIR_NAME, 'train_station.csv'))[\n",
        "    ['name', 'lat', 'lng', 'place_id']].drop_duplicates().reset_index(drop=True)\n",
        "print(df_station.shape)"
      ],
      "metadata": {
        "colab": {
          "base_uri": "https://localhost:8080/"
        },
        "id": "OPKjCTMDmW19",
        "outputId": "b4596a16-431c-4fb0-b4e1-c48ba814cbf2"
      },
      "execution_count": 254,
      "outputs": [
        {
          "output_type": "stream",
          "name": "stdout",
          "text": [
            "(339, 4)\n"
          ]
        }
      ]
    },
    {
      "cell_type": "code",
      "source": [
        "df_station['name'] = df_station['name'].replace('Shin-urayasu station', '新浦安駅')\n",
        "df_station['station'] = df_station['name'].str.replace('・ステーション', '')\\\n",
        "                        .str.replace('JR ', '').str.replace('JR', '')\\\n",
        "                        .str.replace('\\(スカイツリー前\\)', '', regex=True).str.replace('駅$', '', regex=True)\n",
        "df_station = df_station.rename(columns={'name':'駅名'})"
      ],
      "metadata": {
        "id": "Vp5kPcMcQFnp"
      },
      "execution_count": 255,
      "outputs": []
    },
    {
      "cell_type": "markdown",
      "source": [
        "### 主要駅"
      ],
      "metadata": {
        "id": "m5k_x69GVLss"
      }
    },
    {
      "cell_type": "code",
      "source": [
        "station_list = ['東京駅', '上野駅', '池袋駅', '新宿駅', '渋谷駅', '品川駅']\n",
        "lat_lng = {}\n",
        "\n",
        "for station in station_list:\n",
        "    row = df_station[df_station['name'] == station].iloc[0]\n",
        "    lat_lng[station] = f\"{row['lat']:.6f},{row['lng']:.6f}\""
      ],
      "metadata": {
        "id": "H7RsYPzT-LMW"
      },
      "execution_count": 187,
      "outputs": []
    },
    {
      "cell_type": "code",
      "source": [
        "print(lat_lng)"
      ],
      "metadata": {
        "colab": {
          "base_uri": "https://localhost:8080/"
        },
        "id": "nTyI4u1CEw9X",
        "outputId": "27743742-7475-484b-d795-9a6067395d92"
      },
      "execution_count": 188,
      "outputs": [
        {
          "output_type": "stream",
          "name": "stdout",
          "text": [
            "{'東京駅': '35.681236,139.767125', '上野駅': '35.714167,139.777409', '池袋駅': '35.729503,139.710900', '新宿駅': '35.689607,139.700571', '渋谷駅': '35.658034,139.701636', '品川駅': '35.628471,139.738760'}\n"
          ]
        }
      ]
    },
    {
      "cell_type": "markdown",
      "source": [
        "### NAVITIME Reachable API\n",
        "- [Rapid API](https://rapidapi.com/navitimejapan-navitimejapan/api/navitime-reachable)\n",
        "- [NAVITIME API](https://api-sdk.navitime.co.jp/api/rakutenrapid/#wrap-regd)"
      ],
      "metadata": {
        "id": "OcR0m58xVN5Y"
      }
    },
    {
      "cell_type": "code",
      "source": [
        "YOUR_API_KEY = 'xxxxx'"
      ],
      "metadata": {
        "id": "Wqagd06EBcJu"
      },
      "execution_count": 77,
      "outputs": []
    },
    {
      "cell_type": "code",
      "source": [
        "def get_reachable_transit(station, lat_lng, minute):\n",
        "    url = \"https://navitime-reachable.p.rapidapi.com/reachable_transit\"\n",
        "    headers = {\n",
        "        \"X-RapidAPI-Key\": f\"{YOUR_API_KEY}\",\n",
        "        \"X-RapidAPI-Host\": \"navitime-reachable.p.rapidapi.com\"\n",
        "    }\n",
        "    querystring = {\n",
        "        \"term\":f\"{minute}\",\n",
        "        \"start\":lat_lng,\n",
        "        \"offset\":\"0\",\n",
        "        \"coord_unit\":\"degree\",\n",
        "        \"term_from\":\"0\",\n",
        "        \"transit_limit\":\"10\",\n",
        "        \"datum\":\"wgs84\",\n",
        "        \"walk_speed\":\"5\",\n",
        "        \"limit\":\"2000\"\n",
        "    }\n",
        "    response = requests.request(\"GET\", url, headers=headers, params=querystring)\n",
        "    if response.status_code == requests.codes.ok:\n",
        "        res_json = response.json()\n",
        "        df_res = pd.DataFrame(res_json['items'])\n",
        "        df_res['start'] = station\n",
        "        return df_res\n",
        "    else:\n",
        "        print(response)\n",
        "        return pd.DataFrame()"
      ],
      "metadata": {
        "id": "sUpnsm2fyF1o"
      },
      "execution_count": 86,
      "outputs": []
    },
    {
      "cell_type": "code",
      "source": [
        "df_result = pd.DataFrame()\n",
        "minute = 90\n",
        "for station in station_list:\n",
        "    _tmp = get_reachable_transit(station, lat_lng[station], minute)\n",
        "    df_result = pd.concat([df_result, _tmp])\n",
        "    time.sleep(5)\n",
        "\n",
        "df_result = df_result.reset_index(drop=True)\n",
        "print(df_result.shape)"
      ],
      "metadata": {
        "colab": {
          "base_uri": "https://localhost:8080/"
        },
        "id": "p5yUuJyIEl90",
        "outputId": "2ec0cfa7-13f3-4be5-8189-a41f25a419fc"
      },
      "execution_count": 87,
      "outputs": [
        {
          "output_type": "stream",
          "name": "stdout",
          "text": [
            "(14229, 7)\n"
          ]
        }
      ]
    },
    {
      "cell_type": "code",
      "source": [
        "df_result.head()"
      ],
      "metadata": {
        "colab": {
          "base_uri": "https://localhost:8080/",
          "height": 206
        },
        "id": "opqBxwGVFYkb",
        "outputId": "8661c998-dee6-4611-8a82-d412a84a2ba7"
      },
      "execution_count": 270,
      "outputs": [
        {
          "output_type": "execute_result",
          "data": {
            "text/plain": [
              "   time                                  coord      name   node_id  \\\n",
              "0     4    {'lat': 35.68081, 'lon': 139.76779}        東京  00006668   \n",
              "1     8   {'lat': 35.68675, 'lon': 139.764863}  大手町（東京都）  00005630   \n",
              "2     8  {'lat': 35.691982, 'lon': 139.771014}   神田（東京都）  00004464   \n",
              "3     8  {'lat': 35.674854, 'lon': 139.762797}       有楽町  00008837   \n",
              "4     9  {'lat': 35.676823, 'lon': 139.770099}   京橋（東京都）  00001725   \n",
              "\n",
              "   transit_count start  minute  \n",
              "0              0   東京駅      30  \n",
              "1              0   東京駅      30  \n",
              "2              0   東京駅      30  \n",
              "3              0   東京駅      30  \n",
              "4              0   東京駅      30  "
            ],
            "text/html": [
              "\n",
              "  <div id=\"df-ebe16fce-9fca-4f82-b399-2f9cd721e708\">\n",
              "    <div class=\"colab-df-container\">\n",
              "      <div>\n",
              "<style scoped>\n",
              "    .dataframe tbody tr th:only-of-type {\n",
              "        vertical-align: middle;\n",
              "    }\n",
              "\n",
              "    .dataframe tbody tr th {\n",
              "        vertical-align: top;\n",
              "    }\n",
              "\n",
              "    .dataframe thead th {\n",
              "        text-align: right;\n",
              "    }\n",
              "</style>\n",
              "<table border=\"1\" class=\"dataframe\">\n",
              "  <thead>\n",
              "    <tr style=\"text-align: right;\">\n",
              "      <th></th>\n",
              "      <th>time</th>\n",
              "      <th>coord</th>\n",
              "      <th>name</th>\n",
              "      <th>node_id</th>\n",
              "      <th>transit_count</th>\n",
              "      <th>start</th>\n",
              "      <th>minute</th>\n",
              "    </tr>\n",
              "  </thead>\n",
              "  <tbody>\n",
              "    <tr>\n",
              "      <th>0</th>\n",
              "      <td>4</td>\n",
              "      <td>{'lat': 35.68081, 'lon': 139.76779}</td>\n",
              "      <td>東京</td>\n",
              "      <td>00006668</td>\n",
              "      <td>0</td>\n",
              "      <td>東京駅</td>\n",
              "      <td>30</td>\n",
              "    </tr>\n",
              "    <tr>\n",
              "      <th>1</th>\n",
              "      <td>8</td>\n",
              "      <td>{'lat': 35.68675, 'lon': 139.764863}</td>\n",
              "      <td>大手町（東京都）</td>\n",
              "      <td>00005630</td>\n",
              "      <td>0</td>\n",
              "      <td>東京駅</td>\n",
              "      <td>30</td>\n",
              "    </tr>\n",
              "    <tr>\n",
              "      <th>2</th>\n",
              "      <td>8</td>\n",
              "      <td>{'lat': 35.691982, 'lon': 139.771014}</td>\n",
              "      <td>神田（東京都）</td>\n",
              "      <td>00004464</td>\n",
              "      <td>0</td>\n",
              "      <td>東京駅</td>\n",
              "      <td>30</td>\n",
              "    </tr>\n",
              "    <tr>\n",
              "      <th>3</th>\n",
              "      <td>8</td>\n",
              "      <td>{'lat': 35.674854, 'lon': 139.762797}</td>\n",
              "      <td>有楽町</td>\n",
              "      <td>00008837</td>\n",
              "      <td>0</td>\n",
              "      <td>東京駅</td>\n",
              "      <td>30</td>\n",
              "    </tr>\n",
              "    <tr>\n",
              "      <th>4</th>\n",
              "      <td>9</td>\n",
              "      <td>{'lat': 35.676823, 'lon': 139.770099}</td>\n",
              "      <td>京橋（東京都）</td>\n",
              "      <td>00001725</td>\n",
              "      <td>0</td>\n",
              "      <td>東京駅</td>\n",
              "      <td>30</td>\n",
              "    </tr>\n",
              "  </tbody>\n",
              "</table>\n",
              "</div>\n",
              "      <button class=\"colab-df-convert\" onclick=\"convertToInteractive('df-ebe16fce-9fca-4f82-b399-2f9cd721e708')\"\n",
              "              title=\"Convert this dataframe to an interactive table.\"\n",
              "              style=\"display:none;\">\n",
              "        \n",
              "  <svg xmlns=\"http://www.w3.org/2000/svg\" height=\"24px\"viewBox=\"0 0 24 24\"\n",
              "       width=\"24px\">\n",
              "    <path d=\"M0 0h24v24H0V0z\" fill=\"none\"/>\n",
              "    <path d=\"M18.56 5.44l.94 2.06.94-2.06 2.06-.94-2.06-.94-.94-2.06-.94 2.06-2.06.94zm-11 1L8.5 8.5l.94-2.06 2.06-.94-2.06-.94L8.5 2.5l-.94 2.06-2.06.94zm10 10l.94 2.06.94-2.06 2.06-.94-2.06-.94-.94-2.06-.94 2.06-2.06.94z\"/><path d=\"M17.41 7.96l-1.37-1.37c-.4-.4-.92-.59-1.43-.59-.52 0-1.04.2-1.43.59L10.3 9.45l-7.72 7.72c-.78.78-.78 2.05 0 2.83L4 21.41c.39.39.9.59 1.41.59.51 0 1.02-.2 1.41-.59l7.78-7.78 2.81-2.81c.8-.78.8-2.07 0-2.86zM5.41 20L4 18.59l7.72-7.72 1.47 1.35L5.41 20z\"/>\n",
              "  </svg>\n",
              "      </button>\n",
              "      \n",
              "  <style>\n",
              "    .colab-df-container {\n",
              "      display:flex;\n",
              "      flex-wrap:wrap;\n",
              "      gap: 12px;\n",
              "    }\n",
              "\n",
              "    .colab-df-convert {\n",
              "      background-color: #E8F0FE;\n",
              "      border: none;\n",
              "      border-radius: 50%;\n",
              "      cursor: pointer;\n",
              "      display: none;\n",
              "      fill: #1967D2;\n",
              "      height: 32px;\n",
              "      padding: 0 0 0 0;\n",
              "      width: 32px;\n",
              "    }\n",
              "\n",
              "    .colab-df-convert:hover {\n",
              "      background-color: #E2EBFA;\n",
              "      box-shadow: 0px 1px 2px rgba(60, 64, 67, 0.3), 0px 1px 3px 1px rgba(60, 64, 67, 0.15);\n",
              "      fill: #174EA6;\n",
              "    }\n",
              "\n",
              "    [theme=dark] .colab-df-convert {\n",
              "      background-color: #3B4455;\n",
              "      fill: #D2E3FC;\n",
              "    }\n",
              "\n",
              "    [theme=dark] .colab-df-convert:hover {\n",
              "      background-color: #434B5C;\n",
              "      box-shadow: 0px 1px 3px 1px rgba(0, 0, 0, 0.15);\n",
              "      filter: drop-shadow(0px 1px 2px rgba(0, 0, 0, 0.3));\n",
              "      fill: #FFFFFF;\n",
              "    }\n",
              "  </style>\n",
              "\n",
              "      <script>\n",
              "        const buttonEl =\n",
              "          document.querySelector('#df-ebe16fce-9fca-4f82-b399-2f9cd721e708 button.colab-df-convert');\n",
              "        buttonEl.style.display =\n",
              "          google.colab.kernel.accessAllowed ? 'block' : 'none';\n",
              "\n",
              "        async function convertToInteractive(key) {\n",
              "          const element = document.querySelector('#df-ebe16fce-9fca-4f82-b399-2f9cd721e708');\n",
              "          const dataTable =\n",
              "            await google.colab.kernel.invokeFunction('convertToInteractive',\n",
              "                                                     [key], {});\n",
              "          if (!dataTable) return;\n",
              "\n",
              "          const docLinkHtml = 'Like what you see? Visit the ' +\n",
              "            '<a target=\"_blank\" href=https://colab.research.google.com/notebooks/data_table.ipynb>data table notebook</a>'\n",
              "            + ' to learn more about interactive tables.';\n",
              "          element.innerHTML = '';\n",
              "          dataTable['output_type'] = 'display_data';\n",
              "          await google.colab.output.renderOutput(dataTable, element);\n",
              "          const docLink = document.createElement('div');\n",
              "          docLink.innerHTML = docLinkHtml;\n",
              "          element.appendChild(docLink);\n",
              "        }\n",
              "      </script>\n",
              "    </div>\n",
              "  </div>\n",
              "  "
            ]
          },
          "metadata": {},
          "execution_count": 270
        }
      ]
    },
    {
      "cell_type": "code",
      "source": [
        "df_time_sort = df_result.sort_values('time').reset_index(drop=True)\n",
        "df_extract = df_time_sort.drop_duplicates(subset=['start', 'node_id']).reset_index(drop=True)\n",
        "print(len(df_extract))"
      ],
      "metadata": {
        "colab": {
          "base_uri": "https://localhost:8080/"
        },
        "id": "1Y3uyUd6FOwS",
        "outputId": "5c463263-dfb9-4ac5-aeb8-6385d5b52979"
      },
      "execution_count": 227,
      "outputs": [
        {
          "output_type": "stream",
          "name": "stdout",
          "text": [
            "7894\n"
          ]
        }
      ]
    },
    {
      "cell_type": "code",
      "source": [
        "df_extract['station'] = df_extract['name'].str.extract('(.*?)（', expand=False)\n",
        "df_extract['name_2'] = df_extract['name'].str.extract('(.*?)〔', expand=False)\n",
        "df_extract['name_3'] = df_extract['name'].str.extract('(.*?)\\[', expand=False)\n",
        "df_extract.loc[df_extract['station'].isna(), 'station'] = df_extract['name_2']\n",
        "df_extract.loc[df_extract['station'].isna(), 'station'] = df_extract['name_3']\n",
        "df_extract.loc[df_extract['station'].isna(), 'station'] = df_extract['name']\n",
        "df_extract = df_extract.drop(columns=['name_2', 'name_3'])\n",
        "df_extract = df_extract.drop_duplicates(subset=['start', 'station']).reset_index(drop=True)\n",
        "print(len(df_extract))"
      ],
      "metadata": {
        "colab": {
          "base_uri": "https://localhost:8080/"
        },
        "id": "qshA4JGSLqVw",
        "outputId": "edc6e368-e334-404d-9e31-5abbf5b6a4bf"
      },
      "execution_count": 228,
      "outputs": [
        {
          "output_type": "stream",
          "name": "stdout",
          "text": [
            "7777\n"
          ]
        }
      ]
    },
    {
      "cell_type": "code",
      "source": [
        "df_extract['station'] = df_extract['station'].str.replace('霞ヶ関', '霞ケ関').str.replace('市ヶ谷', '市ケ谷')\\\n",
        "                        .str.replace('千駄ヶ谷', '千駄ケ谷').str.replace('鐘ヶ淵', '鐘ケ淵').str.replace('３', '3')"
      ],
      "metadata": {
        "id": "J-aLMA2bX5QV"
      },
      "execution_count": 233,
      "outputs": []
    },
    {
      "cell_type": "markdown",
      "source": [
        "### 結合"
      ],
      "metadata": {
        "id": "fkeeRpRTV3OH"
      }
    },
    {
      "cell_type": "code",
      "source": [
        "df_merge = pd.merge(\n",
        "    df_station[['駅名', 'place_id', 'station']], \n",
        "    df_extract[['station', 'start', 'time']], \n",
        "    on='station', how='left'\n",
        ")\n",
        "print(df_merge.shape)"
      ],
      "metadata": {
        "colab": {
          "base_uri": "https://localhost:8080/"
        },
        "id": "eW2LUVfTPaXP",
        "outputId": "21cd55c2-e6e1-48f6-b204-e178471a72d7"
      },
      "execution_count": 264,
      "outputs": [
        {
          "output_type": "stream",
          "name": "stdout",
          "text": [
            "(2024, 6)\n"
          ]
        }
      ]
    },
    {
      "cell_type": "code",
      "source": [
        "df_merge[df_merge['start'].isna()]"
      ],
      "metadata": {
        "colab": {
          "base_uri": "https://localhost:8080/",
          "height": 112
        },
        "id": "LuJMQfpiWGYP",
        "outputId": "3576e5b8-a114-4f9d-ebbd-f185120348ca"
      },
      "execution_count": 265,
      "outputs": [
        {
          "output_type": "execute_result",
          "data": {
            "text/plain": [
              "               駅名                     place_id      station start  time  \\\n",
              "1086          笹塚駅  ChIJcYI7YhfzGGARVFWzNC9eONU           笹塚   NaN   NaN   \n",
              "1171  小田急クローゼット成城  ChIJiz-74WDxGGARLl4H02KGT-A  小田急クローゼット成城   NaN   NaN   \n",
              "\n",
              "      minute  \n",
              "1086     NaN  \n",
              "1171     NaN  "
            ],
            "text/html": [
              "\n",
              "  <div id=\"df-7fa2ef4a-97f1-4e9e-81ef-147080be49d5\">\n",
              "    <div class=\"colab-df-container\">\n",
              "      <div>\n",
              "<style scoped>\n",
              "    .dataframe tbody tr th:only-of-type {\n",
              "        vertical-align: middle;\n",
              "    }\n",
              "\n",
              "    .dataframe tbody tr th {\n",
              "        vertical-align: top;\n",
              "    }\n",
              "\n",
              "    .dataframe thead th {\n",
              "        text-align: right;\n",
              "    }\n",
              "</style>\n",
              "<table border=\"1\" class=\"dataframe\">\n",
              "  <thead>\n",
              "    <tr style=\"text-align: right;\">\n",
              "      <th></th>\n",
              "      <th>駅名</th>\n",
              "      <th>place_id</th>\n",
              "      <th>station</th>\n",
              "      <th>start</th>\n",
              "      <th>time</th>\n",
              "      <th>minute</th>\n",
              "    </tr>\n",
              "  </thead>\n",
              "  <tbody>\n",
              "    <tr>\n",
              "      <th>1086</th>\n",
              "      <td>笹塚駅</td>\n",
              "      <td>ChIJcYI7YhfzGGARVFWzNC9eONU</td>\n",
              "      <td>笹塚</td>\n",
              "      <td>NaN</td>\n",
              "      <td>NaN</td>\n",
              "      <td>NaN</td>\n",
              "    </tr>\n",
              "    <tr>\n",
              "      <th>1171</th>\n",
              "      <td>小田急クローゼット成城</td>\n",
              "      <td>ChIJiz-74WDxGGARLl4H02KGT-A</td>\n",
              "      <td>小田急クローゼット成城</td>\n",
              "      <td>NaN</td>\n",
              "      <td>NaN</td>\n",
              "      <td>NaN</td>\n",
              "    </tr>\n",
              "  </tbody>\n",
              "</table>\n",
              "</div>\n",
              "      <button class=\"colab-df-convert\" onclick=\"convertToInteractive('df-7fa2ef4a-97f1-4e9e-81ef-147080be49d5')\"\n",
              "              title=\"Convert this dataframe to an interactive table.\"\n",
              "              style=\"display:none;\">\n",
              "        \n",
              "  <svg xmlns=\"http://www.w3.org/2000/svg\" height=\"24px\"viewBox=\"0 0 24 24\"\n",
              "       width=\"24px\">\n",
              "    <path d=\"M0 0h24v24H0V0z\" fill=\"none\"/>\n",
              "    <path d=\"M18.56 5.44l.94 2.06.94-2.06 2.06-.94-2.06-.94-.94-2.06-.94 2.06-2.06.94zm-11 1L8.5 8.5l.94-2.06 2.06-.94-2.06-.94L8.5 2.5l-.94 2.06-2.06.94zm10 10l.94 2.06.94-2.06 2.06-.94-2.06-.94-.94-2.06-.94 2.06-2.06.94z\"/><path d=\"M17.41 7.96l-1.37-1.37c-.4-.4-.92-.59-1.43-.59-.52 0-1.04.2-1.43.59L10.3 9.45l-7.72 7.72c-.78.78-.78 2.05 0 2.83L4 21.41c.39.39.9.59 1.41.59.51 0 1.02-.2 1.41-.59l7.78-7.78 2.81-2.81c.8-.78.8-2.07 0-2.86zM5.41 20L4 18.59l7.72-7.72 1.47 1.35L5.41 20z\"/>\n",
              "  </svg>\n",
              "      </button>\n",
              "      \n",
              "  <style>\n",
              "    .colab-df-container {\n",
              "      display:flex;\n",
              "      flex-wrap:wrap;\n",
              "      gap: 12px;\n",
              "    }\n",
              "\n",
              "    .colab-df-convert {\n",
              "      background-color: #E8F0FE;\n",
              "      border: none;\n",
              "      border-radius: 50%;\n",
              "      cursor: pointer;\n",
              "      display: none;\n",
              "      fill: #1967D2;\n",
              "      height: 32px;\n",
              "      padding: 0 0 0 0;\n",
              "      width: 32px;\n",
              "    }\n",
              "\n",
              "    .colab-df-convert:hover {\n",
              "      background-color: #E2EBFA;\n",
              "      box-shadow: 0px 1px 2px rgba(60, 64, 67, 0.3), 0px 1px 3px 1px rgba(60, 64, 67, 0.15);\n",
              "      fill: #174EA6;\n",
              "    }\n",
              "\n",
              "    [theme=dark] .colab-df-convert {\n",
              "      background-color: #3B4455;\n",
              "      fill: #D2E3FC;\n",
              "    }\n",
              "\n",
              "    [theme=dark] .colab-df-convert:hover {\n",
              "      background-color: #434B5C;\n",
              "      box-shadow: 0px 1px 3px 1px rgba(0, 0, 0, 0.15);\n",
              "      filter: drop-shadow(0px 1px 2px rgba(0, 0, 0, 0.3));\n",
              "      fill: #FFFFFF;\n",
              "    }\n",
              "  </style>\n",
              "\n",
              "      <script>\n",
              "        const buttonEl =\n",
              "          document.querySelector('#df-7fa2ef4a-97f1-4e9e-81ef-147080be49d5 button.colab-df-convert');\n",
              "        buttonEl.style.display =\n",
              "          google.colab.kernel.accessAllowed ? 'block' : 'none';\n",
              "\n",
              "        async function convertToInteractive(key) {\n",
              "          const element = document.querySelector('#df-7fa2ef4a-97f1-4e9e-81ef-147080be49d5');\n",
              "          const dataTable =\n",
              "            await google.colab.kernel.invokeFunction('convertToInteractive',\n",
              "                                                     [key], {});\n",
              "          if (!dataTable) return;\n",
              "\n",
              "          const docLinkHtml = 'Like what you see? Visit the ' +\n",
              "            '<a target=\"_blank\" href=https://colab.research.google.com/notebooks/data_table.ipynb>data table notebook</a>'\n",
              "            + ' to learn more about interactive tables.';\n",
              "          element.innerHTML = '';\n",
              "          dataTable['output_type'] = 'display_data';\n",
              "          await google.colab.output.renderOutput(dataTable, element);\n",
              "          const docLink = document.createElement('div');\n",
              "          docLink.innerHTML = docLinkHtml;\n",
              "          element.appendChild(docLink);\n",
              "        }\n",
              "      </script>\n",
              "    </div>\n",
              "  </div>\n",
              "  "
            ]
          },
          "metadata": {},
          "execution_count": 265
        }
      ]
    },
    {
      "cell_type": "code",
      "source": [
        "df_output = pd.pivot_table(\n",
        "    df_merge.drop(columns=['station']), \n",
        "    index=['駅名', 'place_id'], columns='start', values='time'\n",
        ").reset_index()\n",
        "print(df_output.shape)"
      ],
      "metadata": {
        "colab": {
          "base_uri": "https://localhost:8080/"
        },
        "id": "-3dmuoHaUGvs",
        "outputId": "b5a39a4a-d7c3-4d16-819c-803f505ffd81"
      },
      "execution_count": 275,
      "outputs": [
        {
          "output_type": "stream",
          "name": "stdout",
          "text": [
            "(337, 8)\n"
          ]
        }
      ]
    },
    {
      "cell_type": "code",
      "source": [
        "df_output.head()"
      ],
      "metadata": {
        "colab": {
          "base_uri": "https://localhost:8080/",
          "height": 206
        },
        "id": "7ILqc9AsfYiw",
        "outputId": "28b7c5c4-db28-4ee1-de08-a51983404f2a"
      },
      "execution_count": 279,
      "outputs": [
        {
          "output_type": "execute_result",
          "data": {
            "text/plain": [
              "start            駅名                     place_id   上野駅   品川駅   新宿駅   東京駅  \\\n",
              "0           JR 秋葉原駅  ChIJl_zMVh2MGGAR3XixTB2CgJ4   9.0  19.0  22.0  10.0   \n",
              "1             JR大崎駅  ChIJ-TG-NhWLGGAR6OcN44dimrg  29.0   8.0  21.0  21.0   \n",
              "2          お台場海浜公園駅  ChIJDQUtOvGJGGARuul34HWvMQ8  39.0  34.0  48.0  31.0   \n",
              "3             お花茶屋駅  ChIJ6a9LTHGPGGARl4SEYCeMiVE  28.0  44.0  42.0  36.0   \n",
              "4      とうきょうスカイツリー駅  ChIJ6ZlMKdeOGGARD4-LlV0avwY  21.0  41.0  42.0  32.0   \n",
              "\n",
              "start   池袋駅   渋谷駅  \n",
              "0      23.0  29.0  \n",
              "1      28.0  12.0  \n",
              "2      52.0  42.0  \n",
              "3      33.0  47.0  \n",
              "4      42.0  46.0  "
            ],
            "text/html": [
              "\n",
              "  <div id=\"df-d3ca64fb-4145-49da-9a7c-718eaea434e0\">\n",
              "    <div class=\"colab-df-container\">\n",
              "      <div>\n",
              "<style scoped>\n",
              "    .dataframe tbody tr th:only-of-type {\n",
              "        vertical-align: middle;\n",
              "    }\n",
              "\n",
              "    .dataframe tbody tr th {\n",
              "        vertical-align: top;\n",
              "    }\n",
              "\n",
              "    .dataframe thead th {\n",
              "        text-align: right;\n",
              "    }\n",
              "</style>\n",
              "<table border=\"1\" class=\"dataframe\">\n",
              "  <thead>\n",
              "    <tr style=\"text-align: right;\">\n",
              "      <th>start</th>\n",
              "      <th>駅名</th>\n",
              "      <th>place_id</th>\n",
              "      <th>上野駅</th>\n",
              "      <th>品川駅</th>\n",
              "      <th>新宿駅</th>\n",
              "      <th>東京駅</th>\n",
              "      <th>池袋駅</th>\n",
              "      <th>渋谷駅</th>\n",
              "    </tr>\n",
              "  </thead>\n",
              "  <tbody>\n",
              "    <tr>\n",
              "      <th>0</th>\n",
              "      <td>JR 秋葉原駅</td>\n",
              "      <td>ChIJl_zMVh2MGGAR3XixTB2CgJ4</td>\n",
              "      <td>9.0</td>\n",
              "      <td>19.0</td>\n",
              "      <td>22.0</td>\n",
              "      <td>10.0</td>\n",
              "      <td>23.0</td>\n",
              "      <td>29.0</td>\n",
              "    </tr>\n",
              "    <tr>\n",
              "      <th>1</th>\n",
              "      <td>JR大崎駅</td>\n",
              "      <td>ChIJ-TG-NhWLGGAR6OcN44dimrg</td>\n",
              "      <td>29.0</td>\n",
              "      <td>8.0</td>\n",
              "      <td>21.0</td>\n",
              "      <td>21.0</td>\n",
              "      <td>28.0</td>\n",
              "      <td>12.0</td>\n",
              "    </tr>\n",
              "    <tr>\n",
              "      <th>2</th>\n",
              "      <td>お台場海浜公園駅</td>\n",
              "      <td>ChIJDQUtOvGJGGARuul34HWvMQ8</td>\n",
              "      <td>39.0</td>\n",
              "      <td>34.0</td>\n",
              "      <td>48.0</td>\n",
              "      <td>31.0</td>\n",
              "      <td>52.0</td>\n",
              "      <td>42.0</td>\n",
              "    </tr>\n",
              "    <tr>\n",
              "      <th>3</th>\n",
              "      <td>お花茶屋駅</td>\n",
              "      <td>ChIJ6a9LTHGPGGARl4SEYCeMiVE</td>\n",
              "      <td>28.0</td>\n",
              "      <td>44.0</td>\n",
              "      <td>42.0</td>\n",
              "      <td>36.0</td>\n",
              "      <td>33.0</td>\n",
              "      <td>47.0</td>\n",
              "    </tr>\n",
              "    <tr>\n",
              "      <th>4</th>\n",
              "      <td>とうきょうスカイツリー駅</td>\n",
              "      <td>ChIJ6ZlMKdeOGGARD4-LlV0avwY</td>\n",
              "      <td>21.0</td>\n",
              "      <td>41.0</td>\n",
              "      <td>42.0</td>\n",
              "      <td>32.0</td>\n",
              "      <td>42.0</td>\n",
              "      <td>46.0</td>\n",
              "    </tr>\n",
              "  </tbody>\n",
              "</table>\n",
              "</div>\n",
              "      <button class=\"colab-df-convert\" onclick=\"convertToInteractive('df-d3ca64fb-4145-49da-9a7c-718eaea434e0')\"\n",
              "              title=\"Convert this dataframe to an interactive table.\"\n",
              "              style=\"display:none;\">\n",
              "        \n",
              "  <svg xmlns=\"http://www.w3.org/2000/svg\" height=\"24px\"viewBox=\"0 0 24 24\"\n",
              "       width=\"24px\">\n",
              "    <path d=\"M0 0h24v24H0V0z\" fill=\"none\"/>\n",
              "    <path d=\"M18.56 5.44l.94 2.06.94-2.06 2.06-.94-2.06-.94-.94-2.06-.94 2.06-2.06.94zm-11 1L8.5 8.5l.94-2.06 2.06-.94-2.06-.94L8.5 2.5l-.94 2.06-2.06.94zm10 10l.94 2.06.94-2.06 2.06-.94-2.06-.94-.94-2.06-.94 2.06-2.06.94z\"/><path d=\"M17.41 7.96l-1.37-1.37c-.4-.4-.92-.59-1.43-.59-.52 0-1.04.2-1.43.59L10.3 9.45l-7.72 7.72c-.78.78-.78 2.05 0 2.83L4 21.41c.39.39.9.59 1.41.59.51 0 1.02-.2 1.41-.59l7.78-7.78 2.81-2.81c.8-.78.8-2.07 0-2.86zM5.41 20L4 18.59l7.72-7.72 1.47 1.35L5.41 20z\"/>\n",
              "  </svg>\n",
              "      </button>\n",
              "      \n",
              "  <style>\n",
              "    .colab-df-container {\n",
              "      display:flex;\n",
              "      flex-wrap:wrap;\n",
              "      gap: 12px;\n",
              "    }\n",
              "\n",
              "    .colab-df-convert {\n",
              "      background-color: #E8F0FE;\n",
              "      border: none;\n",
              "      border-radius: 50%;\n",
              "      cursor: pointer;\n",
              "      display: none;\n",
              "      fill: #1967D2;\n",
              "      height: 32px;\n",
              "      padding: 0 0 0 0;\n",
              "      width: 32px;\n",
              "    }\n",
              "\n",
              "    .colab-df-convert:hover {\n",
              "      background-color: #E2EBFA;\n",
              "      box-shadow: 0px 1px 2px rgba(60, 64, 67, 0.3), 0px 1px 3px 1px rgba(60, 64, 67, 0.15);\n",
              "      fill: #174EA6;\n",
              "    }\n",
              "\n",
              "    [theme=dark] .colab-df-convert {\n",
              "      background-color: #3B4455;\n",
              "      fill: #D2E3FC;\n",
              "    }\n",
              "\n",
              "    [theme=dark] .colab-df-convert:hover {\n",
              "      background-color: #434B5C;\n",
              "      box-shadow: 0px 1px 3px 1px rgba(0, 0, 0, 0.15);\n",
              "      filter: drop-shadow(0px 1px 2px rgba(0, 0, 0, 0.3));\n",
              "      fill: #FFFFFF;\n",
              "    }\n",
              "  </style>\n",
              "\n",
              "      <script>\n",
              "        const buttonEl =\n",
              "          document.querySelector('#df-d3ca64fb-4145-49da-9a7c-718eaea434e0 button.colab-df-convert');\n",
              "        buttonEl.style.display =\n",
              "          google.colab.kernel.accessAllowed ? 'block' : 'none';\n",
              "\n",
              "        async function convertToInteractive(key) {\n",
              "          const element = document.querySelector('#df-d3ca64fb-4145-49da-9a7c-718eaea434e0');\n",
              "          const dataTable =\n",
              "            await google.colab.kernel.invokeFunction('convertToInteractive',\n",
              "                                                     [key], {});\n",
              "          if (!dataTable) return;\n",
              "\n",
              "          const docLinkHtml = 'Like what you see? Visit the ' +\n",
              "            '<a target=\"_blank\" href=https://colab.research.google.com/notebooks/data_table.ipynb>data table notebook</a>'\n",
              "            + ' to learn more about interactive tables.';\n",
              "          element.innerHTML = '';\n",
              "          dataTable['output_type'] = 'display_data';\n",
              "          await google.colab.output.renderOutput(dataTable, element);\n",
              "          const docLink = document.createElement('div');\n",
              "          docLink.innerHTML = docLinkHtml;\n",
              "          element.appendChild(docLink);\n",
              "        }\n",
              "      </script>\n",
              "    </div>\n",
              "  </div>\n",
              "  "
            ]
          },
          "metadata": {},
          "execution_count": 279
        }
      ]
    },
    {
      "cell_type": "code",
      "source": [
        "df_station_org = pd.read_csv(os.path.join(DIR_NAME, 'train_station.csv'))\n",
        "print(df_station_org.shape)"
      ],
      "metadata": {
        "colab": {
          "base_uri": "https://localhost:8080/"
        },
        "id": "aduv-ldyabe0",
        "outputId": "a873a6a4-b540-4a7e-fa8f-be09cc9cb749"
      },
      "execution_count": 272,
      "outputs": [
        {
          "output_type": "stream",
          "name": "stdout",
          "text": [
            "(3141, 8)\n"
          ]
        }
      ]
    },
    {
      "cell_type": "code",
      "source": [
        "df_station_min = pd.merge(\n",
        "    df_station_org.drop(columns=['rating', 'types', 'vicinity']),\n",
        "    df_output.drop(columns=['駅名']),\n",
        "    on='place_id', how='left'\n",
        ")\n",
        "print(df_station_min.shape)"
      ],
      "metadata": {
        "colab": {
          "base_uri": "https://localhost:8080/"
        },
        "id": "MrKe4YfVevjo",
        "outputId": "811bbcd0-da4d-4f15-81dc-f5d2add5054a"
      },
      "execution_count": 280,
      "outputs": [
        {
          "output_type": "stream",
          "name": "stdout",
          "text": [
            "(3141, 11)\n"
          ]
        }
      ]
    },
    {
      "cell_type": "code",
      "source": [
        "df_station_min.head()"
      ],
      "metadata": {
        "colab": {
          "base_uri": "https://localhost:8080/",
          "height": 206
        },
        "id": "r650orJifGy9",
        "outputId": "b782ebf7-d195-4a9b-e0cf-a2d36c8bb5a0"
      },
      "execution_count": 282,
      "outputs": [
        {
          "output_type": "execute_result",
          "data": {
            "text/plain": [
              "   name        lat         lng                     place_id      no   上野駅  \\\n",
              "0   東京駅  35.681236  139.767125  ChIJC3Cf2PuLGGAROO00ukl8JwA  101003  13.0   \n",
              "1   東京駅  35.681236  139.767125  ChIJC3Cf2PuLGGAROO00ukl8JwA  101004  13.0   \n",
              "2  有楽町駅  35.675013  139.763020  ChIJ1UxPReWLGGARagE2MSfXh7g  101005  16.0   \n",
              "3  大手町駅  35.685349  139.763278  ChIJnUcMGviLGGAROCgXeJNX4xg  101007  21.0   \n",
              "4  大手町駅  35.685349  139.763278  ChIJnUcMGviLGGAROCgXeJNX4xg  101008  21.0   \n",
              "\n",
              "    品川駅   新宿駅  東京駅   池袋駅   渋谷駅  \n",
              "0  15.0  20.0  4.0  21.0  25.0  \n",
              "1  15.0  20.0  4.0  21.0  25.0  \n",
              "2  15.0  27.0  8.0  26.0  25.0  \n",
              "3  23.0  25.0  8.0  20.0  23.0  \n",
              "4  23.0  25.0  8.0  20.0  23.0  "
            ],
            "text/html": [
              "\n",
              "  <div id=\"df-0d49a3b7-3778-4d9f-b70c-c997d011db2b\">\n",
              "    <div class=\"colab-df-container\">\n",
              "      <div>\n",
              "<style scoped>\n",
              "    .dataframe tbody tr th:only-of-type {\n",
              "        vertical-align: middle;\n",
              "    }\n",
              "\n",
              "    .dataframe tbody tr th {\n",
              "        vertical-align: top;\n",
              "    }\n",
              "\n",
              "    .dataframe thead th {\n",
              "        text-align: right;\n",
              "    }\n",
              "</style>\n",
              "<table border=\"1\" class=\"dataframe\">\n",
              "  <thead>\n",
              "    <tr style=\"text-align: right;\">\n",
              "      <th></th>\n",
              "      <th>name</th>\n",
              "      <th>lat</th>\n",
              "      <th>lng</th>\n",
              "      <th>place_id</th>\n",
              "      <th>no</th>\n",
              "      <th>上野駅</th>\n",
              "      <th>品川駅</th>\n",
              "      <th>新宿駅</th>\n",
              "      <th>東京駅</th>\n",
              "      <th>池袋駅</th>\n",
              "      <th>渋谷駅</th>\n",
              "    </tr>\n",
              "  </thead>\n",
              "  <tbody>\n",
              "    <tr>\n",
              "      <th>0</th>\n",
              "      <td>東京駅</td>\n",
              "      <td>35.681236</td>\n",
              "      <td>139.767125</td>\n",
              "      <td>ChIJC3Cf2PuLGGAROO00ukl8JwA</td>\n",
              "      <td>101003</td>\n",
              "      <td>13.0</td>\n",
              "      <td>15.0</td>\n",
              "      <td>20.0</td>\n",
              "      <td>4.0</td>\n",
              "      <td>21.0</td>\n",
              "      <td>25.0</td>\n",
              "    </tr>\n",
              "    <tr>\n",
              "      <th>1</th>\n",
              "      <td>東京駅</td>\n",
              "      <td>35.681236</td>\n",
              "      <td>139.767125</td>\n",
              "      <td>ChIJC3Cf2PuLGGAROO00ukl8JwA</td>\n",
              "      <td>101004</td>\n",
              "      <td>13.0</td>\n",
              "      <td>15.0</td>\n",
              "      <td>20.0</td>\n",
              "      <td>4.0</td>\n",
              "      <td>21.0</td>\n",
              "      <td>25.0</td>\n",
              "    </tr>\n",
              "    <tr>\n",
              "      <th>2</th>\n",
              "      <td>有楽町駅</td>\n",
              "      <td>35.675013</td>\n",
              "      <td>139.763020</td>\n",
              "      <td>ChIJ1UxPReWLGGARagE2MSfXh7g</td>\n",
              "      <td>101005</td>\n",
              "      <td>16.0</td>\n",
              "      <td>15.0</td>\n",
              "      <td>27.0</td>\n",
              "      <td>8.0</td>\n",
              "      <td>26.0</td>\n",
              "      <td>25.0</td>\n",
              "    </tr>\n",
              "    <tr>\n",
              "      <th>3</th>\n",
              "      <td>大手町駅</td>\n",
              "      <td>35.685349</td>\n",
              "      <td>139.763278</td>\n",
              "      <td>ChIJnUcMGviLGGAROCgXeJNX4xg</td>\n",
              "      <td>101007</td>\n",
              "      <td>21.0</td>\n",
              "      <td>23.0</td>\n",
              "      <td>25.0</td>\n",
              "      <td>8.0</td>\n",
              "      <td>20.0</td>\n",
              "      <td>23.0</td>\n",
              "    </tr>\n",
              "    <tr>\n",
              "      <th>4</th>\n",
              "      <td>大手町駅</td>\n",
              "      <td>35.685349</td>\n",
              "      <td>139.763278</td>\n",
              "      <td>ChIJnUcMGviLGGAROCgXeJNX4xg</td>\n",
              "      <td>101008</td>\n",
              "      <td>21.0</td>\n",
              "      <td>23.0</td>\n",
              "      <td>25.0</td>\n",
              "      <td>8.0</td>\n",
              "      <td>20.0</td>\n",
              "      <td>23.0</td>\n",
              "    </tr>\n",
              "  </tbody>\n",
              "</table>\n",
              "</div>\n",
              "      <button class=\"colab-df-convert\" onclick=\"convertToInteractive('df-0d49a3b7-3778-4d9f-b70c-c997d011db2b')\"\n",
              "              title=\"Convert this dataframe to an interactive table.\"\n",
              "              style=\"display:none;\">\n",
              "        \n",
              "  <svg xmlns=\"http://www.w3.org/2000/svg\" height=\"24px\"viewBox=\"0 0 24 24\"\n",
              "       width=\"24px\">\n",
              "    <path d=\"M0 0h24v24H0V0z\" fill=\"none\"/>\n",
              "    <path d=\"M18.56 5.44l.94 2.06.94-2.06 2.06-.94-2.06-.94-.94-2.06-.94 2.06-2.06.94zm-11 1L8.5 8.5l.94-2.06 2.06-.94-2.06-.94L8.5 2.5l-.94 2.06-2.06.94zm10 10l.94 2.06.94-2.06 2.06-.94-2.06-.94-.94-2.06-.94 2.06-2.06.94z\"/><path d=\"M17.41 7.96l-1.37-1.37c-.4-.4-.92-.59-1.43-.59-.52 0-1.04.2-1.43.59L10.3 9.45l-7.72 7.72c-.78.78-.78 2.05 0 2.83L4 21.41c.39.39.9.59 1.41.59.51 0 1.02-.2 1.41-.59l7.78-7.78 2.81-2.81c.8-.78.8-2.07 0-2.86zM5.41 20L4 18.59l7.72-7.72 1.47 1.35L5.41 20z\"/>\n",
              "  </svg>\n",
              "      </button>\n",
              "      \n",
              "  <style>\n",
              "    .colab-df-container {\n",
              "      display:flex;\n",
              "      flex-wrap:wrap;\n",
              "      gap: 12px;\n",
              "    }\n",
              "\n",
              "    .colab-df-convert {\n",
              "      background-color: #E8F0FE;\n",
              "      border: none;\n",
              "      border-radius: 50%;\n",
              "      cursor: pointer;\n",
              "      display: none;\n",
              "      fill: #1967D2;\n",
              "      height: 32px;\n",
              "      padding: 0 0 0 0;\n",
              "      width: 32px;\n",
              "    }\n",
              "\n",
              "    .colab-df-convert:hover {\n",
              "      background-color: #E2EBFA;\n",
              "      box-shadow: 0px 1px 2px rgba(60, 64, 67, 0.3), 0px 1px 3px 1px rgba(60, 64, 67, 0.15);\n",
              "      fill: #174EA6;\n",
              "    }\n",
              "\n",
              "    [theme=dark] .colab-df-convert {\n",
              "      background-color: #3B4455;\n",
              "      fill: #D2E3FC;\n",
              "    }\n",
              "\n",
              "    [theme=dark] .colab-df-convert:hover {\n",
              "      background-color: #434B5C;\n",
              "      box-shadow: 0px 1px 3px 1px rgba(0, 0, 0, 0.15);\n",
              "      filter: drop-shadow(0px 1px 2px rgba(0, 0, 0, 0.3));\n",
              "      fill: #FFFFFF;\n",
              "    }\n",
              "  </style>\n",
              "\n",
              "      <script>\n",
              "        const buttonEl =\n",
              "          document.querySelector('#df-0d49a3b7-3778-4d9f-b70c-c997d011db2b button.colab-df-convert');\n",
              "        buttonEl.style.display =\n",
              "          google.colab.kernel.accessAllowed ? 'block' : 'none';\n",
              "\n",
              "        async function convertToInteractive(key) {\n",
              "          const element = document.querySelector('#df-0d49a3b7-3778-4d9f-b70c-c997d011db2b');\n",
              "          const dataTable =\n",
              "            await google.colab.kernel.invokeFunction('convertToInteractive',\n",
              "                                                     [key], {});\n",
              "          if (!dataTable) return;\n",
              "\n",
              "          const docLinkHtml = 'Like what you see? Visit the ' +\n",
              "            '<a target=\"_blank\" href=https://colab.research.google.com/notebooks/data_table.ipynb>data table notebook</a>'\n",
              "            + ' to learn more about interactive tables.';\n",
              "          element.innerHTML = '';\n",
              "          dataTable['output_type'] = 'display_data';\n",
              "          await google.colab.output.renderOutput(dataTable, element);\n",
              "          const docLink = document.createElement('div');\n",
              "          docLink.innerHTML = docLinkHtml;\n",
              "          element.appendChild(docLink);\n",
              "        }\n",
              "      </script>\n",
              "    </div>\n",
              "  </div>\n",
              "  "
            ]
          },
          "metadata": {},
          "execution_count": 282
        }
      ]
    },
    {
      "cell_type": "code",
      "source": [
        "df_station_min.to_csv(os.path.join(DIR_NAME, output_file), index=False)"
      ],
      "metadata": {
        "id": "Vj_gF-NJfSH4"
      },
      "execution_count": 284,
      "outputs": []
    },
    {
      "cell_type": "code",
      "source": [],
      "metadata": {
        "id": "JvJZHwI2hDtW"
      },
      "execution_count": null,
      "outputs": []
    }
  ]
}