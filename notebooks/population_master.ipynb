{
  "nbformat": 4,
  "nbformat_minor": 0,
  "metadata": {
    "colab": {
      "provenance": [],
      "authorship_tag": "ABX9TyN7wpBcHnr1tQAtjSgBs7Ox",
      "include_colab_link": true
    },
    "kernelspec": {
      "name": "python3",
      "display_name": "Python 3"
    },
    "language_info": {
      "name": "python"
    }
  },
  "cells": [
    {
      "cell_type": "markdown",
      "metadata": {
        "id": "view-in-github",
        "colab_type": "text"
      },
      "source": [
        "<a href=\"https://colab.research.google.com/github/z-gard/analysis/blob/main/notebooks/population_master.ipynb\" target=\"_parent\"><img src=\"https://colab.research.google.com/assets/colab-badge.svg\" alt=\"Open In Colab\"/></a>"
      ]
    },
    {
      "cell_type": "markdown",
      "source": [
        "# 人口マスタ"
      ],
      "metadata": {
        "id": "azhikEZYLQ44"
      }
    },
    {
      "cell_type": "code",
      "execution_count": 1,
      "metadata": {
        "id": "CIyd2DbDLLFI"
      },
      "outputs": [],
      "source": [
        "!pip install -q geocoder"
      ]
    },
    {
      "cell_type": "code",
      "source": [
        "from google.colab import drive\n",
        "drive.mount('/content/drive')"
      ],
      "metadata": {
        "colab": {
          "base_uri": "https://localhost:8080/"
        },
        "id": "MfIGn8_dNqlX",
        "outputId": "45686a29-b777-466a-f8de-ced29f36f2e5"
      },
      "execution_count": 2,
      "outputs": [
        {
          "output_type": "stream",
          "name": "stdout",
          "text": [
            "Drive already mounted at /content/drive; to attempt to forcibly remount, call drive.mount(\"/content/drive\", force_remount=True).\n"
          ]
        }
      ]
    },
    {
      "cell_type": "code",
      "source": [
        "DIR_NAME = '/content/drive/MyDrive/z-gard/data'"
      ],
      "metadata": {
        "id": "eT1ei4BwN5z9"
      },
      "execution_count": 3,
      "outputs": []
    },
    {
      "cell_type": "code",
      "source": [
        "import os\n",
        "import requests\n",
        "import json\n",
        "import pandas as pd\n",
        "from urllib.parse import urlparse\n",
        "import geocoder\n",
        "\n",
        "pd.set_option('display.max_columns', 50)\n",
        "pd.set_option('display.max_rows', 50)"
      ],
      "metadata": {
        "id": "6nlcCLmJLTPm"
      },
      "execution_count": 4,
      "outputs": []
    },
    {
      "cell_type": "code",
      "source": [
        "def get_file_from_url(url, save_path):\n",
        "    res = requests.get(url)\n",
        "    if res.status_code == 200:\n",
        "        with open(save_path, 'wb') as f:\n",
        "            f.write(res.content)\n",
        "    else:\n",
        "        raise Exception(f'status_code: {res.status_code} ({url})')"
      ],
      "metadata": {
        "id": "ZfxwSIhdAPPm"
      },
      "execution_count": 5,
      "outputs": []
    },
    {
      "cell_type": "code",
      "source": [
        "def number_to_kanji(str):\n",
        "    return str.translate(str.maketrans({'１':'一', '２':'二', '３':'三', '４':'四', '５':'五', '６':'六', '７':'七', '８':'八', '９':'九'}))\n",
        "\n",
        "# 緯度経度取得\n",
        "def add_lat_lon(df_master):\n",
        "    lats = []\n",
        "    lons = []\n",
        "    for i, row in df_master.iterrows():\n",
        "        chocho = number_to_kanji(row['町丁目'])\n",
        "        ret = geocoder.osm('東京都' + row['市区町村名'] + chocho, timeout=5)\n",
        "        if not ret.ok:\n",
        "            print(i, row['市区町村名'], chocho)\n",
        "        lats.append(ret.lat)\n",
        "        lons.append(ret.lng)\n",
        "    df_copy = df_master.copy()\n",
        "    df_copy['緯度'] = lats\n",
        "    df_copy['経度'] = lons\n",
        "    return df_copy"
      ],
      "metadata": {
        "id": "V3299oUcLYzD"
      },
      "execution_count": 6,
      "outputs": []
    },
    {
      "cell_type": "markdown",
      "source": [
        "### 全区\n",
        "- [平成27年国勢調査 東京都区市町村町丁別報告](https://www.toukei.metro.tokyo.lg.jp/kokusei/2015/kd-15index.htm)"
      ],
      "metadata": {
        "id": "WPRHxz93BouW"
      }
    },
    {
      "cell_type": "code",
      "source": [
        "temp_dir = '/content/tmp'\n",
        "os.makedirs(temp_dir, exist_ok=True)\n",
        "\n",
        "zip_path = os.path.join(temp_dir, 'population.zip')\n",
        "zip_url = 'https://www.toukei.metro.tokyo.lg.jp/kokusei/2015/kd15zv01100000.zip'\n",
        "get_file_from_url(zip_url, zip_path)"
      ],
      "metadata": {
        "id": "2xFBx0kMBtAo"
      },
      "execution_count": 7,
      "outputs": []
    },
    {
      "cell_type": "code",
      "source": [
        "!unzip -o -d $temp_dir $zip_path"
      ],
      "metadata": {
        "id": "LonsNn9LBx-d",
        "outputId": "29965a49-799f-424e-f7e2-a507afa21590",
        "colab": {
          "base_uri": "https://localhost:8080/"
        }
      },
      "execution_count": 8,
      "outputs": [
        {
          "output_type": "stream",
          "name": "stdout",
          "text": [
            "Archive:  /content/tmp/population.zip\n",
            "  inflating: /content/tmp/kd15zv01100000.csv  \n"
          ]
        }
      ]
    },
    {
      "cell_type": "code",
      "source": [
        "csv_file = 'kd15zv01100000.csv'\n",
        "df_all_popdata = pd.read_csv(os.path.join(temp_dir, csv_file), skiprows=9, encoding='shift-jis')\n",
        "print(df_all_popdata.shape)"
      ],
      "metadata": {
        "id": "GCuETGQcCtVQ",
        "outputId": "dfc189bc-7a9e-488c-8274-f8c8a13870f0",
        "colab": {
          "base_uri": "https://localhost:8080/"
        }
      },
      "execution_count": 9,
      "outputs": [
        {
          "output_type": "stream",
          "name": "stdout",
          "text": [
            "(19818, 161)\n"
          ]
        },
        {
          "output_type": "stream",
          "name": "stderr",
          "text": [
            "/usr/local/lib/python3.7/dist-packages/IPython/core/interactiveshell.py:3326: DtypeWarning: Columns (7,8) have mixed types.Specify dtype option on import or set low_memory=False.\n",
            "  exec(code_obj, self.user_global_ns, self.user_ns)\n"
          ]
        }
      ]
    },
    {
      "cell_type": "code",
      "source": [
        "df_popdata = df_all_popdata[[\n",
        "    '地域ＩＤ',\n",
        "    '地域階層フラグ／丁目･小字相当',\n",
        "    '表側表章地域（階層別）／区市町村階層以上の地域名称',\n",
        "    '表側表章地域（階層別）／町・大字相当階層の地域名称',\n",
        "    '表側表章地域（階層別）／丁目・小字等階層の地域名称',\n",
        "    '表側／男女の別',\n",
        "    '人口総数（人）',\n",
        "    '面積（平方キロメートル） ',\n",
        "    '年齢（５歳階級）／0〜4歳（人）',\n",
        "    '年齢（５歳階級）／5〜9歳（人）',\n",
        "    '年齢（５歳階級）／10〜14歳（人）',\n",
        "    '年齢（５歳階級）／15〜19歳（人）',\n",
        "    '年齢（５歳階級）／20〜24歳（人）',\n",
        "    '年齢（５歳階級）／25〜29歳（人）',\n",
        "    '年齢（５歳階級）／30〜34歳（人）',\n",
        "    '年齢（５歳階級）／35〜39歳（人）',\n",
        "    '年齢（５歳階級）／40〜44歳（人）',\n",
        "    '年齢（５歳階級）／45〜49歳（人）',\n",
        "    '年齢（５歳階級）／50〜54歳（人）',\n",
        "    '年齢（５歳階級）／55〜59歳（人）',\n",
        "    '年齢（５歳階級）／60〜64歳（人）',\n",
        "    '年齢（５歳階級）／65〜69歳（人）',\n",
        "    '年齢（５歳階級）／70〜74歳（人）',\n",
        "    '年齢（５歳階級）／75〜79歳（人）',\n",
        "    '年齢（５歳階級）／80〜84歳（人）',\n",
        "    '年齢（５歳階級）／85〜89歳（人）',\n",
        "    '年齢（５歳階級）／90〜94歳（人）',\n",
        "    '年齢（５歳階級）／95〜99歳（人）',\n",
        "    '年齢（５歳階級）／100歳以上（人）',\n",
        "    '年齢（５歳階級）／年齢不詳（人）',\n",
        "    '平均年齢（歳）',\n",
        "    '（再掲）外国人（人） ',\n",
        "]]\n",
        "df_popdata.columns = [\n",
        "    '地域ＩＤ',\n",
        "    '地域階層フラグ',\n",
        "    '市区町村名',\n",
        "    '町名',\n",
        "    '町丁目',\n",
        "    '男女',\n",
        "    '人口総数（人）',\n",
        "    '面積（km2）',\n",
        "    '0〜4歳（人）',\n",
        "    '5〜9歳（人）',\n",
        "    '10〜14歳（人）',\n",
        "    '15〜19歳（人）',\n",
        "    '20〜24歳（人）',\n",
        "    '25〜29歳（人）',\n",
        "    '30〜34歳（人）',\n",
        "    '35〜39歳（人）',\n",
        "    '40〜44歳（人）',\n",
        "    '45〜49歳（人）',\n",
        "    '50〜54歳（人）',\n",
        "    '55〜59歳（人）',\n",
        "    '60〜64歳（人）',\n",
        "    '65〜69歳（人）',\n",
        "    '70〜74歳（人）',\n",
        "    '75〜79歳（人）',\n",
        "    '80〜84歳（人）',\n",
        "    '85〜89歳（人）',\n",
        "    '90〜94歳（人）',\n",
        "    '95〜99歳（人）',\n",
        "    '100歳以上（人）',\n",
        "    '年齢不詳（人）',\n",
        "    '平均年齢（歳）',\n",
        "    '外国人（人）'\n",
        "]\n",
        "df_popdata = df_popdata.replace('X', 0).replace('-', 0)\n",
        "df_popdata = df_popdata[\n",
        "    (df_popdata['地域階層フラグ'] == '●') &\n",
        "    (df_popdata['市区町村名'].str.endswith('区')) &\n",
        "    (df_popdata['町丁目'].notna()) &\n",
        "    (df_popdata['男女'] == '総数')\n",
        "].drop(columns=['地域階層フラグ', '男女']).reset_index(drop=True)\n",
        "\n",
        "print(df_popdata.shape)"
      ],
      "metadata": {
        "id": "GDPHUS6aDXYv",
        "outputId": "d8498bf7-47dd-4d51-dc47-f08fd7bacaf7",
        "colab": {
          "base_uri": "https://localhost:8080/"
        }
      },
      "execution_count": 10,
      "outputs": [
        {
          "output_type": "stream",
          "name": "stdout",
          "text": [
            "(2921, 30)\n"
          ]
        }
      ]
    },
    {
      "cell_type": "code",
      "source": [
        "pop_cols = [col for col in df_popdata.columns if '（人）' in col]\n",
        "for col in pop_cols:\n",
        "    df_popdata[col] = df_popdata[col].astype(int)\n",
        "\n",
        "df_popdata['面積（km2）'] = df_popdata['面積（km2）'].astype(float)\n",
        "df_popdata['平均年齢（歳）'] = df_popdata['平均年齢（歳）'].astype(float)"
      ],
      "metadata": {
        "id": "phW408KsVf60"
      },
      "execution_count": 11,
      "outputs": []
    },
    {
      "cell_type": "code",
      "source": [
        "%%time\n",
        "df_population_master = add_lat_lon(df_popdata)"
      ],
      "metadata": {
        "id": "Lv0IXXYRNLg-",
        "outputId": "633211cf-6d56-4908-f17b-b393921c43c7",
        "colab": {
          "base_uri": "https://localhost:8080/"
        }
      },
      "execution_count": 13,
      "outputs": [
        {
          "output_type": "stream",
          "name": "stdout",
          "text": [
            "41 千代田区 三崎町一丁目\n",
            "585 墨田区 錦糸三丁目\n",
            "1217 大田区 多摩川河川敷（上流）\n",
            "1218 大田区 多摩川河川敷（下流）\n",
            "1392 世田谷区 深沢七丁目\n",
            "2616 葛飾区 お花茶屋一丁目\n",
            "2617 葛飾区 お花茶屋二丁目\n",
            "2618 葛飾区 お花茶屋三丁目\n",
            "CPU times: user 46.7 s, sys: 3.17 s, total: 49.9 s\n",
            "Wall time: 24min 32s\n"
          ]
        }
      ]
    },
    {
      "cell_type": "code",
      "source": [
        "df_population_master.to_csv(os.path.join(DIR_NAME, 'population_master.csv'), index=False)"
      ],
      "metadata": {
        "id": "71-wk0dTXLqS"
      },
      "execution_count": 14,
      "outputs": []
    },
    {
      "cell_type": "code",
      "source": [
        "df_population_master[\n",
        "    (df_population_master['市区町村名'] == '港区') & \n",
        "    (df_population_master['町名'] == '三田')\n",
        "]"
      ],
      "metadata": {
        "id": "wm3-IKy8L0ar",
        "outputId": "eee05a99-67e4-4338-c781-c8b25a4a20a2",
        "colab": {
          "base_uri": "https://localhost:8080/",
          "height": 687
        }
      },
      "execution_count": 15,
      "outputs": [
        {
          "output_type": "execute_result",
          "data": {
            "text/plain": [
              "       地域ＩＤ 市区町村名  町名    町丁目  人口総数（人）  面積（km2）  0〜4歳（人）  5〜9歳（人）  10〜14歳（人）  \\\n",
              "189  103027    港区  三田  三田１丁目     4248     0.22      239      157        129   \n",
              "190  103028    港区  三田  三田２丁目     4025     0.30      204      140        131   \n",
              "191  103029    港区  三田  三田３丁目     1534     0.16       65       43         32   \n",
              "192  103030    港区  三田  三田４丁目     3400     0.24      165      113        110   \n",
              "193  103031    港区  三田  三田５丁目     5296     0.11      227      203        193   \n",
              "\n",
              "     15〜19歳（人）  20〜24歳（人）  25〜29歳（人）  30〜34歳（人）  35〜39歳（人）  40〜44歳（人）  \\\n",
              "189        128        167        306        405        464        470   \n",
              "190        138        145        256        335        360        405   \n",
              "191         67        105        127        131        160        143   \n",
              "192        111        125        162        255        319        331   \n",
              "193        192        215        334        437        537        518   \n",
              "\n",
              "     45〜49歳（人）  50〜54歳（人）  55〜59歳（人）  60〜64歳（人）  65〜69歳（人）  70〜74歳（人）  \\\n",
              "189        449        332        197        150        173        161   \n",
              "190        350        293        240        200        262        191   \n",
              "191        108        109         86         68         88         67   \n",
              "192        294        234        207        181        253        185   \n",
              "193        517        419        308        275        303        204   \n",
              "\n",
              "     75〜79歳（人）  80〜84歳（人）  85〜89歳（人）  90〜94歳（人）  95〜99歳（人）  100歳以上（人）  \\\n",
              "189        132        113         45         24          5          1   \n",
              "190        153        112         72         25          8          1   \n",
              "191         47         38         34          9          4          1   \n",
              "192        146        100         64         28          9          3   \n",
              "193        157        129         86         35          6          1   \n",
              "\n",
              "     年齢不詳（人）    平均年齢（歳）  外国人（人）         緯度          経度  \n",
              "189        1  41.730280     276  35.653750  139.741676  \n",
              "190        4  44.224944     203  35.649845  139.741681  \n",
              "191        2  43.159269      54  35.643955  139.743205  \n",
              "192        5  45.651694      96  35.643942  139.739434  \n",
              "193        0  43.254532     173  35.646272  139.738259  "
            ],
            "text/html": [
              "\n",
              "  <div id=\"df-7b300840-0085-4563-b2e1-0d1f08add0ff\">\n",
              "    <div class=\"colab-df-container\">\n",
              "      <div>\n",
              "<style scoped>\n",
              "    .dataframe tbody tr th:only-of-type {\n",
              "        vertical-align: middle;\n",
              "    }\n",
              "\n",
              "    .dataframe tbody tr th {\n",
              "        vertical-align: top;\n",
              "    }\n",
              "\n",
              "    .dataframe thead th {\n",
              "        text-align: right;\n",
              "    }\n",
              "</style>\n",
              "<table border=\"1\" class=\"dataframe\">\n",
              "  <thead>\n",
              "    <tr style=\"text-align: right;\">\n",
              "      <th></th>\n",
              "      <th>地域ＩＤ</th>\n",
              "      <th>市区町村名</th>\n",
              "      <th>町名</th>\n",
              "      <th>町丁目</th>\n",
              "      <th>人口総数（人）</th>\n",
              "      <th>面積（km2）</th>\n",
              "      <th>0〜4歳（人）</th>\n",
              "      <th>5〜9歳（人）</th>\n",
              "      <th>10〜14歳（人）</th>\n",
              "      <th>15〜19歳（人）</th>\n",
              "      <th>20〜24歳（人）</th>\n",
              "      <th>25〜29歳（人）</th>\n",
              "      <th>30〜34歳（人）</th>\n",
              "      <th>35〜39歳（人）</th>\n",
              "      <th>40〜44歳（人）</th>\n",
              "      <th>45〜49歳（人）</th>\n",
              "      <th>50〜54歳（人）</th>\n",
              "      <th>55〜59歳（人）</th>\n",
              "      <th>60〜64歳（人）</th>\n",
              "      <th>65〜69歳（人）</th>\n",
              "      <th>70〜74歳（人）</th>\n",
              "      <th>75〜79歳（人）</th>\n",
              "      <th>80〜84歳（人）</th>\n",
              "      <th>85〜89歳（人）</th>\n",
              "      <th>90〜94歳（人）</th>\n",
              "      <th>95〜99歳（人）</th>\n",
              "      <th>100歳以上（人）</th>\n",
              "      <th>年齢不詳（人）</th>\n",
              "      <th>平均年齢（歳）</th>\n",
              "      <th>外国人（人）</th>\n",
              "      <th>緯度</th>\n",
              "      <th>経度</th>\n",
              "    </tr>\n",
              "  </thead>\n",
              "  <tbody>\n",
              "    <tr>\n",
              "      <th>189</th>\n",
              "      <td>103027</td>\n",
              "      <td>港区</td>\n",
              "      <td>三田</td>\n",
              "      <td>三田１丁目</td>\n",
              "      <td>4248</td>\n",
              "      <td>0.22</td>\n",
              "      <td>239</td>\n",
              "      <td>157</td>\n",
              "      <td>129</td>\n",
              "      <td>128</td>\n",
              "      <td>167</td>\n",
              "      <td>306</td>\n",
              "      <td>405</td>\n",
              "      <td>464</td>\n",
              "      <td>470</td>\n",
              "      <td>449</td>\n",
              "      <td>332</td>\n",
              "      <td>197</td>\n",
              "      <td>150</td>\n",
              "      <td>173</td>\n",
              "      <td>161</td>\n",
              "      <td>132</td>\n",
              "      <td>113</td>\n",
              "      <td>45</td>\n",
              "      <td>24</td>\n",
              "      <td>5</td>\n",
              "      <td>1</td>\n",
              "      <td>1</td>\n",
              "      <td>41.730280</td>\n",
              "      <td>276</td>\n",
              "      <td>35.653750</td>\n",
              "      <td>139.741676</td>\n",
              "    </tr>\n",
              "    <tr>\n",
              "      <th>190</th>\n",
              "      <td>103028</td>\n",
              "      <td>港区</td>\n",
              "      <td>三田</td>\n",
              "      <td>三田２丁目</td>\n",
              "      <td>4025</td>\n",
              "      <td>0.30</td>\n",
              "      <td>204</td>\n",
              "      <td>140</td>\n",
              "      <td>131</td>\n",
              "      <td>138</td>\n",
              "      <td>145</td>\n",
              "      <td>256</td>\n",
              "      <td>335</td>\n",
              "      <td>360</td>\n",
              "      <td>405</td>\n",
              "      <td>350</td>\n",
              "      <td>293</td>\n",
              "      <td>240</td>\n",
              "      <td>200</td>\n",
              "      <td>262</td>\n",
              "      <td>191</td>\n",
              "      <td>153</td>\n",
              "      <td>112</td>\n",
              "      <td>72</td>\n",
              "      <td>25</td>\n",
              "      <td>8</td>\n",
              "      <td>1</td>\n",
              "      <td>4</td>\n",
              "      <td>44.224944</td>\n",
              "      <td>203</td>\n",
              "      <td>35.649845</td>\n",
              "      <td>139.741681</td>\n",
              "    </tr>\n",
              "    <tr>\n",
              "      <th>191</th>\n",
              "      <td>103029</td>\n",
              "      <td>港区</td>\n",
              "      <td>三田</td>\n",
              "      <td>三田３丁目</td>\n",
              "      <td>1534</td>\n",
              "      <td>0.16</td>\n",
              "      <td>65</td>\n",
              "      <td>43</td>\n",
              "      <td>32</td>\n",
              "      <td>67</td>\n",
              "      <td>105</td>\n",
              "      <td>127</td>\n",
              "      <td>131</td>\n",
              "      <td>160</td>\n",
              "      <td>143</td>\n",
              "      <td>108</td>\n",
              "      <td>109</td>\n",
              "      <td>86</td>\n",
              "      <td>68</td>\n",
              "      <td>88</td>\n",
              "      <td>67</td>\n",
              "      <td>47</td>\n",
              "      <td>38</td>\n",
              "      <td>34</td>\n",
              "      <td>9</td>\n",
              "      <td>4</td>\n",
              "      <td>1</td>\n",
              "      <td>2</td>\n",
              "      <td>43.159269</td>\n",
              "      <td>54</td>\n",
              "      <td>35.643955</td>\n",
              "      <td>139.743205</td>\n",
              "    </tr>\n",
              "    <tr>\n",
              "      <th>192</th>\n",
              "      <td>103030</td>\n",
              "      <td>港区</td>\n",
              "      <td>三田</td>\n",
              "      <td>三田４丁目</td>\n",
              "      <td>3400</td>\n",
              "      <td>0.24</td>\n",
              "      <td>165</td>\n",
              "      <td>113</td>\n",
              "      <td>110</td>\n",
              "      <td>111</td>\n",
              "      <td>125</td>\n",
              "      <td>162</td>\n",
              "      <td>255</td>\n",
              "      <td>319</td>\n",
              "      <td>331</td>\n",
              "      <td>294</td>\n",
              "      <td>234</td>\n",
              "      <td>207</td>\n",
              "      <td>181</td>\n",
              "      <td>253</td>\n",
              "      <td>185</td>\n",
              "      <td>146</td>\n",
              "      <td>100</td>\n",
              "      <td>64</td>\n",
              "      <td>28</td>\n",
              "      <td>9</td>\n",
              "      <td>3</td>\n",
              "      <td>5</td>\n",
              "      <td>45.651694</td>\n",
              "      <td>96</td>\n",
              "      <td>35.643942</td>\n",
              "      <td>139.739434</td>\n",
              "    </tr>\n",
              "    <tr>\n",
              "      <th>193</th>\n",
              "      <td>103031</td>\n",
              "      <td>港区</td>\n",
              "      <td>三田</td>\n",
              "      <td>三田５丁目</td>\n",
              "      <td>5296</td>\n",
              "      <td>0.11</td>\n",
              "      <td>227</td>\n",
              "      <td>203</td>\n",
              "      <td>193</td>\n",
              "      <td>192</td>\n",
              "      <td>215</td>\n",
              "      <td>334</td>\n",
              "      <td>437</td>\n",
              "      <td>537</td>\n",
              "      <td>518</td>\n",
              "      <td>517</td>\n",
              "      <td>419</td>\n",
              "      <td>308</td>\n",
              "      <td>275</td>\n",
              "      <td>303</td>\n",
              "      <td>204</td>\n",
              "      <td>157</td>\n",
              "      <td>129</td>\n",
              "      <td>86</td>\n",
              "      <td>35</td>\n",
              "      <td>6</td>\n",
              "      <td>1</td>\n",
              "      <td>0</td>\n",
              "      <td>43.254532</td>\n",
              "      <td>173</td>\n",
              "      <td>35.646272</td>\n",
              "      <td>139.738259</td>\n",
              "    </tr>\n",
              "  </tbody>\n",
              "</table>\n",
              "</div>\n",
              "      <button class=\"colab-df-convert\" onclick=\"convertToInteractive('df-7b300840-0085-4563-b2e1-0d1f08add0ff')\"\n",
              "              title=\"Convert this dataframe to an interactive table.\"\n",
              "              style=\"display:none;\">\n",
              "        \n",
              "  <svg xmlns=\"http://www.w3.org/2000/svg\" height=\"24px\"viewBox=\"0 0 24 24\"\n",
              "       width=\"24px\">\n",
              "    <path d=\"M0 0h24v24H0V0z\" fill=\"none\"/>\n",
              "    <path d=\"M18.56 5.44l.94 2.06.94-2.06 2.06-.94-2.06-.94-.94-2.06-.94 2.06-2.06.94zm-11 1L8.5 8.5l.94-2.06 2.06-.94-2.06-.94L8.5 2.5l-.94 2.06-2.06.94zm10 10l.94 2.06.94-2.06 2.06-.94-2.06-.94-.94-2.06-.94 2.06-2.06.94z\"/><path d=\"M17.41 7.96l-1.37-1.37c-.4-.4-.92-.59-1.43-.59-.52 0-1.04.2-1.43.59L10.3 9.45l-7.72 7.72c-.78.78-.78 2.05 0 2.83L4 21.41c.39.39.9.59 1.41.59.51 0 1.02-.2 1.41-.59l7.78-7.78 2.81-2.81c.8-.78.8-2.07 0-2.86zM5.41 20L4 18.59l7.72-7.72 1.47 1.35L5.41 20z\"/>\n",
              "  </svg>\n",
              "      </button>\n",
              "      \n",
              "  <style>\n",
              "    .colab-df-container {\n",
              "      display:flex;\n",
              "      flex-wrap:wrap;\n",
              "      gap: 12px;\n",
              "    }\n",
              "\n",
              "    .colab-df-convert {\n",
              "      background-color: #E8F0FE;\n",
              "      border: none;\n",
              "      border-radius: 50%;\n",
              "      cursor: pointer;\n",
              "      display: none;\n",
              "      fill: #1967D2;\n",
              "      height: 32px;\n",
              "      padding: 0 0 0 0;\n",
              "      width: 32px;\n",
              "    }\n",
              "\n",
              "    .colab-df-convert:hover {\n",
              "      background-color: #E2EBFA;\n",
              "      box-shadow: 0px 1px 2px rgba(60, 64, 67, 0.3), 0px 1px 3px 1px rgba(60, 64, 67, 0.15);\n",
              "      fill: #174EA6;\n",
              "    }\n",
              "\n",
              "    [theme=dark] .colab-df-convert {\n",
              "      background-color: #3B4455;\n",
              "      fill: #D2E3FC;\n",
              "    }\n",
              "\n",
              "    [theme=dark] .colab-df-convert:hover {\n",
              "      background-color: #434B5C;\n",
              "      box-shadow: 0px 1px 3px 1px rgba(0, 0, 0, 0.15);\n",
              "      filter: drop-shadow(0px 1px 2px rgba(0, 0, 0, 0.3));\n",
              "      fill: #FFFFFF;\n",
              "    }\n",
              "  </style>\n",
              "\n",
              "      <script>\n",
              "        const buttonEl =\n",
              "          document.querySelector('#df-7b300840-0085-4563-b2e1-0d1f08add0ff button.colab-df-convert');\n",
              "        buttonEl.style.display =\n",
              "          google.colab.kernel.accessAllowed ? 'block' : 'none';\n",
              "\n",
              "        async function convertToInteractive(key) {\n",
              "          const element = document.querySelector('#df-7b300840-0085-4563-b2e1-0d1f08add0ff');\n",
              "          const dataTable =\n",
              "            await google.colab.kernel.invokeFunction('convertToInteractive',\n",
              "                                                     [key], {});\n",
              "          if (!dataTable) return;\n",
              "\n",
              "          const docLinkHtml = 'Like what you see? Visit the ' +\n",
              "            '<a target=\"_blank\" href=https://colab.research.google.com/notebooks/data_table.ipynb>data table notebook</a>'\n",
              "            + ' to learn more about interactive tables.';\n",
              "          element.innerHTML = '';\n",
              "          dataTable['output_type'] = 'display_data';\n",
              "          await google.colab.output.renderOutput(dataTable, element);\n",
              "          const docLink = document.createElement('div');\n",
              "          docLink.innerHTML = docLinkHtml;\n",
              "          element.appendChild(docLink);\n",
              "        }\n",
              "      </script>\n",
              "    </div>\n",
              "  </div>\n",
              "  "
            ]
          },
          "metadata": {},
          "execution_count": 15
        }
      ]
    },
    {
      "cell_type": "code",
      "source": [],
      "metadata": {
        "id": "pWtFXyFCOyhn"
      },
      "execution_count": null,
      "outputs": []
    }
  ]
}