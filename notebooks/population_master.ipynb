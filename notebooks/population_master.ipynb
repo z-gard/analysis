{
  "nbformat": 4,
  "nbformat_minor": 0,
  "metadata": {
    "colab": {
      "provenance": [],
      "authorship_tag": "ABX9TyOeuL1n1kK50J9j8lG2e79d",
      "include_colab_link": true
    },
    "kernelspec": {
      "name": "python3",
      "display_name": "Python 3"
    },
    "language_info": {
      "name": "python"
    }
  },
  "cells": [
    {
      "cell_type": "markdown",
      "metadata": {
        "id": "view-in-github",
        "colab_type": "text"
      },
      "source": [
        "<a href=\"https://colab.research.google.com/github/z-gard/analysis/blob/main/notebooks/population_master.ipynb\" target=\"_parent\"><img src=\"https://colab.research.google.com/assets/colab-badge.svg\" alt=\"Open In Colab\"/></a>"
      ]
    },
    {
      "cell_type": "markdown",
      "source": [
        "# 人口マスタ"
      ],
      "metadata": {
        "id": "azhikEZYLQ44"
      }
    },
    {
      "cell_type": "code",
      "execution_count": 1,
      "metadata": {
        "colab": {
          "base_uri": "https://localhost:8080/"
        },
        "id": "CIyd2DbDLLFI",
        "outputId": "1bd1a4aa-930b-4d28-9cb4-83e0dc6f53a9"
      },
      "outputs": [
        {
          "output_type": "stream",
          "name": "stdout",
          "text": [
            "\u001b[K     |████████████████████████████████| 98 kB 3.7 MB/s \n",
            "\u001b[K     |████████████████████████████████| 96 kB 2.7 MB/s \n",
            "\u001b[K     |████████████████████████████████| 4.1 MB 5.3 MB/s \n",
            "\u001b[?25h  Building wheel for japanize-matplotlib (setup.py) ... \u001b[?25l\u001b[?25hdone\n"
          ]
        }
      ],
      "source": [
        "!pip install -q geocoder\n",
        "!pip install -q --upgrade xlrd\n",
        "!pip install -q japanize-matplotlib"
      ]
    },
    {
      "cell_type": "code",
      "source": [
        "from google.colab import drive\n",
        "drive.mount('/content/drive')"
      ],
      "metadata": {
        "colab": {
          "base_uri": "https://localhost:8080/"
        },
        "id": "MfIGn8_dNqlX",
        "outputId": "c4e4dd86-8d5c-4b89-808e-1683b4b7f022"
      },
      "execution_count": 19,
      "outputs": [
        {
          "output_type": "stream",
          "name": "stdout",
          "text": [
            "Mounted at /content/drive\n"
          ]
        }
      ]
    },
    {
      "cell_type": "code",
      "source": [
        "DIR_NAME = '/content/drive/MyDrive/z-gard/data'"
      ],
      "metadata": {
        "id": "eT1ei4BwN5z9"
      },
      "execution_count": 20,
      "outputs": []
    },
    {
      "cell_type": "code",
      "source": [
        "import os\n",
        "import requests\n",
        "import json\n",
        "import pandas as pd\n",
        "from urllib.parse import urlparse\n",
        "import geocoder\n",
        "import math\n",
        "import io\n",
        "import matplotlib.pyplot as plt\n",
        "import japanize_matplotlib\n",
        "import seaborn as sns\n",
        "\n",
        "pd.set_option('display.max_columns', 50)\n",
        "pd.set_option('display.max_rows', 50)"
      ],
      "metadata": {
        "id": "6nlcCLmJLTPm"
      },
      "execution_count": 21,
      "outputs": []
    },
    {
      "cell_type": "code",
      "source": [
        "def get_data_csv_url(url, encoding='utf-8', excel=False):\n",
        "    res = requests.get(url)\n",
        "    if res.status_code == 200:\n",
        "        if not excel:\n",
        "            return pd.read_csv(io.BytesIO(res.content), encoding=encoding)\n",
        "        else:\n",
        "            return pd.read_excel(io.BytesIO(res.content))\n",
        "    else:\n",
        "        raise Exception(f'status_code: {res.status_code} ({url})')\n",
        "\n",
        "def number_to_kanji(str):\n",
        "    return str.translate(str.maketrans({'１':'一', '２':'二', '３':'三', '４':'四', '５':'五', '６':'六', '７':'七', '８':'八', '９':'九'}))\n",
        "\n",
        "def add_pref_district(df_data, district, is_master=False):\n",
        "    df_data['都道府県'] = '東京都'\n",
        "    df_data['市区町村'] = district\n",
        "    if is_master:\n",
        "        df_data['町丁目'] = df_data['町丁目'].apply(number_to_kanji)\n",
        "        df_data['町名'] = df_data['町丁目'].str.replace('[一二三四五六七八九十]丁目', '', regex=True)\n",
        "\n",
        "# 緯度経度取得\n",
        "def add_lat_lon(df_master):\n",
        "    lats = []\n",
        "    lons = []\n",
        "    for i, row in df_master.iterrows():\n",
        "        ret = geocoder.osm(row['都道府県'] + row['市区町村'] + row['町丁目'], timeout=5)\n",
        "        if not ret.ok:\n",
        "            print(i, row['市区町村'], row['町丁目'])\n",
        "        lats.append(ret.lat)\n",
        "        lons.append(ret.lng)\n",
        "    df_copy = df_master.copy()\n",
        "    df_copy['緯度'] = lats\n",
        "    df_copy['経度'] = lons\n",
        "    return df_copy"
      ],
      "metadata": {
        "id": "V3299oUcLYzD"
      },
      "execution_count": 17,
      "outputs": []
    },
    {
      "cell_type": "markdown",
      "source": [
        "### 港区"
      ],
      "metadata": {
        "id": "9xJM5JyYLk8E"
      }
    },
    {
      "cell_type": "code",
      "source": [
        "minato_master_url = 'https://opendata.city.minato.tokyo.jp/dataset/213a32cd-85de-4c30-aaf9-7164c5bf06c9/resource/bc0beb3f-ca1d-45a3-87ea-8e190bb34d27/download/chomokubetsu_2022.csv'\n",
        "df_minato_master = get_data_csv_url(minato_master_url)\n",
        "df_minato_master = df_minato_master.dropna(subset=['人口合計［人］'])\n",
        "add_pref_district(df_minato_master, '港区', True)\n",
        "df_minato_master = df_minato_master.sort_values('年月日［西暦］', ascending=False).drop_duplicates(subset=['町丁目'])\n",
        "df_minato_master = df_minato_master.drop(columns=['年月日［西暦］'])\n",
        "df_minato_master = df_minato_master.sort_values('町丁目').reset_index(drop=True)\n",
        "df_minato_master.rename(columns={'人口男［人］': '人口男', '人口女［人］': '人口女', '人口合計［人］': '人口合計'}, inplace=True)\n",
        "df_minato_master.drop(columns=['地区'], inplace=True)\n",
        "print(df_minato_master.shape)"
      ],
      "metadata": {
        "colab": {
          "base_uri": "https://localhost:8080/"
        },
        "id": "Q7KETmZHLa-J",
        "outputId": "7a49ea4b-6010-4e90-da36-42893898525a"
      },
      "execution_count": 4,
      "outputs": [
        {
          "output_type": "stream",
          "name": "stdout",
          "text": [
            "(117, 8)\n"
          ]
        }
      ]
    },
    {
      "cell_type": "code",
      "source": [
        "df_minato_master.head()"
      ],
      "metadata": {
        "colab": {
          "base_uri": "https://localhost:8080/",
          "height": 206
        },
        "id": "w_DR9mnbLiNc",
        "outputId": "4768d713-62b3-40be-df83-ec5120ead292"
      },
      "execution_count": 5,
      "outputs": [
        {
          "output_type": "execute_result",
          "data": {
            "text/plain": [
              "     町丁目     世帯数     人口男     人口女    人口合計 都道府県 市区町村  町名\n",
              "0  三田一丁目  2251.0  1809.0  2166.0  3975.0  東京都   港区  三田\n",
              "1  三田三丁目  1086.0   798.0   878.0  1676.0  東京都   港区  三田\n",
              "2  三田二丁目  2404.0  2022.0  2481.0  4503.0  東京都   港区  三田\n",
              "3  三田五丁目  3617.0  2930.0  3629.0  6559.0  東京都   港区  三田\n",
              "4  三田四丁目  2017.0  1606.0  1959.0  3565.0  東京都   港区  三田"
            ],
            "text/html": [
              "\n",
              "  <div id=\"df-c949531f-c0ec-45dc-8e6c-b88b749d6b1a\">\n",
              "    <div class=\"colab-df-container\">\n",
              "      <div>\n",
              "<style scoped>\n",
              "    .dataframe tbody tr th:only-of-type {\n",
              "        vertical-align: middle;\n",
              "    }\n",
              "\n",
              "    .dataframe tbody tr th {\n",
              "        vertical-align: top;\n",
              "    }\n",
              "\n",
              "    .dataframe thead th {\n",
              "        text-align: right;\n",
              "    }\n",
              "</style>\n",
              "<table border=\"1\" class=\"dataframe\">\n",
              "  <thead>\n",
              "    <tr style=\"text-align: right;\">\n",
              "      <th></th>\n",
              "      <th>町丁目</th>\n",
              "      <th>世帯数</th>\n",
              "      <th>人口男</th>\n",
              "      <th>人口女</th>\n",
              "      <th>人口合計</th>\n",
              "      <th>都道府県</th>\n",
              "      <th>市区町村</th>\n",
              "      <th>町名</th>\n",
              "    </tr>\n",
              "  </thead>\n",
              "  <tbody>\n",
              "    <tr>\n",
              "      <th>0</th>\n",
              "      <td>三田一丁目</td>\n",
              "      <td>2251.0</td>\n",
              "      <td>1809.0</td>\n",
              "      <td>2166.0</td>\n",
              "      <td>3975.0</td>\n",
              "      <td>東京都</td>\n",
              "      <td>港区</td>\n",
              "      <td>三田</td>\n",
              "    </tr>\n",
              "    <tr>\n",
              "      <th>1</th>\n",
              "      <td>三田三丁目</td>\n",
              "      <td>1086.0</td>\n",
              "      <td>798.0</td>\n",
              "      <td>878.0</td>\n",
              "      <td>1676.0</td>\n",
              "      <td>東京都</td>\n",
              "      <td>港区</td>\n",
              "      <td>三田</td>\n",
              "    </tr>\n",
              "    <tr>\n",
              "      <th>2</th>\n",
              "      <td>三田二丁目</td>\n",
              "      <td>2404.0</td>\n",
              "      <td>2022.0</td>\n",
              "      <td>2481.0</td>\n",
              "      <td>4503.0</td>\n",
              "      <td>東京都</td>\n",
              "      <td>港区</td>\n",
              "      <td>三田</td>\n",
              "    </tr>\n",
              "    <tr>\n",
              "      <th>3</th>\n",
              "      <td>三田五丁目</td>\n",
              "      <td>3617.0</td>\n",
              "      <td>2930.0</td>\n",
              "      <td>3629.0</td>\n",
              "      <td>6559.0</td>\n",
              "      <td>東京都</td>\n",
              "      <td>港区</td>\n",
              "      <td>三田</td>\n",
              "    </tr>\n",
              "    <tr>\n",
              "      <th>4</th>\n",
              "      <td>三田四丁目</td>\n",
              "      <td>2017.0</td>\n",
              "      <td>1606.0</td>\n",
              "      <td>1959.0</td>\n",
              "      <td>3565.0</td>\n",
              "      <td>東京都</td>\n",
              "      <td>港区</td>\n",
              "      <td>三田</td>\n",
              "    </tr>\n",
              "  </tbody>\n",
              "</table>\n",
              "</div>\n",
              "      <button class=\"colab-df-convert\" onclick=\"convertToInteractive('df-c949531f-c0ec-45dc-8e6c-b88b749d6b1a')\"\n",
              "              title=\"Convert this dataframe to an interactive table.\"\n",
              "              style=\"display:none;\">\n",
              "        \n",
              "  <svg xmlns=\"http://www.w3.org/2000/svg\" height=\"24px\"viewBox=\"0 0 24 24\"\n",
              "       width=\"24px\">\n",
              "    <path d=\"M0 0h24v24H0V0z\" fill=\"none\"/>\n",
              "    <path d=\"M18.56 5.44l.94 2.06.94-2.06 2.06-.94-2.06-.94-.94-2.06-.94 2.06-2.06.94zm-11 1L8.5 8.5l.94-2.06 2.06-.94-2.06-.94L8.5 2.5l-.94 2.06-2.06.94zm10 10l.94 2.06.94-2.06 2.06-.94-2.06-.94-.94-2.06-.94 2.06-2.06.94z\"/><path d=\"M17.41 7.96l-1.37-1.37c-.4-.4-.92-.59-1.43-.59-.52 0-1.04.2-1.43.59L10.3 9.45l-7.72 7.72c-.78.78-.78 2.05 0 2.83L4 21.41c.39.39.9.59 1.41.59.51 0 1.02-.2 1.41-.59l7.78-7.78 2.81-2.81c.8-.78.8-2.07 0-2.86zM5.41 20L4 18.59l7.72-7.72 1.47 1.35L5.41 20z\"/>\n",
              "  </svg>\n",
              "      </button>\n",
              "      \n",
              "  <style>\n",
              "    .colab-df-container {\n",
              "      display:flex;\n",
              "      flex-wrap:wrap;\n",
              "      gap: 12px;\n",
              "    }\n",
              "\n",
              "    .colab-df-convert {\n",
              "      background-color: #E8F0FE;\n",
              "      border: none;\n",
              "      border-radius: 50%;\n",
              "      cursor: pointer;\n",
              "      display: none;\n",
              "      fill: #1967D2;\n",
              "      height: 32px;\n",
              "      padding: 0 0 0 0;\n",
              "      width: 32px;\n",
              "    }\n",
              "\n",
              "    .colab-df-convert:hover {\n",
              "      background-color: #E2EBFA;\n",
              "      box-shadow: 0px 1px 2px rgba(60, 64, 67, 0.3), 0px 1px 3px 1px rgba(60, 64, 67, 0.15);\n",
              "      fill: #174EA6;\n",
              "    }\n",
              "\n",
              "    [theme=dark] .colab-df-convert {\n",
              "      background-color: #3B4455;\n",
              "      fill: #D2E3FC;\n",
              "    }\n",
              "\n",
              "    [theme=dark] .colab-df-convert:hover {\n",
              "      background-color: #434B5C;\n",
              "      box-shadow: 0px 1px 3px 1px rgba(0, 0, 0, 0.15);\n",
              "      filter: drop-shadow(0px 1px 2px rgba(0, 0, 0, 0.3));\n",
              "      fill: #FFFFFF;\n",
              "    }\n",
              "  </style>\n",
              "\n",
              "      <script>\n",
              "        const buttonEl =\n",
              "          document.querySelector('#df-c949531f-c0ec-45dc-8e6c-b88b749d6b1a button.colab-df-convert');\n",
              "        buttonEl.style.display =\n",
              "          google.colab.kernel.accessAllowed ? 'block' : 'none';\n",
              "\n",
              "        async function convertToInteractive(key) {\n",
              "          const element = document.querySelector('#df-c949531f-c0ec-45dc-8e6c-b88b749d6b1a');\n",
              "          const dataTable =\n",
              "            await google.colab.kernel.invokeFunction('convertToInteractive',\n",
              "                                                     [key], {});\n",
              "          if (!dataTable) return;\n",
              "\n",
              "          const docLinkHtml = 'Like what you see? Visit the ' +\n",
              "            '<a target=\"_blank\" href=https://colab.research.google.com/notebooks/data_table.ipynb>data table notebook</a>'\n",
              "            + ' to learn more about interactive tables.';\n",
              "          element.innerHTML = '';\n",
              "          dataTable['output_type'] = 'display_data';\n",
              "          await google.colab.output.renderOutput(dataTable, element);\n",
              "          const docLink = document.createElement('div');\n",
              "          docLink.innerHTML = docLinkHtml;\n",
              "          element.appendChild(docLink);\n",
              "        }\n",
              "      </script>\n",
              "    </div>\n",
              "  </div>\n",
              "  "
            ]
          },
          "metadata": {},
          "execution_count": 5
        }
      ]
    },
    {
      "cell_type": "markdown",
      "source": [
        "### 墨田区"
      ],
      "metadata": {
        "id": "nEQ08VRxM9Nz"
      }
    },
    {
      "cell_type": "code",
      "source": [
        "sumida_master_url = 'https://www.city.sumida.lg.jp/kuseijoho/sumida_info/opendata/opendata_ichiran/population_data/setai_all_data.files/setai_all_2208.csv'\n",
        "df_sumida_master = get_data_csv_url(sumida_master_url, 'shift-jis')\n",
        "add_pref_district(df_sumida_master, '墨田区', True)\n",
        "df_sumida_master = df_sumida_master.sort_values('町丁目').reset_index(drop=True)\n",
        "df_sumida_master.rename(columns={'世帯数[世帯]': '世帯数', '男[人]': '人口男', '女[人]': '人口女', '総数[人]': '人口合計'}, inplace=True)\n",
        "print(df_sumida_master.shape)"
      ],
      "metadata": {
        "colab": {
          "base_uri": "https://localhost:8080/"
        },
        "id": "KM_CVZ1HL2aM",
        "outputId": "e4a4decf-82c9-4703-eaf6-b4770a69ab62"
      },
      "execution_count": 10,
      "outputs": [
        {
          "output_type": "stream",
          "name": "stdout",
          "text": [
            "(104, 8)\n"
          ]
        }
      ]
    },
    {
      "cell_type": "code",
      "source": [
        "df_sumida_master.head()"
      ],
      "metadata": {
        "colab": {
          "base_uri": "https://localhost:8080/",
          "height": 206
        },
        "id": "qanFaihUM-eu",
        "outputId": "62342390-373a-4d2f-ac01-a6d089fd3bcc"
      },
      "execution_count": 11,
      "outputs": [
        {
          "output_type": "execute_result",
          "data": {
            "text/plain": [
              "     町丁目   世帯数   人口男   人口女  人口合計 都道府県 市区町村  町名\n",
              "0  両国一丁目  1206   888   884  1772  東京都  墨田区  両国\n",
              "1  両国三丁目  1396  1016  1021  2037  東京都  墨田区  両国\n",
              "2  両国二丁目  1422  1065  1112  2177  東京都  墨田区  両国\n",
              "3  両国四丁目  1405  1093  1087  2180  東京都  墨田区  両国\n",
              "4  亀沢一丁目  1290  1031  1099  2130  東京都  墨田区  亀沢"
            ],
            "text/html": [
              "\n",
              "  <div id=\"df-68edeeac-c23a-4ed6-8ce5-58bc9a7354a0\">\n",
              "    <div class=\"colab-df-container\">\n",
              "      <div>\n",
              "<style scoped>\n",
              "    .dataframe tbody tr th:only-of-type {\n",
              "        vertical-align: middle;\n",
              "    }\n",
              "\n",
              "    .dataframe tbody tr th {\n",
              "        vertical-align: top;\n",
              "    }\n",
              "\n",
              "    .dataframe thead th {\n",
              "        text-align: right;\n",
              "    }\n",
              "</style>\n",
              "<table border=\"1\" class=\"dataframe\">\n",
              "  <thead>\n",
              "    <tr style=\"text-align: right;\">\n",
              "      <th></th>\n",
              "      <th>町丁目</th>\n",
              "      <th>世帯数</th>\n",
              "      <th>人口男</th>\n",
              "      <th>人口女</th>\n",
              "      <th>人口合計</th>\n",
              "      <th>都道府県</th>\n",
              "      <th>市区町村</th>\n",
              "      <th>町名</th>\n",
              "    </tr>\n",
              "  </thead>\n",
              "  <tbody>\n",
              "    <tr>\n",
              "      <th>0</th>\n",
              "      <td>両国一丁目</td>\n",
              "      <td>1206</td>\n",
              "      <td>888</td>\n",
              "      <td>884</td>\n",
              "      <td>1772</td>\n",
              "      <td>東京都</td>\n",
              "      <td>墨田区</td>\n",
              "      <td>両国</td>\n",
              "    </tr>\n",
              "    <tr>\n",
              "      <th>1</th>\n",
              "      <td>両国三丁目</td>\n",
              "      <td>1396</td>\n",
              "      <td>1016</td>\n",
              "      <td>1021</td>\n",
              "      <td>2037</td>\n",
              "      <td>東京都</td>\n",
              "      <td>墨田区</td>\n",
              "      <td>両国</td>\n",
              "    </tr>\n",
              "    <tr>\n",
              "      <th>2</th>\n",
              "      <td>両国二丁目</td>\n",
              "      <td>1422</td>\n",
              "      <td>1065</td>\n",
              "      <td>1112</td>\n",
              "      <td>2177</td>\n",
              "      <td>東京都</td>\n",
              "      <td>墨田区</td>\n",
              "      <td>両国</td>\n",
              "    </tr>\n",
              "    <tr>\n",
              "      <th>3</th>\n",
              "      <td>両国四丁目</td>\n",
              "      <td>1405</td>\n",
              "      <td>1093</td>\n",
              "      <td>1087</td>\n",
              "      <td>2180</td>\n",
              "      <td>東京都</td>\n",
              "      <td>墨田区</td>\n",
              "      <td>両国</td>\n",
              "    </tr>\n",
              "    <tr>\n",
              "      <th>4</th>\n",
              "      <td>亀沢一丁目</td>\n",
              "      <td>1290</td>\n",
              "      <td>1031</td>\n",
              "      <td>1099</td>\n",
              "      <td>2130</td>\n",
              "      <td>東京都</td>\n",
              "      <td>墨田区</td>\n",
              "      <td>亀沢</td>\n",
              "    </tr>\n",
              "  </tbody>\n",
              "</table>\n",
              "</div>\n",
              "      <button class=\"colab-df-convert\" onclick=\"convertToInteractive('df-68edeeac-c23a-4ed6-8ce5-58bc9a7354a0')\"\n",
              "              title=\"Convert this dataframe to an interactive table.\"\n",
              "              style=\"display:none;\">\n",
              "        \n",
              "  <svg xmlns=\"http://www.w3.org/2000/svg\" height=\"24px\"viewBox=\"0 0 24 24\"\n",
              "       width=\"24px\">\n",
              "    <path d=\"M0 0h24v24H0V0z\" fill=\"none\"/>\n",
              "    <path d=\"M18.56 5.44l.94 2.06.94-2.06 2.06-.94-2.06-.94-.94-2.06-.94 2.06-2.06.94zm-11 1L8.5 8.5l.94-2.06 2.06-.94-2.06-.94L8.5 2.5l-.94 2.06-2.06.94zm10 10l.94 2.06.94-2.06 2.06-.94-2.06-.94-.94-2.06-.94 2.06-2.06.94z\"/><path d=\"M17.41 7.96l-1.37-1.37c-.4-.4-.92-.59-1.43-.59-.52 0-1.04.2-1.43.59L10.3 9.45l-7.72 7.72c-.78.78-.78 2.05 0 2.83L4 21.41c.39.39.9.59 1.41.59.51 0 1.02-.2 1.41-.59l7.78-7.78 2.81-2.81c.8-.78.8-2.07 0-2.86zM5.41 20L4 18.59l7.72-7.72 1.47 1.35L5.41 20z\"/>\n",
              "  </svg>\n",
              "      </button>\n",
              "      \n",
              "  <style>\n",
              "    .colab-df-container {\n",
              "      display:flex;\n",
              "      flex-wrap:wrap;\n",
              "      gap: 12px;\n",
              "    }\n",
              "\n",
              "    .colab-df-convert {\n",
              "      background-color: #E8F0FE;\n",
              "      border: none;\n",
              "      border-radius: 50%;\n",
              "      cursor: pointer;\n",
              "      display: none;\n",
              "      fill: #1967D2;\n",
              "      height: 32px;\n",
              "      padding: 0 0 0 0;\n",
              "      width: 32px;\n",
              "    }\n",
              "\n",
              "    .colab-df-convert:hover {\n",
              "      background-color: #E2EBFA;\n",
              "      box-shadow: 0px 1px 2px rgba(60, 64, 67, 0.3), 0px 1px 3px 1px rgba(60, 64, 67, 0.15);\n",
              "      fill: #174EA6;\n",
              "    }\n",
              "\n",
              "    [theme=dark] .colab-df-convert {\n",
              "      background-color: #3B4455;\n",
              "      fill: #D2E3FC;\n",
              "    }\n",
              "\n",
              "    [theme=dark] .colab-df-convert:hover {\n",
              "      background-color: #434B5C;\n",
              "      box-shadow: 0px 1px 3px 1px rgba(0, 0, 0, 0.15);\n",
              "      filter: drop-shadow(0px 1px 2px rgba(0, 0, 0, 0.3));\n",
              "      fill: #FFFFFF;\n",
              "    }\n",
              "  </style>\n",
              "\n",
              "      <script>\n",
              "        const buttonEl =\n",
              "          document.querySelector('#df-68edeeac-c23a-4ed6-8ce5-58bc9a7354a0 button.colab-df-convert');\n",
              "        buttonEl.style.display =\n",
              "          google.colab.kernel.accessAllowed ? 'block' : 'none';\n",
              "\n",
              "        async function convertToInteractive(key) {\n",
              "          const element = document.querySelector('#df-68edeeac-c23a-4ed6-8ce5-58bc9a7354a0');\n",
              "          const dataTable =\n",
              "            await google.colab.kernel.invokeFunction('convertToInteractive',\n",
              "                                                     [key], {});\n",
              "          if (!dataTable) return;\n",
              "\n",
              "          const docLinkHtml = 'Like what you see? Visit the ' +\n",
              "            '<a target=\"_blank\" href=https://colab.research.google.com/notebooks/data_table.ipynb>data table notebook</a>'\n",
              "            + ' to learn more about interactive tables.';\n",
              "          element.innerHTML = '';\n",
              "          dataTable['output_type'] = 'display_data';\n",
              "          await google.colab.output.renderOutput(dataTable, element);\n",
              "          const docLink = document.createElement('div');\n",
              "          docLink.innerHTML = docLinkHtml;\n",
              "          element.appendChild(docLink);\n",
              "        }\n",
              "      </script>\n",
              "    </div>\n",
              "  </div>\n",
              "  "
            ]
          },
          "metadata": {},
          "execution_count": 11
        }
      ]
    },
    {
      "cell_type": "markdown",
      "source": [
        "### 練馬区"
      ],
      "metadata": {
        "id": "qP-VEHnANDdC"
      }
    },
    {
      "cell_type": "code",
      "source": [
        "nerima_master_url = 'https://www.city.nerima.tokyo.jp/kusei/tokei/opendata/opendatasite/tokei_kusei/chouchoubetu.files/202207chouchoubetu.csv'\n",
        "df_nerima_master = get_data_csv_url(nerima_master_url, 'shift-jis')\n",
        "add_pref_district(df_nerima_master, '練馬区', True)\n",
        "df_nerima_master = df_nerima_master[df_nerima_master['町丁目'].str.contains('丁目')]\n",
        "df_nerima_master.rename(columns={'世帯数[世帯]': '世帯数', '人口（男）[人]': '人口男', '人口（女）[人]': '人口女', '計[人]': '人口合計'}, inplace=True)\n",
        "print(df_nerima_master.shape)"
      ],
      "metadata": {
        "colab": {
          "base_uri": "https://localhost:8080/"
        },
        "id": "dZfhUlXRNApo",
        "outputId": "1bf56424-72b4-400e-d2aa-2ebcdbae2baf"
      },
      "execution_count": 12,
      "outputs": [
        {
          "output_type": "stream",
          "name": "stdout",
          "text": [
            "(198, 8)\n"
          ]
        }
      ]
    },
    {
      "cell_type": "code",
      "source": [
        "df_nerima_master.head()"
      ],
      "metadata": {
        "colab": {
          "base_uri": "https://localhost:8080/",
          "height": 206
        },
        "id": "gF7B2-OmNEq5",
        "outputId": "d090ac04-5d60-4473-a0e8-a8a07a60c430"
      },
      "execution_count": 13,
      "outputs": [
        {
          "output_type": "execute_result",
          "data": {
            "text/plain": [
              "      町丁目   世帯数   人口男   人口女  人口合計 都道府県 市区町村   町名\n",
              "2   旭丘一丁目  3350  2478  2392  4870  東京都  練馬区   旭丘\n",
              "3   旭丘二丁目  1552  1179  1268  2447  東京都  練馬区   旭丘\n",
              "5  小竹町一丁目  3137  2491  2703  5194  東京都  練馬区  小竹町\n",
              "6  小竹町二丁目  2596  2034  2315  4349  東京都  練馬区  小竹町\n",
              "9   羽沢一丁目   927   672   697  1369  東京都  練馬区   羽沢"
            ],
            "text/html": [
              "\n",
              "  <div id=\"df-adea90a4-aa9d-4c73-85c2-54c92a3d55f9\">\n",
              "    <div class=\"colab-df-container\">\n",
              "      <div>\n",
              "<style scoped>\n",
              "    .dataframe tbody tr th:only-of-type {\n",
              "        vertical-align: middle;\n",
              "    }\n",
              "\n",
              "    .dataframe tbody tr th {\n",
              "        vertical-align: top;\n",
              "    }\n",
              "\n",
              "    .dataframe thead th {\n",
              "        text-align: right;\n",
              "    }\n",
              "</style>\n",
              "<table border=\"1\" class=\"dataframe\">\n",
              "  <thead>\n",
              "    <tr style=\"text-align: right;\">\n",
              "      <th></th>\n",
              "      <th>町丁目</th>\n",
              "      <th>世帯数</th>\n",
              "      <th>人口男</th>\n",
              "      <th>人口女</th>\n",
              "      <th>人口合計</th>\n",
              "      <th>都道府県</th>\n",
              "      <th>市区町村</th>\n",
              "      <th>町名</th>\n",
              "    </tr>\n",
              "  </thead>\n",
              "  <tbody>\n",
              "    <tr>\n",
              "      <th>2</th>\n",
              "      <td>旭丘一丁目</td>\n",
              "      <td>3350</td>\n",
              "      <td>2478</td>\n",
              "      <td>2392</td>\n",
              "      <td>4870</td>\n",
              "      <td>東京都</td>\n",
              "      <td>練馬区</td>\n",
              "      <td>旭丘</td>\n",
              "    </tr>\n",
              "    <tr>\n",
              "      <th>3</th>\n",
              "      <td>旭丘二丁目</td>\n",
              "      <td>1552</td>\n",
              "      <td>1179</td>\n",
              "      <td>1268</td>\n",
              "      <td>2447</td>\n",
              "      <td>東京都</td>\n",
              "      <td>練馬区</td>\n",
              "      <td>旭丘</td>\n",
              "    </tr>\n",
              "    <tr>\n",
              "      <th>5</th>\n",
              "      <td>小竹町一丁目</td>\n",
              "      <td>3137</td>\n",
              "      <td>2491</td>\n",
              "      <td>2703</td>\n",
              "      <td>5194</td>\n",
              "      <td>東京都</td>\n",
              "      <td>練馬区</td>\n",
              "      <td>小竹町</td>\n",
              "    </tr>\n",
              "    <tr>\n",
              "      <th>6</th>\n",
              "      <td>小竹町二丁目</td>\n",
              "      <td>2596</td>\n",
              "      <td>2034</td>\n",
              "      <td>2315</td>\n",
              "      <td>4349</td>\n",
              "      <td>東京都</td>\n",
              "      <td>練馬区</td>\n",
              "      <td>小竹町</td>\n",
              "    </tr>\n",
              "    <tr>\n",
              "      <th>9</th>\n",
              "      <td>羽沢一丁目</td>\n",
              "      <td>927</td>\n",
              "      <td>672</td>\n",
              "      <td>697</td>\n",
              "      <td>1369</td>\n",
              "      <td>東京都</td>\n",
              "      <td>練馬区</td>\n",
              "      <td>羽沢</td>\n",
              "    </tr>\n",
              "  </tbody>\n",
              "</table>\n",
              "</div>\n",
              "      <button class=\"colab-df-convert\" onclick=\"convertToInteractive('df-adea90a4-aa9d-4c73-85c2-54c92a3d55f9')\"\n",
              "              title=\"Convert this dataframe to an interactive table.\"\n",
              "              style=\"display:none;\">\n",
              "        \n",
              "  <svg xmlns=\"http://www.w3.org/2000/svg\" height=\"24px\"viewBox=\"0 0 24 24\"\n",
              "       width=\"24px\">\n",
              "    <path d=\"M0 0h24v24H0V0z\" fill=\"none\"/>\n",
              "    <path d=\"M18.56 5.44l.94 2.06.94-2.06 2.06-.94-2.06-.94-.94-2.06-.94 2.06-2.06.94zm-11 1L8.5 8.5l.94-2.06 2.06-.94-2.06-.94L8.5 2.5l-.94 2.06-2.06.94zm10 10l.94 2.06.94-2.06 2.06-.94-2.06-.94-.94-2.06-.94 2.06-2.06.94z\"/><path d=\"M17.41 7.96l-1.37-1.37c-.4-.4-.92-.59-1.43-.59-.52 0-1.04.2-1.43.59L10.3 9.45l-7.72 7.72c-.78.78-.78 2.05 0 2.83L4 21.41c.39.39.9.59 1.41.59.51 0 1.02-.2 1.41-.59l7.78-7.78 2.81-2.81c.8-.78.8-2.07 0-2.86zM5.41 20L4 18.59l7.72-7.72 1.47 1.35L5.41 20z\"/>\n",
              "  </svg>\n",
              "      </button>\n",
              "      \n",
              "  <style>\n",
              "    .colab-df-container {\n",
              "      display:flex;\n",
              "      flex-wrap:wrap;\n",
              "      gap: 12px;\n",
              "    }\n",
              "\n",
              "    .colab-df-convert {\n",
              "      background-color: #E8F0FE;\n",
              "      border: none;\n",
              "      border-radius: 50%;\n",
              "      cursor: pointer;\n",
              "      display: none;\n",
              "      fill: #1967D2;\n",
              "      height: 32px;\n",
              "      padding: 0 0 0 0;\n",
              "      width: 32px;\n",
              "    }\n",
              "\n",
              "    .colab-df-convert:hover {\n",
              "      background-color: #E2EBFA;\n",
              "      box-shadow: 0px 1px 2px rgba(60, 64, 67, 0.3), 0px 1px 3px 1px rgba(60, 64, 67, 0.15);\n",
              "      fill: #174EA6;\n",
              "    }\n",
              "\n",
              "    [theme=dark] .colab-df-convert {\n",
              "      background-color: #3B4455;\n",
              "      fill: #D2E3FC;\n",
              "    }\n",
              "\n",
              "    [theme=dark] .colab-df-convert:hover {\n",
              "      background-color: #434B5C;\n",
              "      box-shadow: 0px 1px 3px 1px rgba(0, 0, 0, 0.15);\n",
              "      filter: drop-shadow(0px 1px 2px rgba(0, 0, 0, 0.3));\n",
              "      fill: #FFFFFF;\n",
              "    }\n",
              "  </style>\n",
              "\n",
              "      <script>\n",
              "        const buttonEl =\n",
              "          document.querySelector('#df-adea90a4-aa9d-4c73-85c2-54c92a3d55f9 button.colab-df-convert');\n",
              "        buttonEl.style.display =\n",
              "          google.colab.kernel.accessAllowed ? 'block' : 'none';\n",
              "\n",
              "        async function convertToInteractive(key) {\n",
              "          const element = document.querySelector('#df-adea90a4-aa9d-4c73-85c2-54c92a3d55f9');\n",
              "          const dataTable =\n",
              "            await google.colab.kernel.invokeFunction('convertToInteractive',\n",
              "                                                     [key], {});\n",
              "          if (!dataTable) return;\n",
              "\n",
              "          const docLinkHtml = 'Like what you see? Visit the ' +\n",
              "            '<a target=\"_blank\" href=https://colab.research.google.com/notebooks/data_table.ipynb>data table notebook</a>'\n",
              "            + ' to learn more about interactive tables.';\n",
              "          element.innerHTML = '';\n",
              "          dataTable['output_type'] = 'display_data';\n",
              "          await google.colab.output.renderOutput(dataTable, element);\n",
              "          const docLink = document.createElement('div');\n",
              "          docLink.innerHTML = docLinkHtml;\n",
              "          element.appendChild(docLink);\n",
              "        }\n",
              "      </script>\n",
              "    </div>\n",
              "  </div>\n",
              "  "
            ]
          },
          "metadata": {},
          "execution_count": 13
        }
      ]
    },
    {
      "cell_type": "markdown",
      "source": [
        "### 台東区"
      ],
      "metadata": {
        "id": "DKqaIwokNJIq"
      }
    },
    {
      "cell_type": "code",
      "source": [
        "taito_master_url = 'https://www.city.taito.lg.jp/kusei/shokai/tokei/setai/setaisu/r04chocho.files/Z_cho0408.csv'\n",
        "df_taito_master = get_data_csv_url(taito_master_url, 'shift-jis')\n",
        "df_taito_master = df_taito_master[df_taito_master['町名'] != '総数'].rename(columns={'町名': '町丁目'})\n",
        "add_pref_district(df_taito_master, '台東区', True)\n",
        "df_taito_master['人口男'] = df_taito_master['人口　男　日本人'].str.replace(',', '').astype(int) + df_taito_master['人口　男　外国人'].str.replace(',', '').astype(int)\n",
        "df_taito_master['人口女'] = df_taito_master['人口　女　日本人'].str.replace(',', '').astype(int) + df_taito_master['人口　女　外国人'].str.replace(',', '').astype(int)\n",
        "df_taito_master['世帯数'] = df_taito_master['世帯数　計'].str.replace(',', '').astype(int)\n",
        "df_taito_master['人口合計'] = df_taito_master['人口　男女計　計'].str.replace(',', '').astype(int)\n",
        "df_taito_master = df_taito_master[['町丁目', '町名', '都道府県', '市区町村', '世帯数', '人口男', '人口女', '人口合計']]\n",
        "print(df_taito_master.shape)"
      ],
      "metadata": {
        "colab": {
          "base_uri": "https://localhost:8080/"
        },
        "id": "GZfTWB-rNGkc",
        "outputId": "55d842a7-cb01-4d76-d8a0-1bbf72864660"
      },
      "execution_count": 14,
      "outputs": [
        {
          "output_type": "stream",
          "name": "stdout",
          "text": [
            "(108, 8)\n"
          ]
        }
      ]
    },
    {
      "cell_type": "code",
      "source": [
        "df_taito_master.head()"
      ],
      "metadata": {
        "colab": {
          "base_uri": "https://localhost:8080/",
          "height": 206
        },
        "id": "-N2D6B2TNKY4",
        "outputId": "0590a629-2644-477c-a8ec-dbd4c98c4556"
      },
      "execution_count": 15,
      "outputs": [
        {
          "output_type": "execute_result",
          "data": {
            "text/plain": [
              "     町丁目  町名 都道府県 市区町村   世帯数   人口男   人口女  人口合計\n",
              "1  台東一丁目  台東  東京都  台東区  1478  1291   960  2251\n",
              "2  台東二丁目  台東  東京都  台東区  1544  1245  1112  2357\n",
              "3  台東三丁目  台東  東京都  台東区  1887  1495  1441  2936\n",
              "4  台東四丁目  台東  東京都  台東区  1036   860   765  1625\n",
              "5  柳橋一丁目  柳橋  東京都  台東区   925   731   652  1383"
            ],
            "text/html": [
              "\n",
              "  <div id=\"df-58e5762e-a356-4fdc-8ee3-a1ba290b43e0\">\n",
              "    <div class=\"colab-df-container\">\n",
              "      <div>\n",
              "<style scoped>\n",
              "    .dataframe tbody tr th:only-of-type {\n",
              "        vertical-align: middle;\n",
              "    }\n",
              "\n",
              "    .dataframe tbody tr th {\n",
              "        vertical-align: top;\n",
              "    }\n",
              "\n",
              "    .dataframe thead th {\n",
              "        text-align: right;\n",
              "    }\n",
              "</style>\n",
              "<table border=\"1\" class=\"dataframe\">\n",
              "  <thead>\n",
              "    <tr style=\"text-align: right;\">\n",
              "      <th></th>\n",
              "      <th>町丁目</th>\n",
              "      <th>町名</th>\n",
              "      <th>都道府県</th>\n",
              "      <th>市区町村</th>\n",
              "      <th>世帯数</th>\n",
              "      <th>人口男</th>\n",
              "      <th>人口女</th>\n",
              "      <th>人口合計</th>\n",
              "    </tr>\n",
              "  </thead>\n",
              "  <tbody>\n",
              "    <tr>\n",
              "      <th>1</th>\n",
              "      <td>台東一丁目</td>\n",
              "      <td>台東</td>\n",
              "      <td>東京都</td>\n",
              "      <td>台東区</td>\n",
              "      <td>1478</td>\n",
              "      <td>1291</td>\n",
              "      <td>960</td>\n",
              "      <td>2251</td>\n",
              "    </tr>\n",
              "    <tr>\n",
              "      <th>2</th>\n",
              "      <td>台東二丁目</td>\n",
              "      <td>台東</td>\n",
              "      <td>東京都</td>\n",
              "      <td>台東区</td>\n",
              "      <td>1544</td>\n",
              "      <td>1245</td>\n",
              "      <td>1112</td>\n",
              "      <td>2357</td>\n",
              "    </tr>\n",
              "    <tr>\n",
              "      <th>3</th>\n",
              "      <td>台東三丁目</td>\n",
              "      <td>台東</td>\n",
              "      <td>東京都</td>\n",
              "      <td>台東区</td>\n",
              "      <td>1887</td>\n",
              "      <td>1495</td>\n",
              "      <td>1441</td>\n",
              "      <td>2936</td>\n",
              "    </tr>\n",
              "    <tr>\n",
              "      <th>4</th>\n",
              "      <td>台東四丁目</td>\n",
              "      <td>台東</td>\n",
              "      <td>東京都</td>\n",
              "      <td>台東区</td>\n",
              "      <td>1036</td>\n",
              "      <td>860</td>\n",
              "      <td>765</td>\n",
              "      <td>1625</td>\n",
              "    </tr>\n",
              "    <tr>\n",
              "      <th>5</th>\n",
              "      <td>柳橋一丁目</td>\n",
              "      <td>柳橋</td>\n",
              "      <td>東京都</td>\n",
              "      <td>台東区</td>\n",
              "      <td>925</td>\n",
              "      <td>731</td>\n",
              "      <td>652</td>\n",
              "      <td>1383</td>\n",
              "    </tr>\n",
              "  </tbody>\n",
              "</table>\n",
              "</div>\n",
              "      <button class=\"colab-df-convert\" onclick=\"convertToInteractive('df-58e5762e-a356-4fdc-8ee3-a1ba290b43e0')\"\n",
              "              title=\"Convert this dataframe to an interactive table.\"\n",
              "              style=\"display:none;\">\n",
              "        \n",
              "  <svg xmlns=\"http://www.w3.org/2000/svg\" height=\"24px\"viewBox=\"0 0 24 24\"\n",
              "       width=\"24px\">\n",
              "    <path d=\"M0 0h24v24H0V0z\" fill=\"none\"/>\n",
              "    <path d=\"M18.56 5.44l.94 2.06.94-2.06 2.06-.94-2.06-.94-.94-2.06-.94 2.06-2.06.94zm-11 1L8.5 8.5l.94-2.06 2.06-.94-2.06-.94L8.5 2.5l-.94 2.06-2.06.94zm10 10l.94 2.06.94-2.06 2.06-.94-2.06-.94-.94-2.06-.94 2.06-2.06.94z\"/><path d=\"M17.41 7.96l-1.37-1.37c-.4-.4-.92-.59-1.43-.59-.52 0-1.04.2-1.43.59L10.3 9.45l-7.72 7.72c-.78.78-.78 2.05 0 2.83L4 21.41c.39.39.9.59 1.41.59.51 0 1.02-.2 1.41-.59l7.78-7.78 2.81-2.81c.8-.78.8-2.07 0-2.86zM5.41 20L4 18.59l7.72-7.72 1.47 1.35L5.41 20z\"/>\n",
              "  </svg>\n",
              "      </button>\n",
              "      \n",
              "  <style>\n",
              "    .colab-df-container {\n",
              "      display:flex;\n",
              "      flex-wrap:wrap;\n",
              "      gap: 12px;\n",
              "    }\n",
              "\n",
              "    .colab-df-convert {\n",
              "      background-color: #E8F0FE;\n",
              "      border: none;\n",
              "      border-radius: 50%;\n",
              "      cursor: pointer;\n",
              "      display: none;\n",
              "      fill: #1967D2;\n",
              "      height: 32px;\n",
              "      padding: 0 0 0 0;\n",
              "      width: 32px;\n",
              "    }\n",
              "\n",
              "    .colab-df-convert:hover {\n",
              "      background-color: #E2EBFA;\n",
              "      box-shadow: 0px 1px 2px rgba(60, 64, 67, 0.3), 0px 1px 3px 1px rgba(60, 64, 67, 0.15);\n",
              "      fill: #174EA6;\n",
              "    }\n",
              "\n",
              "    [theme=dark] .colab-df-convert {\n",
              "      background-color: #3B4455;\n",
              "      fill: #D2E3FC;\n",
              "    }\n",
              "\n",
              "    [theme=dark] .colab-df-convert:hover {\n",
              "      background-color: #434B5C;\n",
              "      box-shadow: 0px 1px 3px 1px rgba(0, 0, 0, 0.15);\n",
              "      filter: drop-shadow(0px 1px 2px rgba(0, 0, 0, 0.3));\n",
              "      fill: #FFFFFF;\n",
              "    }\n",
              "  </style>\n",
              "\n",
              "      <script>\n",
              "        const buttonEl =\n",
              "          document.querySelector('#df-58e5762e-a356-4fdc-8ee3-a1ba290b43e0 button.colab-df-convert');\n",
              "        buttonEl.style.display =\n",
              "          google.colab.kernel.accessAllowed ? 'block' : 'none';\n",
              "\n",
              "        async function convertToInteractive(key) {\n",
              "          const element = document.querySelector('#df-58e5762e-a356-4fdc-8ee3-a1ba290b43e0');\n",
              "          const dataTable =\n",
              "            await google.colab.kernel.invokeFunction('convertToInteractive',\n",
              "                                                     [key], {});\n",
              "          if (!dataTable) return;\n",
              "\n",
              "          const docLinkHtml = 'Like what you see? Visit the ' +\n",
              "            '<a target=\"_blank\" href=https://colab.research.google.com/notebooks/data_table.ipynb>data table notebook</a>'\n",
              "            + ' to learn more about interactive tables.';\n",
              "          element.innerHTML = '';\n",
              "          dataTable['output_type'] = 'display_data';\n",
              "          await google.colab.output.renderOutput(dataTable, element);\n",
              "          const docLink = document.createElement('div');\n",
              "          docLink.innerHTML = docLinkHtml;\n",
              "          element.appendChild(docLink);\n",
              "        }\n",
              "      </script>\n",
              "    </div>\n",
              "  </div>\n",
              "  "
            ]
          },
          "metadata": {},
          "execution_count": 15
        }
      ]
    },
    {
      "cell_type": "markdown",
      "source": [
        "### 人口マスターデータ"
      ],
      "metadata": {
        "id": "pIebu93VNPlu"
      }
    },
    {
      "cell_type": "code",
      "source": [
        "df_tokyo_district_master = pd.concat([\n",
        "    df_minato_master,\n",
        "    df_sumida_master,\n",
        "    df_nerima_master,\n",
        "    df_taito_master,\n",
        "]).reset_index(drop=True)\n",
        "print(df_tokyo_district_master.shape)"
      ],
      "metadata": {
        "colab": {
          "base_uri": "https://localhost:8080/"
        },
        "id": "wRLpr2ITNMhM",
        "outputId": "3b929dac-d0aa-4644-edc6-b2e17cd5059d"
      },
      "execution_count": 16,
      "outputs": [
        {
          "output_type": "stream",
          "name": "stdout",
          "text": [
            "(527, 8)\n"
          ]
        }
      ]
    },
    {
      "cell_type": "code",
      "source": [
        "%%time\n",
        "df_tokyo_district_master = add_lat_lon(df_tokyo_district_master)"
      ],
      "metadata": {
        "colab": {
          "base_uri": "https://localhost:8080/"
        },
        "id": "ZLXKQP0KNT7O",
        "outputId": "353e0c63-32d9-4053-f730-dd8944212b5b"
      },
      "execution_count": 18,
      "outputs": [
        {
          "output_type": "stream",
          "name": "stdout",
          "text": [
            "218 墨田区 錦糸三丁目\n",
            "CPU times: user 8.38 s, sys: 590 ms, total: 8.97 s\n",
            "Wall time: 4min 28s\n"
          ]
        }
      ]
    },
    {
      "cell_type": "code",
      "source": [
        "df_tokyo_district_master.head()"
      ],
      "metadata": {
        "colab": {
          "base_uri": "https://localhost:8080/",
          "height": 206
        },
        "id": "Ir0N_6chNiRi",
        "outputId": "647f609f-f580-4a93-b7c5-af50ded51dc4"
      },
      "execution_count": 22,
      "outputs": [
        {
          "output_type": "execute_result",
          "data": {
            "text/plain": [
              "     町丁目     世帯数     人口男     人口女    人口合計 都道府県 市区町村  町名         緯度          経度\n",
              "0  三田一丁目  2251.0  1809.0  2166.0  3975.0  東京都   港区  三田  35.653750  139.741676\n",
              "1  三田三丁目  1086.0   798.0   878.0  1676.0  東京都   港区  三田  35.643955  139.743205\n",
              "2  三田二丁目  2404.0  2022.0  2481.0  4503.0  東京都   港区  三田  35.649845  139.741681\n",
              "3  三田五丁目  3617.0  2930.0  3629.0  6559.0  東京都   港区  三田  35.646272  139.738259\n",
              "4  三田四丁目  2017.0  1606.0  1959.0  3565.0  東京都   港区  三田  35.643942  139.739434"
            ],
            "text/html": [
              "\n",
              "  <div id=\"df-6048d50e-6c83-4f43-9d1e-2ee1e5d08f73\">\n",
              "    <div class=\"colab-df-container\">\n",
              "      <div>\n",
              "<style scoped>\n",
              "    .dataframe tbody tr th:only-of-type {\n",
              "        vertical-align: middle;\n",
              "    }\n",
              "\n",
              "    .dataframe tbody tr th {\n",
              "        vertical-align: top;\n",
              "    }\n",
              "\n",
              "    .dataframe thead th {\n",
              "        text-align: right;\n",
              "    }\n",
              "</style>\n",
              "<table border=\"1\" class=\"dataframe\">\n",
              "  <thead>\n",
              "    <tr style=\"text-align: right;\">\n",
              "      <th></th>\n",
              "      <th>町丁目</th>\n",
              "      <th>世帯数</th>\n",
              "      <th>人口男</th>\n",
              "      <th>人口女</th>\n",
              "      <th>人口合計</th>\n",
              "      <th>都道府県</th>\n",
              "      <th>市区町村</th>\n",
              "      <th>町名</th>\n",
              "      <th>緯度</th>\n",
              "      <th>経度</th>\n",
              "    </tr>\n",
              "  </thead>\n",
              "  <tbody>\n",
              "    <tr>\n",
              "      <th>0</th>\n",
              "      <td>三田一丁目</td>\n",
              "      <td>2251.0</td>\n",
              "      <td>1809.0</td>\n",
              "      <td>2166.0</td>\n",
              "      <td>3975.0</td>\n",
              "      <td>東京都</td>\n",
              "      <td>港区</td>\n",
              "      <td>三田</td>\n",
              "      <td>35.653750</td>\n",
              "      <td>139.741676</td>\n",
              "    </tr>\n",
              "    <tr>\n",
              "      <th>1</th>\n",
              "      <td>三田三丁目</td>\n",
              "      <td>1086.0</td>\n",
              "      <td>798.0</td>\n",
              "      <td>878.0</td>\n",
              "      <td>1676.0</td>\n",
              "      <td>東京都</td>\n",
              "      <td>港区</td>\n",
              "      <td>三田</td>\n",
              "      <td>35.643955</td>\n",
              "      <td>139.743205</td>\n",
              "    </tr>\n",
              "    <tr>\n",
              "      <th>2</th>\n",
              "      <td>三田二丁目</td>\n",
              "      <td>2404.0</td>\n",
              "      <td>2022.0</td>\n",
              "      <td>2481.0</td>\n",
              "      <td>4503.0</td>\n",
              "      <td>東京都</td>\n",
              "      <td>港区</td>\n",
              "      <td>三田</td>\n",
              "      <td>35.649845</td>\n",
              "      <td>139.741681</td>\n",
              "    </tr>\n",
              "    <tr>\n",
              "      <th>3</th>\n",
              "      <td>三田五丁目</td>\n",
              "      <td>3617.0</td>\n",
              "      <td>2930.0</td>\n",
              "      <td>3629.0</td>\n",
              "      <td>6559.0</td>\n",
              "      <td>東京都</td>\n",
              "      <td>港区</td>\n",
              "      <td>三田</td>\n",
              "      <td>35.646272</td>\n",
              "      <td>139.738259</td>\n",
              "    </tr>\n",
              "    <tr>\n",
              "      <th>4</th>\n",
              "      <td>三田四丁目</td>\n",
              "      <td>2017.0</td>\n",
              "      <td>1606.0</td>\n",
              "      <td>1959.0</td>\n",
              "      <td>3565.0</td>\n",
              "      <td>東京都</td>\n",
              "      <td>港区</td>\n",
              "      <td>三田</td>\n",
              "      <td>35.643942</td>\n",
              "      <td>139.739434</td>\n",
              "    </tr>\n",
              "  </tbody>\n",
              "</table>\n",
              "</div>\n",
              "      <button class=\"colab-df-convert\" onclick=\"convertToInteractive('df-6048d50e-6c83-4f43-9d1e-2ee1e5d08f73')\"\n",
              "              title=\"Convert this dataframe to an interactive table.\"\n",
              "              style=\"display:none;\">\n",
              "        \n",
              "  <svg xmlns=\"http://www.w3.org/2000/svg\" height=\"24px\"viewBox=\"0 0 24 24\"\n",
              "       width=\"24px\">\n",
              "    <path d=\"M0 0h24v24H0V0z\" fill=\"none\"/>\n",
              "    <path d=\"M18.56 5.44l.94 2.06.94-2.06 2.06-.94-2.06-.94-.94-2.06-.94 2.06-2.06.94zm-11 1L8.5 8.5l.94-2.06 2.06-.94-2.06-.94L8.5 2.5l-.94 2.06-2.06.94zm10 10l.94 2.06.94-2.06 2.06-.94-2.06-.94-.94-2.06-.94 2.06-2.06.94z\"/><path d=\"M17.41 7.96l-1.37-1.37c-.4-.4-.92-.59-1.43-.59-.52 0-1.04.2-1.43.59L10.3 9.45l-7.72 7.72c-.78.78-.78 2.05 0 2.83L4 21.41c.39.39.9.59 1.41.59.51 0 1.02-.2 1.41-.59l7.78-7.78 2.81-2.81c.8-.78.8-2.07 0-2.86zM5.41 20L4 18.59l7.72-7.72 1.47 1.35L5.41 20z\"/>\n",
              "  </svg>\n",
              "      </button>\n",
              "      \n",
              "  <style>\n",
              "    .colab-df-container {\n",
              "      display:flex;\n",
              "      flex-wrap:wrap;\n",
              "      gap: 12px;\n",
              "    }\n",
              "\n",
              "    .colab-df-convert {\n",
              "      background-color: #E8F0FE;\n",
              "      border: none;\n",
              "      border-radius: 50%;\n",
              "      cursor: pointer;\n",
              "      display: none;\n",
              "      fill: #1967D2;\n",
              "      height: 32px;\n",
              "      padding: 0 0 0 0;\n",
              "      width: 32px;\n",
              "    }\n",
              "\n",
              "    .colab-df-convert:hover {\n",
              "      background-color: #E2EBFA;\n",
              "      box-shadow: 0px 1px 2px rgba(60, 64, 67, 0.3), 0px 1px 3px 1px rgba(60, 64, 67, 0.15);\n",
              "      fill: #174EA6;\n",
              "    }\n",
              "\n",
              "    [theme=dark] .colab-df-convert {\n",
              "      background-color: #3B4455;\n",
              "      fill: #D2E3FC;\n",
              "    }\n",
              "\n",
              "    [theme=dark] .colab-df-convert:hover {\n",
              "      background-color: #434B5C;\n",
              "      box-shadow: 0px 1px 3px 1px rgba(0, 0, 0, 0.15);\n",
              "      filter: drop-shadow(0px 1px 2px rgba(0, 0, 0, 0.3));\n",
              "      fill: #FFFFFF;\n",
              "    }\n",
              "  </style>\n",
              "\n",
              "      <script>\n",
              "        const buttonEl =\n",
              "          document.querySelector('#df-6048d50e-6c83-4f43-9d1e-2ee1e5d08f73 button.colab-df-convert');\n",
              "        buttonEl.style.display =\n",
              "          google.colab.kernel.accessAllowed ? 'block' : 'none';\n",
              "\n",
              "        async function convertToInteractive(key) {\n",
              "          const element = document.querySelector('#df-6048d50e-6c83-4f43-9d1e-2ee1e5d08f73');\n",
              "          const dataTable =\n",
              "            await google.colab.kernel.invokeFunction('convertToInteractive',\n",
              "                                                     [key], {});\n",
              "          if (!dataTable) return;\n",
              "\n",
              "          const docLinkHtml = 'Like what you see? Visit the ' +\n",
              "            '<a target=\"_blank\" href=https://colab.research.google.com/notebooks/data_table.ipynb>data table notebook</a>'\n",
              "            + ' to learn more about interactive tables.';\n",
              "          element.innerHTML = '';\n",
              "          dataTable['output_type'] = 'display_data';\n",
              "          await google.colab.output.renderOutput(dataTable, element);\n",
              "          const docLink = document.createElement('div');\n",
              "          docLink.innerHTML = docLinkHtml;\n",
              "          element.appendChild(docLink);\n",
              "        }\n",
              "      </script>\n",
              "    </div>\n",
              "  </div>\n",
              "  "
            ]
          },
          "metadata": {},
          "execution_count": 22
        }
      ]
    },
    {
      "cell_type": "code",
      "source": [
        "df_tokyo_district_master.to_csv(os.path.join(DIR_NAME, 'population_master.csv'), index=False)"
      ],
      "metadata": {
        "id": "csJLQaRpOKz9"
      },
      "execution_count": 23,
      "outputs": []
    },
    {
      "cell_type": "code",
      "source": [],
      "metadata": {
        "id": "pWtFXyFCOyhn"
      },
      "execution_count": null,
      "outputs": []
    }
  ]
}