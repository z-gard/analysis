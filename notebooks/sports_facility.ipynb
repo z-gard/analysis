{
  "nbformat": 4,
  "nbformat_minor": 0,
  "metadata": {
    "colab": {
      "provenance": [],
      "authorship_tag": "ABX9TyNYFrxeW71Ibpl6B1t85bQP",
      "include_colab_link": true
    },
    "kernelspec": {
      "name": "python3",
      "display_name": "Python 3"
    },
    "language_info": {
      "name": "python"
    }
  },
  "cells": [
    {
      "cell_type": "markdown",
      "metadata": {
        "id": "view-in-github",
        "colab_type": "text"
      },
      "source": [
        "<a href=\"https://colab.research.google.com/github/z-gard/analysis/blob/main/notebooks/sports_facility.ipynb\" target=\"_parent\"><img src=\"https://colab.research.google.com/assets/colab-badge.svg\" alt=\"Open In Colab\"/></a>"
      ]
    },
    {
      "cell_type": "markdown",
      "source": [
        "# スポーツ施設(体育館、プール、運動場)\n",
        "- input:\n",
        "    - 区ごとの運動施設の位置情報\n",
        "- output:\n",
        "    - exercise_score.csv\n",
        "        - 体育館スコア\n",
        "        - プールスコア\n",
        "        - 運動場スコア"
      ],
      "metadata": {
        "id": "zBy6ZmZPOhfq"
      }
    },
    {
      "cell_type": "code",
      "execution_count": 1,
      "metadata": {
        "id": "cDOcy7pFOdsC"
      },
      "outputs": [],
      "source": [
        "!pip install -q geocoder\n",
        "!pip install -q --upgrade xlrd\n",
        "!pip install -q japanize-matplotlib"
      ]
    },
    {
      "cell_type": "code",
      "source": [
        "from google.colab import drive\n",
        "drive.mount('/content/drive')"
      ],
      "metadata": {
        "colab": {
          "base_uri": "https://localhost:8080/"
        },
        "id": "rYTHrEAdOlBC",
        "outputId": "f0b8554d-aa11-45b4-a336-b33532725894"
      },
      "execution_count": 2,
      "outputs": [
        {
          "output_type": "stream",
          "name": "stdout",
          "text": [
            "Drive already mounted at /content/drive; to attempt to forcibly remount, call drive.mount(\"/content/drive\", force_remount=True).\n"
          ]
        }
      ]
    },
    {
      "cell_type": "code",
      "source": [
        "DIR_NAME = '/content/drive/MyDrive/z-gard/data'"
      ],
      "metadata": {
        "id": "mKIhoL-BOtAE"
      },
      "execution_count": 3,
      "outputs": []
    },
    {
      "cell_type": "code",
      "source": [
        "output_score_file = 'sports_score.csv'\n",
        "output_master_file = 'sports_master.csv'"
      ],
      "metadata": {
        "id": "Xfa9PuQkSYdq"
      },
      "execution_count": 4,
      "outputs": []
    },
    {
      "cell_type": "code",
      "source": [
        "import os\n",
        "import requests\n",
        "import json\n",
        "import pandas as pd\n",
        "from urllib.parse import urlparse\n",
        "import geocoder\n",
        "import math\n",
        "import io\n",
        "import re\n",
        "import matplotlib.pyplot as plt\n",
        "import japanize_matplotlib\n",
        "import seaborn as sns\n",
        "\n",
        "pd.set_option('display.max_columns', 50)\n",
        "pd.set_option('display.max_rows', 100)"
      ],
      "metadata": {
        "id": "2xgbJOobOvsP"
      },
      "execution_count": 5,
      "outputs": []
    },
    {
      "cell_type": "code",
      "source": [
        "def get_data_csv_url(url, encoding='utf-8', excel=False):\n",
        "    res = requests.get(url)\n",
        "    if res.status_code == 200:\n",
        "        if not excel:\n",
        "            return pd.read_csv(io.BytesIO(res.content), encoding=encoding)\n",
        "        else:\n",
        "            return pd.read_excel(io.BytesIO(res.content))\n",
        "    else:\n",
        "        raise Exception(f'status_code: {res.status_code} ({url})')\n",
        "\n",
        "def number_to_kanji(str):\n",
        "    return str.translate(str.maketrans({\n",
        "        '１':'一', '２':'二', '３':'三', '４':'四', '５':'五', '６':'六', '７':'七', '８':'八', '９':'九',\n",
        "        '1':'一', '2':'二', '3':'三', '4':'四', '5':'五', '6':'六', '7':'七', '8':'八', '9':'九', '0':'十', \n",
        "    }))\n",
        "\n",
        "# 緯度経度取得\n",
        "def add_lat_lon(df_master):\n",
        "    lats = []\n",
        "    lons = []\n",
        "    for i, row in df_master.iterrows():\n",
        "        chocho = number_to_kanji(row['町丁目'])\n",
        "        ret = geocoder.osm('東京都' + row['市区町村名'] + chocho, timeout=5)\n",
        "        if not ret.ok:\n",
        "            print(i, row['市区町村名'], chocho)\n",
        "        lats.append(ret.lat)\n",
        "        lons.append(ret.lng)\n",
        "    df_copy = df_master.copy()\n",
        "    df_copy['緯度'] = lats\n",
        "    df_copy['経度'] = lons\n",
        "    return df_copy\n",
        "\n",
        "# 距離計算\n",
        "def get_distance(lat1, lon1, lat2, lon2):\n",
        "    _lat1 = lat1 * math.pi / 180\n",
        "    _lon1 = lon1 * math.pi / 180\n",
        "    _lat2 = lat2 * math.pi / 180\n",
        "    _lon2 = lon2 * math.pi / 180\n",
        "    _tmp = math.cos(_lat1) * math.cos(_lat2) * math.cos(_lon2 - _lon1) + math.sin(_lat1) * math.sin(_lat2)\n",
        "    _tmp = 1 if _tmp > 1 else -1 if _tmp < -1 else _tmp\n",
        "    return 6371 * math.acos(_tmp)\n",
        "\n",
        "# 最寄り施設までの距離\n",
        "def get_value_of_nearest_facility(df_master, df_facility, category, method='min', param=3):\n",
        "    _df_cat = df_facility[df_facility['施設分類'] == category].copy()\n",
        "    cat_values = []\n",
        "    for i, row in df_master.iterrows():\n",
        "        dist = _df_cat.apply(lambda x: get_distance(x['緯度'], x['経度'], row['緯度'], row['経度']), axis=1)\n",
        "        val = None\n",
        "        if method == 'min':\n",
        "            # 最小の距離\n",
        "            val = dist.min()\n",
        "        elif method == 'count':\n",
        "            # {param}km以内の施設の数をカウント\n",
        "            val = len(dist[dist <= param])\n",
        "        elif method == 'mean':\n",
        "            # 近い{param}件の距離の平均\n",
        "            val = dist.sort_values()[:param].mean()\n",
        "        cat_values.append(val)\n",
        "    return cat_values"
      ],
      "metadata": {
        "id": "Q9yoYFmNRk8e"
      },
      "execution_count": 6,
      "outputs": []
    },
    {
      "cell_type": "code",
      "source": [
        "def get_tokyo_ward_city(address):\n",
        "    _tmp = address.replace('東京都', '')\n",
        "    m = re.search('^.*?[区市]', _tmp)\n",
        "    cityname = m.group()\n",
        "    return cityname if len(cityname) < 6 else None\n",
        "\n",
        "def get_category_facility(name):\n",
        "    if re.search('.*公園$', name) is not None:\n",
        "        return '公園'\n",
        "    if re.search('.*緑地$', name) is not None:\n",
        "        return '公園'\n",
        "    if re.search('.*緑道$', name) is not None:\n",
        "        return '公園'\n",
        "    if re.search('.*庭園$', name) is not None:\n",
        "        return '公園'\n",
        "    if re.search('.*児童遊園$', name) is not None:\n",
        "        return '公園'\n",
        "    if re.search('.*図書館$', name) is not None:\n",
        "        return '図書館'\n",
        "    if re.search('.*美術館$', name) is not None:\n",
        "        return '文化施設'\n",
        "    if re.search('.*博物館$', name) is not None:\n",
        "        return '文化施設'\n",
        "    if re.search('.*会館$', name) is not None:\n",
        "        return '文化施設'\n",
        "    if re.search('.*劇場$', name) is not None:\n",
        "        return '文化施設'\n",
        "    if re.search('アーツ', name) is not None:\n",
        "        return '文化施設'\n",
        "    if re.search('.*協会$', name) is not None:\n",
        "        return '協会'\n",
        "    if re.search('(プール|スイム|スイミング)', name) is not None:\n",
        "        return 'プール'\n",
        "    if re.search('(運動場|球技場|体育場|野球場|競技場|運動広場|庭球場)', name) is not None:\n",
        "        return '運動場他'\n",
        "    if re.search('(サッカー|フットサル|テニス|ソフトボール|グラウンド|グランド)', name) is not None:\n",
        "        return '運動場他'\n",
        "    if re.search('(体育館|トレーニング|武道館)', name) is not None:\n",
        "        return '体育館'\n",
        "    if re.search('スポーツ', name) is not None:\n",
        "        return '運動場他'\n",
        "    return None"
      ],
      "metadata": {
        "id": "_-2eukImbwhJ"
      },
      "execution_count": 7,
      "outputs": []
    },
    {
      "cell_type": "code",
      "source": [
        "def change_type(df_data):\n",
        "    df_data['緯度'] = df_data['緯度'].astype(float)\n",
        "    df_data['経度'] = df_data['経度'].astype(float)"
      ],
      "metadata": {
        "id": "hhGXtuvYipKL"
      },
      "execution_count": 8,
      "outputs": []
    },
    {
      "cell_type": "code",
      "source": [
        "extract_columns = ['施設分類', '名称', '市区町村名', '所在地', '緯度', '経度']"
      ],
      "metadata": {
        "id": "IrPBUzhvReBs"
      },
      "execution_count": 9,
      "outputs": []
    },
    {
      "cell_type": "markdown",
      "source": [
        "## 0. 東京都"
      ],
      "metadata": {
        "id": "FTreyejMZ5fi"
      }
    },
    {
      "cell_type": "markdown",
      "source": [
        "## 1. 千代田区\n"
      ],
      "metadata": {
        "id": "ozc68hGVyKaT"
      }
    },
    {
      "cell_type": "markdown",
      "source": [
        "## 2. 中央区"
      ],
      "metadata": {
        "id": "Hy9QzRF1vJWT"
      }
    },
    {
      "cell_type": "markdown",
      "source": [
        "## 3. 港区\n",
        "- [スポーツ・健康増進施設・公衆浴場](https://catalog.data.metro.tokyo.lg.jp/dataset/t131032d0000000014/resource/84bb03cb-c38a-4381-b5bf-9d4d9ed5e889)"
      ],
      "metadata": {
        "id": "N29UjnUPRhG7"
      }
    },
    {
      "cell_type": "code",
      "source": [
        "minato_sports_url = 'https://opendata.city.minato.tokyo.jp/dataset/bb1f719a-ffbe-4c29-a936-de0bf6a2d179/resource/d2d0e539-a18c-4f96-a6aa-7cd9e6f0676f/download/minatokushisetsujoho_sports.csv'\n",
        "df_minato_sports = get_data_csv_url(minato_sports_url)\n",
        "print(df_minato_sports.shape)\n",
        "\n",
        "df_minato_sports['市区町村名'] = '港区'\n",
        "df_minato_sports['施設分類'] = df_minato_sports['ページタイトル'].apply(get_category_facility)\n",
        "df_minato_sports = df_minato_sports[\n",
        "    (df_minato_sports['施設分類'].isin(['体育館', '運動場他', 'プール']))\n",
        "].rename(columns={'ページタイトル':'名称'})[extract_columns].reset_index(drop=True)\n",
        "change_type(df_minato_sports)\n",
        "print(df_minato_sports.shape)"
      ],
      "metadata": {
        "colab": {
          "base_uri": "https://localhost:8080/"
        },
        "id": "bHdlGR4rRd_V",
        "outputId": "015c32d6-d28c-4978-b31e-16fe4771e052"
      },
      "execution_count": 10,
      "outputs": [
        {
          "output_type": "stream",
          "name": "stdout",
          "text": [
            "(18, 31)\n",
            "(14, 6)\n"
          ]
        }
      ]
    },
    {
      "cell_type": "code",
      "source": [
        "df_minato_sports.head()"
      ],
      "metadata": {
        "id": "UcM5pwkxYowq",
        "outputId": "b2554cf4-d763-4443-aa2a-419e98ccaaf8",
        "colab": {
          "base_uri": "https://localhost:8080/",
          "height": 206
        }
      },
      "execution_count": 11,
      "outputs": [
        {
          "output_type": "execute_result",
          "data": {
            "text/plain": [
              "   施設分類                    名称 市区町村名                         所在地         緯度  \\\n",
              "0   プール            港南小学校屋内プール    港区     港区港南四丁目3番28号　港区立港南小学校1階  35.629570   \n",
              "1   プール            高陵中学校屋内プール    港区  港区西麻布四丁目14番8号　港区立高陵中学校地下2階  35.657139   \n",
              "2  運動場他  芝浦南ふ頭公園運動広場（かいがんぱ～く）    港区               港区海岸三丁目33番20号  35.637322   \n",
              "3  運動場他            港区スポーツセンター    港区   港区芝浦一丁目16番1号　みなとパーク芝浦3～8階  35.646408   \n",
              "4  運動場他               埠頭少年野球場    港区               港区海岸三丁目14番34号  35.641684   \n",
              "\n",
              "           経度  \n",
              "0  139.749656  \n",
              "1  139.720463  \n",
              "2  139.759891  \n",
              "3  139.751501  \n",
              "4  139.755597  "
            ],
            "text/html": [
              "\n",
              "  <div id=\"df-643b2e9b-9106-4b9c-a2ff-d77ca69466ce\">\n",
              "    <div class=\"colab-df-container\">\n",
              "      <div>\n",
              "<style scoped>\n",
              "    .dataframe tbody tr th:only-of-type {\n",
              "        vertical-align: middle;\n",
              "    }\n",
              "\n",
              "    .dataframe tbody tr th {\n",
              "        vertical-align: top;\n",
              "    }\n",
              "\n",
              "    .dataframe thead th {\n",
              "        text-align: right;\n",
              "    }\n",
              "</style>\n",
              "<table border=\"1\" class=\"dataframe\">\n",
              "  <thead>\n",
              "    <tr style=\"text-align: right;\">\n",
              "      <th></th>\n",
              "      <th>施設分類</th>\n",
              "      <th>名称</th>\n",
              "      <th>市区町村名</th>\n",
              "      <th>所在地</th>\n",
              "      <th>緯度</th>\n",
              "      <th>経度</th>\n",
              "    </tr>\n",
              "  </thead>\n",
              "  <tbody>\n",
              "    <tr>\n",
              "      <th>0</th>\n",
              "      <td>プール</td>\n",
              "      <td>港南小学校屋内プール</td>\n",
              "      <td>港区</td>\n",
              "      <td>港区港南四丁目3番28号　港区立港南小学校1階</td>\n",
              "      <td>35.629570</td>\n",
              "      <td>139.749656</td>\n",
              "    </tr>\n",
              "    <tr>\n",
              "      <th>1</th>\n",
              "      <td>プール</td>\n",
              "      <td>高陵中学校屋内プール</td>\n",
              "      <td>港区</td>\n",
              "      <td>港区西麻布四丁目14番8号　港区立高陵中学校地下2階</td>\n",
              "      <td>35.657139</td>\n",
              "      <td>139.720463</td>\n",
              "    </tr>\n",
              "    <tr>\n",
              "      <th>2</th>\n",
              "      <td>運動場他</td>\n",
              "      <td>芝浦南ふ頭公園運動広場（かいがんぱ～く）</td>\n",
              "      <td>港区</td>\n",
              "      <td>港区海岸三丁目33番20号</td>\n",
              "      <td>35.637322</td>\n",
              "      <td>139.759891</td>\n",
              "    </tr>\n",
              "    <tr>\n",
              "      <th>3</th>\n",
              "      <td>運動場他</td>\n",
              "      <td>港区スポーツセンター</td>\n",
              "      <td>港区</td>\n",
              "      <td>港区芝浦一丁目16番1号　みなとパーク芝浦3～8階</td>\n",
              "      <td>35.646408</td>\n",
              "      <td>139.751501</td>\n",
              "    </tr>\n",
              "    <tr>\n",
              "      <th>4</th>\n",
              "      <td>運動場他</td>\n",
              "      <td>埠頭少年野球場</td>\n",
              "      <td>港区</td>\n",
              "      <td>港区海岸三丁目14番34号</td>\n",
              "      <td>35.641684</td>\n",
              "      <td>139.755597</td>\n",
              "    </tr>\n",
              "  </tbody>\n",
              "</table>\n",
              "</div>\n",
              "      <button class=\"colab-df-convert\" onclick=\"convertToInteractive('df-643b2e9b-9106-4b9c-a2ff-d77ca69466ce')\"\n",
              "              title=\"Convert this dataframe to an interactive table.\"\n",
              "              style=\"display:none;\">\n",
              "        \n",
              "  <svg xmlns=\"http://www.w3.org/2000/svg\" height=\"24px\"viewBox=\"0 0 24 24\"\n",
              "       width=\"24px\">\n",
              "    <path d=\"M0 0h24v24H0V0z\" fill=\"none\"/>\n",
              "    <path d=\"M18.56 5.44l.94 2.06.94-2.06 2.06-.94-2.06-.94-.94-2.06-.94 2.06-2.06.94zm-11 1L8.5 8.5l.94-2.06 2.06-.94-2.06-.94L8.5 2.5l-.94 2.06-2.06.94zm10 10l.94 2.06.94-2.06 2.06-.94-2.06-.94-.94-2.06-.94 2.06-2.06.94z\"/><path d=\"M17.41 7.96l-1.37-1.37c-.4-.4-.92-.59-1.43-.59-.52 0-1.04.2-1.43.59L10.3 9.45l-7.72 7.72c-.78.78-.78 2.05 0 2.83L4 21.41c.39.39.9.59 1.41.59.51 0 1.02-.2 1.41-.59l7.78-7.78 2.81-2.81c.8-.78.8-2.07 0-2.86zM5.41 20L4 18.59l7.72-7.72 1.47 1.35L5.41 20z\"/>\n",
              "  </svg>\n",
              "      </button>\n",
              "      \n",
              "  <style>\n",
              "    .colab-df-container {\n",
              "      display:flex;\n",
              "      flex-wrap:wrap;\n",
              "      gap: 12px;\n",
              "    }\n",
              "\n",
              "    .colab-df-convert {\n",
              "      background-color: #E8F0FE;\n",
              "      border: none;\n",
              "      border-radius: 50%;\n",
              "      cursor: pointer;\n",
              "      display: none;\n",
              "      fill: #1967D2;\n",
              "      height: 32px;\n",
              "      padding: 0 0 0 0;\n",
              "      width: 32px;\n",
              "    }\n",
              "\n",
              "    .colab-df-convert:hover {\n",
              "      background-color: #E2EBFA;\n",
              "      box-shadow: 0px 1px 2px rgba(60, 64, 67, 0.3), 0px 1px 3px 1px rgba(60, 64, 67, 0.15);\n",
              "      fill: #174EA6;\n",
              "    }\n",
              "\n",
              "    [theme=dark] .colab-df-convert {\n",
              "      background-color: #3B4455;\n",
              "      fill: #D2E3FC;\n",
              "    }\n",
              "\n",
              "    [theme=dark] .colab-df-convert:hover {\n",
              "      background-color: #434B5C;\n",
              "      box-shadow: 0px 1px 3px 1px rgba(0, 0, 0, 0.15);\n",
              "      filter: drop-shadow(0px 1px 2px rgba(0, 0, 0, 0.3));\n",
              "      fill: #FFFFFF;\n",
              "    }\n",
              "  </style>\n",
              "\n",
              "      <script>\n",
              "        const buttonEl =\n",
              "          document.querySelector('#df-643b2e9b-9106-4b9c-a2ff-d77ca69466ce button.colab-df-convert');\n",
              "        buttonEl.style.display =\n",
              "          google.colab.kernel.accessAllowed ? 'block' : 'none';\n",
              "\n",
              "        async function convertToInteractive(key) {\n",
              "          const element = document.querySelector('#df-643b2e9b-9106-4b9c-a2ff-d77ca69466ce');\n",
              "          const dataTable =\n",
              "            await google.colab.kernel.invokeFunction('convertToInteractive',\n",
              "                                                     [key], {});\n",
              "          if (!dataTable) return;\n",
              "\n",
              "          const docLinkHtml = 'Like what you see? Visit the ' +\n",
              "            '<a target=\"_blank\" href=https://colab.research.google.com/notebooks/data_table.ipynb>data table notebook</a>'\n",
              "            + ' to learn more about interactive tables.';\n",
              "          element.innerHTML = '';\n",
              "          dataTable['output_type'] = 'display_data';\n",
              "          await google.colab.output.renderOutput(dataTable, element);\n",
              "          const docLink = document.createElement('div');\n",
              "          docLink.innerHTML = docLinkHtml;\n",
              "          element.appendChild(docLink);\n",
              "        }\n",
              "      </script>\n",
              "    </div>\n",
              "  </div>\n",
              "  "
            ]
          },
          "metadata": {},
          "execution_count": 11
        }
      ]
    },
    {
      "cell_type": "markdown",
      "source": [
        "## 4. 新宿区\n"
      ],
      "metadata": {
        "id": "QEmpBhenyeVs"
      }
    },
    {
      "cell_type": "markdown",
      "source": [
        "## 5. 文京区\n",
        "- [文化・スポーツ施設](https://catalog.data.metro.tokyo.lg.jp/dataset/t131059d0304010001/resource/4fb225b9-c79c-47bc-bfe3-adec3f729906)"
      ],
      "metadata": {
        "id": "5XQHy3KkvpL6"
      }
    },
    {
      "cell_type": "code",
      "source": [
        "bunkyo_sports_url = 'https://www.city.bunkyo.lg.jp/library/opendata-bunkyo/03bunka-kankou-sports/01bunka-sports/bunka-sports.csv'\n",
        "df_bunkyo_sports = get_data_csv_url(bunkyo_sports_url, encoding='shift-jis')\n",
        "print(df_bunkyo_sports.shape)\n",
        "\n",
        "df_bunkyo_sports['市区町村名'] = '文京区'\n",
        "df_bunkyo_sports = df_bunkyo_sports[df_bunkyo_sports['カテゴリ'] == 'スポーツ施設'].reset_index(drop=True)\n",
        "df_bunkyo_sports['施設分類'] = df_bunkyo_sports['施設名'].apply(get_category_facility)\n",
        "df_bunkyo_sports = df_bunkyo_sports[\n",
        "    (df_bunkyo_sports['施設分類'].isin(['体育館', '運動場他', 'プール']))\n",
        "].rename(columns={'施設名':'名称', '住所':'所在地'})[extract_columns].reset_index(drop=True)\n",
        "change_type(df_bunkyo_sports)\n",
        "print(df_bunkyo_sports.shape)"
      ],
      "metadata": {
        "colab": {
          "base_uri": "https://localhost:8080/"
        },
        "id": "3FsxuB5L6yz_",
        "outputId": "b3dbc0a2-d68f-445d-aa3c-36ae069cbdff"
      },
      "execution_count": 12,
      "outputs": [
        {
          "output_type": "stream",
          "name": "stdout",
          "text": [
            "(15, 14)\n",
            "(7, 6)\n"
          ]
        }
      ]
    },
    {
      "cell_type": "code",
      "source": [
        "df_bunkyo_sports"
      ],
      "metadata": {
        "id": "zD6c_gWcSzFa",
        "outputId": "3c2f912b-c6fd-43bc-93ed-bc0d63de008e",
        "colab": {
          "base_uri": "https://localhost:8080/",
          "height": 269
        }
      },
      "execution_count": 13,
      "outputs": [
        {
          "output_type": "execute_result",
          "data": {
            "text/plain": [
              "   施設分類          名称 市区町村名                 所在地         緯度          経度\n",
              "0   体育館     文京総合体育館   文京区     東京都文京区本郷7丁目1番2号  35.708382  139.763180\n",
              "1  運動場他  文京スポーツセンター   文京区    東京都文京区大塚3丁目29番2号  35.720522  139.736420\n",
              "2   体育館   文京江戸川橋体育館   文京区    東京都文京区小日向1丁目7番4号  35.710603  139.735460\n",
              "3  運動場他     六義公園運動場   文京区  東京都文京区本駒込6丁目16番10号  35.731305  139.745763\n",
              "4  運動場他      小石川運動場   文京区    東京都文京区後楽1丁目8番23号  35.704965  139.746415\n",
              "5  運動場他   後楽公園少年野球場   文京区    東京都文京区後楽1丁目6番25号  35.706528  139.748556\n",
              "6  運動場他    竹早テニスコート   文京区    東京都文京区小石川5丁目9番1号  35.717161  139.739597"
            ],
            "text/html": [
              "\n",
              "  <div id=\"df-ec373b51-0f5d-41d0-b0e9-b26936313abb\">\n",
              "    <div class=\"colab-df-container\">\n",
              "      <div>\n",
              "<style scoped>\n",
              "    .dataframe tbody tr th:only-of-type {\n",
              "        vertical-align: middle;\n",
              "    }\n",
              "\n",
              "    .dataframe tbody tr th {\n",
              "        vertical-align: top;\n",
              "    }\n",
              "\n",
              "    .dataframe thead th {\n",
              "        text-align: right;\n",
              "    }\n",
              "</style>\n",
              "<table border=\"1\" class=\"dataframe\">\n",
              "  <thead>\n",
              "    <tr style=\"text-align: right;\">\n",
              "      <th></th>\n",
              "      <th>施設分類</th>\n",
              "      <th>名称</th>\n",
              "      <th>市区町村名</th>\n",
              "      <th>所在地</th>\n",
              "      <th>緯度</th>\n",
              "      <th>経度</th>\n",
              "    </tr>\n",
              "  </thead>\n",
              "  <tbody>\n",
              "    <tr>\n",
              "      <th>0</th>\n",
              "      <td>体育館</td>\n",
              "      <td>文京総合体育館</td>\n",
              "      <td>文京区</td>\n",
              "      <td>東京都文京区本郷7丁目1番2号</td>\n",
              "      <td>35.708382</td>\n",
              "      <td>139.763180</td>\n",
              "    </tr>\n",
              "    <tr>\n",
              "      <th>1</th>\n",
              "      <td>運動場他</td>\n",
              "      <td>文京スポーツセンター</td>\n",
              "      <td>文京区</td>\n",
              "      <td>東京都文京区大塚3丁目29番2号</td>\n",
              "      <td>35.720522</td>\n",
              "      <td>139.736420</td>\n",
              "    </tr>\n",
              "    <tr>\n",
              "      <th>2</th>\n",
              "      <td>体育館</td>\n",
              "      <td>文京江戸川橋体育館</td>\n",
              "      <td>文京区</td>\n",
              "      <td>東京都文京区小日向1丁目7番4号</td>\n",
              "      <td>35.710603</td>\n",
              "      <td>139.735460</td>\n",
              "    </tr>\n",
              "    <tr>\n",
              "      <th>3</th>\n",
              "      <td>運動場他</td>\n",
              "      <td>六義公園運動場</td>\n",
              "      <td>文京区</td>\n",
              "      <td>東京都文京区本駒込6丁目16番10号</td>\n",
              "      <td>35.731305</td>\n",
              "      <td>139.745763</td>\n",
              "    </tr>\n",
              "    <tr>\n",
              "      <th>4</th>\n",
              "      <td>運動場他</td>\n",
              "      <td>小石川運動場</td>\n",
              "      <td>文京区</td>\n",
              "      <td>東京都文京区後楽1丁目8番23号</td>\n",
              "      <td>35.704965</td>\n",
              "      <td>139.746415</td>\n",
              "    </tr>\n",
              "    <tr>\n",
              "      <th>5</th>\n",
              "      <td>運動場他</td>\n",
              "      <td>後楽公園少年野球場</td>\n",
              "      <td>文京区</td>\n",
              "      <td>東京都文京区後楽1丁目6番25号</td>\n",
              "      <td>35.706528</td>\n",
              "      <td>139.748556</td>\n",
              "    </tr>\n",
              "    <tr>\n",
              "      <th>6</th>\n",
              "      <td>運動場他</td>\n",
              "      <td>竹早テニスコート</td>\n",
              "      <td>文京区</td>\n",
              "      <td>東京都文京区小石川5丁目9番1号</td>\n",
              "      <td>35.717161</td>\n",
              "      <td>139.739597</td>\n",
              "    </tr>\n",
              "  </tbody>\n",
              "</table>\n",
              "</div>\n",
              "      <button class=\"colab-df-convert\" onclick=\"convertToInteractive('df-ec373b51-0f5d-41d0-b0e9-b26936313abb')\"\n",
              "              title=\"Convert this dataframe to an interactive table.\"\n",
              "              style=\"display:none;\">\n",
              "        \n",
              "  <svg xmlns=\"http://www.w3.org/2000/svg\" height=\"24px\"viewBox=\"0 0 24 24\"\n",
              "       width=\"24px\">\n",
              "    <path d=\"M0 0h24v24H0V0z\" fill=\"none\"/>\n",
              "    <path d=\"M18.56 5.44l.94 2.06.94-2.06 2.06-.94-2.06-.94-.94-2.06-.94 2.06-2.06.94zm-11 1L8.5 8.5l.94-2.06 2.06-.94-2.06-.94L8.5 2.5l-.94 2.06-2.06.94zm10 10l.94 2.06.94-2.06 2.06-.94-2.06-.94-.94-2.06-.94 2.06-2.06.94z\"/><path d=\"M17.41 7.96l-1.37-1.37c-.4-.4-.92-.59-1.43-.59-.52 0-1.04.2-1.43.59L10.3 9.45l-7.72 7.72c-.78.78-.78 2.05 0 2.83L4 21.41c.39.39.9.59 1.41.59.51 0 1.02-.2 1.41-.59l7.78-7.78 2.81-2.81c.8-.78.8-2.07 0-2.86zM5.41 20L4 18.59l7.72-7.72 1.47 1.35L5.41 20z\"/>\n",
              "  </svg>\n",
              "      </button>\n",
              "      \n",
              "  <style>\n",
              "    .colab-df-container {\n",
              "      display:flex;\n",
              "      flex-wrap:wrap;\n",
              "      gap: 12px;\n",
              "    }\n",
              "\n",
              "    .colab-df-convert {\n",
              "      background-color: #E8F0FE;\n",
              "      border: none;\n",
              "      border-radius: 50%;\n",
              "      cursor: pointer;\n",
              "      display: none;\n",
              "      fill: #1967D2;\n",
              "      height: 32px;\n",
              "      padding: 0 0 0 0;\n",
              "      width: 32px;\n",
              "    }\n",
              "\n",
              "    .colab-df-convert:hover {\n",
              "      background-color: #E2EBFA;\n",
              "      box-shadow: 0px 1px 2px rgba(60, 64, 67, 0.3), 0px 1px 3px 1px rgba(60, 64, 67, 0.15);\n",
              "      fill: #174EA6;\n",
              "    }\n",
              "\n",
              "    [theme=dark] .colab-df-convert {\n",
              "      background-color: #3B4455;\n",
              "      fill: #D2E3FC;\n",
              "    }\n",
              "\n",
              "    [theme=dark] .colab-df-convert:hover {\n",
              "      background-color: #434B5C;\n",
              "      box-shadow: 0px 1px 3px 1px rgba(0, 0, 0, 0.15);\n",
              "      filter: drop-shadow(0px 1px 2px rgba(0, 0, 0, 0.3));\n",
              "      fill: #FFFFFF;\n",
              "    }\n",
              "  </style>\n",
              "\n",
              "      <script>\n",
              "        const buttonEl =\n",
              "          document.querySelector('#df-ec373b51-0f5d-41d0-b0e9-b26936313abb button.colab-df-convert');\n",
              "        buttonEl.style.display =\n",
              "          google.colab.kernel.accessAllowed ? 'block' : 'none';\n",
              "\n",
              "        async function convertToInteractive(key) {\n",
              "          const element = document.querySelector('#df-ec373b51-0f5d-41d0-b0e9-b26936313abb');\n",
              "          const dataTable =\n",
              "            await google.colab.kernel.invokeFunction('convertToInteractive',\n",
              "                                                     [key], {});\n",
              "          if (!dataTable) return;\n",
              "\n",
              "          const docLinkHtml = 'Like what you see? Visit the ' +\n",
              "            '<a target=\"_blank\" href=https://colab.research.google.com/notebooks/data_table.ipynb>data table notebook</a>'\n",
              "            + ' to learn more about interactive tables.';\n",
              "          element.innerHTML = '';\n",
              "          dataTable['output_type'] = 'display_data';\n",
              "          await google.colab.output.renderOutput(dataTable, element);\n",
              "          const docLink = document.createElement('div');\n",
              "          docLink.innerHTML = docLinkHtml;\n",
              "          element.appendChild(docLink);\n",
              "        }\n",
              "      </script>\n",
              "    </div>\n",
              "  </div>\n",
              "  "
            ]
          },
          "metadata": {},
          "execution_count": 13
        }
      ]
    },
    {
      "cell_type": "markdown",
      "source": [
        "## 6. 台東区\n",
        "- [スポーツ](https://catalog.data.metro.tokyo.lg.jp/dataset/t131067d0000000091/resource/a7138b99-a872-41fd-ab3b-361a8278bff7)"
      ],
      "metadata": {
        "id": "S_Q90dBVcPtQ"
      }
    },
    {
      "cell_type": "code",
      "source": [
        "taito_sports_url = 'https://www.city.taito.lg.jp/kusei/online/opendata/seikatu/shisethutizujouhou.files/sisetu_13.csv'\n",
        "df_taito_sports = get_data_csv_url(taito_sports_url, 'shift-jis')\n",
        "print(df_taito_sports.shape)\n",
        "\n",
        "df_taito_sports['市区町村名'] = '台東区'\n",
        "df_taito_sports['施設分類'] = df_taito_sports['名称'].apply(get_category_facility)\n",
        "df_taito_sports = df_taito_sports[\n",
        "    (df_taito_sports['施設分類'].isin(['体育館', '運動場他', 'プール']))\n",
        "].rename(columns={'X座標':'経度', 'Y座標':'緯度'})[extract_columns].reset_index(drop=True)\n",
        "change_type(df_taito_sports)\n",
        "print(df_taito_sports.shape)"
      ],
      "metadata": {
        "id": "kUmwooOBwofd",
        "outputId": "02b53f07-803b-40b8-f3a4-bdd09a91cdef",
        "colab": {
          "base_uri": "https://localhost:8080/"
        }
      },
      "execution_count": 14,
      "outputs": [
        {
          "output_type": "stream",
          "name": "stdout",
          "text": [
            "(8, 8)\n",
            "(8, 6)\n"
          ]
        }
      ]
    },
    {
      "cell_type": "code",
      "source": [
        "df_taito_sports"
      ],
      "metadata": {
        "id": "q1KSdKbRQO3f",
        "outputId": "2524f5da-3ccc-485e-fd69-8d519830ead5",
        "colab": {
          "base_uri": "https://localhost:8080/",
          "height": 300
        }
      },
      "execution_count": 15,
      "outputs": [
        {
          "output_type": "execute_result",
          "data": {
            "text/plain": [
              "   施設分類                       名称 市区町村名                          所在地  \\\n",
              "0   プール                  清島温水プール   台東区                  東上野6丁目16番8号   \n",
              "1  運動場他                柳北スポーツプラザ   台東区        浅草橋5丁目1番8号（旧柳北小学校体育館）   \n",
              "2  運動場他         台東リバーサイドスポーツセンター   台東区                   今戸1丁目1番10号   \n",
              "3   体育館        生涯学習センタートレーニングルーム   台東区      西浅草3丁目25番16号　生涯学習センター3階   \n",
              "4  運動場他             荒川河川敷運動公園運動場   台東区        足立区千住大川町12番1号先（荒川河川敷）   \n",
              "5  運動場他                江戸川河川敷野球場   台東区           埼玉県三郷市新和地先（江戸川河川敷）   \n",
              "6  運動場他               たなかスポーツプラザ   台東区                  日本堤2丁目25番4号   \n",
              "7   プール  都立浅草高等学校温水プール(区民開放期間のみ）   台東区  今戸1丁目8番13号　都立浅草高等学校体育館棟地下1階   \n",
              "\n",
              "          緯度          経度  \n",
              "0  35.713494  139.783434  \n",
              "1  35.699276  139.782265  \n",
              "2  35.717405  139.804583  \n",
              "3  35.717238  139.789697  \n",
              "4  35.758178  139.800661  \n",
              "5  35.819153  139.888761  \n",
              "6  35.727879  139.797257  \n",
              "7  35.719356  139.802486  "
            ],
            "text/html": [
              "\n",
              "  <div id=\"df-646f8cf1-25bc-4ba6-beab-5151a8d93c1b\">\n",
              "    <div class=\"colab-df-container\">\n",
              "      <div>\n",
              "<style scoped>\n",
              "    .dataframe tbody tr th:only-of-type {\n",
              "        vertical-align: middle;\n",
              "    }\n",
              "\n",
              "    .dataframe tbody tr th {\n",
              "        vertical-align: top;\n",
              "    }\n",
              "\n",
              "    .dataframe thead th {\n",
              "        text-align: right;\n",
              "    }\n",
              "</style>\n",
              "<table border=\"1\" class=\"dataframe\">\n",
              "  <thead>\n",
              "    <tr style=\"text-align: right;\">\n",
              "      <th></th>\n",
              "      <th>施設分類</th>\n",
              "      <th>名称</th>\n",
              "      <th>市区町村名</th>\n",
              "      <th>所在地</th>\n",
              "      <th>緯度</th>\n",
              "      <th>経度</th>\n",
              "    </tr>\n",
              "  </thead>\n",
              "  <tbody>\n",
              "    <tr>\n",
              "      <th>0</th>\n",
              "      <td>プール</td>\n",
              "      <td>清島温水プール</td>\n",
              "      <td>台東区</td>\n",
              "      <td>東上野6丁目16番8号</td>\n",
              "      <td>35.713494</td>\n",
              "      <td>139.783434</td>\n",
              "    </tr>\n",
              "    <tr>\n",
              "      <th>1</th>\n",
              "      <td>運動場他</td>\n",
              "      <td>柳北スポーツプラザ</td>\n",
              "      <td>台東区</td>\n",
              "      <td>浅草橋5丁目1番8号（旧柳北小学校体育館）</td>\n",
              "      <td>35.699276</td>\n",
              "      <td>139.782265</td>\n",
              "    </tr>\n",
              "    <tr>\n",
              "      <th>2</th>\n",
              "      <td>運動場他</td>\n",
              "      <td>台東リバーサイドスポーツセンター</td>\n",
              "      <td>台東区</td>\n",
              "      <td>今戸1丁目1番10号</td>\n",
              "      <td>35.717405</td>\n",
              "      <td>139.804583</td>\n",
              "    </tr>\n",
              "    <tr>\n",
              "      <th>3</th>\n",
              "      <td>体育館</td>\n",
              "      <td>生涯学習センタートレーニングルーム</td>\n",
              "      <td>台東区</td>\n",
              "      <td>西浅草3丁目25番16号　生涯学習センター3階</td>\n",
              "      <td>35.717238</td>\n",
              "      <td>139.789697</td>\n",
              "    </tr>\n",
              "    <tr>\n",
              "      <th>4</th>\n",
              "      <td>運動場他</td>\n",
              "      <td>荒川河川敷運動公園運動場</td>\n",
              "      <td>台東区</td>\n",
              "      <td>足立区千住大川町12番1号先（荒川河川敷）</td>\n",
              "      <td>35.758178</td>\n",
              "      <td>139.800661</td>\n",
              "    </tr>\n",
              "    <tr>\n",
              "      <th>5</th>\n",
              "      <td>運動場他</td>\n",
              "      <td>江戸川河川敷野球場</td>\n",
              "      <td>台東区</td>\n",
              "      <td>埼玉県三郷市新和地先（江戸川河川敷）</td>\n",
              "      <td>35.819153</td>\n",
              "      <td>139.888761</td>\n",
              "    </tr>\n",
              "    <tr>\n",
              "      <th>6</th>\n",
              "      <td>運動場他</td>\n",
              "      <td>たなかスポーツプラザ</td>\n",
              "      <td>台東区</td>\n",
              "      <td>日本堤2丁目25番4号</td>\n",
              "      <td>35.727879</td>\n",
              "      <td>139.797257</td>\n",
              "    </tr>\n",
              "    <tr>\n",
              "      <th>7</th>\n",
              "      <td>プール</td>\n",
              "      <td>都立浅草高等学校温水プール(区民開放期間のみ）</td>\n",
              "      <td>台東区</td>\n",
              "      <td>今戸1丁目8番13号　都立浅草高等学校体育館棟地下1階</td>\n",
              "      <td>35.719356</td>\n",
              "      <td>139.802486</td>\n",
              "    </tr>\n",
              "  </tbody>\n",
              "</table>\n",
              "</div>\n",
              "      <button class=\"colab-df-convert\" onclick=\"convertToInteractive('df-646f8cf1-25bc-4ba6-beab-5151a8d93c1b')\"\n",
              "              title=\"Convert this dataframe to an interactive table.\"\n",
              "              style=\"display:none;\">\n",
              "        \n",
              "  <svg xmlns=\"http://www.w3.org/2000/svg\" height=\"24px\"viewBox=\"0 0 24 24\"\n",
              "       width=\"24px\">\n",
              "    <path d=\"M0 0h24v24H0V0z\" fill=\"none\"/>\n",
              "    <path d=\"M18.56 5.44l.94 2.06.94-2.06 2.06-.94-2.06-.94-.94-2.06-.94 2.06-2.06.94zm-11 1L8.5 8.5l.94-2.06 2.06-.94-2.06-.94L8.5 2.5l-.94 2.06-2.06.94zm10 10l.94 2.06.94-2.06 2.06-.94-2.06-.94-.94-2.06-.94 2.06-2.06.94z\"/><path d=\"M17.41 7.96l-1.37-1.37c-.4-.4-.92-.59-1.43-.59-.52 0-1.04.2-1.43.59L10.3 9.45l-7.72 7.72c-.78.78-.78 2.05 0 2.83L4 21.41c.39.39.9.59 1.41.59.51 0 1.02-.2 1.41-.59l7.78-7.78 2.81-2.81c.8-.78.8-2.07 0-2.86zM5.41 20L4 18.59l7.72-7.72 1.47 1.35L5.41 20z\"/>\n",
              "  </svg>\n",
              "      </button>\n",
              "      \n",
              "  <style>\n",
              "    .colab-df-container {\n",
              "      display:flex;\n",
              "      flex-wrap:wrap;\n",
              "      gap: 12px;\n",
              "    }\n",
              "\n",
              "    .colab-df-convert {\n",
              "      background-color: #E8F0FE;\n",
              "      border: none;\n",
              "      border-radius: 50%;\n",
              "      cursor: pointer;\n",
              "      display: none;\n",
              "      fill: #1967D2;\n",
              "      height: 32px;\n",
              "      padding: 0 0 0 0;\n",
              "      width: 32px;\n",
              "    }\n",
              "\n",
              "    .colab-df-convert:hover {\n",
              "      background-color: #E2EBFA;\n",
              "      box-shadow: 0px 1px 2px rgba(60, 64, 67, 0.3), 0px 1px 3px 1px rgba(60, 64, 67, 0.15);\n",
              "      fill: #174EA6;\n",
              "    }\n",
              "\n",
              "    [theme=dark] .colab-df-convert {\n",
              "      background-color: #3B4455;\n",
              "      fill: #D2E3FC;\n",
              "    }\n",
              "\n",
              "    [theme=dark] .colab-df-convert:hover {\n",
              "      background-color: #434B5C;\n",
              "      box-shadow: 0px 1px 3px 1px rgba(0, 0, 0, 0.15);\n",
              "      filter: drop-shadow(0px 1px 2px rgba(0, 0, 0, 0.3));\n",
              "      fill: #FFFFFF;\n",
              "    }\n",
              "  </style>\n",
              "\n",
              "      <script>\n",
              "        const buttonEl =\n",
              "          document.querySelector('#df-646f8cf1-25bc-4ba6-beab-5151a8d93c1b button.colab-df-convert');\n",
              "        buttonEl.style.display =\n",
              "          google.colab.kernel.accessAllowed ? 'block' : 'none';\n",
              "\n",
              "        async function convertToInteractive(key) {\n",
              "          const element = document.querySelector('#df-646f8cf1-25bc-4ba6-beab-5151a8d93c1b');\n",
              "          const dataTable =\n",
              "            await google.colab.kernel.invokeFunction('convertToInteractive',\n",
              "                                                     [key], {});\n",
              "          if (!dataTable) return;\n",
              "\n",
              "          const docLinkHtml = 'Like what you see? Visit the ' +\n",
              "            '<a target=\"_blank\" href=https://colab.research.google.com/notebooks/data_table.ipynb>data table notebook</a>'\n",
              "            + ' to learn more about interactive tables.';\n",
              "          element.innerHTML = '';\n",
              "          dataTable['output_type'] = 'display_data';\n",
              "          await google.colab.output.renderOutput(dataTable, element);\n",
              "          const docLink = document.createElement('div');\n",
              "          docLink.innerHTML = docLinkHtml;\n",
              "          element.appendChild(docLink);\n",
              "        }\n",
              "      </script>\n",
              "    </div>\n",
              "  </div>\n",
              "  "
            ]
          },
          "metadata": {},
          "execution_count": 15
        }
      ]
    },
    {
      "cell_type": "markdown",
      "source": [
        "## 7. 墨田区\n",
        "- [スポーツ施設](https://catalog.data.metro.tokyo.lg.jp/dataset/t131075d0000000097/resource/8544959b-5b18-4c8d-94ab-1f8db69f7445)\n"
      ],
      "metadata": {
        "id": "A79C8s69R4YW"
      }
    },
    {
      "cell_type": "code",
      "source": [
        "sumida_sports_url = 'https://www.city.sumida.lg.jp/kuseijoho/sumida_info/opendata/opendata_ichiran/shisetsu_data.files/sports.csv'\n",
        "df_sumida_sports = get_data_csv_url(sumida_sports_url, 'shift-jis')\n",
        "print(df_sumida_sports.shape)\n",
        "\n",
        "df_sumida_sports['市区町村名'] = '墨田区'\n",
        "df_sumida_sports['施設分類'] = df_sumida_sports['施設名称'].apply(get_category_facility)\n",
        "df_sumida_sports = df_sumida_sports[\n",
        "    (df_sumida_sports['施設分類'].isin(['体育館', '運動場他', 'プール']))\n",
        "].rename(columns={'施設名称':'名称'})[extract_columns].reset_index(drop=True)\n",
        "change_type(df_sumida_sports)\n",
        "print(df_sumida_sports.shape)"
      ],
      "metadata": {
        "colab": {
          "base_uri": "https://localhost:8080/"
        },
        "id": "hZJc7luQRd5I",
        "outputId": "1e91959f-2c8b-434f-a127-deb21a284176"
      },
      "execution_count": 16,
      "outputs": [
        {
          "output_type": "stream",
          "name": "stdout",
          "text": [
            "(33, 6)\n",
            "(28, 6)\n"
          ]
        }
      ]
    },
    {
      "cell_type": "code",
      "source": [
        "df_sumida_sports.head()"
      ],
      "metadata": {
        "id": "Hp2xQ18tOqzj",
        "outputId": "53c3f7af-12a4-458e-d5c2-c4aec1d76549",
        "colab": {
          "base_uri": "https://localhost:8080/",
          "height": 206
        }
      },
      "execution_count": 17,
      "outputs": [
        {
          "output_type": "execute_result",
          "data": {
            "text/plain": [
              "   施設分類             名称 市区町村名                  所在地         緯度          経度\n",
              "0   体育館       墨田区総合体育館   墨田区        墨田区錦糸四丁目15番1号  35.699416  139.817188\n",
              "1  運動場他      スポーツプラザ梅若   墨田区         墨田区墨田一丁目4番4号  35.729064  139.815837\n",
              "2   体育館          立花体育館   墨田区       墨田区立花一丁目25番10号  35.705186  139.832020\n",
              "3  運動場他  すみだスポーツ健康センター   墨田区        墨田区東墨田一丁目6番1号  35.716461  139.830555\n",
              "4   プール        両国屋内プール   墨田区  墨田区横網一丁目8番1号　両国中学校内  35.697809  139.796259"
            ],
            "text/html": [
              "\n",
              "  <div id=\"df-14231c83-1aed-4ef0-a3ec-60b8f797b306\">\n",
              "    <div class=\"colab-df-container\">\n",
              "      <div>\n",
              "<style scoped>\n",
              "    .dataframe tbody tr th:only-of-type {\n",
              "        vertical-align: middle;\n",
              "    }\n",
              "\n",
              "    .dataframe tbody tr th {\n",
              "        vertical-align: top;\n",
              "    }\n",
              "\n",
              "    .dataframe thead th {\n",
              "        text-align: right;\n",
              "    }\n",
              "</style>\n",
              "<table border=\"1\" class=\"dataframe\">\n",
              "  <thead>\n",
              "    <tr style=\"text-align: right;\">\n",
              "      <th></th>\n",
              "      <th>施設分類</th>\n",
              "      <th>名称</th>\n",
              "      <th>市区町村名</th>\n",
              "      <th>所在地</th>\n",
              "      <th>緯度</th>\n",
              "      <th>経度</th>\n",
              "    </tr>\n",
              "  </thead>\n",
              "  <tbody>\n",
              "    <tr>\n",
              "      <th>0</th>\n",
              "      <td>体育館</td>\n",
              "      <td>墨田区総合体育館</td>\n",
              "      <td>墨田区</td>\n",
              "      <td>墨田区錦糸四丁目15番1号</td>\n",
              "      <td>35.699416</td>\n",
              "      <td>139.817188</td>\n",
              "    </tr>\n",
              "    <tr>\n",
              "      <th>1</th>\n",
              "      <td>運動場他</td>\n",
              "      <td>スポーツプラザ梅若</td>\n",
              "      <td>墨田区</td>\n",
              "      <td>墨田区墨田一丁目4番4号</td>\n",
              "      <td>35.729064</td>\n",
              "      <td>139.815837</td>\n",
              "    </tr>\n",
              "    <tr>\n",
              "      <th>2</th>\n",
              "      <td>体育館</td>\n",
              "      <td>立花体育館</td>\n",
              "      <td>墨田区</td>\n",
              "      <td>墨田区立花一丁目25番10号</td>\n",
              "      <td>35.705186</td>\n",
              "      <td>139.832020</td>\n",
              "    </tr>\n",
              "    <tr>\n",
              "      <th>3</th>\n",
              "      <td>運動場他</td>\n",
              "      <td>すみだスポーツ健康センター</td>\n",
              "      <td>墨田区</td>\n",
              "      <td>墨田区東墨田一丁目6番1号</td>\n",
              "      <td>35.716461</td>\n",
              "      <td>139.830555</td>\n",
              "    </tr>\n",
              "    <tr>\n",
              "      <th>4</th>\n",
              "      <td>プール</td>\n",
              "      <td>両国屋内プール</td>\n",
              "      <td>墨田区</td>\n",
              "      <td>墨田区横網一丁目8番1号　両国中学校内</td>\n",
              "      <td>35.697809</td>\n",
              "      <td>139.796259</td>\n",
              "    </tr>\n",
              "  </tbody>\n",
              "</table>\n",
              "</div>\n",
              "      <button class=\"colab-df-convert\" onclick=\"convertToInteractive('df-14231c83-1aed-4ef0-a3ec-60b8f797b306')\"\n",
              "              title=\"Convert this dataframe to an interactive table.\"\n",
              "              style=\"display:none;\">\n",
              "        \n",
              "  <svg xmlns=\"http://www.w3.org/2000/svg\" height=\"24px\"viewBox=\"0 0 24 24\"\n",
              "       width=\"24px\">\n",
              "    <path d=\"M0 0h24v24H0V0z\" fill=\"none\"/>\n",
              "    <path d=\"M18.56 5.44l.94 2.06.94-2.06 2.06-.94-2.06-.94-.94-2.06-.94 2.06-2.06.94zm-11 1L8.5 8.5l.94-2.06 2.06-.94-2.06-.94L8.5 2.5l-.94 2.06-2.06.94zm10 10l.94 2.06.94-2.06 2.06-.94-2.06-.94-.94-2.06-.94 2.06-2.06.94z\"/><path d=\"M17.41 7.96l-1.37-1.37c-.4-.4-.92-.59-1.43-.59-.52 0-1.04.2-1.43.59L10.3 9.45l-7.72 7.72c-.78.78-.78 2.05 0 2.83L4 21.41c.39.39.9.59 1.41.59.51 0 1.02-.2 1.41-.59l7.78-7.78 2.81-2.81c.8-.78.8-2.07 0-2.86zM5.41 20L4 18.59l7.72-7.72 1.47 1.35L5.41 20z\"/>\n",
              "  </svg>\n",
              "      </button>\n",
              "      \n",
              "  <style>\n",
              "    .colab-df-container {\n",
              "      display:flex;\n",
              "      flex-wrap:wrap;\n",
              "      gap: 12px;\n",
              "    }\n",
              "\n",
              "    .colab-df-convert {\n",
              "      background-color: #E8F0FE;\n",
              "      border: none;\n",
              "      border-radius: 50%;\n",
              "      cursor: pointer;\n",
              "      display: none;\n",
              "      fill: #1967D2;\n",
              "      height: 32px;\n",
              "      padding: 0 0 0 0;\n",
              "      width: 32px;\n",
              "    }\n",
              "\n",
              "    .colab-df-convert:hover {\n",
              "      background-color: #E2EBFA;\n",
              "      box-shadow: 0px 1px 2px rgba(60, 64, 67, 0.3), 0px 1px 3px 1px rgba(60, 64, 67, 0.15);\n",
              "      fill: #174EA6;\n",
              "    }\n",
              "\n",
              "    [theme=dark] .colab-df-convert {\n",
              "      background-color: #3B4455;\n",
              "      fill: #D2E3FC;\n",
              "    }\n",
              "\n",
              "    [theme=dark] .colab-df-convert:hover {\n",
              "      background-color: #434B5C;\n",
              "      box-shadow: 0px 1px 3px 1px rgba(0, 0, 0, 0.15);\n",
              "      filter: drop-shadow(0px 1px 2px rgba(0, 0, 0, 0.3));\n",
              "      fill: #FFFFFF;\n",
              "    }\n",
              "  </style>\n",
              "\n",
              "      <script>\n",
              "        const buttonEl =\n",
              "          document.querySelector('#df-14231c83-1aed-4ef0-a3ec-60b8f797b306 button.colab-df-convert');\n",
              "        buttonEl.style.display =\n",
              "          google.colab.kernel.accessAllowed ? 'block' : 'none';\n",
              "\n",
              "        async function convertToInteractive(key) {\n",
              "          const element = document.querySelector('#df-14231c83-1aed-4ef0-a3ec-60b8f797b306');\n",
              "          const dataTable =\n",
              "            await google.colab.kernel.invokeFunction('convertToInteractive',\n",
              "                                                     [key], {});\n",
              "          if (!dataTable) return;\n",
              "\n",
              "          const docLinkHtml = 'Like what you see? Visit the ' +\n",
              "            '<a target=\"_blank\" href=https://colab.research.google.com/notebooks/data_table.ipynb>data table notebook</a>'\n",
              "            + ' to learn more about interactive tables.';\n",
              "          element.innerHTML = '';\n",
              "          dataTable['output_type'] = 'display_data';\n",
              "          await google.colab.output.renderOutput(dataTable, element);\n",
              "          const docLink = document.createElement('div');\n",
              "          docLink.innerHTML = docLinkHtml;\n",
              "          element.appendChild(docLink);\n",
              "        }\n",
              "      </script>\n",
              "    </div>\n",
              "  </div>\n",
              "  "
            ]
          },
          "metadata": {},
          "execution_count": 17
        }
      ]
    },
    {
      "cell_type": "markdown",
      "source": [
        "## 8. 江東区\n",
        "- [スポーツセンター](https://catalog.data.metro.tokyo.lg.jp/dataset/t131083d0000000007/resource/4ca870cd-859a-4f9e-8e57-38d9830aadc4)"
      ],
      "metadata": {
        "id": "k9DmEpn4y2dz"
      }
    },
    {
      "cell_type": "code",
      "source": [
        "koutou_sports_url = 'https://www.city.koto.lg.jp/012107/documents/131083_kotocity_public_facility-4_sports.csv'\n",
        "df_koutou_sports = get_data_csv_url(koutou_sports_url, 'shift-jis')\n",
        "print(df_koutou_sports.shape)\n",
        "\n",
        "df_koutou_sports['施設分類'] = df_koutou_sports['名称'].apply(get_category_facility)\n",
        "df_koutou_sports = df_koutou_sports[\n",
        "    (df_koutou_sports['施設分類'].isin(['体育館', '運動場他', 'プール']))\n",
        "].rename(columns={'住所':'所在地'})[extract_columns].reset_index(drop=True)\n",
        "change_type(df_koutou_sports)\n",
        "print(df_koutou_sports.shape)"
      ],
      "metadata": {
        "colab": {
          "base_uri": "https://localhost:8080/"
        },
        "id": "eJH2HE8H7dzZ",
        "outputId": "99b6ea80-b4b3-4ea8-c4ab-6e347810966e"
      },
      "execution_count": 18,
      "outputs": [
        {
          "output_type": "stream",
          "name": "stdout",
          "text": [
            "(18, 39)\n",
            "(17, 6)\n"
          ]
        }
      ]
    },
    {
      "cell_type": "code",
      "source": [
        "df_koutou_sports.head()"
      ],
      "metadata": {
        "id": "A3bXv6OtgDiG",
        "outputId": "b7a6f2ef-e527-44e2-a9ab-fbf06c11d357",
        "colab": {
          "base_uri": "https://localhost:8080/",
          "height": 206
        }
      },
      "execution_count": 19,
      "outputs": [
        {
          "output_type": "execute_result",
          "data": {
            "text/plain": [
              "   施設分類           名称 市区町村名           所在地         緯度          経度\n",
              "0  運動場他   深川スポーツセンター   江東区  江東区越中島1-2-18  35.670692  139.791745\n",
              "1  運動場他   亀戸スポーツセンター   江東区   江東区亀戸8-22-1  35.700432  139.836565\n",
              "2  運動場他   有明スポーツセンター   江東区    江東区有明2-3-5  35.633500  139.783824\n",
              "3  運動場他   東砂スポーツセンター   江東区   江東区東砂4-24-1  35.679506  139.839551\n",
              "4  運動場他  深川北スポーツセンター   江東区   江東区平野3-2-20  35.677172  139.805179"
            ],
            "text/html": [
              "\n",
              "  <div id=\"df-1532e1be-19bb-49a6-89b8-d7b3cbdee52c\">\n",
              "    <div class=\"colab-df-container\">\n",
              "      <div>\n",
              "<style scoped>\n",
              "    .dataframe tbody tr th:only-of-type {\n",
              "        vertical-align: middle;\n",
              "    }\n",
              "\n",
              "    .dataframe tbody tr th {\n",
              "        vertical-align: top;\n",
              "    }\n",
              "\n",
              "    .dataframe thead th {\n",
              "        text-align: right;\n",
              "    }\n",
              "</style>\n",
              "<table border=\"1\" class=\"dataframe\">\n",
              "  <thead>\n",
              "    <tr style=\"text-align: right;\">\n",
              "      <th></th>\n",
              "      <th>施設分類</th>\n",
              "      <th>名称</th>\n",
              "      <th>市区町村名</th>\n",
              "      <th>所在地</th>\n",
              "      <th>緯度</th>\n",
              "      <th>経度</th>\n",
              "    </tr>\n",
              "  </thead>\n",
              "  <tbody>\n",
              "    <tr>\n",
              "      <th>0</th>\n",
              "      <td>運動場他</td>\n",
              "      <td>深川スポーツセンター</td>\n",
              "      <td>江東区</td>\n",
              "      <td>江東区越中島1-2-18</td>\n",
              "      <td>35.670692</td>\n",
              "      <td>139.791745</td>\n",
              "    </tr>\n",
              "    <tr>\n",
              "      <th>1</th>\n",
              "      <td>運動場他</td>\n",
              "      <td>亀戸スポーツセンター</td>\n",
              "      <td>江東区</td>\n",
              "      <td>江東区亀戸8-22-1</td>\n",
              "      <td>35.700432</td>\n",
              "      <td>139.836565</td>\n",
              "    </tr>\n",
              "    <tr>\n",
              "      <th>2</th>\n",
              "      <td>運動場他</td>\n",
              "      <td>有明スポーツセンター</td>\n",
              "      <td>江東区</td>\n",
              "      <td>江東区有明2-3-5</td>\n",
              "      <td>35.633500</td>\n",
              "      <td>139.783824</td>\n",
              "    </tr>\n",
              "    <tr>\n",
              "      <th>3</th>\n",
              "      <td>運動場他</td>\n",
              "      <td>東砂スポーツセンター</td>\n",
              "      <td>江東区</td>\n",
              "      <td>江東区東砂4-24-1</td>\n",
              "      <td>35.679506</td>\n",
              "      <td>139.839551</td>\n",
              "    </tr>\n",
              "    <tr>\n",
              "      <th>4</th>\n",
              "      <td>運動場他</td>\n",
              "      <td>深川北スポーツセンター</td>\n",
              "      <td>江東区</td>\n",
              "      <td>江東区平野3-2-20</td>\n",
              "      <td>35.677172</td>\n",
              "      <td>139.805179</td>\n",
              "    </tr>\n",
              "  </tbody>\n",
              "</table>\n",
              "</div>\n",
              "      <button class=\"colab-df-convert\" onclick=\"convertToInteractive('df-1532e1be-19bb-49a6-89b8-d7b3cbdee52c')\"\n",
              "              title=\"Convert this dataframe to an interactive table.\"\n",
              "              style=\"display:none;\">\n",
              "        \n",
              "  <svg xmlns=\"http://www.w3.org/2000/svg\" height=\"24px\"viewBox=\"0 0 24 24\"\n",
              "       width=\"24px\">\n",
              "    <path d=\"M0 0h24v24H0V0z\" fill=\"none\"/>\n",
              "    <path d=\"M18.56 5.44l.94 2.06.94-2.06 2.06-.94-2.06-.94-.94-2.06-.94 2.06-2.06.94zm-11 1L8.5 8.5l.94-2.06 2.06-.94-2.06-.94L8.5 2.5l-.94 2.06-2.06.94zm10 10l.94 2.06.94-2.06 2.06-.94-2.06-.94-.94-2.06-.94 2.06-2.06.94z\"/><path d=\"M17.41 7.96l-1.37-1.37c-.4-.4-.92-.59-1.43-.59-.52 0-1.04.2-1.43.59L10.3 9.45l-7.72 7.72c-.78.78-.78 2.05 0 2.83L4 21.41c.39.39.9.59 1.41.59.51 0 1.02-.2 1.41-.59l7.78-7.78 2.81-2.81c.8-.78.8-2.07 0-2.86zM5.41 20L4 18.59l7.72-7.72 1.47 1.35L5.41 20z\"/>\n",
              "  </svg>\n",
              "      </button>\n",
              "      \n",
              "  <style>\n",
              "    .colab-df-container {\n",
              "      display:flex;\n",
              "      flex-wrap:wrap;\n",
              "      gap: 12px;\n",
              "    }\n",
              "\n",
              "    .colab-df-convert {\n",
              "      background-color: #E8F0FE;\n",
              "      border: none;\n",
              "      border-radius: 50%;\n",
              "      cursor: pointer;\n",
              "      display: none;\n",
              "      fill: #1967D2;\n",
              "      height: 32px;\n",
              "      padding: 0 0 0 0;\n",
              "      width: 32px;\n",
              "    }\n",
              "\n",
              "    .colab-df-convert:hover {\n",
              "      background-color: #E2EBFA;\n",
              "      box-shadow: 0px 1px 2px rgba(60, 64, 67, 0.3), 0px 1px 3px 1px rgba(60, 64, 67, 0.15);\n",
              "      fill: #174EA6;\n",
              "    }\n",
              "\n",
              "    [theme=dark] .colab-df-convert {\n",
              "      background-color: #3B4455;\n",
              "      fill: #D2E3FC;\n",
              "    }\n",
              "\n",
              "    [theme=dark] .colab-df-convert:hover {\n",
              "      background-color: #434B5C;\n",
              "      box-shadow: 0px 1px 3px 1px rgba(0, 0, 0, 0.15);\n",
              "      filter: drop-shadow(0px 1px 2px rgba(0, 0, 0, 0.3));\n",
              "      fill: #FFFFFF;\n",
              "    }\n",
              "  </style>\n",
              "\n",
              "      <script>\n",
              "        const buttonEl =\n",
              "          document.querySelector('#df-1532e1be-19bb-49a6-89b8-d7b3cbdee52c button.colab-df-convert');\n",
              "        buttonEl.style.display =\n",
              "          google.colab.kernel.accessAllowed ? 'block' : 'none';\n",
              "\n",
              "        async function convertToInteractive(key) {\n",
              "          const element = document.querySelector('#df-1532e1be-19bb-49a6-89b8-d7b3cbdee52c');\n",
              "          const dataTable =\n",
              "            await google.colab.kernel.invokeFunction('convertToInteractive',\n",
              "                                                     [key], {});\n",
              "          if (!dataTable) return;\n",
              "\n",
              "          const docLinkHtml = 'Like what you see? Visit the ' +\n",
              "            '<a target=\"_blank\" href=https://colab.research.google.com/notebooks/data_table.ipynb>data table notebook</a>'\n",
              "            + ' to learn more about interactive tables.';\n",
              "          element.innerHTML = '';\n",
              "          dataTable['output_type'] = 'display_data';\n",
              "          await google.colab.output.renderOutput(dataTable, element);\n",
              "          const docLink = document.createElement('div');\n",
              "          docLink.innerHTML = docLinkHtml;\n",
              "          element.appendChild(docLink);\n",
              "        }\n",
              "      </script>\n",
              "    </div>\n",
              "  </div>\n",
              "  "
            ]
          },
          "metadata": {},
          "execution_count": 19
        }
      ]
    },
    {
      "cell_type": "markdown",
      "source": [
        "## 9. 品川区\n",
        "- [文化・スポーツ施設・公園(csv形式)](https://catalog.data.metro.tokyo.lg.jp/dataset/t131091d0000000016/resource/bd07c1ef-65b9-4bfc-88bd-0e4771782cc4) -> 体育館、野球場"
      ],
      "metadata": {
        "id": "q9jxzgLIvxhE"
      }
    },
    {
      "cell_type": "code",
      "source": [
        "# 列がおかしいので読み込みできない\n",
        "# shinagawa_sports_url = 'https://www.opendata.metro.tokyo.lg.jp/shinagawa/culture_sports_park.csv'\n",
        "# df_shinagawa_sports = get_data_csv_url(shinagawa_sports_url, encoding='cp932')\n",
        "df_shinagawa_sports = pd.read_csv(os.path.join(DIR_NAME, 'original/品川区_文化スポーツ施設.csv'), encoding='cp932', names=['名称', '所在地', '備考', '緯度', '経度'], skiprows=1)\n",
        "print(df_shinagawa_sports.shape)\n",
        "\n",
        "df_shinagawa_sports['市区町村名'] = '品川区'\n",
        "df_shinagawa_sports['施設分類'] = df_shinagawa_sports['名称'].apply(get_category_facility)\n",
        "df_shinagawa_sports = df_shinagawa_sports\n",
        "df_shinagawa_sports = df_shinagawa_sports[\n",
        "    (df_shinagawa_sports['施設分類'].isin(['体育館', '運動場他', 'プール']))\n",
        "][extract_columns].reset_index(drop=True)\n",
        "df_shinagawa_sports = df_shinagawa_sports.drop_duplicates(subset=['所在地']).reset_index(drop=True)\n",
        "change_type(df_shinagawa_sports)\n",
        "print(df_shinagawa_sports.shape)"
      ],
      "metadata": {
        "id": "0S4Tp7qolupq",
        "outputId": "ea2f03ef-aea2-4773-ba33-7ff96c29c155",
        "colab": {
          "base_uri": "https://localhost:8080/"
        }
      },
      "execution_count": 20,
      "outputs": [
        {
          "output_type": "stream",
          "name": "stdout",
          "text": [
            "(314, 5)\n",
            "(12, 6)\n"
          ]
        }
      ]
    },
    {
      "cell_type": "code",
      "source": [
        "df_shinagawa_sports.head()"
      ],
      "metadata": {
        "id": "qt2u9cIyorzC",
        "outputId": "49847dae-6b10-4abb-c0eb-3512fbaf63a3",
        "colab": {
          "base_uri": "https://localhost:8080/",
          "height": 206
        }
      },
      "execution_count": 21,
      "outputs": [
        {
          "output_type": "execute_result",
          "data": {
            "text/plain": [
              "   施設分類             名称 市区町村名               所在地         緯度          経度\n",
              "0   体育館          総合体育館   品川区   東京都品川区北品川5-6-11  35.624530  139.728488\n",
              "1  運動場他       天王洲公園野球場   品川区   東京都品川区東品川2-5-42  35.620512  139.749802\n",
              "2  運動場他       八潮北公園野球場   品川区     東京都品川区八潮1-3-1  35.612284  139.754404\n",
              "3  運動場他  大井ふ頭中央海浜公園野球場   品川区    東京都品川区八潮4-1-19  35.590939  139.752439\n",
              "4  運動場他        子供の森野球場   品川区  東京都品川区北品川3-10-13  35.616218  139.737565"
            ],
            "text/html": [
              "\n",
              "  <div id=\"df-8ffe8730-2f2f-4cd9-8a25-7a4085aaecf6\">\n",
              "    <div class=\"colab-df-container\">\n",
              "      <div>\n",
              "<style scoped>\n",
              "    .dataframe tbody tr th:only-of-type {\n",
              "        vertical-align: middle;\n",
              "    }\n",
              "\n",
              "    .dataframe tbody tr th {\n",
              "        vertical-align: top;\n",
              "    }\n",
              "\n",
              "    .dataframe thead th {\n",
              "        text-align: right;\n",
              "    }\n",
              "</style>\n",
              "<table border=\"1\" class=\"dataframe\">\n",
              "  <thead>\n",
              "    <tr style=\"text-align: right;\">\n",
              "      <th></th>\n",
              "      <th>施設分類</th>\n",
              "      <th>名称</th>\n",
              "      <th>市区町村名</th>\n",
              "      <th>所在地</th>\n",
              "      <th>緯度</th>\n",
              "      <th>経度</th>\n",
              "    </tr>\n",
              "  </thead>\n",
              "  <tbody>\n",
              "    <tr>\n",
              "      <th>0</th>\n",
              "      <td>体育館</td>\n",
              "      <td>総合体育館</td>\n",
              "      <td>品川区</td>\n",
              "      <td>東京都品川区北品川5-6-11</td>\n",
              "      <td>35.624530</td>\n",
              "      <td>139.728488</td>\n",
              "    </tr>\n",
              "    <tr>\n",
              "      <th>1</th>\n",
              "      <td>運動場他</td>\n",
              "      <td>天王洲公園野球場</td>\n",
              "      <td>品川区</td>\n",
              "      <td>東京都品川区東品川2-5-42</td>\n",
              "      <td>35.620512</td>\n",
              "      <td>139.749802</td>\n",
              "    </tr>\n",
              "    <tr>\n",
              "      <th>2</th>\n",
              "      <td>運動場他</td>\n",
              "      <td>八潮北公園野球場</td>\n",
              "      <td>品川区</td>\n",
              "      <td>東京都品川区八潮1-3-1</td>\n",
              "      <td>35.612284</td>\n",
              "      <td>139.754404</td>\n",
              "    </tr>\n",
              "    <tr>\n",
              "      <th>3</th>\n",
              "      <td>運動場他</td>\n",
              "      <td>大井ふ頭中央海浜公園野球場</td>\n",
              "      <td>品川区</td>\n",
              "      <td>東京都品川区八潮4-1-19</td>\n",
              "      <td>35.590939</td>\n",
              "      <td>139.752439</td>\n",
              "    </tr>\n",
              "    <tr>\n",
              "      <th>4</th>\n",
              "      <td>運動場他</td>\n",
              "      <td>子供の森野球場</td>\n",
              "      <td>品川区</td>\n",
              "      <td>東京都品川区北品川3-10-13</td>\n",
              "      <td>35.616218</td>\n",
              "      <td>139.737565</td>\n",
              "    </tr>\n",
              "  </tbody>\n",
              "</table>\n",
              "</div>\n",
              "      <button class=\"colab-df-convert\" onclick=\"convertToInteractive('df-8ffe8730-2f2f-4cd9-8a25-7a4085aaecf6')\"\n",
              "              title=\"Convert this dataframe to an interactive table.\"\n",
              "              style=\"display:none;\">\n",
              "        \n",
              "  <svg xmlns=\"http://www.w3.org/2000/svg\" height=\"24px\"viewBox=\"0 0 24 24\"\n",
              "       width=\"24px\">\n",
              "    <path d=\"M0 0h24v24H0V0z\" fill=\"none\"/>\n",
              "    <path d=\"M18.56 5.44l.94 2.06.94-2.06 2.06-.94-2.06-.94-.94-2.06-.94 2.06-2.06.94zm-11 1L8.5 8.5l.94-2.06 2.06-.94-2.06-.94L8.5 2.5l-.94 2.06-2.06.94zm10 10l.94 2.06.94-2.06 2.06-.94-2.06-.94-.94-2.06-.94 2.06-2.06.94z\"/><path d=\"M17.41 7.96l-1.37-1.37c-.4-.4-.92-.59-1.43-.59-.52 0-1.04.2-1.43.59L10.3 9.45l-7.72 7.72c-.78.78-.78 2.05 0 2.83L4 21.41c.39.39.9.59 1.41.59.51 0 1.02-.2 1.41-.59l7.78-7.78 2.81-2.81c.8-.78.8-2.07 0-2.86zM5.41 20L4 18.59l7.72-7.72 1.47 1.35L5.41 20z\"/>\n",
              "  </svg>\n",
              "      </button>\n",
              "      \n",
              "  <style>\n",
              "    .colab-df-container {\n",
              "      display:flex;\n",
              "      flex-wrap:wrap;\n",
              "      gap: 12px;\n",
              "    }\n",
              "\n",
              "    .colab-df-convert {\n",
              "      background-color: #E8F0FE;\n",
              "      border: none;\n",
              "      border-radius: 50%;\n",
              "      cursor: pointer;\n",
              "      display: none;\n",
              "      fill: #1967D2;\n",
              "      height: 32px;\n",
              "      padding: 0 0 0 0;\n",
              "      width: 32px;\n",
              "    }\n",
              "\n",
              "    .colab-df-convert:hover {\n",
              "      background-color: #E2EBFA;\n",
              "      box-shadow: 0px 1px 2px rgba(60, 64, 67, 0.3), 0px 1px 3px 1px rgba(60, 64, 67, 0.15);\n",
              "      fill: #174EA6;\n",
              "    }\n",
              "\n",
              "    [theme=dark] .colab-df-convert {\n",
              "      background-color: #3B4455;\n",
              "      fill: #D2E3FC;\n",
              "    }\n",
              "\n",
              "    [theme=dark] .colab-df-convert:hover {\n",
              "      background-color: #434B5C;\n",
              "      box-shadow: 0px 1px 3px 1px rgba(0, 0, 0, 0.15);\n",
              "      filter: drop-shadow(0px 1px 2px rgba(0, 0, 0, 0.3));\n",
              "      fill: #FFFFFF;\n",
              "    }\n",
              "  </style>\n",
              "\n",
              "      <script>\n",
              "        const buttonEl =\n",
              "          document.querySelector('#df-8ffe8730-2f2f-4cd9-8a25-7a4085aaecf6 button.colab-df-convert');\n",
              "        buttonEl.style.display =\n",
              "          google.colab.kernel.accessAllowed ? 'block' : 'none';\n",
              "\n",
              "        async function convertToInteractive(key) {\n",
              "          const element = document.querySelector('#df-8ffe8730-2f2f-4cd9-8a25-7a4085aaecf6');\n",
              "          const dataTable =\n",
              "            await google.colab.kernel.invokeFunction('convertToInteractive',\n",
              "                                                     [key], {});\n",
              "          if (!dataTable) return;\n",
              "\n",
              "          const docLinkHtml = 'Like what you see? Visit the ' +\n",
              "            '<a target=\"_blank\" href=https://colab.research.google.com/notebooks/data_table.ipynb>data table notebook</a>'\n",
              "            + ' to learn more about interactive tables.';\n",
              "          element.innerHTML = '';\n",
              "          dataTable['output_type'] = 'display_data';\n",
              "          await google.colab.output.renderOutput(dataTable, element);\n",
              "          const docLink = document.createElement('div');\n",
              "          docLink.innerHTML = docLinkHtml;\n",
              "          element.appendChild(docLink);\n",
              "        }\n",
              "      </script>\n",
              "    </div>\n",
              "  </div>\n",
              "  "
            ]
          },
          "metadata": {},
          "execution_count": 21
        }
      ]
    },
    {
      "cell_type": "markdown",
      "source": [
        "## 10. 目黒区\n",
        "- [公共施設_2022_06/29](https://data.bodik.jp/dataset/131105_public_facility/resource/f119ff15-e5e1-44e7-836f-aa5e20c9a46c) -> 体育館、プール"
      ],
      "metadata": {
        "id": "99GocudOn0Bp"
      }
    },
    {
      "cell_type": "code",
      "source": [
        "megro_facility_url = 'https://data.bodik.jp/dataset/8fb2f443-a8fd-47c6-a527-6a961fca8928/resource/f119ff15-e5e1-44e7-836f-aa5e20c9a46c/download/131105_public_facility_20220616.csv'\n",
        "df_megro_facility = get_data_csv_url(megro_facility_url, 'cp932')\n",
        "print(df_megro_facility.shape)\n",
        "\n",
        "df_megro_facility['施設分類'] = df_megro_facility['名称'].apply(get_category_facility)\n",
        "df_megro_facility = df_megro_facility[\n",
        "    (df_megro_facility['施設分類'].isin(['体育館', '運動場他', 'プール']))\n",
        "].rename(columns={'住所':'所在地'})[extract_columns].drop_duplicates(subset=['施設分類', '所在地']).reset_index(drop=True)\n",
        "change_type(df_megro_facility)\n",
        "print(df_megro_facility.shape)"
      ],
      "metadata": {
        "id": "wqvlg2mfn7oe",
        "outputId": "13a0f9b7-7b15-45c6-a1a7-99493acc1872",
        "colab": {
          "base_uri": "https://localhost:8080/"
        }
      },
      "execution_count": 22,
      "outputs": [
        {
          "output_type": "stream",
          "name": "stdout",
          "text": [
            "(395, 24)\n",
            "(15, 6)\n"
          ]
        }
      ]
    },
    {
      "cell_type": "code",
      "source": [
        "df_megro_facility.head()"
      ],
      "metadata": {
        "id": "JvY-XoJuvEYD",
        "outputId": "c26cd8f9-94b7-4d2c-9aae-2c44752338f2",
        "colab": {
          "base_uri": "https://localhost:8080/",
          "height": 206
        }
      },
      "execution_count": 23,
      "outputs": [
        {
          "output_type": "execute_result",
          "data": {
            "text/plain": [
              "   施設分類             名称 市区町村名                所在地         緯度          経度\n",
              "0   体育館          中央体育館   目黒区  東京都目黒区目黒本町 5-22-8  35.619030  139.698961\n",
              "1   体育館          駒場体育館   目黒区   東京都目黒区駒場 2-19-39  35.658083  139.680147\n",
              "2   プール          駒場プール   目黒区   東京都目黒区駒場 2-19-39  35.658083  139.680147\n",
              "3  運動場他  駒場庭球場・ゲートボール場   目黒区   東京都目黒区駒場 2-19-39  35.658083  139.680147\n",
              "4   体育館    目黒区民センター体育館   目黒区    東京都目黒区目黒 2-4-36  35.635403  139.708472"
            ],
            "text/html": [
              "\n",
              "  <div id=\"df-9d28156d-9dfe-40d6-b2a3-fa88ad889dd3\">\n",
              "    <div class=\"colab-df-container\">\n",
              "      <div>\n",
              "<style scoped>\n",
              "    .dataframe tbody tr th:only-of-type {\n",
              "        vertical-align: middle;\n",
              "    }\n",
              "\n",
              "    .dataframe tbody tr th {\n",
              "        vertical-align: top;\n",
              "    }\n",
              "\n",
              "    .dataframe thead th {\n",
              "        text-align: right;\n",
              "    }\n",
              "</style>\n",
              "<table border=\"1\" class=\"dataframe\">\n",
              "  <thead>\n",
              "    <tr style=\"text-align: right;\">\n",
              "      <th></th>\n",
              "      <th>施設分類</th>\n",
              "      <th>名称</th>\n",
              "      <th>市区町村名</th>\n",
              "      <th>所在地</th>\n",
              "      <th>緯度</th>\n",
              "      <th>経度</th>\n",
              "    </tr>\n",
              "  </thead>\n",
              "  <tbody>\n",
              "    <tr>\n",
              "      <th>0</th>\n",
              "      <td>体育館</td>\n",
              "      <td>中央体育館</td>\n",
              "      <td>目黒区</td>\n",
              "      <td>東京都目黒区目黒本町 5-22-8</td>\n",
              "      <td>35.619030</td>\n",
              "      <td>139.698961</td>\n",
              "    </tr>\n",
              "    <tr>\n",
              "      <th>1</th>\n",
              "      <td>体育館</td>\n",
              "      <td>駒場体育館</td>\n",
              "      <td>目黒区</td>\n",
              "      <td>東京都目黒区駒場 2-19-39</td>\n",
              "      <td>35.658083</td>\n",
              "      <td>139.680147</td>\n",
              "    </tr>\n",
              "    <tr>\n",
              "      <th>2</th>\n",
              "      <td>プール</td>\n",
              "      <td>駒場プール</td>\n",
              "      <td>目黒区</td>\n",
              "      <td>東京都目黒区駒場 2-19-39</td>\n",
              "      <td>35.658083</td>\n",
              "      <td>139.680147</td>\n",
              "    </tr>\n",
              "    <tr>\n",
              "      <th>3</th>\n",
              "      <td>運動場他</td>\n",
              "      <td>駒場庭球場・ゲートボール場</td>\n",
              "      <td>目黒区</td>\n",
              "      <td>東京都目黒区駒場 2-19-39</td>\n",
              "      <td>35.658083</td>\n",
              "      <td>139.680147</td>\n",
              "    </tr>\n",
              "    <tr>\n",
              "      <th>4</th>\n",
              "      <td>体育館</td>\n",
              "      <td>目黒区民センター体育館</td>\n",
              "      <td>目黒区</td>\n",
              "      <td>東京都目黒区目黒 2-4-36</td>\n",
              "      <td>35.635403</td>\n",
              "      <td>139.708472</td>\n",
              "    </tr>\n",
              "  </tbody>\n",
              "</table>\n",
              "</div>\n",
              "      <button class=\"colab-df-convert\" onclick=\"convertToInteractive('df-9d28156d-9dfe-40d6-b2a3-fa88ad889dd3')\"\n",
              "              title=\"Convert this dataframe to an interactive table.\"\n",
              "              style=\"display:none;\">\n",
              "        \n",
              "  <svg xmlns=\"http://www.w3.org/2000/svg\" height=\"24px\"viewBox=\"0 0 24 24\"\n",
              "       width=\"24px\">\n",
              "    <path d=\"M0 0h24v24H0V0z\" fill=\"none\"/>\n",
              "    <path d=\"M18.56 5.44l.94 2.06.94-2.06 2.06-.94-2.06-.94-.94-2.06-.94 2.06-2.06.94zm-11 1L8.5 8.5l.94-2.06 2.06-.94-2.06-.94L8.5 2.5l-.94 2.06-2.06.94zm10 10l.94 2.06.94-2.06 2.06-.94-2.06-.94-.94-2.06-.94 2.06-2.06.94z\"/><path d=\"M17.41 7.96l-1.37-1.37c-.4-.4-.92-.59-1.43-.59-.52 0-1.04.2-1.43.59L10.3 9.45l-7.72 7.72c-.78.78-.78 2.05 0 2.83L4 21.41c.39.39.9.59 1.41.59.51 0 1.02-.2 1.41-.59l7.78-7.78 2.81-2.81c.8-.78.8-2.07 0-2.86zM5.41 20L4 18.59l7.72-7.72 1.47 1.35L5.41 20z\"/>\n",
              "  </svg>\n",
              "      </button>\n",
              "      \n",
              "  <style>\n",
              "    .colab-df-container {\n",
              "      display:flex;\n",
              "      flex-wrap:wrap;\n",
              "      gap: 12px;\n",
              "    }\n",
              "\n",
              "    .colab-df-convert {\n",
              "      background-color: #E8F0FE;\n",
              "      border: none;\n",
              "      border-radius: 50%;\n",
              "      cursor: pointer;\n",
              "      display: none;\n",
              "      fill: #1967D2;\n",
              "      height: 32px;\n",
              "      padding: 0 0 0 0;\n",
              "      width: 32px;\n",
              "    }\n",
              "\n",
              "    .colab-df-convert:hover {\n",
              "      background-color: #E2EBFA;\n",
              "      box-shadow: 0px 1px 2px rgba(60, 64, 67, 0.3), 0px 1px 3px 1px rgba(60, 64, 67, 0.15);\n",
              "      fill: #174EA6;\n",
              "    }\n",
              "\n",
              "    [theme=dark] .colab-df-convert {\n",
              "      background-color: #3B4455;\n",
              "      fill: #D2E3FC;\n",
              "    }\n",
              "\n",
              "    [theme=dark] .colab-df-convert:hover {\n",
              "      background-color: #434B5C;\n",
              "      box-shadow: 0px 1px 3px 1px rgba(0, 0, 0, 0.15);\n",
              "      filter: drop-shadow(0px 1px 2px rgba(0, 0, 0, 0.3));\n",
              "      fill: #FFFFFF;\n",
              "    }\n",
              "  </style>\n",
              "\n",
              "      <script>\n",
              "        const buttonEl =\n",
              "          document.querySelector('#df-9d28156d-9dfe-40d6-b2a3-fa88ad889dd3 button.colab-df-convert');\n",
              "        buttonEl.style.display =\n",
              "          google.colab.kernel.accessAllowed ? 'block' : 'none';\n",
              "\n",
              "        async function convertToInteractive(key) {\n",
              "          const element = document.querySelector('#df-9d28156d-9dfe-40d6-b2a3-fa88ad889dd3');\n",
              "          const dataTable =\n",
              "            await google.colab.kernel.invokeFunction('convertToInteractive',\n",
              "                                                     [key], {});\n",
              "          if (!dataTable) return;\n",
              "\n",
              "          const docLinkHtml = 'Like what you see? Visit the ' +\n",
              "            '<a target=\"_blank\" href=https://colab.research.google.com/notebooks/data_table.ipynb>data table notebook</a>'\n",
              "            + ' to learn more about interactive tables.';\n",
              "          element.innerHTML = '';\n",
              "          dataTable['output_type'] = 'display_data';\n",
              "          await google.colab.output.renderOutput(dataTable, element);\n",
              "          const docLink = document.createElement('div');\n",
              "          docLink.innerHTML = docLinkHtml;\n",
              "          element.appendChild(docLink);\n",
              "        }\n",
              "      </script>\n",
              "    </div>\n",
              "  </div>\n",
              "  "
            ]
          },
          "metadata": {},
          "execution_count": 23
        }
      ]
    },
    {
      "cell_type": "markdown",
      "source": [
        "## 11. 大田区\n"
      ],
      "metadata": {
        "id": "b4WovfLRtplw"
      }
    },
    {
      "cell_type": "markdown",
      "source": [
        "## 12. 世田谷区\n",
        "- [スポーツ](https://www.city.setagaya.lg.jp/theme/kanko/005/index.html) -> CSVでない"
      ],
      "metadata": {
        "id": "2w42i2Nt0e83"
      }
    },
    {
      "cell_type": "markdown",
      "source": [
        "## 13. 渋谷区\n",
        "- [スポーツ施設](https://www.city.shibuya.tokyo.jp/shisetsu/sports/index.html) -> CSVでない"
      ],
      "metadata": {
        "id": "M2Ql8T3r0h0P"
      }
    },
    {
      "cell_type": "markdown",
      "source": [
        "## 14. 中野区\n",
        "- [中野区オープンデータ 公共施設一覧（公園等以外）](https://www.city.tokyo-nakano.lg.jp/dept/158100/d027582.html) -> 体育館、運動場"
      ],
      "metadata": {
        "id": "G7Dkz-Hjwtnn"
      }
    },
    {
      "cell_type": "code",
      "source": [
        "nakano_facility_url = 'https://www.city.tokyo-nakano.lg.jp/dept/158100/d027582_d/fil/131148_public_facility.csv'\n",
        "df_nakano_facility = get_data_csv_url(nakano_facility_url)\n",
        "print(df_nakano_facility.shape)\n",
        "\n",
        "df_nakano_facility['施設分類'] = df_nakano_facility['名称'].apply(get_category_facility)\n",
        "df_nakano_facility = df_nakano_facility[\n",
        "    (df_nakano_facility['施設分類'].isin(['体育館', '運動場他', 'プール']))\n",
        "].rename(columns={'住所': '所在地'})[extract_columns].drop_duplicates(subset=['施設分類', '所在地']).reset_index(drop=True)\n",
        "change_type(df_nakano_facility)\n",
        "print(df_nakano_facility.shape)"
      ],
      "metadata": {
        "colab": {
          "base_uri": "https://localhost:8080/"
        },
        "id": "wQ2PDb9rCtjK",
        "outputId": "3c8fd4f6-ba37-404c-e3cf-d51f0185eb02"
      },
      "execution_count": 24,
      "outputs": [
        {
          "output_type": "stream",
          "name": "stdout",
          "text": [
            "(180, 39)\n",
            "(7, 6)\n"
          ]
        }
      ]
    },
    {
      "cell_type": "code",
      "source": [
        "df_nakano_facility.head()"
      ],
      "metadata": {
        "id": "_M9pIVp1v6Rl",
        "outputId": "6497393d-e115-4ab5-fced-4831711c9f2e",
        "colab": {
          "base_uri": "https://localhost:8080/",
          "height": 206
        }
      },
      "execution_count": 25,
      "outputs": [
        {
          "output_type": "execute_result",
          "data": {
            "text/plain": [
              "   施設分類                名称 市区町村名               所在地         緯度          経度\n",
              "0   体育館             中野体育館   中野区   東京都中野区中野4-11-14  35.709118  139.662613\n",
              "1  運動場他  鷺宮スポーツ・コミュニティプラザ   中野区    東京都中野区白鷺3-1-13  35.722069  139.636032\n",
              "2  運動場他  中部スポーツ・コミュニティプラザ   中野区    東京都中野区中央3-19-1  35.700085  139.674225\n",
              "3  運動場他  南部スポーツ・コミュニティプラザ   中野区  東京都中野区弥生町5-11-26  35.688080  139.668823\n",
              "4  運動場他  上高田運動施設（野球場、庭球場）   中野区    東京都中野区上高田5-6-1  35.717289  139.678436"
            ],
            "text/html": [
              "\n",
              "  <div id=\"df-cc3fe965-942d-4094-a55c-0f79eed6e68c\">\n",
              "    <div class=\"colab-df-container\">\n",
              "      <div>\n",
              "<style scoped>\n",
              "    .dataframe tbody tr th:only-of-type {\n",
              "        vertical-align: middle;\n",
              "    }\n",
              "\n",
              "    .dataframe tbody tr th {\n",
              "        vertical-align: top;\n",
              "    }\n",
              "\n",
              "    .dataframe thead th {\n",
              "        text-align: right;\n",
              "    }\n",
              "</style>\n",
              "<table border=\"1\" class=\"dataframe\">\n",
              "  <thead>\n",
              "    <tr style=\"text-align: right;\">\n",
              "      <th></th>\n",
              "      <th>施設分類</th>\n",
              "      <th>名称</th>\n",
              "      <th>市区町村名</th>\n",
              "      <th>所在地</th>\n",
              "      <th>緯度</th>\n",
              "      <th>経度</th>\n",
              "    </tr>\n",
              "  </thead>\n",
              "  <tbody>\n",
              "    <tr>\n",
              "      <th>0</th>\n",
              "      <td>体育館</td>\n",
              "      <td>中野体育館</td>\n",
              "      <td>中野区</td>\n",
              "      <td>東京都中野区中野4-11-14</td>\n",
              "      <td>35.709118</td>\n",
              "      <td>139.662613</td>\n",
              "    </tr>\n",
              "    <tr>\n",
              "      <th>1</th>\n",
              "      <td>運動場他</td>\n",
              "      <td>鷺宮スポーツ・コミュニティプラザ</td>\n",
              "      <td>中野区</td>\n",
              "      <td>東京都中野区白鷺3-1-13</td>\n",
              "      <td>35.722069</td>\n",
              "      <td>139.636032</td>\n",
              "    </tr>\n",
              "    <tr>\n",
              "      <th>2</th>\n",
              "      <td>運動場他</td>\n",
              "      <td>中部スポーツ・コミュニティプラザ</td>\n",
              "      <td>中野区</td>\n",
              "      <td>東京都中野区中央3-19-1</td>\n",
              "      <td>35.700085</td>\n",
              "      <td>139.674225</td>\n",
              "    </tr>\n",
              "    <tr>\n",
              "      <th>3</th>\n",
              "      <td>運動場他</td>\n",
              "      <td>南部スポーツ・コミュニティプラザ</td>\n",
              "      <td>中野区</td>\n",
              "      <td>東京都中野区弥生町5-11-26</td>\n",
              "      <td>35.688080</td>\n",
              "      <td>139.668823</td>\n",
              "    </tr>\n",
              "    <tr>\n",
              "      <th>4</th>\n",
              "      <td>運動場他</td>\n",
              "      <td>上高田運動施設（野球場、庭球場）</td>\n",
              "      <td>中野区</td>\n",
              "      <td>東京都中野区上高田5-6-1</td>\n",
              "      <td>35.717289</td>\n",
              "      <td>139.678436</td>\n",
              "    </tr>\n",
              "  </tbody>\n",
              "</table>\n",
              "</div>\n",
              "      <button class=\"colab-df-convert\" onclick=\"convertToInteractive('df-cc3fe965-942d-4094-a55c-0f79eed6e68c')\"\n",
              "              title=\"Convert this dataframe to an interactive table.\"\n",
              "              style=\"display:none;\">\n",
              "        \n",
              "  <svg xmlns=\"http://www.w3.org/2000/svg\" height=\"24px\"viewBox=\"0 0 24 24\"\n",
              "       width=\"24px\">\n",
              "    <path d=\"M0 0h24v24H0V0z\" fill=\"none\"/>\n",
              "    <path d=\"M18.56 5.44l.94 2.06.94-2.06 2.06-.94-2.06-.94-.94-2.06-.94 2.06-2.06.94zm-11 1L8.5 8.5l.94-2.06 2.06-.94-2.06-.94L8.5 2.5l-.94 2.06-2.06.94zm10 10l.94 2.06.94-2.06 2.06-.94-2.06-.94-.94-2.06-.94 2.06-2.06.94z\"/><path d=\"M17.41 7.96l-1.37-1.37c-.4-.4-.92-.59-1.43-.59-.52 0-1.04.2-1.43.59L10.3 9.45l-7.72 7.72c-.78.78-.78 2.05 0 2.83L4 21.41c.39.39.9.59 1.41.59.51 0 1.02-.2 1.41-.59l7.78-7.78 2.81-2.81c.8-.78.8-2.07 0-2.86zM5.41 20L4 18.59l7.72-7.72 1.47 1.35L5.41 20z\"/>\n",
              "  </svg>\n",
              "      </button>\n",
              "      \n",
              "  <style>\n",
              "    .colab-df-container {\n",
              "      display:flex;\n",
              "      flex-wrap:wrap;\n",
              "      gap: 12px;\n",
              "    }\n",
              "\n",
              "    .colab-df-convert {\n",
              "      background-color: #E8F0FE;\n",
              "      border: none;\n",
              "      border-radius: 50%;\n",
              "      cursor: pointer;\n",
              "      display: none;\n",
              "      fill: #1967D2;\n",
              "      height: 32px;\n",
              "      padding: 0 0 0 0;\n",
              "      width: 32px;\n",
              "    }\n",
              "\n",
              "    .colab-df-convert:hover {\n",
              "      background-color: #E2EBFA;\n",
              "      box-shadow: 0px 1px 2px rgba(60, 64, 67, 0.3), 0px 1px 3px 1px rgba(60, 64, 67, 0.15);\n",
              "      fill: #174EA6;\n",
              "    }\n",
              "\n",
              "    [theme=dark] .colab-df-convert {\n",
              "      background-color: #3B4455;\n",
              "      fill: #D2E3FC;\n",
              "    }\n",
              "\n",
              "    [theme=dark] .colab-df-convert:hover {\n",
              "      background-color: #434B5C;\n",
              "      box-shadow: 0px 1px 3px 1px rgba(0, 0, 0, 0.15);\n",
              "      filter: drop-shadow(0px 1px 2px rgba(0, 0, 0, 0.3));\n",
              "      fill: #FFFFFF;\n",
              "    }\n",
              "  </style>\n",
              "\n",
              "      <script>\n",
              "        const buttonEl =\n",
              "          document.querySelector('#df-cc3fe965-942d-4094-a55c-0f79eed6e68c button.colab-df-convert');\n",
              "        buttonEl.style.display =\n",
              "          google.colab.kernel.accessAllowed ? 'block' : 'none';\n",
              "\n",
              "        async function convertToInteractive(key) {\n",
              "          const element = document.querySelector('#df-cc3fe965-942d-4094-a55c-0f79eed6e68c');\n",
              "          const dataTable =\n",
              "            await google.colab.kernel.invokeFunction('convertToInteractive',\n",
              "                                                     [key], {});\n",
              "          if (!dataTable) return;\n",
              "\n",
              "          const docLinkHtml = 'Like what you see? Visit the ' +\n",
              "            '<a target=\"_blank\" href=https://colab.research.google.com/notebooks/data_table.ipynb>data table notebook</a>'\n",
              "            + ' to learn more about interactive tables.';\n",
              "          element.innerHTML = '';\n",
              "          dataTable['output_type'] = 'display_data';\n",
              "          await google.colab.output.renderOutput(dataTable, element);\n",
              "          const docLink = document.createElement('div');\n",
              "          docLink.innerHTML = docLinkHtml;\n",
              "          element.appendChild(docLink);\n",
              "        }\n",
              "      </script>\n",
              "    </div>\n",
              "  </div>\n",
              "  "
            ]
          },
          "metadata": {},
          "execution_count": 25
        }
      ]
    },
    {
      "cell_type": "markdown",
      "source": [
        "## 15. 杉並区\n",
        "- [オープンデータ一覧](https://www2.wagmap.jp/suginami/opendata?type=shp&ly=930)"
      ],
      "metadata": {
        "id": "hSjl7KggpvrQ"
      }
    },
    {
      "cell_type": "code",
      "source": [
        "df_suginami_sports = pd.read_csv(os.path.join(DIR_NAME, 'original/杉並区_スポーツ施設.csv'))\n",
        "print(df_suginami_sports.shape)\n",
        "\n",
        "df_suginami_sports['施設分類'] = df_suginami_sports['分類'].str.strip()\n",
        "df_suginami_sports.loc[df_suginami_sports['施設分類'] == '運動場', '施設分類'] = '運動場他'\n",
        "df_suginami_sports['市区町村名'] = '杉並区'\n",
        "df_suginami_sports = df_suginami_sports.rename(columns={'住所':'所在地'})[extract_columns]\n",
        "change_type(df_suginami_sports)\n",
        "print(df_suginami_sports.shape)"
      ],
      "metadata": {
        "id": "g5hbxUr2rP5g",
        "outputId": "81eaa425-f0b0-4714-e3db-84fa1fd5d3b9",
        "colab": {
          "base_uri": "https://localhost:8080/"
        }
      },
      "execution_count": 26,
      "outputs": [
        {
          "output_type": "stream",
          "name": "stdout",
          "text": [
            "(21, 9)\n",
            "(21, 6)\n"
          ]
        }
      ]
    },
    {
      "cell_type": "code",
      "source": [
        "df_suginami_sports.head()"
      ],
      "metadata": {
        "id": "oivkhNW5FpH9",
        "outputId": "26929f0f-0b99-4b7f-ba6e-7fc72326bc5a",
        "colab": {
          "base_uri": "https://localhost:8080/",
          "height": 206
        }
      },
      "execution_count": 27,
      "outputs": [
        {
          "output_type": "execute_result",
          "data": {
            "text/plain": [
              "   施設分類                      名称 市区町村名           所在地         緯度          経度\n",
              "0  運動場他                井草森公園運動場   杉並区    井草4丁目12番1号  35.726903  139.611067\n",
              "1  運動場他                柏の宮公園庭球場   杉並区    浜田山2丁目5番1号  35.678948  139.625214\n",
              "2  運動場他  TAC杉並区上井草スポーツセンター（運動場）   杉並区   上井草3丁目34番1号  35.722923  139.601737\n",
              "3  運動場他               蚕糸の森公園運動場   杉並区   和田3丁目55番49号  35.697234  139.656746\n",
              "4  運動場他                 下高井戸運動場   杉並区  下高井戸3丁目26番1号  35.672959  139.635498"
            ],
            "text/html": [
              "\n",
              "  <div id=\"df-e2c3c360-3a2f-4145-a81c-95de1e895b79\">\n",
              "    <div class=\"colab-df-container\">\n",
              "      <div>\n",
              "<style scoped>\n",
              "    .dataframe tbody tr th:only-of-type {\n",
              "        vertical-align: middle;\n",
              "    }\n",
              "\n",
              "    .dataframe tbody tr th {\n",
              "        vertical-align: top;\n",
              "    }\n",
              "\n",
              "    .dataframe thead th {\n",
              "        text-align: right;\n",
              "    }\n",
              "</style>\n",
              "<table border=\"1\" class=\"dataframe\">\n",
              "  <thead>\n",
              "    <tr style=\"text-align: right;\">\n",
              "      <th></th>\n",
              "      <th>施設分類</th>\n",
              "      <th>名称</th>\n",
              "      <th>市区町村名</th>\n",
              "      <th>所在地</th>\n",
              "      <th>緯度</th>\n",
              "      <th>経度</th>\n",
              "    </tr>\n",
              "  </thead>\n",
              "  <tbody>\n",
              "    <tr>\n",
              "      <th>0</th>\n",
              "      <td>運動場他</td>\n",
              "      <td>井草森公園運動場</td>\n",
              "      <td>杉並区</td>\n",
              "      <td>井草4丁目12番1号</td>\n",
              "      <td>35.726903</td>\n",
              "      <td>139.611067</td>\n",
              "    </tr>\n",
              "    <tr>\n",
              "      <th>1</th>\n",
              "      <td>運動場他</td>\n",
              "      <td>柏の宮公園庭球場</td>\n",
              "      <td>杉並区</td>\n",
              "      <td>浜田山2丁目5番1号</td>\n",
              "      <td>35.678948</td>\n",
              "      <td>139.625214</td>\n",
              "    </tr>\n",
              "    <tr>\n",
              "      <th>2</th>\n",
              "      <td>運動場他</td>\n",
              "      <td>TAC杉並区上井草スポーツセンター（運動場）</td>\n",
              "      <td>杉並区</td>\n",
              "      <td>上井草3丁目34番1号</td>\n",
              "      <td>35.722923</td>\n",
              "      <td>139.601737</td>\n",
              "    </tr>\n",
              "    <tr>\n",
              "      <th>3</th>\n",
              "      <td>運動場他</td>\n",
              "      <td>蚕糸の森公園運動場</td>\n",
              "      <td>杉並区</td>\n",
              "      <td>和田3丁目55番49号</td>\n",
              "      <td>35.697234</td>\n",
              "      <td>139.656746</td>\n",
              "    </tr>\n",
              "    <tr>\n",
              "      <th>4</th>\n",
              "      <td>運動場他</td>\n",
              "      <td>下高井戸運動場</td>\n",
              "      <td>杉並区</td>\n",
              "      <td>下高井戸3丁目26番1号</td>\n",
              "      <td>35.672959</td>\n",
              "      <td>139.635498</td>\n",
              "    </tr>\n",
              "  </tbody>\n",
              "</table>\n",
              "</div>\n",
              "      <button class=\"colab-df-convert\" onclick=\"convertToInteractive('df-e2c3c360-3a2f-4145-a81c-95de1e895b79')\"\n",
              "              title=\"Convert this dataframe to an interactive table.\"\n",
              "              style=\"display:none;\">\n",
              "        \n",
              "  <svg xmlns=\"http://www.w3.org/2000/svg\" height=\"24px\"viewBox=\"0 0 24 24\"\n",
              "       width=\"24px\">\n",
              "    <path d=\"M0 0h24v24H0V0z\" fill=\"none\"/>\n",
              "    <path d=\"M18.56 5.44l.94 2.06.94-2.06 2.06-.94-2.06-.94-.94-2.06-.94 2.06-2.06.94zm-11 1L8.5 8.5l.94-2.06 2.06-.94-2.06-.94L8.5 2.5l-.94 2.06-2.06.94zm10 10l.94 2.06.94-2.06 2.06-.94-2.06-.94-.94-2.06-.94 2.06-2.06.94z\"/><path d=\"M17.41 7.96l-1.37-1.37c-.4-.4-.92-.59-1.43-.59-.52 0-1.04.2-1.43.59L10.3 9.45l-7.72 7.72c-.78.78-.78 2.05 0 2.83L4 21.41c.39.39.9.59 1.41.59.51 0 1.02-.2 1.41-.59l7.78-7.78 2.81-2.81c.8-.78.8-2.07 0-2.86zM5.41 20L4 18.59l7.72-7.72 1.47 1.35L5.41 20z\"/>\n",
              "  </svg>\n",
              "      </button>\n",
              "      \n",
              "  <style>\n",
              "    .colab-df-container {\n",
              "      display:flex;\n",
              "      flex-wrap:wrap;\n",
              "      gap: 12px;\n",
              "    }\n",
              "\n",
              "    .colab-df-convert {\n",
              "      background-color: #E8F0FE;\n",
              "      border: none;\n",
              "      border-radius: 50%;\n",
              "      cursor: pointer;\n",
              "      display: none;\n",
              "      fill: #1967D2;\n",
              "      height: 32px;\n",
              "      padding: 0 0 0 0;\n",
              "      width: 32px;\n",
              "    }\n",
              "\n",
              "    .colab-df-convert:hover {\n",
              "      background-color: #E2EBFA;\n",
              "      box-shadow: 0px 1px 2px rgba(60, 64, 67, 0.3), 0px 1px 3px 1px rgba(60, 64, 67, 0.15);\n",
              "      fill: #174EA6;\n",
              "    }\n",
              "\n",
              "    [theme=dark] .colab-df-convert {\n",
              "      background-color: #3B4455;\n",
              "      fill: #D2E3FC;\n",
              "    }\n",
              "\n",
              "    [theme=dark] .colab-df-convert:hover {\n",
              "      background-color: #434B5C;\n",
              "      box-shadow: 0px 1px 3px 1px rgba(0, 0, 0, 0.15);\n",
              "      filter: drop-shadow(0px 1px 2px rgba(0, 0, 0, 0.3));\n",
              "      fill: #FFFFFF;\n",
              "    }\n",
              "  </style>\n",
              "\n",
              "      <script>\n",
              "        const buttonEl =\n",
              "          document.querySelector('#df-e2c3c360-3a2f-4145-a81c-95de1e895b79 button.colab-df-convert');\n",
              "        buttonEl.style.display =\n",
              "          google.colab.kernel.accessAllowed ? 'block' : 'none';\n",
              "\n",
              "        async function convertToInteractive(key) {\n",
              "          const element = document.querySelector('#df-e2c3c360-3a2f-4145-a81c-95de1e895b79');\n",
              "          const dataTable =\n",
              "            await google.colab.kernel.invokeFunction('convertToInteractive',\n",
              "                                                     [key], {});\n",
              "          if (!dataTable) return;\n",
              "\n",
              "          const docLinkHtml = 'Like what you see? Visit the ' +\n",
              "            '<a target=\"_blank\" href=https://colab.research.google.com/notebooks/data_table.ipynb>data table notebook</a>'\n",
              "            + ' to learn more about interactive tables.';\n",
              "          element.innerHTML = '';\n",
              "          dataTable['output_type'] = 'display_data';\n",
              "          await google.colab.output.renderOutput(dataTable, element);\n",
              "          const docLink = document.createElement('div');\n",
              "          docLink.innerHTML = docLinkHtml;\n",
              "          element.appendChild(docLink);\n",
              "        }\n",
              "      </script>\n",
              "    </div>\n",
              "  </div>\n",
              "  "
            ]
          },
          "metadata": {},
          "execution_count": 27
        }
      ]
    },
    {
      "cell_type": "markdown",
      "source": [
        "## 16. 豊島区\n",
        "- [公共施設一覧](https://catalog.data.metro.tokyo.lg.jp/dataset/t131164d0000000010/resource/472e6a97-b350-4909-a939-76530a570324)"
      ],
      "metadata": {
        "id": "RL7zKUAz0bBI"
      }
    },
    {
      "cell_type": "code",
      "source": [
        "url_toshima_facility = 'https://www.opendata.metro.tokyo.lg.jp/toyoshima/R4_public_facility.csv'\n",
        "df_toshima_facility = get_data_csv_url(url_toshima_facility, encoding='cp932')\n",
        "print(df_toshima_facility.shape)\n",
        "\n",
        "df_toshima_facility['施設分類'] = df_toshima_facility['名称'].apply(get_category_facility)\n",
        "df_toshima_facility = df_toshima_facility[\n",
        "    (df_toshima_facility['施設分類'].isin(['体育館', '運動場他', 'プール']))\n",
        "].rename(columns={'住所': '所在地'})[extract_columns].reset_index(drop=True)\n",
        "change_type(df_toshima_facility)\n",
        "print(df_toshima_facility.shape)"
      ],
      "metadata": {
        "colab": {
          "base_uri": "https://localhost:8080/"
        },
        "id": "EsxQYBw7ElDu",
        "outputId": "ad63e3dc-a504-4642-82b5-3bda9e58daaf"
      },
      "execution_count": 28,
      "outputs": [
        {
          "output_type": "stream",
          "name": "stdout",
          "text": [
            "(538, 24)\n",
            "(9, 6)\n"
          ]
        }
      ]
    },
    {
      "cell_type": "code",
      "source": [
        "df_toshima_facility"
      ],
      "metadata": {
        "id": "3QS8_p67GtEF",
        "outputId": "1bd8a418-e50c-42bd-8aca-fb06b20f8701",
        "colab": {
          "base_uri": "https://localhost:8080/",
          "height": 332
        }
      },
      "execution_count": 29,
      "outputs": [
        {
          "output_type": "execute_result",
          "data": {
            "text/plain": [
              "   施設分類               名称 市区町村名               所在地        緯度         経度\n",
              "0   体育館            巣鴨体育館   豊島区     東京都豊島区巣鴨3-8-7  35.73415  139.73347\n",
              "1  運動場他       池袋スポーツセンター   豊島区    東京都豊島区上池袋2-5-1  35.73480  139.71475\n",
              "2   体育館          雑司が谷体育館   豊島区   東京都豊島区雑司が谷3-1-7  35.71957  139.71385\n",
              "3  運動場他  南長崎中央公園スポーツセンター   豊島区   東京都豊島区南長崎4-13-5  35.72449  139.68369\n",
              "4   体育館            豊島体育館   豊島区    東京都豊島区要町3-47-8  35.73994  139.68948\n",
              "5  運動場他           西巣鴨体育場   豊島区  東京都豊島区西巣鴨4-22-19  35.74472  139.73116\n",
              "6  運動場他            総合体育場   豊島区  東京都豊島区東池袋4-41-30  35.72938  139.72264\n",
              "7  運動場他           三芳グランド   豊島区  埼玉県入間郡三芳町上富382-1  35.82965  139.51230\n",
              "8  運動場他            荒川野球場   豊島区   東京都板橋区新河岸3荒川河川敷  35.79680  139.65254"
            ],
            "text/html": [
              "\n",
              "  <div id=\"df-8bfa12e1-12ea-4daa-bc99-62bb8a2da380\">\n",
              "    <div class=\"colab-df-container\">\n",
              "      <div>\n",
              "<style scoped>\n",
              "    .dataframe tbody tr th:only-of-type {\n",
              "        vertical-align: middle;\n",
              "    }\n",
              "\n",
              "    .dataframe tbody tr th {\n",
              "        vertical-align: top;\n",
              "    }\n",
              "\n",
              "    .dataframe thead th {\n",
              "        text-align: right;\n",
              "    }\n",
              "</style>\n",
              "<table border=\"1\" class=\"dataframe\">\n",
              "  <thead>\n",
              "    <tr style=\"text-align: right;\">\n",
              "      <th></th>\n",
              "      <th>施設分類</th>\n",
              "      <th>名称</th>\n",
              "      <th>市区町村名</th>\n",
              "      <th>所在地</th>\n",
              "      <th>緯度</th>\n",
              "      <th>経度</th>\n",
              "    </tr>\n",
              "  </thead>\n",
              "  <tbody>\n",
              "    <tr>\n",
              "      <th>0</th>\n",
              "      <td>体育館</td>\n",
              "      <td>巣鴨体育館</td>\n",
              "      <td>豊島区</td>\n",
              "      <td>東京都豊島区巣鴨3-8-7</td>\n",
              "      <td>35.73415</td>\n",
              "      <td>139.73347</td>\n",
              "    </tr>\n",
              "    <tr>\n",
              "      <th>1</th>\n",
              "      <td>運動場他</td>\n",
              "      <td>池袋スポーツセンター</td>\n",
              "      <td>豊島区</td>\n",
              "      <td>東京都豊島区上池袋2-5-1</td>\n",
              "      <td>35.73480</td>\n",
              "      <td>139.71475</td>\n",
              "    </tr>\n",
              "    <tr>\n",
              "      <th>2</th>\n",
              "      <td>体育館</td>\n",
              "      <td>雑司が谷体育館</td>\n",
              "      <td>豊島区</td>\n",
              "      <td>東京都豊島区雑司が谷3-1-7</td>\n",
              "      <td>35.71957</td>\n",
              "      <td>139.71385</td>\n",
              "    </tr>\n",
              "    <tr>\n",
              "      <th>3</th>\n",
              "      <td>運動場他</td>\n",
              "      <td>南長崎中央公園スポーツセンター</td>\n",
              "      <td>豊島区</td>\n",
              "      <td>東京都豊島区南長崎4-13-5</td>\n",
              "      <td>35.72449</td>\n",
              "      <td>139.68369</td>\n",
              "    </tr>\n",
              "    <tr>\n",
              "      <th>4</th>\n",
              "      <td>体育館</td>\n",
              "      <td>豊島体育館</td>\n",
              "      <td>豊島区</td>\n",
              "      <td>東京都豊島区要町3-47-8</td>\n",
              "      <td>35.73994</td>\n",
              "      <td>139.68948</td>\n",
              "    </tr>\n",
              "    <tr>\n",
              "      <th>5</th>\n",
              "      <td>運動場他</td>\n",
              "      <td>西巣鴨体育場</td>\n",
              "      <td>豊島区</td>\n",
              "      <td>東京都豊島区西巣鴨4-22-19</td>\n",
              "      <td>35.74472</td>\n",
              "      <td>139.73116</td>\n",
              "    </tr>\n",
              "    <tr>\n",
              "      <th>6</th>\n",
              "      <td>運動場他</td>\n",
              "      <td>総合体育場</td>\n",
              "      <td>豊島区</td>\n",
              "      <td>東京都豊島区東池袋4-41-30</td>\n",
              "      <td>35.72938</td>\n",
              "      <td>139.72264</td>\n",
              "    </tr>\n",
              "    <tr>\n",
              "      <th>7</th>\n",
              "      <td>運動場他</td>\n",
              "      <td>三芳グランド</td>\n",
              "      <td>豊島区</td>\n",
              "      <td>埼玉県入間郡三芳町上富382-1</td>\n",
              "      <td>35.82965</td>\n",
              "      <td>139.51230</td>\n",
              "    </tr>\n",
              "    <tr>\n",
              "      <th>8</th>\n",
              "      <td>運動場他</td>\n",
              "      <td>荒川野球場</td>\n",
              "      <td>豊島区</td>\n",
              "      <td>東京都板橋区新河岸3荒川河川敷</td>\n",
              "      <td>35.79680</td>\n",
              "      <td>139.65254</td>\n",
              "    </tr>\n",
              "  </tbody>\n",
              "</table>\n",
              "</div>\n",
              "      <button class=\"colab-df-convert\" onclick=\"convertToInteractive('df-8bfa12e1-12ea-4daa-bc99-62bb8a2da380')\"\n",
              "              title=\"Convert this dataframe to an interactive table.\"\n",
              "              style=\"display:none;\">\n",
              "        \n",
              "  <svg xmlns=\"http://www.w3.org/2000/svg\" height=\"24px\"viewBox=\"0 0 24 24\"\n",
              "       width=\"24px\">\n",
              "    <path d=\"M0 0h24v24H0V0z\" fill=\"none\"/>\n",
              "    <path d=\"M18.56 5.44l.94 2.06.94-2.06 2.06-.94-2.06-.94-.94-2.06-.94 2.06-2.06.94zm-11 1L8.5 8.5l.94-2.06 2.06-.94-2.06-.94L8.5 2.5l-.94 2.06-2.06.94zm10 10l.94 2.06.94-2.06 2.06-.94-2.06-.94-.94-2.06-.94 2.06-2.06.94z\"/><path d=\"M17.41 7.96l-1.37-1.37c-.4-.4-.92-.59-1.43-.59-.52 0-1.04.2-1.43.59L10.3 9.45l-7.72 7.72c-.78.78-.78 2.05 0 2.83L4 21.41c.39.39.9.59 1.41.59.51 0 1.02-.2 1.41-.59l7.78-7.78 2.81-2.81c.8-.78.8-2.07 0-2.86zM5.41 20L4 18.59l7.72-7.72 1.47 1.35L5.41 20z\"/>\n",
              "  </svg>\n",
              "      </button>\n",
              "      \n",
              "  <style>\n",
              "    .colab-df-container {\n",
              "      display:flex;\n",
              "      flex-wrap:wrap;\n",
              "      gap: 12px;\n",
              "    }\n",
              "\n",
              "    .colab-df-convert {\n",
              "      background-color: #E8F0FE;\n",
              "      border: none;\n",
              "      border-radius: 50%;\n",
              "      cursor: pointer;\n",
              "      display: none;\n",
              "      fill: #1967D2;\n",
              "      height: 32px;\n",
              "      padding: 0 0 0 0;\n",
              "      width: 32px;\n",
              "    }\n",
              "\n",
              "    .colab-df-convert:hover {\n",
              "      background-color: #E2EBFA;\n",
              "      box-shadow: 0px 1px 2px rgba(60, 64, 67, 0.3), 0px 1px 3px 1px rgba(60, 64, 67, 0.15);\n",
              "      fill: #174EA6;\n",
              "    }\n",
              "\n",
              "    [theme=dark] .colab-df-convert {\n",
              "      background-color: #3B4455;\n",
              "      fill: #D2E3FC;\n",
              "    }\n",
              "\n",
              "    [theme=dark] .colab-df-convert:hover {\n",
              "      background-color: #434B5C;\n",
              "      box-shadow: 0px 1px 3px 1px rgba(0, 0, 0, 0.15);\n",
              "      filter: drop-shadow(0px 1px 2px rgba(0, 0, 0, 0.3));\n",
              "      fill: #FFFFFF;\n",
              "    }\n",
              "  </style>\n",
              "\n",
              "      <script>\n",
              "        const buttonEl =\n",
              "          document.querySelector('#df-8bfa12e1-12ea-4daa-bc99-62bb8a2da380 button.colab-df-convert');\n",
              "        buttonEl.style.display =\n",
              "          google.colab.kernel.accessAllowed ? 'block' : 'none';\n",
              "\n",
              "        async function convertToInteractive(key) {\n",
              "          const element = document.querySelector('#df-8bfa12e1-12ea-4daa-bc99-62bb8a2da380');\n",
              "          const dataTable =\n",
              "            await google.colab.kernel.invokeFunction('convertToInteractive',\n",
              "                                                     [key], {});\n",
              "          if (!dataTable) return;\n",
              "\n",
              "          const docLinkHtml = 'Like what you see? Visit the ' +\n",
              "            '<a target=\"_blank\" href=https://colab.research.google.com/notebooks/data_table.ipynb>data table notebook</a>'\n",
              "            + ' to learn more about interactive tables.';\n",
              "          element.innerHTML = '';\n",
              "          dataTable['output_type'] = 'display_data';\n",
              "          await google.colab.output.renderOutput(dataTable, element);\n",
              "          const docLink = document.createElement('div');\n",
              "          docLink.innerHTML = docLinkHtml;\n",
              "          element.appendChild(docLink);\n",
              "        }\n",
              "      </script>\n",
              "    </div>\n",
              "  </div>\n",
              "  "
            ]
          },
          "metadata": {},
          "execution_count": 29
        }
      ]
    },
    {
      "cell_type": "markdown",
      "source": [
        "## 17. 北区\n"
      ],
      "metadata": {
        "id": "u9OKlv_M0WpZ"
      }
    },
    {
      "cell_type": "markdown",
      "source": [
        "## 18. 荒川区\n"
      ],
      "metadata": {
        "id": "zy6eSKS20T2p"
      }
    },
    {
      "cell_type": "markdown",
      "source": [
        "## 19. 板橋区\n",
        "- [どこでも誰でもおでかけマップオープンデータ（公共施設）](https://catalog.data.metro.tokyo.lg.jp/dataset/t131199d0000000761/resource/0fb29627-2244-4647-a2e4-3c1daef472ad) -> 体育館、プール"
      ],
      "metadata": {
        "id": "VUkqCI22urni"
      }
    },
    {
      "cell_type": "code",
      "source": [
        "url_itabashi_facility = 'https://www.city.itabashi.tokyo.jp/_res/projects/default_project/_page_/001/006/127/r3-1.csv'\n",
        "df_itabashi_facility = get_data_csv_url(url_itabashi_facility, encoding='shift-jis')\n",
        "print(df_itabashi_facility.shape)\n",
        "\n",
        "df_itabashi_facility['市区町村名'] = '板橋区'\n",
        "df_itabashi_facility['施設分類'] = df_itabashi_facility['施設名称'].apply(get_category_facility)\n",
        "df_itabashi_facility['緯度'] = df_itabashi_facility['GEOM'].apply(lambda x: x.split(':')[1])\n",
        "df_itabashi_facility['経度'] = df_itabashi_facility['GEOM'].apply(lambda x: x.split(':')[0])\n",
        "df_itabashi_facility = df_itabashi_facility[\n",
        "    (df_itabashi_facility['施設分類'].isin(['体育館', '運動場他', 'プール']))\n",
        "].rename(columns={'施設名称':'名称', '住所':'所在地'})[extract_columns]\n",
        "change_type(df_itabashi_facility)\n",
        "print(df_itabashi_facility.shape)"
      ],
      "metadata": {
        "colab": {
          "base_uri": "https://localhost:8080/"
        },
        "id": "tTmDLX5BGJiO",
        "outputId": "6114b42c-0d60-4f70-e8fb-ba7bbabbb532"
      },
      "execution_count": 30,
      "outputs": [
        {
          "output_type": "stream",
          "name": "stdout",
          "text": [
            "(128, 56)\n",
            "(6, 6)\n"
          ]
        }
      ]
    },
    {
      "cell_type": "code",
      "source": [
        "df_itabashi_facility"
      ],
      "metadata": {
        "id": "0wR7q7pixnIK",
        "outputId": "554e24f7-faa4-4aee-d9a8-850b997c8ed5",
        "colab": {
          "base_uri": "https://localhost:8080/",
          "height": 238
        }
      },
      "execution_count": 31,
      "outputs": [
        {
          "output_type": "execute_result",
          "data": {
            "text/plain": [
              "     施設分類              名称 市区町村名        所在地         緯度          経度\n",
              "9     プール        高島平温水プール   板橋区  高島平8-28-1  35.788313  139.667867\n",
              "38    体育館          上板橋体育館   板橋区    桜川1-3-1  35.753820  139.678944\n",
              "72    体育館          小豆沢体育館   板橋区   小豆沢3-1-1  35.775401  139.701417\n",
              "94    体育館           赤塚体育館   板橋区    赤塚5-6-1  35.774694  139.645030\n",
              "109  運動場他  植村記念加賀スポーツセンター   板橋区   加賀1-10-5  35.750344  139.718980\n",
              "127  運動場他   あずさわスポーツフィールド   板橋区     小豆沢３−１  35.775367  139.700633"
            ],
            "text/html": [
              "\n",
              "  <div id=\"df-30cbf60b-a5b2-4213-843d-dbe1ac01a08c\">\n",
              "    <div class=\"colab-df-container\">\n",
              "      <div>\n",
              "<style scoped>\n",
              "    .dataframe tbody tr th:only-of-type {\n",
              "        vertical-align: middle;\n",
              "    }\n",
              "\n",
              "    .dataframe tbody tr th {\n",
              "        vertical-align: top;\n",
              "    }\n",
              "\n",
              "    .dataframe thead th {\n",
              "        text-align: right;\n",
              "    }\n",
              "</style>\n",
              "<table border=\"1\" class=\"dataframe\">\n",
              "  <thead>\n",
              "    <tr style=\"text-align: right;\">\n",
              "      <th></th>\n",
              "      <th>施設分類</th>\n",
              "      <th>名称</th>\n",
              "      <th>市区町村名</th>\n",
              "      <th>所在地</th>\n",
              "      <th>緯度</th>\n",
              "      <th>経度</th>\n",
              "    </tr>\n",
              "  </thead>\n",
              "  <tbody>\n",
              "    <tr>\n",
              "      <th>9</th>\n",
              "      <td>プール</td>\n",
              "      <td>高島平温水プール</td>\n",
              "      <td>板橋区</td>\n",
              "      <td>高島平8-28-1</td>\n",
              "      <td>35.788313</td>\n",
              "      <td>139.667867</td>\n",
              "    </tr>\n",
              "    <tr>\n",
              "      <th>38</th>\n",
              "      <td>体育館</td>\n",
              "      <td>上板橋体育館</td>\n",
              "      <td>板橋区</td>\n",
              "      <td>桜川1-3-1</td>\n",
              "      <td>35.753820</td>\n",
              "      <td>139.678944</td>\n",
              "    </tr>\n",
              "    <tr>\n",
              "      <th>72</th>\n",
              "      <td>体育館</td>\n",
              "      <td>小豆沢体育館</td>\n",
              "      <td>板橋区</td>\n",
              "      <td>小豆沢3-1-1</td>\n",
              "      <td>35.775401</td>\n",
              "      <td>139.701417</td>\n",
              "    </tr>\n",
              "    <tr>\n",
              "      <th>94</th>\n",
              "      <td>体育館</td>\n",
              "      <td>赤塚体育館</td>\n",
              "      <td>板橋区</td>\n",
              "      <td>赤塚5-6-1</td>\n",
              "      <td>35.774694</td>\n",
              "      <td>139.645030</td>\n",
              "    </tr>\n",
              "    <tr>\n",
              "      <th>109</th>\n",
              "      <td>運動場他</td>\n",
              "      <td>植村記念加賀スポーツセンター</td>\n",
              "      <td>板橋区</td>\n",
              "      <td>加賀1-10-5</td>\n",
              "      <td>35.750344</td>\n",
              "      <td>139.718980</td>\n",
              "    </tr>\n",
              "    <tr>\n",
              "      <th>127</th>\n",
              "      <td>運動場他</td>\n",
              "      <td>あずさわスポーツフィールド</td>\n",
              "      <td>板橋区</td>\n",
              "      <td>小豆沢３−１</td>\n",
              "      <td>35.775367</td>\n",
              "      <td>139.700633</td>\n",
              "    </tr>\n",
              "  </tbody>\n",
              "</table>\n",
              "</div>\n",
              "      <button class=\"colab-df-convert\" onclick=\"convertToInteractive('df-30cbf60b-a5b2-4213-843d-dbe1ac01a08c')\"\n",
              "              title=\"Convert this dataframe to an interactive table.\"\n",
              "              style=\"display:none;\">\n",
              "        \n",
              "  <svg xmlns=\"http://www.w3.org/2000/svg\" height=\"24px\"viewBox=\"0 0 24 24\"\n",
              "       width=\"24px\">\n",
              "    <path d=\"M0 0h24v24H0V0z\" fill=\"none\"/>\n",
              "    <path d=\"M18.56 5.44l.94 2.06.94-2.06 2.06-.94-2.06-.94-.94-2.06-.94 2.06-2.06.94zm-11 1L8.5 8.5l.94-2.06 2.06-.94-2.06-.94L8.5 2.5l-.94 2.06-2.06.94zm10 10l.94 2.06.94-2.06 2.06-.94-2.06-.94-.94-2.06-.94 2.06-2.06.94z\"/><path d=\"M17.41 7.96l-1.37-1.37c-.4-.4-.92-.59-1.43-.59-.52 0-1.04.2-1.43.59L10.3 9.45l-7.72 7.72c-.78.78-.78 2.05 0 2.83L4 21.41c.39.39.9.59 1.41.59.51 0 1.02-.2 1.41-.59l7.78-7.78 2.81-2.81c.8-.78.8-2.07 0-2.86zM5.41 20L4 18.59l7.72-7.72 1.47 1.35L5.41 20z\"/>\n",
              "  </svg>\n",
              "      </button>\n",
              "      \n",
              "  <style>\n",
              "    .colab-df-container {\n",
              "      display:flex;\n",
              "      flex-wrap:wrap;\n",
              "      gap: 12px;\n",
              "    }\n",
              "\n",
              "    .colab-df-convert {\n",
              "      background-color: #E8F0FE;\n",
              "      border: none;\n",
              "      border-radius: 50%;\n",
              "      cursor: pointer;\n",
              "      display: none;\n",
              "      fill: #1967D2;\n",
              "      height: 32px;\n",
              "      padding: 0 0 0 0;\n",
              "      width: 32px;\n",
              "    }\n",
              "\n",
              "    .colab-df-convert:hover {\n",
              "      background-color: #E2EBFA;\n",
              "      box-shadow: 0px 1px 2px rgba(60, 64, 67, 0.3), 0px 1px 3px 1px rgba(60, 64, 67, 0.15);\n",
              "      fill: #174EA6;\n",
              "    }\n",
              "\n",
              "    [theme=dark] .colab-df-convert {\n",
              "      background-color: #3B4455;\n",
              "      fill: #D2E3FC;\n",
              "    }\n",
              "\n",
              "    [theme=dark] .colab-df-convert:hover {\n",
              "      background-color: #434B5C;\n",
              "      box-shadow: 0px 1px 3px 1px rgba(0, 0, 0, 0.15);\n",
              "      filter: drop-shadow(0px 1px 2px rgba(0, 0, 0, 0.3));\n",
              "      fill: #FFFFFF;\n",
              "    }\n",
              "  </style>\n",
              "\n",
              "      <script>\n",
              "        const buttonEl =\n",
              "          document.querySelector('#df-30cbf60b-a5b2-4213-843d-dbe1ac01a08c button.colab-df-convert');\n",
              "        buttonEl.style.display =\n",
              "          google.colab.kernel.accessAllowed ? 'block' : 'none';\n",
              "\n",
              "        async function convertToInteractive(key) {\n",
              "          const element = document.querySelector('#df-30cbf60b-a5b2-4213-843d-dbe1ac01a08c');\n",
              "          const dataTable =\n",
              "            await google.colab.kernel.invokeFunction('convertToInteractive',\n",
              "                                                     [key], {});\n",
              "          if (!dataTable) return;\n",
              "\n",
              "          const docLinkHtml = 'Like what you see? Visit the ' +\n",
              "            '<a target=\"_blank\" href=https://colab.research.google.com/notebooks/data_table.ipynb>data table notebook</a>'\n",
              "            + ' to learn more about interactive tables.';\n",
              "          element.innerHTML = '';\n",
              "          dataTable['output_type'] = 'display_data';\n",
              "          await google.colab.output.renderOutput(dataTable, element);\n",
              "          const docLink = document.createElement('div');\n",
              "          docLink.innerHTML = docLinkHtml;\n",
              "          element.appendChild(docLink);\n",
              "        }\n",
              "      </script>\n",
              "    </div>\n",
              "  </div>\n",
              "  "
            ]
          },
          "metadata": {},
          "execution_count": 31
        }
      ]
    },
    {
      "cell_type": "markdown",
      "source": [
        "## 20. 練馬区\n",
        "- [体育館](https://catalog.data.metro.tokyo.lg.jp/dataset/t131202d0000000101/resource/a239eafb-449a-4e56-85fc-c6c0146e4f0e)"
      ],
      "metadata": {
        "id": "IrUQq4O1R_U-"
      }
    },
    {
      "cell_type": "code",
      "source": [
        "url_nerima_sports = 'https://www.city.nerima.tokyo.jp/kusei/tokei/opendata/opendatasite/sisetsujyouhou/taiikukan.files/56_taiikukan.csv'\n",
        "df_nerima_sports = get_data_csv_url(url_nerima_sports, encoding='shift-jis')\n",
        "print(df_nerima_sports.shape)\n",
        "\n",
        "df_nerima_sports['市区町村名'] = '練馬区'\n",
        "df_nerima_sports['施設分類'] = '体育館'\n",
        "df_nerima_sports = df_nerima_sports[extract_columns]\n",
        "change_type(df_nerima_sports)\n",
        "print(df_nerima_sports.shape)"
      ],
      "metadata": {
        "id": "pwvTvknwqyhj",
        "outputId": "63da1301-6203-4a53-8d65-bb76c1e964e4",
        "colab": {
          "base_uri": "https://localhost:8080/"
        }
      },
      "execution_count": 32,
      "outputs": [
        {
          "output_type": "stream",
          "name": "stdout",
          "text": [
            "(7, 5)\n",
            "(7, 6)\n"
          ]
        }
      ]
    },
    {
      "cell_type": "code",
      "source": [
        "df_nerima_sports"
      ],
      "metadata": {
        "id": "r34CQDfNze0p",
        "outputId": "7d850941-6ab9-4c52-bdc3-c9814d57fe9b",
        "colab": {
          "base_uri": "https://localhost:8080/",
          "height": 269
        }
      },
      "execution_count": 33,
      "outputs": [
        {
          "output_type": "execute_result",
          "data": {
            "text/plain": [
              "  施設分類             名称 市区町村名              所在地         緯度          経度\n",
              "0  体育館          桜台体育館   練馬区      練馬区桜台3-28-1  35.745553  139.666220\n",
              "1  体育館         平和台体育館   練馬区     練馬区平和台2-12-5  35.759427  139.661423\n",
              "2  体育館         光が丘体育館   練馬区      練馬区光が丘4-1-4  35.764067  139.630290\n",
              "3  体育館          総合体育館   練馬区       練馬区谷原1-7-5  35.749539  139.621278\n",
              "4  体育館       大泉学園町体育館   練馬区  練馬区大泉学園町5-14-24  35.765285  139.584097\n",
              "5  体育館        上石神井体育館   練馬区   練馬区上石神井1-32-37  35.722472  139.587207\n",
              "6  体育館  中村南スポーツ交流センター   練馬区     練馬区中村南1-2-32  35.729224  139.648692"
            ],
            "text/html": [
              "\n",
              "  <div id=\"df-fb37c548-6518-4d96-ac74-221b5acb2696\">\n",
              "    <div class=\"colab-df-container\">\n",
              "      <div>\n",
              "<style scoped>\n",
              "    .dataframe tbody tr th:only-of-type {\n",
              "        vertical-align: middle;\n",
              "    }\n",
              "\n",
              "    .dataframe tbody tr th {\n",
              "        vertical-align: top;\n",
              "    }\n",
              "\n",
              "    .dataframe thead th {\n",
              "        text-align: right;\n",
              "    }\n",
              "</style>\n",
              "<table border=\"1\" class=\"dataframe\">\n",
              "  <thead>\n",
              "    <tr style=\"text-align: right;\">\n",
              "      <th></th>\n",
              "      <th>施設分類</th>\n",
              "      <th>名称</th>\n",
              "      <th>市区町村名</th>\n",
              "      <th>所在地</th>\n",
              "      <th>緯度</th>\n",
              "      <th>経度</th>\n",
              "    </tr>\n",
              "  </thead>\n",
              "  <tbody>\n",
              "    <tr>\n",
              "      <th>0</th>\n",
              "      <td>体育館</td>\n",
              "      <td>桜台体育館</td>\n",
              "      <td>練馬区</td>\n",
              "      <td>練馬区桜台3-28-1</td>\n",
              "      <td>35.745553</td>\n",
              "      <td>139.666220</td>\n",
              "    </tr>\n",
              "    <tr>\n",
              "      <th>1</th>\n",
              "      <td>体育館</td>\n",
              "      <td>平和台体育館</td>\n",
              "      <td>練馬区</td>\n",
              "      <td>練馬区平和台2-12-5</td>\n",
              "      <td>35.759427</td>\n",
              "      <td>139.661423</td>\n",
              "    </tr>\n",
              "    <tr>\n",
              "      <th>2</th>\n",
              "      <td>体育館</td>\n",
              "      <td>光が丘体育館</td>\n",
              "      <td>練馬区</td>\n",
              "      <td>練馬区光が丘4-1-4</td>\n",
              "      <td>35.764067</td>\n",
              "      <td>139.630290</td>\n",
              "    </tr>\n",
              "    <tr>\n",
              "      <th>3</th>\n",
              "      <td>体育館</td>\n",
              "      <td>総合体育館</td>\n",
              "      <td>練馬区</td>\n",
              "      <td>練馬区谷原1-7-5</td>\n",
              "      <td>35.749539</td>\n",
              "      <td>139.621278</td>\n",
              "    </tr>\n",
              "    <tr>\n",
              "      <th>4</th>\n",
              "      <td>体育館</td>\n",
              "      <td>大泉学園町体育館</td>\n",
              "      <td>練馬区</td>\n",
              "      <td>練馬区大泉学園町5-14-24</td>\n",
              "      <td>35.765285</td>\n",
              "      <td>139.584097</td>\n",
              "    </tr>\n",
              "    <tr>\n",
              "      <th>5</th>\n",
              "      <td>体育館</td>\n",
              "      <td>上石神井体育館</td>\n",
              "      <td>練馬区</td>\n",
              "      <td>練馬区上石神井1-32-37</td>\n",
              "      <td>35.722472</td>\n",
              "      <td>139.587207</td>\n",
              "    </tr>\n",
              "    <tr>\n",
              "      <th>6</th>\n",
              "      <td>体育館</td>\n",
              "      <td>中村南スポーツ交流センター</td>\n",
              "      <td>練馬区</td>\n",
              "      <td>練馬区中村南1-2-32</td>\n",
              "      <td>35.729224</td>\n",
              "      <td>139.648692</td>\n",
              "    </tr>\n",
              "  </tbody>\n",
              "</table>\n",
              "</div>\n",
              "      <button class=\"colab-df-convert\" onclick=\"convertToInteractive('df-fb37c548-6518-4d96-ac74-221b5acb2696')\"\n",
              "              title=\"Convert this dataframe to an interactive table.\"\n",
              "              style=\"display:none;\">\n",
              "        \n",
              "  <svg xmlns=\"http://www.w3.org/2000/svg\" height=\"24px\"viewBox=\"0 0 24 24\"\n",
              "       width=\"24px\">\n",
              "    <path d=\"M0 0h24v24H0V0z\" fill=\"none\"/>\n",
              "    <path d=\"M18.56 5.44l.94 2.06.94-2.06 2.06-.94-2.06-.94-.94-2.06-.94 2.06-2.06.94zm-11 1L8.5 8.5l.94-2.06 2.06-.94-2.06-.94L8.5 2.5l-.94 2.06-2.06.94zm10 10l.94 2.06.94-2.06 2.06-.94-2.06-.94-.94-2.06-.94 2.06-2.06.94z\"/><path d=\"M17.41 7.96l-1.37-1.37c-.4-.4-.92-.59-1.43-.59-.52 0-1.04.2-1.43.59L10.3 9.45l-7.72 7.72c-.78.78-.78 2.05 0 2.83L4 21.41c.39.39.9.59 1.41.59.51 0 1.02-.2 1.41-.59l7.78-7.78 2.81-2.81c.8-.78.8-2.07 0-2.86zM5.41 20L4 18.59l7.72-7.72 1.47 1.35L5.41 20z\"/>\n",
              "  </svg>\n",
              "      </button>\n",
              "      \n",
              "  <style>\n",
              "    .colab-df-container {\n",
              "      display:flex;\n",
              "      flex-wrap:wrap;\n",
              "      gap: 12px;\n",
              "    }\n",
              "\n",
              "    .colab-df-convert {\n",
              "      background-color: #E8F0FE;\n",
              "      border: none;\n",
              "      border-radius: 50%;\n",
              "      cursor: pointer;\n",
              "      display: none;\n",
              "      fill: #1967D2;\n",
              "      height: 32px;\n",
              "      padding: 0 0 0 0;\n",
              "      width: 32px;\n",
              "    }\n",
              "\n",
              "    .colab-df-convert:hover {\n",
              "      background-color: #E2EBFA;\n",
              "      box-shadow: 0px 1px 2px rgba(60, 64, 67, 0.3), 0px 1px 3px 1px rgba(60, 64, 67, 0.15);\n",
              "      fill: #174EA6;\n",
              "    }\n",
              "\n",
              "    [theme=dark] .colab-df-convert {\n",
              "      background-color: #3B4455;\n",
              "      fill: #D2E3FC;\n",
              "    }\n",
              "\n",
              "    [theme=dark] .colab-df-convert:hover {\n",
              "      background-color: #434B5C;\n",
              "      box-shadow: 0px 1px 3px 1px rgba(0, 0, 0, 0.15);\n",
              "      filter: drop-shadow(0px 1px 2px rgba(0, 0, 0, 0.3));\n",
              "      fill: #FFFFFF;\n",
              "    }\n",
              "  </style>\n",
              "\n",
              "      <script>\n",
              "        const buttonEl =\n",
              "          document.querySelector('#df-fb37c548-6518-4d96-ac74-221b5acb2696 button.colab-df-convert');\n",
              "        buttonEl.style.display =\n",
              "          google.colab.kernel.accessAllowed ? 'block' : 'none';\n",
              "\n",
              "        async function convertToInteractive(key) {\n",
              "          const element = document.querySelector('#df-fb37c548-6518-4d96-ac74-221b5acb2696');\n",
              "          const dataTable =\n",
              "            await google.colab.kernel.invokeFunction('convertToInteractive',\n",
              "                                                     [key], {});\n",
              "          if (!dataTable) return;\n",
              "\n",
              "          const docLinkHtml = 'Like what you see? Visit the ' +\n",
              "            '<a target=\"_blank\" href=https://colab.research.google.com/notebooks/data_table.ipynb>data table notebook</a>'\n",
              "            + ' to learn more about interactive tables.';\n",
              "          element.innerHTML = '';\n",
              "          dataTable['output_type'] = 'display_data';\n",
              "          await google.colab.output.renderOutput(dataTable, element);\n",
              "          const docLink = document.createElement('div');\n",
              "          docLink.innerHTML = docLinkHtml;\n",
              "          element.appendChild(docLink);\n",
              "        }\n",
              "      </script>\n",
              "    </div>\n",
              "  </div>\n",
              "  "
            ]
          },
          "metadata": {},
          "execution_count": 33
        }
      ]
    },
    {
      "cell_type": "markdown",
      "source": [
        "## 21. 足立区\n",
        "- 足立区_スポーツ施設"
      ],
      "metadata": {
        "id": "wnKQ_F6h0Hw6"
      }
    },
    {
      "cell_type": "code",
      "source": [
        "import xml.etree.ElementTree as ET\n",
        "\n",
        "def dump_node(node, dump_list):\n",
        "    if node.text is not None:\n",
        "        node_txt = node.text.strip()\n",
        "        if len(node_txt) > 0:\n",
        "            dump_list.append(node_txt)\n",
        "    for child in node:\n",
        "        dump_node(child, dump_list)"
      ],
      "metadata": {
        "id": "XAUkMJn0z0Kq"
      },
      "execution_count": 34,
      "outputs": []
    },
    {
      "cell_type": "code",
      "source": [
        "tree = ET.parse(os.path.join(DIR_NAME, 'original/足立区_スポーツ施設.kml'))\n",
        "dump_list = []\n",
        "dump_node(tree.getroot(), dump_list)\n",
        "\n",
        "key_list = ['名称', 'info', 'icon', 'URL', '所在地', '施設', '緯度', '経度', '緯度経度']\n",
        "key_num = len(key_list)\n",
        "\n",
        "node_dict_list = []\n",
        "node_dict = {}\n",
        "for index, item in enumerate(dump_list[13:]):\n",
        "    key_index = index % key_num\n",
        "    node_dict[key_list[key_index]] = item\n",
        "    if key_index == (key_num-1):\n",
        "        node_dict_list.append(node_dict)\n",
        "        node_dict = {}\n",
        "\n",
        "df_adachi_sports = pd.DataFrame(node_dict_list)\n",
        "print(df_adachi_sports.shape)"
      ],
      "metadata": {
        "id": "G4BhnyUY4TAq",
        "outputId": "b3c067be-80ba-45c4-afe1-484cbb907c4d",
        "colab": {
          "base_uri": "https://localhost:8080/"
        }
      },
      "execution_count": 35,
      "outputs": [
        {
          "output_type": "stream",
          "name": "stdout",
          "text": [
            "(35, 9)\n"
          ]
        }
      ]
    },
    {
      "cell_type": "code",
      "source": [
        "df_adachi_sports['市区町村名'] = '足立区'\n",
        "df_adachi_sports['施設分類'] = df_adachi_sports['名称'].apply(get_category_facility)\n",
        "df_adachi_sports = df_adachi_sports[\n",
        "    df_adachi_sports['施設分類'].isin(['体育館', '運動場他', 'プール'])\n",
        "][extract_columns].reset_index(drop=True)\n",
        "change_type(df_adachi_sports)\n",
        "print(df_adachi_sports.shape)"
      ],
      "metadata": {
        "id": "A76a0oqm0Ybj",
        "outputId": "49dae68d-188b-4fd9-ae4c-bcccd32b3914",
        "colab": {
          "base_uri": "https://localhost:8080/"
        }
      },
      "execution_count": 36,
      "outputs": [
        {
          "output_type": "stream",
          "name": "stdout",
          "text": [
            "(34, 6)\n"
          ]
        }
      ]
    },
    {
      "cell_type": "code",
      "source": [
        "df_adachi_sports.head()"
      ],
      "metadata": {
        "id": "bfkNRPtW-M50",
        "outputId": "60ec341d-650f-4c50-e22e-1f3af12bbedd",
        "colab": {
          "base_uri": "https://localhost:8080/",
          "height": 206
        }
      },
      "execution_count": 37,
      "outputs": [
        {
          "output_type": "execute_result",
          "data": {
            "text/plain": [
              "   施設分類           名称 市区町村名                        所在地         緯度          経度\n",
              "0   体育館      伊興地域体育館   足立区    〒121-0823 足立区伊興二丁目4番22号  35.791170  139.780962\n",
              "1   体育館      梅田地域体育館   足立区    〒123-0851 足立区梅田七丁目33番1号  35.770594  139.798257\n",
              "2  運動場他         扇野球場   足立区     〒123-0873 足立区扇二丁目地先・左岸  35.761140  139.765460\n",
              "3   体育館      興本地域体育館   足立区   〒123-0844 足立区興野一丁目18番38号  35.768308  139.782314\n",
              "4  運動場他  尾竹橋公園テニスコート   足立区  〒120-0045 足立区千住桜木二丁目16番1号  35.754859  139.786603"
            ],
            "text/html": [
              "\n",
              "  <div id=\"df-5f575cd3-8b64-4534-b4ce-91e0da163076\">\n",
              "    <div class=\"colab-df-container\">\n",
              "      <div>\n",
              "<style scoped>\n",
              "    .dataframe tbody tr th:only-of-type {\n",
              "        vertical-align: middle;\n",
              "    }\n",
              "\n",
              "    .dataframe tbody tr th {\n",
              "        vertical-align: top;\n",
              "    }\n",
              "\n",
              "    .dataframe thead th {\n",
              "        text-align: right;\n",
              "    }\n",
              "</style>\n",
              "<table border=\"1\" class=\"dataframe\">\n",
              "  <thead>\n",
              "    <tr style=\"text-align: right;\">\n",
              "      <th></th>\n",
              "      <th>施設分類</th>\n",
              "      <th>名称</th>\n",
              "      <th>市区町村名</th>\n",
              "      <th>所在地</th>\n",
              "      <th>緯度</th>\n",
              "      <th>経度</th>\n",
              "    </tr>\n",
              "  </thead>\n",
              "  <tbody>\n",
              "    <tr>\n",
              "      <th>0</th>\n",
              "      <td>体育館</td>\n",
              "      <td>伊興地域体育館</td>\n",
              "      <td>足立区</td>\n",
              "      <td>〒121-0823 足立区伊興二丁目4番22号</td>\n",
              "      <td>35.791170</td>\n",
              "      <td>139.780962</td>\n",
              "    </tr>\n",
              "    <tr>\n",
              "      <th>1</th>\n",
              "      <td>体育館</td>\n",
              "      <td>梅田地域体育館</td>\n",
              "      <td>足立区</td>\n",
              "      <td>〒123-0851 足立区梅田七丁目33番1号</td>\n",
              "      <td>35.770594</td>\n",
              "      <td>139.798257</td>\n",
              "    </tr>\n",
              "    <tr>\n",
              "      <th>2</th>\n",
              "      <td>運動場他</td>\n",
              "      <td>扇野球場</td>\n",
              "      <td>足立区</td>\n",
              "      <td>〒123-0873 足立区扇二丁目地先・左岸</td>\n",
              "      <td>35.761140</td>\n",
              "      <td>139.765460</td>\n",
              "    </tr>\n",
              "    <tr>\n",
              "      <th>3</th>\n",
              "      <td>体育館</td>\n",
              "      <td>興本地域体育館</td>\n",
              "      <td>足立区</td>\n",
              "      <td>〒123-0844 足立区興野一丁目18番38号</td>\n",
              "      <td>35.768308</td>\n",
              "      <td>139.782314</td>\n",
              "    </tr>\n",
              "    <tr>\n",
              "      <th>4</th>\n",
              "      <td>運動場他</td>\n",
              "      <td>尾竹橋公園テニスコート</td>\n",
              "      <td>足立区</td>\n",
              "      <td>〒120-0045 足立区千住桜木二丁目16番1号</td>\n",
              "      <td>35.754859</td>\n",
              "      <td>139.786603</td>\n",
              "    </tr>\n",
              "  </tbody>\n",
              "</table>\n",
              "</div>\n",
              "      <button class=\"colab-df-convert\" onclick=\"convertToInteractive('df-5f575cd3-8b64-4534-b4ce-91e0da163076')\"\n",
              "              title=\"Convert this dataframe to an interactive table.\"\n",
              "              style=\"display:none;\">\n",
              "        \n",
              "  <svg xmlns=\"http://www.w3.org/2000/svg\" height=\"24px\"viewBox=\"0 0 24 24\"\n",
              "       width=\"24px\">\n",
              "    <path d=\"M0 0h24v24H0V0z\" fill=\"none\"/>\n",
              "    <path d=\"M18.56 5.44l.94 2.06.94-2.06 2.06-.94-2.06-.94-.94-2.06-.94 2.06-2.06.94zm-11 1L8.5 8.5l.94-2.06 2.06-.94-2.06-.94L8.5 2.5l-.94 2.06-2.06.94zm10 10l.94 2.06.94-2.06 2.06-.94-2.06-.94-.94-2.06-.94 2.06-2.06.94z\"/><path d=\"M17.41 7.96l-1.37-1.37c-.4-.4-.92-.59-1.43-.59-.52 0-1.04.2-1.43.59L10.3 9.45l-7.72 7.72c-.78.78-.78 2.05 0 2.83L4 21.41c.39.39.9.59 1.41.59.51 0 1.02-.2 1.41-.59l7.78-7.78 2.81-2.81c.8-.78.8-2.07 0-2.86zM5.41 20L4 18.59l7.72-7.72 1.47 1.35L5.41 20z\"/>\n",
              "  </svg>\n",
              "      </button>\n",
              "      \n",
              "  <style>\n",
              "    .colab-df-container {\n",
              "      display:flex;\n",
              "      flex-wrap:wrap;\n",
              "      gap: 12px;\n",
              "    }\n",
              "\n",
              "    .colab-df-convert {\n",
              "      background-color: #E8F0FE;\n",
              "      border: none;\n",
              "      border-radius: 50%;\n",
              "      cursor: pointer;\n",
              "      display: none;\n",
              "      fill: #1967D2;\n",
              "      height: 32px;\n",
              "      padding: 0 0 0 0;\n",
              "      width: 32px;\n",
              "    }\n",
              "\n",
              "    .colab-df-convert:hover {\n",
              "      background-color: #E2EBFA;\n",
              "      box-shadow: 0px 1px 2px rgba(60, 64, 67, 0.3), 0px 1px 3px 1px rgba(60, 64, 67, 0.15);\n",
              "      fill: #174EA6;\n",
              "    }\n",
              "\n",
              "    [theme=dark] .colab-df-convert {\n",
              "      background-color: #3B4455;\n",
              "      fill: #D2E3FC;\n",
              "    }\n",
              "\n",
              "    [theme=dark] .colab-df-convert:hover {\n",
              "      background-color: #434B5C;\n",
              "      box-shadow: 0px 1px 3px 1px rgba(0, 0, 0, 0.15);\n",
              "      filter: drop-shadow(0px 1px 2px rgba(0, 0, 0, 0.3));\n",
              "      fill: #FFFFFF;\n",
              "    }\n",
              "  </style>\n",
              "\n",
              "      <script>\n",
              "        const buttonEl =\n",
              "          document.querySelector('#df-5f575cd3-8b64-4534-b4ce-91e0da163076 button.colab-df-convert');\n",
              "        buttonEl.style.display =\n",
              "          google.colab.kernel.accessAllowed ? 'block' : 'none';\n",
              "\n",
              "        async function convertToInteractive(key) {\n",
              "          const element = document.querySelector('#df-5f575cd3-8b64-4534-b4ce-91e0da163076');\n",
              "          const dataTable =\n",
              "            await google.colab.kernel.invokeFunction('convertToInteractive',\n",
              "                                                     [key], {});\n",
              "          if (!dataTable) return;\n",
              "\n",
              "          const docLinkHtml = 'Like what you see? Visit the ' +\n",
              "            '<a target=\"_blank\" href=https://colab.research.google.com/notebooks/data_table.ipynb>data table notebook</a>'\n",
              "            + ' to learn more about interactive tables.';\n",
              "          element.innerHTML = '';\n",
              "          dataTable['output_type'] = 'display_data';\n",
              "          await google.colab.output.renderOutput(dataTable, element);\n",
              "          const docLink = document.createElement('div');\n",
              "          docLink.innerHTML = docLinkHtml;\n",
              "          element.appendChild(docLink);\n",
              "        }\n",
              "      </script>\n",
              "    </div>\n",
              "  </div>\n",
              "  "
            ]
          },
          "metadata": {},
          "execution_count": 37
        }
      ]
    },
    {
      "cell_type": "markdown",
      "source": [
        "## 22. 葛飾区\n",
        "- [スポーツ・レクリェーション施設](https://catalog.data.metro.tokyo.lg.jp/dataset/t131229d0000000002/resource/8c85a2eb-e273-402b-b558-07b19a6a3fae)"
      ],
      "metadata": {
        "id": "gQjDqsH_0Llk"
      }
    },
    {
      "cell_type": "code",
      "source": [
        "url_katsushika_sports = 'https://www.opendata.metro.tokyo.lg.jp/suisyoudataset/131229__public_facility_1.csv'\n",
        "df_katsushika_sports = get_data_csv_url(url_katsushika_sports, encoding='shift-jis')\n",
        "df_katsushika_sports = df_katsushika_sports.dropna(how='all').reset_index(drop=True)\n",
        "print(df_katsushika_sports.shape)\n",
        "\n",
        "df_katsushika_sports['施設分類'] = df_katsushika_sports['名称（例）'].apply(get_category_facility)\n",
        "df_katsushika_sports = df_katsushika_sports[df_katsushika_sports['施設分類'].isin(['体育館', '運動場他', 'プール'])].reset_index(drop=True)\n",
        "df_katsushika_sports = df_katsushika_sports.rename(columns={'名称（例）':'名称', '住所':'所在地', '軽度':'経度'})[extract_columns]\n",
        "change_type(df_katsushika_sports)\n",
        "print(df_katsushika_sports.shape)"
      ],
      "metadata": {
        "colab": {
          "base_uri": "https://localhost:8080/"
        },
        "id": "WRDm1JReHQHd",
        "outputId": "f24b17de-156c-4128-ce43-f6e40e95a19d"
      },
      "execution_count": 38,
      "outputs": [
        {
          "output_type": "stream",
          "name": "stderr",
          "text": [
            "/usr/local/lib/python3.7/dist-packages/ipykernel_launcher.py:2: DtypeWarning: Columns (2,3,4,5,7,8,12,22,24,25,39) have mixed types.Specify dtype option on import or set low_memory=False.\n",
            "  \n"
          ]
        },
        {
          "output_type": "stream",
          "name": "stdout",
          "text": [
            "(32, 40)\n",
            "(32, 6)\n"
          ]
        }
      ]
    },
    {
      "cell_type": "code",
      "source": [
        "df_katsushika_sports.head()"
      ],
      "metadata": {
        "id": "VTeOcmksMJhd",
        "outputId": "1b85de9b-ad39-4f49-d869-20d06e39df76",
        "colab": {
          "base_uri": "https://localhost:8080/",
          "height": 206
        }
      },
      "execution_count": 39,
      "outputs": [
        {
          "output_type": "execute_result",
          "data": {
            "text/plain": [
              "   施設分類                      名称 市区町村名               所在地         緯度          経度\n",
              "0  運動場他     水元総合スポーツセンターテニスコート    葛飾区   東京都葛飾区水元1-23-1   35.781811  139.858632\n",
              "1  運動場他  葛飾にいじゅくみらい公園運動場テニスコート    葛飾区   東京都葛飾区新宿6‐3‐20   35.772071  139.865021\n",
              "2  運動場他     奥戸総合スポーツセンターテニスコート    葛飾区     東京都葛飾区高砂1-2-1  35.740986  139.863686\n",
              "3  運動場他             渋江公園テニスコート    葛飾区    東京都葛飾区東立石3-3-1  35.735989  139.843030\n",
              "4  運動場他           東金町運動場テニスコート    葛飾区  東京都葛飾区東金町8-27-1   35.781024  139.887594"
            ],
            "text/html": [
              "\n",
              "  <div id=\"df-c2adcfcc-5a3e-4129-8c7a-a458cdf0200d\">\n",
              "    <div class=\"colab-df-container\">\n",
              "      <div>\n",
              "<style scoped>\n",
              "    .dataframe tbody tr th:only-of-type {\n",
              "        vertical-align: middle;\n",
              "    }\n",
              "\n",
              "    .dataframe tbody tr th {\n",
              "        vertical-align: top;\n",
              "    }\n",
              "\n",
              "    .dataframe thead th {\n",
              "        text-align: right;\n",
              "    }\n",
              "</style>\n",
              "<table border=\"1\" class=\"dataframe\">\n",
              "  <thead>\n",
              "    <tr style=\"text-align: right;\">\n",
              "      <th></th>\n",
              "      <th>施設分類</th>\n",
              "      <th>名称</th>\n",
              "      <th>市区町村名</th>\n",
              "      <th>所在地</th>\n",
              "      <th>緯度</th>\n",
              "      <th>経度</th>\n",
              "    </tr>\n",
              "  </thead>\n",
              "  <tbody>\n",
              "    <tr>\n",
              "      <th>0</th>\n",
              "      <td>運動場他</td>\n",
              "      <td>水元総合スポーツセンターテニスコート</td>\n",
              "      <td>葛飾区</td>\n",
              "      <td>東京都葛飾区水元1-23-1</td>\n",
              "      <td>35.781811</td>\n",
              "      <td>139.858632</td>\n",
              "    </tr>\n",
              "    <tr>\n",
              "      <th>1</th>\n",
              "      <td>運動場他</td>\n",
              "      <td>葛飾にいじゅくみらい公園運動場テニスコート</td>\n",
              "      <td>葛飾区</td>\n",
              "      <td>東京都葛飾区新宿6‐3‐20</td>\n",
              "      <td>35.772071</td>\n",
              "      <td>139.865021</td>\n",
              "    </tr>\n",
              "    <tr>\n",
              "      <th>2</th>\n",
              "      <td>運動場他</td>\n",
              "      <td>奥戸総合スポーツセンターテニスコート</td>\n",
              "      <td>葛飾区</td>\n",
              "      <td>東京都葛飾区高砂1-2-1</td>\n",
              "      <td>35.740986</td>\n",
              "      <td>139.863686</td>\n",
              "    </tr>\n",
              "    <tr>\n",
              "      <th>3</th>\n",
              "      <td>運動場他</td>\n",
              "      <td>渋江公園テニスコート</td>\n",
              "      <td>葛飾区</td>\n",
              "      <td>東京都葛飾区東立石3-3-1</td>\n",
              "      <td>35.735989</td>\n",
              "      <td>139.843030</td>\n",
              "    </tr>\n",
              "    <tr>\n",
              "      <th>4</th>\n",
              "      <td>運動場他</td>\n",
              "      <td>東金町運動場テニスコート</td>\n",
              "      <td>葛飾区</td>\n",
              "      <td>東京都葛飾区東金町8-27-1</td>\n",
              "      <td>35.781024</td>\n",
              "      <td>139.887594</td>\n",
              "    </tr>\n",
              "  </tbody>\n",
              "</table>\n",
              "</div>\n",
              "      <button class=\"colab-df-convert\" onclick=\"convertToInteractive('df-c2adcfcc-5a3e-4129-8c7a-a458cdf0200d')\"\n",
              "              title=\"Convert this dataframe to an interactive table.\"\n",
              "              style=\"display:none;\">\n",
              "        \n",
              "  <svg xmlns=\"http://www.w3.org/2000/svg\" height=\"24px\"viewBox=\"0 0 24 24\"\n",
              "       width=\"24px\">\n",
              "    <path d=\"M0 0h24v24H0V0z\" fill=\"none\"/>\n",
              "    <path d=\"M18.56 5.44l.94 2.06.94-2.06 2.06-.94-2.06-.94-.94-2.06-.94 2.06-2.06.94zm-11 1L8.5 8.5l.94-2.06 2.06-.94-2.06-.94L8.5 2.5l-.94 2.06-2.06.94zm10 10l.94 2.06.94-2.06 2.06-.94-2.06-.94-.94-2.06-.94 2.06-2.06.94z\"/><path d=\"M17.41 7.96l-1.37-1.37c-.4-.4-.92-.59-1.43-.59-.52 0-1.04.2-1.43.59L10.3 9.45l-7.72 7.72c-.78.78-.78 2.05 0 2.83L4 21.41c.39.39.9.59 1.41.59.51 0 1.02-.2 1.41-.59l7.78-7.78 2.81-2.81c.8-.78.8-2.07 0-2.86zM5.41 20L4 18.59l7.72-7.72 1.47 1.35L5.41 20z\"/>\n",
              "  </svg>\n",
              "      </button>\n",
              "      \n",
              "  <style>\n",
              "    .colab-df-container {\n",
              "      display:flex;\n",
              "      flex-wrap:wrap;\n",
              "      gap: 12px;\n",
              "    }\n",
              "\n",
              "    .colab-df-convert {\n",
              "      background-color: #E8F0FE;\n",
              "      border: none;\n",
              "      border-radius: 50%;\n",
              "      cursor: pointer;\n",
              "      display: none;\n",
              "      fill: #1967D2;\n",
              "      height: 32px;\n",
              "      padding: 0 0 0 0;\n",
              "      width: 32px;\n",
              "    }\n",
              "\n",
              "    .colab-df-convert:hover {\n",
              "      background-color: #E2EBFA;\n",
              "      box-shadow: 0px 1px 2px rgba(60, 64, 67, 0.3), 0px 1px 3px 1px rgba(60, 64, 67, 0.15);\n",
              "      fill: #174EA6;\n",
              "    }\n",
              "\n",
              "    [theme=dark] .colab-df-convert {\n",
              "      background-color: #3B4455;\n",
              "      fill: #D2E3FC;\n",
              "    }\n",
              "\n",
              "    [theme=dark] .colab-df-convert:hover {\n",
              "      background-color: #434B5C;\n",
              "      box-shadow: 0px 1px 3px 1px rgba(0, 0, 0, 0.15);\n",
              "      filter: drop-shadow(0px 1px 2px rgba(0, 0, 0, 0.3));\n",
              "      fill: #FFFFFF;\n",
              "    }\n",
              "  </style>\n",
              "\n",
              "      <script>\n",
              "        const buttonEl =\n",
              "          document.querySelector('#df-c2adcfcc-5a3e-4129-8c7a-a458cdf0200d button.colab-df-convert');\n",
              "        buttonEl.style.display =\n",
              "          google.colab.kernel.accessAllowed ? 'block' : 'none';\n",
              "\n",
              "        async function convertToInteractive(key) {\n",
              "          const element = document.querySelector('#df-c2adcfcc-5a3e-4129-8c7a-a458cdf0200d');\n",
              "          const dataTable =\n",
              "            await google.colab.kernel.invokeFunction('convertToInteractive',\n",
              "                                                     [key], {});\n",
              "          if (!dataTable) return;\n",
              "\n",
              "          const docLinkHtml = 'Like what you see? Visit the ' +\n",
              "            '<a target=\"_blank\" href=https://colab.research.google.com/notebooks/data_table.ipynb>data table notebook</a>'\n",
              "            + ' to learn more about interactive tables.';\n",
              "          element.innerHTML = '';\n",
              "          dataTable['output_type'] = 'display_data';\n",
              "          await google.colab.output.renderOutput(dataTable, element);\n",
              "          const docLink = document.createElement('div');\n",
              "          docLink.innerHTML = docLinkHtml;\n",
              "          element.appendChild(docLink);\n",
              "        }\n",
              "      </script>\n",
              "    </div>\n",
              "  </div>\n",
              "  "
            ]
          },
          "metadata": {},
          "execution_count": 39
        }
      ]
    },
    {
      "cell_type": "markdown",
      "source": [
        "## 23. 江戸川区"
      ],
      "metadata": {
        "id": "ppaYDhfs0Ooq"
      }
    },
    {
      "cell_type": "markdown",
      "source": [
        "## 運動マスタ"
      ],
      "metadata": {
        "id": "9x6VJEBUSGeh"
      }
    },
    {
      "cell_type": "markdown",
      "source": [
        "|No.|区名|データ|\n",
        "|:----|:----|:----|\n",
        "|0|東京都|なし|\n",
        "|1|千代田区| |\n",
        "|2|中央区||\n",
        "|3|港区|済み|\n",
        "|4|新宿区| |\n",
        "|5|文京区|済み|\n",
        "|6|台東区|済み|\n",
        "|7|墨田区|済み|\n",
        "|8|江東区|済み|\n",
        "|9|品川区|済み|\n",
        "|10|目黒区|済み|\n",
        "|11|大田区| |\n",
        "|12|世田谷区| |\n",
        "|13|渋谷区||\n",
        "|14|中野区|済み|\n",
        "|15|杉並区|済み|\n",
        "|16|豊島区|済み|\n",
        "|17|北区| |\n",
        "|18|荒川区| |\n",
        "|19|板橋区|済み|\n",
        "|20|練馬区|済み|\n",
        "|21|足立区|済み|\n",
        "|22|葛飾区|済み|\n",
        "|23|江戸川区| |"
      ],
      "metadata": {
        "id": "YrYU6XXNxnu4"
      }
    },
    {
      "cell_type": "code",
      "source": [
        "df_sports_master = pd.concat([\n",
        "    df_minato_sports,\n",
        "    df_bunkyo_sports,\n",
        "    df_taito_sports,\n",
        "    df_sumida_sports,\n",
        "    df_koutou_sports,\n",
        "    df_shinagawa_sports,\n",
        "    df_megro_facility,\n",
        "    df_nakano_facility,\n",
        "    df_suginami_sports,\n",
        "    df_toshima_facility,\n",
        "    df_itabashi_facility,\n",
        "    df_nerima_sports,\n",
        "    df_adachi_sports,\n",
        "    df_katsushika_sports,\n",
        "]).reset_index(drop=True)\n",
        "print(df_sports_master.shape)"
      ],
      "metadata": {
        "colab": {
          "base_uri": "https://localhost:8080/"
        },
        "id": "81JjNDiASF-3",
        "outputId": "071e0b13-ca5f-4b2a-de1d-ee1e38a9b308"
      },
      "execution_count": 40,
      "outputs": [
        {
          "output_type": "stream",
          "name": "stdout",
          "text": [
            "(217, 6)\n"
          ]
        }
      ]
    },
    {
      "cell_type": "code",
      "source": [
        "df_sports_master.head()"
      ],
      "metadata": {
        "colab": {
          "base_uri": "https://localhost:8080/",
          "height": 206
        },
        "id": "DuOMlpqHSKvK",
        "outputId": "53a9131a-a587-46b9-d524-03d262633cf2"
      },
      "execution_count": 41,
      "outputs": [
        {
          "output_type": "execute_result",
          "data": {
            "text/plain": [
              "   施設分類                    名称 市区町村名                         所在地         緯度  \\\n",
              "0   プール            港南小学校屋内プール    港区     港区港南四丁目3番28号　港区立港南小学校1階  35.629570   \n",
              "1   プール            高陵中学校屋内プール    港区  港区西麻布四丁目14番8号　港区立高陵中学校地下2階  35.657139   \n",
              "2  運動場他  芝浦南ふ頭公園運動広場（かいがんぱ～く）    港区               港区海岸三丁目33番20号  35.637322   \n",
              "3  運動場他            港区スポーツセンター    港区   港区芝浦一丁目16番1号　みなとパーク芝浦3～8階  35.646408   \n",
              "4  運動場他               埠頭少年野球場    港区               港区海岸三丁目14番34号  35.641684   \n",
              "\n",
              "           経度  \n",
              "0  139.749656  \n",
              "1  139.720463  \n",
              "2  139.759891  \n",
              "3  139.751501  \n",
              "4  139.755597  "
            ],
            "text/html": [
              "\n",
              "  <div id=\"df-d5ff523f-6da9-4a96-a2f1-7b49f2054d83\">\n",
              "    <div class=\"colab-df-container\">\n",
              "      <div>\n",
              "<style scoped>\n",
              "    .dataframe tbody tr th:only-of-type {\n",
              "        vertical-align: middle;\n",
              "    }\n",
              "\n",
              "    .dataframe tbody tr th {\n",
              "        vertical-align: top;\n",
              "    }\n",
              "\n",
              "    .dataframe thead th {\n",
              "        text-align: right;\n",
              "    }\n",
              "</style>\n",
              "<table border=\"1\" class=\"dataframe\">\n",
              "  <thead>\n",
              "    <tr style=\"text-align: right;\">\n",
              "      <th></th>\n",
              "      <th>施設分類</th>\n",
              "      <th>名称</th>\n",
              "      <th>市区町村名</th>\n",
              "      <th>所在地</th>\n",
              "      <th>緯度</th>\n",
              "      <th>経度</th>\n",
              "    </tr>\n",
              "  </thead>\n",
              "  <tbody>\n",
              "    <tr>\n",
              "      <th>0</th>\n",
              "      <td>プール</td>\n",
              "      <td>港南小学校屋内プール</td>\n",
              "      <td>港区</td>\n",
              "      <td>港区港南四丁目3番28号　港区立港南小学校1階</td>\n",
              "      <td>35.629570</td>\n",
              "      <td>139.749656</td>\n",
              "    </tr>\n",
              "    <tr>\n",
              "      <th>1</th>\n",
              "      <td>プール</td>\n",
              "      <td>高陵中学校屋内プール</td>\n",
              "      <td>港区</td>\n",
              "      <td>港区西麻布四丁目14番8号　港区立高陵中学校地下2階</td>\n",
              "      <td>35.657139</td>\n",
              "      <td>139.720463</td>\n",
              "    </tr>\n",
              "    <tr>\n",
              "      <th>2</th>\n",
              "      <td>運動場他</td>\n",
              "      <td>芝浦南ふ頭公園運動広場（かいがんぱ～く）</td>\n",
              "      <td>港区</td>\n",
              "      <td>港区海岸三丁目33番20号</td>\n",
              "      <td>35.637322</td>\n",
              "      <td>139.759891</td>\n",
              "    </tr>\n",
              "    <tr>\n",
              "      <th>3</th>\n",
              "      <td>運動場他</td>\n",
              "      <td>港区スポーツセンター</td>\n",
              "      <td>港区</td>\n",
              "      <td>港区芝浦一丁目16番1号　みなとパーク芝浦3～8階</td>\n",
              "      <td>35.646408</td>\n",
              "      <td>139.751501</td>\n",
              "    </tr>\n",
              "    <tr>\n",
              "      <th>4</th>\n",
              "      <td>運動場他</td>\n",
              "      <td>埠頭少年野球場</td>\n",
              "      <td>港区</td>\n",
              "      <td>港区海岸三丁目14番34号</td>\n",
              "      <td>35.641684</td>\n",
              "      <td>139.755597</td>\n",
              "    </tr>\n",
              "  </tbody>\n",
              "</table>\n",
              "</div>\n",
              "      <button class=\"colab-df-convert\" onclick=\"convertToInteractive('df-d5ff523f-6da9-4a96-a2f1-7b49f2054d83')\"\n",
              "              title=\"Convert this dataframe to an interactive table.\"\n",
              "              style=\"display:none;\">\n",
              "        \n",
              "  <svg xmlns=\"http://www.w3.org/2000/svg\" height=\"24px\"viewBox=\"0 0 24 24\"\n",
              "       width=\"24px\">\n",
              "    <path d=\"M0 0h24v24H0V0z\" fill=\"none\"/>\n",
              "    <path d=\"M18.56 5.44l.94 2.06.94-2.06 2.06-.94-2.06-.94-.94-2.06-.94 2.06-2.06.94zm-11 1L8.5 8.5l.94-2.06 2.06-.94-2.06-.94L8.5 2.5l-.94 2.06-2.06.94zm10 10l.94 2.06.94-2.06 2.06-.94-2.06-.94-.94-2.06-.94 2.06-2.06.94z\"/><path d=\"M17.41 7.96l-1.37-1.37c-.4-.4-.92-.59-1.43-.59-.52 0-1.04.2-1.43.59L10.3 9.45l-7.72 7.72c-.78.78-.78 2.05 0 2.83L4 21.41c.39.39.9.59 1.41.59.51 0 1.02-.2 1.41-.59l7.78-7.78 2.81-2.81c.8-.78.8-2.07 0-2.86zM5.41 20L4 18.59l7.72-7.72 1.47 1.35L5.41 20z\"/>\n",
              "  </svg>\n",
              "      </button>\n",
              "      \n",
              "  <style>\n",
              "    .colab-df-container {\n",
              "      display:flex;\n",
              "      flex-wrap:wrap;\n",
              "      gap: 12px;\n",
              "    }\n",
              "\n",
              "    .colab-df-convert {\n",
              "      background-color: #E8F0FE;\n",
              "      border: none;\n",
              "      border-radius: 50%;\n",
              "      cursor: pointer;\n",
              "      display: none;\n",
              "      fill: #1967D2;\n",
              "      height: 32px;\n",
              "      padding: 0 0 0 0;\n",
              "      width: 32px;\n",
              "    }\n",
              "\n",
              "    .colab-df-convert:hover {\n",
              "      background-color: #E2EBFA;\n",
              "      box-shadow: 0px 1px 2px rgba(60, 64, 67, 0.3), 0px 1px 3px 1px rgba(60, 64, 67, 0.15);\n",
              "      fill: #174EA6;\n",
              "    }\n",
              "\n",
              "    [theme=dark] .colab-df-convert {\n",
              "      background-color: #3B4455;\n",
              "      fill: #D2E3FC;\n",
              "    }\n",
              "\n",
              "    [theme=dark] .colab-df-convert:hover {\n",
              "      background-color: #434B5C;\n",
              "      box-shadow: 0px 1px 3px 1px rgba(0, 0, 0, 0.15);\n",
              "      filter: drop-shadow(0px 1px 2px rgba(0, 0, 0, 0.3));\n",
              "      fill: #FFFFFF;\n",
              "    }\n",
              "  </style>\n",
              "\n",
              "      <script>\n",
              "        const buttonEl =\n",
              "          document.querySelector('#df-d5ff523f-6da9-4a96-a2f1-7b49f2054d83 button.colab-df-convert');\n",
              "        buttonEl.style.display =\n",
              "          google.colab.kernel.accessAllowed ? 'block' : 'none';\n",
              "\n",
              "        async function convertToInteractive(key) {\n",
              "          const element = document.querySelector('#df-d5ff523f-6da9-4a96-a2f1-7b49f2054d83');\n",
              "          const dataTable =\n",
              "            await google.colab.kernel.invokeFunction('convertToInteractive',\n",
              "                                                     [key], {});\n",
              "          if (!dataTable) return;\n",
              "\n",
              "          const docLinkHtml = 'Like what you see? Visit the ' +\n",
              "            '<a target=\"_blank\" href=https://colab.research.google.com/notebooks/data_table.ipynb>data table notebook</a>'\n",
              "            + ' to learn more about interactive tables.';\n",
              "          element.innerHTML = '';\n",
              "          dataTable['output_type'] = 'display_data';\n",
              "          await google.colab.output.renderOutput(dataTable, element);\n",
              "          const docLink = document.createElement('div');\n",
              "          docLink.innerHTML = docLinkHtml;\n",
              "          element.appendChild(docLink);\n",
              "        }\n",
              "      </script>\n",
              "    </div>\n",
              "  </div>\n",
              "  "
            ]
          },
          "metadata": {},
          "execution_count": 41
        }
      ]
    },
    {
      "cell_type": "code",
      "source": [
        "df_sports_master.to_csv(os.path.join(DIR_NAME, output_master_file), index=False)"
      ],
      "metadata": {
        "id": "1kc_VsQUuL0V"
      },
      "execution_count": 42,
      "outputs": []
    },
    {
      "cell_type": "code",
      "source": [
        "# データがある区をリストアップ\n",
        "sr_count = df_sports_master['市区町村名'].value_counts()\n",
        "ward_list = list(sr_count[sr_count > 0].index)\n",
        "print(len(ward_list))"
      ],
      "metadata": {
        "id": "mxCmxoMv03eQ",
        "outputId": "8d5a7706-1871-461b-8a48-2cc6e7759b8b",
        "colab": {
          "base_uri": "https://localhost:8080/"
        }
      },
      "execution_count": 43,
      "outputs": [
        {
          "output_type": "stream",
          "name": "stdout",
          "text": [
            "14\n"
          ]
        }
      ]
    },
    {
      "cell_type": "markdown",
      "source": [
        "## 人口マスタ"
      ],
      "metadata": {
        "id": "jdT3_lplSwOo"
      }
    },
    {
      "cell_type": "code",
      "source": [
        "population = pd.read_csv(os.path.join(DIR_NAME, 'population_master.csv'))\n",
        "print(population.shape)\n",
        "df_pop_master = population[population['市区町村名'].isin(ward_list)][['地域ID', '市区町村名', '町名', '町丁目', '緯度', '経度']].reset_index(drop=True)\n",
        "print(df_pop_master.shape)"
      ],
      "metadata": {
        "colab": {
          "base_uri": "https://localhost:8080/"
        },
        "id": "mmH8g81kP2Cb",
        "outputId": "6abf3d06-cf1c-4a41-c0d5-7a54d7c981e9"
      },
      "execution_count": 44,
      "outputs": [
        {
          "output_type": "stream",
          "name": "stdout",
          "text": [
            "(3145, 32)\n",
            "(1839, 6)\n"
          ]
        }
      ]
    },
    {
      "cell_type": "code",
      "source": [
        "def normalize_score(sr_data, high=True, outlier=True):\n",
        "    score = (sr_data - sr_data.mean())/sr_data.std()\n",
        "    score = score if high else -score\n",
        "\n",
        "    if outlier:\n",
        "        high_s = score.quantile(0.99)\n",
        "        low_s = score.quantile(0.01)\n",
        "        score[score > high_s] = high_s\n",
        "        score[score < low_s] = low_s\n",
        "    else:\n",
        "        high_s = score.max()\n",
        "        low_s = score.min()\n",
        "        \n",
        "    return (score - low_s)/(high_s - low_s)\n",
        "\n",
        "\n",
        "def rank_score(sr_data):\n",
        "    size = sr_data.notna().sum()\n",
        "    rank = sr_data.rank()\n",
        "    result = rank.copy()\n",
        "    # 0~1: 15%, 1~2: 20%, 2~3: 30%, 3~4: 20%, 4~5: 15%\n",
        "    level_list = [0.15, (0.15+0.2), (0.15+0.2+0.3), (0.15+0.2+0.3+0.2), 1]\n",
        "    \n",
        "    pre_level = 0\n",
        "    for index, level in enumerate([lv*size for lv in level_list]):\n",
        "        result[(rank > pre_level)&(rank <= level)] = (rank - pre_level)/(level - pre_level) + index\n",
        "        pre_level = level\n",
        "\n",
        "    return result"
      ],
      "metadata": {
        "id": "qsPRvvbUTnlK"
      },
      "execution_count": 45,
      "outputs": []
    },
    {
      "cell_type": "markdown",
      "source": [
        "## 各種スコア"
      ],
      "metadata": {
        "id": "E5-It_S7RmkQ"
      }
    },
    {
      "cell_type": "code",
      "source": [
        "%%time\n",
        "# 一番近い施設の距離\n",
        "df_pop_master['運動場(最近傍距離)'] = get_value_of_nearest_facility(df_pop_master, df_sports_master, '運動場他', 'min')\n",
        "# 一番近い施設の距離\n",
        "df_pop_master['体育館(最近傍距離)'] = get_value_of_nearest_facility(df_pop_master, df_sports_master, '体育館', 'min')\n",
        "# 一番近い施設の距離\n",
        "df_pop_master['プール(最近傍距離)'] = get_value_of_nearest_facility(df_pop_master, df_sports_master, 'プール', 'min')\n",
        "\n",
        "# 3km以内の施設の数\n",
        "df_pop_master['運動場(数)'] = get_value_of_nearest_facility(df_pop_master, df_sports_master, '運動場他', 'count', 3)\n",
        "# 3km以内の施設の数\n",
        "df_pop_master['体育館(数)'] = get_value_of_nearest_facility(df_pop_master, df_sports_master, '体育館', 'count', 3)\n",
        "# 3km以内の施設の数\n",
        "df_pop_master['プール(数)'] = get_value_of_nearest_facility(df_pop_master, df_sports_master, 'プール', 'count', 3)"
      ],
      "metadata": {
        "colab": {
          "base_uri": "https://localhost:8080/"
        },
        "id": "sn7VhpDmQJsi",
        "outputId": "ae2c3812-a9c2-44a5-ef6c-16f690ffd68b"
      },
      "execution_count": 46,
      "outputs": [
        {
          "output_type": "stream",
          "name": "stdout",
          "text": [
            "CPU times: user 26.9 s, sys: 286 ms, total: 27.2 s\n",
            "Wall time: 27 s\n"
          ]
        }
      ]
    },
    {
      "cell_type": "code",
      "source": [
        "print(df_pop_master.shape)\n",
        "df_pop_master.head()"
      ],
      "metadata": {
        "colab": {
          "base_uri": "https://localhost:8080/",
          "height": 224
        },
        "id": "pNI5D7LZTJE3",
        "outputId": "08d3e25e-105a-4d45-8fca-f8a3019f9996"
      },
      "execution_count": 47,
      "outputs": [
        {
          "output_type": "stream",
          "name": "stdout",
          "text": [
            "(1839, 12)\n"
          ]
        },
        {
          "output_type": "execute_result",
          "data": {
            "text/plain": [
              "     地域ID 市区町村名 町名   町丁目         緯度          経度  運動場(最近傍距離)  体育館(最近傍距離)  \\\n",
              "0  103003    港区  芝  芝１丁目  35.651019  139.754999    0.557138    3.796813   \n",
              "1  103004    港区  芝  芝２丁目  35.651370  139.751891    0.373750    3.657936   \n",
              "2  103005    港区  芝  芝３丁目  35.652304  139.747678    0.369513    3.541954   \n",
              "3  103006    港区  芝  芝４丁目  35.648348  139.751136    0.218276    3.347219   \n",
              "4  103007    港区  芝  芝５丁目  35.647148  139.746984    0.416402    3.019811   \n",
              "\n",
              "   プール(最近傍距離)  運動場(数)  体育館(数)  プール(数)  \n",
              "0    1.254376       6       0       6  \n",
              "1    1.152263       6       0       7  \n",
              "2    1.068910       6       0       6  \n",
              "3    1.481813       6       0       7  \n",
              "4    1.339396       7       0       6  "
            ],
            "text/html": [
              "\n",
              "  <div id=\"df-343d99be-fb0d-44e3-8cec-063f389a5f4f\">\n",
              "    <div class=\"colab-df-container\">\n",
              "      <div>\n",
              "<style scoped>\n",
              "    .dataframe tbody tr th:only-of-type {\n",
              "        vertical-align: middle;\n",
              "    }\n",
              "\n",
              "    .dataframe tbody tr th {\n",
              "        vertical-align: top;\n",
              "    }\n",
              "\n",
              "    .dataframe thead th {\n",
              "        text-align: right;\n",
              "    }\n",
              "</style>\n",
              "<table border=\"1\" class=\"dataframe\">\n",
              "  <thead>\n",
              "    <tr style=\"text-align: right;\">\n",
              "      <th></th>\n",
              "      <th>地域ID</th>\n",
              "      <th>市区町村名</th>\n",
              "      <th>町名</th>\n",
              "      <th>町丁目</th>\n",
              "      <th>緯度</th>\n",
              "      <th>経度</th>\n",
              "      <th>運動場(最近傍距離)</th>\n",
              "      <th>体育館(最近傍距離)</th>\n",
              "      <th>プール(最近傍距離)</th>\n",
              "      <th>運動場(数)</th>\n",
              "      <th>体育館(数)</th>\n",
              "      <th>プール(数)</th>\n",
              "    </tr>\n",
              "  </thead>\n",
              "  <tbody>\n",
              "    <tr>\n",
              "      <th>0</th>\n",
              "      <td>103003</td>\n",
              "      <td>港区</td>\n",
              "      <td>芝</td>\n",
              "      <td>芝１丁目</td>\n",
              "      <td>35.651019</td>\n",
              "      <td>139.754999</td>\n",
              "      <td>0.557138</td>\n",
              "      <td>3.796813</td>\n",
              "      <td>1.254376</td>\n",
              "      <td>6</td>\n",
              "      <td>0</td>\n",
              "      <td>6</td>\n",
              "    </tr>\n",
              "    <tr>\n",
              "      <th>1</th>\n",
              "      <td>103004</td>\n",
              "      <td>港区</td>\n",
              "      <td>芝</td>\n",
              "      <td>芝２丁目</td>\n",
              "      <td>35.651370</td>\n",
              "      <td>139.751891</td>\n",
              "      <td>0.373750</td>\n",
              "      <td>3.657936</td>\n",
              "      <td>1.152263</td>\n",
              "      <td>6</td>\n",
              "      <td>0</td>\n",
              "      <td>7</td>\n",
              "    </tr>\n",
              "    <tr>\n",
              "      <th>2</th>\n",
              "      <td>103005</td>\n",
              "      <td>港区</td>\n",
              "      <td>芝</td>\n",
              "      <td>芝３丁目</td>\n",
              "      <td>35.652304</td>\n",
              "      <td>139.747678</td>\n",
              "      <td>0.369513</td>\n",
              "      <td>3.541954</td>\n",
              "      <td>1.068910</td>\n",
              "      <td>6</td>\n",
              "      <td>0</td>\n",
              "      <td>6</td>\n",
              "    </tr>\n",
              "    <tr>\n",
              "      <th>3</th>\n",
              "      <td>103006</td>\n",
              "      <td>港区</td>\n",
              "      <td>芝</td>\n",
              "      <td>芝４丁目</td>\n",
              "      <td>35.648348</td>\n",
              "      <td>139.751136</td>\n",
              "      <td>0.218276</td>\n",
              "      <td>3.347219</td>\n",
              "      <td>1.481813</td>\n",
              "      <td>6</td>\n",
              "      <td>0</td>\n",
              "      <td>7</td>\n",
              "    </tr>\n",
              "    <tr>\n",
              "      <th>4</th>\n",
              "      <td>103007</td>\n",
              "      <td>港区</td>\n",
              "      <td>芝</td>\n",
              "      <td>芝５丁目</td>\n",
              "      <td>35.647148</td>\n",
              "      <td>139.746984</td>\n",
              "      <td>0.416402</td>\n",
              "      <td>3.019811</td>\n",
              "      <td>1.339396</td>\n",
              "      <td>7</td>\n",
              "      <td>0</td>\n",
              "      <td>6</td>\n",
              "    </tr>\n",
              "  </tbody>\n",
              "</table>\n",
              "</div>\n",
              "      <button class=\"colab-df-convert\" onclick=\"convertToInteractive('df-343d99be-fb0d-44e3-8cec-063f389a5f4f')\"\n",
              "              title=\"Convert this dataframe to an interactive table.\"\n",
              "              style=\"display:none;\">\n",
              "        \n",
              "  <svg xmlns=\"http://www.w3.org/2000/svg\" height=\"24px\"viewBox=\"0 0 24 24\"\n",
              "       width=\"24px\">\n",
              "    <path d=\"M0 0h24v24H0V0z\" fill=\"none\"/>\n",
              "    <path d=\"M18.56 5.44l.94 2.06.94-2.06 2.06-.94-2.06-.94-.94-2.06-.94 2.06-2.06.94zm-11 1L8.5 8.5l.94-2.06 2.06-.94-2.06-.94L8.5 2.5l-.94 2.06-2.06.94zm10 10l.94 2.06.94-2.06 2.06-.94-2.06-.94-.94-2.06-.94 2.06-2.06.94z\"/><path d=\"M17.41 7.96l-1.37-1.37c-.4-.4-.92-.59-1.43-.59-.52 0-1.04.2-1.43.59L10.3 9.45l-7.72 7.72c-.78.78-.78 2.05 0 2.83L4 21.41c.39.39.9.59 1.41.59.51 0 1.02-.2 1.41-.59l7.78-7.78 2.81-2.81c.8-.78.8-2.07 0-2.86zM5.41 20L4 18.59l7.72-7.72 1.47 1.35L5.41 20z\"/>\n",
              "  </svg>\n",
              "      </button>\n",
              "      \n",
              "  <style>\n",
              "    .colab-df-container {\n",
              "      display:flex;\n",
              "      flex-wrap:wrap;\n",
              "      gap: 12px;\n",
              "    }\n",
              "\n",
              "    .colab-df-convert {\n",
              "      background-color: #E8F0FE;\n",
              "      border: none;\n",
              "      border-radius: 50%;\n",
              "      cursor: pointer;\n",
              "      display: none;\n",
              "      fill: #1967D2;\n",
              "      height: 32px;\n",
              "      padding: 0 0 0 0;\n",
              "      width: 32px;\n",
              "    }\n",
              "\n",
              "    .colab-df-convert:hover {\n",
              "      background-color: #E2EBFA;\n",
              "      box-shadow: 0px 1px 2px rgba(60, 64, 67, 0.3), 0px 1px 3px 1px rgba(60, 64, 67, 0.15);\n",
              "      fill: #174EA6;\n",
              "    }\n",
              "\n",
              "    [theme=dark] .colab-df-convert {\n",
              "      background-color: #3B4455;\n",
              "      fill: #D2E3FC;\n",
              "    }\n",
              "\n",
              "    [theme=dark] .colab-df-convert:hover {\n",
              "      background-color: #434B5C;\n",
              "      box-shadow: 0px 1px 3px 1px rgba(0, 0, 0, 0.15);\n",
              "      filter: drop-shadow(0px 1px 2px rgba(0, 0, 0, 0.3));\n",
              "      fill: #FFFFFF;\n",
              "    }\n",
              "  </style>\n",
              "\n",
              "      <script>\n",
              "        const buttonEl =\n",
              "          document.querySelector('#df-343d99be-fb0d-44e3-8cec-063f389a5f4f button.colab-df-convert');\n",
              "        buttonEl.style.display =\n",
              "          google.colab.kernel.accessAllowed ? 'block' : 'none';\n",
              "\n",
              "        async function convertToInteractive(key) {\n",
              "          const element = document.querySelector('#df-343d99be-fb0d-44e3-8cec-063f389a5f4f');\n",
              "          const dataTable =\n",
              "            await google.colab.kernel.invokeFunction('convertToInteractive',\n",
              "                                                     [key], {});\n",
              "          if (!dataTable) return;\n",
              "\n",
              "          const docLinkHtml = 'Like what you see? Visit the ' +\n",
              "            '<a target=\"_blank\" href=https://colab.research.google.com/notebooks/data_table.ipynb>data table notebook</a>'\n",
              "            + ' to learn more about interactive tables.';\n",
              "          element.innerHTML = '';\n",
              "          dataTable['output_type'] = 'display_data';\n",
              "          await google.colab.output.renderOutput(dataTable, element);\n",
              "          const docLink = document.createElement('div');\n",
              "          docLink.innerHTML = docLinkHtml;\n",
              "          element.appendChild(docLink);\n",
              "        }\n",
              "      </script>\n",
              "    </div>\n",
              "  </div>\n",
              "  "
            ]
          },
          "metadata": {},
          "execution_count": 47
        }
      ]
    },
    {
      "cell_type": "code",
      "source": [
        "all_feature_list = []\n",
        "all_score_list = []"
      ],
      "metadata": {
        "id": "xPEDcBVgHqQE"
      },
      "execution_count": 48,
      "outputs": []
    },
    {
      "cell_type": "markdown",
      "source": [
        "### 運動場スコア"
      ],
      "metadata": {
        "id": "E7waBuS6HraF"
      }
    },
    {
      "cell_type": "code",
      "source": [
        "score_name = '運動場スコア'\n",
        "feature_list = {\n",
        "    '運動場(最近傍距離)':     {'high': False, 'outlier': True, 'weight': 1}, \n",
        "    '運動場(数)':             {'high': True, 'outlier': False, 'weight': 1},\n",
        "}\n",
        "all_feature_list += list(feature_list.keys())"
      ],
      "metadata": {
        "id": "aWAReelgRXoG"
      },
      "execution_count": 49,
      "outputs": []
    },
    {
      "cell_type": "code",
      "source": [
        "for feature_name in feature_list.keys():\n",
        "    sns.histplot(df_pop_master[feature_name], bins=20)\n",
        "    plt.show()"
      ],
      "metadata": {
        "colab": {
          "base_uri": "https://localhost:8080/",
          "height": 539
        },
        "id": "Onguh3i3RhjQ",
        "outputId": "c61043e5-000b-4507-f4dc-c6de05b5fe7f"
      },
      "execution_count": 50,
      "outputs": [
        {
          "output_type": "display_data",
          "data": {
            "text/plain": [
              "<Figure size 432x288 with 1 Axes>"
            ],
            "image/png": "[encoded data removed]"
          },
          "metadata": {
            "needs_background": "light"
          }
        },
        {
          "output_type": "display_data",
          "data": {
            "text/plain": [
              "<Figure size 432x288 with 1 Axes>"
            ],
            "image/png": "[encoded data removed]"
          },
          "metadata": {
            "needs_background": "light"
          }
        }
      ]
    },
    {
      "cell_type": "code",
      "source": [
        "for key, value in feature_list.items():\n",
        "    df_pop_master[f'{key}レベル'] = normalize_score(df_pop_master[key], high=value['high'], outlier=value['outlier'])\n",
        "    sns.histplot(df_pop_master[f'{key}レベル'], bins=20)\n",
        "    plt.show()"
      ],
      "metadata": {
        "colab": {
          "base_uri": "https://localhost:8080/",
          "height": 539
        },
        "id": "O_t4w8yzRwTg",
        "outputId": "b82f092c-7719-45ff-d72e-49419d4fed3e"
      },
      "execution_count": 51,
      "outputs": [
        {
          "output_type": "display_data",
          "data": {
            "text/plain": [
              "<Figure size 432x288 with 1 Axes>"
            ],
            "image/png": "[encoded data removed]"
          },
          "metadata": {
            "needs_background": "light"
          }
        },
        {
          "output_type": "display_data",
          "data": {
            "text/plain": [
              "<Figure size 432x288 with 1 Axes>"
            ],
            "image/png": "[encoded data removed]"
          },
          "metadata": {
            "needs_background": "light"
          }
        }
      ]
    },
    {
      "cell_type": "code",
      "source": [
        "score_list = []\n",
        "for key, value in feature_list.items():\n",
        "    score_list.append(df_pop_master[f'{key}レベル'] * value['weight'])\n",
        "\n",
        "score_sub_name = '_' + score_name\n",
        "df_pop_master[score_sub_name] = normalize_score(pd.concat(score_list, axis=1).sum(axis=1, skipna=False), outlier=False)\n",
        "df_pop_master[score_name] = rank_score(df_pop_master[score_sub_name])\n",
        "\n",
        "total_score_list = [score_sub_name, score_name]\n",
        "for _score in total_score_list:\n",
        "    sns.histplot(df_pop_master[_score], bins=20)\n",
        "    plt.show()\n",
        "\n",
        "all_score_list += total_score_list"
      ],
      "metadata": {
        "colab": {
          "base_uri": "https://localhost:8080/",
          "height": 539
        },
        "id": "KGwzR6tmR0jG",
        "outputId": "9d24ec06-6ef1-4edc-df48-cb1a0a0da226"
      },
      "execution_count": 52,
      "outputs": [
        {
          "output_type": "display_data",
          "data": {
            "text/plain": [
              "<Figure size 432x288 with 1 Axes>"
            ],
            "image/png": "[encoded data removed]"
          },
          "metadata": {
            "needs_background": "light"
          }
        },
        {
          "output_type": "display_data",
          "data": {
            "text/plain": [
              "<Figure size 432x288 with 1 Axes>"
            ],
            "image/png": "[encoded data removed]"
          },
          "metadata": {
            "needs_background": "light"
          }
        }
      ]
    },
    {
      "cell_type": "markdown",
      "source": [
        "### 体育館スコア"
      ],
      "metadata": {
        "id": "d0G2GfoKH-TW"
      }
    },
    {
      "cell_type": "code",
      "source": [
        "score_name = '体育館スコア'\n",
        "feature_list = {\n",
        "    '体育館(最近傍距離)':     {'high': False, 'outlier': True, 'weight': 1}, \n",
        "    '体育館(数)':             {'high': True, 'outlier': False, 'weight': 1},\n",
        "}\n",
        "all_feature_list += list(feature_list.keys())"
      ],
      "metadata": {
        "id": "NeF-2vQYHScX"
      },
      "execution_count": 53,
      "outputs": []
    },
    {
      "cell_type": "code",
      "source": [
        "for feature_name in feature_list.keys():\n",
        "    sns.histplot(df_pop_master[feature_name], bins=20)\n",
        "    plt.show()"
      ],
      "metadata": {
        "id": "WIf_96eTHaMZ",
        "outputId": "939aa9da-b584-4d18-ecad-8f225bc012ae",
        "colab": {
          "base_uri": "https://localhost:8080/",
          "height": 539
        }
      },
      "execution_count": 54,
      "outputs": [
        {
          "output_type": "display_data",
          "data": {
            "text/plain": [
              "<Figure size 432x288 with 1 Axes>"
            ],
            "image/png": "[encoded data removed]"
          },
          "metadata": {
            "needs_background": "light"
          }
        },
        {
          "output_type": "display_data",
          "data": {
            "text/plain": [
              "<Figure size 432x288 with 1 Axes>"
            ],
            "image/png": "[encoded data removed]"
          },
          "metadata": {
            "needs_background": "light"
          }
        }
      ]
    },
    {
      "cell_type": "code",
      "source": [
        "for key, value in feature_list.items():\n",
        "    df_pop_master[f'{key}レベル'] = normalize_score(df_pop_master[key], high=value['high'], outlier=value['outlier'])\n",
        "    sns.histplot(df_pop_master[f'{key}レベル'], bins=20)\n",
        "    plt.show()"
      ],
      "metadata": {
        "id": "XyJ-qsO3HaJb",
        "outputId": "b9b4901d-367c-436b-ea2d-1f7b19733fa3",
        "colab": {
          "base_uri": "https://localhost:8080/",
          "height": 539
        }
      },
      "execution_count": 55,
      "outputs": [
        {
          "output_type": "display_data",
          "data": {
            "text/plain": [
              "<Figure size 432x288 with 1 Axes>"
            ],
            "image/png": "[encoded data removed]"
          },
          "metadata": {
            "needs_background": "light"
          }
        },
        {
          "output_type": "display_data",
          "data": {
            "text/plain": [
              "<Figure size 432x288 with 1 Axes>"
            ],
            "image/png": "[encoded data removed]"
          },
          "metadata": {
            "needs_background": "light"
          }
        }
      ]
    },
    {
      "cell_type": "code",
      "source": [
        "score_list = []\n",
        "for key, value in feature_list.items():\n",
        "    score_list.append(df_pop_master[f'{key}レベル'] * value['weight'])\n",
        "\n",
        "score_sub_name = '_' + score_name\n",
        "df_pop_master[score_sub_name] = normalize_score(pd.concat(score_list, axis=1).sum(axis=1, skipna=False), outlier=False)\n",
        "df_pop_master[score_name] = rank_score(df_pop_master[score_sub_name])\n",
        "\n",
        "total_score_list = [score_sub_name, score_name]\n",
        "for _score in total_score_list:\n",
        "    sns.histplot(df_pop_master[_score], bins=20)\n",
        "    plt.show()\n",
        "\n",
        "all_score_list += total_score_list"
      ],
      "metadata": {
        "id": "eFtnm3qbHaGa",
        "outputId": "67b3955d-f040-4fde-d375-70f09997e54c",
        "colab": {
          "base_uri": "https://localhost:8080/",
          "height": 537
        }
      },
      "execution_count": 56,
      "outputs": [
        {
          "output_type": "display_data",
          "data": {
            "text/plain": [
              "<Figure size 432x288 with 1 Axes>"
            ],
            "image/png": "[encoded data removed]"
          },
          "metadata": {
            "needs_background": "light"
          }
        },
        {
          "output_type": "display_data",
          "data": {
            "text/plain": [
              "<Figure size 432x288 with 1 Axes>"
            ],
            "image/png": "[encoded data removed]"
          },
          "metadata": {
            "needs_background": "light"
          }
        }
      ]
    },
    {
      "cell_type": "markdown",
      "source": [
        "### プールスコア"
      ],
      "metadata": {
        "id": "pBeXwZouIA-Z"
      }
    },
    {
      "cell_type": "code",
      "source": [
        "score_name = 'プールスコア'\n",
        "feature_list = {\n",
        "    'プール(最近傍距離)':     {'high': False, 'outlier': True, 'weight': 1}, \n",
        "    'プール(数)':             {'high': True, 'outlier': False, 'weight': 1},\n",
        "}\n",
        "all_feature_list += list(feature_list.keys())"
      ],
      "metadata": {
        "id": "dbzS7JqYHZ9o"
      },
      "execution_count": 57,
      "outputs": []
    },
    {
      "cell_type": "code",
      "source": [
        "for feature_name in feature_list.keys():\n",
        "    sns.histplot(df_pop_master[feature_name], bins=20)\n",
        "    plt.show()"
      ],
      "metadata": {
        "id": "F_faBllLIIT-",
        "outputId": "aaa1f128-7765-43a7-8032-bd0ff58a301f",
        "colab": {
          "base_uri": "https://localhost:8080/",
          "height": 541
        }
      },
      "execution_count": 58,
      "outputs": [
        {
          "output_type": "display_data",
          "data": {
            "text/plain": [
              "<Figure size 432x288 with 1 Axes>"
            ],
            "image/png": "[encoded data removed]"
          },
          "metadata": {
            "needs_background": "light"
          }
        },
        {
          "output_type": "display_data",
          "data": {
            "text/plain": [
              "<Figure size 432x288 with 1 Axes>"
            ],
            "image/png": "[encoded data removed]"
          },
          "metadata": {
            "needs_background": "light"
          }
        }
      ]
    },
    {
      "cell_type": "code",
      "source": [
        "for key, value in feature_list.items():\n",
        "    df_pop_master[f'{key}レベル'] = normalize_score(df_pop_master[key], high=value['high'], outlier=value['outlier'])\n",
        "    sns.histplot(df_pop_master[f'{key}レベル'], bins=20)\n",
        "    plt.show()"
      ],
      "metadata": {
        "id": "ySonegMdIIOH",
        "outputId": "35f5541b-6488-4863-e5f7-20b804b4dbbd",
        "colab": {
          "base_uri": "https://localhost:8080/",
          "height": 541
        }
      },
      "execution_count": 59,
      "outputs": [
        {
          "output_type": "display_data",
          "data": {
            "text/plain": [
              "<Figure size 432x288 with 1 Axes>"
            ],
            "image/png": "[encoded data removed]"
          },
          "metadata": {
            "needs_background": "light"
          }
        },
        {
          "output_type": "display_data",
          "data": {
            "text/plain": [
              "<Figure size 432x288 with 1 Axes>"
            ],
            "image/png": "[encoded data removed]"
          },
          "metadata": {
            "needs_background": "light"
          }
        }
      ]
    },
    {
      "cell_type": "code",
      "source": [
        "score_list = []\n",
        "for key, value in feature_list.items():\n",
        "    score_list.append(df_pop_master[f'{key}レベル'] * value['weight'])\n",
        "\n",
        "score_sub_name = '_' + score_name\n",
        "df_pop_master[score_sub_name] = normalize_score(pd.concat(score_list, axis=1).sum(axis=1, skipna=False), outlier=False)\n",
        "df_pop_master[score_name] = rank_score(df_pop_master[score_sub_name])\n",
        "\n",
        "total_score_list = [score_sub_name, score_name]\n",
        "for _score in total_score_list:\n",
        "    sns.histplot(df_pop_master[_score], bins=20)\n",
        "    plt.show()\n",
        "\n",
        "all_score_list += total_score_list"
      ],
      "metadata": {
        "id": "8C7P6l9OIIGl",
        "outputId": "fb4b8a35-3cdf-4198-b667-7d8065bca282",
        "colab": {
          "base_uri": "https://localhost:8080/",
          "height": 538
        }
      },
      "execution_count": 60,
      "outputs": [
        {
          "output_type": "display_data",
          "data": {
            "text/plain": [
              "<Figure size 432x288 with 1 Axes>"
            ],
            "image/png": "[encoded data removed]"
          },
          "metadata": {
            "needs_background": "light"
          }
        },
        {
          "output_type": "display_data",
          "data": {
            "text/plain": [
              "<Figure size 432x288 with 1 Axes>"
            ],
            "image/png": "[encoded data removed]"
          },
          "metadata": {
            "needs_background": "light"
          }
        }
      ]
    },
    {
      "cell_type": "code",
      "source": [
        "df_pop_master.head()"
      ],
      "metadata": {
        "colab": {
          "base_uri": "https://localhost:8080/",
          "height": 617
        },
        "id": "1A2uhFPUR5pO",
        "outputId": "ed230a49-f9c2-4a20-b5d0-39f05238d4e1"
      },
      "execution_count": 61,
      "outputs": [
        {
          "output_type": "execute_result",
          "data": {
            "text/plain": [
              "     地域ID 市区町村名 町名   町丁目         緯度          経度  運動場(最近傍距離)  体育館(最近傍距離)  \\\n",
              "0  103003    港区  芝  芝１丁目  35.651019  139.754999    0.557138    3.796813   \n",
              "1  103004    港区  芝  芝２丁目  35.651370  139.751891    0.373750    3.657936   \n",
              "2  103005    港区  芝  芝３丁目  35.652304  139.747678    0.369513    3.541954   \n",
              "3  103006    港区  芝  芝４丁目  35.648348  139.751136    0.218276    3.347219   \n",
              "4  103007    港区  芝  芝５丁目  35.647148  139.746984    0.416402    3.019811   \n",
              "\n",
              "   プール(最近傍距離)  運動場(数)  体育館(数)  プール(数)  運動場(最近傍距離)レベル  運動場(数)レベル   _運動場スコア  \\\n",
              "0    1.254376       6       0       6       0.886981   0.153846  0.520414   \n",
              "1    1.152263       6       0       7       0.930858   0.153846  0.542352   \n",
              "2    1.068910       6       0       6       0.931872   0.153846  0.542859   \n",
              "3    1.481813       6       0       7       0.968057   0.153846  0.560951   \n",
              "4    1.339396       7       0       6       0.920653   0.179487  0.550070   \n",
              "\n",
              "     運動場スコア  体育館(最近傍距離)レベル  体育館(数)レベル   _体育館スコア    体育館スコア  プール(最近傍距離)レベル  \\\n",
              "0  2.851116       0.316000        0.0  0.172060  0.370169       0.817835   \n",
              "1  3.176783       0.342131        0.0  0.186288  0.431864       0.835195   \n",
              "2  3.187670       0.363954        0.0  0.198171  0.457267       0.849365   \n",
              "3  3.468019       0.400594        0.0  0.218121  0.515333       0.779170   \n",
              "4  3.312874       0.462198        0.0  0.251664  0.635093       0.803381   \n",
              "\n",
              "   プール(数)レベル   _プールスコア    プールスコア  \n",
              "0      0.750  0.836179  4.764108  \n",
              "1      0.875  0.912104  4.905643  \n",
              "2      0.750  0.852995  4.804028  \n",
              "3      0.875  0.882224  4.862094  \n",
              "4      0.750  0.828470  4.724188  "
            ],
            "text/html": [
              "\n",
              "  <div id=\"df-6669d1a1-65a4-430c-acab-80b63fe7c04d\">\n",
              "    <div class=\"colab-df-container\">\n",
              "      <div>\n",
              "<style scoped>\n",
              "    .dataframe tbody tr th:only-of-type {\n",
              "        vertical-align: middle;\n",
              "    }\n",
              "\n",
              "    .dataframe tbody tr th {\n",
              "        vertical-align: top;\n",
              "    }\n",
              "\n",
              "    .dataframe thead th {\n",
              "        text-align: right;\n",
              "    }\n",
              "</style>\n",
              "<table border=\"1\" class=\"dataframe\">\n",
              "  <thead>\n",
              "    <tr style=\"text-align: right;\">\n",
              "      <th></th>\n",
              "      <th>地域ID</th>\n",
              "      <th>市区町村名</th>\n",
              "      <th>町名</th>\n",
              "      <th>町丁目</th>\n",
              "      <th>緯度</th>\n",
              "      <th>経度</th>\n",
              "      <th>運動場(最近傍距離)</th>\n",
              "      <th>体育館(最近傍距離)</th>\n",
              "      <th>プール(最近傍距離)</th>\n",
              "      <th>運動場(数)</th>\n",
              "      <th>体育館(数)</th>\n",
              "      <th>プール(数)</th>\n",
              "      <th>運動場(最近傍距離)レベル</th>\n",
              "      <th>運動場(数)レベル</th>\n",
              "      <th>_運動場スコア</th>\n",
              "      <th>運動場スコア</th>\n",
              "      <th>体育館(最近傍距離)レベル</th>\n",
              "      <th>体育館(数)レベル</th>\n",
              "      <th>_体育館スコア</th>\n",
              "      <th>体育館スコア</th>\n",
              "      <th>プール(最近傍距離)レベル</th>\n",
              "      <th>プール(数)レベル</th>\n",
              "      <th>_プールスコア</th>\n",
              "      <th>プールスコア</th>\n",
              "    </tr>\n",
              "  </thead>\n",
              "  <tbody>\n",
              "    <tr>\n",
              "      <th>0</th>\n",
              "      <td>103003</td>\n",
              "      <td>港区</td>\n",
              "      <td>芝</td>\n",
              "      <td>芝１丁目</td>\n",
              "      <td>35.651019</td>\n",
              "      <td>139.754999</td>\n",
              "      <td>0.557138</td>\n",
              "      <td>3.796813</td>\n",
              "      <td>1.254376</td>\n",
              "      <td>6</td>\n",
              "      <td>0</td>\n",
              "      <td>6</td>\n",
              "      <td>0.886981</td>\n",
              "      <td>0.153846</td>\n",
              "      <td>0.520414</td>\n",
              "      <td>2.851116</td>\n",
              "      <td>0.316000</td>\n",
              "      <td>0.0</td>\n",
              "      <td>0.172060</td>\n",
              "      <td>0.370169</td>\n",
              "      <td>0.817835</td>\n",
              "      <td>0.750</td>\n",
              "      <td>0.836179</td>\n",
              "      <td>4.764108</td>\n",
              "    </tr>\n",
              "    <tr>\n",
              "      <th>1</th>\n",
              "      <td>103004</td>\n",
              "      <td>港区</td>\n",
              "      <td>芝</td>\n",
              "      <td>芝２丁目</td>\n",
              "      <td>35.651370</td>\n",
              "      <td>139.751891</td>\n",
              "      <td>0.373750</td>\n",
              "      <td>3.657936</td>\n",
              "      <td>1.152263</td>\n",
              "      <td>6</td>\n",
              "      <td>0</td>\n",
              "      <td>7</td>\n",
              "      <td>0.930858</td>\n",
              "      <td>0.153846</td>\n",
              "      <td>0.542352</td>\n",
              "      <td>3.176783</td>\n",
              "      <td>0.342131</td>\n",
              "      <td>0.0</td>\n",
              "      <td>0.186288</td>\n",
              "      <td>0.431864</td>\n",
              "      <td>0.835195</td>\n",
              "      <td>0.875</td>\n",
              "      <td>0.912104</td>\n",
              "      <td>4.905643</td>\n",
              "    </tr>\n",
              "    <tr>\n",
              "      <th>2</th>\n",
              "      <td>103005</td>\n",
              "      <td>港区</td>\n",
              "      <td>芝</td>\n",
              "      <td>芝３丁目</td>\n",
              "      <td>35.652304</td>\n",
              "      <td>139.747678</td>\n",
              "      <td>0.369513</td>\n",
              "      <td>3.541954</td>\n",
              "      <td>1.068910</td>\n",
              "      <td>6</td>\n",
              "      <td>0</td>\n",
              "      <td>6</td>\n",
              "      <td>0.931872</td>\n",
              "      <td>0.153846</td>\n",
              "      <td>0.542859</td>\n",
              "      <td>3.187670</td>\n",
              "      <td>0.363954</td>\n",
              "      <td>0.0</td>\n",
              "      <td>0.198171</td>\n",
              "      <td>0.457267</td>\n",
              "      <td>0.849365</td>\n",
              "      <td>0.750</td>\n",
              "      <td>0.852995</td>\n",
              "      <td>4.804028</td>\n",
              "    </tr>\n",
              "    <tr>\n",
              "      <th>3</th>\n",
              "      <td>103006</td>\n",
              "      <td>港区</td>\n",
              "      <td>芝</td>\n",
              "      <td>芝４丁目</td>\n",
              "      <td>35.648348</td>\n",
              "      <td>139.751136</td>\n",
              "      <td>0.218276</td>\n",
              "      <td>3.347219</td>\n",
              "      <td>1.481813</td>\n",
              "      <td>6</td>\n",
              "      <td>0</td>\n",
              "      <td>7</td>\n",
              "      <td>0.968057</td>\n",
              "      <td>0.153846</td>\n",
              "      <td>0.560951</td>\n",
              "      <td>3.468019</td>\n",
              "      <td>0.400594</td>\n",
              "      <td>0.0</td>\n",
              "      <td>0.218121</td>\n",
              "      <td>0.515333</td>\n",
              "      <td>0.779170</td>\n",
              "      <td>0.875</td>\n",
              "      <td>0.882224</td>\n",
              "      <td>4.862094</td>\n",
              "    </tr>\n",
              "    <tr>\n",
              "      <th>4</th>\n",
              "      <td>103007</td>\n",
              "      <td>港区</td>\n",
              "      <td>芝</td>\n",
              "      <td>芝５丁目</td>\n",
              "      <td>35.647148</td>\n",
              "      <td>139.746984</td>\n",
              "      <td>0.416402</td>\n",
              "      <td>3.019811</td>\n",
              "      <td>1.339396</td>\n",
              "      <td>7</td>\n",
              "      <td>0</td>\n",
              "      <td>6</td>\n",
              "      <td>0.920653</td>\n",
              "      <td>0.179487</td>\n",
              "      <td>0.550070</td>\n",
              "      <td>3.312874</td>\n",
              "      <td>0.462198</td>\n",
              "      <td>0.0</td>\n",
              "      <td>0.251664</td>\n",
              "      <td>0.635093</td>\n",
              "      <td>0.803381</td>\n",
              "      <td>0.750</td>\n",
              "      <td>0.828470</td>\n",
              "      <td>4.724188</td>\n",
              "    </tr>\n",
              "  </tbody>\n",
              "</table>\n",
              "</div>\n",
              "      <button class=\"colab-df-convert\" onclick=\"convertToInteractive('df-6669d1a1-65a4-430c-acab-80b63fe7c04d')\"\n",
              "              title=\"Convert this dataframe to an interactive table.\"\n",
              "              style=\"display:none;\">\n",
              "        \n",
              "  <svg xmlns=\"http://www.w3.org/2000/svg\" height=\"24px\"viewBox=\"0 0 24 24\"\n",
              "       width=\"24px\">\n",
              "    <path d=\"M0 0h24v24H0V0z\" fill=\"none\"/>\n",
              "    <path d=\"M18.56 5.44l.94 2.06.94-2.06 2.06-.94-2.06-.94-.94-2.06-.94 2.06-2.06.94zm-11 1L8.5 8.5l.94-2.06 2.06-.94-2.06-.94L8.5 2.5l-.94 2.06-2.06.94zm10 10l.94 2.06.94-2.06 2.06-.94-2.06-.94-.94-2.06-.94 2.06-2.06.94z\"/><path d=\"M17.41 7.96l-1.37-1.37c-.4-.4-.92-.59-1.43-.59-.52 0-1.04.2-1.43.59L10.3 9.45l-7.72 7.72c-.78.78-.78 2.05 0 2.83L4 21.41c.39.39.9.59 1.41.59.51 0 1.02-.2 1.41-.59l7.78-7.78 2.81-2.81c.8-.78.8-2.07 0-2.86zM5.41 20L4 18.59l7.72-7.72 1.47 1.35L5.41 20z\"/>\n",
              "  </svg>\n",
              "      </button>\n",
              "      \n",
              "  <style>\n",
              "    .colab-df-container {\n",
              "      display:flex;\n",
              "      flex-wrap:wrap;\n",
              "      gap: 12px;\n",
              "    }\n",
              "\n",
              "    .colab-df-convert {\n",
              "      background-color: #E8F0FE;\n",
              "      border: none;\n",
              "      border-radius: 50%;\n",
              "      cursor: pointer;\n",
              "      display: none;\n",
              "      fill: #1967D2;\n",
              "      height: 32px;\n",
              "      padding: 0 0 0 0;\n",
              "      width: 32px;\n",
              "    }\n",
              "\n",
              "    .colab-df-convert:hover {\n",
              "      background-color: #E2EBFA;\n",
              "      box-shadow: 0px 1px 2px rgba(60, 64, 67, 0.3), 0px 1px 3px 1px rgba(60, 64, 67, 0.15);\n",
              "      fill: #174EA6;\n",
              "    }\n",
              "\n",
              "    [theme=dark] .colab-df-convert {\n",
              "      background-color: #3B4455;\n",
              "      fill: #D2E3FC;\n",
              "    }\n",
              "\n",
              "    [theme=dark] .colab-df-convert:hover {\n",
              "      background-color: #434B5C;\n",
              "      box-shadow: 0px 1px 3px 1px rgba(0, 0, 0, 0.15);\n",
              "      filter: drop-shadow(0px 1px 2px rgba(0, 0, 0, 0.3));\n",
              "      fill: #FFFFFF;\n",
              "    }\n",
              "  </style>\n",
              "\n",
              "      <script>\n",
              "        const buttonEl =\n",
              "          document.querySelector('#df-6669d1a1-65a4-430c-acab-80b63fe7c04d button.colab-df-convert');\n",
              "        buttonEl.style.display =\n",
              "          google.colab.kernel.accessAllowed ? 'block' : 'none';\n",
              "\n",
              "        async function convertToInteractive(key) {\n",
              "          const element = document.querySelector('#df-6669d1a1-65a4-430c-acab-80b63fe7c04d');\n",
              "          const dataTable =\n",
              "            await google.colab.kernel.invokeFunction('convertToInteractive',\n",
              "                                                     [key], {});\n",
              "          if (!dataTable) return;\n",
              "\n",
              "          const docLinkHtml = 'Like what you see? Visit the ' +\n",
              "            '<a target=\"_blank\" href=https://colab.research.google.com/notebooks/data_table.ipynb>data table notebook</a>'\n",
              "            + ' to learn more about interactive tables.';\n",
              "          element.innerHTML = '';\n",
              "          dataTable['output_type'] = 'display_data';\n",
              "          await google.colab.output.renderOutput(dataTable, element);\n",
              "          const docLink = document.createElement('div');\n",
              "          docLink.innerHTML = docLinkHtml;\n",
              "          element.appendChild(docLink);\n",
              "        }\n",
              "      </script>\n",
              "    </div>\n",
              "  </div>\n",
              "  "
            ]
          },
          "metadata": {},
          "execution_count": 61
        }
      ]
    },
    {
      "cell_type": "markdown",
      "source": [
        "## 保存"
      ],
      "metadata": {
        "id": "ySZnii0BU2mP"
      }
    },
    {
      "cell_type": "code",
      "source": [
        "all_feature_list"
      ],
      "metadata": {
        "id": "aBXrwj1FIUFd",
        "outputId": "2ce0da6e-b635-477f-e73c-2878911ae4f2",
        "colab": {
          "base_uri": "https://localhost:8080/"
        }
      },
      "execution_count": 62,
      "outputs": [
        {
          "output_type": "execute_result",
          "data": {
            "text/plain": [
              "['運動場(最近傍距離)', '運動場(数)', '体育館(最近傍距離)', '体育館(数)', 'プール(最近傍距離)', 'プール(数)']"
            ]
          },
          "metadata": {},
          "execution_count": 62
        }
      ]
    },
    {
      "cell_type": "code",
      "source": [
        "all_score_list"
      ],
      "metadata": {
        "id": "R2RtHnJwIUlY",
        "outputId": "86f6b2fc-c83a-4c9f-aa95-8e3dbd402884",
        "colab": {
          "base_uri": "https://localhost:8080/"
        }
      },
      "execution_count": 63,
      "outputs": [
        {
          "output_type": "execute_result",
          "data": {
            "text/plain": [
              "['_運動場スコア', '運動場スコア', '_体育館スコア', '体育館スコア', '_プールスコア', 'プールスコア']"
            ]
          },
          "metadata": {},
          "execution_count": 63
        }
      ]
    },
    {
      "cell_type": "code",
      "source": [
        "df_pop_master[\n",
        "    ['地域ID', '市区町村名', '町丁目'] + all_feature_list + all_score_list\n",
        "].to_csv(os.path.join(DIR_NAME, output_score_file), index=False)"
      ],
      "metadata": {
        "id": "zcsj2mFmSPIk"
      },
      "execution_count": 64,
      "outputs": []
    },
    {
      "cell_type": "markdown",
      "source": [
        "## 区ごとのスコア確認"
      ],
      "metadata": {
        "id": "jAAtfPEoIh7r"
      }
    },
    {
      "cell_type": "code",
      "source": [
        "for _score in ['運動場スコア', '体育館スコア', 'プールスコア']:\n",
        "    plt.figure(figsize=(15, 5))\n",
        "    sns.barplot(x='市区町村名', y=_score, data=df_pop_master)\n",
        "    plt.show()"
      ],
      "metadata": {
        "colab": {
          "base_uri": "https://localhost:8080/",
          "height": 965
        },
        "id": "3tJjlj0keD_-",
        "outputId": "28bdeff1-6524-4300-ad86-e8494e19b018"
      },
      "execution_count": 65,
      "outputs": [
        {
          "output_type": "display_data",
          "data": {
            "text/plain": [
              "<Figure size 1080x360 with 1 Axes>"
            ],
            "image/png": "[encoded data removed]"
          },
          "metadata": {
            "needs_background": "light"
          }
        },
        {
          "output_type": "display_data",
          "data": {
            "text/plain": [
              "<Figure size 1080x360 with 1 Axes>"
            ],
            "image/png": "[encoded data removed]"
          },
          "metadata": {
            "needs_background": "light"
          }
        },
        {
          "output_type": "display_data",
          "data": {
            "text/plain": [
              "<Figure size 1080x360 with 1 Axes>"
            ],
            "image/png": "[encoded data removed]"
          },
          "metadata": {
            "needs_background": "light"
          }
        }
      ]
    },
    {
      "cell_type": "code",
      "source": [
        "df_level = df_pop_master.copy()\n",
        "df_level['rank'] = df_level.groupby('町名')[score_name].transform('rank', ascending=False)\n",
        "df_level = df_level[df_level['rank'] == 1].sort_values(score_name, ascending=False)[\n",
        "    ['市区町村名', '町名', '町丁目'] + total_score_list + list(feature_list.keys())\n",
        "].reset_index(drop=True)\n",
        "print(df_level.shape)"
      ],
      "metadata": {
        "colab": {
          "base_uri": "https://localhost:8080/"
        },
        "id": "1uo9GIIvStL_",
        "outputId": "d787f8f4-9a23-4ae3-c3bf-f7ef29471286"
      },
      "execution_count": 66,
      "outputs": [
        {
          "output_type": "stream",
          "name": "stdout",
          "text": [
            "(491, 7)\n"
          ]
        }
      ]
    },
    {
      "cell_type": "code",
      "source": [
        "df_level.head(20)"
      ],
      "metadata": {
        "colab": {
          "base_uri": "https://localhost:8080/",
          "height": 677
        },
        "id": "HmlzRQiaZZZC",
        "outputId": "b09bbc86-9dc7-49ed-de44-6bbbe697b35c"
      },
      "execution_count": 67,
      "outputs": [
        {
          "output_type": "execute_result",
          "data": {
            "text/plain": [
              "   市区町村名    町名      町丁目   _プールスコア    プールスコア  プール(最近傍距離)  プール(数)\n",
              "0    目黒区    目黒    目黒２丁目  1.000000  4.998185    0.056938       7\n",
              "1     港区   南麻布   南麻布３丁目  1.000000  4.998185    0.076796       7\n",
              "2    品川区   上大崎   上大崎３丁目  0.992323  4.989113    1.002791       8\n",
              "3     港区    高輪    高輪２丁目  0.977089  4.981854    0.435534       7\n",
              "4    目黒区    三田    三田２丁目  0.972963  4.974596    0.481036       7\n",
              "5     港区    白金    白金３丁目  0.972685  4.970967    0.484111       7\n",
              "6    目黒区   中目黒   中目黒４丁目  0.966473  4.960080    0.552618       7\n",
              "7    目黒区   下目黒   下目黒１丁目  0.960802  4.949193    0.615164       7\n",
              "8     港区   西麻布   西麻布４丁目  0.933333  4.929232    0.129617       6\n",
              "9     港区   白金台   白金台５丁目  0.913460  4.912901    1.137310       7\n",
              "10   品川区  西五反田  西五反田３丁目  0.913398  4.909272    1.137987       7\n",
              "11    港区     芝     芝２丁目  0.912104  4.905643    1.152263       7\n",
              "12    港区   元麻布   元麻布２丁目  0.909655  4.902014    0.444002       6\n",
              "13    港区   芝公園   芝公園４丁目  0.894192  4.883869    0.614542       6\n",
              "14    港区  麻布十番  麻布十番３丁目  0.890483  4.880240    0.655452       6\n",
              "15   目黒区   五本木   五本木２丁目  0.866667  4.842134    0.042723       5\n",
              "16   目黒区   碑文谷   碑文谷１丁目  0.866667  4.842134    0.138838       5\n",
              "17    港区   浜松町   浜松町２丁目  0.865315  4.833061    0.933028       6\n",
              "18    港区   西新橋   西新橋３丁目  0.864562  4.829432    0.206053       5\n",
              "19    港区    愛宕    愛宕２丁目  0.864367  4.825803    0.208206       5"
            ],
            "text/html": [
              "\n",
              "  <div id=\"df-d6b5e9c8-2240-40b1-bdd7-8f754180674f\">\n",
              "    <div class=\"colab-df-container\">\n",
              "      <div>\n",
              "<style scoped>\n",
              "    .dataframe tbody tr th:only-of-type {\n",
              "        vertical-align: middle;\n",
              "    }\n",
              "\n",
              "    .dataframe tbody tr th {\n",
              "        vertical-align: top;\n",
              "    }\n",
              "\n",
              "    .dataframe thead th {\n",
              "        text-align: right;\n",
              "    }\n",
              "</style>\n",
              "<table border=\"1\" class=\"dataframe\">\n",
              "  <thead>\n",
              "    <tr style=\"text-align: right;\">\n",
              "      <th></th>\n",
              "      <th>市区町村名</th>\n",
              "      <th>町名</th>\n",
              "      <th>町丁目</th>\n",
              "      <th>_プールスコア</th>\n",
              "      <th>プールスコア</th>\n",
              "      <th>プール(最近傍距離)</th>\n",
              "      <th>プール(数)</th>\n",
              "    </tr>\n",
              "  </thead>\n",
              "  <tbody>\n",
              "    <tr>\n",
              "      <th>0</th>\n",
              "      <td>目黒区</td>\n",
              "      <td>目黒</td>\n",
              "      <td>目黒２丁目</td>\n",
              "      <td>1.000000</td>\n",
              "      <td>4.998185</td>\n",
              "      <td>0.056938</td>\n",
              "      <td>7</td>\n",
              "    </tr>\n",
              "    <tr>\n",
              "      <th>1</th>\n",
              "      <td>港区</td>\n",
              "      <td>南麻布</td>\n",
              "      <td>南麻布３丁目</td>\n",
              "      <td>1.000000</td>\n",
              "      <td>4.998185</td>\n",
              "      <td>0.076796</td>\n",
              "      <td>7</td>\n",
              "    </tr>\n",
              "    <tr>\n",
              "      <th>2</th>\n",
              "      <td>品川区</td>\n",
              "      <td>上大崎</td>\n",
              "      <td>上大崎３丁目</td>\n",
              "      <td>0.992323</td>\n",
              "      <td>4.989113</td>\n",
              "      <td>1.002791</td>\n",
              "      <td>8</td>\n",
              "    </tr>\n",
              "    <tr>\n",
              "      <th>3</th>\n",
              "      <td>港区</td>\n",
              "      <td>高輪</td>\n",
              "      <td>高輪２丁目</td>\n",
              "      <td>0.977089</td>\n",
              "      <td>4.981854</td>\n",
              "      <td>0.435534</td>\n",
              "      <td>7</td>\n",
              "    </tr>\n",
              "    <tr>\n",
              "      <th>4</th>\n",
              "      <td>目黒区</td>\n",
              "      <td>三田</td>\n",
              "      <td>三田２丁目</td>\n",
              "      <td>0.972963</td>\n",
              "      <td>4.974596</td>\n",
              "      <td>0.481036</td>\n",
              "      <td>7</td>\n",
              "    </tr>\n",
              "    <tr>\n",
              "      <th>5</th>\n",
              "      <td>港区</td>\n",
              "      <td>白金</td>\n",
              "      <td>白金３丁目</td>\n",
              "      <td>0.972685</td>\n",
              "      <td>4.970967</td>\n",
              "      <td>0.484111</td>\n",
              "      <td>7</td>\n",
              "    </tr>\n",
              "    <tr>\n",
              "      <th>6</th>\n",
              "      <td>目黒区</td>\n",
              "      <td>中目黒</td>\n",
              "      <td>中目黒４丁目</td>\n",
              "      <td>0.966473</td>\n",
              "      <td>4.960080</td>\n",
              "      <td>0.552618</td>\n",
              "      <td>7</td>\n",
              "    </tr>\n",
              "    <tr>\n",
              "      <th>7</th>\n",
              "      <td>目黒区</td>\n",
              "      <td>下目黒</td>\n",
              "      <td>下目黒１丁目</td>\n",
              "      <td>0.960802</td>\n",
              "      <td>4.949193</td>\n",
              "      <td>0.615164</td>\n",
              "      <td>7</td>\n",
              "    </tr>\n",
              "    <tr>\n",
              "      <th>8</th>\n",
              "      <td>港区</td>\n",
              "      <td>西麻布</td>\n",
              "      <td>西麻布４丁目</td>\n",
              "      <td>0.933333</td>\n",
              "      <td>4.929232</td>\n",
              "      <td>0.129617</td>\n",
              "      <td>6</td>\n",
              "    </tr>\n",
              "    <tr>\n",
              "      <th>9</th>\n",
              "      <td>港区</td>\n",
              "      <td>白金台</td>\n",
              "      <td>白金台５丁目</td>\n",
              "      <td>0.913460</td>\n",
              "      <td>4.912901</td>\n",
              "      <td>1.137310</td>\n",
              "      <td>7</td>\n",
              "    </tr>\n",
              "    <tr>\n",
              "      <th>10</th>\n",
              "      <td>品川区</td>\n",
              "      <td>西五反田</td>\n",
              "      <td>西五反田３丁目</td>\n",
              "      <td>0.913398</td>\n",
              "      <td>4.909272</td>\n",
              "      <td>1.137987</td>\n",
              "      <td>7</td>\n",
              "    </tr>\n",
              "    <tr>\n",
              "      <th>11</th>\n",
              "      <td>港区</td>\n",
              "      <td>芝</td>\n",
              "      <td>芝２丁目</td>\n",
              "      <td>0.912104</td>\n",
              "      <td>4.905643</td>\n",
              "      <td>1.152263</td>\n",
              "      <td>7</td>\n",
              "    </tr>\n",
              "    <tr>\n",
              "      <th>12</th>\n",
              "      <td>港区</td>\n",
              "      <td>元麻布</td>\n",
              "      <td>元麻布２丁目</td>\n",
              "      <td>0.909655</td>\n",
              "      <td>4.902014</td>\n",
              "      <td>0.444002</td>\n",
              "      <td>6</td>\n",
              "    </tr>\n",
              "    <tr>\n",
              "      <th>13</th>\n",
              "      <td>港区</td>\n",
              "      <td>芝公園</td>\n",
              "      <td>芝公園４丁目</td>\n",
              "      <td>0.894192</td>\n",
              "      <td>4.883869</td>\n",
              "      <td>0.614542</td>\n",
              "      <td>6</td>\n",
              "    </tr>\n",
              "    <tr>\n",
              "      <th>14</th>\n",
              "      <td>港区</td>\n",
              "      <td>麻布十番</td>\n",
              "      <td>麻布十番３丁目</td>\n",
              "      <td>0.890483</td>\n",
              "      <td>4.880240</td>\n",
              "      <td>0.655452</td>\n",
              "      <td>6</td>\n",
              "    </tr>\n",
              "    <tr>\n",
              "      <th>15</th>\n",
              "      <td>目黒区</td>\n",
              "      <td>五本木</td>\n",
              "      <td>五本木２丁目</td>\n",
              "      <td>0.866667</td>\n",
              "      <td>4.842134</td>\n",
              "      <td>0.042723</td>\n",
              "      <td>5</td>\n",
              "    </tr>\n",
              "    <tr>\n",
              "      <th>16</th>\n",
              "      <td>目黒区</td>\n",
              "      <td>碑文谷</td>\n",
              "      <td>碑文谷１丁目</td>\n",
              "      <td>0.866667</td>\n",
              "      <td>4.842134</td>\n",
              "      <td>0.138838</td>\n",
              "      <td>5</td>\n",
              "    </tr>\n",
              "    <tr>\n",
              "      <th>17</th>\n",
              "      <td>港区</td>\n",
              "      <td>浜松町</td>\n",
              "      <td>浜松町２丁目</td>\n",
              "      <td>0.865315</td>\n",
              "      <td>4.833061</td>\n",
              "      <td>0.933028</td>\n",
              "      <td>6</td>\n",
              "    </tr>\n",
              "    <tr>\n",
              "      <th>18</th>\n",
              "      <td>港区</td>\n",
              "      <td>西新橋</td>\n",
              "      <td>西新橋３丁目</td>\n",
              "      <td>0.864562</td>\n",
              "      <td>4.829432</td>\n",
              "      <td>0.206053</td>\n",
              "      <td>5</td>\n",
              "    </tr>\n",
              "    <tr>\n",
              "      <th>19</th>\n",
              "      <td>港区</td>\n",
              "      <td>愛宕</td>\n",
              "      <td>愛宕２丁目</td>\n",
              "      <td>0.864367</td>\n",
              "      <td>4.825803</td>\n",
              "      <td>0.208206</td>\n",
              "      <td>5</td>\n",
              "    </tr>\n",
              "  </tbody>\n",
              "</table>\n",
              "</div>\n",
              "      <button class=\"colab-df-convert\" onclick=\"convertToInteractive('df-d6b5e9c8-2240-40b1-bdd7-8f754180674f')\"\n",
              "              title=\"Convert this dataframe to an interactive table.\"\n",
              "              style=\"display:none;\">\n",
              "        \n",
              "  <svg xmlns=\"http://www.w3.org/2000/svg\" height=\"24px\"viewBox=\"0 0 24 24\"\n",
              "       width=\"24px\">\n",
              "    <path d=\"M0 0h24v24H0V0z\" fill=\"none\"/>\n",
              "    <path d=\"M18.56 5.44l.94 2.06.94-2.06 2.06-.94-2.06-.94-.94-2.06-.94 2.06-2.06.94zm-11 1L8.5 8.5l.94-2.06 2.06-.94-2.06-.94L8.5 2.5l-.94 2.06-2.06.94zm10 10l.94 2.06.94-2.06 2.06-.94-2.06-.94-.94-2.06-.94 2.06-2.06.94z\"/><path d=\"M17.41 7.96l-1.37-1.37c-.4-.4-.92-.59-1.43-.59-.52 0-1.04.2-1.43.59L10.3 9.45l-7.72 7.72c-.78.78-.78 2.05 0 2.83L4 21.41c.39.39.9.59 1.41.59.51 0 1.02-.2 1.41-.59l7.78-7.78 2.81-2.81c.8-.78.8-2.07 0-2.86zM5.41 20L4 18.59l7.72-7.72 1.47 1.35L5.41 20z\"/>\n",
              "  </svg>\n",
              "      </button>\n",
              "      \n",
              "  <style>\n",
              "    .colab-df-container {\n",
              "      display:flex;\n",
              "      flex-wrap:wrap;\n",
              "      gap: 12px;\n",
              "    }\n",
              "\n",
              "    .colab-df-convert {\n",
              "      background-color: #E8F0FE;\n",
              "      border: none;\n",
              "      border-radius: 50%;\n",
              "      cursor: pointer;\n",
              "      display: none;\n",
              "      fill: #1967D2;\n",
              "      height: 32px;\n",
              "      padding: 0 0 0 0;\n",
              "      width: 32px;\n",
              "    }\n",
              "\n",
              "    .colab-df-convert:hover {\n",
              "      background-color: #E2EBFA;\n",
              "      box-shadow: 0px 1px 2px rgba(60, 64, 67, 0.3), 0px 1px 3px 1px rgba(60, 64, 67, 0.15);\n",
              "      fill: #174EA6;\n",
              "    }\n",
              "\n",
              "    [theme=dark] .colab-df-convert {\n",
              "      background-color: #3B4455;\n",
              "      fill: #D2E3FC;\n",
              "    }\n",
              "\n",
              "    [theme=dark] .colab-df-convert:hover {\n",
              "      background-color: #434B5C;\n",
              "      box-shadow: 0px 1px 3px 1px rgba(0, 0, 0, 0.15);\n",
              "      filter: drop-shadow(0px 1px 2px rgba(0, 0, 0, 0.3));\n",
              "      fill: #FFFFFF;\n",
              "    }\n",
              "  </style>\n",
              "\n",
              "      <script>\n",
              "        const buttonEl =\n",
              "          document.querySelector('#df-d6b5e9c8-2240-40b1-bdd7-8f754180674f button.colab-df-convert');\n",
              "        buttonEl.style.display =\n",
              "          google.colab.kernel.accessAllowed ? 'block' : 'none';\n",
              "\n",
              "        async function convertToInteractive(key) {\n",
              "          const element = document.querySelector('#df-d6b5e9c8-2240-40b1-bdd7-8f754180674f');\n",
              "          const dataTable =\n",
              "            await google.colab.kernel.invokeFunction('convertToInteractive',\n",
              "                                                     [key], {});\n",
              "          if (!dataTable) return;\n",
              "\n",
              "          const docLinkHtml = 'Like what you see? Visit the ' +\n",
              "            '<a target=\"_blank\" href=https://colab.research.google.com/notebooks/data_table.ipynb>data table notebook</a>'\n",
              "            + ' to learn more about interactive tables.';\n",
              "          element.innerHTML = '';\n",
              "          dataTable['output_type'] = 'display_data';\n",
              "          await google.colab.output.renderOutput(dataTable, element);\n",
              "          const docLink = document.createElement('div');\n",
              "          docLink.innerHTML = docLinkHtml;\n",
              "          element.appendChild(docLink);\n",
              "        }\n",
              "      </script>\n",
              "    </div>\n",
              "  </div>\n",
              "  "
            ]
          },
          "metadata": {},
          "execution_count": 67
        }
      ]
    },
    {
      "cell_type": "code",
      "source": [
        "df_level.tail(20)"
      ],
      "metadata": {
        "colab": {
          "base_uri": "https://localhost:8080/",
          "height": 677
        },
        "id": "qAA-c_8MaoIQ",
        "outputId": "a691ae50-a073-4b00-8a83-06d83d8aaeee"
      },
      "execution_count": 68,
      "outputs": [
        {
          "output_type": "execute_result",
          "data": {
            "text/plain": [
              "    市区町村名     町名      町丁目   _プールスコア    プールスコア  プール(最近傍距離)  プール(数)\n",
              "471   足立区     新田    新田３丁目  0.078130  0.308474    5.203339       0\n",
              "472   板橋区     仲宿       仲宿  0.071999  0.283070    5.270963       0\n",
              "473   板橋区   大山西町     大山西町  0.071967  0.279441    5.271317       0\n",
              "474   板橋区    大山町      大山町  0.071638  0.275812    5.274945       0\n",
              "475   豊島区     要町    要町２丁目  0.066306  0.257666    5.333757       0\n",
              "476   練馬区   西大泉町     西大泉町  0.053147  0.203230    5.478886       0\n",
              "477   板橋区   大山東町     大山東町  0.050253  0.192343    5.510799       0\n",
              "478   板橋区     幸町       幸町  0.048324  0.185084    5.532076       0\n",
              "479   豊島区    東池袋   東池袋５丁目  0.043777  0.177826    5.582233       0\n",
              "480   豊島区     千川    千川１丁目  0.042267  0.174197    5.598888       0\n",
              "481   豊島区   雑司が谷  雑司が谷１丁目  0.036499  0.159681    5.662504       0\n",
              "482   豊島区    西巣鴨   西巣鴨２丁目  0.030225  0.148793    5.731698       0\n",
              "483   板橋区  大山金井町    大山金井町  0.027316  0.145164    5.763775       0\n",
              "484   豊島区    南池袋   南池袋４丁目  0.026660  0.141535    5.771018       0\n",
              "485   板橋区     板橋    板橋３丁目  0.024213  0.127019    5.798007       0\n",
              "486   豊島区    上池袋   上池袋１丁目  0.001415  0.076211    6.049447       0\n",
              "487   豊島区     池袋    池袋３丁目  0.000756  0.072582    6.056716       0\n",
              "488   板橋区     南町       南町  0.000000  0.036291    6.201523       0\n",
              "489   板橋区    熊野町      熊野町  0.000000  0.036291    6.151828       0\n",
              "490   板橋区    中丸町      中丸町  0.000000  0.036291    6.148686       0"
            ],
            "text/html": [
              "\n",
              "  <div id=\"df-6d309451-65b0-4449-a6f9-75c127e5e172\">\n",
              "    <div class=\"colab-df-container\">\n",
              "      <div>\n",
              "<style scoped>\n",
              "    .dataframe tbody tr th:only-of-type {\n",
              "        vertical-align: middle;\n",
              "    }\n",
              "\n",
              "    .dataframe tbody tr th {\n",
              "        vertical-align: top;\n",
              "    }\n",
              "\n",
              "    .dataframe thead th {\n",
              "        text-align: right;\n",
              "    }\n",
              "</style>\n",
              "<table border=\"1\" class=\"dataframe\">\n",
              "  <thead>\n",
              "    <tr style=\"text-align: right;\">\n",
              "      <th></th>\n",
              "      <th>市区町村名</th>\n",
              "      <th>町名</th>\n",
              "      <th>町丁目</th>\n",
              "      <th>_プールスコア</th>\n",
              "      <th>プールスコア</th>\n",
              "      <th>プール(最近傍距離)</th>\n",
              "      <th>プール(数)</th>\n",
              "    </tr>\n",
              "  </thead>\n",
              "  <tbody>\n",
              "    <tr>\n",
              "      <th>471</th>\n",
              "      <td>足立区</td>\n",
              "      <td>新田</td>\n",
              "      <td>新田３丁目</td>\n",
              "      <td>0.078130</td>\n",
              "      <td>0.308474</td>\n",
              "      <td>5.203339</td>\n",
              "      <td>0</td>\n",
              "    </tr>\n",
              "    <tr>\n",
              "      <th>472</th>\n",
              "      <td>板橋区</td>\n",
              "      <td>仲宿</td>\n",
              "      <td>仲宿</td>\n",
              "      <td>0.071999</td>\n",
              "      <td>0.283070</td>\n",
              "      <td>5.270963</td>\n",
              "      <td>0</td>\n",
              "    </tr>\n",
              "    <tr>\n",
              "      <th>473</th>\n",
              "      <td>板橋区</td>\n",
              "      <td>大山西町</td>\n",
              "      <td>大山西町</td>\n",
              "      <td>0.071967</td>\n",
              "      <td>0.279441</td>\n",
              "      <td>5.271317</td>\n",
              "      <td>0</td>\n",
              "    </tr>\n",
              "    <tr>\n",
              "      <th>474</th>\n",
              "      <td>板橋区</td>\n",
              "      <td>大山町</td>\n",
              "      <td>大山町</td>\n",
              "      <td>0.071638</td>\n",
              "      <td>0.275812</td>\n",
              "      <td>5.274945</td>\n",
              "      <td>0</td>\n",
              "    </tr>\n",
              "    <tr>\n",
              "      <th>475</th>\n",
              "      <td>豊島区</td>\n",
              "      <td>要町</td>\n",
              "      <td>要町２丁目</td>\n",
              "      <td>0.066306</td>\n",
              "      <td>0.257666</td>\n",
              "      <td>5.333757</td>\n",
              "      <td>0</td>\n",
              "    </tr>\n",
              "    <tr>\n",
              "      <th>476</th>\n",
              "      <td>練馬区</td>\n",
              "      <td>西大泉町</td>\n",
              "      <td>西大泉町</td>\n",
              "      <td>0.053147</td>\n",
              "      <td>0.203230</td>\n",
              "      <td>5.478886</td>\n",
              "      <td>0</td>\n",
              "    </tr>\n",
              "    <tr>\n",
              "      <th>477</th>\n",
              "      <td>板橋区</td>\n",
              "      <td>大山東町</td>\n",
              "      <td>大山東町</td>\n",
              "      <td>0.050253</td>\n",
              "      <td>0.192343</td>\n",
              "      <td>5.510799</td>\n",
              "      <td>0</td>\n",
              "    </tr>\n",
              "    <tr>\n",
              "      <th>478</th>\n",
              "      <td>板橋区</td>\n",
              "      <td>幸町</td>\n",
              "      <td>幸町</td>\n",
              "      <td>0.048324</td>\n",
              "      <td>0.185084</td>\n",
              "      <td>5.532076</td>\n",
              "      <td>0</td>\n",
              "    </tr>\n",
              "    <tr>\n",
              "      <th>479</th>\n",
              "      <td>豊島区</td>\n",
              "      <td>東池袋</td>\n",
              "      <td>東池袋５丁目</td>\n",
              "      <td>0.043777</td>\n",
              "      <td>0.177826</td>\n",
              "      <td>5.582233</td>\n",
              "      <td>0</td>\n",
              "    </tr>\n",
              "    <tr>\n",
              "      <th>480</th>\n",
              "      <td>豊島区</td>\n",
              "      <td>千川</td>\n",
              "      <td>千川１丁目</td>\n",
              "      <td>0.042267</td>\n",
              "      <td>0.174197</td>\n",
              "      <td>5.598888</td>\n",
              "      <td>0</td>\n",
              "    </tr>\n",
              "    <tr>\n",
              "      <th>481</th>\n",
              "      <td>豊島区</td>\n",
              "      <td>雑司が谷</td>\n",
              "      <td>雑司が谷１丁目</td>\n",
              "      <td>0.036499</td>\n",
              "      <td>0.159681</td>\n",
              "      <td>5.662504</td>\n",
              "      <td>0</td>\n",
              "    </tr>\n",
              "    <tr>\n",
              "      <th>482</th>\n",
              "      <td>豊島区</td>\n",
              "      <td>西巣鴨</td>\n",
              "      <td>西巣鴨２丁目</td>\n",
              "      <td>0.030225</td>\n",
              "      <td>0.148793</td>\n",
              "      <td>5.731698</td>\n",
              "      <td>0</td>\n",
              "    </tr>\n",
              "    <tr>\n",
              "      <th>483</th>\n",
              "      <td>板橋区</td>\n",
              "      <td>大山金井町</td>\n",
              "      <td>大山金井町</td>\n",
              "      <td>0.027316</td>\n",
              "      <td>0.145164</td>\n",
              "      <td>5.763775</td>\n",
              "      <td>0</td>\n",
              "    </tr>\n",
              "    <tr>\n",
              "      <th>484</th>\n",
              "      <td>豊島区</td>\n",
              "      <td>南池袋</td>\n",
              "      <td>南池袋４丁目</td>\n",
              "      <td>0.026660</td>\n",
              "      <td>0.141535</td>\n",
              "      <td>5.771018</td>\n",
              "      <td>0</td>\n",
              "    </tr>\n",
              "    <tr>\n",
              "      <th>485</th>\n",
              "      <td>板橋区</td>\n",
              "      <td>板橋</td>\n",
              "      <td>板橋３丁目</td>\n",
              "      <td>0.024213</td>\n",
              "      <td>0.127019</td>\n",
              "      <td>5.798007</td>\n",
              "      <td>0</td>\n",
              "    </tr>\n",
              "    <tr>\n",
              "      <th>486</th>\n",
              "      <td>豊島区</td>\n",
              "      <td>上池袋</td>\n",
              "      <td>上池袋１丁目</td>\n",
              "      <td>0.001415</td>\n",
              "      <td>0.076211</td>\n",
              "      <td>6.049447</td>\n",
              "      <td>0</td>\n",
              "    </tr>\n",
              "    <tr>\n",
              "      <th>487</th>\n",
              "      <td>豊島区</td>\n",
              "      <td>池袋</td>\n",
              "      <td>池袋３丁目</td>\n",
              "      <td>0.000756</td>\n",
              "      <td>0.072582</td>\n",
              "      <td>6.056716</td>\n",
              "      <td>0</td>\n",
              "    </tr>\n",
              "    <tr>\n",
              "      <th>488</th>\n",
              "      <td>板橋区</td>\n",
              "      <td>南町</td>\n",
              "      <td>南町</td>\n",
              "      <td>0.000000</td>\n",
              "      <td>0.036291</td>\n",
              "      <td>6.201523</td>\n",
              "      <td>0</td>\n",
              "    </tr>\n",
              "    <tr>\n",
              "      <th>489</th>\n",
              "      <td>板橋区</td>\n",
              "      <td>熊野町</td>\n",
              "      <td>熊野町</td>\n",
              "      <td>0.000000</td>\n",
              "      <td>0.036291</td>\n",
              "      <td>6.151828</td>\n",
              "      <td>0</td>\n",
              "    </tr>\n",
              "    <tr>\n",
              "      <th>490</th>\n",
              "      <td>板橋区</td>\n",
              "      <td>中丸町</td>\n",
              "      <td>中丸町</td>\n",
              "      <td>0.000000</td>\n",
              "      <td>0.036291</td>\n",
              "      <td>6.148686</td>\n",
              "      <td>0</td>\n",
              "    </tr>\n",
              "  </tbody>\n",
              "</table>\n",
              "</div>\n",
              "      <button class=\"colab-df-convert\" onclick=\"convertToInteractive('df-6d309451-65b0-4449-a6f9-75c127e5e172')\"\n",
              "              title=\"Convert this dataframe to an interactive table.\"\n",
              "              style=\"display:none;\">\n",
              "        \n",
              "  <svg xmlns=\"http://www.w3.org/2000/svg\" height=\"24px\"viewBox=\"0 0 24 24\"\n",
              "       width=\"24px\">\n",
              "    <path d=\"M0 0h24v24H0V0z\" fill=\"none\"/>\n",
              "    <path d=\"M18.56 5.44l.94 2.06.94-2.06 2.06-.94-2.06-.94-.94-2.06-.94 2.06-2.06.94zm-11 1L8.5 8.5l.94-2.06 2.06-.94-2.06-.94L8.5 2.5l-.94 2.06-2.06.94zm10 10l.94 2.06.94-2.06 2.06-.94-2.06-.94-.94-2.06-.94 2.06-2.06.94z\"/><path d=\"M17.41 7.96l-1.37-1.37c-.4-.4-.92-.59-1.43-.59-.52 0-1.04.2-1.43.59L10.3 9.45l-7.72 7.72c-.78.78-.78 2.05 0 2.83L4 21.41c.39.39.9.59 1.41.59.51 0 1.02-.2 1.41-.59l7.78-7.78 2.81-2.81c.8-.78.8-2.07 0-2.86zM5.41 20L4 18.59l7.72-7.72 1.47 1.35L5.41 20z\"/>\n",
              "  </svg>\n",
              "      </button>\n",
              "      \n",
              "  <style>\n",
              "    .colab-df-container {\n",
              "      display:flex;\n",
              "      flex-wrap:wrap;\n",
              "      gap: 12px;\n",
              "    }\n",
              "\n",
              "    .colab-df-convert {\n",
              "      background-color: #E8F0FE;\n",
              "      border: none;\n",
              "      border-radius: 50%;\n",
              "      cursor: pointer;\n",
              "      display: none;\n",
              "      fill: #1967D2;\n",
              "      height: 32px;\n",
              "      padding: 0 0 0 0;\n",
              "      width: 32px;\n",
              "    }\n",
              "\n",
              "    .colab-df-convert:hover {\n",
              "      background-color: #E2EBFA;\n",
              "      box-shadow: 0px 1px 2px rgba(60, 64, 67, 0.3), 0px 1px 3px 1px rgba(60, 64, 67, 0.15);\n",
              "      fill: #174EA6;\n",
              "    }\n",
              "\n",
              "    [theme=dark] .colab-df-convert {\n",
              "      background-color: #3B4455;\n",
              "      fill: #D2E3FC;\n",
              "    }\n",
              "\n",
              "    [theme=dark] .colab-df-convert:hover {\n",
              "      background-color: #434B5C;\n",
              "      box-shadow: 0px 1px 3px 1px rgba(0, 0, 0, 0.15);\n",
              "      filter: drop-shadow(0px 1px 2px rgba(0, 0, 0, 0.3));\n",
              "      fill: #FFFFFF;\n",
              "    }\n",
              "  </style>\n",
              "\n",
              "      <script>\n",
              "        const buttonEl =\n",
              "          document.querySelector('#df-6d309451-65b0-4449-a6f9-75c127e5e172 button.colab-df-convert');\n",
              "        buttonEl.style.display =\n",
              "          google.colab.kernel.accessAllowed ? 'block' : 'none';\n",
              "\n",
              "        async function convertToInteractive(key) {\n",
              "          const element = document.querySelector('#df-6d309451-65b0-4449-a6f9-75c127e5e172');\n",
              "          const dataTable =\n",
              "            await google.colab.kernel.invokeFunction('convertToInteractive',\n",
              "                                                     [key], {});\n",
              "          if (!dataTable) return;\n",
              "\n",
              "          const docLinkHtml = 'Like what you see? Visit the ' +\n",
              "            '<a target=\"_blank\" href=https://colab.research.google.com/notebooks/data_table.ipynb>data table notebook</a>'\n",
              "            + ' to learn more about interactive tables.';\n",
              "          element.innerHTML = '';\n",
              "          dataTable['output_type'] = 'display_data';\n",
              "          await google.colab.output.renderOutput(dataTable, element);\n",
              "          const docLink = document.createElement('div');\n",
              "          docLink.innerHTML = docLinkHtml;\n",
              "          element.appendChild(docLink);\n",
              "        }\n",
              "      </script>\n",
              "    </div>\n",
              "  </div>\n",
              "  "
            ]
          },
          "metadata": {},
          "execution_count": 68
        }
      ]
    },
    {
      "cell_type": "code",
      "source": [],
      "metadata": {
        "id": "Lk6O8Y3Dd5di"
      },
      "execution_count": 68,
      "outputs": []
    }
  ]
}