{
  "nbformat": 4,
  "nbformat_minor": 0,
  "metadata": {
    "colab": {
      "provenance": [],
      "authorship_tag": "ABX9TyM7X23/t3Sc9MiOWppMQifv",
      "include_colab_link": true
    },
    "kernelspec": {
      "name": "python3",
      "display_name": "Python 3"
    },
    "language_info": {
      "name": "python"
    }
  },
  "cells": [
    {
      "cell_type": "markdown",
      "metadata": {
        "id": "view-in-github",
        "colab_type": "text"
      },
      "source": [
        "<a href=\"https://colab.research.google.com/github/z-gard/analysis/blob/main/notebooks/place_photo.ipynb\" target=\"_parent\"><img src=\"https://colab.research.google.com/assets/colab-badge.svg\" alt=\"Open In Colab\"/></a>"
      ]
    },
    {
      "cell_type": "markdown",
      "source": [
        "# 場所の写真\n",
        "- [場所を探す](https://developers.google.com/maps/documentation/places/web-service/search-find-place)\n",
        "- [場所の写真](https://developers.google.com/maps/documentation/places/web-service/photos)"
      ],
      "metadata": {
        "id": "nZrK_H__8ZIR"
      }
    },
    {
      "cell_type": "code",
      "execution_count": 1,
      "metadata": {
        "colab": {
          "base_uri": "https://localhost:8080/"
        },
        "id": "u4AfCbNv7-wZ",
        "outputId": "8879e3a4-146a-43be-9497-cf1dd28631d0"
      },
      "outputs": [
        {
          "output_type": "stream",
          "name": "stdout",
          "text": [
            "Mounted at /content/drive\n"
          ]
        }
      ],
      "source": [
        "from google.colab import drive\n",
        "drive.mount('/content/drive')"
      ]
    },
    {
      "cell_type": "code",
      "source": [
        "import os\n",
        "import requests\n",
        "import json\n",
        "import pandas as pd\n",
        "from urllib.parse import urlparse, quote\n",
        "import io\n",
        "import numpy as np\n",
        "\n",
        "pd.set_option('display.max_columns', 50)\n",
        "pd.set_option('display.max_rows', 100)"
      ],
      "metadata": {
        "id": "uVURuK8o8F9I"
      },
      "execution_count": 2,
      "outputs": []
    },
    {
      "cell_type": "code",
      "source": [
        "DIR_NAME = '/content/drive/MyDrive/z-gard/data'"
      ],
      "metadata": {
        "id": "OxD-Pb7J8H5S"
      },
      "execution_count": 3,
      "outputs": []
    },
    {
      "cell_type": "markdown",
      "source": [
        "### 人口マスタ"
      ],
      "metadata": {
        "id": "O2L2f8gd-TEJ"
      }
    },
    {
      "cell_type": "code",
      "source": [
        "df_pop_master = pd.read_csv(os.path.join(DIR_NAME, 'population_master.csv'))[['地域ID', '市区町村名', '町名', '町丁目', '緯度', '経度']]\n",
        "print(df_pop_master.shape)"
      ],
      "metadata": {
        "colab": {
          "base_uri": "https://localhost:8080/"
        },
        "id": "kPpXTSly-JFV",
        "outputId": "2101bbf4-dddc-430e-c322-9ae07f64c9d3"
      },
      "execution_count": 6,
      "outputs": [
        {
          "output_type": "stream",
          "name": "stdout",
          "text": [
            "(2921, 6)\n"
          ]
        }
      ]
    },
    {
      "cell_type": "code",
      "source": [
        "df_pop_master.head()"
      ],
      "metadata": {
        "colab": {
          "base_uri": "https://localhost:8080/",
          "height": 206
        },
        "id": "MJ4Ji4Hm-X41",
        "outputId": "11cea725-50b5-44df-e894-622e7d0008ea"
      },
      "execution_count": 96,
      "outputs": [
        {
          "output_type": "execute_result",
          "data": {
            "text/plain": [
              "     地域ID 市区町村名   町名     町丁目         緯度          経度\n",
              "0  101003  千代田区  丸の内  丸の内１丁目  35.681610  139.767511\n",
              "1  101004  千代田区  丸の内  丸の内２丁目  35.680071  139.763944\n",
              "2  101005  千代田区  丸の内  丸の内３丁目  35.676890  139.764039\n",
              "3  101007  千代田区  大手町  大手町１丁目  35.688067  139.764353\n",
              "4  101008  千代田区  大手町  大手町２丁目  35.686416  139.768530"
            ],
            "text/html": [
              "\n",
              "  <div id=\"df-e216a5bb-1137-48bb-a2d5-41edadff434c\">\n",
              "    <div class=\"colab-df-container\">\n",
              "      <div>\n",
              "<style scoped>\n",
              "    .dataframe tbody tr th:only-of-type {\n",
              "        vertical-align: middle;\n",
              "    }\n",
              "\n",
              "    .dataframe tbody tr th {\n",
              "        vertical-align: top;\n",
              "    }\n",
              "\n",
              "    .dataframe thead th {\n",
              "        text-align: right;\n",
              "    }\n",
              "</style>\n",
              "<table border=\"1\" class=\"dataframe\">\n",
              "  <thead>\n",
              "    <tr style=\"text-align: right;\">\n",
              "      <th></th>\n",
              "      <th>地域ID</th>\n",
              "      <th>市区町村名</th>\n",
              "      <th>町名</th>\n",
              "      <th>町丁目</th>\n",
              "      <th>緯度</th>\n",
              "      <th>経度</th>\n",
              "    </tr>\n",
              "  </thead>\n",
              "  <tbody>\n",
              "    <tr>\n",
              "      <th>0</th>\n",
              "      <td>101003</td>\n",
              "      <td>千代田区</td>\n",
              "      <td>丸の内</td>\n",
              "      <td>丸の内１丁目</td>\n",
              "      <td>35.681610</td>\n",
              "      <td>139.767511</td>\n",
              "    </tr>\n",
              "    <tr>\n",
              "      <th>1</th>\n",
              "      <td>101004</td>\n",
              "      <td>千代田区</td>\n",
              "      <td>丸の内</td>\n",
              "      <td>丸の内２丁目</td>\n",
              "      <td>35.680071</td>\n",
              "      <td>139.763944</td>\n",
              "    </tr>\n",
              "    <tr>\n",
              "      <th>2</th>\n",
              "      <td>101005</td>\n",
              "      <td>千代田区</td>\n",
              "      <td>丸の内</td>\n",
              "      <td>丸の内３丁目</td>\n",
              "      <td>35.676890</td>\n",
              "      <td>139.764039</td>\n",
              "    </tr>\n",
              "    <tr>\n",
              "      <th>3</th>\n",
              "      <td>101007</td>\n",
              "      <td>千代田区</td>\n",
              "      <td>大手町</td>\n",
              "      <td>大手町１丁目</td>\n",
              "      <td>35.688067</td>\n",
              "      <td>139.764353</td>\n",
              "    </tr>\n",
              "    <tr>\n",
              "      <th>4</th>\n",
              "      <td>101008</td>\n",
              "      <td>千代田区</td>\n",
              "      <td>大手町</td>\n",
              "      <td>大手町２丁目</td>\n",
              "      <td>35.686416</td>\n",
              "      <td>139.768530</td>\n",
              "    </tr>\n",
              "  </tbody>\n",
              "</table>\n",
              "</div>\n",
              "      <button class=\"colab-df-convert\" onclick=\"convertToInteractive('df-e216a5bb-1137-48bb-a2d5-41edadff434c')\"\n",
              "              title=\"Convert this dataframe to an interactive table.\"\n",
              "              style=\"display:none;\">\n",
              "        \n",
              "  <svg xmlns=\"http://www.w3.org/2000/svg\" height=\"24px\"viewBox=\"0 0 24 24\"\n",
              "       width=\"24px\">\n",
              "    <path d=\"M0 0h24v24H0V0z\" fill=\"none\"/>\n",
              "    <path d=\"M18.56 5.44l.94 2.06.94-2.06 2.06-.94-2.06-.94-.94-2.06-.94 2.06-2.06.94zm-11 1L8.5 8.5l.94-2.06 2.06-.94-2.06-.94L8.5 2.5l-.94 2.06-2.06.94zm10 10l.94 2.06.94-2.06 2.06-.94-2.06-.94-.94-2.06-.94 2.06-2.06.94z\"/><path d=\"M17.41 7.96l-1.37-1.37c-.4-.4-.92-.59-1.43-.59-.52 0-1.04.2-1.43.59L10.3 9.45l-7.72 7.72c-.78.78-.78 2.05 0 2.83L4 21.41c.39.39.9.59 1.41.59.51 0 1.02-.2 1.41-.59l7.78-7.78 2.81-2.81c.8-.78.8-2.07 0-2.86zM5.41 20L4 18.59l7.72-7.72 1.47 1.35L5.41 20z\"/>\n",
              "  </svg>\n",
              "      </button>\n",
              "      \n",
              "  <style>\n",
              "    .colab-df-container {\n",
              "      display:flex;\n",
              "      flex-wrap:wrap;\n",
              "      gap: 12px;\n",
              "    }\n",
              "\n",
              "    .colab-df-convert {\n",
              "      background-color: #E8F0FE;\n",
              "      border: none;\n",
              "      border-radius: 50%;\n",
              "      cursor: pointer;\n",
              "      display: none;\n",
              "      fill: #1967D2;\n",
              "      height: 32px;\n",
              "      padding: 0 0 0 0;\n",
              "      width: 32px;\n",
              "    }\n",
              "\n",
              "    .colab-df-convert:hover {\n",
              "      background-color: #E2EBFA;\n",
              "      box-shadow: 0px 1px 2px rgba(60, 64, 67, 0.3), 0px 1px 3px 1px rgba(60, 64, 67, 0.15);\n",
              "      fill: #174EA6;\n",
              "    }\n",
              "\n",
              "    [theme=dark] .colab-df-convert {\n",
              "      background-color: #3B4455;\n",
              "      fill: #D2E3FC;\n",
              "    }\n",
              "\n",
              "    [theme=dark] .colab-df-convert:hover {\n",
              "      background-color: #434B5C;\n",
              "      box-shadow: 0px 1px 3px 1px rgba(0, 0, 0, 0.15);\n",
              "      filter: drop-shadow(0px 1px 2px rgba(0, 0, 0, 0.3));\n",
              "      fill: #FFFFFF;\n",
              "    }\n",
              "  </style>\n",
              "\n",
              "      <script>\n",
              "        const buttonEl =\n",
              "          document.querySelector('#df-e216a5bb-1137-48bb-a2d5-41edadff434c button.colab-df-convert');\n",
              "        buttonEl.style.display =\n",
              "          google.colab.kernel.accessAllowed ? 'block' : 'none';\n",
              "\n",
              "        async function convertToInteractive(key) {\n",
              "          const element = document.querySelector('#df-e216a5bb-1137-48bb-a2d5-41edadff434c');\n",
              "          const dataTable =\n",
              "            await google.colab.kernel.invokeFunction('convertToInteractive',\n",
              "                                                     [key], {});\n",
              "          if (!dataTable) return;\n",
              "\n",
              "          const docLinkHtml = 'Like what you see? Visit the ' +\n",
              "            '<a target=\"_blank\" href=https://colab.research.google.com/notebooks/data_table.ipynb>data table notebook</a>'\n",
              "            + ' to learn more about interactive tables.';\n",
              "          element.innerHTML = '';\n",
              "          dataTable['output_type'] = 'display_data';\n",
              "          await google.colab.output.renderOutput(dataTable, element);\n",
              "          const docLink = document.createElement('div');\n",
              "          docLink.innerHTML = docLinkHtml;\n",
              "          element.appendChild(docLink);\n",
              "        }\n",
              "      </script>\n",
              "    </div>\n",
              "  </div>\n",
              "  "
            ]
          },
          "metadata": {},
          "execution_count": 96
        }
      ]
    },
    {
      "cell_type": "code",
      "source": [
        "YOUR_API_KEY = 'xxxxxx'"
      ],
      "metadata": {
        "id": "oKOsZEZt8KFQ"
      },
      "execution_count": 5,
      "outputs": []
    },
    {
      "cell_type": "code",
      "source": [
        "def get_place_info(place_name, unique_no):\n",
        "    place = quote(place_name)\n",
        "    url = f\"https://maps.googleapis.com/maps/api/place/findplacefromtext/json?input={place}&inputtype=textquery&fields=name%2Cphoto%2Cgeometry&key={YOUR_API_KEY}\"\n",
        "    response = requests.get(url)\n",
        "    if response.status_code == requests.codes.ok:\n",
        "        try:\n",
        "            _df = pd.DataFrame(response.json()['candidates'])\n",
        "            _df['no'] = unique_no\n",
        "            _df['place_name'] = place_name\n",
        "            return _df\n",
        "        except Exception as e:\n",
        "            print(unique_no, place_name, e)\n",
        "            pass\n",
        "    else:\n",
        "        print(unique_no, place_name, response.status_code)\n",
        "    \n",
        "    return pd.DataFrame([{'no': unique_no, 'place_name': place_name}])"
      ],
      "metadata": {
        "id": "KOgbiHZM8OSY"
      },
      "execution_count": 85,
      "outputs": []
    },
    {
      "cell_type": "code",
      "source": [
        "df_place = pd.DataFrame()\n",
        "for index, row in df_pop_master.iterrows():\n",
        "    _df = get_place_info(row['市区町村名']+row['町丁目'], row['地域ID'])\n",
        "    df_place = pd.concat([df_place, _df])\n",
        "df_place = df_place.reset_index(drop=True)\n",
        "print(df_place.shape)"
      ],
      "metadata": {
        "colab": {
          "base_uri": "https://localhost:8080/"
        },
        "id": "A7b9wQTpEUNb",
        "outputId": "b8354928-e7eb-45d3-9822-206e6bfa4af3"
      },
      "execution_count": 92,
      "outputs": [
        {
          "output_type": "stream",
          "name": "stdout",
          "text": [
            "(2970, 5)\n"
          ]
        }
      ]
    },
    {
      "cell_type": "code",
      "source": [
        "df_place.head()"
      ],
      "metadata": {
        "colab": {
          "base_uri": "https://localhost:8080/",
          "height": 206
        },
        "id": "HtfXw0MZKIBo",
        "outputId": "91d60606-6886-465d-cde2-2afc6831d9d1"
      },
      "execution_count": 118,
      "outputs": [
        {
          "output_type": "execute_result",
          "data": {
            "text/plain": [
              "                                            geometry                name  \\\n",
              "0  {'location': {'lat': 35.6818718, 'lng': 139.76...  1 Chome Marunouchi   \n",
              "1  {'location': {'lat': 35.6796995, 'lng': 139.76...  2 Chome Marunouchi   \n",
              "2  {'location': {'lat': 35.6767681, 'lng': 139.76...  3 Chome Marunouchi   \n",
              "3  {'location': {'lat': 35.6877339, 'lng': 139.76...    1 Chome Ōtemachi   \n",
              "4  {'location': {'lat': 35.6863398, 'lng': 139.76...    2 Chome Ōtemachi   \n",
              "\n",
              "                                              photos      no  place_name  \n",
              "0  [{'height': 4147, 'html_attributions': ['<a hr...  101003  千代田区丸の内１丁目  \n",
              "1  [{'height': 3000, 'html_attributions': ['<a hr...  101004  千代田区丸の内２丁目  \n",
              "2  [{'height': 4032, 'html_attributions': ['<a hr...  101005  千代田区丸の内３丁目  \n",
              "3  [{'height': 786, 'html_attributions': ['<a hre...  101007  千代田区大手町１丁目  \n",
              "4  [{'height': 2625, 'html_attributions': ['<a hr...  101008  千代田区大手町２丁目  "
            ],
            "text/html": [
              "\n",
              "  <div id=\"df-fc398777-a6a6-4679-b76c-2fca149a1fee\">\n",
              "    <div class=\"colab-df-container\">\n",
              "      <div>\n",
              "<style scoped>\n",
              "    .dataframe tbody tr th:only-of-type {\n",
              "        vertical-align: middle;\n",
              "    }\n",
              "\n",
              "    .dataframe tbody tr th {\n",
              "        vertical-align: top;\n",
              "    }\n",
              "\n",
              "    .dataframe thead th {\n",
              "        text-align: right;\n",
              "    }\n",
              "</style>\n",
              "<table border=\"1\" class=\"dataframe\">\n",
              "  <thead>\n",
              "    <tr style=\"text-align: right;\">\n",
              "      <th></th>\n",
              "      <th>geometry</th>\n",
              "      <th>name</th>\n",
              "      <th>photos</th>\n",
              "      <th>no</th>\n",
              "      <th>place_name</th>\n",
              "    </tr>\n",
              "  </thead>\n",
              "  <tbody>\n",
              "    <tr>\n",
              "      <th>0</th>\n",
              "      <td>{'location': {'lat': 35.6818718, 'lng': 139.76...</td>\n",
              "      <td>1 Chome Marunouchi</td>\n",
              "      <td>[{'height': 4147, 'html_attributions': ['&lt;a hr...</td>\n",
              "      <td>101003</td>\n",
              "      <td>千代田区丸の内１丁目</td>\n",
              "    </tr>\n",
              "    <tr>\n",
              "      <th>1</th>\n",
              "      <td>{'location': {'lat': 35.6796995, 'lng': 139.76...</td>\n",
              "      <td>2 Chome Marunouchi</td>\n",
              "      <td>[{'height': 3000, 'html_attributions': ['&lt;a hr...</td>\n",
              "      <td>101004</td>\n",
              "      <td>千代田区丸の内２丁目</td>\n",
              "    </tr>\n",
              "    <tr>\n",
              "      <th>2</th>\n",
              "      <td>{'location': {'lat': 35.6767681, 'lng': 139.76...</td>\n",
              "      <td>3 Chome Marunouchi</td>\n",
              "      <td>[{'height': 4032, 'html_attributions': ['&lt;a hr...</td>\n",
              "      <td>101005</td>\n",
              "      <td>千代田区丸の内３丁目</td>\n",
              "    </tr>\n",
              "    <tr>\n",
              "      <th>3</th>\n",
              "      <td>{'location': {'lat': 35.6877339, 'lng': 139.76...</td>\n",
              "      <td>1 Chome Ōtemachi</td>\n",
              "      <td>[{'height': 786, 'html_attributions': ['&lt;a hre...</td>\n",
              "      <td>101007</td>\n",
              "      <td>千代田区大手町１丁目</td>\n",
              "    </tr>\n",
              "    <tr>\n",
              "      <th>4</th>\n",
              "      <td>{'location': {'lat': 35.6863398, 'lng': 139.76...</td>\n",
              "      <td>2 Chome Ōtemachi</td>\n",
              "      <td>[{'height': 2625, 'html_attributions': ['&lt;a hr...</td>\n",
              "      <td>101008</td>\n",
              "      <td>千代田区大手町２丁目</td>\n",
              "    </tr>\n",
              "  </tbody>\n",
              "</table>\n",
              "</div>\n",
              "      <button class=\"colab-df-convert\" onclick=\"convertToInteractive('df-fc398777-a6a6-4679-b76c-2fca149a1fee')\"\n",
              "              title=\"Convert this dataframe to an interactive table.\"\n",
              "              style=\"display:none;\">\n",
              "        \n",
              "  <svg xmlns=\"http://www.w3.org/2000/svg\" height=\"24px\"viewBox=\"0 0 24 24\"\n",
              "       width=\"24px\">\n",
              "    <path d=\"M0 0h24v24H0V0z\" fill=\"none\"/>\n",
              "    <path d=\"M18.56 5.44l.94 2.06.94-2.06 2.06-.94-2.06-.94-.94-2.06-.94 2.06-2.06.94zm-11 1L8.5 8.5l.94-2.06 2.06-.94-2.06-.94L8.5 2.5l-.94 2.06-2.06.94zm10 10l.94 2.06.94-2.06 2.06-.94-2.06-.94-.94-2.06-.94 2.06-2.06.94z\"/><path d=\"M17.41 7.96l-1.37-1.37c-.4-.4-.92-.59-1.43-.59-.52 0-1.04.2-1.43.59L10.3 9.45l-7.72 7.72c-.78.78-.78 2.05 0 2.83L4 21.41c.39.39.9.59 1.41.59.51 0 1.02-.2 1.41-.59l7.78-7.78 2.81-2.81c.8-.78.8-2.07 0-2.86zM5.41 20L4 18.59l7.72-7.72 1.47 1.35L5.41 20z\"/>\n",
              "  </svg>\n",
              "      </button>\n",
              "      \n",
              "  <style>\n",
              "    .colab-df-container {\n",
              "      display:flex;\n",
              "      flex-wrap:wrap;\n",
              "      gap: 12px;\n",
              "    }\n",
              "\n",
              "    .colab-df-convert {\n",
              "      background-color: #E8F0FE;\n",
              "      border: none;\n",
              "      border-radius: 50%;\n",
              "      cursor: pointer;\n",
              "      display: none;\n",
              "      fill: #1967D2;\n",
              "      height: 32px;\n",
              "      padding: 0 0 0 0;\n",
              "      width: 32px;\n",
              "    }\n",
              "\n",
              "    .colab-df-convert:hover {\n",
              "      background-color: #E2EBFA;\n",
              "      box-shadow: 0px 1px 2px rgba(60, 64, 67, 0.3), 0px 1px 3px 1px rgba(60, 64, 67, 0.15);\n",
              "      fill: #174EA6;\n",
              "    }\n",
              "\n",
              "    [theme=dark] .colab-df-convert {\n",
              "      background-color: #3B4455;\n",
              "      fill: #D2E3FC;\n",
              "    }\n",
              "\n",
              "    [theme=dark] .colab-df-convert:hover {\n",
              "      background-color: #434B5C;\n",
              "      box-shadow: 0px 1px 3px 1px rgba(0, 0, 0, 0.15);\n",
              "      filter: drop-shadow(0px 1px 2px rgba(0, 0, 0, 0.3));\n",
              "      fill: #FFFFFF;\n",
              "    }\n",
              "  </style>\n",
              "\n",
              "      <script>\n",
              "        const buttonEl =\n",
              "          document.querySelector('#df-fc398777-a6a6-4679-b76c-2fca149a1fee button.colab-df-convert');\n",
              "        buttonEl.style.display =\n",
              "          google.colab.kernel.accessAllowed ? 'block' : 'none';\n",
              "\n",
              "        async function convertToInteractive(key) {\n",
              "          const element = document.querySelector('#df-fc398777-a6a6-4679-b76c-2fca149a1fee');\n",
              "          const dataTable =\n",
              "            await google.colab.kernel.invokeFunction('convertToInteractive',\n",
              "                                                     [key], {});\n",
              "          if (!dataTable) return;\n",
              "\n",
              "          const docLinkHtml = 'Like what you see? Visit the ' +\n",
              "            '<a target=\"_blank\" href=https://colab.research.google.com/notebooks/data_table.ipynb>data table notebook</a>'\n",
              "            + ' to learn more about interactive tables.';\n",
              "          element.innerHTML = '';\n",
              "          dataTable['output_type'] = 'display_data';\n",
              "          await google.colab.output.renderOutput(dataTable, element);\n",
              "          const docLink = document.createElement('div');\n",
              "          docLink.innerHTML = docLinkHtml;\n",
              "          element.appendChild(docLink);\n",
              "        }\n",
              "      </script>\n",
              "    </div>\n",
              "  </div>\n",
              "  "
            ]
          },
          "metadata": {},
          "execution_count": 118
        }
      ]
    },
    {
      "cell_type": "markdown",
      "source": [
        "### 重複している行"
      ],
      "metadata": {
        "id": "tFXY_lIVTrtq"
      }
    },
    {
      "cell_type": "code",
      "source": [
        "duplicate_no_list = list(df_place[df_place.duplicated(subset=['no'])]['no'].unique())\n",
        "len(duplicate_no_list)"
      ],
      "metadata": {
        "colab": {
          "base_uri": "https://localhost:8080/"
        },
        "id": "0LuJb2JtJlVP",
        "outputId": "2a3b7ee6-64ad-4b63-ede1-aa26ccebd3a6"
      },
      "execution_count": 105,
      "outputs": [
        {
          "output_type": "execute_result",
          "data": {
            "text/plain": [
              "130"
            ]
          },
          "metadata": {},
          "execution_count": 105
        }
      ]
    },
    {
      "cell_type": "code",
      "source": [
        "df_dup = pd.DataFrame()\n",
        "for no in duplicate_no_list:\n",
        "    _tmp = df_place[df_place['no'] == no]\n",
        "    _tmp_2 = _tmp[(_tmp['geometry'].notna())&(_tmp['photos'].notna())]\n",
        "    if len(_tmp_2) > 0:\n",
        "        df_dup = df_dup.append(_tmp_2.iloc[0], ignore_index=True)\n",
        "    else:\n",
        "        print(f'no data: {no}')\n",
        "        df_dup = df_dup.append(_tmp.iloc[0], ignore_index=True)\n",
        "\n",
        "print(df_dup.shape)"
      ],
      "metadata": {
        "colab": {
          "base_uri": "https://localhost:8080/"
        },
        "id": "RHvqoWqLRPSf",
        "outputId": "4f913516-0808-4ed8-e6b1-b610c55a671a"
      },
      "execution_count": 113,
      "outputs": [
        {
          "output_type": "stream",
          "name": "stdout",
          "text": [
            "no data: 111169\n",
            "no data: 115022\n",
            "no data: 119050\n",
            "(130, 5)\n"
          ]
        }
      ]
    },
    {
      "cell_type": "code",
      "source": [
        "df_place_all = pd.concat([\n",
        "    df_place[~df_place['no'].isin(duplicate_no_list)],\n",
        "    df_dup\n",
        "]).sort_values('no').reset_index(drop=True)\n",
        "print(df_place_all.shape)"
      ],
      "metadata": {
        "colab": {
          "base_uri": "https://localhost:8080/"
        },
        "id": "cDIoZDfMQgSX",
        "outputId": "c68da773-2776-4dea-d64a-b8308e0a8cf8"
      },
      "execution_count": 122,
      "outputs": [
        {
          "output_type": "stream",
          "name": "stdout",
          "text": [
            "(2809, 5)\n"
          ]
        }
      ]
    },
    {
      "cell_type": "code",
      "source": [
        "df_place_all['no'] = df_place_all['no'].astype(int)"
      ],
      "metadata": {
        "id": "DypD3ymTQgHh"
      },
      "execution_count": 125,
      "outputs": []
    },
    {
      "cell_type": "code",
      "source": [
        "def get_photos_height(x):\n",
        "    try:\n",
        "        return x[0]['height']\n",
        "    except:\n",
        "        return np.NaN\n",
        "\n",
        "def get_photos_width(x):\n",
        "    try:\n",
        "        return x[0]['width']\n",
        "    except:\n",
        "        return np.NaN\n",
        "\n",
        "def get_photos_ref(x):\n",
        "    try:\n",
        "        return x[0]['photo_reference']\n",
        "    except:\n",
        "        return np.NaN"
      ],
      "metadata": {
        "id": "uFzdhmjBVt70"
      },
      "execution_count": 142,
      "outputs": []
    },
    {
      "cell_type": "code",
      "source": [
        "df_place_all['lat'] = df_place_all['geometry'].apply(lambda x: x['location']['lat'])\n",
        "df_place_all['lng'] = df_place_all['geometry'].apply(lambda x: x['location']['lng'])\n",
        "df_place_all['height'] = df_place_all['photos'].apply(get_photos_height)\n",
        "df_place_all['width'] = df_place_all['photos'].apply(get_photos_width)\n",
        "df_place_all['photo_reference'] = df_place_all['photos'].apply(get_photos_ref)"
      ],
      "metadata": {
        "id": "9W3ulDbWU0s2"
      },
      "execution_count": 127,
      "outputs": []
    },
    {
      "cell_type": "code",
      "source": [
        "df_place_all = df_place_all.drop(columns=['geometry', 'photos', 'name'])"
      ],
      "metadata": {
        "id": "zZZ55icIXP5i"
      },
      "execution_count": 145,
      "outputs": []
    },
    {
      "cell_type": "code",
      "source": [
        "df_place_all.head()"
      ],
      "metadata": {
        "colab": {
          "base_uri": "https://localhost:8080/",
          "height": 206
        },
        "id": "QcluWdSAXyrb",
        "outputId": "9ae29851-59a8-45ac-db28-2d9003db8fb0"
      },
      "execution_count": 147,
      "outputs": [
        {
          "output_type": "execute_result",
          "data": {
            "text/plain": [
              "       no  place_name        lat         lng  height   width  \\\n",
              "0  101003  千代田区丸の内１丁目  35.681872  139.765847  4147.0  5184.0   \n",
              "1  101004  千代田区丸の内２丁目  35.679699  139.763291  3000.0  5333.0   \n",
              "2  101005  千代田区丸の内３丁目  35.676768  139.764569  4032.0  2268.0   \n",
              "3  101007  千代田区大手町１丁目  35.687734  139.763291   786.0   664.0   \n",
              "4  101008  千代田区大手町２丁目  35.686340  139.768403  2625.0  1836.0   \n",
              "\n",
              "                                     photo_reference  \n",
              "0  AcYSjRgYnEcFz-b85pT5mCBWHGmFPbxoEQJFsyJtYwvOTQ...  \n",
              "1  AcYSjRgdmiI4JCe0VreKniz4EE58uLjCVBiVhWCxmRY3DI...  \n",
              "2  AcYSjRiLx33aKxB8F3_NTqpImlbrNicnXWobQgqjt1Vd8O...  \n",
              "3  AcYSjRiPDsSddQWQzGv5z9gQxNBCyHNYp_sqtKxeKwSTb8...  \n",
              "4  AcYSjRiUOku7EXEuStodTjEO9ce8HkIH4WxDD_j_c6qnm2...  "
            ],
            "text/html": [
              "\n",
              "  <div id=\"df-d1fa1e77-5db9-4335-81ae-8ec12d80ad8c\">\n",
              "    <div class=\"colab-df-container\">\n",
              "      <div>\n",
              "<style scoped>\n",
              "    .dataframe tbody tr th:only-of-type {\n",
              "        vertical-align: middle;\n",
              "    }\n",
              "\n",
              "    .dataframe tbody tr th {\n",
              "        vertical-align: top;\n",
              "    }\n",
              "\n",
              "    .dataframe thead th {\n",
              "        text-align: right;\n",
              "    }\n",
              "</style>\n",
              "<table border=\"1\" class=\"dataframe\">\n",
              "  <thead>\n",
              "    <tr style=\"text-align: right;\">\n",
              "      <th></th>\n",
              "      <th>no</th>\n",
              "      <th>place_name</th>\n",
              "      <th>lat</th>\n",
              "      <th>lng</th>\n",
              "      <th>height</th>\n",
              "      <th>width</th>\n",
              "      <th>photo_reference</th>\n",
              "    </tr>\n",
              "  </thead>\n",
              "  <tbody>\n",
              "    <tr>\n",
              "      <th>0</th>\n",
              "      <td>101003</td>\n",
              "      <td>千代田区丸の内１丁目</td>\n",
              "      <td>35.681872</td>\n",
              "      <td>139.765847</td>\n",
              "      <td>4147.0</td>\n",
              "      <td>5184.0</td>\n",
              "      <td>AcYSjRgYnEcFz-b85pT5mCBWHGmFPbxoEQJFsyJtYwvOTQ...</td>\n",
              "    </tr>\n",
              "    <tr>\n",
              "      <th>1</th>\n",
              "      <td>101004</td>\n",
              "      <td>千代田区丸の内２丁目</td>\n",
              "      <td>35.679699</td>\n",
              "      <td>139.763291</td>\n",
              "      <td>3000.0</td>\n",
              "      <td>5333.0</td>\n",
              "      <td>AcYSjRgdmiI4JCe0VreKniz4EE58uLjCVBiVhWCxmRY3DI...</td>\n",
              "    </tr>\n",
              "    <tr>\n",
              "      <th>2</th>\n",
              "      <td>101005</td>\n",
              "      <td>千代田区丸の内３丁目</td>\n",
              "      <td>35.676768</td>\n",
              "      <td>139.764569</td>\n",
              "      <td>4032.0</td>\n",
              "      <td>2268.0</td>\n",
              "      <td>AcYSjRiLx33aKxB8F3_NTqpImlbrNicnXWobQgqjt1Vd8O...</td>\n",
              "    </tr>\n",
              "    <tr>\n",
              "      <th>3</th>\n",
              "      <td>101007</td>\n",
              "      <td>千代田区大手町１丁目</td>\n",
              "      <td>35.687734</td>\n",
              "      <td>139.763291</td>\n",
              "      <td>786.0</td>\n",
              "      <td>664.0</td>\n",
              "      <td>AcYSjRiPDsSddQWQzGv5z9gQxNBCyHNYp_sqtKxeKwSTb8...</td>\n",
              "    </tr>\n",
              "    <tr>\n",
              "      <th>4</th>\n",
              "      <td>101008</td>\n",
              "      <td>千代田区大手町２丁目</td>\n",
              "      <td>35.686340</td>\n",
              "      <td>139.768403</td>\n",
              "      <td>2625.0</td>\n",
              "      <td>1836.0</td>\n",
              "      <td>AcYSjRiUOku7EXEuStodTjEO9ce8HkIH4WxDD_j_c6qnm2...</td>\n",
              "    </tr>\n",
              "  </tbody>\n",
              "</table>\n",
              "</div>\n",
              "      <button class=\"colab-df-convert\" onclick=\"convertToInteractive('df-d1fa1e77-5db9-4335-81ae-8ec12d80ad8c')\"\n",
              "              title=\"Convert this dataframe to an interactive table.\"\n",
              "              style=\"display:none;\">\n",
              "        \n",
              "  <svg xmlns=\"http://www.w3.org/2000/svg\" height=\"24px\"viewBox=\"0 0 24 24\"\n",
              "       width=\"24px\">\n",
              "    <path d=\"M0 0h24v24H0V0z\" fill=\"none\"/>\n",
              "    <path d=\"M18.56 5.44l.94 2.06.94-2.06 2.06-.94-2.06-.94-.94-2.06-.94 2.06-2.06.94zm-11 1L8.5 8.5l.94-2.06 2.06-.94-2.06-.94L8.5 2.5l-.94 2.06-2.06.94zm10 10l.94 2.06.94-2.06 2.06-.94-2.06-.94-.94-2.06-.94 2.06-2.06.94z\"/><path d=\"M17.41 7.96l-1.37-1.37c-.4-.4-.92-.59-1.43-.59-.52 0-1.04.2-1.43.59L10.3 9.45l-7.72 7.72c-.78.78-.78 2.05 0 2.83L4 21.41c.39.39.9.59 1.41.59.51 0 1.02-.2 1.41-.59l7.78-7.78 2.81-2.81c.8-.78.8-2.07 0-2.86zM5.41 20L4 18.59l7.72-7.72 1.47 1.35L5.41 20z\"/>\n",
              "  </svg>\n",
              "      </button>\n",
              "      \n",
              "  <style>\n",
              "    .colab-df-container {\n",
              "      display:flex;\n",
              "      flex-wrap:wrap;\n",
              "      gap: 12px;\n",
              "    }\n",
              "\n",
              "    .colab-df-convert {\n",
              "      background-color: #E8F0FE;\n",
              "      border: none;\n",
              "      border-radius: 50%;\n",
              "      cursor: pointer;\n",
              "      display: none;\n",
              "      fill: #1967D2;\n",
              "      height: 32px;\n",
              "      padding: 0 0 0 0;\n",
              "      width: 32px;\n",
              "    }\n",
              "\n",
              "    .colab-df-convert:hover {\n",
              "      background-color: #E2EBFA;\n",
              "      box-shadow: 0px 1px 2px rgba(60, 64, 67, 0.3), 0px 1px 3px 1px rgba(60, 64, 67, 0.15);\n",
              "      fill: #174EA6;\n",
              "    }\n",
              "\n",
              "    [theme=dark] .colab-df-convert {\n",
              "      background-color: #3B4455;\n",
              "      fill: #D2E3FC;\n",
              "    }\n",
              "\n",
              "    [theme=dark] .colab-df-convert:hover {\n",
              "      background-color: #434B5C;\n",
              "      box-shadow: 0px 1px 3px 1px rgba(0, 0, 0, 0.15);\n",
              "      filter: drop-shadow(0px 1px 2px rgba(0, 0, 0, 0.3));\n",
              "      fill: #FFFFFF;\n",
              "    }\n",
              "  </style>\n",
              "\n",
              "      <script>\n",
              "        const buttonEl =\n",
              "          document.querySelector('#df-d1fa1e77-5db9-4335-81ae-8ec12d80ad8c button.colab-df-convert');\n",
              "        buttonEl.style.display =\n",
              "          google.colab.kernel.accessAllowed ? 'block' : 'none';\n",
              "\n",
              "        async function convertToInteractive(key) {\n",
              "          const element = document.querySelector('#df-d1fa1e77-5db9-4335-81ae-8ec12d80ad8c');\n",
              "          const dataTable =\n",
              "            await google.colab.kernel.invokeFunction('convertToInteractive',\n",
              "                                                     [key], {});\n",
              "          if (!dataTable) return;\n",
              "\n",
              "          const docLinkHtml = 'Like what you see? Visit the ' +\n",
              "            '<a target=\"_blank\" href=https://colab.research.google.com/notebooks/data_table.ipynb>data table notebook</a>'\n",
              "            + ' to learn more about interactive tables.';\n",
              "          element.innerHTML = '';\n",
              "          dataTable['output_type'] = 'display_data';\n",
              "          await google.colab.output.renderOutput(dataTable, element);\n",
              "          const docLink = document.createElement('div');\n",
              "          docLink.innerHTML = docLinkHtml;\n",
              "          element.appendChild(docLink);\n",
              "        }\n",
              "      </script>\n",
              "    </div>\n",
              "  </div>\n",
              "  "
            ]
          },
          "metadata": {},
          "execution_count": 147
        }
      ]
    },
    {
      "cell_type": "code",
      "source": [
        "df_place_all.to_csv(os.path.join(DIR_NAME, 'place_photo.csv'), index=False)"
      ],
      "metadata": {
        "id": "xivJxqOVYIh2"
      },
      "execution_count": 148,
      "outputs": []
    },
    {
      "cell_type": "code",
      "source": [
        "width = df_place.iloc[0]['width']\n",
        "photo_ref = df_place.iloc[0]['photo_reference']\n",
        "id = df_place.iloc[0]['no']"
      ],
      "metadata": {
        "id": "sLjcLp7-CjoT"
      },
      "execution_count": 32,
      "outputs": []
    },
    {
      "cell_type": "code",
      "source": [
        "def save_photo_image(photo_ref, width, id):\n",
        "    url = f\"https://maps.googleapis.com/maps/api/place/photo?maxwidth={width}&photo_reference={photo_ref}&key={YOUR_API_KEY}\"\n",
        "    response = requests.get(url)\n",
        "    if response.status_code == requests.codes.ok:\n",
        "        image = response.content\n",
        "        filename = os.path.join(DIR_NAME, f'photo/{id}.jpg')\n",
        "        with open(filename, \"wb\") as f:\n",
        "            f.write(image)"
      ],
      "metadata": {
        "id": "m-ZDucSuAF52"
      },
      "execution_count": 152,
      "outputs": []
    },
    {
      "cell_type": "code",
      "source": [
        "save_photo_count = 0\n",
        "no_photo_count = 0\n",
        "for index, row in df_place_all.iterrows():\n",
        "    photo_ref = row['photo_reference']\n",
        "    if photo_ref is not None:\n",
        "        width = int(row['width']) if row['width'] < 1000 else 1000\n",
        "        save_photo_image(photo_ref, width, row['no'])\n",
        "        save_photo_count += 1\n",
        "    else:\n",
        "        no_photo_count += 1\n",
        "\n",
        "print(f'save photo: {save_photo_count}, no photo: {no_photo_count}')"
      ],
      "metadata": {
        "colab": {
          "base_uri": "https://localhost:8080/"
        },
        "id": "KGrKYyG0BRoj",
        "outputId": "be67b7a4-0efe-4cdb-e793-95dbedd9165b"
      },
      "execution_count": 154,
      "outputs": [
        {
          "output_type": "stream",
          "name": "stdout",
          "text": [
            "save photo: 2809, no photo: 0\n"
          ]
        }
      ]
    },
    {
      "cell_type": "code",
      "source": [],
      "metadata": {
        "id": "n28XNRuHC4bO"
      },
      "execution_count": null,
      "outputs": []
    }
  ]
}