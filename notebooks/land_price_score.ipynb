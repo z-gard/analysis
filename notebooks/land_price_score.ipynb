{
  "nbformat": 4,
  "nbformat_minor": 0,
  "metadata": {
    "colab": {
      "provenance": [],
      "authorship_tag": "ABX9TyOl4O2nSV3QpkElxY+E9EWJ",
      "include_colab_link": true
    },
    "kernelspec": {
      "name": "python3",
      "display_name": "Python 3"
    },
    "language_info": {
      "name": "python"
    }
  },
  "cells": [
    {
      "cell_type": "markdown",
      "metadata": {
        "id": "view-in-github",
        "colab_type": "text"
      },
      "source": [
        "<a href=\"https://colab.research.google.com/github/z-gard/analysis/blob/main/notebooks/land_price_score.ipynb\" target=\"_parent\"><img src=\"https://colab.research.google.com/assets/colab-badge.svg\" alt=\"Open In Colab\"/></a>"
      ]
    },
    {
      "cell_type": "markdown",
      "source": [
        "# 地価・家賃\n",
        "- [国土交通省地価公示 鑑定評価書情報CSV](https://www.land.mlit.go.jp/landPrice/CSVDownloadServlet)\n",
        "- [賃料相場：東京都](https://www.hatomarksite.com/analytics/stat/rent/13/)"
      ],
      "metadata": {
        "id": "4iyinw5TSXVI"
      }
    },
    {
      "cell_type": "code",
      "source": [
        "!pip install -q japanize-matplotlib"
      ],
      "metadata": {
        "id": "6snwz9Lfm32L"
      },
      "execution_count": 1,
      "outputs": []
    },
    {
      "cell_type": "code",
      "execution_count": 2,
      "metadata": {
        "colab": {
          "base_uri": "https://localhost:8080/"
        },
        "id": "ARHF5Ft4mfPc",
        "outputId": "7414ca5d-9751-4e0c-ff3c-4e03e8e75623"
      },
      "outputs": [
        {
          "output_type": "stream",
          "name": "stdout",
          "text": [
            "Drive already mounted at /content/drive; to attempt to forcibly remount, call drive.mount(\"/content/drive\", force_remount=True).\n"
          ]
        }
      ],
      "source": [
        "from google.colab import drive\n",
        "drive.mount('/content/drive')"
      ]
    },
    {
      "cell_type": "code",
      "source": [
        "DIR_NAME = '/content/drive/MyDrive/z-gard/data'"
      ],
      "metadata": {
        "id": "2N_57hcUml7_"
      },
      "execution_count": 3,
      "outputs": []
    },
    {
      "cell_type": "code",
      "source": [
        "import os\n",
        "import pandas as pd\n",
        "import matplotlib.pyplot as plt\n",
        "import japanize_matplotlib\n",
        "import seaborn as sns\n",
        "import numpy as np\n",
        "\n",
        "pd.set_option('display.max_columns', 50)\n",
        "pd.set_option('display.max_rows', 100)"
      ],
      "metadata": {
        "id": "RRoiUlk8m0Kk"
      },
      "execution_count": 4,
      "outputs": []
    },
    {
      "cell_type": "markdown",
      "source": [
        "## 地価"
      ],
      "metadata": {
        "id": "cwg6uoHOz4kB"
      }
    },
    {
      "cell_type": "code",
      "source": [
        "read_columns = [\n",
        "    '価格時点', '県コード', '市区町村コード', '地域名', '用途区分', '連番', '7', '8', '9', '10', '11', '12', '13', '14', '15', '16', '17', '18', \n",
        "    '鑑定評価額', '1㎡当たりの価格', '21', '22', '年', '相続税路線価', '倍率', '倍率種別', '所在地番', '住居表示', '仮換地番号', '地積', '内私道分', \n",
        "    '形状', '間口', '奥行', '現況', '構造', '地上階数', '地下階数', '周辺の利用状況', '方位', '駅前区分', '道路幅員', '舗装状況', '道路の種類', '側道方位', \n",
        "    '側道等接面状況', '水道', 'ガス', '下水道', '交通施設', '距離', '近接区分', '区域区分', '用途地域', '指定建ぺい率', '指定容積率', '防火地域', '自然公園法'\n",
        "]\n",
        "use_cols = list(range(len(read_columns)))"
      ],
      "metadata": {
        "id": "F-rdoGWuoFfM"
      },
      "execution_count": 5,
      "outputs": []
    },
    {
      "cell_type": "code",
      "source": [
        "df_takuchi = pd.read_csv(\n",
        "    os.path.join(DIR_NAME, 'original/2022_TAKUCHI_k_13.csv'), \n",
        "    encoding='cp932', header=None, usecols=use_cols, names=read_columns\n",
        ")\n",
        "print(df_takuchi.shape)"
      ],
      "metadata": {
        "colab": {
          "base_uri": "https://localhost:8080/"
        },
        "id": "dOV9YxdpmxOp",
        "outputId": "555602df-0d07-4a03-d963-2fb9a366f98d"
      },
      "execution_count": 6,
      "outputs": [
        {
          "output_type": "stream",
          "name": "stdout",
          "text": [
            "(5188, 58)\n"
          ]
        },
        {
          "output_type": "stream",
          "name": "stderr",
          "text": [
            "/usr/local/lib/python3.7/dist-packages/IPython/core/interactiveshell.py:3326: DtypeWarning: Columns (25,28) have mixed types.Specify dtype option on import or set low_memory=False.\n",
            "  exec(code_obj, self.user_global_ns, self.user_ns)\n"
          ]
        }
      ]
    },
    {
      "cell_type": "code",
      "source": [
        "use_type = {0: '住宅地', 3: '宅地見込地', 5: '商業地', 7: '準工業地', 9: '工業地', 10: '調整区域内宅地', 13: '現況林地', 20: '林地',}\n",
        "df_takuchi['用途区分'] = df_takuchi['用途区分'].map(use_type)"
      ],
      "metadata": {
        "id": "1sN70f9Y2KgL"
      },
      "execution_count": 7,
      "outputs": []
    },
    {
      "cell_type": "code",
      "source": [
        "df_takuchi_extract = df_takuchi[df_takuchi['市区町村コード'] < 200][[\n",
        "    '地域名', '用途区分', '鑑定評価額', '1㎡当たりの価格', '所在地番', '地積', '交通施設', '距離'\n",
        "]].rename(columns={'地域名': '市区町村名'}).drop_duplicates(subset='所在地番').reset_index(drop=True)\n",
        "df_takuchi_extract['市区町村名'] = df_takuchi_extract['市区町村名'] + '区'\n",
        "print(df_takuchi_extract.shape)\n",
        "assert df_takuchi_extract['市区町村名'].nunique() == 23"
      ],
      "metadata": {
        "colab": {
          "base_uri": "https://localhost:8080/"
        },
        "id": "HpDr43wbnIcz",
        "outputId": "ff75cf5a-f66f-4c0f-aa14-d5f388cefa12"
      },
      "execution_count": 8,
      "outputs": [
        {
          "output_type": "stream",
          "name": "stdout",
          "text": [
            "(1594, 8)\n"
          ]
        }
      ]
    },
    {
      "cell_type": "code",
      "source": [
        "df_takuchi_extract['町名'] = df_takuchi_extract['所在地番'].str.extract('(.*?)[１２３４５６７８９]', expand=False)\n",
        "df_takuchi_extract['町丁目'] = df_takuchi_extract['所在地番'].str.extract('(.*丁目)', expand=False)\n",
        "df_takuchi_extract.loc[df_takuchi_extract['町丁目'].isna(), '町丁目'] = df_takuchi_extract['町名']"
      ],
      "metadata": {
        "id": "PuVXiBennlA2"
      },
      "execution_count": 9,
      "outputs": []
    },
    {
      "cell_type": "code",
      "source": [
        "df_takuchi_extract.head(10)"
      ],
      "metadata": {
        "colab": {
          "base_uri": "https://localhost:8080/",
          "height": 363
        },
        "id": "uDYKcYtr6eYG",
        "outputId": "76810e0a-b9c6-4913-b864-d84e480a74ee"
      },
      "execution_count": 10,
      "outputs": [
        {
          "output_type": "execute_result",
          "data": {
            "text/plain": [
              "  市区町村名 用途区分         鑑定評価額  1㎡当たりの価格         所在地番     地積 交通施設   距離    町名  \\\n",
              "0  千代田区  住宅地    3140000000   3240000      三番町６番２５    969  半蔵門  500   三番町   \n",
              "1  千代田区  住宅地    1090000000   2040000    紀尾井町３番２７外    535  永田町  300  紀尾井町   \n",
              "2  千代田区  住宅地    9400000000   4150000      六番町６番１外   2266  四ツ谷  330   六番町   \n",
              "3  千代田区  住宅地     223000000   1570000    富士見１丁目８番６    142  飯田橋  360   富士見   \n",
              "4  千代田区  住宅地    4560000000   3020000   九段北２丁目６番２６   1511  九段下  450   九段北   \n",
              "5  千代田区  住宅地    1080000000   1830000   平河町２丁目２１番１    590  永田町  240   平河町   \n",
              "6  千代田区  住宅地    2440000000   3080000      一番町１６番３    792  半蔵門  220   一番町   \n",
              "7  千代田区  商業地   85100000000  13900000   大手町１丁目１１番外   6119   竹橋    0   大手町   \n",
              "8  千代田区  商業地  367000000000  36600000   丸の内２丁目２番１外  10027   東京    0   丸の内   \n",
              "9  千代田区  商業地     143000000   1300000  神田錦町２丁目７番１５    110   竹橋  400  神田錦町   \n",
              "\n",
              "       町丁目  \n",
              "0      三番町  \n",
              "1     紀尾井町  \n",
              "2      六番町  \n",
              "3   富士見１丁目  \n",
              "4   九段北２丁目  \n",
              "5   平河町２丁目  \n",
              "6      一番町  \n",
              "7   大手町１丁目  \n",
              "8   丸の内２丁目  \n",
              "9  神田錦町２丁目  "
            ],
            "text/html": [
              "\n",
              "  <div id=\"df-31be40c9-1450-4806-910c-5af9c60bcb8d\">\n",
              "    <div class=\"colab-df-container\">\n",
              "      <div>\n",
              "<style scoped>\n",
              "    .dataframe tbody tr th:only-of-type {\n",
              "        vertical-align: middle;\n",
              "    }\n",
              "\n",
              "    .dataframe tbody tr th {\n",
              "        vertical-align: top;\n",
              "    }\n",
              "\n",
              "    .dataframe thead th {\n",
              "        text-align: right;\n",
              "    }\n",
              "</style>\n",
              "<table border=\"1\" class=\"dataframe\">\n",
              "  <thead>\n",
              "    <tr style=\"text-align: right;\">\n",
              "      <th></th>\n",
              "      <th>市区町村名</th>\n",
              "      <th>用途区分</th>\n",
              "      <th>鑑定評価額</th>\n",
              "      <th>1㎡当たりの価格</th>\n",
              "      <th>所在地番</th>\n",
              "      <th>地積</th>\n",
              "      <th>交通施設</th>\n",
              "      <th>距離</th>\n",
              "      <th>町名</th>\n",
              "      <th>町丁目</th>\n",
              "    </tr>\n",
              "  </thead>\n",
              "  <tbody>\n",
              "    <tr>\n",
              "      <th>0</th>\n",
              "      <td>千代田区</td>\n",
              "      <td>住宅地</td>\n",
              "      <td>3140000000</td>\n",
              "      <td>3240000</td>\n",
              "      <td>三番町６番２５</td>\n",
              "      <td>969</td>\n",
              "      <td>半蔵門</td>\n",
              "      <td>500</td>\n",
              "      <td>三番町</td>\n",
              "      <td>三番町</td>\n",
              "    </tr>\n",
              "    <tr>\n",
              "      <th>1</th>\n",
              "      <td>千代田区</td>\n",
              "      <td>住宅地</td>\n",
              "      <td>1090000000</td>\n",
              "      <td>2040000</td>\n",
              "      <td>紀尾井町３番２７外</td>\n",
              "      <td>535</td>\n",
              "      <td>永田町</td>\n",
              "      <td>300</td>\n",
              "      <td>紀尾井町</td>\n",
              "      <td>紀尾井町</td>\n",
              "    </tr>\n",
              "    <tr>\n",
              "      <th>2</th>\n",
              "      <td>千代田区</td>\n",
              "      <td>住宅地</td>\n",
              "      <td>9400000000</td>\n",
              "      <td>4150000</td>\n",
              "      <td>六番町６番１外</td>\n",
              "      <td>2266</td>\n",
              "      <td>四ツ谷</td>\n",
              "      <td>330</td>\n",
              "      <td>六番町</td>\n",
              "      <td>六番町</td>\n",
              "    </tr>\n",
              "    <tr>\n",
              "      <th>3</th>\n",
              "      <td>千代田区</td>\n",
              "      <td>住宅地</td>\n",
              "      <td>223000000</td>\n",
              "      <td>1570000</td>\n",
              "      <td>富士見１丁目８番６</td>\n",
              "      <td>142</td>\n",
              "      <td>飯田橋</td>\n",
              "      <td>360</td>\n",
              "      <td>富士見</td>\n",
              "      <td>富士見１丁目</td>\n",
              "    </tr>\n",
              "    <tr>\n",
              "      <th>4</th>\n",
              "      <td>千代田区</td>\n",
              "      <td>住宅地</td>\n",
              "      <td>4560000000</td>\n",
              "      <td>3020000</td>\n",
              "      <td>九段北２丁目６番２６</td>\n",
              "      <td>1511</td>\n",
              "      <td>九段下</td>\n",
              "      <td>450</td>\n",
              "      <td>九段北</td>\n",
              "      <td>九段北２丁目</td>\n",
              "    </tr>\n",
              "    <tr>\n",
              "      <th>5</th>\n",
              "      <td>千代田区</td>\n",
              "      <td>住宅地</td>\n",
              "      <td>1080000000</td>\n",
              "      <td>1830000</td>\n",
              "      <td>平河町２丁目２１番１</td>\n",
              "      <td>590</td>\n",
              "      <td>永田町</td>\n",
              "      <td>240</td>\n",
              "      <td>平河町</td>\n",
              "      <td>平河町２丁目</td>\n",
              "    </tr>\n",
              "    <tr>\n",
              "      <th>6</th>\n",
              "      <td>千代田区</td>\n",
              "      <td>住宅地</td>\n",
              "      <td>2440000000</td>\n",
              "      <td>3080000</td>\n",
              "      <td>一番町１６番３</td>\n",
              "      <td>792</td>\n",
              "      <td>半蔵門</td>\n",
              "      <td>220</td>\n",
              "      <td>一番町</td>\n",
              "      <td>一番町</td>\n",
              "    </tr>\n",
              "    <tr>\n",
              "      <th>7</th>\n",
              "      <td>千代田区</td>\n",
              "      <td>商業地</td>\n",
              "      <td>85100000000</td>\n",
              "      <td>13900000</td>\n",
              "      <td>大手町１丁目１１番外</td>\n",
              "      <td>6119</td>\n",
              "      <td>竹橋</td>\n",
              "      <td>0</td>\n",
              "      <td>大手町</td>\n",
              "      <td>大手町１丁目</td>\n",
              "    </tr>\n",
              "    <tr>\n",
              "      <th>8</th>\n",
              "      <td>千代田区</td>\n",
              "      <td>商業地</td>\n",
              "      <td>367000000000</td>\n",
              "      <td>36600000</td>\n",
              "      <td>丸の内２丁目２番１外</td>\n",
              "      <td>10027</td>\n",
              "      <td>東京</td>\n",
              "      <td>0</td>\n",
              "      <td>丸の内</td>\n",
              "      <td>丸の内２丁目</td>\n",
              "    </tr>\n",
              "    <tr>\n",
              "      <th>9</th>\n",
              "      <td>千代田区</td>\n",
              "      <td>商業地</td>\n",
              "      <td>143000000</td>\n",
              "      <td>1300000</td>\n",
              "      <td>神田錦町２丁目７番１５</td>\n",
              "      <td>110</td>\n",
              "      <td>竹橋</td>\n",
              "      <td>400</td>\n",
              "      <td>神田錦町</td>\n",
              "      <td>神田錦町２丁目</td>\n",
              "    </tr>\n",
              "  </tbody>\n",
              "</table>\n",
              "</div>\n",
              "      <button class=\"colab-df-convert\" onclick=\"convertToInteractive('df-31be40c9-1450-4806-910c-5af9c60bcb8d')\"\n",
              "              title=\"Convert this dataframe to an interactive table.\"\n",
              "              style=\"display:none;\">\n",
              "        \n",
              "  <svg xmlns=\"http://www.w3.org/2000/svg\" height=\"24px\"viewBox=\"0 0 24 24\"\n",
              "       width=\"24px\">\n",
              "    <path d=\"M0 0h24v24H0V0z\" fill=\"none\"/>\n",
              "    <path d=\"M18.56 5.44l.94 2.06.94-2.06 2.06-.94-2.06-.94-.94-2.06-.94 2.06-2.06.94zm-11 1L8.5 8.5l.94-2.06 2.06-.94-2.06-.94L8.5 2.5l-.94 2.06-2.06.94zm10 10l.94 2.06.94-2.06 2.06-.94-2.06-.94-.94-2.06-.94 2.06-2.06.94z\"/><path d=\"M17.41 7.96l-1.37-1.37c-.4-.4-.92-.59-1.43-.59-.52 0-1.04.2-1.43.59L10.3 9.45l-7.72 7.72c-.78.78-.78 2.05 0 2.83L4 21.41c.39.39.9.59 1.41.59.51 0 1.02-.2 1.41-.59l7.78-7.78 2.81-2.81c.8-.78.8-2.07 0-2.86zM5.41 20L4 18.59l7.72-7.72 1.47 1.35L5.41 20z\"/>\n",
              "  </svg>\n",
              "      </button>\n",
              "      \n",
              "  <style>\n",
              "    .colab-df-container {\n",
              "      display:flex;\n",
              "      flex-wrap:wrap;\n",
              "      gap: 12px;\n",
              "    }\n",
              "\n",
              "    .colab-df-convert {\n",
              "      background-color: #E8F0FE;\n",
              "      border: none;\n",
              "      border-radius: 50%;\n",
              "      cursor: pointer;\n",
              "      display: none;\n",
              "      fill: #1967D2;\n",
              "      height: 32px;\n",
              "      padding: 0 0 0 0;\n",
              "      width: 32px;\n",
              "    }\n",
              "\n",
              "    .colab-df-convert:hover {\n",
              "      background-color: #E2EBFA;\n",
              "      box-shadow: 0px 1px 2px rgba(60, 64, 67, 0.3), 0px 1px 3px 1px rgba(60, 64, 67, 0.15);\n",
              "      fill: #174EA6;\n",
              "    }\n",
              "\n",
              "    [theme=dark] .colab-df-convert {\n",
              "      background-color: #3B4455;\n",
              "      fill: #D2E3FC;\n",
              "    }\n",
              "\n",
              "    [theme=dark] .colab-df-convert:hover {\n",
              "      background-color: #434B5C;\n",
              "      box-shadow: 0px 1px 3px 1px rgba(0, 0, 0, 0.15);\n",
              "      filter: drop-shadow(0px 1px 2px rgba(0, 0, 0, 0.3));\n",
              "      fill: #FFFFFF;\n",
              "    }\n",
              "  </style>\n",
              "\n",
              "      <script>\n",
              "        const buttonEl =\n",
              "          document.querySelector('#df-31be40c9-1450-4806-910c-5af9c60bcb8d button.colab-df-convert');\n",
              "        buttonEl.style.display =\n",
              "          google.colab.kernel.accessAllowed ? 'block' : 'none';\n",
              "\n",
              "        async function convertToInteractive(key) {\n",
              "          const element = document.querySelector('#df-31be40c9-1450-4806-910c-5af9c60bcb8d');\n",
              "          const dataTable =\n",
              "            await google.colab.kernel.invokeFunction('convertToInteractive',\n",
              "                                                     [key], {});\n",
              "          if (!dataTable) return;\n",
              "\n",
              "          const docLinkHtml = 'Like what you see? Visit the ' +\n",
              "            '<a target=\"_blank\" href=https://colab.research.google.com/notebooks/data_table.ipynb>data table notebook</a>'\n",
              "            + ' to learn more about interactive tables.';\n",
              "          element.innerHTML = '';\n",
              "          dataTable['output_type'] = 'display_data';\n",
              "          await google.colab.output.renderOutput(dataTable, element);\n",
              "          const docLink = document.createElement('div');\n",
              "          docLink.innerHTML = docLinkHtml;\n",
              "          element.appendChild(docLink);\n",
              "        }\n",
              "      </script>\n",
              "    </div>\n",
              "  </div>\n",
              "  "
            ]
          },
          "metadata": {},
          "execution_count": 10
        }
      ]
    },
    {
      "cell_type": "markdown",
      "source": [
        "### 人口マスタ"
      ],
      "metadata": {
        "id": "wYOMpF8J_ihp"
      }
    },
    {
      "cell_type": "code",
      "source": [
        "df_population = pd.read_csv(os.path.join(DIR_NAME, 'population_master.csv'))[\n",
        "    ['地域ID', '市区町村名', '町名', '町丁目', '経度', '緯度']\n",
        "].set_index(['市区町村名', '町名', '町丁目'])\n",
        "df_population['地域ID'] = df_population['地域ID'].astype(str)\n",
        "print(df_population.shape)"
      ],
      "metadata": {
        "colab": {
          "base_uri": "https://localhost:8080/"
        },
        "id": "f6L1VVFw_h8J",
        "outputId": "4475b60b-97ac-4b94-99e6-21db692b9c7a"
      },
      "execution_count": 11,
      "outputs": [
        {
          "output_type": "stream",
          "name": "stdout",
          "text": [
            "(3145, 3)\n"
          ]
        }
      ]
    },
    {
      "cell_type": "markdown",
      "source": [
        "### 人口データ + 地価"
      ],
      "metadata": {
        "id": "4OB0z0fUR49I"
      }
    },
    {
      "cell_type": "code",
      "source": [
        "df_pop_takuchi = pd.concat([\n",
        "    df_population, \n",
        "    df_takuchi_extract.groupby(['市区町村名', '町名', '町丁目'])['1㎡当たりの価格'].mean()\n",
        "], axis=1).reset_index()\n",
        "print(df_pop_takuchi.shape)"
      ],
      "metadata": {
        "colab": {
          "base_uri": "https://localhost:8080/"
        },
        "id": "QYAM6ubr3jJp",
        "outputId": "5a627465-c5e8-4295-b902-6c2a1f47a00d"
      },
      "execution_count": 12,
      "outputs": [
        {
          "output_type": "stream",
          "name": "stdout",
          "text": [
            "(3156, 7)\n"
          ]
        }
      ]
    },
    {
      "cell_type": "code",
      "source": [
        "# 人口データになくて、地価データがあるレコード\n",
        "df_pop_takuchi[df_pop_takuchi['地域ID'].isna()]"
      ],
      "metadata": {
        "colab": {
          "base_uri": "https://localhost:8080/",
          "height": 394
        },
        "id": "LFFwZ0zuRAQN",
        "outputId": "deac4854-e159-480f-9ffb-d5b2c596cfdc"
      },
      "execution_count": 13,
      "outputs": [
        {
          "output_type": "execute_result",
          "data": {
            "text/plain": [
              "     市区町村名      町名        町丁目 地域ID  経度  緯度    1㎡当たりの価格\n",
              "290    中央区     八重洲     八重洲１丁目  NaN NaN NaN  15150000.0\n",
              "291    中央区     八重洲     八重洲２丁目  NaN NaN NaN  12800000.0\n",
              "340    中央区  日本橋蛎殻町  日本橋蛎殻町１丁目  NaN NaN NaN   2330000.0\n",
              "341    中央区  日本橋蛎殻町  日本橋蛎殻町２丁目  NaN NaN NaN   1080000.0\n",
              "548     北区     西ケ原     西ケ原１丁目  NaN NaN NaN    871000.0\n",
              "549     北区     西ケ原     西ケ原３丁目  NaN NaN NaN    524000.0\n",
              "635   千代田区   神田三崎町   神田三崎町３丁目  NaN NaN NaN   2275000.0\n",
              "656   千代田区   神田猿楽町   神田猿楽町２丁目  NaN NaN NaN   1600000.0\n",
              "1367   新宿区   四谷三栄町      四谷三栄町  NaN NaN NaN   1112500.0\n",
              "2162   渋谷区      松濤      松濤１丁目  NaN NaN NaN   1860000.0\n",
              "2163   渋谷区      松濤      松濤２丁目  NaN NaN NaN   1430000.0"
            ],
            "text/html": [
              "\n",
              "  <div id=\"df-12f6ec00-d0af-43b8-9dde-e659d30ece6b\">\n",
              "    <div class=\"colab-df-container\">\n",
              "      <div>\n",
              "<style scoped>\n",
              "    .dataframe tbody tr th:only-of-type {\n",
              "        vertical-align: middle;\n",
              "    }\n",
              "\n",
              "    .dataframe tbody tr th {\n",
              "        vertical-align: top;\n",
              "    }\n",
              "\n",
              "    .dataframe thead th {\n",
              "        text-align: right;\n",
              "    }\n",
              "</style>\n",
              "<table border=\"1\" class=\"dataframe\">\n",
              "  <thead>\n",
              "    <tr style=\"text-align: right;\">\n",
              "      <th></th>\n",
              "      <th>市区町村名</th>\n",
              "      <th>町名</th>\n",
              "      <th>町丁目</th>\n",
              "      <th>地域ID</th>\n",
              "      <th>経度</th>\n",
              "      <th>緯度</th>\n",
              "      <th>1㎡当たりの価格</th>\n",
              "    </tr>\n",
              "  </thead>\n",
              "  <tbody>\n",
              "    <tr>\n",
              "      <th>290</th>\n",
              "      <td>中央区</td>\n",
              "      <td>八重洲</td>\n",
              "      <td>八重洲１丁目</td>\n",
              "      <td>NaN</td>\n",
              "      <td>NaN</td>\n",
              "      <td>NaN</td>\n",
              "      <td>15150000.0</td>\n",
              "    </tr>\n",
              "    <tr>\n",
              "      <th>291</th>\n",
              "      <td>中央区</td>\n",
              "      <td>八重洲</td>\n",
              "      <td>八重洲２丁目</td>\n",
              "      <td>NaN</td>\n",
              "      <td>NaN</td>\n",
              "      <td>NaN</td>\n",
              "      <td>12800000.0</td>\n",
              "    </tr>\n",
              "    <tr>\n",
              "      <th>340</th>\n",
              "      <td>中央区</td>\n",
              "      <td>日本橋蛎殻町</td>\n",
              "      <td>日本橋蛎殻町１丁目</td>\n",
              "      <td>NaN</td>\n",
              "      <td>NaN</td>\n",
              "      <td>NaN</td>\n",
              "      <td>2330000.0</td>\n",
              "    </tr>\n",
              "    <tr>\n",
              "      <th>341</th>\n",
              "      <td>中央区</td>\n",
              "      <td>日本橋蛎殻町</td>\n",
              "      <td>日本橋蛎殻町２丁目</td>\n",
              "      <td>NaN</td>\n",
              "      <td>NaN</td>\n",
              "      <td>NaN</td>\n",
              "      <td>1080000.0</td>\n",
              "    </tr>\n",
              "    <tr>\n",
              "      <th>548</th>\n",
              "      <td>北区</td>\n",
              "      <td>西ケ原</td>\n",
              "      <td>西ケ原１丁目</td>\n",
              "      <td>NaN</td>\n",
              "      <td>NaN</td>\n",
              "      <td>NaN</td>\n",
              "      <td>871000.0</td>\n",
              "    </tr>\n",
              "    <tr>\n",
              "      <th>549</th>\n",
              "      <td>北区</td>\n",
              "      <td>西ケ原</td>\n",
              "      <td>西ケ原３丁目</td>\n",
              "      <td>NaN</td>\n",
              "      <td>NaN</td>\n",
              "      <td>NaN</td>\n",
              "      <td>524000.0</td>\n",
              "    </tr>\n",
              "    <tr>\n",
              "      <th>635</th>\n",
              "      <td>千代田区</td>\n",
              "      <td>神田三崎町</td>\n",
              "      <td>神田三崎町３丁目</td>\n",
              "      <td>NaN</td>\n",
              "      <td>NaN</td>\n",
              "      <td>NaN</td>\n",
              "      <td>2275000.0</td>\n",
              "    </tr>\n",
              "    <tr>\n",
              "      <th>656</th>\n",
              "      <td>千代田区</td>\n",
              "      <td>神田猿楽町</td>\n",
              "      <td>神田猿楽町２丁目</td>\n",
              "      <td>NaN</td>\n",
              "      <td>NaN</td>\n",
              "      <td>NaN</td>\n",
              "      <td>1600000.0</td>\n",
              "    </tr>\n",
              "    <tr>\n",
              "      <th>1367</th>\n",
              "      <td>新宿区</td>\n",
              "      <td>四谷三栄町</td>\n",
              "      <td>四谷三栄町</td>\n",
              "      <td>NaN</td>\n",
              "      <td>NaN</td>\n",
              "      <td>NaN</td>\n",
              "      <td>1112500.0</td>\n",
              "    </tr>\n",
              "    <tr>\n",
              "      <th>2162</th>\n",
              "      <td>渋谷区</td>\n",
              "      <td>松濤</td>\n",
              "      <td>松濤１丁目</td>\n",
              "      <td>NaN</td>\n",
              "      <td>NaN</td>\n",
              "      <td>NaN</td>\n",
              "      <td>1860000.0</td>\n",
              "    </tr>\n",
              "    <tr>\n",
              "      <th>2163</th>\n",
              "      <td>渋谷区</td>\n",
              "      <td>松濤</td>\n",
              "      <td>松濤２丁目</td>\n",
              "      <td>NaN</td>\n",
              "      <td>NaN</td>\n",
              "      <td>NaN</td>\n",
              "      <td>1430000.0</td>\n",
              "    </tr>\n",
              "  </tbody>\n",
              "</table>\n",
              "</div>\n",
              "      <button class=\"colab-df-convert\" onclick=\"convertToInteractive('df-12f6ec00-d0af-43b8-9dde-e659d30ece6b')\"\n",
              "              title=\"Convert this dataframe to an interactive table.\"\n",
              "              style=\"display:none;\">\n",
              "        \n",
              "  <svg xmlns=\"http://www.w3.org/2000/svg\" height=\"24px\"viewBox=\"0 0 24 24\"\n",
              "       width=\"24px\">\n",
              "    <path d=\"M0 0h24v24H0V0z\" fill=\"none\"/>\n",
              "    <path d=\"M18.56 5.44l.94 2.06.94-2.06 2.06-.94-2.06-.94-.94-2.06-.94 2.06-2.06.94zm-11 1L8.5 8.5l.94-2.06 2.06-.94-2.06-.94L8.5 2.5l-.94 2.06-2.06.94zm10 10l.94 2.06.94-2.06 2.06-.94-2.06-.94-.94-2.06-.94 2.06-2.06.94z\"/><path d=\"M17.41 7.96l-1.37-1.37c-.4-.4-.92-.59-1.43-.59-.52 0-1.04.2-1.43.59L10.3 9.45l-7.72 7.72c-.78.78-.78 2.05 0 2.83L4 21.41c.39.39.9.59 1.41.59.51 0 1.02-.2 1.41-.59l7.78-7.78 2.81-2.81c.8-.78.8-2.07 0-2.86zM5.41 20L4 18.59l7.72-7.72 1.47 1.35L5.41 20z\"/>\n",
              "  </svg>\n",
              "      </button>\n",
              "      \n",
              "  <style>\n",
              "    .colab-df-container {\n",
              "      display:flex;\n",
              "      flex-wrap:wrap;\n",
              "      gap: 12px;\n",
              "    }\n",
              "\n",
              "    .colab-df-convert {\n",
              "      background-color: #E8F0FE;\n",
              "      border: none;\n",
              "      border-radius: 50%;\n",
              "      cursor: pointer;\n",
              "      display: none;\n",
              "      fill: #1967D2;\n",
              "      height: 32px;\n",
              "      padding: 0 0 0 0;\n",
              "      width: 32px;\n",
              "    }\n",
              "\n",
              "    .colab-df-convert:hover {\n",
              "      background-color: #E2EBFA;\n",
              "      box-shadow: 0px 1px 2px rgba(60, 64, 67, 0.3), 0px 1px 3px 1px rgba(60, 64, 67, 0.15);\n",
              "      fill: #174EA6;\n",
              "    }\n",
              "\n",
              "    [theme=dark] .colab-df-convert {\n",
              "      background-color: #3B4455;\n",
              "      fill: #D2E3FC;\n",
              "    }\n",
              "\n",
              "    [theme=dark] .colab-df-convert:hover {\n",
              "      background-color: #434B5C;\n",
              "      box-shadow: 0px 1px 3px 1px rgba(0, 0, 0, 0.15);\n",
              "      filter: drop-shadow(0px 1px 2px rgba(0, 0, 0, 0.3));\n",
              "      fill: #FFFFFF;\n",
              "    }\n",
              "  </style>\n",
              "\n",
              "      <script>\n",
              "        const buttonEl =\n",
              "          document.querySelector('#df-12f6ec00-d0af-43b8-9dde-e659d30ece6b button.colab-df-convert');\n",
              "        buttonEl.style.display =\n",
              "          google.colab.kernel.accessAllowed ? 'block' : 'none';\n",
              "\n",
              "        async function convertToInteractive(key) {\n",
              "          const element = document.querySelector('#df-12f6ec00-d0af-43b8-9dde-e659d30ece6b');\n",
              "          const dataTable =\n",
              "            await google.colab.kernel.invokeFunction('convertToInteractive',\n",
              "                                                     [key], {});\n",
              "          if (!dataTable) return;\n",
              "\n",
              "          const docLinkHtml = 'Like what you see? Visit the ' +\n",
              "            '<a target=\"_blank\" href=https://colab.research.google.com/notebooks/data_table.ipynb>data table notebook</a>'\n",
              "            + ' to learn more about interactive tables.';\n",
              "          element.innerHTML = '';\n",
              "          dataTable['output_type'] = 'display_data';\n",
              "          await google.colab.output.renderOutput(dataTable, element);\n",
              "          const docLink = document.createElement('div');\n",
              "          docLink.innerHTML = docLinkHtml;\n",
              "          element.appendChild(docLink);\n",
              "        }\n",
              "      </script>\n",
              "    </div>\n",
              "  </div>\n",
              "  "
            ]
          },
          "metadata": {},
          "execution_count": 13
        }
      ]
    },
    {
      "cell_type": "code",
      "source": [
        "df_pop_takuchi = df_pop_takuchi[df_pop_takuchi['地域ID'].notna()].reset_index(drop=True)\n",
        "print(df_pop_takuchi.shape)\n",
        "print('「1㎡当たりの価格」がない町丁', len(df_pop_takuchi[(df_pop_takuchi['1㎡当たりの価格'].isna())]))\n",
        "\n",
        "# 「1㎡当たりの価格」がない町丁は、町ごとの平均値で埋める\n",
        "df_pop_takuchi['町ごとの平均価格'] = df_pop_takuchi.groupby('町名')['1㎡当たりの価格'].transform('mean')\n",
        "df_pop_takuchi.loc[df_pop_takuchi['1㎡当たりの価格'].isna(), '1㎡当たりの価格'] = df_pop_takuchi['町ごとの平均価格']\n",
        "print('「1㎡当たりの価格」がない町丁', len(df_pop_takuchi[(df_pop_takuchi['1㎡当たりの価格'].isna())]))"
      ],
      "metadata": {
        "colab": {
          "base_uri": "https://localhost:8080/"
        },
        "id": "ElhCspM24qsA",
        "outputId": "b014ba09-cf1d-42fa-f381-0888ceafefb2"
      },
      "execution_count": 14,
      "outputs": [
        {
          "output_type": "stream",
          "name": "stdout",
          "text": [
            "(3145, 7)\n",
            "「1㎡当たりの価格」がない町丁 1821\n",
            "「1㎡当たりの価格」がない町丁 505\n"
          ]
        }
      ]
    },
    {
      "cell_type": "code",
      "source": [
        "df_pop_takuchi['緯度2'] = (df_pop_takuchi['緯度'].fillna(0) * 100).astype(int)\n",
        "df_pop_takuchi['経度2'] = (df_pop_takuchi['経度'].fillna(0) * 100).astype(int)\n",
        "df_pop_takuchi['緯度経度での平均価格'] = df_pop_takuchi.groupby(['緯度2', '経度2'])['1㎡当たりの価格'].transform('mean').round()\n",
        "df_pop_takuchi.loc[df_pop_takuchi['1㎡当たりの価格'].isna(), '1㎡当たりの価格'] = df_pop_takuchi['緯度経度での平均価格']\n",
        "\n",
        "# 「1㎡当たりの価格」がない町丁は、町ごとの平均値で埋める(2回目)\n",
        "df_pop_takuchi['町ごとの平均価格'] = df_pop_takuchi.groupby('町名')['1㎡当たりの価格'].transform('mean')\n",
        "df_pop_takuchi.loc[df_pop_takuchi['1㎡当たりの価格'].isna(), '1㎡当たりの価格'] = df_pop_takuchi['町ごとの平均価格']\n",
        "print('「1㎡当たりの価格」がない町丁', len(df_pop_takuchi[(df_pop_takuchi['1㎡当たりの価格'].isna())]))"
      ],
      "metadata": {
        "colab": {
          "base_uri": "https://localhost:8080/"
        },
        "id": "3B8WWHHSFK2L",
        "outputId": "ff883423-83cd-4407-ebf1-65e77893d7a4"
      },
      "execution_count": 15,
      "outputs": [
        {
          "output_type": "stream",
          "name": "stdout",
          "text": [
            "「1㎡当たりの価格」がない町丁 30\n"
          ]
        }
      ]
    },
    {
      "cell_type": "code",
      "source": [
        "# 「1㎡当たりの価格」がない町丁は、区ごとの平均値で埋める\n",
        "df_pop_takuchi['区ごとの平均価格'] = df_pop_takuchi.groupby('市区町村名')['1㎡当たりの価格'].transform('mean')\n",
        "df_pop_takuchi.loc[df_pop_takuchi['1㎡当たりの価格'].isna(), '1㎡当たりの価格'] = df_pop_takuchi['区ごとの平均価格']\n",
        "print('「1㎡当たりの価格」がない町丁', len(df_pop_takuchi[(df_pop_takuchi['1㎡当たりの価格'].isna())]))\n",
        "df_pop_takuchi['1㎡当たりの価格'] = df_pop_takuchi['1㎡当たりの価格'].astype(int)"
      ],
      "metadata": {
        "colab": {
          "base_uri": "https://localhost:8080/"
        },
        "id": "QyTddlQRP9In",
        "outputId": "bcb6117a-5f9f-49d9-c85c-51ba9d0495de"
      },
      "execution_count": 16,
      "outputs": [
        {
          "output_type": "stream",
          "name": "stdout",
          "text": [
            "「1㎡当たりの価格」がない町丁 0\n"
          ]
        }
      ]
    },
    {
      "cell_type": "markdown",
      "source": [
        "### 地価スコア"
      ],
      "metadata": {
        "id": "Ug1j0yWQVhTc"
      }
    },
    {
      "cell_type": "code",
      "source": [
        "def normalize_score(sr_data, high=True, outlier=True):\n",
        "    score = (sr_data - sr_data.mean())/sr_data.std()\n",
        "    score = score if high else -score\n",
        "\n",
        "    if outlier:\n",
        "        high_s = score.quantile(0.99)\n",
        "        low_s = score.quantile(0.01)\n",
        "        score[score > high_s] = high_s\n",
        "        score[score < low_s] = low_s\n",
        "    else:\n",
        "        high_s = score.max()\n",
        "        low_s = score.min()\n",
        "        \n",
        "    return (score - low_s)/(high_s - low_s)\n",
        "\n",
        "\n",
        "def rank_score(sr_data):\n",
        "    size = sr_data.notna().sum()\n",
        "    rank = sr_data.rank()\n",
        "    result = rank.copy()\n",
        "    # 0~1: 15%, 1~2: 20%, 2~3: 30%, 3~4: 20%, 4~5: 15%\n",
        "    level_list = [0.15, (0.15+0.2), (0.15+0.2+0.3), (0.15+0.2+0.3+0.2), 1]\n",
        "    \n",
        "    pre_level = 0\n",
        "    for index, level in enumerate([lv*size for lv in level_list]):\n",
        "        result[(rank > pre_level)&(rank <= level)] = (rank - pre_level)/(level - pre_level) + index\n",
        "        pre_level = level\n",
        "\n",
        "    return result"
      ],
      "metadata": {
        "id": "7oWO7NHgVYhe"
      },
      "execution_count": 17,
      "outputs": []
    },
    {
      "cell_type": "code",
      "source": [
        "df_score = df_pop_takuchi[['地域ID', '市区町村名', '町丁目', '1㎡当たりの価格']].rename(columns={'1㎡当たりの価格':'地価'})\n",
        "feature_name = '地価'\n",
        "sns.histplot(df_score[feature_name], bins=20)\n",
        "plt.show()"
      ],
      "metadata": {
        "colab": {
          "base_uri": "https://localhost:8080/",
          "height": 278
        },
        "id": "siV_vDVPVj6p",
        "outputId": "10d3e1dd-8ca9-4736-cc6c-f9a2d2d82db2"
      },
      "execution_count": 18,
      "outputs": [
        {
          "output_type": "display_data",
          "data": {
            "text/plain": [
              "<Figure size 432x288 with 1 Axes>"
            ],
            "image/png": "[encoded data removed]"
          },
          "metadata": {
            "needs_background": "light"
          }
        }
      ]
    },
    {
      "cell_type": "code",
      "source": [
        "df_score[f'{feature_name}スコア'] = rank_score(df_score[feature_name]).round(2)\n",
        "sns.histplot(df_score[f'{feature_name}スコア'], bins=20)\n",
        "plt.show()"
      ],
      "metadata": {
        "colab": {
          "base_uri": "https://localhost:8080/",
          "height": 281
        },
        "id": "S9xyC9y3XCGm",
        "outputId": "b9c8ca8c-10d5-42f2-ada8-8a16554f4491"
      },
      "execution_count": 19,
      "outputs": [
        {
          "output_type": "display_data",
          "data": {
            "text/plain": [
              "<Figure size 432x288 with 1 Axes>"
            ],
            "image/png": "[encoded data removed]"
          },
          "metadata": {
            "needs_background": "light"
          }
        }
      ]
    },
    {
      "cell_type": "code",
      "source": [
        "plt.figure(figsize=(15, 5))\n",
        "sns.barplot(x='市区町村名', y='地価', data=df_score)\n",
        "plt.show()"
      ],
      "metadata": {
        "colab": {
          "base_uri": "https://localhost:8080/",
          "height": 343
        },
        "id": "f5xWuY7RCW-V",
        "outputId": "0481c18b-202f-4be6-ecf8-c54be528a29c"
      },
      "execution_count": 20,
      "outputs": [
        {
          "output_type": "display_data",
          "data": {
            "text/plain": [
              "<Figure size 1080x360 with 1 Axes>"
            ],
            "image/png": "[encoded data removed]"
          },
          "metadata": {
            "needs_background": "light"
          }
        }
      ]
    },
    {
      "cell_type": "code",
      "source": [
        "plt.figure(figsize=(15, 5))\n",
        "sns.barplot(x='市区町村名', y='地価スコア', data=df_score)\n",
        "plt.show()"
      ],
      "metadata": {
        "colab": {
          "base_uri": "https://localhost:8080/",
          "height": 333
        },
        "id": "NKzh54io1t1i",
        "outputId": "a87730f4-fff4-42f7-97fb-7b04f0ef2551"
      },
      "execution_count": 21,
      "outputs": [
        {
          "output_type": "display_data",
          "data": {
            "text/plain": [
              "<Figure size 1080x360 with 1 Axes>"
            ],
            "image/png": "[encoded data removed]"
          },
          "metadata": {
            "needs_background": "light"
          }
        }
      ]
    },
    {
      "cell_type": "code",
      "source": [
        "df_score.sort_values('地価スコア', ascending=False).head(20)"
      ],
      "metadata": {
        "colab": {
          "base_uri": "https://localhost:8080/",
          "height": 677
        },
        "id": "u4Mb6AGWUKN5",
        "outputId": "855c9de0-7796-4b31-96f3-db813139731f"
      },
      "execution_count": 22,
      "outputs": [
        {
          "output_type": "execute_result",
          "data": {
            "text/plain": [
              "        地域ID 市区町村名     町丁目        地価  地価スコア\n",
              "581   101003  千代田区  丸の内１丁目  31700000   5.00\n",
              "582   101004  千代田区  丸の内２丁目  36600000   5.00\n",
              "371   102011   中央区   銀座４丁目  40600000   5.00\n",
              "610   101008  千代田区  大手町２丁目  28800000   4.99\n",
              "583   101005  千代田区  丸の内３丁目  26800000   4.99\n",
              "368   102008   中央区   銀座１丁目  23508095   4.99\n",
              "372   102012   中央区   銀座５丁目  27315000   4.99\n",
              "373   102013   中央区   銀座６丁目  28200000   4.99\n",
              "374   102014   中央区   銀座７丁目  23075000   4.98\n",
              "2121  113045   渋谷区    宇田川町  21800000   4.98\n",
              "291   102002   中央区  八重洲２丁目  21919970   4.98\n",
              "1400  104028   新宿区   新宿３丁目  21452000   4.98\n",
              "609   101007  千代田区  大手町１丁目  20450000   4.97\n",
              "2176  113038   渋谷区  道玄坂２丁目  18850000   4.97\n",
              "369   102009   中央区   銀座２丁目  15966666   4.97\n",
              "370   102010   中央区   銀座３丁目  15900000   4.97\n",
              "303   102093   中央区  日本橋２丁目  20500000   4.97\n",
              "279   102006   中央区   京橋３丁目  15500000   4.96\n",
              "278   102005   中央区   京橋２丁目  15500000   4.96\n",
              "678   101018  千代田区  霞が関３丁目  14600000   4.96"
            ],
            "text/html": [
              "\n",
              "  <div id=\"df-56364860-6771-45b5-bb59-f41fb56d0c46\">\n",
              "    <div class=\"colab-df-container\">\n",
              "      <div>\n",
              "<style scoped>\n",
              "    .dataframe tbody tr th:only-of-type {\n",
              "        vertical-align: middle;\n",
              "    }\n",
              "\n",
              "    .dataframe tbody tr th {\n",
              "        vertical-align: top;\n",
              "    }\n",
              "\n",
              "    .dataframe thead th {\n",
              "        text-align: right;\n",
              "    }\n",
              "</style>\n",
              "<table border=\"1\" class=\"dataframe\">\n",
              "  <thead>\n",
              "    <tr style=\"text-align: right;\">\n",
              "      <th></th>\n",
              "      <th>地域ID</th>\n",
              "      <th>市区町村名</th>\n",
              "      <th>町丁目</th>\n",
              "      <th>地価</th>\n",
              "      <th>地価スコア</th>\n",
              "    </tr>\n",
              "  </thead>\n",
              "  <tbody>\n",
              "    <tr>\n",
              "      <th>581</th>\n",
              "      <td>101003</td>\n",
              "      <td>千代田区</td>\n",
              "      <td>丸の内１丁目</td>\n",
              "      <td>31700000</td>\n",
              "      <td>5.00</td>\n",
              "    </tr>\n",
              "    <tr>\n",
              "      <th>582</th>\n",
              "      <td>101004</td>\n",
              "      <td>千代田区</td>\n",
              "      <td>丸の内２丁目</td>\n",
              "      <td>36600000</td>\n",
              "      <td>5.00</td>\n",
              "    </tr>\n",
              "    <tr>\n",
              "      <th>371</th>\n",
              "      <td>102011</td>\n",
              "      <td>中央区</td>\n",
              "      <td>銀座４丁目</td>\n",
              "      <td>40600000</td>\n",
              "      <td>5.00</td>\n",
              "    </tr>\n",
              "    <tr>\n",
              "      <th>610</th>\n",
              "      <td>101008</td>\n",
              "      <td>千代田区</td>\n",
              "      <td>大手町２丁目</td>\n",
              "      <td>28800000</td>\n",
              "      <td>4.99</td>\n",
              "    </tr>\n",
              "    <tr>\n",
              "      <th>583</th>\n",
              "      <td>101005</td>\n",
              "      <td>千代田区</td>\n",
              "      <td>丸の内３丁目</td>\n",
              "      <td>26800000</td>\n",
              "      <td>4.99</td>\n",
              "    </tr>\n",
              "    <tr>\n",
              "      <th>368</th>\n",
              "      <td>102008</td>\n",
              "      <td>中央区</td>\n",
              "      <td>銀座１丁目</td>\n",
              "      <td>23508095</td>\n",
              "      <td>4.99</td>\n",
              "    </tr>\n",
              "    <tr>\n",
              "      <th>372</th>\n",
              "      <td>102012</td>\n",
              "      <td>中央区</td>\n",
              "      <td>銀座５丁目</td>\n",
              "      <td>27315000</td>\n",
              "      <td>4.99</td>\n",
              "    </tr>\n",
              "    <tr>\n",
              "      <th>373</th>\n",
              "      <td>102013</td>\n",
              "      <td>中央区</td>\n",
              "      <td>銀座６丁目</td>\n",
              "      <td>28200000</td>\n",
              "      <td>4.99</td>\n",
              "    </tr>\n",
              "    <tr>\n",
              "      <th>374</th>\n",
              "      <td>102014</td>\n",
              "      <td>中央区</td>\n",
              "      <td>銀座７丁目</td>\n",
              "      <td>23075000</td>\n",
              "      <td>4.98</td>\n",
              "    </tr>\n",
              "    <tr>\n",
              "      <th>2121</th>\n",
              "      <td>113045</td>\n",
              "      <td>渋谷区</td>\n",
              "      <td>宇田川町</td>\n",
              "      <td>21800000</td>\n",
              "      <td>4.98</td>\n",
              "    </tr>\n",
              "    <tr>\n",
              "      <th>291</th>\n",
              "      <td>102002</td>\n",
              "      <td>中央区</td>\n",
              "      <td>八重洲２丁目</td>\n",
              "      <td>21919970</td>\n",
              "      <td>4.98</td>\n",
              "    </tr>\n",
              "    <tr>\n",
              "      <th>1400</th>\n",
              "      <td>104028</td>\n",
              "      <td>新宿区</td>\n",
              "      <td>新宿３丁目</td>\n",
              "      <td>21452000</td>\n",
              "      <td>4.98</td>\n",
              "    </tr>\n",
              "    <tr>\n",
              "      <th>609</th>\n",
              "      <td>101007</td>\n",
              "      <td>千代田区</td>\n",
              "      <td>大手町１丁目</td>\n",
              "      <td>20450000</td>\n",
              "      <td>4.97</td>\n",
              "    </tr>\n",
              "    <tr>\n",
              "      <th>2176</th>\n",
              "      <td>113038</td>\n",
              "      <td>渋谷区</td>\n",
              "      <td>道玄坂２丁目</td>\n",
              "      <td>18850000</td>\n",
              "      <td>4.97</td>\n",
              "    </tr>\n",
              "    <tr>\n",
              "      <th>369</th>\n",
              "      <td>102009</td>\n",
              "      <td>中央区</td>\n",
              "      <td>銀座２丁目</td>\n",
              "      <td>15966666</td>\n",
              "      <td>4.97</td>\n",
              "    </tr>\n",
              "    <tr>\n",
              "      <th>370</th>\n",
              "      <td>102010</td>\n",
              "      <td>中央区</td>\n",
              "      <td>銀座３丁目</td>\n",
              "      <td>15900000</td>\n",
              "      <td>4.97</td>\n",
              "    </tr>\n",
              "    <tr>\n",
              "      <th>303</th>\n",
              "      <td>102093</td>\n",
              "      <td>中央区</td>\n",
              "      <td>日本橋２丁目</td>\n",
              "      <td>20500000</td>\n",
              "      <td>4.97</td>\n",
              "    </tr>\n",
              "    <tr>\n",
              "      <th>279</th>\n",
              "      <td>102006</td>\n",
              "      <td>中央区</td>\n",
              "      <td>京橋３丁目</td>\n",
              "      <td>15500000</td>\n",
              "      <td>4.96</td>\n",
              "    </tr>\n",
              "    <tr>\n",
              "      <th>278</th>\n",
              "      <td>102005</td>\n",
              "      <td>中央区</td>\n",
              "      <td>京橋２丁目</td>\n",
              "      <td>15500000</td>\n",
              "      <td>4.96</td>\n",
              "    </tr>\n",
              "    <tr>\n",
              "      <th>678</th>\n",
              "      <td>101018</td>\n",
              "      <td>千代田区</td>\n",
              "      <td>霞が関３丁目</td>\n",
              "      <td>14600000</td>\n",
              "      <td>4.96</td>\n",
              "    </tr>\n",
              "  </tbody>\n",
              "</table>\n",
              "</div>\n",
              "      <button class=\"colab-df-convert\" onclick=\"convertToInteractive('df-56364860-6771-45b5-bb59-f41fb56d0c46')\"\n",
              "              title=\"Convert this dataframe to an interactive table.\"\n",
              "              style=\"display:none;\">\n",
              "        \n",
              "  <svg xmlns=\"http://www.w3.org/2000/svg\" height=\"24px\"viewBox=\"0 0 24 24\"\n",
              "       width=\"24px\">\n",
              "    <path d=\"M0 0h24v24H0V0z\" fill=\"none\"/>\n",
              "    <path d=\"M18.56 5.44l.94 2.06.94-2.06 2.06-.94-2.06-.94-.94-2.06-.94 2.06-2.06.94zm-11 1L8.5 8.5l.94-2.06 2.06-.94-2.06-.94L8.5 2.5l-.94 2.06-2.06.94zm10 10l.94 2.06.94-2.06 2.06-.94-2.06-.94-.94-2.06-.94 2.06-2.06.94z\"/><path d=\"M17.41 7.96l-1.37-1.37c-.4-.4-.92-.59-1.43-.59-.52 0-1.04.2-1.43.59L10.3 9.45l-7.72 7.72c-.78.78-.78 2.05 0 2.83L4 21.41c.39.39.9.59 1.41.59.51 0 1.02-.2 1.41-.59l7.78-7.78 2.81-2.81c.8-.78.8-2.07 0-2.86zM5.41 20L4 18.59l7.72-7.72 1.47 1.35L5.41 20z\"/>\n",
              "  </svg>\n",
              "      </button>\n",
              "      \n",
              "  <style>\n",
              "    .colab-df-container {\n",
              "      display:flex;\n",
              "      flex-wrap:wrap;\n",
              "      gap: 12px;\n",
              "    }\n",
              "\n",
              "    .colab-df-convert {\n",
              "      background-color: #E8F0FE;\n",
              "      border: none;\n",
              "      border-radius: 50%;\n",
              "      cursor: pointer;\n",
              "      display: none;\n",
              "      fill: #1967D2;\n",
              "      height: 32px;\n",
              "      padding: 0 0 0 0;\n",
              "      width: 32px;\n",
              "    }\n",
              "\n",
              "    .colab-df-convert:hover {\n",
              "      background-color: #E2EBFA;\n",
              "      box-shadow: 0px 1px 2px rgba(60, 64, 67, 0.3), 0px 1px 3px 1px rgba(60, 64, 67, 0.15);\n",
              "      fill: #174EA6;\n",
              "    }\n",
              "\n",
              "    [theme=dark] .colab-df-convert {\n",
              "      background-color: #3B4455;\n",
              "      fill: #D2E3FC;\n",
              "    }\n",
              "\n",
              "    [theme=dark] .colab-df-convert:hover {\n",
              "      background-color: #434B5C;\n",
              "      box-shadow: 0px 1px 3px 1px rgba(0, 0, 0, 0.15);\n",
              "      filter: drop-shadow(0px 1px 2px rgba(0, 0, 0, 0.3));\n",
              "      fill: #FFFFFF;\n",
              "    }\n",
              "  </style>\n",
              "\n",
              "      <script>\n",
              "        const buttonEl =\n",
              "          document.querySelector('#df-56364860-6771-45b5-bb59-f41fb56d0c46 button.colab-df-convert');\n",
              "        buttonEl.style.display =\n",
              "          google.colab.kernel.accessAllowed ? 'block' : 'none';\n",
              "\n",
              "        async function convertToInteractive(key) {\n",
              "          const element = document.querySelector('#df-56364860-6771-45b5-bb59-f41fb56d0c46');\n",
              "          const dataTable =\n",
              "            await google.colab.kernel.invokeFunction('convertToInteractive',\n",
              "                                                     [key], {});\n",
              "          if (!dataTable) return;\n",
              "\n",
              "          const docLinkHtml = 'Like what you see? Visit the ' +\n",
              "            '<a target=\"_blank\" href=https://colab.research.google.com/notebooks/data_table.ipynb>data table notebook</a>'\n",
              "            + ' to learn more about interactive tables.';\n",
              "          element.innerHTML = '';\n",
              "          dataTable['output_type'] = 'display_data';\n",
              "          await google.colab.output.renderOutput(dataTable, element);\n",
              "          const docLink = document.createElement('div');\n",
              "          docLink.innerHTML = docLinkHtml;\n",
              "          element.appendChild(docLink);\n",
              "        }\n",
              "      </script>\n",
              "    </div>\n",
              "  </div>\n",
              "  "
            ]
          },
          "metadata": {},
          "execution_count": 22
        }
      ]
    },
    {
      "cell_type": "markdown",
      "source": [
        "### 家賃の予測"
      ],
      "metadata": {
        "id": "gsvx_ZKZgbSz"
      }
    },
    {
      "cell_type": "code",
      "source": [
        "df_rent = pd.read_csv(os.path.join(DIR_NAME, 'original/rent_summary.csv'), encoding='shift-jis')\n",
        "df_rent = df_rent[df_rent['地域'].str.endswith('区')]\n",
        "print(df_rent.shape)"
      ],
      "metadata": {
        "colab": {
          "base_uri": "https://localhost:8080/"
        },
        "id": "AJZ8c_QoZSyQ",
        "outputId": "7a8b5def-005e-4fc4-f6f5-61db43211f46"
      },
      "execution_count": 23,
      "outputs": [
        {
          "output_type": "stream",
          "name": "stdout",
          "text": [
            "(23, 7)\n"
          ]
        }
      ]
    },
    {
      "cell_type": "code",
      "source": [
        "for col in ['ワンルーム', '1K・1DK', '1LDK・2K・2DK', '2LDK・3K・3DK', '3LDK・4K・4DK', '4LDK〜']:\n",
        "    df_rent[col] = df_rent[col].apply(lambda x: x.split('(')[0]).astype(float)"
      ],
      "metadata": {
        "id": "0vhEgp2fgunn"
      },
      "execution_count": 24,
      "outputs": []
    },
    {
      "cell_type": "code",
      "source": [
        "df_rent['1LDK・2LDK平均'] = (df_rent['1LDK・2K・2DK'] + df_rent['2LDK・3K・3DK'])/2"
      ],
      "metadata": {
        "id": "_1trke9_lsPX"
      },
      "execution_count": 25,
      "outputs": []
    },
    {
      "cell_type": "code",
      "source": [
        "df_rest_stack = df_rent.set_index('地域').stack().reset_index().rename(columns={'level_1':'部屋タイプ', 0:'家賃相場'})\n",
        "df_rest_stack = df_rest_stack[df_rest_stack['家賃相場'] != 0]"
      ],
      "metadata": {
        "id": "z_ZRW9jWhCHK"
      },
      "execution_count": 26,
      "outputs": []
    },
    {
      "cell_type": "code",
      "source": [
        "plt.figure(figsize=(15, 5))\n",
        "sns.barplot(\n",
        "    x='地域', y='家賃相場', hue='部屋タイプ',\n",
        "    data=df_rest_stack[df_rest_stack['部屋タイプ'] != '4LDK〜']\n",
        ")\n",
        "plt.show()"
      ],
      "metadata": {
        "colab": {
          "base_uri": "https://localhost:8080/",
          "height": 332
        },
        "id": "S0ciE01SkMmM",
        "outputId": "19d826d3-15b2-49a9-8cca-fcf6a04e89fd"
      },
      "execution_count": 27,
      "outputs": [
        {
          "output_type": "display_data",
          "data": {
            "text/plain": [
              "<Figure size 1080x360 with 1 Axes>"
            ],
            "image/png": "[encoded data removed]"
          },
          "metadata": {
            "needs_background": "light"
          }
        }
      ]
    },
    {
      "cell_type": "code",
      "source": [
        "df_merge_price = pd.merge(\n",
        "    df_rest_stack.rename(columns={'地域': '市区町村名'}),\n",
        "    df_score.groupby('市区町村名')['地価'].mean().reset_index(),\n",
        "    on='市区町村名', how='left'\n",
        ")"
      ],
      "metadata": {
        "id": "-y3ANx6Lkl6C"
      },
      "execution_count": 28,
      "outputs": []
    },
    {
      "cell_type": "code",
      "source": [
        "# 極端に家賃が高い４区を除いて線形回帰\n",
        "df_price_extract = df_merge_price[~df_merge_price['市区町村名'].isin(['千代田区', '港区', '中央区', '渋谷区'])]"
      ],
      "metadata": {
        "id": "AtoKMQ67sbyn"
      },
      "execution_count": 29,
      "outputs": []
    },
    {
      "cell_type": "code",
      "source": [
        "for room_type in list(df_price_extract['部屋タイプ'].unique()):\n",
        "    _tmp = df_price_extract[df_price_extract['部屋タイプ'] == room_type]\n",
        "    plt.figure(figsize=(6, 6))\n",
        "    sns.regplot(x='地価', y='家賃相場', data=_tmp)\n",
        "    plt.title(room_type)\n",
        "    plt.show()\n",
        "    print(np.corrcoef(_tmp['地価'], _tmp['家賃相場'])[0, 1])"
      ],
      "metadata": {
        "colab": {
          "base_uri": "https://localhost:8080/",
          "height": 1000
        },
        "id": "FTYvXdRGlegc",
        "outputId": "37ca1e5c-177b-4c91-f36e-0b19d6bdb947"
      },
      "execution_count": 30,
      "outputs": [
        {
          "output_type": "display_data",
          "data": {
            "text/plain": [
              "<Figure size 432x432 with 1 Axes>"
            ],
            "image/png": "[encoded data removed]"
          },
          "metadata": {
            "needs_background": "light"
          }
        },
        {
          "output_type": "stream",
          "name": "stdout",
          "text": [
            "0.6681559004914771\n"
          ]
        },
        {
          "output_type": "display_data",
          "data": {
            "text/plain": [
              "<Figure size 432x432 with 1 Axes>"
            ],
            "image/png": "[encoded data removed]"
          },
          "metadata": {
            "needs_background": "light"
          }
        },
        {
          "output_type": "stream",
          "name": "stdout",
          "text": [
            "0.7852715792509212\n"
          ]
        },
        {
          "output_type": "display_data",
          "data": {
            "text/plain": [
              "<Figure size 432x432 with 1 Axes>"
            ],
            "image/png": "[encoded data removed]"
          },
          "metadata": {
            "needs_background": "light"
          }
        },
        {
          "output_type": "stream",
          "name": "stdout",
          "text": [
            "0.8396117434091502\n"
          ]
        },
        {
          "output_type": "display_data",
          "data": {
            "text/plain": [
              "<Figure size 432x432 with 1 Axes>"
            ],
            "image/png": "[encoded data removed]"
          },
          "metadata": {
            "needs_background": "light"
          }
        },
        {
          "output_type": "stream",
          "name": "stdout",
          "text": [
            "0.8445693136091705\n"
          ]
        },
        {
          "output_type": "display_data",
          "data": {
            "text/plain": [
              "<Figure size 432x432 with 1 Axes>"
            ],
            "image/png": "[encoded data removed]"
          },
          "metadata": {
            "needs_background": "light"
          }
        },
        {
          "output_type": "stream",
          "name": "stdout",
          "text": [
            "0.6829420620014801\n"
          ]
        },
        {
          "output_type": "display_data",
          "data": {
            "text/plain": [
              "<Figure size 432x432 with 1 Axes>"
            ],
            "image/png": "[encoded data removed]"
          },
          "metadata": {
            "needs_background": "light"
          }
        },
        {
          "output_type": "stream",
          "name": "stdout",
          "text": [
            "0.4089555974015044\n"
          ]
        },
        {
          "output_type": "display_data",
          "data": {
            "text/plain": [
              "<Figure size 432x432 with 1 Axes>"
            ],
            "image/png": "[encoded data removed]"
          },
          "metadata": {
            "needs_background": "light"
          }
        },
        {
          "output_type": "stream",
          "name": "stdout",
          "text": [
            "0.8514550935932919\n"
          ]
        }
      ]
    },
    {
      "cell_type": "code",
      "source": [
        "from sklearn.linear_model import LinearRegression\n",
        "\n",
        "_tmp = df_price_extract[df_price_extract['部屋タイプ'] == '1LDK・2LDK平均']\n",
        "model = LinearRegression()\n",
        "mod_lin = model.fit(_tmp[['地価']], _tmp[['家賃相場']])\n",
        "\n",
        "print('傾き=',mod_lin.coef_, '切片=', mod_lin.intercept_)"
      ],
      "metadata": {
        "colab": {
          "base_uri": "https://localhost:8080/"
        },
        "id": "4B6p6takmEjE",
        "outputId": "d084137d-b084-4215-ec30-71f0929f1a45"
      },
      "execution_count": 31,
      "outputs": [
        {
          "output_type": "stream",
          "name": "stdout",
          "text": [
            "傾き= [[5.18913464e-06]] 切片= [8.3237302]\n"
          ]
        }
      ]
    },
    {
      "cell_type": "code",
      "source": [
        "# 4区を含めて予測\n",
        "_tmp_2 = df_merge_price[df_merge_price['部屋タイプ'] == '1LDK・2LDK平均'].drop(columns=['部屋タイプ'])\n",
        "_tmp_2['家賃予測'] = mod_lin.predict(_tmp_2[['地価']])\n",
        "_tmp_stack = _tmp_2.drop(columns=['地価']).set_index('市区町村名').stack().reset_index().rename(columns={'level_1':'実績/予測', 0:'家賃'})"
      ],
      "metadata": {
        "id": "GlzHMpl_ug1N"
      },
      "execution_count": 32,
      "outputs": []
    },
    {
      "cell_type": "code",
      "source": [
        "plt.figure(figsize=(15, 5))\n",
        "sns.barplot(\n",
        "    x='市区町村名', y='家賃', hue='実績/予測',\n",
        "    data=_tmp_stack\n",
        ")\n",
        "plt.show()"
      ],
      "metadata": {
        "colab": {
          "base_uri": "https://localhost:8080/",
          "height": 333
        },
        "id": "s7u1LnwVx_5f",
        "outputId": "cddbb833-4caf-40c9-9ceb-63d3c0784860"
      },
      "execution_count": 33,
      "outputs": [
        {
          "output_type": "display_data",
          "data": {
            "text/plain": [
              "<Figure size 1080x360 with 1 Axes>"
            ],
            "image/png": "[encoded data removed]"
          },
          "metadata": {
            "needs_background": "light"
          }
        }
      ]
    },
    {
      "cell_type": "code",
      "source": [
        "# 家賃予測\n",
        "df_score['家賃予測'] = mod_lin.predict(df_score[['地価']]).round(2)"
      ],
      "metadata": {
        "id": "-dUstGXv0Uat"
      },
      "execution_count": 34,
      "outputs": []
    },
    {
      "cell_type": "code",
      "source": [
        "sns.histplot(df_score['家賃予測'], bins=20)\n",
        "plt.show()"
      ],
      "metadata": {
        "colab": {
          "base_uri": "https://localhost:8080/",
          "height": 278
        },
        "id": "x3cfP6z61LJs",
        "outputId": "5f2e4075-74e4-492a-914c-5768effc3d60"
      },
      "execution_count": 35,
      "outputs": [
        {
          "output_type": "display_data",
          "data": {
            "text/plain": [
              "<Figure size 432x288 with 1 Axes>"
            ],
            "image/png": "[encoded data removed]"
          },
          "metadata": {
            "needs_background": "light"
          }
        }
      ]
    },
    {
      "cell_type": "code",
      "source": [
        "df_score.sort_values('家賃予測', ascending=False).tail(20)"
      ],
      "metadata": {
        "colab": {
          "base_uri": "https://localhost:8080/",
          "height": 677
        },
        "id": "kM9Nd_pI2OYO",
        "outputId": "25766bba-91a7-4125-f81d-403f6f262fef"
      },
      "execution_count": 36,
      "outputs": [
        {
          "output_type": "execute_result",
          "data": {
            "text/plain": [
              "        地域ID 市区町村名     町丁目      地価  地価スコア  家賃予測\n",
              "2730  122161   葛飾区   水元２丁目  211500   0.04  9.42\n",
              "2729  122160   葛飾区   水元１丁目  211500   0.04  9.42\n",
              "2732  122163   葛飾区   水元４丁目  211500   0.04  9.42\n",
              "3047  121130   足立区   神明２丁目  207000   0.03  9.40\n",
              "3046  121129   足立区   神明１丁目  207000   0.03  9.40\n",
              "2905  121285   足立区  保木間５丁目  207000   0.03  9.40\n",
              "3048  121131   足立区   神明３丁目  207000   0.03  9.40\n",
              "2960  121293   足立区  南花畑３丁目  207000   0.03  9.40\n",
              "3126  121177   足立区   辰沼１丁目  198000   0.02  9.35\n",
              "3127  121178   足立区   辰沼２丁目  198000   0.02  9.35\n",
              "2708  122171   葛飾区  東水元５丁目  195000   0.02  9.34\n",
              "2733  122164   葛飾区   水元５丁目  195000   0.02  9.34\n",
              "2709  122172   葛飾区  東水元６丁目  195000   0.02  9.34\n",
              "2977  121298   足立区   宮城２丁目  191000   0.01  9.31\n",
              "2765  122183   葛飾区  西水元５丁目  189000   0.01  9.30\n",
              "2764  122182   葛飾区  西水元４丁目  189000   0.01  9.30\n",
              "2763  122181   葛飾区  西水元３丁目  189000   0.01  9.30\n",
              "2761  122179   葛飾区  西水元１丁目  189000   0.01  9.30\n",
              "2766  122184   葛飾区  西水元６丁目  189000   0.01  9.30\n",
              "2762  122180   葛飾区  西水元２丁目  189000   0.01  9.30"
            ],
            "text/html": [
              "\n",
              "  <div id=\"df-4c8bfc48-c924-4b5d-9b53-7137185eccf8\">\n",
              "    <div class=\"colab-df-container\">\n",
              "      <div>\n",
              "<style scoped>\n",
              "    .dataframe tbody tr th:only-of-type {\n",
              "        vertical-align: middle;\n",
              "    }\n",
              "\n",
              "    .dataframe tbody tr th {\n",
              "        vertical-align: top;\n",
              "    }\n",
              "\n",
              "    .dataframe thead th {\n",
              "        text-align: right;\n",
              "    }\n",
              "</style>\n",
              "<table border=\"1\" class=\"dataframe\">\n",
              "  <thead>\n",
              "    <tr style=\"text-align: right;\">\n",
              "      <th></th>\n",
              "      <th>地域ID</th>\n",
              "      <th>市区町村名</th>\n",
              "      <th>町丁目</th>\n",
              "      <th>地価</th>\n",
              "      <th>地価スコア</th>\n",
              "      <th>家賃予測</th>\n",
              "    </tr>\n",
              "  </thead>\n",
              "  <tbody>\n",
              "    <tr>\n",
              "      <th>2730</th>\n",
              "      <td>122161</td>\n",
              "      <td>葛飾区</td>\n",
              "      <td>水元２丁目</td>\n",
              "      <td>211500</td>\n",
              "      <td>0.04</td>\n",
              "      <td>9.42</td>\n",
              "    </tr>\n",
              "    <tr>\n",
              "      <th>2729</th>\n",
              "      <td>122160</td>\n",
              "      <td>葛飾区</td>\n",
              "      <td>水元１丁目</td>\n",
              "      <td>211500</td>\n",
              "      <td>0.04</td>\n",
              "      <td>9.42</td>\n",
              "    </tr>\n",
              "    <tr>\n",
              "      <th>2732</th>\n",
              "      <td>122163</td>\n",
              "      <td>葛飾区</td>\n",
              "      <td>水元４丁目</td>\n",
              "      <td>211500</td>\n",
              "      <td>0.04</td>\n",
              "      <td>9.42</td>\n",
              "    </tr>\n",
              "    <tr>\n",
              "      <th>3047</th>\n",
              "      <td>121130</td>\n",
              "      <td>足立区</td>\n",
              "      <td>神明２丁目</td>\n",
              "      <td>207000</td>\n",
              "      <td>0.03</td>\n",
              "      <td>9.40</td>\n",
              "    </tr>\n",
              "    <tr>\n",
              "      <th>3046</th>\n",
              "      <td>121129</td>\n",
              "      <td>足立区</td>\n",
              "      <td>神明１丁目</td>\n",
              "      <td>207000</td>\n",
              "      <td>0.03</td>\n",
              "      <td>9.40</td>\n",
              "    </tr>\n",
              "    <tr>\n",
              "      <th>2905</th>\n",
              "      <td>121285</td>\n",
              "      <td>足立区</td>\n",
              "      <td>保木間５丁目</td>\n",
              "      <td>207000</td>\n",
              "      <td>0.03</td>\n",
              "      <td>9.40</td>\n",
              "    </tr>\n",
              "    <tr>\n",
              "      <th>3048</th>\n",
              "      <td>121131</td>\n",
              "      <td>足立区</td>\n",
              "      <td>神明３丁目</td>\n",
              "      <td>207000</td>\n",
              "      <td>0.03</td>\n",
              "      <td>9.40</td>\n",
              "    </tr>\n",
              "    <tr>\n",
              "      <th>2960</th>\n",
              "      <td>121293</td>\n",
              "      <td>足立区</td>\n",
              "      <td>南花畑３丁目</td>\n",
              "      <td>207000</td>\n",
              "      <td>0.03</td>\n",
              "      <td>9.40</td>\n",
              "    </tr>\n",
              "    <tr>\n",
              "      <th>3126</th>\n",
              "      <td>121177</td>\n",
              "      <td>足立区</td>\n",
              "      <td>辰沼１丁目</td>\n",
              "      <td>198000</td>\n",
              "      <td>0.02</td>\n",
              "      <td>9.35</td>\n",
              "    </tr>\n",
              "    <tr>\n",
              "      <th>3127</th>\n",
              "      <td>121178</td>\n",
              "      <td>足立区</td>\n",
              "      <td>辰沼２丁目</td>\n",
              "      <td>198000</td>\n",
              "      <td>0.02</td>\n",
              "      <td>9.35</td>\n",
              "    </tr>\n",
              "    <tr>\n",
              "      <th>2708</th>\n",
              "      <td>122171</td>\n",
              "      <td>葛飾区</td>\n",
              "      <td>東水元５丁目</td>\n",
              "      <td>195000</td>\n",
              "      <td>0.02</td>\n",
              "      <td>9.34</td>\n",
              "    </tr>\n",
              "    <tr>\n",
              "      <th>2733</th>\n",
              "      <td>122164</td>\n",
              "      <td>葛飾区</td>\n",
              "      <td>水元５丁目</td>\n",
              "      <td>195000</td>\n",
              "      <td>0.02</td>\n",
              "      <td>9.34</td>\n",
              "    </tr>\n",
              "    <tr>\n",
              "      <th>2709</th>\n",
              "      <td>122172</td>\n",
              "      <td>葛飾区</td>\n",
              "      <td>東水元６丁目</td>\n",
              "      <td>195000</td>\n",
              "      <td>0.02</td>\n",
              "      <td>9.34</td>\n",
              "    </tr>\n",
              "    <tr>\n",
              "      <th>2977</th>\n",
              "      <td>121298</td>\n",
              "      <td>足立区</td>\n",
              "      <td>宮城２丁目</td>\n",
              "      <td>191000</td>\n",
              "      <td>0.01</td>\n",
              "      <td>9.31</td>\n",
              "    </tr>\n",
              "    <tr>\n",
              "      <th>2765</th>\n",
              "      <td>122183</td>\n",
              "      <td>葛飾区</td>\n",
              "      <td>西水元５丁目</td>\n",
              "      <td>189000</td>\n",
              "      <td>0.01</td>\n",
              "      <td>9.30</td>\n",
              "    </tr>\n",
              "    <tr>\n",
              "      <th>2764</th>\n",
              "      <td>122182</td>\n",
              "      <td>葛飾区</td>\n",
              "      <td>西水元４丁目</td>\n",
              "      <td>189000</td>\n",
              "      <td>0.01</td>\n",
              "      <td>9.30</td>\n",
              "    </tr>\n",
              "    <tr>\n",
              "      <th>2763</th>\n",
              "      <td>122181</td>\n",
              "      <td>葛飾区</td>\n",
              "      <td>西水元３丁目</td>\n",
              "      <td>189000</td>\n",
              "      <td>0.01</td>\n",
              "      <td>9.30</td>\n",
              "    </tr>\n",
              "    <tr>\n",
              "      <th>2761</th>\n",
              "      <td>122179</td>\n",
              "      <td>葛飾区</td>\n",
              "      <td>西水元１丁目</td>\n",
              "      <td>189000</td>\n",
              "      <td>0.01</td>\n",
              "      <td>9.30</td>\n",
              "    </tr>\n",
              "    <tr>\n",
              "      <th>2766</th>\n",
              "      <td>122184</td>\n",
              "      <td>葛飾区</td>\n",
              "      <td>西水元６丁目</td>\n",
              "      <td>189000</td>\n",
              "      <td>0.01</td>\n",
              "      <td>9.30</td>\n",
              "    </tr>\n",
              "    <tr>\n",
              "      <th>2762</th>\n",
              "      <td>122180</td>\n",
              "      <td>葛飾区</td>\n",
              "      <td>西水元２丁目</td>\n",
              "      <td>189000</td>\n",
              "      <td>0.01</td>\n",
              "      <td>9.30</td>\n",
              "    </tr>\n",
              "  </tbody>\n",
              "</table>\n",
              "</div>\n",
              "      <button class=\"colab-df-convert\" onclick=\"convertToInteractive('df-4c8bfc48-c924-4b5d-9b53-7137185eccf8')\"\n",
              "              title=\"Convert this dataframe to an interactive table.\"\n",
              "              style=\"display:none;\">\n",
              "        \n",
              "  <svg xmlns=\"http://www.w3.org/2000/svg\" height=\"24px\"viewBox=\"0 0 24 24\"\n",
              "       width=\"24px\">\n",
              "    <path d=\"M0 0h24v24H0V0z\" fill=\"none\"/>\n",
              "    <path d=\"M18.56 5.44l.94 2.06.94-2.06 2.06-.94-2.06-.94-.94-2.06-.94 2.06-2.06.94zm-11 1L8.5 8.5l.94-2.06 2.06-.94-2.06-.94L8.5 2.5l-.94 2.06-2.06.94zm10 10l.94 2.06.94-2.06 2.06-.94-2.06-.94-.94-2.06-.94 2.06-2.06.94z\"/><path d=\"M17.41 7.96l-1.37-1.37c-.4-.4-.92-.59-1.43-.59-.52 0-1.04.2-1.43.59L10.3 9.45l-7.72 7.72c-.78.78-.78 2.05 0 2.83L4 21.41c.39.39.9.59 1.41.59.51 0 1.02-.2 1.41-.59l7.78-7.78 2.81-2.81c.8-.78.8-2.07 0-2.86zM5.41 20L4 18.59l7.72-7.72 1.47 1.35L5.41 20z\"/>\n",
              "  </svg>\n",
              "      </button>\n",
              "      \n",
              "  <style>\n",
              "    .colab-df-container {\n",
              "      display:flex;\n",
              "      flex-wrap:wrap;\n",
              "      gap: 12px;\n",
              "    }\n",
              "\n",
              "    .colab-df-convert {\n",
              "      background-color: #E8F0FE;\n",
              "      border: none;\n",
              "      border-radius: 50%;\n",
              "      cursor: pointer;\n",
              "      display: none;\n",
              "      fill: #1967D2;\n",
              "      height: 32px;\n",
              "      padding: 0 0 0 0;\n",
              "      width: 32px;\n",
              "    }\n",
              "\n",
              "    .colab-df-convert:hover {\n",
              "      background-color: #E2EBFA;\n",
              "      box-shadow: 0px 1px 2px rgba(60, 64, 67, 0.3), 0px 1px 3px 1px rgba(60, 64, 67, 0.15);\n",
              "      fill: #174EA6;\n",
              "    }\n",
              "\n",
              "    [theme=dark] .colab-df-convert {\n",
              "      background-color: #3B4455;\n",
              "      fill: #D2E3FC;\n",
              "    }\n",
              "\n",
              "    [theme=dark] .colab-df-convert:hover {\n",
              "      background-color: #434B5C;\n",
              "      box-shadow: 0px 1px 3px 1px rgba(0, 0, 0, 0.15);\n",
              "      filter: drop-shadow(0px 1px 2px rgba(0, 0, 0, 0.3));\n",
              "      fill: #FFFFFF;\n",
              "    }\n",
              "  </style>\n",
              "\n",
              "      <script>\n",
              "        const buttonEl =\n",
              "          document.querySelector('#df-4c8bfc48-c924-4b5d-9b53-7137185eccf8 button.colab-df-convert');\n",
              "        buttonEl.style.display =\n",
              "          google.colab.kernel.accessAllowed ? 'block' : 'none';\n",
              "\n",
              "        async function convertToInteractive(key) {\n",
              "          const element = document.querySelector('#df-4c8bfc48-c924-4b5d-9b53-7137185eccf8');\n",
              "          const dataTable =\n",
              "            await google.colab.kernel.invokeFunction('convertToInteractive',\n",
              "                                                     [key], {});\n",
              "          if (!dataTable) return;\n",
              "\n",
              "          const docLinkHtml = 'Like what you see? Visit the ' +\n",
              "            '<a target=\"_blank\" href=https://colab.research.google.com/notebooks/data_table.ipynb>data table notebook</a>'\n",
              "            + ' to learn more about interactive tables.';\n",
              "          element.innerHTML = '';\n",
              "          dataTable['output_type'] = 'display_data';\n",
              "          await google.colab.output.renderOutput(dataTable, element);\n",
              "          const docLink = document.createElement('div');\n",
              "          docLink.innerHTML = docLinkHtml;\n",
              "          element.appendChild(docLink);\n",
              "        }\n",
              "      </script>\n",
              "    </div>\n",
              "  </div>\n",
              "  "
            ]
          },
          "metadata": {},
          "execution_count": 36
        }
      ]
    },
    {
      "cell_type": "markdown",
      "source": [
        "### 保存"
      ],
      "metadata": {
        "id": "Du5PlPVrS_Pr"
      }
    },
    {
      "cell_type": "code",
      "source": [
        "df_land_score = df_score[['地域ID', '地価', '家賃予測', '地価スコア']].sort_values('地域ID').reset_index(drop=True)\n",
        "df_land_score.to_csv(os.path.join(DIR_NAME, 'land_price_score.csv'), index=False)"
      ],
      "metadata": {
        "id": "nKEsPpvd2RY6"
      },
      "execution_count": 38,
      "outputs": []
    },
    {
      "cell_type": "code",
      "source": [],
      "metadata": {
        "id": "eRPW-L2P34Ko"
      },
      "execution_count": null,
      "outputs": []
    }
  ]
}