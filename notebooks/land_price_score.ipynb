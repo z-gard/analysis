{
  "nbformat": 4,
  "nbformat_minor": 0,
  "metadata": {
    "colab": {
      "provenance": [],
      "authorship_tag": "ABX9TyNTX8pEIKjXGnNLL0Qb/vpq",
      "include_colab_link": true
    },
    "kernelspec": {
      "name": "python3",
      "display_name": "Python 3"
    },
    "language_info": {
      "name": "python"
    }
  },
  "cells": [
    {
      "cell_type": "markdown",
      "metadata": {
        "id": "view-in-github",
        "colab_type": "text"
      },
      "source": [
        "<a href=\"https://colab.research.google.com/github/z-gard/analysis/blob/main/notebooks/land_price_score.ipynb\" target=\"_parent\"><img src=\"https://colab.research.google.com/assets/colab-badge.svg\" alt=\"Open In Colab\"/></a>"
      ]
    },
    {
      "cell_type": "markdown",
      "source": [
        "# 地価・家賃\n",
        "- [国土交通省地価公示 鑑定評価書情報CSV](https://www.land.mlit.go.jp/landPrice/CSVDownloadServlet)\n",
        "- [賃料相場：東京都](https://www.hatomarksite.com/analytics/stat/rent/13/)"
      ],
      "metadata": {
        "id": "4iyinw5TSXVI"
      }
    },
    {
      "cell_type": "code",
      "source": [
        "!pip install -q japanize-matplotlib"
      ],
      "metadata": {
        "id": "6snwz9Lfm32L"
      },
      "execution_count": 1,
      "outputs": []
    },
    {
      "cell_type": "code",
      "execution_count": 2,
      "metadata": {
        "colab": {
          "base_uri": "https://localhost:8080/"
        },
        "id": "ARHF5Ft4mfPc",
        "outputId": "11e743b7-3adb-4568-bb5e-952967d6593c"
      },
      "outputs": [
        {
          "output_type": "stream",
          "name": "stdout",
          "text": [
            "Drive already mounted at /content/drive; to attempt to forcibly remount, call drive.mount(\"/content/drive\", force_remount=True).\n"
          ]
        }
      ],
      "source": [
        "from google.colab import drive\n",
        "drive.mount('/content/drive')"
      ]
    },
    {
      "cell_type": "code",
      "source": [
        "DIR_NAME = '/content/drive/MyDrive/z-gard/data'"
      ],
      "metadata": {
        "id": "2N_57hcUml7_"
      },
      "execution_count": 3,
      "outputs": []
    },
    {
      "cell_type": "code",
      "source": [
        "import os\n",
        "import pandas as pd\n",
        "import matplotlib.pyplot as plt\n",
        "import japanize_matplotlib\n",
        "import seaborn as sns\n",
        "import numpy as np\n",
        "\n",
        "pd.set_option('display.max_columns', 50)\n",
        "pd.set_option('display.max_rows', 100)"
      ],
      "metadata": {
        "id": "RRoiUlk8m0Kk"
      },
      "execution_count": 4,
      "outputs": []
    },
    {
      "cell_type": "markdown",
      "source": [
        "## 地価"
      ],
      "metadata": {
        "id": "cwg6uoHOz4kB"
      }
    },
    {
      "cell_type": "code",
      "source": [
        "read_columns = [\n",
        "    '価格時点', '県コード', '市区町村コード', '地域名', '用途区分', '連番', '7', '8', '9', '10', '11', '12', '13', '14', '15', '16', '17', '18', \n",
        "    '鑑定評価額', '1㎡当たりの価格', '21', '22', '年', '相続税路線価', '倍率', '倍率種別', '所在地番', '住居表示', '仮換地番号', '地積', '内私道分', \n",
        "    '形状', '間口', '奥行', '現況', '構造', '地上階数', '地下階数', '周辺の利用状況', '方位', '駅前区分', '道路幅員', '舗装状況', '道路の種類', '側道方位', \n",
        "    '側道等接面状況', '水道', 'ガス', '下水道', '交通施設', '距離', '近接区分', '区域区分', '用途地域', '指定建ぺい率', '指定容積率', '防火地域', '自然公園法'\n",
        "]\n",
        "use_cols = list(range(len(read_columns)))"
      ],
      "metadata": {
        "id": "F-rdoGWuoFfM"
      },
      "execution_count": 5,
      "outputs": []
    },
    {
      "cell_type": "code",
      "source": [
        "df_takuchi = pd.read_csv(\n",
        "    os.path.join(DIR_NAME, 'original/2022_TAKUCHI_k_13.csv'), \n",
        "    encoding='cp932', header=None, usecols=use_cols, names=read_columns\n",
        ")\n",
        "print(df_takuchi.shape)"
      ],
      "metadata": {
        "colab": {
          "base_uri": "https://localhost:8080/"
        },
        "id": "dOV9YxdpmxOp",
        "outputId": "c872a92e-efd9-4962-9c1a-881599c91b8b"
      },
      "execution_count": 6,
      "outputs": [
        {
          "output_type": "stream",
          "name": "stdout",
          "text": [
            "(5188, 58)\n"
          ]
        },
        {
          "output_type": "stream",
          "name": "stderr",
          "text": [
            "/usr/local/lib/python3.7/dist-packages/IPython/core/interactiveshell.py:3326: DtypeWarning: Columns (25,28) have mixed types.Specify dtype option on import or set low_memory=False.\n",
            "  exec(code_obj, self.user_global_ns, self.user_ns)\n"
          ]
        }
      ]
    },
    {
      "cell_type": "code",
      "source": [
        "use_type = {0: '住宅地', 3: '宅地見込地', 5: '商業地', 7: '準工業地', 9: '工業地', 10: '調整区域内宅地', 13: '現況林地', 20: '林地',}\n",
        "df_takuchi['用途区分'] = df_takuchi['用途区分'].map(use_type)"
      ],
      "metadata": {
        "id": "1sN70f9Y2KgL"
      },
      "execution_count": 7,
      "outputs": []
    },
    {
      "cell_type": "code",
      "source": [
        "df_takuchi_extract = df_takuchi[df_takuchi['市区町村コード'] < 200][[\n",
        "    '地域名', '用途区分', '鑑定評価額', '1㎡当たりの価格', '所在地番', '地積', '交通施設', '距離'\n",
        "]].rename(columns={'地域名': '市区町村名'}).drop_duplicates(subset='所在地番').reset_index(drop=True)\n",
        "df_takuchi_extract['市区町村名'] = df_takuchi_extract['市区町村名'] + '区'\n",
        "print(df_takuchi_extract.shape)\n",
        "assert df_takuchi_extract['市区町村名'].nunique() == 23"
      ],
      "metadata": {
        "colab": {
          "base_uri": "https://localhost:8080/"
        },
        "id": "HpDr43wbnIcz",
        "outputId": "2db6f93b-8c2b-4519-d6b7-51a3a9b6cd31"
      },
      "execution_count": 8,
      "outputs": [
        {
          "output_type": "stream",
          "name": "stdout",
          "text": [
            "(1594, 8)\n"
          ]
        }
      ]
    },
    {
      "cell_type": "code",
      "source": [
        "df_takuchi_extract['町名'] = df_takuchi_extract['所在地番'].str.extract('(.*?)[１２３４５６７８９]', expand=False)\n",
        "df_takuchi_extract['町丁目'] = df_takuchi_extract['所在地番'].str.extract('(.*丁目)', expand=False)\n",
        "df_takuchi_extract.loc[df_takuchi_extract['町丁目'].isna(), '町丁目'] = df_takuchi_extract['町名']"
      ],
      "metadata": {
        "id": "PuVXiBennlA2"
      },
      "execution_count": 9,
      "outputs": []
    },
    {
      "cell_type": "code",
      "source": [
        "df_takuchi_extract.head(10)"
      ],
      "metadata": {
        "colab": {
          "base_uri": "https://localhost:8080/",
          "height": 363
        },
        "id": "uDYKcYtr6eYG",
        "outputId": "fceaf29f-7b33-40c5-bb03-ba2ce4bded78"
      },
      "execution_count": 10,
      "outputs": [
        {
          "output_type": "execute_result",
          "data": {
            "text/plain": [
              "  市区町村名 用途区分         鑑定評価額  1㎡当たりの価格         所在地番     地積 交通施設   距離    町名  \\\n",
              "0  千代田区  住宅地    3140000000   3240000      三番町６番２５    969  半蔵門  500   三番町   \n",
              "1  千代田区  住宅地    1090000000   2040000    紀尾井町３番２７外    535  永田町  300  紀尾井町   \n",
              "2  千代田区  住宅地    9400000000   4150000      六番町６番１外   2266  四ツ谷  330   六番町   \n",
              "3  千代田区  住宅地     223000000   1570000    富士見１丁目８番６    142  飯田橋  360   富士見   \n",
              "4  千代田区  住宅地    4560000000   3020000   九段北２丁目６番２６   1511  九段下  450   九段北   \n",
              "5  千代田区  住宅地    1080000000   1830000   平河町２丁目２１番１    590  永田町  240   平河町   \n",
              "6  千代田区  住宅地    2440000000   3080000      一番町１６番３    792  半蔵門  220   一番町   \n",
              "7  千代田区  商業地   85100000000  13900000   大手町１丁目１１番外   6119   竹橋    0   大手町   \n",
              "8  千代田区  商業地  367000000000  36600000   丸の内２丁目２番１外  10027   東京    0   丸の内   \n",
              "9  千代田区  商業地     143000000   1300000  神田錦町２丁目７番１５    110   竹橋  400  神田錦町   \n",
              "\n",
              "       町丁目  \n",
              "0      三番町  \n",
              "1     紀尾井町  \n",
              "2      六番町  \n",
              "3   富士見１丁目  \n",
              "4   九段北２丁目  \n",
              "5   平河町２丁目  \n",
              "6      一番町  \n",
              "7   大手町１丁目  \n",
              "8   丸の内２丁目  \n",
              "9  神田錦町２丁目  "
            ],
            "text/html": [
              "\n",
              "  <div id=\"df-f1290ec9-5b5e-4075-bf15-365fdfe8e7e5\">\n",
              "    <div class=\"colab-df-container\">\n",
              "      <div>\n",
              "<style scoped>\n",
              "    .dataframe tbody tr th:only-of-type {\n",
              "        vertical-align: middle;\n",
              "    }\n",
              "\n",
              "    .dataframe tbody tr th {\n",
              "        vertical-align: top;\n",
              "    }\n",
              "\n",
              "    .dataframe thead th {\n",
              "        text-align: right;\n",
              "    }\n",
              "</style>\n",
              "<table border=\"1\" class=\"dataframe\">\n",
              "  <thead>\n",
              "    <tr style=\"text-align: right;\">\n",
              "      <th></th>\n",
              "      <th>市区町村名</th>\n",
              "      <th>用途区分</th>\n",
              "      <th>鑑定評価額</th>\n",
              "      <th>1㎡当たりの価格</th>\n",
              "      <th>所在地番</th>\n",
              "      <th>地積</th>\n",
              "      <th>交通施設</th>\n",
              "      <th>距離</th>\n",
              "      <th>町名</th>\n",
              "      <th>町丁目</th>\n",
              "    </tr>\n",
              "  </thead>\n",
              "  <tbody>\n",
              "    <tr>\n",
              "      <th>0</th>\n",
              "      <td>千代田区</td>\n",
              "      <td>住宅地</td>\n",
              "      <td>3140000000</td>\n",
              "      <td>3240000</td>\n",
              "      <td>三番町６番２５</td>\n",
              "      <td>969</td>\n",
              "      <td>半蔵門</td>\n",
              "      <td>500</td>\n",
              "      <td>三番町</td>\n",
              "      <td>三番町</td>\n",
              "    </tr>\n",
              "    <tr>\n",
              "      <th>1</th>\n",
              "      <td>千代田区</td>\n",
              "      <td>住宅地</td>\n",
              "      <td>1090000000</td>\n",
              "      <td>2040000</td>\n",
              "      <td>紀尾井町３番２７外</td>\n",
              "      <td>535</td>\n",
              "      <td>永田町</td>\n",
              "      <td>300</td>\n",
              "      <td>紀尾井町</td>\n",
              "      <td>紀尾井町</td>\n",
              "    </tr>\n",
              "    <tr>\n",
              "      <th>2</th>\n",
              "      <td>千代田区</td>\n",
              "      <td>住宅地</td>\n",
              "      <td>9400000000</td>\n",
              "      <td>4150000</td>\n",
              "      <td>六番町６番１外</td>\n",
              "      <td>2266</td>\n",
              "      <td>四ツ谷</td>\n",
              "      <td>330</td>\n",
              "      <td>六番町</td>\n",
              "      <td>六番町</td>\n",
              "    </tr>\n",
              "    <tr>\n",
              "      <th>3</th>\n",
              "      <td>千代田区</td>\n",
              "      <td>住宅地</td>\n",
              "      <td>223000000</td>\n",
              "      <td>1570000</td>\n",
              "      <td>富士見１丁目８番６</td>\n",
              "      <td>142</td>\n",
              "      <td>飯田橋</td>\n",
              "      <td>360</td>\n",
              "      <td>富士見</td>\n",
              "      <td>富士見１丁目</td>\n",
              "    </tr>\n",
              "    <tr>\n",
              "      <th>4</th>\n",
              "      <td>千代田区</td>\n",
              "      <td>住宅地</td>\n",
              "      <td>4560000000</td>\n",
              "      <td>3020000</td>\n",
              "      <td>九段北２丁目６番２６</td>\n",
              "      <td>1511</td>\n",
              "      <td>九段下</td>\n",
              "      <td>450</td>\n",
              "      <td>九段北</td>\n",
              "      <td>九段北２丁目</td>\n",
              "    </tr>\n",
              "    <tr>\n",
              "      <th>5</th>\n",
              "      <td>千代田区</td>\n",
              "      <td>住宅地</td>\n",
              "      <td>1080000000</td>\n",
              "      <td>1830000</td>\n",
              "      <td>平河町２丁目２１番１</td>\n",
              "      <td>590</td>\n",
              "      <td>永田町</td>\n",
              "      <td>240</td>\n",
              "      <td>平河町</td>\n",
              "      <td>平河町２丁目</td>\n",
              "    </tr>\n",
              "    <tr>\n",
              "      <th>6</th>\n",
              "      <td>千代田区</td>\n",
              "      <td>住宅地</td>\n",
              "      <td>2440000000</td>\n",
              "      <td>3080000</td>\n",
              "      <td>一番町１６番３</td>\n",
              "      <td>792</td>\n",
              "      <td>半蔵門</td>\n",
              "      <td>220</td>\n",
              "      <td>一番町</td>\n",
              "      <td>一番町</td>\n",
              "    </tr>\n",
              "    <tr>\n",
              "      <th>7</th>\n",
              "      <td>千代田区</td>\n",
              "      <td>商業地</td>\n",
              "      <td>85100000000</td>\n",
              "      <td>13900000</td>\n",
              "      <td>大手町１丁目１１番外</td>\n",
              "      <td>6119</td>\n",
              "      <td>竹橋</td>\n",
              "      <td>0</td>\n",
              "      <td>大手町</td>\n",
              "      <td>大手町１丁目</td>\n",
              "    </tr>\n",
              "    <tr>\n",
              "      <th>8</th>\n",
              "      <td>千代田区</td>\n",
              "      <td>商業地</td>\n",
              "      <td>367000000000</td>\n",
              "      <td>36600000</td>\n",
              "      <td>丸の内２丁目２番１外</td>\n",
              "      <td>10027</td>\n",
              "      <td>東京</td>\n",
              "      <td>0</td>\n",
              "      <td>丸の内</td>\n",
              "      <td>丸の内２丁目</td>\n",
              "    </tr>\n",
              "    <tr>\n",
              "      <th>9</th>\n",
              "      <td>千代田区</td>\n",
              "      <td>商業地</td>\n",
              "      <td>143000000</td>\n",
              "      <td>1300000</td>\n",
              "      <td>神田錦町２丁目７番１５</td>\n",
              "      <td>110</td>\n",
              "      <td>竹橋</td>\n",
              "      <td>400</td>\n",
              "      <td>神田錦町</td>\n",
              "      <td>神田錦町２丁目</td>\n",
              "    </tr>\n",
              "  </tbody>\n",
              "</table>\n",
              "</div>\n",
              "      <button class=\"colab-df-convert\" onclick=\"convertToInteractive('df-f1290ec9-5b5e-4075-bf15-365fdfe8e7e5')\"\n",
              "              title=\"Convert this dataframe to an interactive table.\"\n",
              "              style=\"display:none;\">\n",
              "        \n",
              "  <svg xmlns=\"http://www.w3.org/2000/svg\" height=\"24px\"viewBox=\"0 0 24 24\"\n",
              "       width=\"24px\">\n",
              "    <path d=\"M0 0h24v24H0V0z\" fill=\"none\"/>\n",
              "    <path d=\"M18.56 5.44l.94 2.06.94-2.06 2.06-.94-2.06-.94-.94-2.06-.94 2.06-2.06.94zm-11 1L8.5 8.5l.94-2.06 2.06-.94-2.06-.94L8.5 2.5l-.94 2.06-2.06.94zm10 10l.94 2.06.94-2.06 2.06-.94-2.06-.94-.94-2.06-.94 2.06-2.06.94z\"/><path d=\"M17.41 7.96l-1.37-1.37c-.4-.4-.92-.59-1.43-.59-.52 0-1.04.2-1.43.59L10.3 9.45l-7.72 7.72c-.78.78-.78 2.05 0 2.83L4 21.41c.39.39.9.59 1.41.59.51 0 1.02-.2 1.41-.59l7.78-7.78 2.81-2.81c.8-.78.8-2.07 0-2.86zM5.41 20L4 18.59l7.72-7.72 1.47 1.35L5.41 20z\"/>\n",
              "  </svg>\n",
              "      </button>\n",
              "      \n",
              "  <style>\n",
              "    .colab-df-container {\n",
              "      display:flex;\n",
              "      flex-wrap:wrap;\n",
              "      gap: 12px;\n",
              "    }\n",
              "\n",
              "    .colab-df-convert {\n",
              "      background-color: #E8F0FE;\n",
              "      border: none;\n",
              "      border-radius: 50%;\n",
              "      cursor: pointer;\n",
              "      display: none;\n",
              "      fill: #1967D2;\n",
              "      height: 32px;\n",
              "      padding: 0 0 0 0;\n",
              "      width: 32px;\n",
              "    }\n",
              "\n",
              "    .colab-df-convert:hover {\n",
              "      background-color: #E2EBFA;\n",
              "      box-shadow: 0px 1px 2px rgba(60, 64, 67, 0.3), 0px 1px 3px 1px rgba(60, 64, 67, 0.15);\n",
              "      fill: #174EA6;\n",
              "    }\n",
              "\n",
              "    [theme=dark] .colab-df-convert {\n",
              "      background-color: #3B4455;\n",
              "      fill: #D2E3FC;\n",
              "    }\n",
              "\n",
              "    [theme=dark] .colab-df-convert:hover {\n",
              "      background-color: #434B5C;\n",
              "      box-shadow: 0px 1px 3px 1px rgba(0, 0, 0, 0.15);\n",
              "      filter: drop-shadow(0px 1px 2px rgba(0, 0, 0, 0.3));\n",
              "      fill: #FFFFFF;\n",
              "    }\n",
              "  </style>\n",
              "\n",
              "      <script>\n",
              "        const buttonEl =\n",
              "          document.querySelector('#df-f1290ec9-5b5e-4075-bf15-365fdfe8e7e5 button.colab-df-convert');\n",
              "        buttonEl.style.display =\n",
              "          google.colab.kernel.accessAllowed ? 'block' : 'none';\n",
              "\n",
              "        async function convertToInteractive(key) {\n",
              "          const element = document.querySelector('#df-f1290ec9-5b5e-4075-bf15-365fdfe8e7e5');\n",
              "          const dataTable =\n",
              "            await google.colab.kernel.invokeFunction('convertToInteractive',\n",
              "                                                     [key], {});\n",
              "          if (!dataTable) return;\n",
              "\n",
              "          const docLinkHtml = 'Like what you see? Visit the ' +\n",
              "            '<a target=\"_blank\" href=https://colab.research.google.com/notebooks/data_table.ipynb>data table notebook</a>'\n",
              "            + ' to learn more about interactive tables.';\n",
              "          element.innerHTML = '';\n",
              "          dataTable['output_type'] = 'display_data';\n",
              "          await google.colab.output.renderOutput(dataTable, element);\n",
              "          const docLink = document.createElement('div');\n",
              "          docLink.innerHTML = docLinkHtml;\n",
              "          element.appendChild(docLink);\n",
              "        }\n",
              "      </script>\n",
              "    </div>\n",
              "  </div>\n",
              "  "
            ]
          },
          "metadata": {},
          "execution_count": 10
        }
      ]
    },
    {
      "cell_type": "markdown",
      "source": [
        "### 人口マスタ"
      ],
      "metadata": {
        "id": "wYOMpF8J_ihp"
      }
    },
    {
      "cell_type": "code",
      "source": [
        "df_population = pd.read_csv(os.path.join(DIR_NAME, 'population_master.csv'))[\n",
        "    ['地域ID', '市区町村名', '町名', '町丁目', '経度', '緯度']\n",
        "].set_index(['市区町村名', '町名', '町丁目'])\n",
        "df_population['地域ID'] = df_population['地域ID'].astype(str)\n",
        "print(df_population.shape)"
      ],
      "metadata": {
        "colab": {
          "base_uri": "https://localhost:8080/"
        },
        "id": "f6L1VVFw_h8J",
        "outputId": "aa6ef507-ccc1-491a-8253-13ad5b462cb8"
      },
      "execution_count": 11,
      "outputs": [
        {
          "output_type": "stream",
          "name": "stdout",
          "text": [
            "(3145, 3)\n"
          ]
        }
      ]
    },
    {
      "cell_type": "markdown",
      "source": [
        "### 人口データ + 地価"
      ],
      "metadata": {
        "id": "4OB0z0fUR49I"
      }
    },
    {
      "cell_type": "code",
      "source": [
        "df_pop_takuchi = pd.concat([\n",
        "    df_population, \n",
        "    df_takuchi_extract.groupby(['市区町村名', '町名', '町丁目'])['1㎡当たりの価格'].mean()\n",
        "], axis=1).reset_index()\n",
        "print(df_pop_takuchi.shape)"
      ],
      "metadata": {
        "colab": {
          "base_uri": "https://localhost:8080/"
        },
        "id": "QYAM6ubr3jJp",
        "outputId": "df0891cd-817e-4b5a-9c6a-c03667073f72"
      },
      "execution_count": 12,
      "outputs": [
        {
          "output_type": "stream",
          "name": "stdout",
          "text": [
            "(3156, 7)\n"
          ]
        }
      ]
    },
    {
      "cell_type": "code",
      "source": [
        "# 人口データになくて、地価データがあるレコード\n",
        "df_pop_takuchi[df_pop_takuchi['地域ID'].isna()]"
      ],
      "metadata": {
        "colab": {
          "base_uri": "https://localhost:8080/",
          "height": 394
        },
        "id": "LFFwZ0zuRAQN",
        "outputId": "c018da0e-9848-466e-e518-712f068df811"
      },
      "execution_count": 13,
      "outputs": [
        {
          "output_type": "execute_result",
          "data": {
            "text/plain": [
              "     市区町村名      町名        町丁目 地域ID  経度  緯度    1㎡当たりの価格\n",
              "290    中央区     八重洲     八重洲１丁目  NaN NaN NaN  15150000.0\n",
              "291    中央区     八重洲     八重洲２丁目  NaN NaN NaN  12800000.0\n",
              "340    中央区  日本橋蛎殻町  日本橋蛎殻町１丁目  NaN NaN NaN   2330000.0\n",
              "341    中央区  日本橋蛎殻町  日本橋蛎殻町２丁目  NaN NaN NaN   1080000.0\n",
              "548     北区     西ケ原     西ケ原１丁目  NaN NaN NaN    871000.0\n",
              "549     北区     西ケ原     西ケ原３丁目  NaN NaN NaN    524000.0\n",
              "635   千代田区   神田三崎町   神田三崎町３丁目  NaN NaN NaN   2275000.0\n",
              "656   千代田区   神田猿楽町   神田猿楽町２丁目  NaN NaN NaN   1600000.0\n",
              "1367   新宿区   四谷三栄町      四谷三栄町  NaN NaN NaN   1112500.0\n",
              "2162   渋谷区      松濤      松濤１丁目  NaN NaN NaN   1860000.0\n",
              "2163   渋谷区      松濤      松濤２丁目  NaN NaN NaN   1430000.0"
            ],
            "text/html": [
              "\n",
              "  <div id=\"df-4ce81dd6-dae1-466e-b7c5-6a330783e825\">\n",
              "    <div class=\"colab-df-container\">\n",
              "      <div>\n",
              "<style scoped>\n",
              "    .dataframe tbody tr th:only-of-type {\n",
              "        vertical-align: middle;\n",
              "    }\n",
              "\n",
              "    .dataframe tbody tr th {\n",
              "        vertical-align: top;\n",
              "    }\n",
              "\n",
              "    .dataframe thead th {\n",
              "        text-align: right;\n",
              "    }\n",
              "</style>\n",
              "<table border=\"1\" class=\"dataframe\">\n",
              "  <thead>\n",
              "    <tr style=\"text-align: right;\">\n",
              "      <th></th>\n",
              "      <th>市区町村名</th>\n",
              "      <th>町名</th>\n",
              "      <th>町丁目</th>\n",
              "      <th>地域ID</th>\n",
              "      <th>経度</th>\n",
              "      <th>緯度</th>\n",
              "      <th>1㎡当たりの価格</th>\n",
              "    </tr>\n",
              "  </thead>\n",
              "  <tbody>\n",
              "    <tr>\n",
              "      <th>290</th>\n",
              "      <td>中央区</td>\n",
              "      <td>八重洲</td>\n",
              "      <td>八重洲１丁目</td>\n",
              "      <td>NaN</td>\n",
              "      <td>NaN</td>\n",
              "      <td>NaN</td>\n",
              "      <td>15150000.0</td>\n",
              "    </tr>\n",
              "    <tr>\n",
              "      <th>291</th>\n",
              "      <td>中央区</td>\n",
              "      <td>八重洲</td>\n",
              "      <td>八重洲２丁目</td>\n",
              "      <td>NaN</td>\n",
              "      <td>NaN</td>\n",
              "      <td>NaN</td>\n",
              "      <td>12800000.0</td>\n",
              "    </tr>\n",
              "    <tr>\n",
              "      <th>340</th>\n",
              "      <td>中央区</td>\n",
              "      <td>日本橋蛎殻町</td>\n",
              "      <td>日本橋蛎殻町１丁目</td>\n",
              "      <td>NaN</td>\n",
              "      <td>NaN</td>\n",
              "      <td>NaN</td>\n",
              "      <td>2330000.0</td>\n",
              "    </tr>\n",
              "    <tr>\n",
              "      <th>341</th>\n",
              "      <td>中央区</td>\n",
              "      <td>日本橋蛎殻町</td>\n",
              "      <td>日本橋蛎殻町２丁目</td>\n",
              "      <td>NaN</td>\n",
              "      <td>NaN</td>\n",
              "      <td>NaN</td>\n",
              "      <td>1080000.0</td>\n",
              "    </tr>\n",
              "    <tr>\n",
              "      <th>548</th>\n",
              "      <td>北区</td>\n",
              "      <td>西ケ原</td>\n",
              "      <td>西ケ原１丁目</td>\n",
              "      <td>NaN</td>\n",
              "      <td>NaN</td>\n",
              "      <td>NaN</td>\n",
              "      <td>871000.0</td>\n",
              "    </tr>\n",
              "    <tr>\n",
              "      <th>549</th>\n",
              "      <td>北区</td>\n",
              "      <td>西ケ原</td>\n",
              "      <td>西ケ原３丁目</td>\n",
              "      <td>NaN</td>\n",
              "      <td>NaN</td>\n",
              "      <td>NaN</td>\n",
              "      <td>524000.0</td>\n",
              "    </tr>\n",
              "    <tr>\n",
              "      <th>635</th>\n",
              "      <td>千代田区</td>\n",
              "      <td>神田三崎町</td>\n",
              "      <td>神田三崎町３丁目</td>\n",
              "      <td>NaN</td>\n",
              "      <td>NaN</td>\n",
              "      <td>NaN</td>\n",
              "      <td>2275000.0</td>\n",
              "    </tr>\n",
              "    <tr>\n",
              "      <th>656</th>\n",
              "      <td>千代田区</td>\n",
              "      <td>神田猿楽町</td>\n",
              "      <td>神田猿楽町２丁目</td>\n",
              "      <td>NaN</td>\n",
              "      <td>NaN</td>\n",
              "      <td>NaN</td>\n",
              "      <td>1600000.0</td>\n",
              "    </tr>\n",
              "    <tr>\n",
              "      <th>1367</th>\n",
              "      <td>新宿区</td>\n",
              "      <td>四谷三栄町</td>\n",
              "      <td>四谷三栄町</td>\n",
              "      <td>NaN</td>\n",
              "      <td>NaN</td>\n",
              "      <td>NaN</td>\n",
              "      <td>1112500.0</td>\n",
              "    </tr>\n",
              "    <tr>\n",
              "      <th>2162</th>\n",
              "      <td>渋谷区</td>\n",
              "      <td>松濤</td>\n",
              "      <td>松濤１丁目</td>\n",
              "      <td>NaN</td>\n",
              "      <td>NaN</td>\n",
              "      <td>NaN</td>\n",
              "      <td>1860000.0</td>\n",
              "    </tr>\n",
              "    <tr>\n",
              "      <th>2163</th>\n",
              "      <td>渋谷区</td>\n",
              "      <td>松濤</td>\n",
              "      <td>松濤２丁目</td>\n",
              "      <td>NaN</td>\n",
              "      <td>NaN</td>\n",
              "      <td>NaN</td>\n",
              "      <td>1430000.0</td>\n",
              "    </tr>\n",
              "  </tbody>\n",
              "</table>\n",
              "</div>\n",
              "      <button class=\"colab-df-convert\" onclick=\"convertToInteractive('df-4ce81dd6-dae1-466e-b7c5-6a330783e825')\"\n",
              "              title=\"Convert this dataframe to an interactive table.\"\n",
              "              style=\"display:none;\">\n",
              "        \n",
              "  <svg xmlns=\"http://www.w3.org/2000/svg\" height=\"24px\"viewBox=\"0 0 24 24\"\n",
              "       width=\"24px\">\n",
              "    <path d=\"M0 0h24v24H0V0z\" fill=\"none\"/>\n",
              "    <path d=\"M18.56 5.44l.94 2.06.94-2.06 2.06-.94-2.06-.94-.94-2.06-.94 2.06-2.06.94zm-11 1L8.5 8.5l.94-2.06 2.06-.94-2.06-.94L8.5 2.5l-.94 2.06-2.06.94zm10 10l.94 2.06.94-2.06 2.06-.94-2.06-.94-.94-2.06-.94 2.06-2.06.94z\"/><path d=\"M17.41 7.96l-1.37-1.37c-.4-.4-.92-.59-1.43-.59-.52 0-1.04.2-1.43.59L10.3 9.45l-7.72 7.72c-.78.78-.78 2.05 0 2.83L4 21.41c.39.39.9.59 1.41.59.51 0 1.02-.2 1.41-.59l7.78-7.78 2.81-2.81c.8-.78.8-2.07 0-2.86zM5.41 20L4 18.59l7.72-7.72 1.47 1.35L5.41 20z\"/>\n",
              "  </svg>\n",
              "      </button>\n",
              "      \n",
              "  <style>\n",
              "    .colab-df-container {\n",
              "      display:flex;\n",
              "      flex-wrap:wrap;\n",
              "      gap: 12px;\n",
              "    }\n",
              "\n",
              "    .colab-df-convert {\n",
              "      background-color: #E8F0FE;\n",
              "      border: none;\n",
              "      border-radius: 50%;\n",
              "      cursor: pointer;\n",
              "      display: none;\n",
              "      fill: #1967D2;\n",
              "      height: 32px;\n",
              "      padding: 0 0 0 0;\n",
              "      width: 32px;\n",
              "    }\n",
              "\n",
              "    .colab-df-convert:hover {\n",
              "      background-color: #E2EBFA;\n",
              "      box-shadow: 0px 1px 2px rgba(60, 64, 67, 0.3), 0px 1px 3px 1px rgba(60, 64, 67, 0.15);\n",
              "      fill: #174EA6;\n",
              "    }\n",
              "\n",
              "    [theme=dark] .colab-df-convert {\n",
              "      background-color: #3B4455;\n",
              "      fill: #D2E3FC;\n",
              "    }\n",
              "\n",
              "    [theme=dark] .colab-df-convert:hover {\n",
              "      background-color: #434B5C;\n",
              "      box-shadow: 0px 1px 3px 1px rgba(0, 0, 0, 0.15);\n",
              "      filter: drop-shadow(0px 1px 2px rgba(0, 0, 0, 0.3));\n",
              "      fill: #FFFFFF;\n",
              "    }\n",
              "  </style>\n",
              "\n",
              "      <script>\n",
              "        const buttonEl =\n",
              "          document.querySelector('#df-4ce81dd6-dae1-466e-b7c5-6a330783e825 button.colab-df-convert');\n",
              "        buttonEl.style.display =\n",
              "          google.colab.kernel.accessAllowed ? 'block' : 'none';\n",
              "\n",
              "        async function convertToInteractive(key) {\n",
              "          const element = document.querySelector('#df-4ce81dd6-dae1-466e-b7c5-6a330783e825');\n",
              "          const dataTable =\n",
              "            await google.colab.kernel.invokeFunction('convertToInteractive',\n",
              "                                                     [key], {});\n",
              "          if (!dataTable) return;\n",
              "\n",
              "          const docLinkHtml = 'Like what you see? Visit the ' +\n",
              "            '<a target=\"_blank\" href=https://colab.research.google.com/notebooks/data_table.ipynb>data table notebook</a>'\n",
              "            + ' to learn more about interactive tables.';\n",
              "          element.innerHTML = '';\n",
              "          dataTable['output_type'] = 'display_data';\n",
              "          await google.colab.output.renderOutput(dataTable, element);\n",
              "          const docLink = document.createElement('div');\n",
              "          docLink.innerHTML = docLinkHtml;\n",
              "          element.appendChild(docLink);\n",
              "        }\n",
              "      </script>\n",
              "    </div>\n",
              "  </div>\n",
              "  "
            ]
          },
          "metadata": {},
          "execution_count": 13
        }
      ]
    },
    {
      "cell_type": "code",
      "source": [
        "df_pop_takuchi = df_pop_takuchi[df_pop_takuchi['地域ID'].notna()].reset_index(drop=True)\n",
        "print(df_pop_takuchi.shape)\n",
        "print('「1㎡当たりの価格」がない町丁', len(df_pop_takuchi[(df_pop_takuchi['1㎡当たりの価格'].isna())]))\n",
        "\n",
        "# 「1㎡当たりの価格」がない町丁は、町ごとの平均値で埋める\n",
        "df_pop_takuchi['町ごとの平均価格'] = df_pop_takuchi.groupby('町名')['1㎡当たりの価格'].transform('mean')\n",
        "df_pop_takuchi.loc[df_pop_takuchi['1㎡当たりの価格'].isna(), '1㎡当たりの価格'] = df_pop_takuchi['町ごとの平均価格']\n",
        "print('「1㎡当たりの価格」がない町丁', len(df_pop_takuchi[(df_pop_takuchi['1㎡当たりの価格'].isna())]))"
      ],
      "metadata": {
        "colab": {
          "base_uri": "https://localhost:8080/"
        },
        "id": "ElhCspM24qsA",
        "outputId": "75730f69-485e-4eeb-ecfc-867a1fd9fe64"
      },
      "execution_count": 14,
      "outputs": [
        {
          "output_type": "stream",
          "name": "stdout",
          "text": [
            "(3145, 7)\n",
            "「1㎡当たりの価格」がない町丁 1821\n",
            "「1㎡当たりの価格」がない町丁 505\n"
          ]
        }
      ]
    },
    {
      "cell_type": "code",
      "source": [
        "df_pop_takuchi['緯度2'] = (df_pop_takuchi['緯度'].fillna(0) * 100).astype(int)\n",
        "df_pop_takuchi['経度2'] = (df_pop_takuchi['経度'].fillna(0) * 100).astype(int)\n",
        "df_pop_takuchi['緯度経度での平均価格'] = df_pop_takuchi.groupby(['緯度2', '経度2'])['1㎡当たりの価格'].transform('mean').round()\n",
        "df_pop_takuchi.loc[df_pop_takuchi['1㎡当たりの価格'].isna(), '1㎡当たりの価格'] = df_pop_takuchi['緯度経度での平均価格']\n",
        "\n",
        "# 「1㎡当たりの価格」がない町丁は、町ごとの平均値で埋める(2回目)\n",
        "df_pop_takuchi['町ごとの平均価格'] = df_pop_takuchi.groupby('町名')['1㎡当たりの価格'].transform('mean')\n",
        "df_pop_takuchi.loc[df_pop_takuchi['1㎡当たりの価格'].isna(), '1㎡当たりの価格'] = df_pop_takuchi['町ごとの平均価格']\n",
        "print('「1㎡当たりの価格」がない町丁', len(df_pop_takuchi[(df_pop_takuchi['1㎡当たりの価格'].isna())]))"
      ],
      "metadata": {
        "colab": {
          "base_uri": "https://localhost:8080/"
        },
        "id": "3B8WWHHSFK2L",
        "outputId": "d8d230da-fe19-4d0d-870c-8956e69e3a20"
      },
      "execution_count": 15,
      "outputs": [
        {
          "output_type": "stream",
          "name": "stdout",
          "text": [
            "「1㎡当たりの価格」がない町丁 30\n"
          ]
        }
      ]
    },
    {
      "cell_type": "code",
      "source": [
        "# 「1㎡当たりの価格」がない町丁は、区ごとの平均値で埋める\n",
        "df_pop_takuchi['区ごとの平均価格'] = df_pop_takuchi.groupby('市区町村名')['1㎡当たりの価格'].transform('mean')\n",
        "df_pop_takuchi.loc[df_pop_takuchi['1㎡当たりの価格'].isna(), '1㎡当たりの価格'] = df_pop_takuchi['区ごとの平均価格']\n",
        "print('「1㎡当たりの価格」がない町丁', len(df_pop_takuchi[(df_pop_takuchi['1㎡当たりの価格'].isna())]))\n",
        "df_pop_takuchi['1㎡当たりの価格'] = df_pop_takuchi['1㎡当たりの価格'].astype(int)"
      ],
      "metadata": {
        "colab": {
          "base_uri": "https://localhost:8080/"
        },
        "id": "QyTddlQRP9In",
        "outputId": "a7cbbe91-b93e-4708-fb2a-6035ac415ce3"
      },
      "execution_count": 16,
      "outputs": [
        {
          "output_type": "stream",
          "name": "stdout",
          "text": [
            "「1㎡当たりの価格」がない町丁 0\n"
          ]
        }
      ]
    },
    {
      "cell_type": "markdown",
      "source": [
        "### 地価スコア"
      ],
      "metadata": {
        "id": "Ug1j0yWQVhTc"
      }
    },
    {
      "cell_type": "code",
      "source": [
        "def normalize_score(sr_data, high=True, outlier=True):\n",
        "    score = (sr_data - sr_data.mean())/sr_data.std()\n",
        "    score = score if high else -score\n",
        "\n",
        "    if outlier:\n",
        "        high_s = score.quantile(0.99)\n",
        "        low_s = score.quantile(0.01)\n",
        "        score[score > high_s] = high_s\n",
        "        score[score < low_s] = low_s\n",
        "    else:\n",
        "        high_s = score.max()\n",
        "        low_s = score.min()\n",
        "        \n",
        "    return (score - low_s)/(high_s - low_s)\n",
        "\n",
        "\n",
        "def rank_score(sr_data):\n",
        "    size = sr_data.notna().sum()\n",
        "    rank = sr_data.rank()\n",
        "    result = rank.copy()\n",
        "    # 0~1: 15%, 1~2: 20%, 2~3: 30%, 3~4: 20%, 4~5: 15%\n",
        "    level_list = [0.15, (0.15+0.2), (0.15+0.2+0.3), (0.15+0.2+0.3+0.2), 1]\n",
        "    \n",
        "    pre_level = 0\n",
        "    for index, level in enumerate([lv*size for lv in level_list]):\n",
        "        result[(rank > pre_level)&(rank <= level)] = (rank - pre_level)/(level - pre_level) + index\n",
        "        pre_level = level\n",
        "\n",
        "    return result"
      ],
      "metadata": {
        "id": "7oWO7NHgVYhe"
      },
      "execution_count": 17,
      "outputs": []
    },
    {
      "cell_type": "code",
      "source": [
        "df_score = df_pop_takuchi[['地域ID', '市区町村名', '町丁目', '1㎡当たりの価格']].rename(columns={'1㎡当たりの価格':'地価'})\n",
        "feature_name = '地価'\n",
        "sns.histplot(df_score[feature_name], bins=20)\n",
        "plt.show()"
      ],
      "metadata": {
        "colab": {
          "base_uri": "https://localhost:8080/",
          "height": 278
        },
        "id": "siV_vDVPVj6p",
        "outputId": "43299087-3ce1-44e6-da5c-c7056bd2ebe8"
      },
      "execution_count": 18,
      "outputs": [
        {
          "output_type": "display_data",
          "data": {
            "text/plain": [
              "<Figure size 432x288 with 1 Axes>"
            ],
            "image/png": "[encoded data removed]"
          },
          "metadata": {
            "needs_background": "light"
          }
        }
      ]
    },
    {
      "cell_type": "code",
      "source": [
        "df_score[f'{feature_name}スコア'] = rank_score(df_score[feature_name]).round(2)\n",
        "sns.histplot(df_score[f'{feature_name}スコア'], bins=20)\n",
        "plt.show()"
      ],
      "metadata": {
        "colab": {
          "base_uri": "https://localhost:8080/",
          "height": 281
        },
        "id": "S9xyC9y3XCGm",
        "outputId": "e26c4ba5-9313-4b5c-f3d1-b56774b90f0b"
      },
      "execution_count": 19,
      "outputs": [
        {
          "output_type": "display_data",
          "data": {
            "text/plain": [
              "<Figure size 432x288 with 1 Axes>"
            ],
            "image/png": "[encoded data removed]"
          },
          "metadata": {
            "needs_background": "light"
          }
        }
      ]
    },
    {
      "cell_type": "code",
      "source": [
        "plt.figure(figsize=(15, 5))\n",
        "sns.barplot(x='市区町村名', y='地価', data=df_score)\n",
        "plt.show()"
      ],
      "metadata": {
        "colab": {
          "base_uri": "https://localhost:8080/",
          "height": 343
        },
        "id": "f5xWuY7RCW-V",
        "outputId": "51e6aee2-7a87-4bf6-9459-f537bc800262"
      },
      "execution_count": 20,
      "outputs": [
        {
          "output_type": "display_data",
          "data": {
            "text/plain": [
              "<Figure size 1080x360 with 1 Axes>"
            ],
            "image/png": "[encoded data removed]"
          },
          "metadata": {
            "needs_background": "light"
          }
        }
      ]
    },
    {
      "cell_type": "code",
      "source": [
        "plt.figure(figsize=(15, 5))\n",
        "sns.barplot(x='市区町村名', y='地価スコア', data=df_score)\n",
        "plt.show()"
      ],
      "metadata": {
        "colab": {
          "base_uri": "https://localhost:8080/",
          "height": 333
        },
        "id": "NKzh54io1t1i",
        "outputId": "36c284ca-022d-4a60-d700-47466ca9f711"
      },
      "execution_count": 21,
      "outputs": [
        {
          "output_type": "display_data",
          "data": {
            "text/plain": [
              "<Figure size 1080x360 with 1 Axes>"
            ],
            "image/png": "[encoded data removed]"
          },
          "metadata": {
            "needs_background": "light"
          }
        }
      ]
    },
    {
      "cell_type": "code",
      "source": [
        "df_score.sort_values('地価スコア', ascending=False).head(20)"
      ],
      "metadata": {
        "colab": {
          "base_uri": "https://localhost:8080/",
          "height": 677
        },
        "id": "u4Mb6AGWUKN5",
        "outputId": "36785ca7-1121-40cc-cb48-3e2448103efb"
      },
      "execution_count": 22,
      "outputs": [
        {
          "output_type": "execute_result",
          "data": {
            "text/plain": [
              "        地域ID 市区町村名     町丁目        地価  地価スコア\n",
              "581   101003  千代田区  丸の内１丁目  31700000   5.00\n",
              "582   101004  千代田区  丸の内２丁目  36600000   5.00\n",
              "371   102011   中央区   銀座４丁目  40600000   5.00\n",
              "610   101008  千代田区  大手町２丁目  28800000   4.99\n",
              "583   101005  千代田区  丸の内３丁目  26800000   4.99\n",
              "368   102008   中央区   銀座１丁目  23508095   4.99\n",
              "372   102012   中央区   銀座５丁目  27315000   4.99\n",
              "373   102013   中央区   銀座６丁目  28200000   4.99\n",
              "374   102014   中央区   銀座７丁目  23075000   4.98\n",
              "2121  113045   渋谷区    宇田川町  21800000   4.98\n",
              "291   102002   中央区  八重洲２丁目  21919970   4.98\n",
              "1400  104028   新宿区   新宿３丁目  21452000   4.98\n",
              "609   101007  千代田区  大手町１丁目  20450000   4.97\n",
              "2176  113038   渋谷区  道玄坂２丁目  18850000   4.97\n",
              "369   102009   中央区   銀座２丁目  15966666   4.97\n",
              "370   102010   中央区   銀座３丁目  15900000   4.97\n",
              "303   102093   中央区  日本橋２丁目  20500000   4.97\n",
              "279   102006   中央区   京橋３丁目  15500000   4.96\n",
              "278   102005   中央区   京橋２丁目  15500000   4.96\n",
              "678   101018  千代田区  霞が関３丁目  14600000   4.96"
            ],
            "text/html": [
              "\n",
              "  <div id=\"df-b7f36d48-fa98-4779-a979-4f28a3d13d79\">\n",
              "    <div class=\"colab-df-container\">\n",
              "      <div>\n",
              "<style scoped>\n",
              "    .dataframe tbody tr th:only-of-type {\n",
              "        vertical-align: middle;\n",
              "    }\n",
              "\n",
              "    .dataframe tbody tr th {\n",
              "        vertical-align: top;\n",
              "    }\n",
              "\n",
              "    .dataframe thead th {\n",
              "        text-align: right;\n",
              "    }\n",
              "</style>\n",
              "<table border=\"1\" class=\"dataframe\">\n",
              "  <thead>\n",
              "    <tr style=\"text-align: right;\">\n",
              "      <th></th>\n",
              "      <th>地域ID</th>\n",
              "      <th>市区町村名</th>\n",
              "      <th>町丁目</th>\n",
              "      <th>地価</th>\n",
              "      <th>地価スコア</th>\n",
              "    </tr>\n",
              "  </thead>\n",
              "  <tbody>\n",
              "    <tr>\n",
              "      <th>581</th>\n",
              "      <td>101003</td>\n",
              "      <td>千代田区</td>\n",
              "      <td>丸の内１丁目</td>\n",
              "      <td>31700000</td>\n",
              "      <td>5.00</td>\n",
              "    </tr>\n",
              "    <tr>\n",
              "      <th>582</th>\n",
              "      <td>101004</td>\n",
              "      <td>千代田区</td>\n",
              "      <td>丸の内２丁目</td>\n",
              "      <td>36600000</td>\n",
              "      <td>5.00</td>\n",
              "    </tr>\n",
              "    <tr>\n",
              "      <th>371</th>\n",
              "      <td>102011</td>\n",
              "      <td>中央区</td>\n",
              "      <td>銀座４丁目</td>\n",
              "      <td>40600000</td>\n",
              "      <td>5.00</td>\n",
              "    </tr>\n",
              "    <tr>\n",
              "      <th>610</th>\n",
              "      <td>101008</td>\n",
              "      <td>千代田区</td>\n",
              "      <td>大手町２丁目</td>\n",
              "      <td>28800000</td>\n",
              "      <td>4.99</td>\n",
              "    </tr>\n",
              "    <tr>\n",
              "      <th>583</th>\n",
              "      <td>101005</td>\n",
              "      <td>千代田区</td>\n",
              "      <td>丸の内３丁目</td>\n",
              "      <td>26800000</td>\n",
              "      <td>4.99</td>\n",
              "    </tr>\n",
              "    <tr>\n",
              "      <th>368</th>\n",
              "      <td>102008</td>\n",
              "      <td>中央区</td>\n",
              "      <td>銀座１丁目</td>\n",
              "      <td>23508095</td>\n",
              "      <td>4.99</td>\n",
              "    </tr>\n",
              "    <tr>\n",
              "      <th>372</th>\n",
              "      <td>102012</td>\n",
              "      <td>中央区</td>\n",
              "      <td>銀座５丁目</td>\n",
              "      <td>27315000</td>\n",
              "      <td>4.99</td>\n",
              "    </tr>\n",
              "    <tr>\n",
              "      <th>373</th>\n",
              "      <td>102013</td>\n",
              "      <td>中央区</td>\n",
              "      <td>銀座６丁目</td>\n",
              "      <td>28200000</td>\n",
              "      <td>4.99</td>\n",
              "    </tr>\n",
              "    <tr>\n",
              "      <th>374</th>\n",
              "      <td>102014</td>\n",
              "      <td>中央区</td>\n",
              "      <td>銀座７丁目</td>\n",
              "      <td>23075000</td>\n",
              "      <td>4.98</td>\n",
              "    </tr>\n",
              "    <tr>\n",
              "      <th>2121</th>\n",
              "      <td>113045</td>\n",
              "      <td>渋谷区</td>\n",
              "      <td>宇田川町</td>\n",
              "      <td>21800000</td>\n",
              "      <td>4.98</td>\n",
              "    </tr>\n",
              "    <tr>\n",
              "      <th>291</th>\n",
              "      <td>102002</td>\n",
              "      <td>中央区</td>\n",
              "      <td>八重洲２丁目</td>\n",
              "      <td>21919970</td>\n",
              "      <td>4.98</td>\n",
              "    </tr>\n",
              "    <tr>\n",
              "      <th>1400</th>\n",
              "      <td>104028</td>\n",
              "      <td>新宿区</td>\n",
              "      <td>新宿３丁目</td>\n",
              "      <td>21452000</td>\n",
              "      <td>4.98</td>\n",
              "    </tr>\n",
              "    <tr>\n",
              "      <th>609</th>\n",
              "      <td>101007</td>\n",
              "      <td>千代田区</td>\n",
              "      <td>大手町１丁目</td>\n",
              "      <td>20450000</td>\n",
              "      <td>4.97</td>\n",
              "    </tr>\n",
              "    <tr>\n",
              "      <th>2176</th>\n",
              "      <td>113038</td>\n",
              "      <td>渋谷区</td>\n",
              "      <td>道玄坂２丁目</td>\n",
              "      <td>18850000</td>\n",
              "      <td>4.97</td>\n",
              "    </tr>\n",
              "    <tr>\n",
              "      <th>369</th>\n",
              "      <td>102009</td>\n",
              "      <td>中央区</td>\n",
              "      <td>銀座２丁目</td>\n",
              "      <td>15966666</td>\n",
              "      <td>4.97</td>\n",
              "    </tr>\n",
              "    <tr>\n",
              "      <th>370</th>\n",
              "      <td>102010</td>\n",
              "      <td>中央区</td>\n",
              "      <td>銀座３丁目</td>\n",
              "      <td>15900000</td>\n",
              "      <td>4.97</td>\n",
              "    </tr>\n",
              "    <tr>\n",
              "      <th>303</th>\n",
              "      <td>102093</td>\n",
              "      <td>中央区</td>\n",
              "      <td>日本橋２丁目</td>\n",
              "      <td>20500000</td>\n",
              "      <td>4.97</td>\n",
              "    </tr>\n",
              "    <tr>\n",
              "      <th>279</th>\n",
              "      <td>102006</td>\n",
              "      <td>中央区</td>\n",
              "      <td>京橋３丁目</td>\n",
              "      <td>15500000</td>\n",
              "      <td>4.96</td>\n",
              "    </tr>\n",
              "    <tr>\n",
              "      <th>278</th>\n",
              "      <td>102005</td>\n",
              "      <td>中央区</td>\n",
              "      <td>京橋２丁目</td>\n",
              "      <td>15500000</td>\n",
              "      <td>4.96</td>\n",
              "    </tr>\n",
              "    <tr>\n",
              "      <th>678</th>\n",
              "      <td>101018</td>\n",
              "      <td>千代田区</td>\n",
              "      <td>霞が関３丁目</td>\n",
              "      <td>14600000</td>\n",
              "      <td>4.96</td>\n",
              "    </tr>\n",
              "  </tbody>\n",
              "</table>\n",
              "</div>\n",
              "      <button class=\"colab-df-convert\" onclick=\"convertToInteractive('df-b7f36d48-fa98-4779-a979-4f28a3d13d79')\"\n",
              "              title=\"Convert this dataframe to an interactive table.\"\n",
              "              style=\"display:none;\">\n",
              "        \n",
              "  <svg xmlns=\"http://www.w3.org/2000/svg\" height=\"24px\"viewBox=\"0 0 24 24\"\n",
              "       width=\"24px\">\n",
              "    <path d=\"M0 0h24v24H0V0z\" fill=\"none\"/>\n",
              "    <path d=\"M18.56 5.44l.94 2.06.94-2.06 2.06-.94-2.06-.94-.94-2.06-.94 2.06-2.06.94zm-11 1L8.5 8.5l.94-2.06 2.06-.94-2.06-.94L8.5 2.5l-.94 2.06-2.06.94zm10 10l.94 2.06.94-2.06 2.06-.94-2.06-.94-.94-2.06-.94 2.06-2.06.94z\"/><path d=\"M17.41 7.96l-1.37-1.37c-.4-.4-.92-.59-1.43-.59-.52 0-1.04.2-1.43.59L10.3 9.45l-7.72 7.72c-.78.78-.78 2.05 0 2.83L4 21.41c.39.39.9.59 1.41.59.51 0 1.02-.2 1.41-.59l7.78-7.78 2.81-2.81c.8-.78.8-2.07 0-2.86zM5.41 20L4 18.59l7.72-7.72 1.47 1.35L5.41 20z\"/>\n",
              "  </svg>\n",
              "      </button>\n",
              "      \n",
              "  <style>\n",
              "    .colab-df-container {\n",
              "      display:flex;\n",
              "      flex-wrap:wrap;\n",
              "      gap: 12px;\n",
              "    }\n",
              "\n",
              "    .colab-df-convert {\n",
              "      background-color: #E8F0FE;\n",
              "      border: none;\n",
              "      border-radius: 50%;\n",
              "      cursor: pointer;\n",
              "      display: none;\n",
              "      fill: #1967D2;\n",
              "      height: 32px;\n",
              "      padding: 0 0 0 0;\n",
              "      width: 32px;\n",
              "    }\n",
              "\n",
              "    .colab-df-convert:hover {\n",
              "      background-color: #E2EBFA;\n",
              "      box-shadow: 0px 1px 2px rgba(60, 64, 67, 0.3), 0px 1px 3px 1px rgba(60, 64, 67, 0.15);\n",
              "      fill: #174EA6;\n",
              "    }\n",
              "\n",
              "    [theme=dark] .colab-df-convert {\n",
              "      background-color: #3B4455;\n",
              "      fill: #D2E3FC;\n",
              "    }\n",
              "\n",
              "    [theme=dark] .colab-df-convert:hover {\n",
              "      background-color: #434B5C;\n",
              "      box-shadow: 0px 1px 3px 1px rgba(0, 0, 0, 0.15);\n",
              "      filter: drop-shadow(0px 1px 2px rgba(0, 0, 0, 0.3));\n",
              "      fill: #FFFFFF;\n",
              "    }\n",
              "  </style>\n",
              "\n",
              "      <script>\n",
              "        const buttonEl =\n",
              "          document.querySelector('#df-b7f36d48-fa98-4779-a979-4f28a3d13d79 button.colab-df-convert');\n",
              "        buttonEl.style.display =\n",
              "          google.colab.kernel.accessAllowed ? 'block' : 'none';\n",
              "\n",
              "        async function convertToInteractive(key) {\n",
              "          const element = document.querySelector('#df-b7f36d48-fa98-4779-a979-4f28a3d13d79');\n",
              "          const dataTable =\n",
              "            await google.colab.kernel.invokeFunction('convertToInteractive',\n",
              "                                                     [key], {});\n",
              "          if (!dataTable) return;\n",
              "\n",
              "          const docLinkHtml = 'Like what you see? Visit the ' +\n",
              "            '<a target=\"_blank\" href=https://colab.research.google.com/notebooks/data_table.ipynb>data table notebook</a>'\n",
              "            + ' to learn more about interactive tables.';\n",
              "          element.innerHTML = '';\n",
              "          dataTable['output_type'] = 'display_data';\n",
              "          await google.colab.output.renderOutput(dataTable, element);\n",
              "          const docLink = document.createElement('div');\n",
              "          docLink.innerHTML = docLinkHtml;\n",
              "          element.appendChild(docLink);\n",
              "        }\n",
              "      </script>\n",
              "    </div>\n",
              "  </div>\n",
              "  "
            ]
          },
          "metadata": {},
          "execution_count": 22
        }
      ]
    },
    {
      "cell_type": "markdown",
      "source": [
        "### 家賃の予測"
      ],
      "metadata": {
        "id": "gsvx_ZKZgbSz"
      }
    },
    {
      "cell_type": "code",
      "source": [
        "df_rent = pd.read_csv(os.path.join(DIR_NAME, 'original/rent_summary.csv'), encoding='shift-jis')\n",
        "df_rent = df_rent[df_rent['地域'].str.endswith('区')]\\\n",
        "    .rename(columns={'1K・1DK':'1K', '1LDK・2K・2DK':'1LDK', '2LDK・3K・3DK':'2LDK', '3LDK・4K・4DK':'3LDK', '4LDK〜':'4LDK'})\n",
        "print(df_rent.shape)"
      ],
      "metadata": {
        "colab": {
          "base_uri": "https://localhost:8080/"
        },
        "id": "AJZ8c_QoZSyQ",
        "outputId": "7b088423-2507-43a3-ecc1-b573e2ca6cd2"
      },
      "execution_count": 23,
      "outputs": [
        {
          "output_type": "stream",
          "name": "stdout",
          "text": [
            "(23, 7)\n"
          ]
        }
      ]
    },
    {
      "cell_type": "code",
      "source": [
        "for col in ['ワンルーム', '1K', '1LDK', '2LDK', '3LDK', '4LDK']:\n",
        "    df_rent[col] = df_rent[col].apply(lambda x: x.split('(')[0]).astype(float)"
      ],
      "metadata": {
        "id": "0vhEgp2fgunn"
      },
      "execution_count": 24,
      "outputs": []
    },
    {
      "cell_type": "markdown",
      "source": [
        "### 家族構成と部屋の広さ\n",
        "\n",
        "||10代~20代|30代|40代~|\n",
        "|:---|:---|:---|:---|\n",
        "|一人暮らし|ワンルーム|1K|1K|\n",
        "|夫婦|1K|1LDK|1LDK|\n",
        "|夫婦+子供|1LDK|2LDK|2LDK|"
      ],
      "metadata": {
        "id": "1NYSaCq-QFOv"
      }
    },
    {
      "cell_type": "code",
      "source": [
        "df_rest_stack = df_rent.set_index('地域').stack().reset_index().rename(columns={'level_1':'部屋タイプ', 0:'家賃相場'})\n",
        "df_rest_stack = df_rest_stack[df_rest_stack['家賃相場'] != 0]"
      ],
      "metadata": {
        "id": "z_ZRW9jWhCHK"
      },
      "execution_count": 25,
      "outputs": []
    },
    {
      "cell_type": "code",
      "source": [
        "plt.figure(figsize=(15, 5))\n",
        "sns.barplot(\n",
        "    x='地域', y='家賃相場', hue='部屋タイプ',\n",
        "    data=df_rest_stack[df_rest_stack['部屋タイプ'] != '4LDK']\n",
        ")\n",
        "plt.show()"
      ],
      "metadata": {
        "colab": {
          "base_uri": "https://localhost:8080/",
          "height": 332
        },
        "id": "S0ciE01SkMmM",
        "outputId": "63aa00a1-ce5c-4430-b283-bf1ec8922f5d"
      },
      "execution_count": 26,
      "outputs": [
        {
          "output_type": "display_data",
          "data": {
            "text/plain": [
              "<Figure size 1080x360 with 1 Axes>"
            ],
            "image/png": "[encoded data removed]"
          },
          "metadata": {
            "needs_background": "light"
          }
        }
      ]
    },
    {
      "cell_type": "code",
      "source": [
        "df_merge_price = pd.merge(\n",
        "    df_rest_stack.rename(columns={'地域': '市区町村名'}),\n",
        "    df_score.groupby('市区町村名')['地価'].mean().reset_index(),\n",
        "    on='市区町村名', how='left'\n",
        ")"
      ],
      "metadata": {
        "id": "-y3ANx6Lkl6C"
      },
      "execution_count": 27,
      "outputs": []
    },
    {
      "cell_type": "code",
      "source": [
        "df_merge_price['地価_log'] = df_merge_price['地価'].apply(lambda x: np.log2(x))"
      ],
      "metadata": {
        "id": "huXcNJcDaYj9"
      },
      "execution_count": 28,
      "outputs": []
    },
    {
      "cell_type": "code",
      "source": [
        "for room_type in list(df_merge_price['部屋タイプ'].unique()):\n",
        "    _tmp = df_merge_price[df_merge_price['部屋タイプ'] == room_type]\n",
        "    plt.figure(figsize=(6, 6))\n",
        "    sns.regplot(x='地価_log', y='家賃相場', data=_tmp)\n",
        "    plt.title(room_type)\n",
        "    plt.show()\n",
        "    print(np.corrcoef(_tmp['地価_log'], _tmp['家賃相場'])[0, 1])"
      ],
      "metadata": {
        "colab": {
          "base_uri": "https://localhost:8080/",
          "height": 1000
        },
        "id": "FTYvXdRGlegc",
        "outputId": "409365a0-8b37-4156-dbeb-8df9f1c4d311"
      },
      "execution_count": 29,
      "outputs": [
        {
          "output_type": "display_data",
          "data": {
            "text/plain": [
              "<Figure size 432x432 with 1 Axes>"
            ],
            "image/png": "[encoded data removed]"
          },
          "metadata": {
            "needs_background": "light"
          }
        },
        {
          "output_type": "stream",
          "name": "stdout",
          "text": [
            "0.9125420067283767\n"
          ]
        },
        {
          "output_type": "display_data",
          "data": {
            "text/plain": [
              "<Figure size 432x432 with 1 Axes>"
            ],
            "image/png": "[encoded data removed]"
          },
          "metadata": {
            "needs_background": "light"
          }
        },
        {
          "output_type": "stream",
          "name": "stdout",
          "text": [
            "0.943462971181847\n"
          ]
        },
        {
          "output_type": "display_data",
          "data": {
            "text/plain": [
              "<Figure size 432x432 with 1 Axes>"
            ],
            "image/png": "[encoded data removed]"
          },
          "metadata": {
            "needs_background": "light"
          }
        },
        {
          "output_type": "stream",
          "name": "stdout",
          "text": [
            "0.9266491662767562\n"
          ]
        },
        {
          "output_type": "display_data",
          "data": {
            "text/plain": [
              "<Figure size 432x432 with 1 Axes>"
            ],
            "image/png": "[encoded data removed]"
          },
          "metadata": {
            "needs_background": "light"
          }
        },
        {
          "output_type": "stream",
          "name": "stdout",
          "text": [
            "0.835135642621275\n"
          ]
        },
        {
          "output_type": "display_data",
          "data": {
            "text/plain": [
              "<Figure size 432x432 with 1 Axes>"
            ],
            "image/png": "[encoded data removed]"
          },
          "metadata": {
            "needs_background": "light"
          }
        },
        {
          "output_type": "stream",
          "name": "stdout",
          "text": [
            "0.7959677708921523\n"
          ]
        },
        {
          "output_type": "display_data",
          "data": {
            "text/plain": [
              "<Figure size 432x432 with 1 Axes>"
            ],
            "image/png": "[encoded data removed]"
          },
          "metadata": {
            "needs_background": "light"
          }
        },
        {
          "output_type": "stream",
          "name": "stdout",
          "text": [
            "0.8607322983666384\n"
          ]
        }
      ]
    },
    {
      "cell_type": "code",
      "source": [
        "from sklearn.linear_model import LinearRegression\n",
        "\n",
        "room_type_list = ['ワンルーム', '1K', '1LDK', '2LDK']\n",
        "lr_models = {}\n",
        "for room_type in room_type_list:\n",
        "    _tmp = df_merge_price[df_merge_price['部屋タイプ'] == room_type]\n",
        "    model = LinearRegression()\n",
        "    lr_model = model.fit(_tmp[['地価_log']], _tmp[['家賃相場']])\n",
        "    lr_models[room_type] = lr_model\n",
        "\n",
        "    print(f'{room_type}:, 傾き={lr_model.coef_}, 切片={lr_model.intercept_}')"
      ],
      "metadata": {
        "colab": {
          "base_uri": "https://localhost:8080/"
        },
        "id": "4B6p6takmEjE",
        "outputId": "9bbaddb0-7f93-4402-c463-2d6a4013a526"
      },
      "execution_count": 30,
      "outputs": [
        {
          "output_type": "stream",
          "name": "stdout",
          "text": [
            "ワンルーム:, 傾き=[[1.2415061]], 切片=[-17.629105]\n",
            "1K:, 傾き=[[1.18155721]], 切片=[-15.70480461]\n",
            "1LDK:, 傾き=[[3.44948808]], 切片=[-56.68553404]\n",
            "2LDK:, 傾き=[[5.53914302]], 切片=[-92.79546687]\n"
          ]
        }
      ]
    },
    {
      "cell_type": "code",
      "source": [
        "df_predict = pd.DataFrame()\n",
        "for room_type in room_type_list:\n",
        "    _tmp = df_merge_price[df_merge_price['部屋タイプ'] == room_type].copy()\n",
        "    _tmp[f'家賃予測'] = lr_models[room_type].predict(_tmp[['地価_log']])\n",
        "    df_predict = pd.concat([df_predict, _tmp])\n",
        "\n",
        "predict_stack = df_predict.drop(columns=['地価', '地価_log']).set_index(['市区町村名', '部屋タイプ']).stack()\\\n",
        "                    .reset_index().rename(columns={'level_2':'実績/予測', 0:'家賃'})"
      ],
      "metadata": {
        "id": "GlzHMpl_ug1N"
      },
      "execution_count": 31,
      "outputs": []
    },
    {
      "cell_type": "code",
      "source": [
        "for room_type in room_type_list:\n",
        "    _tmp = predict_stack[predict_stack['部屋タイプ'] == room_type]\n",
        "    plt.figure(figsize=(15, 3))\n",
        "    sns.barplot(x='市区町村名', y='家賃', hue='実績/予測', data=_tmp)\n",
        "    plt.title(room_type)\n",
        "    plt.show()"
      ],
      "metadata": {
        "colab": {
          "base_uri": "https://localhost:8080/",
          "height": 905
        },
        "id": "s7u1LnwVx_5f",
        "outputId": "8325ec68-86d0-428b-b108-2fa450a406c0"
      },
      "execution_count": 32,
      "outputs": [
        {
          "output_type": "display_data",
          "data": {
            "text/plain": [
              "<Figure size 1080x216 with 1 Axes>"
            ],
            "image/png": "[encoded data removed]"
          },
          "metadata": {
            "needs_background": "light"
          }
        },
        {
          "output_type": "display_data",
          "data": {
            "text/plain": [
              "<Figure size 1080x216 with 1 Axes>"
            ],
            "image/png": "[encoded data removed]"
          },
          "metadata": {
            "needs_background": "light"
          }
        },
        {
          "output_type": "display_data",
          "data": {
            "text/plain": [
              "<Figure size 1080x216 with 1 Axes>"
            ],
            "image/png": "[encoded data removed]"
          },
          "metadata": {
            "needs_background": "light"
          }
        },
        {
          "output_type": "display_data",
          "data": {
            "text/plain": [
              "<Figure size 1080x216 with 1 Axes>"
            ],
            "image/png": "[encoded data removed]"
          },
          "metadata": {
            "needs_background": "light"
          }
        }
      ]
    },
    {
      "cell_type": "code",
      "source": [
        "# 家賃予測\n",
        "log_price = df_score[['地価']].apply(lambda x: np.log2(x)).rename(columns={'地価': '地価_log'})\n",
        "\n",
        "for room_type in room_type_list:\n",
        "    df_score[f'家賃予測_{room_type}'] = lr_models[room_type].predict(log_price).round(2)"
      ],
      "metadata": {
        "id": "-dUstGXv0Uat"
      },
      "execution_count": 33,
      "outputs": []
    },
    {
      "cell_type": "code",
      "source": [
        "predict_cols = [f'家賃予測_{col}' for col in room_type_list]"
      ],
      "metadata": {
        "id": "ch5-izFHZLcc"
      },
      "execution_count": 34,
      "outputs": []
    },
    {
      "cell_type": "code",
      "source": [
        "df_score.sort_values('地価', ascending=False).head(10)"
      ],
      "metadata": {
        "id": "nHaF708pYzqA",
        "outputId": "da17cab1-642d-4f91-83ca-842a7ef8ff24",
        "colab": {
          "base_uri": "https://localhost:8080/",
          "height": 363
        }
      },
      "execution_count": 35,
      "outputs": [
        {
          "output_type": "execute_result",
          "data": {
            "text/plain": [
              "       地域ID 市区町村名     町丁目        地価  地価スコア  家賃予測_ワンルーム  家賃予測_1K  家賃予測_1LDK  \\\n",
              "371  102011   中央区   銀座４丁目  40600000   5.00       13.75    14.16      30.50   \n",
              "582  101004  千代田区  丸の内２丁目  36600000   5.00       13.56    13.98      29.98   \n",
              "581  101003  千代田区  丸の内１丁目  31700000   5.00       13.31    13.74      29.27   \n",
              "610  101008  千代田区  大手町２丁目  28800000   4.99       13.13    13.57      28.79   \n",
              "373  102013   中央区   銀座６丁目  28200000   4.99       13.10    13.54      28.69   \n",
              "372  102012   中央区   銀座５丁目  27315000   4.99       13.04    13.48      28.53   \n",
              "583  101005  千代田区  丸の内３丁目  26800000   4.99       13.01    13.45      28.43   \n",
              "368  102008   中央区   銀座１丁目  23508095   4.99       12.77    13.23      27.78   \n",
              "374  102014   中央区   銀座７丁目  23075000   4.98       12.74    13.20      27.69   \n",
              "291  102002   中央区  八重洲２丁目  21919970   4.98       12.65    13.11      27.43   \n",
              "\n",
              "     家賃予測_2LDK  \n",
              "371      47.21  \n",
              "582      46.38  \n",
              "581      45.23  \n",
              "610      44.46  \n",
              "373      44.29  \n",
              "372      44.04  \n",
              "583      43.89  \n",
              "368      42.84  \n",
              "374      42.69  \n",
              "291      42.28  "
            ],
            "text/html": [
              "\n",
              "  <div id=\"df-97c396ab-80fb-4091-aec2-ffd488e0ee2d\">\n",
              "    <div class=\"colab-df-container\">\n",
              "      <div>\n",
              "<style scoped>\n",
              "    .dataframe tbody tr th:only-of-type {\n",
              "        vertical-align: middle;\n",
              "    }\n",
              "\n",
              "    .dataframe tbody tr th {\n",
              "        vertical-align: top;\n",
              "    }\n",
              "\n",
              "    .dataframe thead th {\n",
              "        text-align: right;\n",
              "    }\n",
              "</style>\n",
              "<table border=\"1\" class=\"dataframe\">\n",
              "  <thead>\n",
              "    <tr style=\"text-align: right;\">\n",
              "      <th></th>\n",
              "      <th>地域ID</th>\n",
              "      <th>市区町村名</th>\n",
              "      <th>町丁目</th>\n",
              "      <th>地価</th>\n",
              "      <th>地価スコア</th>\n",
              "      <th>家賃予測_ワンルーム</th>\n",
              "      <th>家賃予測_1K</th>\n",
              "      <th>家賃予測_1LDK</th>\n",
              "      <th>家賃予測_2LDK</th>\n",
              "    </tr>\n",
              "  </thead>\n",
              "  <tbody>\n",
              "    <tr>\n",
              "      <th>371</th>\n",
              "      <td>102011</td>\n",
              "      <td>中央区</td>\n",
              "      <td>銀座４丁目</td>\n",
              "      <td>40600000</td>\n",
              "      <td>5.00</td>\n",
              "      <td>13.75</td>\n",
              "      <td>14.16</td>\n",
              "      <td>30.50</td>\n",
              "      <td>47.21</td>\n",
              "    </tr>\n",
              "    <tr>\n",
              "      <th>582</th>\n",
              "      <td>101004</td>\n",
              "      <td>千代田区</td>\n",
              "      <td>丸の内２丁目</td>\n",
              "      <td>36600000</td>\n",
              "      <td>5.00</td>\n",
              "      <td>13.56</td>\n",
              "      <td>13.98</td>\n",
              "      <td>29.98</td>\n",
              "      <td>46.38</td>\n",
              "    </tr>\n",
              "    <tr>\n",
              "      <th>581</th>\n",
              "      <td>101003</td>\n",
              "      <td>千代田区</td>\n",
              "      <td>丸の内１丁目</td>\n",
              "      <td>31700000</td>\n",
              "      <td>5.00</td>\n",
              "      <td>13.31</td>\n",
              "      <td>13.74</td>\n",
              "      <td>29.27</td>\n",
              "      <td>45.23</td>\n",
              "    </tr>\n",
              "    <tr>\n",
              "      <th>610</th>\n",
              "      <td>101008</td>\n",
              "      <td>千代田区</td>\n",
              "      <td>大手町２丁目</td>\n",
              "      <td>28800000</td>\n",
              "      <td>4.99</td>\n",
              "      <td>13.13</td>\n",
              "      <td>13.57</td>\n",
              "      <td>28.79</td>\n",
              "      <td>44.46</td>\n",
              "    </tr>\n",
              "    <tr>\n",
              "      <th>373</th>\n",
              "      <td>102013</td>\n",
              "      <td>中央区</td>\n",
              "      <td>銀座６丁目</td>\n",
              "      <td>28200000</td>\n",
              "      <td>4.99</td>\n",
              "      <td>13.10</td>\n",
              "      <td>13.54</td>\n",
              "      <td>28.69</td>\n",
              "      <td>44.29</td>\n",
              "    </tr>\n",
              "    <tr>\n",
              "      <th>372</th>\n",
              "      <td>102012</td>\n",
              "      <td>中央区</td>\n",
              "      <td>銀座５丁目</td>\n",
              "      <td>27315000</td>\n",
              "      <td>4.99</td>\n",
              "      <td>13.04</td>\n",
              "      <td>13.48</td>\n",
              "      <td>28.53</td>\n",
              "      <td>44.04</td>\n",
              "    </tr>\n",
              "    <tr>\n",
              "      <th>583</th>\n",
              "      <td>101005</td>\n",
              "      <td>千代田区</td>\n",
              "      <td>丸の内３丁目</td>\n",
              "      <td>26800000</td>\n",
              "      <td>4.99</td>\n",
              "      <td>13.01</td>\n",
              "      <td>13.45</td>\n",
              "      <td>28.43</td>\n",
              "      <td>43.89</td>\n",
              "    </tr>\n",
              "    <tr>\n",
              "      <th>368</th>\n",
              "      <td>102008</td>\n",
              "      <td>中央区</td>\n",
              "      <td>銀座１丁目</td>\n",
              "      <td>23508095</td>\n",
              "      <td>4.99</td>\n",
              "      <td>12.77</td>\n",
              "      <td>13.23</td>\n",
              "      <td>27.78</td>\n",
              "      <td>42.84</td>\n",
              "    </tr>\n",
              "    <tr>\n",
              "      <th>374</th>\n",
              "      <td>102014</td>\n",
              "      <td>中央区</td>\n",
              "      <td>銀座７丁目</td>\n",
              "      <td>23075000</td>\n",
              "      <td>4.98</td>\n",
              "      <td>12.74</td>\n",
              "      <td>13.20</td>\n",
              "      <td>27.69</td>\n",
              "      <td>42.69</td>\n",
              "    </tr>\n",
              "    <tr>\n",
              "      <th>291</th>\n",
              "      <td>102002</td>\n",
              "      <td>中央区</td>\n",
              "      <td>八重洲２丁目</td>\n",
              "      <td>21919970</td>\n",
              "      <td>4.98</td>\n",
              "      <td>12.65</td>\n",
              "      <td>13.11</td>\n",
              "      <td>27.43</td>\n",
              "      <td>42.28</td>\n",
              "    </tr>\n",
              "  </tbody>\n",
              "</table>\n",
              "</div>\n",
              "      <button class=\"colab-df-convert\" onclick=\"convertToInteractive('df-97c396ab-80fb-4091-aec2-ffd488e0ee2d')\"\n",
              "              title=\"Convert this dataframe to an interactive table.\"\n",
              "              style=\"display:none;\">\n",
              "        \n",
              "  <svg xmlns=\"http://www.w3.org/2000/svg\" height=\"24px\"viewBox=\"0 0 24 24\"\n",
              "       width=\"24px\">\n",
              "    <path d=\"M0 0h24v24H0V0z\" fill=\"none\"/>\n",
              "    <path d=\"M18.56 5.44l.94 2.06.94-2.06 2.06-.94-2.06-.94-.94-2.06-.94 2.06-2.06.94zm-11 1L8.5 8.5l.94-2.06 2.06-.94-2.06-.94L8.5 2.5l-.94 2.06-2.06.94zm10 10l.94 2.06.94-2.06 2.06-.94-2.06-.94-.94-2.06-.94 2.06-2.06.94z\"/><path d=\"M17.41 7.96l-1.37-1.37c-.4-.4-.92-.59-1.43-.59-.52 0-1.04.2-1.43.59L10.3 9.45l-7.72 7.72c-.78.78-.78 2.05 0 2.83L4 21.41c.39.39.9.59 1.41.59.51 0 1.02-.2 1.41-.59l7.78-7.78 2.81-2.81c.8-.78.8-2.07 0-2.86zM5.41 20L4 18.59l7.72-7.72 1.47 1.35L5.41 20z\"/>\n",
              "  </svg>\n",
              "      </button>\n",
              "      \n",
              "  <style>\n",
              "    .colab-df-container {\n",
              "      display:flex;\n",
              "      flex-wrap:wrap;\n",
              "      gap: 12px;\n",
              "    }\n",
              "\n",
              "    .colab-df-convert {\n",
              "      background-color: #E8F0FE;\n",
              "      border: none;\n",
              "      border-radius: 50%;\n",
              "      cursor: pointer;\n",
              "      display: none;\n",
              "      fill: #1967D2;\n",
              "      height: 32px;\n",
              "      padding: 0 0 0 0;\n",
              "      width: 32px;\n",
              "    }\n",
              "\n",
              "    .colab-df-convert:hover {\n",
              "      background-color: #E2EBFA;\n",
              "      box-shadow: 0px 1px 2px rgba(60, 64, 67, 0.3), 0px 1px 3px 1px rgba(60, 64, 67, 0.15);\n",
              "      fill: #174EA6;\n",
              "    }\n",
              "\n",
              "    [theme=dark] .colab-df-convert {\n",
              "      background-color: #3B4455;\n",
              "      fill: #D2E3FC;\n",
              "    }\n",
              "\n",
              "    [theme=dark] .colab-df-convert:hover {\n",
              "      background-color: #434B5C;\n",
              "      box-shadow: 0px 1px 3px 1px rgba(0, 0, 0, 0.15);\n",
              "      filter: drop-shadow(0px 1px 2px rgba(0, 0, 0, 0.3));\n",
              "      fill: #FFFFFF;\n",
              "    }\n",
              "  </style>\n",
              "\n",
              "      <script>\n",
              "        const buttonEl =\n",
              "          document.querySelector('#df-97c396ab-80fb-4091-aec2-ffd488e0ee2d button.colab-df-convert');\n",
              "        buttonEl.style.display =\n",
              "          google.colab.kernel.accessAllowed ? 'block' : 'none';\n",
              "\n",
              "        async function convertToInteractive(key) {\n",
              "          const element = document.querySelector('#df-97c396ab-80fb-4091-aec2-ffd488e0ee2d');\n",
              "          const dataTable =\n",
              "            await google.colab.kernel.invokeFunction('convertToInteractive',\n",
              "                                                     [key], {});\n",
              "          if (!dataTable) return;\n",
              "\n",
              "          const docLinkHtml = 'Like what you see? Visit the ' +\n",
              "            '<a target=\"_blank\" href=https://colab.research.google.com/notebooks/data_table.ipynb>data table notebook</a>'\n",
              "            + ' to learn more about interactive tables.';\n",
              "          element.innerHTML = '';\n",
              "          dataTable['output_type'] = 'display_data';\n",
              "          await google.colab.output.renderOutput(dataTable, element);\n",
              "          const docLink = document.createElement('div');\n",
              "          docLink.innerHTML = docLinkHtml;\n",
              "          element.appendChild(docLink);\n",
              "        }\n",
              "      </script>\n",
              "    </div>\n",
              "  </div>\n",
              "  "
            ]
          },
          "metadata": {},
          "execution_count": 35
        }
      ]
    },
    {
      "cell_type": "code",
      "source": [
        "df_score.sort_values('地価', ascending=False).tail(10)"
      ],
      "metadata": {
        "colab": {
          "base_uri": "https://localhost:8080/",
          "height": 363
        },
        "id": "kM9Nd_pI2OYO",
        "outputId": "ce94a326-58b8-4fed-8772-d3aa5ddf3286"
      },
      "execution_count": 36,
      "outputs": [
        {
          "output_type": "execute_result",
          "data": {
            "text/plain": [
              "        地域ID 市区町村名     町丁目      地価  地価スコア  家賃予測_ワンルーム  家賃予測_1K  家賃予測_1LDK  \\\n",
              "2708  122171   葛飾区  東水元５丁目  195000   0.02        4.19     5.06       3.93   \n",
              "2733  122164   葛飾区   水元５丁目  195000   0.02        4.19     5.06       3.93   \n",
              "2709  122172   葛飾区  東水元６丁目  195000   0.02        4.19     5.06       3.93   \n",
              "2977  121298   足立区   宮城２丁目  191000   0.01        4.15     5.02       3.83   \n",
              "2761  122179   葛飾区  西水元１丁目  189000   0.01        4.13     5.01       3.78   \n",
              "2762  122180   葛飾区  西水元２丁目  189000   0.01        4.13     5.01       3.78   \n",
              "2763  122181   葛飾区  西水元３丁目  189000   0.01        4.13     5.01       3.78   \n",
              "2764  122182   葛飾区  西水元４丁目  189000   0.01        4.13     5.01       3.78   \n",
              "2765  122183   葛飾区  西水元５丁目  189000   0.01        4.13     5.01       3.78   \n",
              "2766  122184   葛飾区  西水元６丁目  189000   0.01        4.13     5.01       3.78   \n",
              "\n",
              "      家賃予測_2LDK  \n",
              "2708       4.54  \n",
              "2733       4.54  \n",
              "2709       4.54  \n",
              "2977       4.38  \n",
              "2761       4.29  \n",
              "2762       4.29  \n",
              "2763       4.29  \n",
              "2764       4.29  \n",
              "2765       4.29  \n",
              "2766       4.29  "
            ],
            "text/html": [
              "\n",
              "  <div id=\"df-b61698ae-5576-4165-a42a-cbe53c641f98\">\n",
              "    <div class=\"colab-df-container\">\n",
              "      <div>\n",
              "<style scoped>\n",
              "    .dataframe tbody tr th:only-of-type {\n",
              "        vertical-align: middle;\n",
              "    }\n",
              "\n",
              "    .dataframe tbody tr th {\n",
              "        vertical-align: top;\n",
              "    }\n",
              "\n",
              "    .dataframe thead th {\n",
              "        text-align: right;\n",
              "    }\n",
              "</style>\n",
              "<table border=\"1\" class=\"dataframe\">\n",
              "  <thead>\n",
              "    <tr style=\"text-align: right;\">\n",
              "      <th></th>\n",
              "      <th>地域ID</th>\n",
              "      <th>市区町村名</th>\n",
              "      <th>町丁目</th>\n",
              "      <th>地価</th>\n",
              "      <th>地価スコア</th>\n",
              "      <th>家賃予測_ワンルーム</th>\n",
              "      <th>家賃予測_1K</th>\n",
              "      <th>家賃予測_1LDK</th>\n",
              "      <th>家賃予測_2LDK</th>\n",
              "    </tr>\n",
              "  </thead>\n",
              "  <tbody>\n",
              "    <tr>\n",
              "      <th>2708</th>\n",
              "      <td>122171</td>\n",
              "      <td>葛飾区</td>\n",
              "      <td>東水元５丁目</td>\n",
              "      <td>195000</td>\n",
              "      <td>0.02</td>\n",
              "      <td>4.19</td>\n",
              "      <td>5.06</td>\n",
              "      <td>3.93</td>\n",
              "      <td>4.54</td>\n",
              "    </tr>\n",
              "    <tr>\n",
              "      <th>2733</th>\n",
              "      <td>122164</td>\n",
              "      <td>葛飾区</td>\n",
              "      <td>水元５丁目</td>\n",
              "      <td>195000</td>\n",
              "      <td>0.02</td>\n",
              "      <td>4.19</td>\n",
              "      <td>5.06</td>\n",
              "      <td>3.93</td>\n",
              "      <td>4.54</td>\n",
              "    </tr>\n",
              "    <tr>\n",
              "      <th>2709</th>\n",
              "      <td>122172</td>\n",
              "      <td>葛飾区</td>\n",
              "      <td>東水元６丁目</td>\n",
              "      <td>195000</td>\n",
              "      <td>0.02</td>\n",
              "      <td>4.19</td>\n",
              "      <td>5.06</td>\n",
              "      <td>3.93</td>\n",
              "      <td>4.54</td>\n",
              "    </tr>\n",
              "    <tr>\n",
              "      <th>2977</th>\n",
              "      <td>121298</td>\n",
              "      <td>足立区</td>\n",
              "      <td>宮城２丁目</td>\n",
              "      <td>191000</td>\n",
              "      <td>0.01</td>\n",
              "      <td>4.15</td>\n",
              "      <td>5.02</td>\n",
              "      <td>3.83</td>\n",
              "      <td>4.38</td>\n",
              "    </tr>\n",
              "    <tr>\n",
              "      <th>2761</th>\n",
              "      <td>122179</td>\n",
              "      <td>葛飾区</td>\n",
              "      <td>西水元１丁目</td>\n",
              "      <td>189000</td>\n",
              "      <td>0.01</td>\n",
              "      <td>4.13</td>\n",
              "      <td>5.01</td>\n",
              "      <td>3.78</td>\n",
              "      <td>4.29</td>\n",
              "    </tr>\n",
              "    <tr>\n",
              "      <th>2762</th>\n",
              "      <td>122180</td>\n",
              "      <td>葛飾区</td>\n",
              "      <td>西水元２丁目</td>\n",
              "      <td>189000</td>\n",
              "      <td>0.01</td>\n",
              "      <td>4.13</td>\n",
              "      <td>5.01</td>\n",
              "      <td>3.78</td>\n",
              "      <td>4.29</td>\n",
              "    </tr>\n",
              "    <tr>\n",
              "      <th>2763</th>\n",
              "      <td>122181</td>\n",
              "      <td>葛飾区</td>\n",
              "      <td>西水元３丁目</td>\n",
              "      <td>189000</td>\n",
              "      <td>0.01</td>\n",
              "      <td>4.13</td>\n",
              "      <td>5.01</td>\n",
              "      <td>3.78</td>\n",
              "      <td>4.29</td>\n",
              "    </tr>\n",
              "    <tr>\n",
              "      <th>2764</th>\n",
              "      <td>122182</td>\n",
              "      <td>葛飾区</td>\n",
              "      <td>西水元４丁目</td>\n",
              "      <td>189000</td>\n",
              "      <td>0.01</td>\n",
              "      <td>4.13</td>\n",
              "      <td>5.01</td>\n",
              "      <td>3.78</td>\n",
              "      <td>4.29</td>\n",
              "    </tr>\n",
              "    <tr>\n",
              "      <th>2765</th>\n",
              "      <td>122183</td>\n",
              "      <td>葛飾区</td>\n",
              "      <td>西水元５丁目</td>\n",
              "      <td>189000</td>\n",
              "      <td>0.01</td>\n",
              "      <td>4.13</td>\n",
              "      <td>5.01</td>\n",
              "      <td>3.78</td>\n",
              "      <td>4.29</td>\n",
              "    </tr>\n",
              "    <tr>\n",
              "      <th>2766</th>\n",
              "      <td>122184</td>\n",
              "      <td>葛飾区</td>\n",
              "      <td>西水元６丁目</td>\n",
              "      <td>189000</td>\n",
              "      <td>0.01</td>\n",
              "      <td>4.13</td>\n",
              "      <td>5.01</td>\n",
              "      <td>3.78</td>\n",
              "      <td>4.29</td>\n",
              "    </tr>\n",
              "  </tbody>\n",
              "</table>\n",
              "</div>\n",
              "      <button class=\"colab-df-convert\" onclick=\"convertToInteractive('df-b61698ae-5576-4165-a42a-cbe53c641f98')\"\n",
              "              title=\"Convert this dataframe to an interactive table.\"\n",
              "              style=\"display:none;\">\n",
              "        \n",
              "  <svg xmlns=\"http://www.w3.org/2000/svg\" height=\"24px\"viewBox=\"0 0 24 24\"\n",
              "       width=\"24px\">\n",
              "    <path d=\"M0 0h24v24H0V0z\" fill=\"none\"/>\n",
              "    <path d=\"M18.56 5.44l.94 2.06.94-2.06 2.06-.94-2.06-.94-.94-2.06-.94 2.06-2.06.94zm-11 1L8.5 8.5l.94-2.06 2.06-.94-2.06-.94L8.5 2.5l-.94 2.06-2.06.94zm10 10l.94 2.06.94-2.06 2.06-.94-2.06-.94-.94-2.06-.94 2.06-2.06.94z\"/><path d=\"M17.41 7.96l-1.37-1.37c-.4-.4-.92-.59-1.43-.59-.52 0-1.04.2-1.43.59L10.3 9.45l-7.72 7.72c-.78.78-.78 2.05 0 2.83L4 21.41c.39.39.9.59 1.41.59.51 0 1.02-.2 1.41-.59l7.78-7.78 2.81-2.81c.8-.78.8-2.07 0-2.86zM5.41 20L4 18.59l7.72-7.72 1.47 1.35L5.41 20z\"/>\n",
              "  </svg>\n",
              "      </button>\n",
              "      \n",
              "  <style>\n",
              "    .colab-df-container {\n",
              "      display:flex;\n",
              "      flex-wrap:wrap;\n",
              "      gap: 12px;\n",
              "    }\n",
              "\n",
              "    .colab-df-convert {\n",
              "      background-color: #E8F0FE;\n",
              "      border: none;\n",
              "      border-radius: 50%;\n",
              "      cursor: pointer;\n",
              "      display: none;\n",
              "      fill: #1967D2;\n",
              "      height: 32px;\n",
              "      padding: 0 0 0 0;\n",
              "      width: 32px;\n",
              "    }\n",
              "\n",
              "    .colab-df-convert:hover {\n",
              "      background-color: #E2EBFA;\n",
              "      box-shadow: 0px 1px 2px rgba(60, 64, 67, 0.3), 0px 1px 3px 1px rgba(60, 64, 67, 0.15);\n",
              "      fill: #174EA6;\n",
              "    }\n",
              "\n",
              "    [theme=dark] .colab-df-convert {\n",
              "      background-color: #3B4455;\n",
              "      fill: #D2E3FC;\n",
              "    }\n",
              "\n",
              "    [theme=dark] .colab-df-convert:hover {\n",
              "      background-color: #434B5C;\n",
              "      box-shadow: 0px 1px 3px 1px rgba(0, 0, 0, 0.15);\n",
              "      filter: drop-shadow(0px 1px 2px rgba(0, 0, 0, 0.3));\n",
              "      fill: #FFFFFF;\n",
              "    }\n",
              "  </style>\n",
              "\n",
              "      <script>\n",
              "        const buttonEl =\n",
              "          document.querySelector('#df-b61698ae-5576-4165-a42a-cbe53c641f98 button.colab-df-convert');\n",
              "        buttonEl.style.display =\n",
              "          google.colab.kernel.accessAllowed ? 'block' : 'none';\n",
              "\n",
              "        async function convertToInteractive(key) {\n",
              "          const element = document.querySelector('#df-b61698ae-5576-4165-a42a-cbe53c641f98');\n",
              "          const dataTable =\n",
              "            await google.colab.kernel.invokeFunction('convertToInteractive',\n",
              "                                                     [key], {});\n",
              "          if (!dataTable) return;\n",
              "\n",
              "          const docLinkHtml = 'Like what you see? Visit the ' +\n",
              "            '<a target=\"_blank\" href=https://colab.research.google.com/notebooks/data_table.ipynb>data table notebook</a>'\n",
              "            + ' to learn more about interactive tables.';\n",
              "          element.innerHTML = '';\n",
              "          dataTable['output_type'] = 'display_data';\n",
              "          await google.colab.output.renderOutput(dataTable, element);\n",
              "          const docLink = document.createElement('div');\n",
              "          docLink.innerHTML = docLinkHtml;\n",
              "          element.appendChild(docLink);\n",
              "        }\n",
              "      </script>\n",
              "    </div>\n",
              "  </div>\n",
              "  "
            ]
          },
          "metadata": {},
          "execution_count": 36
        }
      ]
    },
    {
      "cell_type": "markdown",
      "source": [
        "### 保存"
      ],
      "metadata": {
        "id": "Du5PlPVrS_Pr"
      }
    },
    {
      "cell_type": "code",
      "source": [
        "df_land_score = df_score[['地域ID', '地価', '地価スコア'] + predict_cols].sort_values('地域ID').reset_index(drop=True)\n",
        "df_land_score.to_csv(os.path.join(DIR_NAME, 'land_price_score.csv'), index=False)"
      ],
      "metadata": {
        "id": "nKEsPpvd2RY6"
      },
      "execution_count": 37,
      "outputs": []
    },
    {
      "cell_type": "code",
      "source": [],
      "metadata": {
        "id": "eRPW-L2P34Ko"
      },
      "execution_count": 37,
      "outputs": []
    }
  ]
}