{
  "nbformat": 4,
  "nbformat_minor": 0,
  "metadata": {
    "colab": {
      "provenance": [],
      "authorship_tag": "ABX9TyMTkpMXS7GsXxfuYR17mbL7",
      "include_colab_link": true
    },
    "kernelspec": {
      "name": "python3",
      "display_name": "Python 3"
    },
    "language_info": {
      "name": "python"
    }
  },
  "cells": [
    {
      "cell_type": "markdown",
      "metadata": {
        "id": "view-in-github",
        "colab_type": "text"
      },
      "source": [
        "<a href=\"https://colab.research.google.com/github/z-gard/analysis/blob/main/notebooks/library.ipynb\" target=\"_parent\"><img src=\"https://colab.research.google.com/assets/colab-badge.svg\" alt=\"Open In Colab\"/></a>"
      ]
    },
    {
      "cell_type": "markdown",
      "source": [
        "# 図書館\n",
        "- [図書館](https://catalog.data.metro.tokyo.lg.jp/dataset/t000021d2000000003/resource/7108f0a3-0257-424a-9722-e84999a01392)"
      ],
      "metadata": {
        "id": "zBy6ZmZPOhfq"
      }
    },
    {
      "cell_type": "code",
      "execution_count": 1,
      "metadata": {
        "id": "cDOcy7pFOdsC"
      },
      "outputs": [],
      "source": [
        "!pip install -q japanize-matplotlib"
      ]
    },
    {
      "cell_type": "code",
      "source": [
        "from google.colab import drive\n",
        "drive.mount('/content/drive')"
      ],
      "metadata": {
        "colab": {
          "base_uri": "https://localhost:8080/"
        },
        "id": "rYTHrEAdOlBC",
        "outputId": "1a3efecc-6695-4f33-fb8e-85d9961ac7f3"
      },
      "execution_count": 2,
      "outputs": [
        {
          "output_type": "stream",
          "name": "stdout",
          "text": [
            "Drive already mounted at /content/drive; to attempt to forcibly remount, call drive.mount(\"/content/drive\", force_remount=True).\n"
          ]
        }
      ]
    },
    {
      "cell_type": "code",
      "source": [
        "DIR_NAME = '/content/drive/MyDrive/z-gard/data'"
      ],
      "metadata": {
        "id": "mKIhoL-BOtAE"
      },
      "execution_count": 3,
      "outputs": []
    },
    {
      "cell_type": "code",
      "source": [
        "output_master_file = 'library_master.csv'\n",
        "output_score_file = 'library_score.csv'"
      ],
      "metadata": {
        "id": "mNyg0hNuJWtJ"
      },
      "execution_count": 4,
      "outputs": []
    },
    {
      "cell_type": "code",
      "source": [
        "import os\n",
        "import requests\n",
        "import json\n",
        "import pandas as pd\n",
        "from urllib.parse import urlparse\n",
        "import math\n",
        "import io\n",
        "import matplotlib.pyplot as plt\n",
        "import japanize_matplotlib\n",
        "import seaborn as sns\n",
        "\n",
        "pd.set_option('display.max_columns', 50)\n",
        "pd.set_option('display.max_rows', 100)"
      ],
      "metadata": {
        "id": "2xgbJOobOvsP"
      },
      "execution_count": 5,
      "outputs": []
    },
    {
      "cell_type": "code",
      "source": [
        "def get_data_csv_url(url, encoding='utf-8', excel=False):\n",
        "    res = requests.get(url)\n",
        "    if res.status_code == 200:\n",
        "        if not excel:\n",
        "            return pd.read_csv(io.BytesIO(res.content), encoding=encoding)\n",
        "        else:\n",
        "            return pd.read_excel(io.BytesIO(res.content))\n",
        "    else:\n",
        "        raise Exception(f'status_code: {res.status_code} ({url})')\n",
        "\n",
        "# 距離計算\n",
        "def get_distance(lat1, lon1, lat2, lon2):\n",
        "    _lat1 = lat1 * math.pi / 180\n",
        "    _lon1 = lon1 * math.pi / 180\n",
        "    _lat2 = lat2 * math.pi / 180\n",
        "    _lon2 = lon2 * math.pi / 180\n",
        "    _tmp = math.cos(_lat1) * math.cos(_lat2) * math.cos(_lon2 - _lon1) + math.sin(_lat1) * math.sin(_lat2)\n",
        "    _tmp = 1 if _tmp > 1 else -1 if _tmp < -1 else _tmp\n",
        "    return 6371 * math.acos(_tmp)\n",
        "\n",
        "# 最寄り施設までの距離\n",
        "def get_value_of_nearest_facility(df_master, df_facility, category, method='min', param=3):\n",
        "    _df_cat = df_facility[df_facility['施設分類'] == category].copy()\n",
        "    cat_values = []\n",
        "    for i, row in df_master.iterrows():\n",
        "        dist = _df_cat.apply(lambda x: get_distance(x['緯度'], x['経度'], row['緯度'], row['経度']), axis=1)\n",
        "        val = None\n",
        "        if method == 'min':\n",
        "            # 最小の距離\n",
        "            val = dist.min()\n",
        "        elif method == 'count':\n",
        "            # {param}km以内の施設の数をカウント\n",
        "            val = len(dist[dist <= param])\n",
        "        elif method == 'mean':\n",
        "            # 近い{param}件の距離の平均\n",
        "            val = dist.sort_values()[:param].mean()\n",
        "        cat_values.append(val)\n",
        "    return cat_values"
      ],
      "metadata": {
        "id": "Q9yoYFmNRk8e"
      },
      "execution_count": 6,
      "outputs": []
    },
    {
      "cell_type": "code",
      "source": [
        "def get_distance_from_facility(longitude, latitude, df_facility):\n",
        "    return df_facility.apply(lambda x: get_distance(x['緯度'], x['経度'], longitude, latitude), axis=1)"
      ],
      "metadata": {
        "id": "DFuOYrJzc8xv"
      },
      "execution_count": 7,
      "outputs": []
    },
    {
      "cell_type": "code",
      "source": [
        "extract_columns = ['施設分類', '名称', '市区町村名', '所在地', '緯度', '経度']"
      ],
      "metadata": {
        "id": "IrPBUzhvReBs"
      },
      "execution_count": 8,
      "outputs": []
    },
    {
      "cell_type": "code",
      "source": [
        "tokyo_library_url = 'https://www.opendata.metro.tokyo.lg.jp/kyouiku/R3/skshubetu_4.csv'\n",
        "df_tokyo_library = get_data_csv_url(tokyo_library_url, encoding='shift-jis')\n",
        "print(df_tokyo_library.shape)\n",
        "\n",
        "df_tokyo_library = df_tokyo_library[df_tokyo_library['施設名'].notna()]\n",
        "df_tokyo_library = df_tokyo_library[(~df_tokyo_library['施設名'].str.contains('閉館'))&(df_tokyo_library['区市町村名'].str.endswith('区'))]\n",
        "df_tokyo_library['施設名'] = df_tokyo_library['施設名'].str.replace('＊\\?', '', regex=True).str.replace('\\?\\?', '', regex=True)\n",
        "df_tokyo_library = df_tokyo_library.rename(columns={'施設区分':'施設分類', '施設名':'名称', '区市町村名':'市区町村名'})[extract_columns].reset_index(drop=True)\n",
        "print(df_tokyo_library.shape)"
      ],
      "metadata": {
        "id": "527RgvGCDOBu",
        "outputId": "10329458-3682-4c33-b04c-34a2810b6682",
        "colab": {
          "base_uri": "https://localhost:8080/"
        }
      },
      "execution_count": 9,
      "outputs": [
        {
          "output_type": "stream",
          "name": "stdout",
          "text": [
            "(418, 9)\n",
            "(233, 6)\n"
          ]
        }
      ]
    },
    {
      "cell_type": "code",
      "source": [
        "plt.figure(figsize=(15, 5))\n",
        "sns.histplot(x='市区町村名', data=df_tokyo_library)\n",
        "plt.show()"
      ],
      "metadata": {
        "id": "7ElN2oPGIxhR",
        "outputId": "ccff0313-9b2a-4667-e19c-04ac9dbc8dc7",
        "colab": {
          "base_uri": "https://localhost:8080/",
          "height": 333
        }
      },
      "execution_count": 10,
      "outputs": [
        {
          "output_type": "display_data",
          "data": {
            "text/plain": [
              "<Figure size 1080x360 with 1 Axes>"
            ],
            "image/png": "[encoded data removed]"
          },
          "metadata": {
            "needs_background": "light"
          }
        }
      ]
    },
    {
      "cell_type": "markdown",
      "source": [
        "## 図書館マスタ"
      ],
      "metadata": {
        "id": "9x6VJEBUSGeh"
      }
    },
    {
      "cell_type": "code",
      "source": [
        "df_library_master = df_tokyo_library\n",
        "df_library_master.head()"
      ],
      "metadata": {
        "id": "81JjNDiASF-3",
        "outputId": "d3c81f40-919a-41e2-f20b-e3b889f70986",
        "colab": {
          "base_uri": "https://localhost:8080/",
          "height": 206
        }
      },
      "execution_count": 11,
      "outputs": [
        {
          "output_type": "execute_result",
          "data": {
            "text/plain": [
              "  施設分類         名称 市区町村名                      所在地         緯度          経度\n",
              "0  図書館  昌平まちかど図書館  千代田区             千代田区外神田3-4-7  35.701223  139.769873\n",
              "1  図書館  神田まちかど図書館  千代田区             千代田区神田司町2-16  35.693357  139.768304\n",
              "2  図書館     四番町図書館  千代田区                 千代田区四番町1  35.690453  139.741601\n",
              "3  図書館     千代田図書館  千代田区  千代田区九段南1-2-1千代田区役所9･10階  35.693997  139.753585\n",
              "4  図書館   日比谷図書文化館  千代田区             千代田区日比谷公園1-4  35.671872  139.754602"
            ],
            "text/html": [
              "\n",
              "  <div id=\"df-199d7c47-6429-4326-b34b-7480f563db49\">\n",
              "    <div class=\"colab-df-container\">\n",
              "      <div>\n",
              "<style scoped>\n",
              "    .dataframe tbody tr th:only-of-type {\n",
              "        vertical-align: middle;\n",
              "    }\n",
              "\n",
              "    .dataframe tbody tr th {\n",
              "        vertical-align: top;\n",
              "    }\n",
              "\n",
              "    .dataframe thead th {\n",
              "        text-align: right;\n",
              "    }\n",
              "</style>\n",
              "<table border=\"1\" class=\"dataframe\">\n",
              "  <thead>\n",
              "    <tr style=\"text-align: right;\">\n",
              "      <th></th>\n",
              "      <th>施設分類</th>\n",
              "      <th>名称</th>\n",
              "      <th>市区町村名</th>\n",
              "      <th>所在地</th>\n",
              "      <th>緯度</th>\n",
              "      <th>経度</th>\n",
              "    </tr>\n",
              "  </thead>\n",
              "  <tbody>\n",
              "    <tr>\n",
              "      <th>0</th>\n",
              "      <td>図書館</td>\n",
              "      <td>昌平まちかど図書館</td>\n",
              "      <td>千代田区</td>\n",
              "      <td>千代田区外神田3-4-7</td>\n",
              "      <td>35.701223</td>\n",
              "      <td>139.769873</td>\n",
              "    </tr>\n",
              "    <tr>\n",
              "      <th>1</th>\n",
              "      <td>図書館</td>\n",
              "      <td>神田まちかど図書館</td>\n",
              "      <td>千代田区</td>\n",
              "      <td>千代田区神田司町2-16</td>\n",
              "      <td>35.693357</td>\n",
              "      <td>139.768304</td>\n",
              "    </tr>\n",
              "    <tr>\n",
              "      <th>2</th>\n",
              "      <td>図書館</td>\n",
              "      <td>四番町図書館</td>\n",
              "      <td>千代田区</td>\n",
              "      <td>千代田区四番町1</td>\n",
              "      <td>35.690453</td>\n",
              "      <td>139.741601</td>\n",
              "    </tr>\n",
              "    <tr>\n",
              "      <th>3</th>\n",
              "      <td>図書館</td>\n",
              "      <td>千代田図書館</td>\n",
              "      <td>千代田区</td>\n",
              "      <td>千代田区九段南1-2-1千代田区役所9･10階</td>\n",
              "      <td>35.693997</td>\n",
              "      <td>139.753585</td>\n",
              "    </tr>\n",
              "    <tr>\n",
              "      <th>4</th>\n",
              "      <td>図書館</td>\n",
              "      <td>日比谷図書文化館</td>\n",
              "      <td>千代田区</td>\n",
              "      <td>千代田区日比谷公園1-4</td>\n",
              "      <td>35.671872</td>\n",
              "      <td>139.754602</td>\n",
              "    </tr>\n",
              "  </tbody>\n",
              "</table>\n",
              "</div>\n",
              "      <button class=\"colab-df-convert\" onclick=\"convertToInteractive('df-199d7c47-6429-4326-b34b-7480f563db49')\"\n",
              "              title=\"Convert this dataframe to an interactive table.\"\n",
              "              style=\"display:none;\">\n",
              "        \n",
              "  <svg xmlns=\"http://www.w3.org/2000/svg\" height=\"24px\"viewBox=\"0 0 24 24\"\n",
              "       width=\"24px\">\n",
              "    <path d=\"M0 0h24v24H0V0z\" fill=\"none\"/>\n",
              "    <path d=\"M18.56 5.44l.94 2.06.94-2.06 2.06-.94-2.06-.94-.94-2.06-.94 2.06-2.06.94zm-11 1L8.5 8.5l.94-2.06 2.06-.94-2.06-.94L8.5 2.5l-.94 2.06-2.06.94zm10 10l.94 2.06.94-2.06 2.06-.94-2.06-.94-.94-2.06-.94 2.06-2.06.94z\"/><path d=\"M17.41 7.96l-1.37-1.37c-.4-.4-.92-.59-1.43-.59-.52 0-1.04.2-1.43.59L10.3 9.45l-7.72 7.72c-.78.78-.78 2.05 0 2.83L4 21.41c.39.39.9.59 1.41.59.51 0 1.02-.2 1.41-.59l7.78-7.78 2.81-2.81c.8-.78.8-2.07 0-2.86zM5.41 20L4 18.59l7.72-7.72 1.47 1.35L5.41 20z\"/>\n",
              "  </svg>\n",
              "      </button>\n",
              "      \n",
              "  <style>\n",
              "    .colab-df-container {\n",
              "      display:flex;\n",
              "      flex-wrap:wrap;\n",
              "      gap: 12px;\n",
              "    }\n",
              "\n",
              "    .colab-df-convert {\n",
              "      background-color: #E8F0FE;\n",
              "      border: none;\n",
              "      border-radius: 50%;\n",
              "      cursor: pointer;\n",
              "      display: none;\n",
              "      fill: #1967D2;\n",
              "      height: 32px;\n",
              "      padding: 0 0 0 0;\n",
              "      width: 32px;\n",
              "    }\n",
              "\n",
              "    .colab-df-convert:hover {\n",
              "      background-color: #E2EBFA;\n",
              "      box-shadow: 0px 1px 2px rgba(60, 64, 67, 0.3), 0px 1px 3px 1px rgba(60, 64, 67, 0.15);\n",
              "      fill: #174EA6;\n",
              "    }\n",
              "\n",
              "    [theme=dark] .colab-df-convert {\n",
              "      background-color: #3B4455;\n",
              "      fill: #D2E3FC;\n",
              "    }\n",
              "\n",
              "    [theme=dark] .colab-df-convert:hover {\n",
              "      background-color: #434B5C;\n",
              "      box-shadow: 0px 1px 3px 1px rgba(0, 0, 0, 0.15);\n",
              "      filter: drop-shadow(0px 1px 2px rgba(0, 0, 0, 0.3));\n",
              "      fill: #FFFFFF;\n",
              "    }\n",
              "  </style>\n",
              "\n",
              "      <script>\n",
              "        const buttonEl =\n",
              "          document.querySelector('#df-199d7c47-6429-4326-b34b-7480f563db49 button.colab-df-convert');\n",
              "        buttonEl.style.display =\n",
              "          google.colab.kernel.accessAllowed ? 'block' : 'none';\n",
              "\n",
              "        async function convertToInteractive(key) {\n",
              "          const element = document.querySelector('#df-199d7c47-6429-4326-b34b-7480f563db49');\n",
              "          const dataTable =\n",
              "            await google.colab.kernel.invokeFunction('convertToInteractive',\n",
              "                                                     [key], {});\n",
              "          if (!dataTable) return;\n",
              "\n",
              "          const docLinkHtml = 'Like what you see? Visit the ' +\n",
              "            '<a target=\"_blank\" href=https://colab.research.google.com/notebooks/data_table.ipynb>data table notebook</a>'\n",
              "            + ' to learn more about interactive tables.';\n",
              "          element.innerHTML = '';\n",
              "          dataTable['output_type'] = 'display_data';\n",
              "          await google.colab.output.renderOutput(dataTable, element);\n",
              "          const docLink = document.createElement('div');\n",
              "          docLink.innerHTML = docLinkHtml;\n",
              "          element.appendChild(docLink);\n",
              "        }\n",
              "      </script>\n",
              "    </div>\n",
              "  </div>\n",
              "  "
            ]
          },
          "metadata": {},
          "execution_count": 11
        }
      ]
    },
    {
      "cell_type": "code",
      "source": [
        "df_library_master.to_csv(os.path.join(DIR_NAME, output_master_file), index=False)"
      ],
      "metadata": {
        "id": "6fVMjfovBOVc"
      },
      "execution_count": 12,
      "outputs": []
    },
    {
      "cell_type": "markdown",
      "source": [
        "## 人口マスタ"
      ],
      "metadata": {
        "id": "jdT3_lplSwOo"
      }
    },
    {
      "cell_type": "code",
      "source": [
        "df_pop_master = pd.read_csv(os.path.join(DIR_NAME, 'population_master.csv'))[['地域ID', '市区町村名', '町名', '町丁目', '緯度', '経度']]\n",
        "print(df_pop_master.shape)"
      ],
      "metadata": {
        "colab": {
          "base_uri": "https://localhost:8080/"
        },
        "id": "mmH8g81kP2Cb",
        "outputId": "7f94a095-1b5f-4351-c9ab-c4da299ac76a"
      },
      "execution_count": 13,
      "outputs": [
        {
          "output_type": "stream",
          "name": "stdout",
          "text": [
            "(2921, 6)\n"
          ]
        }
      ]
    },
    {
      "cell_type": "code",
      "source": [
        "%%time\n",
        "# 一番近い施設の距離\n",
        "df_pop_master['図書館(最近傍距離)'] = get_value_of_nearest_facility(df_pop_master, df_library_master, '図書館', 'min')\n",
        "# 近い3件の距離の平均\n",
        "df_pop_master['図書館(平均距離)'] = get_value_of_nearest_facility(df_pop_master, df_library_master, '図書館', 'mean', 3)\n",
        "# 2km以内の施設の数\n",
        "df_pop_master['図書館(数)'] = get_value_of_nearest_facility(df_pop_master, df_library_master, '図書館', 'count', 2)"
      ],
      "metadata": {
        "colab": {
          "base_uri": "https://localhost:8080/"
        },
        "id": "sn7VhpDmQJsi",
        "outputId": "0bc72588-d4a5-472e-e3ff-5e50b95f18c3"
      },
      "execution_count": 14,
      "outputs": [
        {
          "output_type": "stream",
          "name": "stdout",
          "text": [
            "CPU times: user 60 s, sys: 184 ms, total: 1min\n",
            "Wall time: 1min 5s\n"
          ]
        }
      ]
    },
    {
      "cell_type": "code",
      "source": [
        "print(df_pop_master.shape)\n",
        "df_pop_master.head()"
      ],
      "metadata": {
        "colab": {
          "base_uri": "https://localhost:8080/",
          "height": 224
        },
        "id": "pNI5D7LZTJE3",
        "outputId": "87f96c0d-5a51-476e-97af-8ed67d6a4330"
      },
      "execution_count": 15,
      "outputs": [
        {
          "output_type": "stream",
          "name": "stdout",
          "text": [
            "(2921, 9)\n"
          ]
        },
        {
          "output_type": "execute_result",
          "data": {
            "text/plain": [
              "     地域ID 市区町村名   町名     町丁目         緯度          経度  図書館(最近傍距離)  図書館(平均距離)  \\\n",
              "0  101003  千代田区  丸の内  丸の内１丁目  35.681610  139.767511    1.286453   1.301848   \n",
              "1  101004  千代田区  丸の内  丸の内２丁目  35.680071  139.763944    1.242295   1.349516   \n",
              "2  101005  千代田区  丸の内  丸の内３丁目  35.676890  139.764039    1.000856   1.274480   \n",
              "3  101007  千代田区  大手町  大手町１丁目  35.688067  139.764353    0.687988   1.136131   \n",
              "4  101008  千代田区  大手町  大手町２丁目  35.686416  139.768530    0.772108   1.182786   \n",
              "\n",
              "   図書館(数)  \n",
              "0       5  \n",
              "1       5  \n",
              "2       4  \n",
              "3       5  \n",
              "4       6  "
            ],
            "text/html": [
              "\n",
              "  <div id=\"df-1a18015d-91e2-4cb9-bfe1-bfe15eecc244\">\n",
              "    <div class=\"colab-df-container\">\n",
              "      <div>\n",
              "<style scoped>\n",
              "    .dataframe tbody tr th:only-of-type {\n",
              "        vertical-align: middle;\n",
              "    }\n",
              "\n",
              "    .dataframe tbody tr th {\n",
              "        vertical-align: top;\n",
              "    }\n",
              "\n",
              "    .dataframe thead th {\n",
              "        text-align: right;\n",
              "    }\n",
              "</style>\n",
              "<table border=\"1\" class=\"dataframe\">\n",
              "  <thead>\n",
              "    <tr style=\"text-align: right;\">\n",
              "      <th></th>\n",
              "      <th>地域ID</th>\n",
              "      <th>市区町村名</th>\n",
              "      <th>町名</th>\n",
              "      <th>町丁目</th>\n",
              "      <th>緯度</th>\n",
              "      <th>経度</th>\n",
              "      <th>図書館(最近傍距離)</th>\n",
              "      <th>図書館(平均距離)</th>\n",
              "      <th>図書館(数)</th>\n",
              "    </tr>\n",
              "  </thead>\n",
              "  <tbody>\n",
              "    <tr>\n",
              "      <th>0</th>\n",
              "      <td>101003</td>\n",
              "      <td>千代田区</td>\n",
              "      <td>丸の内</td>\n",
              "      <td>丸の内１丁目</td>\n",
              "      <td>35.681610</td>\n",
              "      <td>139.767511</td>\n",
              "      <td>1.286453</td>\n",
              "      <td>1.301848</td>\n",
              "      <td>5</td>\n",
              "    </tr>\n",
              "    <tr>\n",
              "      <th>1</th>\n",
              "      <td>101004</td>\n",
              "      <td>千代田区</td>\n",
              "      <td>丸の内</td>\n",
              "      <td>丸の内２丁目</td>\n",
              "      <td>35.680071</td>\n",
              "      <td>139.763944</td>\n",
              "      <td>1.242295</td>\n",
              "      <td>1.349516</td>\n",
              "      <td>5</td>\n",
              "    </tr>\n",
              "    <tr>\n",
              "      <th>2</th>\n",
              "      <td>101005</td>\n",
              "      <td>千代田区</td>\n",
              "      <td>丸の内</td>\n",
              "      <td>丸の内３丁目</td>\n",
              "      <td>35.676890</td>\n",
              "      <td>139.764039</td>\n",
              "      <td>1.000856</td>\n",
              "      <td>1.274480</td>\n",
              "      <td>4</td>\n",
              "    </tr>\n",
              "    <tr>\n",
              "      <th>3</th>\n",
              "      <td>101007</td>\n",
              "      <td>千代田区</td>\n",
              "      <td>大手町</td>\n",
              "      <td>大手町１丁目</td>\n",
              "      <td>35.688067</td>\n",
              "      <td>139.764353</td>\n",
              "      <td>0.687988</td>\n",
              "      <td>1.136131</td>\n",
              "      <td>5</td>\n",
              "    </tr>\n",
              "    <tr>\n",
              "      <th>4</th>\n",
              "      <td>101008</td>\n",
              "      <td>千代田区</td>\n",
              "      <td>大手町</td>\n",
              "      <td>大手町２丁目</td>\n",
              "      <td>35.686416</td>\n",
              "      <td>139.768530</td>\n",
              "      <td>0.772108</td>\n",
              "      <td>1.182786</td>\n",
              "      <td>6</td>\n",
              "    </tr>\n",
              "  </tbody>\n",
              "</table>\n",
              "</div>\n",
              "      <button class=\"colab-df-convert\" onclick=\"convertToInteractive('df-1a18015d-91e2-4cb9-bfe1-bfe15eecc244')\"\n",
              "              title=\"Convert this dataframe to an interactive table.\"\n",
              "              style=\"display:none;\">\n",
              "        \n",
              "  <svg xmlns=\"http://www.w3.org/2000/svg\" height=\"24px\"viewBox=\"0 0 24 24\"\n",
              "       width=\"24px\">\n",
              "    <path d=\"M0 0h24v24H0V0z\" fill=\"none\"/>\n",
              "    <path d=\"M18.56 5.44l.94 2.06.94-2.06 2.06-.94-2.06-.94-.94-2.06-.94 2.06-2.06.94zm-11 1L8.5 8.5l.94-2.06 2.06-.94-2.06-.94L8.5 2.5l-.94 2.06-2.06.94zm10 10l.94 2.06.94-2.06 2.06-.94-2.06-.94-.94-2.06-.94 2.06-2.06.94z\"/><path d=\"M17.41 7.96l-1.37-1.37c-.4-.4-.92-.59-1.43-.59-.52 0-1.04.2-1.43.59L10.3 9.45l-7.72 7.72c-.78.78-.78 2.05 0 2.83L4 21.41c.39.39.9.59 1.41.59.51 0 1.02-.2 1.41-.59l7.78-7.78 2.81-2.81c.8-.78.8-2.07 0-2.86zM5.41 20L4 18.59l7.72-7.72 1.47 1.35L5.41 20z\"/>\n",
              "  </svg>\n",
              "      </button>\n",
              "      \n",
              "  <style>\n",
              "    .colab-df-container {\n",
              "      display:flex;\n",
              "      flex-wrap:wrap;\n",
              "      gap: 12px;\n",
              "    }\n",
              "\n",
              "    .colab-df-convert {\n",
              "      background-color: #E8F0FE;\n",
              "      border: none;\n",
              "      border-radius: 50%;\n",
              "      cursor: pointer;\n",
              "      display: none;\n",
              "      fill: #1967D2;\n",
              "      height: 32px;\n",
              "      padding: 0 0 0 0;\n",
              "      width: 32px;\n",
              "    }\n",
              "\n",
              "    .colab-df-convert:hover {\n",
              "      background-color: #E2EBFA;\n",
              "      box-shadow: 0px 1px 2px rgba(60, 64, 67, 0.3), 0px 1px 3px 1px rgba(60, 64, 67, 0.15);\n",
              "      fill: #174EA6;\n",
              "    }\n",
              "\n",
              "    [theme=dark] .colab-df-convert {\n",
              "      background-color: #3B4455;\n",
              "      fill: #D2E3FC;\n",
              "    }\n",
              "\n",
              "    [theme=dark] .colab-df-convert:hover {\n",
              "      background-color: #434B5C;\n",
              "      box-shadow: 0px 1px 3px 1px rgba(0, 0, 0, 0.15);\n",
              "      filter: drop-shadow(0px 1px 2px rgba(0, 0, 0, 0.3));\n",
              "      fill: #FFFFFF;\n",
              "    }\n",
              "  </style>\n",
              "\n",
              "      <script>\n",
              "        const buttonEl =\n",
              "          document.querySelector('#df-1a18015d-91e2-4cb9-bfe1-bfe15eecc244 button.colab-df-convert');\n",
              "        buttonEl.style.display =\n",
              "          google.colab.kernel.accessAllowed ? 'block' : 'none';\n",
              "\n",
              "        async function convertToInteractive(key) {\n",
              "          const element = document.querySelector('#df-1a18015d-91e2-4cb9-bfe1-bfe15eecc244');\n",
              "          const dataTable =\n",
              "            await google.colab.kernel.invokeFunction('convertToInteractive',\n",
              "                                                     [key], {});\n",
              "          if (!dataTable) return;\n",
              "\n",
              "          const docLinkHtml = 'Like what you see? Visit the ' +\n",
              "            '<a target=\"_blank\" href=https://colab.research.google.com/notebooks/data_table.ipynb>data table notebook</a>'\n",
              "            + ' to learn more about interactive tables.';\n",
              "          element.innerHTML = '';\n",
              "          dataTable['output_type'] = 'display_data';\n",
              "          await google.colab.output.renderOutput(dataTable, element);\n",
              "          const docLink = document.createElement('div');\n",
              "          docLink.innerHTML = docLinkHtml;\n",
              "          element.appendChild(docLink);\n",
              "        }\n",
              "      </script>\n",
              "    </div>\n",
              "  </div>\n",
              "  "
            ]
          },
          "metadata": {},
          "execution_count": 15
        }
      ]
    },
    {
      "cell_type": "code",
      "source": [
        "sns.histplot(df_pop_master['図書館(数)'], bins=10)\n",
        "plt.show()"
      ],
      "metadata": {
        "colab": {
          "base_uri": "https://localhost:8080/",
          "height": 278
        },
        "id": "Prj7gyyxTK0s",
        "outputId": "3aace228-5dcb-4d68-ad20-3ecac44671bd"
      },
      "execution_count": 16,
      "outputs": [
        {
          "output_type": "display_data",
          "data": {
            "text/plain": [
              "<Figure size 432x288 with 1 Axes>"
            ],
            "image/png": "[encoded data removed]"
          },
          "metadata": {
            "needs_background": "light"
          }
        }
      ]
    },
    {
      "cell_type": "code",
      "source": [
        "sns.histplot(df_pop_master['図書館(最近傍距離)'], bins=20)\n",
        "plt.show()"
      ],
      "metadata": {
        "colab": {
          "base_uri": "https://localhost:8080/",
          "height": 278
        },
        "id": "itr_GUKtTc0W",
        "outputId": "dc21bbab-901f-4d18-d16c-fc456a39329c"
      },
      "execution_count": 17,
      "outputs": [
        {
          "output_type": "display_data",
          "data": {
            "text/plain": [
              "<Figure size 432x288 with 1 Axes>"
            ],
            "image/png": "[encoded data removed]"
          },
          "metadata": {
            "needs_background": "light"
          }
        }
      ]
    },
    {
      "cell_type": "code",
      "source": [
        "sns.histplot(df_pop_master['図書館(平均距離)'], bins=20)\n",
        "plt.show()"
      ],
      "metadata": {
        "colab": {
          "base_uri": "https://localhost:8080/",
          "height": 278
        },
        "id": "Q2u15pO4Tj6v",
        "outputId": "bc891183-84c7-42aa-8909-0f47c3696bc6"
      },
      "execution_count": 18,
      "outputs": [
        {
          "output_type": "display_data",
          "data": {
            "text/plain": [
              "<Figure size 432x288 with 1 Axes>"
            ],
            "image/png": "[encoded data removed]"
          },
          "metadata": {
            "needs_background": "light"
          }
        }
      ]
    },
    {
      "cell_type": "code",
      "source": [
        "def normalize_score(sr_data, high=True, outlier=True):\n",
        "    score = (sr_data - sr_data.mean())/sr_data.std()\n",
        "    score = score if high else -score\n",
        "\n",
        "    if outlier:\n",
        "        high_s = score.quantile(0.99)\n",
        "        low_s = score.quantile(0.01)\n",
        "        score[score > high_s] = high_s\n",
        "        score[score < low_s] = low_s\n",
        "    else:\n",
        "        high_s = score.max()\n",
        "        low_s = score.min()\n",
        "        \n",
        "    return (score - low_s)/(high_s - low_s)\n",
        "\n",
        "\n",
        "def rank_score(sr_data):\n",
        "    size = sr_data.notna().sum()\n",
        "    rank = sr_data.rank()\n",
        "    result = rank.copy()\n",
        "    # 0~1: 15%, 1~2: 20%, 2~3: 30%, 3~4: 20%, 4~5: 15%\n",
        "    level_list = [0.15, (0.15+0.2), (0.15+0.2+0.3), (0.15+0.2+0.3+0.2), 1]\n",
        "    \n",
        "    pre_level = 0\n",
        "    for index, level in enumerate([lv*size for lv in level_list]):\n",
        "        result[(rank > pre_level)&(rank <= level)] = (rank - pre_level)/(level - pre_level) + index\n",
        "        pre_level = level\n",
        "\n",
        "    return result"
      ],
      "metadata": {
        "id": "qsPRvvbUTnlK"
      },
      "execution_count": 19,
      "outputs": []
    },
    {
      "cell_type": "code",
      "source": [
        "df_pop_master['図書館(数)レベル'] = normalize_score(df_pop_master['図書館(数)'], outlier=False)\n",
        "sns.histplot(df_pop_master['図書館(数)レベル'], bins=10)\n",
        "plt.show()"
      ],
      "metadata": {
        "colab": {
          "base_uri": "https://localhost:8080/",
          "height": 278
        },
        "id": "_sjdQnHMVX4b",
        "outputId": "1a4e2887-d622-4ecd-bf5c-7ec0167e0507"
      },
      "execution_count": 20,
      "outputs": [
        {
          "output_type": "display_data",
          "data": {
            "text/plain": [
              "<Figure size 432x288 with 1 Axes>"
            ],
            "image/png": "[encoded data removed]"
          },
          "metadata": {
            "needs_background": "light"
          }
        }
      ]
    },
    {
      "cell_type": "code",
      "source": [
        "df_pop_master['図書館(平均距離)レベル'] = normalize_score(df_pop_master['図書館(平均距離)'], False)\n",
        "sns.histplot(df_pop_master['図書館(平均距離)レベル'], bins=20)\n",
        "plt.show()"
      ],
      "metadata": {
        "colab": {
          "base_uri": "https://localhost:8080/",
          "height": 278
        },
        "id": "3yn6iVneV45R",
        "outputId": "b3dd12f5-7476-49af-d50a-8312859b360a"
      },
      "execution_count": 21,
      "outputs": [
        {
          "output_type": "display_data",
          "data": {
            "text/plain": [
              "<Figure size 432x288 with 1 Axes>"
            ],
            "image/png": "[encoded data removed]"
          },
          "metadata": {
            "needs_background": "light"
          }
        }
      ]
    },
    {
      "cell_type": "code",
      "source": [
        "df_pop_master['図書館(最近傍距離)レベル'] = normalize_score(df_pop_master['図書館(最近傍距離)'], False)\n",
        "sns.histplot(df_pop_master['図書館(最近傍距離)レベル'], bins=20)\n",
        "plt.show()"
      ],
      "metadata": {
        "colab": {
          "base_uri": "https://localhost:8080/",
          "height": 278
        },
        "id": "Rr-ML1oEWcCQ",
        "outputId": "1d3b2ba0-6296-44b4-8e7e-820aa09360d8"
      },
      "execution_count": 22,
      "outputs": [
        {
          "output_type": "display_data",
          "data": {
            "text/plain": [
              "<Figure size 432x288 with 1 Axes>"
            ],
            "image/png": "[encoded data removed]"
          },
          "metadata": {
            "needs_background": "light"
          }
        }
      ]
    },
    {
      "cell_type": "code",
      "source": [
        "score_list = [\n",
        "    df_pop_master['図書館(最近傍距離)レベル'] * 1.0,\n",
        "    df_pop_master['図書館(平均距離)レベル'] * 0.7,\n",
        "    df_pop_master['図書館(数)レベル'] * 0.5,\n",
        "]\n",
        "df_pop_master['_図書館スコア'] = normalize_score(pd.concat(score_list, axis=1).sum(axis=1, skipna=False), outlier=False)\n",
        "df_pop_master['図書館スコア'] = rank_score(df_pop_master['_図書館スコア'])"
      ],
      "metadata": {
        "id": "0Kg1KbFwWrHx"
      },
      "execution_count": 23,
      "outputs": []
    },
    {
      "cell_type": "code",
      "source": [
        "sns.histplot(df_pop_master['_図書館スコア'], bins=20)\n",
        "plt.show()"
      ],
      "metadata": {
        "colab": {
          "base_uri": "https://localhost:8080/",
          "height": 277
        },
        "id": "zncizh76Yzrp",
        "outputId": "0fcada38-e805-4d5d-d0de-ee53b3f5de0b"
      },
      "execution_count": 24,
      "outputs": [
        {
          "output_type": "display_data",
          "data": {
            "text/plain": [
              "<Figure size 432x288 with 1 Axes>"
            ],
            "image/png": "[encoded data removed]"
          },
          "metadata": {
            "needs_background": "light"
          }
        }
      ]
    },
    {
      "cell_type": "code",
      "source": [
        "sns.histplot(df_pop_master['図書館スコア'], bins=20)\n",
        "plt.show()"
      ],
      "metadata": {
        "colab": {
          "base_uri": "https://localhost:8080/",
          "height": 277
        },
        "id": "hjMG_V5TYpbn",
        "outputId": "59dd770b-6731-4331-bb0a-835bab79ec8c"
      },
      "execution_count": 25,
      "outputs": [
        {
          "output_type": "display_data",
          "data": {
            "text/plain": [
              "<Figure size 432x288 with 1 Axes>"
            ],
            "image/png": "[encoded data removed]"
          },
          "metadata": {
            "needs_background": "light"
          }
        }
      ]
    },
    {
      "cell_type": "code",
      "source": [
        "df_pop_master[['地域ID', '市区町村名', '町丁目', '図書館(最近傍距離)', '図書館(平均距離)', '図書館(数)', '図書館スコア']]\\\n",
        "    .to_csv(os.path.join(DIR_NAME, output_score_file), index=False)"
      ],
      "metadata": {
        "id": "sSfVVuQla7Os"
      },
      "execution_count": 26,
      "outputs": []
    },
    {
      "cell_type": "code",
      "source": [
        "plt.figure(figsize=(15, 5))\n",
        "sns.barplot(x='市区町村名', y='図書館スコア', data=df_pop_master)\n",
        "plt.show()"
      ],
      "metadata": {
        "colab": {
          "base_uri": "https://localhost:8080/",
          "height": 333
        },
        "id": "3tJjlj0keD_-",
        "outputId": "aad00c0b-eecd-4977-b2a9-48476d98a67a"
      },
      "execution_count": 27,
      "outputs": [
        {
          "output_type": "display_data",
          "data": {
            "text/plain": [
              "<Figure size 1080x360 with 1 Axes>"
            ],
            "image/png": "[encoded data removed]"
          },
          "metadata": {
            "needs_background": "light"
          }
        }
      ]
    },
    {
      "cell_type": "code",
      "source": [
        "df_library_level = df_pop_master.copy()\n",
        "df_library_level['rank'] = df_library_level.groupby('町名')['図書館スコア'].transform('rank', ascending=False)\n",
        "df_library_level = df_library_level[df_library_level['rank'] == 1].sort_values('図書館スコア', ascending=False)[\n",
        "    ['市区町村名', '町名', '町丁目', '図書館スコア', '_図書館スコア', '図書館(最近傍距離)', '図書館(平均距離)', '図書館(数)']\n",
        "].reset_index(drop=True)\n",
        "print(df_library_level.shape)"
      ],
      "metadata": {
        "colab": {
          "base_uri": "https://localhost:8080/"
        },
        "id": "JtdMzyO3YxKE",
        "outputId": "df01b001-5190-4278-a944-c30b9e46dc84"
      },
      "execution_count": 28,
      "outputs": [
        {
          "output_type": "stream",
          "name": "stdout",
          "text": [
            "(695, 8)\n"
          ]
        }
      ]
    },
    {
      "cell_type": "code",
      "source": [
        "df_library_level.head(20)"
      ],
      "metadata": {
        "colab": {
          "base_uri": "https://localhost:8080/",
          "height": 677
        },
        "id": "HmlzRQiaZZZC",
        "outputId": "dadde259-5c3c-442b-e506-0a20f461f386"
      },
      "execution_count": 29,
      "outputs": [
        {
          "output_type": "execute_result",
          "data": {
            "text/plain": [
              "   市区町村名    町名      町丁目    図書館スコア   _図書館スコア  図書館(最近傍距離)  図書館(平均距離)  図書館(数)\n",
              "0     北区   上中里   上中里１丁目  5.000000  1.000000    0.126370   0.529664      13\n",
              "1     北区  田端新町  田端新町２丁目  4.997711  0.991115    0.135295   0.581013      13\n",
              "2     北区   上十条   上十条３丁目  4.995423  0.987172    0.081841   0.572226      12\n",
              "3    中野区   東中野   東中野１丁目  4.993134  0.965534    0.104376   0.566147      11\n",
              "4     北区    田端    田端２丁目  4.990846  0.964483    0.127197   0.434601      11\n",
              "5    荒川区  西日暮里  西日暮里６丁目  4.988557  0.961340    0.140458   0.510588      11\n",
              "6    文京区   本駒込   本駒込４丁目  4.986268  0.960356    0.144613   0.416272      11\n",
              "7     北区   東十条   東十条３丁目  4.983980  0.951047    0.025586   0.577180      10\n",
              "8     北区   昭和町   昭和町３丁目  4.981691  0.947688    0.092581   0.584521      10\n",
              "9    新宿区   大久保   大久保２丁目  4.977114  0.941707    0.148785   0.250977      10\n",
              "10   品川区    二葉    二葉１丁目  4.974825  0.941093    0.118638   0.587106      10\n",
              "11   豊島区    駒込    駒込２丁目  4.970248  0.939535    0.075217   0.520286       9\n",
              "12    北区    中里    中里２丁目  4.967960  0.937734    0.308067   0.548812      12\n",
              "13   荒川区   東尾久   東尾久４丁目  4.965671  0.937670    0.279951   0.699142      13\n",
              "14    北区    豊島    豊島１丁目  4.963383  0.935999    0.111354   0.629148      10\n",
              "15   新宿区    戸山    戸山２丁目  4.961094  0.934620    0.178686   0.419777      10\n",
              "16    北区   西ヶ原   西ヶ原１丁目  4.956517  0.933332    0.231837   0.578441      11\n",
              "17   荒川区  東日暮里  東日暮里６丁目  4.954228  0.933006    0.139926   0.714723      11\n",
              "18   豊島区  雑司が谷  雑司が谷３丁目  4.951940  0.932970    0.147477   0.703911      11\n",
              "19   品川区    中延    中延４丁目  4.949651  0.929925    0.120949   0.652570      10"
            ],
            "text/html": [
              "\n",
              "  <div id=\"df-b685a1ad-eec0-4ff0-a187-1f397233e9dd\">\n",
              "    <div class=\"colab-df-container\">\n",
              "      <div>\n",
              "<style scoped>\n",
              "    .dataframe tbody tr th:only-of-type {\n",
              "        vertical-align: middle;\n",
              "    }\n",
              "\n",
              "    .dataframe tbody tr th {\n",
              "        vertical-align: top;\n",
              "    }\n",
              "\n",
              "    .dataframe thead th {\n",
              "        text-align: right;\n",
              "    }\n",
              "</style>\n",
              "<table border=\"1\" class=\"dataframe\">\n",
              "  <thead>\n",
              "    <tr style=\"text-align: right;\">\n",
              "      <th></th>\n",
              "      <th>市区町村名</th>\n",
              "      <th>町名</th>\n",
              "      <th>町丁目</th>\n",
              "      <th>図書館スコア</th>\n",
              "      <th>_図書館スコア</th>\n",
              "      <th>図書館(最近傍距離)</th>\n",
              "      <th>図書館(平均距離)</th>\n",
              "      <th>図書館(数)</th>\n",
              "    </tr>\n",
              "  </thead>\n",
              "  <tbody>\n",
              "    <tr>\n",
              "      <th>0</th>\n",
              "      <td>北区</td>\n",
              "      <td>上中里</td>\n",
              "      <td>上中里１丁目</td>\n",
              "      <td>5.000000</td>\n",
              "      <td>1.000000</td>\n",
              "      <td>0.126370</td>\n",
              "      <td>0.529664</td>\n",
              "      <td>13</td>\n",
              "    </tr>\n",
              "    <tr>\n",
              "      <th>1</th>\n",
              "      <td>北区</td>\n",
              "      <td>田端新町</td>\n",
              "      <td>田端新町２丁目</td>\n",
              "      <td>4.997711</td>\n",
              "      <td>0.991115</td>\n",
              "      <td>0.135295</td>\n",
              "      <td>0.581013</td>\n",
              "      <td>13</td>\n",
              "    </tr>\n",
              "    <tr>\n",
              "      <th>2</th>\n",
              "      <td>北区</td>\n",
              "      <td>上十条</td>\n",
              "      <td>上十条３丁目</td>\n",
              "      <td>4.995423</td>\n",
              "      <td>0.987172</td>\n",
              "      <td>0.081841</td>\n",
              "      <td>0.572226</td>\n",
              "      <td>12</td>\n",
              "    </tr>\n",
              "    <tr>\n",
              "      <th>3</th>\n",
              "      <td>中野区</td>\n",
              "      <td>東中野</td>\n",
              "      <td>東中野１丁目</td>\n",
              "      <td>4.993134</td>\n",
              "      <td>0.965534</td>\n",
              "      <td>0.104376</td>\n",
              "      <td>0.566147</td>\n",
              "      <td>11</td>\n",
              "    </tr>\n",
              "    <tr>\n",
              "      <th>4</th>\n",
              "      <td>北区</td>\n",
              "      <td>田端</td>\n",
              "      <td>田端２丁目</td>\n",
              "      <td>4.990846</td>\n",
              "      <td>0.964483</td>\n",
              "      <td>0.127197</td>\n",
              "      <td>0.434601</td>\n",
              "      <td>11</td>\n",
              "    </tr>\n",
              "    <tr>\n",
              "      <th>5</th>\n",
              "      <td>荒川区</td>\n",
              "      <td>西日暮里</td>\n",
              "      <td>西日暮里６丁目</td>\n",
              "      <td>4.988557</td>\n",
              "      <td>0.961340</td>\n",
              "      <td>0.140458</td>\n",
              "      <td>0.510588</td>\n",
              "      <td>11</td>\n",
              "    </tr>\n",
              "    <tr>\n",
              "      <th>6</th>\n",
              "      <td>文京区</td>\n",
              "      <td>本駒込</td>\n",
              "      <td>本駒込４丁目</td>\n",
              "      <td>4.986268</td>\n",
              "      <td>0.960356</td>\n",
              "      <td>0.144613</td>\n",
              "      <td>0.416272</td>\n",
              "      <td>11</td>\n",
              "    </tr>\n",
              "    <tr>\n",
              "      <th>7</th>\n",
              "      <td>北区</td>\n",
              "      <td>東十条</td>\n",
              "      <td>東十条３丁目</td>\n",
              "      <td>4.983980</td>\n",
              "      <td>0.951047</td>\n",
              "      <td>0.025586</td>\n",
              "      <td>0.577180</td>\n",
              "      <td>10</td>\n",
              "    </tr>\n",
              "    <tr>\n",
              "      <th>8</th>\n",
              "      <td>北区</td>\n",
              "      <td>昭和町</td>\n",
              "      <td>昭和町３丁目</td>\n",
              "      <td>4.981691</td>\n",
              "      <td>0.947688</td>\n",
              "      <td>0.092581</td>\n",
              "      <td>0.584521</td>\n",
              "      <td>10</td>\n",
              "    </tr>\n",
              "    <tr>\n",
              "      <th>9</th>\n",
              "      <td>新宿区</td>\n",
              "      <td>大久保</td>\n",
              "      <td>大久保２丁目</td>\n",
              "      <td>4.977114</td>\n",
              "      <td>0.941707</td>\n",
              "      <td>0.148785</td>\n",
              "      <td>0.250977</td>\n",
              "      <td>10</td>\n",
              "    </tr>\n",
              "    <tr>\n",
              "      <th>10</th>\n",
              "      <td>品川区</td>\n",
              "      <td>二葉</td>\n",
              "      <td>二葉１丁目</td>\n",
              "      <td>4.974825</td>\n",
              "      <td>0.941093</td>\n",
              "      <td>0.118638</td>\n",
              "      <td>0.587106</td>\n",
              "      <td>10</td>\n",
              "    </tr>\n",
              "    <tr>\n",
              "      <th>11</th>\n",
              "      <td>豊島区</td>\n",
              "      <td>駒込</td>\n",
              "      <td>駒込２丁目</td>\n",
              "      <td>4.970248</td>\n",
              "      <td>0.939535</td>\n",
              "      <td>0.075217</td>\n",
              "      <td>0.520286</td>\n",
              "      <td>9</td>\n",
              "    </tr>\n",
              "    <tr>\n",
              "      <th>12</th>\n",
              "      <td>北区</td>\n",
              "      <td>中里</td>\n",
              "      <td>中里２丁目</td>\n",
              "      <td>4.967960</td>\n",
              "      <td>0.937734</td>\n",
              "      <td>0.308067</td>\n",
              "      <td>0.548812</td>\n",
              "      <td>12</td>\n",
              "    </tr>\n",
              "    <tr>\n",
              "      <th>13</th>\n",
              "      <td>荒川区</td>\n",
              "      <td>東尾久</td>\n",
              "      <td>東尾久４丁目</td>\n",
              "      <td>4.965671</td>\n",
              "      <td>0.937670</td>\n",
              "      <td>0.279951</td>\n",
              "      <td>0.699142</td>\n",
              "      <td>13</td>\n",
              "    </tr>\n",
              "    <tr>\n",
              "      <th>14</th>\n",
              "      <td>北区</td>\n",
              "      <td>豊島</td>\n",
              "      <td>豊島１丁目</td>\n",
              "      <td>4.963383</td>\n",
              "      <td>0.935999</td>\n",
              "      <td>0.111354</td>\n",
              "      <td>0.629148</td>\n",
              "      <td>10</td>\n",
              "    </tr>\n",
              "    <tr>\n",
              "      <th>15</th>\n",
              "      <td>新宿区</td>\n",
              "      <td>戸山</td>\n",
              "      <td>戸山２丁目</td>\n",
              "      <td>4.961094</td>\n",
              "      <td>0.934620</td>\n",
              "      <td>0.178686</td>\n",
              "      <td>0.419777</td>\n",
              "      <td>10</td>\n",
              "    </tr>\n",
              "    <tr>\n",
              "      <th>16</th>\n",
              "      <td>北区</td>\n",
              "      <td>西ヶ原</td>\n",
              "      <td>西ヶ原１丁目</td>\n",
              "      <td>4.956517</td>\n",
              "      <td>0.933332</td>\n",
              "      <td>0.231837</td>\n",
              "      <td>0.578441</td>\n",
              "      <td>11</td>\n",
              "    </tr>\n",
              "    <tr>\n",
              "      <th>17</th>\n",
              "      <td>荒川区</td>\n",
              "      <td>東日暮里</td>\n",
              "      <td>東日暮里６丁目</td>\n",
              "      <td>4.954228</td>\n",
              "      <td>0.933006</td>\n",
              "      <td>0.139926</td>\n",
              "      <td>0.714723</td>\n",
              "      <td>11</td>\n",
              "    </tr>\n",
              "    <tr>\n",
              "      <th>18</th>\n",
              "      <td>豊島区</td>\n",
              "      <td>雑司が谷</td>\n",
              "      <td>雑司が谷３丁目</td>\n",
              "      <td>4.951940</td>\n",
              "      <td>0.932970</td>\n",
              "      <td>0.147477</td>\n",
              "      <td>0.703911</td>\n",
              "      <td>11</td>\n",
              "    </tr>\n",
              "    <tr>\n",
              "      <th>19</th>\n",
              "      <td>品川区</td>\n",
              "      <td>中延</td>\n",
              "      <td>中延４丁目</td>\n",
              "      <td>4.949651</td>\n",
              "      <td>0.929925</td>\n",
              "      <td>0.120949</td>\n",
              "      <td>0.652570</td>\n",
              "      <td>10</td>\n",
              "    </tr>\n",
              "  </tbody>\n",
              "</table>\n",
              "</div>\n",
              "      <button class=\"colab-df-convert\" onclick=\"convertToInteractive('df-b685a1ad-eec0-4ff0-a187-1f397233e9dd')\"\n",
              "              title=\"Convert this dataframe to an interactive table.\"\n",
              "              style=\"display:none;\">\n",
              "        \n",
              "  <svg xmlns=\"http://www.w3.org/2000/svg\" height=\"24px\"viewBox=\"0 0 24 24\"\n",
              "       width=\"24px\">\n",
              "    <path d=\"M0 0h24v24H0V0z\" fill=\"none\"/>\n",
              "    <path d=\"M18.56 5.44l.94 2.06.94-2.06 2.06-.94-2.06-.94-.94-2.06-.94 2.06-2.06.94zm-11 1L8.5 8.5l.94-2.06 2.06-.94-2.06-.94L8.5 2.5l-.94 2.06-2.06.94zm10 10l.94 2.06.94-2.06 2.06-.94-2.06-.94-.94-2.06-.94 2.06-2.06.94z\"/><path d=\"M17.41 7.96l-1.37-1.37c-.4-.4-.92-.59-1.43-.59-.52 0-1.04.2-1.43.59L10.3 9.45l-7.72 7.72c-.78.78-.78 2.05 0 2.83L4 21.41c.39.39.9.59 1.41.59.51 0 1.02-.2 1.41-.59l7.78-7.78 2.81-2.81c.8-.78.8-2.07 0-2.86zM5.41 20L4 18.59l7.72-7.72 1.47 1.35L5.41 20z\"/>\n",
              "  </svg>\n",
              "      </button>\n",
              "      \n",
              "  <style>\n",
              "    .colab-df-container {\n",
              "      display:flex;\n",
              "      flex-wrap:wrap;\n",
              "      gap: 12px;\n",
              "    }\n",
              "\n",
              "    .colab-df-convert {\n",
              "      background-color: #E8F0FE;\n",
              "      border: none;\n",
              "      border-radius: 50%;\n",
              "      cursor: pointer;\n",
              "      display: none;\n",
              "      fill: #1967D2;\n",
              "      height: 32px;\n",
              "      padding: 0 0 0 0;\n",
              "      width: 32px;\n",
              "    }\n",
              "\n",
              "    .colab-df-convert:hover {\n",
              "      background-color: #E2EBFA;\n",
              "      box-shadow: 0px 1px 2px rgba(60, 64, 67, 0.3), 0px 1px 3px 1px rgba(60, 64, 67, 0.15);\n",
              "      fill: #174EA6;\n",
              "    }\n",
              "\n",
              "    [theme=dark] .colab-df-convert {\n",
              "      background-color: #3B4455;\n",
              "      fill: #D2E3FC;\n",
              "    }\n",
              "\n",
              "    [theme=dark] .colab-df-convert:hover {\n",
              "      background-color: #434B5C;\n",
              "      box-shadow: 0px 1px 3px 1px rgba(0, 0, 0, 0.15);\n",
              "      filter: drop-shadow(0px 1px 2px rgba(0, 0, 0, 0.3));\n",
              "      fill: #FFFFFF;\n",
              "    }\n",
              "  </style>\n",
              "\n",
              "      <script>\n",
              "        const buttonEl =\n",
              "          document.querySelector('#df-b685a1ad-eec0-4ff0-a187-1f397233e9dd button.colab-df-convert');\n",
              "        buttonEl.style.display =\n",
              "          google.colab.kernel.accessAllowed ? 'block' : 'none';\n",
              "\n",
              "        async function convertToInteractive(key) {\n",
              "          const element = document.querySelector('#df-b685a1ad-eec0-4ff0-a187-1f397233e9dd');\n",
              "          const dataTable =\n",
              "            await google.colab.kernel.invokeFunction('convertToInteractive',\n",
              "                                                     [key], {});\n",
              "          if (!dataTable) return;\n",
              "\n",
              "          const docLinkHtml = 'Like what you see? Visit the ' +\n",
              "            '<a target=\"_blank\" href=https://colab.research.google.com/notebooks/data_table.ipynb>data table notebook</a>'\n",
              "            + ' to learn more about interactive tables.';\n",
              "          element.innerHTML = '';\n",
              "          dataTable['output_type'] = 'display_data';\n",
              "          await google.colab.output.renderOutput(dataTable, element);\n",
              "          const docLink = document.createElement('div');\n",
              "          docLink.innerHTML = docLinkHtml;\n",
              "          element.appendChild(docLink);\n",
              "        }\n",
              "      </script>\n",
              "    </div>\n",
              "  </div>\n",
              "  "
            ]
          },
          "metadata": {},
          "execution_count": 29
        }
      ]
    },
    {
      "cell_type": "code",
      "source": [
        "df_library_level.tail(20)"
      ],
      "metadata": {
        "colab": {
          "base_uri": "https://localhost:8080/",
          "height": 677
        },
        "id": "qAA-c_8MaoIQ",
        "outputId": "d8498afb-d82b-4867-8abb-fea80796b636"
      },
      "execution_count": 30,
      "outputs": [
        {
          "output_type": "execute_result",
          "data": {
            "text/plain": [
              "    市区町村名    町名      町丁目    図書館スコア   _図書館スコア  図書館(最近傍距離)  図書館(平均距離)  図書館(数)\n",
              "675   江東区    潮見    潮見２丁目  0.599611  0.425953    1.042739   1.650518       3\n",
              "676  世田谷区    野毛    野毛１丁目  0.542396  0.416903    0.810042   1.828520       1\n",
              "677  世田谷区   宇奈根   宇奈根１丁目  0.537819  0.415636    0.747611   1.927532       1\n",
              "678  江戸川区   北篠崎   北篠崎２丁目  0.505779  0.408385    1.313447   1.472211       4\n",
              "679   墨田区   吾妻橋   吾妻橋１丁目  0.480604  0.403914    1.271064   1.561686       4\n",
              "680   練馬区   三原台   三原台２丁目  0.460007  0.401364    1.079937   1.638889       2\n",
              "681   墨田区    太平    太平１丁目  0.455430  0.401217    1.050761   1.682418       2\n",
              "682   板橋区   新河岸   新河岸１丁目  0.427967  0.396014    1.125800   1.604871       2\n",
              "683   練馬区    谷原    谷原６丁目  0.411946  0.393546    1.076836   1.691609       2\n",
              "684   墨田区   東駒形   東駒形３丁目  0.377618  0.387220    1.241179   1.599386       3\n",
              "685   台東区    三筋    三筋２丁目  0.347866  0.374313    1.342576   1.530821       3\n",
              "686   台東区    駒形    駒形１丁目  0.331846  0.369102    1.214606   1.641027       2\n",
              "687  世田谷区   喜多見   喜多見６丁目  0.327269  0.366066    1.263459   1.588373       2\n",
              "688  世田谷区    玉堤    玉堤２丁目  0.318114  0.362343    0.957175   1.949899       1\n",
              "689   墨田区    横川    横川５丁目  0.295228  0.355683    1.416362   1.646733       4\n",
              "690   大田区  羽田空港  羽田空港１丁目  0.267765  0.350439    1.344716   1.674860       3\n",
              "691   大田区    東海    東海１丁目  0.185376  0.297248    1.566622   1.678565       3\n",
              "692   江東区    有明    有明１丁目  0.171644  0.288083    1.430053   1.825707       2\n",
              "693   江東区   夢の島   夢の島１丁目  0.100698  0.168865    1.771513   2.061767       2\n",
              "694   大田区   京浜島   京浜島１丁目  0.089255  0.132608    1.859669   2.156478       2"
            ],
            "text/html": [
              "\n",
              "  <div id=\"df-f4cf4096-fc96-4ce5-9d33-0d6fe78c3a08\">\n",
              "    <div class=\"colab-df-container\">\n",
              "      <div>\n",
              "<style scoped>\n",
              "    .dataframe tbody tr th:only-of-type {\n",
              "        vertical-align: middle;\n",
              "    }\n",
              "\n",
              "    .dataframe tbody tr th {\n",
              "        vertical-align: top;\n",
              "    }\n",
              "\n",
              "    .dataframe thead th {\n",
              "        text-align: right;\n",
              "    }\n",
              "</style>\n",
              "<table border=\"1\" class=\"dataframe\">\n",
              "  <thead>\n",
              "    <tr style=\"text-align: right;\">\n",
              "      <th></th>\n",
              "      <th>市区町村名</th>\n",
              "      <th>町名</th>\n",
              "      <th>町丁目</th>\n",
              "      <th>図書館スコア</th>\n",
              "      <th>_図書館スコア</th>\n",
              "      <th>図書館(最近傍距離)</th>\n",
              "      <th>図書館(平均距離)</th>\n",
              "      <th>図書館(数)</th>\n",
              "    </tr>\n",
              "  </thead>\n",
              "  <tbody>\n",
              "    <tr>\n",
              "      <th>675</th>\n",
              "      <td>江東区</td>\n",
              "      <td>潮見</td>\n",
              "      <td>潮見２丁目</td>\n",
              "      <td>0.599611</td>\n",
              "      <td>0.425953</td>\n",
              "      <td>1.042739</td>\n",
              "      <td>1.650518</td>\n",
              "      <td>3</td>\n",
              "    </tr>\n",
              "    <tr>\n",
              "      <th>676</th>\n",
              "      <td>世田谷区</td>\n",
              "      <td>野毛</td>\n",
              "      <td>野毛１丁目</td>\n",
              "      <td>0.542396</td>\n",
              "      <td>0.416903</td>\n",
              "      <td>0.810042</td>\n",
              "      <td>1.828520</td>\n",
              "      <td>1</td>\n",
              "    </tr>\n",
              "    <tr>\n",
              "      <th>677</th>\n",
              "      <td>世田谷区</td>\n",
              "      <td>宇奈根</td>\n",
              "      <td>宇奈根１丁目</td>\n",
              "      <td>0.537819</td>\n",
              "      <td>0.415636</td>\n",
              "      <td>0.747611</td>\n",
              "      <td>1.927532</td>\n",
              "      <td>1</td>\n",
              "    </tr>\n",
              "    <tr>\n",
              "      <th>678</th>\n",
              "      <td>江戸川区</td>\n",
              "      <td>北篠崎</td>\n",
              "      <td>北篠崎２丁目</td>\n",
              "      <td>0.505779</td>\n",
              "      <td>0.408385</td>\n",
              "      <td>1.313447</td>\n",
              "      <td>1.472211</td>\n",
              "      <td>4</td>\n",
              "    </tr>\n",
              "    <tr>\n",
              "      <th>679</th>\n",
              "      <td>墨田区</td>\n",
              "      <td>吾妻橋</td>\n",
              "      <td>吾妻橋１丁目</td>\n",
              "      <td>0.480604</td>\n",
              "      <td>0.403914</td>\n",
              "      <td>1.271064</td>\n",
              "      <td>1.561686</td>\n",
              "      <td>4</td>\n",
              "    </tr>\n",
              "    <tr>\n",
              "      <th>680</th>\n",
              "      <td>練馬区</td>\n",
              "      <td>三原台</td>\n",
              "      <td>三原台２丁目</td>\n",
              "      <td>0.460007</td>\n",
              "      <td>0.401364</td>\n",
              "      <td>1.079937</td>\n",
              "      <td>1.638889</td>\n",
              "      <td>2</td>\n",
              "    </tr>\n",
              "    <tr>\n",
              "      <th>681</th>\n",
              "      <td>墨田区</td>\n",
              "      <td>太平</td>\n",
              "      <td>太平１丁目</td>\n",
              "      <td>0.455430</td>\n",
              "      <td>0.401217</td>\n",
              "      <td>1.050761</td>\n",
              "      <td>1.682418</td>\n",
              "      <td>2</td>\n",
              "    </tr>\n",
              "    <tr>\n",
              "      <th>682</th>\n",
              "      <td>板橋区</td>\n",
              "      <td>新河岸</td>\n",
              "      <td>新河岸１丁目</td>\n",
              "      <td>0.427967</td>\n",
              "      <td>0.396014</td>\n",
              "      <td>1.125800</td>\n",
              "      <td>1.604871</td>\n",
              "      <td>2</td>\n",
              "    </tr>\n",
              "    <tr>\n",
              "      <th>683</th>\n",
              "      <td>練馬区</td>\n",
              "      <td>谷原</td>\n",
              "      <td>谷原６丁目</td>\n",
              "      <td>0.411946</td>\n",
              "      <td>0.393546</td>\n",
              "      <td>1.076836</td>\n",
              "      <td>1.691609</td>\n",
              "      <td>2</td>\n",
              "    </tr>\n",
              "    <tr>\n",
              "      <th>684</th>\n",
              "      <td>墨田区</td>\n",
              "      <td>東駒形</td>\n",
              "      <td>東駒形３丁目</td>\n",
              "      <td>0.377618</td>\n",
              "      <td>0.387220</td>\n",
              "      <td>1.241179</td>\n",
              "      <td>1.599386</td>\n",
              "      <td>3</td>\n",
              "    </tr>\n",
              "    <tr>\n",
              "      <th>685</th>\n",
              "      <td>台東区</td>\n",
              "      <td>三筋</td>\n",
              "      <td>三筋２丁目</td>\n",
              "      <td>0.347866</td>\n",
              "      <td>0.374313</td>\n",
              "      <td>1.342576</td>\n",
              "      <td>1.530821</td>\n",
              "      <td>3</td>\n",
              "    </tr>\n",
              "    <tr>\n",
              "      <th>686</th>\n",
              "      <td>台東区</td>\n",
              "      <td>駒形</td>\n",
              "      <td>駒形１丁目</td>\n",
              "      <td>0.331846</td>\n",
              "      <td>0.369102</td>\n",
              "      <td>1.214606</td>\n",
              "      <td>1.641027</td>\n",
              "      <td>2</td>\n",
              "    </tr>\n",
              "    <tr>\n",
              "      <th>687</th>\n",
              "      <td>世田谷区</td>\n",
              "      <td>喜多見</td>\n",
              "      <td>喜多見６丁目</td>\n",
              "      <td>0.327269</td>\n",
              "      <td>0.366066</td>\n",
              "      <td>1.263459</td>\n",
              "      <td>1.588373</td>\n",
              "      <td>2</td>\n",
              "    </tr>\n",
              "    <tr>\n",
              "      <th>688</th>\n",
              "      <td>世田谷区</td>\n",
              "      <td>玉堤</td>\n",
              "      <td>玉堤２丁目</td>\n",
              "      <td>0.318114</td>\n",
              "      <td>0.362343</td>\n",
              "      <td>0.957175</td>\n",
              "      <td>1.949899</td>\n",
              "      <td>1</td>\n",
              "    </tr>\n",
              "    <tr>\n",
              "      <th>689</th>\n",
              "      <td>墨田区</td>\n",
              "      <td>横川</td>\n",
              "      <td>横川５丁目</td>\n",
              "      <td>0.295228</td>\n",
              "      <td>0.355683</td>\n",
              "      <td>1.416362</td>\n",
              "      <td>1.646733</td>\n",
              "      <td>4</td>\n",
              "    </tr>\n",
              "    <tr>\n",
              "      <th>690</th>\n",
              "      <td>大田区</td>\n",
              "      <td>羽田空港</td>\n",
              "      <td>羽田空港１丁目</td>\n",
              "      <td>0.267765</td>\n",
              "      <td>0.350439</td>\n",
              "      <td>1.344716</td>\n",
              "      <td>1.674860</td>\n",
              "      <td>3</td>\n",
              "    </tr>\n",
              "    <tr>\n",
              "      <th>691</th>\n",
              "      <td>大田区</td>\n",
              "      <td>東海</td>\n",
              "      <td>東海１丁目</td>\n",
              "      <td>0.185376</td>\n",
              "      <td>0.297248</td>\n",
              "      <td>1.566622</td>\n",
              "      <td>1.678565</td>\n",
              "      <td>3</td>\n",
              "    </tr>\n",
              "    <tr>\n",
              "      <th>692</th>\n",
              "      <td>江東区</td>\n",
              "      <td>有明</td>\n",
              "      <td>有明１丁目</td>\n",
              "      <td>0.171644</td>\n",
              "      <td>0.288083</td>\n",
              "      <td>1.430053</td>\n",
              "      <td>1.825707</td>\n",
              "      <td>2</td>\n",
              "    </tr>\n",
              "    <tr>\n",
              "      <th>693</th>\n",
              "      <td>江東区</td>\n",
              "      <td>夢の島</td>\n",
              "      <td>夢の島１丁目</td>\n",
              "      <td>0.100698</td>\n",
              "      <td>0.168865</td>\n",
              "      <td>1.771513</td>\n",
              "      <td>2.061767</td>\n",
              "      <td>2</td>\n",
              "    </tr>\n",
              "    <tr>\n",
              "      <th>694</th>\n",
              "      <td>大田区</td>\n",
              "      <td>京浜島</td>\n",
              "      <td>京浜島１丁目</td>\n",
              "      <td>0.089255</td>\n",
              "      <td>0.132608</td>\n",
              "      <td>1.859669</td>\n",
              "      <td>2.156478</td>\n",
              "      <td>2</td>\n",
              "    </tr>\n",
              "  </tbody>\n",
              "</table>\n",
              "</div>\n",
              "      <button class=\"colab-df-convert\" onclick=\"convertToInteractive('df-f4cf4096-fc96-4ce5-9d33-0d6fe78c3a08')\"\n",
              "              title=\"Convert this dataframe to an interactive table.\"\n",
              "              style=\"display:none;\">\n",
              "        \n",
              "  <svg xmlns=\"http://www.w3.org/2000/svg\" height=\"24px\"viewBox=\"0 0 24 24\"\n",
              "       width=\"24px\">\n",
              "    <path d=\"M0 0h24v24H0V0z\" fill=\"none\"/>\n",
              "    <path d=\"M18.56 5.44l.94 2.06.94-2.06 2.06-.94-2.06-.94-.94-2.06-.94 2.06-2.06.94zm-11 1L8.5 8.5l.94-2.06 2.06-.94-2.06-.94L8.5 2.5l-.94 2.06-2.06.94zm10 10l.94 2.06.94-2.06 2.06-.94-2.06-.94-.94-2.06-.94 2.06-2.06.94z\"/><path d=\"M17.41 7.96l-1.37-1.37c-.4-.4-.92-.59-1.43-.59-.52 0-1.04.2-1.43.59L10.3 9.45l-7.72 7.72c-.78.78-.78 2.05 0 2.83L4 21.41c.39.39.9.59 1.41.59.51 0 1.02-.2 1.41-.59l7.78-7.78 2.81-2.81c.8-.78.8-2.07 0-2.86zM5.41 20L4 18.59l7.72-7.72 1.47 1.35L5.41 20z\"/>\n",
              "  </svg>\n",
              "      </button>\n",
              "      \n",
              "  <style>\n",
              "    .colab-df-container {\n",
              "      display:flex;\n",
              "      flex-wrap:wrap;\n",
              "      gap: 12px;\n",
              "    }\n",
              "\n",
              "    .colab-df-convert {\n",
              "      background-color: #E8F0FE;\n",
              "      border: none;\n",
              "      border-radius: 50%;\n",
              "      cursor: pointer;\n",
              "      display: none;\n",
              "      fill: #1967D2;\n",
              "      height: 32px;\n",
              "      padding: 0 0 0 0;\n",
              "      width: 32px;\n",
              "    }\n",
              "\n",
              "    .colab-df-convert:hover {\n",
              "      background-color: #E2EBFA;\n",
              "      box-shadow: 0px 1px 2px rgba(60, 64, 67, 0.3), 0px 1px 3px 1px rgba(60, 64, 67, 0.15);\n",
              "      fill: #174EA6;\n",
              "    }\n",
              "\n",
              "    [theme=dark] .colab-df-convert {\n",
              "      background-color: #3B4455;\n",
              "      fill: #D2E3FC;\n",
              "    }\n",
              "\n",
              "    [theme=dark] .colab-df-convert:hover {\n",
              "      background-color: #434B5C;\n",
              "      box-shadow: 0px 1px 3px 1px rgba(0, 0, 0, 0.15);\n",
              "      filter: drop-shadow(0px 1px 2px rgba(0, 0, 0, 0.3));\n",
              "      fill: #FFFFFF;\n",
              "    }\n",
              "  </style>\n",
              "\n",
              "      <script>\n",
              "        const buttonEl =\n",
              "          document.querySelector('#df-f4cf4096-fc96-4ce5-9d33-0d6fe78c3a08 button.colab-df-convert');\n",
              "        buttonEl.style.display =\n",
              "          google.colab.kernel.accessAllowed ? 'block' : 'none';\n",
              "\n",
              "        async function convertToInteractive(key) {\n",
              "          const element = document.querySelector('#df-f4cf4096-fc96-4ce5-9d33-0d6fe78c3a08');\n",
              "          const dataTable =\n",
              "            await google.colab.kernel.invokeFunction('convertToInteractive',\n",
              "                                                     [key], {});\n",
              "          if (!dataTable) return;\n",
              "\n",
              "          const docLinkHtml = 'Like what you see? Visit the ' +\n",
              "            '<a target=\"_blank\" href=https://colab.research.google.com/notebooks/data_table.ipynb>data table notebook</a>'\n",
              "            + ' to learn more about interactive tables.';\n",
              "          element.innerHTML = '';\n",
              "          dataTable['output_type'] = 'display_data';\n",
              "          await google.colab.output.renderOutput(dataTable, element);\n",
              "          const docLink = document.createElement('div');\n",
              "          docLink.innerHTML = docLinkHtml;\n",
              "          element.appendChild(docLink);\n",
              "        }\n",
              "      </script>\n",
              "    </div>\n",
              "  </div>\n",
              "  "
            ]
          },
          "metadata": {},
          "execution_count": 30
        }
      ]
    },
    {
      "cell_type": "code",
      "source": [],
      "metadata": {
        "id": "Lk6O8Y3Dd5di"
      },
      "execution_count": 30,
      "outputs": []
    }
  ]
}