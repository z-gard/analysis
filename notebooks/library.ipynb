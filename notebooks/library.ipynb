{
  "nbformat": 4,
  "nbformat_minor": 0,
  "metadata": {
    "colab": {
      "provenance": [],
      "authorship_tag": "ABX9TyP9nQtUqcqWmbxiCbjNyN00",
      "include_colab_link": true
    },
    "kernelspec": {
      "name": "python3",
      "display_name": "Python 3"
    },
    "language_info": {
      "name": "python"
    }
  },
  "cells": [
    {
      "cell_type": "markdown",
      "metadata": {
        "id": "view-in-github",
        "colab_type": "text"
      },
      "source": [
        "<a href=\"https://colab.research.google.com/github/z-gard/analysis/blob/main/notebooks/library.ipynb\" target=\"_parent\"><img src=\"https://colab.research.google.com/assets/colab-badge.svg\" alt=\"Open In Colab\"/></a>"
      ]
    },
    {
      "cell_type": "markdown",
      "source": [
        "# 図書館\n",
        "- [図書館](https://catalog.data.metro.tokyo.lg.jp/dataset/t000021d2000000003/resource/7108f0a3-0257-424a-9722-e84999a01392)"
      ],
      "metadata": {
        "id": "zBy6ZmZPOhfq"
      }
    },
    {
      "cell_type": "code",
      "execution_count": 1,
      "metadata": {
        "id": "cDOcy7pFOdsC"
      },
      "outputs": [],
      "source": [
        "!pip install -q japanize-matplotlib"
      ]
    },
    {
      "cell_type": "code",
      "source": [
        "from google.colab import drive\n",
        "drive.mount('/content/drive')"
      ],
      "metadata": {
        "colab": {
          "base_uri": "https://localhost:8080/"
        },
        "id": "rYTHrEAdOlBC",
        "outputId": "8c33db21-09b1-440e-cef7-f4f59afad92f"
      },
      "execution_count": 2,
      "outputs": [
        {
          "output_type": "stream",
          "name": "stdout",
          "text": [
            "Drive already mounted at /content/drive; to attempt to forcibly remount, call drive.mount(\"/content/drive\", force_remount=True).\n"
          ]
        }
      ]
    },
    {
      "cell_type": "code",
      "source": [
        "DIR_NAME = '/content/drive/MyDrive/z-gard/data'"
      ],
      "metadata": {
        "id": "mKIhoL-BOtAE"
      },
      "execution_count": 3,
      "outputs": []
    },
    {
      "cell_type": "code",
      "source": [
        "output_master_file = 'library_master.csv'\n",
        "output_score_file = 'library_score.csv'"
      ],
      "metadata": {
        "id": "mNyg0hNuJWtJ"
      },
      "execution_count": 4,
      "outputs": []
    },
    {
      "cell_type": "code",
      "source": [
        "import os\n",
        "import requests\n",
        "import json\n",
        "import pandas as pd\n",
        "from urllib.parse import urlparse\n",
        "import math\n",
        "import io\n",
        "import matplotlib.pyplot as plt\n",
        "import japanize_matplotlib\n",
        "import seaborn as sns\n",
        "\n",
        "pd.set_option('display.max_columns', 50)\n",
        "pd.set_option('display.max_rows', 100)"
      ],
      "metadata": {
        "id": "2xgbJOobOvsP"
      },
      "execution_count": 5,
      "outputs": []
    },
    {
      "cell_type": "code",
      "source": [
        "def get_data_csv_url(url, encoding='utf-8', excel=False):\n",
        "    res = requests.get(url)\n",
        "    if res.status_code == 200:\n",
        "        if not excel:\n",
        "            return pd.read_csv(io.BytesIO(res.content), encoding=encoding)\n",
        "        else:\n",
        "            return pd.read_excel(io.BytesIO(res.content))\n",
        "    else:\n",
        "        raise Exception(f'status_code: {res.status_code} ({url})')\n",
        "\n",
        "# 距離計算\n",
        "def get_distance(lat1, lon1, lat2, lon2):\n",
        "    _lat1 = lat1 * math.pi / 180\n",
        "    _lon1 = lon1 * math.pi / 180\n",
        "    _lat2 = lat2 * math.pi / 180\n",
        "    _lon2 = lon2 * math.pi / 180\n",
        "    _tmp = math.cos(_lat1) * math.cos(_lat2) * math.cos(_lon2 - _lon1) + math.sin(_lat1) * math.sin(_lat2)\n",
        "    _tmp = 1 if _tmp > 1 else -1 if _tmp < -1 else _tmp\n",
        "    return 6371 * math.acos(_tmp)\n",
        "\n",
        "# 最寄り施設までの距離\n",
        "def get_value_of_nearest_facility(df_master, df_facility, category, method='min', param=3):\n",
        "    _df_cat = df_facility[df_facility['施設分類'] == category].copy()\n",
        "    cat_values = []\n",
        "    for i, row in df_master.iterrows():\n",
        "        dist = _df_cat.apply(lambda x: get_distance(x['緯度'], x['経度'], row['緯度'], row['経度']), axis=1)\n",
        "        val = None\n",
        "        if method == 'min':\n",
        "            # 最小の距離\n",
        "            val = dist.min()\n",
        "        elif method == 'count':\n",
        "            # {param}km以内の施設の数をカウント\n",
        "            val = len(dist[dist <= param])\n",
        "        elif method == 'mean':\n",
        "            # 近い{param}件の距離の平均\n",
        "            val = dist.sort_values()[:param].mean()\n",
        "        cat_values.append(val)\n",
        "    return cat_values"
      ],
      "metadata": {
        "id": "Q9yoYFmNRk8e"
      },
      "execution_count": 6,
      "outputs": []
    },
    {
      "cell_type": "code",
      "source": [
        "def get_distance_from_facility(longitude, latitude, df_facility):\n",
        "    return df_facility.apply(lambda x: get_distance(x['緯度'], x['経度'], longitude, latitude), axis=1)"
      ],
      "metadata": {
        "id": "DFuOYrJzc8xv"
      },
      "execution_count": 7,
      "outputs": []
    },
    {
      "cell_type": "code",
      "source": [
        "extract_columns = ['施設分類', '名称', '市区町村名', '所在地', '緯度', '経度']"
      ],
      "metadata": {
        "id": "IrPBUzhvReBs"
      },
      "execution_count": 8,
      "outputs": []
    },
    {
      "cell_type": "code",
      "source": [
        "tokyo_library_url = 'https://www.opendata.metro.tokyo.lg.jp/kyouiku/R3/skshubetu_4.csv'\n",
        "df_tokyo_library = get_data_csv_url(tokyo_library_url, encoding='shift-jis')\n",
        "print(df_tokyo_library.shape)\n",
        "\n",
        "df_tokyo_library = df_tokyo_library[df_tokyo_library['施設名'].notna()]\n",
        "df_tokyo_library = df_tokyo_library[(~df_tokyo_library['施設名'].str.contains('閉館'))&(df_tokyo_library['区市町村名'].str.endswith('区'))]\n",
        "df_tokyo_library['施設名'] = df_tokyo_library['施設名'].str.replace('＊\\?', '', regex=True).str.replace('\\?\\?', '', regex=True)\n",
        "df_tokyo_library = df_tokyo_library.rename(columns={'施設区分':'施設分類', '施設名':'名称', '区市町村名':'市区町村名'})[extract_columns].reset_index(drop=True)\n",
        "print(df_tokyo_library.shape)"
      ],
      "metadata": {
        "id": "527RgvGCDOBu",
        "outputId": "20ab3d38-d53d-49f9-ec88-5e797a60f045",
        "colab": {
          "base_uri": "https://localhost:8080/"
        }
      },
      "execution_count": 9,
      "outputs": [
        {
          "output_type": "stream",
          "name": "stdout",
          "text": [
            "(418, 9)\n",
            "(233, 6)\n"
          ]
        }
      ]
    },
    {
      "cell_type": "code",
      "source": [
        "plt.figure(figsize=(15, 5))\n",
        "sns.histplot(x='市区町村名', data=df_tokyo_library)\n",
        "plt.show()"
      ],
      "metadata": {
        "id": "7ElN2oPGIxhR",
        "outputId": "f7d468dd-1baf-4521-8d8c-17ca6366ea94",
        "colab": {
          "base_uri": "https://localhost:8080/",
          "height": 333
        }
      },
      "execution_count": 10,
      "outputs": [
        {
          "output_type": "display_data",
          "data": {
            "text/plain": [
              "<Figure size 1080x360 with 1 Axes>"
            ],
            "image/png": "[encoded data removed]"
          },
          "metadata": {
            "needs_background": "light"
          }
        }
      ]
    },
    {
      "cell_type": "markdown",
      "source": [
        "## 図書館マスタ"
      ],
      "metadata": {
        "id": "9x6VJEBUSGeh"
      }
    },
    {
      "cell_type": "code",
      "source": [
        "df_library_master = df_tokyo_library\n",
        "df_library_master.head()"
      ],
      "metadata": {
        "id": "81JjNDiASF-3",
        "outputId": "497fe1a1-68f4-4b35-fc1a-b55cf66f2083",
        "colab": {
          "base_uri": "https://localhost:8080/",
          "height": 206
        }
      },
      "execution_count": 11,
      "outputs": [
        {
          "output_type": "execute_result",
          "data": {
            "text/plain": [
              "  施設分類         名称 市区町村名                      所在地         緯度          経度\n",
              "0  図書館  昌平まちかど図書館  千代田区             千代田区外神田3-4-7  35.701223  139.769873\n",
              "1  図書館  神田まちかど図書館  千代田区             千代田区神田司町2-16  35.693357  139.768304\n",
              "2  図書館     四番町図書館  千代田区                 千代田区四番町1  35.690453  139.741601\n",
              "3  図書館     千代田図書館  千代田区  千代田区九段南1-2-1千代田区役所9･10階  35.693997  139.753585\n",
              "4  図書館   日比谷図書文化館  千代田区             千代田区日比谷公園1-4  35.671872  139.754602"
            ],
            "text/html": [
              "\n",
              "  <div id=\"df-f5ab8aac-b3d1-496c-a0a3-cbb49a95e829\">\n",
              "    <div class=\"colab-df-container\">\n",
              "      <div>\n",
              "<style scoped>\n",
              "    .dataframe tbody tr th:only-of-type {\n",
              "        vertical-align: middle;\n",
              "    }\n",
              "\n",
              "    .dataframe tbody tr th {\n",
              "        vertical-align: top;\n",
              "    }\n",
              "\n",
              "    .dataframe thead th {\n",
              "        text-align: right;\n",
              "    }\n",
              "</style>\n",
              "<table border=\"1\" class=\"dataframe\">\n",
              "  <thead>\n",
              "    <tr style=\"text-align: right;\">\n",
              "      <th></th>\n",
              "      <th>施設分類</th>\n",
              "      <th>名称</th>\n",
              "      <th>市区町村名</th>\n",
              "      <th>所在地</th>\n",
              "      <th>緯度</th>\n",
              "      <th>経度</th>\n",
              "    </tr>\n",
              "  </thead>\n",
              "  <tbody>\n",
              "    <tr>\n",
              "      <th>0</th>\n",
              "      <td>図書館</td>\n",
              "      <td>昌平まちかど図書館</td>\n",
              "      <td>千代田区</td>\n",
              "      <td>千代田区外神田3-4-7</td>\n",
              "      <td>35.701223</td>\n",
              "      <td>139.769873</td>\n",
              "    </tr>\n",
              "    <tr>\n",
              "      <th>1</th>\n",
              "      <td>図書館</td>\n",
              "      <td>神田まちかど図書館</td>\n",
              "      <td>千代田区</td>\n",
              "      <td>千代田区神田司町2-16</td>\n",
              "      <td>35.693357</td>\n",
              "      <td>139.768304</td>\n",
              "    </tr>\n",
              "    <tr>\n",
              "      <th>2</th>\n",
              "      <td>図書館</td>\n",
              "      <td>四番町図書館</td>\n",
              "      <td>千代田区</td>\n",
              "      <td>千代田区四番町1</td>\n",
              "      <td>35.690453</td>\n",
              "      <td>139.741601</td>\n",
              "    </tr>\n",
              "    <tr>\n",
              "      <th>3</th>\n",
              "      <td>図書館</td>\n",
              "      <td>千代田図書館</td>\n",
              "      <td>千代田区</td>\n",
              "      <td>千代田区九段南1-2-1千代田区役所9･10階</td>\n",
              "      <td>35.693997</td>\n",
              "      <td>139.753585</td>\n",
              "    </tr>\n",
              "    <tr>\n",
              "      <th>4</th>\n",
              "      <td>図書館</td>\n",
              "      <td>日比谷図書文化館</td>\n",
              "      <td>千代田区</td>\n",
              "      <td>千代田区日比谷公園1-4</td>\n",
              "      <td>35.671872</td>\n",
              "      <td>139.754602</td>\n",
              "    </tr>\n",
              "  </tbody>\n",
              "</table>\n",
              "</div>\n",
              "      <button class=\"colab-df-convert\" onclick=\"convertToInteractive('df-f5ab8aac-b3d1-496c-a0a3-cbb49a95e829')\"\n",
              "              title=\"Convert this dataframe to an interactive table.\"\n",
              "              style=\"display:none;\">\n",
              "        \n",
              "  <svg xmlns=\"http://www.w3.org/2000/svg\" height=\"24px\"viewBox=\"0 0 24 24\"\n",
              "       width=\"24px\">\n",
              "    <path d=\"M0 0h24v24H0V0z\" fill=\"none\"/>\n",
              "    <path d=\"M18.56 5.44l.94 2.06.94-2.06 2.06-.94-2.06-.94-.94-2.06-.94 2.06-2.06.94zm-11 1L8.5 8.5l.94-2.06 2.06-.94-2.06-.94L8.5 2.5l-.94 2.06-2.06.94zm10 10l.94 2.06.94-2.06 2.06-.94-2.06-.94-.94-2.06-.94 2.06-2.06.94z\"/><path d=\"M17.41 7.96l-1.37-1.37c-.4-.4-.92-.59-1.43-.59-.52 0-1.04.2-1.43.59L10.3 9.45l-7.72 7.72c-.78.78-.78 2.05 0 2.83L4 21.41c.39.39.9.59 1.41.59.51 0 1.02-.2 1.41-.59l7.78-7.78 2.81-2.81c.8-.78.8-2.07 0-2.86zM5.41 20L4 18.59l7.72-7.72 1.47 1.35L5.41 20z\"/>\n",
              "  </svg>\n",
              "      </button>\n",
              "      \n",
              "  <style>\n",
              "    .colab-df-container {\n",
              "      display:flex;\n",
              "      flex-wrap:wrap;\n",
              "      gap: 12px;\n",
              "    }\n",
              "\n",
              "    .colab-df-convert {\n",
              "      background-color: #E8F0FE;\n",
              "      border: none;\n",
              "      border-radius: 50%;\n",
              "      cursor: pointer;\n",
              "      display: none;\n",
              "      fill: #1967D2;\n",
              "      height: 32px;\n",
              "      padding: 0 0 0 0;\n",
              "      width: 32px;\n",
              "    }\n",
              "\n",
              "    .colab-df-convert:hover {\n",
              "      background-color: #E2EBFA;\n",
              "      box-shadow: 0px 1px 2px rgba(60, 64, 67, 0.3), 0px 1px 3px 1px rgba(60, 64, 67, 0.15);\n",
              "      fill: #174EA6;\n",
              "    }\n",
              "\n",
              "    [theme=dark] .colab-df-convert {\n",
              "      background-color: #3B4455;\n",
              "      fill: #D2E3FC;\n",
              "    }\n",
              "\n",
              "    [theme=dark] .colab-df-convert:hover {\n",
              "      background-color: #434B5C;\n",
              "      box-shadow: 0px 1px 3px 1px rgba(0, 0, 0, 0.15);\n",
              "      filter: drop-shadow(0px 1px 2px rgba(0, 0, 0, 0.3));\n",
              "      fill: #FFFFFF;\n",
              "    }\n",
              "  </style>\n",
              "\n",
              "      <script>\n",
              "        const buttonEl =\n",
              "          document.querySelector('#df-f5ab8aac-b3d1-496c-a0a3-cbb49a95e829 button.colab-df-convert');\n",
              "        buttonEl.style.display =\n",
              "          google.colab.kernel.accessAllowed ? 'block' : 'none';\n",
              "\n",
              "        async function convertToInteractive(key) {\n",
              "          const element = document.querySelector('#df-f5ab8aac-b3d1-496c-a0a3-cbb49a95e829');\n",
              "          const dataTable =\n",
              "            await google.colab.kernel.invokeFunction('convertToInteractive',\n",
              "                                                     [key], {});\n",
              "          if (!dataTable) return;\n",
              "\n",
              "          const docLinkHtml = 'Like what you see? Visit the ' +\n",
              "            '<a target=\"_blank\" href=https://colab.research.google.com/notebooks/data_table.ipynb>data table notebook</a>'\n",
              "            + ' to learn more about interactive tables.';\n",
              "          element.innerHTML = '';\n",
              "          dataTable['output_type'] = 'display_data';\n",
              "          await google.colab.output.renderOutput(dataTable, element);\n",
              "          const docLink = document.createElement('div');\n",
              "          docLink.innerHTML = docLinkHtml;\n",
              "          element.appendChild(docLink);\n",
              "        }\n",
              "      </script>\n",
              "    </div>\n",
              "  </div>\n",
              "  "
            ]
          },
          "metadata": {},
          "execution_count": 11
        }
      ]
    },
    {
      "cell_type": "code",
      "source": [
        "df_library_master.to_csv(os.path.join(DIR_NAME, output_master_file), index=False)"
      ],
      "metadata": {
        "id": "6fVMjfovBOVc"
      },
      "execution_count": 12,
      "outputs": []
    },
    {
      "cell_type": "markdown",
      "source": [
        "## 人口マスタ"
      ],
      "metadata": {
        "id": "jdT3_lplSwOo"
      }
    },
    {
      "cell_type": "code",
      "source": [
        "df_pop_master = pd.read_csv(os.path.join(DIR_NAME, 'population_master.csv'))[['地域ID', '市区町村名', '町名', '町丁目', '緯度', '経度']]\n",
        "print(df_pop_master.shape)"
      ],
      "metadata": {
        "colab": {
          "base_uri": "https://localhost:8080/"
        },
        "id": "mmH8g81kP2Cb",
        "outputId": "edb63a4d-7d66-4966-b958-aa51333c8f36"
      },
      "execution_count": 13,
      "outputs": [
        {
          "output_type": "stream",
          "name": "stdout",
          "text": [
            "(3145, 6)\n"
          ]
        }
      ]
    },
    {
      "cell_type": "code",
      "source": [
        "%%time\n",
        "# 一番近い施設の距離\n",
        "df_pop_master['図書館(最近傍距離)'] = get_value_of_nearest_facility(df_pop_master, df_library_master, '図書館', 'min')\n",
        "# 近い3件の距離の平均\n",
        "df_pop_master['図書館(平均距離)'] = get_value_of_nearest_facility(df_pop_master, df_library_master, '図書館', 'mean', 3)\n",
        "# 2km以内の施設の数\n",
        "df_pop_master['図書館(数)'] = get_value_of_nearest_facility(df_pop_master, df_library_master, '図書館', 'count', 2)"
      ],
      "metadata": {
        "colab": {
          "base_uri": "https://localhost:8080/"
        },
        "id": "sn7VhpDmQJsi",
        "outputId": "5a12492b-4037-4595-eb97-186460f45c17"
      },
      "execution_count": 14,
      "outputs": [
        {
          "output_type": "stream",
          "name": "stdout",
          "text": [
            "CPU times: user 1min 2s, sys: 312 ms, total: 1min 2s\n",
            "Wall time: 1min 7s\n"
          ]
        }
      ]
    },
    {
      "cell_type": "code",
      "source": [
        "print(df_pop_master.shape)\n",
        "df_pop_master.head()"
      ],
      "metadata": {
        "colab": {
          "base_uri": "https://localhost:8080/",
          "height": 224
        },
        "id": "pNI5D7LZTJE3",
        "outputId": "d7234d77-2c74-43fc-c6bf-eed731544805"
      },
      "execution_count": 15,
      "outputs": [
        {
          "output_type": "stream",
          "name": "stdout",
          "text": [
            "(3145, 9)\n"
          ]
        },
        {
          "output_type": "execute_result",
          "data": {
            "text/plain": [
              "     地域ID 市区町村名   町名     町丁目         緯度          経度  図書館(最近傍距離)  図書館(平均距離)  \\\n",
              "0  101003  千代田区  丸の内  丸の内１丁目  35.681610  139.767511    1.286453   1.301848   \n",
              "1  101004  千代田区  丸の内  丸の内２丁目  35.680071  139.763944    1.242295   1.349516   \n",
              "2  101005  千代田区  丸の内  丸の内３丁目  35.676890  139.764039    1.000856   1.274480   \n",
              "3  101007  千代田区  大手町  大手町１丁目  35.688067  139.764353    0.687988   1.136131   \n",
              "4  101008  千代田区  大手町  大手町２丁目  35.686416  139.768530    0.772108   1.182786   \n",
              "\n",
              "   図書館(数)  \n",
              "0       5  \n",
              "1       5  \n",
              "2       4  \n",
              "3       5  \n",
              "4       6  "
            ],
            "text/html": [
              "\n",
              "  <div id=\"df-4cea3c34-ba35-4400-abef-bbb160ad7efd\">\n",
              "    <div class=\"colab-df-container\">\n",
              "      <div>\n",
              "<style scoped>\n",
              "    .dataframe tbody tr th:only-of-type {\n",
              "        vertical-align: middle;\n",
              "    }\n",
              "\n",
              "    .dataframe tbody tr th {\n",
              "        vertical-align: top;\n",
              "    }\n",
              "\n",
              "    .dataframe thead th {\n",
              "        text-align: right;\n",
              "    }\n",
              "</style>\n",
              "<table border=\"1\" class=\"dataframe\">\n",
              "  <thead>\n",
              "    <tr style=\"text-align: right;\">\n",
              "      <th></th>\n",
              "      <th>地域ID</th>\n",
              "      <th>市区町村名</th>\n",
              "      <th>町名</th>\n",
              "      <th>町丁目</th>\n",
              "      <th>緯度</th>\n",
              "      <th>経度</th>\n",
              "      <th>図書館(最近傍距離)</th>\n",
              "      <th>図書館(平均距離)</th>\n",
              "      <th>図書館(数)</th>\n",
              "    </tr>\n",
              "  </thead>\n",
              "  <tbody>\n",
              "    <tr>\n",
              "      <th>0</th>\n",
              "      <td>101003</td>\n",
              "      <td>千代田区</td>\n",
              "      <td>丸の内</td>\n",
              "      <td>丸の内１丁目</td>\n",
              "      <td>35.681610</td>\n",
              "      <td>139.767511</td>\n",
              "      <td>1.286453</td>\n",
              "      <td>1.301848</td>\n",
              "      <td>5</td>\n",
              "    </tr>\n",
              "    <tr>\n",
              "      <th>1</th>\n",
              "      <td>101004</td>\n",
              "      <td>千代田区</td>\n",
              "      <td>丸の内</td>\n",
              "      <td>丸の内２丁目</td>\n",
              "      <td>35.680071</td>\n",
              "      <td>139.763944</td>\n",
              "      <td>1.242295</td>\n",
              "      <td>1.349516</td>\n",
              "      <td>5</td>\n",
              "    </tr>\n",
              "    <tr>\n",
              "      <th>2</th>\n",
              "      <td>101005</td>\n",
              "      <td>千代田区</td>\n",
              "      <td>丸の内</td>\n",
              "      <td>丸の内３丁目</td>\n",
              "      <td>35.676890</td>\n",
              "      <td>139.764039</td>\n",
              "      <td>1.000856</td>\n",
              "      <td>1.274480</td>\n",
              "      <td>4</td>\n",
              "    </tr>\n",
              "    <tr>\n",
              "      <th>3</th>\n",
              "      <td>101007</td>\n",
              "      <td>千代田区</td>\n",
              "      <td>大手町</td>\n",
              "      <td>大手町１丁目</td>\n",
              "      <td>35.688067</td>\n",
              "      <td>139.764353</td>\n",
              "      <td>0.687988</td>\n",
              "      <td>1.136131</td>\n",
              "      <td>5</td>\n",
              "    </tr>\n",
              "    <tr>\n",
              "      <th>4</th>\n",
              "      <td>101008</td>\n",
              "      <td>千代田区</td>\n",
              "      <td>大手町</td>\n",
              "      <td>大手町２丁目</td>\n",
              "      <td>35.686416</td>\n",
              "      <td>139.768530</td>\n",
              "      <td>0.772108</td>\n",
              "      <td>1.182786</td>\n",
              "      <td>6</td>\n",
              "    </tr>\n",
              "  </tbody>\n",
              "</table>\n",
              "</div>\n",
              "      <button class=\"colab-df-convert\" onclick=\"convertToInteractive('df-4cea3c34-ba35-4400-abef-bbb160ad7efd')\"\n",
              "              title=\"Convert this dataframe to an interactive table.\"\n",
              "              style=\"display:none;\">\n",
              "        \n",
              "  <svg xmlns=\"http://www.w3.org/2000/svg\" height=\"24px\"viewBox=\"0 0 24 24\"\n",
              "       width=\"24px\">\n",
              "    <path d=\"M0 0h24v24H0V0z\" fill=\"none\"/>\n",
              "    <path d=\"M18.56 5.44l.94 2.06.94-2.06 2.06-.94-2.06-.94-.94-2.06-.94 2.06-2.06.94zm-11 1L8.5 8.5l.94-2.06 2.06-.94-2.06-.94L8.5 2.5l-.94 2.06-2.06.94zm10 10l.94 2.06.94-2.06 2.06-.94-2.06-.94-.94-2.06-.94 2.06-2.06.94z\"/><path d=\"M17.41 7.96l-1.37-1.37c-.4-.4-.92-.59-1.43-.59-.52 0-1.04.2-1.43.59L10.3 9.45l-7.72 7.72c-.78.78-.78 2.05 0 2.83L4 21.41c.39.39.9.59 1.41.59.51 0 1.02-.2 1.41-.59l7.78-7.78 2.81-2.81c.8-.78.8-2.07 0-2.86zM5.41 20L4 18.59l7.72-7.72 1.47 1.35L5.41 20z\"/>\n",
              "  </svg>\n",
              "      </button>\n",
              "      \n",
              "  <style>\n",
              "    .colab-df-container {\n",
              "      display:flex;\n",
              "      flex-wrap:wrap;\n",
              "      gap: 12px;\n",
              "    }\n",
              "\n",
              "    .colab-df-convert {\n",
              "      background-color: #E8F0FE;\n",
              "      border: none;\n",
              "      border-radius: 50%;\n",
              "      cursor: pointer;\n",
              "      display: none;\n",
              "      fill: #1967D2;\n",
              "      height: 32px;\n",
              "      padding: 0 0 0 0;\n",
              "      width: 32px;\n",
              "    }\n",
              "\n",
              "    .colab-df-convert:hover {\n",
              "      background-color: #E2EBFA;\n",
              "      box-shadow: 0px 1px 2px rgba(60, 64, 67, 0.3), 0px 1px 3px 1px rgba(60, 64, 67, 0.15);\n",
              "      fill: #174EA6;\n",
              "    }\n",
              "\n",
              "    [theme=dark] .colab-df-convert {\n",
              "      background-color: #3B4455;\n",
              "      fill: #D2E3FC;\n",
              "    }\n",
              "\n",
              "    [theme=dark] .colab-df-convert:hover {\n",
              "      background-color: #434B5C;\n",
              "      box-shadow: 0px 1px 3px 1px rgba(0, 0, 0, 0.15);\n",
              "      filter: drop-shadow(0px 1px 2px rgba(0, 0, 0, 0.3));\n",
              "      fill: #FFFFFF;\n",
              "    }\n",
              "  </style>\n",
              "\n",
              "      <script>\n",
              "        const buttonEl =\n",
              "          document.querySelector('#df-4cea3c34-ba35-4400-abef-bbb160ad7efd button.colab-df-convert');\n",
              "        buttonEl.style.display =\n",
              "          google.colab.kernel.accessAllowed ? 'block' : 'none';\n",
              "\n",
              "        async function convertToInteractive(key) {\n",
              "          const element = document.querySelector('#df-4cea3c34-ba35-4400-abef-bbb160ad7efd');\n",
              "          const dataTable =\n",
              "            await google.colab.kernel.invokeFunction('convertToInteractive',\n",
              "                                                     [key], {});\n",
              "          if (!dataTable) return;\n",
              "\n",
              "          const docLinkHtml = 'Like what you see? Visit the ' +\n",
              "            '<a target=\"_blank\" href=https://colab.research.google.com/notebooks/data_table.ipynb>data table notebook</a>'\n",
              "            + ' to learn more about interactive tables.';\n",
              "          element.innerHTML = '';\n",
              "          dataTable['output_type'] = 'display_data';\n",
              "          await google.colab.output.renderOutput(dataTable, element);\n",
              "          const docLink = document.createElement('div');\n",
              "          docLink.innerHTML = docLinkHtml;\n",
              "          element.appendChild(docLink);\n",
              "        }\n",
              "      </script>\n",
              "    </div>\n",
              "  </div>\n",
              "  "
            ]
          },
          "metadata": {},
          "execution_count": 15
        }
      ]
    },
    {
      "cell_type": "code",
      "source": [
        "score_name = '図書館スコア'\n",
        "feature_list = {\n",
        "    '図書館(最近傍距離)':   {'sort': -1, 'weight': 1}, \n",
        "    '図書館(平均距離)':     {'sort': -1, 'weight': 0.7},\n",
        "    '図書館(数)':           {'sort': 1, 'weight': 0.5}, \n",
        "}\n",
        "all_feature_list = list(feature_list.keys())"
      ],
      "metadata": {
        "id": "IWVvktILzYs8"
      },
      "execution_count": 16,
      "outputs": []
    },
    {
      "cell_type": "code",
      "source": [
        "for feature_name in feature_list.keys():\n",
        "    sns.histplot(df_pop_master[feature_name], bins=20)\n",
        "    plt.show()"
      ],
      "metadata": {
        "id": "JNx9I9YI02Or",
        "outputId": "6f7718c1-30b3-4b37-d083-345dec8ea31a",
        "colab": {
          "base_uri": "https://localhost:8080/",
          "height": 800
        }
      },
      "execution_count": 17,
      "outputs": [
        {
          "output_type": "display_data",
          "data": {
            "text/plain": [
              "<Figure size 432x288 with 1 Axes>"
            ],
            "image/png": "[encoded data removed]"
          },
          "metadata": {
            "needs_background": "light"
          }
        },
        {
          "output_type": "display_data",
          "data": {
            "text/plain": [
              "<Figure size 432x288 with 1 Axes>"
            ],
            "image/png": "[encoded data removed]"
          },
          "metadata": {
            "needs_background": "light"
          }
        },
        {
          "output_type": "display_data",
          "data": {
            "text/plain": [
              "<Figure size 432x288 with 1 Axes>"
            ],
            "image/png": "[encoded data removed]"
          },
          "metadata": {
            "needs_background": "light"
          }
        }
      ]
    },
    {
      "cell_type": "code",
      "source": [
        "def rank_score(sr_data):\n",
        "    size = sr_data.notna().sum()\n",
        "    rank = sr_data.rank()\n",
        "    result = rank.copy()\n",
        "    # 0~1: 15%, 1~2: 20%, 2~3: 30%, 3~4: 20%, 4~5: 15%\n",
        "    level_list = [0.15, (0.15+0.2), (0.15+0.2+0.3), (0.15+0.2+0.3+0.2), 1]\n",
        "    \n",
        "    pre_level = 0\n",
        "    for index, level in enumerate([lv*size for lv in level_list]):\n",
        "        result[(rank > pre_level)&(rank <= level)] = (rank - pre_level)/(level - pre_level) + index\n",
        "        pre_level = level\n",
        "\n",
        "    return result"
      ],
      "metadata": {
        "id": "qsPRvvbUTnlK"
      },
      "execution_count": 18,
      "outputs": []
    },
    {
      "cell_type": "code",
      "source": [
        "score_list = []\n",
        "for key, value in feature_list.items():\n",
        "    df_pop_master[f'{key}レベル'] = rank_score(df_pop_master[key] * value['sort'])\n",
        "    score_list.append(df_pop_master[f'{key}レベル'] * value['weight'])\n",
        "\n",
        "_tmp_score = pd.concat(score_list, axis=1).sum(axis=1, skipna=False)\n",
        "df_pop_master[score_name] = rank_score(_tmp_score)"
      ],
      "metadata": {
        "id": "_sjdQnHMVX4b"
      },
      "execution_count": 19,
      "outputs": []
    },
    {
      "cell_type": "code",
      "source": [
        "sns.histplot(_tmp_score, bins=20)\n",
        "plt.show()"
      ],
      "metadata": {
        "colab": {
          "base_uri": "https://localhost:8080/",
          "height": 264
        },
        "id": "3yn6iVneV45R",
        "outputId": "39e49919-5acc-4b4d-db7d-756af2bf1396"
      },
      "execution_count": 20,
      "outputs": [
        {
          "output_type": "display_data",
          "data": {
            "text/plain": [
              "<Figure size 432x288 with 1 Axes>"
            ],
            "image/png": "[encoded data removed]"
          },
          "metadata": {
            "needs_background": "light"
          }
        }
      ]
    },
    {
      "cell_type": "code",
      "source": [
        "sns.histplot(df_pop_master[score_name], bins=20)\n",
        "plt.show()"
      ],
      "metadata": {
        "colab": {
          "base_uri": "https://localhost:8080/",
          "height": 277
        },
        "id": "Rr-ML1oEWcCQ",
        "outputId": "b58f2595-ceb5-48a6-8ac5-d871c64dc47f"
      },
      "execution_count": 21,
      "outputs": [
        {
          "output_type": "display_data",
          "data": {
            "text/plain": [
              "<Figure size 432x288 with 1 Axes>"
            ],
            "image/png": "[encoded data removed]"
          },
          "metadata": {
            "needs_background": "light"
          }
        }
      ]
    },
    {
      "cell_type": "code",
      "source": [
        "all_feature_list"
      ],
      "metadata": {
        "id": "0Kg1KbFwWrHx",
        "outputId": "e29042f3-cbeb-4084-95ad-c714e2c9920e",
        "colab": {
          "base_uri": "https://localhost:8080/"
        }
      },
      "execution_count": 22,
      "outputs": [
        {
          "output_type": "execute_result",
          "data": {
            "text/plain": [
              "['図書館(最近傍距離)', '図書館(平均距離)', '図書館(数)']"
            ]
          },
          "metadata": {},
          "execution_count": 22
        }
      ]
    },
    {
      "cell_type": "code",
      "source": [
        "df_pop_master[score_name] = df_pop_master[score_name].round(3)\n",
        "for col in all_feature_list:\n",
        "    df_pop_master[col] = df_pop_master[col].round(3)"
      ],
      "metadata": {
        "id": "xFz9xD_N1YxQ"
      },
      "execution_count": 23,
      "outputs": []
    },
    {
      "cell_type": "code",
      "source": [
        "df_pop_master[\n",
        "    ['地域ID'] + all_feature_list + [score_name]\n",
        "].to_csv(os.path.join(DIR_NAME, output_score_file), index=False)"
      ],
      "metadata": {
        "id": "sSfVVuQla7Os"
      },
      "execution_count": 24,
      "outputs": []
    },
    {
      "cell_type": "code",
      "source": [
        "plt.figure(figsize=(15, 5))\n",
        "sns.barplot(x='市区町村名', y=score_name, data=df_pop_master)\n",
        "plt.show()"
      ],
      "metadata": {
        "colab": {
          "base_uri": "https://localhost:8080/",
          "height": 333
        },
        "id": "3tJjlj0keD_-",
        "outputId": "ea1dfad6-59e5-4bd5-d14e-09c324a108a7"
      },
      "execution_count": 25,
      "outputs": [
        {
          "output_type": "display_data",
          "data": {
            "text/plain": [
              "<Figure size 1080x360 with 1 Axes>"
            ],
            "image/png": "[encoded data removed]"
          },
          "metadata": {
            "needs_background": "light"
          }
        }
      ]
    },
    {
      "cell_type": "code",
      "source": [
        "def get_score_top(df_data, target):\n",
        "    df_level = df_data.copy()\n",
        "    score_name = f'{target}スコア'\n",
        "    feature_cols = [col for col in all_feature_list if col.startswith(target)]\n",
        "    df_level['rank'] = df_level.groupby('町名')[score_name].transform('rank', ascending=False)\n",
        "    df_level = df_level[df_level['rank'] == 1].sort_values(score_name, ascending=False)[\n",
        "        ['市区町村名', '町名', '町丁目'] + feature_cols + [score_name]\n",
        "    ].reset_index(drop=True)\n",
        "    return df_level"
      ],
      "metadata": {
        "id": "LIMZMXsm188k"
      },
      "execution_count": 26,
      "outputs": []
    },
    {
      "cell_type": "code",
      "source": [
        "df_level = get_score_top(df_pop_master, '図書館')\n",
        "print(df_level.shape)\n",
        "df_level.head(10)"
      ],
      "metadata": {
        "id": "XcJn2J2r2Aws",
        "outputId": "eacfb589-0419-4647-b04f-acb278f1f9b9",
        "colab": {
          "base_uri": "https://localhost:8080/",
          "height": 380
        }
      },
      "execution_count": 27,
      "outputs": [
        {
          "output_type": "stream",
          "name": "stdout",
          "text": [
            "(911, 7)\n"
          ]
        },
        {
          "output_type": "execute_result",
          "data": {
            "text/plain": [
              "  市区町村名    町名      町丁目  図書館(最近傍距離)  図書館(平均距離)  図書館(数)  図書館スコア\n",
              "0    北区   上十条   上十条３丁目       0.082      0.572      12   5.000\n",
              "1   板橋区    本町       本町       0.018      0.574      10   4.998\n",
              "2    北区   上中里   上中里１丁目       0.126      0.530      13   4.996\n",
              "3    北区   東十条   東十条３丁目       0.026      0.577      10   4.994\n",
              "4    北区    田端    田端２丁目       0.127      0.435      11   4.992\n",
              "5   中野区   東中野   東中野１丁目       0.104      0.566      11   4.989\n",
              "6   文京区   本駒込   本駒込４丁目       0.145      0.416      11   4.987\n",
              "7    北区  田端新町  田端新町２丁目       0.135      0.581      13   4.985\n",
              "8   荒川区  西日暮里  西日暮里６丁目       0.140      0.511      11   4.983\n",
              "9    北区   昭和町   昭和町３丁目       0.093      0.585      10   4.981"
            ],
            "text/html": [
              "\n",
              "  <div id=\"df-efab8642-94bd-4f01-81ec-95bb87981cfe\">\n",
              "    <div class=\"colab-df-container\">\n",
              "      <div>\n",
              "<style scoped>\n",
              "    .dataframe tbody tr th:only-of-type {\n",
              "        vertical-align: middle;\n",
              "    }\n",
              "\n",
              "    .dataframe tbody tr th {\n",
              "        vertical-align: top;\n",
              "    }\n",
              "\n",
              "    .dataframe thead th {\n",
              "        text-align: right;\n",
              "    }\n",
              "</style>\n",
              "<table border=\"1\" class=\"dataframe\">\n",
              "  <thead>\n",
              "    <tr style=\"text-align: right;\">\n",
              "      <th></th>\n",
              "      <th>市区町村名</th>\n",
              "      <th>町名</th>\n",
              "      <th>町丁目</th>\n",
              "      <th>図書館(最近傍距離)</th>\n",
              "      <th>図書館(平均距離)</th>\n",
              "      <th>図書館(数)</th>\n",
              "      <th>図書館スコア</th>\n",
              "    </tr>\n",
              "  </thead>\n",
              "  <tbody>\n",
              "    <tr>\n",
              "      <th>0</th>\n",
              "      <td>北区</td>\n",
              "      <td>上十条</td>\n",
              "      <td>上十条３丁目</td>\n",
              "      <td>0.082</td>\n",
              "      <td>0.572</td>\n",
              "      <td>12</td>\n",
              "      <td>5.000</td>\n",
              "    </tr>\n",
              "    <tr>\n",
              "      <th>1</th>\n",
              "      <td>板橋区</td>\n",
              "      <td>本町</td>\n",
              "      <td>本町</td>\n",
              "      <td>0.018</td>\n",
              "      <td>0.574</td>\n",
              "      <td>10</td>\n",
              "      <td>4.998</td>\n",
              "    </tr>\n",
              "    <tr>\n",
              "      <th>2</th>\n",
              "      <td>北区</td>\n",
              "      <td>上中里</td>\n",
              "      <td>上中里１丁目</td>\n",
              "      <td>0.126</td>\n",
              "      <td>0.530</td>\n",
              "      <td>13</td>\n",
              "      <td>4.996</td>\n",
              "    </tr>\n",
              "    <tr>\n",
              "      <th>3</th>\n",
              "      <td>北区</td>\n",
              "      <td>東十条</td>\n",
              "      <td>東十条３丁目</td>\n",
              "      <td>0.026</td>\n",
              "      <td>0.577</td>\n",
              "      <td>10</td>\n",
              "      <td>4.994</td>\n",
              "    </tr>\n",
              "    <tr>\n",
              "      <th>4</th>\n",
              "      <td>北区</td>\n",
              "      <td>田端</td>\n",
              "      <td>田端２丁目</td>\n",
              "      <td>0.127</td>\n",
              "      <td>0.435</td>\n",
              "      <td>11</td>\n",
              "      <td>4.992</td>\n",
              "    </tr>\n",
              "    <tr>\n",
              "      <th>5</th>\n",
              "      <td>中野区</td>\n",
              "      <td>東中野</td>\n",
              "      <td>東中野１丁目</td>\n",
              "      <td>0.104</td>\n",
              "      <td>0.566</td>\n",
              "      <td>11</td>\n",
              "      <td>4.989</td>\n",
              "    </tr>\n",
              "    <tr>\n",
              "      <th>6</th>\n",
              "      <td>文京区</td>\n",
              "      <td>本駒込</td>\n",
              "      <td>本駒込４丁目</td>\n",
              "      <td>0.145</td>\n",
              "      <td>0.416</td>\n",
              "      <td>11</td>\n",
              "      <td>4.987</td>\n",
              "    </tr>\n",
              "    <tr>\n",
              "      <th>7</th>\n",
              "      <td>北区</td>\n",
              "      <td>田端新町</td>\n",
              "      <td>田端新町２丁目</td>\n",
              "      <td>0.135</td>\n",
              "      <td>0.581</td>\n",
              "      <td>13</td>\n",
              "      <td>4.985</td>\n",
              "    </tr>\n",
              "    <tr>\n",
              "      <th>8</th>\n",
              "      <td>荒川区</td>\n",
              "      <td>西日暮里</td>\n",
              "      <td>西日暮里６丁目</td>\n",
              "      <td>0.140</td>\n",
              "      <td>0.511</td>\n",
              "      <td>11</td>\n",
              "      <td>4.983</td>\n",
              "    </tr>\n",
              "    <tr>\n",
              "      <th>9</th>\n",
              "      <td>北区</td>\n",
              "      <td>昭和町</td>\n",
              "      <td>昭和町３丁目</td>\n",
              "      <td>0.093</td>\n",
              "      <td>0.585</td>\n",
              "      <td>10</td>\n",
              "      <td>4.981</td>\n",
              "    </tr>\n",
              "  </tbody>\n",
              "</table>\n",
              "</div>\n",
              "      <button class=\"colab-df-convert\" onclick=\"convertToInteractive('df-efab8642-94bd-4f01-81ec-95bb87981cfe')\"\n",
              "              title=\"Convert this dataframe to an interactive table.\"\n",
              "              style=\"display:none;\">\n",
              "        \n",
              "  <svg xmlns=\"http://www.w3.org/2000/svg\" height=\"24px\"viewBox=\"0 0 24 24\"\n",
              "       width=\"24px\">\n",
              "    <path d=\"M0 0h24v24H0V0z\" fill=\"none\"/>\n",
              "    <path d=\"M18.56 5.44l.94 2.06.94-2.06 2.06-.94-2.06-.94-.94-2.06-.94 2.06-2.06.94zm-11 1L8.5 8.5l.94-2.06 2.06-.94-2.06-.94L8.5 2.5l-.94 2.06-2.06.94zm10 10l.94 2.06.94-2.06 2.06-.94-2.06-.94-.94-2.06-.94 2.06-2.06.94z\"/><path d=\"M17.41 7.96l-1.37-1.37c-.4-.4-.92-.59-1.43-.59-.52 0-1.04.2-1.43.59L10.3 9.45l-7.72 7.72c-.78.78-.78 2.05 0 2.83L4 21.41c.39.39.9.59 1.41.59.51 0 1.02-.2 1.41-.59l7.78-7.78 2.81-2.81c.8-.78.8-2.07 0-2.86zM5.41 20L4 18.59l7.72-7.72 1.47 1.35L5.41 20z\"/>\n",
              "  </svg>\n",
              "      </button>\n",
              "      \n",
              "  <style>\n",
              "    .colab-df-container {\n",
              "      display:flex;\n",
              "      flex-wrap:wrap;\n",
              "      gap: 12px;\n",
              "    }\n",
              "\n",
              "    .colab-df-convert {\n",
              "      background-color: #E8F0FE;\n",
              "      border: none;\n",
              "      border-radius: 50%;\n",
              "      cursor: pointer;\n",
              "      display: none;\n",
              "      fill: #1967D2;\n",
              "      height: 32px;\n",
              "      padding: 0 0 0 0;\n",
              "      width: 32px;\n",
              "    }\n",
              "\n",
              "    .colab-df-convert:hover {\n",
              "      background-color: #E2EBFA;\n",
              "      box-shadow: 0px 1px 2px rgba(60, 64, 67, 0.3), 0px 1px 3px 1px rgba(60, 64, 67, 0.15);\n",
              "      fill: #174EA6;\n",
              "    }\n",
              "\n",
              "    [theme=dark] .colab-df-convert {\n",
              "      background-color: #3B4455;\n",
              "      fill: #D2E3FC;\n",
              "    }\n",
              "\n",
              "    [theme=dark] .colab-df-convert:hover {\n",
              "      background-color: #434B5C;\n",
              "      box-shadow: 0px 1px 3px 1px rgba(0, 0, 0, 0.15);\n",
              "      filter: drop-shadow(0px 1px 2px rgba(0, 0, 0, 0.3));\n",
              "      fill: #FFFFFF;\n",
              "    }\n",
              "  </style>\n",
              "\n",
              "      <script>\n",
              "        const buttonEl =\n",
              "          document.querySelector('#df-efab8642-94bd-4f01-81ec-95bb87981cfe button.colab-df-convert');\n",
              "        buttonEl.style.display =\n",
              "          google.colab.kernel.accessAllowed ? 'block' : 'none';\n",
              "\n",
              "        async function convertToInteractive(key) {\n",
              "          const element = document.querySelector('#df-efab8642-94bd-4f01-81ec-95bb87981cfe');\n",
              "          const dataTable =\n",
              "            await google.colab.kernel.invokeFunction('convertToInteractive',\n",
              "                                                     [key], {});\n",
              "          if (!dataTable) return;\n",
              "\n",
              "          const docLinkHtml = 'Like what you see? Visit the ' +\n",
              "            '<a target=\"_blank\" href=https://colab.research.google.com/notebooks/data_table.ipynb>data table notebook</a>'\n",
              "            + ' to learn more about interactive tables.';\n",
              "          element.innerHTML = '';\n",
              "          dataTable['output_type'] = 'display_data';\n",
              "          await google.colab.output.renderOutput(dataTable, element);\n",
              "          const docLink = document.createElement('div');\n",
              "          docLink.innerHTML = docLinkHtml;\n",
              "          element.appendChild(docLink);\n",
              "        }\n",
              "      </script>\n",
              "    </div>\n",
              "  </div>\n",
              "  "
            ]
          },
          "metadata": {},
          "execution_count": 27
        }
      ]
    },
    {
      "cell_type": "code",
      "source": [
        "df_level.tail(10)"
      ],
      "metadata": {
        "colab": {
          "base_uri": "https://localhost:8080/",
          "height": 363
        },
        "id": "qAA-c_8MaoIQ",
        "outputId": "abccb2c8-4cc1-48a9-b156-c38758762382"
      },
      "execution_count": 28,
      "outputs": [
        {
          "output_type": "execute_result",
          "data": {
            "text/plain": [
              "    市区町村名    町名     町丁目  図書館(最近傍距離)  図書館(平均距離)  図書館(数)  図書館スコア\n",
              "901   江東区    有明   有明１丁目       1.430      1.826       2   0.134\n",
              "902   江東区   夢の島  夢の島１丁目       1.772      2.062       2   0.108\n",
              "903   大田区   京浜島  京浜島１丁目       1.860      2.156       2   0.106\n",
              "904   練馬区  西大泉町    西大泉町       1.844      2.241       1   0.079\n",
              "905   江東区   新木場  新木場１丁目       2.026      2.625       0   0.057\n",
              "906   品川区   東八潮     東八潮       2.176      2.589       0   0.053\n",
              "907    港区    台場   台場１丁目       2.609      2.817       0   0.042\n",
              "908   大田区   城南島  城南島７丁目       2.819      3.039       0   0.036\n",
              "909   江東区    青海   青海１丁目       2.840      3.141       0   0.030\n",
              "910   江東区    若洲   若洲１丁目       2.805      3.803       0   0.021"
            ],
            "text/html": [
              "\n",
              "  <div id=\"df-ea0ebcd7-4462-4a58-8627-1b8f533973c9\">\n",
              "    <div class=\"colab-df-container\">\n",
              "      <div>\n",
              "<style scoped>\n",
              "    .dataframe tbody tr th:only-of-type {\n",
              "        vertical-align: middle;\n",
              "    }\n",
              "\n",
              "    .dataframe tbody tr th {\n",
              "        vertical-align: top;\n",
              "    }\n",
              "\n",
              "    .dataframe thead th {\n",
              "        text-align: right;\n",
              "    }\n",
              "</style>\n",
              "<table border=\"1\" class=\"dataframe\">\n",
              "  <thead>\n",
              "    <tr style=\"text-align: right;\">\n",
              "      <th></th>\n",
              "      <th>市区町村名</th>\n",
              "      <th>町名</th>\n",
              "      <th>町丁目</th>\n",
              "      <th>図書館(最近傍距離)</th>\n",
              "      <th>図書館(平均距離)</th>\n",
              "      <th>図書館(数)</th>\n",
              "      <th>図書館スコア</th>\n",
              "    </tr>\n",
              "  </thead>\n",
              "  <tbody>\n",
              "    <tr>\n",
              "      <th>901</th>\n",
              "      <td>江東区</td>\n",
              "      <td>有明</td>\n",
              "      <td>有明１丁目</td>\n",
              "      <td>1.430</td>\n",
              "      <td>1.826</td>\n",
              "      <td>2</td>\n",
              "      <td>0.134</td>\n",
              "    </tr>\n",
              "    <tr>\n",
              "      <th>902</th>\n",
              "      <td>江東区</td>\n",
              "      <td>夢の島</td>\n",
              "      <td>夢の島１丁目</td>\n",
              "      <td>1.772</td>\n",
              "      <td>2.062</td>\n",
              "      <td>2</td>\n",
              "      <td>0.108</td>\n",
              "    </tr>\n",
              "    <tr>\n",
              "      <th>903</th>\n",
              "      <td>大田区</td>\n",
              "      <td>京浜島</td>\n",
              "      <td>京浜島１丁目</td>\n",
              "      <td>1.860</td>\n",
              "      <td>2.156</td>\n",
              "      <td>2</td>\n",
              "      <td>0.106</td>\n",
              "    </tr>\n",
              "    <tr>\n",
              "      <th>904</th>\n",
              "      <td>練馬区</td>\n",
              "      <td>西大泉町</td>\n",
              "      <td>西大泉町</td>\n",
              "      <td>1.844</td>\n",
              "      <td>2.241</td>\n",
              "      <td>1</td>\n",
              "      <td>0.079</td>\n",
              "    </tr>\n",
              "    <tr>\n",
              "      <th>905</th>\n",
              "      <td>江東区</td>\n",
              "      <td>新木場</td>\n",
              "      <td>新木場１丁目</td>\n",
              "      <td>2.026</td>\n",
              "      <td>2.625</td>\n",
              "      <td>0</td>\n",
              "      <td>0.057</td>\n",
              "    </tr>\n",
              "    <tr>\n",
              "      <th>906</th>\n",
              "      <td>品川区</td>\n",
              "      <td>東八潮</td>\n",
              "      <td>東八潮</td>\n",
              "      <td>2.176</td>\n",
              "      <td>2.589</td>\n",
              "      <td>0</td>\n",
              "      <td>0.053</td>\n",
              "    </tr>\n",
              "    <tr>\n",
              "      <th>907</th>\n",
              "      <td>港区</td>\n",
              "      <td>台場</td>\n",
              "      <td>台場１丁目</td>\n",
              "      <td>2.609</td>\n",
              "      <td>2.817</td>\n",
              "      <td>0</td>\n",
              "      <td>0.042</td>\n",
              "    </tr>\n",
              "    <tr>\n",
              "      <th>908</th>\n",
              "      <td>大田区</td>\n",
              "      <td>城南島</td>\n",
              "      <td>城南島７丁目</td>\n",
              "      <td>2.819</td>\n",
              "      <td>3.039</td>\n",
              "      <td>0</td>\n",
              "      <td>0.036</td>\n",
              "    </tr>\n",
              "    <tr>\n",
              "      <th>909</th>\n",
              "      <td>江東区</td>\n",
              "      <td>青海</td>\n",
              "      <td>青海１丁目</td>\n",
              "      <td>2.840</td>\n",
              "      <td>3.141</td>\n",
              "      <td>0</td>\n",
              "      <td>0.030</td>\n",
              "    </tr>\n",
              "    <tr>\n",
              "      <th>910</th>\n",
              "      <td>江東区</td>\n",
              "      <td>若洲</td>\n",
              "      <td>若洲１丁目</td>\n",
              "      <td>2.805</td>\n",
              "      <td>3.803</td>\n",
              "      <td>0</td>\n",
              "      <td>0.021</td>\n",
              "    </tr>\n",
              "  </tbody>\n",
              "</table>\n",
              "</div>\n",
              "      <button class=\"colab-df-convert\" onclick=\"convertToInteractive('df-ea0ebcd7-4462-4a58-8627-1b8f533973c9')\"\n",
              "              title=\"Convert this dataframe to an interactive table.\"\n",
              "              style=\"display:none;\">\n",
              "        \n",
              "  <svg xmlns=\"http://www.w3.org/2000/svg\" height=\"24px\"viewBox=\"0 0 24 24\"\n",
              "       width=\"24px\">\n",
              "    <path d=\"M0 0h24v24H0V0z\" fill=\"none\"/>\n",
              "    <path d=\"M18.56 5.44l.94 2.06.94-2.06 2.06-.94-2.06-.94-.94-2.06-.94 2.06-2.06.94zm-11 1L8.5 8.5l.94-2.06 2.06-.94-2.06-.94L8.5 2.5l-.94 2.06-2.06.94zm10 10l.94 2.06.94-2.06 2.06-.94-2.06-.94-.94-2.06-.94 2.06-2.06.94z\"/><path d=\"M17.41 7.96l-1.37-1.37c-.4-.4-.92-.59-1.43-.59-.52 0-1.04.2-1.43.59L10.3 9.45l-7.72 7.72c-.78.78-.78 2.05 0 2.83L4 21.41c.39.39.9.59 1.41.59.51 0 1.02-.2 1.41-.59l7.78-7.78 2.81-2.81c.8-.78.8-2.07 0-2.86zM5.41 20L4 18.59l7.72-7.72 1.47 1.35L5.41 20z\"/>\n",
              "  </svg>\n",
              "      </button>\n",
              "      \n",
              "  <style>\n",
              "    .colab-df-container {\n",
              "      display:flex;\n",
              "      flex-wrap:wrap;\n",
              "      gap: 12px;\n",
              "    }\n",
              "\n",
              "    .colab-df-convert {\n",
              "      background-color: #E8F0FE;\n",
              "      border: none;\n",
              "      border-radius: 50%;\n",
              "      cursor: pointer;\n",
              "      display: none;\n",
              "      fill: #1967D2;\n",
              "      height: 32px;\n",
              "      padding: 0 0 0 0;\n",
              "      width: 32px;\n",
              "    }\n",
              "\n",
              "    .colab-df-convert:hover {\n",
              "      background-color: #E2EBFA;\n",
              "      box-shadow: 0px 1px 2px rgba(60, 64, 67, 0.3), 0px 1px 3px 1px rgba(60, 64, 67, 0.15);\n",
              "      fill: #174EA6;\n",
              "    }\n",
              "\n",
              "    [theme=dark] .colab-df-convert {\n",
              "      background-color: #3B4455;\n",
              "      fill: #D2E3FC;\n",
              "    }\n",
              "\n",
              "    [theme=dark] .colab-df-convert:hover {\n",
              "      background-color: #434B5C;\n",
              "      box-shadow: 0px 1px 3px 1px rgba(0, 0, 0, 0.15);\n",
              "      filter: drop-shadow(0px 1px 2px rgba(0, 0, 0, 0.3));\n",
              "      fill: #FFFFFF;\n",
              "    }\n",
              "  </style>\n",
              "\n",
              "      <script>\n",
              "        const buttonEl =\n",
              "          document.querySelector('#df-ea0ebcd7-4462-4a58-8627-1b8f533973c9 button.colab-df-convert');\n",
              "        buttonEl.style.display =\n",
              "          google.colab.kernel.accessAllowed ? 'block' : 'none';\n",
              "\n",
              "        async function convertToInteractive(key) {\n",
              "          const element = document.querySelector('#df-ea0ebcd7-4462-4a58-8627-1b8f533973c9');\n",
              "          const dataTable =\n",
              "            await google.colab.kernel.invokeFunction('convertToInteractive',\n",
              "                                                     [key], {});\n",
              "          if (!dataTable) return;\n",
              "\n",
              "          const docLinkHtml = 'Like what you see? Visit the ' +\n",
              "            '<a target=\"_blank\" href=https://colab.research.google.com/notebooks/data_table.ipynb>data table notebook</a>'\n",
              "            + ' to learn more about interactive tables.';\n",
              "          element.innerHTML = '';\n",
              "          dataTable['output_type'] = 'display_data';\n",
              "          await google.colab.output.renderOutput(dataTable, element);\n",
              "          const docLink = document.createElement('div');\n",
              "          docLink.innerHTML = docLinkHtml;\n",
              "          element.appendChild(docLink);\n",
              "        }\n",
              "      </script>\n",
              "    </div>\n",
              "  </div>\n",
              "  "
            ]
          },
          "metadata": {},
          "execution_count": 28
        }
      ]
    },
    {
      "cell_type": "code",
      "source": [],
      "metadata": {
        "id": "Lk6O8Y3Dd5di"
      },
      "execution_count": 28,
      "outputs": []
    }
  ]
}