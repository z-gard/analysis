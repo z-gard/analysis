{
  "nbformat": 4,
  "nbformat_minor": 0,
  "metadata": {
    "colab": {
      "provenance": [],
      "authorship_tag": "ABX9TyNNRnEq+oppBJ2GVaLSFoby",
      "include_colab_link": true
    },
    "kernelspec": {
      "name": "python3",
      "display_name": "Python 3"
    },
    "language_info": {
      "name": "python"
    }
  },
  "cells": [
    {
      "cell_type": "markdown",
      "metadata": {
        "id": "view-in-github",
        "colab_type": "text"
      },
      "source": [
        "<a href=\"https://colab.research.google.com/github/z-gard/analysis/blob/main/notebooks/library.ipynb\" target=\"_parent\"><img src=\"https://colab.research.google.com/assets/colab-badge.svg\" alt=\"Open In Colab\"/></a>"
      ]
    },
    {
      "cell_type": "markdown",
      "source": [
        "# 図書館"
      ],
      "metadata": {
        "id": "zBy6ZmZPOhfq"
      }
    },
    {
      "cell_type": "code",
      "execution_count": 1,
      "metadata": {
        "id": "cDOcy7pFOdsC"
      },
      "outputs": [],
      "source": [
        "!pip install -q geocoder\n",
        "!pip install -q --upgrade xlrd\n",
        "!pip install -q japanize-matplotlib"
      ]
    },
    {
      "cell_type": "code",
      "source": [
        "from google.colab import drive\n",
        "drive.mount('/content/drive')"
      ],
      "metadata": {
        "colab": {
          "base_uri": "https://localhost:8080/"
        },
        "id": "rYTHrEAdOlBC",
        "outputId": "eeeeae6c-0560-4539-fa36-94bd0513d6b1"
      },
      "execution_count": 2,
      "outputs": [
        {
          "output_type": "stream",
          "name": "stdout",
          "text": [
            "Drive already mounted at /content/drive; to attempt to forcibly remount, call drive.mount(\"/content/drive\", force_remount=True).\n"
          ]
        }
      ]
    },
    {
      "cell_type": "code",
      "source": [
        "DIR_NAME = '/content/drive/MyDrive/z-gard/data'"
      ],
      "metadata": {
        "id": "mKIhoL-BOtAE"
      },
      "execution_count": 3,
      "outputs": []
    },
    {
      "cell_type": "code",
      "source": [
        "import os\n",
        "import requests\n",
        "import json\n",
        "import pandas as pd\n",
        "from urllib.parse import urlparse\n",
        "import geocoder\n",
        "import math\n",
        "import io\n",
        "import matplotlib.pyplot as plt\n",
        "import japanize_matplotlib\n",
        "import seaborn as sns\n",
        "\n",
        "pd.set_option('display.max_columns', 50)\n",
        "pd.set_option('display.max_rows', 100)"
      ],
      "metadata": {
        "id": "2xgbJOobOvsP"
      },
      "execution_count": 4,
      "outputs": []
    },
    {
      "cell_type": "code",
      "source": [
        "def get_data_csv_url(url, encoding='utf-8', excel=False):\n",
        "    res = requests.get(url)\n",
        "    if res.status_code == 200:\n",
        "        if not excel:\n",
        "            return pd.read_csv(io.BytesIO(res.content), encoding=encoding)\n",
        "        else:\n",
        "            return pd.read_excel(io.BytesIO(res.content))\n",
        "    else:\n",
        "        raise Exception(f'status_code: {res.status_code} ({url})')\n",
        "\n",
        "# def number_to_kanji(str):\n",
        "#     return str.translate(str.maketrans({\n",
        "#         '１':'一', '２':'二', '３':'三', '４':'四', '５':'五', '６':'六', '７':'七', '８':'八', '９':'九',\n",
        "#         '1':'一', '2':'二', '3':'三', '4':'四', '5':'五', '6':'六', '7':'七', '8':'八', '9':'九', '0':'十', \n",
        "#     }))\n",
        "\n",
        "# 緯度経度取得\n",
        "# def add_lat_lon(df_master):\n",
        "#     lats = []\n",
        "#     lons = []\n",
        "#     for i, row in df_master.iterrows():\n",
        "#         chocho = number_to_kanji(row['町丁目'])\n",
        "#         ret = geocoder.osm('東京都' + row['市区町村名'] + chocho, timeout=5)\n",
        "#         if not ret.ok:\n",
        "#             print(i, row['市区町村名'], chocho)\n",
        "#         lats.append(ret.lat)\n",
        "#         lons.append(ret.lng)\n",
        "#     df_copy = df_master.copy()\n",
        "#     df_copy['緯度'] = lats\n",
        "#     df_copy['経度'] = lons\n",
        "#     return df_copy\n",
        "\n",
        "# 距離計算\n",
        "def get_distance(lat1, lon1, lat2, lon2):\n",
        "    _lat1 = lat1 * math.pi / 180\n",
        "    _lon1 = lon1 * math.pi / 180\n",
        "    _lat2 = lat2 * math.pi / 180\n",
        "    _lon2 = lon2 * math.pi / 180\n",
        "    _tmp = math.cos(_lat1) * math.cos(_lat2) * math.cos(_lon2 - _lon1) + math.sin(_lat1) * math.sin(_lat2)\n",
        "    _tmp = 1 if _tmp > 1 else -1 if _tmp < -1 else _tmp\n",
        "    return 6371 * math.acos(_tmp)\n",
        "\n",
        "# 最寄り施設までの距離\n",
        "def get_value_of_nearest_facility(df_master, df_facility, category, method='min', param=3):\n",
        "    _df_cat = df_facility[df_facility['施設分類'] == category].copy()\n",
        "    cat_values = []\n",
        "    for i, row in df_master.iterrows():\n",
        "        dist = _df_cat.apply(lambda x: get_distance(x['緯度'], x['経度'], row['緯度'], row['経度']), axis=1)\n",
        "        val = None\n",
        "        if method == 'min':\n",
        "            # 最小の距離\n",
        "            val = dist.min()\n",
        "        elif method == 'count':\n",
        "            # {param}km以内の施設の数をカウント\n",
        "            val = len(dist[dist <= param])\n",
        "        elif method == 'mean':\n",
        "            # 近い{param}件の距離の平均\n",
        "            val = dist.sort_values()[:param].mean()\n",
        "        cat_values.append(val)\n",
        "    return cat_values"
      ],
      "metadata": {
        "id": "Q9yoYFmNRk8e"
      },
      "execution_count": 5,
      "outputs": []
    },
    {
      "cell_type": "code",
      "source": [
        "def get_distance_from_facility(longitude, latitude, df_facility):\n",
        "    return df_facility.apply(lambda x: get_distance(x['緯度'], x['経度'], longitude, latitude), axis=1)"
      ],
      "metadata": {
        "id": "DFuOYrJzc8xv"
      },
      "execution_count": 6,
      "outputs": []
    },
    {
      "cell_type": "code",
      "source": [
        "extract_columns = ['施設分類', '施設名', '市区町村名', '所在地', '緯度', '経度']"
      ],
      "metadata": {
        "id": "IrPBUzhvReBs"
      },
      "execution_count": 7,
      "outputs": []
    },
    {
      "cell_type": "markdown",
      "source": [
        "## 0. 東京都\n",
        "- [公共施設一覧](https://catalog.data.metro.tokyo.lg.jp/dataset/t000003d0000000033/resource/27d1ce20-9023-4690-944c-5da47ed1427e)\n",
        "- [図書館](https://catalog.data.metro.tokyo.lg.jp/dataset/t000021d2000000003/resource/7108f0a3-0257-424a-9722-e84999a01392)"
      ],
      "metadata": {
        "id": "pnVBpzwqCEU7"
      }
    },
    {
      "cell_type": "code",
      "source": [
        "tokyo_library_url = 'https://www.opendata.metro.tokyo.lg.jp/kyouiku/R3/skshubetu_4.csv'\n",
        "df_tokyo_library = get_data_csv_url(tokyo_library_url, encoding='shift-jis')\n",
        "print(df_tokyo_library.shape)\n",
        "\n",
        "df_tokyo_library = df_tokyo_library[df_tokyo_library['施設名'].notna()]\n",
        "df_tokyo_library = df_tokyo_library[(~df_tokyo_library['施設名'].str.contains('閉館'))&(df_tokyo_library['区市町村名'].str.endswith('区'))]\n",
        "df_tokyo_library['施設名'] = df_tokyo_library['施設名'].str.replace('＊\\?', '', regex=True).str.replace('\\?\\?', '', regex=True)\n",
        "df_tokyo_library = df_tokyo_library.rename(columns={'施設区分':'施設分類', '区市町村名':'市区町村名'})[extract_columns].reset_index(drop=True)\n",
        "print(df_tokyo_library.shape)"
      ],
      "metadata": {
        "id": "527RgvGCDOBu",
        "outputId": "d4998dc4-ad79-4f56-caea-288c1fb30202",
        "colab": {
          "base_uri": "https://localhost:8080/"
        }
      },
      "execution_count": 8,
      "outputs": [
        {
          "output_type": "stream",
          "name": "stdout",
          "text": [
            "(418, 9)\n",
            "(233, 6)\n"
          ]
        }
      ]
    },
    {
      "cell_type": "code",
      "source": [
        "plt.figure(figsize=(15, 5))\n",
        "sns.histplot(x='市区町村名', data=df_tokyo_library)\n",
        "plt.show()"
      ],
      "metadata": {
        "id": "7ElN2oPGIxhR",
        "outputId": "9cd89e37-5d17-4396-951b-97ba95dfb1a9",
        "colab": {
          "base_uri": "https://localhost:8080/",
          "height": 333
        }
      },
      "execution_count": 9,
      "outputs": [
        {
          "output_type": "display_data",
          "data": {
            "text/plain": [
              "<Figure size 1080x360 with 1 Axes>"
            ],
            "image/png": "[encoded data removed]"
          },
          "metadata": {
            "needs_background": "light"
          }
        }
      ]
    },
    {
      "cell_type": "markdown",
      "source": [
        "## 1. 千代田区"
      ],
      "metadata": {
        "id": "ZACAbXFi-ltS"
      }
    },
    {
      "cell_type": "markdown",
      "source": [
        "## 2. 中央区\n",
        "- [区立図書館](https://catalog.data.metro.tokyo.lg.jp/dataset/t131024d0000000009/resource/000f73eb-36ec-46a3-af45-345602281d1d)"
      ],
      "metadata": {
        "id": "LhpZm-tc-nDc"
      }
    },
    {
      "cell_type": "markdown",
      "source": [
        "## 3. 港区\n",
        "- [港区の公共施設情報](https://catalog.data.metro.tokyo.lg.jp/dataset/t131032d0000000014)"
      ],
      "metadata": {
        "id": "N29UjnUPRhG7"
      }
    },
    {
      "cell_type": "code",
      "source": [
        "# minato_library_url = 'https://opendata.city.minato.tokyo.jp/dataset/52105970-c407-423c-8827-2cfc229bf864/resource/dc824430-1645-45f6-8dc1-229b2d2c97a2/download/minatokushisetsujoho_tosyokan.csv'\n",
        "# df_minato_library = get_data_csv_url(minato_library_url)\n",
        "# df_minato_library['市区町村名'] = '港区'\n",
        "# df_minato_library = df_minato_library[df_minato_library['第2分類'] == '図書館'].reset_index(drop=False)\n",
        "# df_minato_library = df_minato_library.rename(columns={'第2分類':'施設分類', 'ページタイトル':'施設名'})[extract_columns]\n",
        "# print(df_minato_library.shape)"
      ],
      "metadata": {
        "id": "bHdlGR4rRd_V"
      },
      "execution_count": 10,
      "outputs": []
    },
    {
      "cell_type": "markdown",
      "source": [
        "## 4. 新宿区"
      ],
      "metadata": {
        "id": "Pgbygpci_8xk"
      }
    },
    {
      "cell_type": "markdown",
      "source": [
        "## 5. 文京区\n",
        "- [区立図書館](https://catalog.data.metro.tokyo.lg.jp/dataset/t131059d0313060001/resource/7479e54e-2afb-4598-83dc-5a258c9f9c68)"
      ],
      "metadata": {
        "id": "zkWO0O40AAXY"
      }
    },
    {
      "cell_type": "markdown",
      "source": [
        "## 6. 台東区\n",
        "- [図書館](https://catalog.data.metro.tokyo.lg.jp/dataset/t131067d0000000090/resource/642d35ad-56fa-4d9f-b364-45aa615da5a6)"
      ],
      "metadata": {
        "id": "S_Q90dBVcPtQ"
      }
    },
    {
      "cell_type": "code",
      "source": [
        "# taito_library_url = 'https://www.city.taito.lg.jp/kusei/online/opendata/seikatu/shisethutizujouhou.files/sisetu_12.csv'\n",
        "# df_taito_library = get_data_csv_url(taito_library_url, 'shift-jis')\n",
        "# df_taito_library['市区町村名'] = '台東区'\n",
        "# df_taito_library['施設分類'] = '図書館'\n",
        "# df_taito_library = df_taito_library.rename(columns={'名称':'施設名', 'X座標':'経度', 'Y座標':'緯度'})[extract_columns]\n",
        "# print(df_taito_library.shape)"
      ],
      "metadata": {
        "id": "gmjGpKi0cR10"
      },
      "execution_count": 11,
      "outputs": []
    },
    {
      "cell_type": "markdown",
      "source": [
        "## 7. 墨田区"
      ],
      "metadata": {
        "id": "A79C8s69R4YW"
      }
    },
    {
      "cell_type": "code",
      "source": [
        "# sumida_library_url = 'https://www.city.sumida.lg.jp/kuseijoho/sumida_info/opendata/opendata_ichiran/shisetsu_data.files/library.csv'\n",
        "# df_sumida_library = get_data_csv_url(sumida_library_url, 'shift-jis')\n",
        "# df_sumida_library['市区町村名'] = '墨田区'\n",
        "# df_sumida_library['施設分類'] = '図書館'\n",
        "# df_sumida_library = df_sumida_library.rename(columns={'施設名称':'施設名'})[extract_columns]\n",
        "# print(df_sumida_library.shape)"
      ],
      "metadata": {
        "id": "hZJc7luQRd5I"
      },
      "execution_count": 12,
      "outputs": []
    },
    {
      "cell_type": "markdown",
      "source": [
        "## 8. 江東区"
      ],
      "metadata": {
        "id": "NqS25lpRAE69"
      }
    },
    {
      "cell_type": "markdown",
      "source": [
        "## 9. 品川区"
      ],
      "metadata": {
        "id": "1DtqDI8wAIZU"
      }
    },
    {
      "cell_type": "markdown",
      "source": [
        "## 10. 目黒区"
      ],
      "metadata": {
        "id": "O-kazdaVAO96"
      }
    },
    {
      "cell_type": "markdown",
      "source": [
        "## 11. 大田区\n",
        "- [図書館一覧](https://catalog.data.metro.tokyo.lg.jp/dataset/t131113d0000000021/resource/b73e2be9-5f66-4539-9449-e2b2e3d06f31)"
      ],
      "metadata": {
        "id": "97VG5rAmAOx1"
      }
    },
    {
      "cell_type": "markdown",
      "source": [
        "## 12. 世田谷区"
      ],
      "metadata": {
        "id": "ELftpGACAOcD"
      }
    },
    {
      "cell_type": "markdown",
      "source": [
        "## 13. 渋谷区"
      ],
      "metadata": {
        "id": "QM9PxjelAODr"
      }
    },
    {
      "cell_type": "markdown",
      "source": [
        "## 14. 中野区"
      ],
      "metadata": {
        "id": "KqZ5GNBJAN3u"
      }
    },
    {
      "cell_type": "markdown",
      "source": [
        "## 15. 杉並区"
      ],
      "metadata": {
        "id": "S03BIPExANsQ"
      }
    },
    {
      "cell_type": "markdown",
      "source": [
        "## 16. 豊島区"
      ],
      "metadata": {
        "id": "4l-1hChUAid_"
      }
    },
    {
      "cell_type": "markdown",
      "source": [
        "## 17. 北区"
      ],
      "metadata": {
        "id": "bFFDif4YAlLs"
      }
    },
    {
      "cell_type": "markdown",
      "source": [
        "## 18. 荒川区"
      ],
      "metadata": {
        "id": "2cDg9WrJAn5H"
      }
    },
    {
      "cell_type": "markdown",
      "source": [
        "## 19. 板橋区\n",
        "- [板橋区の図書館](https://catalog.data.metro.tokyo.lg.jp/dataset/t131199d0000001381/resource/81734445-ec05-47c7-9fa4-0495af2d030a)"
      ],
      "metadata": {
        "id": "bGVlU9FmArhz"
      }
    },
    {
      "cell_type": "markdown",
      "source": [
        "## 20. 練馬区"
      ],
      "metadata": {
        "id": "IrUQq4O1R_U-"
      }
    },
    {
      "cell_type": "code",
      "source": [
        "# nerima_library_url = 'https://www.city.nerima.tokyo.jp/kusei/tokei/opendata/opendatasite/sisetsujyouhou/toshokan.files/toshokan.csv'\n",
        "# df_nerima_library = get_data_csv_url(nerima_library_url, 'shift-jis')\n",
        "# df_nerima_library['市区町村名'] = '練馬区'\n",
        "# df_nerima_library = df_nerima_library[~df_nerima_library['名称'].str.contains('受取窓口')].reset_index(drop=True)\n",
        "# df_nerima_library['施設分類'] = '図書館'\n",
        "# df_nerima_library = df_nerima_library.rename(columns={'名称':'施設名'})[extract_columns]\n",
        "# print(df_nerima_library.shape)"
      ],
      "metadata": {
        "id": "1-Tb-41SRdzN"
      },
      "execution_count": 13,
      "outputs": []
    },
    {
      "cell_type": "markdown",
      "source": [
        "## 21. 足立区"
      ],
      "metadata": {
        "id": "-BYYjCHtAwe0"
      }
    },
    {
      "cell_type": "markdown",
      "source": [
        "## 22. 葛飾区"
      ],
      "metadata": {
        "id": "mjK9ck8WAwTU"
      }
    },
    {
      "cell_type": "markdown",
      "source": [
        "## 23. 江戸川区"
      ],
      "metadata": {
        "id": "7aWcDsmMAwBc"
      }
    },
    {
      "cell_type": "markdown",
      "source": [
        "## 図書館マスタ\n",
        "\n",
        "|No.|区名|データ|\n",
        "|:----|:----|:----|\n",
        "|0|東京都|済み|\n",
        "|1|千代田区| |\n",
        "|2|中央区| |\n",
        "|3|港区|使用しない|\n",
        "|4|新宿区| |\n",
        "|5|文京区| |\n",
        "|6|台東区|使用しない|\n",
        "|7|墨田区|使用しない|\n",
        "|8|江東区| |\n",
        "|9|品川区| |\n",
        "|10|目黒区| |\n",
        "|11|大田区| |\n",
        "|12|世田谷区| |\n",
        "|13|渋谷区| |\n",
        "|14|中野区| |\n",
        "|15|杉並区| |\n",
        "|16|豊島区| |\n",
        "|17|北区| |\n",
        "|18|荒川区| |\n",
        "|19|板橋区| |\n",
        "|20|練馬区|使用しない|\n",
        "|21|足立区| |\n",
        "|22|葛飾区| |\n",
        "|23|江戸川区| |"
      ],
      "metadata": {
        "id": "9x6VJEBUSGeh"
      }
    },
    {
      "cell_type": "code",
      "source": [
        "# df_library_master = pd.concat([\n",
        "#     df_minato_library,\n",
        "#     df_sumida_library,\n",
        "#     df_nerima_library,\n",
        "#     df_taito_library,\n",
        "# ]).reset_index(drop=True)\n",
        "# print(df_library_master.shape)\n",
        "\n",
        "df_library_master = df_tokyo_library"
      ],
      "metadata": {
        "id": "81JjNDiASF-3"
      },
      "execution_count": 14,
      "outputs": []
    },
    {
      "cell_type": "code",
      "source": [
        "df_library_master.head()"
      ],
      "metadata": {
        "colab": {
          "base_uri": "https://localhost:8080/",
          "height": 206
        },
        "id": "DuOMlpqHSKvK",
        "outputId": "ef065bfe-b14d-4366-e819-e54ea0f40c63"
      },
      "execution_count": 15,
      "outputs": [
        {
          "output_type": "execute_result",
          "data": {
            "text/plain": [
              "  施設分類        施設名 市区町村名                      所在地         緯度          経度\n",
              "0  図書館  昌平まちかど図書館  千代田区             千代田区外神田3-4-7  35.701223  139.769873\n",
              "1  図書館  神田まちかど図書館  千代田区             千代田区神田司町2-16  35.693357  139.768304\n",
              "2  図書館     四番町図書館  千代田区                 千代田区四番町1  35.690453  139.741601\n",
              "3  図書館     千代田図書館  千代田区  千代田区九段南1-2-1千代田区役所9･10階  35.693997  139.753585\n",
              "4  図書館   日比谷図書文化館  千代田区             千代田区日比谷公園1-4  35.671872  139.754602"
            ],
            "text/html": [
              "\n",
              "  <div id=\"df-3eb37220-62cb-4c9f-9d3d-707c660bdabc\">\n",
              "    <div class=\"colab-df-container\">\n",
              "      <div>\n",
              "<style scoped>\n",
              "    .dataframe tbody tr th:only-of-type {\n",
              "        vertical-align: middle;\n",
              "    }\n",
              "\n",
              "    .dataframe tbody tr th {\n",
              "        vertical-align: top;\n",
              "    }\n",
              "\n",
              "    .dataframe thead th {\n",
              "        text-align: right;\n",
              "    }\n",
              "</style>\n",
              "<table border=\"1\" class=\"dataframe\">\n",
              "  <thead>\n",
              "    <tr style=\"text-align: right;\">\n",
              "      <th></th>\n",
              "      <th>施設分類</th>\n",
              "      <th>施設名</th>\n",
              "      <th>市区町村名</th>\n",
              "      <th>所在地</th>\n",
              "      <th>緯度</th>\n",
              "      <th>経度</th>\n",
              "    </tr>\n",
              "  </thead>\n",
              "  <tbody>\n",
              "    <tr>\n",
              "      <th>0</th>\n",
              "      <td>図書館</td>\n",
              "      <td>昌平まちかど図書館</td>\n",
              "      <td>千代田区</td>\n",
              "      <td>千代田区外神田3-4-7</td>\n",
              "      <td>35.701223</td>\n",
              "      <td>139.769873</td>\n",
              "    </tr>\n",
              "    <tr>\n",
              "      <th>1</th>\n",
              "      <td>図書館</td>\n",
              "      <td>神田まちかど図書館</td>\n",
              "      <td>千代田区</td>\n",
              "      <td>千代田区神田司町2-16</td>\n",
              "      <td>35.693357</td>\n",
              "      <td>139.768304</td>\n",
              "    </tr>\n",
              "    <tr>\n",
              "      <th>2</th>\n",
              "      <td>図書館</td>\n",
              "      <td>四番町図書館</td>\n",
              "      <td>千代田区</td>\n",
              "      <td>千代田区四番町1</td>\n",
              "      <td>35.690453</td>\n",
              "      <td>139.741601</td>\n",
              "    </tr>\n",
              "    <tr>\n",
              "      <th>3</th>\n",
              "      <td>図書館</td>\n",
              "      <td>千代田図書館</td>\n",
              "      <td>千代田区</td>\n",
              "      <td>千代田区九段南1-2-1千代田区役所9･10階</td>\n",
              "      <td>35.693997</td>\n",
              "      <td>139.753585</td>\n",
              "    </tr>\n",
              "    <tr>\n",
              "      <th>4</th>\n",
              "      <td>図書館</td>\n",
              "      <td>日比谷図書文化館</td>\n",
              "      <td>千代田区</td>\n",
              "      <td>千代田区日比谷公園1-4</td>\n",
              "      <td>35.671872</td>\n",
              "      <td>139.754602</td>\n",
              "    </tr>\n",
              "  </tbody>\n",
              "</table>\n",
              "</div>\n",
              "      <button class=\"colab-df-convert\" onclick=\"convertToInteractive('df-3eb37220-62cb-4c9f-9d3d-707c660bdabc')\"\n",
              "              title=\"Convert this dataframe to an interactive table.\"\n",
              "              style=\"display:none;\">\n",
              "        \n",
              "  <svg xmlns=\"http://www.w3.org/2000/svg\" height=\"24px\"viewBox=\"0 0 24 24\"\n",
              "       width=\"24px\">\n",
              "    <path d=\"M0 0h24v24H0V0z\" fill=\"none\"/>\n",
              "    <path d=\"M18.56 5.44l.94 2.06.94-2.06 2.06-.94-2.06-.94-.94-2.06-.94 2.06-2.06.94zm-11 1L8.5 8.5l.94-2.06 2.06-.94-2.06-.94L8.5 2.5l-.94 2.06-2.06.94zm10 10l.94 2.06.94-2.06 2.06-.94-2.06-.94-.94-2.06-.94 2.06-2.06.94z\"/><path d=\"M17.41 7.96l-1.37-1.37c-.4-.4-.92-.59-1.43-.59-.52 0-1.04.2-1.43.59L10.3 9.45l-7.72 7.72c-.78.78-.78 2.05 0 2.83L4 21.41c.39.39.9.59 1.41.59.51 0 1.02-.2 1.41-.59l7.78-7.78 2.81-2.81c.8-.78.8-2.07 0-2.86zM5.41 20L4 18.59l7.72-7.72 1.47 1.35L5.41 20z\"/>\n",
              "  </svg>\n",
              "      </button>\n",
              "      \n",
              "  <style>\n",
              "    .colab-df-container {\n",
              "      display:flex;\n",
              "      flex-wrap:wrap;\n",
              "      gap: 12px;\n",
              "    }\n",
              "\n",
              "    .colab-df-convert {\n",
              "      background-color: #E8F0FE;\n",
              "      border: none;\n",
              "      border-radius: 50%;\n",
              "      cursor: pointer;\n",
              "      display: none;\n",
              "      fill: #1967D2;\n",
              "      height: 32px;\n",
              "      padding: 0 0 0 0;\n",
              "      width: 32px;\n",
              "    }\n",
              "\n",
              "    .colab-df-convert:hover {\n",
              "      background-color: #E2EBFA;\n",
              "      box-shadow: 0px 1px 2px rgba(60, 64, 67, 0.3), 0px 1px 3px 1px rgba(60, 64, 67, 0.15);\n",
              "      fill: #174EA6;\n",
              "    }\n",
              "\n",
              "    [theme=dark] .colab-df-convert {\n",
              "      background-color: #3B4455;\n",
              "      fill: #D2E3FC;\n",
              "    }\n",
              "\n",
              "    [theme=dark] .colab-df-convert:hover {\n",
              "      background-color: #434B5C;\n",
              "      box-shadow: 0px 1px 3px 1px rgba(0, 0, 0, 0.15);\n",
              "      filter: drop-shadow(0px 1px 2px rgba(0, 0, 0, 0.3));\n",
              "      fill: #FFFFFF;\n",
              "    }\n",
              "  </style>\n",
              "\n",
              "      <script>\n",
              "        const buttonEl =\n",
              "          document.querySelector('#df-3eb37220-62cb-4c9f-9d3d-707c660bdabc button.colab-df-convert');\n",
              "        buttonEl.style.display =\n",
              "          google.colab.kernel.accessAllowed ? 'block' : 'none';\n",
              "\n",
              "        async function convertToInteractive(key) {\n",
              "          const element = document.querySelector('#df-3eb37220-62cb-4c9f-9d3d-707c660bdabc');\n",
              "          const dataTable =\n",
              "            await google.colab.kernel.invokeFunction('convertToInteractive',\n",
              "                                                     [key], {});\n",
              "          if (!dataTable) return;\n",
              "\n",
              "          const docLinkHtml = 'Like what you see? Visit the ' +\n",
              "            '<a target=\"_blank\" href=https://colab.research.google.com/notebooks/data_table.ipynb>data table notebook</a>'\n",
              "            + ' to learn more about interactive tables.';\n",
              "          element.innerHTML = '';\n",
              "          dataTable['output_type'] = 'display_data';\n",
              "          await google.colab.output.renderOutput(dataTable, element);\n",
              "          const docLink = document.createElement('div');\n",
              "          docLink.innerHTML = docLinkHtml;\n",
              "          element.appendChild(docLink);\n",
              "        }\n",
              "      </script>\n",
              "    </div>\n",
              "  </div>\n",
              "  "
            ]
          },
          "metadata": {},
          "execution_count": 15
        }
      ]
    },
    {
      "cell_type": "code",
      "source": [
        "df_library_master.to_csv(os.path.join(DIR_NAME, 'library_master.csv'), index=False)"
      ],
      "metadata": {
        "id": "6fVMjfovBOVc"
      },
      "execution_count": 16,
      "outputs": []
    },
    {
      "cell_type": "code",
      "source": [
        "# データがある区をリストアップ\n",
        "sr_library_count = df_library_master[df_library_master['施設分類'] == '図書館']['市区町村名'].value_counts()\n",
        "ward_list = list(sr_library_count.index)\n",
        "assert len(ward_list) == 23"
      ],
      "metadata": {
        "id": "K0XiyW9nBYIh"
      },
      "execution_count": 17,
      "outputs": []
    },
    {
      "cell_type": "markdown",
      "source": [
        "## 人口マスタ"
      ],
      "metadata": {
        "id": "jdT3_lplSwOo"
      }
    },
    {
      "cell_type": "code",
      "source": [
        "population_master = pd.read_csv(os.path.join(DIR_NAME, 'population_master.csv'))\n",
        "print(population_master.shape)"
      ],
      "metadata": {
        "colab": {
          "base_uri": "https://localhost:8080/"
        },
        "id": "mmH8g81kP2Cb",
        "outputId": "9c4d58dd-bbce-45e4-c21b-5d6e6790ec33"
      },
      "execution_count": 18,
      "outputs": [
        {
          "output_type": "stream",
          "name": "stdout",
          "text": [
            "(2921, 32)\n"
          ]
        }
      ]
    },
    {
      "cell_type": "code",
      "source": [
        "df_tokyo_district_master = population_master[population_master['市区町村名'].isin(ward_list)][['地域ID', '市区町村名', '町名', '町丁目', '緯度', '経度']].copy()\n",
        "print(df_tokyo_district_master.shape)"
      ],
      "metadata": {
        "id": "HqtS7xUrS1i2",
        "outputId": "f523adc1-0a74-4e19-e676-eb002f819d0d",
        "colab": {
          "base_uri": "https://localhost:8080/"
        }
      },
      "execution_count": 19,
      "outputs": [
        {
          "output_type": "stream",
          "name": "stdout",
          "text": [
            "(2921, 6)\n"
          ]
        }
      ]
    },
    {
      "cell_type": "code",
      "source": [
        "%%time\n",
        "# 一番近い施設の距離\n",
        "df_tokyo_district_master['図書館(最近傍距離)'] = get_value_of_nearest_facility(df_tokyo_district_master, df_library_master, '図書館', 'min')\n",
        "# 近い3件の距離の平均\n",
        "df_tokyo_district_master['図書館(平均距離)'] = get_value_of_nearest_facility(df_tokyo_district_master, df_library_master, '図書館', 'mean', 3)\n",
        "# 2km以内の施設の数\n",
        "df_tokyo_district_master['図書館(数)'] = get_value_of_nearest_facility(df_tokyo_district_master, df_library_master, '図書館', 'count', 2)"
      ],
      "metadata": {
        "colab": {
          "base_uri": "https://localhost:8080/"
        },
        "id": "sn7VhpDmQJsi",
        "outputId": "22a59092-6cda-4035-faf5-8674facc2dce"
      },
      "execution_count": 20,
      "outputs": [
        {
          "output_type": "stream",
          "name": "stdout",
          "text": [
            "CPU times: user 1min 2s, sys: 300 ms, total: 1min 2s\n",
            "Wall time: 1min 7s\n"
          ]
        }
      ]
    },
    {
      "cell_type": "code",
      "source": [
        "print(df_tokyo_district_master.shape)\n",
        "df_tokyo_district_master.head()"
      ],
      "metadata": {
        "colab": {
          "base_uri": "https://localhost:8080/",
          "height": 224
        },
        "id": "pNI5D7LZTJE3",
        "outputId": "0bc7d8a4-86ea-44f3-8a2c-c7e1f67b238f"
      },
      "execution_count": 21,
      "outputs": [
        {
          "output_type": "stream",
          "name": "stdout",
          "text": [
            "(2921, 9)\n"
          ]
        },
        {
          "output_type": "execute_result",
          "data": {
            "text/plain": [
              "     地域ID 市区町村名   町名     町丁目         緯度          経度  図書館(最近傍距離)  図書館(平均距離)  \\\n",
              "0  101003  千代田区  丸の内  丸の内１丁目  35.681610  139.767511    1.286453   1.301848   \n",
              "1  101004  千代田区  丸の内  丸の内２丁目  35.680071  139.763944    1.242295   1.349516   \n",
              "2  101005  千代田区  丸の内  丸の内３丁目  35.676890  139.764039    1.000856   1.274480   \n",
              "3  101007  千代田区  大手町  大手町１丁目  35.688067  139.764353    0.687988   1.136131   \n",
              "4  101008  千代田区  大手町  大手町２丁目  35.686416  139.768530    0.772108   1.182786   \n",
              "\n",
              "   図書館(数)  \n",
              "0       5  \n",
              "1       5  \n",
              "2       4  \n",
              "3       5  \n",
              "4       6  "
            ],
            "text/html": [
              "\n",
              "  <div id=\"df-bf6708f1-91d7-4695-a736-ae0b70cc6210\">\n",
              "    <div class=\"colab-df-container\">\n",
              "      <div>\n",
              "<style scoped>\n",
              "    .dataframe tbody tr th:only-of-type {\n",
              "        vertical-align: middle;\n",
              "    }\n",
              "\n",
              "    .dataframe tbody tr th {\n",
              "        vertical-align: top;\n",
              "    }\n",
              "\n",
              "    .dataframe thead th {\n",
              "        text-align: right;\n",
              "    }\n",
              "</style>\n",
              "<table border=\"1\" class=\"dataframe\">\n",
              "  <thead>\n",
              "    <tr style=\"text-align: right;\">\n",
              "      <th></th>\n",
              "      <th>地域ID</th>\n",
              "      <th>市区町村名</th>\n",
              "      <th>町名</th>\n",
              "      <th>町丁目</th>\n",
              "      <th>緯度</th>\n",
              "      <th>経度</th>\n",
              "      <th>図書館(最近傍距離)</th>\n",
              "      <th>図書館(平均距離)</th>\n",
              "      <th>図書館(数)</th>\n",
              "    </tr>\n",
              "  </thead>\n",
              "  <tbody>\n",
              "    <tr>\n",
              "      <th>0</th>\n",
              "      <td>101003</td>\n",
              "      <td>千代田区</td>\n",
              "      <td>丸の内</td>\n",
              "      <td>丸の内１丁目</td>\n",
              "      <td>35.681610</td>\n",
              "      <td>139.767511</td>\n",
              "      <td>1.286453</td>\n",
              "      <td>1.301848</td>\n",
              "      <td>5</td>\n",
              "    </tr>\n",
              "    <tr>\n",
              "      <th>1</th>\n",
              "      <td>101004</td>\n",
              "      <td>千代田区</td>\n",
              "      <td>丸の内</td>\n",
              "      <td>丸の内２丁目</td>\n",
              "      <td>35.680071</td>\n",
              "      <td>139.763944</td>\n",
              "      <td>1.242295</td>\n",
              "      <td>1.349516</td>\n",
              "      <td>5</td>\n",
              "    </tr>\n",
              "    <tr>\n",
              "      <th>2</th>\n",
              "      <td>101005</td>\n",
              "      <td>千代田区</td>\n",
              "      <td>丸の内</td>\n",
              "      <td>丸の内３丁目</td>\n",
              "      <td>35.676890</td>\n",
              "      <td>139.764039</td>\n",
              "      <td>1.000856</td>\n",
              "      <td>1.274480</td>\n",
              "      <td>4</td>\n",
              "    </tr>\n",
              "    <tr>\n",
              "      <th>3</th>\n",
              "      <td>101007</td>\n",
              "      <td>千代田区</td>\n",
              "      <td>大手町</td>\n",
              "      <td>大手町１丁目</td>\n",
              "      <td>35.688067</td>\n",
              "      <td>139.764353</td>\n",
              "      <td>0.687988</td>\n",
              "      <td>1.136131</td>\n",
              "      <td>5</td>\n",
              "    </tr>\n",
              "    <tr>\n",
              "      <th>4</th>\n",
              "      <td>101008</td>\n",
              "      <td>千代田区</td>\n",
              "      <td>大手町</td>\n",
              "      <td>大手町２丁目</td>\n",
              "      <td>35.686416</td>\n",
              "      <td>139.768530</td>\n",
              "      <td>0.772108</td>\n",
              "      <td>1.182786</td>\n",
              "      <td>6</td>\n",
              "    </tr>\n",
              "  </tbody>\n",
              "</table>\n",
              "</div>\n",
              "      <button class=\"colab-df-convert\" onclick=\"convertToInteractive('df-bf6708f1-91d7-4695-a736-ae0b70cc6210')\"\n",
              "              title=\"Convert this dataframe to an interactive table.\"\n",
              "              style=\"display:none;\">\n",
              "        \n",
              "  <svg xmlns=\"http://www.w3.org/2000/svg\" height=\"24px\"viewBox=\"0 0 24 24\"\n",
              "       width=\"24px\">\n",
              "    <path d=\"M0 0h24v24H0V0z\" fill=\"none\"/>\n",
              "    <path d=\"M18.56 5.44l.94 2.06.94-2.06 2.06-.94-2.06-.94-.94-2.06-.94 2.06-2.06.94zm-11 1L8.5 8.5l.94-2.06 2.06-.94-2.06-.94L8.5 2.5l-.94 2.06-2.06.94zm10 10l.94 2.06.94-2.06 2.06-.94-2.06-.94-.94-2.06-.94 2.06-2.06.94z\"/><path d=\"M17.41 7.96l-1.37-1.37c-.4-.4-.92-.59-1.43-.59-.52 0-1.04.2-1.43.59L10.3 9.45l-7.72 7.72c-.78.78-.78 2.05 0 2.83L4 21.41c.39.39.9.59 1.41.59.51 0 1.02-.2 1.41-.59l7.78-7.78 2.81-2.81c.8-.78.8-2.07 0-2.86zM5.41 20L4 18.59l7.72-7.72 1.47 1.35L5.41 20z\"/>\n",
              "  </svg>\n",
              "      </button>\n",
              "      \n",
              "  <style>\n",
              "    .colab-df-container {\n",
              "      display:flex;\n",
              "      flex-wrap:wrap;\n",
              "      gap: 12px;\n",
              "    }\n",
              "\n",
              "    .colab-df-convert {\n",
              "      background-color: #E8F0FE;\n",
              "      border: none;\n",
              "      border-radius: 50%;\n",
              "      cursor: pointer;\n",
              "      display: none;\n",
              "      fill: #1967D2;\n",
              "      height: 32px;\n",
              "      padding: 0 0 0 0;\n",
              "      width: 32px;\n",
              "    }\n",
              "\n",
              "    .colab-df-convert:hover {\n",
              "      background-color: #E2EBFA;\n",
              "      box-shadow: 0px 1px 2px rgba(60, 64, 67, 0.3), 0px 1px 3px 1px rgba(60, 64, 67, 0.15);\n",
              "      fill: #174EA6;\n",
              "    }\n",
              "\n",
              "    [theme=dark] .colab-df-convert {\n",
              "      background-color: #3B4455;\n",
              "      fill: #D2E3FC;\n",
              "    }\n",
              "\n",
              "    [theme=dark] .colab-df-convert:hover {\n",
              "      background-color: #434B5C;\n",
              "      box-shadow: 0px 1px 3px 1px rgba(0, 0, 0, 0.15);\n",
              "      filter: drop-shadow(0px 1px 2px rgba(0, 0, 0, 0.3));\n",
              "      fill: #FFFFFF;\n",
              "    }\n",
              "  </style>\n",
              "\n",
              "      <script>\n",
              "        const buttonEl =\n",
              "          document.querySelector('#df-bf6708f1-91d7-4695-a736-ae0b70cc6210 button.colab-df-convert');\n",
              "        buttonEl.style.display =\n",
              "          google.colab.kernel.accessAllowed ? 'block' : 'none';\n",
              "\n",
              "        async function convertToInteractive(key) {\n",
              "          const element = document.querySelector('#df-bf6708f1-91d7-4695-a736-ae0b70cc6210');\n",
              "          const dataTable =\n",
              "            await google.colab.kernel.invokeFunction('convertToInteractive',\n",
              "                                                     [key], {});\n",
              "          if (!dataTable) return;\n",
              "\n",
              "          const docLinkHtml = 'Like what you see? Visit the ' +\n",
              "            '<a target=\"_blank\" href=https://colab.research.google.com/notebooks/data_table.ipynb>data table notebook</a>'\n",
              "            + ' to learn more about interactive tables.';\n",
              "          element.innerHTML = '';\n",
              "          dataTable['output_type'] = 'display_data';\n",
              "          await google.colab.output.renderOutput(dataTable, element);\n",
              "          const docLink = document.createElement('div');\n",
              "          docLink.innerHTML = docLinkHtml;\n",
              "          element.appendChild(docLink);\n",
              "        }\n",
              "      </script>\n",
              "    </div>\n",
              "  </div>\n",
              "  "
            ]
          },
          "metadata": {},
          "execution_count": 21
        }
      ]
    },
    {
      "cell_type": "code",
      "source": [
        "sns.histplot(df_tokyo_district_master['図書館(数)'], bins=10)\n",
        "plt.show()"
      ],
      "metadata": {
        "colab": {
          "base_uri": "https://localhost:8080/",
          "height": 278
        },
        "id": "Prj7gyyxTK0s",
        "outputId": "31349d40-38f3-4bc0-ceb2-c27966683651"
      },
      "execution_count": 22,
      "outputs": [
        {
          "output_type": "display_data",
          "data": {
            "text/plain": [
              "<Figure size 432x288 with 1 Axes>"
            ],
            "image/png": "[encoded data removed]"
          },
          "metadata": {
            "needs_background": "light"
          }
        }
      ]
    },
    {
      "cell_type": "code",
      "source": [
        "sns.histplot(df_tokyo_district_master['図書館(最近傍距離)'], bins=20)\n",
        "plt.show()"
      ],
      "metadata": {
        "colab": {
          "base_uri": "https://localhost:8080/",
          "height": 278
        },
        "id": "itr_GUKtTc0W",
        "outputId": "6f5353ec-5b9c-426e-935c-3a05ef1dc06a"
      },
      "execution_count": 23,
      "outputs": [
        {
          "output_type": "display_data",
          "data": {
            "text/plain": [
              "<Figure size 432x288 with 1 Axes>"
            ],
            "image/png": "[encoded data removed]"
          },
          "metadata": {
            "needs_background": "light"
          }
        }
      ]
    },
    {
      "cell_type": "code",
      "source": [
        "sns.histplot(df_tokyo_district_master['図書館(平均距離)'], bins=20)\n",
        "plt.show()"
      ],
      "metadata": {
        "colab": {
          "base_uri": "https://localhost:8080/",
          "height": 278
        },
        "id": "Q2u15pO4Tj6v",
        "outputId": "c9c5b952-336f-400f-cb7a-4e21829c6bd1"
      },
      "execution_count": 24,
      "outputs": [
        {
          "output_type": "display_data",
          "data": {
            "text/plain": [
              "<Figure size 432x288 with 1 Axes>"
            ],
            "image/png": "[encoded data removed]"
          },
          "metadata": {
            "needs_background": "light"
          }
        }
      ]
    },
    {
      "cell_type": "code",
      "source": [
        "def normalize_score(sr_data, high=True, outlier=True):\n",
        "    score = (sr_data - sr_data.mean())/sr_data.std()\n",
        "    score = score if high else -score\n",
        "\n",
        "    if outlier:\n",
        "        high_s = score.quantile(0.99)\n",
        "        low_s = score.quantile(0.01)\n",
        "        score[score > high_s] = high_s\n",
        "        score[score < low_s] = low_s\n",
        "    else:\n",
        "        high_s = score.max()\n",
        "        low_s = score.min()\n",
        "        \n",
        "    return (score - low_s)/(high_s - low_s)\n",
        "\n",
        "\n",
        "def rank_score(sr_data):\n",
        "    size = sr_data.notna().sum()\n",
        "    rank = sr_data.rank()\n",
        "    result = rank.copy()\n",
        "    # 0~1: 15%, 1~2: 20%, 2~3: 30%, 3~4: 20%, 4~5: 15%\n",
        "    level_list = [0.15, (0.15+0.2), (0.15+0.2+0.3), (0.15+0.2+0.3+0.2), 1]\n",
        "    \n",
        "    pre_level = 0\n",
        "    for index, level in enumerate([lv*size for lv in level_list]):\n",
        "        result[(rank > pre_level)&(rank <= level)] = (rank - pre_level)/(level - pre_level) + index\n",
        "        pre_level = level\n",
        "\n",
        "    return result"
      ],
      "metadata": {
        "id": "qsPRvvbUTnlK"
      },
      "execution_count": 25,
      "outputs": []
    },
    {
      "cell_type": "code",
      "source": [
        "df_tokyo_district_master['図書館(数)レベル'] = normalize_score(df_tokyo_district_master['図書館(数)'], outlier=False)\n",
        "sns.histplot(df_tokyo_district_master['図書館(数)レベル'], bins=10)\n",
        "plt.show()"
      ],
      "metadata": {
        "colab": {
          "base_uri": "https://localhost:8080/",
          "height": 278
        },
        "id": "_sjdQnHMVX4b",
        "outputId": "fd6f54c0-a5a4-4184-da8b-b45034d04ce1"
      },
      "execution_count": 26,
      "outputs": [
        {
          "output_type": "display_data",
          "data": {
            "text/plain": [
              "<Figure size 432x288 with 1 Axes>"
            ],
            "image/png": "[encoded data removed]"
          },
          "metadata": {
            "needs_background": "light"
          }
        }
      ]
    },
    {
      "cell_type": "code",
      "source": [
        "df_tokyo_district_master['図書館(平均距離)レベル'] = normalize_score(df_tokyo_district_master['図書館(平均距離)'], False)\n",
        "sns.histplot(df_tokyo_district_master['図書館(平均距離)レベル'], bins=20)\n",
        "plt.show()"
      ],
      "metadata": {
        "colab": {
          "base_uri": "https://localhost:8080/",
          "height": 278
        },
        "id": "3yn6iVneV45R",
        "outputId": "7200077d-744e-4d8d-b618-372600faf763"
      },
      "execution_count": 27,
      "outputs": [
        {
          "output_type": "display_data",
          "data": {
            "text/plain": [
              "<Figure size 432x288 with 1 Axes>"
            ],
            "image/png": "[encoded data removed]"
          },
          "metadata": {
            "needs_background": "light"
          }
        }
      ]
    },
    {
      "cell_type": "code",
      "source": [
        "df_tokyo_district_master['図書館(最近傍距離)レベル'] = normalize_score(df_tokyo_district_master['図書館(最近傍距離)'], False)\n",
        "sns.histplot(df_tokyo_district_master['図書館(最近傍距離)レベル'], bins=20)\n",
        "plt.show()"
      ],
      "metadata": {
        "colab": {
          "base_uri": "https://localhost:8080/",
          "height": 278
        },
        "id": "Rr-ML1oEWcCQ",
        "outputId": "e9a3a8e2-5f8d-4255-d636-77c1b4863a35"
      },
      "execution_count": 28,
      "outputs": [
        {
          "output_type": "display_data",
          "data": {
            "text/plain": [
              "<Figure size 432x288 with 1 Axes>"
            ],
            "image/png": "[encoded data removed]"
          },
          "metadata": {
            "needs_background": "light"
          }
        }
      ]
    },
    {
      "cell_type": "code",
      "source": [
        "score_list = [\n",
        "    df_tokyo_district_master['図書館(最近傍距離)レベル'] * 1.0,\n",
        "    df_tokyo_district_master['図書館(平均距離)レベル'] * 0.7,\n",
        "    df_tokyo_district_master['図書館(数)レベル'] * 0.5,\n",
        "]\n",
        "df_tokyo_district_master['_図書館スコア'] = normalize_score(pd.concat(score_list, axis=1).sum(axis=1, skipna=False), outlier=False)\n",
        "df_tokyo_district_master['図書館スコア'] = rank_score(df_tokyo_district_master['_図書館スコア'])"
      ],
      "metadata": {
        "id": "0Kg1KbFwWrHx"
      },
      "execution_count": 29,
      "outputs": []
    },
    {
      "cell_type": "code",
      "source": [
        "sns.histplot(df_tokyo_district_master['_図書館スコア'], bins=20)\n",
        "plt.show()"
      ],
      "metadata": {
        "colab": {
          "base_uri": "https://localhost:8080/",
          "height": 277
        },
        "id": "zncizh76Yzrp",
        "outputId": "8774ba56-5ad7-4cee-f0a0-7a54d93628c7"
      },
      "execution_count": 30,
      "outputs": [
        {
          "output_type": "display_data",
          "data": {
            "text/plain": [
              "<Figure size 432x288 with 1 Axes>"
            ],
            "image/png": "[encoded data removed]"
          },
          "metadata": {
            "needs_background": "light"
          }
        }
      ]
    },
    {
      "cell_type": "code",
      "source": [
        "sns.histplot(df_tokyo_district_master['図書館スコア'], bins=20)\n",
        "plt.show()"
      ],
      "metadata": {
        "colab": {
          "base_uri": "https://localhost:8080/",
          "height": 277
        },
        "id": "hjMG_V5TYpbn",
        "outputId": "34f1a2b8-bb36-479c-9642-0b8d5e6fa458"
      },
      "execution_count": 31,
      "outputs": [
        {
          "output_type": "display_data",
          "data": {
            "text/plain": [
              "<Figure size 432x288 with 1 Axes>"
            ],
            "image/png": "[encoded data removed]"
          },
          "metadata": {
            "needs_background": "light"
          }
        }
      ]
    },
    {
      "cell_type": "code",
      "source": [
        "df_tokyo_district_master[['地域ID', '市区町村名', '町丁目', '図書館(最近傍距離)', '図書館(平均距離)', '図書館(数)', '図書館スコア']]\\\n",
        "    .to_csv(os.path.join(DIR_NAME, 'library_score.csv'), index=False)"
      ],
      "metadata": {
        "id": "sSfVVuQla7Os"
      },
      "execution_count": 32,
      "outputs": []
    },
    {
      "cell_type": "code",
      "source": [
        "plt.figure(figsize=(15, 5))\n",
        "sns.barplot(x='市区町村名', y='図書館スコア', data=df_tokyo_district_master)\n",
        "plt.show()"
      ],
      "metadata": {
        "colab": {
          "base_uri": "https://localhost:8080/",
          "height": 333
        },
        "id": "3tJjlj0keD_-",
        "outputId": "7b7faec7-6626-4ace-8ece-96932feb5825"
      },
      "execution_count": 33,
      "outputs": [
        {
          "output_type": "display_data",
          "data": {
            "text/plain": [
              "<Figure size 1080x360 with 1 Axes>"
            ],
            "image/png": "[encoded data removed]"
          },
          "metadata": {
            "needs_background": "light"
          }
        }
      ]
    },
    {
      "cell_type": "code",
      "source": [
        "df_library_level = df_tokyo_district_master.copy()\n",
        "df_library_level['rank'] = df_library_level.groupby('町名')['図書館スコア'].transform('rank', ascending=False)\n",
        "df_library_level = df_library_level[df_library_level['rank'] == 1].sort_values('図書館スコア', ascending=False)[\n",
        "    ['市区町村名', '町名', '町丁目', '図書館スコア', '_図書館スコア', '図書館(最近傍距離)', '図書館(平均距離)', '図書館(数)']\n",
        "].reset_index(drop=True)\n",
        "print(df_library_level.shape)"
      ],
      "metadata": {
        "colab": {
          "base_uri": "https://localhost:8080/"
        },
        "id": "JtdMzyO3YxKE",
        "outputId": "f025cb06-1a45-4482-cb49-0766c06b1241"
      },
      "execution_count": 34,
      "outputs": [
        {
          "output_type": "stream",
          "name": "stdout",
          "text": [
            "(695, 8)\n"
          ]
        }
      ]
    },
    {
      "cell_type": "code",
      "source": [
        "df_library_level.head(20)"
      ],
      "metadata": {
        "colab": {
          "base_uri": "https://localhost:8080/",
          "height": 677
        },
        "id": "HmlzRQiaZZZC",
        "outputId": "b34b1ec9-1ee2-48ff-b141-4bb1361e12a9"
      },
      "execution_count": 35,
      "outputs": [
        {
          "output_type": "execute_result",
          "data": {
            "text/plain": [
              "   市区町村名    町名      町丁目    図書館スコア   _図書館スコア  図書館(最近傍距離)  図書館(平均距離)  図書館(数)\n",
              "0     北区   上中里   上中里１丁目  5.000000  1.000000    0.126370   0.529664      13\n",
              "1     北区  田端新町  田端新町２丁目  4.997711  0.991115    0.135295   0.581013      13\n",
              "2     北区   上十条   上十条３丁目  4.995423  0.987172    0.081841   0.572226      12\n",
              "3    中野区   東中野   東中野１丁目  4.993134  0.965534    0.104376   0.566147      11\n",
              "4     北区    田端    田端２丁目  4.990846  0.964483    0.127197   0.434601      11\n",
              "5    荒川区  西日暮里  西日暮里６丁目  4.988557  0.961340    0.140458   0.510588      11\n",
              "6    文京区   本駒込   本駒込４丁目  4.986268  0.960356    0.144613   0.416272      11\n",
              "7     北区   東十条   東十条３丁目  4.983980  0.951047    0.025586   0.577180      10\n",
              "8     北区   昭和町   昭和町３丁目  4.981691  0.947688    0.092581   0.584521      10\n",
              "9    新宿区   大久保   大久保２丁目  4.977114  0.941707    0.148785   0.250977      10\n",
              "10   品川区    二葉    二葉１丁目  4.974825  0.941093    0.118638   0.587106      10\n",
              "11   豊島区    駒込    駒込２丁目  4.970248  0.939535    0.075217   0.520286       9\n",
              "12    北区    中里    中里２丁目  4.967960  0.937734    0.308067   0.548812      12\n",
              "13   荒川区   東尾久   東尾久４丁目  4.965671  0.937670    0.279951   0.699142      13\n",
              "14    北区    豊島    豊島１丁目  4.963383  0.935999    0.111354   0.629148      10\n",
              "15   新宿区    戸山    戸山２丁目  4.961094  0.934620    0.178686   0.419777      10\n",
              "16    北区   西ヶ原   西ヶ原１丁目  4.956517  0.933332    0.231837   0.578441      11\n",
              "17   荒川区  東日暮里  東日暮里６丁目  4.954228  0.933006    0.139926   0.714723      11\n",
              "18   豊島区  雑司が谷  雑司が谷３丁目  4.951940  0.932970    0.147477   0.703911      11\n",
              "19   品川区    中延    中延４丁目  4.949651  0.929925    0.120949   0.652570      10"
            ],
            "text/html": [
              "\n",
              "  <div id=\"df-ee00f005-2a4c-489b-839f-3bf4cc05f169\">\n",
              "    <div class=\"colab-df-container\">\n",
              "      <div>\n",
              "<style scoped>\n",
              "    .dataframe tbody tr th:only-of-type {\n",
              "        vertical-align: middle;\n",
              "    }\n",
              "\n",
              "    .dataframe tbody tr th {\n",
              "        vertical-align: top;\n",
              "    }\n",
              "\n",
              "    .dataframe thead th {\n",
              "        text-align: right;\n",
              "    }\n",
              "</style>\n",
              "<table border=\"1\" class=\"dataframe\">\n",
              "  <thead>\n",
              "    <tr style=\"text-align: right;\">\n",
              "      <th></th>\n",
              "      <th>市区町村名</th>\n",
              "      <th>町名</th>\n",
              "      <th>町丁目</th>\n",
              "      <th>図書館スコア</th>\n",
              "      <th>_図書館スコア</th>\n",
              "      <th>図書館(最近傍距離)</th>\n",
              "      <th>図書館(平均距離)</th>\n",
              "      <th>図書館(数)</th>\n",
              "    </tr>\n",
              "  </thead>\n",
              "  <tbody>\n",
              "    <tr>\n",
              "      <th>0</th>\n",
              "      <td>北区</td>\n",
              "      <td>上中里</td>\n",
              "      <td>上中里１丁目</td>\n",
              "      <td>5.000000</td>\n",
              "      <td>1.000000</td>\n",
              "      <td>0.126370</td>\n",
              "      <td>0.529664</td>\n",
              "      <td>13</td>\n",
              "    </tr>\n",
              "    <tr>\n",
              "      <th>1</th>\n",
              "      <td>北区</td>\n",
              "      <td>田端新町</td>\n",
              "      <td>田端新町２丁目</td>\n",
              "      <td>4.997711</td>\n",
              "      <td>0.991115</td>\n",
              "      <td>0.135295</td>\n",
              "      <td>0.581013</td>\n",
              "      <td>13</td>\n",
              "    </tr>\n",
              "    <tr>\n",
              "      <th>2</th>\n",
              "      <td>北区</td>\n",
              "      <td>上十条</td>\n",
              "      <td>上十条３丁目</td>\n",
              "      <td>4.995423</td>\n",
              "      <td>0.987172</td>\n",
              "      <td>0.081841</td>\n",
              "      <td>0.572226</td>\n",
              "      <td>12</td>\n",
              "    </tr>\n",
              "    <tr>\n",
              "      <th>3</th>\n",
              "      <td>中野区</td>\n",
              "      <td>東中野</td>\n",
              "      <td>東中野１丁目</td>\n",
              "      <td>4.993134</td>\n",
              "      <td>0.965534</td>\n",
              "      <td>0.104376</td>\n",
              "      <td>0.566147</td>\n",
              "      <td>11</td>\n",
              "    </tr>\n",
              "    <tr>\n",
              "      <th>4</th>\n",
              "      <td>北区</td>\n",
              "      <td>田端</td>\n",
              "      <td>田端２丁目</td>\n",
              "      <td>4.990846</td>\n",
              "      <td>0.964483</td>\n",
              "      <td>0.127197</td>\n",
              "      <td>0.434601</td>\n",
              "      <td>11</td>\n",
              "    </tr>\n",
              "    <tr>\n",
              "      <th>5</th>\n",
              "      <td>荒川区</td>\n",
              "      <td>西日暮里</td>\n",
              "      <td>西日暮里６丁目</td>\n",
              "      <td>4.988557</td>\n",
              "      <td>0.961340</td>\n",
              "      <td>0.140458</td>\n",
              "      <td>0.510588</td>\n",
              "      <td>11</td>\n",
              "    </tr>\n",
              "    <tr>\n",
              "      <th>6</th>\n",
              "      <td>文京区</td>\n",
              "      <td>本駒込</td>\n",
              "      <td>本駒込４丁目</td>\n",
              "      <td>4.986268</td>\n",
              "      <td>0.960356</td>\n",
              "      <td>0.144613</td>\n",
              "      <td>0.416272</td>\n",
              "      <td>11</td>\n",
              "    </tr>\n",
              "    <tr>\n",
              "      <th>7</th>\n",
              "      <td>北区</td>\n",
              "      <td>東十条</td>\n",
              "      <td>東十条３丁目</td>\n",
              "      <td>4.983980</td>\n",
              "      <td>0.951047</td>\n",
              "      <td>0.025586</td>\n",
              "      <td>0.577180</td>\n",
              "      <td>10</td>\n",
              "    </tr>\n",
              "    <tr>\n",
              "      <th>8</th>\n",
              "      <td>北区</td>\n",
              "      <td>昭和町</td>\n",
              "      <td>昭和町３丁目</td>\n",
              "      <td>4.981691</td>\n",
              "      <td>0.947688</td>\n",
              "      <td>0.092581</td>\n",
              "      <td>0.584521</td>\n",
              "      <td>10</td>\n",
              "    </tr>\n",
              "    <tr>\n",
              "      <th>9</th>\n",
              "      <td>新宿区</td>\n",
              "      <td>大久保</td>\n",
              "      <td>大久保２丁目</td>\n",
              "      <td>4.977114</td>\n",
              "      <td>0.941707</td>\n",
              "      <td>0.148785</td>\n",
              "      <td>0.250977</td>\n",
              "      <td>10</td>\n",
              "    </tr>\n",
              "    <tr>\n",
              "      <th>10</th>\n",
              "      <td>品川区</td>\n",
              "      <td>二葉</td>\n",
              "      <td>二葉１丁目</td>\n",
              "      <td>4.974825</td>\n",
              "      <td>0.941093</td>\n",
              "      <td>0.118638</td>\n",
              "      <td>0.587106</td>\n",
              "      <td>10</td>\n",
              "    </tr>\n",
              "    <tr>\n",
              "      <th>11</th>\n",
              "      <td>豊島区</td>\n",
              "      <td>駒込</td>\n",
              "      <td>駒込２丁目</td>\n",
              "      <td>4.970248</td>\n",
              "      <td>0.939535</td>\n",
              "      <td>0.075217</td>\n",
              "      <td>0.520286</td>\n",
              "      <td>9</td>\n",
              "    </tr>\n",
              "    <tr>\n",
              "      <th>12</th>\n",
              "      <td>北区</td>\n",
              "      <td>中里</td>\n",
              "      <td>中里２丁目</td>\n",
              "      <td>4.967960</td>\n",
              "      <td>0.937734</td>\n",
              "      <td>0.308067</td>\n",
              "      <td>0.548812</td>\n",
              "      <td>12</td>\n",
              "    </tr>\n",
              "    <tr>\n",
              "      <th>13</th>\n",
              "      <td>荒川区</td>\n",
              "      <td>東尾久</td>\n",
              "      <td>東尾久４丁目</td>\n",
              "      <td>4.965671</td>\n",
              "      <td>0.937670</td>\n",
              "      <td>0.279951</td>\n",
              "      <td>0.699142</td>\n",
              "      <td>13</td>\n",
              "    </tr>\n",
              "    <tr>\n",
              "      <th>14</th>\n",
              "      <td>北区</td>\n",
              "      <td>豊島</td>\n",
              "      <td>豊島１丁目</td>\n",
              "      <td>4.963383</td>\n",
              "      <td>0.935999</td>\n",
              "      <td>0.111354</td>\n",
              "      <td>0.629148</td>\n",
              "      <td>10</td>\n",
              "    </tr>\n",
              "    <tr>\n",
              "      <th>15</th>\n",
              "      <td>新宿区</td>\n",
              "      <td>戸山</td>\n",
              "      <td>戸山２丁目</td>\n",
              "      <td>4.961094</td>\n",
              "      <td>0.934620</td>\n",
              "      <td>0.178686</td>\n",
              "      <td>0.419777</td>\n",
              "      <td>10</td>\n",
              "    </tr>\n",
              "    <tr>\n",
              "      <th>16</th>\n",
              "      <td>北区</td>\n",
              "      <td>西ヶ原</td>\n",
              "      <td>西ヶ原１丁目</td>\n",
              "      <td>4.956517</td>\n",
              "      <td>0.933332</td>\n",
              "      <td>0.231837</td>\n",
              "      <td>0.578441</td>\n",
              "      <td>11</td>\n",
              "    </tr>\n",
              "    <tr>\n",
              "      <th>17</th>\n",
              "      <td>荒川区</td>\n",
              "      <td>東日暮里</td>\n",
              "      <td>東日暮里６丁目</td>\n",
              "      <td>4.954228</td>\n",
              "      <td>0.933006</td>\n",
              "      <td>0.139926</td>\n",
              "      <td>0.714723</td>\n",
              "      <td>11</td>\n",
              "    </tr>\n",
              "    <tr>\n",
              "      <th>18</th>\n",
              "      <td>豊島区</td>\n",
              "      <td>雑司が谷</td>\n",
              "      <td>雑司が谷３丁目</td>\n",
              "      <td>4.951940</td>\n",
              "      <td>0.932970</td>\n",
              "      <td>0.147477</td>\n",
              "      <td>0.703911</td>\n",
              "      <td>11</td>\n",
              "    </tr>\n",
              "    <tr>\n",
              "      <th>19</th>\n",
              "      <td>品川区</td>\n",
              "      <td>中延</td>\n",
              "      <td>中延４丁目</td>\n",
              "      <td>4.949651</td>\n",
              "      <td>0.929925</td>\n",
              "      <td>0.120949</td>\n",
              "      <td>0.652570</td>\n",
              "      <td>10</td>\n",
              "    </tr>\n",
              "  </tbody>\n",
              "</table>\n",
              "</div>\n",
              "      <button class=\"colab-df-convert\" onclick=\"convertToInteractive('df-ee00f005-2a4c-489b-839f-3bf4cc05f169')\"\n",
              "              title=\"Convert this dataframe to an interactive table.\"\n",
              "              style=\"display:none;\">\n",
              "        \n",
              "  <svg xmlns=\"http://www.w3.org/2000/svg\" height=\"24px\"viewBox=\"0 0 24 24\"\n",
              "       width=\"24px\">\n",
              "    <path d=\"M0 0h24v24H0V0z\" fill=\"none\"/>\n",
              "    <path d=\"M18.56 5.44l.94 2.06.94-2.06 2.06-.94-2.06-.94-.94-2.06-.94 2.06-2.06.94zm-11 1L8.5 8.5l.94-2.06 2.06-.94-2.06-.94L8.5 2.5l-.94 2.06-2.06.94zm10 10l.94 2.06.94-2.06 2.06-.94-2.06-.94-.94-2.06-.94 2.06-2.06.94z\"/><path d=\"M17.41 7.96l-1.37-1.37c-.4-.4-.92-.59-1.43-.59-.52 0-1.04.2-1.43.59L10.3 9.45l-7.72 7.72c-.78.78-.78 2.05 0 2.83L4 21.41c.39.39.9.59 1.41.59.51 0 1.02-.2 1.41-.59l7.78-7.78 2.81-2.81c.8-.78.8-2.07 0-2.86zM5.41 20L4 18.59l7.72-7.72 1.47 1.35L5.41 20z\"/>\n",
              "  </svg>\n",
              "      </button>\n",
              "      \n",
              "  <style>\n",
              "    .colab-df-container {\n",
              "      display:flex;\n",
              "      flex-wrap:wrap;\n",
              "      gap: 12px;\n",
              "    }\n",
              "\n",
              "    .colab-df-convert {\n",
              "      background-color: #E8F0FE;\n",
              "      border: none;\n",
              "      border-radius: 50%;\n",
              "      cursor: pointer;\n",
              "      display: none;\n",
              "      fill: #1967D2;\n",
              "      height: 32px;\n",
              "      padding: 0 0 0 0;\n",
              "      width: 32px;\n",
              "    }\n",
              "\n",
              "    .colab-df-convert:hover {\n",
              "      background-color: #E2EBFA;\n",
              "      box-shadow: 0px 1px 2px rgba(60, 64, 67, 0.3), 0px 1px 3px 1px rgba(60, 64, 67, 0.15);\n",
              "      fill: #174EA6;\n",
              "    }\n",
              "\n",
              "    [theme=dark] .colab-df-convert {\n",
              "      background-color: #3B4455;\n",
              "      fill: #D2E3FC;\n",
              "    }\n",
              "\n",
              "    [theme=dark] .colab-df-convert:hover {\n",
              "      background-color: #434B5C;\n",
              "      box-shadow: 0px 1px 3px 1px rgba(0, 0, 0, 0.15);\n",
              "      filter: drop-shadow(0px 1px 2px rgba(0, 0, 0, 0.3));\n",
              "      fill: #FFFFFF;\n",
              "    }\n",
              "  </style>\n",
              "\n",
              "      <script>\n",
              "        const buttonEl =\n",
              "          document.querySelector('#df-ee00f005-2a4c-489b-839f-3bf4cc05f169 button.colab-df-convert');\n",
              "        buttonEl.style.display =\n",
              "          google.colab.kernel.accessAllowed ? 'block' : 'none';\n",
              "\n",
              "        async function convertToInteractive(key) {\n",
              "          const element = document.querySelector('#df-ee00f005-2a4c-489b-839f-3bf4cc05f169');\n",
              "          const dataTable =\n",
              "            await google.colab.kernel.invokeFunction('convertToInteractive',\n",
              "                                                     [key], {});\n",
              "          if (!dataTable) return;\n",
              "\n",
              "          const docLinkHtml = 'Like what you see? Visit the ' +\n",
              "            '<a target=\"_blank\" href=https://colab.research.google.com/notebooks/data_table.ipynb>data table notebook</a>'\n",
              "            + ' to learn more about interactive tables.';\n",
              "          element.innerHTML = '';\n",
              "          dataTable['output_type'] = 'display_data';\n",
              "          await google.colab.output.renderOutput(dataTable, element);\n",
              "          const docLink = document.createElement('div');\n",
              "          docLink.innerHTML = docLinkHtml;\n",
              "          element.appendChild(docLink);\n",
              "        }\n",
              "      </script>\n",
              "    </div>\n",
              "  </div>\n",
              "  "
            ]
          },
          "metadata": {},
          "execution_count": 35
        }
      ]
    },
    {
      "cell_type": "code",
      "source": [
        "df_library_level.tail(20)"
      ],
      "metadata": {
        "colab": {
          "base_uri": "https://localhost:8080/",
          "height": 677
        },
        "id": "qAA-c_8MaoIQ",
        "outputId": "14c4d86e-479d-416e-d04b-df6b79f56f23"
      },
      "execution_count": 36,
      "outputs": [
        {
          "output_type": "execute_result",
          "data": {
            "text/plain": [
              "    市区町村名    町名      町丁目    図書館スコア   _図書館スコア  図書館(最近傍距離)  図書館(平均距離)  図書館(数)\n",
              "675   江東区    潮見    潮見２丁目  0.599611  0.425953    1.042739   1.650518       3\n",
              "676  世田谷区    野毛    野毛１丁目  0.542396  0.416903    0.810042   1.828520       1\n",
              "677  世田谷区   宇奈根   宇奈根１丁目  0.537819  0.415636    0.747611   1.927532       1\n",
              "678  江戸川区   北篠崎   北篠崎２丁目  0.505779  0.408385    1.313447   1.472211       4\n",
              "679   墨田区   吾妻橋   吾妻橋１丁目  0.480604  0.403914    1.271064   1.561686       4\n",
              "680   練馬区   三原台   三原台２丁目  0.460007  0.401364    1.079937   1.638889       2\n",
              "681   墨田区    太平    太平１丁目  0.455430  0.401217    1.050761   1.682418       2\n",
              "682   板橋区   新河岸   新河岸１丁目  0.427967  0.396014    1.125800   1.604871       2\n",
              "683   練馬区    谷原    谷原６丁目  0.411946  0.393546    1.076836   1.691609       2\n",
              "684   墨田区   東駒形   東駒形３丁目  0.377618  0.387220    1.241179   1.599386       3\n",
              "685   台東区    三筋    三筋２丁目  0.347866  0.374313    1.342576   1.530821       3\n",
              "686   台東区    駒形    駒形１丁目  0.331846  0.369102    1.214606   1.641027       2\n",
              "687  世田谷区   喜多見   喜多見６丁目  0.327269  0.366066    1.263459   1.588373       2\n",
              "688  世田谷区    玉堤    玉堤２丁目  0.318114  0.362343    0.957175   1.949899       1\n",
              "689   墨田区    横川    横川５丁目  0.295228  0.355683    1.416362   1.646733       4\n",
              "690   大田区  羽田空港  羽田空港１丁目  0.267765  0.350439    1.344716   1.674860       3\n",
              "691   大田区    東海    東海１丁目  0.185376  0.297248    1.566622   1.678565       3\n",
              "692   江東区    有明    有明１丁目  0.171644  0.288083    1.430053   1.825707       2\n",
              "693   江東区   夢の島   夢の島１丁目  0.100698  0.168865    1.771513   2.061767       2\n",
              "694   大田区   京浜島   京浜島１丁目  0.089255  0.132608    1.859669   2.156478       2"
            ],
            "text/html": [
              "\n",
              "  <div id=\"df-00a7fe79-3c17-4e12-aaff-064b38ed52dd\">\n",
              "    <div class=\"colab-df-container\">\n",
              "      <div>\n",
              "<style scoped>\n",
              "    .dataframe tbody tr th:only-of-type {\n",
              "        vertical-align: middle;\n",
              "    }\n",
              "\n",
              "    .dataframe tbody tr th {\n",
              "        vertical-align: top;\n",
              "    }\n",
              "\n",
              "    .dataframe thead th {\n",
              "        text-align: right;\n",
              "    }\n",
              "</style>\n",
              "<table border=\"1\" class=\"dataframe\">\n",
              "  <thead>\n",
              "    <tr style=\"text-align: right;\">\n",
              "      <th></th>\n",
              "      <th>市区町村名</th>\n",
              "      <th>町名</th>\n",
              "      <th>町丁目</th>\n",
              "      <th>図書館スコア</th>\n",
              "      <th>_図書館スコア</th>\n",
              "      <th>図書館(最近傍距離)</th>\n",
              "      <th>図書館(平均距離)</th>\n",
              "      <th>図書館(数)</th>\n",
              "    </tr>\n",
              "  </thead>\n",
              "  <tbody>\n",
              "    <tr>\n",
              "      <th>675</th>\n",
              "      <td>江東区</td>\n",
              "      <td>潮見</td>\n",
              "      <td>潮見２丁目</td>\n",
              "      <td>0.599611</td>\n",
              "      <td>0.425953</td>\n",
              "      <td>1.042739</td>\n",
              "      <td>1.650518</td>\n",
              "      <td>3</td>\n",
              "    </tr>\n",
              "    <tr>\n",
              "      <th>676</th>\n",
              "      <td>世田谷区</td>\n",
              "      <td>野毛</td>\n",
              "      <td>野毛１丁目</td>\n",
              "      <td>0.542396</td>\n",
              "      <td>0.416903</td>\n",
              "      <td>0.810042</td>\n",
              "      <td>1.828520</td>\n",
              "      <td>1</td>\n",
              "    </tr>\n",
              "    <tr>\n",
              "      <th>677</th>\n",
              "      <td>世田谷区</td>\n",
              "      <td>宇奈根</td>\n",
              "      <td>宇奈根１丁目</td>\n",
              "      <td>0.537819</td>\n",
              "      <td>0.415636</td>\n",
              "      <td>0.747611</td>\n",
              "      <td>1.927532</td>\n",
              "      <td>1</td>\n",
              "    </tr>\n",
              "    <tr>\n",
              "      <th>678</th>\n",
              "      <td>江戸川区</td>\n",
              "      <td>北篠崎</td>\n",
              "      <td>北篠崎２丁目</td>\n",
              "      <td>0.505779</td>\n",
              "      <td>0.408385</td>\n",
              "      <td>1.313447</td>\n",
              "      <td>1.472211</td>\n",
              "      <td>4</td>\n",
              "    </tr>\n",
              "    <tr>\n",
              "      <th>679</th>\n",
              "      <td>墨田区</td>\n",
              "      <td>吾妻橋</td>\n",
              "      <td>吾妻橋１丁目</td>\n",
              "      <td>0.480604</td>\n",
              "      <td>0.403914</td>\n",
              "      <td>1.271064</td>\n",
              "      <td>1.561686</td>\n",
              "      <td>4</td>\n",
              "    </tr>\n",
              "    <tr>\n",
              "      <th>680</th>\n",
              "      <td>練馬区</td>\n",
              "      <td>三原台</td>\n",
              "      <td>三原台２丁目</td>\n",
              "      <td>0.460007</td>\n",
              "      <td>0.401364</td>\n",
              "      <td>1.079937</td>\n",
              "      <td>1.638889</td>\n",
              "      <td>2</td>\n",
              "    </tr>\n",
              "    <tr>\n",
              "      <th>681</th>\n",
              "      <td>墨田区</td>\n",
              "      <td>太平</td>\n",
              "      <td>太平１丁目</td>\n",
              "      <td>0.455430</td>\n",
              "      <td>0.401217</td>\n",
              "      <td>1.050761</td>\n",
              "      <td>1.682418</td>\n",
              "      <td>2</td>\n",
              "    </tr>\n",
              "    <tr>\n",
              "      <th>682</th>\n",
              "      <td>板橋区</td>\n",
              "      <td>新河岸</td>\n",
              "      <td>新河岸１丁目</td>\n",
              "      <td>0.427967</td>\n",
              "      <td>0.396014</td>\n",
              "      <td>1.125800</td>\n",
              "      <td>1.604871</td>\n",
              "      <td>2</td>\n",
              "    </tr>\n",
              "    <tr>\n",
              "      <th>683</th>\n",
              "      <td>練馬区</td>\n",
              "      <td>谷原</td>\n",
              "      <td>谷原６丁目</td>\n",
              "      <td>0.411946</td>\n",
              "      <td>0.393546</td>\n",
              "      <td>1.076836</td>\n",
              "      <td>1.691609</td>\n",
              "      <td>2</td>\n",
              "    </tr>\n",
              "    <tr>\n",
              "      <th>684</th>\n",
              "      <td>墨田区</td>\n",
              "      <td>東駒形</td>\n",
              "      <td>東駒形３丁目</td>\n",
              "      <td>0.377618</td>\n",
              "      <td>0.387220</td>\n",
              "      <td>1.241179</td>\n",
              "      <td>1.599386</td>\n",
              "      <td>3</td>\n",
              "    </tr>\n",
              "    <tr>\n",
              "      <th>685</th>\n",
              "      <td>台東区</td>\n",
              "      <td>三筋</td>\n",
              "      <td>三筋２丁目</td>\n",
              "      <td>0.347866</td>\n",
              "      <td>0.374313</td>\n",
              "      <td>1.342576</td>\n",
              "      <td>1.530821</td>\n",
              "      <td>3</td>\n",
              "    </tr>\n",
              "    <tr>\n",
              "      <th>686</th>\n",
              "      <td>台東区</td>\n",
              "      <td>駒形</td>\n",
              "      <td>駒形１丁目</td>\n",
              "      <td>0.331846</td>\n",
              "      <td>0.369102</td>\n",
              "      <td>1.214606</td>\n",
              "      <td>1.641027</td>\n",
              "      <td>2</td>\n",
              "    </tr>\n",
              "    <tr>\n",
              "      <th>687</th>\n",
              "      <td>世田谷区</td>\n",
              "      <td>喜多見</td>\n",
              "      <td>喜多見６丁目</td>\n",
              "      <td>0.327269</td>\n",
              "      <td>0.366066</td>\n",
              "      <td>1.263459</td>\n",
              "      <td>1.588373</td>\n",
              "      <td>2</td>\n",
              "    </tr>\n",
              "    <tr>\n",
              "      <th>688</th>\n",
              "      <td>世田谷区</td>\n",
              "      <td>玉堤</td>\n",
              "      <td>玉堤２丁目</td>\n",
              "      <td>0.318114</td>\n",
              "      <td>0.362343</td>\n",
              "      <td>0.957175</td>\n",
              "      <td>1.949899</td>\n",
              "      <td>1</td>\n",
              "    </tr>\n",
              "    <tr>\n",
              "      <th>689</th>\n",
              "      <td>墨田区</td>\n",
              "      <td>横川</td>\n",
              "      <td>横川５丁目</td>\n",
              "      <td>0.295228</td>\n",
              "      <td>0.355683</td>\n",
              "      <td>1.416362</td>\n",
              "      <td>1.646733</td>\n",
              "      <td>4</td>\n",
              "    </tr>\n",
              "    <tr>\n",
              "      <th>690</th>\n",
              "      <td>大田区</td>\n",
              "      <td>羽田空港</td>\n",
              "      <td>羽田空港１丁目</td>\n",
              "      <td>0.267765</td>\n",
              "      <td>0.350439</td>\n",
              "      <td>1.344716</td>\n",
              "      <td>1.674860</td>\n",
              "      <td>3</td>\n",
              "    </tr>\n",
              "    <tr>\n",
              "      <th>691</th>\n",
              "      <td>大田区</td>\n",
              "      <td>東海</td>\n",
              "      <td>東海１丁目</td>\n",
              "      <td>0.185376</td>\n",
              "      <td>0.297248</td>\n",
              "      <td>1.566622</td>\n",
              "      <td>1.678565</td>\n",
              "      <td>3</td>\n",
              "    </tr>\n",
              "    <tr>\n",
              "      <th>692</th>\n",
              "      <td>江東区</td>\n",
              "      <td>有明</td>\n",
              "      <td>有明１丁目</td>\n",
              "      <td>0.171644</td>\n",
              "      <td>0.288083</td>\n",
              "      <td>1.430053</td>\n",
              "      <td>1.825707</td>\n",
              "      <td>2</td>\n",
              "    </tr>\n",
              "    <tr>\n",
              "      <th>693</th>\n",
              "      <td>江東区</td>\n",
              "      <td>夢の島</td>\n",
              "      <td>夢の島１丁目</td>\n",
              "      <td>0.100698</td>\n",
              "      <td>0.168865</td>\n",
              "      <td>1.771513</td>\n",
              "      <td>2.061767</td>\n",
              "      <td>2</td>\n",
              "    </tr>\n",
              "    <tr>\n",
              "      <th>694</th>\n",
              "      <td>大田区</td>\n",
              "      <td>京浜島</td>\n",
              "      <td>京浜島１丁目</td>\n",
              "      <td>0.089255</td>\n",
              "      <td>0.132608</td>\n",
              "      <td>1.859669</td>\n",
              "      <td>2.156478</td>\n",
              "      <td>2</td>\n",
              "    </tr>\n",
              "  </tbody>\n",
              "</table>\n",
              "</div>\n",
              "      <button class=\"colab-df-convert\" onclick=\"convertToInteractive('df-00a7fe79-3c17-4e12-aaff-064b38ed52dd')\"\n",
              "              title=\"Convert this dataframe to an interactive table.\"\n",
              "              style=\"display:none;\">\n",
              "        \n",
              "  <svg xmlns=\"http://www.w3.org/2000/svg\" height=\"24px\"viewBox=\"0 0 24 24\"\n",
              "       width=\"24px\">\n",
              "    <path d=\"M0 0h24v24H0V0z\" fill=\"none\"/>\n",
              "    <path d=\"M18.56 5.44l.94 2.06.94-2.06 2.06-.94-2.06-.94-.94-2.06-.94 2.06-2.06.94zm-11 1L8.5 8.5l.94-2.06 2.06-.94-2.06-.94L8.5 2.5l-.94 2.06-2.06.94zm10 10l.94 2.06.94-2.06 2.06-.94-2.06-.94-.94-2.06-.94 2.06-2.06.94z\"/><path d=\"M17.41 7.96l-1.37-1.37c-.4-.4-.92-.59-1.43-.59-.52 0-1.04.2-1.43.59L10.3 9.45l-7.72 7.72c-.78.78-.78 2.05 0 2.83L4 21.41c.39.39.9.59 1.41.59.51 0 1.02-.2 1.41-.59l7.78-7.78 2.81-2.81c.8-.78.8-2.07 0-2.86zM5.41 20L4 18.59l7.72-7.72 1.47 1.35L5.41 20z\"/>\n",
              "  </svg>\n",
              "      </button>\n",
              "      \n",
              "  <style>\n",
              "    .colab-df-container {\n",
              "      display:flex;\n",
              "      flex-wrap:wrap;\n",
              "      gap: 12px;\n",
              "    }\n",
              "\n",
              "    .colab-df-convert {\n",
              "      background-color: #E8F0FE;\n",
              "      border: none;\n",
              "      border-radius: 50%;\n",
              "      cursor: pointer;\n",
              "      display: none;\n",
              "      fill: #1967D2;\n",
              "      height: 32px;\n",
              "      padding: 0 0 0 0;\n",
              "      width: 32px;\n",
              "    }\n",
              "\n",
              "    .colab-df-convert:hover {\n",
              "      background-color: #E2EBFA;\n",
              "      box-shadow: 0px 1px 2px rgba(60, 64, 67, 0.3), 0px 1px 3px 1px rgba(60, 64, 67, 0.15);\n",
              "      fill: #174EA6;\n",
              "    }\n",
              "\n",
              "    [theme=dark] .colab-df-convert {\n",
              "      background-color: #3B4455;\n",
              "      fill: #D2E3FC;\n",
              "    }\n",
              "\n",
              "    [theme=dark] .colab-df-convert:hover {\n",
              "      background-color: #434B5C;\n",
              "      box-shadow: 0px 1px 3px 1px rgba(0, 0, 0, 0.15);\n",
              "      filter: drop-shadow(0px 1px 2px rgba(0, 0, 0, 0.3));\n",
              "      fill: #FFFFFF;\n",
              "    }\n",
              "  </style>\n",
              "\n",
              "      <script>\n",
              "        const buttonEl =\n",
              "          document.querySelector('#df-00a7fe79-3c17-4e12-aaff-064b38ed52dd button.colab-df-convert');\n",
              "        buttonEl.style.display =\n",
              "          google.colab.kernel.accessAllowed ? 'block' : 'none';\n",
              "\n",
              "        async function convertToInteractive(key) {\n",
              "          const element = document.querySelector('#df-00a7fe79-3c17-4e12-aaff-064b38ed52dd');\n",
              "          const dataTable =\n",
              "            await google.colab.kernel.invokeFunction('convertToInteractive',\n",
              "                                                     [key], {});\n",
              "          if (!dataTable) return;\n",
              "\n",
              "          const docLinkHtml = 'Like what you see? Visit the ' +\n",
              "            '<a target=\"_blank\" href=https://colab.research.google.com/notebooks/data_table.ipynb>data table notebook</a>'\n",
              "            + ' to learn more about interactive tables.';\n",
              "          element.innerHTML = '';\n",
              "          dataTable['output_type'] = 'display_data';\n",
              "          await google.colab.output.renderOutput(dataTable, element);\n",
              "          const docLink = document.createElement('div');\n",
              "          docLink.innerHTML = docLinkHtml;\n",
              "          element.appendChild(docLink);\n",
              "        }\n",
              "      </script>\n",
              "    </div>\n",
              "  </div>\n",
              "  "
            ]
          },
          "metadata": {},
          "execution_count": 36
        }
      ]
    },
    {
      "cell_type": "code",
      "source": [],
      "metadata": {
        "id": "Lk6O8Y3Dd5di"
      },
      "execution_count": 36,
      "outputs": []
    }
  ]
}