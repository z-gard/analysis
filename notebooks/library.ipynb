{
  "nbformat": 4,
  "nbformat_minor": 0,
  "metadata": {
    "colab": {
      "provenance": [],
      "authorship_tag": "ABX9TyNKefJLQeLydhQXDHvEExlU",
      "include_colab_link": true
    },
    "kernelspec": {
      "name": "python3",
      "display_name": "Python 3"
    },
    "language_info": {
      "name": "python"
    }
  },
  "cells": [
    {
      "cell_type": "markdown",
      "metadata": {
        "id": "view-in-github",
        "colab_type": "text"
      },
      "source": [
        "<a href=\"https://colab.research.google.com/github/z-gard/analysis/blob/main/notebooks/library.ipynb\" target=\"_parent\"><img src=\"https://colab.research.google.com/assets/colab-badge.svg\" alt=\"Open In Colab\"/></a>"
      ]
    },
    {
      "cell_type": "markdown",
      "source": [
        "# 図書館"
      ],
      "metadata": {
        "id": "zBy6ZmZPOhfq"
      }
    },
    {
      "cell_type": "code",
      "execution_count": 1,
      "metadata": {
        "id": "cDOcy7pFOdsC"
      },
      "outputs": [],
      "source": [
        "!pip install -q geocoder\n",
        "!pip install -q --upgrade xlrd\n",
        "!pip install -q japanize-matplotlib"
      ]
    },
    {
      "cell_type": "code",
      "source": [
        "from google.colab import drive\n",
        "drive.mount('/content/drive')"
      ],
      "metadata": {
        "colab": {
          "base_uri": "https://localhost:8080/"
        },
        "id": "rYTHrEAdOlBC",
        "outputId": "2a64b4fa-0625-47e0-eeda-6c6574d5b272"
      },
      "execution_count": 2,
      "outputs": [
        {
          "output_type": "stream",
          "name": "stdout",
          "text": [
            "Drive already mounted at /content/drive; to attempt to forcibly remount, call drive.mount(\"/content/drive\", force_remount=True).\n"
          ]
        }
      ]
    },
    {
      "cell_type": "code",
      "source": [
        "DIR_NAME = '/content/drive/MyDrive/z-gard/data'"
      ],
      "metadata": {
        "id": "mKIhoL-BOtAE"
      },
      "execution_count": 3,
      "outputs": []
    },
    {
      "cell_type": "code",
      "source": [
        "import os\n",
        "import requests\n",
        "import json\n",
        "import pandas as pd\n",
        "from urllib.parse import urlparse\n",
        "import geocoder\n",
        "import math\n",
        "import io\n",
        "import matplotlib.pyplot as plt\n",
        "import japanize_matplotlib\n",
        "import seaborn as sns\n",
        "\n",
        "pd.set_option('display.max_columns', 50)\n",
        "pd.set_option('display.max_rows', 100)"
      ],
      "metadata": {
        "id": "2xgbJOobOvsP"
      },
      "execution_count": 4,
      "outputs": []
    },
    {
      "cell_type": "code",
      "source": [
        "def get_data_csv_url(url, encoding='utf-8', excel=False):\n",
        "    res = requests.get(url)\n",
        "    if res.status_code == 200:\n",
        "        if not excel:\n",
        "            return pd.read_csv(io.BytesIO(res.content), encoding=encoding)\n",
        "        else:\n",
        "            return pd.read_excel(io.BytesIO(res.content))\n",
        "    else:\n",
        "        raise Exception(f'status_code: {res.status_code} ({url})')\n",
        "\n",
        "def number_to_kanji(str):\n",
        "    return str.translate(str.maketrans({\n",
        "        '１':'一', '２':'二', '３':'三', '４':'四', '５':'五', '６':'六', '７':'七', '８':'八', '９':'九',\n",
        "        '1':'一', '2':'二', '3':'三', '4':'四', '5':'五', '6':'六', '7':'七', '8':'八', '9':'九', '0':'十', \n",
        "    }))\n",
        "\n",
        "# 緯度経度取得\n",
        "def add_lat_lon(df_master):\n",
        "    lats = []\n",
        "    lons = []\n",
        "    for i, row in df_master.iterrows():\n",
        "        chocho = number_to_kanji(row['町丁目'])\n",
        "        ret = geocoder.osm('東京都' + row['市区町村名'] + chocho, timeout=5)\n",
        "        if not ret.ok:\n",
        "            print(i, row['市区町村名'], chocho)\n",
        "        lats.append(ret.lat)\n",
        "        lons.append(ret.lng)\n",
        "    df_copy = df_master.copy()\n",
        "    df_copy['緯度'] = lats\n",
        "    df_copy['経度'] = lons\n",
        "    return df_copy\n",
        "\n",
        "# def add_pref_district(df_data, district, is_master=False):\n",
        "#     df_data['都道府県'] = '東京都'\n",
        "#     df_data['市区町村'] = district\n",
        "#     if is_master:\n",
        "#         df_data['町丁目'] = df_data['町丁目'].apply(number_to_kanji)\n",
        "#         df_data['町名'] = df_data['町丁目'].str.replace('[一二三四五六七八九十]丁目', '', regex=True)\n",
        "\n",
        "# 距離計算\n",
        "def get_distance(lat1, lon1, lat2, lon2):\n",
        "    _lat1 = lat1 * math.pi / 180\n",
        "    _lon1 = lon1 * math.pi / 180\n",
        "    _lat2 = lat2 * math.pi / 180\n",
        "    _lon2 = lon2 * math.pi / 180\n",
        "    _tmp = math.cos(_lat1) * math.cos(_lat2) * math.cos(_lon2 - _lon1) + math.sin(_lat1) * math.sin(_lat2)\n",
        "    _tmp = 1 if _tmp > 1 else -1 if _tmp < -1 else _tmp\n",
        "    return 6371 * math.acos(_tmp)\n",
        "\n",
        "# 最寄り施設までの距離\n",
        "def get_value_of_nearest_facility(df_master, df_facility, category, method='min', param=3):\n",
        "    _df_cat = df_facility[df_facility['施設分類'] == category].copy()\n",
        "    cat_values = []\n",
        "    for i, row in df_master.iterrows():\n",
        "        dist = _df_cat.apply(lambda x: get_distance(x['緯度'], x['経度'], row['緯度'], row['経度']), axis=1)\n",
        "        val = None\n",
        "        if method == 'min':\n",
        "            # 最小の距離\n",
        "            val = dist.min()\n",
        "        elif method == 'count':\n",
        "            # {param}km以内の施設の数をカウント\n",
        "            val = len(dist[dist <= param])\n",
        "        elif method == 'mean':\n",
        "            # 近い{param}件の距離の平均\n",
        "            val = dist.sort_values()[:param].mean()\n",
        "        cat_values.append(val)\n",
        "    return cat_values"
      ],
      "metadata": {
        "id": "Q9yoYFmNRk8e"
      },
      "execution_count": 5,
      "outputs": []
    },
    {
      "cell_type": "code",
      "source": [
        "extract_columns = ['施設分類', '施設名', '市区町村名', '所在地', '緯度', '経度']"
      ],
      "metadata": {
        "id": "IrPBUzhvReBs"
      },
      "execution_count": 6,
      "outputs": []
    },
    {
      "cell_type": "markdown",
      "source": [
        "## 0. 東京都\n",
        "- [公共施設一覧](https://catalog.data.metro.tokyo.lg.jp/dataset/t000003d0000000033/resource/27d1ce20-9023-4690-944c-5da47ed1427e)\n",
        "- [図書館](https://catalog.data.metro.tokyo.lg.jp/dataset/t000021d2000000003/resource/7108f0a3-0257-424a-9722-e84999a01392)"
      ],
      "metadata": {
        "id": "pnVBpzwqCEU7"
      }
    },
    {
      "cell_type": "markdown",
      "source": [
        "## 1. 千代田区"
      ],
      "metadata": {
        "id": "ZACAbXFi-ltS"
      }
    },
    {
      "cell_type": "markdown",
      "source": [
        "## 2. 中央区\n",
        "- [区立図書館](https://catalog.data.metro.tokyo.lg.jp/dataset/t131024d0000000009/resource/000f73eb-36ec-46a3-af45-345602281d1d)"
      ],
      "metadata": {
        "id": "LhpZm-tc-nDc"
      }
    },
    {
      "cell_type": "markdown",
      "source": [
        "## 3. 港区\n",
        "- [港区の公共施設情報](https://catalog.data.metro.tokyo.lg.jp/dataset/t131032d0000000014)"
      ],
      "metadata": {
        "id": "N29UjnUPRhG7"
      }
    },
    {
      "cell_type": "code",
      "source": [
        "minato_library_url = 'https://opendata.city.minato.tokyo.jp/dataset/52105970-c407-423c-8827-2cfc229bf864/resource/dc824430-1645-45f6-8dc1-229b2d2c97a2/download/minatokushisetsujoho_tosyokan.csv'\n",
        "df_minato_library = get_data_csv_url(minato_library_url)\n",
        "df_minato_library['市区町村名'] = '港区'\n",
        "df_minato_library = df_minato_library[df_minato_library['第2分類'] == '図書館'].reset_index(drop=False)\n",
        "df_minato_library = df_minato_library.rename(columns={'第2分類':'施設分類', 'ページタイトル':'施設名'})[extract_columns]\n",
        "print(df_minato_library.shape)"
      ],
      "metadata": {
        "colab": {
          "base_uri": "https://localhost:8080/"
        },
        "id": "bHdlGR4rRd_V",
        "outputId": "825a8925-3c15-415f-b21a-70d842267fb8"
      },
      "execution_count": 7,
      "outputs": [
        {
          "output_type": "stream",
          "name": "stdout",
          "text": [
            "(7, 6)\n"
          ]
        }
      ]
    },
    {
      "cell_type": "markdown",
      "source": [
        "## 4. 新宿区"
      ],
      "metadata": {
        "id": "Pgbygpci_8xk"
      }
    },
    {
      "cell_type": "markdown",
      "source": [
        "## 5. 文京区\n",
        "- [区立図書館](https://catalog.data.metro.tokyo.lg.jp/dataset/t131059d0313060001/resource/7479e54e-2afb-4598-83dc-5a258c9f9c68)"
      ],
      "metadata": {
        "id": "zkWO0O40AAXY"
      }
    },
    {
      "cell_type": "markdown",
      "source": [
        "## 6. 台東区\n",
        "- [図書館](https://catalog.data.metro.tokyo.lg.jp/dataset/t131067d0000000090/resource/642d35ad-56fa-4d9f-b364-45aa615da5a6)"
      ],
      "metadata": {
        "id": "S_Q90dBVcPtQ"
      }
    },
    {
      "cell_type": "code",
      "source": [
        "taito_library_url = 'https://www.city.taito.lg.jp/kusei/online/opendata/seikatu/shisethutizujouhou.files/sisetu_12.csv'\n",
        "df_taito_library = get_data_csv_url(taito_library_url, 'shift-jis')\n",
        "df_taito_library['市区町村名'] = '台東区'\n",
        "df_taito_library['施設分類'] = '図書館'\n",
        "df_taito_library = df_taito_library.rename(columns={'名称':'施設名', 'X座標':'経度', 'Y座標':'緯度'})[extract_columns]\n",
        "print(df_taito_library.shape)"
      ],
      "metadata": {
        "colab": {
          "base_uri": "https://localhost:8080/"
        },
        "id": "gmjGpKi0cR10",
        "outputId": "ba4a9951-222f-4b58-af57-10582541bdaf"
      },
      "execution_count": 8,
      "outputs": [
        {
          "output_type": "stream",
          "name": "stdout",
          "text": [
            "(8, 6)\n"
          ]
        }
      ]
    },
    {
      "cell_type": "markdown",
      "source": [
        "## 7. 墨田区"
      ],
      "metadata": {
        "id": "A79C8s69R4YW"
      }
    },
    {
      "cell_type": "code",
      "source": [
        "sumida_library_url = 'https://www.city.sumida.lg.jp/kuseijoho/sumida_info/opendata/opendata_ichiran/shisetsu_data.files/library.csv'\n",
        "df_sumida_library = get_data_csv_url(sumida_library_url, 'shift-jis')\n",
        "df_sumida_library['市区町村名'] = '墨田区'\n",
        "df_sumida_library['施設分類'] = '図書館'\n",
        "df_sumida_library = df_sumida_library.rename(columns={'施設名称':'施設名'})[extract_columns]\n",
        "print(df_sumida_library.shape)"
      ],
      "metadata": {
        "colab": {
          "base_uri": "https://localhost:8080/"
        },
        "id": "hZJc7luQRd5I",
        "outputId": "40aacdb8-8dd0-413d-fe69-ad0eb08f7a27"
      },
      "execution_count": 9,
      "outputs": [
        {
          "output_type": "stream",
          "name": "stdout",
          "text": [
            "(7, 6)\n"
          ]
        }
      ]
    },
    {
      "cell_type": "markdown",
      "source": [
        "## 8. 江東区"
      ],
      "metadata": {
        "id": "NqS25lpRAE69"
      }
    },
    {
      "cell_type": "markdown",
      "source": [
        "## 9. 品川区"
      ],
      "metadata": {
        "id": "1DtqDI8wAIZU"
      }
    },
    {
      "cell_type": "markdown",
      "source": [
        "## 10. 目黒区"
      ],
      "metadata": {
        "id": "O-kazdaVAO96"
      }
    },
    {
      "cell_type": "markdown",
      "source": [
        "## 11. 大田区\n",
        "- [図書館一覧](https://catalog.data.metro.tokyo.lg.jp/dataset/t131113d0000000021/resource/b73e2be9-5f66-4539-9449-e2b2e3d06f31)"
      ],
      "metadata": {
        "id": "97VG5rAmAOx1"
      }
    },
    {
      "cell_type": "markdown",
      "source": [
        "## 12. 世田谷区"
      ],
      "metadata": {
        "id": "ELftpGACAOcD"
      }
    },
    {
      "cell_type": "markdown",
      "source": [
        "## 13. 渋谷区"
      ],
      "metadata": {
        "id": "QM9PxjelAODr"
      }
    },
    {
      "cell_type": "markdown",
      "source": [
        "## 14. 中野区"
      ],
      "metadata": {
        "id": "KqZ5GNBJAN3u"
      }
    },
    {
      "cell_type": "markdown",
      "source": [
        "## 15. 杉並区"
      ],
      "metadata": {
        "id": "S03BIPExANsQ"
      }
    },
    {
      "cell_type": "markdown",
      "source": [
        "## 16. 豊島区"
      ],
      "metadata": {
        "id": "4l-1hChUAid_"
      }
    },
    {
      "cell_type": "markdown",
      "source": [
        "## 17. 北区"
      ],
      "metadata": {
        "id": "bFFDif4YAlLs"
      }
    },
    {
      "cell_type": "markdown",
      "source": [
        "## 18. 荒川区"
      ],
      "metadata": {
        "id": "2cDg9WrJAn5H"
      }
    },
    {
      "cell_type": "markdown",
      "source": [
        "## 19. 板橋区\n",
        "- [板橋区の図書館](https://catalog.data.metro.tokyo.lg.jp/dataset/t131199d0000001381/resource/81734445-ec05-47c7-9fa4-0495af2d030a)"
      ],
      "metadata": {
        "id": "bGVlU9FmArhz"
      }
    },
    {
      "cell_type": "markdown",
      "source": [
        "## 20. 練馬区"
      ],
      "metadata": {
        "id": "IrUQq4O1R_U-"
      }
    },
    {
      "cell_type": "code",
      "source": [
        "nerima_library_url = 'https://www.city.nerima.tokyo.jp/kusei/tokei/opendata/opendatasite/sisetsujyouhou/toshokan.files/toshokan.csv'\n",
        "df_nerima_library = get_data_csv_url(nerima_library_url, 'shift-jis')\n",
        "df_nerima_library['市区町村名'] = '練馬区'\n",
        "df_nerima_library = df_nerima_library[~df_nerima_library['名称'].str.contains('受取窓口')].reset_index(drop=True)\n",
        "df_nerima_library['施設分類'] = '図書館'\n",
        "df_nerima_library = df_nerima_library.rename(columns={'名称':'施設名'})[extract_columns]\n",
        "print(df_nerima_library.shape)"
      ],
      "metadata": {
        "colab": {
          "base_uri": "https://localhost:8080/"
        },
        "id": "1-Tb-41SRdzN",
        "outputId": "ef9a3c26-c1b9-408c-83f4-26d979d789be"
      },
      "execution_count": 10,
      "outputs": [
        {
          "output_type": "stream",
          "name": "stdout",
          "text": [
            "(13, 6)\n"
          ]
        }
      ]
    },
    {
      "cell_type": "markdown",
      "source": [
        "## 21. 足立区"
      ],
      "metadata": {
        "id": "-BYYjCHtAwe0"
      }
    },
    {
      "cell_type": "markdown",
      "source": [
        "## 22. 葛飾区"
      ],
      "metadata": {
        "id": "mjK9ck8WAwTU"
      }
    },
    {
      "cell_type": "markdown",
      "source": [
        "## 23. 江戸川区"
      ],
      "metadata": {
        "id": "7aWcDsmMAwBc"
      }
    },
    {
      "cell_type": "markdown",
      "source": [
        "## 図書館マスタ\n",
        "\n",
        "|No.|区名|データ|\n",
        "|:----|:----|:----|\n",
        "|0|東京都| |\n",
        "|1|千代田区| |\n",
        "|2|中央区| |\n",
        "|3|港区|済み|\n",
        "|4|新宿区| |\n",
        "|5|文京区| |\n",
        "|6|台東区|済み|\n",
        "|7|墨田区|済み|\n",
        "|8|江東区| |\n",
        "|9|品川区| |\n",
        "|10|目黒区| |\n",
        "|11|大田区| |\n",
        "|12|世田谷区| |\n",
        "|13|渋谷区| |\n",
        "|14|中野区| |\n",
        "|15|杉並区| |\n",
        "|16|豊島区| |\n",
        "|17|北区| |\n",
        "|18|荒川区| |\n",
        "|19|板橋区| |\n",
        "|20|練馬区|済み|\n",
        "|21|足立区| |\n",
        "|22|葛飾区| |\n",
        "|23|江戸川区| |"
      ],
      "metadata": {
        "id": "9x6VJEBUSGeh"
      }
    },
    {
      "cell_type": "code",
      "source": [
        "df_library_master = pd.concat([\n",
        "    df_minato_library,\n",
        "    df_sumida_library,\n",
        "    df_nerima_library,\n",
        "    df_taito_library,\n",
        "]).reset_index(drop=True)\n",
        "print(df_library_master.shape)"
      ],
      "metadata": {
        "colab": {
          "base_uri": "https://localhost:8080/"
        },
        "id": "81JjNDiASF-3",
        "outputId": "f383bca1-0ddd-4a10-e3cb-81f2c444bf9d"
      },
      "execution_count": 11,
      "outputs": [
        {
          "output_type": "stream",
          "name": "stdout",
          "text": [
            "(35, 6)\n"
          ]
        }
      ]
    },
    {
      "cell_type": "code",
      "source": [
        "df_library_master.head()"
      ],
      "metadata": {
        "colab": {
          "base_uri": "https://localhost:8080/",
          "height": 206
        },
        "id": "DuOMlpqHSKvK",
        "outputId": "7c690a05-261c-4653-d9d8-6dec1891c3aa"
      },
      "execution_count": 12,
      "outputs": [
        {
          "output_type": "execute_result",
          "data": {
            "text/plain": [
              "  施設分類     施設名 市区町村名                           所在地         緯度          経度\n",
              "0  図書館  みなと図書館    港区                 港区芝公園三丁目2番25号  35.660020  139.750171\n",
              "1  図書館   三田図書館    港区      港区芝五丁目36番4号　札の辻スクエア4階～6階  35.647149  139.745214\n",
              "2  図書館   麻布図書館    港区                港区六本木五丁目12番24号  35.657508  139.735818\n",
              "3  図書館   赤坂図書館    港区       港区南青山一丁目3番3号　青山一丁目タワー3階  35.671596  139.725328\n",
              "4  図書館   高輪図書館    港区  港区高輪一丁目16番25号　高輪コミュニティーぷらざ3階  35.642079  139.734035"
            ],
            "text/html": [
              "\n",
              "  <div id=\"df-b001ca62-eed2-4937-9206-4c044971ecb2\">\n",
              "    <div class=\"colab-df-container\">\n",
              "      <div>\n",
              "<style scoped>\n",
              "    .dataframe tbody tr th:only-of-type {\n",
              "        vertical-align: middle;\n",
              "    }\n",
              "\n",
              "    .dataframe tbody tr th {\n",
              "        vertical-align: top;\n",
              "    }\n",
              "\n",
              "    .dataframe thead th {\n",
              "        text-align: right;\n",
              "    }\n",
              "</style>\n",
              "<table border=\"1\" class=\"dataframe\">\n",
              "  <thead>\n",
              "    <tr style=\"text-align: right;\">\n",
              "      <th></th>\n",
              "      <th>施設分類</th>\n",
              "      <th>施設名</th>\n",
              "      <th>市区町村名</th>\n",
              "      <th>所在地</th>\n",
              "      <th>緯度</th>\n",
              "      <th>経度</th>\n",
              "    </tr>\n",
              "  </thead>\n",
              "  <tbody>\n",
              "    <tr>\n",
              "      <th>0</th>\n",
              "      <td>図書館</td>\n",
              "      <td>みなと図書館</td>\n",
              "      <td>港区</td>\n",
              "      <td>港区芝公園三丁目2番25号</td>\n",
              "      <td>35.660020</td>\n",
              "      <td>139.750171</td>\n",
              "    </tr>\n",
              "    <tr>\n",
              "      <th>1</th>\n",
              "      <td>図書館</td>\n",
              "      <td>三田図書館</td>\n",
              "      <td>港区</td>\n",
              "      <td>港区芝五丁目36番4号　札の辻スクエア4階～6階</td>\n",
              "      <td>35.647149</td>\n",
              "      <td>139.745214</td>\n",
              "    </tr>\n",
              "    <tr>\n",
              "      <th>2</th>\n",
              "      <td>図書館</td>\n",
              "      <td>麻布図書館</td>\n",
              "      <td>港区</td>\n",
              "      <td>港区六本木五丁目12番24号</td>\n",
              "      <td>35.657508</td>\n",
              "      <td>139.735818</td>\n",
              "    </tr>\n",
              "    <tr>\n",
              "      <th>3</th>\n",
              "      <td>図書館</td>\n",
              "      <td>赤坂図書館</td>\n",
              "      <td>港区</td>\n",
              "      <td>港区南青山一丁目3番3号　青山一丁目タワー3階</td>\n",
              "      <td>35.671596</td>\n",
              "      <td>139.725328</td>\n",
              "    </tr>\n",
              "    <tr>\n",
              "      <th>4</th>\n",
              "      <td>図書館</td>\n",
              "      <td>高輪図書館</td>\n",
              "      <td>港区</td>\n",
              "      <td>港区高輪一丁目16番25号　高輪コミュニティーぷらざ3階</td>\n",
              "      <td>35.642079</td>\n",
              "      <td>139.734035</td>\n",
              "    </tr>\n",
              "  </tbody>\n",
              "</table>\n",
              "</div>\n",
              "      <button class=\"colab-df-convert\" onclick=\"convertToInteractive('df-b001ca62-eed2-4937-9206-4c044971ecb2')\"\n",
              "              title=\"Convert this dataframe to an interactive table.\"\n",
              "              style=\"display:none;\">\n",
              "        \n",
              "  <svg xmlns=\"http://www.w3.org/2000/svg\" height=\"24px\"viewBox=\"0 0 24 24\"\n",
              "       width=\"24px\">\n",
              "    <path d=\"M0 0h24v24H0V0z\" fill=\"none\"/>\n",
              "    <path d=\"M18.56 5.44l.94 2.06.94-2.06 2.06-.94-2.06-.94-.94-2.06-.94 2.06-2.06.94zm-11 1L8.5 8.5l.94-2.06 2.06-.94-2.06-.94L8.5 2.5l-.94 2.06-2.06.94zm10 10l.94 2.06.94-2.06 2.06-.94-2.06-.94-.94-2.06-.94 2.06-2.06.94z\"/><path d=\"M17.41 7.96l-1.37-1.37c-.4-.4-.92-.59-1.43-.59-.52 0-1.04.2-1.43.59L10.3 9.45l-7.72 7.72c-.78.78-.78 2.05 0 2.83L4 21.41c.39.39.9.59 1.41.59.51 0 1.02-.2 1.41-.59l7.78-7.78 2.81-2.81c.8-.78.8-2.07 0-2.86zM5.41 20L4 18.59l7.72-7.72 1.47 1.35L5.41 20z\"/>\n",
              "  </svg>\n",
              "      </button>\n",
              "      \n",
              "  <style>\n",
              "    .colab-df-container {\n",
              "      display:flex;\n",
              "      flex-wrap:wrap;\n",
              "      gap: 12px;\n",
              "    }\n",
              "\n",
              "    .colab-df-convert {\n",
              "      background-color: #E8F0FE;\n",
              "      border: none;\n",
              "      border-radius: 50%;\n",
              "      cursor: pointer;\n",
              "      display: none;\n",
              "      fill: #1967D2;\n",
              "      height: 32px;\n",
              "      padding: 0 0 0 0;\n",
              "      width: 32px;\n",
              "    }\n",
              "\n",
              "    .colab-df-convert:hover {\n",
              "      background-color: #E2EBFA;\n",
              "      box-shadow: 0px 1px 2px rgba(60, 64, 67, 0.3), 0px 1px 3px 1px rgba(60, 64, 67, 0.15);\n",
              "      fill: #174EA6;\n",
              "    }\n",
              "\n",
              "    [theme=dark] .colab-df-convert {\n",
              "      background-color: #3B4455;\n",
              "      fill: #D2E3FC;\n",
              "    }\n",
              "\n",
              "    [theme=dark] .colab-df-convert:hover {\n",
              "      background-color: #434B5C;\n",
              "      box-shadow: 0px 1px 3px 1px rgba(0, 0, 0, 0.15);\n",
              "      filter: drop-shadow(0px 1px 2px rgba(0, 0, 0, 0.3));\n",
              "      fill: #FFFFFF;\n",
              "    }\n",
              "  </style>\n",
              "\n",
              "      <script>\n",
              "        const buttonEl =\n",
              "          document.querySelector('#df-b001ca62-eed2-4937-9206-4c044971ecb2 button.colab-df-convert');\n",
              "        buttonEl.style.display =\n",
              "          google.colab.kernel.accessAllowed ? 'block' : 'none';\n",
              "\n",
              "        async function convertToInteractive(key) {\n",
              "          const element = document.querySelector('#df-b001ca62-eed2-4937-9206-4c044971ecb2');\n",
              "          const dataTable =\n",
              "            await google.colab.kernel.invokeFunction('convertToInteractive',\n",
              "                                                     [key], {});\n",
              "          if (!dataTable) return;\n",
              "\n",
              "          const docLinkHtml = 'Like what you see? Visit the ' +\n",
              "            '<a target=\"_blank\" href=https://colab.research.google.com/notebooks/data_table.ipynb>data table notebook</a>'\n",
              "            + ' to learn more about interactive tables.';\n",
              "          element.innerHTML = '';\n",
              "          dataTable['output_type'] = 'display_data';\n",
              "          await google.colab.output.renderOutput(dataTable, element);\n",
              "          const docLink = document.createElement('div');\n",
              "          docLink.innerHTML = docLinkHtml;\n",
              "          element.appendChild(docLink);\n",
              "        }\n",
              "      </script>\n",
              "    </div>\n",
              "  </div>\n",
              "  "
            ]
          },
          "metadata": {},
          "execution_count": 12
        }
      ]
    },
    {
      "cell_type": "code",
      "source": [
        "df_library_master.to_csv(os.path.join(DIR_NAME, 'library_master.csv'), index=False)"
      ],
      "metadata": {
        "id": "6fVMjfovBOVc"
      },
      "execution_count": 13,
      "outputs": []
    },
    {
      "cell_type": "code",
      "source": [
        "# データがある区をリストアップ\n",
        "sr_library_count = df_library_master[df_library_master['施設分類'] == '図書館']['市区町村名'].value_counts()\n",
        "ward_list = list(sr_library_count[sr_library_count > 5].index)\n",
        "ward_list"
      ],
      "metadata": {
        "id": "K0XiyW9nBYIh",
        "outputId": "7c9dbbb8-34f6-45cb-e76b-bf0dfa53ccef",
        "colab": {
          "base_uri": "https://localhost:8080/"
        }
      },
      "execution_count": 14,
      "outputs": [
        {
          "output_type": "execute_result",
          "data": {
            "text/plain": [
              "['練馬区', '台東区', '港区', '墨田区']"
            ]
          },
          "metadata": {},
          "execution_count": 14
        }
      ]
    },
    {
      "cell_type": "markdown",
      "source": [
        "## 人口マスタ"
      ],
      "metadata": {
        "id": "jdT3_lplSwOo"
      }
    },
    {
      "cell_type": "code",
      "source": [
        "population_master = pd.read_csv(os.path.join(DIR_NAME, 'population_master.csv'))\n",
        "print(population_master.shape)"
      ],
      "metadata": {
        "colab": {
          "base_uri": "https://localhost:8080/"
        },
        "id": "mmH8g81kP2Cb",
        "outputId": "933acf52-122e-4edd-e0e8-5a23f1fd2a3c"
      },
      "execution_count": 15,
      "outputs": [
        {
          "output_type": "stream",
          "name": "stdout",
          "text": [
            "(2921, 32)\n"
          ]
        }
      ]
    },
    {
      "cell_type": "code",
      "source": [
        "df_tokyo_district_master = population_master[population_master['市区町村名'].isin(ward_list)][['市区町村名', '町名', '町丁目', '緯度', '経度']].copy()"
      ],
      "metadata": {
        "id": "HqtS7xUrS1i2"
      },
      "execution_count": 16,
      "outputs": []
    },
    {
      "cell_type": "code",
      "source": [
        "%%time\n",
        "# 一番近い施設の距離\n",
        "df_tokyo_district_master['図書館(最近傍距離)'] = get_value_of_nearest_facility(df_tokyo_district_master, df_library_master, '図書館', 'min')\n",
        "# 近い3件の距離の平均\n",
        "df_tokyo_district_master['図書館(平均距離)'] = get_value_of_nearest_facility(df_tokyo_district_master, df_library_master, '図書館', 'mean', 3)\n",
        "# 2km以内の施設の数\n",
        "df_tokyo_district_master['図書館(数)'] = get_value_of_nearest_facility(df_tokyo_district_master, df_library_master, '図書館', 'count', 2)"
      ],
      "metadata": {
        "colab": {
          "base_uri": "https://localhost:8080/"
        },
        "id": "sn7VhpDmQJsi",
        "outputId": "64ac191b-28b2-4bb5-cac0-8bf0c7e8463c"
      },
      "execution_count": 17,
      "outputs": [
        {
          "output_type": "stream",
          "name": "stdout",
          "text": [
            "CPU times: user 4.43 s, sys: 16.8 ms, total: 4.45 s\n",
            "Wall time: 6.13 s\n"
          ]
        }
      ]
    },
    {
      "cell_type": "code",
      "source": [
        "print(df_tokyo_district_master.shape)\n",
        "df_tokyo_district_master.head()"
      ],
      "metadata": {
        "colab": {
          "base_uri": "https://localhost:8080/",
          "height": 224
        },
        "id": "pNI5D7LZTJE3",
        "outputId": "f407d390-a945-495a-88fb-8070377e6a18"
      },
      "execution_count": 18,
      "outputs": [
        {
          "output_type": "stream",
          "name": "stdout",
          "text": [
            "(523, 8)\n"
          ]
        },
        {
          "output_type": "execute_result",
          "data": {
            "text/plain": [
              "    市区町村名 町名   町丁目         緯度          経度  図書館(最近傍距離)  図書館(平均距離)  図書館(数)\n",
              "170    港区  芝  芝１丁目  35.651019  139.754999    0.983306   1.317409       3\n",
              "171    港区  芝  芝２丁目  35.651370  139.751891    0.764431   1.114436       5\n",
              "172    港区  芝  芝３丁目  35.652304  139.747678    0.614947   0.906583       5\n",
              "173    港区  芝  芝４丁目  35.648348  139.751136    0.551503   1.154916       6\n",
              "174    港区  芝  芝５丁目  35.647148  139.746984    0.159900   0.891524       6"
            ],
            "text/html": [
              "\n",
              "  <div id=\"df-c1b52488-68f9-40fa-88e3-dc2750691c81\">\n",
              "    <div class=\"colab-df-container\">\n",
              "      <div>\n",
              "<style scoped>\n",
              "    .dataframe tbody tr th:only-of-type {\n",
              "        vertical-align: middle;\n",
              "    }\n",
              "\n",
              "    .dataframe tbody tr th {\n",
              "        vertical-align: top;\n",
              "    }\n",
              "\n",
              "    .dataframe thead th {\n",
              "        text-align: right;\n",
              "    }\n",
              "</style>\n",
              "<table border=\"1\" class=\"dataframe\">\n",
              "  <thead>\n",
              "    <tr style=\"text-align: right;\">\n",
              "      <th></th>\n",
              "      <th>市区町村名</th>\n",
              "      <th>町名</th>\n",
              "      <th>町丁目</th>\n",
              "      <th>緯度</th>\n",
              "      <th>経度</th>\n",
              "      <th>図書館(最近傍距離)</th>\n",
              "      <th>図書館(平均距離)</th>\n",
              "      <th>図書館(数)</th>\n",
              "    </tr>\n",
              "  </thead>\n",
              "  <tbody>\n",
              "    <tr>\n",
              "      <th>170</th>\n",
              "      <td>港区</td>\n",
              "      <td>芝</td>\n",
              "      <td>芝１丁目</td>\n",
              "      <td>35.651019</td>\n",
              "      <td>139.754999</td>\n",
              "      <td>0.983306</td>\n",
              "      <td>1.317409</td>\n",
              "      <td>3</td>\n",
              "    </tr>\n",
              "    <tr>\n",
              "      <th>171</th>\n",
              "      <td>港区</td>\n",
              "      <td>芝</td>\n",
              "      <td>芝２丁目</td>\n",
              "      <td>35.651370</td>\n",
              "      <td>139.751891</td>\n",
              "      <td>0.764431</td>\n",
              "      <td>1.114436</td>\n",
              "      <td>5</td>\n",
              "    </tr>\n",
              "    <tr>\n",
              "      <th>172</th>\n",
              "      <td>港区</td>\n",
              "      <td>芝</td>\n",
              "      <td>芝３丁目</td>\n",
              "      <td>35.652304</td>\n",
              "      <td>139.747678</td>\n",
              "      <td>0.614947</td>\n",
              "      <td>0.906583</td>\n",
              "      <td>5</td>\n",
              "    </tr>\n",
              "    <tr>\n",
              "      <th>173</th>\n",
              "      <td>港区</td>\n",
              "      <td>芝</td>\n",
              "      <td>芝４丁目</td>\n",
              "      <td>35.648348</td>\n",
              "      <td>139.751136</td>\n",
              "      <td>0.551503</td>\n",
              "      <td>1.154916</td>\n",
              "      <td>6</td>\n",
              "    </tr>\n",
              "    <tr>\n",
              "      <th>174</th>\n",
              "      <td>港区</td>\n",
              "      <td>芝</td>\n",
              "      <td>芝５丁目</td>\n",
              "      <td>35.647148</td>\n",
              "      <td>139.746984</td>\n",
              "      <td>0.159900</td>\n",
              "      <td>0.891524</td>\n",
              "      <td>6</td>\n",
              "    </tr>\n",
              "  </tbody>\n",
              "</table>\n",
              "</div>\n",
              "      <button class=\"colab-df-convert\" onclick=\"convertToInteractive('df-c1b52488-68f9-40fa-88e3-dc2750691c81')\"\n",
              "              title=\"Convert this dataframe to an interactive table.\"\n",
              "              style=\"display:none;\">\n",
              "        \n",
              "  <svg xmlns=\"http://www.w3.org/2000/svg\" height=\"24px\"viewBox=\"0 0 24 24\"\n",
              "       width=\"24px\">\n",
              "    <path d=\"M0 0h24v24H0V0z\" fill=\"none\"/>\n",
              "    <path d=\"M18.56 5.44l.94 2.06.94-2.06 2.06-.94-2.06-.94-.94-2.06-.94 2.06-2.06.94zm-11 1L8.5 8.5l.94-2.06 2.06-.94-2.06-.94L8.5 2.5l-.94 2.06-2.06.94zm10 10l.94 2.06.94-2.06 2.06-.94-2.06-.94-.94-2.06-.94 2.06-2.06.94z\"/><path d=\"M17.41 7.96l-1.37-1.37c-.4-.4-.92-.59-1.43-.59-.52 0-1.04.2-1.43.59L10.3 9.45l-7.72 7.72c-.78.78-.78 2.05 0 2.83L4 21.41c.39.39.9.59 1.41.59.51 0 1.02-.2 1.41-.59l7.78-7.78 2.81-2.81c.8-.78.8-2.07 0-2.86zM5.41 20L4 18.59l7.72-7.72 1.47 1.35L5.41 20z\"/>\n",
              "  </svg>\n",
              "      </button>\n",
              "      \n",
              "  <style>\n",
              "    .colab-df-container {\n",
              "      display:flex;\n",
              "      flex-wrap:wrap;\n",
              "      gap: 12px;\n",
              "    }\n",
              "\n",
              "    .colab-df-convert {\n",
              "      background-color: #E8F0FE;\n",
              "      border: none;\n",
              "      border-radius: 50%;\n",
              "      cursor: pointer;\n",
              "      display: none;\n",
              "      fill: #1967D2;\n",
              "      height: 32px;\n",
              "      padding: 0 0 0 0;\n",
              "      width: 32px;\n",
              "    }\n",
              "\n",
              "    .colab-df-convert:hover {\n",
              "      background-color: #E2EBFA;\n",
              "      box-shadow: 0px 1px 2px rgba(60, 64, 67, 0.3), 0px 1px 3px 1px rgba(60, 64, 67, 0.15);\n",
              "      fill: #174EA6;\n",
              "    }\n",
              "\n",
              "    [theme=dark] .colab-df-convert {\n",
              "      background-color: #3B4455;\n",
              "      fill: #D2E3FC;\n",
              "    }\n",
              "\n",
              "    [theme=dark] .colab-df-convert:hover {\n",
              "      background-color: #434B5C;\n",
              "      box-shadow: 0px 1px 3px 1px rgba(0, 0, 0, 0.15);\n",
              "      filter: drop-shadow(0px 1px 2px rgba(0, 0, 0, 0.3));\n",
              "      fill: #FFFFFF;\n",
              "    }\n",
              "  </style>\n",
              "\n",
              "      <script>\n",
              "        const buttonEl =\n",
              "          document.querySelector('#df-c1b52488-68f9-40fa-88e3-dc2750691c81 button.colab-df-convert');\n",
              "        buttonEl.style.display =\n",
              "          google.colab.kernel.accessAllowed ? 'block' : 'none';\n",
              "\n",
              "        async function convertToInteractive(key) {\n",
              "          const element = document.querySelector('#df-c1b52488-68f9-40fa-88e3-dc2750691c81');\n",
              "          const dataTable =\n",
              "            await google.colab.kernel.invokeFunction('convertToInteractive',\n",
              "                                                     [key], {});\n",
              "          if (!dataTable) return;\n",
              "\n",
              "          const docLinkHtml = 'Like what you see? Visit the ' +\n",
              "            '<a target=\"_blank\" href=https://colab.research.google.com/notebooks/data_table.ipynb>data table notebook</a>'\n",
              "            + ' to learn more about interactive tables.';\n",
              "          element.innerHTML = '';\n",
              "          dataTable['output_type'] = 'display_data';\n",
              "          await google.colab.output.renderOutput(dataTable, element);\n",
              "          const docLink = document.createElement('div');\n",
              "          docLink.innerHTML = docLinkHtml;\n",
              "          element.appendChild(docLink);\n",
              "        }\n",
              "      </script>\n",
              "    </div>\n",
              "  </div>\n",
              "  "
            ]
          },
          "metadata": {},
          "execution_count": 18
        }
      ]
    },
    {
      "cell_type": "code",
      "source": [
        "sns.histplot(df_tokyo_district_master['図書館(数)'], bins=7)\n",
        "plt.show()"
      ],
      "metadata": {
        "colab": {
          "base_uri": "https://localhost:8080/",
          "height": 278
        },
        "id": "Prj7gyyxTK0s",
        "outputId": "dd1395a6-c3ad-4a42-bfa0-4bdef86f8d4e"
      },
      "execution_count": 19,
      "outputs": [
        {
          "output_type": "display_data",
          "data": {
            "text/plain": [
              "<Figure size 432x288 with 1 Axes>"
            ],
            "image/png": "[encoded data removed]"
          },
          "metadata": {
            "needs_background": "light"
          }
        }
      ]
    },
    {
      "cell_type": "code",
      "source": [
        "sns.histplot(df_tokyo_district_master['図書館(最近傍距離)'], bins=20)\n",
        "plt.show()"
      ],
      "metadata": {
        "colab": {
          "base_uri": "https://localhost:8080/",
          "height": 278
        },
        "id": "itr_GUKtTc0W",
        "outputId": "65a7dd7d-e82e-4196-cf71-51d8927e7b02"
      },
      "execution_count": 20,
      "outputs": [
        {
          "output_type": "display_data",
          "data": {
            "text/plain": [
              "<Figure size 432x288 with 1 Axes>"
            ],
            "image/png": "[encoded data removed]"
          },
          "metadata": {
            "needs_background": "light"
          }
        }
      ]
    },
    {
      "cell_type": "code",
      "source": [
        "sns.histplot(df_tokyo_district_master['図書館(平均距離)'], bins=20)\n",
        "plt.show()"
      ],
      "metadata": {
        "colab": {
          "base_uri": "https://localhost:8080/",
          "height": 278
        },
        "id": "Q2u15pO4Tj6v",
        "outputId": "2321bd4a-54d0-44a9-de2a-825f2eb0d963"
      },
      "execution_count": 21,
      "outputs": [
        {
          "output_type": "display_data",
          "data": {
            "text/plain": [
              "<Figure size 432x288 with 1 Axes>"
            ],
            "image/png": "[encoded data removed]"
          },
          "metadata": {
            "needs_background": "light"
          }
        }
      ]
    },
    {
      "cell_type": "code",
      "source": [
        "def normalize_score(sr_data, high=True):\n",
        "    score = (sr_data - sr_data.mean())/sr_data.std()\n",
        "    score = score if high else -score\n",
        "\n",
        "    high = score.quantile(0.99)\n",
        "    low = score.quantile(0.01)\n",
        "    score[score > high] = high\n",
        "    score[score < low] = low\n",
        "    \n",
        "    return (score - low)/(high - low)\n",
        "\n",
        "def rank_score(sr_data):\n",
        "    size = sr_data.notna().sum()\n",
        "    rank = sr_data.rank()\n",
        "    result = rank.copy()\n",
        "    # 0~1: 15%, 1~2: 20%, 2~3: 30%, 3~4: 20%, 4~5: 15%\n",
        "    level_list = [0.15, (0.15+0.2), (0.15+0.2+0.3), (0.15+0.2+0.3+0.2), 1]\n",
        "    \n",
        "    pre_level = 0\n",
        "    for index, level in enumerate([lv*size for lv in level_list]):\n",
        "        result[(rank > pre_level)&(rank <= level)] = (rank - pre_level)/(level - pre_level) + index\n",
        "        pre_level = level\n",
        "\n",
        "    return result"
      ],
      "metadata": {
        "id": "qsPRvvbUTnlK"
      },
      "execution_count": 22,
      "outputs": []
    },
    {
      "cell_type": "code",
      "source": [
        "df_tokyo_district_master['図書館(数)レベル'] = normalize_score(df_tokyo_district_master['図書館(数)'])\n",
        "sns.histplot(df_tokyo_district_master['図書館(数)レベル'], bins=7)\n",
        "plt.show()"
      ],
      "metadata": {
        "colab": {
          "base_uri": "https://localhost:8080/",
          "height": 278
        },
        "id": "_sjdQnHMVX4b",
        "outputId": "0c923ecb-c695-4b83-8f85-baedc6836491"
      },
      "execution_count": 23,
      "outputs": [
        {
          "output_type": "display_data",
          "data": {
            "text/plain": [
              "<Figure size 432x288 with 1 Axes>"
            ],
            "image/png": "[encoded data removed]"
          },
          "metadata": {
            "needs_background": "light"
          }
        }
      ]
    },
    {
      "cell_type": "code",
      "source": [
        "df_tokyo_district_master['図書館(平均距離)レベル'] = normalize_score(df_tokyo_district_master['図書館(平均距離)'], False)\n",
        "sns.histplot(df_tokyo_district_master['図書館(平均距離)レベル'], bins=20)\n",
        "plt.show()"
      ],
      "metadata": {
        "colab": {
          "base_uri": "https://localhost:8080/",
          "height": 278
        },
        "id": "3yn6iVneV45R",
        "outputId": "a2c084e9-739f-44e5-b663-098ff4c260e8"
      },
      "execution_count": 24,
      "outputs": [
        {
          "output_type": "display_data",
          "data": {
            "text/plain": [
              "<Figure size 432x288 with 1 Axes>"
            ],
            "image/png": "[encoded data removed]"
          },
          "metadata": {
            "needs_background": "light"
          }
        }
      ]
    },
    {
      "cell_type": "code",
      "source": [
        "df_tokyo_district_master['図書館(最近傍距離)レベル'] = normalize_score(df_tokyo_district_master['図書館(最近傍距離)'], False)\n",
        "sns.histplot(df_tokyo_district_master['図書館(最近傍距離)レベル'], bins=20)\n",
        "plt.show()"
      ],
      "metadata": {
        "colab": {
          "base_uri": "https://localhost:8080/",
          "height": 278
        },
        "id": "Rr-ML1oEWcCQ",
        "outputId": "38104dde-3cd1-4d71-96c2-897c9f15d94f"
      },
      "execution_count": 25,
      "outputs": [
        {
          "output_type": "display_data",
          "data": {
            "text/plain": [
              "<Figure size 432x288 with 1 Axes>"
            ],
            "image/png": "[encoded data removed]"
          },
          "metadata": {
            "needs_background": "light"
          }
        }
      ]
    },
    {
      "cell_type": "code",
      "source": [
        "score_list = [\n",
        "    df_tokyo_district_master['図書館(最近傍距離)レベル'] * 1.0,\n",
        "    df_tokyo_district_master['図書館(平均距離)レベル'] * 0.7,\n",
        "    df_tokyo_district_master['図書館(数)レベル'] * 0.5,\n",
        "]\n",
        "df_tokyo_district_master['_図書館スコア'] = normalize_score(pd.concat(score_list, axis=1).sum(axis=1, skipna=False))\n",
        "df_tokyo_district_master['図書館スコア'] = rank_score(df_tokyo_district_master['_図書館スコア'])"
      ],
      "metadata": {
        "id": "0Kg1KbFwWrHx"
      },
      "execution_count": 26,
      "outputs": []
    },
    {
      "cell_type": "code",
      "source": [
        "sns.histplot(df_tokyo_district_master['_図書館スコア'], bins=20)\n",
        "plt.show()"
      ],
      "metadata": {
        "colab": {
          "base_uri": "https://localhost:8080/",
          "height": 277
        },
        "id": "zncizh76Yzrp",
        "outputId": "d29ea175-a0c1-4f44-c942-3283318be652"
      },
      "execution_count": 27,
      "outputs": [
        {
          "output_type": "display_data",
          "data": {
            "text/plain": [
              "<Figure size 432x288 with 1 Axes>"
            ],
            "image/png": "[encoded data removed]"
          },
          "metadata": {
            "needs_background": "light"
          }
        }
      ]
    },
    {
      "cell_type": "code",
      "source": [
        "sns.histplot(df_tokyo_district_master['図書館スコア'], bins=20)\n",
        "plt.show()"
      ],
      "metadata": {
        "colab": {
          "base_uri": "https://localhost:8080/",
          "height": 277
        },
        "id": "hjMG_V5TYpbn",
        "outputId": "909eddb2-e02b-40ce-c236-538b467da3d0"
      },
      "execution_count": 28,
      "outputs": [
        {
          "output_type": "display_data",
          "data": {
            "text/plain": [
              "<Figure size 432x288 with 1 Axes>"
            ],
            "image/png": "[encoded data removed]"
          },
          "metadata": {
            "needs_background": "light"
          }
        }
      ]
    },
    {
      "cell_type": "code",
      "source": [
        "df_tokyo_district_master[['市区町村名', '町丁目', '図書館(最近傍距離)', '図書館(平均距離)', '図書館(数)', '図書館スコア']]\\\n",
        "    .to_csv(os.path.join(DIR_NAME, 'library_score.csv'), index=False)"
      ],
      "metadata": {
        "id": "sSfVVuQla7Os"
      },
      "execution_count": 29,
      "outputs": []
    },
    {
      "cell_type": "code",
      "source": [
        "plt.figure(figsize=(15, 5))\n",
        "sns.barplot(x='市区町村名', y='図書館スコア', data=df_tokyo_district_master)\n",
        "plt.show()"
      ],
      "metadata": {
        "colab": {
          "base_uri": "https://localhost:8080/",
          "height": 336
        },
        "id": "3tJjlj0keD_-",
        "outputId": "9a484b4f-a9db-4d9d-dc8a-c5157805f7ef"
      },
      "execution_count": 30,
      "outputs": [
        {
          "output_type": "display_data",
          "data": {
            "text/plain": [
              "<Figure size 1080x360 with 1 Axes>"
            ],
            "image/png": "[encoded data removed]"
          },
          "metadata": {
            "needs_background": "light"
          }
        }
      ]
    },
    {
      "cell_type": "code",
      "source": [
        "df_library_level = df_tokyo_district_master.copy()\n",
        "df_library_level['rank'] = df_library_level.groupby('町名')['図書館スコア'].transform('rank', ascending=False)\n",
        "df_library_level = df_library_level[df_library_level['rank'] == 1].sort_values('図書館スコア', ascending=False)[\n",
        "    ['市区町村名', '町名', '町丁目', '図書館スコア', '_図書館スコア', '図書館(最近傍距離)', '図書館(平均距離)', '図書館(数)']\n",
        "].reset_index(drop=True)\n",
        "print(df_library_level.shape)"
      ],
      "metadata": {
        "colab": {
          "base_uri": "https://localhost:8080/"
        },
        "id": "JtdMzyO3YxKE",
        "outputId": "1aadaf67-680e-42fb-cada-04e018abee0e"
      },
      "execution_count": 31,
      "outputs": [
        {
          "output_type": "stream",
          "name": "stdout",
          "text": [
            "(126, 8)\n"
          ]
        }
      ]
    },
    {
      "cell_type": "code",
      "source": [
        "df_library_level.head(20)"
      ],
      "metadata": {
        "colab": {
          "base_uri": "https://localhost:8080/",
          "height": 677
        },
        "id": "HmlzRQiaZZZC",
        "outputId": "0067ab57-f050-425d-f812-6e2c1e3a001c"
      },
      "execution_count": 32,
      "outputs": [
        {
          "output_type": "execute_result",
          "data": {
            "text/plain": [
              "   市区町村名    町名      町丁目    図書館スコア   _図書館スコア  図書館(最近傍距離)  図書館(平均距離)  図書館(数)\n",
              "0    台東区    千束    千束１丁目  4.968072  1.000000    0.212950   0.479959       6\n",
              "1    台東区   西浅草   西浅草３丁目  4.968072  1.000000    0.191854   0.427795       8\n",
              "2    台東区   松が谷   松が谷４丁目  4.968072  1.000000    0.181948   0.353930       6\n",
              "3    台東区    蔵前    蔵前４丁目  4.968072  1.000000    0.088240   0.719408       7\n",
              "4    台東区    上野    上野７丁目  4.923372  0.996426    0.207757   0.683835       7\n",
              "5    墨田区    京島    京島１丁目  4.885057  0.978856    0.017763   0.793960       6\n",
              "6    墨田区   東駒形   東駒形４丁目  4.872286  0.957805    0.205009   0.862157       7\n",
              "7    台東区    橋場    橋場１丁目  4.846743  0.955540    0.128811   0.992986       7\n",
              "8     港区    高輪    高輪１丁目  4.833972  0.955202    0.215805   0.525269       5\n",
              "9    台東区   浅草橋   浅草橋５丁目  4.821201  0.955193    0.138271   0.813812       6\n",
              "10   台東区    三筋    三筋１丁目  4.808429  0.950672    0.321389   0.710052       7\n",
              "11   台東区    鳥越    鳥越２丁目  4.782886  0.948959    0.315895   0.726464       7\n",
              "12    港区  麻布十番  麻布十番１丁目  4.731801  0.943556    0.092055   0.939395       6\n",
              "13   墨田区    横川    横川５丁目  4.719029  0.942727    0.071284   0.790943       5\n",
              "14   台東区   北上野   北上野１丁目  4.693487  0.935489    0.374989   0.527830       6\n",
              "15   台東区    入谷    入谷２丁目  4.680715  0.934848    0.364681   0.547036       6\n",
              "16   墨田区    八広    八広５丁目  4.667944  0.934402    0.012370   0.828442       5\n",
              "17    港区     芝     芝５丁目  4.655172  0.930340    0.159900   0.891524       6\n",
              "18   墨田区   東向島   東向島２丁目  4.642401  0.921907    0.335552   0.817204       7\n",
              "19    港区    白金    白金２丁目  4.604087  0.918932    0.239584   0.651006       5"
            ],
            "text/html": [
              "\n",
              "  <div id=\"df-3c8d6da3-e164-4c64-8419-202f1fa3adda\">\n",
              "    <div class=\"colab-df-container\">\n",
              "      <div>\n",
              "<style scoped>\n",
              "    .dataframe tbody tr th:only-of-type {\n",
              "        vertical-align: middle;\n",
              "    }\n",
              "\n",
              "    .dataframe tbody tr th {\n",
              "        vertical-align: top;\n",
              "    }\n",
              "\n",
              "    .dataframe thead th {\n",
              "        text-align: right;\n",
              "    }\n",
              "</style>\n",
              "<table border=\"1\" class=\"dataframe\">\n",
              "  <thead>\n",
              "    <tr style=\"text-align: right;\">\n",
              "      <th></th>\n",
              "      <th>市区町村名</th>\n",
              "      <th>町名</th>\n",
              "      <th>町丁目</th>\n",
              "      <th>図書館スコア</th>\n",
              "      <th>_図書館スコア</th>\n",
              "      <th>図書館(最近傍距離)</th>\n",
              "      <th>図書館(平均距離)</th>\n",
              "      <th>図書館(数)</th>\n",
              "    </tr>\n",
              "  </thead>\n",
              "  <tbody>\n",
              "    <tr>\n",
              "      <th>0</th>\n",
              "      <td>台東区</td>\n",
              "      <td>千束</td>\n",
              "      <td>千束１丁目</td>\n",
              "      <td>4.968072</td>\n",
              "      <td>1.000000</td>\n",
              "      <td>0.212950</td>\n",
              "      <td>0.479959</td>\n",
              "      <td>6</td>\n",
              "    </tr>\n",
              "    <tr>\n",
              "      <th>1</th>\n",
              "      <td>台東区</td>\n",
              "      <td>西浅草</td>\n",
              "      <td>西浅草３丁目</td>\n",
              "      <td>4.968072</td>\n",
              "      <td>1.000000</td>\n",
              "      <td>0.191854</td>\n",
              "      <td>0.427795</td>\n",
              "      <td>8</td>\n",
              "    </tr>\n",
              "    <tr>\n",
              "      <th>2</th>\n",
              "      <td>台東区</td>\n",
              "      <td>松が谷</td>\n",
              "      <td>松が谷４丁目</td>\n",
              "      <td>4.968072</td>\n",
              "      <td>1.000000</td>\n",
              "      <td>0.181948</td>\n",
              "      <td>0.353930</td>\n",
              "      <td>6</td>\n",
              "    </tr>\n",
              "    <tr>\n",
              "      <th>3</th>\n",
              "      <td>台東区</td>\n",
              "      <td>蔵前</td>\n",
              "      <td>蔵前４丁目</td>\n",
              "      <td>4.968072</td>\n",
              "      <td>1.000000</td>\n",
              "      <td>0.088240</td>\n",
              "      <td>0.719408</td>\n",
              "      <td>7</td>\n",
              "    </tr>\n",
              "    <tr>\n",
              "      <th>4</th>\n",
              "      <td>台東区</td>\n",
              "      <td>上野</td>\n",
              "      <td>上野７丁目</td>\n",
              "      <td>4.923372</td>\n",
              "      <td>0.996426</td>\n",
              "      <td>0.207757</td>\n",
              "      <td>0.683835</td>\n",
              "      <td>7</td>\n",
              "    </tr>\n",
              "    <tr>\n",
              "      <th>5</th>\n",
              "      <td>墨田区</td>\n",
              "      <td>京島</td>\n",
              "      <td>京島１丁目</td>\n",
              "      <td>4.885057</td>\n",
              "      <td>0.978856</td>\n",
              "      <td>0.017763</td>\n",
              "      <td>0.793960</td>\n",
              "      <td>6</td>\n",
              "    </tr>\n",
              "    <tr>\n",
              "      <th>6</th>\n",
              "      <td>墨田区</td>\n",
              "      <td>東駒形</td>\n",
              "      <td>東駒形４丁目</td>\n",
              "      <td>4.872286</td>\n",
              "      <td>0.957805</td>\n",
              "      <td>0.205009</td>\n",
              "      <td>0.862157</td>\n",
              "      <td>7</td>\n",
              "    </tr>\n",
              "    <tr>\n",
              "      <th>7</th>\n",
              "      <td>台東区</td>\n",
              "      <td>橋場</td>\n",
              "      <td>橋場１丁目</td>\n",
              "      <td>4.846743</td>\n",
              "      <td>0.955540</td>\n",
              "      <td>0.128811</td>\n",
              "      <td>0.992986</td>\n",
              "      <td>7</td>\n",
              "    </tr>\n",
              "    <tr>\n",
              "      <th>8</th>\n",
              "      <td>港区</td>\n",
              "      <td>高輪</td>\n",
              "      <td>高輪１丁目</td>\n",
              "      <td>4.833972</td>\n",
              "      <td>0.955202</td>\n",
              "      <td>0.215805</td>\n",
              "      <td>0.525269</td>\n",
              "      <td>5</td>\n",
              "    </tr>\n",
              "    <tr>\n",
              "      <th>9</th>\n",
              "      <td>台東区</td>\n",
              "      <td>浅草橋</td>\n",
              "      <td>浅草橋５丁目</td>\n",
              "      <td>4.821201</td>\n",
              "      <td>0.955193</td>\n",
              "      <td>0.138271</td>\n",
              "      <td>0.813812</td>\n",
              "      <td>6</td>\n",
              "    </tr>\n",
              "    <tr>\n",
              "      <th>10</th>\n",
              "      <td>台東区</td>\n",
              "      <td>三筋</td>\n",
              "      <td>三筋１丁目</td>\n",
              "      <td>4.808429</td>\n",
              "      <td>0.950672</td>\n",
              "      <td>0.321389</td>\n",
              "      <td>0.710052</td>\n",
              "      <td>7</td>\n",
              "    </tr>\n",
              "    <tr>\n",
              "      <th>11</th>\n",
              "      <td>台東区</td>\n",
              "      <td>鳥越</td>\n",
              "      <td>鳥越２丁目</td>\n",
              "      <td>4.782886</td>\n",
              "      <td>0.948959</td>\n",
              "      <td>0.315895</td>\n",
              "      <td>0.726464</td>\n",
              "      <td>7</td>\n",
              "    </tr>\n",
              "    <tr>\n",
              "      <th>12</th>\n",
              "      <td>港区</td>\n",
              "      <td>麻布十番</td>\n",
              "      <td>麻布十番１丁目</td>\n",
              "      <td>4.731801</td>\n",
              "      <td>0.943556</td>\n",
              "      <td>0.092055</td>\n",
              "      <td>0.939395</td>\n",
              "      <td>6</td>\n",
              "    </tr>\n",
              "    <tr>\n",
              "      <th>13</th>\n",
              "      <td>墨田区</td>\n",
              "      <td>横川</td>\n",
              "      <td>横川５丁目</td>\n",
              "      <td>4.719029</td>\n",
              "      <td>0.942727</td>\n",
              "      <td>0.071284</td>\n",
              "      <td>0.790943</td>\n",
              "      <td>5</td>\n",
              "    </tr>\n",
              "    <tr>\n",
              "      <th>14</th>\n",
              "      <td>台東区</td>\n",
              "      <td>北上野</td>\n",
              "      <td>北上野１丁目</td>\n",
              "      <td>4.693487</td>\n",
              "      <td>0.935489</td>\n",
              "      <td>0.374989</td>\n",
              "      <td>0.527830</td>\n",
              "      <td>6</td>\n",
              "    </tr>\n",
              "    <tr>\n",
              "      <th>15</th>\n",
              "      <td>台東区</td>\n",
              "      <td>入谷</td>\n",
              "      <td>入谷２丁目</td>\n",
              "      <td>4.680715</td>\n",
              "      <td>0.934848</td>\n",
              "      <td>0.364681</td>\n",
              "      <td>0.547036</td>\n",
              "      <td>6</td>\n",
              "    </tr>\n",
              "    <tr>\n",
              "      <th>16</th>\n",
              "      <td>墨田区</td>\n",
              "      <td>八広</td>\n",
              "      <td>八広５丁目</td>\n",
              "      <td>4.667944</td>\n",
              "      <td>0.934402</td>\n",
              "      <td>0.012370</td>\n",
              "      <td>0.828442</td>\n",
              "      <td>5</td>\n",
              "    </tr>\n",
              "    <tr>\n",
              "      <th>17</th>\n",
              "      <td>港区</td>\n",
              "      <td>芝</td>\n",
              "      <td>芝５丁目</td>\n",
              "      <td>4.655172</td>\n",
              "      <td>0.930340</td>\n",
              "      <td>0.159900</td>\n",
              "      <td>0.891524</td>\n",
              "      <td>6</td>\n",
              "    </tr>\n",
              "    <tr>\n",
              "      <th>18</th>\n",
              "      <td>墨田区</td>\n",
              "      <td>東向島</td>\n",
              "      <td>東向島２丁目</td>\n",
              "      <td>4.642401</td>\n",
              "      <td>0.921907</td>\n",
              "      <td>0.335552</td>\n",
              "      <td>0.817204</td>\n",
              "      <td>7</td>\n",
              "    </tr>\n",
              "    <tr>\n",
              "      <th>19</th>\n",
              "      <td>港区</td>\n",
              "      <td>白金</td>\n",
              "      <td>白金２丁目</td>\n",
              "      <td>4.604087</td>\n",
              "      <td>0.918932</td>\n",
              "      <td>0.239584</td>\n",
              "      <td>0.651006</td>\n",
              "      <td>5</td>\n",
              "    </tr>\n",
              "  </tbody>\n",
              "</table>\n",
              "</div>\n",
              "      <button class=\"colab-df-convert\" onclick=\"convertToInteractive('df-3c8d6da3-e164-4c64-8419-202f1fa3adda')\"\n",
              "              title=\"Convert this dataframe to an interactive table.\"\n",
              "              style=\"display:none;\">\n",
              "        \n",
              "  <svg xmlns=\"http://www.w3.org/2000/svg\" height=\"24px\"viewBox=\"0 0 24 24\"\n",
              "       width=\"24px\">\n",
              "    <path d=\"M0 0h24v24H0V0z\" fill=\"none\"/>\n",
              "    <path d=\"M18.56 5.44l.94 2.06.94-2.06 2.06-.94-2.06-.94-.94-2.06-.94 2.06-2.06.94zm-11 1L8.5 8.5l.94-2.06 2.06-.94-2.06-.94L8.5 2.5l-.94 2.06-2.06.94zm10 10l.94 2.06.94-2.06 2.06-.94-2.06-.94-.94-2.06-.94 2.06-2.06.94z\"/><path d=\"M17.41 7.96l-1.37-1.37c-.4-.4-.92-.59-1.43-.59-.52 0-1.04.2-1.43.59L10.3 9.45l-7.72 7.72c-.78.78-.78 2.05 0 2.83L4 21.41c.39.39.9.59 1.41.59.51 0 1.02-.2 1.41-.59l7.78-7.78 2.81-2.81c.8-.78.8-2.07 0-2.86zM5.41 20L4 18.59l7.72-7.72 1.47 1.35L5.41 20z\"/>\n",
              "  </svg>\n",
              "      </button>\n",
              "      \n",
              "  <style>\n",
              "    .colab-df-container {\n",
              "      display:flex;\n",
              "      flex-wrap:wrap;\n",
              "      gap: 12px;\n",
              "    }\n",
              "\n",
              "    .colab-df-convert {\n",
              "      background-color: #E8F0FE;\n",
              "      border: none;\n",
              "      border-radius: 50%;\n",
              "      cursor: pointer;\n",
              "      display: none;\n",
              "      fill: #1967D2;\n",
              "      height: 32px;\n",
              "      padding: 0 0 0 0;\n",
              "      width: 32px;\n",
              "    }\n",
              "\n",
              "    .colab-df-convert:hover {\n",
              "      background-color: #E2EBFA;\n",
              "      box-shadow: 0px 1px 2px rgba(60, 64, 67, 0.3), 0px 1px 3px 1px rgba(60, 64, 67, 0.15);\n",
              "      fill: #174EA6;\n",
              "    }\n",
              "\n",
              "    [theme=dark] .colab-df-convert {\n",
              "      background-color: #3B4455;\n",
              "      fill: #D2E3FC;\n",
              "    }\n",
              "\n",
              "    [theme=dark] .colab-df-convert:hover {\n",
              "      background-color: #434B5C;\n",
              "      box-shadow: 0px 1px 3px 1px rgba(0, 0, 0, 0.15);\n",
              "      filter: drop-shadow(0px 1px 2px rgba(0, 0, 0, 0.3));\n",
              "      fill: #FFFFFF;\n",
              "    }\n",
              "  </style>\n",
              "\n",
              "      <script>\n",
              "        const buttonEl =\n",
              "          document.querySelector('#df-3c8d6da3-e164-4c64-8419-202f1fa3adda button.colab-df-convert');\n",
              "        buttonEl.style.display =\n",
              "          google.colab.kernel.accessAllowed ? 'block' : 'none';\n",
              "\n",
              "        async function convertToInteractive(key) {\n",
              "          const element = document.querySelector('#df-3c8d6da3-e164-4c64-8419-202f1fa3adda');\n",
              "          const dataTable =\n",
              "            await google.colab.kernel.invokeFunction('convertToInteractive',\n",
              "                                                     [key], {});\n",
              "          if (!dataTable) return;\n",
              "\n",
              "          const docLinkHtml = 'Like what you see? Visit the ' +\n",
              "            '<a target=\"_blank\" href=https://colab.research.google.com/notebooks/data_table.ipynb>data table notebook</a>'\n",
              "            + ' to learn more about interactive tables.';\n",
              "          element.innerHTML = '';\n",
              "          dataTable['output_type'] = 'display_data';\n",
              "          await google.colab.output.renderOutput(dataTable, element);\n",
              "          const docLink = document.createElement('div');\n",
              "          docLink.innerHTML = docLinkHtml;\n",
              "          element.appendChild(docLink);\n",
              "        }\n",
              "      </script>\n",
              "    </div>\n",
              "  </div>\n",
              "  "
            ]
          },
          "metadata": {},
          "execution_count": 32
        }
      ]
    },
    {
      "cell_type": "code",
      "source": [
        "df_library_level.tail(20)"
      ],
      "metadata": {
        "colab": {
          "base_uri": "https://localhost:8080/",
          "height": 677
        },
        "id": "qAA-c_8MaoIQ",
        "outputId": "88cc4853-81ac-4cdf-f930-2b048febfa2f"
      },
      "execution_count": 33,
      "outputs": [
        {
          "output_type": "execute_result",
          "data": {
            "text/plain": [
              "    市区町村名    町名      町丁目    図書館スコア   _図書館スコア  図書館(最近傍距離)  図書館(平均距離)  図書館(数)\n",
              "106   練馬区    旭町    旭町１丁目  2.053001  0.493035    0.704519   1.336185       2\n",
              "107   練馬区   氷川台   氷川台２丁目  2.027458  0.487644    0.515224   1.660138       2\n",
              "108   練馬区   高野台   高野台１丁目  2.001916  0.482849    0.775078   1.436133       3\n",
              "109    港区   西麻布   西麻布３丁目  1.964559  0.478545    0.890642   1.438336       4\n",
              "110   墨田区   江東橋   江東橋１丁目  1.945402  0.475558    0.931026   1.222100       3\n",
              "111   練馬区   豊玉南   豊玉南３丁目  1.868774  0.458084    0.604943   1.651261       2\n",
              "112   練馬区    早宮    早宮４丁目  1.820881  0.448703    0.939449   1.495500       4\n",
              "113   練馬区   西大泉   西大泉３丁目  1.782567  0.442644    0.754472   1.484097       2\n",
              "114   練馬区   中村南   中村南１丁目  1.485632  0.400772    0.795646   1.607535       2\n",
              "115   練馬区    桜台    桜台２丁目  1.447318  0.391891    1.011051   1.472299       3\n",
              "116   練馬区    北町    北町４丁目  1.418582  0.389574    0.568418   1.851927       1\n",
              "117    港区   東新橋   東新橋２丁目  1.361111  0.378791    0.749673   1.613562       1\n",
              "118   練馬区   豊玉上   豊玉上２丁目  1.341954  0.372110    0.916887   1.544712       2\n",
              "119    港区   元赤坂   元赤坂２丁目  1.303640  0.368558    0.604796   1.889010       1\n",
              "120    港区   北青山   北青山１丁目  1.198276  0.349351    0.569457   2.031471       1\n",
              "121   練馬区  富士見台  富士見台２丁目  1.083333  0.336731    1.071228   1.459746       2\n",
              "122    港区    海岸    海岸３丁目  1.045019  0.325412    1.094252   1.474286       2\n",
              "123   練馬区    旭丘    旭丘２丁目  0.945083  0.320840    0.687783   1.972582       1\n",
              "124   練馬区   三原台   三原台２丁目  0.791826  0.293698    1.077823   1.643151       2\n",
              "125   練馬区    谷原    谷原６丁目  0.766284  0.283936    1.075725   1.690447       2"
            ],
            "text/html": [
              "\n",
              "  <div id=\"df-0493b7d6-163f-4566-aaec-1850600e022e\">\n",
              "    <div class=\"colab-df-container\">\n",
              "      <div>\n",
              "<style scoped>\n",
              "    .dataframe tbody tr th:only-of-type {\n",
              "        vertical-align: middle;\n",
              "    }\n",
              "\n",
              "    .dataframe tbody tr th {\n",
              "        vertical-align: top;\n",
              "    }\n",
              "\n",
              "    .dataframe thead th {\n",
              "        text-align: right;\n",
              "    }\n",
              "</style>\n",
              "<table border=\"1\" class=\"dataframe\">\n",
              "  <thead>\n",
              "    <tr style=\"text-align: right;\">\n",
              "      <th></th>\n",
              "      <th>市区町村名</th>\n",
              "      <th>町名</th>\n",
              "      <th>町丁目</th>\n",
              "      <th>図書館スコア</th>\n",
              "      <th>_図書館スコア</th>\n",
              "      <th>図書館(最近傍距離)</th>\n",
              "      <th>図書館(平均距離)</th>\n",
              "      <th>図書館(数)</th>\n",
              "    </tr>\n",
              "  </thead>\n",
              "  <tbody>\n",
              "    <tr>\n",
              "      <th>106</th>\n",
              "      <td>練馬区</td>\n",
              "      <td>旭町</td>\n",
              "      <td>旭町１丁目</td>\n",
              "      <td>2.053001</td>\n",
              "      <td>0.493035</td>\n",
              "      <td>0.704519</td>\n",
              "      <td>1.336185</td>\n",
              "      <td>2</td>\n",
              "    </tr>\n",
              "    <tr>\n",
              "      <th>107</th>\n",
              "      <td>練馬区</td>\n",
              "      <td>氷川台</td>\n",
              "      <td>氷川台２丁目</td>\n",
              "      <td>2.027458</td>\n",
              "      <td>0.487644</td>\n",
              "      <td>0.515224</td>\n",
              "      <td>1.660138</td>\n",
              "      <td>2</td>\n",
              "    </tr>\n",
              "    <tr>\n",
              "      <th>108</th>\n",
              "      <td>練馬区</td>\n",
              "      <td>高野台</td>\n",
              "      <td>高野台１丁目</td>\n",
              "      <td>2.001916</td>\n",
              "      <td>0.482849</td>\n",
              "      <td>0.775078</td>\n",
              "      <td>1.436133</td>\n",
              "      <td>3</td>\n",
              "    </tr>\n",
              "    <tr>\n",
              "      <th>109</th>\n",
              "      <td>港区</td>\n",
              "      <td>西麻布</td>\n",
              "      <td>西麻布３丁目</td>\n",
              "      <td>1.964559</td>\n",
              "      <td>0.478545</td>\n",
              "      <td>0.890642</td>\n",
              "      <td>1.438336</td>\n",
              "      <td>4</td>\n",
              "    </tr>\n",
              "    <tr>\n",
              "      <th>110</th>\n",
              "      <td>墨田区</td>\n",
              "      <td>江東橋</td>\n",
              "      <td>江東橋１丁目</td>\n",
              "      <td>1.945402</td>\n",
              "      <td>0.475558</td>\n",
              "      <td>0.931026</td>\n",
              "      <td>1.222100</td>\n",
              "      <td>3</td>\n",
              "    </tr>\n",
              "    <tr>\n",
              "      <th>111</th>\n",
              "      <td>練馬区</td>\n",
              "      <td>豊玉南</td>\n",
              "      <td>豊玉南３丁目</td>\n",
              "      <td>1.868774</td>\n",
              "      <td>0.458084</td>\n",
              "      <td>0.604943</td>\n",
              "      <td>1.651261</td>\n",
              "      <td>2</td>\n",
              "    </tr>\n",
              "    <tr>\n",
              "      <th>112</th>\n",
              "      <td>練馬区</td>\n",
              "      <td>早宮</td>\n",
              "      <td>早宮４丁目</td>\n",
              "      <td>1.820881</td>\n",
              "      <td>0.448703</td>\n",
              "      <td>0.939449</td>\n",
              "      <td>1.495500</td>\n",
              "      <td>4</td>\n",
              "    </tr>\n",
              "    <tr>\n",
              "      <th>113</th>\n",
              "      <td>練馬区</td>\n",
              "      <td>西大泉</td>\n",
              "      <td>西大泉３丁目</td>\n",
              "      <td>1.782567</td>\n",
              "      <td>0.442644</td>\n",
              "      <td>0.754472</td>\n",
              "      <td>1.484097</td>\n",
              "      <td>2</td>\n",
              "    </tr>\n",
              "    <tr>\n",
              "      <th>114</th>\n",
              "      <td>練馬区</td>\n",
              "      <td>中村南</td>\n",
              "      <td>中村南１丁目</td>\n",
              "      <td>1.485632</td>\n",
              "      <td>0.400772</td>\n",
              "      <td>0.795646</td>\n",
              "      <td>1.607535</td>\n",
              "      <td>2</td>\n",
              "    </tr>\n",
              "    <tr>\n",
              "      <th>115</th>\n",
              "      <td>練馬区</td>\n",
              "      <td>桜台</td>\n",
              "      <td>桜台２丁目</td>\n",
              "      <td>1.447318</td>\n",
              "      <td>0.391891</td>\n",
              "      <td>1.011051</td>\n",
              "      <td>1.472299</td>\n",
              "      <td>3</td>\n",
              "    </tr>\n",
              "    <tr>\n",
              "      <th>116</th>\n",
              "      <td>練馬区</td>\n",
              "      <td>北町</td>\n",
              "      <td>北町４丁目</td>\n",
              "      <td>1.418582</td>\n",
              "      <td>0.389574</td>\n",
              "      <td>0.568418</td>\n",
              "      <td>1.851927</td>\n",
              "      <td>1</td>\n",
              "    </tr>\n",
              "    <tr>\n",
              "      <th>117</th>\n",
              "      <td>港区</td>\n",
              "      <td>東新橋</td>\n",
              "      <td>東新橋２丁目</td>\n",
              "      <td>1.361111</td>\n",
              "      <td>0.378791</td>\n",
              "      <td>0.749673</td>\n",
              "      <td>1.613562</td>\n",
              "      <td>1</td>\n",
              "    </tr>\n",
              "    <tr>\n",
              "      <th>118</th>\n",
              "      <td>練馬区</td>\n",
              "      <td>豊玉上</td>\n",
              "      <td>豊玉上２丁目</td>\n",
              "      <td>1.341954</td>\n",
              "      <td>0.372110</td>\n",
              "      <td>0.916887</td>\n",
              "      <td>1.544712</td>\n",
              "      <td>2</td>\n",
              "    </tr>\n",
              "    <tr>\n",
              "      <th>119</th>\n",
              "      <td>港区</td>\n",
              "      <td>元赤坂</td>\n",
              "      <td>元赤坂２丁目</td>\n",
              "      <td>1.303640</td>\n",
              "      <td>0.368558</td>\n",
              "      <td>0.604796</td>\n",
              "      <td>1.889010</td>\n",
              "      <td>1</td>\n",
              "    </tr>\n",
              "    <tr>\n",
              "      <th>120</th>\n",
              "      <td>港区</td>\n",
              "      <td>北青山</td>\n",
              "      <td>北青山１丁目</td>\n",
              "      <td>1.198276</td>\n",
              "      <td>0.349351</td>\n",
              "      <td>0.569457</td>\n",
              "      <td>2.031471</td>\n",
              "      <td>1</td>\n",
              "    </tr>\n",
              "    <tr>\n",
              "      <th>121</th>\n",
              "      <td>練馬区</td>\n",
              "      <td>富士見台</td>\n",
              "      <td>富士見台２丁目</td>\n",
              "      <td>1.083333</td>\n",
              "      <td>0.336731</td>\n",
              "      <td>1.071228</td>\n",
              "      <td>1.459746</td>\n",
              "      <td>2</td>\n",
              "    </tr>\n",
              "    <tr>\n",
              "      <th>122</th>\n",
              "      <td>港区</td>\n",
              "      <td>海岸</td>\n",
              "      <td>海岸３丁目</td>\n",
              "      <td>1.045019</td>\n",
              "      <td>0.325412</td>\n",
              "      <td>1.094252</td>\n",
              "      <td>1.474286</td>\n",
              "      <td>2</td>\n",
              "    </tr>\n",
              "    <tr>\n",
              "      <th>123</th>\n",
              "      <td>練馬区</td>\n",
              "      <td>旭丘</td>\n",
              "      <td>旭丘２丁目</td>\n",
              "      <td>0.945083</td>\n",
              "      <td>0.320840</td>\n",
              "      <td>0.687783</td>\n",
              "      <td>1.972582</td>\n",
              "      <td>1</td>\n",
              "    </tr>\n",
              "    <tr>\n",
              "      <th>124</th>\n",
              "      <td>練馬区</td>\n",
              "      <td>三原台</td>\n",
              "      <td>三原台２丁目</td>\n",
              "      <td>0.791826</td>\n",
              "      <td>0.293698</td>\n",
              "      <td>1.077823</td>\n",
              "      <td>1.643151</td>\n",
              "      <td>2</td>\n",
              "    </tr>\n",
              "    <tr>\n",
              "      <th>125</th>\n",
              "      <td>練馬区</td>\n",
              "      <td>谷原</td>\n",
              "      <td>谷原６丁目</td>\n",
              "      <td>0.766284</td>\n",
              "      <td>0.283936</td>\n",
              "      <td>1.075725</td>\n",
              "      <td>1.690447</td>\n",
              "      <td>2</td>\n",
              "    </tr>\n",
              "  </tbody>\n",
              "</table>\n",
              "</div>\n",
              "      <button class=\"colab-df-convert\" onclick=\"convertToInteractive('df-0493b7d6-163f-4566-aaec-1850600e022e')\"\n",
              "              title=\"Convert this dataframe to an interactive table.\"\n",
              "              style=\"display:none;\">\n",
              "        \n",
              "  <svg xmlns=\"http://www.w3.org/2000/svg\" height=\"24px\"viewBox=\"0 0 24 24\"\n",
              "       width=\"24px\">\n",
              "    <path d=\"M0 0h24v24H0V0z\" fill=\"none\"/>\n",
              "    <path d=\"M18.56 5.44l.94 2.06.94-2.06 2.06-.94-2.06-.94-.94-2.06-.94 2.06-2.06.94zm-11 1L8.5 8.5l.94-2.06 2.06-.94-2.06-.94L8.5 2.5l-.94 2.06-2.06.94zm10 10l.94 2.06.94-2.06 2.06-.94-2.06-.94-.94-2.06-.94 2.06-2.06.94z\"/><path d=\"M17.41 7.96l-1.37-1.37c-.4-.4-.92-.59-1.43-.59-.52 0-1.04.2-1.43.59L10.3 9.45l-7.72 7.72c-.78.78-.78 2.05 0 2.83L4 21.41c.39.39.9.59 1.41.59.51 0 1.02-.2 1.41-.59l7.78-7.78 2.81-2.81c.8-.78.8-2.07 0-2.86zM5.41 20L4 18.59l7.72-7.72 1.47 1.35L5.41 20z\"/>\n",
              "  </svg>\n",
              "      </button>\n",
              "      \n",
              "  <style>\n",
              "    .colab-df-container {\n",
              "      display:flex;\n",
              "      flex-wrap:wrap;\n",
              "      gap: 12px;\n",
              "    }\n",
              "\n",
              "    .colab-df-convert {\n",
              "      background-color: #E8F0FE;\n",
              "      border: none;\n",
              "      border-radius: 50%;\n",
              "      cursor: pointer;\n",
              "      display: none;\n",
              "      fill: #1967D2;\n",
              "      height: 32px;\n",
              "      padding: 0 0 0 0;\n",
              "      width: 32px;\n",
              "    }\n",
              "\n",
              "    .colab-df-convert:hover {\n",
              "      background-color: #E2EBFA;\n",
              "      box-shadow: 0px 1px 2px rgba(60, 64, 67, 0.3), 0px 1px 3px 1px rgba(60, 64, 67, 0.15);\n",
              "      fill: #174EA6;\n",
              "    }\n",
              "\n",
              "    [theme=dark] .colab-df-convert {\n",
              "      background-color: #3B4455;\n",
              "      fill: #D2E3FC;\n",
              "    }\n",
              "\n",
              "    [theme=dark] .colab-df-convert:hover {\n",
              "      background-color: #434B5C;\n",
              "      box-shadow: 0px 1px 3px 1px rgba(0, 0, 0, 0.15);\n",
              "      filter: drop-shadow(0px 1px 2px rgba(0, 0, 0, 0.3));\n",
              "      fill: #FFFFFF;\n",
              "    }\n",
              "  </style>\n",
              "\n",
              "      <script>\n",
              "        const buttonEl =\n",
              "          document.querySelector('#df-0493b7d6-163f-4566-aaec-1850600e022e button.colab-df-convert');\n",
              "        buttonEl.style.display =\n",
              "          google.colab.kernel.accessAllowed ? 'block' : 'none';\n",
              "\n",
              "        async function convertToInteractive(key) {\n",
              "          const element = document.querySelector('#df-0493b7d6-163f-4566-aaec-1850600e022e');\n",
              "          const dataTable =\n",
              "            await google.colab.kernel.invokeFunction('convertToInteractive',\n",
              "                                                     [key], {});\n",
              "          if (!dataTable) return;\n",
              "\n",
              "          const docLinkHtml = 'Like what you see? Visit the ' +\n",
              "            '<a target=\"_blank\" href=https://colab.research.google.com/notebooks/data_table.ipynb>data table notebook</a>'\n",
              "            + ' to learn more about interactive tables.';\n",
              "          element.innerHTML = '';\n",
              "          dataTable['output_type'] = 'display_data';\n",
              "          await google.colab.output.renderOutput(dataTable, element);\n",
              "          const docLink = document.createElement('div');\n",
              "          docLink.innerHTML = docLinkHtml;\n",
              "          element.appendChild(docLink);\n",
              "        }\n",
              "      </script>\n",
              "    </div>\n",
              "  </div>\n",
              "  "
            ]
          },
          "metadata": {},
          "execution_count": 33
        }
      ]
    },
    {
      "cell_type": "code",
      "source": [],
      "metadata": {
        "id": "Lk6O8Y3Dd5di"
      },
      "execution_count": 33,
      "outputs": []
    }
  ]
}