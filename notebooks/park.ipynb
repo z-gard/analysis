{
  "nbformat": 4,
  "nbformat_minor": 0,
  "metadata": {
    "colab": {
      "provenance": [],
      "authorship_tag": "ABX9TyPisJCPsLPRxcfcfEwmuUJm",
      "include_colab_link": true
    },
    "kernelspec": {
      "name": "python3",
      "display_name": "Python 3"
    },
    "language_info": {
      "name": "python"
    }
  },
  "cells": [
    {
      "cell_type": "markdown",
      "metadata": {
        "id": "view-in-github",
        "colab_type": "text"
      },
      "source": [
        "<a href=\"https://colab.research.google.com/github/z-gard/analysis/blob/main/notebooks/park.ipynb\" target=\"_parent\"><img src=\"https://colab.research.google.com/assets/colab-badge.svg\" alt=\"Open In Colab\"/></a>"
      ]
    },
    {
      "cell_type": "markdown",
      "source": [
        "# 公園\n",
        "- input:\n",
        "    - 区ごとの公園の位置情報\n",
        "- output:\n",
        "    - park_score.csv\n",
        "        - 公園スコア"
      ],
      "metadata": {
        "id": "zBy6ZmZPOhfq"
      }
    },
    {
      "cell_type": "code",
      "execution_count": 66,
      "metadata": {
        "id": "cDOcy7pFOdsC",
        "outputId": "fdd066b5-02bc-43f8-9362-08788e5196e3",
        "colab": {
          "base_uri": "https://localhost:8080/"
        }
      },
      "outputs": [
        {
          "output_type": "stream",
          "name": "stdout",
          "text": [
            "\u001b[?25l\r\u001b[K     |███▍                            | 10 kB 15.8 MB/s eta 0:00:01\r\u001b[K     |██████▉                         | 20 kB 7.9 MB/s eta 0:00:01\r\u001b[K     |██████████▏                     | 30 kB 11.3 MB/s eta 0:00:01\r\u001b[K     |█████████████▋                  | 40 kB 6.0 MB/s eta 0:00:01\r\u001b[K     |█████████████████               | 51 kB 6.1 MB/s eta 0:00:01\r\u001b[K     |████████████████████▍           | 61 kB 7.2 MB/s eta 0:00:01\r\u001b[K     |███████████████████████▊        | 71 kB 7.7 MB/s eta 0:00:01\r\u001b[K     |███████████████████████████▏    | 81 kB 8.6 MB/s eta 0:00:01\r\u001b[K     |██████████████████████████████▌ | 92 kB 8.2 MB/s eta 0:00:01\r\u001b[K     |████████████████████████████████| 96 kB 3.5 MB/s \n",
            "\u001b[?25h"
          ]
        }
      ],
      "source": [
        "!pip install -q geocoder\n",
        "!pip install -q --upgrade xlrd\n",
        "!pip install -q japanize-matplotlib"
      ]
    },
    {
      "cell_type": "code",
      "source": [
        "from google.colab import drive\n",
        "drive.mount('/content/drive')"
      ],
      "metadata": {
        "colab": {
          "base_uri": "https://localhost:8080/"
        },
        "id": "rYTHrEAdOlBC",
        "outputId": "c278acdf-f4af-44a2-cbec-236b05b01489"
      },
      "execution_count": 2,
      "outputs": [
        {
          "output_type": "stream",
          "name": "stdout",
          "text": [
            "Mounted at /content/drive\n"
          ]
        }
      ]
    },
    {
      "cell_type": "code",
      "source": [
        "DIR_NAME = '/content/drive/MyDrive/z-gard/data'"
      ],
      "metadata": {
        "id": "mKIhoL-BOtAE"
      },
      "execution_count": 3,
      "outputs": []
    },
    {
      "cell_type": "code",
      "source": [
        "output_score_file = 'park_score.csv'"
      ],
      "metadata": {
        "id": "Xfa9PuQkSYdq"
      },
      "execution_count": 150,
      "outputs": []
    },
    {
      "cell_type": "code",
      "source": [
        "import os\n",
        "import requests\n",
        "import json\n",
        "import pandas as pd\n",
        "from urllib.parse import urlparse\n",
        "import geocoder\n",
        "import math\n",
        "import io\n",
        "import re\n",
        "import matplotlib.pyplot as plt\n",
        "import japanize_matplotlib\n",
        "import seaborn as sns\n",
        "\n",
        "pd.set_option('display.max_columns', 50)\n",
        "pd.set_option('display.max_rows', 100)"
      ],
      "metadata": {
        "id": "2xgbJOobOvsP"
      },
      "execution_count": 4,
      "outputs": []
    },
    {
      "cell_type": "code",
      "source": [
        "def get_data_csv_url(url, encoding='utf-8', excel=False):\n",
        "    res = requests.get(url)\n",
        "    if res.status_code == 200:\n",
        "        if not excel:\n",
        "            return pd.read_csv(io.BytesIO(res.content), encoding=encoding)\n",
        "        else:\n",
        "            return pd.read_excel(io.BytesIO(res.content))\n",
        "    else:\n",
        "        raise Exception(f'status_code: {res.status_code} ({url})')\n",
        "\n",
        "def number_to_kanji(str):\n",
        "    return str.translate(str.maketrans({\n",
        "        '１':'一', '２':'二', '３':'三', '４':'四', '５':'五', '６':'六', '７':'七', '８':'八', '９':'九',\n",
        "        '1':'一', '2':'二', '3':'三', '4':'四', '5':'五', '6':'六', '7':'七', '8':'八', '9':'九', '0':'十', \n",
        "    }))\n",
        "\n",
        "# 緯度経度取得\n",
        "def add_lat_lon(df_master):\n",
        "    lats = []\n",
        "    lons = []\n",
        "    for i, row in df_master.iterrows():\n",
        "        chocho = number_to_kanji(row['町丁目'])\n",
        "        ret = geocoder.osm('東京都' + row['市区町村名'] + chocho, timeout=5)\n",
        "        if not ret.ok:\n",
        "            print(i, row['市区町村名'], chocho)\n",
        "        lats.append(ret.lat)\n",
        "        lons.append(ret.lng)\n",
        "    df_copy = df_master.copy()\n",
        "    df_copy['緯度'] = lats\n",
        "    df_copy['経度'] = lons\n",
        "    return df_copy\n",
        "\n",
        "# 距離計算\n",
        "def get_distance(lat1, lon1, lat2, lon2):\n",
        "    _lat1 = lat1 * math.pi / 180\n",
        "    _lon1 = lon1 * math.pi / 180\n",
        "    _lat2 = lat2 * math.pi / 180\n",
        "    _lon2 = lon2 * math.pi / 180\n",
        "    _tmp = math.cos(_lat1) * math.cos(_lat2) * math.cos(_lon2 - _lon1) + math.sin(_lat1) * math.sin(_lat2)\n",
        "    _tmp = 1 if _tmp > 1 else -1 if _tmp < -1 else _tmp\n",
        "    return 6371 * math.acos(_tmp)\n",
        "\n",
        "# 最寄り施設までの距離\n",
        "def get_value_of_nearest_facility(df_master, df_facility, category, method='min', param=3):\n",
        "    _df_cat = df_facility[df_facility['施設分類'] == category].copy()\n",
        "    cat_values = []\n",
        "    for i, row in df_master.iterrows():\n",
        "        dist = _df_cat.apply(lambda x: get_distance(x['緯度'], x['経度'], row['緯度'], row['経度']), axis=1)\n",
        "        val = None\n",
        "        if method == 'min':\n",
        "            # 最小の距離\n",
        "            val = dist.min()\n",
        "        elif method == 'count':\n",
        "            # {param}km以内の施設の数をカウント\n",
        "            val = len(dist[dist <= param])\n",
        "        elif method == 'mean':\n",
        "            # 近い{param}件の距離の平均\n",
        "            val = dist.sort_values()[:param].mean()\n",
        "        cat_values.append(val)\n",
        "    return cat_values"
      ],
      "metadata": {
        "id": "Q9yoYFmNRk8e"
      },
      "execution_count": 67,
      "outputs": []
    },
    {
      "cell_type": "code",
      "source": [
        "def get_tokyo_ward_city(address):\n",
        "    _tmp = address.replace('東京都', '')\n",
        "    m = re.search('^.*?[区市]', _tmp)\n",
        "    cityname = m.group()\n",
        "    return cityname if len(cityname) < 6 else None\n",
        "\n",
        "def get_category_facility(name):\n",
        "    if re.search('.*公園$', name) is not None:\n",
        "        return '公園'\n",
        "    if re.search('.*緑地$', name) is not None:\n",
        "        return '公園'\n",
        "    if re.search('.*緑道$', name) is not None:\n",
        "        return '公園'\n",
        "    if re.search('.*庭園$', name) is not None:\n",
        "        return '公園'\n",
        "    if re.search('.*児童遊園$', name) is not None:\n",
        "        return '公園'\n",
        "    if re.search('.*図書館$', name) is not None:\n",
        "        return '図書館'\n",
        "    if re.search('.*美術館$', name) is not None:\n",
        "        return '文化施設'\n",
        "    if re.search('.*博物館$', name) is not None:\n",
        "        return '文化施設'\n",
        "    if re.search('.*会館$', name) is not None:\n",
        "        return '文化施設'\n",
        "    if re.search('.*劇場$', name) is not None:\n",
        "        return '文化施設'\n",
        "    if re.search('アーツ', name) is not None:\n",
        "        return '文化施設'\n",
        "    return None"
      ],
      "metadata": {
        "id": "_-2eukImbwhJ"
      },
      "execution_count": 60,
      "outputs": []
    },
    {
      "cell_type": "code",
      "source": [
        "def change_type(df_data):\n",
        "    df_data['緯度'] = df_data['緯度'].astype(float)\n",
        "    df_data['経度'] = df_data['経度'].astype(float)"
      ],
      "metadata": {
        "id": "hhGXtuvYipKL"
      },
      "execution_count": 7,
      "outputs": []
    },
    {
      "cell_type": "code",
      "source": [
        "extract_columns = ['施設分類', '名称', '市区町村名', '所在地', '緯度', '経度']"
      ],
      "metadata": {
        "id": "IrPBUzhvReBs"
      },
      "execution_count": 13,
      "outputs": []
    },
    {
      "cell_type": "markdown",
      "source": [
        "## 0. 東京都\n",
        "- [公共施設一覧](https://catalog.data.metro.tokyo.lg.jp/dataset/t000003d0000000033/resource/27d1ce20-9023-4690-944c-5da47ed1427e)"
      ],
      "metadata": {
        "id": "FTreyejMZ5fi"
      }
    },
    {
      "cell_type": "code",
      "source": [
        "tokyo_public_facility = 'https://www.opendata.metro.tokyo.lg.jp/suisyoudataset/130001_public_facility.csv'\n",
        "df_tokyo_public_facility = get_data_csv_url(tokyo_public_facility, encoding='cp932')\n",
        "print(df_tokyo_public_facility.shape)\n",
        "\n",
        "df_tokyo_public_facility = df_tokyo_public_facility.rename(columns={'住所': '所在地'})\n",
        "df_tokyo_public_facility['市区町村名'] = df_tokyo_public_facility['所在地'].apply(get_tokyo_ward_city)\n",
        "df_tokyo_public_facility['施設分類'] = df_tokyo_public_facility['名称'].apply(get_category_facility)\n",
        "df_tokyo_public_facility = df_tokyo_public_facility[extract_columns]\n",
        "df_tokyo_public_facility = df_tokyo_public_facility[\n",
        "    (df_tokyo_public_facility['施設分類']=='公園')&\n",
        "    (df_tokyo_public_facility['市区町村名'].str.endswith('区'))\n",
        "].reset_index(drop=True)\n",
        "change_type(df_tokyo_public_facility)\n",
        "print(df_tokyo_public_facility.shape)"
      ],
      "metadata": {
        "id": "dVf2UekcZ4-k",
        "outputId": "d0e69913-8519-490e-d5f8-bd22e210ea80",
        "colab": {
          "base_uri": "https://localhost:8080/"
        }
      },
      "execution_count": 113,
      "outputs": [
        {
          "output_type": "stream",
          "name": "stdout",
          "text": [
            "(136, 39)\n",
            "(80, 6)\n"
          ]
        }
      ]
    },
    {
      "cell_type": "markdown",
      "source": [
        "## 1. 千代田区\n",
        "- [公園・児童遊園・緑道](https://www.city.chiyoda.lg.jp/shisetsu/koen/index.html) -> CSVでない、数が少ない"
      ],
      "metadata": {
        "id": "ozc68hGVyKaT"
      }
    },
    {
      "cell_type": "markdown",
      "source": [
        "## 2. 中央区\n",
        "- [区内の公園一覧](https://catalog.data.metro.tokyo.lg.jp/dataset/t131024d0000000011/resource/2cebf9bb-c082-41a4-973f-f39e81c20aa2)"
      ],
      "metadata": {
        "id": "Hy9QzRF1vJWT"
      }
    },
    {
      "cell_type": "code",
      "source": [
        "chuou_park_url = 'https://www.city.chuo.lg.jp/kusei/statisticaldata/opendata.files/koenichiran.csv'\n",
        "df_chuou_park = get_data_csv_url(chuou_park_url, encoding='shift-jis')\n",
        "print(df_chuou_park.shape)\n",
        "\n",
        "df_chuou_park['市区町村名'] = '中央区'\n",
        "df_chuou_park['施設分類'] = '公園'\n",
        "df_chuou_park = df_chuou_park.rename(columns={'住所':'所在地'})[extract_columns]\n",
        "change_type(df_chuou_park)\n",
        "print(df_chuou_park.shape)"
      ],
      "metadata": {
        "id": "rcSZRUVM5tcC",
        "outputId": "8ba7f683-3338-4019-f944-bf98fb1dee52",
        "colab": {
          "base_uri": "https://localhost:8080/"
        }
      },
      "execution_count": 89,
      "outputs": [
        {
          "output_type": "stream",
          "name": "stdout",
          "text": [
            "(56, 5)\n",
            "(56, 6)\n"
          ]
        }
      ]
    },
    {
      "cell_type": "markdown",
      "source": [
        "## 3. 港区\n",
        "- [公園・児童遊園・緑地](https://catalog.data.metro.tokyo.lg.jp/dataset/t131032d0000000014/resource/07c70d2b-0474-491c-a1f4-754b8f28922b)"
      ],
      "metadata": {
        "id": "N29UjnUPRhG7"
      }
    },
    {
      "cell_type": "code",
      "source": [
        "minato_park_url = 'https://opendata.city.minato.tokyo.jp/dataset/dc609dcf-892a-4a20-8f74-f62ce9fc806d/resource/f636e5b8-088f-42e2-b95c-d0978d4e339c/download/minatokushisetsujoho_kouen.csv'\n",
        "df_minato_park = get_data_csv_url(minato_park_url)\n",
        "print(df_minato_park.shape)\n",
        "\n",
        "df_minato_park['市区町村名'] = '港区'\n",
        "df_minato_park['施設分類'] = '公園'\n",
        "df_minato_park = df_minato_park[df_minato_park['第1分類'] == '公園・児童遊園・緑地'].reset_index(drop=False)\n",
        "df_minato_park = df_minato_park.rename(columns={'ページタイトル':'名称'})[extract_columns]\n",
        "change_type(df_minato_park)\n",
        "print(df_minato_park.shape)"
      ],
      "metadata": {
        "colab": {
          "base_uri": "https://localhost:8080/"
        },
        "id": "bHdlGR4rRd_V",
        "outputId": "58b83693-8084-4729-db9b-fe487d5ca8fe"
      },
      "execution_count": 90,
      "outputs": [
        {
          "output_type": "stream",
          "name": "stdout",
          "text": [
            "(157, 31)\n",
            "(156, 6)\n"
          ]
        }
      ]
    },
    {
      "cell_type": "markdown",
      "source": [
        "## 4. 新宿区\n",
        "- [区立公園の一覧（五十音順）](http://www.city.shinjuku.lg.jp/seikatsu/midori01_001024.html) -> CSVでない"
      ],
      "metadata": {
        "id": "QEmpBhenyeVs"
      }
    },
    {
      "cell_type": "markdown",
      "source": [
        "## 5. 文京区\n",
        "- [区立公園・児童遊園・遊び場一覧](https://catalog.data.metro.tokyo.lg.jp/dataset/t131059d0509040001/resource/81688b74-8b82-4529-a1df-1d0ae73a808d)"
      ],
      "metadata": {
        "id": "5XQHy3KkvpL6"
      }
    },
    {
      "cell_type": "code",
      "source": [
        "bunkyo_park_url = 'https://www.city.bunkyo.lg.jp/library/opendata-bunkyo/05bousai-macidukuri-kankyou/03kouen-asobiba/kuritsukouen-jidouyuuen-asobiba.csv'\n",
        "df_bunkyo_park = get_data_csv_url(bunkyo_park_url, encoding='shift-jis')\n",
        "print(df_bunkyo_park.shape)\n",
        "\n",
        "df_bunkyo_park['市区町村名'] = '文京区'\n",
        "df_bunkyo_park['施設分類'] = '公園'\n",
        "df_bunkyo_park = df_bunkyo_park.rename(columns={'施設名':'名称', '住所':'所在地'})[extract_columns]\n",
        "change_type(df_bunkyo_park)\n",
        "print(df_bunkyo_park.shape)"
      ],
      "metadata": {
        "id": "3FsxuB5L6yz_",
        "outputId": "b53a81d1-872d-4d82-de35-b05384f76cf3",
        "colab": {
          "base_uri": "https://localhost:8080/"
        }
      },
      "execution_count": 91,
      "outputs": [
        {
          "output_type": "stream",
          "name": "stdout",
          "text": [
            "(119, 10)\n",
            "(119, 6)\n"
          ]
        }
      ]
    },
    {
      "cell_type": "markdown",
      "source": [
        "## 6. 台東区\n",
        "- [公園](https://catalog.data.metro.tokyo.lg.jp/dataset/t131067d0000000093/resource/c70f81da-7c29-497a-ab55-068686d75707)\n",
        "- [児童遊園](https://catalog.data.metro.tokyo.lg.jp/dataset/t131067d0000000094/resource/5d61c7a3-573d-4a27-8492-6e299f2fe401)"
      ],
      "metadata": {
        "id": "S_Q90dBVcPtQ"
      }
    },
    {
      "cell_type": "code",
      "source": [
        "taito_park_url_1 = 'https://www.city.taito.lg.jp/kusei/online/opendata/seikatu/shisethutizujouhou.files/sisetu_15.csv'\n",
        "df_taito_park_1 = get_data_csv_url(taito_park_url_1, 'shift-jis')\n",
        "taito_park_url_2 = 'https://www.city.taito.lg.jp/kusei/online/opendata/seikatu/shisethutizujouhou.files/sisetu_16.csv'\n",
        "df_taito_park_2 = get_data_csv_url(taito_park_url_2, 'shift-jis')\n",
        "df_taito_park = pd.concat([df_taito_park_1, df_taito_park_2]).reset_index(drop=True)\n",
        "print(df_taito_park.shape)\n",
        "\n",
        "df_taito_park['市区町村名'] = '台東区'\n",
        "df_taito_park['施設分類'] = '公園'\n",
        "df_taito_park = df_taito_park.rename(columns={'X座標':'経度', 'Y座標':'緯度'})[extract_columns]\n",
        "print(df_taito_park.shape)"
      ],
      "metadata": {
        "id": "kUmwooOBwofd",
        "outputId": "3ef1669c-1227-4f8e-f0f8-5e27d7f2dd46",
        "colab": {
          "base_uri": "https://localhost:8080/"
        }
      },
      "execution_count": 92,
      "outputs": [
        {
          "output_type": "stream",
          "name": "stdout",
          "text": [
            "(83, 8)\n",
            "(83, 6)\n"
          ]
        }
      ]
    },
    {
      "cell_type": "markdown",
      "source": [
        "## 7. 墨田区\n",
        "- [公園](https://catalog.data.metro.tokyo.lg.jp/dataset/t131075d0000000097/resource/ea22e8d7-677a-4ab8-b231-f5d309fd0be6)\n",
        "- [児童遊園](https://catalog.data.metro.tokyo.lg.jp/dataset/t131075d0000000097/resource/21a0e89e-ee2f-4bf0-90db-b70ebb77453e)"
      ],
      "metadata": {
        "id": "A79C8s69R4YW"
      }
    },
    {
      "cell_type": "code",
      "source": [
        "sumida_park_url_1 = 'https://www.city.sumida.lg.jp/kuseijoho/sumida_info/opendata/opendata_ichiran/shisetsu_data.files/park.csv'\n",
        "df_sumida_park_1 = get_data_csv_url(sumida_park_url_1, 'shift-jis')\n",
        "sumida_park_url_2 = 'https://www.city.sumida.lg.jp/kuseijoho/sumida_info/opendata/opendata_ichiran/shisetsu_data.files/jidouyuuen.csv'\n",
        "df_sumida_park_2 = get_data_csv_url(sumida_park_url_2, 'shift-jis')\n",
        "df_sumida_park = pd.concat([df_sumida_park_1, df_sumida_park_2]).reset_index(drop=True)\n",
        "print(df_sumida_park.shape)\n",
        "\n",
        "df_sumida_park['市区町村名'] = '墨田区'\n",
        "df_sumida_park['施設分類'] = '公園'\n",
        "df_sumida_park = df_sumida_park.rename(columns={'施設名称':'名称'})[extract_columns]\n",
        "print(df_sumida_park.shape)"
      ],
      "metadata": {
        "colab": {
          "base_uri": "https://localhost:8080/"
        },
        "id": "hZJc7luQRd5I",
        "outputId": "bbf9de56-1c9f-4a92-f933-6b4d4a016fc4"
      },
      "execution_count": 93,
      "outputs": [
        {
          "output_type": "stream",
          "name": "stdout",
          "text": [
            "(144, 5)\n",
            "(144, 6)\n"
          ]
        }
      ]
    },
    {
      "cell_type": "markdown",
      "source": [
        "## 8. 江東区\n",
        "- [区立公園](https://catalog.data.metro.tokyo.lg.jp/dataset/t131083d0000000007/resource/204f8626-3307-48e3-9d2c-03d38aa732f1)\n",
        "- [児童遊園](https://catalog.data.metro.tokyo.lg.jp/dataset/t131083d0000000007/resource/cef3a8af-0006-4341-a0ab-a62b26a5a28c)"
      ],
      "metadata": {
        "id": "k9DmEpn4y2dz"
      }
    },
    {
      "cell_type": "code",
      "source": [
        "koutou_park_url = 'https://www.city.koto.lg.jp/012107/documents/131083_kotocity_public_facility-17_parks.csv'\n",
        "df_koutou_park = get_data_csv_url(koutou_park_url, encoding='shift-jis')\n",
        "print(df_koutou_park.shape)\n",
        "\n",
        "df_koutou_park['市区町村名'] = '江東区'\n",
        "df_koutou_park['施設分類'] = '公園'\n",
        "df_koutou_park = df_koutou_park.rename(columns={'施設名':'名称', '住所':'所在地'})[extract_columns]\n",
        "change_type(df_koutou_park)\n",
        "print(df_koutou_park.shape)"
      ],
      "metadata": {
        "id": "eJH2HE8H7dzZ",
        "outputId": "8d880c67-3286-4c2d-b447-f3411debdf3e",
        "colab": {
          "base_uri": "https://localhost:8080/"
        }
      },
      "execution_count": 94,
      "outputs": [
        {
          "output_type": "stream",
          "name": "stdout",
          "text": [
            "(171, 39)\n",
            "(171, 6)\n"
          ]
        }
      ]
    },
    {
      "cell_type": "markdown",
      "source": [
        "## 9. 品川区\n",
        "- [公共施設csvデータ](https://catalog.data.metro.tokyo.lg.jp/dataset/t131091d0000000003/resource/739098b6-e043-41ad-9b5b-f83481d09631)"
      ],
      "metadata": {
        "id": "q9jxzgLIvxhE"
      }
    },
    {
      "cell_type": "code",
      "source": [
        "url_shinagawa_facility = 'http://www.city.shinagawa.tokyo.jp/ct/other000081600/kokyoshisetsu.csv'\n",
        "df_shinagawa_facility = get_data_csv_url(url_shinagawa_facility, encoding='cp932')\n",
        "print(df_shinagawa_facility.shape)\n",
        "\n",
        "df_shinagawa_facility = df_shinagawa_facility.rename(columns={'住所': '所在地', '施設名':'名称', '説明(日本語)':'施設分類'})\n",
        "df_shinagawa_facility['市区町村名'] = '品川区'\n",
        "df_shinagawa_facility = df_shinagawa_facility[extract_columns]\n",
        "df_shinagawa_facility = df_shinagawa_facility[\n",
        "    (df_shinagawa_facility['施設分類'].isin(['公園', '児童遊園', '水辺広場']))\n",
        "].reset_index(drop=True)\n",
        "df_shinagawa_facility['施設分類'] = '公園'\n",
        "change_type(df_shinagawa_facility)\n",
        "print(df_shinagawa_facility.shape)"
      ],
      "metadata": {
        "id": "2vSsXnXA-hhx",
        "outputId": "eddfe890-a842-49d2-daa6-586cc363df04",
        "colab": {
          "base_uri": "https://localhost:8080/"
        }
      },
      "execution_count": 95,
      "outputs": [
        {
          "output_type": "stream",
          "name": "stdout",
          "text": [
            "(758, 20)\n",
            "(219, 6)\n"
          ]
        }
      ]
    },
    {
      "cell_type": "markdown",
      "source": [
        "## 10. 目黒区\n",
        "- [区立公園](https://catalog.data.metro.tokyo.lg.jp/dataset/t131105d0000000038/resource/1264013c-5458-409e-95be-208f0d78d51b)"
      ],
      "metadata": {
        "id": "99GocudOn0Bp"
      }
    },
    {
      "cell_type": "code",
      "source": [
        "megro_park_url = 'https://data.bodik.jp/dataset/9f7d70e4-d41f-4199-a180-eb2e3de6e728/resource/28badfb6-f33f-4b12-8ecc-ada279950cee/download/131105_park_20210401.csv'\n",
        "df_megro_park = get_data_csv_url(megro_park_url, 'cp932')\n",
        "print(df_megro_park.shape)\n",
        "\n",
        "df_megro_park['市区町村名'] = '目黒区'\n",
        "df_megro_park['施設分類'] = '公園'\n",
        "df_megro_park = df_megro_park[df_megro_park['面積（㎡）'] >= 500][extract_columns].reset_index(drop=True)\n",
        "change_type(df_megro_park)\n",
        "print(df_megro_park.shape)"
      ],
      "metadata": {
        "id": "wqvlg2mfn7oe",
        "outputId": "24cec85f-45ec-4c9f-fbb4-ebb311221c6f",
        "colab": {
          "base_uri": "https://localhost:8080/"
        }
      },
      "execution_count": 96,
      "outputs": [
        {
          "output_type": "stream",
          "name": "stdout",
          "text": [
            "(73, 23)\n",
            "(44, 6)\n"
          ]
        }
      ]
    },
    {
      "cell_type": "markdown",
      "source": [
        "## 11. 大田区\n",
        "- [公園一覧](https://catalog.data.metro.tokyo.lg.jp/dataset/t131113d0000000018/resource/6af8376d-0dc9-47f0-ad66-dd7e612f929c) -> Excelで緯度経度がない"
      ],
      "metadata": {
        "id": "b4WovfLRtplw"
      }
    },
    {
      "cell_type": "markdown",
      "source": [
        "## 12. 世田谷区\n",
        "- [トイレのある公園、身近な広場等一覧](https://www.city.setagaya.lg.jp/mokuji/kusei/012/015/001/001/d00192981.html) -> CSVでない"
      ],
      "metadata": {
        "id": "2w42i2Nt0e83"
      }
    },
    {
      "cell_type": "markdown",
      "source": [
        "## 13. 渋谷区\n",
        "- [公園一覧](https://catalog.data.metro.tokyo.lg.jp/dataset/t131130d0000000003/resource/46345b46-4f99-4342-abba-aabd6029bbb6)"
      ],
      "metadata": {
        "id": "M2Ql8T3r0h0P"
      }
    },
    {
      "cell_type": "code",
      "source": [
        "shibuya_park_url = 'https://www.city.shibuya.tokyo.jp/assets/mng/131130_park.csv'\n",
        "df_shibuya_park = get_data_csv_url(shibuya_park_url)\n",
        "print(df_shibuya_park.shape)\n",
        "\n",
        "df_shibuya_park['施設分類'] = '公園'\n",
        "df_shibuya_park = df_shibuya_park.rename(columns={'住所': '所在地'})\n",
        "df_shibuya_park = df_shibuya_park[df_shibuya_park['面積（平方メートル）'] >= 500][extract_columns].reset_index(drop=True)\n",
        "change_type(df_shibuya_park)\n",
        "print(df_shibuya_park.shape)"
      ],
      "metadata": {
        "id": "Mqag1PfKBVKK",
        "outputId": "9e586a6b-2c14-47c1-b9ef-12bd97769472",
        "colab": {
          "base_uri": "https://localhost:8080/"
        }
      },
      "execution_count": 97,
      "outputs": [
        {
          "output_type": "stream",
          "name": "stdout",
          "text": [
            "(127, 17)\n",
            "(66, 6)\n"
          ]
        }
      ]
    },
    {
      "cell_type": "markdown",
      "source": [
        "## 14. 中野区\n",
        "- [中野区オープンデータ 公共施設一覧（公園等）](https://www.city.tokyo-nakano.lg.jp/dept/158100/d027582.html)"
      ],
      "metadata": {
        "id": "G7Dkz-Hjwtnn"
      }
    },
    {
      "cell_type": "code",
      "source": [
        "nakano_park_url = 'https://www.city.tokyo-nakano.lg.jp/dept/158100/d027582_d/fil/131148_public_facility_k.csv'\n",
        "df_nakano_park = get_data_csv_url(nakano_park_url)\n",
        "print(df_nakano_park.shape)\n",
        "\n",
        "df_nakano_park['施設分類'] = '公園'\n",
        "df_nakano_park = df_nakano_park.rename(columns={'住所': '所在地'})\n",
        "df_nakano_park = df_nakano_park[extract_columns]\n",
        "change_type(df_nakano_park)\n",
        "print(df_nakano_park.shape)"
      ],
      "metadata": {
        "id": "wQ2PDb9rCtjK",
        "outputId": "358f2155-a226-43ce-87e5-db7aa8648451",
        "colab": {
          "base_uri": "https://localhost:8080/"
        }
      },
      "execution_count": 98,
      "outputs": [
        {
          "output_type": "stream",
          "name": "stdout",
          "text": [
            "(188, 39)\n",
            "(188, 6)\n"
          ]
        }
      ]
    },
    {
      "cell_type": "markdown",
      "source": [
        "## 15. 杉並区\n",
        "- [オープンデータ一覧](https://www2.wagmap.jp/suginami/opendata?type=shp&ly=930)"
      ],
      "metadata": {
        "id": "hSjl7KggpvrQ"
      }
    },
    {
      "cell_type": "code",
      "source": [
        "df_suginami_park = pd.read_csv(os.path.join(DIR_NAME, 'original/杉並区_公園.csv'))\n",
        "print(df_suginami_park.shape)\n",
        "\n",
        "df_suginami_park = df_suginami_park[df_suginami_park['分類'].str.strip() == '公園']\n",
        "df_suginami_park['市区町村名'] = '杉並区'\n",
        "df_suginami_park['施設分類'] = '公園'\n",
        "df_suginami_park = df_suginami_park.rename(columns={'住所':'所在地'})[extract_columns]\n",
        "print(df_suginami_park.shape)"
      ],
      "metadata": {
        "id": "g5hbxUr2rP5g",
        "outputId": "be8c3bc8-986b-4f21-855b-11d279419f16",
        "colab": {
          "base_uri": "https://localhost:8080/"
        }
      },
      "execution_count": 99,
      "outputs": [
        {
          "output_type": "stream",
          "name": "stdout",
          "text": [
            "(357, 9)\n",
            "(335, 6)\n"
          ]
        }
      ]
    },
    {
      "cell_type": "markdown",
      "source": [
        "## 16. 豊島区\n",
        "- [公共施設一覧](https://catalog.data.metro.tokyo.lg.jp/dataset/t131164d0000000010/resource/472e6a97-b350-4909-a939-76530a570324)"
      ],
      "metadata": {
        "id": "RL7zKUAz0bBI"
      }
    },
    {
      "cell_type": "code",
      "source": [
        "url_toshima_facility = 'https://www.opendata.metro.tokyo.lg.jp/toyoshima/R4_public_facility.csv'\n",
        "df_toshima_facility = get_data_csv_url(url_toshima_facility, encoding='cp932')\n",
        "print(df_toshima_facility.shape)\n",
        "\n",
        "df_toshima_facility = df_toshima_facility.rename(columns={'住所': '所在地'})\n",
        "df_toshima_facility['施設分類'] = df_toshima_facility['名称'].apply(get_category_facility)\n",
        "df_toshima_facility = df_toshima_facility[extract_columns]\n",
        "df_toshima_facility = df_toshima_facility[\n",
        "    (df_toshima_facility['施設分類'] == '公園')\n",
        "].reset_index(drop=True)\n",
        "change_type(df_toshima_facility)\n",
        "print(df_toshima_facility.shape)"
      ],
      "metadata": {
        "id": "EsxQYBw7ElDu",
        "outputId": "65447a0c-35d0-4edb-a0d9-99185f4b2780",
        "colab": {
          "base_uri": "https://localhost:8080/"
        }
      },
      "execution_count": 100,
      "outputs": [
        {
          "output_type": "stream",
          "name": "stdout",
          "text": [
            "(538, 24)\n",
            "(160, 6)\n"
          ]
        }
      ]
    },
    {
      "cell_type": "markdown",
      "source": [
        "## 17. 北区\n",
        "- [公園案内（北区内の公園・児童遊園）](https://www.city.kita.tokyo.jp/d-douro/jutaku/koen/annai.html) -> CSVでない"
      ],
      "metadata": {
        "id": "u9OKlv_M0WpZ"
      }
    },
    {
      "cell_type": "markdown",
      "source": [
        "## 18. 荒川区\n",
        "- [公園](https://www.city.arakawa.tokyo.jp/koen/koen/index.html) -> 一覧はない"
      ],
      "metadata": {
        "id": "zy6eSKS20T2p"
      }
    },
    {
      "cell_type": "markdown",
      "source": [
        "## 19. 板橋区\n",
        "- [公園・公衆便所オープンデータ](https://catalog.data.metro.tokyo.lg.jp/dataset/t131199d0000001151/resource/8bfab687-375e-4634-b1f6-dca56b34fe4c)\n",
        "- [どこでも誰でもおでかけマップオープンデータ（公園）](https://catalog.data.metro.tokyo.lg.jp/dataset/t131199d0000000767/resource/c56d0887-9536-4c92-a965-8ee0a94d28a5)"
      ],
      "metadata": {
        "id": "VUkqCI22urni"
      }
    },
    {
      "cell_type": "code",
      "source": [
        "url_itabashi_park = 'https://www.city.itabashi.tokyo.jp/_res/projects/default_project/_page_/001/014/717/20200401.xlsx'\n",
        "df_itabashi_park = get_data_csv_url(url_itabashi_park, excel=True)\n",
        "print(df_itabashi_park.shape)\n",
        "\n",
        "df_itabashi_park['市区町村名'] = '板橋区'\n",
        "df_itabashi_park['施設分類'] = '公園'\n",
        "df_itabashi_park = df_itabashi_park.rename(columns={'住所':'所在地'})[extract_columns]\n",
        "change_type(df_itabashi_park)\n",
        "print(df_itabashi_park.shape)"
      ],
      "metadata": {
        "id": "tTmDLX5BGJiO",
        "outputId": "80c86f67-d040-4cec-a5ed-dd6e0c891150",
        "colab": {
          "base_uri": "https://localhost:8080/"
        }
      },
      "execution_count": 101,
      "outputs": [
        {
          "output_type": "stream",
          "name": "stdout",
          "text": [
            "(230, 20)\n",
            "(230, 6)\n"
          ]
        },
        {
          "output_type": "stream",
          "name": "stderr",
          "text": [
            "/usr/local/lib/python3.7/dist-packages/openpyxl/worksheet/header_footer.py:48: UserWarning: Cannot parse header or footer so it will be ignored\n",
            "  warn(\"\"\"Cannot parse header or footer so it will be ignored\"\"\")\n"
          ]
        }
      ]
    },
    {
      "cell_type": "markdown",
      "source": [
        "## 20. 練馬区\n",
        "- [その他区立公園など（公園等一覧）](https://www.city.nerima.tokyo.jp/kankomoyoshi/annai/fukei/nerima_park/kunai/kouen-itiran.html) -> CSVでない"
      ],
      "metadata": {
        "id": "IrUQq4O1R_U-"
      }
    },
    {
      "cell_type": "code",
      "source": [
        "%%time\n",
        "df_nerima_park = pd.read_csv(os.path.join(DIR_NAME, 'original/練馬区_公園.csv'))\n",
        "print(df_nerima_park.shape)\n",
        "\n",
        "df_nerima_park = df_nerima_park[df_nerima_park['所在地'].notna()].reset_index(drop=True)\n",
        "df_nerima_park['市区町村名'] = '練馬区'\n",
        "df_nerima_park['施設分類'] = '公園'\n",
        "df_nerima_park['町丁目'] = df_nerima_park['所在地'].apply(lambda x: x.split('-')[0]+'丁目')\n",
        "df_nerima_park['面積'] = df_nerima_park['面積'].str.replace(',', '').astype(float)\n",
        "df_nerima_park = df_nerima_park[df_nerima_park['面積'] >= 500]  # 面積の小さい公園は除く\n",
        "df_nerima_park = df_nerima_park.rename(columns={'園名':'名称'})\n",
        "\n",
        "df_nerima_park = add_lat_lon(df_nerima_park)[extract_columns].reset_index(drop=True)\n",
        "print(df_nerima_park.shape)"
      ],
      "metadata": {
        "id": "pwvTvknwqyhj",
        "outputId": "6b1ba13a-89ca-4620-b934-922294831353",
        "colab": {
          "base_uri": "https://localhost:8080/"
        }
      },
      "execution_count": 103,
      "outputs": [
        {
          "output_type": "stream",
          "name": "stdout",
          "text": [
            "(734, 3)\n",
            "163 練馬区 栄町四十丁目\n",
            "357 練馬区 立野町一八丁目\n",
            "359 練馬区 立野町三二丁目\n",
            "(309, 6)\n",
            "CPU times: user 3.93 s, sys: 232 ms, total: 4.16 s\n",
            "Wall time: 2min 34s\n"
          ]
        }
      ]
    },
    {
      "cell_type": "markdown",
      "source": [
        "## 21. 足立区\n",
        "- [公園・児童遊園・プチテラス・便所のデータ](https://www.city.adachi.tokyo.jp/t-iji/kouenbinran.html) -> 緯度経度がない"
      ],
      "metadata": {
        "id": "wnKQ_F6h0Hw6"
      }
    },
    {
      "cell_type": "markdown",
      "source": [
        "## 22. 葛飾区\n",
        "- [公園](https://catalog.data.metro.tokyo.lg.jp/dataset/t131229d0000000002/resource/8b0d0b9c-ea4f-40e0-af24-fea29078bc0e)"
      ],
      "metadata": {
        "id": "gQjDqsH_0Llk"
      }
    },
    {
      "cell_type": "code",
      "source": [
        "url_katsushika_park = 'https://www.opendata.metro.tokyo.lg.jp/suisyoudataset/131229__public_facility_6.csv'\n",
        "df_katsushika_park = get_data_csv_url(url_katsushika_park, encoding='shift-jis')\n",
        "df_katsushika_park = df_katsushika_park.dropna(how='all')\n",
        "print(df_katsushika_park.shape)\n",
        "\n",
        "df_katsushika_park = df_katsushika_park[df_katsushika_park['データセット名'].notna()].reset_index(drop=True)\n",
        "df_katsushika_park['施設分類'] = '公園'\n",
        "df_katsushika_park = df_katsushika_park.rename(columns={'名称（例）':'名称', '住所':'所在地', '軽度':'経度'})[extract_columns]\n",
        "change_type(df_katsushika_park)\n",
        "print(df_katsushika_park.shape)"
      ],
      "metadata": {
        "id": "WRDm1JReHQHd",
        "outputId": "8b9c0373-6cf4-471d-9127-2a3622939c60",
        "colab": {
          "base_uri": "https://localhost:8080/"
        }
      },
      "execution_count": 86,
      "outputs": [
        {
          "output_type": "stream",
          "name": "stderr",
          "text": [
            "/usr/local/lib/python3.7/dist-packages/ipykernel_launcher.py:2: DtypeWarning: Columns (2,3,4,5,7,8,9,12,20,22,24,25,39) have mixed types.Specify dtype option on import or set low_memory=False.\n",
            "  \n"
          ]
        },
        {
          "output_type": "stream",
          "name": "stdout",
          "text": [
            "(26, 40)\n",
            "(25, 6)\n"
          ]
        }
      ]
    },
    {
      "cell_type": "markdown",
      "source": [
        "## 23. 江戸川区\n",
        "- [公園・親水公園・動物園](https://www.city.edogawa.tokyo.jp/e066/kuseijoho/gaiyo/shisetsuguide/bunya/koendobutsuen/index.html) -> CSVでない"
      ],
      "metadata": {
        "id": "ppaYDhfs0Ooq"
      }
    },
    {
      "cell_type": "markdown",
      "source": [
        "## 公園マスタ"
      ],
      "metadata": {
        "id": "9x6VJEBUSGeh"
      }
    },
    {
      "cell_type": "markdown",
      "source": [
        "|No.|区名|データ|\n",
        "|:----|:----|:----|\n",
        "|0|東京都|済み|\n",
        "|1|千代田区| |\n",
        "|2|中央区|済み|\n",
        "|3|港区|済み|\n",
        "|4|新宿区| |\n",
        "|5|文京区|済み|\n",
        "|6|台東区|済み|\n",
        "|7|墨田区|済み|\n",
        "|8|江東区|済み|\n",
        "|9|品川区|済み|\n",
        "|10|目黒区|済み|\n",
        "|11|大田区| |\n",
        "|12|世田谷区| |\n",
        "|13|渋谷区|済み|\n",
        "|14|中野区|済み|\n",
        "|15|杉並区|済み|\n",
        "|16|豊島区|済み|\n",
        "|17|北区| |\n",
        "|18|荒川区| |\n",
        "|19|板橋区|済み|\n",
        "|20|練馬区|済み|\n",
        "|21|足立区| |\n",
        "|22|葛飾区|済み|\n",
        "|23|江戸川区| |\n"
      ],
      "metadata": {
        "id": "YrYU6XXNxnu4"
      }
    },
    {
      "cell_type": "code",
      "source": [
        "df_park_master = pd.concat([\n",
        "    df_tokyo_public_facility,\n",
        "    df_chuou_park,\n",
        "    df_minato_park,\n",
        "    df_bunkyo_park,\n",
        "    df_taito_park,\n",
        "    df_sumida_park,\n",
        "    df_koutou_park,\n",
        "    df_shinagawa_facility,\n",
        "    df_megro_park,\n",
        "    df_shibuya_park,\n",
        "    df_nakano_park,\n",
        "    df_suginami_park,\n",
        "    df_toshima_facility,\n",
        "    df_itabashi_park,\n",
        "    df_nerima_park,\n",
        "    df_katsushika_park,\n",
        "]).reset_index(drop=True)\n",
        "print(df_park_master.shape)"
      ],
      "metadata": {
        "colab": {
          "base_uri": "https://localhost:8080/"
        },
        "id": "81JjNDiASF-3",
        "outputId": "f4af59fa-59b3-4b94-fd5c-be9e33c6f12b"
      },
      "execution_count": 114,
      "outputs": [
        {
          "output_type": "stream",
          "name": "stdout",
          "text": [
            "(2385, 6)\n"
          ]
        }
      ]
    },
    {
      "cell_type": "code",
      "source": [
        "df_park_master.head()"
      ],
      "metadata": {
        "colab": {
          "base_uri": "https://localhost:8080/",
          "height": 206
        },
        "id": "DuOMlpqHSKvK",
        "outputId": "77bc25f6-c5db-469f-f1cb-2f8be43df64c"
      },
      "execution_count": 115,
      "outputs": [
        {
          "output_type": "execute_result",
          "data": {
            "text/plain": [
              "  施設分類            名称 市区町村名                                    所在地         緯度  \\\n",
              "0   公園       お台場海浜公園    港区                          東京都港区台場一丁目４番地  35.630845   \n",
              "1   公園  シンボルプロムナード公園    港区  東京都港区台場一丁目・二丁目、江東区青海一丁目・二丁目、有明二丁目・三丁目  35.623908   \n",
              "2   公園       東八潮緑道公園   品川区                              東京都品川区東八潮  35.619315   \n",
              "3   公園       青海北ふ頭公園   江東区                            東京都江東区青海二丁目  35.618915   \n",
              "4   公園       青海南ふ頭公園   江東区                            東京都江東区青海二丁目  35.615663   \n",
              "\n",
              "           経度  \n",
              "0  139.776087  \n",
              "1  139.774430  \n",
              "2  139.771579  \n",
              "3  139.773785  \n",
              "4  139.776117  "
            ],
            "text/html": [
              "\n",
              "  <div id=\"df-c515c91b-ca94-4b68-b3e4-493d60010742\">\n",
              "    <div class=\"colab-df-container\">\n",
              "      <div>\n",
              "<style scoped>\n",
              "    .dataframe tbody tr th:only-of-type {\n",
              "        vertical-align: middle;\n",
              "    }\n",
              "\n",
              "    .dataframe tbody tr th {\n",
              "        vertical-align: top;\n",
              "    }\n",
              "\n",
              "    .dataframe thead th {\n",
              "        text-align: right;\n",
              "    }\n",
              "</style>\n",
              "<table border=\"1\" class=\"dataframe\">\n",
              "  <thead>\n",
              "    <tr style=\"text-align: right;\">\n",
              "      <th></th>\n",
              "      <th>施設分類</th>\n",
              "      <th>名称</th>\n",
              "      <th>市区町村名</th>\n",
              "      <th>所在地</th>\n",
              "      <th>緯度</th>\n",
              "      <th>経度</th>\n",
              "    </tr>\n",
              "  </thead>\n",
              "  <tbody>\n",
              "    <tr>\n",
              "      <th>0</th>\n",
              "      <td>公園</td>\n",
              "      <td>お台場海浜公園</td>\n",
              "      <td>港区</td>\n",
              "      <td>東京都港区台場一丁目４番地</td>\n",
              "      <td>35.630845</td>\n",
              "      <td>139.776087</td>\n",
              "    </tr>\n",
              "    <tr>\n",
              "      <th>1</th>\n",
              "      <td>公園</td>\n",
              "      <td>シンボルプロムナード公園</td>\n",
              "      <td>港区</td>\n",
              "      <td>東京都港区台場一丁目・二丁目、江東区青海一丁目・二丁目、有明二丁目・三丁目</td>\n",
              "      <td>35.623908</td>\n",
              "      <td>139.774430</td>\n",
              "    </tr>\n",
              "    <tr>\n",
              "      <th>2</th>\n",
              "      <td>公園</td>\n",
              "      <td>東八潮緑道公園</td>\n",
              "      <td>品川区</td>\n",
              "      <td>東京都品川区東八潮</td>\n",
              "      <td>35.619315</td>\n",
              "      <td>139.771579</td>\n",
              "    </tr>\n",
              "    <tr>\n",
              "      <th>3</th>\n",
              "      <td>公園</td>\n",
              "      <td>青海北ふ頭公園</td>\n",
              "      <td>江東区</td>\n",
              "      <td>東京都江東区青海二丁目</td>\n",
              "      <td>35.618915</td>\n",
              "      <td>139.773785</td>\n",
              "    </tr>\n",
              "    <tr>\n",
              "      <th>4</th>\n",
              "      <td>公園</td>\n",
              "      <td>青海南ふ頭公園</td>\n",
              "      <td>江東区</td>\n",
              "      <td>東京都江東区青海二丁目</td>\n",
              "      <td>35.615663</td>\n",
              "      <td>139.776117</td>\n",
              "    </tr>\n",
              "  </tbody>\n",
              "</table>\n",
              "</div>\n",
              "      <button class=\"colab-df-convert\" onclick=\"convertToInteractive('df-c515c91b-ca94-4b68-b3e4-493d60010742')\"\n",
              "              title=\"Convert this dataframe to an interactive table.\"\n",
              "              style=\"display:none;\">\n",
              "        \n",
              "  <svg xmlns=\"http://www.w3.org/2000/svg\" height=\"24px\"viewBox=\"0 0 24 24\"\n",
              "       width=\"24px\">\n",
              "    <path d=\"M0 0h24v24H0V0z\" fill=\"none\"/>\n",
              "    <path d=\"M18.56 5.44l.94 2.06.94-2.06 2.06-.94-2.06-.94-.94-2.06-.94 2.06-2.06.94zm-11 1L8.5 8.5l.94-2.06 2.06-.94-2.06-.94L8.5 2.5l-.94 2.06-2.06.94zm10 10l.94 2.06.94-2.06 2.06-.94-2.06-.94-.94-2.06-.94 2.06-2.06.94z\"/><path d=\"M17.41 7.96l-1.37-1.37c-.4-.4-.92-.59-1.43-.59-.52 0-1.04.2-1.43.59L10.3 9.45l-7.72 7.72c-.78.78-.78 2.05 0 2.83L4 21.41c.39.39.9.59 1.41.59.51 0 1.02-.2 1.41-.59l7.78-7.78 2.81-2.81c.8-.78.8-2.07 0-2.86zM5.41 20L4 18.59l7.72-7.72 1.47 1.35L5.41 20z\"/>\n",
              "  </svg>\n",
              "      </button>\n",
              "      \n",
              "  <style>\n",
              "    .colab-df-container {\n",
              "      display:flex;\n",
              "      flex-wrap:wrap;\n",
              "      gap: 12px;\n",
              "    }\n",
              "\n",
              "    .colab-df-convert {\n",
              "      background-color: #E8F0FE;\n",
              "      border: none;\n",
              "      border-radius: 50%;\n",
              "      cursor: pointer;\n",
              "      display: none;\n",
              "      fill: #1967D2;\n",
              "      height: 32px;\n",
              "      padding: 0 0 0 0;\n",
              "      width: 32px;\n",
              "    }\n",
              "\n",
              "    .colab-df-convert:hover {\n",
              "      background-color: #E2EBFA;\n",
              "      box-shadow: 0px 1px 2px rgba(60, 64, 67, 0.3), 0px 1px 3px 1px rgba(60, 64, 67, 0.15);\n",
              "      fill: #174EA6;\n",
              "    }\n",
              "\n",
              "    [theme=dark] .colab-df-convert {\n",
              "      background-color: #3B4455;\n",
              "      fill: #D2E3FC;\n",
              "    }\n",
              "\n",
              "    [theme=dark] .colab-df-convert:hover {\n",
              "      background-color: #434B5C;\n",
              "      box-shadow: 0px 1px 3px 1px rgba(0, 0, 0, 0.15);\n",
              "      filter: drop-shadow(0px 1px 2px rgba(0, 0, 0, 0.3));\n",
              "      fill: #FFFFFF;\n",
              "    }\n",
              "  </style>\n",
              "\n",
              "      <script>\n",
              "        const buttonEl =\n",
              "          document.querySelector('#df-c515c91b-ca94-4b68-b3e4-493d60010742 button.colab-df-convert');\n",
              "        buttonEl.style.display =\n",
              "          google.colab.kernel.accessAllowed ? 'block' : 'none';\n",
              "\n",
              "        async function convertToInteractive(key) {\n",
              "          const element = document.querySelector('#df-c515c91b-ca94-4b68-b3e4-493d60010742');\n",
              "          const dataTable =\n",
              "            await google.colab.kernel.invokeFunction('convertToInteractive',\n",
              "                                                     [key], {});\n",
              "          if (!dataTable) return;\n",
              "\n",
              "          const docLinkHtml = 'Like what you see? Visit the ' +\n",
              "            '<a target=\"_blank\" href=https://colab.research.google.com/notebooks/data_table.ipynb>data table notebook</a>'\n",
              "            + ' to learn more about interactive tables.';\n",
              "          element.innerHTML = '';\n",
              "          dataTable['output_type'] = 'display_data';\n",
              "          await google.colab.output.renderOutput(dataTable, element);\n",
              "          const docLink = document.createElement('div');\n",
              "          docLink.innerHTML = docLinkHtml;\n",
              "          element.appendChild(docLink);\n",
              "        }\n",
              "      </script>\n",
              "    </div>\n",
              "  </div>\n",
              "  "
            ]
          },
          "metadata": {},
          "execution_count": 115
        }
      ]
    },
    {
      "cell_type": "code",
      "source": [
        "df_park_master.to_csv(os.path.join(DIR_NAME, 'park_master.csv'), index=False)"
      ],
      "metadata": {
        "id": "1kc_VsQUuL0V"
      },
      "execution_count": 116,
      "outputs": []
    },
    {
      "cell_type": "code",
      "source": [
        "# データがある区をリストアップ\n",
        "sr_park_count = df_park_master[df_park_master['施設分類'] == '公園']['市区町村名'].value_counts()\n",
        "ward_list = list(sr_park_count[sr_park_count > 10].index)\n",
        "print(len(ward_list))"
      ],
      "metadata": {
        "id": "mxCmxoMv03eQ",
        "outputId": "8724c4e2-568e-499b-ee14-ead53cdb049b",
        "colab": {
          "base_uri": "https://localhost:8080/"
        }
      },
      "execution_count": 118,
      "outputs": [
        {
          "output_type": "stream",
          "name": "stdout",
          "text": [
            "15\n"
          ]
        }
      ]
    },
    {
      "cell_type": "markdown",
      "source": [
        "## 人口マスタ"
      ],
      "metadata": {
        "id": "jdT3_lplSwOo"
      }
    },
    {
      "cell_type": "code",
      "source": [
        "population = pd.read_csv(os.path.join(DIR_NAME, 'population_master.csv'))\n",
        "print(population.shape)\n",
        "df_pop_master = population[population['市区町村名'].isin(ward_list)][['地域ID', '市区町村名', '町名', '町丁目', '緯度', '経度']].reset_index(drop=True)\n",
        "print(df_pop_master.shape)"
      ],
      "metadata": {
        "colab": {
          "base_uri": "https://localhost:8080/"
        },
        "id": "mmH8g81kP2Cb",
        "outputId": "02836b5a-a54a-4c3b-dc95-db4e75fa7a58"
      },
      "execution_count": 140,
      "outputs": [
        {
          "output_type": "stream",
          "name": "stdout",
          "text": [
            "(3145, 32)\n",
            "(1750, 6)\n"
          ]
        }
      ]
    },
    {
      "cell_type": "code",
      "source": [
        "def normalize_score(sr_data, high=True, outlier=True):\n",
        "    score = (sr_data - sr_data.mean())/sr_data.std()\n",
        "    score = score if high else -score\n",
        "\n",
        "    if outlier:\n",
        "        high_s = score.quantile(0.99)\n",
        "        low_s = score.quantile(0.01)\n",
        "        score[score > high_s] = high_s\n",
        "        score[score < low_s] = low_s\n",
        "    else:\n",
        "        high_s = score.max()\n",
        "        low_s = score.min()\n",
        "        \n",
        "    return (score - low_s)/(high_s - low_s)\n",
        "\n",
        "\n",
        "def rank_score(sr_data):\n",
        "    size = sr_data.notna().sum()\n",
        "    rank = sr_data.rank()\n",
        "    result = rank.copy()\n",
        "    # 0~1: 15%, 1~2: 20%, 2~3: 30%, 3~4: 20%, 4~5: 15%\n",
        "    level_list = [0.15, (0.15+0.2), (0.15+0.2+0.3), (0.15+0.2+0.3+0.2), 1]\n",
        "    \n",
        "    pre_level = 0\n",
        "    for index, level in enumerate([lv*size for lv in level_list]):\n",
        "        result[(rank > pre_level)&(rank <= level)] = (rank - pre_level)/(level - pre_level) + index\n",
        "        pre_level = level\n",
        "\n",
        "    return result"
      ],
      "metadata": {
        "id": "qsPRvvbUTnlK"
      },
      "execution_count": 141,
      "outputs": []
    },
    {
      "cell_type": "markdown",
      "source": [
        "## 公園スコア"
      ],
      "metadata": {
        "id": "E5-It_S7RmkQ"
      }
    },
    {
      "cell_type": "code",
      "source": [
        "%%time\n",
        "# 近い5件の距離の平均\n",
        "df_pop_master['公園(平均距離)'] = get_value_of_nearest_facility(df_pop_master, df_park_master, '公園', 'mean', 5)\n",
        "# 1km以内の施設の数\n",
        "df_pop_master['公園(数)'] = get_value_of_nearest_facility(df_pop_master, df_park_master, '公園', 'count', 1)"
      ],
      "metadata": {
        "colab": {
          "base_uri": "https://localhost:8080/"
        },
        "id": "sn7VhpDmQJsi",
        "outputId": "da65f500-96af-42d0-806c-6f29ae8037cf"
      },
      "execution_count": 142,
      "outputs": [
        {
          "output_type": "stream",
          "name": "stdout",
          "text": [
            "CPU times: user 2min 17s, sys: 339 ms, total: 2min 17s\n",
            "Wall time: 2min 22s\n"
          ]
        }
      ]
    },
    {
      "cell_type": "code",
      "source": [
        "print(df_pop_master.shape)\n",
        "df_pop_master.head()"
      ],
      "metadata": {
        "colab": {
          "base_uri": "https://localhost:8080/",
          "height": 224
        },
        "id": "pNI5D7LZTJE3",
        "outputId": "66aba4f3-ae73-40c4-de3f-a26347ef1494"
      },
      "execution_count": 143,
      "outputs": [
        {
          "output_type": "stream",
          "name": "stdout",
          "text": [
            "(1750, 8)\n"
          ]
        },
        {
          "output_type": "execute_result",
          "data": {
            "text/plain": [
              "     地域ID 市区町村名      町名     町丁目         緯度          経度  公園(平均距離)  公園(数)\n",
              "0  102002   中央区  八重洲２丁目  八重洲２丁目  35.677869  139.768534  0.739098      9\n",
              "1  102004   中央区      京橋   京橋１丁目  35.678156  139.772672  0.583289     10\n",
              "2  102005   中央区      京橋   京橋２丁目  35.676659  139.771529  0.603255     12\n",
              "3  102006   中央区      京橋   京橋３丁目  35.675439  139.770196  0.633105     12\n",
              "4  102008   中央区      銀座   銀座１丁目  35.674347  139.767033  0.728927      8"
            ],
            "text/html": [
              "\n",
              "  <div id=\"df-f3a468d2-9dfb-486d-9bc1-bfc639460cd3\">\n",
              "    <div class=\"colab-df-container\">\n",
              "      <div>\n",
              "<style scoped>\n",
              "    .dataframe tbody tr th:only-of-type {\n",
              "        vertical-align: middle;\n",
              "    }\n",
              "\n",
              "    .dataframe tbody tr th {\n",
              "        vertical-align: top;\n",
              "    }\n",
              "\n",
              "    .dataframe thead th {\n",
              "        text-align: right;\n",
              "    }\n",
              "</style>\n",
              "<table border=\"1\" class=\"dataframe\">\n",
              "  <thead>\n",
              "    <tr style=\"text-align: right;\">\n",
              "      <th></th>\n",
              "      <th>地域ID</th>\n",
              "      <th>市区町村名</th>\n",
              "      <th>町名</th>\n",
              "      <th>町丁目</th>\n",
              "      <th>緯度</th>\n",
              "      <th>経度</th>\n",
              "      <th>公園(平均距離)</th>\n",
              "      <th>公園(数)</th>\n",
              "    </tr>\n",
              "  </thead>\n",
              "  <tbody>\n",
              "    <tr>\n",
              "      <th>0</th>\n",
              "      <td>102002</td>\n",
              "      <td>中央区</td>\n",
              "      <td>八重洲２丁目</td>\n",
              "      <td>八重洲２丁目</td>\n",
              "      <td>35.677869</td>\n",
              "      <td>139.768534</td>\n",
              "      <td>0.739098</td>\n",
              "      <td>9</td>\n",
              "    </tr>\n",
              "    <tr>\n",
              "      <th>1</th>\n",
              "      <td>102004</td>\n",
              "      <td>中央区</td>\n",
              "      <td>京橋</td>\n",
              "      <td>京橋１丁目</td>\n",
              "      <td>35.678156</td>\n",
              "      <td>139.772672</td>\n",
              "      <td>0.583289</td>\n",
              "      <td>10</td>\n",
              "    </tr>\n",
              "    <tr>\n",
              "      <th>2</th>\n",
              "      <td>102005</td>\n",
              "      <td>中央区</td>\n",
              "      <td>京橋</td>\n",
              "      <td>京橋２丁目</td>\n",
              "      <td>35.676659</td>\n",
              "      <td>139.771529</td>\n",
              "      <td>0.603255</td>\n",
              "      <td>12</td>\n",
              "    </tr>\n",
              "    <tr>\n",
              "      <th>3</th>\n",
              "      <td>102006</td>\n",
              "      <td>中央区</td>\n",
              "      <td>京橋</td>\n",
              "      <td>京橋３丁目</td>\n",
              "      <td>35.675439</td>\n",
              "      <td>139.770196</td>\n",
              "      <td>0.633105</td>\n",
              "      <td>12</td>\n",
              "    </tr>\n",
              "    <tr>\n",
              "      <th>4</th>\n",
              "      <td>102008</td>\n",
              "      <td>中央区</td>\n",
              "      <td>銀座</td>\n",
              "      <td>銀座１丁目</td>\n",
              "      <td>35.674347</td>\n",
              "      <td>139.767033</td>\n",
              "      <td>0.728927</td>\n",
              "      <td>8</td>\n",
              "    </tr>\n",
              "  </tbody>\n",
              "</table>\n",
              "</div>\n",
              "      <button class=\"colab-df-convert\" onclick=\"convertToInteractive('df-f3a468d2-9dfb-486d-9bc1-bfc639460cd3')\"\n",
              "              title=\"Convert this dataframe to an interactive table.\"\n",
              "              style=\"display:none;\">\n",
              "        \n",
              "  <svg xmlns=\"http://www.w3.org/2000/svg\" height=\"24px\"viewBox=\"0 0 24 24\"\n",
              "       width=\"24px\">\n",
              "    <path d=\"M0 0h24v24H0V0z\" fill=\"none\"/>\n",
              "    <path d=\"M18.56 5.44l.94 2.06.94-2.06 2.06-.94-2.06-.94-.94-2.06-.94 2.06-2.06.94zm-11 1L8.5 8.5l.94-2.06 2.06-.94-2.06-.94L8.5 2.5l-.94 2.06-2.06.94zm10 10l.94 2.06.94-2.06 2.06-.94-2.06-.94-.94-2.06-.94 2.06-2.06.94z\"/><path d=\"M17.41 7.96l-1.37-1.37c-.4-.4-.92-.59-1.43-.59-.52 0-1.04.2-1.43.59L10.3 9.45l-7.72 7.72c-.78.78-.78 2.05 0 2.83L4 21.41c.39.39.9.59 1.41.59.51 0 1.02-.2 1.41-.59l7.78-7.78 2.81-2.81c.8-.78.8-2.07 0-2.86zM5.41 20L4 18.59l7.72-7.72 1.47 1.35L5.41 20z\"/>\n",
              "  </svg>\n",
              "      </button>\n",
              "      \n",
              "  <style>\n",
              "    .colab-df-container {\n",
              "      display:flex;\n",
              "      flex-wrap:wrap;\n",
              "      gap: 12px;\n",
              "    }\n",
              "\n",
              "    .colab-df-convert {\n",
              "      background-color: #E8F0FE;\n",
              "      border: none;\n",
              "      border-radius: 50%;\n",
              "      cursor: pointer;\n",
              "      display: none;\n",
              "      fill: #1967D2;\n",
              "      height: 32px;\n",
              "      padding: 0 0 0 0;\n",
              "      width: 32px;\n",
              "    }\n",
              "\n",
              "    .colab-df-convert:hover {\n",
              "      background-color: #E2EBFA;\n",
              "      box-shadow: 0px 1px 2px rgba(60, 64, 67, 0.3), 0px 1px 3px 1px rgba(60, 64, 67, 0.15);\n",
              "      fill: #174EA6;\n",
              "    }\n",
              "\n",
              "    [theme=dark] .colab-df-convert {\n",
              "      background-color: #3B4455;\n",
              "      fill: #D2E3FC;\n",
              "    }\n",
              "\n",
              "    [theme=dark] .colab-df-convert:hover {\n",
              "      background-color: #434B5C;\n",
              "      box-shadow: 0px 1px 3px 1px rgba(0, 0, 0, 0.15);\n",
              "      filter: drop-shadow(0px 1px 2px rgba(0, 0, 0, 0.3));\n",
              "      fill: #FFFFFF;\n",
              "    }\n",
              "  </style>\n",
              "\n",
              "      <script>\n",
              "        const buttonEl =\n",
              "          document.querySelector('#df-f3a468d2-9dfb-486d-9bc1-bfc639460cd3 button.colab-df-convert');\n",
              "        buttonEl.style.display =\n",
              "          google.colab.kernel.accessAllowed ? 'block' : 'none';\n",
              "\n",
              "        async function convertToInteractive(key) {\n",
              "          const element = document.querySelector('#df-f3a468d2-9dfb-486d-9bc1-bfc639460cd3');\n",
              "          const dataTable =\n",
              "            await google.colab.kernel.invokeFunction('convertToInteractive',\n",
              "                                                     [key], {});\n",
              "          if (!dataTable) return;\n",
              "\n",
              "          const docLinkHtml = 'Like what you see? Visit the ' +\n",
              "            '<a target=\"_blank\" href=https://colab.research.google.com/notebooks/data_table.ipynb>data table notebook</a>'\n",
              "            + ' to learn more about interactive tables.';\n",
              "          element.innerHTML = '';\n",
              "          dataTable['output_type'] = 'display_data';\n",
              "          await google.colab.output.renderOutput(dataTable, element);\n",
              "          const docLink = document.createElement('div');\n",
              "          docLink.innerHTML = docLinkHtml;\n",
              "          element.appendChild(docLink);\n",
              "        }\n",
              "      </script>\n",
              "    </div>\n",
              "  </div>\n",
              "  "
            ]
          },
          "metadata": {},
          "execution_count": 143
        }
      ]
    },
    {
      "cell_type": "code",
      "source": [
        "score_name = '公園スコア'\n",
        "feature_list = {\n",
        "    '公園(平均距離)':       {'high': False, 'outlier': True, 'weight': 1}, \n",
        "    '公園(数)':             {'high': True, 'outlier': False, 'weight': 1},\n",
        "}"
      ],
      "metadata": {
        "id": "aWAReelgRXoG"
      },
      "execution_count": 144,
      "outputs": []
    },
    {
      "cell_type": "code",
      "source": [
        "for feature_name in feature_list.keys():\n",
        "    sns.histplot(df_pop_master[feature_name], bins=20)\n",
        "    plt.show()"
      ],
      "metadata": {
        "id": "Onguh3i3RhjQ",
        "outputId": "b9f5e88d-22a9-4b03-c8f9-06a5e59ea799",
        "colab": {
          "base_uri": "https://localhost:8080/",
          "height": 539
        }
      },
      "execution_count": 145,
      "outputs": [
        {
          "output_type": "display_data",
          "data": {
            "text/plain": [
              "<Figure size 432x288 with 1 Axes>"
            ],
            "image/png": "[encoded data removed]"
          },
          "metadata": {
            "needs_background": "light"
          }
        },
        {
          "output_type": "display_data",
          "data": {
            "text/plain": [
              "<Figure size 432x288 with 1 Axes>"
            ],
            "image/png": "[encoded data removed]"
          },
          "metadata": {
            "needs_background": "light"
          }
        }
      ]
    },
    {
      "cell_type": "code",
      "source": [
        "for key, value in feature_list.items():\n",
        "    df_pop_master[f'{key}レベル'] = normalize_score(df_pop_master[key], high=value['high'], outlier=value['outlier'])\n",
        "    sns.histplot(df_pop_master[f'{key}レベル'], bins=20)\n",
        "    plt.show()"
      ],
      "metadata": {
        "id": "O_t4w8yzRwTg",
        "outputId": "859cecce-fb4c-4bd1-cff8-9598fb64c0a0",
        "colab": {
          "base_uri": "https://localhost:8080/",
          "height": 539
        }
      },
      "execution_count": 146,
      "outputs": [
        {
          "output_type": "display_data",
          "data": {
            "text/plain": [
              "<Figure size 432x288 with 1 Axes>"
            ],
            "image/png": "[encoded data removed]"
          },
          "metadata": {
            "needs_background": "light"
          }
        },
        {
          "output_type": "display_data",
          "data": {
            "text/plain": [
              "<Figure size 432x288 with 1 Axes>"
            ],
            "image/png": "[encoded data removed]"
          },
          "metadata": {
            "needs_background": "light"
          }
        }
      ]
    },
    {
      "cell_type": "code",
      "source": [
        "score_list = []\n",
        "for key, value in feature_list.items():\n",
        "    score_list.append(df_pop_master[f'{key}レベル'] * value['weight'])\n",
        "\n",
        "score_sub_name = '_' + score_name\n",
        "df_pop_master[score_sub_name] = normalize_score(pd.concat(score_list, axis=1).sum(axis=1, skipna=False), outlier=False)\n",
        "df_pop_master[score_name] = rank_score(df_pop_master[score_sub_name])\n",
        "\n",
        "total_score_list = [score_sub_name, score_name]\n",
        "for _score in total_score_list:\n",
        "    sns.histplot(df_pop_master[_score], bins=20)\n",
        "    plt.show()"
      ],
      "metadata": {
        "id": "KGwzR6tmR0jG",
        "outputId": "6ea312fe-1061-4253-df66-71af1bb5ad8f",
        "colab": {
          "base_uri": "https://localhost:8080/",
          "height": 537
        }
      },
      "execution_count": 147,
      "outputs": [
        {
          "output_type": "display_data",
          "data": {
            "text/plain": [
              "<Figure size 432x288 with 1 Axes>"
            ],
            "image/png": "[encoded data removed]"
          },
          "metadata": {
            "needs_background": "light"
          }
        },
        {
          "output_type": "display_data",
          "data": {
            "text/plain": [
              "<Figure size 432x288 with 1 Axes>"
            ],
            "image/png": "[encoded data removed]"
          },
          "metadata": {
            "needs_background": "light"
          }
        }
      ]
    },
    {
      "cell_type": "code",
      "source": [
        "df_pop_master.head()"
      ],
      "metadata": {
        "id": "1A2uhFPUR5pO",
        "outputId": "e4ef1586-c392-4e27-d52d-a3ddab4ce56b",
        "colab": {
          "base_uri": "https://localhost:8080/",
          "height": 250
        }
      },
      "execution_count": 148,
      "outputs": [
        {
          "output_type": "execute_result",
          "data": {
            "text/plain": [
              "     地域ID 市区町村名      町名     町丁目         緯度          経度  公園(平均距離)  公園(数)  \\\n",
              "0  102002   中央区  八重洲２丁目  八重洲２丁目  35.677869  139.768534  0.739098      9   \n",
              "1  102004   中央区      京橋   京橋１丁目  35.678156  139.772672  0.583289     10   \n",
              "2  102005   中央区      京橋   京橋２丁目  35.676659  139.771529  0.603255     12   \n",
              "3  102006   中央区      京橋   京橋３丁目  35.675439  139.770196  0.633105     12   \n",
              "4  102008   中央区      銀座   銀座１丁目  35.674347  139.767033  0.728927      8   \n",
              "\n",
              "   公園(平均距離)レベル  公園(数)レベル    _公園スコア     公園スコア  \n",
              "0     0.495487  0.187500  0.357888  0.751335  \n",
              "1     0.617917  0.208333  0.432958  1.016590  \n",
              "2     0.602228  0.250000  0.446570  1.076659  \n",
              "3     0.578773  0.250000  0.434280  1.030892  \n",
              "4     0.503479  0.166667  0.351159  0.736079  "
            ],
            "text/html": [
              "\n",
              "  <div id=\"df-b78b11ad-90ae-493b-90a4-56ae483b6acb\">\n",
              "    <div class=\"colab-df-container\">\n",
              "      <div>\n",
              "<style scoped>\n",
              "    .dataframe tbody tr th:only-of-type {\n",
              "        vertical-align: middle;\n",
              "    }\n",
              "\n",
              "    .dataframe tbody tr th {\n",
              "        vertical-align: top;\n",
              "    }\n",
              "\n",
              "    .dataframe thead th {\n",
              "        text-align: right;\n",
              "    }\n",
              "</style>\n",
              "<table border=\"1\" class=\"dataframe\">\n",
              "  <thead>\n",
              "    <tr style=\"text-align: right;\">\n",
              "      <th></th>\n",
              "      <th>地域ID</th>\n",
              "      <th>市区町村名</th>\n",
              "      <th>町名</th>\n",
              "      <th>町丁目</th>\n",
              "      <th>緯度</th>\n",
              "      <th>経度</th>\n",
              "      <th>公園(平均距離)</th>\n",
              "      <th>公園(数)</th>\n",
              "      <th>公園(平均距離)レベル</th>\n",
              "      <th>公園(数)レベル</th>\n",
              "      <th>_公園スコア</th>\n",
              "      <th>公園スコア</th>\n",
              "    </tr>\n",
              "  </thead>\n",
              "  <tbody>\n",
              "    <tr>\n",
              "      <th>0</th>\n",
              "      <td>102002</td>\n",
              "      <td>中央区</td>\n",
              "      <td>八重洲２丁目</td>\n",
              "      <td>八重洲２丁目</td>\n",
              "      <td>35.677869</td>\n",
              "      <td>139.768534</td>\n",
              "      <td>0.739098</td>\n",
              "      <td>9</td>\n",
              "      <td>0.495487</td>\n",
              "      <td>0.187500</td>\n",
              "      <td>0.357888</td>\n",
              "      <td>0.751335</td>\n",
              "    </tr>\n",
              "    <tr>\n",
              "      <th>1</th>\n",
              "      <td>102004</td>\n",
              "      <td>中央区</td>\n",
              "      <td>京橋</td>\n",
              "      <td>京橋１丁目</td>\n",
              "      <td>35.678156</td>\n",
              "      <td>139.772672</td>\n",
              "      <td>0.583289</td>\n",
              "      <td>10</td>\n",
              "      <td>0.617917</td>\n",
              "      <td>0.208333</td>\n",
              "      <td>0.432958</td>\n",
              "      <td>1.016590</td>\n",
              "    </tr>\n",
              "    <tr>\n",
              "      <th>2</th>\n",
              "      <td>102005</td>\n",
              "      <td>中央区</td>\n",
              "      <td>京橋</td>\n",
              "      <td>京橋２丁目</td>\n",
              "      <td>35.676659</td>\n",
              "      <td>139.771529</td>\n",
              "      <td>0.603255</td>\n",
              "      <td>12</td>\n",
              "      <td>0.602228</td>\n",
              "      <td>0.250000</td>\n",
              "      <td>0.446570</td>\n",
              "      <td>1.076659</td>\n",
              "    </tr>\n",
              "    <tr>\n",
              "      <th>3</th>\n",
              "      <td>102006</td>\n",
              "      <td>中央区</td>\n",
              "      <td>京橋</td>\n",
              "      <td>京橋３丁目</td>\n",
              "      <td>35.675439</td>\n",
              "      <td>139.770196</td>\n",
              "      <td>0.633105</td>\n",
              "      <td>12</td>\n",
              "      <td>0.578773</td>\n",
              "      <td>0.250000</td>\n",
              "      <td>0.434280</td>\n",
              "      <td>1.030892</td>\n",
              "    </tr>\n",
              "    <tr>\n",
              "      <th>4</th>\n",
              "      <td>102008</td>\n",
              "      <td>中央区</td>\n",
              "      <td>銀座</td>\n",
              "      <td>銀座１丁目</td>\n",
              "      <td>35.674347</td>\n",
              "      <td>139.767033</td>\n",
              "      <td>0.728927</td>\n",
              "      <td>8</td>\n",
              "      <td>0.503479</td>\n",
              "      <td>0.166667</td>\n",
              "      <td>0.351159</td>\n",
              "      <td>0.736079</td>\n",
              "    </tr>\n",
              "  </tbody>\n",
              "</table>\n",
              "</div>\n",
              "      <button class=\"colab-df-convert\" onclick=\"convertToInteractive('df-b78b11ad-90ae-493b-90a4-56ae483b6acb')\"\n",
              "              title=\"Convert this dataframe to an interactive table.\"\n",
              "              style=\"display:none;\">\n",
              "        \n",
              "  <svg xmlns=\"http://www.w3.org/2000/svg\" height=\"24px\"viewBox=\"0 0 24 24\"\n",
              "       width=\"24px\">\n",
              "    <path d=\"M0 0h24v24H0V0z\" fill=\"none\"/>\n",
              "    <path d=\"M18.56 5.44l.94 2.06.94-2.06 2.06-.94-2.06-.94-.94-2.06-.94 2.06-2.06.94zm-11 1L8.5 8.5l.94-2.06 2.06-.94-2.06-.94L8.5 2.5l-.94 2.06-2.06.94zm10 10l.94 2.06.94-2.06 2.06-.94-2.06-.94-.94-2.06-.94 2.06-2.06.94z\"/><path d=\"M17.41 7.96l-1.37-1.37c-.4-.4-.92-.59-1.43-.59-.52 0-1.04.2-1.43.59L10.3 9.45l-7.72 7.72c-.78.78-.78 2.05 0 2.83L4 21.41c.39.39.9.59 1.41.59.51 0 1.02-.2 1.41-.59l7.78-7.78 2.81-2.81c.8-.78.8-2.07 0-2.86zM5.41 20L4 18.59l7.72-7.72 1.47 1.35L5.41 20z\"/>\n",
              "  </svg>\n",
              "      </button>\n",
              "      \n",
              "  <style>\n",
              "    .colab-df-container {\n",
              "      display:flex;\n",
              "      flex-wrap:wrap;\n",
              "      gap: 12px;\n",
              "    }\n",
              "\n",
              "    .colab-df-convert {\n",
              "      background-color: #E8F0FE;\n",
              "      border: none;\n",
              "      border-radius: 50%;\n",
              "      cursor: pointer;\n",
              "      display: none;\n",
              "      fill: #1967D2;\n",
              "      height: 32px;\n",
              "      padding: 0 0 0 0;\n",
              "      width: 32px;\n",
              "    }\n",
              "\n",
              "    .colab-df-convert:hover {\n",
              "      background-color: #E2EBFA;\n",
              "      box-shadow: 0px 1px 2px rgba(60, 64, 67, 0.3), 0px 1px 3px 1px rgba(60, 64, 67, 0.15);\n",
              "      fill: #174EA6;\n",
              "    }\n",
              "\n",
              "    [theme=dark] .colab-df-convert {\n",
              "      background-color: #3B4455;\n",
              "      fill: #D2E3FC;\n",
              "    }\n",
              "\n",
              "    [theme=dark] .colab-df-convert:hover {\n",
              "      background-color: #434B5C;\n",
              "      box-shadow: 0px 1px 3px 1px rgba(0, 0, 0, 0.15);\n",
              "      filter: drop-shadow(0px 1px 2px rgba(0, 0, 0, 0.3));\n",
              "      fill: #FFFFFF;\n",
              "    }\n",
              "  </style>\n",
              "\n",
              "      <script>\n",
              "        const buttonEl =\n",
              "          document.querySelector('#df-b78b11ad-90ae-493b-90a4-56ae483b6acb button.colab-df-convert');\n",
              "        buttonEl.style.display =\n",
              "          google.colab.kernel.accessAllowed ? 'block' : 'none';\n",
              "\n",
              "        async function convertToInteractive(key) {\n",
              "          const element = document.querySelector('#df-b78b11ad-90ae-493b-90a4-56ae483b6acb');\n",
              "          const dataTable =\n",
              "            await google.colab.kernel.invokeFunction('convertToInteractive',\n",
              "                                                     [key], {});\n",
              "          if (!dataTable) return;\n",
              "\n",
              "          const docLinkHtml = 'Like what you see? Visit the ' +\n",
              "            '<a target=\"_blank\" href=https://colab.research.google.com/notebooks/data_table.ipynb>data table notebook</a>'\n",
              "            + ' to learn more about interactive tables.';\n",
              "          element.innerHTML = '';\n",
              "          dataTable['output_type'] = 'display_data';\n",
              "          await google.colab.output.renderOutput(dataTable, element);\n",
              "          const docLink = document.createElement('div');\n",
              "          docLink.innerHTML = docLinkHtml;\n",
              "          element.appendChild(docLink);\n",
              "        }\n",
              "      </script>\n",
              "    </div>\n",
              "  </div>\n",
              "  "
            ]
          },
          "metadata": {},
          "execution_count": 148
        }
      ]
    },
    {
      "cell_type": "markdown",
      "source": [
        "## 保存"
      ],
      "metadata": {
        "id": "ySZnii0BU2mP"
      }
    },
    {
      "cell_type": "code",
      "source": [
        "df_pop_master[\n",
        "    ['地域ID', '市区町村名', '町丁目'] + list(feature_list.keys()) + total_score_list\n",
        "].to_csv(os.path.join(DIR_NAME, output_score_file), index=False)"
      ],
      "metadata": {
        "id": "zcsj2mFmSPIk"
      },
      "execution_count": 151,
      "outputs": []
    },
    {
      "cell_type": "code",
      "source": [
        "plt.figure(figsize=(15, 5))\n",
        "sns.barplot(x='市区町村名', y=score_name, data=df_pop_master)\n",
        "plt.show()"
      ],
      "metadata": {
        "colab": {
          "base_uri": "https://localhost:8080/",
          "height": 333
        },
        "id": "3tJjlj0keD_-",
        "outputId": "4cde84fb-eebb-4b1a-bce5-d192ce843c07"
      },
      "execution_count": 152,
      "outputs": [
        {
          "output_type": "display_data",
          "data": {
            "text/plain": [
              "<Figure size 1080x360 with 1 Axes>"
            ],
            "image/png": "[encoded data removed]"
          },
          "metadata": {
            "needs_background": "light"
          }
        }
      ]
    },
    {
      "cell_type": "code",
      "source": [
        "df_level = df_pop_master.copy()\n",
        "df_level['rank'] = df_level.groupby('町名')[score_name].transform('rank', ascending=False)\n",
        "df_level = df_level[df_level['rank'] == 1].sort_values(score_name, ascending=False)[\n",
        "    ['市区町村名', '町名', '町丁目'] + total_score_list + list(feature_list.keys())\n",
        "].reset_index(drop=True)\n",
        "print(df_level.shape)"
      ],
      "metadata": {
        "id": "1uo9GIIvStL_",
        "outputId": "5894cd12-c239-4405-8509-b014449963c5",
        "colab": {
          "base_uri": "https://localhost:8080/"
        }
      },
      "execution_count": 153,
      "outputs": [
        {
          "output_type": "stream",
          "name": "stdout",
          "text": [
            "(478, 7)\n"
          ]
        }
      ]
    },
    {
      "cell_type": "code",
      "source": [
        "df_level.head(20)"
      ],
      "metadata": {
        "colab": {
          "base_uri": "https://localhost:8080/",
          "height": 677
        },
        "id": "HmlzRQiaZZZC",
        "outputId": "6f852517-790e-4a8d-e451-cb34260d4c31"
      },
      "execution_count": 154,
      "outputs": [
        {
          "output_type": "execute_result",
          "data": {
            "text/plain": [
              "   市区町村名    町名      町丁目    _公園スコア     公園スコア  公園(平均距離)  公園(数)\n",
              "0    墨田区   東向島   東向島６丁目  1.000000  5.000000  0.187113     47\n",
              "1    中野区    中央    中央５丁目  0.999867  4.996186  0.187436     47\n",
              "2    品川区   東中延   東中延１丁目  0.988299  4.992372  0.242044     48\n",
              "3    中野区    中野    中野３丁目  0.983566  4.984744  0.200512     46\n",
              "4    品川区    平塚    平塚２丁目  0.983310  4.980931  0.227649     47\n",
              "5    品川区    戸越    戸越６丁目  0.981505  4.969489  0.205519     46\n",
              "6    品川区    中延    中延１丁目  0.981299  4.965675  0.206020     46\n",
              "7    杉並区    荻窪    荻窪１丁目  0.979132  4.961861  0.237796     47\n",
              "8    品川区   北品川   北品川２丁目  0.978417  4.958047  0.186505     45\n",
              "9    墨田区    八広    八広１丁目  0.971309  4.954233  0.150740     43\n",
              "10   杉並区  高円寺南  高円寺南１丁目  0.968110  4.946606  0.238051     46\n",
              "11   品川区   西中延   西中延１丁目  0.964331  4.938978  0.247228     46\n",
              "12   品川区    豊町    豊町１丁目  0.961622  4.927536  0.147755     42\n",
              "13   品川区   東品川   東品川１丁目  0.956814  4.912281  0.238972     45\n",
              "14   中野区   弥生町   弥生町２丁目  0.953446  4.908467  0.167610     42\n",
              "15   品川区    荏原    荏原２丁目  0.950600  4.904653  0.227550     44\n",
              "16   品川区   南品川   南品川１丁目  0.949674  4.897025  0.229800     44\n",
              "17   豊島区   上池袋   上池袋３丁目  0.946838  4.893211  0.183659     42\n",
              "18   豊島区  池袋本町  池袋本町１丁目  0.946836  4.889397  0.210178     43\n",
              "19   中野区    南台    南台２丁目  0.944405  4.885584  0.242597     44"
            ],
            "text/html": [
              "\n",
              "  <div id=\"df-251ae042-dca6-46c5-9a4a-8239a0418b59\">\n",
              "    <div class=\"colab-df-container\">\n",
              "      <div>\n",
              "<style scoped>\n",
              "    .dataframe tbody tr th:only-of-type {\n",
              "        vertical-align: middle;\n",
              "    }\n",
              "\n",
              "    .dataframe tbody tr th {\n",
              "        vertical-align: top;\n",
              "    }\n",
              "\n",
              "    .dataframe thead th {\n",
              "        text-align: right;\n",
              "    }\n",
              "</style>\n",
              "<table border=\"1\" class=\"dataframe\">\n",
              "  <thead>\n",
              "    <tr style=\"text-align: right;\">\n",
              "      <th></th>\n",
              "      <th>市区町村名</th>\n",
              "      <th>町名</th>\n",
              "      <th>町丁目</th>\n",
              "      <th>_公園スコア</th>\n",
              "      <th>公園スコア</th>\n",
              "      <th>公園(平均距離)</th>\n",
              "      <th>公園(数)</th>\n",
              "    </tr>\n",
              "  </thead>\n",
              "  <tbody>\n",
              "    <tr>\n",
              "      <th>0</th>\n",
              "      <td>墨田区</td>\n",
              "      <td>東向島</td>\n",
              "      <td>東向島６丁目</td>\n",
              "      <td>1.000000</td>\n",
              "      <td>5.000000</td>\n",
              "      <td>0.187113</td>\n",
              "      <td>47</td>\n",
              "    </tr>\n",
              "    <tr>\n",
              "      <th>1</th>\n",
              "      <td>中野区</td>\n",
              "      <td>中央</td>\n",
              "      <td>中央５丁目</td>\n",
              "      <td>0.999867</td>\n",
              "      <td>4.996186</td>\n",
              "      <td>0.187436</td>\n",
              "      <td>47</td>\n",
              "    </tr>\n",
              "    <tr>\n",
              "      <th>2</th>\n",
              "      <td>品川区</td>\n",
              "      <td>東中延</td>\n",
              "      <td>東中延１丁目</td>\n",
              "      <td>0.988299</td>\n",
              "      <td>4.992372</td>\n",
              "      <td>0.242044</td>\n",
              "      <td>48</td>\n",
              "    </tr>\n",
              "    <tr>\n",
              "      <th>3</th>\n",
              "      <td>中野区</td>\n",
              "      <td>中野</td>\n",
              "      <td>中野３丁目</td>\n",
              "      <td>0.983566</td>\n",
              "      <td>4.984744</td>\n",
              "      <td>0.200512</td>\n",
              "      <td>46</td>\n",
              "    </tr>\n",
              "    <tr>\n",
              "      <th>4</th>\n",
              "      <td>品川区</td>\n",
              "      <td>平塚</td>\n",
              "      <td>平塚２丁目</td>\n",
              "      <td>0.983310</td>\n",
              "      <td>4.980931</td>\n",
              "      <td>0.227649</td>\n",
              "      <td>47</td>\n",
              "    </tr>\n",
              "    <tr>\n",
              "      <th>5</th>\n",
              "      <td>品川区</td>\n",
              "      <td>戸越</td>\n",
              "      <td>戸越６丁目</td>\n",
              "      <td>0.981505</td>\n",
              "      <td>4.969489</td>\n",
              "      <td>0.205519</td>\n",
              "      <td>46</td>\n",
              "    </tr>\n",
              "    <tr>\n",
              "      <th>6</th>\n",
              "      <td>品川区</td>\n",
              "      <td>中延</td>\n",
              "      <td>中延１丁目</td>\n",
              "      <td>0.981299</td>\n",
              "      <td>4.965675</td>\n",
              "      <td>0.206020</td>\n",
              "      <td>46</td>\n",
              "    </tr>\n",
              "    <tr>\n",
              "      <th>7</th>\n",
              "      <td>杉並区</td>\n",
              "      <td>荻窪</td>\n",
              "      <td>荻窪１丁目</td>\n",
              "      <td>0.979132</td>\n",
              "      <td>4.961861</td>\n",
              "      <td>0.237796</td>\n",
              "      <td>47</td>\n",
              "    </tr>\n",
              "    <tr>\n",
              "      <th>8</th>\n",
              "      <td>品川区</td>\n",
              "      <td>北品川</td>\n",
              "      <td>北品川２丁目</td>\n",
              "      <td>0.978417</td>\n",
              "      <td>4.958047</td>\n",
              "      <td>0.186505</td>\n",
              "      <td>45</td>\n",
              "    </tr>\n",
              "    <tr>\n",
              "      <th>9</th>\n",
              "      <td>墨田区</td>\n",
              "      <td>八広</td>\n",
              "      <td>八広１丁目</td>\n",
              "      <td>0.971309</td>\n",
              "      <td>4.954233</td>\n",
              "      <td>0.150740</td>\n",
              "      <td>43</td>\n",
              "    </tr>\n",
              "    <tr>\n",
              "      <th>10</th>\n",
              "      <td>杉並区</td>\n",
              "      <td>高円寺南</td>\n",
              "      <td>高円寺南１丁目</td>\n",
              "      <td>0.968110</td>\n",
              "      <td>4.946606</td>\n",
              "      <td>0.238051</td>\n",
              "      <td>46</td>\n",
              "    </tr>\n",
              "    <tr>\n",
              "      <th>11</th>\n",
              "      <td>品川区</td>\n",
              "      <td>西中延</td>\n",
              "      <td>西中延１丁目</td>\n",
              "      <td>0.964331</td>\n",
              "      <td>4.938978</td>\n",
              "      <td>0.247228</td>\n",
              "      <td>46</td>\n",
              "    </tr>\n",
              "    <tr>\n",
              "      <th>12</th>\n",
              "      <td>品川区</td>\n",
              "      <td>豊町</td>\n",
              "      <td>豊町１丁目</td>\n",
              "      <td>0.961622</td>\n",
              "      <td>4.927536</td>\n",
              "      <td>0.147755</td>\n",
              "      <td>42</td>\n",
              "    </tr>\n",
              "    <tr>\n",
              "      <th>13</th>\n",
              "      <td>品川区</td>\n",
              "      <td>東品川</td>\n",
              "      <td>東品川１丁目</td>\n",
              "      <td>0.956814</td>\n",
              "      <td>4.912281</td>\n",
              "      <td>0.238972</td>\n",
              "      <td>45</td>\n",
              "    </tr>\n",
              "    <tr>\n",
              "      <th>14</th>\n",
              "      <td>中野区</td>\n",
              "      <td>弥生町</td>\n",
              "      <td>弥生町２丁目</td>\n",
              "      <td>0.953446</td>\n",
              "      <td>4.908467</td>\n",
              "      <td>0.167610</td>\n",
              "      <td>42</td>\n",
              "    </tr>\n",
              "    <tr>\n",
              "      <th>15</th>\n",
              "      <td>品川区</td>\n",
              "      <td>荏原</td>\n",
              "      <td>荏原２丁目</td>\n",
              "      <td>0.950600</td>\n",
              "      <td>4.904653</td>\n",
              "      <td>0.227550</td>\n",
              "      <td>44</td>\n",
              "    </tr>\n",
              "    <tr>\n",
              "      <th>16</th>\n",
              "      <td>品川区</td>\n",
              "      <td>南品川</td>\n",
              "      <td>南品川１丁目</td>\n",
              "      <td>0.949674</td>\n",
              "      <td>4.897025</td>\n",
              "      <td>0.229800</td>\n",
              "      <td>44</td>\n",
              "    </tr>\n",
              "    <tr>\n",
              "      <th>17</th>\n",
              "      <td>豊島区</td>\n",
              "      <td>上池袋</td>\n",
              "      <td>上池袋３丁目</td>\n",
              "      <td>0.946838</td>\n",
              "      <td>4.893211</td>\n",
              "      <td>0.183659</td>\n",
              "      <td>42</td>\n",
              "    </tr>\n",
              "    <tr>\n",
              "      <th>18</th>\n",
              "      <td>豊島区</td>\n",
              "      <td>池袋本町</td>\n",
              "      <td>池袋本町１丁目</td>\n",
              "      <td>0.946836</td>\n",
              "      <td>4.889397</td>\n",
              "      <td>0.210178</td>\n",
              "      <td>43</td>\n",
              "    </tr>\n",
              "    <tr>\n",
              "      <th>19</th>\n",
              "      <td>中野区</td>\n",
              "      <td>南台</td>\n",
              "      <td>南台２丁目</td>\n",
              "      <td>0.944405</td>\n",
              "      <td>4.885584</td>\n",
              "      <td>0.242597</td>\n",
              "      <td>44</td>\n",
              "    </tr>\n",
              "  </tbody>\n",
              "</table>\n",
              "</div>\n",
              "      <button class=\"colab-df-convert\" onclick=\"convertToInteractive('df-251ae042-dca6-46c5-9a4a-8239a0418b59')\"\n",
              "              title=\"Convert this dataframe to an interactive table.\"\n",
              "              style=\"display:none;\">\n",
              "        \n",
              "  <svg xmlns=\"http://www.w3.org/2000/svg\" height=\"24px\"viewBox=\"0 0 24 24\"\n",
              "       width=\"24px\">\n",
              "    <path d=\"M0 0h24v24H0V0z\" fill=\"none\"/>\n",
              "    <path d=\"M18.56 5.44l.94 2.06.94-2.06 2.06-.94-2.06-.94-.94-2.06-.94 2.06-2.06.94zm-11 1L8.5 8.5l.94-2.06 2.06-.94-2.06-.94L8.5 2.5l-.94 2.06-2.06.94zm10 10l.94 2.06.94-2.06 2.06-.94-2.06-.94-.94-2.06-.94 2.06-2.06.94z\"/><path d=\"M17.41 7.96l-1.37-1.37c-.4-.4-.92-.59-1.43-.59-.52 0-1.04.2-1.43.59L10.3 9.45l-7.72 7.72c-.78.78-.78 2.05 0 2.83L4 21.41c.39.39.9.59 1.41.59.51 0 1.02-.2 1.41-.59l7.78-7.78 2.81-2.81c.8-.78.8-2.07 0-2.86zM5.41 20L4 18.59l7.72-7.72 1.47 1.35L5.41 20z\"/>\n",
              "  </svg>\n",
              "      </button>\n",
              "      \n",
              "  <style>\n",
              "    .colab-df-container {\n",
              "      display:flex;\n",
              "      flex-wrap:wrap;\n",
              "      gap: 12px;\n",
              "    }\n",
              "\n",
              "    .colab-df-convert {\n",
              "      background-color: #E8F0FE;\n",
              "      border: none;\n",
              "      border-radius: 50%;\n",
              "      cursor: pointer;\n",
              "      display: none;\n",
              "      fill: #1967D2;\n",
              "      height: 32px;\n",
              "      padding: 0 0 0 0;\n",
              "      width: 32px;\n",
              "    }\n",
              "\n",
              "    .colab-df-convert:hover {\n",
              "      background-color: #E2EBFA;\n",
              "      box-shadow: 0px 1px 2px rgba(60, 64, 67, 0.3), 0px 1px 3px 1px rgba(60, 64, 67, 0.15);\n",
              "      fill: #174EA6;\n",
              "    }\n",
              "\n",
              "    [theme=dark] .colab-df-convert {\n",
              "      background-color: #3B4455;\n",
              "      fill: #D2E3FC;\n",
              "    }\n",
              "\n",
              "    [theme=dark] .colab-df-convert:hover {\n",
              "      background-color: #434B5C;\n",
              "      box-shadow: 0px 1px 3px 1px rgba(0, 0, 0, 0.15);\n",
              "      filter: drop-shadow(0px 1px 2px rgba(0, 0, 0, 0.3));\n",
              "      fill: #FFFFFF;\n",
              "    }\n",
              "  </style>\n",
              "\n",
              "      <script>\n",
              "        const buttonEl =\n",
              "          document.querySelector('#df-251ae042-dca6-46c5-9a4a-8239a0418b59 button.colab-df-convert');\n",
              "        buttonEl.style.display =\n",
              "          google.colab.kernel.accessAllowed ? 'block' : 'none';\n",
              "\n",
              "        async function convertToInteractive(key) {\n",
              "          const element = document.querySelector('#df-251ae042-dca6-46c5-9a4a-8239a0418b59');\n",
              "          const dataTable =\n",
              "            await google.colab.kernel.invokeFunction('convertToInteractive',\n",
              "                                                     [key], {});\n",
              "          if (!dataTable) return;\n",
              "\n",
              "          const docLinkHtml = 'Like what you see? Visit the ' +\n",
              "            '<a target=\"_blank\" href=https://colab.research.google.com/notebooks/data_table.ipynb>data table notebook</a>'\n",
              "            + ' to learn more about interactive tables.';\n",
              "          element.innerHTML = '';\n",
              "          dataTable['output_type'] = 'display_data';\n",
              "          await google.colab.output.renderOutput(dataTable, element);\n",
              "          const docLink = document.createElement('div');\n",
              "          docLink.innerHTML = docLinkHtml;\n",
              "          element.appendChild(docLink);\n",
              "        }\n",
              "      </script>\n",
              "    </div>\n",
              "  </div>\n",
              "  "
            ]
          },
          "metadata": {},
          "execution_count": 154
        }
      ]
    },
    {
      "cell_type": "code",
      "source": [
        "df_level.tail(20)"
      ],
      "metadata": {
        "colab": {
          "base_uri": "https://localhost:8080/",
          "height": 677
        },
        "id": "qAA-c_8MaoIQ",
        "outputId": "59e0c1d6-ec7c-4125-dd28-50ffa1d4c913"
      },
      "execution_count": 155,
      "outputs": [
        {
          "output_type": "execute_result",
          "data": {
            "text/plain": [
              "    市区町村名     町名      町丁目    _公園スコア     公園スコア  公園(平均距離)  公園(数)\n",
              "458   葛飾区     宝町    宝町１丁目  0.203050  0.530130  0.982584      4\n",
              "459   葛飾区     小菅    小菅２丁目  0.202246  0.526316  0.931511      2\n",
              "460   葛飾区     白鳥    白鳥４丁目  0.180719  0.461480  1.010305      3\n",
              "461   葛飾区    東水元   東水元３丁目  0.179288  0.457666  0.987267      2\n",
              "462   葛飾区     高砂    高砂８丁目  0.173337  0.450038  1.028234      3\n",
              "463   葛飾区     亀有    亀有２丁目  0.170777  0.446224  1.007939      2\n",
              "464   葛飾区     奥戸    奥戸７丁目  0.169982  0.442410  1.036384      3\n",
              "465   葛飾区     水元    水元３丁目  0.169715  0.438596  1.010517      2\n",
              "466   葛飾区     青戸    青戸４丁目  0.167568  0.427155  1.015733      2\n",
              "467   葛飾区  金町浄水場    金町浄水場  0.167562  0.423341  1.015747      2\n",
              "468   葛飾区    西亀有   西亀有４丁目  0.157968  0.369947  1.065561      3\n",
              "469   葛飾区   水元公園     水元公園  0.142769  0.327994  1.049447      1\n",
              "470   葛飾区     細田    細田２丁目  0.140692  0.320366  1.081006      2\n",
              "471   葛飾区   お花茶屋  お花茶屋３丁目  0.134532  0.297483  1.095968      2\n",
              "472   葛飾区   東新小岩  東新小岩８丁目  0.116059  0.255530  1.140831      2\n",
              "473   葛飾区     鎌倉    鎌倉３丁目  0.095736  0.205950  1.163676      1\n",
              "474   江東区     若洲    若洲２丁目  0.085733  0.175439  1.214484      2\n",
              "475   葛飾区    東堀切   東堀切３丁目  0.078120  0.160183  1.206461      1\n",
              "476   葛飾区    新小岩   新小岩１丁目  0.061477  0.133486  1.246881      1\n",
              "477   葛飾区    西水元   西水元５丁目  0.047161  0.099161  1.281651      1"
            ],
            "text/html": [
              "\n",
              "  <div id=\"df-6c6b3e05-778b-4e33-a4b0-3120ca472480\">\n",
              "    <div class=\"colab-df-container\">\n",
              "      <div>\n",
              "<style scoped>\n",
              "    .dataframe tbody tr th:only-of-type {\n",
              "        vertical-align: middle;\n",
              "    }\n",
              "\n",
              "    .dataframe tbody tr th {\n",
              "        vertical-align: top;\n",
              "    }\n",
              "\n",
              "    .dataframe thead th {\n",
              "        text-align: right;\n",
              "    }\n",
              "</style>\n",
              "<table border=\"1\" class=\"dataframe\">\n",
              "  <thead>\n",
              "    <tr style=\"text-align: right;\">\n",
              "      <th></th>\n",
              "      <th>市区町村名</th>\n",
              "      <th>町名</th>\n",
              "      <th>町丁目</th>\n",
              "      <th>_公園スコア</th>\n",
              "      <th>公園スコア</th>\n",
              "      <th>公園(平均距離)</th>\n",
              "      <th>公園(数)</th>\n",
              "    </tr>\n",
              "  </thead>\n",
              "  <tbody>\n",
              "    <tr>\n",
              "      <th>458</th>\n",
              "      <td>葛飾区</td>\n",
              "      <td>宝町</td>\n",
              "      <td>宝町１丁目</td>\n",
              "      <td>0.203050</td>\n",
              "      <td>0.530130</td>\n",
              "      <td>0.982584</td>\n",
              "      <td>4</td>\n",
              "    </tr>\n",
              "    <tr>\n",
              "      <th>459</th>\n",
              "      <td>葛飾区</td>\n",
              "      <td>小菅</td>\n",
              "      <td>小菅２丁目</td>\n",
              "      <td>0.202246</td>\n",
              "      <td>0.526316</td>\n",
              "      <td>0.931511</td>\n",
              "      <td>2</td>\n",
              "    </tr>\n",
              "    <tr>\n",
              "      <th>460</th>\n",
              "      <td>葛飾区</td>\n",
              "      <td>白鳥</td>\n",
              "      <td>白鳥４丁目</td>\n",
              "      <td>0.180719</td>\n",
              "      <td>0.461480</td>\n",
              "      <td>1.010305</td>\n",
              "      <td>3</td>\n",
              "    </tr>\n",
              "    <tr>\n",
              "      <th>461</th>\n",
              "      <td>葛飾区</td>\n",
              "      <td>東水元</td>\n",
              "      <td>東水元３丁目</td>\n",
              "      <td>0.179288</td>\n",
              "      <td>0.457666</td>\n",
              "      <td>0.987267</td>\n",
              "      <td>2</td>\n",
              "    </tr>\n",
              "    <tr>\n",
              "      <th>462</th>\n",
              "      <td>葛飾区</td>\n",
              "      <td>高砂</td>\n",
              "      <td>高砂８丁目</td>\n",
              "      <td>0.173337</td>\n",
              "      <td>0.450038</td>\n",
              "      <td>1.028234</td>\n",
              "      <td>3</td>\n",
              "    </tr>\n",
              "    <tr>\n",
              "      <th>463</th>\n",
              "      <td>葛飾区</td>\n",
              "      <td>亀有</td>\n",
              "      <td>亀有２丁目</td>\n",
              "      <td>0.170777</td>\n",
              "      <td>0.446224</td>\n",
              "      <td>1.007939</td>\n",
              "      <td>2</td>\n",
              "    </tr>\n",
              "    <tr>\n",
              "      <th>464</th>\n",
              "      <td>葛飾区</td>\n",
              "      <td>奥戸</td>\n",
              "      <td>奥戸７丁目</td>\n",
              "      <td>0.169982</td>\n",
              "      <td>0.442410</td>\n",
              "      <td>1.036384</td>\n",
              "      <td>3</td>\n",
              "    </tr>\n",
              "    <tr>\n",
              "      <th>465</th>\n",
              "      <td>葛飾区</td>\n",
              "      <td>水元</td>\n",
              "      <td>水元３丁目</td>\n",
              "      <td>0.169715</td>\n",
              "      <td>0.438596</td>\n",
              "      <td>1.010517</td>\n",
              "      <td>2</td>\n",
              "    </tr>\n",
              "    <tr>\n",
              "      <th>466</th>\n",
              "      <td>葛飾区</td>\n",
              "      <td>青戸</td>\n",
              "      <td>青戸４丁目</td>\n",
              "      <td>0.167568</td>\n",
              "      <td>0.427155</td>\n",
              "      <td>1.015733</td>\n",
              "      <td>2</td>\n",
              "    </tr>\n",
              "    <tr>\n",
              "      <th>467</th>\n",
              "      <td>葛飾区</td>\n",
              "      <td>金町浄水場</td>\n",
              "      <td>金町浄水場</td>\n",
              "      <td>0.167562</td>\n",
              "      <td>0.423341</td>\n",
              "      <td>1.015747</td>\n",
              "      <td>2</td>\n",
              "    </tr>\n",
              "    <tr>\n",
              "      <th>468</th>\n",
              "      <td>葛飾区</td>\n",
              "      <td>西亀有</td>\n",
              "      <td>西亀有４丁目</td>\n",
              "      <td>0.157968</td>\n",
              "      <td>0.369947</td>\n",
              "      <td>1.065561</td>\n",
              "      <td>3</td>\n",
              "    </tr>\n",
              "    <tr>\n",
              "      <th>469</th>\n",
              "      <td>葛飾区</td>\n",
              "      <td>水元公園</td>\n",
              "      <td>水元公園</td>\n",
              "      <td>0.142769</td>\n",
              "      <td>0.327994</td>\n",
              "      <td>1.049447</td>\n",
              "      <td>1</td>\n",
              "    </tr>\n",
              "    <tr>\n",
              "      <th>470</th>\n",
              "      <td>葛飾区</td>\n",
              "      <td>細田</td>\n",
              "      <td>細田２丁目</td>\n",
              "      <td>0.140692</td>\n",
              "      <td>0.320366</td>\n",
              "      <td>1.081006</td>\n",
              "      <td>2</td>\n",
              "    </tr>\n",
              "    <tr>\n",
              "      <th>471</th>\n",
              "      <td>葛飾区</td>\n",
              "      <td>お花茶屋</td>\n",
              "      <td>お花茶屋３丁目</td>\n",
              "      <td>0.134532</td>\n",
              "      <td>0.297483</td>\n",
              "      <td>1.095968</td>\n",
              "      <td>2</td>\n",
              "    </tr>\n",
              "    <tr>\n",
              "      <th>472</th>\n",
              "      <td>葛飾区</td>\n",
              "      <td>東新小岩</td>\n",
              "      <td>東新小岩８丁目</td>\n",
              "      <td>0.116059</td>\n",
              "      <td>0.255530</td>\n",
              "      <td>1.140831</td>\n",
              "      <td>2</td>\n",
              "    </tr>\n",
              "    <tr>\n",
              "      <th>473</th>\n",
              "      <td>葛飾区</td>\n",
              "      <td>鎌倉</td>\n",
              "      <td>鎌倉３丁目</td>\n",
              "      <td>0.095736</td>\n",
              "      <td>0.205950</td>\n",
              "      <td>1.163676</td>\n",
              "      <td>1</td>\n",
              "    </tr>\n",
              "    <tr>\n",
              "      <th>474</th>\n",
              "      <td>江東区</td>\n",
              "      <td>若洲</td>\n",
              "      <td>若洲２丁目</td>\n",
              "      <td>0.085733</td>\n",
              "      <td>0.175439</td>\n",
              "      <td>1.214484</td>\n",
              "      <td>2</td>\n",
              "    </tr>\n",
              "    <tr>\n",
              "      <th>475</th>\n",
              "      <td>葛飾区</td>\n",
              "      <td>東堀切</td>\n",
              "      <td>東堀切３丁目</td>\n",
              "      <td>0.078120</td>\n",
              "      <td>0.160183</td>\n",
              "      <td>1.206461</td>\n",
              "      <td>1</td>\n",
              "    </tr>\n",
              "    <tr>\n",
              "      <th>476</th>\n",
              "      <td>葛飾区</td>\n",
              "      <td>新小岩</td>\n",
              "      <td>新小岩１丁目</td>\n",
              "      <td>0.061477</td>\n",
              "      <td>0.133486</td>\n",
              "      <td>1.246881</td>\n",
              "      <td>1</td>\n",
              "    </tr>\n",
              "    <tr>\n",
              "      <th>477</th>\n",
              "      <td>葛飾区</td>\n",
              "      <td>西水元</td>\n",
              "      <td>西水元５丁目</td>\n",
              "      <td>0.047161</td>\n",
              "      <td>0.099161</td>\n",
              "      <td>1.281651</td>\n",
              "      <td>1</td>\n",
              "    </tr>\n",
              "  </tbody>\n",
              "</table>\n",
              "</div>\n",
              "      <button class=\"colab-df-convert\" onclick=\"convertToInteractive('df-6c6b3e05-778b-4e33-a4b0-3120ca472480')\"\n",
              "              title=\"Convert this dataframe to an interactive table.\"\n",
              "              style=\"display:none;\">\n",
              "        \n",
              "  <svg xmlns=\"http://www.w3.org/2000/svg\" height=\"24px\"viewBox=\"0 0 24 24\"\n",
              "       width=\"24px\">\n",
              "    <path d=\"M0 0h24v24H0V0z\" fill=\"none\"/>\n",
              "    <path d=\"M18.56 5.44l.94 2.06.94-2.06 2.06-.94-2.06-.94-.94-2.06-.94 2.06-2.06.94zm-11 1L8.5 8.5l.94-2.06 2.06-.94-2.06-.94L8.5 2.5l-.94 2.06-2.06.94zm10 10l.94 2.06.94-2.06 2.06-.94-2.06-.94-.94-2.06-.94 2.06-2.06.94z\"/><path d=\"M17.41 7.96l-1.37-1.37c-.4-.4-.92-.59-1.43-.59-.52 0-1.04.2-1.43.59L10.3 9.45l-7.72 7.72c-.78.78-.78 2.05 0 2.83L4 21.41c.39.39.9.59 1.41.59.51 0 1.02-.2 1.41-.59l7.78-7.78 2.81-2.81c.8-.78.8-2.07 0-2.86zM5.41 20L4 18.59l7.72-7.72 1.47 1.35L5.41 20z\"/>\n",
              "  </svg>\n",
              "      </button>\n",
              "      \n",
              "  <style>\n",
              "    .colab-df-container {\n",
              "      display:flex;\n",
              "      flex-wrap:wrap;\n",
              "      gap: 12px;\n",
              "    }\n",
              "\n",
              "    .colab-df-convert {\n",
              "      background-color: #E8F0FE;\n",
              "      border: none;\n",
              "      border-radius: 50%;\n",
              "      cursor: pointer;\n",
              "      display: none;\n",
              "      fill: #1967D2;\n",
              "      height: 32px;\n",
              "      padding: 0 0 0 0;\n",
              "      width: 32px;\n",
              "    }\n",
              "\n",
              "    .colab-df-convert:hover {\n",
              "      background-color: #E2EBFA;\n",
              "      box-shadow: 0px 1px 2px rgba(60, 64, 67, 0.3), 0px 1px 3px 1px rgba(60, 64, 67, 0.15);\n",
              "      fill: #174EA6;\n",
              "    }\n",
              "\n",
              "    [theme=dark] .colab-df-convert {\n",
              "      background-color: #3B4455;\n",
              "      fill: #D2E3FC;\n",
              "    }\n",
              "\n",
              "    [theme=dark] .colab-df-convert:hover {\n",
              "      background-color: #434B5C;\n",
              "      box-shadow: 0px 1px 3px 1px rgba(0, 0, 0, 0.15);\n",
              "      filter: drop-shadow(0px 1px 2px rgba(0, 0, 0, 0.3));\n",
              "      fill: #FFFFFF;\n",
              "    }\n",
              "  </style>\n",
              "\n",
              "      <script>\n",
              "        const buttonEl =\n",
              "          document.querySelector('#df-6c6b3e05-778b-4e33-a4b0-3120ca472480 button.colab-df-convert');\n",
              "        buttonEl.style.display =\n",
              "          google.colab.kernel.accessAllowed ? 'block' : 'none';\n",
              "\n",
              "        async function convertToInteractive(key) {\n",
              "          const element = document.querySelector('#df-6c6b3e05-778b-4e33-a4b0-3120ca472480');\n",
              "          const dataTable =\n",
              "            await google.colab.kernel.invokeFunction('convertToInteractive',\n",
              "                                                     [key], {});\n",
              "          if (!dataTable) return;\n",
              "\n",
              "          const docLinkHtml = 'Like what you see? Visit the ' +\n",
              "            '<a target=\"_blank\" href=https://colab.research.google.com/notebooks/data_table.ipynb>data table notebook</a>'\n",
              "            + ' to learn more about interactive tables.';\n",
              "          element.innerHTML = '';\n",
              "          dataTable['output_type'] = 'display_data';\n",
              "          await google.colab.output.renderOutput(dataTable, element);\n",
              "          const docLink = document.createElement('div');\n",
              "          docLink.innerHTML = docLinkHtml;\n",
              "          element.appendChild(docLink);\n",
              "        }\n",
              "      </script>\n",
              "    </div>\n",
              "  </div>\n",
              "  "
            ]
          },
          "metadata": {},
          "execution_count": 155
        }
      ]
    },
    {
      "cell_type": "code",
      "source": [],
      "metadata": {
        "id": "Lk6O8Y3Dd5di"
      },
      "execution_count": null,
      "outputs": []
    }
  ]
}