{
  "nbformat": 4,
  "nbformat_minor": 0,
  "metadata": {
    "colab": {
      "provenance": [],
      "authorship_tag": "ABX9TyOljXa4MEPjH8C5Xc/w9zB6",
      "include_colab_link": true
    },
    "kernelspec": {
      "name": "python3",
      "display_name": "Python 3"
    },
    "language_info": {
      "name": "python"
    }
  },
  "cells": [
    {
      "cell_type": "markdown",
      "metadata": {
        "id": "view-in-github",
        "colab_type": "text"
      },
      "source": [
        "<a href=\"https://colab.research.google.com/github/z-gard/analysis/blob/main/notebooks/park.ipynb\" target=\"_parent\"><img src=\"https://colab.research.google.com/assets/colab-badge.svg\" alt=\"Open In Colab\"/></a>"
      ]
    },
    {
      "cell_type": "markdown",
      "source": [
        "# 公園\n",
        "- input:\n",
        "    - 区ごとの公園の位置情報\n",
        "- output:\n",
        "    - park_score.csv\n",
        "        - 公園スコア"
      ],
      "metadata": {
        "id": "zBy6ZmZPOhfq"
      }
    },
    {
      "cell_type": "code",
      "execution_count": 1,
      "metadata": {
        "id": "cDOcy7pFOdsC"
      },
      "outputs": [],
      "source": [
        "!pip install -q geocoder\n",
        "!pip install -q --upgrade xlrd\n",
        "!pip install -q japanize-matplotlib"
      ]
    },
    {
      "cell_type": "code",
      "source": [
        "from google.colab import drive\n",
        "drive.mount('/content/drive')"
      ],
      "metadata": {
        "colab": {
          "base_uri": "https://localhost:8080/"
        },
        "id": "rYTHrEAdOlBC",
        "outputId": "60700448-6843-41a7-c2ab-28008350b9d8"
      },
      "execution_count": 2,
      "outputs": [
        {
          "output_type": "stream",
          "name": "stdout",
          "text": [
            "Drive already mounted at /content/drive; to attempt to forcibly remount, call drive.mount(\"/content/drive\", force_remount=True).\n"
          ]
        }
      ]
    },
    {
      "cell_type": "code",
      "source": [
        "DIR_NAME = '/content/drive/MyDrive/z-gard/data'"
      ],
      "metadata": {
        "id": "mKIhoL-BOtAE"
      },
      "execution_count": 3,
      "outputs": []
    },
    {
      "cell_type": "code",
      "source": [
        "output_score_file = 'park_score.csv'"
      ],
      "metadata": {
        "id": "Xfa9PuQkSYdq"
      },
      "execution_count": 4,
      "outputs": []
    },
    {
      "cell_type": "code",
      "source": [
        "import os\n",
        "import requests\n",
        "import json\n",
        "import pandas as pd\n",
        "from urllib.parse import urlparse\n",
        "import geocoder\n",
        "import math\n",
        "import io\n",
        "import re\n",
        "import matplotlib.pyplot as plt\n",
        "import japanize_matplotlib\n",
        "import seaborn as sns\n",
        "\n",
        "pd.set_option('display.max_columns', 50)\n",
        "pd.set_option('display.max_rows', 100)"
      ],
      "metadata": {
        "id": "2xgbJOobOvsP"
      },
      "execution_count": 5,
      "outputs": []
    },
    {
      "cell_type": "code",
      "source": [
        "def get_data_csv_url(url, encoding='utf-8', excel=False):\n",
        "    res = requests.get(url)\n",
        "    if res.status_code == 200:\n",
        "        if not excel:\n",
        "            return pd.read_csv(io.BytesIO(res.content), encoding=encoding)\n",
        "        else:\n",
        "            return pd.read_excel(io.BytesIO(res.content))\n",
        "    else:\n",
        "        raise Exception(f'status_code: {res.status_code} ({url})')\n",
        "\n",
        "def number_to_kanji(str):\n",
        "    return str.translate(str.maketrans({\n",
        "        '１':'一', '２':'二', '３':'三', '４':'四', '５':'五', '６':'六', '７':'七', '８':'八', '９':'九',\n",
        "        '1':'一', '2':'二', '3':'三', '4':'四', '5':'五', '6':'六', '7':'七', '8':'八', '9':'九', '0':'十', \n",
        "    }))\n",
        "\n",
        "# 緯度経度取得\n",
        "def add_lat_lon(df_master):\n",
        "    lats = []\n",
        "    lons = []\n",
        "    for i, row in df_master.iterrows():\n",
        "        chocho = number_to_kanji(row['町丁目'])\n",
        "        ret = geocoder.osm('東京都' + row['市区町村名'] + chocho, timeout=5)\n",
        "        if not ret.ok:\n",
        "            print(i, row['市区町村名'], chocho)\n",
        "        lats.append(ret.lat)\n",
        "        lons.append(ret.lng)\n",
        "    df_copy = df_master.copy()\n",
        "    df_copy['緯度'] = lats\n",
        "    df_copy['経度'] = lons\n",
        "    return df_copy\n",
        "\n",
        "# 距離計算\n",
        "def get_distance(lat1, lon1, lat2, lon2):\n",
        "    _lat1 = lat1 * math.pi / 180\n",
        "    _lon1 = lon1 * math.pi / 180\n",
        "    _lat2 = lat2 * math.pi / 180\n",
        "    _lon2 = lon2 * math.pi / 180\n",
        "    _tmp = math.cos(_lat1) * math.cos(_lat2) * math.cos(_lon2 - _lon1) + math.sin(_lat1) * math.sin(_lat2)\n",
        "    _tmp = 1 if _tmp > 1 else -1 if _tmp < -1 else _tmp\n",
        "    return 6371 * math.acos(_tmp)\n",
        "\n",
        "# 最寄り施設までの距離\n",
        "def get_value_of_nearest_facility(df_master, df_facility, category, method='min', param=3):\n",
        "    _df_cat = df_facility[df_facility['施設分類'] == category].copy()\n",
        "    cat_values = []\n",
        "    for i, row in df_master.iterrows():\n",
        "        dist = _df_cat.apply(lambda x: get_distance(x['緯度'], x['経度'], row['緯度'], row['経度']), axis=1)\n",
        "        val = None\n",
        "        if method == 'min':\n",
        "            # 最小の距離\n",
        "            val = dist.min()\n",
        "        elif method == 'count':\n",
        "            # {param}km以内の施設の数をカウント\n",
        "            val = len(dist[dist <= param])\n",
        "        elif method == 'mean':\n",
        "            # 近い{param}件の距離の平均\n",
        "            val = dist.sort_values()[:param].mean()\n",
        "        cat_values.append(val)\n",
        "    return cat_values"
      ],
      "metadata": {
        "id": "Q9yoYFmNRk8e"
      },
      "execution_count": 6,
      "outputs": []
    },
    {
      "cell_type": "code",
      "source": [
        "def get_tokyo_ward_city(address):\n",
        "    _tmp = address.replace('東京都', '')\n",
        "    m = re.search('^.*?[区市]', _tmp)\n",
        "    if m is None:\n",
        "        return None\n",
        "    cityname = m.group()\n",
        "    return cityname if len(cityname) < 6 else None\n",
        "\n",
        "def get_category_facility(name):\n",
        "    if re.search('.*公園$', name) is not None:\n",
        "        return '公園'\n",
        "    if re.search('.*緑地$', name) is not None:\n",
        "        return '公園'\n",
        "    if re.search('.*緑道$', name) is not None:\n",
        "        return '公園'\n",
        "    if re.search('.*庭園$', name) is not None:\n",
        "        return '公園'\n",
        "    if re.search('.*児童遊園$', name) is not None:\n",
        "        return '公園'\n",
        "    if re.search('.*図書館$', name) is not None:\n",
        "        return '図書館'\n",
        "    if re.search('.*美術館$', name) is not None:\n",
        "        return '文化施設'\n",
        "    if re.search('.*博物館$', name) is not None:\n",
        "        return '文化施設'\n",
        "    if re.search('.*会館$', name) is not None:\n",
        "        return '文化施設'\n",
        "    if re.search('.*劇場$', name) is not None:\n",
        "        return '文化施設'\n",
        "    if re.search('アーツ', name) is not None:\n",
        "        return '文化施設'\n",
        "    return None"
      ],
      "metadata": {
        "id": "_-2eukImbwhJ"
      },
      "execution_count": 7,
      "outputs": []
    },
    {
      "cell_type": "code",
      "source": [
        "def change_type(df_data):\n",
        "    df_data['緯度'] = df_data['緯度'].astype(float)\n",
        "    df_data['経度'] = df_data['経度'].astype(float)"
      ],
      "metadata": {
        "id": "hhGXtuvYipKL"
      },
      "execution_count": 8,
      "outputs": []
    },
    {
      "cell_type": "code",
      "source": [
        "extract_columns = ['施設分類', '名称', '市区町村名', '所在地', '緯度', '経度']"
      ],
      "metadata": {
        "id": "IrPBUzhvReBs"
      },
      "execution_count": 9,
      "outputs": []
    },
    {
      "cell_type": "markdown",
      "source": [
        "### Google Maps "
      ],
      "metadata": {
        "id": "SQwsF8A4G60k"
      }
    },
    {
      "cell_type": "code",
      "source": [
        "def get_municipal_park(df_data, municipal='区立'):\n",
        "    _tmp = df_data.copy()\n",
        "    _tmp['設立'] = _tmp['name'].str.extract(f'(.*?{municipal})', expand=False)\n",
        "    _tmp['名称'] = _tmp['name'].str.extract(f'{municipal}(.*)', expand=False).str.strip()\n",
        "    return _tmp[_tmp['設立'].notna()]"
      ],
      "metadata": {
        "id": "Tb8hmiyZID7h"
      },
      "execution_count": 10,
      "outputs": []
    },
    {
      "cell_type": "code",
      "source": [
        "df_park_nearby = pd.read_csv(os.path.join(DIR_NAME, 'park_nearby.csv'))[\n",
        "    ['name', 'lat', 'lng', 'rating', 'vicinity']\n",
        "].rename(columns={'lat':'緯度', 'lng':'経度', 'vicinity':'所在地'})\n",
        "print(df_park_nearby.shape)\n",
        "df_park_nearby['市区町村名'] = df_park_nearby['所在地'].apply(get_tokyo_ward_city)\n",
        "df_park_nearby['施設分類'] = '公園'\n",
        "\n",
        "df_municipal_park = pd.concat([\n",
        "    get_municipal_park(df_park_nearby, '区立'), \n",
        "    get_municipal_park(df_park_nearby, '都立')\n",
        "]).reset_index(drop=True)\n",
        "print(df_municipal_park.shape)"
      ],
      "metadata": {
        "id": "pIv9ffSeG6ih",
        "outputId": "d1e523bf-7a80-482e-f6b2-ff976502fe4e",
        "colab": {
          "base_uri": "https://localhost:8080/"
        }
      },
      "execution_count": 11,
      "outputs": [
        {
          "output_type": "stream",
          "name": "stdout",
          "text": [
            "(9176, 5)\n",
            "(2406, 9)\n"
          ]
        }
      ]
    },
    {
      "cell_type": "code",
      "source": [
        "df_municipal_park.head()"
      ],
      "metadata": {
        "id": "ym3xRC6kJYLf",
        "outputId": "9e161d9d-8bc8-4b30-8668-f6470ebb62e3",
        "colab": {
          "base_uri": "https://localhost:8080/",
          "height": 206
        }
      },
      "execution_count": 12,
      "outputs": [
        {
          "output_type": "execute_result",
          "data": {
            "text/plain": [
              "          name         緯度          経度  rating                 所在地 市区町村名 施設分類  \\\n",
              "0  千代田区立 神田橋公園  35.689720  139.764188     3.5       千代田区神田錦町１丁目２９  千代田区   公園   \n",
              "1     中央区立常盤公園  35.688113  139.769969     3.4  中央区中央区日本橋本石町４丁目４−３   中央区   公園   \n",
              "2   中央区立数寄屋橋公園  35.672641  139.762337     3.7         中央区銀座５丁目１−１   中央区   公園   \n",
              "3      港区立西桜公園  35.667991  139.749414     3.0        港区虎ノ門１丁目１７−４    港区   公園   \n",
              "4    港区立江戸見坂公園  35.667423  139.744127     2.0        港区虎ノ門２丁目１０−２    港区   公園   \n",
              "\n",
              "      設立      名称  \n",
              "0  千代田区立   神田橋公園  \n",
              "1   中央区立    常盤公園  \n",
              "2   中央区立  数寄屋橋公園  \n",
              "3    港区立    西桜公園  \n",
              "4    港区立  江戸見坂公園  "
            ],
            "text/html": [
              "\n",
              "  <div id=\"df-ca9a8df4-df74-4b88-9101-a5fd99624cda\">\n",
              "    <div class=\"colab-df-container\">\n",
              "      <div>\n",
              "<style scoped>\n",
              "    .dataframe tbody tr th:only-of-type {\n",
              "        vertical-align: middle;\n",
              "    }\n",
              "\n",
              "    .dataframe tbody tr th {\n",
              "        vertical-align: top;\n",
              "    }\n",
              "\n",
              "    .dataframe thead th {\n",
              "        text-align: right;\n",
              "    }\n",
              "</style>\n",
              "<table border=\"1\" class=\"dataframe\">\n",
              "  <thead>\n",
              "    <tr style=\"text-align: right;\">\n",
              "      <th></th>\n",
              "      <th>name</th>\n",
              "      <th>緯度</th>\n",
              "      <th>経度</th>\n",
              "      <th>rating</th>\n",
              "      <th>所在地</th>\n",
              "      <th>市区町村名</th>\n",
              "      <th>施設分類</th>\n",
              "      <th>設立</th>\n",
              "      <th>名称</th>\n",
              "    </tr>\n",
              "  </thead>\n",
              "  <tbody>\n",
              "    <tr>\n",
              "      <th>0</th>\n",
              "      <td>千代田区立 神田橋公園</td>\n",
              "      <td>35.689720</td>\n",
              "      <td>139.764188</td>\n",
              "      <td>3.5</td>\n",
              "      <td>千代田区神田錦町１丁目２９</td>\n",
              "      <td>千代田区</td>\n",
              "      <td>公園</td>\n",
              "      <td>千代田区立</td>\n",
              "      <td>神田橋公園</td>\n",
              "    </tr>\n",
              "    <tr>\n",
              "      <th>1</th>\n",
              "      <td>中央区立常盤公園</td>\n",
              "      <td>35.688113</td>\n",
              "      <td>139.769969</td>\n",
              "      <td>3.4</td>\n",
              "      <td>中央区中央区日本橋本石町４丁目４−３</td>\n",
              "      <td>中央区</td>\n",
              "      <td>公園</td>\n",
              "      <td>中央区立</td>\n",
              "      <td>常盤公園</td>\n",
              "    </tr>\n",
              "    <tr>\n",
              "      <th>2</th>\n",
              "      <td>中央区立数寄屋橋公園</td>\n",
              "      <td>35.672641</td>\n",
              "      <td>139.762337</td>\n",
              "      <td>3.7</td>\n",
              "      <td>中央区銀座５丁目１−１</td>\n",
              "      <td>中央区</td>\n",
              "      <td>公園</td>\n",
              "      <td>中央区立</td>\n",
              "      <td>数寄屋橋公園</td>\n",
              "    </tr>\n",
              "    <tr>\n",
              "      <th>3</th>\n",
              "      <td>港区立西桜公園</td>\n",
              "      <td>35.667991</td>\n",
              "      <td>139.749414</td>\n",
              "      <td>3.0</td>\n",
              "      <td>港区虎ノ門１丁目１７−４</td>\n",
              "      <td>港区</td>\n",
              "      <td>公園</td>\n",
              "      <td>港区立</td>\n",
              "      <td>西桜公園</td>\n",
              "    </tr>\n",
              "    <tr>\n",
              "      <th>4</th>\n",
              "      <td>港区立江戸見坂公園</td>\n",
              "      <td>35.667423</td>\n",
              "      <td>139.744127</td>\n",
              "      <td>2.0</td>\n",
              "      <td>港区虎ノ門２丁目１０−２</td>\n",
              "      <td>港区</td>\n",
              "      <td>公園</td>\n",
              "      <td>港区立</td>\n",
              "      <td>江戸見坂公園</td>\n",
              "    </tr>\n",
              "  </tbody>\n",
              "</table>\n",
              "</div>\n",
              "      <button class=\"colab-df-convert\" onclick=\"convertToInteractive('df-ca9a8df4-df74-4b88-9101-a5fd99624cda')\"\n",
              "              title=\"Convert this dataframe to an interactive table.\"\n",
              "              style=\"display:none;\">\n",
              "        \n",
              "  <svg xmlns=\"http://www.w3.org/2000/svg\" height=\"24px\"viewBox=\"0 0 24 24\"\n",
              "       width=\"24px\">\n",
              "    <path d=\"M0 0h24v24H0V0z\" fill=\"none\"/>\n",
              "    <path d=\"M18.56 5.44l.94 2.06.94-2.06 2.06-.94-2.06-.94-.94-2.06-.94 2.06-2.06.94zm-11 1L8.5 8.5l.94-2.06 2.06-.94-2.06-.94L8.5 2.5l-.94 2.06-2.06.94zm10 10l.94 2.06.94-2.06 2.06-.94-2.06-.94-.94-2.06-.94 2.06-2.06.94z\"/><path d=\"M17.41 7.96l-1.37-1.37c-.4-.4-.92-.59-1.43-.59-.52 0-1.04.2-1.43.59L10.3 9.45l-7.72 7.72c-.78.78-.78 2.05 0 2.83L4 21.41c.39.39.9.59 1.41.59.51 0 1.02-.2 1.41-.59l7.78-7.78 2.81-2.81c.8-.78.8-2.07 0-2.86zM5.41 20L4 18.59l7.72-7.72 1.47 1.35L5.41 20z\"/>\n",
              "  </svg>\n",
              "      </button>\n",
              "      \n",
              "  <style>\n",
              "    .colab-df-container {\n",
              "      display:flex;\n",
              "      flex-wrap:wrap;\n",
              "      gap: 12px;\n",
              "    }\n",
              "\n",
              "    .colab-df-convert {\n",
              "      background-color: #E8F0FE;\n",
              "      border: none;\n",
              "      border-radius: 50%;\n",
              "      cursor: pointer;\n",
              "      display: none;\n",
              "      fill: #1967D2;\n",
              "      height: 32px;\n",
              "      padding: 0 0 0 0;\n",
              "      width: 32px;\n",
              "    }\n",
              "\n",
              "    .colab-df-convert:hover {\n",
              "      background-color: #E2EBFA;\n",
              "      box-shadow: 0px 1px 2px rgba(60, 64, 67, 0.3), 0px 1px 3px 1px rgba(60, 64, 67, 0.15);\n",
              "      fill: #174EA6;\n",
              "    }\n",
              "\n",
              "    [theme=dark] .colab-df-convert {\n",
              "      background-color: #3B4455;\n",
              "      fill: #D2E3FC;\n",
              "    }\n",
              "\n",
              "    [theme=dark] .colab-df-convert:hover {\n",
              "      background-color: #434B5C;\n",
              "      box-shadow: 0px 1px 3px 1px rgba(0, 0, 0, 0.15);\n",
              "      filter: drop-shadow(0px 1px 2px rgba(0, 0, 0, 0.3));\n",
              "      fill: #FFFFFF;\n",
              "    }\n",
              "  </style>\n",
              "\n",
              "      <script>\n",
              "        const buttonEl =\n",
              "          document.querySelector('#df-ca9a8df4-df74-4b88-9101-a5fd99624cda button.colab-df-convert');\n",
              "        buttonEl.style.display =\n",
              "          google.colab.kernel.accessAllowed ? 'block' : 'none';\n",
              "\n",
              "        async function convertToInteractive(key) {\n",
              "          const element = document.querySelector('#df-ca9a8df4-df74-4b88-9101-a5fd99624cda');\n",
              "          const dataTable =\n",
              "            await google.colab.kernel.invokeFunction('convertToInteractive',\n",
              "                                                     [key], {});\n",
              "          if (!dataTable) return;\n",
              "\n",
              "          const docLinkHtml = 'Like what you see? Visit the ' +\n",
              "            '<a target=\"_blank\" href=https://colab.research.google.com/notebooks/data_table.ipynb>data table notebook</a>'\n",
              "            + ' to learn more about interactive tables.';\n",
              "          element.innerHTML = '';\n",
              "          dataTable['output_type'] = 'display_data';\n",
              "          await google.colab.output.renderOutput(dataTable, element);\n",
              "          const docLink = document.createElement('div');\n",
              "          docLink.innerHTML = docLinkHtml;\n",
              "          element.appendChild(docLink);\n",
              "        }\n",
              "      </script>\n",
              "    </div>\n",
              "  </div>\n",
              "  "
            ]
          },
          "metadata": {},
          "execution_count": 12
        }
      ]
    },
    {
      "cell_type": "markdown",
      "source": [
        "## 0. 東京都\n",
        "- [公共施設一覧](https://catalog.data.metro.tokyo.lg.jp/dataset/t000003d0000000033/resource/27d1ce20-9023-4690-944c-5da47ed1427e)\n",
        "- [公園調書データ](https://www.kensetsu.metro.tokyo.lg.jp/jigyo/park/kouenannai/kouen_menseki.html) -> PDF"
      ],
      "metadata": {
        "id": "FTreyejMZ5fi"
      }
    },
    {
      "cell_type": "code",
      "source": [
        "tokyo_public_facility = 'https://www.opendata.metro.tokyo.lg.jp/suisyoudataset/130001_public_facility.csv'\n",
        "df_tokyo_public_facility = get_data_csv_url(tokyo_public_facility, encoding='cp932')\n",
        "print(df_tokyo_public_facility.shape)\n",
        "\n",
        "df_tokyo_public_facility = df_tokyo_public_facility.rename(columns={'住所': '所在地'})\n",
        "df_tokyo_public_facility['市区町村名'] = df_tokyo_public_facility['所在地'].apply(get_tokyo_ward_city)\n",
        "df_tokyo_public_facility['施設分類'] = df_tokyo_public_facility['名称'].apply(get_category_facility)\n",
        "df_tokyo_public_facility = df_tokyo_public_facility[extract_columns]\n",
        "df_tokyo_public_facility = df_tokyo_public_facility[\n",
        "    (df_tokyo_public_facility['施設分類']=='公園')&\n",
        "    (df_tokyo_public_facility['市区町村名'].str.endswith('区'))\n",
        "].reset_index(drop=True)\n",
        "change_type(df_tokyo_public_facility)\n",
        "print(df_tokyo_public_facility.shape)"
      ],
      "metadata": {
        "id": "dVf2UekcZ4-k",
        "outputId": "91f99fb1-ae93-464e-e1b4-2f0df0663f03",
        "colab": {
          "base_uri": "https://localhost:8080/"
        }
      },
      "execution_count": 13,
      "outputs": [
        {
          "output_type": "stream",
          "name": "stdout",
          "text": [
            "(136, 39)\n",
            "(80, 6)\n"
          ]
        }
      ]
    },
    {
      "cell_type": "markdown",
      "source": [
        "## 1. 千代田区\n",
        "- [公園・児童遊園・緑道](https://www.city.chiyoda.lg.jp/shisetsu/koen/index.html) -> CSVでない、数が少ない"
      ],
      "metadata": {
        "id": "ozc68hGVyKaT"
      }
    },
    {
      "cell_type": "markdown",
      "source": [
        "## 2. 中央区\n",
        "- [区内の公園一覧](https://catalog.data.metro.tokyo.lg.jp/dataset/t131024d0000000011/resource/2cebf9bb-c082-41a4-973f-f39e81c20aa2)"
      ],
      "metadata": {
        "id": "Hy9QzRF1vJWT"
      }
    },
    {
      "cell_type": "code",
      "source": [
        "chuou_park_url = 'https://www.city.chuo.lg.jp/kusei/statisticaldata/opendata.files/koenichiran.csv'\n",
        "df_chuou_park = get_data_csv_url(chuou_park_url, encoding='shift-jis')\n",
        "print(df_chuou_park.shape)\n",
        "\n",
        "df_chuou_park['市区町村名'] = '中央区'\n",
        "df_chuou_park['施設分類'] = '公園'\n",
        "df_chuou_park = df_chuou_park.rename(columns={'住所':'所在地'})[extract_columns]\n",
        "change_type(df_chuou_park)\n",
        "print(df_chuou_park.shape)"
      ],
      "metadata": {
        "id": "rcSZRUVM5tcC",
        "outputId": "7839e361-da05-4386-9384-b792d8e5b7b4",
        "colab": {
          "base_uri": "https://localhost:8080/"
        }
      },
      "execution_count": 14,
      "outputs": [
        {
          "output_type": "stream",
          "name": "stdout",
          "text": [
            "(56, 5)\n",
            "(56, 6)\n"
          ]
        }
      ]
    },
    {
      "cell_type": "markdown",
      "source": [
        "## 3. 港区\n",
        "- [公園・児童遊園・緑地](https://catalog.data.metro.tokyo.lg.jp/dataset/t131032d0000000014/resource/07c70d2b-0474-491c-a1f4-754b8f28922b)"
      ],
      "metadata": {
        "id": "N29UjnUPRhG7"
      }
    },
    {
      "cell_type": "code",
      "source": [
        "minato_park_url = 'https://opendata.city.minato.tokyo.jp/dataset/dc609dcf-892a-4a20-8f74-f62ce9fc806d/resource/f636e5b8-088f-42e2-b95c-d0978d4e339c/download/minatokushisetsujoho_kouen.csv'\n",
        "df_minato_park = get_data_csv_url(minato_park_url)\n",
        "print(df_minato_park.shape)\n",
        "\n",
        "df_minato_park['市区町村名'] = '港区'\n",
        "df_minato_park['施設分類'] = '公園'\n",
        "df_minato_park = df_minato_park[df_minato_park['第1分類'] == '公園・児童遊園・緑地'].reset_index(drop=False)\n",
        "df_minato_park = df_minato_park.rename(columns={'ページタイトル':'名称'})[extract_columns]\n",
        "change_type(df_minato_park)\n",
        "print(df_minato_park.shape)"
      ],
      "metadata": {
        "colab": {
          "base_uri": "https://localhost:8080/"
        },
        "id": "bHdlGR4rRd_V",
        "outputId": "5db31a7b-7600-4257-beb8-d5ad3b9bab76"
      },
      "execution_count": 15,
      "outputs": [
        {
          "output_type": "stream",
          "name": "stdout",
          "text": [
            "(157, 31)\n",
            "(156, 6)\n"
          ]
        }
      ]
    },
    {
      "cell_type": "markdown",
      "source": [
        "## 4. 新宿区\n",
        "- [区立公園の一覧（五十音順）](http://www.city.shinjuku.lg.jp/seikatsu/midori01_001024.html) -> CSVでない"
      ],
      "metadata": {
        "id": "QEmpBhenyeVs"
      }
    },
    {
      "cell_type": "markdown",
      "source": [
        "## 5. 文京区\n",
        "- [区立公園・児童遊園・遊び場一覧](https://catalog.data.metro.tokyo.lg.jp/dataset/t131059d0509040001/resource/81688b74-8b82-4529-a1df-1d0ae73a808d)"
      ],
      "metadata": {
        "id": "5XQHy3KkvpL6"
      }
    },
    {
      "cell_type": "code",
      "source": [
        "bunkyo_park_url = 'https://www.city.bunkyo.lg.jp/library/opendata-bunkyo/05bousai-macidukuri-kankyou/03kouen-asobiba/kuritsukouen-jidouyuuen-asobiba.csv'\n",
        "df_bunkyo_park = get_data_csv_url(bunkyo_park_url, encoding='shift-jis')\n",
        "print(df_bunkyo_park.shape)\n",
        "\n",
        "df_bunkyo_park['市区町村名'] = '文京区'\n",
        "df_bunkyo_park['施設分類'] = '公園'\n",
        "df_bunkyo_park = df_bunkyo_park.rename(columns={'施設名':'名称', '住所':'所在地'})[extract_columns]\n",
        "change_type(df_bunkyo_park)\n",
        "print(df_bunkyo_park.shape)"
      ],
      "metadata": {
        "id": "3FsxuB5L6yz_",
        "outputId": "dcc5ab9c-ecc6-42ab-bab1-eb9896981f06",
        "colab": {
          "base_uri": "https://localhost:8080/"
        }
      },
      "execution_count": 16,
      "outputs": [
        {
          "output_type": "stream",
          "name": "stdout",
          "text": [
            "(119, 10)\n",
            "(119, 6)\n"
          ]
        }
      ]
    },
    {
      "cell_type": "markdown",
      "source": [
        "## 6. 台東区\n",
        "- [公園](https://catalog.data.metro.tokyo.lg.jp/dataset/t131067d0000000093/resource/c70f81da-7c29-497a-ab55-068686d75707)\n",
        "- [児童遊園](https://catalog.data.metro.tokyo.lg.jp/dataset/t131067d0000000094/resource/5d61c7a3-573d-4a27-8492-6e299f2fe401)"
      ],
      "metadata": {
        "id": "S_Q90dBVcPtQ"
      }
    },
    {
      "cell_type": "code",
      "source": [
        "taito_park_url_1 = 'https://www.city.taito.lg.jp/kusei/online/opendata/seikatu/shisethutizujouhou.files/sisetu_15.csv'\n",
        "df_taito_park_1 = get_data_csv_url(taito_park_url_1, 'shift-jis')\n",
        "taito_park_url_2 = 'https://www.city.taito.lg.jp/kusei/online/opendata/seikatu/shisethutizujouhou.files/sisetu_16.csv'\n",
        "df_taito_park_2 = get_data_csv_url(taito_park_url_2, 'shift-jis')\n",
        "df_taito_park = pd.concat([df_taito_park_1, df_taito_park_2]).reset_index(drop=True)\n",
        "print(df_taito_park.shape)\n",
        "\n",
        "df_taito_park['市区町村名'] = '台東区'\n",
        "df_taito_park['施設分類'] = '公園'\n",
        "df_taito_park = df_taito_park.rename(columns={'X座標':'経度', 'Y座標':'緯度'})[extract_columns]\n",
        "print(df_taito_park.shape)"
      ],
      "metadata": {
        "id": "kUmwooOBwofd",
        "outputId": "398f8445-ca67-4761-cd11-0a515f865c12",
        "colab": {
          "base_uri": "https://localhost:8080/"
        }
      },
      "execution_count": 17,
      "outputs": [
        {
          "output_type": "stream",
          "name": "stdout",
          "text": [
            "(83, 8)\n",
            "(83, 6)\n"
          ]
        }
      ]
    },
    {
      "cell_type": "markdown",
      "source": [
        "## 7. 墨田区\n",
        "- [公園](https://catalog.data.metro.tokyo.lg.jp/dataset/t131075d0000000097/resource/ea22e8d7-677a-4ab8-b231-f5d309fd0be6)\n",
        "- [児童遊園](https://catalog.data.metro.tokyo.lg.jp/dataset/t131075d0000000097/resource/21a0e89e-ee2f-4bf0-90db-b70ebb77453e)"
      ],
      "metadata": {
        "id": "A79C8s69R4YW"
      }
    },
    {
      "cell_type": "code",
      "source": [
        "sumida_park_url_1 = 'https://www.city.sumida.lg.jp/kuseijoho/sumida_info/opendata/opendata_ichiran/shisetsu_data.files/park.csv'\n",
        "df_sumida_park_1 = get_data_csv_url(sumida_park_url_1, 'shift-jis')\n",
        "sumida_park_url_2 = 'https://www.city.sumida.lg.jp/kuseijoho/sumida_info/opendata/opendata_ichiran/shisetsu_data.files/jidouyuuen.csv'\n",
        "df_sumida_park_2 = get_data_csv_url(sumida_park_url_2, 'shift-jis')\n",
        "df_sumida_park = pd.concat([df_sumida_park_1, df_sumida_park_2]).reset_index(drop=True)\n",
        "print(df_sumida_park.shape)\n",
        "\n",
        "df_sumida_park['市区町村名'] = '墨田区'\n",
        "df_sumida_park['施設分類'] = '公園'\n",
        "df_sumida_park = df_sumida_park.rename(columns={'施設名称':'名称'})[extract_columns]\n",
        "print(df_sumida_park.shape)"
      ],
      "metadata": {
        "colab": {
          "base_uri": "https://localhost:8080/"
        },
        "id": "hZJc7luQRd5I",
        "outputId": "ef91eb80-f465-4fe5-c72c-c047476b41e3"
      },
      "execution_count": 18,
      "outputs": [
        {
          "output_type": "stream",
          "name": "stdout",
          "text": [
            "(144, 5)\n",
            "(144, 6)\n"
          ]
        }
      ]
    },
    {
      "cell_type": "markdown",
      "source": [
        "## 8. 江東区\n",
        "- [区立公園](https://catalog.data.metro.tokyo.lg.jp/dataset/t131083d0000000007/resource/204f8626-3307-48e3-9d2c-03d38aa732f1)\n",
        "- [児童遊園](https://catalog.data.metro.tokyo.lg.jp/dataset/t131083d0000000007/resource/cef3a8af-0006-4341-a0ab-a62b26a5a28c)"
      ],
      "metadata": {
        "id": "k9DmEpn4y2dz"
      }
    },
    {
      "cell_type": "code",
      "source": [
        "koutou_park_url = 'https://www.city.koto.lg.jp/012107/documents/131083_kotocity_public_facility-17_parks.csv'\n",
        "df_koutou_park = get_data_csv_url(koutou_park_url, encoding='shift-jis')\n",
        "print(df_koutou_park.shape)\n",
        "\n",
        "df_koutou_park['市区町村名'] = '江東区'\n",
        "df_koutou_park['施設分類'] = '公園'\n",
        "df_koutou_park = df_koutou_park.rename(columns={'施設名':'名称', '住所':'所在地'})[extract_columns]\n",
        "change_type(df_koutou_park)\n",
        "print(df_koutou_park.shape)"
      ],
      "metadata": {
        "id": "eJH2HE8H7dzZ",
        "outputId": "c935bdb8-d259-43f5-89ae-ee24ecaebd2d",
        "colab": {
          "base_uri": "https://localhost:8080/"
        }
      },
      "execution_count": 19,
      "outputs": [
        {
          "output_type": "stream",
          "name": "stdout",
          "text": [
            "(171, 39)\n",
            "(171, 6)\n"
          ]
        }
      ]
    },
    {
      "cell_type": "markdown",
      "source": [
        "## 9. 品川区\n",
        "- [公共施設csvデータ](https://catalog.data.metro.tokyo.lg.jp/dataset/t131091d0000000003/resource/739098b6-e043-41ad-9b5b-f83481d09631)"
      ],
      "metadata": {
        "id": "q9jxzgLIvxhE"
      }
    },
    {
      "cell_type": "code",
      "source": [
        "url_shinagawa_facility = 'http://www.city.shinagawa.tokyo.jp/ct/other000081600/kokyoshisetsu.csv'\n",
        "df_shinagawa_facility = get_data_csv_url(url_shinagawa_facility, encoding='cp932')\n",
        "print(df_shinagawa_facility.shape)\n",
        "\n",
        "df_shinagawa_facility = df_shinagawa_facility.rename(columns={'住所': '所在地', '施設名':'名称', '説明(日本語)':'施設分類'})\n",
        "df_shinagawa_facility['市区町村名'] = '品川区'\n",
        "df_shinagawa_facility = df_shinagawa_facility[extract_columns]\n",
        "df_shinagawa_facility = df_shinagawa_facility[\n",
        "    (df_shinagawa_facility['施設分類'].isin(['公園', '児童遊園', '水辺広場']))\n",
        "].reset_index(drop=True)\n",
        "df_shinagawa_facility['施設分類'] = '公園'\n",
        "change_type(df_shinagawa_facility)\n",
        "print(df_shinagawa_facility.shape)"
      ],
      "metadata": {
        "id": "2vSsXnXA-hhx",
        "outputId": "4271c89a-0087-4b63-bc51-3b3577634a1b",
        "colab": {
          "base_uri": "https://localhost:8080/"
        }
      },
      "execution_count": 20,
      "outputs": [
        {
          "output_type": "stream",
          "name": "stdout",
          "text": [
            "(758, 20)\n",
            "(219, 6)\n"
          ]
        }
      ]
    },
    {
      "cell_type": "markdown",
      "source": [
        "## 10. 目黒区\n",
        "- [区立公園](https://catalog.data.metro.tokyo.lg.jp/dataset/t131105d0000000038/resource/1264013c-5458-409e-95be-208f0d78d51b)"
      ],
      "metadata": {
        "id": "99GocudOn0Bp"
      }
    },
    {
      "cell_type": "code",
      "source": [
        "megro_park_url = 'https://data.bodik.jp/dataset/9f7d70e4-d41f-4199-a180-eb2e3de6e728/resource/28badfb6-f33f-4b12-8ecc-ada279950cee/download/131105_park_20210401.csv'\n",
        "df_megro_park = get_data_csv_url(megro_park_url, 'cp932')\n",
        "print(df_megro_park.shape)\n",
        "\n",
        "df_megro_park['市区町村名'] = '目黒区'\n",
        "df_megro_park['施設分類'] = '公園'\n",
        "df_megro_park = df_megro_park[df_megro_park['面積（㎡）'] >= 500][extract_columns].reset_index(drop=True)\n",
        "change_type(df_megro_park)\n",
        "print(df_megro_park.shape)"
      ],
      "metadata": {
        "id": "wqvlg2mfn7oe",
        "outputId": "ce2e0749-1896-4ae7-b714-abfe7830dd4b",
        "colab": {
          "base_uri": "https://localhost:8080/"
        }
      },
      "execution_count": 21,
      "outputs": [
        {
          "output_type": "stream",
          "name": "stdout",
          "text": [
            "(73, 23)\n",
            "(44, 6)\n"
          ]
        }
      ]
    },
    {
      "cell_type": "markdown",
      "source": [
        "## 11. 大田区\n",
        "- [公園一覧](https://catalog.data.metro.tokyo.lg.jp/dataset/t131113d0000000018/resource/6af8376d-0dc9-47f0-ad66-dd7e612f929c) -> Excelで緯度経度がない"
      ],
      "metadata": {
        "id": "b4WovfLRtplw"
      }
    },
    {
      "cell_type": "markdown",
      "source": [
        "## 12. 世田谷区\n",
        "- [トイレのある公園、身近な広場等一覧](https://www.city.setagaya.lg.jp/mokuji/kusei/012/015/001/001/d00192981.html) -> CSVでない"
      ],
      "metadata": {
        "id": "2w42i2Nt0e83"
      }
    },
    {
      "cell_type": "markdown",
      "source": [
        "## 13. 渋谷区\n",
        "- [公園一覧](https://catalog.data.metro.tokyo.lg.jp/dataset/t131130d0000000003/resource/46345b46-4f99-4342-abba-aabd6029bbb6)"
      ],
      "metadata": {
        "id": "M2Ql8T3r0h0P"
      }
    },
    {
      "cell_type": "code",
      "source": [
        "shibuya_park_url = 'https://www.city.shibuya.tokyo.jp/assets/mng/131130_park.csv'\n",
        "df_shibuya_park = get_data_csv_url(shibuya_park_url)\n",
        "print(df_shibuya_park.shape)\n",
        "\n",
        "df_shibuya_park['施設分類'] = '公園'\n",
        "df_shibuya_park = df_shibuya_park.rename(columns={'住所': '所在地'})\n",
        "df_shibuya_park = df_shibuya_park[df_shibuya_park['面積（平方メートル）'] >= 500][extract_columns].reset_index(drop=True)\n",
        "change_type(df_shibuya_park)\n",
        "print(df_shibuya_park.shape)"
      ],
      "metadata": {
        "id": "Mqag1PfKBVKK",
        "outputId": "b30c2c20-511b-429b-cc67-dce79d0ce8a5",
        "colab": {
          "base_uri": "https://localhost:8080/"
        }
      },
      "execution_count": 22,
      "outputs": [
        {
          "output_type": "stream",
          "name": "stdout",
          "text": [
            "(127, 17)\n",
            "(66, 6)\n"
          ]
        }
      ]
    },
    {
      "cell_type": "markdown",
      "source": [
        "## 14. 中野区\n",
        "- [中野区オープンデータ 公共施設一覧（公園等）](https://www.city.tokyo-nakano.lg.jp/dept/158100/d027582.html)"
      ],
      "metadata": {
        "id": "G7Dkz-Hjwtnn"
      }
    },
    {
      "cell_type": "code",
      "source": [
        "nakano_park_url = 'https://www.city.tokyo-nakano.lg.jp/dept/158100/d027582_d/fil/131148_public_facility_k.csv'\n",
        "df_nakano_park = get_data_csv_url(nakano_park_url)\n",
        "print(df_nakano_park.shape)\n",
        "\n",
        "df_nakano_park['施設分類'] = '公園'\n",
        "df_nakano_park = df_nakano_park.rename(columns={'住所': '所在地'})\n",
        "df_nakano_park = df_nakano_park[extract_columns]\n",
        "change_type(df_nakano_park)\n",
        "print(df_nakano_park.shape)"
      ],
      "metadata": {
        "id": "wQ2PDb9rCtjK",
        "outputId": "2e61190d-60b8-4ead-8400-dc91e1e485de",
        "colab": {
          "base_uri": "https://localhost:8080/"
        }
      },
      "execution_count": 23,
      "outputs": [
        {
          "output_type": "stream",
          "name": "stdout",
          "text": [
            "(188, 39)\n",
            "(188, 6)\n"
          ]
        }
      ]
    },
    {
      "cell_type": "markdown",
      "source": [
        "## 15. 杉並区\n",
        "- [オープンデータ一覧](https://www2.wagmap.jp/suginami/opendata?type=shp&ly=930)"
      ],
      "metadata": {
        "id": "hSjl7KggpvrQ"
      }
    },
    {
      "cell_type": "code",
      "source": [
        "df_suginami_park = pd.read_csv(os.path.join(DIR_NAME, 'original/杉並区_公園.csv'))\n",
        "print(df_suginami_park.shape)\n",
        "\n",
        "df_suginami_park = df_suginami_park[df_suginami_park['分類'].str.strip() == '公園']\n",
        "df_suginami_park['市区町村名'] = '杉並区'\n",
        "df_suginami_park['施設分類'] = '公園'\n",
        "df_suginami_park = df_suginami_park.rename(columns={'住所':'所在地'})[extract_columns]\n",
        "print(df_suginami_park.shape)"
      ],
      "metadata": {
        "id": "g5hbxUr2rP5g",
        "outputId": "23dc0b04-9898-4406-b60d-67cac99f74d8",
        "colab": {
          "base_uri": "https://localhost:8080/"
        }
      },
      "execution_count": 24,
      "outputs": [
        {
          "output_type": "stream",
          "name": "stdout",
          "text": [
            "(357, 9)\n",
            "(335, 6)\n"
          ]
        }
      ]
    },
    {
      "cell_type": "markdown",
      "source": [
        "## 16. 豊島区\n",
        "- [公共施設一覧](https://catalog.data.metro.tokyo.lg.jp/dataset/t131164d0000000010/resource/472e6a97-b350-4909-a939-76530a570324)"
      ],
      "metadata": {
        "id": "RL7zKUAz0bBI"
      }
    },
    {
      "cell_type": "code",
      "source": [
        "url_toshima_facility = 'https://www.opendata.metro.tokyo.lg.jp/toyoshima/R4_public_facility.csv'\n",
        "df_toshima_facility = get_data_csv_url(url_toshima_facility, encoding='cp932')\n",
        "print(df_toshima_facility.shape)\n",
        "\n",
        "df_toshima_facility = df_toshima_facility.rename(columns={'住所': '所在地'})\n",
        "df_toshima_facility['施設分類'] = df_toshima_facility['名称'].apply(get_category_facility)\n",
        "df_toshima_facility = df_toshima_facility[extract_columns]\n",
        "df_toshima_facility = df_toshima_facility[\n",
        "    (df_toshima_facility['施設分類'] == '公園')\n",
        "].reset_index(drop=True)\n",
        "change_type(df_toshima_facility)\n",
        "print(df_toshima_facility.shape)"
      ],
      "metadata": {
        "id": "EsxQYBw7ElDu",
        "outputId": "c198742a-63f9-43ed-9a19-dad7217dab98",
        "colab": {
          "base_uri": "https://localhost:8080/"
        }
      },
      "execution_count": 25,
      "outputs": [
        {
          "output_type": "stream",
          "name": "stdout",
          "text": [
            "(538, 24)\n",
            "(160, 6)\n"
          ]
        }
      ]
    },
    {
      "cell_type": "markdown",
      "source": [
        "## 17. 北区\n",
        "- [公園案内（北区内の公園・児童遊園）](https://www.city.kita.tokyo.jp/d-douro/jutaku/koen/annai.html) -> CSVでない"
      ],
      "metadata": {
        "id": "u9OKlv_M0WpZ"
      }
    },
    {
      "cell_type": "markdown",
      "source": [
        "## 18. 荒川区\n",
        "- [公園](https://www.city.arakawa.tokyo.jp/koen/koen/index.html) -> 一覧はない"
      ],
      "metadata": {
        "id": "zy6eSKS20T2p"
      }
    },
    {
      "cell_type": "markdown",
      "source": [
        "## 19. 板橋区\n",
        "- [公園・公衆便所オープンデータ](https://catalog.data.metro.tokyo.lg.jp/dataset/t131199d0000001151/resource/8bfab687-375e-4634-b1f6-dca56b34fe4c)\n",
        "- [どこでも誰でもおでかけマップオープンデータ（公園）](https://catalog.data.metro.tokyo.lg.jp/dataset/t131199d0000000767/resource/c56d0887-9536-4c92-a965-8ee0a94d28a5)"
      ],
      "metadata": {
        "id": "VUkqCI22urni"
      }
    },
    {
      "cell_type": "code",
      "source": [
        "url_itabashi_park = 'https://www.city.itabashi.tokyo.jp/_res/projects/default_project/_page_/001/014/717/20200401.xlsx'\n",
        "df_itabashi_park = get_data_csv_url(url_itabashi_park, excel=True)\n",
        "print(df_itabashi_park.shape)\n",
        "\n",
        "df_itabashi_park['市区町村名'] = '板橋区'\n",
        "df_itabashi_park['施設分類'] = '公園'\n",
        "df_itabashi_park = df_itabashi_park.rename(columns={'住所':'所在地'})[extract_columns]\n",
        "change_type(df_itabashi_park)\n",
        "print(df_itabashi_park.shape)"
      ],
      "metadata": {
        "id": "tTmDLX5BGJiO",
        "outputId": "5d32a7bf-5e40-40ab-dce0-2dae54c762f1",
        "colab": {
          "base_uri": "https://localhost:8080/"
        }
      },
      "execution_count": 26,
      "outputs": [
        {
          "output_type": "stream",
          "name": "stdout",
          "text": [
            "(230, 20)\n",
            "(230, 6)\n"
          ]
        },
        {
          "output_type": "stream",
          "name": "stderr",
          "text": [
            "/usr/local/lib/python3.7/dist-packages/openpyxl/worksheet/header_footer.py:48: UserWarning: Cannot parse header or footer so it will be ignored\n",
            "  warn(\"\"\"Cannot parse header or footer so it will be ignored\"\"\")\n"
          ]
        }
      ]
    },
    {
      "cell_type": "markdown",
      "source": [
        "## 20. 練馬区\n",
        "- [その他区立公園など（公園等一覧）](https://www.city.nerima.tokyo.jp/kankomoyoshi/annai/fukei/nerima_park/kunai/kouen-itiran.html) -> CSVでない"
      ],
      "metadata": {
        "id": "IrUQq4O1R_U-"
      }
    },
    {
      "cell_type": "code",
      "source": [
        "%%time\n",
        "df_nerima_park = pd.read_csv(os.path.join(DIR_NAME, 'original/練馬区_公園.csv'))\n",
        "print(df_nerima_park.shape)\n",
        "\n",
        "df_nerima_park = df_nerima_park[df_nerima_park['所在地'].notna()].reset_index(drop=True)\n",
        "df_nerima_park['市区町村名'] = '練馬区'\n",
        "df_nerima_park['施設分類'] = '公園'\n",
        "df_nerima_park['町丁目'] = df_nerima_park['所在地'].apply(lambda x: x.split('-')[0]+'丁目')\n",
        "df_nerima_park['面積'] = df_nerima_park['面積'].str.replace(',', '').astype(float)\n",
        "df_nerima_park = df_nerima_park[df_nerima_park['面積'] >= 500]  # 面積の小さい公園は除く\n",
        "df_nerima_park = df_nerima_park.rename(columns={'園名':'名称'})\n",
        "\n",
        "df_nerima_park = add_lat_lon(df_nerima_park)[extract_columns].reset_index(drop=True)\n",
        "print(df_nerima_park.shape)"
      ],
      "metadata": {
        "id": "pwvTvknwqyhj",
        "outputId": "48f7baff-e537-4e8e-cdc0-ff13a0767248",
        "colab": {
          "base_uri": "https://localhost:8080/"
        }
      },
      "execution_count": 27,
      "outputs": [
        {
          "output_type": "stream",
          "name": "stdout",
          "text": [
            "(734, 3)\n",
            "163 練馬区 栄町四十丁目\n",
            "357 練馬区 立野町一八丁目\n",
            "359 練馬区 立野町三二丁目\n",
            "(309, 6)\n",
            "CPU times: user 4.91 s, sys: 333 ms, total: 5.24 s\n",
            "Wall time: 2min 41s\n"
          ]
        }
      ]
    },
    {
      "cell_type": "markdown",
      "source": [
        "## 21. 足立区\n",
        "- [公園・児童遊園・プチテラス・便所のデータ](https://www.city.adachi.tokyo.jp/t-iji/kouenbinran.html) -> 緯度経度がない"
      ],
      "metadata": {
        "id": "wnKQ_F6h0Hw6"
      }
    },
    {
      "cell_type": "markdown",
      "source": [
        "## 22. 葛飾区\n",
        "- [公園](https://catalog.data.metro.tokyo.lg.jp/dataset/t131229d0000000002/resource/8b0d0b9c-ea4f-40e0-af24-fea29078bc0e)"
      ],
      "metadata": {
        "id": "gQjDqsH_0Llk"
      }
    },
    {
      "cell_type": "code",
      "source": [
        "url_katsushika_park = 'https://www.opendata.metro.tokyo.lg.jp/suisyoudataset/131229__public_facility_6.csv'\n",
        "df_katsushika_park = get_data_csv_url(url_katsushika_park, encoding='shift-jis')\n",
        "df_katsushika_park = df_katsushika_park.dropna(how='all')\n",
        "print(df_katsushika_park.shape)\n",
        "\n",
        "df_katsushika_park = df_katsushika_park[df_katsushika_park['データセット名'].notna()].reset_index(drop=True)\n",
        "df_katsushika_park['施設分類'] = '公園'\n",
        "df_katsushika_park = df_katsushika_park.rename(columns={'名称（例）':'名称', '住所':'所在地', '軽度':'経度'})[extract_columns]\n",
        "change_type(df_katsushika_park)\n",
        "print(df_katsushika_park.shape)"
      ],
      "metadata": {
        "id": "WRDm1JReHQHd",
        "outputId": "02e15947-9012-4874-d3fc-670dc47ef068",
        "colab": {
          "base_uri": "https://localhost:8080/"
        }
      },
      "execution_count": 28,
      "outputs": [
        {
          "output_type": "stream",
          "name": "stderr",
          "text": [
            "/usr/local/lib/python3.7/dist-packages/ipykernel_launcher.py:2: DtypeWarning: Columns (2,3,4,5,7,8,9,12,20,22,24,25,39) have mixed types.Specify dtype option on import or set low_memory=False.\n",
            "  \n"
          ]
        },
        {
          "output_type": "stream",
          "name": "stdout",
          "text": [
            "(26, 40)\n",
            "(25, 6)\n"
          ]
        }
      ]
    },
    {
      "cell_type": "markdown",
      "source": [
        "## 23. 江戸川区\n",
        "- [公園・親水公園・動物園](https://www.city.edogawa.tokyo.jp/e066/kuseijoho/gaiyo/shisetsuguide/bunya/koendobutsuen/index.html) -> CSVでない"
      ],
      "metadata": {
        "id": "ppaYDhfs0Ooq"
      }
    },
    {
      "cell_type": "markdown",
      "source": [
        "## 公園マスタ"
      ],
      "metadata": {
        "id": "9x6VJEBUSGeh"
      }
    },
    {
      "cell_type": "markdown",
      "source": [
        "|No.|区名|データ|\n",
        "|:----|:----|:----|\n",
        "|0|東京都|済み|\n",
        "|1|千代田区| |\n",
        "|2|中央区|済み|\n",
        "|3|港区|済み|\n",
        "|4|新宿区| |\n",
        "|5|文京区|済み|\n",
        "|6|台東区|済み|\n",
        "|7|墨田区|済み|\n",
        "|8|江東区|済み|\n",
        "|9|品川区|済み|\n",
        "|10|目黒区|済み|\n",
        "|11|大田区| |\n",
        "|12|世田谷区| |\n",
        "|13|渋谷区|済み|\n",
        "|14|中野区|済み|\n",
        "|15|杉並区|済み|\n",
        "|16|豊島区|済み|\n",
        "|17|北区| |\n",
        "|18|荒川区| |\n",
        "|19|板橋区|済み|\n",
        "|20|練馬区|済み|\n",
        "|21|足立区| |\n",
        "|22|葛飾区|済み|\n",
        "|23|江戸川区| |\n"
      ],
      "metadata": {
        "id": "YrYU6XXNxnu4"
      }
    },
    {
      "cell_type": "code",
      "source": [
        "# df_park_master = pd.concat([\n",
        "#     df_tokyo_public_facility,\n",
        "#     df_chuou_park,\n",
        "#     df_minato_park,\n",
        "#     df_bunkyo_park,\n",
        "#     df_taito_park,\n",
        "#     df_sumida_park,\n",
        "#     df_koutou_park,\n",
        "#     df_shinagawa_facility,\n",
        "#     df_megro_park,\n",
        "#     df_shibuya_park,\n",
        "#     df_nakano_park,\n",
        "#     df_suginami_park,\n",
        "#     df_toshima_facility,\n",
        "#     df_itabashi_park,\n",
        "#     df_nerima_park,\n",
        "#     df_katsushika_park,\n",
        "# ]).reset_index(drop=True)\n",
        "# print(df_park_master.shape)\n",
        "\n",
        "# google mapで取得したデータを使う\n",
        "df_park_master = df_municipal_park\n",
        "print(df_park_master.shape)"
      ],
      "metadata": {
        "colab": {
          "base_uri": "https://localhost:8080/"
        },
        "id": "81JjNDiASF-3",
        "outputId": "cdcd474b-d04f-4088-e160-6d64d84a6670"
      },
      "execution_count": 29,
      "outputs": [
        {
          "output_type": "stream",
          "name": "stdout",
          "text": [
            "(2406, 9)\n"
          ]
        }
      ]
    },
    {
      "cell_type": "code",
      "source": [
        "df_park_master.head()"
      ],
      "metadata": {
        "colab": {
          "base_uri": "https://localhost:8080/",
          "height": 206
        },
        "id": "DuOMlpqHSKvK",
        "outputId": "365214d3-d65a-4c71-ece1-d17a7e576b63"
      },
      "execution_count": 30,
      "outputs": [
        {
          "output_type": "execute_result",
          "data": {
            "text/plain": [
              "          name         緯度          経度  rating                 所在地 市区町村名 施設分類  \\\n",
              "0  千代田区立 神田橋公園  35.689720  139.764188     3.5       千代田区神田錦町１丁目２９  千代田区   公園   \n",
              "1     中央区立常盤公園  35.688113  139.769969     3.4  中央区中央区日本橋本石町４丁目４−３   中央区   公園   \n",
              "2   中央区立数寄屋橋公園  35.672641  139.762337     3.7         中央区銀座５丁目１−１   中央区   公園   \n",
              "3      港区立西桜公園  35.667991  139.749414     3.0        港区虎ノ門１丁目１７−４    港区   公園   \n",
              "4    港区立江戸見坂公園  35.667423  139.744127     2.0        港区虎ノ門２丁目１０−２    港区   公園   \n",
              "\n",
              "      設立      名称  \n",
              "0  千代田区立   神田橋公園  \n",
              "1   中央区立    常盤公園  \n",
              "2   中央区立  数寄屋橋公園  \n",
              "3    港区立    西桜公園  \n",
              "4    港区立  江戸見坂公園  "
            ],
            "text/html": [
              "\n",
              "  <div id=\"df-079bf9f3-7434-45ce-9cf8-a9bb9d6a7a16\">\n",
              "    <div class=\"colab-df-container\">\n",
              "      <div>\n",
              "<style scoped>\n",
              "    .dataframe tbody tr th:only-of-type {\n",
              "        vertical-align: middle;\n",
              "    }\n",
              "\n",
              "    .dataframe tbody tr th {\n",
              "        vertical-align: top;\n",
              "    }\n",
              "\n",
              "    .dataframe thead th {\n",
              "        text-align: right;\n",
              "    }\n",
              "</style>\n",
              "<table border=\"1\" class=\"dataframe\">\n",
              "  <thead>\n",
              "    <tr style=\"text-align: right;\">\n",
              "      <th></th>\n",
              "      <th>name</th>\n",
              "      <th>緯度</th>\n",
              "      <th>経度</th>\n",
              "      <th>rating</th>\n",
              "      <th>所在地</th>\n",
              "      <th>市区町村名</th>\n",
              "      <th>施設分類</th>\n",
              "      <th>設立</th>\n",
              "      <th>名称</th>\n",
              "    </tr>\n",
              "  </thead>\n",
              "  <tbody>\n",
              "    <tr>\n",
              "      <th>0</th>\n",
              "      <td>千代田区立 神田橋公園</td>\n",
              "      <td>35.689720</td>\n",
              "      <td>139.764188</td>\n",
              "      <td>3.5</td>\n",
              "      <td>千代田区神田錦町１丁目２９</td>\n",
              "      <td>千代田区</td>\n",
              "      <td>公園</td>\n",
              "      <td>千代田区立</td>\n",
              "      <td>神田橋公園</td>\n",
              "    </tr>\n",
              "    <tr>\n",
              "      <th>1</th>\n",
              "      <td>中央区立常盤公園</td>\n",
              "      <td>35.688113</td>\n",
              "      <td>139.769969</td>\n",
              "      <td>3.4</td>\n",
              "      <td>中央区中央区日本橋本石町４丁目４−３</td>\n",
              "      <td>中央区</td>\n",
              "      <td>公園</td>\n",
              "      <td>中央区立</td>\n",
              "      <td>常盤公園</td>\n",
              "    </tr>\n",
              "    <tr>\n",
              "      <th>2</th>\n",
              "      <td>中央区立数寄屋橋公園</td>\n",
              "      <td>35.672641</td>\n",
              "      <td>139.762337</td>\n",
              "      <td>3.7</td>\n",
              "      <td>中央区銀座５丁目１−１</td>\n",
              "      <td>中央区</td>\n",
              "      <td>公園</td>\n",
              "      <td>中央区立</td>\n",
              "      <td>数寄屋橋公園</td>\n",
              "    </tr>\n",
              "    <tr>\n",
              "      <th>3</th>\n",
              "      <td>港区立西桜公園</td>\n",
              "      <td>35.667991</td>\n",
              "      <td>139.749414</td>\n",
              "      <td>3.0</td>\n",
              "      <td>港区虎ノ門１丁目１７−４</td>\n",
              "      <td>港区</td>\n",
              "      <td>公園</td>\n",
              "      <td>港区立</td>\n",
              "      <td>西桜公園</td>\n",
              "    </tr>\n",
              "    <tr>\n",
              "      <th>4</th>\n",
              "      <td>港区立江戸見坂公園</td>\n",
              "      <td>35.667423</td>\n",
              "      <td>139.744127</td>\n",
              "      <td>2.0</td>\n",
              "      <td>港区虎ノ門２丁目１０−２</td>\n",
              "      <td>港区</td>\n",
              "      <td>公園</td>\n",
              "      <td>港区立</td>\n",
              "      <td>江戸見坂公園</td>\n",
              "    </tr>\n",
              "  </tbody>\n",
              "</table>\n",
              "</div>\n",
              "      <button class=\"colab-df-convert\" onclick=\"convertToInteractive('df-079bf9f3-7434-45ce-9cf8-a9bb9d6a7a16')\"\n",
              "              title=\"Convert this dataframe to an interactive table.\"\n",
              "              style=\"display:none;\">\n",
              "        \n",
              "  <svg xmlns=\"http://www.w3.org/2000/svg\" height=\"24px\"viewBox=\"0 0 24 24\"\n",
              "       width=\"24px\">\n",
              "    <path d=\"M0 0h24v24H0V0z\" fill=\"none\"/>\n",
              "    <path d=\"M18.56 5.44l.94 2.06.94-2.06 2.06-.94-2.06-.94-.94-2.06-.94 2.06-2.06.94zm-11 1L8.5 8.5l.94-2.06 2.06-.94-2.06-.94L8.5 2.5l-.94 2.06-2.06.94zm10 10l.94 2.06.94-2.06 2.06-.94-2.06-.94-.94-2.06-.94 2.06-2.06.94z\"/><path d=\"M17.41 7.96l-1.37-1.37c-.4-.4-.92-.59-1.43-.59-.52 0-1.04.2-1.43.59L10.3 9.45l-7.72 7.72c-.78.78-.78 2.05 0 2.83L4 21.41c.39.39.9.59 1.41.59.51 0 1.02-.2 1.41-.59l7.78-7.78 2.81-2.81c.8-.78.8-2.07 0-2.86zM5.41 20L4 18.59l7.72-7.72 1.47 1.35L5.41 20z\"/>\n",
              "  </svg>\n",
              "      </button>\n",
              "      \n",
              "  <style>\n",
              "    .colab-df-container {\n",
              "      display:flex;\n",
              "      flex-wrap:wrap;\n",
              "      gap: 12px;\n",
              "    }\n",
              "\n",
              "    .colab-df-convert {\n",
              "      background-color: #E8F0FE;\n",
              "      border: none;\n",
              "      border-radius: 50%;\n",
              "      cursor: pointer;\n",
              "      display: none;\n",
              "      fill: #1967D2;\n",
              "      height: 32px;\n",
              "      padding: 0 0 0 0;\n",
              "      width: 32px;\n",
              "    }\n",
              "\n",
              "    .colab-df-convert:hover {\n",
              "      background-color: #E2EBFA;\n",
              "      box-shadow: 0px 1px 2px rgba(60, 64, 67, 0.3), 0px 1px 3px 1px rgba(60, 64, 67, 0.15);\n",
              "      fill: #174EA6;\n",
              "    }\n",
              "\n",
              "    [theme=dark] .colab-df-convert {\n",
              "      background-color: #3B4455;\n",
              "      fill: #D2E3FC;\n",
              "    }\n",
              "\n",
              "    [theme=dark] .colab-df-convert:hover {\n",
              "      background-color: #434B5C;\n",
              "      box-shadow: 0px 1px 3px 1px rgba(0, 0, 0, 0.15);\n",
              "      filter: drop-shadow(0px 1px 2px rgba(0, 0, 0, 0.3));\n",
              "      fill: #FFFFFF;\n",
              "    }\n",
              "  </style>\n",
              "\n",
              "      <script>\n",
              "        const buttonEl =\n",
              "          document.querySelector('#df-079bf9f3-7434-45ce-9cf8-a9bb9d6a7a16 button.colab-df-convert');\n",
              "        buttonEl.style.display =\n",
              "          google.colab.kernel.accessAllowed ? 'block' : 'none';\n",
              "\n",
              "        async function convertToInteractive(key) {\n",
              "          const element = document.querySelector('#df-079bf9f3-7434-45ce-9cf8-a9bb9d6a7a16');\n",
              "          const dataTable =\n",
              "            await google.colab.kernel.invokeFunction('convertToInteractive',\n",
              "                                                     [key], {});\n",
              "          if (!dataTable) return;\n",
              "\n",
              "          const docLinkHtml = 'Like what you see? Visit the ' +\n",
              "            '<a target=\"_blank\" href=https://colab.research.google.com/notebooks/data_table.ipynb>data table notebook</a>'\n",
              "            + ' to learn more about interactive tables.';\n",
              "          element.innerHTML = '';\n",
              "          dataTable['output_type'] = 'display_data';\n",
              "          await google.colab.output.renderOutput(dataTable, element);\n",
              "          const docLink = document.createElement('div');\n",
              "          docLink.innerHTML = docLinkHtml;\n",
              "          element.appendChild(docLink);\n",
              "        }\n",
              "      </script>\n",
              "    </div>\n",
              "  </div>\n",
              "  "
            ]
          },
          "metadata": {},
          "execution_count": 30
        }
      ]
    },
    {
      "cell_type": "code",
      "source": [
        "df_park_master.to_csv(os.path.join(DIR_NAME, 'park_master.csv'), index=False)"
      ],
      "metadata": {
        "id": "1kc_VsQUuL0V"
      },
      "execution_count": 31,
      "outputs": []
    },
    {
      "cell_type": "code",
      "source": [
        "# データがある区をリストアップ\n",
        "sr_park_count = df_park_master[df_park_master['施設分類'] == '公園']['市区町村名'].value_counts()\n",
        "ward_list = list(sr_park_count[sr_park_count > 0].index)\n",
        "print(len(ward_list))"
      ],
      "metadata": {
        "id": "mxCmxoMv03eQ",
        "outputId": "3530a79a-42d4-4ae2-cd35-faa105e5d96d",
        "colab": {
          "base_uri": "https://localhost:8080/"
        }
      },
      "execution_count": 32,
      "outputs": [
        {
          "output_type": "stream",
          "name": "stdout",
          "text": [
            "23\n"
          ]
        }
      ]
    },
    {
      "cell_type": "markdown",
      "source": [
        "## 人口マスタ"
      ],
      "metadata": {
        "id": "jdT3_lplSwOo"
      }
    },
    {
      "cell_type": "code",
      "source": [
        "population = pd.read_csv(os.path.join(DIR_NAME, 'population_master.csv'))\n",
        "print(population.shape)\n",
        "df_pop_master = population[population['市区町村名'].isin(ward_list)][['地域ID', '市区町村名', '町名', '町丁目', '緯度', '経度']].reset_index(drop=True)\n",
        "print(df_pop_master.shape)"
      ],
      "metadata": {
        "colab": {
          "base_uri": "https://localhost:8080/"
        },
        "id": "mmH8g81kP2Cb",
        "outputId": "6b8b6f5c-b6c9-4ab3-d246-fcff37c86d4a"
      },
      "execution_count": 33,
      "outputs": [
        {
          "output_type": "stream",
          "name": "stdout",
          "text": [
            "(3145, 32)\n",
            "(3145, 6)\n"
          ]
        }
      ]
    },
    {
      "cell_type": "code",
      "source": [
        "def rank_score(sr_data):\n",
        "    size = sr_data.notna().sum()\n",
        "    rank = sr_data.rank()\n",
        "    result = rank.copy()\n",
        "    # 0~1: 15%, 1~2: 20%, 2~3: 30%, 3~4: 20%, 4~5: 15%\n",
        "    level_list = [0.15, (0.15+0.2), (0.15+0.2+0.3), (0.15+0.2+0.3+0.2), 1]\n",
        "    \n",
        "    pre_level = 0\n",
        "    for index, level in enumerate([lv*size for lv in level_list]):\n",
        "        result[(rank > pre_level)&(rank <= level)] = (rank - pre_level)/(level - pre_level) + index\n",
        "        pre_level = level\n",
        "\n",
        "    return result"
      ],
      "metadata": {
        "id": "qsPRvvbUTnlK"
      },
      "execution_count": 34,
      "outputs": []
    },
    {
      "cell_type": "markdown",
      "source": [
        "## 公園スコア"
      ],
      "metadata": {
        "id": "E5-It_S7RmkQ"
      }
    },
    {
      "cell_type": "code",
      "source": [
        "%%time\n",
        "# 近い5件の距離の平均\n",
        "df_pop_master['公園(平均距離)'] = get_value_of_nearest_facility(df_pop_master, df_park_master, '公園', 'mean', 5)\n",
        "# 1km以内の施設の数\n",
        "df_pop_master['公園(数)'] = get_value_of_nearest_facility(df_pop_master, df_park_master, '公園', 'count', 1)"
      ],
      "metadata": {
        "colab": {
          "base_uri": "https://localhost:8080/"
        },
        "id": "sn7VhpDmQJsi",
        "outputId": "87e36fec-1da2-4c98-a687-b3105c35d646"
      },
      "execution_count": 35,
      "outputs": [
        {
          "output_type": "stream",
          "name": "stdout",
          "text": [
            "CPU times: user 5min 33s, sys: 884 ms, total: 5min 33s\n",
            "Wall time: 5min 34s\n"
          ]
        }
      ]
    },
    {
      "cell_type": "code",
      "source": [
        "print(df_pop_master.shape)\n",
        "df_pop_master.head()"
      ],
      "metadata": {
        "colab": {
          "base_uri": "https://localhost:8080/",
          "height": 224
        },
        "id": "pNI5D7LZTJE3",
        "outputId": "fa965a0b-4c05-433d-916f-875a382720ff"
      },
      "execution_count": 36,
      "outputs": [
        {
          "output_type": "stream",
          "name": "stdout",
          "text": [
            "(3145, 8)\n"
          ]
        },
        {
          "output_type": "execute_result",
          "data": {
            "text/plain": [
              "     地域ID 市区町村名   町名     町丁目         緯度          経度  公園(平均距離)  公園(数)\n",
              "0  101003  千代田区  丸の内  丸の内１丁目  35.681610  139.767511  0.937389      3\n",
              "1  101004  千代田区  丸の内  丸の内２丁目  35.680071  139.763944  0.971089      2\n",
              "2  101005  千代田区  丸の内  丸の内３丁目  35.676890  139.764039  0.770870      5\n",
              "3  101007  千代田区  大手町  大手町１丁目  35.688067  139.764353  0.640755      4\n",
              "4  101008  千代田区  大手町  大手町２丁目  35.686416  139.768530  0.653571      5"
            ],
            "text/html": [
              "\n",
              "  <div id=\"df-40a69e82-b15f-44a9-a14b-d07b2be0b861\">\n",
              "    <div class=\"colab-df-container\">\n",
              "      <div>\n",
              "<style scoped>\n",
              "    .dataframe tbody tr th:only-of-type {\n",
              "        vertical-align: middle;\n",
              "    }\n",
              "\n",
              "    .dataframe tbody tr th {\n",
              "        vertical-align: top;\n",
              "    }\n",
              "\n",
              "    .dataframe thead th {\n",
              "        text-align: right;\n",
              "    }\n",
              "</style>\n",
              "<table border=\"1\" class=\"dataframe\">\n",
              "  <thead>\n",
              "    <tr style=\"text-align: right;\">\n",
              "      <th></th>\n",
              "      <th>地域ID</th>\n",
              "      <th>市区町村名</th>\n",
              "      <th>町名</th>\n",
              "      <th>町丁目</th>\n",
              "      <th>緯度</th>\n",
              "      <th>経度</th>\n",
              "      <th>公園(平均距離)</th>\n",
              "      <th>公園(数)</th>\n",
              "    </tr>\n",
              "  </thead>\n",
              "  <tbody>\n",
              "    <tr>\n",
              "      <th>0</th>\n",
              "      <td>101003</td>\n",
              "      <td>千代田区</td>\n",
              "      <td>丸の内</td>\n",
              "      <td>丸の内１丁目</td>\n",
              "      <td>35.681610</td>\n",
              "      <td>139.767511</td>\n",
              "      <td>0.937389</td>\n",
              "      <td>3</td>\n",
              "    </tr>\n",
              "    <tr>\n",
              "      <th>1</th>\n",
              "      <td>101004</td>\n",
              "      <td>千代田区</td>\n",
              "      <td>丸の内</td>\n",
              "      <td>丸の内２丁目</td>\n",
              "      <td>35.680071</td>\n",
              "      <td>139.763944</td>\n",
              "      <td>0.971089</td>\n",
              "      <td>2</td>\n",
              "    </tr>\n",
              "    <tr>\n",
              "      <th>2</th>\n",
              "      <td>101005</td>\n",
              "      <td>千代田区</td>\n",
              "      <td>丸の内</td>\n",
              "      <td>丸の内３丁目</td>\n",
              "      <td>35.676890</td>\n",
              "      <td>139.764039</td>\n",
              "      <td>0.770870</td>\n",
              "      <td>5</td>\n",
              "    </tr>\n",
              "    <tr>\n",
              "      <th>3</th>\n",
              "      <td>101007</td>\n",
              "      <td>千代田区</td>\n",
              "      <td>大手町</td>\n",
              "      <td>大手町１丁目</td>\n",
              "      <td>35.688067</td>\n",
              "      <td>139.764353</td>\n",
              "      <td>0.640755</td>\n",
              "      <td>4</td>\n",
              "    </tr>\n",
              "    <tr>\n",
              "      <th>4</th>\n",
              "      <td>101008</td>\n",
              "      <td>千代田区</td>\n",
              "      <td>大手町</td>\n",
              "      <td>大手町２丁目</td>\n",
              "      <td>35.686416</td>\n",
              "      <td>139.768530</td>\n",
              "      <td>0.653571</td>\n",
              "      <td>5</td>\n",
              "    </tr>\n",
              "  </tbody>\n",
              "</table>\n",
              "</div>\n",
              "      <button class=\"colab-df-convert\" onclick=\"convertToInteractive('df-40a69e82-b15f-44a9-a14b-d07b2be0b861')\"\n",
              "              title=\"Convert this dataframe to an interactive table.\"\n",
              "              style=\"display:none;\">\n",
              "        \n",
              "  <svg xmlns=\"http://www.w3.org/2000/svg\" height=\"24px\"viewBox=\"0 0 24 24\"\n",
              "       width=\"24px\">\n",
              "    <path d=\"M0 0h24v24H0V0z\" fill=\"none\"/>\n",
              "    <path d=\"M18.56 5.44l.94 2.06.94-2.06 2.06-.94-2.06-.94-.94-2.06-.94 2.06-2.06.94zm-11 1L8.5 8.5l.94-2.06 2.06-.94-2.06-.94L8.5 2.5l-.94 2.06-2.06.94zm10 10l.94 2.06.94-2.06 2.06-.94-2.06-.94-.94-2.06-.94 2.06-2.06.94z\"/><path d=\"M17.41 7.96l-1.37-1.37c-.4-.4-.92-.59-1.43-.59-.52 0-1.04.2-1.43.59L10.3 9.45l-7.72 7.72c-.78.78-.78 2.05 0 2.83L4 21.41c.39.39.9.59 1.41.59.51 0 1.02-.2 1.41-.59l7.78-7.78 2.81-2.81c.8-.78.8-2.07 0-2.86zM5.41 20L4 18.59l7.72-7.72 1.47 1.35L5.41 20z\"/>\n",
              "  </svg>\n",
              "      </button>\n",
              "      \n",
              "  <style>\n",
              "    .colab-df-container {\n",
              "      display:flex;\n",
              "      flex-wrap:wrap;\n",
              "      gap: 12px;\n",
              "    }\n",
              "\n",
              "    .colab-df-convert {\n",
              "      background-color: #E8F0FE;\n",
              "      border: none;\n",
              "      border-radius: 50%;\n",
              "      cursor: pointer;\n",
              "      display: none;\n",
              "      fill: #1967D2;\n",
              "      height: 32px;\n",
              "      padding: 0 0 0 0;\n",
              "      width: 32px;\n",
              "    }\n",
              "\n",
              "    .colab-df-convert:hover {\n",
              "      background-color: #E2EBFA;\n",
              "      box-shadow: 0px 1px 2px rgba(60, 64, 67, 0.3), 0px 1px 3px 1px rgba(60, 64, 67, 0.15);\n",
              "      fill: #174EA6;\n",
              "    }\n",
              "\n",
              "    [theme=dark] .colab-df-convert {\n",
              "      background-color: #3B4455;\n",
              "      fill: #D2E3FC;\n",
              "    }\n",
              "\n",
              "    [theme=dark] .colab-df-convert:hover {\n",
              "      background-color: #434B5C;\n",
              "      box-shadow: 0px 1px 3px 1px rgba(0, 0, 0, 0.15);\n",
              "      filter: drop-shadow(0px 1px 2px rgba(0, 0, 0, 0.3));\n",
              "      fill: #FFFFFF;\n",
              "    }\n",
              "  </style>\n",
              "\n",
              "      <script>\n",
              "        const buttonEl =\n",
              "          document.querySelector('#df-40a69e82-b15f-44a9-a14b-d07b2be0b861 button.colab-df-convert');\n",
              "        buttonEl.style.display =\n",
              "          google.colab.kernel.accessAllowed ? 'block' : 'none';\n",
              "\n",
              "        async function convertToInteractive(key) {\n",
              "          const element = document.querySelector('#df-40a69e82-b15f-44a9-a14b-d07b2be0b861');\n",
              "          const dataTable =\n",
              "            await google.colab.kernel.invokeFunction('convertToInteractive',\n",
              "                                                     [key], {});\n",
              "          if (!dataTable) return;\n",
              "\n",
              "          const docLinkHtml = 'Like what you see? Visit the ' +\n",
              "            '<a target=\"_blank\" href=https://colab.research.google.com/notebooks/data_table.ipynb>data table notebook</a>'\n",
              "            + ' to learn more about interactive tables.';\n",
              "          element.innerHTML = '';\n",
              "          dataTable['output_type'] = 'display_data';\n",
              "          await google.colab.output.renderOutput(dataTable, element);\n",
              "          const docLink = document.createElement('div');\n",
              "          docLink.innerHTML = docLinkHtml;\n",
              "          element.appendChild(docLink);\n",
              "        }\n",
              "      </script>\n",
              "    </div>\n",
              "  </div>\n",
              "  "
            ]
          },
          "metadata": {},
          "execution_count": 36
        }
      ]
    },
    {
      "cell_type": "code",
      "source": [
        "score_name = '公園スコア'\n",
        "feature_list = {\n",
        "    '公園(平均距離)':     {'sort': -1, 'weight': 1},\n",
        "    '公園(数)':           {'sort': 1, 'weight': 1}, \n",
        "}\n",
        "all_feature_list = list(feature_list.keys())"
      ],
      "metadata": {
        "id": "wro2h5WC6yuL"
      },
      "execution_count": 37,
      "outputs": []
    },
    {
      "cell_type": "code",
      "source": [
        "for feature_name in feature_list.keys():\n",
        "    sns.histplot(df_pop_master[feature_name], bins=20)\n",
        "    plt.show()"
      ],
      "metadata": {
        "id": "Onguh3i3RhjQ",
        "outputId": "45b33878-c502-4eb0-9b7f-98082bc667a1",
        "colab": {
          "base_uri": "https://localhost:8080/",
          "height": 539
        }
      },
      "execution_count": 38,
      "outputs": [
        {
          "output_type": "display_data",
          "data": {
            "text/plain": [
              "<Figure size 432x288 with 1 Axes>"
            ],
            "image/png": "[encoded data removed]"
          },
          "metadata": {
            "needs_background": "light"
          }
        },
        {
          "output_type": "display_data",
          "data": {
            "text/plain": [
              "<Figure size 432x288 with 1 Axes>"
            ],
            "image/png": "[encoded data removed]"
          },
          "metadata": {
            "needs_background": "light"
          }
        }
      ]
    },
    {
      "cell_type": "code",
      "source": [
        "score_list = []\n",
        "for key, value in feature_list.items():\n",
        "    df_pop_master[f'{key}レベル'] = rank_score(df_pop_master[key] * value['sort'])\n",
        "    score_list.append(df_pop_master[f'{key}レベル'] * value['weight'])\n",
        "\n",
        "_tmp_score = pd.concat(score_list, axis=1).sum(axis=1, skipna=False)\n",
        "df_pop_master[score_name] = rank_score(_tmp_score)"
      ],
      "metadata": {
        "id": "O_t4w8yzRwTg"
      },
      "execution_count": 39,
      "outputs": []
    },
    {
      "cell_type": "code",
      "source": [
        "sns.histplot(_tmp_score, bins=20)\n",
        "plt.show()"
      ],
      "metadata": {
        "id": "KGwzR6tmR0jG",
        "outputId": "f0ab283c-bf3e-4fef-9311-2cc0fdb6bdfb",
        "colab": {
          "base_uri": "https://localhost:8080/",
          "height": 264
        }
      },
      "execution_count": 40,
      "outputs": [
        {
          "output_type": "display_data",
          "data": {
            "text/plain": [
              "<Figure size 432x288 with 1 Axes>"
            ],
            "image/png": "[encoded data removed]"
          },
          "metadata": {
            "needs_background": "light"
          }
        }
      ]
    },
    {
      "cell_type": "code",
      "source": [
        "sns.histplot(df_pop_master[score_name], bins=20)\n",
        "plt.show()"
      ],
      "metadata": {
        "id": "gWPjyoaX7Em5",
        "outputId": "e801065f-a333-447b-ea42-7da45ad4765a",
        "colab": {
          "base_uri": "https://localhost:8080/",
          "height": 277
        }
      },
      "execution_count": 41,
      "outputs": [
        {
          "output_type": "display_data",
          "data": {
            "text/plain": [
              "<Figure size 432x288 with 1 Axes>"
            ],
            "image/png": "[encoded data removed]"
          },
          "metadata": {
            "needs_background": "light"
          }
        }
      ]
    },
    {
      "cell_type": "code",
      "source": [
        "df_pop_master[score_name] = df_pop_master[score_name].round(3)\n",
        "df_pop_master['公園(平均距離)'] = df_pop_master['公園(平均距離)'].round(3)"
      ],
      "metadata": {
        "id": "1A2uhFPUR5pO"
      },
      "execution_count": 42,
      "outputs": []
    },
    {
      "cell_type": "markdown",
      "source": [
        "## 保存"
      ],
      "metadata": {
        "id": "ySZnii0BU2mP"
      }
    },
    {
      "cell_type": "code",
      "source": [
        "df_pop_master[\n",
        "    ['地域ID'] + all_feature_list + [score_name]\n",
        "].to_csv(os.path.join(DIR_NAME, output_score_file), index=False)"
      ],
      "metadata": {
        "id": "zcsj2mFmSPIk"
      },
      "execution_count": 43,
      "outputs": []
    },
    {
      "cell_type": "code",
      "source": [
        "plt.figure(figsize=(15, 5))\n",
        "sns.barplot(x='市区町村名', y=score_name, data=df_pop_master)\n",
        "plt.show()"
      ],
      "metadata": {
        "colab": {
          "base_uri": "https://localhost:8080/",
          "height": 333
        },
        "id": "3tJjlj0keD_-",
        "outputId": "5dde8d34-923c-4b29-c65d-fce30b4cbdcc"
      },
      "execution_count": 44,
      "outputs": [
        {
          "output_type": "display_data",
          "data": {
            "text/plain": [
              "<Figure size 1080x360 with 1 Axes>"
            ],
            "image/png": "[encoded data removed]"
          },
          "metadata": {
            "needs_background": "light"
          }
        }
      ]
    },
    {
      "cell_type": "code",
      "source": [
        "def get_score_top(df_data, target):\n",
        "    df_level = df_data.copy()\n",
        "    score_name = f'{target}スコア'\n",
        "    feature_cols = [col for col in all_feature_list if col.startswith(target)]\n",
        "    df_level['rank'] = df_level.groupby('町名')[score_name].transform('rank', ascending=False)\n",
        "    df_level = df_level[df_level['rank'] == 1].sort_values(score_name, ascending=False)[\n",
        "        ['市区町村名', '町名', '町丁目'] + feature_cols + [score_name]\n",
        "    ].reset_index(drop=True)\n",
        "    return df_level"
      ],
      "metadata": {
        "id": "1uo9GIIvStL_"
      },
      "execution_count": 45,
      "outputs": []
    },
    {
      "cell_type": "code",
      "source": [
        "df_level = get_score_top(df_pop_master, '公園')\n",
        "print(df_level.shape)\n",
        "df_level.head(10)"
      ],
      "metadata": {
        "colab": {
          "base_uri": "https://localhost:8080/",
          "height": 380
        },
        "id": "HmlzRQiaZZZC",
        "outputId": "38c1eb09-a4aa-4b3f-d6da-78aeaa2e8830"
      },
      "execution_count": 46,
      "outputs": [
        {
          "output_type": "stream",
          "name": "stdout",
          "text": [
            "(910, 6)\n"
          ]
        },
        {
          "output_type": "execute_result",
          "data": {
            "text/plain": [
              "  市区町村名   町名     町丁目  公園(平均距離)  公園(数)  公園スコア\n",
              "0   新宿区  百人町  百人町３丁目     0.097     46  5.000\n",
              "1   練馬区  土支田  土支田３丁目     0.152     51  4.998\n",
              "2   練馬区   早宮   早宮１丁目     0.128     45  4.994\n",
              "3   中野区  東中野  東中野５丁目     0.160     49  4.992\n",
              "4   練馬区  大泉町  大泉町６丁目     0.155     44  4.989\n",
              "5   練馬区  高野台  高野台４丁目     0.110     39  4.987\n",
              "6   中野区   本町   本町１丁目     0.145     40  4.985\n",
              "7   練馬区   高松   高松３丁目     0.165     40  4.983\n",
              "8   中野区   南台   南台２丁目     0.189     47  4.981\n",
              "9   練馬区   練馬   練馬１丁目     0.154     38  4.975"
            ],
            "text/html": [
              "\n",
              "  <div id=\"df-bae4ae6c-ae51-4fa7-807f-a2f4d9e11e32\">\n",
              "    <div class=\"colab-df-container\">\n",
              "      <div>\n",
              "<style scoped>\n",
              "    .dataframe tbody tr th:only-of-type {\n",
              "        vertical-align: middle;\n",
              "    }\n",
              "\n",
              "    .dataframe tbody tr th {\n",
              "        vertical-align: top;\n",
              "    }\n",
              "\n",
              "    .dataframe thead th {\n",
              "        text-align: right;\n",
              "    }\n",
              "</style>\n",
              "<table border=\"1\" class=\"dataframe\">\n",
              "  <thead>\n",
              "    <tr style=\"text-align: right;\">\n",
              "      <th></th>\n",
              "      <th>市区町村名</th>\n",
              "      <th>町名</th>\n",
              "      <th>町丁目</th>\n",
              "      <th>公園(平均距離)</th>\n",
              "      <th>公園(数)</th>\n",
              "      <th>公園スコア</th>\n",
              "    </tr>\n",
              "  </thead>\n",
              "  <tbody>\n",
              "    <tr>\n",
              "      <th>0</th>\n",
              "      <td>新宿区</td>\n",
              "      <td>百人町</td>\n",
              "      <td>百人町３丁目</td>\n",
              "      <td>0.097</td>\n",
              "      <td>46</td>\n",
              "      <td>5.000</td>\n",
              "    </tr>\n",
              "    <tr>\n",
              "      <th>1</th>\n",
              "      <td>練馬区</td>\n",
              "      <td>土支田</td>\n",
              "      <td>土支田３丁目</td>\n",
              "      <td>0.152</td>\n",
              "      <td>51</td>\n",
              "      <td>4.998</td>\n",
              "    </tr>\n",
              "    <tr>\n",
              "      <th>2</th>\n",
              "      <td>練馬区</td>\n",
              "      <td>早宮</td>\n",
              "      <td>早宮１丁目</td>\n",
              "      <td>0.128</td>\n",
              "      <td>45</td>\n",
              "      <td>4.994</td>\n",
              "    </tr>\n",
              "    <tr>\n",
              "      <th>3</th>\n",
              "      <td>中野区</td>\n",
              "      <td>東中野</td>\n",
              "      <td>東中野５丁目</td>\n",
              "      <td>0.160</td>\n",
              "      <td>49</td>\n",
              "      <td>4.992</td>\n",
              "    </tr>\n",
              "    <tr>\n",
              "      <th>4</th>\n",
              "      <td>練馬区</td>\n",
              "      <td>大泉町</td>\n",
              "      <td>大泉町６丁目</td>\n",
              "      <td>0.155</td>\n",
              "      <td>44</td>\n",
              "      <td>4.989</td>\n",
              "    </tr>\n",
              "    <tr>\n",
              "      <th>5</th>\n",
              "      <td>練馬区</td>\n",
              "      <td>高野台</td>\n",
              "      <td>高野台４丁目</td>\n",
              "      <td>0.110</td>\n",
              "      <td>39</td>\n",
              "      <td>4.987</td>\n",
              "    </tr>\n",
              "    <tr>\n",
              "      <th>6</th>\n",
              "      <td>中野区</td>\n",
              "      <td>本町</td>\n",
              "      <td>本町１丁目</td>\n",
              "      <td>0.145</td>\n",
              "      <td>40</td>\n",
              "      <td>4.985</td>\n",
              "    </tr>\n",
              "    <tr>\n",
              "      <th>7</th>\n",
              "      <td>練馬区</td>\n",
              "      <td>高松</td>\n",
              "      <td>高松３丁目</td>\n",
              "      <td>0.165</td>\n",
              "      <td>40</td>\n",
              "      <td>4.983</td>\n",
              "    </tr>\n",
              "    <tr>\n",
              "      <th>8</th>\n",
              "      <td>中野区</td>\n",
              "      <td>南台</td>\n",
              "      <td>南台２丁目</td>\n",
              "      <td>0.189</td>\n",
              "      <td>47</td>\n",
              "      <td>4.981</td>\n",
              "    </tr>\n",
              "    <tr>\n",
              "      <th>9</th>\n",
              "      <td>練馬区</td>\n",
              "      <td>練馬</td>\n",
              "      <td>練馬１丁目</td>\n",
              "      <td>0.154</td>\n",
              "      <td>38</td>\n",
              "      <td>4.975</td>\n",
              "    </tr>\n",
              "  </tbody>\n",
              "</table>\n",
              "</div>\n",
              "      <button class=\"colab-df-convert\" onclick=\"convertToInteractive('df-bae4ae6c-ae51-4fa7-807f-a2f4d9e11e32')\"\n",
              "              title=\"Convert this dataframe to an interactive table.\"\n",
              "              style=\"display:none;\">\n",
              "        \n",
              "  <svg xmlns=\"http://www.w3.org/2000/svg\" height=\"24px\"viewBox=\"0 0 24 24\"\n",
              "       width=\"24px\">\n",
              "    <path d=\"M0 0h24v24H0V0z\" fill=\"none\"/>\n",
              "    <path d=\"M18.56 5.44l.94 2.06.94-2.06 2.06-.94-2.06-.94-.94-2.06-.94 2.06-2.06.94zm-11 1L8.5 8.5l.94-2.06 2.06-.94-2.06-.94L8.5 2.5l-.94 2.06-2.06.94zm10 10l.94 2.06.94-2.06 2.06-.94-2.06-.94-.94-2.06-.94 2.06-2.06.94z\"/><path d=\"M17.41 7.96l-1.37-1.37c-.4-.4-.92-.59-1.43-.59-.52 0-1.04.2-1.43.59L10.3 9.45l-7.72 7.72c-.78.78-.78 2.05 0 2.83L4 21.41c.39.39.9.59 1.41.59.51 0 1.02-.2 1.41-.59l7.78-7.78 2.81-2.81c.8-.78.8-2.07 0-2.86zM5.41 20L4 18.59l7.72-7.72 1.47 1.35L5.41 20z\"/>\n",
              "  </svg>\n",
              "      </button>\n",
              "      \n",
              "  <style>\n",
              "    .colab-df-container {\n",
              "      display:flex;\n",
              "      flex-wrap:wrap;\n",
              "      gap: 12px;\n",
              "    }\n",
              "\n",
              "    .colab-df-convert {\n",
              "      background-color: #E8F0FE;\n",
              "      border: none;\n",
              "      border-radius: 50%;\n",
              "      cursor: pointer;\n",
              "      display: none;\n",
              "      fill: #1967D2;\n",
              "      height: 32px;\n",
              "      padding: 0 0 0 0;\n",
              "      width: 32px;\n",
              "    }\n",
              "\n",
              "    .colab-df-convert:hover {\n",
              "      background-color: #E2EBFA;\n",
              "      box-shadow: 0px 1px 2px rgba(60, 64, 67, 0.3), 0px 1px 3px 1px rgba(60, 64, 67, 0.15);\n",
              "      fill: #174EA6;\n",
              "    }\n",
              "\n",
              "    [theme=dark] .colab-df-convert {\n",
              "      background-color: #3B4455;\n",
              "      fill: #D2E3FC;\n",
              "    }\n",
              "\n",
              "    [theme=dark] .colab-df-convert:hover {\n",
              "      background-color: #434B5C;\n",
              "      box-shadow: 0px 1px 3px 1px rgba(0, 0, 0, 0.15);\n",
              "      filter: drop-shadow(0px 1px 2px rgba(0, 0, 0, 0.3));\n",
              "      fill: #FFFFFF;\n",
              "    }\n",
              "  </style>\n",
              "\n",
              "      <script>\n",
              "        const buttonEl =\n",
              "          document.querySelector('#df-bae4ae6c-ae51-4fa7-807f-a2f4d9e11e32 button.colab-df-convert');\n",
              "        buttonEl.style.display =\n",
              "          google.colab.kernel.accessAllowed ? 'block' : 'none';\n",
              "\n",
              "        async function convertToInteractive(key) {\n",
              "          const element = document.querySelector('#df-bae4ae6c-ae51-4fa7-807f-a2f4d9e11e32');\n",
              "          const dataTable =\n",
              "            await google.colab.kernel.invokeFunction('convertToInteractive',\n",
              "                                                     [key], {});\n",
              "          if (!dataTable) return;\n",
              "\n",
              "          const docLinkHtml = 'Like what you see? Visit the ' +\n",
              "            '<a target=\"_blank\" href=https://colab.research.google.com/notebooks/data_table.ipynb>data table notebook</a>'\n",
              "            + ' to learn more about interactive tables.';\n",
              "          element.innerHTML = '';\n",
              "          dataTable['output_type'] = 'display_data';\n",
              "          await google.colab.output.renderOutput(dataTable, element);\n",
              "          const docLink = document.createElement('div');\n",
              "          docLink.innerHTML = docLinkHtml;\n",
              "          element.appendChild(docLink);\n",
              "        }\n",
              "      </script>\n",
              "    </div>\n",
              "  </div>\n",
              "  "
            ]
          },
          "metadata": {},
          "execution_count": 46
        }
      ]
    },
    {
      "cell_type": "code",
      "source": [
        "df_level.tail(10)"
      ],
      "metadata": {
        "colab": {
          "base_uri": "https://localhost:8080/",
          "height": 363
        },
        "id": "qAA-c_8MaoIQ",
        "outputId": "49660440-33b8-4f23-9902-e0f64836f404"
      },
      "execution_count": 47,
      "outputs": [
        {
          "output_type": "execute_result",
          "data": {
            "text/plain": [
              "    市区町村名     町名      町丁目  公園(平均距離)  公園(数)  公園スコア\n",
              "900   大田区    昭和島   昭和島１丁目     2.702      0  0.170\n",
              "901   大田区     萩中    萩中１丁目     2.766      0  0.151\n",
              "902   葛飾区  金町浄水場    金町浄水場     2.898      0  0.125\n",
              "903   大田区    南六郷   南六郷１丁目     3.091      0  0.102\n",
              "904   大田区    本羽田   本羽田１丁目     3.251      0  0.085\n",
              "905   大田区    京浜島   京浜島１丁目     3.486      0  0.059\n",
              "906   大田区     羽田    羽田１丁目     3.585      0  0.049\n",
              "907   大田区   羽田旭町     羽田旭町     3.783      0  0.040\n",
              "908   大田区    城南島   城南島７丁目     4.070      0  0.025\n",
              "909   大田区   羽田空港  羽田空港１丁目     4.229      0  0.017"
            ],
            "text/html": [
              "\n",
              "  <div id=\"df-e83267e5-ae41-4120-a734-8f1f263eaa43\">\n",
              "    <div class=\"colab-df-container\">\n",
              "      <div>\n",
              "<style scoped>\n",
              "    .dataframe tbody tr th:only-of-type {\n",
              "        vertical-align: middle;\n",
              "    }\n",
              "\n",
              "    .dataframe tbody tr th {\n",
              "        vertical-align: top;\n",
              "    }\n",
              "\n",
              "    .dataframe thead th {\n",
              "        text-align: right;\n",
              "    }\n",
              "</style>\n",
              "<table border=\"1\" class=\"dataframe\">\n",
              "  <thead>\n",
              "    <tr style=\"text-align: right;\">\n",
              "      <th></th>\n",
              "      <th>市区町村名</th>\n",
              "      <th>町名</th>\n",
              "      <th>町丁目</th>\n",
              "      <th>公園(平均距離)</th>\n",
              "      <th>公園(数)</th>\n",
              "      <th>公園スコア</th>\n",
              "    </tr>\n",
              "  </thead>\n",
              "  <tbody>\n",
              "    <tr>\n",
              "      <th>900</th>\n",
              "      <td>大田区</td>\n",
              "      <td>昭和島</td>\n",
              "      <td>昭和島１丁目</td>\n",
              "      <td>2.702</td>\n",
              "      <td>0</td>\n",
              "      <td>0.170</td>\n",
              "    </tr>\n",
              "    <tr>\n",
              "      <th>901</th>\n",
              "      <td>大田区</td>\n",
              "      <td>萩中</td>\n",
              "      <td>萩中１丁目</td>\n",
              "      <td>2.766</td>\n",
              "      <td>0</td>\n",
              "      <td>0.151</td>\n",
              "    </tr>\n",
              "    <tr>\n",
              "      <th>902</th>\n",
              "      <td>葛飾区</td>\n",
              "      <td>金町浄水場</td>\n",
              "      <td>金町浄水場</td>\n",
              "      <td>2.898</td>\n",
              "      <td>0</td>\n",
              "      <td>0.125</td>\n",
              "    </tr>\n",
              "    <tr>\n",
              "      <th>903</th>\n",
              "      <td>大田区</td>\n",
              "      <td>南六郷</td>\n",
              "      <td>南六郷１丁目</td>\n",
              "      <td>3.091</td>\n",
              "      <td>0</td>\n",
              "      <td>0.102</td>\n",
              "    </tr>\n",
              "    <tr>\n",
              "      <th>904</th>\n",
              "      <td>大田区</td>\n",
              "      <td>本羽田</td>\n",
              "      <td>本羽田１丁目</td>\n",
              "      <td>3.251</td>\n",
              "      <td>0</td>\n",
              "      <td>0.085</td>\n",
              "    </tr>\n",
              "    <tr>\n",
              "      <th>905</th>\n",
              "      <td>大田区</td>\n",
              "      <td>京浜島</td>\n",
              "      <td>京浜島１丁目</td>\n",
              "      <td>3.486</td>\n",
              "      <td>0</td>\n",
              "      <td>0.059</td>\n",
              "    </tr>\n",
              "    <tr>\n",
              "      <th>906</th>\n",
              "      <td>大田区</td>\n",
              "      <td>羽田</td>\n",
              "      <td>羽田１丁目</td>\n",
              "      <td>3.585</td>\n",
              "      <td>0</td>\n",
              "      <td>0.049</td>\n",
              "    </tr>\n",
              "    <tr>\n",
              "      <th>907</th>\n",
              "      <td>大田区</td>\n",
              "      <td>羽田旭町</td>\n",
              "      <td>羽田旭町</td>\n",
              "      <td>3.783</td>\n",
              "      <td>0</td>\n",
              "      <td>0.040</td>\n",
              "    </tr>\n",
              "    <tr>\n",
              "      <th>908</th>\n",
              "      <td>大田区</td>\n",
              "      <td>城南島</td>\n",
              "      <td>城南島７丁目</td>\n",
              "      <td>4.070</td>\n",
              "      <td>0</td>\n",
              "      <td>0.025</td>\n",
              "    </tr>\n",
              "    <tr>\n",
              "      <th>909</th>\n",
              "      <td>大田区</td>\n",
              "      <td>羽田空港</td>\n",
              "      <td>羽田空港１丁目</td>\n",
              "      <td>4.229</td>\n",
              "      <td>0</td>\n",
              "      <td>0.017</td>\n",
              "    </tr>\n",
              "  </tbody>\n",
              "</table>\n",
              "</div>\n",
              "      <button class=\"colab-df-convert\" onclick=\"convertToInteractive('df-e83267e5-ae41-4120-a734-8f1f263eaa43')\"\n",
              "              title=\"Convert this dataframe to an interactive table.\"\n",
              "              style=\"display:none;\">\n",
              "        \n",
              "  <svg xmlns=\"http://www.w3.org/2000/svg\" height=\"24px\"viewBox=\"0 0 24 24\"\n",
              "       width=\"24px\">\n",
              "    <path d=\"M0 0h24v24H0V0z\" fill=\"none\"/>\n",
              "    <path d=\"M18.56 5.44l.94 2.06.94-2.06 2.06-.94-2.06-.94-.94-2.06-.94 2.06-2.06.94zm-11 1L8.5 8.5l.94-2.06 2.06-.94-2.06-.94L8.5 2.5l-.94 2.06-2.06.94zm10 10l.94 2.06.94-2.06 2.06-.94-2.06-.94-.94-2.06-.94 2.06-2.06.94z\"/><path d=\"M17.41 7.96l-1.37-1.37c-.4-.4-.92-.59-1.43-.59-.52 0-1.04.2-1.43.59L10.3 9.45l-7.72 7.72c-.78.78-.78 2.05 0 2.83L4 21.41c.39.39.9.59 1.41.59.51 0 1.02-.2 1.41-.59l7.78-7.78 2.81-2.81c.8-.78.8-2.07 0-2.86zM5.41 20L4 18.59l7.72-7.72 1.47 1.35L5.41 20z\"/>\n",
              "  </svg>\n",
              "      </button>\n",
              "      \n",
              "  <style>\n",
              "    .colab-df-container {\n",
              "      display:flex;\n",
              "      flex-wrap:wrap;\n",
              "      gap: 12px;\n",
              "    }\n",
              "\n",
              "    .colab-df-convert {\n",
              "      background-color: #E8F0FE;\n",
              "      border: none;\n",
              "      border-radius: 50%;\n",
              "      cursor: pointer;\n",
              "      display: none;\n",
              "      fill: #1967D2;\n",
              "      height: 32px;\n",
              "      padding: 0 0 0 0;\n",
              "      width: 32px;\n",
              "    }\n",
              "\n",
              "    .colab-df-convert:hover {\n",
              "      background-color: #E2EBFA;\n",
              "      box-shadow: 0px 1px 2px rgba(60, 64, 67, 0.3), 0px 1px 3px 1px rgba(60, 64, 67, 0.15);\n",
              "      fill: #174EA6;\n",
              "    }\n",
              "\n",
              "    [theme=dark] .colab-df-convert {\n",
              "      background-color: #3B4455;\n",
              "      fill: #D2E3FC;\n",
              "    }\n",
              "\n",
              "    [theme=dark] .colab-df-convert:hover {\n",
              "      background-color: #434B5C;\n",
              "      box-shadow: 0px 1px 3px 1px rgba(0, 0, 0, 0.15);\n",
              "      filter: drop-shadow(0px 1px 2px rgba(0, 0, 0, 0.3));\n",
              "      fill: #FFFFFF;\n",
              "    }\n",
              "  </style>\n",
              "\n",
              "      <script>\n",
              "        const buttonEl =\n",
              "          document.querySelector('#df-e83267e5-ae41-4120-a734-8f1f263eaa43 button.colab-df-convert');\n",
              "        buttonEl.style.display =\n",
              "          google.colab.kernel.accessAllowed ? 'block' : 'none';\n",
              "\n",
              "        async function convertToInteractive(key) {\n",
              "          const element = document.querySelector('#df-e83267e5-ae41-4120-a734-8f1f263eaa43');\n",
              "          const dataTable =\n",
              "            await google.colab.kernel.invokeFunction('convertToInteractive',\n",
              "                                                     [key], {});\n",
              "          if (!dataTable) return;\n",
              "\n",
              "          const docLinkHtml = 'Like what you see? Visit the ' +\n",
              "            '<a target=\"_blank\" href=https://colab.research.google.com/notebooks/data_table.ipynb>data table notebook</a>'\n",
              "            + ' to learn more about interactive tables.';\n",
              "          element.innerHTML = '';\n",
              "          dataTable['output_type'] = 'display_data';\n",
              "          await google.colab.output.renderOutput(dataTable, element);\n",
              "          const docLink = document.createElement('div');\n",
              "          docLink.innerHTML = docLinkHtml;\n",
              "          element.appendChild(docLink);\n",
              "        }\n",
              "      </script>\n",
              "    </div>\n",
              "  </div>\n",
              "  "
            ]
          },
          "metadata": {},
          "execution_count": 47
        }
      ]
    },
    {
      "cell_type": "code",
      "source": [],
      "metadata": {
        "id": "Lk6O8Y3Dd5di"
      },
      "execution_count": 47,
      "outputs": []
    }
  ]
}