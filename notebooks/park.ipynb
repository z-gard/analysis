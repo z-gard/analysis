{
  "nbformat": 4,
  "nbformat_minor": 0,
  "metadata": {
    "colab": {
      "provenance": [],
      "authorship_tag": "ABX9TyMxLfVfZ97C3URvzBO3jUv5",
      "include_colab_link": true
    },
    "kernelspec": {
      "name": "python3",
      "display_name": "Python 3"
    },
    "language_info": {
      "name": "python"
    }
  },
  "cells": [
    {
      "cell_type": "markdown",
      "metadata": {
        "id": "view-in-github",
        "colab_type": "text"
      },
      "source": [
        "<a href=\"https://colab.research.google.com/github/z-gard/analysis/blob/main/notebooks/park.ipynb\" target=\"_parent\"><img src=\"https://colab.research.google.com/assets/colab-badge.svg\" alt=\"Open In Colab\"/></a>"
      ]
    },
    {
      "cell_type": "markdown",
      "source": [
        "# 公園"
      ],
      "metadata": {
        "id": "zBy6ZmZPOhfq"
      }
    },
    {
      "cell_type": "code",
      "execution_count": null,
      "metadata": {
        "id": "cDOcy7pFOdsC"
      },
      "outputs": [],
      "source": [
        "!pip install -q geocoder\n",
        "!pip install -q --upgrade xlrd\n",
        "!pip install -q japanize-matplotlib"
      ]
    },
    {
      "cell_type": "code",
      "source": [
        "from google.colab import drive\n",
        "drive.mount('/content/drive')"
      ],
      "metadata": {
        "colab": {
          "base_uri": "https://localhost:8080/"
        },
        "id": "rYTHrEAdOlBC",
        "outputId": "5d7b0e74-e9c7-48b3-abb1-18e74143f48a"
      },
      "execution_count": null,
      "outputs": [
        {
          "output_type": "stream",
          "name": "stdout",
          "text": [
            "Drive already mounted at /content/drive; to attempt to forcibly remount, call drive.mount(\"/content/drive\", force_remount=True).\n"
          ]
        }
      ]
    },
    {
      "cell_type": "code",
      "source": [
        "DIR_NAME = '/content/drive/MyDrive/z-gard/data'"
      ],
      "metadata": {
        "id": "mKIhoL-BOtAE"
      },
      "execution_count": null,
      "outputs": []
    },
    {
      "cell_type": "code",
      "source": [
        "import os\n",
        "import requests\n",
        "import json\n",
        "import pandas as pd\n",
        "from urllib.parse import urlparse\n",
        "import geocoder\n",
        "import math\n",
        "import io\n",
        "import re\n",
        "import matplotlib.pyplot as plt\n",
        "import japanize_matplotlib\n",
        "import seaborn as sns\n",
        "\n",
        "pd.set_option('display.max_columns', 50)\n",
        "pd.set_option('display.max_rows', 100)"
      ],
      "metadata": {
        "id": "2xgbJOobOvsP"
      },
      "execution_count": null,
      "outputs": []
    },
    {
      "cell_type": "code",
      "source": [
        "def get_data_csv_url(url, encoding='utf-8', excel=False):\n",
        "    res = requests.get(url)\n",
        "    if res.status_code == 200:\n",
        "        if not excel:\n",
        "            return pd.read_csv(io.BytesIO(res.content), encoding=encoding)\n",
        "        else:\n",
        "            return pd.read_excel(io.BytesIO(res.content))\n",
        "    else:\n",
        "        raise Exception(f'status_code: {res.status_code} ({url})')\n",
        "\n",
        "def number_to_kanji(str):\n",
        "    return str.translate(str.maketrans({\n",
        "        '１':'一', '２':'二', '３':'三', '４':'四', '５':'五', '６':'六', '７':'七', '８':'八', '９':'九',\n",
        "        '1':'一', '2':'二', '3':'三', '4':'四', '5':'五', '6':'六', '7':'七', '8':'八', '9':'九', '0':'十', \n",
        "    }))\n",
        "\n",
        "# 緯度経度取得\n",
        "def add_lat_lon(df_master):\n",
        "    lats = []\n",
        "    lons = []\n",
        "    for i, row in df_master.iterrows():\n",
        "        chocho = number_to_kanji(row['町丁目'])\n",
        "        ret = geocoder.osm('東京都' + row['市区町村名'] + chocho, timeout=5)\n",
        "        if not ret.ok:\n",
        "            print(i, row['市区町村名'], chocho)\n",
        "        lats.append(ret.lat)\n",
        "        lons.append(ret.lng)\n",
        "    df_copy = df_master.copy()\n",
        "    df_copy['緯度'] = lats\n",
        "    df_copy['経度'] = lons\n",
        "    return df_copy\n",
        "\n",
        "# 距離計算\n",
        "def get_distance(lat1, lon1, lat2, lon2):\n",
        "    _lat1 = lat1 * math.pi / 180\n",
        "    _lon1 = lon1 * math.pi / 180\n",
        "    _lat2 = lat2 * math.pi / 180\n",
        "    _lon2 = lon2 * math.pi / 180\n",
        "    _tmp = math.cos(_lat1) * math.cos(_lat2) * math.cos(_lon2 - _lon1) + math.sin(_lat1) * math.sin(_lat2)\n",
        "    _tmp = 1 if _tmp > 1 else -1 if _tmp < -1 else _tmp\n",
        "    return 6371 * math.acos(_tmp)\n",
        "\n",
        "# 最寄り施設までの距離\n",
        "def get_value_of_nearest_facility(df_master, df_facility, category, method='min', param=3):\n",
        "    _df_cat = df_facility[df_facility['施設分類'] == category].copy()\n",
        "    cat_values = []\n",
        "    for i, row in df_master.iterrows():\n",
        "        dist = _df_cat.apply(lambda x: get_distance(x['緯度'], x['経度'], row['緯度'], row['経度']), axis=1)\n",
        "        val = None\n",
        "        if method == 'min':\n",
        "            # 最小の距離\n",
        "            val = dist.min()\n",
        "        elif method == 'count':\n",
        "            # {param}km以内の施設の数をカウント\n",
        "            val = len(dist[dist <= param])\n",
        "        elif method == 'mean':\n",
        "            # 近い{param}件の距離の平均\n",
        "            val = dist.sort_values()[:param].mean()\n",
        "        cat_values.append(val)\n",
        "    return cat_values"
      ],
      "metadata": {
        "id": "Q9yoYFmNRk8e"
      },
      "execution_count": null,
      "outputs": []
    },
    {
      "cell_type": "code",
      "source": [
        "def get_tokyo_ward_city(address):\n",
        "    _tmp = address.replace('東京都', '')\n",
        "    m = re.search('^.*?[区市]', _tmp)\n",
        "    cityname = m.group()\n",
        "    return cityname if len(cityname) < 6 else None\n",
        "\n",
        "def get_category_facility(name):\n",
        "    if re.search('.*公園$', name) is not None:\n",
        "        return '公園'\n",
        "    if re.search('.*緑地$', name) is not None:\n",
        "        return '公園'\n",
        "    if re.search('.*緑道$', name) is not None:\n",
        "        return '公園'\n",
        "    if re.search('.*庭園$', name) is not None:\n",
        "        return '公園'\n",
        "    if re.search('.*図書館$', name) is not None:\n",
        "        return '図書館'\n",
        "    if re.search('.*美術館$', name) is not None:\n",
        "        return '文化施設'\n",
        "    if re.search('.*博物館$', name) is not None:\n",
        "        return '文化施設'\n",
        "    if re.search('.*会館$', name) is not None:\n",
        "        return '文化施設'\n",
        "    if re.search('.*劇場$', name) is not None:\n",
        "        return '文化施設'\n",
        "    if re.search('アーツ', name) is not None:\n",
        "        return '文化施設'\n",
        "    if re.search('.*園$', name) is not None:\n",
        "        return '公園'\n",
        "    return None"
      ],
      "metadata": {
        "id": "_-2eukImbwhJ"
      },
      "execution_count": null,
      "outputs": []
    },
    {
      "cell_type": "code",
      "source": [
        "def change_type(df_data):\n",
        "    df_data['緯度'] = df_data['緯度'].astype(float)\n",
        "    df_data['経度'] = df_data['経度'].astype(float)"
      ],
      "metadata": {
        "id": "hhGXtuvYipKL"
      },
      "execution_count": null,
      "outputs": []
    },
    {
      "cell_type": "code",
      "source": [
        "extract_columns = ['施設分類', '施設名', '市区町村名', '所在地', '緯度', '経度']"
      ],
      "metadata": {
        "id": "IrPBUzhvReBs"
      },
      "execution_count": null,
      "outputs": []
    },
    {
      "cell_type": "markdown",
      "source": [
        "## 0. 東京都\n",
        "- [公共施設一覧](https://catalog.data.metro.tokyo.lg.jp/dataset/t000003d0000000033/resource/27d1ce20-9023-4690-944c-5da47ed1427e)"
      ],
      "metadata": {
        "id": "FTreyejMZ5fi"
      }
    },
    {
      "cell_type": "code",
      "source": [
        "tokyo_public_facility = 'https://www.opendata.metro.tokyo.lg.jp/suisyoudataset/130001_public_facility.csv'\n",
        "df_tokyo_public_facility = get_data_csv_url(tokyo_public_facility, encoding='cp932')\n",
        "print(df_tokyo_public_facility.shape)\n",
        "\n",
        "df_tokyo_public_facility = df_tokyo_public_facility.rename(columns={'名称':'施設名', '住所': '所在地'})\n",
        "df_tokyo_public_facility['市区町村名'] = df_tokyo_public_facility['所在地'].apply(get_tokyo_ward_city)\n",
        "df_tokyo_public_facility['施設分類'] = df_tokyo_public_facility['施設名'].apply(get_category_facility)\n",
        "df_tokyo_public_facility = df_tokyo_public_facility[extract_columns]\n",
        "df_tokyo_public_facility = df_tokyo_public_facility[\n",
        "    (df_tokyo_public_facility['施設分類'].notna())&\n",
        "    (df_tokyo_public_facility['市区町村名'].str.endswith('区'))\n",
        "].reset_index(drop=True)\n",
        "change_type(df_tokyo_public_facility)\n",
        "print(df_tokyo_public_facility.shape)"
      ],
      "metadata": {
        "id": "dVf2UekcZ4-k",
        "outputId": "8ea8208a-d0cc-43f0-a75b-863cab0541c7",
        "colab": {
          "base_uri": "https://localhost:8080/"
        }
      },
      "execution_count": null,
      "outputs": [
        {
          "output_type": "stream",
          "name": "stdout",
          "text": [
            "(136, 39)\n",
            "(95, 6)\n"
          ]
        }
      ]
    },
    {
      "cell_type": "markdown",
      "source": [
        "## 1. 千代田区"
      ],
      "metadata": {
        "id": "ozc68hGVyKaT"
      }
    },
    {
      "cell_type": "markdown",
      "source": [
        "## 2. 中央区\n",
        "- [区内の公園一覧](https://catalog.data.metro.tokyo.lg.jp/dataset/t131024d0000000011/resource/2cebf9bb-c082-41a4-973f-f39e81c20aa2)"
      ],
      "metadata": {
        "id": "Hy9QzRF1vJWT"
      }
    },
    {
      "cell_type": "markdown",
      "source": [
        "## 3. 港区\n",
        "- [公園・児童遊園・緑地](https://catalog.data.metro.tokyo.lg.jp/dataset/t131032d0000000014/resource/07c70d2b-0474-491c-a1f4-754b8f28922b)"
      ],
      "metadata": {
        "id": "N29UjnUPRhG7"
      }
    },
    {
      "cell_type": "code",
      "source": [
        "minato_park_url = 'https://opendata.city.minato.tokyo.jp/dataset/dc609dcf-892a-4a20-8f74-f62ce9fc806d/resource/f636e5b8-088f-42e2-b95c-d0978d4e339c/download/minatokushisetsujoho_kouen.csv'\n",
        "df_minato_park = get_data_csv_url(minato_park_url)\n",
        "print(df_minato_park.shape)\n",
        "\n",
        "df_minato_park['市区町村名'] = '港区'\n",
        "df_minato_park['施設分類'] = '公園'\n",
        "df_minato_park = df_minato_park[df_minato_park['第1分類'] == '公園・児童遊園・緑地'].reset_index(drop=False)\n",
        "df_minato_park = df_minato_park.rename(columns={'ページタイトル':'施設名'})[extract_columns]\n",
        "change_type(df_minato_park)\n",
        "print(df_minato_park.shape)"
      ],
      "metadata": {
        "colab": {
          "base_uri": "https://localhost:8080/"
        },
        "id": "bHdlGR4rRd_V",
        "outputId": "327669fd-3c79-4688-d1f2-e2af7c9c3c29"
      },
      "execution_count": null,
      "outputs": [
        {
          "output_type": "stream",
          "name": "stdout",
          "text": [
            "(157, 31)\n",
            "(156, 6)\n"
          ]
        }
      ]
    },
    {
      "cell_type": "markdown",
      "source": [
        "## 4. 新宿区"
      ],
      "metadata": {
        "id": "QEmpBhenyeVs"
      }
    },
    {
      "cell_type": "markdown",
      "source": [
        "## 5. 文京区\n",
        "- [区立公園・児童遊園・遊び場一覧](https://catalog.data.metro.tokyo.lg.jp/dataset/t131059d0509040001/resource/81688b74-8b82-4529-a1df-1d0ae73a808d)"
      ],
      "metadata": {
        "id": "5XQHy3KkvpL6"
      }
    },
    {
      "cell_type": "markdown",
      "source": [
        "## 6. 台東区\n",
        "- [公園](https://catalog.data.metro.tokyo.lg.jp/dataset/t131067d0000000093/resource/c70f81da-7c29-497a-ab55-068686d75707)\n",
        "- [児童遊園](https://catalog.data.metro.tokyo.lg.jp/dataset/t131067d0000000094/resource/5d61c7a3-573d-4a27-8492-6e299f2fe401)"
      ],
      "metadata": {
        "id": "S_Q90dBVcPtQ"
      }
    },
    {
      "cell_type": "code",
      "source": [
        "taito_park_url_1 = 'https://www.city.taito.lg.jp/kusei/online/opendata/seikatu/shisethutizujouhou.files/sisetu_15.csv'\n",
        "df_taito_park_1 = get_data_csv_url(taito_park_url_1, 'shift-jis')\n",
        "taito_park_url_2 = 'https://www.city.taito.lg.jp/kusei/online/opendata/seikatu/shisethutizujouhou.files/sisetu_16.csv'\n",
        "df_taito_park_2 = get_data_csv_url(taito_park_url_2, 'shift-jis')\n",
        "df_taito_park = pd.concat([df_taito_park_1, df_taito_park_2]).reset_index(drop=True)\n",
        "print(df_taito_park.shape)\n",
        "\n",
        "df_taito_park['市区町村名'] = '台東区'\n",
        "df_taito_park['施設分類'] = '公園'\n",
        "df_taito_park = df_taito_park.rename(columns={'名称':'施設名', 'X座標':'経度', 'Y座標':'緯度'})[extract_columns]\n",
        "print(df_taito_park.shape)"
      ],
      "metadata": {
        "id": "kUmwooOBwofd",
        "outputId": "d71d0a2f-0613-469b-ef66-2a40998990f6",
        "colab": {
          "base_uri": "https://localhost:8080/"
        }
      },
      "execution_count": null,
      "outputs": [
        {
          "output_type": "stream",
          "name": "stdout",
          "text": [
            "(83, 8)\n",
            "(83, 6)\n"
          ]
        }
      ]
    },
    {
      "cell_type": "markdown",
      "source": [
        "## 7. 墨田区\n",
        "- [公園](https://catalog.data.metro.tokyo.lg.jp/dataset/t131075d0000000097/resource/ea22e8d7-677a-4ab8-b231-f5d309fd0be6)\n",
        "- [児童遊園](https://catalog.data.metro.tokyo.lg.jp/dataset/t131075d0000000097/resource/21a0e89e-ee2f-4bf0-90db-b70ebb77453e)"
      ],
      "metadata": {
        "id": "A79C8s69R4YW"
      }
    },
    {
      "cell_type": "code",
      "source": [
        "sumida_park_url_1 = 'https://www.city.sumida.lg.jp/kuseijoho/sumida_info/opendata/opendata_ichiran/shisetsu_data.files/park.csv'\n",
        "df_sumida_park_1 = get_data_csv_url(sumida_park_url_1, 'shift-jis')\n",
        "sumida_park_url_2 = 'https://www.city.sumida.lg.jp/kuseijoho/sumida_info/opendata/opendata_ichiran/shisetsu_data.files/jidouyuuen.csv'\n",
        "df_sumida_park_2 = get_data_csv_url(sumida_park_url_2, 'shift-jis')\n",
        "df_sumida_park = pd.concat([df_sumida_park_1, df_sumida_park_2]).reset_index(drop=True)\n",
        "print(df_sumida_park.shape)\n",
        "\n",
        "df_sumida_park['市区町村名'] = '墨田区'\n",
        "df_sumida_park['施設分類'] = '公園'\n",
        "df_sumida_park = df_sumida_park.rename(columns={'施設名称':'施設名'})[extract_columns]\n",
        "print(df_sumida_park.shape)"
      ],
      "metadata": {
        "colab": {
          "base_uri": "https://localhost:8080/"
        },
        "id": "hZJc7luQRd5I",
        "outputId": "721a2043-7e0d-40d0-ce07-15e451c82be1"
      },
      "execution_count": null,
      "outputs": [
        {
          "output_type": "stream",
          "name": "stdout",
          "text": [
            "(144, 5)\n",
            "(144, 6)\n"
          ]
        }
      ]
    },
    {
      "cell_type": "markdown",
      "source": [
        "## 8. 江東区\n",
        "- [区立公園](https://catalog.data.metro.tokyo.lg.jp/dataset/t131083d0000000007/resource/204f8626-3307-48e3-9d2c-03d38aa732f1)\n",
        "- [児童遊園](https://catalog.data.metro.tokyo.lg.jp/dataset/t131083d0000000007/resource/cef3a8af-0006-4341-a0ab-a62b26a5a28c)"
      ],
      "metadata": {
        "id": "k9DmEpn4y2dz"
      }
    },
    {
      "cell_type": "markdown",
      "source": [
        "## 9. 品川区\n",
        "- [公園・緑地・防災活動広場](https://catalog.data.metro.tokyo.lg.jp/dataset/t131091d0000000130)"
      ],
      "metadata": {
        "id": "q9jxzgLIvxhE"
      }
    },
    {
      "cell_type": "markdown",
      "source": [
        "## 10. 目黒区\n",
        "- [区立公園](https://catalog.data.metro.tokyo.lg.jp/dataset/t131105d0000000038/resource/1264013c-5458-409e-95be-208f0d78d51b)"
      ],
      "metadata": {
        "id": "99GocudOn0Bp"
      }
    },
    {
      "cell_type": "code",
      "source": [
        "megro_park_url = 'https://data.bodik.jp/dataset/9f7d70e4-d41f-4199-a180-eb2e3de6e728/resource/28badfb6-f33f-4b12-8ecc-ada279950cee/download/131105_park_20210401.csv'\n",
        "df_megro_park = get_data_csv_url(megro_park_url, 'cp932')\n",
        "print(df_megro_park.shape)\n",
        "\n",
        "df_megro_park['市区町村名'] = '目黒区'\n",
        "df_megro_park['施設分類'] = '公園'\n",
        "df_megro_park = df_megro_park[df_megro_park['面積（㎡）'] >= 500]\n",
        "df_megro_park = df_megro_park.rename(columns={'名称':'施設名'})[extract_columns]\n",
        "change_type(df_megro_park)\n",
        "print(df_megro_park.shape)"
      ],
      "metadata": {
        "id": "wqvlg2mfn7oe",
        "outputId": "290e7d34-2e84-42b0-8b7b-19b9fecd468e",
        "colab": {
          "base_uri": "https://localhost:8080/"
        }
      },
      "execution_count": null,
      "outputs": [
        {
          "output_type": "stream",
          "name": "stdout",
          "text": [
            "(73, 23)\n",
            "(44, 6)\n"
          ]
        }
      ]
    },
    {
      "cell_type": "markdown",
      "source": [
        "## 11. 大田区\n",
        "- [公園一覧](https://catalog.data.metro.tokyo.lg.jp/dataset/t131113d0000000018/resource/6af8376d-0dc9-47f0-ad66-dd7e612f929c)"
      ],
      "metadata": {
        "id": "b4WovfLRtplw"
      }
    },
    {
      "cell_type": "markdown",
      "source": [
        "## 12. 世田谷区"
      ],
      "metadata": {
        "id": "2w42i2Nt0e83"
      }
    },
    {
      "cell_type": "markdown",
      "source": [
        "## 13. 渋谷区\n",
        "- [公園一覧](https://catalog.data.metro.tokyo.lg.jp/dataset/t131130d0000000003/resource/46345b46-4f99-4342-abba-aabd6029bbb6)"
      ],
      "metadata": {
        "id": "M2Ql8T3r0h0P"
      }
    },
    {
      "cell_type": "markdown",
      "source": [
        "## 14. 中野区\n",
        "- [公共施設一覧（公園等）](https://catalog.data.metro.tokyo.lg.jp/dataset/t131148d0000000010/resource/a185817d-706e-402c-9dca-3fffa1181d4a)"
      ],
      "metadata": {
        "id": "G7Dkz-Hjwtnn"
      }
    },
    {
      "cell_type": "markdown",
      "source": [
        "## 15. 杉並区\n",
        "- [オープンデータ一覧](https://www2.wagmap.jp/suginami/opendata?type=shp&ly=930)"
      ],
      "metadata": {
        "id": "hSjl7KggpvrQ"
      }
    },
    {
      "cell_type": "code",
      "source": [
        "df_suginami_park = pd.read_csv(os.path.join(DIR_NAME, 'original/杉並区_公園.csv'))\n",
        "print(df_suginami_park.shape)\n",
        "\n",
        "df_suginami_park = df_suginami_park[df_suginami_park['分類'].str.strip() == '公園']\n",
        "df_suginami_park['市区町村名'] = '杉並区'\n",
        "df_suginami_park['施設分類'] = '公園'\n",
        "df_suginami_park = df_suginami_park.rename(columns={'名称':'施設名', '住所':'所在地'})[extract_columns]\n",
        "print(df_suginami_park.shape)"
      ],
      "metadata": {
        "id": "g5hbxUr2rP5g",
        "outputId": "ae009244-371c-4d4c-c472-b1c7f5d8d4db",
        "colab": {
          "base_uri": "https://localhost:8080/"
        }
      },
      "execution_count": null,
      "outputs": [
        {
          "output_type": "stream",
          "name": "stdout",
          "text": [
            "(357, 9)\n",
            "(335, 6)\n"
          ]
        }
      ]
    },
    {
      "cell_type": "markdown",
      "source": [
        "## 16. 豊島区\n",
        "- [公共施設一覧](https://catalog.data.metro.tokyo.lg.jp/dataset/t131164d0000000010/resource/472e6a97-b350-4909-a939-76530a570324)"
      ],
      "metadata": {
        "id": "RL7zKUAz0bBI"
      }
    },
    {
      "cell_type": "markdown",
      "source": [
        "## 17. 北区"
      ],
      "metadata": {
        "id": "u9OKlv_M0WpZ"
      }
    },
    {
      "cell_type": "markdown",
      "source": [
        "## 18. 荒川区"
      ],
      "metadata": {
        "id": "zy6eSKS20T2p"
      }
    },
    {
      "cell_type": "markdown",
      "source": [
        "## 19. 板橋区\n",
        "- [公園・公衆便所オープンデータ](https://catalog.data.metro.tokyo.lg.jp/dataset/t131199d0000001151/resource/8bfab687-375e-4634-b1f6-dca56b34fe4c)\n",
        "- [どこでも誰でもおでかけマップオープンデータ（公園）](https://catalog.data.metro.tokyo.lg.jp/dataset/t131199d0000000767/resource/c56d0887-9536-4c92-a965-8ee0a94d28a5)"
      ],
      "metadata": {
        "id": "VUkqCI22urni"
      }
    },
    {
      "cell_type": "markdown",
      "source": [
        "## 20. 練馬区\n",
        "- [その他区立公園など（公園等一覧）](https://www.city.nerima.tokyo.jp/kankomoyoshi/annai/fukei/nerima_park/kunai/kouen-itiran.html)"
      ],
      "metadata": {
        "id": "IrUQq4O1R_U-"
      }
    },
    {
      "cell_type": "code",
      "source": [
        "%%time\n",
        "df_nerima_park = pd.read_csv(os.path.join(DIR_NAME, 'original/練馬区_公園.csv'))\n",
        "print(df_nerima_park.shape)\n",
        "\n",
        "df_nerima_park = df_nerima_park[df_nerima_park['所在地'].notna()].reset_index(drop=True)\n",
        "df_nerima_park['市区町村名'] = '練馬区'\n",
        "df_nerima_park['施設分類'] = '公園'\n",
        "df_nerima_park['町丁目'] = df_nerima_park['所在地'].apply(lambda x: x.split('-')[0]+'丁目')\n",
        "df_nerima_park['面積'] = df_nerima_park['面積'].str.replace(',', '').astype(float)\n",
        "df_nerima_park = df_nerima_park[df_nerima_park['面積'] >= 500]  # 面積の小さい公園は除く\n",
        "df_nerima_park = df_nerima_park.rename(columns={'園名':'施設名'})\n",
        "\n",
        "df_nerima_park = add_lat_lon(df_nerima_park)[extract_columns].reset_index(drop=True)\n",
        "print(df_nerima_park.shape)"
      ],
      "metadata": {
        "id": "pwvTvknwqyhj",
        "outputId": "ad16d037-f512-4962-9ece-859878ebbf6b",
        "colab": {
          "base_uri": "https://localhost:8080/"
        }
      },
      "execution_count": null,
      "outputs": [
        {
          "output_type": "stream",
          "name": "stdout",
          "text": [
            "(734, 3)\n",
            "163 練馬区 栄町四十丁目\n",
            "357 練馬区 立野町一八丁目\n",
            "359 練馬区 立野町三二丁目\n",
            "(309, 6)\n",
            "CPU times: user 5.05 s, sys: 291 ms, total: 5.34 s\n",
            "Wall time: 2min 34s\n"
          ]
        }
      ]
    },
    {
      "cell_type": "markdown",
      "source": [
        "## 21. 足立区"
      ],
      "metadata": {
        "id": "wnKQ_F6h0Hw6"
      }
    },
    {
      "cell_type": "markdown",
      "source": [
        "## 22. 葛飾区\n",
        "- [公園](https://catalog.data.metro.tokyo.lg.jp/dataset/t131229d0000000002/resource/8b0d0b9c-ea4f-40e0-af24-fea29078bc0e)"
      ],
      "metadata": {
        "id": "gQjDqsH_0Llk"
      }
    },
    {
      "cell_type": "markdown",
      "source": [
        "## 23. 江戸川区"
      ],
      "metadata": {
        "id": "ppaYDhfs0Ooq"
      }
    },
    {
      "cell_type": "markdown",
      "source": [
        "## 公園マスタ"
      ],
      "metadata": {
        "id": "9x6VJEBUSGeh"
      }
    },
    {
      "cell_type": "markdown",
      "source": [
        "|No.|区名|データ|\n",
        "|:----|:----|:----|\n",
        "|0|東京都|済み|\n",
        "|1|千代田区| |\n",
        "|2|中央区| |\n",
        "|3|港区|済み|\n",
        "|4|新宿区| |\n",
        "|5|文京区| |\n",
        "|6|台東区|済み|\n",
        "|7|墨田区|済み|\n",
        "|8|江東区| |\n",
        "|9|品川区| |\n",
        "|10|目黒区|済み|\n",
        "|11|大田区| |\n",
        "|12|世田谷区| |\n",
        "|13|渋谷区| |\n",
        "|14|中野区| |\n",
        "|15|杉並区|済み|\n",
        "|16|豊島区| |\n",
        "|17|北区| |\n",
        "|18|荒川区| |\n",
        "|19|板橋区| |\n",
        "|20|練馬区|済み|\n",
        "|21|足立区| |\n",
        "|22|葛飾区| |\n",
        "|23|江戸川区| |\n"
      ],
      "metadata": {
        "id": "YrYU6XXNxnu4"
      }
    },
    {
      "cell_type": "code",
      "source": [
        "df_park_master = pd.concat([\n",
        "    df_tokyo_public_facility,\n",
        "    df_minato_park,\n",
        "    df_sumida_park,\n",
        "    df_nerima_park,\n",
        "    df_taito_park,\n",
        "    df_megro_park,\n",
        "    df_suginami_park,\n",
        "]).reset_index(drop=True)\n",
        "print(df_park_master.shape)"
      ],
      "metadata": {
        "colab": {
          "base_uri": "https://localhost:8080/"
        },
        "id": "81JjNDiASF-3",
        "outputId": "b1b7575d-bb16-4bc5-eba5-a5757a356d38"
      },
      "execution_count": null,
      "outputs": [
        {
          "output_type": "stream",
          "name": "stdout",
          "text": [
            "(1166, 6)\n"
          ]
        }
      ]
    },
    {
      "cell_type": "code",
      "source": [
        "df_park_master.head()"
      ],
      "metadata": {
        "colab": {
          "base_uri": "https://localhost:8080/",
          "height": 206
        },
        "id": "DuOMlpqHSKvK",
        "outputId": "35a0637d-9e3e-4dcf-fe7f-95f3e74ee17a"
      },
      "execution_count": null,
      "outputs": [
        {
          "output_type": "execute_result",
          "data": {
            "text/plain": [
              "   施設分類         施設名 市区町村名             所在地         緯度          経度\n",
              "0   図書館   東京都立中央図書館    港区  東京都港区南麻布5-7-13  35.652096  139.726341\n",
              "1  文化施設    東京都庭園美術館    港区  東京都港区白金台5-21-9  35.636947  139.719041\n",
              "2  文化施設  東京都江戸東京博物館   墨田区   東京都墨田区横網1-4-1  35.696597  139.795734\n",
              "3  文化施設    東京都写真美術館   目黒区  東京都目黒区三田1-13-3  35.641641  139.713289\n",
              "4  文化施設    東京都現代美術館   江東区   東京都江東区三好4-1-1  35.679643  139.808112"
            ],
            "text/html": [
              "\n",
              "  <div id=\"df-f32f2e90-449a-4069-b0de-e90100d66611\">\n",
              "    <div class=\"colab-df-container\">\n",
              "      <div>\n",
              "<style scoped>\n",
              "    .dataframe tbody tr th:only-of-type {\n",
              "        vertical-align: middle;\n",
              "    }\n",
              "\n",
              "    .dataframe tbody tr th {\n",
              "        vertical-align: top;\n",
              "    }\n",
              "\n",
              "    .dataframe thead th {\n",
              "        text-align: right;\n",
              "    }\n",
              "</style>\n",
              "<table border=\"1\" class=\"dataframe\">\n",
              "  <thead>\n",
              "    <tr style=\"text-align: right;\">\n",
              "      <th></th>\n",
              "      <th>施設分類</th>\n",
              "      <th>施設名</th>\n",
              "      <th>市区町村名</th>\n",
              "      <th>所在地</th>\n",
              "      <th>緯度</th>\n",
              "      <th>経度</th>\n",
              "    </tr>\n",
              "  </thead>\n",
              "  <tbody>\n",
              "    <tr>\n",
              "      <th>0</th>\n",
              "      <td>図書館</td>\n",
              "      <td>東京都立中央図書館</td>\n",
              "      <td>港区</td>\n",
              "      <td>東京都港区南麻布5-7-13</td>\n",
              "      <td>35.652096</td>\n",
              "      <td>139.726341</td>\n",
              "    </tr>\n",
              "    <tr>\n",
              "      <th>1</th>\n",
              "      <td>文化施設</td>\n",
              "      <td>東京都庭園美術館</td>\n",
              "      <td>港区</td>\n",
              "      <td>東京都港区白金台5-21-9</td>\n",
              "      <td>35.636947</td>\n",
              "      <td>139.719041</td>\n",
              "    </tr>\n",
              "    <tr>\n",
              "      <th>2</th>\n",
              "      <td>文化施設</td>\n",
              "      <td>東京都江戸東京博物館</td>\n",
              "      <td>墨田区</td>\n",
              "      <td>東京都墨田区横網1-4-1</td>\n",
              "      <td>35.696597</td>\n",
              "      <td>139.795734</td>\n",
              "    </tr>\n",
              "    <tr>\n",
              "      <th>3</th>\n",
              "      <td>文化施設</td>\n",
              "      <td>東京都写真美術館</td>\n",
              "      <td>目黒区</td>\n",
              "      <td>東京都目黒区三田1-13-3</td>\n",
              "      <td>35.641641</td>\n",
              "      <td>139.713289</td>\n",
              "    </tr>\n",
              "    <tr>\n",
              "      <th>4</th>\n",
              "      <td>文化施設</td>\n",
              "      <td>東京都現代美術館</td>\n",
              "      <td>江東区</td>\n",
              "      <td>東京都江東区三好4-1-1</td>\n",
              "      <td>35.679643</td>\n",
              "      <td>139.808112</td>\n",
              "    </tr>\n",
              "  </tbody>\n",
              "</table>\n",
              "</div>\n",
              "      <button class=\"colab-df-convert\" onclick=\"convertToInteractive('df-f32f2e90-449a-4069-b0de-e90100d66611')\"\n",
              "              title=\"Convert this dataframe to an interactive table.\"\n",
              "              style=\"display:none;\">\n",
              "        \n",
              "  <svg xmlns=\"http://www.w3.org/2000/svg\" height=\"24px\"viewBox=\"0 0 24 24\"\n",
              "       width=\"24px\">\n",
              "    <path d=\"M0 0h24v24H0V0z\" fill=\"none\"/>\n",
              "    <path d=\"M18.56 5.44l.94 2.06.94-2.06 2.06-.94-2.06-.94-.94-2.06-.94 2.06-2.06.94zm-11 1L8.5 8.5l.94-2.06 2.06-.94-2.06-.94L8.5 2.5l-.94 2.06-2.06.94zm10 10l.94 2.06.94-2.06 2.06-.94-2.06-.94-.94-2.06-.94 2.06-2.06.94z\"/><path d=\"M17.41 7.96l-1.37-1.37c-.4-.4-.92-.59-1.43-.59-.52 0-1.04.2-1.43.59L10.3 9.45l-7.72 7.72c-.78.78-.78 2.05 0 2.83L4 21.41c.39.39.9.59 1.41.59.51 0 1.02-.2 1.41-.59l7.78-7.78 2.81-2.81c.8-.78.8-2.07 0-2.86zM5.41 20L4 18.59l7.72-7.72 1.47 1.35L5.41 20z\"/>\n",
              "  </svg>\n",
              "      </button>\n",
              "      \n",
              "  <style>\n",
              "    .colab-df-container {\n",
              "      display:flex;\n",
              "      flex-wrap:wrap;\n",
              "      gap: 12px;\n",
              "    }\n",
              "\n",
              "    .colab-df-convert {\n",
              "      background-color: #E8F0FE;\n",
              "      border: none;\n",
              "      border-radius: 50%;\n",
              "      cursor: pointer;\n",
              "      display: none;\n",
              "      fill: #1967D2;\n",
              "      height: 32px;\n",
              "      padding: 0 0 0 0;\n",
              "      width: 32px;\n",
              "    }\n",
              "\n",
              "    .colab-df-convert:hover {\n",
              "      background-color: #E2EBFA;\n",
              "      box-shadow: 0px 1px 2px rgba(60, 64, 67, 0.3), 0px 1px 3px 1px rgba(60, 64, 67, 0.15);\n",
              "      fill: #174EA6;\n",
              "    }\n",
              "\n",
              "    [theme=dark] .colab-df-convert {\n",
              "      background-color: #3B4455;\n",
              "      fill: #D2E3FC;\n",
              "    }\n",
              "\n",
              "    [theme=dark] .colab-df-convert:hover {\n",
              "      background-color: #434B5C;\n",
              "      box-shadow: 0px 1px 3px 1px rgba(0, 0, 0, 0.15);\n",
              "      filter: drop-shadow(0px 1px 2px rgba(0, 0, 0, 0.3));\n",
              "      fill: #FFFFFF;\n",
              "    }\n",
              "  </style>\n",
              "\n",
              "      <script>\n",
              "        const buttonEl =\n",
              "          document.querySelector('#df-f32f2e90-449a-4069-b0de-e90100d66611 button.colab-df-convert');\n",
              "        buttonEl.style.display =\n",
              "          google.colab.kernel.accessAllowed ? 'block' : 'none';\n",
              "\n",
              "        async function convertToInteractive(key) {\n",
              "          const element = document.querySelector('#df-f32f2e90-449a-4069-b0de-e90100d66611');\n",
              "          const dataTable =\n",
              "            await google.colab.kernel.invokeFunction('convertToInteractive',\n",
              "                                                     [key], {});\n",
              "          if (!dataTable) return;\n",
              "\n",
              "          const docLinkHtml = 'Like what you see? Visit the ' +\n",
              "            '<a target=\"_blank\" href=https://colab.research.google.com/notebooks/data_table.ipynb>data table notebook</a>'\n",
              "            + ' to learn more about interactive tables.';\n",
              "          element.innerHTML = '';\n",
              "          dataTable['output_type'] = 'display_data';\n",
              "          await google.colab.output.renderOutput(dataTable, element);\n",
              "          const docLink = document.createElement('div');\n",
              "          docLink.innerHTML = docLinkHtml;\n",
              "          element.appendChild(docLink);\n",
              "        }\n",
              "      </script>\n",
              "    </div>\n",
              "  </div>\n",
              "  "
            ]
          },
          "metadata": {},
          "execution_count": 17
        }
      ]
    },
    {
      "cell_type": "code",
      "source": [
        "df_park_master.to_csv(os.path.join(DIR_NAME, 'park_master.csv'), index=False)"
      ],
      "metadata": {
        "id": "1kc_VsQUuL0V"
      },
      "execution_count": null,
      "outputs": []
    },
    {
      "cell_type": "code",
      "source": [
        "# データがある区をリストアップ\n",
        "sr_park_count = df_park_master[df_park_master['施設分類'] == '公園']['市区町村名'].value_counts()\n",
        "ward_list = list(sr_park_count[sr_park_count > 40].index)\n",
        "ward_list"
      ],
      "metadata": {
        "id": "mxCmxoMv03eQ",
        "outputId": "94de1fae-d79f-4180-ffce-2d9cb4d65928",
        "colab": {
          "base_uri": "https://localhost:8080/"
        }
      },
      "execution_count": null,
      "outputs": [
        {
          "output_type": "execute_result",
          "data": {
            "text/plain": [
              "['杉並区', '練馬区', '港区', '墨田区', '台東区', '目黒区']"
            ]
          },
          "metadata": {},
          "execution_count": 19
        }
      ]
    },
    {
      "cell_type": "markdown",
      "source": [
        "## 人口マスタ"
      ],
      "metadata": {
        "id": "jdT3_lplSwOo"
      }
    },
    {
      "cell_type": "code",
      "source": [
        "population_master = pd.read_csv(os.path.join(DIR_NAME, 'population_master.csv'))\n",
        "print(population_master.shape)\n",
        "df_tokyo_district_master = population_master[population_master['市区町村名'].isin(ward_list)][['市区町村名', '町名', '町丁目', '緯度', '経度']].copy()\n",
        "print(df_tokyo_district_master.shape)"
      ],
      "metadata": {
        "colab": {
          "base_uri": "https://localhost:8080/"
        },
        "id": "mmH8g81kP2Cb",
        "outputId": "aae14864-bee3-4fb6-b806-efefb93a5fc8"
      },
      "execution_count": null,
      "outputs": [
        {
          "output_type": "stream",
          "name": "stdout",
          "text": [
            "(2921, 32)\n",
            "(750, 5)\n"
          ]
        }
      ]
    },
    {
      "cell_type": "code",
      "source": [
        "%%time\n",
        "# 近い5件の距離の平均\n",
        "df_tokyo_district_master['公園(平均距離)'] = get_value_of_nearest_facility(df_tokyo_district_master, df_park_master, '公園', 'mean', 5)\n",
        "# 1km以内の施設の数\n",
        "df_tokyo_district_master['公園(数)'] = get_value_of_nearest_facility(df_tokyo_district_master, df_park_master, '公園', 'count', 1)"
      ],
      "metadata": {
        "colab": {
          "base_uri": "https://localhost:8080/"
        },
        "id": "sn7VhpDmQJsi",
        "outputId": "338d554b-a281-481c-8496-aee54f4e2433"
      },
      "execution_count": null,
      "outputs": [
        {
          "output_type": "stream",
          "name": "stdout",
          "text": [
            "CPU times: user 39.5 s, sys: 120 ms, total: 39.6 s\n",
            "Wall time: 39.7 s\n"
          ]
        }
      ]
    },
    {
      "cell_type": "code",
      "source": [
        "print(df_tokyo_district_master.shape)\n",
        "df_tokyo_district_master.head()"
      ],
      "metadata": {
        "colab": {
          "base_uri": "https://localhost:8080/",
          "height": 224
        },
        "id": "pNI5D7LZTJE3",
        "outputId": "fdaa0acd-9839-42ce-8836-ec9b7584c1f7"
      },
      "execution_count": null,
      "outputs": [
        {
          "output_type": "stream",
          "name": "stdout",
          "text": [
            "(750, 7)\n"
          ]
        },
        {
          "output_type": "execute_result",
          "data": {
            "text/plain": [
              "    市区町村名 町名   町丁目         緯度          経度  公園(平均距離)  公園(数)\n",
              "170    港区  芝  芝１丁目  35.651019  139.754999  0.194762     23\n",
              "171    港区  芝  芝２丁目  35.651370  139.751891  0.213236     24\n",
              "172    港区  芝  芝３丁目  35.652304  139.747678  0.218761     30\n",
              "173    港区  芝  芝４丁目  35.648348  139.751136  0.264840     26\n",
              "174    港区  芝  芝５丁目  35.647148  139.746984  0.355872     35"
            ],
            "text/html": [
              "\n",
              "  <div id=\"df-bd766252-cd70-4a00-80e3-78dae44d5c8d\">\n",
              "    <div class=\"colab-df-container\">\n",
              "      <div>\n",
              "<style scoped>\n",
              "    .dataframe tbody tr th:only-of-type {\n",
              "        vertical-align: middle;\n",
              "    }\n",
              "\n",
              "    .dataframe tbody tr th {\n",
              "        vertical-align: top;\n",
              "    }\n",
              "\n",
              "    .dataframe thead th {\n",
              "        text-align: right;\n",
              "    }\n",
              "</style>\n",
              "<table border=\"1\" class=\"dataframe\">\n",
              "  <thead>\n",
              "    <tr style=\"text-align: right;\">\n",
              "      <th></th>\n",
              "      <th>市区町村名</th>\n",
              "      <th>町名</th>\n",
              "      <th>町丁目</th>\n",
              "      <th>緯度</th>\n",
              "      <th>経度</th>\n",
              "      <th>公園(平均距離)</th>\n",
              "      <th>公園(数)</th>\n",
              "    </tr>\n",
              "  </thead>\n",
              "  <tbody>\n",
              "    <tr>\n",
              "      <th>170</th>\n",
              "      <td>港区</td>\n",
              "      <td>芝</td>\n",
              "      <td>芝１丁目</td>\n",
              "      <td>35.651019</td>\n",
              "      <td>139.754999</td>\n",
              "      <td>0.194762</td>\n",
              "      <td>23</td>\n",
              "    </tr>\n",
              "    <tr>\n",
              "      <th>171</th>\n",
              "      <td>港区</td>\n",
              "      <td>芝</td>\n",
              "      <td>芝２丁目</td>\n",
              "      <td>35.651370</td>\n",
              "      <td>139.751891</td>\n",
              "      <td>0.213236</td>\n",
              "      <td>24</td>\n",
              "    </tr>\n",
              "    <tr>\n",
              "      <th>172</th>\n",
              "      <td>港区</td>\n",
              "      <td>芝</td>\n",
              "      <td>芝３丁目</td>\n",
              "      <td>35.652304</td>\n",
              "      <td>139.747678</td>\n",
              "      <td>0.218761</td>\n",
              "      <td>30</td>\n",
              "    </tr>\n",
              "    <tr>\n",
              "      <th>173</th>\n",
              "      <td>港区</td>\n",
              "      <td>芝</td>\n",
              "      <td>芝４丁目</td>\n",
              "      <td>35.648348</td>\n",
              "      <td>139.751136</td>\n",
              "      <td>0.264840</td>\n",
              "      <td>26</td>\n",
              "    </tr>\n",
              "    <tr>\n",
              "      <th>174</th>\n",
              "      <td>港区</td>\n",
              "      <td>芝</td>\n",
              "      <td>芝５丁目</td>\n",
              "      <td>35.647148</td>\n",
              "      <td>139.746984</td>\n",
              "      <td>0.355872</td>\n",
              "      <td>35</td>\n",
              "    </tr>\n",
              "  </tbody>\n",
              "</table>\n",
              "</div>\n",
              "      <button class=\"colab-df-convert\" onclick=\"convertToInteractive('df-bd766252-cd70-4a00-80e3-78dae44d5c8d')\"\n",
              "              title=\"Convert this dataframe to an interactive table.\"\n",
              "              style=\"display:none;\">\n",
              "        \n",
              "  <svg xmlns=\"http://www.w3.org/2000/svg\" height=\"24px\"viewBox=\"0 0 24 24\"\n",
              "       width=\"24px\">\n",
              "    <path d=\"M0 0h24v24H0V0z\" fill=\"none\"/>\n",
              "    <path d=\"M18.56 5.44l.94 2.06.94-2.06 2.06-.94-2.06-.94-.94-2.06-.94 2.06-2.06.94zm-11 1L8.5 8.5l.94-2.06 2.06-.94-2.06-.94L8.5 2.5l-.94 2.06-2.06.94zm10 10l.94 2.06.94-2.06 2.06-.94-2.06-.94-.94-2.06-.94 2.06-2.06.94z\"/><path d=\"M17.41 7.96l-1.37-1.37c-.4-.4-.92-.59-1.43-.59-.52 0-1.04.2-1.43.59L10.3 9.45l-7.72 7.72c-.78.78-.78 2.05 0 2.83L4 21.41c.39.39.9.59 1.41.59.51 0 1.02-.2 1.41-.59l7.78-7.78 2.81-2.81c.8-.78.8-2.07 0-2.86zM5.41 20L4 18.59l7.72-7.72 1.47 1.35L5.41 20z\"/>\n",
              "  </svg>\n",
              "      </button>\n",
              "      \n",
              "  <style>\n",
              "    .colab-df-container {\n",
              "      display:flex;\n",
              "      flex-wrap:wrap;\n",
              "      gap: 12px;\n",
              "    }\n",
              "\n",
              "    .colab-df-convert {\n",
              "      background-color: #E8F0FE;\n",
              "      border: none;\n",
              "      border-radius: 50%;\n",
              "      cursor: pointer;\n",
              "      display: none;\n",
              "      fill: #1967D2;\n",
              "      height: 32px;\n",
              "      padding: 0 0 0 0;\n",
              "      width: 32px;\n",
              "    }\n",
              "\n",
              "    .colab-df-convert:hover {\n",
              "      background-color: #E2EBFA;\n",
              "      box-shadow: 0px 1px 2px rgba(60, 64, 67, 0.3), 0px 1px 3px 1px rgba(60, 64, 67, 0.15);\n",
              "      fill: #174EA6;\n",
              "    }\n",
              "\n",
              "    [theme=dark] .colab-df-convert {\n",
              "      background-color: #3B4455;\n",
              "      fill: #D2E3FC;\n",
              "    }\n",
              "\n",
              "    [theme=dark] .colab-df-convert:hover {\n",
              "      background-color: #434B5C;\n",
              "      box-shadow: 0px 1px 3px 1px rgba(0, 0, 0, 0.15);\n",
              "      filter: drop-shadow(0px 1px 2px rgba(0, 0, 0, 0.3));\n",
              "      fill: #FFFFFF;\n",
              "    }\n",
              "  </style>\n",
              "\n",
              "      <script>\n",
              "        const buttonEl =\n",
              "          document.querySelector('#df-bd766252-cd70-4a00-80e3-78dae44d5c8d button.colab-df-convert');\n",
              "        buttonEl.style.display =\n",
              "          google.colab.kernel.accessAllowed ? 'block' : 'none';\n",
              "\n",
              "        async function convertToInteractive(key) {\n",
              "          const element = document.querySelector('#df-bd766252-cd70-4a00-80e3-78dae44d5c8d');\n",
              "          const dataTable =\n",
              "            await google.colab.kernel.invokeFunction('convertToInteractive',\n",
              "                                                     [key], {});\n",
              "          if (!dataTable) return;\n",
              "\n",
              "          const docLinkHtml = 'Like what you see? Visit the ' +\n",
              "            '<a target=\"_blank\" href=https://colab.research.google.com/notebooks/data_table.ipynb>data table notebook</a>'\n",
              "            + ' to learn more about interactive tables.';\n",
              "          element.innerHTML = '';\n",
              "          dataTable['output_type'] = 'display_data';\n",
              "          await google.colab.output.renderOutput(dataTable, element);\n",
              "          const docLink = document.createElement('div');\n",
              "          docLink.innerHTML = docLinkHtml;\n",
              "          element.appendChild(docLink);\n",
              "        }\n",
              "      </script>\n",
              "    </div>\n",
              "  </div>\n",
              "  "
            ]
          },
          "metadata": {},
          "execution_count": 22
        }
      ]
    },
    {
      "cell_type": "code",
      "source": [
        "sns.histplot(df_tokyo_district_master['公園(数)'], bins=10)\n",
        "plt.show()"
      ],
      "metadata": {
        "colab": {
          "base_uri": "https://localhost:8080/",
          "height": 278
        },
        "id": "Prj7gyyxTK0s",
        "outputId": "62082251-2e1c-4486-834e-241d8a9ef8cc"
      },
      "execution_count": null,
      "outputs": [
        {
          "output_type": "display_data",
          "data": {
            "text/plain": [
              "<Figure size 432x288 with 1 Axes>"
            ],
            "image/png": "[encoded data removed]"
          },
          "metadata": {
            "needs_background": "light"
          }
        }
      ]
    },
    {
      "cell_type": "code",
      "source": [
        "sns.histplot(df_tokyo_district_master['公園(平均距離)'], bins=20)\n",
        "plt.show()"
      ],
      "metadata": {
        "colab": {
          "base_uri": "https://localhost:8080/",
          "height": 278
        },
        "id": "Q2u15pO4Tj6v",
        "outputId": "a197fcc9-92c0-4ba4-f29c-8e424e138b03"
      },
      "execution_count": null,
      "outputs": [
        {
          "output_type": "display_data",
          "data": {
            "text/plain": [
              "<Figure size 432x288 with 1 Axes>"
            ],
            "image/png": "[encoded data removed]"
          },
          "metadata": {
            "needs_background": "light"
          }
        }
      ]
    },
    {
      "cell_type": "code",
      "source": [
        "def normalize_score(sr_data, high=True):\n",
        "    score = (sr_data - sr_data.mean())/sr_data.std()\n",
        "    score = score if high else -score\n",
        "\n",
        "    high = score.quantile(0.99)\n",
        "    low = score.quantile(0.01)\n",
        "    score[score > high] = high\n",
        "    score[score < low] = low\n",
        "    \n",
        "    return (score - low)/(high - low)\n",
        "\n",
        "def rank_score(sr_data):\n",
        "    size = sr_data.notna().sum()\n",
        "    rank = sr_data.rank()\n",
        "    result = rank.copy()\n",
        "    # 0~1: 15%, 1~2: 20%, 2~3: 30%, 3~4: 20%, 4~5: 15%\n",
        "    level_list = [0.15, (0.15+0.2), (0.15+0.2+0.3), (0.15+0.2+0.3+0.2), 1]\n",
        "    \n",
        "    pre_level = 0\n",
        "    for index, level in enumerate([lv*size for lv in level_list]):\n",
        "        result[(rank > pre_level)&(rank <= level)] = (rank - pre_level)/(level - pre_level) + index\n",
        "        pre_level = level\n",
        "\n",
        "    return result"
      ],
      "metadata": {
        "id": "qsPRvvbUTnlK"
      },
      "execution_count": null,
      "outputs": []
    },
    {
      "cell_type": "code",
      "source": [
        "df_tokyo_district_master['公園(数)レベル'] = normalize_score(df_tokyo_district_master['公園(数)'])\n",
        "sns.histplot(df_tokyo_district_master['公園(数)レベル'], bins=7)\n",
        "plt.show()"
      ],
      "metadata": {
        "colab": {
          "base_uri": "https://localhost:8080/",
          "height": 278
        },
        "id": "_sjdQnHMVX4b",
        "outputId": "8626ea31-45ab-42ab-9ff0-5dab965e41f6"
      },
      "execution_count": null,
      "outputs": [
        {
          "output_type": "display_data",
          "data": {
            "text/plain": [
              "<Figure size 432x288 with 1 Axes>"
            ],
            "image/png": "[encoded data removed]"
          },
          "metadata": {
            "needs_background": "light"
          }
        }
      ]
    },
    {
      "cell_type": "code",
      "source": [
        "df_tokyo_district_master['公園(平均距離)レベル'] = normalize_score(df_tokyo_district_master['公園(平均距離)'], False)\n",
        "sns.histplot(df_tokyo_district_master['公園(平均距離)レベル'], bins=20)\n",
        "plt.show()"
      ],
      "metadata": {
        "colab": {
          "base_uri": "https://localhost:8080/",
          "height": 278
        },
        "id": "3yn6iVneV45R",
        "outputId": "564a5a10-82e7-4896-db34-d4873ee098f7"
      },
      "execution_count": null,
      "outputs": [
        {
          "output_type": "display_data",
          "data": {
            "text/plain": [
              "<Figure size 432x288 with 1 Axes>"
            ],
            "image/png": "[encoded data removed]"
          },
          "metadata": {
            "needs_background": "light"
          }
        }
      ]
    },
    {
      "cell_type": "code",
      "source": [
        "score_list = [\n",
        "    df_tokyo_district_master['公園(平均距離)レベル'] * 0.5,\n",
        "    df_tokyo_district_master['公園(数)レベル'] * 0.5,\n",
        "]\n",
        "df_tokyo_district_master['_公園スコア'] = normalize_score(pd.concat(score_list, axis=1).sum(axis=1, skipna=False))\n",
        "df_tokyo_district_master['公園スコア'] = rank_score(df_tokyo_district_master['_公園スコア'])"
      ],
      "metadata": {
        "id": "0Kg1KbFwWrHx"
      },
      "execution_count": null,
      "outputs": []
    },
    {
      "cell_type": "code",
      "source": [
        "sns.histplot(df_tokyo_district_master['_公園スコア'], bins=20)\n",
        "plt.show()"
      ],
      "metadata": {
        "colab": {
          "base_uri": "https://localhost:8080/",
          "height": 277
        },
        "id": "zncizh76Yzrp",
        "outputId": "32988cc5-f24f-40bc-f9fd-617e31f8b414"
      },
      "execution_count": null,
      "outputs": [
        {
          "output_type": "display_data",
          "data": {
            "text/plain": [
              "<Figure size 432x288 with 1 Axes>"
            ],
            "image/png": "[encoded data removed]"
          },
          "metadata": {
            "needs_background": "light"
          }
        }
      ]
    },
    {
      "cell_type": "code",
      "source": [
        "sns.histplot(df_tokyo_district_master['公園スコア'], bins=20)\n",
        "plt.show()"
      ],
      "metadata": {
        "colab": {
          "base_uri": "https://localhost:8080/",
          "height": 277
        },
        "id": "hjMG_V5TYpbn",
        "outputId": "193ad69c-e330-4776-d3bd-250e562c0af2"
      },
      "execution_count": null,
      "outputs": [
        {
          "output_type": "display_data",
          "data": {
            "text/plain": [
              "<Figure size 432x288 with 1 Axes>"
            ],
            "image/png": "[encoded data removed]"
          },
          "metadata": {
            "needs_background": "light"
          }
        }
      ]
    },
    {
      "cell_type": "markdown",
      "source": [
        "### 公園スコア出力"
      ],
      "metadata": {
        "id": "FQ5zukEGuSc-"
      }
    },
    {
      "cell_type": "code",
      "source": [
        "df_tokyo_district_master[['市区町村名', '町丁目', '公園(平均距離)', '公園(数)', '公園スコア']].to_csv(os.path.join(DIR_NAME, 'park_score.csv'), index=False)"
      ],
      "metadata": {
        "id": "sSfVVuQla7Os"
      },
      "execution_count": null,
      "outputs": []
    },
    {
      "cell_type": "code",
      "source": [
        "plt.figure(figsize=(15, 5))\n",
        "sns.barplot(x='市区町村名', y='公園スコア', data=df_tokyo_district_master)\n",
        "plt.show()"
      ],
      "metadata": {
        "colab": {
          "base_uri": "https://localhost:8080/",
          "height": 333
        },
        "id": "3tJjlj0keD_-",
        "outputId": "5fbefab0-ce9a-4b9a-924f-fa78b30b538a"
      },
      "execution_count": null,
      "outputs": [
        {
          "output_type": "display_data",
          "data": {
            "text/plain": [
              "<Figure size 1080x360 with 1 Axes>"
            ],
            "image/png": "[encoded data removed]"
          },
          "metadata": {
            "needs_background": "light"
          }
        }
      ]
    },
    {
      "cell_type": "code",
      "source": [
        "df_park_level = df_tokyo_district_master.copy()\n",
        "df_park_level['rank'] = df_park_level.groupby('町名')['公園スコア'].transform('rank', ascending=False)\n",
        "df_park_level = df_park_level[df_park_level['rank'] == 1].sort_values('公園スコア', ascending=False)[\n",
        "    ['市区町村名', '町名', '町丁目', '公園スコア', '_公園スコア', '公園(平均距離)', '公園(数)']\n",
        "].reset_index(drop=True)\n",
        "print(df_park_level.shape)"
      ],
      "metadata": {
        "colab": {
          "base_uri": "https://localhost:8080/"
        },
        "id": "JtdMzyO3YxKE",
        "outputId": "e0dc2a3b-5b2a-4633-c804-4f0bc312637c"
      },
      "execution_count": null,
      "outputs": [
        {
          "output_type": "stream",
          "name": "stdout",
          "text": [
            "(185, 7)\n"
          ]
        }
      ]
    },
    {
      "cell_type": "code",
      "source": [
        "df_park_level.head(20)"
      ],
      "metadata": {
        "colab": {
          "base_uri": "https://localhost:8080/",
          "height": 677
        },
        "id": "HmlzRQiaZZZC",
        "outputId": "b93281e0-1da1-4318-af07-2c272ef634c3"
      },
      "execution_count": null,
      "outputs": [
        {
          "output_type": "execute_result",
          "data": {
            "text/plain": [
              "   市区町村名    町名      町丁目     公園スコア    _公園スコア  公園(平均距離)  公園(数)\n",
              "0    墨田区    京島    京島１丁目  4.968847  1.000000  0.166566     40\n",
              "1    杉並区  高井戸東  高井戸東４丁目  4.928794  0.998741  0.191452     40\n",
              "2    墨田区    墨田    墨田１丁目  4.910992  0.976100  0.181000     38\n",
              "3    杉並区    宮前    宮前２丁目  4.893191  0.966774  0.194229     38\n",
              "4    杉並区   成田西   成田西３丁目  4.875389  0.962402  0.243002     40\n",
              "5    練馬区   土支田   土支田３丁目  4.857588  0.949245  0.091385     32\n",
              "6    杉並区  高井戸西  高井戸西２丁目  4.786382  0.920384  0.217466     36\n",
              "7     港区    白金    白金１丁目  4.777481  0.916099  0.138405     32\n",
              "8    練馬区   大泉町   大泉町２丁目  4.750779  0.914793  0.182827     34\n",
              "9    杉並区   成田東   成田東３丁目  4.732977  0.910872  0.209674     35\n",
              "10   杉並区    今川    今川２丁目  4.688474  0.903229  0.263086     37\n",
              "11   墨田区    押上    押上３丁目  4.643970  0.882826  0.228175     34\n",
              "12    港区   南麻布   南麻布２丁目  4.626168  0.882214  0.186473     32\n",
              "13   墨田区    立花    立花５丁目  4.599466  0.877166  0.257488     35\n",
              "14   杉並区   浜田山   浜田山３丁目  4.590565  0.875943  0.280508     36\n",
              "15    港区    三田    三田４丁目  4.572764  0.869714  0.225490     33\n",
              "16   練馬区    練馬    練馬２丁目  4.550512  0.863525  0.000000     22\n",
              "17   練馬区   西大泉   西大泉５丁目  4.550512  0.863525  0.000000     22\n",
              "18   墨田区    文花    文花３丁目  4.537161  0.861540  0.300939     36\n",
              "19   杉並区   松ノ木   松ノ木３丁目  4.519359  0.858424  0.241505     33"
            ],
            "text/html": [
              "\n",
              "  <div id=\"df-a4fd163b-352e-43ac-bf93-aebe87c659cb\">\n",
              "    <div class=\"colab-df-container\">\n",
              "      <div>\n",
              "<style scoped>\n",
              "    .dataframe tbody tr th:only-of-type {\n",
              "        vertical-align: middle;\n",
              "    }\n",
              "\n",
              "    .dataframe tbody tr th {\n",
              "        vertical-align: top;\n",
              "    }\n",
              "\n",
              "    .dataframe thead th {\n",
              "        text-align: right;\n",
              "    }\n",
              "</style>\n",
              "<table border=\"1\" class=\"dataframe\">\n",
              "  <thead>\n",
              "    <tr style=\"text-align: right;\">\n",
              "      <th></th>\n",
              "      <th>市区町村名</th>\n",
              "      <th>町名</th>\n",
              "      <th>町丁目</th>\n",
              "      <th>公園スコア</th>\n",
              "      <th>_公園スコア</th>\n",
              "      <th>公園(平均距離)</th>\n",
              "      <th>公園(数)</th>\n",
              "    </tr>\n",
              "  </thead>\n",
              "  <tbody>\n",
              "    <tr>\n",
              "      <th>0</th>\n",
              "      <td>墨田区</td>\n",
              "      <td>京島</td>\n",
              "      <td>京島１丁目</td>\n",
              "      <td>4.968847</td>\n",
              "      <td>1.000000</td>\n",
              "      <td>0.166566</td>\n",
              "      <td>40</td>\n",
              "    </tr>\n",
              "    <tr>\n",
              "      <th>1</th>\n",
              "      <td>杉並区</td>\n",
              "      <td>高井戸東</td>\n",
              "      <td>高井戸東４丁目</td>\n",
              "      <td>4.928794</td>\n",
              "      <td>0.998741</td>\n",
              "      <td>0.191452</td>\n",
              "      <td>40</td>\n",
              "    </tr>\n",
              "    <tr>\n",
              "      <th>2</th>\n",
              "      <td>墨田区</td>\n",
              "      <td>墨田</td>\n",
              "      <td>墨田１丁目</td>\n",
              "      <td>4.910992</td>\n",
              "      <td>0.976100</td>\n",
              "      <td>0.181000</td>\n",
              "      <td>38</td>\n",
              "    </tr>\n",
              "    <tr>\n",
              "      <th>3</th>\n",
              "      <td>杉並区</td>\n",
              "      <td>宮前</td>\n",
              "      <td>宮前２丁目</td>\n",
              "      <td>4.893191</td>\n",
              "      <td>0.966774</td>\n",
              "      <td>0.194229</td>\n",
              "      <td>38</td>\n",
              "    </tr>\n",
              "    <tr>\n",
              "      <th>4</th>\n",
              "      <td>杉並区</td>\n",
              "      <td>成田西</td>\n",
              "      <td>成田西３丁目</td>\n",
              "      <td>4.875389</td>\n",
              "      <td>0.962402</td>\n",
              "      <td>0.243002</td>\n",
              "      <td>40</td>\n",
              "    </tr>\n",
              "    <tr>\n",
              "      <th>5</th>\n",
              "      <td>練馬区</td>\n",
              "      <td>土支田</td>\n",
              "      <td>土支田３丁目</td>\n",
              "      <td>4.857588</td>\n",
              "      <td>0.949245</td>\n",
              "      <td>0.091385</td>\n",
              "      <td>32</td>\n",
              "    </tr>\n",
              "    <tr>\n",
              "      <th>6</th>\n",
              "      <td>杉並区</td>\n",
              "      <td>高井戸西</td>\n",
              "      <td>高井戸西２丁目</td>\n",
              "      <td>4.786382</td>\n",
              "      <td>0.920384</td>\n",
              "      <td>0.217466</td>\n",
              "      <td>36</td>\n",
              "    </tr>\n",
              "    <tr>\n",
              "      <th>7</th>\n",
              "      <td>港区</td>\n",
              "      <td>白金</td>\n",
              "      <td>白金１丁目</td>\n",
              "      <td>4.777481</td>\n",
              "      <td>0.916099</td>\n",
              "      <td>0.138405</td>\n",
              "      <td>32</td>\n",
              "    </tr>\n",
              "    <tr>\n",
              "      <th>8</th>\n",
              "      <td>練馬区</td>\n",
              "      <td>大泉町</td>\n",
              "      <td>大泉町２丁目</td>\n",
              "      <td>4.750779</td>\n",
              "      <td>0.914793</td>\n",
              "      <td>0.182827</td>\n",
              "      <td>34</td>\n",
              "    </tr>\n",
              "    <tr>\n",
              "      <th>9</th>\n",
              "      <td>杉並区</td>\n",
              "      <td>成田東</td>\n",
              "      <td>成田東３丁目</td>\n",
              "      <td>4.732977</td>\n",
              "      <td>0.910872</td>\n",
              "      <td>0.209674</td>\n",
              "      <td>35</td>\n",
              "    </tr>\n",
              "    <tr>\n",
              "      <th>10</th>\n",
              "      <td>杉並区</td>\n",
              "      <td>今川</td>\n",
              "      <td>今川２丁目</td>\n",
              "      <td>4.688474</td>\n",
              "      <td>0.903229</td>\n",
              "      <td>0.263086</td>\n",
              "      <td>37</td>\n",
              "    </tr>\n",
              "    <tr>\n",
              "      <th>11</th>\n",
              "      <td>墨田区</td>\n",
              "      <td>押上</td>\n",
              "      <td>押上３丁目</td>\n",
              "      <td>4.643970</td>\n",
              "      <td>0.882826</td>\n",
              "      <td>0.228175</td>\n",
              "      <td>34</td>\n",
              "    </tr>\n",
              "    <tr>\n",
              "      <th>12</th>\n",
              "      <td>港区</td>\n",
              "      <td>南麻布</td>\n",
              "      <td>南麻布２丁目</td>\n",
              "      <td>4.626168</td>\n",
              "      <td>0.882214</td>\n",
              "      <td>0.186473</td>\n",
              "      <td>32</td>\n",
              "    </tr>\n",
              "    <tr>\n",
              "      <th>13</th>\n",
              "      <td>墨田区</td>\n",
              "      <td>立花</td>\n",
              "      <td>立花５丁目</td>\n",
              "      <td>4.599466</td>\n",
              "      <td>0.877166</td>\n",
              "      <td>0.257488</td>\n",
              "      <td>35</td>\n",
              "    </tr>\n",
              "    <tr>\n",
              "      <th>14</th>\n",
              "      <td>杉並区</td>\n",
              "      <td>浜田山</td>\n",
              "      <td>浜田山３丁目</td>\n",
              "      <td>4.590565</td>\n",
              "      <td>0.875943</td>\n",
              "      <td>0.280508</td>\n",
              "      <td>36</td>\n",
              "    </tr>\n",
              "    <tr>\n",
              "      <th>15</th>\n",
              "      <td>港区</td>\n",
              "      <td>三田</td>\n",
              "      <td>三田４丁目</td>\n",
              "      <td>4.572764</td>\n",
              "      <td>0.869714</td>\n",
              "      <td>0.225490</td>\n",
              "      <td>33</td>\n",
              "    </tr>\n",
              "    <tr>\n",
              "      <th>16</th>\n",
              "      <td>練馬区</td>\n",
              "      <td>練馬</td>\n",
              "      <td>練馬２丁目</td>\n",
              "      <td>4.550512</td>\n",
              "      <td>0.863525</td>\n",
              "      <td>0.000000</td>\n",
              "      <td>22</td>\n",
              "    </tr>\n",
              "    <tr>\n",
              "      <th>17</th>\n",
              "      <td>練馬区</td>\n",
              "      <td>西大泉</td>\n",
              "      <td>西大泉５丁目</td>\n",
              "      <td>4.550512</td>\n",
              "      <td>0.863525</td>\n",
              "      <td>0.000000</td>\n",
              "      <td>22</td>\n",
              "    </tr>\n",
              "    <tr>\n",
              "      <th>18</th>\n",
              "      <td>墨田区</td>\n",
              "      <td>文花</td>\n",
              "      <td>文花３丁目</td>\n",
              "      <td>4.537161</td>\n",
              "      <td>0.861540</td>\n",
              "      <td>0.300939</td>\n",
              "      <td>36</td>\n",
              "    </tr>\n",
              "    <tr>\n",
              "      <th>19</th>\n",
              "      <td>杉並区</td>\n",
              "      <td>松ノ木</td>\n",
              "      <td>松ノ木３丁目</td>\n",
              "      <td>4.519359</td>\n",
              "      <td>0.858424</td>\n",
              "      <td>0.241505</td>\n",
              "      <td>33</td>\n",
              "    </tr>\n",
              "  </tbody>\n",
              "</table>\n",
              "</div>\n",
              "      <button class=\"colab-df-convert\" onclick=\"convertToInteractive('df-a4fd163b-352e-43ac-bf93-aebe87c659cb')\"\n",
              "              title=\"Convert this dataframe to an interactive table.\"\n",
              "              style=\"display:none;\">\n",
              "        \n",
              "  <svg xmlns=\"http://www.w3.org/2000/svg\" height=\"24px\"viewBox=\"0 0 24 24\"\n",
              "       width=\"24px\">\n",
              "    <path d=\"M0 0h24v24H0V0z\" fill=\"none\"/>\n",
              "    <path d=\"M18.56 5.44l.94 2.06.94-2.06 2.06-.94-2.06-.94-.94-2.06-.94 2.06-2.06.94zm-11 1L8.5 8.5l.94-2.06 2.06-.94-2.06-.94L8.5 2.5l-.94 2.06-2.06.94zm10 10l.94 2.06.94-2.06 2.06-.94-2.06-.94-.94-2.06-.94 2.06-2.06.94z\"/><path d=\"M17.41 7.96l-1.37-1.37c-.4-.4-.92-.59-1.43-.59-.52 0-1.04.2-1.43.59L10.3 9.45l-7.72 7.72c-.78.78-.78 2.05 0 2.83L4 21.41c.39.39.9.59 1.41.59.51 0 1.02-.2 1.41-.59l7.78-7.78 2.81-2.81c.8-.78.8-2.07 0-2.86zM5.41 20L4 18.59l7.72-7.72 1.47 1.35L5.41 20z\"/>\n",
              "  </svg>\n",
              "      </button>\n",
              "      \n",
              "  <style>\n",
              "    .colab-df-container {\n",
              "      display:flex;\n",
              "      flex-wrap:wrap;\n",
              "      gap: 12px;\n",
              "    }\n",
              "\n",
              "    .colab-df-convert {\n",
              "      background-color: #E8F0FE;\n",
              "      border: none;\n",
              "      border-radius: 50%;\n",
              "      cursor: pointer;\n",
              "      display: none;\n",
              "      fill: #1967D2;\n",
              "      height: 32px;\n",
              "      padding: 0 0 0 0;\n",
              "      width: 32px;\n",
              "    }\n",
              "\n",
              "    .colab-df-convert:hover {\n",
              "      background-color: #E2EBFA;\n",
              "      box-shadow: 0px 1px 2px rgba(60, 64, 67, 0.3), 0px 1px 3px 1px rgba(60, 64, 67, 0.15);\n",
              "      fill: #174EA6;\n",
              "    }\n",
              "\n",
              "    [theme=dark] .colab-df-convert {\n",
              "      background-color: #3B4455;\n",
              "      fill: #D2E3FC;\n",
              "    }\n",
              "\n",
              "    [theme=dark] .colab-df-convert:hover {\n",
              "      background-color: #434B5C;\n",
              "      box-shadow: 0px 1px 3px 1px rgba(0, 0, 0, 0.15);\n",
              "      filter: drop-shadow(0px 1px 2px rgba(0, 0, 0, 0.3));\n",
              "      fill: #FFFFFF;\n",
              "    }\n",
              "  </style>\n",
              "\n",
              "      <script>\n",
              "        const buttonEl =\n",
              "          document.querySelector('#df-a4fd163b-352e-43ac-bf93-aebe87c659cb button.colab-df-convert');\n",
              "        buttonEl.style.display =\n",
              "          google.colab.kernel.accessAllowed ? 'block' : 'none';\n",
              "\n",
              "        async function convertToInteractive(key) {\n",
              "          const element = document.querySelector('#df-a4fd163b-352e-43ac-bf93-aebe87c659cb');\n",
              "          const dataTable =\n",
              "            await google.colab.kernel.invokeFunction('convertToInteractive',\n",
              "                                                     [key], {});\n",
              "          if (!dataTable) return;\n",
              "\n",
              "          const docLinkHtml = 'Like what you see? Visit the ' +\n",
              "            '<a target=\"_blank\" href=https://colab.research.google.com/notebooks/data_table.ipynb>data table notebook</a>'\n",
              "            + ' to learn more about interactive tables.';\n",
              "          element.innerHTML = '';\n",
              "          dataTable['output_type'] = 'display_data';\n",
              "          await google.colab.output.renderOutput(dataTable, element);\n",
              "          const docLink = document.createElement('div');\n",
              "          docLink.innerHTML = docLinkHtml;\n",
              "          element.appendChild(docLink);\n",
              "        }\n",
              "      </script>\n",
              "    </div>\n",
              "  </div>\n",
              "  "
            ]
          },
          "metadata": {},
          "execution_count": 34
        }
      ]
    },
    {
      "cell_type": "code",
      "source": [
        "df_park_level.tail(20)"
      ],
      "metadata": {
        "colab": {
          "base_uri": "https://localhost:8080/",
          "height": 677
        },
        "id": "qAA-c_8MaoIQ",
        "outputId": "1438abea-7344-41d2-aa11-d64486d5e63f"
      },
      "execution_count": null,
      "outputs": [
        {
          "output_type": "execute_result",
          "data": {
            "text/plain": [
              "    市区町村名    町名      町丁目     公園スコア    _公園スコア  公園(平均距離)  公園(数)\n",
              "165   目黒区   下目黒   下目黒４丁目  0.907877  0.368348  0.489721     12\n",
              "166   目黒区    大橋    大橋１丁目  0.774366  0.334351  0.388953      5\n",
              "167   目黒区   東が丘   東が丘２丁目  0.747664  0.323205  0.404764      5\n",
              "168   目黒区    東山    東山３丁目  0.738763  0.320119  0.409142      5\n",
              "169   目黒区    八雲    八雲５丁目  0.729862  0.319586  0.452467      7\n",
              "170   目黒区   青葉台   青葉台３丁目  0.694259  0.301567  0.435458      5\n",
              "171   目黒区     南     南２丁目  0.676457  0.298738  0.482042      7\n",
              "172   目黒区   碑文谷   碑文谷２丁目  0.667557  0.293504  0.489467      7\n",
              "173    港区    台場    台場２丁目  0.649755  0.289157  0.559488     10\n",
              "174   目黒区    鷹番    鷹番１丁目  0.623053  0.276562  0.513499      7\n",
              "175    港区   元赤坂   元赤坂２丁目  0.614152  0.270170  0.586422     10\n",
              "176   目黒区    原町    原町２丁目  0.480641  0.236321  0.570583      7\n",
              "177   目黒区   五本木   五本木１丁目  0.471740  0.233992  0.595172      8\n",
              "178   目黒区    平町    平町２丁目  0.427236  0.221869  0.569799      6\n",
              "179   目黒区   大岡山   大岡山１丁目  0.391633  0.204174  0.573616      5\n",
              "180   練馬区    旭丘    旭丘２丁目  0.267023  0.154480  0.665394      6\n",
              "181   目黒区  柿の木坂  柿の木坂１丁目  0.258122  0.150976  0.670365      6\n",
              "182   目黒区    中根    中根１丁目  0.222519  0.127229  0.704051      6\n",
              "183   目黒区    洗足    洗足１丁目  0.133511  0.068259  0.723849      3\n",
              "184   目黒区    駒場    駒場１丁目  0.124611  0.052702  0.788486      5"
            ],
            "text/html": [
              "\n",
              "  <div id=\"df-0f6f0a70-62ae-417e-9b93-19537aa13f10\">\n",
              "    <div class=\"colab-df-container\">\n",
              "      <div>\n",
              "<style scoped>\n",
              "    .dataframe tbody tr th:only-of-type {\n",
              "        vertical-align: middle;\n",
              "    }\n",
              "\n",
              "    .dataframe tbody tr th {\n",
              "        vertical-align: top;\n",
              "    }\n",
              "\n",
              "    .dataframe thead th {\n",
              "        text-align: right;\n",
              "    }\n",
              "</style>\n",
              "<table border=\"1\" class=\"dataframe\">\n",
              "  <thead>\n",
              "    <tr style=\"text-align: right;\">\n",
              "      <th></th>\n",
              "      <th>市区町村名</th>\n",
              "      <th>町名</th>\n",
              "      <th>町丁目</th>\n",
              "      <th>公園スコア</th>\n",
              "      <th>_公園スコア</th>\n",
              "      <th>公園(平均距離)</th>\n",
              "      <th>公園(数)</th>\n",
              "    </tr>\n",
              "  </thead>\n",
              "  <tbody>\n",
              "    <tr>\n",
              "      <th>165</th>\n",
              "      <td>目黒区</td>\n",
              "      <td>下目黒</td>\n",
              "      <td>下目黒４丁目</td>\n",
              "      <td>0.907877</td>\n",
              "      <td>0.368348</td>\n",
              "      <td>0.489721</td>\n",
              "      <td>12</td>\n",
              "    </tr>\n",
              "    <tr>\n",
              "      <th>166</th>\n",
              "      <td>目黒区</td>\n",
              "      <td>大橋</td>\n",
              "      <td>大橋１丁目</td>\n",
              "      <td>0.774366</td>\n",
              "      <td>0.334351</td>\n",
              "      <td>0.388953</td>\n",
              "      <td>5</td>\n",
              "    </tr>\n",
              "    <tr>\n",
              "      <th>167</th>\n",
              "      <td>目黒区</td>\n",
              "      <td>東が丘</td>\n",
              "      <td>東が丘２丁目</td>\n",
              "      <td>0.747664</td>\n",
              "      <td>0.323205</td>\n",
              "      <td>0.404764</td>\n",
              "      <td>5</td>\n",
              "    </tr>\n",
              "    <tr>\n",
              "      <th>168</th>\n",
              "      <td>目黒区</td>\n",
              "      <td>東山</td>\n",
              "      <td>東山３丁目</td>\n",
              "      <td>0.738763</td>\n",
              "      <td>0.320119</td>\n",
              "      <td>0.409142</td>\n",
              "      <td>5</td>\n",
              "    </tr>\n",
              "    <tr>\n",
              "      <th>169</th>\n",
              "      <td>目黒区</td>\n",
              "      <td>八雲</td>\n",
              "      <td>八雲５丁目</td>\n",
              "      <td>0.729862</td>\n",
              "      <td>0.319586</td>\n",
              "      <td>0.452467</td>\n",
              "      <td>7</td>\n",
              "    </tr>\n",
              "    <tr>\n",
              "      <th>170</th>\n",
              "      <td>目黒区</td>\n",
              "      <td>青葉台</td>\n",
              "      <td>青葉台３丁目</td>\n",
              "      <td>0.694259</td>\n",
              "      <td>0.301567</td>\n",
              "      <td>0.435458</td>\n",
              "      <td>5</td>\n",
              "    </tr>\n",
              "    <tr>\n",
              "      <th>171</th>\n",
              "      <td>目黒区</td>\n",
              "      <td>南</td>\n",
              "      <td>南２丁目</td>\n",
              "      <td>0.676457</td>\n",
              "      <td>0.298738</td>\n",
              "      <td>0.482042</td>\n",
              "      <td>7</td>\n",
              "    </tr>\n",
              "    <tr>\n",
              "      <th>172</th>\n",
              "      <td>目黒区</td>\n",
              "      <td>碑文谷</td>\n",
              "      <td>碑文谷２丁目</td>\n",
              "      <td>0.667557</td>\n",
              "      <td>0.293504</td>\n",
              "      <td>0.489467</td>\n",
              "      <td>7</td>\n",
              "    </tr>\n",
              "    <tr>\n",
              "      <th>173</th>\n",
              "      <td>港区</td>\n",
              "      <td>台場</td>\n",
              "      <td>台場２丁目</td>\n",
              "      <td>0.649755</td>\n",
              "      <td>0.289157</td>\n",
              "      <td>0.559488</td>\n",
              "      <td>10</td>\n",
              "    </tr>\n",
              "    <tr>\n",
              "      <th>174</th>\n",
              "      <td>目黒区</td>\n",
              "      <td>鷹番</td>\n",
              "      <td>鷹番１丁目</td>\n",
              "      <td>0.623053</td>\n",
              "      <td>0.276562</td>\n",
              "      <td>0.513499</td>\n",
              "      <td>7</td>\n",
              "    </tr>\n",
              "    <tr>\n",
              "      <th>175</th>\n",
              "      <td>港区</td>\n",
              "      <td>元赤坂</td>\n",
              "      <td>元赤坂２丁目</td>\n",
              "      <td>0.614152</td>\n",
              "      <td>0.270170</td>\n",
              "      <td>0.586422</td>\n",
              "      <td>10</td>\n",
              "    </tr>\n",
              "    <tr>\n",
              "      <th>176</th>\n",
              "      <td>目黒区</td>\n",
              "      <td>原町</td>\n",
              "      <td>原町２丁目</td>\n",
              "      <td>0.480641</td>\n",
              "      <td>0.236321</td>\n",
              "      <td>0.570583</td>\n",
              "      <td>7</td>\n",
              "    </tr>\n",
              "    <tr>\n",
              "      <th>177</th>\n",
              "      <td>目黒区</td>\n",
              "      <td>五本木</td>\n",
              "      <td>五本木１丁目</td>\n",
              "      <td>0.471740</td>\n",
              "      <td>0.233992</td>\n",
              "      <td>0.595172</td>\n",
              "      <td>8</td>\n",
              "    </tr>\n",
              "    <tr>\n",
              "      <th>178</th>\n",
              "      <td>目黒区</td>\n",
              "      <td>平町</td>\n",
              "      <td>平町２丁目</td>\n",
              "      <td>0.427236</td>\n",
              "      <td>0.221869</td>\n",
              "      <td>0.569799</td>\n",
              "      <td>6</td>\n",
              "    </tr>\n",
              "    <tr>\n",
              "      <th>179</th>\n",
              "      <td>目黒区</td>\n",
              "      <td>大岡山</td>\n",
              "      <td>大岡山１丁目</td>\n",
              "      <td>0.391633</td>\n",
              "      <td>0.204174</td>\n",
              "      <td>0.573616</td>\n",
              "      <td>5</td>\n",
              "    </tr>\n",
              "    <tr>\n",
              "      <th>180</th>\n",
              "      <td>練馬区</td>\n",
              "      <td>旭丘</td>\n",
              "      <td>旭丘２丁目</td>\n",
              "      <td>0.267023</td>\n",
              "      <td>0.154480</td>\n",
              "      <td>0.665394</td>\n",
              "      <td>6</td>\n",
              "    </tr>\n",
              "    <tr>\n",
              "      <th>181</th>\n",
              "      <td>目黒区</td>\n",
              "      <td>柿の木坂</td>\n",
              "      <td>柿の木坂１丁目</td>\n",
              "      <td>0.258122</td>\n",
              "      <td>0.150976</td>\n",
              "      <td>0.670365</td>\n",
              "      <td>6</td>\n",
              "    </tr>\n",
              "    <tr>\n",
              "      <th>182</th>\n",
              "      <td>目黒区</td>\n",
              "      <td>中根</td>\n",
              "      <td>中根１丁目</td>\n",
              "      <td>0.222519</td>\n",
              "      <td>0.127229</td>\n",
              "      <td>0.704051</td>\n",
              "      <td>6</td>\n",
              "    </tr>\n",
              "    <tr>\n",
              "      <th>183</th>\n",
              "      <td>目黒区</td>\n",
              "      <td>洗足</td>\n",
              "      <td>洗足１丁目</td>\n",
              "      <td>0.133511</td>\n",
              "      <td>0.068259</td>\n",
              "      <td>0.723849</td>\n",
              "      <td>3</td>\n",
              "    </tr>\n",
              "    <tr>\n",
              "      <th>184</th>\n",
              "      <td>目黒区</td>\n",
              "      <td>駒場</td>\n",
              "      <td>駒場１丁目</td>\n",
              "      <td>0.124611</td>\n",
              "      <td>0.052702</td>\n",
              "      <td>0.788486</td>\n",
              "      <td>5</td>\n",
              "    </tr>\n",
              "  </tbody>\n",
              "</table>\n",
              "</div>\n",
              "      <button class=\"colab-df-convert\" onclick=\"convertToInteractive('df-0f6f0a70-62ae-417e-9b93-19537aa13f10')\"\n",
              "              title=\"Convert this dataframe to an interactive table.\"\n",
              "              style=\"display:none;\">\n",
              "        \n",
              "  <svg xmlns=\"http://www.w3.org/2000/svg\" height=\"24px\"viewBox=\"0 0 24 24\"\n",
              "       width=\"24px\">\n",
              "    <path d=\"M0 0h24v24H0V0z\" fill=\"none\"/>\n",
              "    <path d=\"M18.56 5.44l.94 2.06.94-2.06 2.06-.94-2.06-.94-.94-2.06-.94 2.06-2.06.94zm-11 1L8.5 8.5l.94-2.06 2.06-.94-2.06-.94L8.5 2.5l-.94 2.06-2.06.94zm10 10l.94 2.06.94-2.06 2.06-.94-2.06-.94-.94-2.06-.94 2.06-2.06.94z\"/><path d=\"M17.41 7.96l-1.37-1.37c-.4-.4-.92-.59-1.43-.59-.52 0-1.04.2-1.43.59L10.3 9.45l-7.72 7.72c-.78.78-.78 2.05 0 2.83L4 21.41c.39.39.9.59 1.41.59.51 0 1.02-.2 1.41-.59l7.78-7.78 2.81-2.81c.8-.78.8-2.07 0-2.86zM5.41 20L4 18.59l7.72-7.72 1.47 1.35L5.41 20z\"/>\n",
              "  </svg>\n",
              "      </button>\n",
              "      \n",
              "  <style>\n",
              "    .colab-df-container {\n",
              "      display:flex;\n",
              "      flex-wrap:wrap;\n",
              "      gap: 12px;\n",
              "    }\n",
              "\n",
              "    .colab-df-convert {\n",
              "      background-color: #E8F0FE;\n",
              "      border: none;\n",
              "      border-radius: 50%;\n",
              "      cursor: pointer;\n",
              "      display: none;\n",
              "      fill: #1967D2;\n",
              "      height: 32px;\n",
              "      padding: 0 0 0 0;\n",
              "      width: 32px;\n",
              "    }\n",
              "\n",
              "    .colab-df-convert:hover {\n",
              "      background-color: #E2EBFA;\n",
              "      box-shadow: 0px 1px 2px rgba(60, 64, 67, 0.3), 0px 1px 3px 1px rgba(60, 64, 67, 0.15);\n",
              "      fill: #174EA6;\n",
              "    }\n",
              "\n",
              "    [theme=dark] .colab-df-convert {\n",
              "      background-color: #3B4455;\n",
              "      fill: #D2E3FC;\n",
              "    }\n",
              "\n",
              "    [theme=dark] .colab-df-convert:hover {\n",
              "      background-color: #434B5C;\n",
              "      box-shadow: 0px 1px 3px 1px rgba(0, 0, 0, 0.15);\n",
              "      filter: drop-shadow(0px 1px 2px rgba(0, 0, 0, 0.3));\n",
              "      fill: #FFFFFF;\n",
              "    }\n",
              "  </style>\n",
              "\n",
              "      <script>\n",
              "        const buttonEl =\n",
              "          document.querySelector('#df-0f6f0a70-62ae-417e-9b93-19537aa13f10 button.colab-df-convert');\n",
              "        buttonEl.style.display =\n",
              "          google.colab.kernel.accessAllowed ? 'block' : 'none';\n",
              "\n",
              "        async function convertToInteractive(key) {\n",
              "          const element = document.querySelector('#df-0f6f0a70-62ae-417e-9b93-19537aa13f10');\n",
              "          const dataTable =\n",
              "            await google.colab.kernel.invokeFunction('convertToInteractive',\n",
              "                                                     [key], {});\n",
              "          if (!dataTable) return;\n",
              "\n",
              "          const docLinkHtml = 'Like what you see? Visit the ' +\n",
              "            '<a target=\"_blank\" href=https://colab.research.google.com/notebooks/data_table.ipynb>data table notebook</a>'\n",
              "            + ' to learn more about interactive tables.';\n",
              "          element.innerHTML = '';\n",
              "          dataTable['output_type'] = 'display_data';\n",
              "          await google.colab.output.renderOutput(dataTable, element);\n",
              "          const docLink = document.createElement('div');\n",
              "          docLink.innerHTML = docLinkHtml;\n",
              "          element.appendChild(docLink);\n",
              "        }\n",
              "      </script>\n",
              "    </div>\n",
              "  </div>\n",
              "  "
            ]
          },
          "metadata": {},
          "execution_count": 35
        }
      ]
    },
    {
      "cell_type": "code",
      "source": [],
      "metadata": {
        "id": "Lk6O8Y3Dd5di"
      },
      "execution_count": null,
      "outputs": []
    }
  ]
}