{
  "nbformat": 4,
  "nbformat_minor": 0,
  "metadata": {
    "colab": {
      "provenance": [],
      "machine_shape": "hm",
      "authorship_tag": "ABX9TyMuyRTXMzrQu0MwDiinHUS6",
      "include_colab_link": true
    },
    "kernelspec": {
      "name": "python3",
      "display_name": "Python 3"
    },
    "language_info": {
      "name": "python"
    },
    "gpuClass": "standard"
  },
  "cells": [
    {
      "cell_type": "markdown",
      "metadata": {
        "id": "view-in-github",
        "colab_type": "text"
      },
      "source": [
        "<a href=\"https://colab.research.google.com/github/z-gard/analysis/blob/main/notebooks/OpenStreetMap.ipynb\" target=\"_parent\"><img src=\"https://colab.research.google.com/assets/colab-badge.svg\" alt=\"Open In Colab\"/></a>"
      ]
    },
    {
      "cell_type": "code",
      "source": [
        "from google.colab import drive\n",
        "drive.mount('/content/drive')"
      ],
      "metadata": {
        "colab": {
          "base_uri": "https://localhost:8080/"
        },
        "id": "OVTZ7z3tN3m3",
        "outputId": "a1ec63c0-549e-4c26-b5a7-ec96cb1ba5f7"
      },
      "execution_count": 96,
      "outputs": [
        {
          "output_type": "stream",
          "name": "stdout",
          "text": [
            "Mounted at /content/drive\n"
          ]
        }
      ]
    },
    {
      "cell_type": "code",
      "execution_count": 1,
      "metadata": {
        "id": "9SYHgCo3iawR"
      },
      "outputs": [],
      "source": [
        "!pip install -q pyrosm　osmread"
      ]
    },
    {
      "cell_type": "code",
      "source": [
        "import os\n",
        "os.environ[\"USE_PYGEOS\"] = \"0\"\n",
        "import geopandas\n",
        "import pandas as pd\n",
        "pd.set_option('display.max_rows', 100)\n",
        "pd.set_option('display.max_columns', 100)"
      ],
      "metadata": {
        "id": "lo6OT53IkYhN"
      },
      "execution_count": 50,
      "outputs": []
    },
    {
      "cell_type": "code",
      "source": [
        "from pyrosm import OSM, get_data\n",
        "from osmread import parse_file, Node"
      ],
      "metadata": {
        "id": "xn29U1pwjUfg"
      },
      "execution_count": 3,
      "outputs": []
    },
    {
      "cell_type": "code",
      "source": [
        "DATA_DIR = '/content/drive/MyDrive/z-gard/data/osm'"
      ],
      "metadata": {
        "id": "A4uqB8wsOAIz"
      },
      "execution_count": 98,
      "outputs": []
    },
    {
      "cell_type": "markdown",
      "source": [
        "### OSMファイルをダウンロード"
      ],
      "metadata": {
        "id": "Eu53TUsqJaFC"
      }
    },
    {
      "cell_type": "code",
      "source": [
        "osm_dir = './osm'\n",
        "os.makedirs(osm_dir, exist_ok=True)\n",
        "\n",
        "# 関東のOSMデータ\n",
        "kanto_pbf = get_data('kanto', directory=osm_dir)"
      ],
      "metadata": {
        "id": "-Kq4RT95jnsr"
      },
      "execution_count": 20,
      "outputs": []
    },
    {
      "cell_type": "markdown",
      "source": [
        "### OSMファイルをparseしてDataFrameに変換\n",
        "- https://wiki.openstreetmap.org/wiki/Map_features"
      ],
      "metadata": {
        "id": "LZme55b7JggV"
      }
    },
    {
      "cell_type": "code",
      "source": [
        "def get_category_data(pbf_file, cat):\n",
        "    tag_all = []\n",
        "    osm_file = parse_file(pbf_file)\n",
        "    for data in osm_file:\n",
        "        if isinstance(data, Node):\n",
        "            if len(data.tags.keys() & {cat}) > 0:\n",
        "                tag_data = {\n",
        "                    'id': data.id,\n",
        "                    'tags': data.tags,\n",
        "                    'lon': data.lon,\n",
        "                    'lat': data.lat\n",
        "                }\n",
        "                tag_all.append(tag_data)\n",
        "    _tmp = pd.json_normalize(tag_all)\n",
        "    _tmp['name'] = _tmp['tags.name']\n",
        "    _tmp['category'] = _tmp[f'tags.{cat}']\n",
        "    return _tmp"
      ],
      "metadata": {
        "id": "n29GSSLz-dD_"
      },
      "execution_count": 156,
      "outputs": []
    },
    {
      "cell_type": "code",
      "source": [
        "def extract_columns(df_data, cat):\n",
        "    _tmp = df_data[df_data['category'] == cat]\n",
        "    total_len = len(_tmp)\n",
        "    col_list = []\n",
        "    for col in _tmp.columns:\n",
        "        if col in ['id', 'lon', 'lat', 'category', 'name']:\n",
        "            continue\n",
        "        count = len(_tmp[_tmp[col].notna()])\n",
        "        if count > (total_len/10):\n",
        "            print(col, count)\n",
        "            col_list.append(col)\n",
        "    return _tmp[col_list]"
      ],
      "metadata": {
        "id": "z25mFkoqREow"
      },
      "execution_count": 164,
      "outputs": []
    },
    {
      "cell_type": "markdown",
      "source": [
        "### shop"
      ],
      "metadata": {
        "id": "AtgP6FiAPJLV"
      }
    },
    {
      "cell_type": "code",
      "source": [
        "%%time\n",
        "df_shop = get_category_data(kanto_pbf, 'shop')\n",
        "print(df_shop.shape)"
      ],
      "metadata": {
        "colab": {
          "base_uri": "https://localhost:8080/"
        },
        "id": "nVB7WVfyBa2Y",
        "outputId": "a5dd2493-dff8-4ef5-cc7c-ff9414aaa9ed"
      },
      "execution_count": 70,
      "outputs": [
        {
          "output_type": "stream",
          "name": "stdout",
          "text": [
            "(68499, 567)\n",
            "CPU times: user 5min 6s, sys: 1.61 s, total: 5min 8s\n",
            "Wall time: 5min 8s\n"
          ]
        }
      ]
    },
    {
      "cell_type": "code",
      "source": [
        "df_shop.loc[df_shop['name'].isna(), 'name'] = df_shop['tags.name:ja']\n",
        "df_shop.loc[df_shop['name'].isna(), 'name'] = df_shop['tags.name:en']"
      ],
      "metadata": {
        "id": "iN8-8D2vMD6v"
      },
      "execution_count": 112,
      "outputs": []
    },
    {
      "cell_type": "code",
      "source": [
        "file_name = os.path.join(DATA_DIR, 'osm_shop.csv')\n",
        "df_shop[['id', 'lon', 'lat', 'category', 'name']].to_csv(file_name, encoding='utf_8_sig', index=False)"
      ],
      "metadata": {
        "id": "Yab30_84D_Rq"
      },
      "execution_count": 113,
      "outputs": []
    },
    {
      "cell_type": "code",
      "source": [
        "df_shop['category'].value_counts().head(20)"
      ],
      "metadata": {
        "colab": {
          "base_uri": "https://localhost:8080/"
        },
        "id": "O_kjDvf2Pd5Y",
        "outputId": "81dd8a4f-af22-465c-8915-0783658f5fca"
      },
      "execution_count": 114,
      "outputs": [
        {
          "output_type": "execute_result",
          "data": {
            "text/plain": [
              "convenience      13772\n",
              "hairdresser       6490\n",
              "supermarket       4663\n",
              "clothes           3816\n",
              "car               2531\n",
              "dry_cleaning      2140\n",
              "massage           2113\n",
              "confectionery     1642\n",
              "bakery            1605\n",
              "variety_store     1332\n",
              "mobile_phone      1318\n",
              "yes               1229\n",
              "books             1212\n",
              "alcohol           1157\n",
              "bicycle           1097\n",
              "florist           1060\n",
              "laundry           1056\n",
              "electronics        929\n",
              "deli               882\n",
              "optician           805\n",
              "Name: category, dtype: int64"
            ]
          },
          "metadata": {},
          "execution_count": 114
        }
      ]
    },
    {
      "cell_type": "markdown",
      "source": [
        "### amenity"
      ],
      "metadata": {
        "id": "t3uoNNqjPN8F"
      }
    },
    {
      "cell_type": "code",
      "source": [
        "%%time\n",
        "df_amenity = get_category_data(kanto_pbf, 'amenity')\n",
        "print(df_amenity.shape)"
      ],
      "metadata": {
        "colab": {
          "base_uri": "https://localhost:8080/"
        },
        "id": "9AuZwX2QPMar",
        "outputId": "2c67907d-e8e9-4611-d33c-88978440e55b"
      },
      "execution_count": 107,
      "outputs": [
        {
          "output_type": "stream",
          "name": "stdout",
          "text": [
            "(179801, 941)\n",
            "CPU times: user 6min 12s, sys: 5.35 s, total: 6min 17s\n",
            "Wall time: 6min 17s\n"
          ]
        }
      ]
    },
    {
      "cell_type": "code",
      "source": [
        "df_amenity['category'].value_counts().head(20)"
      ],
      "metadata": {
        "colab": {
          "base_uri": "https://localhost:8080/"
        },
        "id": "34H5rmScM9H8",
        "outputId": "650be391-9862-46c7-d0af-a02353958e24"
      },
      "execution_count": 151,
      "outputs": [
        {
          "output_type": "execute_result",
          "data": {
            "text/plain": [
              "restaurant          27245\n",
              "vending_machine     10354\n",
              "bench                9874\n",
              "fast_food            8833\n",
              "place_of_worship     8327\n",
              "pub                  7332\n",
              "kindergarten         7181\n",
              "cafe                 6789\n",
              "social_facility      6385\n",
              "toilets              6380\n",
              "pharmacy             6290\n",
              "post_box             5795\n",
              "parking              4850\n",
              "dentist              4274\n",
              "telephone            4193\n",
              "doctors              4035\n",
              "post_office          3953\n",
              "drinking_water       3543\n",
              "school               3152\n",
              "police               3014\n",
              "Name: category, dtype: int64"
            ]
          },
          "metadata": {},
          "execution_count": 151
        }
      ]
    },
    {
      "cell_type": "code",
      "source": [
        "file_name = os.path.join(DATA_DIR, 'osm_amenity.csv')\n",
        "df_amenity[\n",
        "    ~df_amenity['category'].isin(['vending_machine', 'bench', 'toilets', 'post_box', 'parking', 'telephone', 'drinking_water'])\n",
        "][['id', 'lon', 'lat', 'category', 'name']].to_csv(file_name, encoding='utf_8_sig', index=False)"
      ],
      "metadata": {
        "id": "6LYi_jHmaQ1d"
      },
      "execution_count": 154,
      "outputs": []
    },
    {
      "cell_type": "code",
      "source": [
        "# extract_columns(df_amenity, 'public_bath')"
      ],
      "metadata": {
        "id": "q1WFzdhSXI13"
      },
      "execution_count": 155,
      "outputs": []
    },
    {
      "cell_type": "markdown",
      "source": [
        "### building"
      ],
      "metadata": {
        "id": "9PkLcUUjSSR7"
      }
    },
    {
      "cell_type": "code",
      "source": [
        "%%time\n",
        "df_building = get_category_data(kanto_pbf, 'building')\n",
        "print(df_building.shape)"
      ],
      "metadata": {
        "colab": {
          "base_uri": "https://localhost:8080/"
        },
        "id": "sAalUEEgSTBD",
        "outputId": "b4c966f2-a1aa-4dc8-f208-776587bc1864"
      },
      "execution_count": 158,
      "outputs": [
        {
          "output_type": "stream",
          "name": "stdout",
          "text": [
            "(1894, 181)\n",
            "CPU times: user 4min 47s, sys: 857 ms, total: 4min 48s\n",
            "Wall time: 4min 47s\n"
          ]
        }
      ]
    },
    {
      "cell_type": "code",
      "source": [
        "df_building['category'].value_counts().head(20)"
      ],
      "metadata": {
        "colab": {
          "base_uri": "https://localhost:8080/"
        },
        "id": "Ll6qNfynnReC",
        "outputId": "c078fff4-e649-45bb-e859-efba175706f7"
      },
      "execution_count": 160,
      "outputs": [
        {
          "output_type": "execute_result",
          "data": {
            "text/plain": [
              "yes                  730\n",
              "public               530\n",
              "apartments           171\n",
              "detached              55\n",
              "industrial            45\n",
              "retail                40\n",
              "office                35\n",
              "warehouse             33\n",
              "house                 32\n",
              "residential           29\n",
              "entrance              21\n",
              "shrine                18\n",
              "train_station         17\n",
              "school                15\n",
              "roof                  15\n",
              "civic                 11\n",
              "wayside_shrine         9\n",
              "commercial             8\n",
              "church                 8\n",
              "transformer_tower      7\n",
              "Name: category, dtype: int64"
            ]
          },
          "metadata": {},
          "execution_count": 160
        }
      ]
    },
    {
      "cell_type": "code",
      "source": [
        "file_name = os.path.join(DATA_DIR, 'osm_building.csv')\n",
        "df_building[['id', 'lon', 'lat', 'category', 'name']].to_csv(file_name, encoding='utf_8_sig', index=False)"
      ],
      "metadata": {
        "id": "e5_prEManZCs"
      },
      "execution_count": 171,
      "outputs": []
    },
    {
      "cell_type": "markdown",
      "source": [
        "### landuse"
      ],
      "metadata": {
        "id": "_U8UdfGTS7YP"
      }
    },
    {
      "cell_type": "code",
      "source": [
        "%%time\n",
        "df_landuse = get_category_data(kanto_pbf, 'landuse')\n",
        "print(df_landuse.shape)"
      ],
      "metadata": {
        "colab": {
          "base_uri": "https://localhost:8080/"
        },
        "id": "L_t0oWsuS8RQ",
        "outputId": "194cd3d6-1c77-40dd-f033-9e507e307301"
      },
      "execution_count": 159,
      "outputs": [
        {
          "output_type": "stream",
          "name": "stdout",
          "text": [
            "(194, 86)\n",
            "CPU times: user 4min 48s, sys: 808 ms, total: 4min 49s\n",
            "Wall time: 4min 48s\n"
          ]
        }
      ]
    },
    {
      "cell_type": "code",
      "source": [
        "df_landuse['category'].value_counts().head(20)"
      ],
      "metadata": {
        "colab": {
          "base_uri": "https://localhost:8080/"
        },
        "id": "6qt-M8UqoZ5c",
        "outputId": "00709b88-a254-4b08-cfc9-9fbcae805167"
      },
      "execution_count": 172,
      "outputs": [
        {
          "output_type": "execute_result",
          "data": {
            "text/plain": [
              "residential          73\n",
              "military             22\n",
              "cemetery             22\n",
              "farmland             12\n",
              "industrial           11\n",
              "recreation_ground    10\n",
              "construction          5\n",
              "landfill              5\n",
              "grass                 4\n",
              "commercial            4\n",
              "retail                4\n",
              "forest                3\n",
              "orchard               3\n",
              "railway               2\n",
              "basin                 2\n",
              "flowerbed             2\n",
              "reservoir             1\n",
              "institutional         1\n",
              "village_green         1\n",
              "allotments            1\n",
              "Name: category, dtype: int64"
            ]
          },
          "metadata": {},
          "execution_count": 172
        }
      ]
    },
    {
      "cell_type": "code",
      "source": [],
      "metadata": {
        "id": "GKas_fa9omIj"
      },
      "execution_count": null,
      "outputs": []
    }
  ]
}