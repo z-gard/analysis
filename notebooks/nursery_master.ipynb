{
  "nbformat": 4,
  "nbformat_minor": 0,
  "metadata": {
    "colab": {
      "provenance": [],
      "authorship_tag": "ABX9TyMFA3pk7z4UIEK4+uEf0WW5",
      "include_colab_link": true
    },
    "kernelspec": {
      "name": "python3",
      "display_name": "Python 3"
    },
    "language_info": {
      "name": "python"
    }
  },
  "cells": [
    {
      "cell_type": "markdown",
      "metadata": {
        "id": "view-in-github",
        "colab_type": "text"
      },
      "source": [
        "<a href=\"https://colab.research.google.com/github/z-gard/analysis/blob/main/notebooks/nursery_master.ipynb\" target=\"_parent\"><img src=\"https://colab.research.google.com/assets/colab-badge.svg\" alt=\"Open In Colab\"/></a>"
      ]
    },
    {
      "cell_type": "markdown",
      "source": [
        "# 保育所\n",
        "- [（認可）保育所](https://catalog.data.metro.tokyo.lg.jp/dataset/t000010d0000000099/resource/f3a1b2c5-a037-4627-9166-2a4863bf3bd9)\n",
        "- [児童館](https://catalog.data.metro.tokyo.lg.jp/dataset/t000010d0000000099/resource/ef6db4bc-966b-48cd-88ac-5922d413ad0b)"
      ],
      "metadata": {
        "id": "bWg52QgHvf21"
      }
    },
    {
      "cell_type": "code",
      "source": [
        "!pip install -q japanize-matplotlib"
      ],
      "metadata": {
        "id": "qy5bYwoLzJee"
      },
      "execution_count": 1,
      "outputs": []
    },
    {
      "cell_type": "code",
      "execution_count": 2,
      "metadata": {
        "colab": {
          "base_uri": "https://localhost:8080/"
        },
        "id": "W_Ys4ZQDvYjK",
        "outputId": "3259db9c-caa2-441c-9c07-70a042638fdd"
      },
      "outputs": [
        {
          "output_type": "stream",
          "name": "stdout",
          "text": [
            "Drive already mounted at /content/drive; to attempt to forcibly remount, call drive.mount(\"/content/drive\", force_remount=True).\n"
          ]
        }
      ],
      "source": [
        "from google.colab import drive\n",
        "drive.mount('/content/drive')"
      ]
    },
    {
      "cell_type": "code",
      "source": [
        "import os\n",
        "import requests\n",
        "import json\n",
        "import pandas as pd\n",
        "from urllib.parse import urlparse, quote\n",
        "import io\n",
        "import math\n",
        "import numpy as np\n",
        "import matplotlib.pyplot as plt\n",
        "import japanize_matplotlib\n",
        "import seaborn as sns\n",
        "\n",
        "pd.set_option('display.max_columns', 50)\n",
        "pd.set_option('display.max_rows', 100)"
      ],
      "metadata": {
        "id": "QBjzumCZvuOS"
      },
      "execution_count": 3,
      "outputs": []
    },
    {
      "cell_type": "code",
      "source": [
        "DIR_NAME = '/content/drive/MyDrive/z-gard/data'"
      ],
      "metadata": {
        "id": "O93oCOcLv9Hr"
      },
      "execution_count": 4,
      "outputs": []
    },
    {
      "cell_type": "code",
      "source": [
        "output_master_file = 'nursery_master.csv'\n",
        "output_score_file = 'nursery_score.csv'"
      ],
      "metadata": {
        "id": "WNNN4Poqc7Nz"
      },
      "execution_count": 5,
      "outputs": []
    },
    {
      "cell_type": "code",
      "source": [
        "def get_data_csv_url(url, encoding='utf-8', excel=False):\n",
        "    res = requests.get(url)\n",
        "    if res.status_code == 200:\n",
        "        if not excel:\n",
        "            return pd.read_csv(io.BytesIO(res.content), encoding=encoding)\n",
        "        else:\n",
        "            return pd.read_excel(io.BytesIO(res.content))\n",
        "    else:\n",
        "        raise Exception(f'status_code: {res.status_code} ({url})')"
      ],
      "metadata": {
        "id": "QCgFNfNawAtL"
      },
      "execution_count": 6,
      "outputs": []
    },
    {
      "cell_type": "markdown",
      "source": [
        "### 保育所"
      ],
      "metadata": {
        "id": "-VjRZle1YqAk"
      }
    },
    {
      "cell_type": "code",
      "source": [
        "nursery_url = 'https://www.opendata.metro.tokyo.lg.jp/fukushihoken/R3/202110-2-1-hoikusyo.csv'\n",
        "df_nursery = get_data_csv_url(nursery_url, encoding='shift-jis')\n",
        "print(df_nursery.shape)"
      ],
      "metadata": {
        "colab": {
          "base_uri": "https://localhost:8080/"
        },
        "id": "NrHr4nBzvzMT",
        "outputId": "7cbc376c-3bd8-4c8c-b0f3-c63a40d58ccb"
      },
      "execution_count": 7,
      "outputs": [
        {
          "output_type": "stream",
          "name": "stdout",
          "text": [
            "(3431, 9)\n"
          ]
        }
      ]
    },
    {
      "cell_type": "code",
      "source": [
        "df_nursery['市区町村名'] = df_nursery['所在地'].str.extract('(^.*?[区市])', expand=False)\n",
        "df_nursery['施設分類'] = '認可保育所'\n",
        "\n",
        "df_nursery_master = df_nursery[\n",
        "    (df_nursery['市区町村名'].notna())&\n",
        "    (df_nursery['市区町村名'].str.endswith('区'))&\n",
        "    (df_nursery['市区町村名'].str.len() < 5)\n",
        "][['市区町村名', '施設分類', '設置', '施設名', '所在地', '緯度', '経度', '定員']].rename(columns={'施設名':'名称'}).reset_index(drop=True)\n",
        "print(df_nursery_master.shape)\n",
        "\n",
        "assert df_nursery_master['市区町村名'].nunique() == 23"
      ],
      "metadata": {
        "colab": {
          "base_uri": "https://localhost:8080/"
        },
        "id": "bWNCBTG6xXzZ",
        "outputId": "2032f912-cecc-4547-ec5f-aff31b8a88bd"
      },
      "execution_count": 8,
      "outputs": [
        {
          "output_type": "stream",
          "name": "stdout",
          "text": [
            "(2526, 8)\n"
          ]
        }
      ]
    },
    {
      "cell_type": "markdown",
      "source": [
        "### 児童館"
      ],
      "metadata": {
        "id": "ZnBnbKZTYsjD"
      }
    },
    {
      "cell_type": "code",
      "source": [
        "childrenhouse_url = 'https://www.opendata.metro.tokyo.lg.jp/fukushihoken/R3/202110-2-2-06-zidoukan.csv'\n",
        "df_childrenhouse = get_data_csv_url(childrenhouse_url, encoding='shift-jis')\n",
        "print(df_childrenhouse.shape)"
      ],
      "metadata": {
        "id": "gV5w2EJ8Yoyn",
        "outputId": "f52ac75e-aedc-48d5-e46e-862e71aa38ad",
        "colab": {
          "base_uri": "https://localhost:8080/"
        }
      },
      "execution_count": 9,
      "outputs": [
        {
          "output_type": "stream",
          "name": "stdout",
          "text": [
            "(587, 9)\n"
          ]
        }
      ]
    },
    {
      "cell_type": "code",
      "source": [
        "df_childrenhouse['市区町村名'] = df_childrenhouse['所在地'].str.extract('(^.*?[区市])', expand=False)\n",
        "df_childrenhouse['施設分類'] = '児童館'\n",
        "\n",
        "df_childrenhouse_master = df_childrenhouse[\n",
        "    (df_childrenhouse['市区町村名'].notna())&\n",
        "    (df_childrenhouse['市区町村名'].str.endswith('区'))&\n",
        "    (df_childrenhouse['市区町村名'].str.len() < 5)\n",
        "][['市区町村名', '施設分類', '設置', '施設名', '所在地', '緯度', '経度']].rename(columns={'施設名':'名称'}).reset_index(drop=True)\n",
        "print(df_childrenhouse_master.shape)\n",
        "\n",
        "assert df_childrenhouse_master['市区町村名'].nunique() == 23"
      ],
      "metadata": {
        "id": "oSuRSntUZW7A",
        "outputId": "e6db0f4d-8ce8-4d12-9a3a-e90a2524e52f",
        "colab": {
          "base_uri": "https://localhost:8080/"
        }
      },
      "execution_count": 10,
      "outputs": [
        {
          "output_type": "stream",
          "name": "stdout",
          "text": [
            "(439, 7)\n"
          ]
        }
      ]
    },
    {
      "cell_type": "markdown",
      "source": [
        "### 保育所マスタ"
      ],
      "metadata": {
        "id": "nQe-fCj8Yw8h"
      }
    },
    {
      "cell_type": "code",
      "source": [
        "df_nursery_master = pd.concat([df_nursery_master, df_childrenhouse_master]).reset_index(drop=True)\n",
        "print(df_nursery_master.shape)"
      ],
      "metadata": {
        "id": "bytUJN_jaHqM",
        "outputId": "442fe920-14d7-41b0-ad73-49e36be37c5b",
        "colab": {
          "base_uri": "https://localhost:8080/"
        }
      },
      "execution_count": 11,
      "outputs": [
        {
          "output_type": "stream",
          "name": "stdout",
          "text": [
            "(2965, 8)\n"
          ]
        }
      ]
    },
    {
      "cell_type": "code",
      "source": [
        "df_nursery_master.to_csv(os.path.join(DIR_NAME, output_master_file), index=False)"
      ],
      "metadata": {
        "id": "aM8avA2Pztsf"
      },
      "execution_count": 12,
      "outputs": []
    },
    {
      "cell_type": "code",
      "source": [
        "df_nursery_master"
      ],
      "metadata": {
        "id": "TmEsjiRlbP84",
        "outputId": "ebbf113a-4a2e-4246-81b0-0d565f493058",
        "colab": {
          "base_uri": "https://localhost:8080/",
          "height": 424
        }
      },
      "execution_count": 13,
      "outputs": [
        {
          "output_type": "execute_result",
          "data": {
            "text/plain": [
              "     市区町村名   施設分類    設置          名称                     所在地        緯度  \\\n",
              "0     千代田区  認可保育所  営利法人  ほっぺるランド外神田            千代田区外神田４−８−６  35.70233   \n",
              "1     千代田区  認可保育所  社福法人  外神田かなりや保育園           千代田区外神田３−６−１３  35.70255   \n",
              "2     千代田区  認可保育所  区市町村     いずみこども園              千代田区神田和泉町１  35.69919   \n",
              "3     千代田区  認可保育所  営利法人    あい保育園東神田  千代田区東神田２−６−５　東神田ビル２・３階  35.69564   \n",
              "4     千代田区  認可保育所  社福法人   岩本町ちとせ保育園          千代田区岩本町２−１０−１２  35.69344   \n",
              "...    ...    ...   ...         ...                     ...       ...   \n",
              "2960  江戸川区    児童館  区市町村     共育プラザ平井            江戸川区平井７−２１−６  35.71465   \n",
              "2961  江戸川区    児童館  区市町村     共育プラザ小岩          江戸川区北小岩２−１４−１７  35.73995   \n",
              "2962  江戸川区    児童館  区市町村    共育プラザ南小岩            江戸川区南小岩４−５−８  35.72095   \n",
              "2963  江戸川区    児童館  区市町村    共育プラザ南篠崎          江戸川区南篠崎町３−１２−８  35.69662   \n",
              "2964  江戸川区    児童館  区市町村     共育プラザ葛西             江戸川区宇喜田町１７５  35.67343   \n",
              "\n",
              "             経度    定員  \n",
              "0     139.77260  87.0  \n",
              "1     139.76976  50.0  \n",
              "2     139.77597  36.0  \n",
              "3     139.78027  63.0  \n",
              "4     139.77722  69.0  \n",
              "...         ...   ...  \n",
              "2960  139.84042   NaN  \n",
              "2961  139.88454   NaN  \n",
              "2962  139.88564   NaN  \n",
              "2963  139.89914   NaN  \n",
              "2964  139.86150   NaN  \n",
              "\n",
              "[2965 rows x 8 columns]"
            ],
            "text/html": [
              "\n",
              "  <div id=\"df-5c15db54-ffb4-40e7-a428-38f96533df04\">\n",
              "    <div class=\"colab-df-container\">\n",
              "      <div>\n",
              "<style scoped>\n",
              "    .dataframe tbody tr th:only-of-type {\n",
              "        vertical-align: middle;\n",
              "    }\n",
              "\n",
              "    .dataframe tbody tr th {\n",
              "        vertical-align: top;\n",
              "    }\n",
              "\n",
              "    .dataframe thead th {\n",
              "        text-align: right;\n",
              "    }\n",
              "</style>\n",
              "<table border=\"1\" class=\"dataframe\">\n",
              "  <thead>\n",
              "    <tr style=\"text-align: right;\">\n",
              "      <th></th>\n",
              "      <th>市区町村名</th>\n",
              "      <th>施設分類</th>\n",
              "      <th>設置</th>\n",
              "      <th>名称</th>\n",
              "      <th>所在地</th>\n",
              "      <th>緯度</th>\n",
              "      <th>経度</th>\n",
              "      <th>定員</th>\n",
              "    </tr>\n",
              "  </thead>\n",
              "  <tbody>\n",
              "    <tr>\n",
              "      <th>0</th>\n",
              "      <td>千代田区</td>\n",
              "      <td>認可保育所</td>\n",
              "      <td>営利法人</td>\n",
              "      <td>ほっぺるランド外神田</td>\n",
              "      <td>千代田区外神田４−８−６</td>\n",
              "      <td>35.70233</td>\n",
              "      <td>139.77260</td>\n",
              "      <td>87.0</td>\n",
              "    </tr>\n",
              "    <tr>\n",
              "      <th>1</th>\n",
              "      <td>千代田区</td>\n",
              "      <td>認可保育所</td>\n",
              "      <td>社福法人</td>\n",
              "      <td>外神田かなりや保育園</td>\n",
              "      <td>千代田区外神田３−６−１３</td>\n",
              "      <td>35.70255</td>\n",
              "      <td>139.76976</td>\n",
              "      <td>50.0</td>\n",
              "    </tr>\n",
              "    <tr>\n",
              "      <th>2</th>\n",
              "      <td>千代田区</td>\n",
              "      <td>認可保育所</td>\n",
              "      <td>区市町村</td>\n",
              "      <td>いずみこども園</td>\n",
              "      <td>千代田区神田和泉町１</td>\n",
              "      <td>35.69919</td>\n",
              "      <td>139.77597</td>\n",
              "      <td>36.0</td>\n",
              "    </tr>\n",
              "    <tr>\n",
              "      <th>3</th>\n",
              "      <td>千代田区</td>\n",
              "      <td>認可保育所</td>\n",
              "      <td>営利法人</td>\n",
              "      <td>あい保育園東神田</td>\n",
              "      <td>千代田区東神田２−６−５　東神田ビル２・３階</td>\n",
              "      <td>35.69564</td>\n",
              "      <td>139.78027</td>\n",
              "      <td>63.0</td>\n",
              "    </tr>\n",
              "    <tr>\n",
              "      <th>4</th>\n",
              "      <td>千代田区</td>\n",
              "      <td>認可保育所</td>\n",
              "      <td>社福法人</td>\n",
              "      <td>岩本町ちとせ保育園</td>\n",
              "      <td>千代田区岩本町２−１０−１２</td>\n",
              "      <td>35.69344</td>\n",
              "      <td>139.77722</td>\n",
              "      <td>69.0</td>\n",
              "    </tr>\n",
              "    <tr>\n",
              "      <th>...</th>\n",
              "      <td>...</td>\n",
              "      <td>...</td>\n",
              "      <td>...</td>\n",
              "      <td>...</td>\n",
              "      <td>...</td>\n",
              "      <td>...</td>\n",
              "      <td>...</td>\n",
              "      <td>...</td>\n",
              "    </tr>\n",
              "    <tr>\n",
              "      <th>2960</th>\n",
              "      <td>江戸川区</td>\n",
              "      <td>児童館</td>\n",
              "      <td>区市町村</td>\n",
              "      <td>共育プラザ平井</td>\n",
              "      <td>江戸川区平井７−２１−６</td>\n",
              "      <td>35.71465</td>\n",
              "      <td>139.84042</td>\n",
              "      <td>NaN</td>\n",
              "    </tr>\n",
              "    <tr>\n",
              "      <th>2961</th>\n",
              "      <td>江戸川区</td>\n",
              "      <td>児童館</td>\n",
              "      <td>区市町村</td>\n",
              "      <td>共育プラザ小岩</td>\n",
              "      <td>江戸川区北小岩２−１４−１７</td>\n",
              "      <td>35.73995</td>\n",
              "      <td>139.88454</td>\n",
              "      <td>NaN</td>\n",
              "    </tr>\n",
              "    <tr>\n",
              "      <th>2962</th>\n",
              "      <td>江戸川区</td>\n",
              "      <td>児童館</td>\n",
              "      <td>区市町村</td>\n",
              "      <td>共育プラザ南小岩</td>\n",
              "      <td>江戸川区南小岩４−５−８</td>\n",
              "      <td>35.72095</td>\n",
              "      <td>139.88564</td>\n",
              "      <td>NaN</td>\n",
              "    </tr>\n",
              "    <tr>\n",
              "      <th>2963</th>\n",
              "      <td>江戸川区</td>\n",
              "      <td>児童館</td>\n",
              "      <td>区市町村</td>\n",
              "      <td>共育プラザ南篠崎</td>\n",
              "      <td>江戸川区南篠崎町３−１２−８</td>\n",
              "      <td>35.69662</td>\n",
              "      <td>139.89914</td>\n",
              "      <td>NaN</td>\n",
              "    </tr>\n",
              "    <tr>\n",
              "      <th>2964</th>\n",
              "      <td>江戸川区</td>\n",
              "      <td>児童館</td>\n",
              "      <td>区市町村</td>\n",
              "      <td>共育プラザ葛西</td>\n",
              "      <td>江戸川区宇喜田町１７５</td>\n",
              "      <td>35.67343</td>\n",
              "      <td>139.86150</td>\n",
              "      <td>NaN</td>\n",
              "    </tr>\n",
              "  </tbody>\n",
              "</table>\n",
              "<p>2965 rows × 8 columns</p>\n",
              "</div>\n",
              "      <button class=\"colab-df-convert\" onclick=\"convertToInteractive('df-5c15db54-ffb4-40e7-a428-38f96533df04')\"\n",
              "              title=\"Convert this dataframe to an interactive table.\"\n",
              "              style=\"display:none;\">\n",
              "        \n",
              "  <svg xmlns=\"http://www.w3.org/2000/svg\" height=\"24px\"viewBox=\"0 0 24 24\"\n",
              "       width=\"24px\">\n",
              "    <path d=\"M0 0h24v24H0V0z\" fill=\"none\"/>\n",
              "    <path d=\"M18.56 5.44l.94 2.06.94-2.06 2.06-.94-2.06-.94-.94-2.06-.94 2.06-2.06.94zm-11 1L8.5 8.5l.94-2.06 2.06-.94-2.06-.94L8.5 2.5l-.94 2.06-2.06.94zm10 10l.94 2.06.94-2.06 2.06-.94-2.06-.94-.94-2.06-.94 2.06-2.06.94z\"/><path d=\"M17.41 7.96l-1.37-1.37c-.4-.4-.92-.59-1.43-.59-.52 0-1.04.2-1.43.59L10.3 9.45l-7.72 7.72c-.78.78-.78 2.05 0 2.83L4 21.41c.39.39.9.59 1.41.59.51 0 1.02-.2 1.41-.59l7.78-7.78 2.81-2.81c.8-.78.8-2.07 0-2.86zM5.41 20L4 18.59l7.72-7.72 1.47 1.35L5.41 20z\"/>\n",
              "  </svg>\n",
              "      </button>\n",
              "      \n",
              "  <style>\n",
              "    .colab-df-container {\n",
              "      display:flex;\n",
              "      flex-wrap:wrap;\n",
              "      gap: 12px;\n",
              "    }\n",
              "\n",
              "    .colab-df-convert {\n",
              "      background-color: #E8F0FE;\n",
              "      border: none;\n",
              "      border-radius: 50%;\n",
              "      cursor: pointer;\n",
              "      display: none;\n",
              "      fill: #1967D2;\n",
              "      height: 32px;\n",
              "      padding: 0 0 0 0;\n",
              "      width: 32px;\n",
              "    }\n",
              "\n",
              "    .colab-df-convert:hover {\n",
              "      background-color: #E2EBFA;\n",
              "      box-shadow: 0px 1px 2px rgba(60, 64, 67, 0.3), 0px 1px 3px 1px rgba(60, 64, 67, 0.15);\n",
              "      fill: #174EA6;\n",
              "    }\n",
              "\n",
              "    [theme=dark] .colab-df-convert {\n",
              "      background-color: #3B4455;\n",
              "      fill: #D2E3FC;\n",
              "    }\n",
              "\n",
              "    [theme=dark] .colab-df-convert:hover {\n",
              "      background-color: #434B5C;\n",
              "      box-shadow: 0px 1px 3px 1px rgba(0, 0, 0, 0.15);\n",
              "      filter: drop-shadow(0px 1px 2px rgba(0, 0, 0, 0.3));\n",
              "      fill: #FFFFFF;\n",
              "    }\n",
              "  </style>\n",
              "\n",
              "      <script>\n",
              "        const buttonEl =\n",
              "          document.querySelector('#df-5c15db54-ffb4-40e7-a428-38f96533df04 button.colab-df-convert');\n",
              "        buttonEl.style.display =\n",
              "          google.colab.kernel.accessAllowed ? 'block' : 'none';\n",
              "\n",
              "        async function convertToInteractive(key) {\n",
              "          const element = document.querySelector('#df-5c15db54-ffb4-40e7-a428-38f96533df04');\n",
              "          const dataTable =\n",
              "            await google.colab.kernel.invokeFunction('convertToInteractive',\n",
              "                                                     [key], {});\n",
              "          if (!dataTable) return;\n",
              "\n",
              "          const docLinkHtml = 'Like what you see? Visit the ' +\n",
              "            '<a target=\"_blank\" href=https://colab.research.google.com/notebooks/data_table.ipynb>data table notebook</a>'\n",
              "            + ' to learn more about interactive tables.';\n",
              "          element.innerHTML = '';\n",
              "          dataTable['output_type'] = 'display_data';\n",
              "          await google.colab.output.renderOutput(dataTable, element);\n",
              "          const docLink = document.createElement('div');\n",
              "          docLink.innerHTML = docLinkHtml;\n",
              "          element.appendChild(docLink);\n",
              "        }\n",
              "      </script>\n",
              "    </div>\n",
              "  </div>\n",
              "  "
            ]
          },
          "metadata": {},
          "execution_count": 13
        }
      ]
    },
    {
      "cell_type": "code",
      "source": [
        "plt.figure(figsize=(15, 5))\n",
        "sns.histplot(df_nursery_master, x='市区町村名', hue='施設分類', multiple='stack')\n",
        "plt.show()"
      ],
      "metadata": {
        "colab": {
          "base_uri": "https://localhost:8080/",
          "height": 333
        },
        "id": "rCgDh5Vtw10S",
        "outputId": "2f9a37d5-f29f-43fd-c454-b08f10338cf3"
      },
      "execution_count": 14,
      "outputs": [
        {
          "output_type": "display_data",
          "data": {
            "text/plain": [
              "<Figure size 1080x360 with 1 Axes>"
            ],
            "image/png": "[encoded data removed]"
          },
          "metadata": {
            "needs_background": "light"
          }
        }
      ]
    },
    {
      "cell_type": "markdown",
      "source": [
        "### 人口マスタ"
      ],
      "metadata": {
        "id": "AlqD8mNcz8wX"
      }
    },
    {
      "cell_type": "code",
      "source": [
        "df_pop_master = pd.read_csv(os.path.join(DIR_NAME, 'population_master.csv'))[['地域ID', '市区町村名', '町名', '町丁目', '緯度', '経度']]\n",
        "print(df_pop_master.shape)"
      ],
      "metadata": {
        "colab": {
          "base_uri": "https://localhost:8080/"
        },
        "id": "u6_REO5iw4U-",
        "outputId": "21f6309c-730b-4ea4-edfc-8d140b3a3aa3"
      },
      "execution_count": 15,
      "outputs": [
        {
          "output_type": "stream",
          "name": "stdout",
          "text": [
            "(3145, 6)\n"
          ]
        }
      ]
    },
    {
      "cell_type": "code",
      "source": [
        "# 距離計算\n",
        "def get_distance(lat1, lon1, lat2, lon2):\n",
        "    _lat1 = lat1 * math.pi / 180\n",
        "    _lon1 = lon1 * math.pi / 180\n",
        "    _lat2 = lat2 * math.pi / 180\n",
        "    _lon2 = lon2 * math.pi / 180\n",
        "    _tmp = math.cos(_lat1) * math.cos(_lat2) * math.cos(_lon2 - _lon1) + math.sin(_lat1) * math.sin(_lat2)\n",
        "    _tmp = 1 if _tmp > 1 else -1 if _tmp < -1 else _tmp\n",
        "    return 6371 * math.acos(_tmp)\n",
        "\n",
        "# 最寄り施設までの距離\n",
        "def get_value_of_nearest_facility(df_master, df_facility, category, method='min', param=3):\n",
        "    _df_cat = df_facility[df_facility['施設分類'] == category].copy()\n",
        "    cat_values = []\n",
        "    for i, row in df_master.iterrows():\n",
        "        dist = _df_cat.apply(lambda x: get_distance(x['緯度'], x['経度'], row['緯度'], row['経度']), axis=1)\n",
        "        val = None\n",
        "        if method == 'min':\n",
        "            # 最小の距離\n",
        "            val = dist.min()\n",
        "        elif method == 'count':\n",
        "            # {param}km以内の施設の数をカウント\n",
        "            val = len(dist[dist <= param])\n",
        "        elif method == 'mean':\n",
        "            # 近い{param}件の距離の平均\n",
        "            val = dist.sort_values()[:param].mean()\n",
        "        cat_values.append(val)\n",
        "    return cat_values"
      ],
      "metadata": {
        "id": "rwRbaHZYz-og"
      },
      "execution_count": 16,
      "outputs": []
    },
    {
      "cell_type": "code",
      "source": [
        "def normalize_score(sr_data, high=True, outlier=True):\n",
        "    score = (sr_data - sr_data.mean())/sr_data.std()\n",
        "    score = score if high else -score\n",
        "\n",
        "    if outlier:\n",
        "        high_s = score.quantile(0.99)\n",
        "        low_s = score.quantile(0.01)\n",
        "        score[score > high_s] = high_s\n",
        "        score[score < low_s] = low_s\n",
        "    else:\n",
        "        high_s = score.max()\n",
        "        low_s = score.min()\n",
        "        \n",
        "    return (score - low_s)/(high_s - low_s)\n",
        "\n",
        "\n",
        "def rank_score(sr_data):\n",
        "    size = sr_data.notna().sum()\n",
        "    rank = sr_data.rank()\n",
        "    result = rank.copy()\n",
        "    # 0~1: 15%, 1~2: 20%, 2~3: 30%, 3~4: 20%, 4~5: 15%\n",
        "    level_list = [0.15, (0.15+0.2), (0.15+0.2+0.3), (0.15+0.2+0.3+0.2), 1]\n",
        "    \n",
        "    pre_level = 0\n",
        "    for index, level in enumerate([lv*size for lv in level_list]):\n",
        "        result[(rank > pre_level)&(rank <= level)] = (rank - pre_level)/(level - pre_level) + index\n",
        "        pre_level = level\n",
        "\n",
        "    return result"
      ],
      "metadata": {
        "id": "xnhp6O2H-RuY"
      },
      "execution_count": 17,
      "outputs": []
    },
    {
      "cell_type": "markdown",
      "source": [
        "## 保育園スコア"
      ],
      "metadata": {
        "id": "Clz8aXvibArj"
      }
    },
    {
      "cell_type": "code",
      "source": [
        "%%time\n",
        "# 一番近い施設の距離\n",
        "df_pop_master['保育園(最近傍距離)'] = get_value_of_nearest_facility(df_pop_master, df_nursery_master, '認可保育所', 'min')\n",
        "# 1km以内の施設の数\n",
        "df_pop_master['保育園(数)'] = get_value_of_nearest_facility(df_pop_master, df_nursery_master, '認可保育所', 'count', 1)\n",
        "\n",
        "# 一番近い施設の距離\n",
        "df_pop_master['児童館(最近傍距離)'] = get_value_of_nearest_facility(df_pop_master, df_nursery_master, '児童館', 'min')\n",
        "# 2km以内の施設の数\n",
        "df_pop_master['児童館(数)'] = get_value_of_nearest_facility(df_pop_master, df_nursery_master, '児童館', 'count', 2)"
      ],
      "metadata": {
        "colab": {
          "base_uri": "https://localhost:8080/"
        },
        "id": "kvmdznFL0MdV",
        "outputId": "91e5759e-ce5e-4798-90fe-e7b8a072983a"
      },
      "execution_count": 18,
      "outputs": [
        {
          "output_type": "stream",
          "name": "stdout",
          "text": [
            "CPU times: user 7min 27s, sys: 1.46 s, total: 7min 29s\n",
            "Wall time: 7min 35s\n"
          ]
        }
      ]
    },
    {
      "cell_type": "code",
      "source": [
        "print(df_pop_master.shape)\n",
        "df_pop_master.head()"
      ],
      "metadata": {
        "colab": {
          "base_uri": "https://localhost:8080/",
          "height": 224
        },
        "id": "YyIAuJht1b2-",
        "outputId": "27cc74e2-fcb9-4b1b-c165-ae7da2e96436"
      },
      "execution_count": 19,
      "outputs": [
        {
          "output_type": "stream",
          "name": "stdout",
          "text": [
            "(3145, 10)\n"
          ]
        },
        {
          "output_type": "execute_result",
          "data": {
            "text/plain": [
              "     地域ID 市区町村名   町名     町丁目         緯度          経度  保育園(最近傍距離)  保育園(数)  \\\n",
              "0  101003  千代田区  丸の内  丸の内１丁目  35.681610  139.767511    0.747610       3   \n",
              "1  101004  千代田区  丸の内  丸の内２丁目  35.680071  139.763944    0.841154       1   \n",
              "2  101005  千代田区  丸の内  丸の内３丁目  35.676890  139.764039    0.611528       1   \n",
              "3  101007  千代田区  大手町  大手町１丁目  35.688067  139.764353    0.324671       3   \n",
              "4  101008  千代田区  大手町  大手町２丁目  35.686416  139.768530    0.306243       4   \n",
              "\n",
              "   児童館(最近傍距離)  児童館(数)  \n",
              "0    1.223562       4  \n",
              "1    1.588228       3  \n",
              "2    1.570712       4  \n",
              "3    1.352763       5  \n",
              "4    0.973485       5  "
            ],
            "text/html": [
              "\n",
              "  <div id=\"df-1fdab4fd-e9b0-4b98-91e9-c3491e59ca77\">\n",
              "    <div class=\"colab-df-container\">\n",
              "      <div>\n",
              "<style scoped>\n",
              "    .dataframe tbody tr th:only-of-type {\n",
              "        vertical-align: middle;\n",
              "    }\n",
              "\n",
              "    .dataframe tbody tr th {\n",
              "        vertical-align: top;\n",
              "    }\n",
              "\n",
              "    .dataframe thead th {\n",
              "        text-align: right;\n",
              "    }\n",
              "</style>\n",
              "<table border=\"1\" class=\"dataframe\">\n",
              "  <thead>\n",
              "    <tr style=\"text-align: right;\">\n",
              "      <th></th>\n",
              "      <th>地域ID</th>\n",
              "      <th>市区町村名</th>\n",
              "      <th>町名</th>\n",
              "      <th>町丁目</th>\n",
              "      <th>緯度</th>\n",
              "      <th>経度</th>\n",
              "      <th>保育園(最近傍距離)</th>\n",
              "      <th>保育園(数)</th>\n",
              "      <th>児童館(最近傍距離)</th>\n",
              "      <th>児童館(数)</th>\n",
              "    </tr>\n",
              "  </thead>\n",
              "  <tbody>\n",
              "    <tr>\n",
              "      <th>0</th>\n",
              "      <td>101003</td>\n",
              "      <td>千代田区</td>\n",
              "      <td>丸の内</td>\n",
              "      <td>丸の内１丁目</td>\n",
              "      <td>35.681610</td>\n",
              "      <td>139.767511</td>\n",
              "      <td>0.747610</td>\n",
              "      <td>3</td>\n",
              "      <td>1.223562</td>\n",
              "      <td>4</td>\n",
              "    </tr>\n",
              "    <tr>\n",
              "      <th>1</th>\n",
              "      <td>101004</td>\n",
              "      <td>千代田区</td>\n",
              "      <td>丸の内</td>\n",
              "      <td>丸の内２丁目</td>\n",
              "      <td>35.680071</td>\n",
              "      <td>139.763944</td>\n",
              "      <td>0.841154</td>\n",
              "      <td>1</td>\n",
              "      <td>1.588228</td>\n",
              "      <td>3</td>\n",
              "    </tr>\n",
              "    <tr>\n",
              "      <th>2</th>\n",
              "      <td>101005</td>\n",
              "      <td>千代田区</td>\n",
              "      <td>丸の内</td>\n",
              "      <td>丸の内３丁目</td>\n",
              "      <td>35.676890</td>\n",
              "      <td>139.764039</td>\n",
              "      <td>0.611528</td>\n",
              "      <td>1</td>\n",
              "      <td>1.570712</td>\n",
              "      <td>4</td>\n",
              "    </tr>\n",
              "    <tr>\n",
              "      <th>3</th>\n",
              "      <td>101007</td>\n",
              "      <td>千代田区</td>\n",
              "      <td>大手町</td>\n",
              "      <td>大手町１丁目</td>\n",
              "      <td>35.688067</td>\n",
              "      <td>139.764353</td>\n",
              "      <td>0.324671</td>\n",
              "      <td>3</td>\n",
              "      <td>1.352763</td>\n",
              "      <td>5</td>\n",
              "    </tr>\n",
              "    <tr>\n",
              "      <th>4</th>\n",
              "      <td>101008</td>\n",
              "      <td>千代田区</td>\n",
              "      <td>大手町</td>\n",
              "      <td>大手町２丁目</td>\n",
              "      <td>35.686416</td>\n",
              "      <td>139.768530</td>\n",
              "      <td>0.306243</td>\n",
              "      <td>4</td>\n",
              "      <td>0.973485</td>\n",
              "      <td>5</td>\n",
              "    </tr>\n",
              "  </tbody>\n",
              "</table>\n",
              "</div>\n",
              "      <button class=\"colab-df-convert\" onclick=\"convertToInteractive('df-1fdab4fd-e9b0-4b98-91e9-c3491e59ca77')\"\n",
              "              title=\"Convert this dataframe to an interactive table.\"\n",
              "              style=\"display:none;\">\n",
              "        \n",
              "  <svg xmlns=\"http://www.w3.org/2000/svg\" height=\"24px\"viewBox=\"0 0 24 24\"\n",
              "       width=\"24px\">\n",
              "    <path d=\"M0 0h24v24H0V0z\" fill=\"none\"/>\n",
              "    <path d=\"M18.56 5.44l.94 2.06.94-2.06 2.06-.94-2.06-.94-.94-2.06-.94 2.06-2.06.94zm-11 1L8.5 8.5l.94-2.06 2.06-.94-2.06-.94L8.5 2.5l-.94 2.06-2.06.94zm10 10l.94 2.06.94-2.06 2.06-.94-2.06-.94-.94-2.06-.94 2.06-2.06.94z\"/><path d=\"M17.41 7.96l-1.37-1.37c-.4-.4-.92-.59-1.43-.59-.52 0-1.04.2-1.43.59L10.3 9.45l-7.72 7.72c-.78.78-.78 2.05 0 2.83L4 21.41c.39.39.9.59 1.41.59.51 0 1.02-.2 1.41-.59l7.78-7.78 2.81-2.81c.8-.78.8-2.07 0-2.86zM5.41 20L4 18.59l7.72-7.72 1.47 1.35L5.41 20z\"/>\n",
              "  </svg>\n",
              "      </button>\n",
              "      \n",
              "  <style>\n",
              "    .colab-df-container {\n",
              "      display:flex;\n",
              "      flex-wrap:wrap;\n",
              "      gap: 12px;\n",
              "    }\n",
              "\n",
              "    .colab-df-convert {\n",
              "      background-color: #E8F0FE;\n",
              "      border: none;\n",
              "      border-radius: 50%;\n",
              "      cursor: pointer;\n",
              "      display: none;\n",
              "      fill: #1967D2;\n",
              "      height: 32px;\n",
              "      padding: 0 0 0 0;\n",
              "      width: 32px;\n",
              "    }\n",
              "\n",
              "    .colab-df-convert:hover {\n",
              "      background-color: #E2EBFA;\n",
              "      box-shadow: 0px 1px 2px rgba(60, 64, 67, 0.3), 0px 1px 3px 1px rgba(60, 64, 67, 0.15);\n",
              "      fill: #174EA6;\n",
              "    }\n",
              "\n",
              "    [theme=dark] .colab-df-convert {\n",
              "      background-color: #3B4455;\n",
              "      fill: #D2E3FC;\n",
              "    }\n",
              "\n",
              "    [theme=dark] .colab-df-convert:hover {\n",
              "      background-color: #434B5C;\n",
              "      box-shadow: 0px 1px 3px 1px rgba(0, 0, 0, 0.15);\n",
              "      filter: drop-shadow(0px 1px 2px rgba(0, 0, 0, 0.3));\n",
              "      fill: #FFFFFF;\n",
              "    }\n",
              "  </style>\n",
              "\n",
              "      <script>\n",
              "        const buttonEl =\n",
              "          document.querySelector('#df-1fdab4fd-e9b0-4b98-91e9-c3491e59ca77 button.colab-df-convert');\n",
              "        buttonEl.style.display =\n",
              "          google.colab.kernel.accessAllowed ? 'block' : 'none';\n",
              "\n",
              "        async function convertToInteractive(key) {\n",
              "          const element = document.querySelector('#df-1fdab4fd-e9b0-4b98-91e9-c3491e59ca77');\n",
              "          const dataTable =\n",
              "            await google.colab.kernel.invokeFunction('convertToInteractive',\n",
              "                                                     [key], {});\n",
              "          if (!dataTable) return;\n",
              "\n",
              "          const docLinkHtml = 'Like what you see? Visit the ' +\n",
              "            '<a target=\"_blank\" href=https://colab.research.google.com/notebooks/data_table.ipynb>data table notebook</a>'\n",
              "            + ' to learn more about interactive tables.';\n",
              "          element.innerHTML = '';\n",
              "          dataTable['output_type'] = 'display_data';\n",
              "          await google.colab.output.renderOutput(dataTable, element);\n",
              "          const docLink = document.createElement('div');\n",
              "          docLink.innerHTML = docLinkHtml;\n",
              "          element.appendChild(docLink);\n",
              "        }\n",
              "      </script>\n",
              "    </div>\n",
              "  </div>\n",
              "  "
            ]
          },
          "metadata": {},
          "execution_count": 19
        }
      ]
    },
    {
      "cell_type": "code",
      "source": [
        "score_name = '保育園スコア'\n",
        "feature_list = {\n",
        "    '保育園(最近傍距離)':   {'high': False, 'outlier': True, 'weight': 1}, \n",
        "    '保育園(数)':           {'high': True, 'outlier': True, 'weight': 0.5}, \n",
        "    '児童館(最近傍距離)':   {'high': False, 'outlier': True, 'weight': 0.4}, \n",
        "    '児童館(数)':           {'high': True, 'outlier': True, 'weight': 0.3}, \n",
        "}"
      ],
      "metadata": {
        "id": "Uui1QYTNbUlt"
      },
      "execution_count": 20,
      "outputs": []
    },
    {
      "cell_type": "code",
      "source": [
        "for feature_name in feature_list.keys():\n",
        "    sns.histplot(df_pop_master[feature_name], bins=20)\n",
        "    plt.show()"
      ],
      "metadata": {
        "id": "ff7KgX4tcQwb",
        "outputId": "b506cd02-c976-4625-93fb-d114a4085e22",
        "colab": {
          "base_uri": "https://localhost:8080/",
          "height": 1000
        }
      },
      "execution_count": 21,
      "outputs": [
        {
          "output_type": "display_data",
          "data": {
            "text/plain": [
              "<Figure size 432x288 with 1 Axes>"
            ],
            "image/png": "[encoded data removed]"
          },
          "metadata": {
            "needs_background": "light"
          }
        },
        {
          "output_type": "display_data",
          "data": {
            "text/plain": [
              "<Figure size 432x288 with 1 Axes>"
            ],
            "image/png": "[encoded data removed]"
          },
          "metadata": {
            "needs_background": "light"
          }
        },
        {
          "output_type": "display_data",
          "data": {
            "text/plain": [
              "<Figure size 432x288 with 1 Axes>"
            ],
            "image/png": "[encoded data removed]"
          },
          "metadata": {
            "needs_background": "light"
          }
        },
        {
          "output_type": "display_data",
          "data": {
            "text/plain": [
              "<Figure size 432x288 with 1 Axes>"
            ],
            "image/png": "[encoded data removed]"
          },
          "metadata": {
            "needs_background": "light"
          }
        }
      ]
    },
    {
      "cell_type": "code",
      "source": [
        "for key, value in feature_list.items():\n",
        "    df_pop_master[f'{key}レベル'] = normalize_score(df_pop_master[key], high=value['high'], outlier=value['outlier'])\n",
        "    sns.histplot(df_pop_master[f'{key}レベル'], bins=20)\n",
        "    plt.show()"
      ],
      "metadata": {
        "id": "LGD8KTWsdhk3",
        "outputId": "055ab512-4f02-474b-d9b1-87b095538f85",
        "colab": {
          "base_uri": "https://localhost:8080/",
          "height": 1000
        }
      },
      "execution_count": 22,
      "outputs": [
        {
          "output_type": "display_data",
          "data": {
            "text/plain": [
              "<Figure size 432x288 with 1 Axes>"
            ],
            "image/png": "[encoded data removed]"
          },
          "metadata": {
            "needs_background": "light"
          }
        },
        {
          "output_type": "display_data",
          "data": {
            "text/plain": [
              "<Figure size 432x288 with 1 Axes>"
            ],
            "image/png": "[encoded data removed]"
          },
          "metadata": {
            "needs_background": "light"
          }
        },
        {
          "output_type": "display_data",
          "data": {
            "text/plain": [
              "<Figure size 432x288 with 1 Axes>"
            ],
            "image/png": "[encoded data removed]"
          },
          "metadata": {
            "needs_background": "light"
          }
        },
        {
          "output_type": "display_data",
          "data": {
            "text/plain": [
              "<Figure size 432x288 with 1 Axes>"
            ],
            "image/png": "[encoded data removed]"
          },
          "metadata": {
            "needs_background": "light"
          }
        }
      ]
    },
    {
      "cell_type": "code",
      "source": [
        "score_list = []\n",
        "for key, value in feature_list.items():\n",
        "    score_list.append(df_pop_master[f'{key}レベル'] * value['weight'])\n",
        "\n",
        "score_sub_name = '_' + score_name\n",
        "df_pop_master[score_sub_name] = normalize_score(pd.concat(score_list, axis=1).sum(axis=1, skipna=False), outlier=False)\n",
        "df_pop_master[score_name] = rank_score(df_pop_master[score_sub_name])\n",
        "\n",
        "total_score_list = [score_sub_name, score_name]\n",
        "for _score in total_score_list:\n",
        "    sns.histplot(df_pop_master[_score], bins=20)\n",
        "    plt.show()"
      ],
      "metadata": {
        "id": "p4we131idJvG",
        "outputId": "87ed5363-3e8e-4a34-eeb8-3d874962602f",
        "colab": {
          "base_uri": "https://localhost:8080/",
          "height": 539
        }
      },
      "execution_count": 23,
      "outputs": [
        {
          "output_type": "display_data",
          "data": {
            "text/plain": [
              "<Figure size 432x288 with 1 Axes>"
            ],
            "image/png": "[encoded data removed]"
          },
          "metadata": {
            "needs_background": "light"
          }
        },
        {
          "output_type": "display_data",
          "data": {
            "text/plain": [
              "<Figure size 432x288 with 1 Axes>"
            ],
            "image/png": "[encoded data removed]"
          },
          "metadata": {
            "needs_background": "light"
          }
        }
      ]
    },
    {
      "cell_type": "code",
      "source": [
        "df_pop_master.head()"
      ],
      "metadata": {
        "id": "58XVXgBxe9fq",
        "outputId": "55a4bb32-6130-47e9-91d0-e0ea158cb07a",
        "colab": {
          "base_uri": "https://localhost:8080/",
          "height": 458
        }
      },
      "execution_count": 24,
      "outputs": [
        {
          "output_type": "execute_result",
          "data": {
            "text/plain": [
              "     地域ID 市区町村名   町名     町丁目         緯度          経度  保育園(最近傍距離)  保育園(数)  \\\n",
              "0  101003  千代田区  丸の内  丸の内１丁目  35.681610  139.767511    0.747610       3   \n",
              "1  101004  千代田区  丸の内  丸の内２丁目  35.680071  139.763944    0.841154       1   \n",
              "2  101005  千代田区  丸の内  丸の内３丁目  35.676890  139.764039    0.611528       1   \n",
              "3  101007  千代田区  大手町  大手町１丁目  35.688067  139.764353    0.324671       3   \n",
              "4  101008  千代田区  大手町  大手町２丁目  35.686416  139.768530    0.306243       4   \n",
              "\n",
              "   児童館(最近傍距離)  児童館(数)  保育園(最近傍距離)レベル  保育園(数)レベル  児童館(最近傍距離)レベル  児童館(数)レベル  \\\n",
              "0    1.223562       4       0.395875   0.100000       0.509376       0.20   \n",
              "1    1.588228       3       0.317572   0.033333       0.356589       0.15   \n",
              "2    1.570712       4       0.509784   0.033333       0.363928       0.20   \n",
              "3    1.352763       5       0.749901   0.100000       0.455244       0.25   \n",
              "4    0.973485       5       0.765326   0.133333       0.614153       0.25   \n",
              "\n",
              "    _保育園スコア    保育園スコア  \n",
              "0  0.328537  0.148573  \n",
              "1  0.241613  0.104001  \n",
              "2  0.338905  0.161307  \n",
              "3  0.489361  0.473310  \n",
              "4  0.533646  0.672822  "
            ],
            "text/html": [
              "\n",
              "  <div id=\"df-6fbc8f62-379b-4568-a15b-96d64fca9d79\">\n",
              "    <div class=\"colab-df-container\">\n",
              "      <div>\n",
              "<style scoped>\n",
              "    .dataframe tbody tr th:only-of-type {\n",
              "        vertical-align: middle;\n",
              "    }\n",
              "\n",
              "    .dataframe tbody tr th {\n",
              "        vertical-align: top;\n",
              "    }\n",
              "\n",
              "    .dataframe thead th {\n",
              "        text-align: right;\n",
              "    }\n",
              "</style>\n",
              "<table border=\"1\" class=\"dataframe\">\n",
              "  <thead>\n",
              "    <tr style=\"text-align: right;\">\n",
              "      <th></th>\n",
              "      <th>地域ID</th>\n",
              "      <th>市区町村名</th>\n",
              "      <th>町名</th>\n",
              "      <th>町丁目</th>\n",
              "      <th>緯度</th>\n",
              "      <th>経度</th>\n",
              "      <th>保育園(最近傍距離)</th>\n",
              "      <th>保育園(数)</th>\n",
              "      <th>児童館(最近傍距離)</th>\n",
              "      <th>児童館(数)</th>\n",
              "      <th>保育園(最近傍距離)レベル</th>\n",
              "      <th>保育園(数)レベル</th>\n",
              "      <th>児童館(最近傍距離)レベル</th>\n",
              "      <th>児童館(数)レベル</th>\n",
              "      <th>_保育園スコア</th>\n",
              "      <th>保育園スコア</th>\n",
              "    </tr>\n",
              "  </thead>\n",
              "  <tbody>\n",
              "    <tr>\n",
              "      <th>0</th>\n",
              "      <td>101003</td>\n",
              "      <td>千代田区</td>\n",
              "      <td>丸の内</td>\n",
              "      <td>丸の内１丁目</td>\n",
              "      <td>35.681610</td>\n",
              "      <td>139.767511</td>\n",
              "      <td>0.747610</td>\n",
              "      <td>3</td>\n",
              "      <td>1.223562</td>\n",
              "      <td>4</td>\n",
              "      <td>0.395875</td>\n",
              "      <td>0.100000</td>\n",
              "      <td>0.509376</td>\n",
              "      <td>0.20</td>\n",
              "      <td>0.328537</td>\n",
              "      <td>0.148573</td>\n",
              "    </tr>\n",
              "    <tr>\n",
              "      <th>1</th>\n",
              "      <td>101004</td>\n",
              "      <td>千代田区</td>\n",
              "      <td>丸の内</td>\n",
              "      <td>丸の内２丁目</td>\n",
              "      <td>35.680071</td>\n",
              "      <td>139.763944</td>\n",
              "      <td>0.841154</td>\n",
              "      <td>1</td>\n",
              "      <td>1.588228</td>\n",
              "      <td>3</td>\n",
              "      <td>0.317572</td>\n",
              "      <td>0.033333</td>\n",
              "      <td>0.356589</td>\n",
              "      <td>0.15</td>\n",
              "      <td>0.241613</td>\n",
              "      <td>0.104001</td>\n",
              "    </tr>\n",
              "    <tr>\n",
              "      <th>2</th>\n",
              "      <td>101005</td>\n",
              "      <td>千代田区</td>\n",
              "      <td>丸の内</td>\n",
              "      <td>丸の内３丁目</td>\n",
              "      <td>35.676890</td>\n",
              "      <td>139.764039</td>\n",
              "      <td>0.611528</td>\n",
              "      <td>1</td>\n",
              "      <td>1.570712</td>\n",
              "      <td>4</td>\n",
              "      <td>0.509784</td>\n",
              "      <td>0.033333</td>\n",
              "      <td>0.363928</td>\n",
              "      <td>0.20</td>\n",
              "      <td>0.338905</td>\n",
              "      <td>0.161307</td>\n",
              "    </tr>\n",
              "    <tr>\n",
              "      <th>3</th>\n",
              "      <td>101007</td>\n",
              "      <td>千代田区</td>\n",
              "      <td>大手町</td>\n",
              "      <td>大手町１丁目</td>\n",
              "      <td>35.688067</td>\n",
              "      <td>139.764353</td>\n",
              "      <td>0.324671</td>\n",
              "      <td>3</td>\n",
              "      <td>1.352763</td>\n",
              "      <td>5</td>\n",
              "      <td>0.749901</td>\n",
              "      <td>0.100000</td>\n",
              "      <td>0.455244</td>\n",
              "      <td>0.25</td>\n",
              "      <td>0.489361</td>\n",
              "      <td>0.473310</td>\n",
              "    </tr>\n",
              "    <tr>\n",
              "      <th>4</th>\n",
              "      <td>101008</td>\n",
              "      <td>千代田区</td>\n",
              "      <td>大手町</td>\n",
              "      <td>大手町２丁目</td>\n",
              "      <td>35.686416</td>\n",
              "      <td>139.768530</td>\n",
              "      <td>0.306243</td>\n",
              "      <td>4</td>\n",
              "      <td>0.973485</td>\n",
              "      <td>5</td>\n",
              "      <td>0.765326</td>\n",
              "      <td>0.133333</td>\n",
              "      <td>0.614153</td>\n",
              "      <td>0.25</td>\n",
              "      <td>0.533646</td>\n",
              "      <td>0.672822</td>\n",
              "    </tr>\n",
              "  </tbody>\n",
              "</table>\n",
              "</div>\n",
              "      <button class=\"colab-df-convert\" onclick=\"convertToInteractive('df-6fbc8f62-379b-4568-a15b-96d64fca9d79')\"\n",
              "              title=\"Convert this dataframe to an interactive table.\"\n",
              "              style=\"display:none;\">\n",
              "        \n",
              "  <svg xmlns=\"http://www.w3.org/2000/svg\" height=\"24px\"viewBox=\"0 0 24 24\"\n",
              "       width=\"24px\">\n",
              "    <path d=\"M0 0h24v24H0V0z\" fill=\"none\"/>\n",
              "    <path d=\"M18.56 5.44l.94 2.06.94-2.06 2.06-.94-2.06-.94-.94-2.06-.94 2.06-2.06.94zm-11 1L8.5 8.5l.94-2.06 2.06-.94-2.06-.94L8.5 2.5l-.94 2.06-2.06.94zm10 10l.94 2.06.94-2.06 2.06-.94-2.06-.94-.94-2.06-.94 2.06-2.06.94z\"/><path d=\"M17.41 7.96l-1.37-1.37c-.4-.4-.92-.59-1.43-.59-.52 0-1.04.2-1.43.59L10.3 9.45l-7.72 7.72c-.78.78-.78 2.05 0 2.83L4 21.41c.39.39.9.59 1.41.59.51 0 1.02-.2 1.41-.59l7.78-7.78 2.81-2.81c.8-.78.8-2.07 0-2.86zM5.41 20L4 18.59l7.72-7.72 1.47 1.35L5.41 20z\"/>\n",
              "  </svg>\n",
              "      </button>\n",
              "      \n",
              "  <style>\n",
              "    .colab-df-container {\n",
              "      display:flex;\n",
              "      flex-wrap:wrap;\n",
              "      gap: 12px;\n",
              "    }\n",
              "\n",
              "    .colab-df-convert {\n",
              "      background-color: #E8F0FE;\n",
              "      border: none;\n",
              "      border-radius: 50%;\n",
              "      cursor: pointer;\n",
              "      display: none;\n",
              "      fill: #1967D2;\n",
              "      height: 32px;\n",
              "      padding: 0 0 0 0;\n",
              "      width: 32px;\n",
              "    }\n",
              "\n",
              "    .colab-df-convert:hover {\n",
              "      background-color: #E2EBFA;\n",
              "      box-shadow: 0px 1px 2px rgba(60, 64, 67, 0.3), 0px 1px 3px 1px rgba(60, 64, 67, 0.15);\n",
              "      fill: #174EA6;\n",
              "    }\n",
              "\n",
              "    [theme=dark] .colab-df-convert {\n",
              "      background-color: #3B4455;\n",
              "      fill: #D2E3FC;\n",
              "    }\n",
              "\n",
              "    [theme=dark] .colab-df-convert:hover {\n",
              "      background-color: #434B5C;\n",
              "      box-shadow: 0px 1px 3px 1px rgba(0, 0, 0, 0.15);\n",
              "      filter: drop-shadow(0px 1px 2px rgba(0, 0, 0, 0.3));\n",
              "      fill: #FFFFFF;\n",
              "    }\n",
              "  </style>\n",
              "\n",
              "      <script>\n",
              "        const buttonEl =\n",
              "          document.querySelector('#df-6fbc8f62-379b-4568-a15b-96d64fca9d79 button.colab-df-convert');\n",
              "        buttonEl.style.display =\n",
              "          google.colab.kernel.accessAllowed ? 'block' : 'none';\n",
              "\n",
              "        async function convertToInteractive(key) {\n",
              "          const element = document.querySelector('#df-6fbc8f62-379b-4568-a15b-96d64fca9d79');\n",
              "          const dataTable =\n",
              "            await google.colab.kernel.invokeFunction('convertToInteractive',\n",
              "                                                     [key], {});\n",
              "          if (!dataTable) return;\n",
              "\n",
              "          const docLinkHtml = 'Like what you see? Visit the ' +\n",
              "            '<a target=\"_blank\" href=https://colab.research.google.com/notebooks/data_table.ipynb>data table notebook</a>'\n",
              "            + ' to learn more about interactive tables.';\n",
              "          element.innerHTML = '';\n",
              "          dataTable['output_type'] = 'display_data';\n",
              "          await google.colab.output.renderOutput(dataTable, element);\n",
              "          const docLink = document.createElement('div');\n",
              "          docLink.innerHTML = docLinkHtml;\n",
              "          element.appendChild(docLink);\n",
              "        }\n",
              "      </script>\n",
              "    </div>\n",
              "  </div>\n",
              "  "
            ]
          },
          "metadata": {},
          "execution_count": 24
        }
      ]
    },
    {
      "cell_type": "code",
      "source": [
        "df_pop_master[\n",
        "    ['地域ID', '市区町村名', '町丁目'] + list(feature_list.keys()) + total_score_list\n",
        "].to_csv(os.path.join(DIR_NAME, output_score_file), index=False)"
      ],
      "metadata": {
        "id": "AqDrjIdB-jOO"
      },
      "execution_count": 25,
      "outputs": []
    },
    {
      "cell_type": "code",
      "source": [
        "plt.figure(figsize=(15, 5))\n",
        "sns.barplot(x='市区町村名', y='保育園スコア', data=df_pop_master)\n",
        "plt.show()"
      ],
      "metadata": {
        "colab": {
          "base_uri": "https://localhost:8080/",
          "height": 333
        },
        "id": "WmM2Bvqu-lKP",
        "outputId": "dda33c68-541e-48cc-855d-2c6dfd25ff6e"
      },
      "execution_count": 26,
      "outputs": [
        {
          "output_type": "display_data",
          "data": {
            "text/plain": [
              "<Figure size 1080x360 with 1 Axes>"
            ],
            "image/png": "[encoded data removed]"
          },
          "metadata": {
            "needs_background": "light"
          }
        }
      ]
    },
    {
      "cell_type": "code",
      "source": [
        "df_library_level = df_pop_master.copy()\n",
        "df_library_level['rank'] = df_library_level.groupby('町名')['保育園スコア'].transform('rank', ascending=False)\n",
        "df_library_level = df_library_level[df_library_level['rank'] == 1].sort_values('保育園スコア', ascending=False)[\n",
        "    ['市区町村名', '町名', '町丁目', '保育園スコア', '_保育園スコア', '保育園(最近傍距離)', '保育園(数)', '児童館(最近傍距離)', '児童館(数)']\n",
        "].reset_index(drop=True)\n",
        "print(df_library_level.shape)"
      ],
      "metadata": {
        "colab": {
          "base_uri": "https://localhost:8080/"
        },
        "id": "2ohWeOmS-oku",
        "outputId": "d2ba584b-1c03-4f76-d0f3-03496ff37bad"
      },
      "execution_count": 27,
      "outputs": [
        {
          "output_type": "stream",
          "name": "stdout",
          "text": [
            "(909, 9)\n"
          ]
        }
      ]
    },
    {
      "cell_type": "code",
      "source": [
        "df_library_level.head(20)"
      ],
      "metadata": {
        "colab": {
          "base_uri": "https://localhost:8080/",
          "height": 677
        },
        "id": "Y-MJE9v0-qtM",
        "outputId": "f396bcdf-c126-410d-f2f2-e6628e884c76"
      },
      "execution_count": 28,
      "outputs": [
        {
          "output_type": "execute_result",
          "data": {
            "text/plain": [
              "   市区町村名    町名      町丁目    保育園スコア   _保育園スコア  保育園(最近傍距離)  保育園(数)  児童館(最近傍距離)  \\\n",
              "0    品川区   東中延   東中延２丁目  5.000000  1.000000    0.037886      31    0.037886   \n",
              "1    品川区    豊町    豊町４丁目  4.997878  0.992616    0.086070      31    0.086070   \n",
              "2    文京区   本駒込   本駒込３丁目  4.989388  0.956698    0.034140      26    0.034140   \n",
              "3    目黒区   中央町   中央町２丁目  4.987265  0.955820    0.090528      30    0.090528   \n",
              "4    品川区    二葉    二葉４丁目  4.985143  0.953371    0.130241      29    0.271799   \n",
              "5    品川区   西中延   西中延１丁目  4.983020  0.951365    0.113376      29    0.113376   \n",
              "6    品川区   小山台   小山台１丁目  4.978775  0.950155    0.110830      29    0.320698   \n",
              "7    品川区  西五反田  西五反田６丁目  4.974530  0.947689    0.057710      28    0.339340   \n",
              "8    品川区    戸越    戸越６丁目  4.972408  0.947581    0.178183      35    0.116917   \n",
              "9    品川区   西大井   西大井６丁目  4.970285  0.947157    0.100857      25    0.100857   \n",
              "10   品川区    大井    大井２丁目  4.968163  0.946147    0.170097      31    0.086277   \n",
              "11   文京区    千石    千石３丁目  4.966041  0.943566    0.096463      33    0.129314   \n",
              "12   目黒区    鷹番    鷹番２丁目  4.963918  0.940205    0.077022      31    0.269722   \n",
              "13   江東区    森下    森下３丁目  4.961796  0.938500    0.010684      34    0.099574   \n",
              "14   品川区    荏原    荏原６丁目  4.959673  0.938046    0.113909      29    0.371876   \n",
              "15   墨田区     緑     緑３丁目  4.953306  0.931385    0.034921      31    0.504183   \n",
              "16   品川区    中延    中延６丁目  4.951183  0.930225    0.155920      27    0.242956   \n",
              "17   墨田区    千歳    千歳３丁目  4.946938  0.928607    0.035699      31    0.267582   \n",
              "18   文京区    水道    水道１丁目  4.944816  0.928125    0.050128      24    0.050128   \n",
              "19   文京区    本郷    本郷６丁目  4.942693  0.926729    0.060780      26    0.216239   \n",
              "\n",
              "    児童館(数)  \n",
              "0       18  \n",
              "1       21  \n",
              "2       16  \n",
              "3       15  \n",
              "4       20  \n",
              "5       17  \n",
              "6       19  \n",
              "7       17  \n",
              "8       19  \n",
              "9       22  \n",
              "10      18  \n",
              "11      14  \n",
              "12      14  \n",
              "13       9  \n",
              "14      18  \n",
              "15      13  \n",
              "16      20  \n",
              "17      10  \n",
              "18      15  \n",
              "19      15  "
            ],
            "text/html": [
              "\n",
              "  <div id=\"df-1306181d-f447-45c9-8ab3-afd1475bdb00\">\n",
              "    <div class=\"colab-df-container\">\n",
              "      <div>\n",
              "<style scoped>\n",
              "    .dataframe tbody tr th:only-of-type {\n",
              "        vertical-align: middle;\n",
              "    }\n",
              "\n",
              "    .dataframe tbody tr th {\n",
              "        vertical-align: top;\n",
              "    }\n",
              "\n",
              "    .dataframe thead th {\n",
              "        text-align: right;\n",
              "    }\n",
              "</style>\n",
              "<table border=\"1\" class=\"dataframe\">\n",
              "  <thead>\n",
              "    <tr style=\"text-align: right;\">\n",
              "      <th></th>\n",
              "      <th>市区町村名</th>\n",
              "      <th>町名</th>\n",
              "      <th>町丁目</th>\n",
              "      <th>保育園スコア</th>\n",
              "      <th>_保育園スコア</th>\n",
              "      <th>保育園(最近傍距離)</th>\n",
              "      <th>保育園(数)</th>\n",
              "      <th>児童館(最近傍距離)</th>\n",
              "      <th>児童館(数)</th>\n",
              "    </tr>\n",
              "  </thead>\n",
              "  <tbody>\n",
              "    <tr>\n",
              "      <th>0</th>\n",
              "      <td>品川区</td>\n",
              "      <td>東中延</td>\n",
              "      <td>東中延２丁目</td>\n",
              "      <td>5.000000</td>\n",
              "      <td>1.000000</td>\n",
              "      <td>0.037886</td>\n",
              "      <td>31</td>\n",
              "      <td>0.037886</td>\n",
              "      <td>18</td>\n",
              "    </tr>\n",
              "    <tr>\n",
              "      <th>1</th>\n",
              "      <td>品川区</td>\n",
              "      <td>豊町</td>\n",
              "      <td>豊町４丁目</td>\n",
              "      <td>4.997878</td>\n",
              "      <td>0.992616</td>\n",
              "      <td>0.086070</td>\n",
              "      <td>31</td>\n",
              "      <td>0.086070</td>\n",
              "      <td>21</td>\n",
              "    </tr>\n",
              "    <tr>\n",
              "      <th>2</th>\n",
              "      <td>文京区</td>\n",
              "      <td>本駒込</td>\n",
              "      <td>本駒込３丁目</td>\n",
              "      <td>4.989388</td>\n",
              "      <td>0.956698</td>\n",
              "      <td>0.034140</td>\n",
              "      <td>26</td>\n",
              "      <td>0.034140</td>\n",
              "      <td>16</td>\n",
              "    </tr>\n",
              "    <tr>\n",
              "      <th>3</th>\n",
              "      <td>目黒区</td>\n",
              "      <td>中央町</td>\n",
              "      <td>中央町２丁目</td>\n",
              "      <td>4.987265</td>\n",
              "      <td>0.955820</td>\n",
              "      <td>0.090528</td>\n",
              "      <td>30</td>\n",
              "      <td>0.090528</td>\n",
              "      <td>15</td>\n",
              "    </tr>\n",
              "    <tr>\n",
              "      <th>4</th>\n",
              "      <td>品川区</td>\n",
              "      <td>二葉</td>\n",
              "      <td>二葉４丁目</td>\n",
              "      <td>4.985143</td>\n",
              "      <td>0.953371</td>\n",
              "      <td>0.130241</td>\n",
              "      <td>29</td>\n",
              "      <td>0.271799</td>\n",
              "      <td>20</td>\n",
              "    </tr>\n",
              "    <tr>\n",
              "      <th>5</th>\n",
              "      <td>品川区</td>\n",
              "      <td>西中延</td>\n",
              "      <td>西中延１丁目</td>\n",
              "      <td>4.983020</td>\n",
              "      <td>0.951365</td>\n",
              "      <td>0.113376</td>\n",
              "      <td>29</td>\n",
              "      <td>0.113376</td>\n",
              "      <td>17</td>\n",
              "    </tr>\n",
              "    <tr>\n",
              "      <th>6</th>\n",
              "      <td>品川区</td>\n",
              "      <td>小山台</td>\n",
              "      <td>小山台１丁目</td>\n",
              "      <td>4.978775</td>\n",
              "      <td>0.950155</td>\n",
              "      <td>0.110830</td>\n",
              "      <td>29</td>\n",
              "      <td>0.320698</td>\n",
              "      <td>19</td>\n",
              "    </tr>\n",
              "    <tr>\n",
              "      <th>7</th>\n",
              "      <td>品川区</td>\n",
              "      <td>西五反田</td>\n",
              "      <td>西五反田６丁目</td>\n",
              "      <td>4.974530</td>\n",
              "      <td>0.947689</td>\n",
              "      <td>0.057710</td>\n",
              "      <td>28</td>\n",
              "      <td>0.339340</td>\n",
              "      <td>17</td>\n",
              "    </tr>\n",
              "    <tr>\n",
              "      <th>8</th>\n",
              "      <td>品川区</td>\n",
              "      <td>戸越</td>\n",
              "      <td>戸越６丁目</td>\n",
              "      <td>4.972408</td>\n",
              "      <td>0.947581</td>\n",
              "      <td>0.178183</td>\n",
              "      <td>35</td>\n",
              "      <td>0.116917</td>\n",
              "      <td>19</td>\n",
              "    </tr>\n",
              "    <tr>\n",
              "      <th>9</th>\n",
              "      <td>品川区</td>\n",
              "      <td>西大井</td>\n",
              "      <td>西大井６丁目</td>\n",
              "      <td>4.970285</td>\n",
              "      <td>0.947157</td>\n",
              "      <td>0.100857</td>\n",
              "      <td>25</td>\n",
              "      <td>0.100857</td>\n",
              "      <td>22</td>\n",
              "    </tr>\n",
              "    <tr>\n",
              "      <th>10</th>\n",
              "      <td>品川区</td>\n",
              "      <td>大井</td>\n",
              "      <td>大井２丁目</td>\n",
              "      <td>4.968163</td>\n",
              "      <td>0.946147</td>\n",
              "      <td>0.170097</td>\n",
              "      <td>31</td>\n",
              "      <td>0.086277</td>\n",
              "      <td>18</td>\n",
              "    </tr>\n",
              "    <tr>\n",
              "      <th>11</th>\n",
              "      <td>文京区</td>\n",
              "      <td>千石</td>\n",
              "      <td>千石３丁目</td>\n",
              "      <td>4.966041</td>\n",
              "      <td>0.943566</td>\n",
              "      <td>0.096463</td>\n",
              "      <td>33</td>\n",
              "      <td>0.129314</td>\n",
              "      <td>14</td>\n",
              "    </tr>\n",
              "    <tr>\n",
              "      <th>12</th>\n",
              "      <td>目黒区</td>\n",
              "      <td>鷹番</td>\n",
              "      <td>鷹番２丁目</td>\n",
              "      <td>4.963918</td>\n",
              "      <td>0.940205</td>\n",
              "      <td>0.077022</td>\n",
              "      <td>31</td>\n",
              "      <td>0.269722</td>\n",
              "      <td>14</td>\n",
              "    </tr>\n",
              "    <tr>\n",
              "      <th>13</th>\n",
              "      <td>江東区</td>\n",
              "      <td>森下</td>\n",
              "      <td>森下３丁目</td>\n",
              "      <td>4.961796</td>\n",
              "      <td>0.938500</td>\n",
              "      <td>0.010684</td>\n",
              "      <td>34</td>\n",
              "      <td>0.099574</td>\n",
              "      <td>9</td>\n",
              "    </tr>\n",
              "    <tr>\n",
              "      <th>14</th>\n",
              "      <td>品川区</td>\n",
              "      <td>荏原</td>\n",
              "      <td>荏原６丁目</td>\n",
              "      <td>4.959673</td>\n",
              "      <td>0.938046</td>\n",
              "      <td>0.113909</td>\n",
              "      <td>29</td>\n",
              "      <td>0.371876</td>\n",
              "      <td>18</td>\n",
              "    </tr>\n",
              "    <tr>\n",
              "      <th>15</th>\n",
              "      <td>墨田区</td>\n",
              "      <td>緑</td>\n",
              "      <td>緑３丁目</td>\n",
              "      <td>4.953306</td>\n",
              "      <td>0.931385</td>\n",
              "      <td>0.034921</td>\n",
              "      <td>31</td>\n",
              "      <td>0.504183</td>\n",
              "      <td>13</td>\n",
              "    </tr>\n",
              "    <tr>\n",
              "      <th>16</th>\n",
              "      <td>品川区</td>\n",
              "      <td>中延</td>\n",
              "      <td>中延６丁目</td>\n",
              "      <td>4.951183</td>\n",
              "      <td>0.930225</td>\n",
              "      <td>0.155920</td>\n",
              "      <td>27</td>\n",
              "      <td>0.242956</td>\n",
              "      <td>20</td>\n",
              "    </tr>\n",
              "    <tr>\n",
              "      <th>17</th>\n",
              "      <td>墨田区</td>\n",
              "      <td>千歳</td>\n",
              "      <td>千歳３丁目</td>\n",
              "      <td>4.946938</td>\n",
              "      <td>0.928607</td>\n",
              "      <td>0.035699</td>\n",
              "      <td>31</td>\n",
              "      <td>0.267582</td>\n",
              "      <td>10</td>\n",
              "    </tr>\n",
              "    <tr>\n",
              "      <th>18</th>\n",
              "      <td>文京区</td>\n",
              "      <td>水道</td>\n",
              "      <td>水道１丁目</td>\n",
              "      <td>4.944816</td>\n",
              "      <td>0.928125</td>\n",
              "      <td>0.050128</td>\n",
              "      <td>24</td>\n",
              "      <td>0.050128</td>\n",
              "      <td>15</td>\n",
              "    </tr>\n",
              "    <tr>\n",
              "      <th>19</th>\n",
              "      <td>文京区</td>\n",
              "      <td>本郷</td>\n",
              "      <td>本郷６丁目</td>\n",
              "      <td>4.942693</td>\n",
              "      <td>0.926729</td>\n",
              "      <td>0.060780</td>\n",
              "      <td>26</td>\n",
              "      <td>0.216239</td>\n",
              "      <td>15</td>\n",
              "    </tr>\n",
              "  </tbody>\n",
              "</table>\n",
              "</div>\n",
              "      <button class=\"colab-df-convert\" onclick=\"convertToInteractive('df-1306181d-f447-45c9-8ab3-afd1475bdb00')\"\n",
              "              title=\"Convert this dataframe to an interactive table.\"\n",
              "              style=\"display:none;\">\n",
              "        \n",
              "  <svg xmlns=\"http://www.w3.org/2000/svg\" height=\"24px\"viewBox=\"0 0 24 24\"\n",
              "       width=\"24px\">\n",
              "    <path d=\"M0 0h24v24H0V0z\" fill=\"none\"/>\n",
              "    <path d=\"M18.56 5.44l.94 2.06.94-2.06 2.06-.94-2.06-.94-.94-2.06-.94 2.06-2.06.94zm-11 1L8.5 8.5l.94-2.06 2.06-.94-2.06-.94L8.5 2.5l-.94 2.06-2.06.94zm10 10l.94 2.06.94-2.06 2.06-.94-2.06-.94-.94-2.06-.94 2.06-2.06.94z\"/><path d=\"M17.41 7.96l-1.37-1.37c-.4-.4-.92-.59-1.43-.59-.52 0-1.04.2-1.43.59L10.3 9.45l-7.72 7.72c-.78.78-.78 2.05 0 2.83L4 21.41c.39.39.9.59 1.41.59.51 0 1.02-.2 1.41-.59l7.78-7.78 2.81-2.81c.8-.78.8-2.07 0-2.86zM5.41 20L4 18.59l7.72-7.72 1.47 1.35L5.41 20z\"/>\n",
              "  </svg>\n",
              "      </button>\n",
              "      \n",
              "  <style>\n",
              "    .colab-df-container {\n",
              "      display:flex;\n",
              "      flex-wrap:wrap;\n",
              "      gap: 12px;\n",
              "    }\n",
              "\n",
              "    .colab-df-convert {\n",
              "      background-color: #E8F0FE;\n",
              "      border: none;\n",
              "      border-radius: 50%;\n",
              "      cursor: pointer;\n",
              "      display: none;\n",
              "      fill: #1967D2;\n",
              "      height: 32px;\n",
              "      padding: 0 0 0 0;\n",
              "      width: 32px;\n",
              "    }\n",
              "\n",
              "    .colab-df-convert:hover {\n",
              "      background-color: #E2EBFA;\n",
              "      box-shadow: 0px 1px 2px rgba(60, 64, 67, 0.3), 0px 1px 3px 1px rgba(60, 64, 67, 0.15);\n",
              "      fill: #174EA6;\n",
              "    }\n",
              "\n",
              "    [theme=dark] .colab-df-convert {\n",
              "      background-color: #3B4455;\n",
              "      fill: #D2E3FC;\n",
              "    }\n",
              "\n",
              "    [theme=dark] .colab-df-convert:hover {\n",
              "      background-color: #434B5C;\n",
              "      box-shadow: 0px 1px 3px 1px rgba(0, 0, 0, 0.15);\n",
              "      filter: drop-shadow(0px 1px 2px rgba(0, 0, 0, 0.3));\n",
              "      fill: #FFFFFF;\n",
              "    }\n",
              "  </style>\n",
              "\n",
              "      <script>\n",
              "        const buttonEl =\n",
              "          document.querySelector('#df-1306181d-f447-45c9-8ab3-afd1475bdb00 button.colab-df-convert');\n",
              "        buttonEl.style.display =\n",
              "          google.colab.kernel.accessAllowed ? 'block' : 'none';\n",
              "\n",
              "        async function convertToInteractive(key) {\n",
              "          const element = document.querySelector('#df-1306181d-f447-45c9-8ab3-afd1475bdb00');\n",
              "          const dataTable =\n",
              "            await google.colab.kernel.invokeFunction('convertToInteractive',\n",
              "                                                     [key], {});\n",
              "          if (!dataTable) return;\n",
              "\n",
              "          const docLinkHtml = 'Like what you see? Visit the ' +\n",
              "            '<a target=\"_blank\" href=https://colab.research.google.com/notebooks/data_table.ipynb>data table notebook</a>'\n",
              "            + ' to learn more about interactive tables.';\n",
              "          element.innerHTML = '';\n",
              "          dataTable['output_type'] = 'display_data';\n",
              "          await google.colab.output.renderOutput(dataTable, element);\n",
              "          const docLink = document.createElement('div');\n",
              "          docLink.innerHTML = docLinkHtml;\n",
              "          element.appendChild(docLink);\n",
              "        }\n",
              "      </script>\n",
              "    </div>\n",
              "  </div>\n",
              "  "
            ]
          },
          "metadata": {},
          "execution_count": 28
        }
      ]
    },
    {
      "cell_type": "code",
      "source": [
        "df_library_level.tail(20)"
      ],
      "metadata": {
        "colab": {
          "base_uri": "https://localhost:8080/",
          "height": 677
        },
        "id": "suQPqES4-suF",
        "outputId": "7623e851-2b06-445c-f43b-d8c710d01f47"
      },
      "execution_count": 29,
      "outputs": [
        {
          "output_type": "execute_result",
          "data": {
            "text/plain": [
              "    市区町村名      町名      町丁目    保育園スコア   _保育園スコア  保育園(最近傍距離)  保育園(数)  \\\n",
              "889  江戸川区     北篠崎   北篠崎１丁目  0.301390  0.438346    0.511514       5   \n",
              "890  千代田区     永田町   永田町２丁目  0.278043  0.427146    0.637925       5   \n",
              "891   江東区      青海    青海１丁目  0.250451  0.409536    0.574889       1   \n",
              "892  千代田区     一ツ橋   一ツ橋２丁目  0.229226  0.402372    0.698123       3   \n",
              "893   足立区    舎人公園     舎人公園  0.203757  0.385519    0.833339       3   \n",
              "894  千代田区   北の丸公園    北の丸公園  0.201634  0.382342    0.772584       6   \n",
              "895  千代田区     有楽町   有楽町２丁目  0.180410  0.357865    0.616597       2   \n",
              "896  千代田区     丸の内   丸の内３丁目  0.161307  0.338905    0.611528       1   \n",
              "897   渋谷区  代々木神園町   代々木神園町  0.157063  0.336005    0.736296       7   \n",
              "898   大田区    羽田空港  羽田空港１丁目  0.112491  0.257604    0.873644       2   \n",
              "899  千代田区     霞が関   霞が関３丁目  0.099756  0.223335    1.001848       0   \n",
              "900  千代田区     内幸町   内幸町２丁目  0.097633  0.218174    0.948419       1   \n",
              "901  千代田区     千代田      千代田  0.093389  0.215030    0.984667       1   \n",
              "902   江東区     夢の島   夢の島１丁目  0.089144  0.214585    0.957965       1   \n",
              "903   品川区     東八潮      東八潮  0.078531  0.165224    1.098491       0   \n",
              "904   大田区     京浜島   京浜島１丁目  0.074286  0.146129    1.093650       0   \n",
              "905   大田区      東海    東海１丁目  0.072164  0.108623    1.199143       0   \n",
              "906  千代田区   日比谷公園    日比谷公園  0.063674  0.080927    1.260174       0   \n",
              "907  千代田区    皇居外苑     皇居外苑  0.057307  0.062968    1.284069       0   \n",
              "908   江東区     新木場   新木場１丁目  0.053062  0.056058    1.705506       0   \n",
              "\n",
              "     児童館(最近傍距離)  児童館(数)  \n",
              "889    0.917912       1  \n",
              "890    0.699388       4  \n",
              "891    0.574889       1  \n",
              "892    0.698123       6  \n",
              "893    0.597991      10  \n",
              "894    0.882710       6  \n",
              "895    1.400482       4  \n",
              "896    1.570712       4  \n",
              "897    1.492106       3  \n",
              "898    1.319310       3  \n",
              "899    0.921741       3  \n",
              "900    1.354567       3  \n",
              "901    1.214039       3  \n",
              "902    1.353142       3  \n",
              "903    1.098491       2  \n",
              "904    1.458263       3  \n",
              "905    1.504265       4  \n",
              "906    1.664818       3  \n",
              "907    1.806775       2  \n",
              "908    1.806329       1  "
            ],
            "text/html": [
              "\n",
              "  <div id=\"df-beb24e7f-e0c6-4203-8ef3-ccc34f9d0e2b\">\n",
              "    <div class=\"colab-df-container\">\n",
              "      <div>\n",
              "<style scoped>\n",
              "    .dataframe tbody tr th:only-of-type {\n",
              "        vertical-align: middle;\n",
              "    }\n",
              "\n",
              "    .dataframe tbody tr th {\n",
              "        vertical-align: top;\n",
              "    }\n",
              "\n",
              "    .dataframe thead th {\n",
              "        text-align: right;\n",
              "    }\n",
              "</style>\n",
              "<table border=\"1\" class=\"dataframe\">\n",
              "  <thead>\n",
              "    <tr style=\"text-align: right;\">\n",
              "      <th></th>\n",
              "      <th>市区町村名</th>\n",
              "      <th>町名</th>\n",
              "      <th>町丁目</th>\n",
              "      <th>保育園スコア</th>\n",
              "      <th>_保育園スコア</th>\n",
              "      <th>保育園(最近傍距離)</th>\n",
              "      <th>保育園(数)</th>\n",
              "      <th>児童館(最近傍距離)</th>\n",
              "      <th>児童館(数)</th>\n",
              "    </tr>\n",
              "  </thead>\n",
              "  <tbody>\n",
              "    <tr>\n",
              "      <th>889</th>\n",
              "      <td>江戸川区</td>\n",
              "      <td>北篠崎</td>\n",
              "      <td>北篠崎１丁目</td>\n",
              "      <td>0.301390</td>\n",
              "      <td>0.438346</td>\n",
              "      <td>0.511514</td>\n",
              "      <td>5</td>\n",
              "      <td>0.917912</td>\n",
              "      <td>1</td>\n",
              "    </tr>\n",
              "    <tr>\n",
              "      <th>890</th>\n",
              "      <td>千代田区</td>\n",
              "      <td>永田町</td>\n",
              "      <td>永田町２丁目</td>\n",
              "      <td>0.278043</td>\n",
              "      <td>0.427146</td>\n",
              "      <td>0.637925</td>\n",
              "      <td>5</td>\n",
              "      <td>0.699388</td>\n",
              "      <td>4</td>\n",
              "    </tr>\n",
              "    <tr>\n",
              "      <th>891</th>\n",
              "      <td>江東区</td>\n",
              "      <td>青海</td>\n",
              "      <td>青海１丁目</td>\n",
              "      <td>0.250451</td>\n",
              "      <td>0.409536</td>\n",
              "      <td>0.574889</td>\n",
              "      <td>1</td>\n",
              "      <td>0.574889</td>\n",
              "      <td>1</td>\n",
              "    </tr>\n",
              "    <tr>\n",
              "      <th>892</th>\n",
              "      <td>千代田区</td>\n",
              "      <td>一ツ橋</td>\n",
              "      <td>一ツ橋２丁目</td>\n",
              "      <td>0.229226</td>\n",
              "      <td>0.402372</td>\n",
              "      <td>0.698123</td>\n",
              "      <td>3</td>\n",
              "      <td>0.698123</td>\n",
              "      <td>6</td>\n",
              "    </tr>\n",
              "    <tr>\n",
              "      <th>893</th>\n",
              "      <td>足立区</td>\n",
              "      <td>舎人公園</td>\n",
              "      <td>舎人公園</td>\n",
              "      <td>0.203757</td>\n",
              "      <td>0.385519</td>\n",
              "      <td>0.833339</td>\n",
              "      <td>3</td>\n",
              "      <td>0.597991</td>\n",
              "      <td>10</td>\n",
              "    </tr>\n",
              "    <tr>\n",
              "      <th>894</th>\n",
              "      <td>千代田区</td>\n",
              "      <td>北の丸公園</td>\n",
              "      <td>北の丸公園</td>\n",
              "      <td>0.201634</td>\n",
              "      <td>0.382342</td>\n",
              "      <td>0.772584</td>\n",
              "      <td>6</td>\n",
              "      <td>0.882710</td>\n",
              "      <td>6</td>\n",
              "    </tr>\n",
              "    <tr>\n",
              "      <th>895</th>\n",
              "      <td>千代田区</td>\n",
              "      <td>有楽町</td>\n",
              "      <td>有楽町２丁目</td>\n",
              "      <td>0.180410</td>\n",
              "      <td>0.357865</td>\n",
              "      <td>0.616597</td>\n",
              "      <td>2</td>\n",
              "      <td>1.400482</td>\n",
              "      <td>4</td>\n",
              "    </tr>\n",
              "    <tr>\n",
              "      <th>896</th>\n",
              "      <td>千代田区</td>\n",
              "      <td>丸の内</td>\n",
              "      <td>丸の内３丁目</td>\n",
              "      <td>0.161307</td>\n",
              "      <td>0.338905</td>\n",
              "      <td>0.611528</td>\n",
              "      <td>1</td>\n",
              "      <td>1.570712</td>\n",
              "      <td>4</td>\n",
              "    </tr>\n",
              "    <tr>\n",
              "      <th>897</th>\n",
              "      <td>渋谷区</td>\n",
              "      <td>代々木神園町</td>\n",
              "      <td>代々木神園町</td>\n",
              "      <td>0.157063</td>\n",
              "      <td>0.336005</td>\n",
              "      <td>0.736296</td>\n",
              "      <td>7</td>\n",
              "      <td>1.492106</td>\n",
              "      <td>3</td>\n",
              "    </tr>\n",
              "    <tr>\n",
              "      <th>898</th>\n",
              "      <td>大田区</td>\n",
              "      <td>羽田空港</td>\n",
              "      <td>羽田空港１丁目</td>\n",
              "      <td>0.112491</td>\n",
              "      <td>0.257604</td>\n",
              "      <td>0.873644</td>\n",
              "      <td>2</td>\n",
              "      <td>1.319310</td>\n",
              "      <td>3</td>\n",
              "    </tr>\n",
              "    <tr>\n",
              "      <th>899</th>\n",
              "      <td>千代田区</td>\n",
              "      <td>霞が関</td>\n",
              "      <td>霞が関３丁目</td>\n",
              "      <td>0.099756</td>\n",
              "      <td>0.223335</td>\n",
              "      <td>1.001848</td>\n",
              "      <td>0</td>\n",
              "      <td>0.921741</td>\n",
              "      <td>3</td>\n",
              "    </tr>\n",
              "    <tr>\n",
              "      <th>900</th>\n",
              "      <td>千代田区</td>\n",
              "      <td>内幸町</td>\n",
              "      <td>内幸町２丁目</td>\n",
              "      <td>0.097633</td>\n",
              "      <td>0.218174</td>\n",
              "      <td>0.948419</td>\n",
              "      <td>1</td>\n",
              "      <td>1.354567</td>\n",
              "      <td>3</td>\n",
              "    </tr>\n",
              "    <tr>\n",
              "      <th>901</th>\n",
              "      <td>千代田区</td>\n",
              "      <td>千代田</td>\n",
              "      <td>千代田</td>\n",
              "      <td>0.093389</td>\n",
              "      <td>0.215030</td>\n",
              "      <td>0.984667</td>\n",
              "      <td>1</td>\n",
              "      <td>1.214039</td>\n",
              "      <td>3</td>\n",
              "    </tr>\n",
              "    <tr>\n",
              "      <th>902</th>\n",
              "      <td>江東区</td>\n",
              "      <td>夢の島</td>\n",
              "      <td>夢の島１丁目</td>\n",
              "      <td>0.089144</td>\n",
              "      <td>0.214585</td>\n",
              "      <td>0.957965</td>\n",
              "      <td>1</td>\n",
              "      <td>1.353142</td>\n",
              "      <td>3</td>\n",
              "    </tr>\n",
              "    <tr>\n",
              "      <th>903</th>\n",
              "      <td>品川区</td>\n",
              "      <td>東八潮</td>\n",
              "      <td>東八潮</td>\n",
              "      <td>0.078531</td>\n",
              "      <td>0.165224</td>\n",
              "      <td>1.098491</td>\n",
              "      <td>0</td>\n",
              "      <td>1.098491</td>\n",
              "      <td>2</td>\n",
              "    </tr>\n",
              "    <tr>\n",
              "      <th>904</th>\n",
              "      <td>大田区</td>\n",
              "      <td>京浜島</td>\n",
              "      <td>京浜島１丁目</td>\n",
              "      <td>0.074286</td>\n",
              "      <td>0.146129</td>\n",
              "      <td>1.093650</td>\n",
              "      <td>0</td>\n",
              "      <td>1.458263</td>\n",
              "      <td>3</td>\n",
              "    </tr>\n",
              "    <tr>\n",
              "      <th>905</th>\n",
              "      <td>大田区</td>\n",
              "      <td>東海</td>\n",
              "      <td>東海１丁目</td>\n",
              "      <td>0.072164</td>\n",
              "      <td>0.108623</td>\n",
              "      <td>1.199143</td>\n",
              "      <td>0</td>\n",
              "      <td>1.504265</td>\n",
              "      <td>4</td>\n",
              "    </tr>\n",
              "    <tr>\n",
              "      <th>906</th>\n",
              "      <td>千代田区</td>\n",
              "      <td>日比谷公園</td>\n",
              "      <td>日比谷公園</td>\n",
              "      <td>0.063674</td>\n",
              "      <td>0.080927</td>\n",
              "      <td>1.260174</td>\n",
              "      <td>0</td>\n",
              "      <td>1.664818</td>\n",
              "      <td>3</td>\n",
              "    </tr>\n",
              "    <tr>\n",
              "      <th>907</th>\n",
              "      <td>千代田区</td>\n",
              "      <td>皇居外苑</td>\n",
              "      <td>皇居外苑</td>\n",
              "      <td>0.057307</td>\n",
              "      <td>0.062968</td>\n",
              "      <td>1.284069</td>\n",
              "      <td>0</td>\n",
              "      <td>1.806775</td>\n",
              "      <td>2</td>\n",
              "    </tr>\n",
              "    <tr>\n",
              "      <th>908</th>\n",
              "      <td>江東区</td>\n",
              "      <td>新木場</td>\n",
              "      <td>新木場１丁目</td>\n",
              "      <td>0.053062</td>\n",
              "      <td>0.056058</td>\n",
              "      <td>1.705506</td>\n",
              "      <td>0</td>\n",
              "      <td>1.806329</td>\n",
              "      <td>1</td>\n",
              "    </tr>\n",
              "  </tbody>\n",
              "</table>\n",
              "</div>\n",
              "      <button class=\"colab-df-convert\" onclick=\"convertToInteractive('df-beb24e7f-e0c6-4203-8ef3-ccc34f9d0e2b')\"\n",
              "              title=\"Convert this dataframe to an interactive table.\"\n",
              "              style=\"display:none;\">\n",
              "        \n",
              "  <svg xmlns=\"http://www.w3.org/2000/svg\" height=\"24px\"viewBox=\"0 0 24 24\"\n",
              "       width=\"24px\">\n",
              "    <path d=\"M0 0h24v24H0V0z\" fill=\"none\"/>\n",
              "    <path d=\"M18.56 5.44l.94 2.06.94-2.06 2.06-.94-2.06-.94-.94-2.06-.94 2.06-2.06.94zm-11 1L8.5 8.5l.94-2.06 2.06-.94-2.06-.94L8.5 2.5l-.94 2.06-2.06.94zm10 10l.94 2.06.94-2.06 2.06-.94-2.06-.94-.94-2.06-.94 2.06-2.06.94z\"/><path d=\"M17.41 7.96l-1.37-1.37c-.4-.4-.92-.59-1.43-.59-.52 0-1.04.2-1.43.59L10.3 9.45l-7.72 7.72c-.78.78-.78 2.05 0 2.83L4 21.41c.39.39.9.59 1.41.59.51 0 1.02-.2 1.41-.59l7.78-7.78 2.81-2.81c.8-.78.8-2.07 0-2.86zM5.41 20L4 18.59l7.72-7.72 1.47 1.35L5.41 20z\"/>\n",
              "  </svg>\n",
              "      </button>\n",
              "      \n",
              "  <style>\n",
              "    .colab-df-container {\n",
              "      display:flex;\n",
              "      flex-wrap:wrap;\n",
              "      gap: 12px;\n",
              "    }\n",
              "\n",
              "    .colab-df-convert {\n",
              "      background-color: #E8F0FE;\n",
              "      border: none;\n",
              "      border-radius: 50%;\n",
              "      cursor: pointer;\n",
              "      display: none;\n",
              "      fill: #1967D2;\n",
              "      height: 32px;\n",
              "      padding: 0 0 0 0;\n",
              "      width: 32px;\n",
              "    }\n",
              "\n",
              "    .colab-df-convert:hover {\n",
              "      background-color: #E2EBFA;\n",
              "      box-shadow: 0px 1px 2px rgba(60, 64, 67, 0.3), 0px 1px 3px 1px rgba(60, 64, 67, 0.15);\n",
              "      fill: #174EA6;\n",
              "    }\n",
              "\n",
              "    [theme=dark] .colab-df-convert {\n",
              "      background-color: #3B4455;\n",
              "      fill: #D2E3FC;\n",
              "    }\n",
              "\n",
              "    [theme=dark] .colab-df-convert:hover {\n",
              "      background-color: #434B5C;\n",
              "      box-shadow: 0px 1px 3px 1px rgba(0, 0, 0, 0.15);\n",
              "      filter: drop-shadow(0px 1px 2px rgba(0, 0, 0, 0.3));\n",
              "      fill: #FFFFFF;\n",
              "    }\n",
              "  </style>\n",
              "\n",
              "      <script>\n",
              "        const buttonEl =\n",
              "          document.querySelector('#df-beb24e7f-e0c6-4203-8ef3-ccc34f9d0e2b button.colab-df-convert');\n",
              "        buttonEl.style.display =\n",
              "          google.colab.kernel.accessAllowed ? 'block' : 'none';\n",
              "\n",
              "        async function convertToInteractive(key) {\n",
              "          const element = document.querySelector('#df-beb24e7f-e0c6-4203-8ef3-ccc34f9d0e2b');\n",
              "          const dataTable =\n",
              "            await google.colab.kernel.invokeFunction('convertToInteractive',\n",
              "                                                     [key], {});\n",
              "          if (!dataTable) return;\n",
              "\n",
              "          const docLinkHtml = 'Like what you see? Visit the ' +\n",
              "            '<a target=\"_blank\" href=https://colab.research.google.com/notebooks/data_table.ipynb>data table notebook</a>'\n",
              "            + ' to learn more about interactive tables.';\n",
              "          element.innerHTML = '';\n",
              "          dataTable['output_type'] = 'display_data';\n",
              "          await google.colab.output.renderOutput(dataTable, element);\n",
              "          const docLink = document.createElement('div');\n",
              "          docLink.innerHTML = docLinkHtml;\n",
              "          element.appendChild(docLink);\n",
              "        }\n",
              "      </script>\n",
              "    </div>\n",
              "  </div>\n",
              "  "
            ]
          },
          "metadata": {},
          "execution_count": 29
        }
      ]
    },
    {
      "cell_type": "code",
      "source": [],
      "metadata": {
        "id": "bmkGzgWCfTLa"
      },
      "execution_count": 29,
      "outputs": []
    }
  ]
}