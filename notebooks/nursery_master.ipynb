{
  "nbformat": 4,
  "nbformat_minor": 0,
  "metadata": {
    "colab": {
      "provenance": [],
      "authorship_tag": "ABX9TyM6zVhnAlmHuEV5GR5xg7Gs",
      "include_colab_link": true
    },
    "kernelspec": {
      "name": "python3",
      "display_name": "Python 3"
    },
    "language_info": {
      "name": "python"
    }
  },
  "cells": [
    {
      "cell_type": "markdown",
      "metadata": {
        "id": "view-in-github",
        "colab_type": "text"
      },
      "source": [
        "<a href=\"https://colab.research.google.com/github/z-gard/analysis/blob/main/notebooks/nursery_master.ipynb\" target=\"_parent\"><img src=\"https://colab.research.google.com/assets/colab-badge.svg\" alt=\"Open In Colab\"/></a>"
      ]
    },
    {
      "cell_type": "markdown",
      "source": [
        "# 保育所\n",
        "- [（認可）保育所](https://catalog.data.metro.tokyo.lg.jp/dataset/t000010d0000000099/resource/f3a1b2c5-a037-4627-9166-2a4863bf3bd9)\n",
        "- [児童館](https://catalog.data.metro.tokyo.lg.jp/dataset/t000010d0000000099/resource/ef6db4bc-966b-48cd-88ac-5922d413ad0b)"
      ],
      "metadata": {
        "id": "bWg52QgHvf21"
      }
    },
    {
      "cell_type": "code",
      "source": [
        "!pip install -q japanize-matplotlib"
      ],
      "metadata": {
        "id": "qy5bYwoLzJee"
      },
      "execution_count": 1,
      "outputs": []
    },
    {
      "cell_type": "code",
      "execution_count": 2,
      "metadata": {
        "colab": {
          "base_uri": "https://localhost:8080/"
        },
        "id": "W_Ys4ZQDvYjK",
        "outputId": "8d04eff9-d324-4927-8a68-172b8b4c2f36"
      },
      "outputs": [
        {
          "output_type": "stream",
          "name": "stdout",
          "text": [
            "Drive already mounted at /content/drive; to attempt to forcibly remount, call drive.mount(\"/content/drive\", force_remount=True).\n"
          ]
        }
      ],
      "source": [
        "from google.colab import drive\n",
        "drive.mount('/content/drive')"
      ]
    },
    {
      "cell_type": "code",
      "source": [
        "import os\n",
        "import requests\n",
        "import json\n",
        "import pandas as pd\n",
        "from urllib.parse import urlparse, quote\n",
        "import io\n",
        "import math\n",
        "import numpy as np\n",
        "import matplotlib.pyplot as plt\n",
        "import japanize_matplotlib\n",
        "import seaborn as sns\n",
        "\n",
        "pd.set_option('display.max_columns', 50)\n",
        "pd.set_option('display.max_rows', 100)"
      ],
      "metadata": {
        "id": "QBjzumCZvuOS"
      },
      "execution_count": 3,
      "outputs": []
    },
    {
      "cell_type": "code",
      "source": [
        "DIR_NAME = '/content/drive/MyDrive/z-gard/data'"
      ],
      "metadata": {
        "id": "O93oCOcLv9Hr"
      },
      "execution_count": 4,
      "outputs": []
    },
    {
      "cell_type": "code",
      "source": [
        "output_master_file = 'nursery_master.csv'\n",
        "output_score_file = 'nursery_score.csv'"
      ],
      "metadata": {
        "id": "WNNN4Poqc7Nz"
      },
      "execution_count": 5,
      "outputs": []
    },
    {
      "cell_type": "code",
      "source": [
        "def get_data_csv_url(url, encoding='utf-8', excel=False):\n",
        "    res = requests.get(url)\n",
        "    if res.status_code == 200:\n",
        "        if not excel:\n",
        "            return pd.read_csv(io.BytesIO(res.content), encoding=encoding)\n",
        "        else:\n",
        "            return pd.read_excel(io.BytesIO(res.content))\n",
        "    else:\n",
        "        raise Exception(f'status_code: {res.status_code} ({url})')"
      ],
      "metadata": {
        "id": "QCgFNfNawAtL"
      },
      "execution_count": 6,
      "outputs": []
    },
    {
      "cell_type": "markdown",
      "source": [
        "### 保育所"
      ],
      "metadata": {
        "id": "-VjRZle1YqAk"
      }
    },
    {
      "cell_type": "code",
      "source": [
        "nursery_url = 'https://www.opendata.metro.tokyo.lg.jp/fukushihoken/R3/202110-2-1-hoikusyo.csv'\n",
        "df_nursery = get_data_csv_url(nursery_url, encoding='shift-jis')\n",
        "print(df_nursery.shape)"
      ],
      "metadata": {
        "colab": {
          "base_uri": "https://localhost:8080/"
        },
        "id": "NrHr4nBzvzMT",
        "outputId": "a8652687-4775-4fe7-9141-9be881f33802"
      },
      "execution_count": 7,
      "outputs": [
        {
          "output_type": "stream",
          "name": "stdout",
          "text": [
            "(3431, 9)\n"
          ]
        }
      ]
    },
    {
      "cell_type": "code",
      "source": [
        "df_nursery['市区町村名'] = df_nursery['所在地'].str.extract('(^.*?[区市])', expand=False)\n",
        "df_nursery['施設分類'] = '認可保育所'\n",
        "\n",
        "df_nursery_master = df_nursery[\n",
        "    (df_nursery['市区町村名'].notna())&\n",
        "    (df_nursery['市区町村名'].str.endswith('区'))&\n",
        "    (df_nursery['市区町村名'].str.len() < 5)\n",
        "][['市区町村名', '施設分類', '設置', '施設名', '所在地', '緯度', '経度', '定員']].rename(columns={'施設名':'名称'}).reset_index(drop=True)\n",
        "print(df_nursery_master.shape)\n",
        "\n",
        "assert df_nursery_master['市区町村名'].nunique() == 23"
      ],
      "metadata": {
        "colab": {
          "base_uri": "https://localhost:8080/"
        },
        "id": "bWNCBTG6xXzZ",
        "outputId": "e30e0721-05c5-4578-daa6-315c4e34c7de"
      },
      "execution_count": 8,
      "outputs": [
        {
          "output_type": "stream",
          "name": "stdout",
          "text": [
            "(2526, 8)\n"
          ]
        }
      ]
    },
    {
      "cell_type": "markdown",
      "source": [
        "### 児童館"
      ],
      "metadata": {
        "id": "ZnBnbKZTYsjD"
      }
    },
    {
      "cell_type": "code",
      "source": [
        "childrenhouse_url = 'https://www.opendata.metro.tokyo.lg.jp/fukushihoken/R3/202110-2-2-06-zidoukan.csv'\n",
        "df_childrenhouse = get_data_csv_url(childrenhouse_url, encoding='shift-jis')\n",
        "print(df_childrenhouse.shape)"
      ],
      "metadata": {
        "id": "gV5w2EJ8Yoyn",
        "outputId": "e1eaabe7-b61f-462b-e303-290f6c11a845",
        "colab": {
          "base_uri": "https://localhost:8080/"
        }
      },
      "execution_count": 9,
      "outputs": [
        {
          "output_type": "stream",
          "name": "stdout",
          "text": [
            "(587, 9)\n"
          ]
        }
      ]
    },
    {
      "cell_type": "code",
      "source": [
        "df_childrenhouse['市区町村名'] = df_childrenhouse['所在地'].str.extract('(^.*?[区市])', expand=False)\n",
        "df_childrenhouse['施設分類'] = '児童館'\n",
        "\n",
        "df_childrenhouse_master = df_childrenhouse[\n",
        "    (df_childrenhouse['市区町村名'].notna())&\n",
        "    (df_childrenhouse['市区町村名'].str.endswith('区'))&\n",
        "    (df_childrenhouse['市区町村名'].str.len() < 5)\n",
        "][['市区町村名', '施設分類', '設置', '施設名', '所在地', '緯度', '経度']].rename(columns={'施設名':'名称'}).reset_index(drop=True)\n",
        "print(df_childrenhouse_master.shape)\n",
        "\n",
        "assert df_childrenhouse_master['市区町村名'].nunique() == 23"
      ],
      "metadata": {
        "id": "oSuRSntUZW7A",
        "outputId": "1c9f47b5-1135-4a08-f3c3-ff7df3865103",
        "colab": {
          "base_uri": "https://localhost:8080/"
        }
      },
      "execution_count": 10,
      "outputs": [
        {
          "output_type": "stream",
          "name": "stdout",
          "text": [
            "(439, 7)\n"
          ]
        }
      ]
    },
    {
      "cell_type": "markdown",
      "source": [
        "### 保育所マスタ"
      ],
      "metadata": {
        "id": "nQe-fCj8Yw8h"
      }
    },
    {
      "cell_type": "code",
      "source": [
        "df_nursery_master = pd.concat([df_nursery_master, df_childrenhouse_master]).reset_index(drop=True)\n",
        "print(df_nursery_master.shape)"
      ],
      "metadata": {
        "id": "bytUJN_jaHqM",
        "outputId": "b617ed81-2d9c-4913-a6b8-4ee054996312",
        "colab": {
          "base_uri": "https://localhost:8080/"
        }
      },
      "execution_count": 11,
      "outputs": [
        {
          "output_type": "stream",
          "name": "stdout",
          "text": [
            "(2965, 8)\n"
          ]
        }
      ]
    },
    {
      "cell_type": "code",
      "source": [
        "df_nursery_master.to_csv(os.path.join(DIR_NAME, output_master_file), index=False)"
      ],
      "metadata": {
        "id": "aM8avA2Pztsf"
      },
      "execution_count": 12,
      "outputs": []
    },
    {
      "cell_type": "code",
      "source": [
        "df_nursery_master"
      ],
      "metadata": {
        "id": "TmEsjiRlbP84",
        "outputId": "e7ffdc89-eee1-461e-de1b-0ce7cf4116df",
        "colab": {
          "base_uri": "https://localhost:8080/",
          "height": 424
        }
      },
      "execution_count": 13,
      "outputs": [
        {
          "output_type": "execute_result",
          "data": {
            "text/plain": [
              "     市区町村名   施設分類    設置          名称                     所在地        緯度  \\\n",
              "0     千代田区  認可保育所  営利法人  ほっぺるランド外神田            千代田区外神田４−８−６  35.70233   \n",
              "1     千代田区  認可保育所  社福法人  外神田かなりや保育園           千代田区外神田３−６−１３  35.70255   \n",
              "2     千代田区  認可保育所  区市町村     いずみこども園              千代田区神田和泉町１  35.69919   \n",
              "3     千代田区  認可保育所  営利法人    あい保育園東神田  千代田区東神田２−６−５　東神田ビル２・３階  35.69564   \n",
              "4     千代田区  認可保育所  社福法人   岩本町ちとせ保育園          千代田区岩本町２−１０−１２  35.69344   \n",
              "...    ...    ...   ...         ...                     ...       ...   \n",
              "2960  江戸川区    児童館  区市町村     共育プラザ平井            江戸川区平井７−２１−６  35.71465   \n",
              "2961  江戸川区    児童館  区市町村     共育プラザ小岩          江戸川区北小岩２−１４−１７  35.73995   \n",
              "2962  江戸川区    児童館  区市町村    共育プラザ南小岩            江戸川区南小岩４−５−８  35.72095   \n",
              "2963  江戸川区    児童館  区市町村    共育プラザ南篠崎          江戸川区南篠崎町３−１２−８  35.69662   \n",
              "2964  江戸川区    児童館  区市町村     共育プラザ葛西             江戸川区宇喜田町１７５  35.67343   \n",
              "\n",
              "             経度    定員  \n",
              "0     139.77260  87.0  \n",
              "1     139.76976  50.0  \n",
              "2     139.77597  36.0  \n",
              "3     139.78027  63.0  \n",
              "4     139.77722  69.0  \n",
              "...         ...   ...  \n",
              "2960  139.84042   NaN  \n",
              "2961  139.88454   NaN  \n",
              "2962  139.88564   NaN  \n",
              "2963  139.89914   NaN  \n",
              "2964  139.86150   NaN  \n",
              "\n",
              "[2965 rows x 8 columns]"
            ],
            "text/html": [
              "\n",
              "  <div id=\"df-d8b7fc12-3704-4d88-aec8-9050434d1179\">\n",
              "    <div class=\"colab-df-container\">\n",
              "      <div>\n",
              "<style scoped>\n",
              "    .dataframe tbody tr th:only-of-type {\n",
              "        vertical-align: middle;\n",
              "    }\n",
              "\n",
              "    .dataframe tbody tr th {\n",
              "        vertical-align: top;\n",
              "    }\n",
              "\n",
              "    .dataframe thead th {\n",
              "        text-align: right;\n",
              "    }\n",
              "</style>\n",
              "<table border=\"1\" class=\"dataframe\">\n",
              "  <thead>\n",
              "    <tr style=\"text-align: right;\">\n",
              "      <th></th>\n",
              "      <th>市区町村名</th>\n",
              "      <th>施設分類</th>\n",
              "      <th>設置</th>\n",
              "      <th>名称</th>\n",
              "      <th>所在地</th>\n",
              "      <th>緯度</th>\n",
              "      <th>経度</th>\n",
              "      <th>定員</th>\n",
              "    </tr>\n",
              "  </thead>\n",
              "  <tbody>\n",
              "    <tr>\n",
              "      <th>0</th>\n",
              "      <td>千代田区</td>\n",
              "      <td>認可保育所</td>\n",
              "      <td>営利法人</td>\n",
              "      <td>ほっぺるランド外神田</td>\n",
              "      <td>千代田区外神田４−８−６</td>\n",
              "      <td>35.70233</td>\n",
              "      <td>139.77260</td>\n",
              "      <td>87.0</td>\n",
              "    </tr>\n",
              "    <tr>\n",
              "      <th>1</th>\n",
              "      <td>千代田区</td>\n",
              "      <td>認可保育所</td>\n",
              "      <td>社福法人</td>\n",
              "      <td>外神田かなりや保育園</td>\n",
              "      <td>千代田区外神田３−６−１３</td>\n",
              "      <td>35.70255</td>\n",
              "      <td>139.76976</td>\n",
              "      <td>50.0</td>\n",
              "    </tr>\n",
              "    <tr>\n",
              "      <th>2</th>\n",
              "      <td>千代田区</td>\n",
              "      <td>認可保育所</td>\n",
              "      <td>区市町村</td>\n",
              "      <td>いずみこども園</td>\n",
              "      <td>千代田区神田和泉町１</td>\n",
              "      <td>35.69919</td>\n",
              "      <td>139.77597</td>\n",
              "      <td>36.0</td>\n",
              "    </tr>\n",
              "    <tr>\n",
              "      <th>3</th>\n",
              "      <td>千代田区</td>\n",
              "      <td>認可保育所</td>\n",
              "      <td>営利法人</td>\n",
              "      <td>あい保育園東神田</td>\n",
              "      <td>千代田区東神田２−６−５　東神田ビル２・３階</td>\n",
              "      <td>35.69564</td>\n",
              "      <td>139.78027</td>\n",
              "      <td>63.0</td>\n",
              "    </tr>\n",
              "    <tr>\n",
              "      <th>4</th>\n",
              "      <td>千代田区</td>\n",
              "      <td>認可保育所</td>\n",
              "      <td>社福法人</td>\n",
              "      <td>岩本町ちとせ保育園</td>\n",
              "      <td>千代田区岩本町２−１０−１２</td>\n",
              "      <td>35.69344</td>\n",
              "      <td>139.77722</td>\n",
              "      <td>69.0</td>\n",
              "    </tr>\n",
              "    <tr>\n",
              "      <th>...</th>\n",
              "      <td>...</td>\n",
              "      <td>...</td>\n",
              "      <td>...</td>\n",
              "      <td>...</td>\n",
              "      <td>...</td>\n",
              "      <td>...</td>\n",
              "      <td>...</td>\n",
              "      <td>...</td>\n",
              "    </tr>\n",
              "    <tr>\n",
              "      <th>2960</th>\n",
              "      <td>江戸川区</td>\n",
              "      <td>児童館</td>\n",
              "      <td>区市町村</td>\n",
              "      <td>共育プラザ平井</td>\n",
              "      <td>江戸川区平井７−２１−６</td>\n",
              "      <td>35.71465</td>\n",
              "      <td>139.84042</td>\n",
              "      <td>NaN</td>\n",
              "    </tr>\n",
              "    <tr>\n",
              "      <th>2961</th>\n",
              "      <td>江戸川区</td>\n",
              "      <td>児童館</td>\n",
              "      <td>区市町村</td>\n",
              "      <td>共育プラザ小岩</td>\n",
              "      <td>江戸川区北小岩２−１４−１７</td>\n",
              "      <td>35.73995</td>\n",
              "      <td>139.88454</td>\n",
              "      <td>NaN</td>\n",
              "    </tr>\n",
              "    <tr>\n",
              "      <th>2962</th>\n",
              "      <td>江戸川区</td>\n",
              "      <td>児童館</td>\n",
              "      <td>区市町村</td>\n",
              "      <td>共育プラザ南小岩</td>\n",
              "      <td>江戸川区南小岩４−５−８</td>\n",
              "      <td>35.72095</td>\n",
              "      <td>139.88564</td>\n",
              "      <td>NaN</td>\n",
              "    </tr>\n",
              "    <tr>\n",
              "      <th>2963</th>\n",
              "      <td>江戸川区</td>\n",
              "      <td>児童館</td>\n",
              "      <td>区市町村</td>\n",
              "      <td>共育プラザ南篠崎</td>\n",
              "      <td>江戸川区南篠崎町３−１２−８</td>\n",
              "      <td>35.69662</td>\n",
              "      <td>139.89914</td>\n",
              "      <td>NaN</td>\n",
              "    </tr>\n",
              "    <tr>\n",
              "      <th>2964</th>\n",
              "      <td>江戸川区</td>\n",
              "      <td>児童館</td>\n",
              "      <td>区市町村</td>\n",
              "      <td>共育プラザ葛西</td>\n",
              "      <td>江戸川区宇喜田町１７５</td>\n",
              "      <td>35.67343</td>\n",
              "      <td>139.86150</td>\n",
              "      <td>NaN</td>\n",
              "    </tr>\n",
              "  </tbody>\n",
              "</table>\n",
              "<p>2965 rows × 8 columns</p>\n",
              "</div>\n",
              "      <button class=\"colab-df-convert\" onclick=\"convertToInteractive('df-d8b7fc12-3704-4d88-aec8-9050434d1179')\"\n",
              "              title=\"Convert this dataframe to an interactive table.\"\n",
              "              style=\"display:none;\">\n",
              "        \n",
              "  <svg xmlns=\"http://www.w3.org/2000/svg\" height=\"24px\"viewBox=\"0 0 24 24\"\n",
              "       width=\"24px\">\n",
              "    <path d=\"M0 0h24v24H0V0z\" fill=\"none\"/>\n",
              "    <path d=\"M18.56 5.44l.94 2.06.94-2.06 2.06-.94-2.06-.94-.94-2.06-.94 2.06-2.06.94zm-11 1L8.5 8.5l.94-2.06 2.06-.94-2.06-.94L8.5 2.5l-.94 2.06-2.06.94zm10 10l.94 2.06.94-2.06 2.06-.94-2.06-.94-.94-2.06-.94 2.06-2.06.94z\"/><path d=\"M17.41 7.96l-1.37-1.37c-.4-.4-.92-.59-1.43-.59-.52 0-1.04.2-1.43.59L10.3 9.45l-7.72 7.72c-.78.78-.78 2.05 0 2.83L4 21.41c.39.39.9.59 1.41.59.51 0 1.02-.2 1.41-.59l7.78-7.78 2.81-2.81c.8-.78.8-2.07 0-2.86zM5.41 20L4 18.59l7.72-7.72 1.47 1.35L5.41 20z\"/>\n",
              "  </svg>\n",
              "      </button>\n",
              "      \n",
              "  <style>\n",
              "    .colab-df-container {\n",
              "      display:flex;\n",
              "      flex-wrap:wrap;\n",
              "      gap: 12px;\n",
              "    }\n",
              "\n",
              "    .colab-df-convert {\n",
              "      background-color: #E8F0FE;\n",
              "      border: none;\n",
              "      border-radius: 50%;\n",
              "      cursor: pointer;\n",
              "      display: none;\n",
              "      fill: #1967D2;\n",
              "      height: 32px;\n",
              "      padding: 0 0 0 0;\n",
              "      width: 32px;\n",
              "    }\n",
              "\n",
              "    .colab-df-convert:hover {\n",
              "      background-color: #E2EBFA;\n",
              "      box-shadow: 0px 1px 2px rgba(60, 64, 67, 0.3), 0px 1px 3px 1px rgba(60, 64, 67, 0.15);\n",
              "      fill: #174EA6;\n",
              "    }\n",
              "\n",
              "    [theme=dark] .colab-df-convert {\n",
              "      background-color: #3B4455;\n",
              "      fill: #D2E3FC;\n",
              "    }\n",
              "\n",
              "    [theme=dark] .colab-df-convert:hover {\n",
              "      background-color: #434B5C;\n",
              "      box-shadow: 0px 1px 3px 1px rgba(0, 0, 0, 0.15);\n",
              "      filter: drop-shadow(0px 1px 2px rgba(0, 0, 0, 0.3));\n",
              "      fill: #FFFFFF;\n",
              "    }\n",
              "  </style>\n",
              "\n",
              "      <script>\n",
              "        const buttonEl =\n",
              "          document.querySelector('#df-d8b7fc12-3704-4d88-aec8-9050434d1179 button.colab-df-convert');\n",
              "        buttonEl.style.display =\n",
              "          google.colab.kernel.accessAllowed ? 'block' : 'none';\n",
              "\n",
              "        async function convertToInteractive(key) {\n",
              "          const element = document.querySelector('#df-d8b7fc12-3704-4d88-aec8-9050434d1179');\n",
              "          const dataTable =\n",
              "            await google.colab.kernel.invokeFunction('convertToInteractive',\n",
              "                                                     [key], {});\n",
              "          if (!dataTable) return;\n",
              "\n",
              "          const docLinkHtml = 'Like what you see? Visit the ' +\n",
              "            '<a target=\"_blank\" href=https://colab.research.google.com/notebooks/data_table.ipynb>data table notebook</a>'\n",
              "            + ' to learn more about interactive tables.';\n",
              "          element.innerHTML = '';\n",
              "          dataTable['output_type'] = 'display_data';\n",
              "          await google.colab.output.renderOutput(dataTable, element);\n",
              "          const docLink = document.createElement('div');\n",
              "          docLink.innerHTML = docLinkHtml;\n",
              "          element.appendChild(docLink);\n",
              "        }\n",
              "      </script>\n",
              "    </div>\n",
              "  </div>\n",
              "  "
            ]
          },
          "metadata": {},
          "execution_count": 13
        }
      ]
    },
    {
      "cell_type": "code",
      "source": [
        "plt.figure(figsize=(15, 5))\n",
        "sns.histplot(df_nursery_master, x='市区町村名', hue='施設分類', multiple='stack')\n",
        "plt.show()"
      ],
      "metadata": {
        "colab": {
          "base_uri": "https://localhost:8080/",
          "height": 333
        },
        "id": "rCgDh5Vtw10S",
        "outputId": "bbe429e1-6924-4f6d-da7f-bd8d2eed1176"
      },
      "execution_count": 14,
      "outputs": [
        {
          "output_type": "display_data",
          "data": {
            "text/plain": [
              "<Figure size 1080x360 with 1 Axes>"
            ],
            "image/png": "[encoded data removed]"
          },
          "metadata": {
            "needs_background": "light"
          }
        }
      ]
    },
    {
      "cell_type": "markdown",
      "source": [
        "### 人口マスタ"
      ],
      "metadata": {
        "id": "AlqD8mNcz8wX"
      }
    },
    {
      "cell_type": "code",
      "source": [
        "df_pop_master = pd.read_csv(os.path.join(DIR_NAME, 'population_master.csv'))[['地域ID', '市区町村名', '町名', '町丁目', '緯度', '経度', '0〜4歳（人）', '5〜9歳（人）']]\n",
        "df_pop_master['子供人数'] = df_pop_master['0〜4歳（人）'] + df_pop_master['5〜9歳（人）']\n",
        "print(df_pop_master.shape)"
      ],
      "metadata": {
        "colab": {
          "base_uri": "https://localhost:8080/"
        },
        "id": "u6_REO5iw4U-",
        "outputId": "d1876ec4-9142-4473-ab99-f0739e2d98fc"
      },
      "execution_count": 15,
      "outputs": [
        {
          "output_type": "stream",
          "name": "stdout",
          "text": [
            "(3145, 9)\n"
          ]
        }
      ]
    },
    {
      "cell_type": "code",
      "source": [
        "df_pop_master[1000:1010]"
      ],
      "metadata": {
        "id": "a-guGmIAg2SH",
        "outputId": "34d288d7-201c-4cb9-c614-8d4eca9b4360",
        "colab": {
          "base_uri": "https://localhost:8080/",
          "height": 363
        }
      },
      "execution_count": 16,
      "outputs": [
        {
          "output_type": "execute_result",
          "data": {
            "text/plain": [
              "        地域ID 市区町村名  町名    町丁目         緯度          経度  0〜4歳（人）  5〜9歳（人）  子供人数\n",
              "1000  109098   品川区  小山  小山７丁目  35.610531  139.697211       43       46    89\n",
              "1001  109100   品川区  荏原  荏原１丁目  35.620000  139.713758       95       99   194\n",
              "1002  109101   品川区  荏原  荏原２丁目  35.618353  139.710863       92      111   203\n",
              "1003  109102   品川区  荏原  荏原３丁目  35.617980  139.707414      106       69   175\n",
              "1004  109103   品川区  荏原  荏原４丁目  35.615629  139.706990      173      120   293\n",
              "1005  109104   品川区  荏原  荏原５丁目  35.614516  139.703017      121       97   218\n",
              "1006  109105   品川区  荏原  荏原６丁目  35.612208  139.704202      155      155   310\n",
              "1007  109106   品川区  荏原  荏原７丁目  35.611072  139.700349      121      126   247\n",
              "1008  109108   品川区  平塚  平塚１丁目  35.614842  139.715565      118       82   200\n",
              "1009  109109   品川区  平塚  平塚２丁目  35.616792  139.713765      151      113   264"
            ],
            "text/html": [
              "\n",
              "  <div id=\"df-e8e4a72c-5623-48b1-84d6-ad48abf0a737\">\n",
              "    <div class=\"colab-df-container\">\n",
              "      <div>\n",
              "<style scoped>\n",
              "    .dataframe tbody tr th:only-of-type {\n",
              "        vertical-align: middle;\n",
              "    }\n",
              "\n",
              "    .dataframe tbody tr th {\n",
              "        vertical-align: top;\n",
              "    }\n",
              "\n",
              "    .dataframe thead th {\n",
              "        text-align: right;\n",
              "    }\n",
              "</style>\n",
              "<table border=\"1\" class=\"dataframe\">\n",
              "  <thead>\n",
              "    <tr style=\"text-align: right;\">\n",
              "      <th></th>\n",
              "      <th>地域ID</th>\n",
              "      <th>市区町村名</th>\n",
              "      <th>町名</th>\n",
              "      <th>町丁目</th>\n",
              "      <th>緯度</th>\n",
              "      <th>経度</th>\n",
              "      <th>0〜4歳（人）</th>\n",
              "      <th>5〜9歳（人）</th>\n",
              "      <th>子供人数</th>\n",
              "    </tr>\n",
              "  </thead>\n",
              "  <tbody>\n",
              "    <tr>\n",
              "      <th>1000</th>\n",
              "      <td>109098</td>\n",
              "      <td>品川区</td>\n",
              "      <td>小山</td>\n",
              "      <td>小山７丁目</td>\n",
              "      <td>35.610531</td>\n",
              "      <td>139.697211</td>\n",
              "      <td>43</td>\n",
              "      <td>46</td>\n",
              "      <td>89</td>\n",
              "    </tr>\n",
              "    <tr>\n",
              "      <th>1001</th>\n",
              "      <td>109100</td>\n",
              "      <td>品川区</td>\n",
              "      <td>荏原</td>\n",
              "      <td>荏原１丁目</td>\n",
              "      <td>35.620000</td>\n",
              "      <td>139.713758</td>\n",
              "      <td>95</td>\n",
              "      <td>99</td>\n",
              "      <td>194</td>\n",
              "    </tr>\n",
              "    <tr>\n",
              "      <th>1002</th>\n",
              "      <td>109101</td>\n",
              "      <td>品川区</td>\n",
              "      <td>荏原</td>\n",
              "      <td>荏原２丁目</td>\n",
              "      <td>35.618353</td>\n",
              "      <td>139.710863</td>\n",
              "      <td>92</td>\n",
              "      <td>111</td>\n",
              "      <td>203</td>\n",
              "    </tr>\n",
              "    <tr>\n",
              "      <th>1003</th>\n",
              "      <td>109102</td>\n",
              "      <td>品川区</td>\n",
              "      <td>荏原</td>\n",
              "      <td>荏原３丁目</td>\n",
              "      <td>35.617980</td>\n",
              "      <td>139.707414</td>\n",
              "      <td>106</td>\n",
              "      <td>69</td>\n",
              "      <td>175</td>\n",
              "    </tr>\n",
              "    <tr>\n",
              "      <th>1004</th>\n",
              "      <td>109103</td>\n",
              "      <td>品川区</td>\n",
              "      <td>荏原</td>\n",
              "      <td>荏原４丁目</td>\n",
              "      <td>35.615629</td>\n",
              "      <td>139.706990</td>\n",
              "      <td>173</td>\n",
              "      <td>120</td>\n",
              "      <td>293</td>\n",
              "    </tr>\n",
              "    <tr>\n",
              "      <th>1005</th>\n",
              "      <td>109104</td>\n",
              "      <td>品川区</td>\n",
              "      <td>荏原</td>\n",
              "      <td>荏原５丁目</td>\n",
              "      <td>35.614516</td>\n",
              "      <td>139.703017</td>\n",
              "      <td>121</td>\n",
              "      <td>97</td>\n",
              "      <td>218</td>\n",
              "    </tr>\n",
              "    <tr>\n",
              "      <th>1006</th>\n",
              "      <td>109105</td>\n",
              "      <td>品川区</td>\n",
              "      <td>荏原</td>\n",
              "      <td>荏原６丁目</td>\n",
              "      <td>35.612208</td>\n",
              "      <td>139.704202</td>\n",
              "      <td>155</td>\n",
              "      <td>155</td>\n",
              "      <td>310</td>\n",
              "    </tr>\n",
              "    <tr>\n",
              "      <th>1007</th>\n",
              "      <td>109106</td>\n",
              "      <td>品川区</td>\n",
              "      <td>荏原</td>\n",
              "      <td>荏原７丁目</td>\n",
              "      <td>35.611072</td>\n",
              "      <td>139.700349</td>\n",
              "      <td>121</td>\n",
              "      <td>126</td>\n",
              "      <td>247</td>\n",
              "    </tr>\n",
              "    <tr>\n",
              "      <th>1008</th>\n",
              "      <td>109108</td>\n",
              "      <td>品川区</td>\n",
              "      <td>平塚</td>\n",
              "      <td>平塚１丁目</td>\n",
              "      <td>35.614842</td>\n",
              "      <td>139.715565</td>\n",
              "      <td>118</td>\n",
              "      <td>82</td>\n",
              "      <td>200</td>\n",
              "    </tr>\n",
              "    <tr>\n",
              "      <th>1009</th>\n",
              "      <td>109109</td>\n",
              "      <td>品川区</td>\n",
              "      <td>平塚</td>\n",
              "      <td>平塚２丁目</td>\n",
              "      <td>35.616792</td>\n",
              "      <td>139.713765</td>\n",
              "      <td>151</td>\n",
              "      <td>113</td>\n",
              "      <td>264</td>\n",
              "    </tr>\n",
              "  </tbody>\n",
              "</table>\n",
              "</div>\n",
              "      <button class=\"colab-df-convert\" onclick=\"convertToInteractive('df-e8e4a72c-5623-48b1-84d6-ad48abf0a737')\"\n",
              "              title=\"Convert this dataframe to an interactive table.\"\n",
              "              style=\"display:none;\">\n",
              "        \n",
              "  <svg xmlns=\"http://www.w3.org/2000/svg\" height=\"24px\"viewBox=\"0 0 24 24\"\n",
              "       width=\"24px\">\n",
              "    <path d=\"M0 0h24v24H0V0z\" fill=\"none\"/>\n",
              "    <path d=\"M18.56 5.44l.94 2.06.94-2.06 2.06-.94-2.06-.94-.94-2.06-.94 2.06-2.06.94zm-11 1L8.5 8.5l.94-2.06 2.06-.94-2.06-.94L8.5 2.5l-.94 2.06-2.06.94zm10 10l.94 2.06.94-2.06 2.06-.94-2.06-.94-.94-2.06-.94 2.06-2.06.94z\"/><path d=\"M17.41 7.96l-1.37-1.37c-.4-.4-.92-.59-1.43-.59-.52 0-1.04.2-1.43.59L10.3 9.45l-7.72 7.72c-.78.78-.78 2.05 0 2.83L4 21.41c.39.39.9.59 1.41.59.51 0 1.02-.2 1.41-.59l7.78-7.78 2.81-2.81c.8-.78.8-2.07 0-2.86zM5.41 20L4 18.59l7.72-7.72 1.47 1.35L5.41 20z\"/>\n",
              "  </svg>\n",
              "      </button>\n",
              "      \n",
              "  <style>\n",
              "    .colab-df-container {\n",
              "      display:flex;\n",
              "      flex-wrap:wrap;\n",
              "      gap: 12px;\n",
              "    }\n",
              "\n",
              "    .colab-df-convert {\n",
              "      background-color: #E8F0FE;\n",
              "      border: none;\n",
              "      border-radius: 50%;\n",
              "      cursor: pointer;\n",
              "      display: none;\n",
              "      fill: #1967D2;\n",
              "      height: 32px;\n",
              "      padding: 0 0 0 0;\n",
              "      width: 32px;\n",
              "    }\n",
              "\n",
              "    .colab-df-convert:hover {\n",
              "      background-color: #E2EBFA;\n",
              "      box-shadow: 0px 1px 2px rgba(60, 64, 67, 0.3), 0px 1px 3px 1px rgba(60, 64, 67, 0.15);\n",
              "      fill: #174EA6;\n",
              "    }\n",
              "\n",
              "    [theme=dark] .colab-df-convert {\n",
              "      background-color: #3B4455;\n",
              "      fill: #D2E3FC;\n",
              "    }\n",
              "\n",
              "    [theme=dark] .colab-df-convert:hover {\n",
              "      background-color: #434B5C;\n",
              "      box-shadow: 0px 1px 3px 1px rgba(0, 0, 0, 0.15);\n",
              "      filter: drop-shadow(0px 1px 2px rgba(0, 0, 0, 0.3));\n",
              "      fill: #FFFFFF;\n",
              "    }\n",
              "  </style>\n",
              "\n",
              "      <script>\n",
              "        const buttonEl =\n",
              "          document.querySelector('#df-e8e4a72c-5623-48b1-84d6-ad48abf0a737 button.colab-df-convert');\n",
              "        buttonEl.style.display =\n",
              "          google.colab.kernel.accessAllowed ? 'block' : 'none';\n",
              "\n",
              "        async function convertToInteractive(key) {\n",
              "          const element = document.querySelector('#df-e8e4a72c-5623-48b1-84d6-ad48abf0a737');\n",
              "          const dataTable =\n",
              "            await google.colab.kernel.invokeFunction('convertToInteractive',\n",
              "                                                     [key], {});\n",
              "          if (!dataTable) return;\n",
              "\n",
              "          const docLinkHtml = 'Like what you see? Visit the ' +\n",
              "            '<a target=\"_blank\" href=https://colab.research.google.com/notebooks/data_table.ipynb>data table notebook</a>'\n",
              "            + ' to learn more about interactive tables.';\n",
              "          element.innerHTML = '';\n",
              "          dataTable['output_type'] = 'display_data';\n",
              "          await google.colab.output.renderOutput(dataTable, element);\n",
              "          const docLink = document.createElement('div');\n",
              "          docLink.innerHTML = docLinkHtml;\n",
              "          element.appendChild(docLink);\n",
              "        }\n",
              "      </script>\n",
              "    </div>\n",
              "  </div>\n",
              "  "
            ]
          },
          "metadata": {},
          "execution_count": 16
        }
      ]
    },
    {
      "cell_type": "code",
      "source": [
        "# 距離計算\n",
        "def get_distance(lat1, lon1, lat2, lon2):\n",
        "    _lat1 = lat1 * math.pi / 180\n",
        "    _lon1 = lon1 * math.pi / 180\n",
        "    _lat2 = lat2 * math.pi / 180\n",
        "    _lon2 = lon2 * math.pi / 180\n",
        "    _tmp = math.cos(_lat1) * math.cos(_lat2) * math.cos(_lon2 - _lon1) + math.sin(_lat1) * math.sin(_lat2)\n",
        "    _tmp = 1 if _tmp > 1 else -1 if _tmp < -1 else _tmp\n",
        "    return 6371 * math.acos(_tmp)\n",
        "\n",
        "# 最寄り施設までの距離\n",
        "def get_value_of_nearest_facility(df_master, df_facility, category, method='min', param=3):\n",
        "    _df_cat = df_facility[df_facility['施設分類'] == category].copy()\n",
        "    cat_values = []\n",
        "    for i, row in df_master.iterrows():\n",
        "        dist = _df_cat.apply(lambda x: get_distance(x['緯度'], x['経度'], row['緯度'], row['経度']), axis=1)\n",
        "        val = None\n",
        "        if method == 'min':\n",
        "            # 最小の距離\n",
        "            val = dist.min()\n",
        "        elif method == 'min_param':\n",
        "            # 最小の距離の時の他のパラメータを返す\n",
        "            min_idx = dist.idxmin()\n",
        "            if np.isnan(min_idx):\n",
        "                val = np.NaN\n",
        "            else:\n",
        "                val = _df_cat.iloc[min_idx][param]\n",
        "        elif method == 'count':\n",
        "            # {param}km以内の施設の数をカウント\n",
        "            val = len(dist[dist <= param])\n",
        "        elif method == 'mean':\n",
        "            # 近い{param}件の距離の平均\n",
        "            val = dist.sort_values()[:param].mean()\n",
        "        cat_values.append(val)\n",
        "    return cat_values"
      ],
      "metadata": {
        "id": "rwRbaHZYz-og"
      },
      "execution_count": 17,
      "outputs": []
    },
    {
      "cell_type": "code",
      "source": [
        "def rank_score(sr_data):\n",
        "    size = sr_data.notna().sum()\n",
        "    rank = sr_data.rank()\n",
        "    result = rank.copy()\n",
        "    # 0~1: 15%, 1~2: 20%, 2~3: 30%, 3~4: 20%, 4~5: 15%\n",
        "    level_list = [0.15, (0.15+0.2), (0.15+0.2+0.3), (0.15+0.2+0.3+0.2), 1]\n",
        "    \n",
        "    pre_level = 0\n",
        "    for index, level in enumerate([lv*size for lv in level_list]):\n",
        "        result[(rank > pre_level)&(rank <= level)] = (rank - pre_level)/(level - pre_level) + index\n",
        "        pre_level = level\n",
        "\n",
        "    return result"
      ],
      "metadata": {
        "id": "xnhp6O2H-RuY"
      },
      "execution_count": 18,
      "outputs": []
    },
    {
      "cell_type": "markdown",
      "source": [
        "## 保育園スコア"
      ],
      "metadata": {
        "id": "Clz8aXvibArj"
      }
    },
    {
      "cell_type": "code",
      "source": [
        "%%time\n",
        "# 一番近い施設の距離\n",
        "df_pop_master['保育園(最近傍距離)'] = get_value_of_nearest_facility(df_pop_master, df_nursery_master, '認可保育所', 'min')\n",
        "# 1km以内の施設の数\n",
        "df_pop_master['保育園(数)'] = get_value_of_nearest_facility(df_pop_master, df_nursery_master, '認可保育所', 'count', 1)\n",
        "# 最寄りの保育園\n",
        "df_pop_master['最寄りの保育園'] = get_value_of_nearest_facility(df_pop_master, df_nursery_master, '認可保育所', 'min_param', '名称')\n",
        "# 最寄りの保育園の定員\n",
        "df_pop_master['保育園(定員)'] = get_value_of_nearest_facility(df_pop_master, df_nursery_master, '認可保育所', 'min_param', '定員')\n",
        "\n",
        "# 一番近い施設の距離\n",
        "df_pop_master['児童館(最近傍距離)'] = get_value_of_nearest_facility(df_pop_master, df_nursery_master, '児童館', 'min')\n",
        "# 2km以内の施設の数\n",
        "df_pop_master['児童館(数)'] = get_value_of_nearest_facility(df_pop_master, df_nursery_master, '児童館', 'count', 2)"
      ],
      "metadata": {
        "colab": {
          "base_uri": "https://localhost:8080/"
        },
        "id": "kvmdznFL0MdV",
        "outputId": "3b20ad9e-de1d-45b5-da3a-396e1b9995cf"
      },
      "execution_count": 19,
      "outputs": [
        {
          "output_type": "stream",
          "name": "stdout",
          "text": [
            "CPU times: user 15min 34s, sys: 2.91 s, total: 15min 37s\n",
            "Wall time: 15min 48s\n"
          ]
        }
      ]
    },
    {
      "cell_type": "code",
      "source": [
        "df_pop_master['保育園(定員割合)'] = df_pop_master['保育園(定員)'] / df_pop_master['子供人数']\n",
        "df_pop_master['保育園(定員割合)'] = df_pop_master['保育園(定員割合)'].replace(np.inf, np.nan).fillna(0)"
      ],
      "metadata": {
        "id": "L2yOS3kcjmpQ"
      },
      "execution_count": 20,
      "outputs": []
    },
    {
      "cell_type": "code",
      "source": [
        "print(df_pop_master.shape)\n",
        "df_pop_master.head()"
      ],
      "metadata": {
        "colab": {
          "base_uri": "https://localhost:8080/",
          "height": 372
        },
        "id": "YyIAuJht1b2-",
        "outputId": "748de388-62d5-4848-b593-aa13bbad58ed"
      },
      "execution_count": 21,
      "outputs": [
        {
          "output_type": "stream",
          "name": "stdout",
          "text": [
            "(3145, 16)\n"
          ]
        },
        {
          "output_type": "execute_result",
          "data": {
            "text/plain": [
              "     地域ID 市区町村名   町名     町丁目         緯度          経度  0〜4歳（人）  5〜9歳（人）  子供人数  \\\n",
              "0  101003  千代田区  丸の内  丸の内１丁目  35.681610  139.767511        0        0     0   \n",
              "1  101004  千代田区  丸の内  丸の内２丁目  35.680071  139.763944        0        0     0   \n",
              "2  101005  千代田区  丸の内  丸の内３丁目  35.676890  139.764039        0        0     0   \n",
              "3  101007  千代田区  大手町  大手町１丁目  35.688067  139.764353        0        0     0   \n",
              "4  101008  千代田区  大手町  大手町２丁目  35.686416  139.768530        0        0     0   \n",
              "\n",
              "   保育園(最近傍距離)  保育園(数)     最寄りの保育園  保育園(定員)  児童館(最近傍距離)  児童館(数)  保育園(定員割合)  \n",
              "0    0.747610       3   ＥＤＯ日本橋保育園     60.0    1.223562       4        0.0  \n",
              "1    0.841154       1  まなびの森保育園銀座     93.0    1.588228       3        0.0  \n",
              "2    0.611528       1  まなびの森保育園銀座     93.0    1.570712       4        0.0  \n",
              "3    0.324671       3  ベネッセ内神田保育園     60.0    1.352763       5        0.0  \n",
              "4    0.306243       4  ベネッセ内神田保育園     60.0    0.973485       5        0.0  "
            ],
            "text/html": [
              "\n",
              "  <div id=\"df-5d942408-564e-4309-a90d-c0ae19e63746\">\n",
              "    <div class=\"colab-df-container\">\n",
              "      <div>\n",
              "<style scoped>\n",
              "    .dataframe tbody tr th:only-of-type {\n",
              "        vertical-align: middle;\n",
              "    }\n",
              "\n",
              "    .dataframe tbody tr th {\n",
              "        vertical-align: top;\n",
              "    }\n",
              "\n",
              "    .dataframe thead th {\n",
              "        text-align: right;\n",
              "    }\n",
              "</style>\n",
              "<table border=\"1\" class=\"dataframe\">\n",
              "  <thead>\n",
              "    <tr style=\"text-align: right;\">\n",
              "      <th></th>\n",
              "      <th>地域ID</th>\n",
              "      <th>市区町村名</th>\n",
              "      <th>町名</th>\n",
              "      <th>町丁目</th>\n",
              "      <th>緯度</th>\n",
              "      <th>経度</th>\n",
              "      <th>0〜4歳（人）</th>\n",
              "      <th>5〜9歳（人）</th>\n",
              "      <th>子供人数</th>\n",
              "      <th>保育園(最近傍距離)</th>\n",
              "      <th>保育園(数)</th>\n",
              "      <th>最寄りの保育園</th>\n",
              "      <th>保育園(定員)</th>\n",
              "      <th>児童館(最近傍距離)</th>\n",
              "      <th>児童館(数)</th>\n",
              "      <th>保育園(定員割合)</th>\n",
              "    </tr>\n",
              "  </thead>\n",
              "  <tbody>\n",
              "    <tr>\n",
              "      <th>0</th>\n",
              "      <td>101003</td>\n",
              "      <td>千代田区</td>\n",
              "      <td>丸の内</td>\n",
              "      <td>丸の内１丁目</td>\n",
              "      <td>35.681610</td>\n",
              "      <td>139.767511</td>\n",
              "      <td>0</td>\n",
              "      <td>0</td>\n",
              "      <td>0</td>\n",
              "      <td>0.747610</td>\n",
              "      <td>3</td>\n",
              "      <td>ＥＤＯ日本橋保育園</td>\n",
              "      <td>60.0</td>\n",
              "      <td>1.223562</td>\n",
              "      <td>4</td>\n",
              "      <td>0.0</td>\n",
              "    </tr>\n",
              "    <tr>\n",
              "      <th>1</th>\n",
              "      <td>101004</td>\n",
              "      <td>千代田区</td>\n",
              "      <td>丸の内</td>\n",
              "      <td>丸の内２丁目</td>\n",
              "      <td>35.680071</td>\n",
              "      <td>139.763944</td>\n",
              "      <td>0</td>\n",
              "      <td>0</td>\n",
              "      <td>0</td>\n",
              "      <td>0.841154</td>\n",
              "      <td>1</td>\n",
              "      <td>まなびの森保育園銀座</td>\n",
              "      <td>93.0</td>\n",
              "      <td>1.588228</td>\n",
              "      <td>3</td>\n",
              "      <td>0.0</td>\n",
              "    </tr>\n",
              "    <tr>\n",
              "      <th>2</th>\n",
              "      <td>101005</td>\n",
              "      <td>千代田区</td>\n",
              "      <td>丸の内</td>\n",
              "      <td>丸の内３丁目</td>\n",
              "      <td>35.676890</td>\n",
              "      <td>139.764039</td>\n",
              "      <td>0</td>\n",
              "      <td>0</td>\n",
              "      <td>0</td>\n",
              "      <td>0.611528</td>\n",
              "      <td>1</td>\n",
              "      <td>まなびの森保育園銀座</td>\n",
              "      <td>93.0</td>\n",
              "      <td>1.570712</td>\n",
              "      <td>4</td>\n",
              "      <td>0.0</td>\n",
              "    </tr>\n",
              "    <tr>\n",
              "      <th>3</th>\n",
              "      <td>101007</td>\n",
              "      <td>千代田区</td>\n",
              "      <td>大手町</td>\n",
              "      <td>大手町１丁目</td>\n",
              "      <td>35.688067</td>\n",
              "      <td>139.764353</td>\n",
              "      <td>0</td>\n",
              "      <td>0</td>\n",
              "      <td>0</td>\n",
              "      <td>0.324671</td>\n",
              "      <td>3</td>\n",
              "      <td>ベネッセ内神田保育園</td>\n",
              "      <td>60.0</td>\n",
              "      <td>1.352763</td>\n",
              "      <td>5</td>\n",
              "      <td>0.0</td>\n",
              "    </tr>\n",
              "    <tr>\n",
              "      <th>4</th>\n",
              "      <td>101008</td>\n",
              "      <td>千代田区</td>\n",
              "      <td>大手町</td>\n",
              "      <td>大手町２丁目</td>\n",
              "      <td>35.686416</td>\n",
              "      <td>139.768530</td>\n",
              "      <td>0</td>\n",
              "      <td>0</td>\n",
              "      <td>0</td>\n",
              "      <td>0.306243</td>\n",
              "      <td>4</td>\n",
              "      <td>ベネッセ内神田保育園</td>\n",
              "      <td>60.0</td>\n",
              "      <td>0.973485</td>\n",
              "      <td>5</td>\n",
              "      <td>0.0</td>\n",
              "    </tr>\n",
              "  </tbody>\n",
              "</table>\n",
              "</div>\n",
              "      <button class=\"colab-df-convert\" onclick=\"convertToInteractive('df-5d942408-564e-4309-a90d-c0ae19e63746')\"\n",
              "              title=\"Convert this dataframe to an interactive table.\"\n",
              "              style=\"display:none;\">\n",
              "        \n",
              "  <svg xmlns=\"http://www.w3.org/2000/svg\" height=\"24px\"viewBox=\"0 0 24 24\"\n",
              "       width=\"24px\">\n",
              "    <path d=\"M0 0h24v24H0V0z\" fill=\"none\"/>\n",
              "    <path d=\"M18.56 5.44l.94 2.06.94-2.06 2.06-.94-2.06-.94-.94-2.06-.94 2.06-2.06.94zm-11 1L8.5 8.5l.94-2.06 2.06-.94-2.06-.94L8.5 2.5l-.94 2.06-2.06.94zm10 10l.94 2.06.94-2.06 2.06-.94-2.06-.94-.94-2.06-.94 2.06-2.06.94z\"/><path d=\"M17.41 7.96l-1.37-1.37c-.4-.4-.92-.59-1.43-.59-.52 0-1.04.2-1.43.59L10.3 9.45l-7.72 7.72c-.78.78-.78 2.05 0 2.83L4 21.41c.39.39.9.59 1.41.59.51 0 1.02-.2 1.41-.59l7.78-7.78 2.81-2.81c.8-.78.8-2.07 0-2.86zM5.41 20L4 18.59l7.72-7.72 1.47 1.35L5.41 20z\"/>\n",
              "  </svg>\n",
              "      </button>\n",
              "      \n",
              "  <style>\n",
              "    .colab-df-container {\n",
              "      display:flex;\n",
              "      flex-wrap:wrap;\n",
              "      gap: 12px;\n",
              "    }\n",
              "\n",
              "    .colab-df-convert {\n",
              "      background-color: #E8F0FE;\n",
              "      border: none;\n",
              "      border-radius: 50%;\n",
              "      cursor: pointer;\n",
              "      display: none;\n",
              "      fill: #1967D2;\n",
              "      height: 32px;\n",
              "      padding: 0 0 0 0;\n",
              "      width: 32px;\n",
              "    }\n",
              "\n",
              "    .colab-df-convert:hover {\n",
              "      background-color: #E2EBFA;\n",
              "      box-shadow: 0px 1px 2px rgba(60, 64, 67, 0.3), 0px 1px 3px 1px rgba(60, 64, 67, 0.15);\n",
              "      fill: #174EA6;\n",
              "    }\n",
              "\n",
              "    [theme=dark] .colab-df-convert {\n",
              "      background-color: #3B4455;\n",
              "      fill: #D2E3FC;\n",
              "    }\n",
              "\n",
              "    [theme=dark] .colab-df-convert:hover {\n",
              "      background-color: #434B5C;\n",
              "      box-shadow: 0px 1px 3px 1px rgba(0, 0, 0, 0.15);\n",
              "      filter: drop-shadow(0px 1px 2px rgba(0, 0, 0, 0.3));\n",
              "      fill: #FFFFFF;\n",
              "    }\n",
              "  </style>\n",
              "\n",
              "      <script>\n",
              "        const buttonEl =\n",
              "          document.querySelector('#df-5d942408-564e-4309-a90d-c0ae19e63746 button.colab-df-convert');\n",
              "        buttonEl.style.display =\n",
              "          google.colab.kernel.accessAllowed ? 'block' : 'none';\n",
              "\n",
              "        async function convertToInteractive(key) {\n",
              "          const element = document.querySelector('#df-5d942408-564e-4309-a90d-c0ae19e63746');\n",
              "          const dataTable =\n",
              "            await google.colab.kernel.invokeFunction('convertToInteractive',\n",
              "                                                     [key], {});\n",
              "          if (!dataTable) return;\n",
              "\n",
              "          const docLinkHtml = 'Like what you see? Visit the ' +\n",
              "            '<a target=\"_blank\" href=https://colab.research.google.com/notebooks/data_table.ipynb>data table notebook</a>'\n",
              "            + ' to learn more about interactive tables.';\n",
              "          element.innerHTML = '';\n",
              "          dataTable['output_type'] = 'display_data';\n",
              "          await google.colab.output.renderOutput(dataTable, element);\n",
              "          const docLink = document.createElement('div');\n",
              "          docLink.innerHTML = docLinkHtml;\n",
              "          element.appendChild(docLink);\n",
              "        }\n",
              "      </script>\n",
              "    </div>\n",
              "  </div>\n",
              "  "
            ]
          },
          "metadata": {},
          "execution_count": 21
        }
      ]
    },
    {
      "cell_type": "markdown",
      "source": [
        "### 保育園スコア"
      ],
      "metadata": {
        "id": "dkXqmuCgjXsm"
      }
    },
    {
      "cell_type": "code",
      "source": [
        "all_feature_list = []\n",
        "all_score_list = []"
      ],
      "metadata": {
        "id": "ZBOeM7_9ja1s"
      },
      "execution_count": 22,
      "outputs": []
    },
    {
      "cell_type": "code",
      "source": [
        "score_name = '保育園スコア'\n",
        "feature_list = {\n",
        "    '保育園(最近傍距離)':   {'sort': -1, 'weight': 1}, \n",
        "    '保育園(数)':           {'sort': 1, 'weight': 0.5},\n",
        "    '保育園(定員割合)':     {'sort': 1, 'weight': 0.8}, \n",
        "}\n",
        "all_feature_list += list(feature_list.keys())\n",
        "all_score_list.append(score_name)"
      ],
      "metadata": {
        "id": "UZQmuxmijcAl"
      },
      "execution_count": 23,
      "outputs": []
    },
    {
      "cell_type": "code",
      "source": [
        "for feature_name in feature_list.keys():\n",
        "    sns.histplot(df_pop_master[feature_name], bins=20)\n",
        "    plt.show()"
      ],
      "metadata": {
        "id": "ff7KgX4tcQwb",
        "outputId": "ee879bf4-14c8-464b-c360-4222db78eec4",
        "colab": {
          "base_uri": "https://localhost:8080/",
          "height": 803
        }
      },
      "execution_count": 24,
      "outputs": [
        {
          "output_type": "display_data",
          "data": {
            "text/plain": [
              "<Figure size 432x288 with 1 Axes>"
            ],
            "image/png": "[encoded data removed]"
          },
          "metadata": {
            "needs_background": "light"
          }
        },
        {
          "output_type": "display_data",
          "data": {
            "text/plain": [
              "<Figure size 432x288 with 1 Axes>"
            ],
            "image/png": "[encoded data removed]"
          },
          "metadata": {
            "needs_background": "light"
          }
        },
        {
          "output_type": "display_data",
          "data": {
            "text/plain": [
              "<Figure size 432x288 with 1 Axes>"
            ],
            "image/png": "[encoded data removed]"
          },
          "metadata": {
            "needs_background": "light"
          }
        }
      ]
    },
    {
      "cell_type": "code",
      "source": [
        "score_list = []\n",
        "for key, value in feature_list.items():\n",
        "    df_pop_master[f'{key}レベル'] = rank_score(df_pop_master[key] * value['sort'])\n",
        "    score_list.append(df_pop_master[f'{key}レベル'] * value['weight'])\n",
        "\n",
        "_tmp_score = pd.concat(score_list, axis=1).sum(axis=1, skipna=False)\n",
        "df_pop_master[score_name] = rank_score(_tmp_score)"
      ],
      "metadata": {
        "id": "p4we131idJvG"
      },
      "execution_count": 25,
      "outputs": []
    },
    {
      "cell_type": "code",
      "source": [
        "sns.histplot(_tmp_score, bins=20)\n",
        "plt.show()"
      ],
      "metadata": {
        "id": "61ZH8_sckxqk",
        "outputId": "992ec3c1-43cf-4784-ede9-a444ea3ee5b7",
        "colab": {
          "base_uri": "https://localhost:8080/",
          "height": 264
        }
      },
      "execution_count": 26,
      "outputs": [
        {
          "output_type": "display_data",
          "data": {
            "text/plain": [
              "<Figure size 432x288 with 1 Axes>"
            ],
            "image/png": "[encoded data removed]"
          },
          "metadata": {
            "needs_background": "light"
          }
        }
      ]
    },
    {
      "cell_type": "code",
      "source": [
        "sns.histplot(df_pop_master[score_name], bins=20)\n",
        "plt.show()"
      ],
      "metadata": {
        "id": "bHgokmxpkzjn",
        "outputId": "46eae250-c84c-4ca9-9233-b253065952ef",
        "colab": {
          "base_uri": "https://localhost:8080/",
          "height": 278
        }
      },
      "execution_count": 27,
      "outputs": [
        {
          "output_type": "display_data",
          "data": {
            "text/plain": [
              "<Figure size 432x288 with 1 Axes>"
            ],
            "image/png": "[encoded data removed]"
          },
          "metadata": {
            "needs_background": "light"
          }
        }
      ]
    },
    {
      "cell_type": "markdown",
      "source": [
        "### 児童館スコア"
      ],
      "metadata": {
        "id": "62EEQcqJk6UG"
      }
    },
    {
      "cell_type": "code",
      "source": [
        "score_name = '児童館スコア'\n",
        "feature_list = {\n",
        "    '児童館(最近傍距離)':       {'sort': -1, 'weight': 1}, \n",
        "    '児童館(数)':               {'sort': 1, 'weight': 0.5},\n",
        "}\n",
        "all_feature_list += list(feature_list.keys())\n",
        "all_score_list.append(score_name)"
      ],
      "metadata": {
        "id": "NsztLgoyk20p"
      },
      "execution_count": 28,
      "outputs": []
    },
    {
      "cell_type": "code",
      "source": [
        "for feature_name in feature_list.keys():\n",
        "    sns.histplot(df_pop_master[feature_name], bins=20)\n",
        "    plt.show()"
      ],
      "metadata": {
        "id": "_0BGYVvwk2xx",
        "outputId": "847d8ae2-2ef3-4218-92d5-181dde811bb0",
        "colab": {
          "base_uri": "https://localhost:8080/",
          "height": 539
        }
      },
      "execution_count": 29,
      "outputs": [
        {
          "output_type": "display_data",
          "data": {
            "text/plain": [
              "<Figure size 432x288 with 1 Axes>"
            ],
            "image/png": "[encoded data removed]"
          },
          "metadata": {
            "needs_background": "light"
          }
        },
        {
          "output_type": "display_data",
          "data": {
            "text/plain": [
              "<Figure size 432x288 with 1 Axes>"
            ],
            "image/png": "[encoded data removed]"
          },
          "metadata": {
            "needs_background": "light"
          }
        }
      ]
    },
    {
      "cell_type": "code",
      "source": [
        "score_list = []\n",
        "for key, value in feature_list.items():\n",
        "    df_pop_master[f'{key}レベル'] = rank_score(df_pop_master[key] * value['sort'])\n",
        "    score_list.append(df_pop_master[f'{key}レベル'] * value['weight'])\n",
        "\n",
        "_tmp_score = pd.concat(score_list, axis=1).sum(axis=1, skipna=False)\n",
        "df_pop_master[score_name] = rank_score(_tmp_score)"
      ],
      "metadata": {
        "id": "Ls6G0RB0k2ty"
      },
      "execution_count": 30,
      "outputs": []
    },
    {
      "cell_type": "code",
      "source": [
        "sns.histplot(_tmp_score, bins=20)\n",
        "plt.show()"
      ],
      "metadata": {
        "id": "be8sa8jak2ol",
        "outputId": "c5b43048-b460-403c-ed43-052707d763a1",
        "colab": {
          "base_uri": "https://localhost:8080/",
          "height": 264
        }
      },
      "execution_count": 31,
      "outputs": [
        {
          "output_type": "display_data",
          "data": {
            "text/plain": [
              "<Figure size 432x288 with 1 Axes>"
            ],
            "image/png": "[encoded data removed]"
          },
          "metadata": {
            "needs_background": "light"
          }
        }
      ]
    },
    {
      "cell_type": "code",
      "source": [
        "sns.histplot(df_pop_master[score_name], bins=20)\n",
        "plt.show()"
      ],
      "metadata": {
        "id": "Q-xjejDWlLJ9",
        "outputId": "d525b790-36d1-43f7-937e-336852ba9e2d",
        "colab": {
          "base_uri": "https://localhost:8080/",
          "height": 278
        }
      },
      "execution_count": 32,
      "outputs": [
        {
          "output_type": "display_data",
          "data": {
            "text/plain": [
              "<Figure size 432x288 with 1 Axes>"
            ],
            "image/png": "[encoded data removed]"
          },
          "metadata": {
            "needs_background": "light"
          }
        }
      ]
    },
    {
      "cell_type": "markdown",
      "source": [
        "### 保存"
      ],
      "metadata": {
        "id": "ECzqMy7YlRJO"
      }
    },
    {
      "cell_type": "code",
      "source": [
        "all_feature_list"
      ],
      "metadata": {
        "id": "rz_Py-xblS88",
        "outputId": "b80059a7-f586-4c67-d495-bb76e7c03c85",
        "colab": {
          "base_uri": "https://localhost:8080/"
        }
      },
      "execution_count": 33,
      "outputs": [
        {
          "output_type": "execute_result",
          "data": {
            "text/plain": [
              "['保育園(最近傍距離)', '保育園(数)', '保育園(定員割合)', '児童館(最近傍距離)', '児童館(数)']"
            ]
          },
          "metadata": {},
          "execution_count": 33
        }
      ]
    },
    {
      "cell_type": "code",
      "source": [
        "all_score_list"
      ],
      "metadata": {
        "id": "B42hBATVlU0P",
        "outputId": "0f1012dc-065f-4c20-e557-1c1820dddd2f",
        "colab": {
          "base_uri": "https://localhost:8080/"
        }
      },
      "execution_count": 34,
      "outputs": [
        {
          "output_type": "execute_result",
          "data": {
            "text/plain": [
              "['保育園スコア', '児童館スコア']"
            ]
          },
          "metadata": {},
          "execution_count": 34
        }
      ]
    },
    {
      "cell_type": "code",
      "source": [
        "df_pop_master['保育園(最近傍距離)'] = df_pop_master['保育園(最近傍距離)'].round(3)\n",
        "df_pop_master['児童館(最近傍距離)'] = df_pop_master['児童館(最近傍距離)'].round(3)\n",
        "df_pop_master['保育園(定員割合)'] = df_pop_master['保育園(定員割合)'].round(3)\n",
        "for col in all_score_list:\n",
        "    df_pop_master[col] = df_pop_master[col].round(3)"
      ],
      "metadata": {
        "id": "azAg3U_7lXAO"
      },
      "execution_count": 35,
      "outputs": []
    },
    {
      "cell_type": "code",
      "source": [
        "df_pop_master[\n",
        "    ['地域ID'] + all_feature_list + ['最寄りの保育園'] + all_score_list\n",
        "].to_csv(os.path.join(DIR_NAME, output_score_file), index=False)"
      ],
      "metadata": {
        "id": "AqDrjIdB-jOO"
      },
      "execution_count": 36,
      "outputs": []
    },
    {
      "cell_type": "code",
      "source": [
        "for _score in all_score_list:\n",
        "    plt.figure(figsize=(15, 5))\n",
        "    sns.barplot(x='市区町村名', y=_score, data=df_pop_master)\n",
        "    plt.show()"
      ],
      "metadata": {
        "colab": {
          "base_uri": "https://localhost:8080/",
          "height": 649
        },
        "id": "WmM2Bvqu-lKP",
        "outputId": "7790ef8a-4c2c-44ad-a3fd-0b0f285028fb"
      },
      "execution_count": 37,
      "outputs": [
        {
          "output_type": "display_data",
          "data": {
            "text/plain": [
              "<Figure size 1080x360 with 1 Axes>"
            ],
            "image/png": "[encoded data removed]"
          },
          "metadata": {
            "needs_background": "light"
          }
        },
        {
          "output_type": "display_data",
          "data": {
            "text/plain": [
              "<Figure size 1080x360 with 1 Axes>"
            ],
            "image/png": "[encoded data removed]"
          },
          "metadata": {
            "needs_background": "light"
          }
        }
      ]
    },
    {
      "cell_type": "code",
      "source": [
        "def get_score_top(df_data, target, ):\n",
        "    df_level = df_data.copy()\n",
        "    score_name = f'{target}スコア'\n",
        "    feature_cols = [col for col in all_feature_list if col.startswith(target)]\n",
        "    df_level['rank'] = df_level.groupby('町名')[score_name].transform('rank', ascending=False)\n",
        "    df_level = df_level[df_level['rank'] == 1].sort_values(score_name, ascending=False)[\n",
        "        ['市区町村名', '町名', '町丁目'] + feature_cols + [score_name]\n",
        "    ].reset_index(drop=True)\n",
        "    return df_level"
      ],
      "metadata": {
        "id": "mzCPqCTbl4GU"
      },
      "execution_count": 38,
      "outputs": []
    },
    {
      "cell_type": "code",
      "source": [
        "df_level = get_score_top(df_pop_master, '保育園')\n",
        "print(df_level.shape)\n",
        "df_level.head(10)"
      ],
      "metadata": {
        "id": "YPCIt6kfmEXE",
        "outputId": "c6345d1b-d8fc-4c12-f1c4-acb79abbdf91",
        "colab": {
          "base_uri": "https://localhost:8080/",
          "height": 380
        }
      },
      "execution_count": 39,
      "outputs": [
        {
          "output_type": "stream",
          "name": "stdout",
          "text": [
            "(911, 7)\n"
          ]
        },
        {
          "output_type": "execute_result",
          "data": {
            "text/plain": [
              "  市区町村名      町名        町丁目  保育園(最近傍距離)  保育園(数)  保育園(定員割合)  保育園スコア\n",
              "0  千代田区     東神田     東神田２丁目       0.063      29      4.846   5.000\n",
              "1   墨田区      両国      両国１丁目       0.021      27      1.458   4.998\n",
              "2   品川区     東中延     東中延２丁目       0.038      31      0.923   4.996\n",
              "3  千代田区     岩本町     岩本町２丁目       0.015      24      0.958   4.994\n",
              "4   墨田区      錦糸      錦糸３丁目       0.033      20      1.532   4.992\n",
              "5   中央区  日本橋人形町  日本橋人形町３丁目       0.040      27      0.882   4.989\n",
              "6   中央区  日本橋小舟町     日本橋小舟町       0.059      28      1.066   4.987\n",
              "7   中央区  日本橋蠣殻町  日本橋蠣殻町２丁目       0.098      29      2.364   4.985\n",
              "8   江東区      白河      白河１丁目       0.059      25      1.047   4.983\n",
              "9   新宿区  市谷長延寺町     市谷長延寺町       0.060      16     74.000   4.981"
            ],
            "text/html": [
              "\n",
              "  <div id=\"df-ba83c622-080a-4924-b6c4-e6327375656f\">\n",
              "    <div class=\"colab-df-container\">\n",
              "      <div>\n",
              "<style scoped>\n",
              "    .dataframe tbody tr th:only-of-type {\n",
              "        vertical-align: middle;\n",
              "    }\n",
              "\n",
              "    .dataframe tbody tr th {\n",
              "        vertical-align: top;\n",
              "    }\n",
              "\n",
              "    .dataframe thead th {\n",
              "        text-align: right;\n",
              "    }\n",
              "</style>\n",
              "<table border=\"1\" class=\"dataframe\">\n",
              "  <thead>\n",
              "    <tr style=\"text-align: right;\">\n",
              "      <th></th>\n",
              "      <th>市区町村名</th>\n",
              "      <th>町名</th>\n",
              "      <th>町丁目</th>\n",
              "      <th>保育園(最近傍距離)</th>\n",
              "      <th>保育園(数)</th>\n",
              "      <th>保育園(定員割合)</th>\n",
              "      <th>保育園スコア</th>\n",
              "    </tr>\n",
              "  </thead>\n",
              "  <tbody>\n",
              "    <tr>\n",
              "      <th>0</th>\n",
              "      <td>千代田区</td>\n",
              "      <td>東神田</td>\n",
              "      <td>東神田２丁目</td>\n",
              "      <td>0.063</td>\n",
              "      <td>29</td>\n",
              "      <td>4.846</td>\n",
              "      <td>5.000</td>\n",
              "    </tr>\n",
              "    <tr>\n",
              "      <th>1</th>\n",
              "      <td>墨田区</td>\n",
              "      <td>両国</td>\n",
              "      <td>両国１丁目</td>\n",
              "      <td>0.021</td>\n",
              "      <td>27</td>\n",
              "      <td>1.458</td>\n",
              "      <td>4.998</td>\n",
              "    </tr>\n",
              "    <tr>\n",
              "      <th>2</th>\n",
              "      <td>品川区</td>\n",
              "      <td>東中延</td>\n",
              "      <td>東中延２丁目</td>\n",
              "      <td>0.038</td>\n",
              "      <td>31</td>\n",
              "      <td>0.923</td>\n",
              "      <td>4.996</td>\n",
              "    </tr>\n",
              "    <tr>\n",
              "      <th>3</th>\n",
              "      <td>千代田区</td>\n",
              "      <td>岩本町</td>\n",
              "      <td>岩本町２丁目</td>\n",
              "      <td>0.015</td>\n",
              "      <td>24</td>\n",
              "      <td>0.958</td>\n",
              "      <td>4.994</td>\n",
              "    </tr>\n",
              "    <tr>\n",
              "      <th>4</th>\n",
              "      <td>墨田区</td>\n",
              "      <td>錦糸</td>\n",
              "      <td>錦糸３丁目</td>\n",
              "      <td>0.033</td>\n",
              "      <td>20</td>\n",
              "      <td>1.532</td>\n",
              "      <td>4.992</td>\n",
              "    </tr>\n",
              "    <tr>\n",
              "      <th>5</th>\n",
              "      <td>中央区</td>\n",
              "      <td>日本橋人形町</td>\n",
              "      <td>日本橋人形町３丁目</td>\n",
              "      <td>0.040</td>\n",
              "      <td>27</td>\n",
              "      <td>0.882</td>\n",
              "      <td>4.989</td>\n",
              "    </tr>\n",
              "    <tr>\n",
              "      <th>6</th>\n",
              "      <td>中央区</td>\n",
              "      <td>日本橋小舟町</td>\n",
              "      <td>日本橋小舟町</td>\n",
              "      <td>0.059</td>\n",
              "      <td>28</td>\n",
              "      <td>1.066</td>\n",
              "      <td>4.987</td>\n",
              "    </tr>\n",
              "    <tr>\n",
              "      <th>7</th>\n",
              "      <td>中央区</td>\n",
              "      <td>日本橋蠣殻町</td>\n",
              "      <td>日本橋蠣殻町２丁目</td>\n",
              "      <td>0.098</td>\n",
              "      <td>29</td>\n",
              "      <td>2.364</td>\n",
              "      <td>4.985</td>\n",
              "    </tr>\n",
              "    <tr>\n",
              "      <th>8</th>\n",
              "      <td>江東区</td>\n",
              "      <td>白河</td>\n",
              "      <td>白河１丁目</td>\n",
              "      <td>0.059</td>\n",
              "      <td>25</td>\n",
              "      <td>1.047</td>\n",
              "      <td>4.983</td>\n",
              "    </tr>\n",
              "    <tr>\n",
              "      <th>9</th>\n",
              "      <td>新宿区</td>\n",
              "      <td>市谷長延寺町</td>\n",
              "      <td>市谷長延寺町</td>\n",
              "      <td>0.060</td>\n",
              "      <td>16</td>\n",
              "      <td>74.000</td>\n",
              "      <td>4.981</td>\n",
              "    </tr>\n",
              "  </tbody>\n",
              "</table>\n",
              "</div>\n",
              "      <button class=\"colab-df-convert\" onclick=\"convertToInteractive('df-ba83c622-080a-4924-b6c4-e6327375656f')\"\n",
              "              title=\"Convert this dataframe to an interactive table.\"\n",
              "              style=\"display:none;\">\n",
              "        \n",
              "  <svg xmlns=\"http://www.w3.org/2000/svg\" height=\"24px\"viewBox=\"0 0 24 24\"\n",
              "       width=\"24px\">\n",
              "    <path d=\"M0 0h24v24H0V0z\" fill=\"none\"/>\n",
              "    <path d=\"M18.56 5.44l.94 2.06.94-2.06 2.06-.94-2.06-.94-.94-2.06-.94 2.06-2.06.94zm-11 1L8.5 8.5l.94-2.06 2.06-.94-2.06-.94L8.5 2.5l-.94 2.06-2.06.94zm10 10l.94 2.06.94-2.06 2.06-.94-2.06-.94-.94-2.06-.94 2.06-2.06.94z\"/><path d=\"M17.41 7.96l-1.37-1.37c-.4-.4-.92-.59-1.43-.59-.52 0-1.04.2-1.43.59L10.3 9.45l-7.72 7.72c-.78.78-.78 2.05 0 2.83L4 21.41c.39.39.9.59 1.41.59.51 0 1.02-.2 1.41-.59l7.78-7.78 2.81-2.81c.8-.78.8-2.07 0-2.86zM5.41 20L4 18.59l7.72-7.72 1.47 1.35L5.41 20z\"/>\n",
              "  </svg>\n",
              "      </button>\n",
              "      \n",
              "  <style>\n",
              "    .colab-df-container {\n",
              "      display:flex;\n",
              "      flex-wrap:wrap;\n",
              "      gap: 12px;\n",
              "    }\n",
              "\n",
              "    .colab-df-convert {\n",
              "      background-color: #E8F0FE;\n",
              "      border: none;\n",
              "      border-radius: 50%;\n",
              "      cursor: pointer;\n",
              "      display: none;\n",
              "      fill: #1967D2;\n",
              "      height: 32px;\n",
              "      padding: 0 0 0 0;\n",
              "      width: 32px;\n",
              "    }\n",
              "\n",
              "    .colab-df-convert:hover {\n",
              "      background-color: #E2EBFA;\n",
              "      box-shadow: 0px 1px 2px rgba(60, 64, 67, 0.3), 0px 1px 3px 1px rgba(60, 64, 67, 0.15);\n",
              "      fill: #174EA6;\n",
              "    }\n",
              "\n",
              "    [theme=dark] .colab-df-convert {\n",
              "      background-color: #3B4455;\n",
              "      fill: #D2E3FC;\n",
              "    }\n",
              "\n",
              "    [theme=dark] .colab-df-convert:hover {\n",
              "      background-color: #434B5C;\n",
              "      box-shadow: 0px 1px 3px 1px rgba(0, 0, 0, 0.15);\n",
              "      filter: drop-shadow(0px 1px 2px rgba(0, 0, 0, 0.3));\n",
              "      fill: #FFFFFF;\n",
              "    }\n",
              "  </style>\n",
              "\n",
              "      <script>\n",
              "        const buttonEl =\n",
              "          document.querySelector('#df-ba83c622-080a-4924-b6c4-e6327375656f button.colab-df-convert');\n",
              "        buttonEl.style.display =\n",
              "          google.colab.kernel.accessAllowed ? 'block' : 'none';\n",
              "\n",
              "        async function convertToInteractive(key) {\n",
              "          const element = document.querySelector('#df-ba83c622-080a-4924-b6c4-e6327375656f');\n",
              "          const dataTable =\n",
              "            await google.colab.kernel.invokeFunction('convertToInteractive',\n",
              "                                                     [key], {});\n",
              "          if (!dataTable) return;\n",
              "\n",
              "          const docLinkHtml = 'Like what you see? Visit the ' +\n",
              "            '<a target=\"_blank\" href=https://colab.research.google.com/notebooks/data_table.ipynb>data table notebook</a>'\n",
              "            + ' to learn more about interactive tables.';\n",
              "          element.innerHTML = '';\n",
              "          dataTable['output_type'] = 'display_data';\n",
              "          await google.colab.output.renderOutput(dataTable, element);\n",
              "          const docLink = document.createElement('div');\n",
              "          docLink.innerHTML = docLinkHtml;\n",
              "          element.appendChild(docLink);\n",
              "        }\n",
              "      </script>\n",
              "    </div>\n",
              "  </div>\n",
              "  "
            ]
          },
          "metadata": {},
          "execution_count": 39
        }
      ]
    },
    {
      "cell_type": "code",
      "source": [
        "df_level.tail(10)"
      ],
      "metadata": {
        "id": "mfYC17_OmknA",
        "outputId": "1904ad8c-41fb-4182-c23d-5e8c461ec9c4",
        "colab": {
          "base_uri": "https://localhost:8080/",
          "height": 363
        }
      },
      "execution_count": 40,
      "outputs": [
        {
          "output_type": "execute_result",
          "data": {
            "text/plain": [
              "    市区町村名     町名     町丁目  保育園(最近傍距離)  保育園(数)  保育園(定員割合)  保育園スコア\n",
              "901  千代田区    千代田     千代田       0.985       1        0.0   0.087\n",
              "902  千代田区    霞が関  霞が関３丁目       1.002       0        0.0   0.085\n",
              "903   大田区    京浜島  京浜島１丁目       1.094       0        0.0   0.074\n",
              "904   品川区    東八潮     東八潮       1.098       0        0.0   0.072\n",
              "905   大田区     東海   東海１丁目       1.199       0        0.0   0.068\n",
              "906  千代田区  日比谷公園   日比谷公園       1.260       0        0.0   0.066\n",
              "907  千代田区   皇居外苑    皇居外苑       1.284       0        0.0   0.062\n",
              "908   江東区    新木場  新木場１丁目       1.706       0        0.0   0.047\n",
              "909   大田区    城南島  城南島１丁目       2.419       0        0.0   0.028\n",
              "910   江東区     若洲   若洲１丁目       2.981       0        0.0   0.017"
            ],
            "text/html": [
              "\n",
              "  <div id=\"df-d0893db5-106f-49be-aaf6-12bfc64543f1\">\n",
              "    <div class=\"colab-df-container\">\n",
              "      <div>\n",
              "<style scoped>\n",
              "    .dataframe tbody tr th:only-of-type {\n",
              "        vertical-align: middle;\n",
              "    }\n",
              "\n",
              "    .dataframe tbody tr th {\n",
              "        vertical-align: top;\n",
              "    }\n",
              "\n",
              "    .dataframe thead th {\n",
              "        text-align: right;\n",
              "    }\n",
              "</style>\n",
              "<table border=\"1\" class=\"dataframe\">\n",
              "  <thead>\n",
              "    <tr style=\"text-align: right;\">\n",
              "      <th></th>\n",
              "      <th>市区町村名</th>\n",
              "      <th>町名</th>\n",
              "      <th>町丁目</th>\n",
              "      <th>保育園(最近傍距離)</th>\n",
              "      <th>保育園(数)</th>\n",
              "      <th>保育園(定員割合)</th>\n",
              "      <th>保育園スコア</th>\n",
              "    </tr>\n",
              "  </thead>\n",
              "  <tbody>\n",
              "    <tr>\n",
              "      <th>901</th>\n",
              "      <td>千代田区</td>\n",
              "      <td>千代田</td>\n",
              "      <td>千代田</td>\n",
              "      <td>0.985</td>\n",
              "      <td>1</td>\n",
              "      <td>0.0</td>\n",
              "      <td>0.087</td>\n",
              "    </tr>\n",
              "    <tr>\n",
              "      <th>902</th>\n",
              "      <td>千代田区</td>\n",
              "      <td>霞が関</td>\n",
              "      <td>霞が関３丁目</td>\n",
              "      <td>1.002</td>\n",
              "      <td>0</td>\n",
              "      <td>0.0</td>\n",
              "      <td>0.085</td>\n",
              "    </tr>\n",
              "    <tr>\n",
              "      <th>903</th>\n",
              "      <td>大田区</td>\n",
              "      <td>京浜島</td>\n",
              "      <td>京浜島１丁目</td>\n",
              "      <td>1.094</td>\n",
              "      <td>0</td>\n",
              "      <td>0.0</td>\n",
              "      <td>0.074</td>\n",
              "    </tr>\n",
              "    <tr>\n",
              "      <th>904</th>\n",
              "      <td>品川区</td>\n",
              "      <td>東八潮</td>\n",
              "      <td>東八潮</td>\n",
              "      <td>1.098</td>\n",
              "      <td>0</td>\n",
              "      <td>0.0</td>\n",
              "      <td>0.072</td>\n",
              "    </tr>\n",
              "    <tr>\n",
              "      <th>905</th>\n",
              "      <td>大田区</td>\n",
              "      <td>東海</td>\n",
              "      <td>東海１丁目</td>\n",
              "      <td>1.199</td>\n",
              "      <td>0</td>\n",
              "      <td>0.0</td>\n",
              "      <td>0.068</td>\n",
              "    </tr>\n",
              "    <tr>\n",
              "      <th>906</th>\n",
              "      <td>千代田区</td>\n",
              "      <td>日比谷公園</td>\n",
              "      <td>日比谷公園</td>\n",
              "      <td>1.260</td>\n",
              "      <td>0</td>\n",
              "      <td>0.0</td>\n",
              "      <td>0.066</td>\n",
              "    </tr>\n",
              "    <tr>\n",
              "      <th>907</th>\n",
              "      <td>千代田区</td>\n",
              "      <td>皇居外苑</td>\n",
              "      <td>皇居外苑</td>\n",
              "      <td>1.284</td>\n",
              "      <td>0</td>\n",
              "      <td>0.0</td>\n",
              "      <td>0.062</td>\n",
              "    </tr>\n",
              "    <tr>\n",
              "      <th>908</th>\n",
              "      <td>江東区</td>\n",
              "      <td>新木場</td>\n",
              "      <td>新木場１丁目</td>\n",
              "      <td>1.706</td>\n",
              "      <td>0</td>\n",
              "      <td>0.0</td>\n",
              "      <td>0.047</td>\n",
              "    </tr>\n",
              "    <tr>\n",
              "      <th>909</th>\n",
              "      <td>大田区</td>\n",
              "      <td>城南島</td>\n",
              "      <td>城南島１丁目</td>\n",
              "      <td>2.419</td>\n",
              "      <td>0</td>\n",
              "      <td>0.0</td>\n",
              "      <td>0.028</td>\n",
              "    </tr>\n",
              "    <tr>\n",
              "      <th>910</th>\n",
              "      <td>江東区</td>\n",
              "      <td>若洲</td>\n",
              "      <td>若洲１丁目</td>\n",
              "      <td>2.981</td>\n",
              "      <td>0</td>\n",
              "      <td>0.0</td>\n",
              "      <td>0.017</td>\n",
              "    </tr>\n",
              "  </tbody>\n",
              "</table>\n",
              "</div>\n",
              "      <button class=\"colab-df-convert\" onclick=\"convertToInteractive('df-d0893db5-106f-49be-aaf6-12bfc64543f1')\"\n",
              "              title=\"Convert this dataframe to an interactive table.\"\n",
              "              style=\"display:none;\">\n",
              "        \n",
              "  <svg xmlns=\"http://www.w3.org/2000/svg\" height=\"24px\"viewBox=\"0 0 24 24\"\n",
              "       width=\"24px\">\n",
              "    <path d=\"M0 0h24v24H0V0z\" fill=\"none\"/>\n",
              "    <path d=\"M18.56 5.44l.94 2.06.94-2.06 2.06-.94-2.06-.94-.94-2.06-.94 2.06-2.06.94zm-11 1L8.5 8.5l.94-2.06 2.06-.94-2.06-.94L8.5 2.5l-.94 2.06-2.06.94zm10 10l.94 2.06.94-2.06 2.06-.94-2.06-.94-.94-2.06-.94 2.06-2.06.94z\"/><path d=\"M17.41 7.96l-1.37-1.37c-.4-.4-.92-.59-1.43-.59-.52 0-1.04.2-1.43.59L10.3 9.45l-7.72 7.72c-.78.78-.78 2.05 0 2.83L4 21.41c.39.39.9.59 1.41.59.51 0 1.02-.2 1.41-.59l7.78-7.78 2.81-2.81c.8-.78.8-2.07 0-2.86zM5.41 20L4 18.59l7.72-7.72 1.47 1.35L5.41 20z\"/>\n",
              "  </svg>\n",
              "      </button>\n",
              "      \n",
              "  <style>\n",
              "    .colab-df-container {\n",
              "      display:flex;\n",
              "      flex-wrap:wrap;\n",
              "      gap: 12px;\n",
              "    }\n",
              "\n",
              "    .colab-df-convert {\n",
              "      background-color: #E8F0FE;\n",
              "      border: none;\n",
              "      border-radius: 50%;\n",
              "      cursor: pointer;\n",
              "      display: none;\n",
              "      fill: #1967D2;\n",
              "      height: 32px;\n",
              "      padding: 0 0 0 0;\n",
              "      width: 32px;\n",
              "    }\n",
              "\n",
              "    .colab-df-convert:hover {\n",
              "      background-color: #E2EBFA;\n",
              "      box-shadow: 0px 1px 2px rgba(60, 64, 67, 0.3), 0px 1px 3px 1px rgba(60, 64, 67, 0.15);\n",
              "      fill: #174EA6;\n",
              "    }\n",
              "\n",
              "    [theme=dark] .colab-df-convert {\n",
              "      background-color: #3B4455;\n",
              "      fill: #D2E3FC;\n",
              "    }\n",
              "\n",
              "    [theme=dark] .colab-df-convert:hover {\n",
              "      background-color: #434B5C;\n",
              "      box-shadow: 0px 1px 3px 1px rgba(0, 0, 0, 0.15);\n",
              "      filter: drop-shadow(0px 1px 2px rgba(0, 0, 0, 0.3));\n",
              "      fill: #FFFFFF;\n",
              "    }\n",
              "  </style>\n",
              "\n",
              "      <script>\n",
              "        const buttonEl =\n",
              "          document.querySelector('#df-d0893db5-106f-49be-aaf6-12bfc64543f1 button.colab-df-convert');\n",
              "        buttonEl.style.display =\n",
              "          google.colab.kernel.accessAllowed ? 'block' : 'none';\n",
              "\n",
              "        async function convertToInteractive(key) {\n",
              "          const element = document.querySelector('#df-d0893db5-106f-49be-aaf6-12bfc64543f1');\n",
              "          const dataTable =\n",
              "            await google.colab.kernel.invokeFunction('convertToInteractive',\n",
              "                                                     [key], {});\n",
              "          if (!dataTable) return;\n",
              "\n",
              "          const docLinkHtml = 'Like what you see? Visit the ' +\n",
              "            '<a target=\"_blank\" href=https://colab.research.google.com/notebooks/data_table.ipynb>data table notebook</a>'\n",
              "            + ' to learn more about interactive tables.';\n",
              "          element.innerHTML = '';\n",
              "          dataTable['output_type'] = 'display_data';\n",
              "          await google.colab.output.renderOutput(dataTable, element);\n",
              "          const docLink = document.createElement('div');\n",
              "          docLink.innerHTML = docLinkHtml;\n",
              "          element.appendChild(docLink);\n",
              "        }\n",
              "      </script>\n",
              "    </div>\n",
              "  </div>\n",
              "  "
            ]
          },
          "metadata": {},
          "execution_count": 40
        }
      ]
    },
    {
      "cell_type": "code",
      "source": [
        "df_level = get_score_top(df_pop_master, '児童館')\n",
        "print(df_level.shape)\n",
        "df_level.head(10)"
      ],
      "metadata": {
        "id": "8bKUBJ8amnWK",
        "outputId": "526704dc-4f7d-49b7-9902-bbc2280ee098",
        "colab": {
          "base_uri": "https://localhost:8080/",
          "height": 380
        }
      },
      "execution_count": 41,
      "outputs": [
        {
          "output_type": "stream",
          "name": "stdout",
          "text": [
            "(910, 6)\n"
          ]
        },
        {
          "output_type": "execute_result",
          "data": {
            "text/plain": [
              "  市区町村名    町名      町丁目  児童館(最近傍距離)  児童館(数)  児童館スコア\n",
              "0   品川区   東中延   東中延２丁目       0.038      18   5.000\n",
              "1   大田区    中央    中央１丁目       0.074      20   4.998\n",
              "2   品川区   西中延   西中延３丁目       0.048      18   4.996\n",
              "3   品川区    豊町    豊町４丁目       0.086      21   4.994\n",
              "4   品川区    小山    小山２丁目       0.052      17   4.992\n",
              "5   目黒区  目黒本町  目黒本町５丁目       0.077      18   4.989\n",
              "6   品川区    大井    大井５丁目       0.078      18   4.987\n",
              "7   品川区   西大井   西大井６丁目       0.101      22   4.985\n",
              "8   杉並区    上荻    上荻１丁目       0.031      16   4.983\n",
              "9   文京区   本駒込   本駒込３丁目       0.034      16   4.981"
            ],
            "text/html": [
              "\n",
              "  <div id=\"df-627f92f2-7087-4248-9e8a-d4f3198c61e2\">\n",
              "    <div class=\"colab-df-container\">\n",
              "      <div>\n",
              "<style scoped>\n",
              "    .dataframe tbody tr th:only-of-type {\n",
              "        vertical-align: middle;\n",
              "    }\n",
              "\n",
              "    .dataframe tbody tr th {\n",
              "        vertical-align: top;\n",
              "    }\n",
              "\n",
              "    .dataframe thead th {\n",
              "        text-align: right;\n",
              "    }\n",
              "</style>\n",
              "<table border=\"1\" class=\"dataframe\">\n",
              "  <thead>\n",
              "    <tr style=\"text-align: right;\">\n",
              "      <th></th>\n",
              "      <th>市区町村名</th>\n",
              "      <th>町名</th>\n",
              "      <th>町丁目</th>\n",
              "      <th>児童館(最近傍距離)</th>\n",
              "      <th>児童館(数)</th>\n",
              "      <th>児童館スコア</th>\n",
              "    </tr>\n",
              "  </thead>\n",
              "  <tbody>\n",
              "    <tr>\n",
              "      <th>0</th>\n",
              "      <td>品川区</td>\n",
              "      <td>東中延</td>\n",
              "      <td>東中延２丁目</td>\n",
              "      <td>0.038</td>\n",
              "      <td>18</td>\n",
              "      <td>5.000</td>\n",
              "    </tr>\n",
              "    <tr>\n",
              "      <th>1</th>\n",
              "      <td>大田区</td>\n",
              "      <td>中央</td>\n",
              "      <td>中央１丁目</td>\n",
              "      <td>0.074</td>\n",
              "      <td>20</td>\n",
              "      <td>4.998</td>\n",
              "    </tr>\n",
              "    <tr>\n",
              "      <th>2</th>\n",
              "      <td>品川区</td>\n",
              "      <td>西中延</td>\n",
              "      <td>西中延３丁目</td>\n",
              "      <td>0.048</td>\n",
              "      <td>18</td>\n",
              "      <td>4.996</td>\n",
              "    </tr>\n",
              "    <tr>\n",
              "      <th>3</th>\n",
              "      <td>品川区</td>\n",
              "      <td>豊町</td>\n",
              "      <td>豊町４丁目</td>\n",
              "      <td>0.086</td>\n",
              "      <td>21</td>\n",
              "      <td>4.994</td>\n",
              "    </tr>\n",
              "    <tr>\n",
              "      <th>4</th>\n",
              "      <td>品川区</td>\n",
              "      <td>小山</td>\n",
              "      <td>小山２丁目</td>\n",
              "      <td>0.052</td>\n",
              "      <td>17</td>\n",
              "      <td>4.992</td>\n",
              "    </tr>\n",
              "    <tr>\n",
              "      <th>5</th>\n",
              "      <td>目黒区</td>\n",
              "      <td>目黒本町</td>\n",
              "      <td>目黒本町５丁目</td>\n",
              "      <td>0.077</td>\n",
              "      <td>18</td>\n",
              "      <td>4.989</td>\n",
              "    </tr>\n",
              "    <tr>\n",
              "      <th>6</th>\n",
              "      <td>品川区</td>\n",
              "      <td>大井</td>\n",
              "      <td>大井５丁目</td>\n",
              "      <td>0.078</td>\n",
              "      <td>18</td>\n",
              "      <td>4.987</td>\n",
              "    </tr>\n",
              "    <tr>\n",
              "      <th>7</th>\n",
              "      <td>品川区</td>\n",
              "      <td>西大井</td>\n",
              "      <td>西大井６丁目</td>\n",
              "      <td>0.101</td>\n",
              "      <td>22</td>\n",
              "      <td>4.985</td>\n",
              "    </tr>\n",
              "    <tr>\n",
              "      <th>8</th>\n",
              "      <td>杉並区</td>\n",
              "      <td>上荻</td>\n",
              "      <td>上荻１丁目</td>\n",
              "      <td>0.031</td>\n",
              "      <td>16</td>\n",
              "      <td>4.983</td>\n",
              "    </tr>\n",
              "    <tr>\n",
              "      <th>9</th>\n",
              "      <td>文京区</td>\n",
              "      <td>本駒込</td>\n",
              "      <td>本駒込３丁目</td>\n",
              "      <td>0.034</td>\n",
              "      <td>16</td>\n",
              "      <td>4.981</td>\n",
              "    </tr>\n",
              "  </tbody>\n",
              "</table>\n",
              "</div>\n",
              "      <button class=\"colab-df-convert\" onclick=\"convertToInteractive('df-627f92f2-7087-4248-9e8a-d4f3198c61e2')\"\n",
              "              title=\"Convert this dataframe to an interactive table.\"\n",
              "              style=\"display:none;\">\n",
              "        \n",
              "  <svg xmlns=\"http://www.w3.org/2000/svg\" height=\"24px\"viewBox=\"0 0 24 24\"\n",
              "       width=\"24px\">\n",
              "    <path d=\"M0 0h24v24H0V0z\" fill=\"none\"/>\n",
              "    <path d=\"M18.56 5.44l.94 2.06.94-2.06 2.06-.94-2.06-.94-.94-2.06-.94 2.06-2.06.94zm-11 1L8.5 8.5l.94-2.06 2.06-.94-2.06-.94L8.5 2.5l-.94 2.06-2.06.94zm10 10l.94 2.06.94-2.06 2.06-.94-2.06-.94-.94-2.06-.94 2.06-2.06.94z\"/><path d=\"M17.41 7.96l-1.37-1.37c-.4-.4-.92-.59-1.43-.59-.52 0-1.04.2-1.43.59L10.3 9.45l-7.72 7.72c-.78.78-.78 2.05 0 2.83L4 21.41c.39.39.9.59 1.41.59.51 0 1.02-.2 1.41-.59l7.78-7.78 2.81-2.81c.8-.78.8-2.07 0-2.86zM5.41 20L4 18.59l7.72-7.72 1.47 1.35L5.41 20z\"/>\n",
              "  </svg>\n",
              "      </button>\n",
              "      \n",
              "  <style>\n",
              "    .colab-df-container {\n",
              "      display:flex;\n",
              "      flex-wrap:wrap;\n",
              "      gap: 12px;\n",
              "    }\n",
              "\n",
              "    .colab-df-convert {\n",
              "      background-color: #E8F0FE;\n",
              "      border: none;\n",
              "      border-radius: 50%;\n",
              "      cursor: pointer;\n",
              "      display: none;\n",
              "      fill: #1967D2;\n",
              "      height: 32px;\n",
              "      padding: 0 0 0 0;\n",
              "      width: 32px;\n",
              "    }\n",
              "\n",
              "    .colab-df-convert:hover {\n",
              "      background-color: #E2EBFA;\n",
              "      box-shadow: 0px 1px 2px rgba(60, 64, 67, 0.3), 0px 1px 3px 1px rgba(60, 64, 67, 0.15);\n",
              "      fill: #174EA6;\n",
              "    }\n",
              "\n",
              "    [theme=dark] .colab-df-convert {\n",
              "      background-color: #3B4455;\n",
              "      fill: #D2E3FC;\n",
              "    }\n",
              "\n",
              "    [theme=dark] .colab-df-convert:hover {\n",
              "      background-color: #434B5C;\n",
              "      box-shadow: 0px 1px 3px 1px rgba(0, 0, 0, 0.15);\n",
              "      filter: drop-shadow(0px 1px 2px rgba(0, 0, 0, 0.3));\n",
              "      fill: #FFFFFF;\n",
              "    }\n",
              "  </style>\n",
              "\n",
              "      <script>\n",
              "        const buttonEl =\n",
              "          document.querySelector('#df-627f92f2-7087-4248-9e8a-d4f3198c61e2 button.colab-df-convert');\n",
              "        buttonEl.style.display =\n",
              "          google.colab.kernel.accessAllowed ? 'block' : 'none';\n",
              "\n",
              "        async function convertToInteractive(key) {\n",
              "          const element = document.querySelector('#df-627f92f2-7087-4248-9e8a-d4f3198c61e2');\n",
              "          const dataTable =\n",
              "            await google.colab.kernel.invokeFunction('convertToInteractive',\n",
              "                                                     [key], {});\n",
              "          if (!dataTable) return;\n",
              "\n",
              "          const docLinkHtml = 'Like what you see? Visit the ' +\n",
              "            '<a target=\"_blank\" href=https://colab.research.google.com/notebooks/data_table.ipynb>data table notebook</a>'\n",
              "            + ' to learn more about interactive tables.';\n",
              "          element.innerHTML = '';\n",
              "          dataTable['output_type'] = 'display_data';\n",
              "          await google.colab.output.renderOutput(dataTable, element);\n",
              "          const docLink = document.createElement('div');\n",
              "          docLink.innerHTML = docLinkHtml;\n",
              "          element.appendChild(docLink);\n",
              "        }\n",
              "      </script>\n",
              "    </div>\n",
              "  </div>\n",
              "  "
            ]
          },
          "metadata": {},
          "execution_count": 41
        }
      ]
    },
    {
      "cell_type": "code",
      "source": [
        "df_level.tail(10)"
      ],
      "metadata": {
        "id": "zdBwhiihmphi",
        "outputId": "7c162298-9789-4d94-d026-c45e079a49d9",
        "colab": {
          "base_uri": "https://localhost:8080/",
          "height": 363
        }
      },
      "execution_count": 42,
      "outputs": [
        {
          "output_type": "execute_result",
          "data": {
            "text/plain": [
              "    市区町村名    町名     町丁目  児童館(最近傍距離)  児童館(数)  児童館スコア\n",
              "900  世田谷区    玉堤   玉堤１丁目       1.806       2   0.146\n",
              "901  千代田区  皇居外苑    皇居外苑       1.807       2   0.144\n",
              "902  江戸川区   東葛西  東葛西２丁目       1.472       1   0.136\n",
              "903  江戸川区  東篠崎町    東篠崎町       1.559       1   0.127\n",
              "904   江東区   新木場  新木場１丁目       1.806       1   0.108\n",
              "905  江戸川区   南葛西  南葛西１丁目       2.279       0   0.079\n",
              "906  江戸川区   臨海町  臨海町２丁目       2.524       0   0.064\n",
              "907   大田区   城南島  城南島１丁目       2.784       0   0.049\n",
              "908   江東区    若洲   若洲１丁目       2.946       0   0.040\n",
              "909  江戸川区   堀江町     堀江町       3.622       0   0.011"
            ],
            "text/html": [
              "\n",
              "  <div id=\"df-2cbe1c70-6bb4-49d5-9a69-5e8025fba7a4\">\n",
              "    <div class=\"colab-df-container\">\n",
              "      <div>\n",
              "<style scoped>\n",
              "    .dataframe tbody tr th:only-of-type {\n",
              "        vertical-align: middle;\n",
              "    }\n",
              "\n",
              "    .dataframe tbody tr th {\n",
              "        vertical-align: top;\n",
              "    }\n",
              "\n",
              "    .dataframe thead th {\n",
              "        text-align: right;\n",
              "    }\n",
              "</style>\n",
              "<table border=\"1\" class=\"dataframe\">\n",
              "  <thead>\n",
              "    <tr style=\"text-align: right;\">\n",
              "      <th></th>\n",
              "      <th>市区町村名</th>\n",
              "      <th>町名</th>\n",
              "      <th>町丁目</th>\n",
              "      <th>児童館(最近傍距離)</th>\n",
              "      <th>児童館(数)</th>\n",
              "      <th>児童館スコア</th>\n",
              "    </tr>\n",
              "  </thead>\n",
              "  <tbody>\n",
              "    <tr>\n",
              "      <th>900</th>\n",
              "      <td>世田谷区</td>\n",
              "      <td>玉堤</td>\n",
              "      <td>玉堤１丁目</td>\n",
              "      <td>1.806</td>\n",
              "      <td>2</td>\n",
              "      <td>0.146</td>\n",
              "    </tr>\n",
              "    <tr>\n",
              "      <th>901</th>\n",
              "      <td>千代田区</td>\n",
              "      <td>皇居外苑</td>\n",
              "      <td>皇居外苑</td>\n",
              "      <td>1.807</td>\n",
              "      <td>2</td>\n",
              "      <td>0.144</td>\n",
              "    </tr>\n",
              "    <tr>\n",
              "      <th>902</th>\n",
              "      <td>江戸川区</td>\n",
              "      <td>東葛西</td>\n",
              "      <td>東葛西２丁目</td>\n",
              "      <td>1.472</td>\n",
              "      <td>1</td>\n",
              "      <td>0.136</td>\n",
              "    </tr>\n",
              "    <tr>\n",
              "      <th>903</th>\n",
              "      <td>江戸川区</td>\n",
              "      <td>東篠崎町</td>\n",
              "      <td>東篠崎町</td>\n",
              "      <td>1.559</td>\n",
              "      <td>1</td>\n",
              "      <td>0.127</td>\n",
              "    </tr>\n",
              "    <tr>\n",
              "      <th>904</th>\n",
              "      <td>江東区</td>\n",
              "      <td>新木場</td>\n",
              "      <td>新木場１丁目</td>\n",
              "      <td>1.806</td>\n",
              "      <td>1</td>\n",
              "      <td>0.108</td>\n",
              "    </tr>\n",
              "    <tr>\n",
              "      <th>905</th>\n",
              "      <td>江戸川区</td>\n",
              "      <td>南葛西</td>\n",
              "      <td>南葛西１丁目</td>\n",
              "      <td>2.279</td>\n",
              "      <td>0</td>\n",
              "      <td>0.079</td>\n",
              "    </tr>\n",
              "    <tr>\n",
              "      <th>906</th>\n",
              "      <td>江戸川区</td>\n",
              "      <td>臨海町</td>\n",
              "      <td>臨海町２丁目</td>\n",
              "      <td>2.524</td>\n",
              "      <td>0</td>\n",
              "      <td>0.064</td>\n",
              "    </tr>\n",
              "    <tr>\n",
              "      <th>907</th>\n",
              "      <td>大田区</td>\n",
              "      <td>城南島</td>\n",
              "      <td>城南島１丁目</td>\n",
              "      <td>2.784</td>\n",
              "      <td>0</td>\n",
              "      <td>0.049</td>\n",
              "    </tr>\n",
              "    <tr>\n",
              "      <th>908</th>\n",
              "      <td>江東区</td>\n",
              "      <td>若洲</td>\n",
              "      <td>若洲１丁目</td>\n",
              "      <td>2.946</td>\n",
              "      <td>0</td>\n",
              "      <td>0.040</td>\n",
              "    </tr>\n",
              "    <tr>\n",
              "      <th>909</th>\n",
              "      <td>江戸川区</td>\n",
              "      <td>堀江町</td>\n",
              "      <td>堀江町</td>\n",
              "      <td>3.622</td>\n",
              "      <td>0</td>\n",
              "      <td>0.011</td>\n",
              "    </tr>\n",
              "  </tbody>\n",
              "</table>\n",
              "</div>\n",
              "      <button class=\"colab-df-convert\" onclick=\"convertToInteractive('df-2cbe1c70-6bb4-49d5-9a69-5e8025fba7a4')\"\n",
              "              title=\"Convert this dataframe to an interactive table.\"\n",
              "              style=\"display:none;\">\n",
              "        \n",
              "  <svg xmlns=\"http://www.w3.org/2000/svg\" height=\"24px\"viewBox=\"0 0 24 24\"\n",
              "       width=\"24px\">\n",
              "    <path d=\"M0 0h24v24H0V0z\" fill=\"none\"/>\n",
              "    <path d=\"M18.56 5.44l.94 2.06.94-2.06 2.06-.94-2.06-.94-.94-2.06-.94 2.06-2.06.94zm-11 1L8.5 8.5l.94-2.06 2.06-.94-2.06-.94L8.5 2.5l-.94 2.06-2.06.94zm10 10l.94 2.06.94-2.06 2.06-.94-2.06-.94-.94-2.06-.94 2.06-2.06.94z\"/><path d=\"M17.41 7.96l-1.37-1.37c-.4-.4-.92-.59-1.43-.59-.52 0-1.04.2-1.43.59L10.3 9.45l-7.72 7.72c-.78.78-.78 2.05 0 2.83L4 21.41c.39.39.9.59 1.41.59.51 0 1.02-.2 1.41-.59l7.78-7.78 2.81-2.81c.8-.78.8-2.07 0-2.86zM5.41 20L4 18.59l7.72-7.72 1.47 1.35L5.41 20z\"/>\n",
              "  </svg>\n",
              "      </button>\n",
              "      \n",
              "  <style>\n",
              "    .colab-df-container {\n",
              "      display:flex;\n",
              "      flex-wrap:wrap;\n",
              "      gap: 12px;\n",
              "    }\n",
              "\n",
              "    .colab-df-convert {\n",
              "      background-color: #E8F0FE;\n",
              "      border: none;\n",
              "      border-radius: 50%;\n",
              "      cursor: pointer;\n",
              "      display: none;\n",
              "      fill: #1967D2;\n",
              "      height: 32px;\n",
              "      padding: 0 0 0 0;\n",
              "      width: 32px;\n",
              "    }\n",
              "\n",
              "    .colab-df-convert:hover {\n",
              "      background-color: #E2EBFA;\n",
              "      box-shadow: 0px 1px 2px rgba(60, 64, 67, 0.3), 0px 1px 3px 1px rgba(60, 64, 67, 0.15);\n",
              "      fill: #174EA6;\n",
              "    }\n",
              "\n",
              "    [theme=dark] .colab-df-convert {\n",
              "      background-color: #3B4455;\n",
              "      fill: #D2E3FC;\n",
              "    }\n",
              "\n",
              "    [theme=dark] .colab-df-convert:hover {\n",
              "      background-color: #434B5C;\n",
              "      box-shadow: 0px 1px 3px 1px rgba(0, 0, 0, 0.15);\n",
              "      filter: drop-shadow(0px 1px 2px rgba(0, 0, 0, 0.3));\n",
              "      fill: #FFFFFF;\n",
              "    }\n",
              "  </style>\n",
              "\n",
              "      <script>\n",
              "        const buttonEl =\n",
              "          document.querySelector('#df-2cbe1c70-6bb4-49d5-9a69-5e8025fba7a4 button.colab-df-convert');\n",
              "        buttonEl.style.display =\n",
              "          google.colab.kernel.accessAllowed ? 'block' : 'none';\n",
              "\n",
              "        async function convertToInteractive(key) {\n",
              "          const element = document.querySelector('#df-2cbe1c70-6bb4-49d5-9a69-5e8025fba7a4');\n",
              "          const dataTable =\n",
              "            await google.colab.kernel.invokeFunction('convertToInteractive',\n",
              "                                                     [key], {});\n",
              "          if (!dataTable) return;\n",
              "\n",
              "          const docLinkHtml = 'Like what you see? Visit the ' +\n",
              "            '<a target=\"_blank\" href=https://colab.research.google.com/notebooks/data_table.ipynb>data table notebook</a>'\n",
              "            + ' to learn more about interactive tables.';\n",
              "          element.innerHTML = '';\n",
              "          dataTable['output_type'] = 'display_data';\n",
              "          await google.colab.output.renderOutput(dataTable, element);\n",
              "          const docLink = document.createElement('div');\n",
              "          docLink.innerHTML = docLinkHtml;\n",
              "          element.appendChild(docLink);\n",
              "        }\n",
              "      </script>\n",
              "    </div>\n",
              "  </div>\n",
              "  "
            ]
          },
          "metadata": {},
          "execution_count": 42
        }
      ]
    },
    {
      "cell_type": "code",
      "source": [],
      "metadata": {
        "id": "bmkGzgWCfTLa"
      },
      "execution_count": 42,
      "outputs": []
    }
  ]
}