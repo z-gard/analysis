{
  "nbformat": 4,
  "nbformat_minor": 0,
  "metadata": {
    "colab": {
      "provenance": [],
      "authorship_tag": "ABX9TyN+BzVHTIfB/edu6F2mluOz",
      "include_colab_link": true
    },
    "kernelspec": {
      "name": "python3",
      "display_name": "Python 3"
    },
    "language_info": {
      "name": "python"
    }
  },
  "cells": [
    {
      "cell_type": "markdown",
      "metadata": {
        "id": "view-in-github",
        "colab_type": "text"
      },
      "source": [
        "<a href=\"https://colab.research.google.com/github/z-gard/analysis/blob/main/notebooks/nursery_master.ipynb\" target=\"_parent\"><img src=\"https://colab.research.google.com/assets/colab-badge.svg\" alt=\"Open In Colab\"/></a>"
      ]
    },
    {
      "cell_type": "markdown",
      "source": [
        "# 保育所\n",
        "- [（認可）保育所](https://catalog.data.metro.tokyo.lg.jp/dataset/t000010d0000000099/resource/f3a1b2c5-a037-4627-9166-2a4863bf3bd9)"
      ],
      "metadata": {
        "id": "bWg52QgHvf21"
      }
    },
    {
      "cell_type": "code",
      "source": [
        "!pip install -q japanize-matplotlib"
      ],
      "metadata": {
        "colab": {
          "base_uri": "https://localhost:8080/"
        },
        "id": "qy5bYwoLzJee",
        "outputId": "31a1adcc-67c3-4ffd-c5cc-8f916de62925"
      },
      "execution_count": 34,
      "outputs": [
        {
          "output_type": "stream",
          "name": "stdout",
          "text": [
            "\u001b[K     |████████████████████████████████| 4.1 MB 7.8 MB/s \n",
            "\u001b[?25h  Building wheel for japanize-matplotlib (setup.py) ... \u001b[?25l\u001b[?25hdone\n"
          ]
        }
      ]
    },
    {
      "cell_type": "code",
      "execution_count": 1,
      "metadata": {
        "colab": {
          "base_uri": "https://localhost:8080/"
        },
        "id": "W_Ys4ZQDvYjK",
        "outputId": "e8b9da3c-e991-4bf2-d24c-f6a9faafc987"
      },
      "outputs": [
        {
          "output_type": "stream",
          "name": "stdout",
          "text": [
            "Mounted at /content/drive\n"
          ]
        }
      ],
      "source": [
        "from google.colab import drive\n",
        "drive.mount('/content/drive')"
      ]
    },
    {
      "cell_type": "code",
      "source": [
        "import os\n",
        "import requests\n",
        "import json\n",
        "import pandas as pd\n",
        "from urllib.parse import urlparse, quote\n",
        "import io\n",
        "import math\n",
        "import numpy as np\n",
        "import matplotlib.pyplot as plt\n",
        "import japanize_matplotlib\n",
        "import seaborn as sns\n",
        "\n",
        "pd.set_option('display.max_columns', 50)\n",
        "pd.set_option('display.max_rows', 100)"
      ],
      "metadata": {
        "id": "QBjzumCZvuOS"
      },
      "execution_count": 46,
      "outputs": []
    },
    {
      "cell_type": "code",
      "source": [
        "DIR_NAME = '/content/drive/MyDrive/z-gard/data'"
      ],
      "metadata": {
        "id": "O93oCOcLv9Hr"
      },
      "execution_count": 3,
      "outputs": []
    },
    {
      "cell_type": "code",
      "source": [
        "def get_data_csv_url(url, encoding='utf-8', excel=False):\n",
        "    res = requests.get(url)\n",
        "    if res.status_code == 200:\n",
        "        if not excel:\n",
        "            return pd.read_csv(io.BytesIO(res.content), encoding=encoding)\n",
        "        else:\n",
        "            return pd.read_excel(io.BytesIO(res.content))\n",
        "    else:\n",
        "        raise Exception(f'status_code: {res.status_code} ({url})')"
      ],
      "metadata": {
        "id": "QCgFNfNawAtL"
      },
      "execution_count": 7,
      "outputs": []
    },
    {
      "cell_type": "code",
      "source": [
        "nursery_url = 'https://www.opendata.metro.tokyo.lg.jp/fukushihoken/R3/202110-2-1-hoikusyo.csv'\n",
        "df_nursery = get_data_csv_url(nursery_url, encoding='shift-jis')\n",
        "print(df_nursery.shape)"
      ],
      "metadata": {
        "colab": {
          "base_uri": "https://localhost:8080/"
        },
        "id": "NrHr4nBzvzMT",
        "outputId": "edfcd638-99ee-406d-cef4-b1465f4f70db"
      },
      "execution_count": 50,
      "outputs": [
        {
          "output_type": "stream",
          "name": "stdout",
          "text": [
            "(3431, 9)\n"
          ]
        }
      ]
    },
    {
      "cell_type": "code",
      "source": [
        "df_nursery['市区町村名'] = df_nursery['所在地'].str.extract('(^.*?[区市])', expand=False)\n",
        "df_nursery['施設分類'] = '認可保育所'\n",
        "\n",
        "df_nursery_master = df_nursery[\n",
        "    (df_nursery['市区町村名'].notna())&\n",
        "    (df_nursery['市区町村名'].str.endswith('区'))&\n",
        "    (df_nursery['市区町村名'].str.len() < 5)\n",
        "][['市区町村名', '施設分類', '設置', '施設名', '所在地', '緯度', '経度', '定員']].rename(columns={'施設名':'名称'}).reset_index(drop=True)\n",
        "print(df_nursery_master.shape)\n",
        "\n",
        "assert df_nursery_master['市区町村名'].nunique() == 23"
      ],
      "metadata": {
        "colab": {
          "base_uri": "https://localhost:8080/"
        },
        "id": "bWNCBTG6xXzZ",
        "outputId": "aa9f14d6-d7b3-48b7-da15-1a812fb334ec"
      },
      "execution_count": 51,
      "outputs": [
        {
          "output_type": "stream",
          "name": "stdout",
          "text": [
            "(2526, 8)\n"
          ]
        }
      ]
    },
    {
      "cell_type": "code",
      "source": [
        "df_nursery_master.to_csv(os.path.join(DIR_NAME, 'nursery_master.csv'), index=False)"
      ],
      "metadata": {
        "id": "aM8avA2Pztsf"
      },
      "execution_count": 52,
      "outputs": []
    },
    {
      "cell_type": "code",
      "source": [
        "plt.figure(figsize=(15, 5))\n",
        "sns.histplot(x='市区町村名', data=df_nursery_master)\n",
        "plt.show()"
      ],
      "metadata": {
        "colab": {
          "base_uri": "https://localhost:8080/",
          "height": 333
        },
        "id": "rCgDh5Vtw10S",
        "outputId": "24dc3dcf-7a86-407e-e1ce-7ccb021391e8"
      },
      "execution_count": 53,
      "outputs": [
        {
          "output_type": "display_data",
          "data": {
            "text/plain": [
              "<Figure size 1080x360 with 1 Axes>"
            ],
            "image/png": "[encoded data removed]"
          },
          "metadata": {
            "needs_background": "light"
          }
        }
      ]
    },
    {
      "cell_type": "markdown",
      "source": [
        "### 人口マスタ"
      ],
      "metadata": {
        "id": "AlqD8mNcz8wX"
      }
    },
    {
      "cell_type": "code",
      "source": [
        "df_pop_master = pd.read_csv(os.path.join(DIR_NAME, 'population_master.csv'))[['地域ID', '市区町村名', '町名', '町丁目', '緯度', '経度']]\n",
        "print(df_pop_master.shape)"
      ],
      "metadata": {
        "colab": {
          "base_uri": "https://localhost:8080/"
        },
        "id": "u6_REO5iw4U-",
        "outputId": "19bc0444-ed92-477e-8b1d-8fc48e666bdd"
      },
      "execution_count": 54,
      "outputs": [
        {
          "output_type": "stream",
          "name": "stdout",
          "text": [
            "(2921, 6)\n"
          ]
        }
      ]
    },
    {
      "cell_type": "code",
      "source": [
        "# 距離計算\n",
        "def get_distance(lat1, lon1, lat2, lon2):\n",
        "    _lat1 = lat1 * math.pi / 180\n",
        "    _lon1 = lon1 * math.pi / 180\n",
        "    _lat2 = lat2 * math.pi / 180\n",
        "    _lon2 = lon2 * math.pi / 180\n",
        "    _tmp = math.cos(_lat1) * math.cos(_lat2) * math.cos(_lon2 - _lon1) + math.sin(_lat1) * math.sin(_lat2)\n",
        "    _tmp = 1 if _tmp > 1 else -1 if _tmp < -1 else _tmp\n",
        "    return 6371 * math.acos(_tmp)\n",
        "\n",
        "# 最寄り施設までの距離\n",
        "def get_value_of_nearest_facility(df_master, df_facility, category, method='min', param=3):\n",
        "    _df_cat = df_facility[df_facility['施設分類'] == category].copy()\n",
        "    cat_values = []\n",
        "    for i, row in df_master.iterrows():\n",
        "        dist = _df_cat.apply(lambda x: get_distance(x['緯度'], x['経度'], row['緯度'], row['経度']), axis=1)\n",
        "        val = None\n",
        "        if method == 'min':\n",
        "            # 最小の距離\n",
        "            val = dist.min()\n",
        "        elif method == 'count':\n",
        "            # {param}km以内の施設の数をカウント\n",
        "            val = len(dist[dist <= param])\n",
        "        elif method == 'mean':\n",
        "            # 近い{param}件の距離の平均\n",
        "            val = dist.sort_values()[:param].mean()\n",
        "        cat_values.append(val)\n",
        "    return cat_values"
      ],
      "metadata": {
        "id": "rwRbaHZYz-og"
      },
      "execution_count": 55,
      "outputs": []
    },
    {
      "cell_type": "code",
      "source": [
        "%%time\n",
        "# 一番近い施設の距離\n",
        "df_pop_master['保育園(最近傍距離)'] = get_value_of_nearest_facility(df_pop_master, df_nursery_master, '認可保育所', 'min')\n",
        "# 近い3件の距離の平均\n",
        "df_pop_master['保育園(平均距離)'] = get_value_of_nearest_facility(df_pop_master, df_nursery_master, '認可保育所', 'mean', 3)\n",
        "# 1km以内の施設の数\n",
        "df_pop_master['保育園(数)'] = get_value_of_nearest_facility(df_pop_master, df_nursery_master, '認可保育所', 'count', 1)"
      ],
      "metadata": {
        "colab": {
          "base_uri": "https://localhost:8080/"
        },
        "id": "kvmdznFL0MdV",
        "outputId": "f7a6ea7b-e40f-4b05-ae8d-dde17eca6a90"
      },
      "execution_count": 56,
      "outputs": [
        {
          "output_type": "stream",
          "name": "stdout",
          "text": [
            "CPU times: user 8min 40s, sys: 1.39 s, total: 8min 41s\n",
            "Wall time: 8min 43s\n"
          ]
        }
      ]
    },
    {
      "cell_type": "code",
      "source": [
        "print(df_pop_master.shape)\n",
        "df_pop_master.head()"
      ],
      "metadata": {
        "colab": {
          "base_uri": "https://localhost:8080/",
          "height": 224
        },
        "id": "YyIAuJht1b2-",
        "outputId": "48a4caed-cf2d-482d-8799-639447dded8a"
      },
      "execution_count": 57,
      "outputs": [
        {
          "output_type": "stream",
          "name": "stdout",
          "text": [
            "(2921, 9)\n"
          ]
        },
        {
          "output_type": "execute_result",
          "data": {
            "text/plain": [
              "     地域ID 市区町村名   町名     町丁目         緯度          経度  保育園(最近傍距離)  保育園(平均距離)  \\\n",
              "0  101003  千代田区  丸の内  丸の内１丁目  35.681610  139.767511    0.747610   0.805902   \n",
              "1  101004  千代田区  丸の内  丸の内２丁目  35.680071  139.763944    0.841154   0.971389   \n",
              "2  101005  千代田区  丸の内  丸の内３丁目  35.676890  139.764039    0.611528   0.903572   \n",
              "3  101007  千代田区  大手町  大手町１丁目  35.688067  139.764353    0.324671   0.756240   \n",
              "4  101008  千代田区  大手町  大手町２丁目  35.686416  139.768530    0.306243   0.658302   \n",
              "\n",
              "   保育園(数)  \n",
              "0       3  \n",
              "1       1  \n",
              "2       1  \n",
              "3       3  \n",
              "4       4  "
            ],
            "text/html": [
              "\n",
              "  <div id=\"df-4a9b0ac5-115e-4be7-860a-42b6fa1b1d08\">\n",
              "    <div class=\"colab-df-container\">\n",
              "      <div>\n",
              "<style scoped>\n",
              "    .dataframe tbody tr th:only-of-type {\n",
              "        vertical-align: middle;\n",
              "    }\n",
              "\n",
              "    .dataframe tbody tr th {\n",
              "        vertical-align: top;\n",
              "    }\n",
              "\n",
              "    .dataframe thead th {\n",
              "        text-align: right;\n",
              "    }\n",
              "</style>\n",
              "<table border=\"1\" class=\"dataframe\">\n",
              "  <thead>\n",
              "    <tr style=\"text-align: right;\">\n",
              "      <th></th>\n",
              "      <th>地域ID</th>\n",
              "      <th>市区町村名</th>\n",
              "      <th>町名</th>\n",
              "      <th>町丁目</th>\n",
              "      <th>緯度</th>\n",
              "      <th>経度</th>\n",
              "      <th>保育園(最近傍距離)</th>\n",
              "      <th>保育園(平均距離)</th>\n",
              "      <th>保育園(数)</th>\n",
              "    </tr>\n",
              "  </thead>\n",
              "  <tbody>\n",
              "    <tr>\n",
              "      <th>0</th>\n",
              "      <td>101003</td>\n",
              "      <td>千代田区</td>\n",
              "      <td>丸の内</td>\n",
              "      <td>丸の内１丁目</td>\n",
              "      <td>35.681610</td>\n",
              "      <td>139.767511</td>\n",
              "      <td>0.747610</td>\n",
              "      <td>0.805902</td>\n",
              "      <td>3</td>\n",
              "    </tr>\n",
              "    <tr>\n",
              "      <th>1</th>\n",
              "      <td>101004</td>\n",
              "      <td>千代田区</td>\n",
              "      <td>丸の内</td>\n",
              "      <td>丸の内２丁目</td>\n",
              "      <td>35.680071</td>\n",
              "      <td>139.763944</td>\n",
              "      <td>0.841154</td>\n",
              "      <td>0.971389</td>\n",
              "      <td>1</td>\n",
              "    </tr>\n",
              "    <tr>\n",
              "      <th>2</th>\n",
              "      <td>101005</td>\n",
              "      <td>千代田区</td>\n",
              "      <td>丸の内</td>\n",
              "      <td>丸の内３丁目</td>\n",
              "      <td>35.676890</td>\n",
              "      <td>139.764039</td>\n",
              "      <td>0.611528</td>\n",
              "      <td>0.903572</td>\n",
              "      <td>1</td>\n",
              "    </tr>\n",
              "    <tr>\n",
              "      <th>3</th>\n",
              "      <td>101007</td>\n",
              "      <td>千代田区</td>\n",
              "      <td>大手町</td>\n",
              "      <td>大手町１丁目</td>\n",
              "      <td>35.688067</td>\n",
              "      <td>139.764353</td>\n",
              "      <td>0.324671</td>\n",
              "      <td>0.756240</td>\n",
              "      <td>3</td>\n",
              "    </tr>\n",
              "    <tr>\n",
              "      <th>4</th>\n",
              "      <td>101008</td>\n",
              "      <td>千代田区</td>\n",
              "      <td>大手町</td>\n",
              "      <td>大手町２丁目</td>\n",
              "      <td>35.686416</td>\n",
              "      <td>139.768530</td>\n",
              "      <td>0.306243</td>\n",
              "      <td>0.658302</td>\n",
              "      <td>4</td>\n",
              "    </tr>\n",
              "  </tbody>\n",
              "</table>\n",
              "</div>\n",
              "      <button class=\"colab-df-convert\" onclick=\"convertToInteractive('df-4a9b0ac5-115e-4be7-860a-42b6fa1b1d08')\"\n",
              "              title=\"Convert this dataframe to an interactive table.\"\n",
              "              style=\"display:none;\">\n",
              "        \n",
              "  <svg xmlns=\"http://www.w3.org/2000/svg\" height=\"24px\"viewBox=\"0 0 24 24\"\n",
              "       width=\"24px\">\n",
              "    <path d=\"M0 0h24v24H0V0z\" fill=\"none\"/>\n",
              "    <path d=\"M18.56 5.44l.94 2.06.94-2.06 2.06-.94-2.06-.94-.94-2.06-.94 2.06-2.06.94zm-11 1L8.5 8.5l.94-2.06 2.06-.94-2.06-.94L8.5 2.5l-.94 2.06-2.06.94zm10 10l.94 2.06.94-2.06 2.06-.94-2.06-.94-.94-2.06-.94 2.06-2.06.94z\"/><path d=\"M17.41 7.96l-1.37-1.37c-.4-.4-.92-.59-1.43-.59-.52 0-1.04.2-1.43.59L10.3 9.45l-7.72 7.72c-.78.78-.78 2.05 0 2.83L4 21.41c.39.39.9.59 1.41.59.51 0 1.02-.2 1.41-.59l7.78-7.78 2.81-2.81c.8-.78.8-2.07 0-2.86zM5.41 20L4 18.59l7.72-7.72 1.47 1.35L5.41 20z\"/>\n",
              "  </svg>\n",
              "      </button>\n",
              "      \n",
              "  <style>\n",
              "    .colab-df-container {\n",
              "      display:flex;\n",
              "      flex-wrap:wrap;\n",
              "      gap: 12px;\n",
              "    }\n",
              "\n",
              "    .colab-df-convert {\n",
              "      background-color: #E8F0FE;\n",
              "      border: none;\n",
              "      border-radius: 50%;\n",
              "      cursor: pointer;\n",
              "      display: none;\n",
              "      fill: #1967D2;\n",
              "      height: 32px;\n",
              "      padding: 0 0 0 0;\n",
              "      width: 32px;\n",
              "    }\n",
              "\n",
              "    .colab-df-convert:hover {\n",
              "      background-color: #E2EBFA;\n",
              "      box-shadow: 0px 1px 2px rgba(60, 64, 67, 0.3), 0px 1px 3px 1px rgba(60, 64, 67, 0.15);\n",
              "      fill: #174EA6;\n",
              "    }\n",
              "\n",
              "    [theme=dark] .colab-df-convert {\n",
              "      background-color: #3B4455;\n",
              "      fill: #D2E3FC;\n",
              "    }\n",
              "\n",
              "    [theme=dark] .colab-df-convert:hover {\n",
              "      background-color: #434B5C;\n",
              "      box-shadow: 0px 1px 3px 1px rgba(0, 0, 0, 0.15);\n",
              "      filter: drop-shadow(0px 1px 2px rgba(0, 0, 0, 0.3));\n",
              "      fill: #FFFFFF;\n",
              "    }\n",
              "  </style>\n",
              "\n",
              "      <script>\n",
              "        const buttonEl =\n",
              "          document.querySelector('#df-4a9b0ac5-115e-4be7-860a-42b6fa1b1d08 button.colab-df-convert');\n",
              "        buttonEl.style.display =\n",
              "          google.colab.kernel.accessAllowed ? 'block' : 'none';\n",
              "\n",
              "        async function convertToInteractive(key) {\n",
              "          const element = document.querySelector('#df-4a9b0ac5-115e-4be7-860a-42b6fa1b1d08');\n",
              "          const dataTable =\n",
              "            await google.colab.kernel.invokeFunction('convertToInteractive',\n",
              "                                                     [key], {});\n",
              "          if (!dataTable) return;\n",
              "\n",
              "          const docLinkHtml = 'Like what you see? Visit the ' +\n",
              "            '<a target=\"_blank\" href=https://colab.research.google.com/notebooks/data_table.ipynb>data table notebook</a>'\n",
              "            + ' to learn more about interactive tables.';\n",
              "          element.innerHTML = '';\n",
              "          dataTable['output_type'] = 'display_data';\n",
              "          await google.colab.output.renderOutput(dataTable, element);\n",
              "          const docLink = document.createElement('div');\n",
              "          docLink.innerHTML = docLinkHtml;\n",
              "          element.appendChild(docLink);\n",
              "        }\n",
              "      </script>\n",
              "    </div>\n",
              "  </div>\n",
              "  "
            ]
          },
          "metadata": {},
          "execution_count": 57
        }
      ]
    },
    {
      "cell_type": "code",
      "source": [
        "sns.histplot(df_pop_master['保育園(数)'], bins=10)\n",
        "plt.show()"
      ],
      "metadata": {
        "colab": {
          "base_uri": "https://localhost:8080/",
          "height": 279
        },
        "id": "zpZn8uSt-EEi",
        "outputId": "e32675f4-090b-436e-e7a5-86544fd4c89d"
      },
      "execution_count": 58,
      "outputs": [
        {
          "output_type": "display_data",
          "data": {
            "text/plain": [
              "<Figure size 432x288 with 1 Axes>"
            ],
            "image/png": "[encoded data removed]"
          },
          "metadata": {
            "needs_background": "light"
          }
        }
      ]
    },
    {
      "cell_type": "code",
      "source": [
        "sns.histplot(df_pop_master['保育園(最近傍距離)'], bins=20)\n",
        "plt.show()"
      ],
      "metadata": {
        "colab": {
          "base_uri": "https://localhost:8080/",
          "height": 279
        },
        "id": "-K5jHi6j-LF8",
        "outputId": "47b9d80b-d15e-47ba-a314-ab7284773c5d"
      },
      "execution_count": 59,
      "outputs": [
        {
          "output_type": "display_data",
          "data": {
            "text/plain": [
              "<Figure size 432x288 with 1 Axes>"
            ],
            "image/png": "[encoded data removed]"
          },
          "metadata": {
            "needs_background": "light"
          }
        }
      ]
    },
    {
      "cell_type": "code",
      "source": [
        "sns.histplot(df_pop_master['保育園(平均距離)'], bins=20)\n",
        "plt.show()"
      ],
      "metadata": {
        "colab": {
          "base_uri": "https://localhost:8080/",
          "height": 279
        },
        "id": "C_SQVlCv-NsA",
        "outputId": "d17c655f-c525-45c4-bd41-9f3aee481d0c"
      },
      "execution_count": 60,
      "outputs": [
        {
          "output_type": "display_data",
          "data": {
            "text/plain": [
              "<Figure size 432x288 with 1 Axes>"
            ],
            "image/png": "[encoded data removed]"
          },
          "metadata": {
            "needs_background": "light"
          }
        }
      ]
    },
    {
      "cell_type": "code",
      "source": [
        "def normalize_score(sr_data, high=True, outlier=True):\n",
        "    score = (sr_data - sr_data.mean())/sr_data.std()\n",
        "    score = score if high else -score\n",
        "\n",
        "    if outlier:\n",
        "        high_s = score.quantile(0.99)\n",
        "        low_s = score.quantile(0.01)\n",
        "        score[score > high_s] = high_s\n",
        "        score[score < low_s] = low_s\n",
        "    else:\n",
        "        high_s = score.max()\n",
        "        low_s = score.min()\n",
        "        \n",
        "    return (score - low_s)/(high_s - low_s)\n",
        "\n",
        "\n",
        "def rank_score(sr_data):\n",
        "    size = sr_data.notna().sum()\n",
        "    rank = sr_data.rank()\n",
        "    result = rank.copy()\n",
        "    # 0~1: 15%, 1~2: 20%, 2~3: 30%, 3~4: 20%, 4~5: 15%\n",
        "    level_list = [0.15, (0.15+0.2), (0.15+0.2+0.3), (0.15+0.2+0.3+0.2), 1]\n",
        "    \n",
        "    pre_level = 0\n",
        "    for index, level in enumerate([lv*size for lv in level_list]):\n",
        "        result[(rank > pre_level)&(rank <= level)] = (rank - pre_level)/(level - pre_level) + index\n",
        "        pre_level = level\n",
        "\n",
        "    return result"
      ],
      "metadata": {
        "id": "xnhp6O2H-RuY"
      },
      "execution_count": 61,
      "outputs": []
    },
    {
      "cell_type": "code",
      "source": [
        "df_pop_master['保育園(数)レベル'] = normalize_score(df_pop_master['保育園(数)'], outlier=False)\n",
        "sns.histplot(df_pop_master['保育園(数)レベル'], bins=10)\n",
        "plt.show()"
      ],
      "metadata": {
        "colab": {
          "base_uri": "https://localhost:8080/",
          "height": 279
        },
        "id": "1ZMBCIIZ-Ups",
        "outputId": "b7a277bc-ee20-4462-d1ff-8b65b7815b78"
      },
      "execution_count": 62,
      "outputs": [
        {
          "output_type": "display_data",
          "data": {
            "text/plain": [
              "<Figure size 432x288 with 1 Axes>"
            ],
            "image/png": "[encoded data removed]"
          },
          "metadata": {
            "needs_background": "light"
          }
        }
      ]
    },
    {
      "cell_type": "code",
      "source": [
        "df_pop_master['保育園(平均距離)レベル'] = normalize_score(df_pop_master['保育園(平均距離)'], False)\n",
        "sns.histplot(df_pop_master['保育園(平均距離)レベル'], bins=20)\n",
        "plt.show()"
      ],
      "metadata": {
        "colab": {
          "base_uri": "https://localhost:8080/",
          "height": 279
        },
        "id": "r__I6Ivr-WpS",
        "outputId": "7d2c7b9b-9cf0-421e-e6e1-aed52a0ee5a2"
      },
      "execution_count": 63,
      "outputs": [
        {
          "output_type": "display_data",
          "data": {
            "text/plain": [
              "<Figure size 432x288 with 1 Axes>"
            ],
            "image/png": "[encoded data removed]"
          },
          "metadata": {
            "needs_background": "light"
          }
        }
      ]
    },
    {
      "cell_type": "code",
      "source": [
        "df_pop_master['保育園(最近傍距離)レベル'] = normalize_score(df_pop_master['保育園(最近傍距離)'], False)\n",
        "sns.histplot(df_pop_master['保育園(最近傍距離)レベル'], bins=20)\n",
        "plt.show()"
      ],
      "metadata": {
        "colab": {
          "base_uri": "https://localhost:8080/",
          "height": 279
        },
        "id": "31AD0gwR-ZdS",
        "outputId": "7d94a7d3-e191-4152-c18f-93743aec7ac6"
      },
      "execution_count": 64,
      "outputs": [
        {
          "output_type": "display_data",
          "data": {
            "text/plain": [
              "<Figure size 432x288 with 1 Axes>"
            ],
            "image/png": "[encoded data removed]"
          },
          "metadata": {
            "needs_background": "light"
          }
        }
      ]
    },
    {
      "cell_type": "code",
      "source": [
        "score_list = [\n",
        "    df_pop_master['保育園(最近傍距離)レベル'] * 1.0,\n",
        "    df_pop_master['保育園(平均距離)レベル'] * 0.5,\n",
        "    df_pop_master['保育園(数)レベル'] * 0.5,\n",
        "]\n",
        "df_pop_master['_保育園スコア'] = normalize_score(pd.concat(score_list, axis=1).sum(axis=1, skipna=False), outlier=False)\n",
        "df_pop_master['保育園スコア'] = rank_score(df_pop_master['_保育園スコア'])"
      ],
      "metadata": {
        "id": "PQsfDNSM-boe"
      },
      "execution_count": 65,
      "outputs": []
    },
    {
      "cell_type": "code",
      "source": [
        "sns.histplot(df_pop_master['_保育園スコア'], bins=20)\n",
        "plt.show()"
      ],
      "metadata": {
        "colab": {
          "base_uri": "https://localhost:8080/",
          "height": 278
        },
        "id": "s9N2hbcw-ePw",
        "outputId": "c4692b11-82f6-4ba6-c905-695fd046bfec"
      },
      "execution_count": 66,
      "outputs": [
        {
          "output_type": "display_data",
          "data": {
            "text/plain": [
              "<Figure size 432x288 with 1 Axes>"
            ],
            "image/png": "[encoded data removed]"
          },
          "metadata": {
            "needs_background": "light"
          }
        }
      ]
    },
    {
      "cell_type": "code",
      "source": [
        "sns.histplot(df_pop_master['保育園スコア'], bins=20)\n",
        "plt.show()"
      ],
      "metadata": {
        "colab": {
          "base_uri": "https://localhost:8080/",
          "height": 278
        },
        "id": "XoUF6WSQ-gOw",
        "outputId": "2618bd21-5f64-455d-8bbf-228a19a96df6"
      },
      "execution_count": 67,
      "outputs": [
        {
          "output_type": "display_data",
          "data": {
            "text/plain": [
              "<Figure size 432x288 with 1 Axes>"
            ],
            "image/png": "[encoded data removed]"
          },
          "metadata": {
            "needs_background": "light"
          }
        }
      ]
    },
    {
      "cell_type": "code",
      "source": [
        "df_pop_master[['地域ID', '市区町村名', '町丁目', '保育園(最近傍距離)', '保育園(平均距離)', '保育園(数)', '保育園スコア']]\\\n",
        "    .to_csv(os.path.join(DIR_NAME, 'nursery_score.csv'), index=False)"
      ],
      "metadata": {
        "id": "AqDrjIdB-jOO"
      },
      "execution_count": 73,
      "outputs": []
    },
    {
      "cell_type": "code",
      "source": [
        "plt.figure(figsize=(15, 5))\n",
        "sns.barplot(x='市区町村名', y='保育園スコア', data=df_pop_master)\n",
        "plt.show()"
      ],
      "metadata": {
        "colab": {
          "base_uri": "https://localhost:8080/",
          "height": 333
        },
        "id": "WmM2Bvqu-lKP",
        "outputId": "f90c2790-9076-45d9-bc5a-e48b4b0d45b7"
      },
      "execution_count": 69,
      "outputs": [
        {
          "output_type": "display_data",
          "data": {
            "text/plain": [
              "<Figure size 1080x360 with 1 Axes>"
            ],
            "image/png": "[encoded data removed]"
          },
          "metadata": {
            "needs_background": "light"
          }
        }
      ]
    },
    {
      "cell_type": "code",
      "source": [
        "df_library_level = df_pop_master.copy()\n",
        "df_library_level['rank'] = df_library_level.groupby('町名')['保育園スコア'].transform('rank', ascending=False)\n",
        "df_library_level = df_library_level[df_library_level['rank'] == 1].sort_values('保育園スコア', ascending=False)[\n",
        "    ['市区町村名', '町名', '町丁目', '保育園スコア', '_保育園スコア', '保育園(最近傍距離)', '保育園(平均距離)', '保育園(数)']\n",
        "].reset_index(drop=True)\n",
        "print(df_library_level.shape)"
      ],
      "metadata": {
        "colab": {
          "base_uri": "https://localhost:8080/"
        },
        "id": "2ohWeOmS-oku",
        "outputId": "c10125eb-bf10-4786-ed84-77ae540aad80"
      },
      "execution_count": 70,
      "outputs": [
        {
          "output_type": "stream",
          "name": "stdout",
          "text": [
            "(697, 8)\n"
          ]
        }
      ]
    },
    {
      "cell_type": "code",
      "source": [
        "df_library_level.head(20)"
      ],
      "metadata": {
        "colab": {
          "base_uri": "https://localhost:8080/",
          "height": 677
        },
        "id": "Y-MJE9v0-qtM",
        "outputId": "33536ca7-7d80-4ae6-81f7-99135a1d76d9"
      },
      "execution_count": 71,
      "outputs": [
        {
          "output_type": "execute_result",
          "data": {
            "text/plain": [
              "   市区町村名      町名        町丁目    保育園スコア   _保育園スコア  保育園(最近傍距離)  保育園(平均距離)  保育園(数)\n",
              "0    江東区      森下      森下３丁目  5.000000  1.000000    0.010684   0.078456      34\n",
              "1    墨田区      立川      立川２丁目  4.997711  0.972411    0.080975   0.149261      34\n",
              "2    品川区     東中延     東中延２丁目  4.995423  0.970582    0.037886   0.146473      31\n",
              "3    中央区   日本橋浜町   日本橋浜町１丁目  4.993134  0.970302    0.021259   0.136044      30\n",
              "4    墨田区       緑       緑３丁目  4.990846  0.966604    0.034921   0.171510      31\n",
              "5    墨田区      千歳      千歳３丁目  4.986268  0.958568    0.035699   0.208362      31\n",
              "6    墨田区      菊川      菊川１丁目  4.983980  0.958324    0.110534   0.189642      35\n",
              "7    中央区  日本橋堀留町  日本橋堀留町２丁目  4.979403  0.955642    0.034451   0.074225      28\n",
              "8    文京区      千石      千石３丁目  4.977114  0.954410    0.096463   0.170944      33\n",
              "9    中央区  日本橋人形町  日本橋人形町３丁目  4.970248  0.944606    0.040117   0.134248      27\n",
              "10   品川区      豊町      豊町５丁目  4.967960  0.944510    0.082020   0.181624      31\n",
              "11   中央区      月島      月島４丁目  4.963383  0.944003    0.045631   0.075048      27\n",
              "12   江東区      大島      大島５丁目  4.961094  0.943603    0.045058   0.162003      28\n",
              "13   目黒区      鷹番      鷹番２丁目  4.958805  0.941512    0.077022   0.206100      31\n",
              "14   目黒区     中央町     中央町２丁目  4.956517  0.941415    0.090528   0.146188      30\n",
              "15   品川区      二葉      二葉１丁目  4.951940  0.940562    0.037485   0.077456      26\n",
              "16   文京区     本駒込     本駒込１丁目  4.949651  0.939939    0.130860   0.137391      32\n",
              "17   文京区      大塚      大塚６丁目  4.940497  0.933274    0.034295   0.134290      25\n",
              "18   豊島区     南大塚     南大塚１丁目  4.938208  0.931654    0.064768   0.212140      29\n",
              "19   文京区      本郷      本郷６丁目  4.935919  0.930135    0.060780   0.128553      26"
            ],
            "text/html": [
              "\n",
              "  <div id=\"df-30b7b291-01fa-4c80-acd4-f06fb2630481\">\n",
              "    <div class=\"colab-df-container\">\n",
              "      <div>\n",
              "<style scoped>\n",
              "    .dataframe tbody tr th:only-of-type {\n",
              "        vertical-align: middle;\n",
              "    }\n",
              "\n",
              "    .dataframe tbody tr th {\n",
              "        vertical-align: top;\n",
              "    }\n",
              "\n",
              "    .dataframe thead th {\n",
              "        text-align: right;\n",
              "    }\n",
              "</style>\n",
              "<table border=\"1\" class=\"dataframe\">\n",
              "  <thead>\n",
              "    <tr style=\"text-align: right;\">\n",
              "      <th></th>\n",
              "      <th>市区町村名</th>\n",
              "      <th>町名</th>\n",
              "      <th>町丁目</th>\n",
              "      <th>保育園スコア</th>\n",
              "      <th>_保育園スコア</th>\n",
              "      <th>保育園(最近傍距離)</th>\n",
              "      <th>保育園(平均距離)</th>\n",
              "      <th>保育園(数)</th>\n",
              "    </tr>\n",
              "  </thead>\n",
              "  <tbody>\n",
              "    <tr>\n",
              "      <th>0</th>\n",
              "      <td>江東区</td>\n",
              "      <td>森下</td>\n",
              "      <td>森下３丁目</td>\n",
              "      <td>5.000000</td>\n",
              "      <td>1.000000</td>\n",
              "      <td>0.010684</td>\n",
              "      <td>0.078456</td>\n",
              "      <td>34</td>\n",
              "    </tr>\n",
              "    <tr>\n",
              "      <th>1</th>\n",
              "      <td>墨田区</td>\n",
              "      <td>立川</td>\n",
              "      <td>立川２丁目</td>\n",
              "      <td>4.997711</td>\n",
              "      <td>0.972411</td>\n",
              "      <td>0.080975</td>\n",
              "      <td>0.149261</td>\n",
              "      <td>34</td>\n",
              "    </tr>\n",
              "    <tr>\n",
              "      <th>2</th>\n",
              "      <td>品川区</td>\n",
              "      <td>東中延</td>\n",
              "      <td>東中延２丁目</td>\n",
              "      <td>4.995423</td>\n",
              "      <td>0.970582</td>\n",
              "      <td>0.037886</td>\n",
              "      <td>0.146473</td>\n",
              "      <td>31</td>\n",
              "    </tr>\n",
              "    <tr>\n",
              "      <th>3</th>\n",
              "      <td>中央区</td>\n",
              "      <td>日本橋浜町</td>\n",
              "      <td>日本橋浜町１丁目</td>\n",
              "      <td>4.993134</td>\n",
              "      <td>0.970302</td>\n",
              "      <td>0.021259</td>\n",
              "      <td>0.136044</td>\n",
              "      <td>30</td>\n",
              "    </tr>\n",
              "    <tr>\n",
              "      <th>4</th>\n",
              "      <td>墨田区</td>\n",
              "      <td>緑</td>\n",
              "      <td>緑３丁目</td>\n",
              "      <td>4.990846</td>\n",
              "      <td>0.966604</td>\n",
              "      <td>0.034921</td>\n",
              "      <td>0.171510</td>\n",
              "      <td>31</td>\n",
              "    </tr>\n",
              "    <tr>\n",
              "      <th>5</th>\n",
              "      <td>墨田区</td>\n",
              "      <td>千歳</td>\n",
              "      <td>千歳３丁目</td>\n",
              "      <td>4.986268</td>\n",
              "      <td>0.958568</td>\n",
              "      <td>0.035699</td>\n",
              "      <td>0.208362</td>\n",
              "      <td>31</td>\n",
              "    </tr>\n",
              "    <tr>\n",
              "      <th>6</th>\n",
              "      <td>墨田区</td>\n",
              "      <td>菊川</td>\n",
              "      <td>菊川１丁目</td>\n",
              "      <td>4.983980</td>\n",
              "      <td>0.958324</td>\n",
              "      <td>0.110534</td>\n",
              "      <td>0.189642</td>\n",
              "      <td>35</td>\n",
              "    </tr>\n",
              "    <tr>\n",
              "      <th>7</th>\n",
              "      <td>中央区</td>\n",
              "      <td>日本橋堀留町</td>\n",
              "      <td>日本橋堀留町２丁目</td>\n",
              "      <td>4.979403</td>\n",
              "      <td>0.955642</td>\n",
              "      <td>0.034451</td>\n",
              "      <td>0.074225</td>\n",
              "      <td>28</td>\n",
              "    </tr>\n",
              "    <tr>\n",
              "      <th>8</th>\n",
              "      <td>文京区</td>\n",
              "      <td>千石</td>\n",
              "      <td>千石３丁目</td>\n",
              "      <td>4.977114</td>\n",
              "      <td>0.954410</td>\n",
              "      <td>0.096463</td>\n",
              "      <td>0.170944</td>\n",
              "      <td>33</td>\n",
              "    </tr>\n",
              "    <tr>\n",
              "      <th>9</th>\n",
              "      <td>中央区</td>\n",
              "      <td>日本橋人形町</td>\n",
              "      <td>日本橋人形町３丁目</td>\n",
              "      <td>4.970248</td>\n",
              "      <td>0.944606</td>\n",
              "      <td>0.040117</td>\n",
              "      <td>0.134248</td>\n",
              "      <td>27</td>\n",
              "    </tr>\n",
              "    <tr>\n",
              "      <th>10</th>\n",
              "      <td>品川区</td>\n",
              "      <td>豊町</td>\n",
              "      <td>豊町５丁目</td>\n",
              "      <td>4.967960</td>\n",
              "      <td>0.944510</td>\n",
              "      <td>0.082020</td>\n",
              "      <td>0.181624</td>\n",
              "      <td>31</td>\n",
              "    </tr>\n",
              "    <tr>\n",
              "      <th>11</th>\n",
              "      <td>中央区</td>\n",
              "      <td>月島</td>\n",
              "      <td>月島４丁目</td>\n",
              "      <td>4.963383</td>\n",
              "      <td>0.944003</td>\n",
              "      <td>0.045631</td>\n",
              "      <td>0.075048</td>\n",
              "      <td>27</td>\n",
              "    </tr>\n",
              "    <tr>\n",
              "      <th>12</th>\n",
              "      <td>江東区</td>\n",
              "      <td>大島</td>\n",
              "      <td>大島５丁目</td>\n",
              "      <td>4.961094</td>\n",
              "      <td>0.943603</td>\n",
              "      <td>0.045058</td>\n",
              "      <td>0.162003</td>\n",
              "      <td>28</td>\n",
              "    </tr>\n",
              "    <tr>\n",
              "      <th>13</th>\n",
              "      <td>目黒区</td>\n",
              "      <td>鷹番</td>\n",
              "      <td>鷹番２丁目</td>\n",
              "      <td>4.958805</td>\n",
              "      <td>0.941512</td>\n",
              "      <td>0.077022</td>\n",
              "      <td>0.206100</td>\n",
              "      <td>31</td>\n",
              "    </tr>\n",
              "    <tr>\n",
              "      <th>14</th>\n",
              "      <td>目黒区</td>\n",
              "      <td>中央町</td>\n",
              "      <td>中央町２丁目</td>\n",
              "      <td>4.956517</td>\n",
              "      <td>0.941415</td>\n",
              "      <td>0.090528</td>\n",
              "      <td>0.146188</td>\n",
              "      <td>30</td>\n",
              "    </tr>\n",
              "    <tr>\n",
              "      <th>15</th>\n",
              "      <td>品川区</td>\n",
              "      <td>二葉</td>\n",
              "      <td>二葉１丁目</td>\n",
              "      <td>4.951940</td>\n",
              "      <td>0.940562</td>\n",
              "      <td>0.037485</td>\n",
              "      <td>0.077456</td>\n",
              "      <td>26</td>\n",
              "    </tr>\n",
              "    <tr>\n",
              "      <th>16</th>\n",
              "      <td>文京区</td>\n",
              "      <td>本駒込</td>\n",
              "      <td>本駒込１丁目</td>\n",
              "      <td>4.949651</td>\n",
              "      <td>0.939939</td>\n",
              "      <td>0.130860</td>\n",
              "      <td>0.137391</td>\n",
              "      <td>32</td>\n",
              "    </tr>\n",
              "    <tr>\n",
              "      <th>17</th>\n",
              "      <td>文京区</td>\n",
              "      <td>大塚</td>\n",
              "      <td>大塚６丁目</td>\n",
              "      <td>4.940497</td>\n",
              "      <td>0.933274</td>\n",
              "      <td>0.034295</td>\n",
              "      <td>0.134290</td>\n",
              "      <td>25</td>\n",
              "    </tr>\n",
              "    <tr>\n",
              "      <th>18</th>\n",
              "      <td>豊島区</td>\n",
              "      <td>南大塚</td>\n",
              "      <td>南大塚１丁目</td>\n",
              "      <td>4.938208</td>\n",
              "      <td>0.931654</td>\n",
              "      <td>0.064768</td>\n",
              "      <td>0.212140</td>\n",
              "      <td>29</td>\n",
              "    </tr>\n",
              "    <tr>\n",
              "      <th>19</th>\n",
              "      <td>文京区</td>\n",
              "      <td>本郷</td>\n",
              "      <td>本郷６丁目</td>\n",
              "      <td>4.935919</td>\n",
              "      <td>0.930135</td>\n",
              "      <td>0.060780</td>\n",
              "      <td>0.128553</td>\n",
              "      <td>26</td>\n",
              "    </tr>\n",
              "  </tbody>\n",
              "</table>\n",
              "</div>\n",
              "      <button class=\"colab-df-convert\" onclick=\"convertToInteractive('df-30b7b291-01fa-4c80-acd4-f06fb2630481')\"\n",
              "              title=\"Convert this dataframe to an interactive table.\"\n",
              "              style=\"display:none;\">\n",
              "        \n",
              "  <svg xmlns=\"http://www.w3.org/2000/svg\" height=\"24px\"viewBox=\"0 0 24 24\"\n",
              "       width=\"24px\">\n",
              "    <path d=\"M0 0h24v24H0V0z\" fill=\"none\"/>\n",
              "    <path d=\"M18.56 5.44l.94 2.06.94-2.06 2.06-.94-2.06-.94-.94-2.06-.94 2.06-2.06.94zm-11 1L8.5 8.5l.94-2.06 2.06-.94-2.06-.94L8.5 2.5l-.94 2.06-2.06.94zm10 10l.94 2.06.94-2.06 2.06-.94-2.06-.94-.94-2.06-.94 2.06-2.06.94z\"/><path d=\"M17.41 7.96l-1.37-1.37c-.4-.4-.92-.59-1.43-.59-.52 0-1.04.2-1.43.59L10.3 9.45l-7.72 7.72c-.78.78-.78 2.05 0 2.83L4 21.41c.39.39.9.59 1.41.59.51 0 1.02-.2 1.41-.59l7.78-7.78 2.81-2.81c.8-.78.8-2.07 0-2.86zM5.41 20L4 18.59l7.72-7.72 1.47 1.35L5.41 20z\"/>\n",
              "  </svg>\n",
              "      </button>\n",
              "      \n",
              "  <style>\n",
              "    .colab-df-container {\n",
              "      display:flex;\n",
              "      flex-wrap:wrap;\n",
              "      gap: 12px;\n",
              "    }\n",
              "\n",
              "    .colab-df-convert {\n",
              "      background-color: #E8F0FE;\n",
              "      border: none;\n",
              "      border-radius: 50%;\n",
              "      cursor: pointer;\n",
              "      display: none;\n",
              "      fill: #1967D2;\n",
              "      height: 32px;\n",
              "      padding: 0 0 0 0;\n",
              "      width: 32px;\n",
              "    }\n",
              "\n",
              "    .colab-df-convert:hover {\n",
              "      background-color: #E2EBFA;\n",
              "      box-shadow: 0px 1px 2px rgba(60, 64, 67, 0.3), 0px 1px 3px 1px rgba(60, 64, 67, 0.15);\n",
              "      fill: #174EA6;\n",
              "    }\n",
              "\n",
              "    [theme=dark] .colab-df-convert {\n",
              "      background-color: #3B4455;\n",
              "      fill: #D2E3FC;\n",
              "    }\n",
              "\n",
              "    [theme=dark] .colab-df-convert:hover {\n",
              "      background-color: #434B5C;\n",
              "      box-shadow: 0px 1px 3px 1px rgba(0, 0, 0, 0.15);\n",
              "      filter: drop-shadow(0px 1px 2px rgba(0, 0, 0, 0.3));\n",
              "      fill: #FFFFFF;\n",
              "    }\n",
              "  </style>\n",
              "\n",
              "      <script>\n",
              "        const buttonEl =\n",
              "          document.querySelector('#df-30b7b291-01fa-4c80-acd4-f06fb2630481 button.colab-df-convert');\n",
              "        buttonEl.style.display =\n",
              "          google.colab.kernel.accessAllowed ? 'block' : 'none';\n",
              "\n",
              "        async function convertToInteractive(key) {\n",
              "          const element = document.querySelector('#df-30b7b291-01fa-4c80-acd4-f06fb2630481');\n",
              "          const dataTable =\n",
              "            await google.colab.kernel.invokeFunction('convertToInteractive',\n",
              "                                                     [key], {});\n",
              "          if (!dataTable) return;\n",
              "\n",
              "          const docLinkHtml = 'Like what you see? Visit the ' +\n",
              "            '<a target=\"_blank\" href=https://colab.research.google.com/notebooks/data_table.ipynb>data table notebook</a>'\n",
              "            + ' to learn more about interactive tables.';\n",
              "          element.innerHTML = '';\n",
              "          dataTable['output_type'] = 'display_data';\n",
              "          await google.colab.output.renderOutput(dataTable, element);\n",
              "          const docLink = document.createElement('div');\n",
              "          docLink.innerHTML = docLinkHtml;\n",
              "          element.appendChild(docLink);\n",
              "        }\n",
              "      </script>\n",
              "    </div>\n",
              "  </div>\n",
              "  "
            ]
          },
          "metadata": {},
          "execution_count": 71
        }
      ]
    },
    {
      "cell_type": "code",
      "source": [
        "df_library_level.tail(20)"
      ],
      "metadata": {
        "colab": {
          "base_uri": "https://localhost:8080/",
          "height": 677
        },
        "id": "suQPqES4-suF",
        "outputId": "7b98362e-5ce5-4666-de92-8fd818510aa6"
      },
      "execution_count": 72,
      "outputs": [
        {
          "output_type": "execute_result",
          "data": {
            "text/plain": [
              "    市区町村名    町名      町丁目    保育園スコア   _保育園スコア  保育園(最近傍距離)  保育園(平均距離)  保育園(数)\n",
              "677   足立区   西伊興   西伊興１丁目  0.663691  0.554635    0.424303   0.560199       7\n",
              "678   足立区   堀之内   堀之内２丁目  0.636228  0.546498    0.402952   0.576460       5\n",
              "679  千代田区  神田錦町  神田錦町１丁目  0.585879  0.535330    0.409772   0.583052       4\n",
              "680   大田区   平和島   平和島１丁目  0.576725  0.532483    0.445365   0.656388       8\n",
              "681   大田区   昭和島   昭和島１丁目  0.546973  0.525864    0.436216   0.574676       4\n",
              "682   板橋区    四葉    四葉１丁目  0.542396  0.524412    0.531414   0.586389      10\n",
              "683  江戸川区   北篠崎   北篠崎１丁目  0.359309  0.468931    0.511514   0.727174       5\n",
              "684   江東区    新砂    新砂１丁目  0.322691  0.457833    0.653698   0.689703      11\n",
              "685  千代田区   永田町   永田町２丁目  0.276920  0.427942    0.637925   0.666758       5\n",
              "686   足立区   古千谷   古千谷２丁目  0.235725  0.402898    0.627583   0.741541       3\n",
              "687  千代田区   有楽町   有楽町２丁目  0.205973  0.366835    0.616597   0.903302       2\n",
              "688  千代田区   一ツ橋   一ツ橋２丁目  0.203685  0.365161    0.698123   0.778911       3\n",
              "689  千代田区   丸の内   丸の内３丁目  0.192242  0.362032    0.611528   0.903572       1\n",
              "690   江東区    青海    青海１丁目  0.180799  0.348730    0.574889   1.041507       1\n",
              "691   大田区  羽田空港  羽田空港１丁目  0.114430  0.243104    0.873644   0.973568       2\n",
              "692   江東区   夢の島   夢の島１丁目  0.100698  0.185893    0.957965   1.043132       1\n",
              "693  千代田区   内幸町   内幸町２丁目  0.096121  0.171851    0.948419   1.129648       1\n",
              "694  千代田区   霞が関   霞が関３丁目  0.093832  0.150701    1.001848   1.089424       0\n",
              "695   大田区   京浜島   京浜島１丁目  0.073235  0.058063    1.093650   1.347276       0\n",
              "696   大田区    東海    東海１丁目  0.070946  0.019188    1.199143   1.318119       0"
            ],
            "text/html": [
              "\n",
              "  <div id=\"df-b3853b78-e6db-42da-b6a5-7ae8f7f29d26\">\n",
              "    <div class=\"colab-df-container\">\n",
              "      <div>\n",
              "<style scoped>\n",
              "    .dataframe tbody tr th:only-of-type {\n",
              "        vertical-align: middle;\n",
              "    }\n",
              "\n",
              "    .dataframe tbody tr th {\n",
              "        vertical-align: top;\n",
              "    }\n",
              "\n",
              "    .dataframe thead th {\n",
              "        text-align: right;\n",
              "    }\n",
              "</style>\n",
              "<table border=\"1\" class=\"dataframe\">\n",
              "  <thead>\n",
              "    <tr style=\"text-align: right;\">\n",
              "      <th></th>\n",
              "      <th>市区町村名</th>\n",
              "      <th>町名</th>\n",
              "      <th>町丁目</th>\n",
              "      <th>保育園スコア</th>\n",
              "      <th>_保育園スコア</th>\n",
              "      <th>保育園(最近傍距離)</th>\n",
              "      <th>保育園(平均距離)</th>\n",
              "      <th>保育園(数)</th>\n",
              "    </tr>\n",
              "  </thead>\n",
              "  <tbody>\n",
              "    <tr>\n",
              "      <th>677</th>\n",
              "      <td>足立区</td>\n",
              "      <td>西伊興</td>\n",
              "      <td>西伊興１丁目</td>\n",
              "      <td>0.663691</td>\n",
              "      <td>0.554635</td>\n",
              "      <td>0.424303</td>\n",
              "      <td>0.560199</td>\n",
              "      <td>7</td>\n",
              "    </tr>\n",
              "    <tr>\n",
              "      <th>678</th>\n",
              "      <td>足立区</td>\n",
              "      <td>堀之内</td>\n",
              "      <td>堀之内２丁目</td>\n",
              "      <td>0.636228</td>\n",
              "      <td>0.546498</td>\n",
              "      <td>0.402952</td>\n",
              "      <td>0.576460</td>\n",
              "      <td>5</td>\n",
              "    </tr>\n",
              "    <tr>\n",
              "      <th>679</th>\n",
              "      <td>千代田区</td>\n",
              "      <td>神田錦町</td>\n",
              "      <td>神田錦町１丁目</td>\n",
              "      <td>0.585879</td>\n",
              "      <td>0.535330</td>\n",
              "      <td>0.409772</td>\n",
              "      <td>0.583052</td>\n",
              "      <td>4</td>\n",
              "    </tr>\n",
              "    <tr>\n",
              "      <th>680</th>\n",
              "      <td>大田区</td>\n",
              "      <td>平和島</td>\n",
              "      <td>平和島１丁目</td>\n",
              "      <td>0.576725</td>\n",
              "      <td>0.532483</td>\n",
              "      <td>0.445365</td>\n",
              "      <td>0.656388</td>\n",
              "      <td>8</td>\n",
              "    </tr>\n",
              "    <tr>\n",
              "      <th>681</th>\n",
              "      <td>大田区</td>\n",
              "      <td>昭和島</td>\n",
              "      <td>昭和島１丁目</td>\n",
              "      <td>0.546973</td>\n",
              "      <td>0.525864</td>\n",
              "      <td>0.436216</td>\n",
              "      <td>0.574676</td>\n",
              "      <td>4</td>\n",
              "    </tr>\n",
              "    <tr>\n",
              "      <th>682</th>\n",
              "      <td>板橋区</td>\n",
              "      <td>四葉</td>\n",
              "      <td>四葉１丁目</td>\n",
              "      <td>0.542396</td>\n",
              "      <td>0.524412</td>\n",
              "      <td>0.531414</td>\n",
              "      <td>0.586389</td>\n",
              "      <td>10</td>\n",
              "    </tr>\n",
              "    <tr>\n",
              "      <th>683</th>\n",
              "      <td>江戸川区</td>\n",
              "      <td>北篠崎</td>\n",
              "      <td>北篠崎１丁目</td>\n",
              "      <td>0.359309</td>\n",
              "      <td>0.468931</td>\n",
              "      <td>0.511514</td>\n",
              "      <td>0.727174</td>\n",
              "      <td>5</td>\n",
              "    </tr>\n",
              "    <tr>\n",
              "      <th>684</th>\n",
              "      <td>江東区</td>\n",
              "      <td>新砂</td>\n",
              "      <td>新砂１丁目</td>\n",
              "      <td>0.322691</td>\n",
              "      <td>0.457833</td>\n",
              "      <td>0.653698</td>\n",
              "      <td>0.689703</td>\n",
              "      <td>11</td>\n",
              "    </tr>\n",
              "    <tr>\n",
              "      <th>685</th>\n",
              "      <td>千代田区</td>\n",
              "      <td>永田町</td>\n",
              "      <td>永田町２丁目</td>\n",
              "      <td>0.276920</td>\n",
              "      <td>0.427942</td>\n",
              "      <td>0.637925</td>\n",
              "      <td>0.666758</td>\n",
              "      <td>5</td>\n",
              "    </tr>\n",
              "    <tr>\n",
              "      <th>686</th>\n",
              "      <td>足立区</td>\n",
              "      <td>古千谷</td>\n",
              "      <td>古千谷２丁目</td>\n",
              "      <td>0.235725</td>\n",
              "      <td>0.402898</td>\n",
              "      <td>0.627583</td>\n",
              "      <td>0.741541</td>\n",
              "      <td>3</td>\n",
              "    </tr>\n",
              "    <tr>\n",
              "      <th>687</th>\n",
              "      <td>千代田区</td>\n",
              "      <td>有楽町</td>\n",
              "      <td>有楽町２丁目</td>\n",
              "      <td>0.205973</td>\n",
              "      <td>0.366835</td>\n",
              "      <td>0.616597</td>\n",
              "      <td>0.903302</td>\n",
              "      <td>2</td>\n",
              "    </tr>\n",
              "    <tr>\n",
              "      <th>688</th>\n",
              "      <td>千代田区</td>\n",
              "      <td>一ツ橋</td>\n",
              "      <td>一ツ橋２丁目</td>\n",
              "      <td>0.203685</td>\n",
              "      <td>0.365161</td>\n",
              "      <td>0.698123</td>\n",
              "      <td>0.778911</td>\n",
              "      <td>3</td>\n",
              "    </tr>\n",
              "    <tr>\n",
              "      <th>689</th>\n",
              "      <td>千代田区</td>\n",
              "      <td>丸の内</td>\n",
              "      <td>丸の内３丁目</td>\n",
              "      <td>0.192242</td>\n",
              "      <td>0.362032</td>\n",
              "      <td>0.611528</td>\n",
              "      <td>0.903572</td>\n",
              "      <td>1</td>\n",
              "    </tr>\n",
              "    <tr>\n",
              "      <th>690</th>\n",
              "      <td>江東区</td>\n",
              "      <td>青海</td>\n",
              "      <td>青海１丁目</td>\n",
              "      <td>0.180799</td>\n",
              "      <td>0.348730</td>\n",
              "      <td>0.574889</td>\n",
              "      <td>1.041507</td>\n",
              "      <td>1</td>\n",
              "    </tr>\n",
              "    <tr>\n",
              "      <th>691</th>\n",
              "      <td>大田区</td>\n",
              "      <td>羽田空港</td>\n",
              "      <td>羽田空港１丁目</td>\n",
              "      <td>0.114430</td>\n",
              "      <td>0.243104</td>\n",
              "      <td>0.873644</td>\n",
              "      <td>0.973568</td>\n",
              "      <td>2</td>\n",
              "    </tr>\n",
              "    <tr>\n",
              "      <th>692</th>\n",
              "      <td>江東区</td>\n",
              "      <td>夢の島</td>\n",
              "      <td>夢の島１丁目</td>\n",
              "      <td>0.100698</td>\n",
              "      <td>0.185893</td>\n",
              "      <td>0.957965</td>\n",
              "      <td>1.043132</td>\n",
              "      <td>1</td>\n",
              "    </tr>\n",
              "    <tr>\n",
              "      <th>693</th>\n",
              "      <td>千代田区</td>\n",
              "      <td>内幸町</td>\n",
              "      <td>内幸町２丁目</td>\n",
              "      <td>0.096121</td>\n",
              "      <td>0.171851</td>\n",
              "      <td>0.948419</td>\n",
              "      <td>1.129648</td>\n",
              "      <td>1</td>\n",
              "    </tr>\n",
              "    <tr>\n",
              "      <th>694</th>\n",
              "      <td>千代田区</td>\n",
              "      <td>霞が関</td>\n",
              "      <td>霞が関３丁目</td>\n",
              "      <td>0.093832</td>\n",
              "      <td>0.150701</td>\n",
              "      <td>1.001848</td>\n",
              "      <td>1.089424</td>\n",
              "      <td>0</td>\n",
              "    </tr>\n",
              "    <tr>\n",
              "      <th>695</th>\n",
              "      <td>大田区</td>\n",
              "      <td>京浜島</td>\n",
              "      <td>京浜島１丁目</td>\n",
              "      <td>0.073235</td>\n",
              "      <td>0.058063</td>\n",
              "      <td>1.093650</td>\n",
              "      <td>1.347276</td>\n",
              "      <td>0</td>\n",
              "    </tr>\n",
              "    <tr>\n",
              "      <th>696</th>\n",
              "      <td>大田区</td>\n",
              "      <td>東海</td>\n",
              "      <td>東海１丁目</td>\n",
              "      <td>0.070946</td>\n",
              "      <td>0.019188</td>\n",
              "      <td>1.199143</td>\n",
              "      <td>1.318119</td>\n",
              "      <td>0</td>\n",
              "    </tr>\n",
              "  </tbody>\n",
              "</table>\n",
              "</div>\n",
              "      <button class=\"colab-df-convert\" onclick=\"convertToInteractive('df-b3853b78-e6db-42da-b6a5-7ae8f7f29d26')\"\n",
              "              title=\"Convert this dataframe to an interactive table.\"\n",
              "              style=\"display:none;\">\n",
              "        \n",
              "  <svg xmlns=\"http://www.w3.org/2000/svg\" height=\"24px\"viewBox=\"0 0 24 24\"\n",
              "       width=\"24px\">\n",
              "    <path d=\"M0 0h24v24H0V0z\" fill=\"none\"/>\n",
              "    <path d=\"M18.56 5.44l.94 2.06.94-2.06 2.06-.94-2.06-.94-.94-2.06-.94 2.06-2.06.94zm-11 1L8.5 8.5l.94-2.06 2.06-.94-2.06-.94L8.5 2.5l-.94 2.06-2.06.94zm10 10l.94 2.06.94-2.06 2.06-.94-2.06-.94-.94-2.06-.94 2.06-2.06.94z\"/><path d=\"M17.41 7.96l-1.37-1.37c-.4-.4-.92-.59-1.43-.59-.52 0-1.04.2-1.43.59L10.3 9.45l-7.72 7.72c-.78.78-.78 2.05 0 2.83L4 21.41c.39.39.9.59 1.41.59.51 0 1.02-.2 1.41-.59l7.78-7.78 2.81-2.81c.8-.78.8-2.07 0-2.86zM5.41 20L4 18.59l7.72-7.72 1.47 1.35L5.41 20z\"/>\n",
              "  </svg>\n",
              "      </button>\n",
              "      \n",
              "  <style>\n",
              "    .colab-df-container {\n",
              "      display:flex;\n",
              "      flex-wrap:wrap;\n",
              "      gap: 12px;\n",
              "    }\n",
              "\n",
              "    .colab-df-convert {\n",
              "      background-color: #E8F0FE;\n",
              "      border: none;\n",
              "      border-radius: 50%;\n",
              "      cursor: pointer;\n",
              "      display: none;\n",
              "      fill: #1967D2;\n",
              "      height: 32px;\n",
              "      padding: 0 0 0 0;\n",
              "      width: 32px;\n",
              "    }\n",
              "\n",
              "    .colab-df-convert:hover {\n",
              "      background-color: #E2EBFA;\n",
              "      box-shadow: 0px 1px 2px rgba(60, 64, 67, 0.3), 0px 1px 3px 1px rgba(60, 64, 67, 0.15);\n",
              "      fill: #174EA6;\n",
              "    }\n",
              "\n",
              "    [theme=dark] .colab-df-convert {\n",
              "      background-color: #3B4455;\n",
              "      fill: #D2E3FC;\n",
              "    }\n",
              "\n",
              "    [theme=dark] .colab-df-convert:hover {\n",
              "      background-color: #434B5C;\n",
              "      box-shadow: 0px 1px 3px 1px rgba(0, 0, 0, 0.15);\n",
              "      filter: drop-shadow(0px 1px 2px rgba(0, 0, 0, 0.3));\n",
              "      fill: #FFFFFF;\n",
              "    }\n",
              "  </style>\n",
              "\n",
              "      <script>\n",
              "        const buttonEl =\n",
              "          document.querySelector('#df-b3853b78-e6db-42da-b6a5-7ae8f7f29d26 button.colab-df-convert');\n",
              "        buttonEl.style.display =\n",
              "          google.colab.kernel.accessAllowed ? 'block' : 'none';\n",
              "\n",
              "        async function convertToInteractive(key) {\n",
              "          const element = document.querySelector('#df-b3853b78-e6db-42da-b6a5-7ae8f7f29d26');\n",
              "          const dataTable =\n",
              "            await google.colab.kernel.invokeFunction('convertToInteractive',\n",
              "                                                     [key], {});\n",
              "          if (!dataTable) return;\n",
              "\n",
              "          const docLinkHtml = 'Like what you see? Visit the ' +\n",
              "            '<a target=\"_blank\" href=https://colab.research.google.com/notebooks/data_table.ipynb>data table notebook</a>'\n",
              "            + ' to learn more about interactive tables.';\n",
              "          element.innerHTML = '';\n",
              "          dataTable['output_type'] = 'display_data';\n",
              "          await google.colab.output.renderOutput(dataTable, element);\n",
              "          const docLink = document.createElement('div');\n",
              "          docLink.innerHTML = docLinkHtml;\n",
              "          element.appendChild(docLink);\n",
              "        }\n",
              "      </script>\n",
              "    </div>\n",
              "  </div>\n",
              "  "
            ]
          },
          "metadata": {},
          "execution_count": 72
        }
      ]
    }
  ]
}