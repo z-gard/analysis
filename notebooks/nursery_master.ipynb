{
  "nbformat": 4,
  "nbformat_minor": 0,
  "metadata": {
    "colab": {
      "provenance": [],
      "authorship_tag": "ABX9TyPNgz+swYwD1KBJUgNY+qRg",
      "include_colab_link": true
    },
    "kernelspec": {
      "name": "python3",
      "display_name": "Python 3"
    },
    "language_info": {
      "name": "python"
    }
  },
  "cells": [
    {
      "cell_type": "markdown",
      "metadata": {
        "id": "view-in-github",
        "colab_type": "text"
      },
      "source": [
        "<a href=\"https://colab.research.google.com/github/z-gard/analysis/blob/main/notebooks/nursery_master.ipynb\" target=\"_parent\"><img src=\"https://colab.research.google.com/assets/colab-badge.svg\" alt=\"Open In Colab\"/></a>"
      ]
    },
    {
      "cell_type": "markdown",
      "source": [
        "# 保育所\n",
        "- [（認可）保育所](https://catalog.data.metro.tokyo.lg.jp/dataset/t000010d0000000099/resource/f3a1b2c5-a037-4627-9166-2a4863bf3bd9)\n",
        "- [児童館](https://catalog.data.metro.tokyo.lg.jp/dataset/t000010d0000000099/resource/ef6db4bc-966b-48cd-88ac-5922d413ad0b)"
      ],
      "metadata": {
        "id": "bWg52QgHvf21"
      }
    },
    {
      "cell_type": "code",
      "source": [
        "!pip install -q japanize-matplotlib"
      ],
      "metadata": {
        "id": "qy5bYwoLzJee"
      },
      "execution_count": 1,
      "outputs": []
    },
    {
      "cell_type": "code",
      "execution_count": 2,
      "metadata": {
        "colab": {
          "base_uri": "https://localhost:8080/"
        },
        "id": "W_Ys4ZQDvYjK",
        "outputId": "93f1f4f9-01ee-4077-ef0d-c7dbb5b9a999"
      },
      "outputs": [
        {
          "output_type": "stream",
          "name": "stdout",
          "text": [
            "Drive already mounted at /content/drive; to attempt to forcibly remount, call drive.mount(\"/content/drive\", force_remount=True).\n"
          ]
        }
      ],
      "source": [
        "from google.colab import drive\n",
        "drive.mount('/content/drive')"
      ]
    },
    {
      "cell_type": "code",
      "source": [
        "import os\n",
        "import requests\n",
        "import json\n",
        "import pandas as pd\n",
        "from urllib.parse import urlparse, quote\n",
        "import io\n",
        "import math\n",
        "import numpy as np\n",
        "import matplotlib.pyplot as plt\n",
        "import japanize_matplotlib\n",
        "import seaborn as sns\n",
        "\n",
        "pd.set_option('display.max_columns', 50)\n",
        "pd.set_option('display.max_rows', 100)"
      ],
      "metadata": {
        "id": "QBjzumCZvuOS"
      },
      "execution_count": 3,
      "outputs": []
    },
    {
      "cell_type": "code",
      "source": [
        "DIR_NAME = '/content/drive/MyDrive/z-gard/data'"
      ],
      "metadata": {
        "id": "O93oCOcLv9Hr"
      },
      "execution_count": 4,
      "outputs": []
    },
    {
      "cell_type": "code",
      "source": [
        "output_master_file = 'nursery_master.csv'\n",
        "output_score_file = 'nursery_score.csv'"
      ],
      "metadata": {
        "id": "WNNN4Poqc7Nz"
      },
      "execution_count": 5,
      "outputs": []
    },
    {
      "cell_type": "code",
      "source": [
        "def get_data_csv_url(url, encoding='utf-8', excel=False):\n",
        "    res = requests.get(url)\n",
        "    if res.status_code == 200:\n",
        "        if not excel:\n",
        "            return pd.read_csv(io.BytesIO(res.content), encoding=encoding)\n",
        "        else:\n",
        "            return pd.read_excel(io.BytesIO(res.content))\n",
        "    else:\n",
        "        raise Exception(f'status_code: {res.status_code} ({url})')"
      ],
      "metadata": {
        "id": "QCgFNfNawAtL"
      },
      "execution_count": 6,
      "outputs": []
    },
    {
      "cell_type": "markdown",
      "source": [
        "### 保育所"
      ],
      "metadata": {
        "id": "-VjRZle1YqAk"
      }
    },
    {
      "cell_type": "code",
      "source": [
        "nursery_url = 'https://www.opendata.metro.tokyo.lg.jp/fukushihoken/R3/202110-2-1-hoikusyo.csv'\n",
        "df_nursery = get_data_csv_url(nursery_url, encoding='shift-jis')\n",
        "print(df_nursery.shape)"
      ],
      "metadata": {
        "colab": {
          "base_uri": "https://localhost:8080/"
        },
        "id": "NrHr4nBzvzMT",
        "outputId": "79c3af58-9ca9-4d8f-c35f-cee517009c1a"
      },
      "execution_count": 7,
      "outputs": [
        {
          "output_type": "stream",
          "name": "stdout",
          "text": [
            "(3431, 9)\n"
          ]
        }
      ]
    },
    {
      "cell_type": "code",
      "source": [
        "df_nursery['市区町村名'] = df_nursery['所在地'].str.extract('(^.*?[区市])', expand=False)\n",
        "df_nursery['施設分類'] = '認可保育所'\n",
        "\n",
        "df_nursery_master = df_nursery[\n",
        "    (df_nursery['市区町村名'].notna())&\n",
        "    (df_nursery['市区町村名'].str.endswith('区'))&\n",
        "    (df_nursery['市区町村名'].str.len() < 5)\n",
        "][['市区町村名', '施設分類', '設置', '施設名', '所在地', '緯度', '経度', '定員']].rename(columns={'施設名':'名称'}).reset_index(drop=True)\n",
        "print(df_nursery_master.shape)\n",
        "\n",
        "assert df_nursery_master['市区町村名'].nunique() == 23"
      ],
      "metadata": {
        "colab": {
          "base_uri": "https://localhost:8080/"
        },
        "id": "bWNCBTG6xXzZ",
        "outputId": "e83f6eba-0561-4b3d-96a7-51734636426c"
      },
      "execution_count": 8,
      "outputs": [
        {
          "output_type": "stream",
          "name": "stdout",
          "text": [
            "(2526, 8)\n"
          ]
        }
      ]
    },
    {
      "cell_type": "markdown",
      "source": [
        "### 児童館"
      ],
      "metadata": {
        "id": "ZnBnbKZTYsjD"
      }
    },
    {
      "cell_type": "code",
      "source": [
        "childrenhouse_url = 'https://www.opendata.metro.tokyo.lg.jp/fukushihoken/R3/202110-2-2-06-zidoukan.csv'\n",
        "df_childrenhouse = get_data_csv_url(childrenhouse_url, encoding='shift-jis')\n",
        "print(df_childrenhouse.shape)"
      ],
      "metadata": {
        "id": "gV5w2EJ8Yoyn",
        "outputId": "425ab18d-d281-4b4f-dbc4-c5d3f5cfdbd7",
        "colab": {
          "base_uri": "https://localhost:8080/"
        }
      },
      "execution_count": 9,
      "outputs": [
        {
          "output_type": "stream",
          "name": "stdout",
          "text": [
            "(587, 9)\n"
          ]
        }
      ]
    },
    {
      "cell_type": "code",
      "source": [
        "df_childrenhouse['市区町村名'] = df_childrenhouse['所在地'].str.extract('(^.*?[区市])', expand=False)\n",
        "df_childrenhouse['施設分類'] = '児童館'\n",
        "\n",
        "df_childrenhouse_master = df_childrenhouse[\n",
        "    (df_childrenhouse['市区町村名'].notna())&\n",
        "    (df_childrenhouse['市区町村名'].str.endswith('区'))&\n",
        "    (df_childrenhouse['市区町村名'].str.len() < 5)\n",
        "][['市区町村名', '施設分類', '設置', '施設名', '所在地', '緯度', '経度']].rename(columns={'施設名':'名称'}).reset_index(drop=True)\n",
        "print(df_childrenhouse_master.shape)\n",
        "\n",
        "assert df_childrenhouse_master['市区町村名'].nunique() == 23"
      ],
      "metadata": {
        "id": "oSuRSntUZW7A",
        "outputId": "29a4d695-e44c-4231-9363-5377d51b8307",
        "colab": {
          "base_uri": "https://localhost:8080/"
        }
      },
      "execution_count": 10,
      "outputs": [
        {
          "output_type": "stream",
          "name": "stdout",
          "text": [
            "(439, 7)\n"
          ]
        }
      ]
    },
    {
      "cell_type": "markdown",
      "source": [
        "### 保育所マスタ"
      ],
      "metadata": {
        "id": "nQe-fCj8Yw8h"
      }
    },
    {
      "cell_type": "code",
      "source": [
        "df_nursery_master = pd.concat([df_nursery_master, df_childrenhouse_master]).reset_index(drop=True)\n",
        "print(df_nursery_master.shape)"
      ],
      "metadata": {
        "id": "bytUJN_jaHqM",
        "outputId": "b56ccfc2-3cae-4126-a23c-79531041069c",
        "colab": {
          "base_uri": "https://localhost:8080/"
        }
      },
      "execution_count": 11,
      "outputs": [
        {
          "output_type": "stream",
          "name": "stdout",
          "text": [
            "(2965, 8)\n"
          ]
        }
      ]
    },
    {
      "cell_type": "code",
      "source": [
        "df_nursery_master.to_csv(os.path.join(DIR_NAME, output_master_file), index=False)"
      ],
      "metadata": {
        "id": "aM8avA2Pztsf"
      },
      "execution_count": 12,
      "outputs": []
    },
    {
      "cell_type": "code",
      "source": [
        "df_nursery_master"
      ],
      "metadata": {
        "id": "TmEsjiRlbP84",
        "outputId": "1de64bd5-3477-4beb-bb99-3cfb9b60fed3",
        "colab": {
          "base_uri": "https://localhost:8080/",
          "height": 424
        }
      },
      "execution_count": 13,
      "outputs": [
        {
          "output_type": "execute_result",
          "data": {
            "text/plain": [
              "     市区町村名   施設分類    設置          名称                     所在地        緯度  \\\n",
              "0     千代田区  認可保育所  営利法人  ほっぺるランド外神田            千代田区外神田４−８−６  35.70233   \n",
              "1     千代田区  認可保育所  社福法人  外神田かなりや保育園           千代田区外神田３−６−１３  35.70255   \n",
              "2     千代田区  認可保育所  区市町村     いずみこども園              千代田区神田和泉町１  35.69919   \n",
              "3     千代田区  認可保育所  営利法人    あい保育園東神田  千代田区東神田２−６−５　東神田ビル２・３階  35.69564   \n",
              "4     千代田区  認可保育所  社福法人   岩本町ちとせ保育園          千代田区岩本町２−１０−１２  35.69344   \n",
              "...    ...    ...   ...         ...                     ...       ...   \n",
              "2960  江戸川区    児童館  区市町村     共育プラザ平井            江戸川区平井７−２１−６  35.71465   \n",
              "2961  江戸川区    児童館  区市町村     共育プラザ小岩          江戸川区北小岩２−１４−１７  35.73995   \n",
              "2962  江戸川区    児童館  区市町村    共育プラザ南小岩            江戸川区南小岩４−５−８  35.72095   \n",
              "2963  江戸川区    児童館  区市町村    共育プラザ南篠崎          江戸川区南篠崎町３−１２−８  35.69662   \n",
              "2964  江戸川区    児童館  区市町村     共育プラザ葛西             江戸川区宇喜田町１７５  35.67343   \n",
              "\n",
              "             経度    定員  \n",
              "0     139.77260  87.0  \n",
              "1     139.76976  50.0  \n",
              "2     139.77597  36.0  \n",
              "3     139.78027  63.0  \n",
              "4     139.77722  69.0  \n",
              "...         ...   ...  \n",
              "2960  139.84042   NaN  \n",
              "2961  139.88454   NaN  \n",
              "2962  139.88564   NaN  \n",
              "2963  139.89914   NaN  \n",
              "2964  139.86150   NaN  \n",
              "\n",
              "[2965 rows x 8 columns]"
            ],
            "text/html": [
              "\n",
              "  <div id=\"df-01a21d3b-ac1c-42a2-8006-fada41fe475d\">\n",
              "    <div class=\"colab-df-container\">\n",
              "      <div>\n",
              "<style scoped>\n",
              "    .dataframe tbody tr th:only-of-type {\n",
              "        vertical-align: middle;\n",
              "    }\n",
              "\n",
              "    .dataframe tbody tr th {\n",
              "        vertical-align: top;\n",
              "    }\n",
              "\n",
              "    .dataframe thead th {\n",
              "        text-align: right;\n",
              "    }\n",
              "</style>\n",
              "<table border=\"1\" class=\"dataframe\">\n",
              "  <thead>\n",
              "    <tr style=\"text-align: right;\">\n",
              "      <th></th>\n",
              "      <th>市区町村名</th>\n",
              "      <th>施設分類</th>\n",
              "      <th>設置</th>\n",
              "      <th>名称</th>\n",
              "      <th>所在地</th>\n",
              "      <th>緯度</th>\n",
              "      <th>経度</th>\n",
              "      <th>定員</th>\n",
              "    </tr>\n",
              "  </thead>\n",
              "  <tbody>\n",
              "    <tr>\n",
              "      <th>0</th>\n",
              "      <td>千代田区</td>\n",
              "      <td>認可保育所</td>\n",
              "      <td>営利法人</td>\n",
              "      <td>ほっぺるランド外神田</td>\n",
              "      <td>千代田区外神田４−８−６</td>\n",
              "      <td>35.70233</td>\n",
              "      <td>139.77260</td>\n",
              "      <td>87.0</td>\n",
              "    </tr>\n",
              "    <tr>\n",
              "      <th>1</th>\n",
              "      <td>千代田区</td>\n",
              "      <td>認可保育所</td>\n",
              "      <td>社福法人</td>\n",
              "      <td>外神田かなりや保育園</td>\n",
              "      <td>千代田区外神田３−６−１３</td>\n",
              "      <td>35.70255</td>\n",
              "      <td>139.76976</td>\n",
              "      <td>50.0</td>\n",
              "    </tr>\n",
              "    <tr>\n",
              "      <th>2</th>\n",
              "      <td>千代田区</td>\n",
              "      <td>認可保育所</td>\n",
              "      <td>区市町村</td>\n",
              "      <td>いずみこども園</td>\n",
              "      <td>千代田区神田和泉町１</td>\n",
              "      <td>35.69919</td>\n",
              "      <td>139.77597</td>\n",
              "      <td>36.0</td>\n",
              "    </tr>\n",
              "    <tr>\n",
              "      <th>3</th>\n",
              "      <td>千代田区</td>\n",
              "      <td>認可保育所</td>\n",
              "      <td>営利法人</td>\n",
              "      <td>あい保育園東神田</td>\n",
              "      <td>千代田区東神田２−６−５　東神田ビル２・３階</td>\n",
              "      <td>35.69564</td>\n",
              "      <td>139.78027</td>\n",
              "      <td>63.0</td>\n",
              "    </tr>\n",
              "    <tr>\n",
              "      <th>4</th>\n",
              "      <td>千代田区</td>\n",
              "      <td>認可保育所</td>\n",
              "      <td>社福法人</td>\n",
              "      <td>岩本町ちとせ保育園</td>\n",
              "      <td>千代田区岩本町２−１０−１２</td>\n",
              "      <td>35.69344</td>\n",
              "      <td>139.77722</td>\n",
              "      <td>69.0</td>\n",
              "    </tr>\n",
              "    <tr>\n",
              "      <th>...</th>\n",
              "      <td>...</td>\n",
              "      <td>...</td>\n",
              "      <td>...</td>\n",
              "      <td>...</td>\n",
              "      <td>...</td>\n",
              "      <td>...</td>\n",
              "      <td>...</td>\n",
              "      <td>...</td>\n",
              "    </tr>\n",
              "    <tr>\n",
              "      <th>2960</th>\n",
              "      <td>江戸川区</td>\n",
              "      <td>児童館</td>\n",
              "      <td>区市町村</td>\n",
              "      <td>共育プラザ平井</td>\n",
              "      <td>江戸川区平井７−２１−６</td>\n",
              "      <td>35.71465</td>\n",
              "      <td>139.84042</td>\n",
              "      <td>NaN</td>\n",
              "    </tr>\n",
              "    <tr>\n",
              "      <th>2961</th>\n",
              "      <td>江戸川区</td>\n",
              "      <td>児童館</td>\n",
              "      <td>区市町村</td>\n",
              "      <td>共育プラザ小岩</td>\n",
              "      <td>江戸川区北小岩２−１４−１７</td>\n",
              "      <td>35.73995</td>\n",
              "      <td>139.88454</td>\n",
              "      <td>NaN</td>\n",
              "    </tr>\n",
              "    <tr>\n",
              "      <th>2962</th>\n",
              "      <td>江戸川区</td>\n",
              "      <td>児童館</td>\n",
              "      <td>区市町村</td>\n",
              "      <td>共育プラザ南小岩</td>\n",
              "      <td>江戸川区南小岩４−５−８</td>\n",
              "      <td>35.72095</td>\n",
              "      <td>139.88564</td>\n",
              "      <td>NaN</td>\n",
              "    </tr>\n",
              "    <tr>\n",
              "      <th>2963</th>\n",
              "      <td>江戸川区</td>\n",
              "      <td>児童館</td>\n",
              "      <td>区市町村</td>\n",
              "      <td>共育プラザ南篠崎</td>\n",
              "      <td>江戸川区南篠崎町３−１２−８</td>\n",
              "      <td>35.69662</td>\n",
              "      <td>139.89914</td>\n",
              "      <td>NaN</td>\n",
              "    </tr>\n",
              "    <tr>\n",
              "      <th>2964</th>\n",
              "      <td>江戸川区</td>\n",
              "      <td>児童館</td>\n",
              "      <td>区市町村</td>\n",
              "      <td>共育プラザ葛西</td>\n",
              "      <td>江戸川区宇喜田町１７５</td>\n",
              "      <td>35.67343</td>\n",
              "      <td>139.86150</td>\n",
              "      <td>NaN</td>\n",
              "    </tr>\n",
              "  </tbody>\n",
              "</table>\n",
              "<p>2965 rows × 8 columns</p>\n",
              "</div>\n",
              "      <button class=\"colab-df-convert\" onclick=\"convertToInteractive('df-01a21d3b-ac1c-42a2-8006-fada41fe475d')\"\n",
              "              title=\"Convert this dataframe to an interactive table.\"\n",
              "              style=\"display:none;\">\n",
              "        \n",
              "  <svg xmlns=\"http://www.w3.org/2000/svg\" height=\"24px\"viewBox=\"0 0 24 24\"\n",
              "       width=\"24px\">\n",
              "    <path d=\"M0 0h24v24H0V0z\" fill=\"none\"/>\n",
              "    <path d=\"M18.56 5.44l.94 2.06.94-2.06 2.06-.94-2.06-.94-.94-2.06-.94 2.06-2.06.94zm-11 1L8.5 8.5l.94-2.06 2.06-.94-2.06-.94L8.5 2.5l-.94 2.06-2.06.94zm10 10l.94 2.06.94-2.06 2.06-.94-2.06-.94-.94-2.06-.94 2.06-2.06.94z\"/><path d=\"M17.41 7.96l-1.37-1.37c-.4-.4-.92-.59-1.43-.59-.52 0-1.04.2-1.43.59L10.3 9.45l-7.72 7.72c-.78.78-.78 2.05 0 2.83L4 21.41c.39.39.9.59 1.41.59.51 0 1.02-.2 1.41-.59l7.78-7.78 2.81-2.81c.8-.78.8-2.07 0-2.86zM5.41 20L4 18.59l7.72-7.72 1.47 1.35L5.41 20z\"/>\n",
              "  </svg>\n",
              "      </button>\n",
              "      \n",
              "  <style>\n",
              "    .colab-df-container {\n",
              "      display:flex;\n",
              "      flex-wrap:wrap;\n",
              "      gap: 12px;\n",
              "    }\n",
              "\n",
              "    .colab-df-convert {\n",
              "      background-color: #E8F0FE;\n",
              "      border: none;\n",
              "      border-radius: 50%;\n",
              "      cursor: pointer;\n",
              "      display: none;\n",
              "      fill: #1967D2;\n",
              "      height: 32px;\n",
              "      padding: 0 0 0 0;\n",
              "      width: 32px;\n",
              "    }\n",
              "\n",
              "    .colab-df-convert:hover {\n",
              "      background-color: #E2EBFA;\n",
              "      box-shadow: 0px 1px 2px rgba(60, 64, 67, 0.3), 0px 1px 3px 1px rgba(60, 64, 67, 0.15);\n",
              "      fill: #174EA6;\n",
              "    }\n",
              "\n",
              "    [theme=dark] .colab-df-convert {\n",
              "      background-color: #3B4455;\n",
              "      fill: #D2E3FC;\n",
              "    }\n",
              "\n",
              "    [theme=dark] .colab-df-convert:hover {\n",
              "      background-color: #434B5C;\n",
              "      box-shadow: 0px 1px 3px 1px rgba(0, 0, 0, 0.15);\n",
              "      filter: drop-shadow(0px 1px 2px rgba(0, 0, 0, 0.3));\n",
              "      fill: #FFFFFF;\n",
              "    }\n",
              "  </style>\n",
              "\n",
              "      <script>\n",
              "        const buttonEl =\n",
              "          document.querySelector('#df-01a21d3b-ac1c-42a2-8006-fada41fe475d button.colab-df-convert');\n",
              "        buttonEl.style.display =\n",
              "          google.colab.kernel.accessAllowed ? 'block' : 'none';\n",
              "\n",
              "        async function convertToInteractive(key) {\n",
              "          const element = document.querySelector('#df-01a21d3b-ac1c-42a2-8006-fada41fe475d');\n",
              "          const dataTable =\n",
              "            await google.colab.kernel.invokeFunction('convertToInteractive',\n",
              "                                                     [key], {});\n",
              "          if (!dataTable) return;\n",
              "\n",
              "          const docLinkHtml = 'Like what you see? Visit the ' +\n",
              "            '<a target=\"_blank\" href=https://colab.research.google.com/notebooks/data_table.ipynb>data table notebook</a>'\n",
              "            + ' to learn more about interactive tables.';\n",
              "          element.innerHTML = '';\n",
              "          dataTable['output_type'] = 'display_data';\n",
              "          await google.colab.output.renderOutput(dataTable, element);\n",
              "          const docLink = document.createElement('div');\n",
              "          docLink.innerHTML = docLinkHtml;\n",
              "          element.appendChild(docLink);\n",
              "        }\n",
              "      </script>\n",
              "    </div>\n",
              "  </div>\n",
              "  "
            ]
          },
          "metadata": {},
          "execution_count": 13
        }
      ]
    },
    {
      "cell_type": "code",
      "source": [
        "plt.figure(figsize=(15, 5))\n",
        "sns.histplot(df_nursery_master, x='市区町村名', hue='施設分類', multiple='stack')\n",
        "plt.show()"
      ],
      "metadata": {
        "colab": {
          "base_uri": "https://localhost:8080/",
          "height": 333
        },
        "id": "rCgDh5Vtw10S",
        "outputId": "59b78d4d-abb8-4c54-cff8-b96221f1e2e9"
      },
      "execution_count": 14,
      "outputs": [
        {
          "output_type": "display_data",
          "data": {
            "text/plain": [
              "<Figure size 1080x360 with 1 Axes>"
            ],
            "image/png": "[encoded data removed]"
          },
          "metadata": {
            "needs_background": "light"
          }
        }
      ]
    },
    {
      "cell_type": "markdown",
      "source": [
        "### 人口マスタ"
      ],
      "metadata": {
        "id": "AlqD8mNcz8wX"
      }
    },
    {
      "cell_type": "code",
      "source": [
        "df_pop_master = pd.read_csv(os.path.join(DIR_NAME, 'population_master.csv'))[['地域ID', '市区町村名', '町名', '町丁目', '緯度', '経度']]\n",
        "print(df_pop_master.shape)"
      ],
      "metadata": {
        "colab": {
          "base_uri": "https://localhost:8080/"
        },
        "id": "u6_REO5iw4U-",
        "outputId": "9a57c980-9acd-4a97-ed18-eae2f10ec8d4"
      },
      "execution_count": 15,
      "outputs": [
        {
          "output_type": "stream",
          "name": "stdout",
          "text": [
            "(2921, 6)\n"
          ]
        }
      ]
    },
    {
      "cell_type": "code",
      "source": [
        "# 距離計算\n",
        "def get_distance(lat1, lon1, lat2, lon2):\n",
        "    _lat1 = lat1 * math.pi / 180\n",
        "    _lon1 = lon1 * math.pi / 180\n",
        "    _lat2 = lat2 * math.pi / 180\n",
        "    _lon2 = lon2 * math.pi / 180\n",
        "    _tmp = math.cos(_lat1) * math.cos(_lat2) * math.cos(_lon2 - _lon1) + math.sin(_lat1) * math.sin(_lat2)\n",
        "    _tmp = 1 if _tmp > 1 else -1 if _tmp < -1 else _tmp\n",
        "    return 6371 * math.acos(_tmp)\n",
        "\n",
        "# 最寄り施設までの距離\n",
        "def get_value_of_nearest_facility(df_master, df_facility, category, method='min', param=3):\n",
        "    _df_cat = df_facility[df_facility['施設分類'] == category].copy()\n",
        "    cat_values = []\n",
        "    for i, row in df_master.iterrows():\n",
        "        dist = _df_cat.apply(lambda x: get_distance(x['緯度'], x['経度'], row['緯度'], row['経度']), axis=1)\n",
        "        val = None\n",
        "        if method == 'min':\n",
        "            # 最小の距離\n",
        "            val = dist.min()\n",
        "        elif method == 'count':\n",
        "            # {param}km以内の施設の数をカウント\n",
        "            val = len(dist[dist <= param])\n",
        "        elif method == 'mean':\n",
        "            # 近い{param}件の距離の平均\n",
        "            val = dist.sort_values()[:param].mean()\n",
        "        cat_values.append(val)\n",
        "    return cat_values"
      ],
      "metadata": {
        "id": "rwRbaHZYz-og"
      },
      "execution_count": 16,
      "outputs": []
    },
    {
      "cell_type": "code",
      "source": [
        "%%time\n",
        "# 一番近い施設の距離\n",
        "df_pop_master['保育園(最近傍距離)'] = get_value_of_nearest_facility(df_pop_master, df_nursery_master, '認可保育所', 'min')\n",
        "# 1km以内の施設の数\n",
        "df_pop_master['保育園(数)'] = get_value_of_nearest_facility(df_pop_master, df_nursery_master, '認可保育所', 'count', 1)\n",
        "\n",
        "# 一番近い施設の距離\n",
        "df_pop_master['児童館(最近傍距離)'] = get_value_of_nearest_facility(df_pop_master, df_nursery_master, '児童館', 'min')\n",
        "# 2km以内の施設の数\n",
        "df_pop_master['児童館(数)'] = get_value_of_nearest_facility(df_pop_master, df_nursery_master, '児童館', 'count', 2)"
      ],
      "metadata": {
        "colab": {
          "base_uri": "https://localhost:8080/"
        },
        "id": "kvmdznFL0MdV",
        "outputId": "e279f32c-5190-4221-e8fe-d7f7911c30a9"
      },
      "execution_count": 17,
      "outputs": [
        {
          "output_type": "stream",
          "name": "stdout",
          "text": [
            "CPU times: user 6min 42s, sys: 1.29 s, total: 6min 43s\n",
            "Wall time: 6min 49s\n"
          ]
        }
      ]
    },
    {
      "cell_type": "code",
      "source": [
        "print(df_pop_master.shape)\n",
        "df_pop_master.head()"
      ],
      "metadata": {
        "colab": {
          "base_uri": "https://localhost:8080/",
          "height": 224
        },
        "id": "YyIAuJht1b2-",
        "outputId": "47358f07-6282-43bb-d9a5-1c4882d866de"
      },
      "execution_count": 18,
      "outputs": [
        {
          "output_type": "stream",
          "name": "stdout",
          "text": [
            "(2921, 10)\n"
          ]
        },
        {
          "output_type": "execute_result",
          "data": {
            "text/plain": [
              "     地域ID 市区町村名   町名     町丁目         緯度          経度  保育園(最近傍距離)  保育園(数)  \\\n",
              "0  101003  千代田区  丸の内  丸の内１丁目  35.681610  139.767511    0.747610       3   \n",
              "1  101004  千代田区  丸の内  丸の内２丁目  35.680071  139.763944    0.841154       1   \n",
              "2  101005  千代田区  丸の内  丸の内３丁目  35.676890  139.764039    0.611528       1   \n",
              "3  101007  千代田区  大手町  大手町１丁目  35.688067  139.764353    0.324671       3   \n",
              "4  101008  千代田区  大手町  大手町２丁目  35.686416  139.768530    0.306243       4   \n",
              "\n",
              "   児童館(最近傍距離)  児童館(数)  \n",
              "0    1.223562       4  \n",
              "1    1.588228       3  \n",
              "2    1.570712       4  \n",
              "3    1.352763       5  \n",
              "4    0.973485       5  "
            ],
            "text/html": [
              "\n",
              "  <div id=\"df-2ebd3e2a-f764-45aa-8723-7938e1256b52\">\n",
              "    <div class=\"colab-df-container\">\n",
              "      <div>\n",
              "<style scoped>\n",
              "    .dataframe tbody tr th:only-of-type {\n",
              "        vertical-align: middle;\n",
              "    }\n",
              "\n",
              "    .dataframe tbody tr th {\n",
              "        vertical-align: top;\n",
              "    }\n",
              "\n",
              "    .dataframe thead th {\n",
              "        text-align: right;\n",
              "    }\n",
              "</style>\n",
              "<table border=\"1\" class=\"dataframe\">\n",
              "  <thead>\n",
              "    <tr style=\"text-align: right;\">\n",
              "      <th></th>\n",
              "      <th>地域ID</th>\n",
              "      <th>市区町村名</th>\n",
              "      <th>町名</th>\n",
              "      <th>町丁目</th>\n",
              "      <th>緯度</th>\n",
              "      <th>経度</th>\n",
              "      <th>保育園(最近傍距離)</th>\n",
              "      <th>保育園(数)</th>\n",
              "      <th>児童館(最近傍距離)</th>\n",
              "      <th>児童館(数)</th>\n",
              "    </tr>\n",
              "  </thead>\n",
              "  <tbody>\n",
              "    <tr>\n",
              "      <th>0</th>\n",
              "      <td>101003</td>\n",
              "      <td>千代田区</td>\n",
              "      <td>丸の内</td>\n",
              "      <td>丸の内１丁目</td>\n",
              "      <td>35.681610</td>\n",
              "      <td>139.767511</td>\n",
              "      <td>0.747610</td>\n",
              "      <td>3</td>\n",
              "      <td>1.223562</td>\n",
              "      <td>4</td>\n",
              "    </tr>\n",
              "    <tr>\n",
              "      <th>1</th>\n",
              "      <td>101004</td>\n",
              "      <td>千代田区</td>\n",
              "      <td>丸の内</td>\n",
              "      <td>丸の内２丁目</td>\n",
              "      <td>35.680071</td>\n",
              "      <td>139.763944</td>\n",
              "      <td>0.841154</td>\n",
              "      <td>1</td>\n",
              "      <td>1.588228</td>\n",
              "      <td>3</td>\n",
              "    </tr>\n",
              "    <tr>\n",
              "      <th>2</th>\n",
              "      <td>101005</td>\n",
              "      <td>千代田区</td>\n",
              "      <td>丸の内</td>\n",
              "      <td>丸の内３丁目</td>\n",
              "      <td>35.676890</td>\n",
              "      <td>139.764039</td>\n",
              "      <td>0.611528</td>\n",
              "      <td>1</td>\n",
              "      <td>1.570712</td>\n",
              "      <td>4</td>\n",
              "    </tr>\n",
              "    <tr>\n",
              "      <th>3</th>\n",
              "      <td>101007</td>\n",
              "      <td>千代田区</td>\n",
              "      <td>大手町</td>\n",
              "      <td>大手町１丁目</td>\n",
              "      <td>35.688067</td>\n",
              "      <td>139.764353</td>\n",
              "      <td>0.324671</td>\n",
              "      <td>3</td>\n",
              "      <td>1.352763</td>\n",
              "      <td>5</td>\n",
              "    </tr>\n",
              "    <tr>\n",
              "      <th>4</th>\n",
              "      <td>101008</td>\n",
              "      <td>千代田区</td>\n",
              "      <td>大手町</td>\n",
              "      <td>大手町２丁目</td>\n",
              "      <td>35.686416</td>\n",
              "      <td>139.768530</td>\n",
              "      <td>0.306243</td>\n",
              "      <td>4</td>\n",
              "      <td>0.973485</td>\n",
              "      <td>5</td>\n",
              "    </tr>\n",
              "  </tbody>\n",
              "</table>\n",
              "</div>\n",
              "      <button class=\"colab-df-convert\" onclick=\"convertToInteractive('df-2ebd3e2a-f764-45aa-8723-7938e1256b52')\"\n",
              "              title=\"Convert this dataframe to an interactive table.\"\n",
              "              style=\"display:none;\">\n",
              "        \n",
              "  <svg xmlns=\"http://www.w3.org/2000/svg\" height=\"24px\"viewBox=\"0 0 24 24\"\n",
              "       width=\"24px\">\n",
              "    <path d=\"M0 0h24v24H0V0z\" fill=\"none\"/>\n",
              "    <path d=\"M18.56 5.44l.94 2.06.94-2.06 2.06-.94-2.06-.94-.94-2.06-.94 2.06-2.06.94zm-11 1L8.5 8.5l.94-2.06 2.06-.94-2.06-.94L8.5 2.5l-.94 2.06-2.06.94zm10 10l.94 2.06.94-2.06 2.06-.94-2.06-.94-.94-2.06-.94 2.06-2.06.94z\"/><path d=\"M17.41 7.96l-1.37-1.37c-.4-.4-.92-.59-1.43-.59-.52 0-1.04.2-1.43.59L10.3 9.45l-7.72 7.72c-.78.78-.78 2.05 0 2.83L4 21.41c.39.39.9.59 1.41.59.51 0 1.02-.2 1.41-.59l7.78-7.78 2.81-2.81c.8-.78.8-2.07 0-2.86zM5.41 20L4 18.59l7.72-7.72 1.47 1.35L5.41 20z\"/>\n",
              "  </svg>\n",
              "      </button>\n",
              "      \n",
              "  <style>\n",
              "    .colab-df-container {\n",
              "      display:flex;\n",
              "      flex-wrap:wrap;\n",
              "      gap: 12px;\n",
              "    }\n",
              "\n",
              "    .colab-df-convert {\n",
              "      background-color: #E8F0FE;\n",
              "      border: none;\n",
              "      border-radius: 50%;\n",
              "      cursor: pointer;\n",
              "      display: none;\n",
              "      fill: #1967D2;\n",
              "      height: 32px;\n",
              "      padding: 0 0 0 0;\n",
              "      width: 32px;\n",
              "    }\n",
              "\n",
              "    .colab-df-convert:hover {\n",
              "      background-color: #E2EBFA;\n",
              "      box-shadow: 0px 1px 2px rgba(60, 64, 67, 0.3), 0px 1px 3px 1px rgba(60, 64, 67, 0.15);\n",
              "      fill: #174EA6;\n",
              "    }\n",
              "\n",
              "    [theme=dark] .colab-df-convert {\n",
              "      background-color: #3B4455;\n",
              "      fill: #D2E3FC;\n",
              "    }\n",
              "\n",
              "    [theme=dark] .colab-df-convert:hover {\n",
              "      background-color: #434B5C;\n",
              "      box-shadow: 0px 1px 3px 1px rgba(0, 0, 0, 0.15);\n",
              "      filter: drop-shadow(0px 1px 2px rgba(0, 0, 0, 0.3));\n",
              "      fill: #FFFFFF;\n",
              "    }\n",
              "  </style>\n",
              "\n",
              "      <script>\n",
              "        const buttonEl =\n",
              "          document.querySelector('#df-2ebd3e2a-f764-45aa-8723-7938e1256b52 button.colab-df-convert');\n",
              "        buttonEl.style.display =\n",
              "          google.colab.kernel.accessAllowed ? 'block' : 'none';\n",
              "\n",
              "        async function convertToInteractive(key) {\n",
              "          const element = document.querySelector('#df-2ebd3e2a-f764-45aa-8723-7938e1256b52');\n",
              "          const dataTable =\n",
              "            await google.colab.kernel.invokeFunction('convertToInteractive',\n",
              "                                                     [key], {});\n",
              "          if (!dataTable) return;\n",
              "\n",
              "          const docLinkHtml = 'Like what you see? Visit the ' +\n",
              "            '<a target=\"_blank\" href=https://colab.research.google.com/notebooks/data_table.ipynb>data table notebook</a>'\n",
              "            + ' to learn more about interactive tables.';\n",
              "          element.innerHTML = '';\n",
              "          dataTable['output_type'] = 'display_data';\n",
              "          await google.colab.output.renderOutput(dataTable, element);\n",
              "          const docLink = document.createElement('div');\n",
              "          docLink.innerHTML = docLinkHtml;\n",
              "          element.appendChild(docLink);\n",
              "        }\n",
              "      </script>\n",
              "    </div>\n",
              "  </div>\n",
              "  "
            ]
          },
          "metadata": {},
          "execution_count": 18
        }
      ]
    },
    {
      "cell_type": "code",
      "source": [
        "sns.histplot(df_pop_master['保育園(数)'], bins=10)\n",
        "plt.show()"
      ],
      "metadata": {
        "colab": {
          "base_uri": "https://localhost:8080/",
          "height": 279
        },
        "id": "zpZn8uSt-EEi",
        "outputId": "22bb36d8-92c4-46ef-a41e-da6ede2e9c93"
      },
      "execution_count": 19,
      "outputs": [
        {
          "output_type": "display_data",
          "data": {
            "text/plain": [
              "<Figure size 432x288 with 1 Axes>"
            ],
            "image/png": "[encoded data removed]"
          },
          "metadata": {
            "needs_background": "light"
          }
        }
      ]
    },
    {
      "cell_type": "code",
      "source": [
        "sns.histplot(df_pop_master['保育園(最近傍距離)'], bins=20)\n",
        "plt.show()"
      ],
      "metadata": {
        "colab": {
          "base_uri": "https://localhost:8080/",
          "height": 279
        },
        "id": "-K5jHi6j-LF8",
        "outputId": "9bb5c427-ab88-407e-dffb-86e4ea53bbbe"
      },
      "execution_count": 20,
      "outputs": [
        {
          "output_type": "display_data",
          "data": {
            "text/plain": [
              "<Figure size 432x288 with 1 Axes>"
            ],
            "image/png": "[encoded data removed]"
          },
          "metadata": {
            "needs_background": "light"
          }
        }
      ]
    },
    {
      "cell_type": "code",
      "source": [
        "sns.histplot(df_pop_master['児童館(数)'], bins=10)\n",
        "plt.show()"
      ],
      "metadata": {
        "id": "OPOI1F29cQ6x",
        "outputId": "ad5fe198-44cd-4f93-999f-30dd0a861594",
        "colab": {
          "base_uri": "https://localhost:8080/",
          "height": 278
        }
      },
      "execution_count": 21,
      "outputs": [
        {
          "output_type": "display_data",
          "data": {
            "text/plain": [
              "<Figure size 432x288 with 1 Axes>"
            ],
            "image/png": "[encoded data removed]"
          },
          "metadata": {
            "needs_background": "light"
          }
        }
      ]
    },
    {
      "cell_type": "code",
      "source": [
        "sns.histplot(df_pop_master['児童館(最近傍距離)'], bins=20)\n",
        "plt.show()"
      ],
      "metadata": {
        "colab": {
          "base_uri": "https://localhost:8080/",
          "height": 278
        },
        "id": "C_SQVlCv-NsA",
        "outputId": "12e212ea-a8b5-4323-961d-385a533a8ed4"
      },
      "execution_count": 22,
      "outputs": [
        {
          "output_type": "display_data",
          "data": {
            "text/plain": [
              "<Figure size 432x288 with 1 Axes>"
            ],
            "image/png": "[encoded data removed]"
          },
          "metadata": {
            "needs_background": "light"
          }
        }
      ]
    },
    {
      "cell_type": "code",
      "source": [
        "def normalize_score(sr_data, high=True, outlier=True):\n",
        "    score = (sr_data - sr_data.mean())/sr_data.std()\n",
        "    score = score if high else -score\n",
        "\n",
        "    if outlier:\n",
        "        high_s = score.quantile(0.99)\n",
        "        low_s = score.quantile(0.01)\n",
        "        score[score > high_s] = high_s\n",
        "        score[score < low_s] = low_s\n",
        "    else:\n",
        "        high_s = score.max()\n",
        "        low_s = score.min()\n",
        "        \n",
        "    return (score - low_s)/(high_s - low_s)\n",
        "\n",
        "\n",
        "def rank_score(sr_data):\n",
        "    size = sr_data.notna().sum()\n",
        "    rank = sr_data.rank()\n",
        "    result = rank.copy()\n",
        "    # 0~1: 15%, 1~2: 20%, 2~3: 30%, 3~4: 20%, 4~5: 15%\n",
        "    level_list = [0.15, (0.15+0.2), (0.15+0.2+0.3), (0.15+0.2+0.3+0.2), 1]\n",
        "    \n",
        "    pre_level = 0\n",
        "    for index, level in enumerate([lv*size for lv in level_list]):\n",
        "        result[(rank > pre_level)&(rank <= level)] = (rank - pre_level)/(level - pre_level) + index\n",
        "        pre_level = level\n",
        "\n",
        "    return result"
      ],
      "metadata": {
        "id": "xnhp6O2H-RuY"
      },
      "execution_count": 23,
      "outputs": []
    },
    {
      "cell_type": "code",
      "source": [
        "df_pop_master['保育園(数)レベル'] = normalize_score(df_pop_master['保育園(数)'], outlier=False)\n",
        "sns.histplot(df_pop_master['保育園(数)レベル'], bins=10)\n",
        "plt.show()"
      ],
      "metadata": {
        "colab": {
          "base_uri": "https://localhost:8080/",
          "height": 279
        },
        "id": "1ZMBCIIZ-Ups",
        "outputId": "f03ceb14-a16a-4f6e-84c0-67967621a76f"
      },
      "execution_count": 37,
      "outputs": [
        {
          "output_type": "display_data",
          "data": {
            "text/plain": [
              "<Figure size 432x288 with 1 Axes>"
            ],
            "image/png": "[encoded data removed]"
          },
          "metadata": {
            "needs_background": "light"
          }
        }
      ]
    },
    {
      "cell_type": "code",
      "source": [
        "df_pop_master['保育園(最近傍距離)レベル'] = normalize_score(df_pop_master['保育園(最近傍距離)'], high=False)\n",
        "sns.histplot(df_pop_master['保育園(最近傍距離)レベル'], bins=20)\n",
        "plt.show()"
      ],
      "metadata": {
        "colab": {
          "base_uri": "https://localhost:8080/",
          "height": 279
        },
        "id": "31AD0gwR-ZdS",
        "outputId": "8ade713c-1490-45b3-95e4-5acae11771fa"
      },
      "execution_count": 38,
      "outputs": [
        {
          "output_type": "display_data",
          "data": {
            "text/plain": [
              "<Figure size 432x288 with 1 Axes>"
            ],
            "image/png": "[encoded data removed]"
          },
          "metadata": {
            "needs_background": "light"
          }
        }
      ]
    },
    {
      "cell_type": "code",
      "source": [
        "df_pop_master['児童館(数)レベル'] = normalize_score(df_pop_master['児童館(数)'], outlier=False)\n",
        "sns.histplot(df_pop_master['児童館(数)レベル'], bins=10)\n",
        "plt.show()"
      ],
      "metadata": {
        "id": "lJ4f7WjaccHT",
        "outputId": "46cc9eb4-e761-4e6c-d7d6-776fedc961dc",
        "colab": {
          "base_uri": "https://localhost:8080/",
          "height": 278
        }
      },
      "execution_count": 39,
      "outputs": [
        {
          "output_type": "display_data",
          "data": {
            "text/plain": [
              "<Figure size 432x288 with 1 Axes>"
            ],
            "image/png": "[encoded data removed]"
          },
          "metadata": {
            "needs_background": "light"
          }
        }
      ]
    },
    {
      "cell_type": "code",
      "source": [
        "df_pop_master['児童館(最近傍距離)レベル'] = normalize_score(df_pop_master['児童館(最近傍距離)'], high=False)\n",
        "sns.histplot(df_pop_master['児童館(最近傍距離)レベル'], bins=20)\n",
        "plt.show()"
      ],
      "metadata": {
        "colab": {
          "base_uri": "https://localhost:8080/",
          "height": 278
        },
        "id": "r__I6Ivr-WpS",
        "outputId": "3165eb69-bb49-488b-c5ba-fc65b86dc7b5"
      },
      "execution_count": 40,
      "outputs": [
        {
          "output_type": "display_data",
          "data": {
            "text/plain": [
              "<Figure size 432x288 with 1 Axes>"
            ],
            "image/png": "[encoded data removed]"
          },
          "metadata": {
            "needs_background": "light"
          }
        }
      ]
    },
    {
      "cell_type": "code",
      "source": [
        "score_list = [\n",
        "    df_pop_master['保育園(最近傍距離)レベル'] * 1.0,\n",
        "    df_pop_master['保育園(数)レベル'] * 0.5,\n",
        "    df_pop_master['児童館(最近傍距離)レベル'] * 0.4,\n",
        "    df_pop_master['児童館(数)レベル'] * 0.3,\n",
        "]\n",
        "df_pop_master['_保育園スコア'] = normalize_score(pd.concat(score_list, axis=1).sum(axis=1, skipna=False), outlier=False)\n",
        "df_pop_master['保育園スコア'] = rank_score(df_pop_master['_保育園スコア'])"
      ],
      "metadata": {
        "id": "PQsfDNSM-boe"
      },
      "execution_count": 41,
      "outputs": []
    },
    {
      "cell_type": "code",
      "source": [
        "sns.histplot(df_pop_master['_保育園スコア'], bins=20)\n",
        "plt.show()"
      ],
      "metadata": {
        "colab": {
          "base_uri": "https://localhost:8080/",
          "height": 278
        },
        "id": "s9N2hbcw-ePw",
        "outputId": "c21b70e9-69e4-4f88-eb93-e36cbf6bd62c"
      },
      "execution_count": 42,
      "outputs": [
        {
          "output_type": "display_data",
          "data": {
            "text/plain": [
              "<Figure size 432x288 with 1 Axes>"
            ],
            "image/png": "[encoded data removed]"
          },
          "metadata": {
            "needs_background": "light"
          }
        }
      ]
    },
    {
      "cell_type": "code",
      "source": [
        "sns.histplot(df_pop_master['保育園スコア'], bins=20)\n",
        "plt.show()"
      ],
      "metadata": {
        "colab": {
          "base_uri": "https://localhost:8080/",
          "height": 278
        },
        "id": "XoUF6WSQ-gOw",
        "outputId": "3768049d-3afe-4446-99f0-21f9bb9e228b"
      },
      "execution_count": 43,
      "outputs": [
        {
          "output_type": "display_data",
          "data": {
            "text/plain": [
              "<Figure size 432x288 with 1 Axes>"
            ],
            "image/png": "[encoded data removed]"
          },
          "metadata": {
            "needs_background": "light"
          }
        }
      ]
    },
    {
      "cell_type": "code",
      "source": [
        "df_pop_master[['地域ID', '市区町村名', '町丁目', '保育園(最近傍距離)', '保育園(数)', '児童館(最近傍距離)', '児童館(数)', '保育園スコア']]\\\n",
        "    .to_csv(os.path.join(DIR_NAME, output_score_file), index=False)"
      ],
      "metadata": {
        "id": "AqDrjIdB-jOO"
      },
      "execution_count": 44,
      "outputs": []
    },
    {
      "cell_type": "code",
      "source": [
        "plt.figure(figsize=(15, 5))\n",
        "sns.barplot(x='市区町村名', y='保育園スコア', data=df_pop_master)\n",
        "plt.show()"
      ],
      "metadata": {
        "colab": {
          "base_uri": "https://localhost:8080/",
          "height": 333
        },
        "id": "WmM2Bvqu-lKP",
        "outputId": "75c8c85c-42c8-4ebc-ae45-e2bdc0d7272f"
      },
      "execution_count": 45,
      "outputs": [
        {
          "output_type": "display_data",
          "data": {
            "text/plain": [
              "<Figure size 1080x360 with 1 Axes>"
            ],
            "image/png": "[encoded data removed]"
          },
          "metadata": {
            "needs_background": "light"
          }
        }
      ]
    },
    {
      "cell_type": "code",
      "source": [
        "df_library_level = df_pop_master.copy()\n",
        "df_library_level['rank'] = df_library_level.groupby('町名')['保育園スコア'].transform('rank', ascending=False)\n",
        "df_library_level = df_library_level[df_library_level['rank'] == 1].sort_values('保育園スコア', ascending=False)[\n",
        "    ['市区町村名', '町名', '町丁目', '保育園スコア', '_保育園スコア', '保育園(最近傍距離)', '保育園(数)', '児童館(最近傍距離)', '児童館(数)']\n",
        "].reset_index(drop=True)\n",
        "print(df_library_level.shape)"
      ],
      "metadata": {
        "colab": {
          "base_uri": "https://localhost:8080/"
        },
        "id": "2ohWeOmS-oku",
        "outputId": "409db571-38cd-431e-ec8e-fea2533178c5"
      },
      "execution_count": 46,
      "outputs": [
        {
          "output_type": "stream",
          "name": "stdout",
          "text": [
            "(698, 9)\n"
          ]
        }
      ]
    },
    {
      "cell_type": "code",
      "source": [
        "df_library_level.head(20)"
      ],
      "metadata": {
        "colab": {
          "base_uri": "https://localhost:8080/",
          "height": 677
        },
        "id": "Y-MJE9v0-qtM",
        "outputId": "69617339-2e2b-4abd-8a6c-aad3c8174300"
      },
      "execution_count": 47,
      "outputs": [
        {
          "output_type": "execute_result",
          "data": {
            "text/plain": [
              "   市区町村名    町名      町丁目    保育園スコア   _保育園スコア  保育園(最近傍距離)  保育園(数)  児童館(最近傍距離)  \\\n",
              "0    品川区    豊町    豊町５丁目  5.000000  1.000000    0.082020      31    0.168118   \n",
              "1    品川区   東中延   東中延２丁目  4.997711  0.995234    0.037886      31    0.037886   \n",
              "2    品川区    戸越    戸越６丁目  4.993134  0.966072    0.178183      35    0.116917   \n",
              "3    江東区    森下    森下３丁目  4.990846  0.958373    0.010684      34    0.099574   \n",
              "4    文京区    千石    千石３丁目  4.986268  0.953254    0.096463      33    0.129314   \n",
              "5    品川区   西大井   西大井６丁目  4.983980  0.951901    0.100857      25    0.100857   \n",
              "6    文京区   本駒込   本駒込３丁目  4.981691  0.951171    0.034140      26    0.034140   \n",
              "7    目黒区   中央町   中央町２丁目  4.977114  0.945346    0.090528      30    0.090528   \n",
              "8    品川区   西中延   西中延３丁目  4.974825  0.945188    0.047800      24    0.047800   \n",
              "9    品川区    二葉    二葉１丁目  4.972537  0.943391    0.037485      26    0.374534   \n",
              "10   品川区    大井    大井２丁目  4.965671  0.939116    0.170097      31    0.086277   \n",
              "11   品川区  西五反田  西五反田６丁目  4.963383  0.938455    0.057710      28    0.339340   \n",
              "12   品川区   小山台   小山台１丁目  4.961094  0.937716    0.110830      29    0.320698   \n",
              "13   文京区    白山    白山４丁目  4.958805  0.937676    0.131872      34    0.468598   \n",
              "14   目黒区    鷹番    鷹番２丁目  4.954228  0.936843    0.077022      31    0.269722   \n",
              "15   墨田区    立川    立川２丁目  4.951940  0.935679    0.080975      34    0.192762   \n",
              "16   墨田区    菊川    菊川１丁目  4.947362  0.930687    0.110534      35    0.187856   \n",
              "17   墨田区     緑     緑３丁目  4.945074  0.928954    0.034921      31    0.504183   \n",
              "18   墨田区    千歳    千歳３丁目  4.942785  0.928337    0.035699      31    0.267582   \n",
              "19   品川区    荏原    荏原６丁目  4.938208  0.926069    0.113909      29    0.371876   \n",
              "\n",
              "    児童館(数)  \n",
              "0       23  \n",
              "1       18  \n",
              "2       19  \n",
              "3        9  \n",
              "4       14  \n",
              "5       22  \n",
              "6       16  \n",
              "7       15  \n",
              "8       18  \n",
              "9       19  \n",
              "10      18  \n",
              "11      17  \n",
              "12      19  \n",
              "13      17  \n",
              "14      14  \n",
              "15      10  \n",
              "16      10  \n",
              "17      13  \n",
              "18      10  \n",
              "19      18  "
            ],
            "text/html": [
              "\n",
              "  <div id=\"df-db7857b0-c7ca-4705-94a2-2257a2578b93\">\n",
              "    <div class=\"colab-df-container\">\n",
              "      <div>\n",
              "<style scoped>\n",
              "    .dataframe tbody tr th:only-of-type {\n",
              "        vertical-align: middle;\n",
              "    }\n",
              "\n",
              "    .dataframe tbody tr th {\n",
              "        vertical-align: top;\n",
              "    }\n",
              "\n",
              "    .dataframe thead th {\n",
              "        text-align: right;\n",
              "    }\n",
              "</style>\n",
              "<table border=\"1\" class=\"dataframe\">\n",
              "  <thead>\n",
              "    <tr style=\"text-align: right;\">\n",
              "      <th></th>\n",
              "      <th>市区町村名</th>\n",
              "      <th>町名</th>\n",
              "      <th>町丁目</th>\n",
              "      <th>保育園スコア</th>\n",
              "      <th>_保育園スコア</th>\n",
              "      <th>保育園(最近傍距離)</th>\n",
              "      <th>保育園(数)</th>\n",
              "      <th>児童館(最近傍距離)</th>\n",
              "      <th>児童館(数)</th>\n",
              "    </tr>\n",
              "  </thead>\n",
              "  <tbody>\n",
              "    <tr>\n",
              "      <th>0</th>\n",
              "      <td>品川区</td>\n",
              "      <td>豊町</td>\n",
              "      <td>豊町５丁目</td>\n",
              "      <td>5.000000</td>\n",
              "      <td>1.000000</td>\n",
              "      <td>0.082020</td>\n",
              "      <td>31</td>\n",
              "      <td>0.168118</td>\n",
              "      <td>23</td>\n",
              "    </tr>\n",
              "    <tr>\n",
              "      <th>1</th>\n",
              "      <td>品川区</td>\n",
              "      <td>東中延</td>\n",
              "      <td>東中延２丁目</td>\n",
              "      <td>4.997711</td>\n",
              "      <td>0.995234</td>\n",
              "      <td>0.037886</td>\n",
              "      <td>31</td>\n",
              "      <td>0.037886</td>\n",
              "      <td>18</td>\n",
              "    </tr>\n",
              "    <tr>\n",
              "      <th>2</th>\n",
              "      <td>品川区</td>\n",
              "      <td>戸越</td>\n",
              "      <td>戸越６丁目</td>\n",
              "      <td>4.993134</td>\n",
              "      <td>0.966072</td>\n",
              "      <td>0.178183</td>\n",
              "      <td>35</td>\n",
              "      <td>0.116917</td>\n",
              "      <td>19</td>\n",
              "    </tr>\n",
              "    <tr>\n",
              "      <th>3</th>\n",
              "      <td>江東区</td>\n",
              "      <td>森下</td>\n",
              "      <td>森下３丁目</td>\n",
              "      <td>4.990846</td>\n",
              "      <td>0.958373</td>\n",
              "      <td>0.010684</td>\n",
              "      <td>34</td>\n",
              "      <td>0.099574</td>\n",
              "      <td>9</td>\n",
              "    </tr>\n",
              "    <tr>\n",
              "      <th>4</th>\n",
              "      <td>文京区</td>\n",
              "      <td>千石</td>\n",
              "      <td>千石３丁目</td>\n",
              "      <td>4.986268</td>\n",
              "      <td>0.953254</td>\n",
              "      <td>0.096463</td>\n",
              "      <td>33</td>\n",
              "      <td>0.129314</td>\n",
              "      <td>14</td>\n",
              "    </tr>\n",
              "    <tr>\n",
              "      <th>5</th>\n",
              "      <td>品川区</td>\n",
              "      <td>西大井</td>\n",
              "      <td>西大井６丁目</td>\n",
              "      <td>4.983980</td>\n",
              "      <td>0.951901</td>\n",
              "      <td>0.100857</td>\n",
              "      <td>25</td>\n",
              "      <td>0.100857</td>\n",
              "      <td>22</td>\n",
              "    </tr>\n",
              "    <tr>\n",
              "      <th>6</th>\n",
              "      <td>文京区</td>\n",
              "      <td>本駒込</td>\n",
              "      <td>本駒込３丁目</td>\n",
              "      <td>4.981691</td>\n",
              "      <td>0.951171</td>\n",
              "      <td>0.034140</td>\n",
              "      <td>26</td>\n",
              "      <td>0.034140</td>\n",
              "      <td>16</td>\n",
              "    </tr>\n",
              "    <tr>\n",
              "      <th>7</th>\n",
              "      <td>目黒区</td>\n",
              "      <td>中央町</td>\n",
              "      <td>中央町２丁目</td>\n",
              "      <td>4.977114</td>\n",
              "      <td>0.945346</td>\n",
              "      <td>0.090528</td>\n",
              "      <td>30</td>\n",
              "      <td>0.090528</td>\n",
              "      <td>15</td>\n",
              "    </tr>\n",
              "    <tr>\n",
              "      <th>8</th>\n",
              "      <td>品川区</td>\n",
              "      <td>西中延</td>\n",
              "      <td>西中延３丁目</td>\n",
              "      <td>4.974825</td>\n",
              "      <td>0.945188</td>\n",
              "      <td>0.047800</td>\n",
              "      <td>24</td>\n",
              "      <td>0.047800</td>\n",
              "      <td>18</td>\n",
              "    </tr>\n",
              "    <tr>\n",
              "      <th>9</th>\n",
              "      <td>品川区</td>\n",
              "      <td>二葉</td>\n",
              "      <td>二葉１丁目</td>\n",
              "      <td>4.972537</td>\n",
              "      <td>0.943391</td>\n",
              "      <td>0.037485</td>\n",
              "      <td>26</td>\n",
              "      <td>0.374534</td>\n",
              "      <td>19</td>\n",
              "    </tr>\n",
              "    <tr>\n",
              "      <th>10</th>\n",
              "      <td>品川区</td>\n",
              "      <td>大井</td>\n",
              "      <td>大井２丁目</td>\n",
              "      <td>4.965671</td>\n",
              "      <td>0.939116</td>\n",
              "      <td>0.170097</td>\n",
              "      <td>31</td>\n",
              "      <td>0.086277</td>\n",
              "      <td>18</td>\n",
              "    </tr>\n",
              "    <tr>\n",
              "      <th>11</th>\n",
              "      <td>品川区</td>\n",
              "      <td>西五反田</td>\n",
              "      <td>西五反田６丁目</td>\n",
              "      <td>4.963383</td>\n",
              "      <td>0.938455</td>\n",
              "      <td>0.057710</td>\n",
              "      <td>28</td>\n",
              "      <td>0.339340</td>\n",
              "      <td>17</td>\n",
              "    </tr>\n",
              "    <tr>\n",
              "      <th>12</th>\n",
              "      <td>品川区</td>\n",
              "      <td>小山台</td>\n",
              "      <td>小山台１丁目</td>\n",
              "      <td>4.961094</td>\n",
              "      <td>0.937716</td>\n",
              "      <td>0.110830</td>\n",
              "      <td>29</td>\n",
              "      <td>0.320698</td>\n",
              "      <td>19</td>\n",
              "    </tr>\n",
              "    <tr>\n",
              "      <th>13</th>\n",
              "      <td>文京区</td>\n",
              "      <td>白山</td>\n",
              "      <td>白山４丁目</td>\n",
              "      <td>4.958805</td>\n",
              "      <td>0.937676</td>\n",
              "      <td>0.131872</td>\n",
              "      <td>34</td>\n",
              "      <td>0.468598</td>\n",
              "      <td>17</td>\n",
              "    </tr>\n",
              "    <tr>\n",
              "      <th>14</th>\n",
              "      <td>目黒区</td>\n",
              "      <td>鷹番</td>\n",
              "      <td>鷹番２丁目</td>\n",
              "      <td>4.954228</td>\n",
              "      <td>0.936843</td>\n",
              "      <td>0.077022</td>\n",
              "      <td>31</td>\n",
              "      <td>0.269722</td>\n",
              "      <td>14</td>\n",
              "    </tr>\n",
              "    <tr>\n",
              "      <th>15</th>\n",
              "      <td>墨田区</td>\n",
              "      <td>立川</td>\n",
              "      <td>立川２丁目</td>\n",
              "      <td>4.951940</td>\n",
              "      <td>0.935679</td>\n",
              "      <td>0.080975</td>\n",
              "      <td>34</td>\n",
              "      <td>0.192762</td>\n",
              "      <td>10</td>\n",
              "    </tr>\n",
              "    <tr>\n",
              "      <th>16</th>\n",
              "      <td>墨田区</td>\n",
              "      <td>菊川</td>\n",
              "      <td>菊川１丁目</td>\n",
              "      <td>4.947362</td>\n",
              "      <td>0.930687</td>\n",
              "      <td>0.110534</td>\n",
              "      <td>35</td>\n",
              "      <td>0.187856</td>\n",
              "      <td>10</td>\n",
              "    </tr>\n",
              "    <tr>\n",
              "      <th>17</th>\n",
              "      <td>墨田区</td>\n",
              "      <td>緑</td>\n",
              "      <td>緑３丁目</td>\n",
              "      <td>4.945074</td>\n",
              "      <td>0.928954</td>\n",
              "      <td>0.034921</td>\n",
              "      <td>31</td>\n",
              "      <td>0.504183</td>\n",
              "      <td>13</td>\n",
              "    </tr>\n",
              "    <tr>\n",
              "      <th>18</th>\n",
              "      <td>墨田区</td>\n",
              "      <td>千歳</td>\n",
              "      <td>千歳３丁目</td>\n",
              "      <td>4.942785</td>\n",
              "      <td>0.928337</td>\n",
              "      <td>0.035699</td>\n",
              "      <td>31</td>\n",
              "      <td>0.267582</td>\n",
              "      <td>10</td>\n",
              "    </tr>\n",
              "    <tr>\n",
              "      <th>19</th>\n",
              "      <td>品川区</td>\n",
              "      <td>荏原</td>\n",
              "      <td>荏原６丁目</td>\n",
              "      <td>4.938208</td>\n",
              "      <td>0.926069</td>\n",
              "      <td>0.113909</td>\n",
              "      <td>29</td>\n",
              "      <td>0.371876</td>\n",
              "      <td>18</td>\n",
              "    </tr>\n",
              "  </tbody>\n",
              "</table>\n",
              "</div>\n",
              "      <button class=\"colab-df-convert\" onclick=\"convertToInteractive('df-db7857b0-c7ca-4705-94a2-2257a2578b93')\"\n",
              "              title=\"Convert this dataframe to an interactive table.\"\n",
              "              style=\"display:none;\">\n",
              "        \n",
              "  <svg xmlns=\"http://www.w3.org/2000/svg\" height=\"24px\"viewBox=\"0 0 24 24\"\n",
              "       width=\"24px\">\n",
              "    <path d=\"M0 0h24v24H0V0z\" fill=\"none\"/>\n",
              "    <path d=\"M18.56 5.44l.94 2.06.94-2.06 2.06-.94-2.06-.94-.94-2.06-.94 2.06-2.06.94zm-11 1L8.5 8.5l.94-2.06 2.06-.94-2.06-.94L8.5 2.5l-.94 2.06-2.06.94zm10 10l.94 2.06.94-2.06 2.06-.94-2.06-.94-.94-2.06-.94 2.06-2.06.94z\"/><path d=\"M17.41 7.96l-1.37-1.37c-.4-.4-.92-.59-1.43-.59-.52 0-1.04.2-1.43.59L10.3 9.45l-7.72 7.72c-.78.78-.78 2.05 0 2.83L4 21.41c.39.39.9.59 1.41.59.51 0 1.02-.2 1.41-.59l7.78-7.78 2.81-2.81c.8-.78.8-2.07 0-2.86zM5.41 20L4 18.59l7.72-7.72 1.47 1.35L5.41 20z\"/>\n",
              "  </svg>\n",
              "      </button>\n",
              "      \n",
              "  <style>\n",
              "    .colab-df-container {\n",
              "      display:flex;\n",
              "      flex-wrap:wrap;\n",
              "      gap: 12px;\n",
              "    }\n",
              "\n",
              "    .colab-df-convert {\n",
              "      background-color: #E8F0FE;\n",
              "      border: none;\n",
              "      border-radius: 50%;\n",
              "      cursor: pointer;\n",
              "      display: none;\n",
              "      fill: #1967D2;\n",
              "      height: 32px;\n",
              "      padding: 0 0 0 0;\n",
              "      width: 32px;\n",
              "    }\n",
              "\n",
              "    .colab-df-convert:hover {\n",
              "      background-color: #E2EBFA;\n",
              "      box-shadow: 0px 1px 2px rgba(60, 64, 67, 0.3), 0px 1px 3px 1px rgba(60, 64, 67, 0.15);\n",
              "      fill: #174EA6;\n",
              "    }\n",
              "\n",
              "    [theme=dark] .colab-df-convert {\n",
              "      background-color: #3B4455;\n",
              "      fill: #D2E3FC;\n",
              "    }\n",
              "\n",
              "    [theme=dark] .colab-df-convert:hover {\n",
              "      background-color: #434B5C;\n",
              "      box-shadow: 0px 1px 3px 1px rgba(0, 0, 0, 0.15);\n",
              "      filter: drop-shadow(0px 1px 2px rgba(0, 0, 0, 0.3));\n",
              "      fill: #FFFFFF;\n",
              "    }\n",
              "  </style>\n",
              "\n",
              "      <script>\n",
              "        const buttonEl =\n",
              "          document.querySelector('#df-db7857b0-c7ca-4705-94a2-2257a2578b93 button.colab-df-convert');\n",
              "        buttonEl.style.display =\n",
              "          google.colab.kernel.accessAllowed ? 'block' : 'none';\n",
              "\n",
              "        async function convertToInteractive(key) {\n",
              "          const element = document.querySelector('#df-db7857b0-c7ca-4705-94a2-2257a2578b93');\n",
              "          const dataTable =\n",
              "            await google.colab.kernel.invokeFunction('convertToInteractive',\n",
              "                                                     [key], {});\n",
              "          if (!dataTable) return;\n",
              "\n",
              "          const docLinkHtml = 'Like what you see? Visit the ' +\n",
              "            '<a target=\"_blank\" href=https://colab.research.google.com/notebooks/data_table.ipynb>data table notebook</a>'\n",
              "            + ' to learn more about interactive tables.';\n",
              "          element.innerHTML = '';\n",
              "          dataTable['output_type'] = 'display_data';\n",
              "          await google.colab.output.renderOutput(dataTable, element);\n",
              "          const docLink = document.createElement('div');\n",
              "          docLink.innerHTML = docLinkHtml;\n",
              "          element.appendChild(docLink);\n",
              "        }\n",
              "      </script>\n",
              "    </div>\n",
              "  </div>\n",
              "  "
            ]
          },
          "metadata": {},
          "execution_count": 47
        }
      ]
    },
    {
      "cell_type": "code",
      "source": [
        "df_library_level.tail(20)"
      ],
      "metadata": {
        "colab": {
          "base_uri": "https://localhost:8080/",
          "height": 677
        },
        "id": "suQPqES4-suF",
        "outputId": "20066c39-b4cd-4972-bc26-9be1b9e961b2"
      },
      "execution_count": 48,
      "outputs": [
        {
          "output_type": "execute_result",
          "data": {
            "text/plain": [
              "    市区町村名    町名      町丁目    保育園スコア   _保育園スコア  保育園(最近傍距離)  保育園(数)  児童館(最近傍距離)  \\\n",
              "678  世田谷区    玉堤    玉堤２丁目  0.535530  0.520889    0.214175       3    1.454040   \n",
              "679  江戸川区   南葛西   南葛西６丁目  0.501202  0.512100    0.094615       8    3.194937   \n",
              "680  千代田区  神田錦町  神田錦町１丁目  0.450853  0.498149    0.409772       4    1.145844   \n",
              "681  江戸川区   臨海町   臨海町２丁目  0.389061  0.479024    0.160125       7    2.524411   \n",
              "682  江戸川区   上篠崎   上篠崎４丁目  0.377618  0.476252    0.463776       9    1.321215   \n",
              "683   足立区   古千谷   古千谷２丁目  0.354732  0.469908    0.627583       3    0.627583   \n",
              "684  江戸川区   北篠崎   北篠崎１丁目  0.315826  0.456233    0.511514       5    0.917912   \n",
              "685   江東区    新砂    新砂１丁目  0.297517  0.446781    0.653698      11    0.969571   \n",
              "686  千代田区   永田町   永田町２丁目  0.281497  0.441451    0.637925       5    0.699388   \n",
              "687   江東区    青海    青海１丁目  0.272342  0.431462    0.574889       1    0.574889   \n",
              "688  千代田区   一ツ橋   一ツ橋２丁目  0.233436  0.416743    0.698123       3    0.698123   \n",
              "689  千代田区   有楽町   有楽町２丁目  0.187664  0.374815    0.616597       2    1.400482   \n",
              "690  千代田区   丸の内   丸の内３丁目  0.169356  0.356806    0.611528       1    1.570712   \n",
              "691   大田区  羽田空港  羽田空港１丁目  0.112141  0.270919    0.873644       2    1.319310   \n",
              "692  千代田区   霞が関   霞が関３丁目  0.098409  0.237398    1.001848       0    0.921741   \n",
              "693  千代田区   内幸町   内幸町２丁目  0.096121  0.231303    0.948419       1    1.354567   \n",
              "694   江東区   夢の島   夢の島１丁目  0.093832  0.227555    0.957965       1    1.353142   \n",
              "695   大田区   京浜島   京浜島１丁目  0.075524  0.157765    1.093650       0    1.458263   \n",
              "696   大田区    東海    東海１丁目  0.073235  0.117797    1.199143       0    1.504265   \n",
              "697   江東区   新木場   新木場１丁目  0.057215  0.062131    1.705506       0    1.806329   \n",
              "\n",
              "     児童館(数)  \n",
              "678       1  \n",
              "679       0  \n",
              "680       5  \n",
              "681       0  \n",
              "682       2  \n",
              "683       9  \n",
              "684       1  \n",
              "685       3  \n",
              "686       4  \n",
              "687       1  \n",
              "688       6  \n",
              "689       4  \n",
              "690       4  \n",
              "691       3  \n",
              "692       3  \n",
              "693       3  \n",
              "694       3  \n",
              "695       3  \n",
              "696       4  \n",
              "697       1  "
            ],
            "text/html": [
              "\n",
              "  <div id=\"df-d1ed20d5-cf8d-49ac-8639-18a27585525e\">\n",
              "    <div class=\"colab-df-container\">\n",
              "      <div>\n",
              "<style scoped>\n",
              "    .dataframe tbody tr th:only-of-type {\n",
              "        vertical-align: middle;\n",
              "    }\n",
              "\n",
              "    .dataframe tbody tr th {\n",
              "        vertical-align: top;\n",
              "    }\n",
              "\n",
              "    .dataframe thead th {\n",
              "        text-align: right;\n",
              "    }\n",
              "</style>\n",
              "<table border=\"1\" class=\"dataframe\">\n",
              "  <thead>\n",
              "    <tr style=\"text-align: right;\">\n",
              "      <th></th>\n",
              "      <th>市区町村名</th>\n",
              "      <th>町名</th>\n",
              "      <th>町丁目</th>\n",
              "      <th>保育園スコア</th>\n",
              "      <th>_保育園スコア</th>\n",
              "      <th>保育園(最近傍距離)</th>\n",
              "      <th>保育園(数)</th>\n",
              "      <th>児童館(最近傍距離)</th>\n",
              "      <th>児童館(数)</th>\n",
              "    </tr>\n",
              "  </thead>\n",
              "  <tbody>\n",
              "    <tr>\n",
              "      <th>678</th>\n",
              "      <td>世田谷区</td>\n",
              "      <td>玉堤</td>\n",
              "      <td>玉堤２丁目</td>\n",
              "      <td>0.535530</td>\n",
              "      <td>0.520889</td>\n",
              "      <td>0.214175</td>\n",
              "      <td>3</td>\n",
              "      <td>1.454040</td>\n",
              "      <td>1</td>\n",
              "    </tr>\n",
              "    <tr>\n",
              "      <th>679</th>\n",
              "      <td>江戸川区</td>\n",
              "      <td>南葛西</td>\n",
              "      <td>南葛西６丁目</td>\n",
              "      <td>0.501202</td>\n",
              "      <td>0.512100</td>\n",
              "      <td>0.094615</td>\n",
              "      <td>8</td>\n",
              "      <td>3.194937</td>\n",
              "      <td>0</td>\n",
              "    </tr>\n",
              "    <tr>\n",
              "      <th>680</th>\n",
              "      <td>千代田区</td>\n",
              "      <td>神田錦町</td>\n",
              "      <td>神田錦町１丁目</td>\n",
              "      <td>0.450853</td>\n",
              "      <td>0.498149</td>\n",
              "      <td>0.409772</td>\n",
              "      <td>4</td>\n",
              "      <td>1.145844</td>\n",
              "      <td>5</td>\n",
              "    </tr>\n",
              "    <tr>\n",
              "      <th>681</th>\n",
              "      <td>江戸川区</td>\n",
              "      <td>臨海町</td>\n",
              "      <td>臨海町２丁目</td>\n",
              "      <td>0.389061</td>\n",
              "      <td>0.479024</td>\n",
              "      <td>0.160125</td>\n",
              "      <td>7</td>\n",
              "      <td>2.524411</td>\n",
              "      <td>0</td>\n",
              "    </tr>\n",
              "    <tr>\n",
              "      <th>682</th>\n",
              "      <td>江戸川区</td>\n",
              "      <td>上篠崎</td>\n",
              "      <td>上篠崎４丁目</td>\n",
              "      <td>0.377618</td>\n",
              "      <td>0.476252</td>\n",
              "      <td>0.463776</td>\n",
              "      <td>9</td>\n",
              "      <td>1.321215</td>\n",
              "      <td>2</td>\n",
              "    </tr>\n",
              "    <tr>\n",
              "      <th>683</th>\n",
              "      <td>足立区</td>\n",
              "      <td>古千谷</td>\n",
              "      <td>古千谷２丁目</td>\n",
              "      <td>0.354732</td>\n",
              "      <td>0.469908</td>\n",
              "      <td>0.627583</td>\n",
              "      <td>3</td>\n",
              "      <td>0.627583</td>\n",
              "      <td>9</td>\n",
              "    </tr>\n",
              "    <tr>\n",
              "      <th>684</th>\n",
              "      <td>江戸川区</td>\n",
              "      <td>北篠崎</td>\n",
              "      <td>北篠崎１丁目</td>\n",
              "      <td>0.315826</td>\n",
              "      <td>0.456233</td>\n",
              "      <td>0.511514</td>\n",
              "      <td>5</td>\n",
              "      <td>0.917912</td>\n",
              "      <td>1</td>\n",
              "    </tr>\n",
              "    <tr>\n",
              "      <th>685</th>\n",
              "      <td>江東区</td>\n",
              "      <td>新砂</td>\n",
              "      <td>新砂１丁目</td>\n",
              "      <td>0.297517</td>\n",
              "      <td>0.446781</td>\n",
              "      <td>0.653698</td>\n",
              "      <td>11</td>\n",
              "      <td>0.969571</td>\n",
              "      <td>3</td>\n",
              "    </tr>\n",
              "    <tr>\n",
              "      <th>686</th>\n",
              "      <td>千代田区</td>\n",
              "      <td>永田町</td>\n",
              "      <td>永田町２丁目</td>\n",
              "      <td>0.281497</td>\n",
              "      <td>0.441451</td>\n",
              "      <td>0.637925</td>\n",
              "      <td>5</td>\n",
              "      <td>0.699388</td>\n",
              "      <td>4</td>\n",
              "    </tr>\n",
              "    <tr>\n",
              "      <th>687</th>\n",
              "      <td>江東区</td>\n",
              "      <td>青海</td>\n",
              "      <td>青海１丁目</td>\n",
              "      <td>0.272342</td>\n",
              "      <td>0.431462</td>\n",
              "      <td>0.574889</td>\n",
              "      <td>1</td>\n",
              "      <td>0.574889</td>\n",
              "      <td>1</td>\n",
              "    </tr>\n",
              "    <tr>\n",
              "      <th>688</th>\n",
              "      <td>千代田区</td>\n",
              "      <td>一ツ橋</td>\n",
              "      <td>一ツ橋２丁目</td>\n",
              "      <td>0.233436</td>\n",
              "      <td>0.416743</td>\n",
              "      <td>0.698123</td>\n",
              "      <td>3</td>\n",
              "      <td>0.698123</td>\n",
              "      <td>6</td>\n",
              "    </tr>\n",
              "    <tr>\n",
              "      <th>689</th>\n",
              "      <td>千代田区</td>\n",
              "      <td>有楽町</td>\n",
              "      <td>有楽町２丁目</td>\n",
              "      <td>0.187664</td>\n",
              "      <td>0.374815</td>\n",
              "      <td>0.616597</td>\n",
              "      <td>2</td>\n",
              "      <td>1.400482</td>\n",
              "      <td>4</td>\n",
              "    </tr>\n",
              "    <tr>\n",
              "      <th>690</th>\n",
              "      <td>千代田区</td>\n",
              "      <td>丸の内</td>\n",
              "      <td>丸の内３丁目</td>\n",
              "      <td>0.169356</td>\n",
              "      <td>0.356806</td>\n",
              "      <td>0.611528</td>\n",
              "      <td>1</td>\n",
              "      <td>1.570712</td>\n",
              "      <td>4</td>\n",
              "    </tr>\n",
              "    <tr>\n",
              "      <th>691</th>\n",
              "      <td>大田区</td>\n",
              "      <td>羽田空港</td>\n",
              "      <td>羽田空港１丁目</td>\n",
              "      <td>0.112141</td>\n",
              "      <td>0.270919</td>\n",
              "      <td>0.873644</td>\n",
              "      <td>2</td>\n",
              "      <td>1.319310</td>\n",
              "      <td>3</td>\n",
              "    </tr>\n",
              "    <tr>\n",
              "      <th>692</th>\n",
              "      <td>千代田区</td>\n",
              "      <td>霞が関</td>\n",
              "      <td>霞が関３丁目</td>\n",
              "      <td>0.098409</td>\n",
              "      <td>0.237398</td>\n",
              "      <td>1.001848</td>\n",
              "      <td>0</td>\n",
              "      <td>0.921741</td>\n",
              "      <td>3</td>\n",
              "    </tr>\n",
              "    <tr>\n",
              "      <th>693</th>\n",
              "      <td>千代田区</td>\n",
              "      <td>内幸町</td>\n",
              "      <td>内幸町２丁目</td>\n",
              "      <td>0.096121</td>\n",
              "      <td>0.231303</td>\n",
              "      <td>0.948419</td>\n",
              "      <td>1</td>\n",
              "      <td>1.354567</td>\n",
              "      <td>3</td>\n",
              "    </tr>\n",
              "    <tr>\n",
              "      <th>694</th>\n",
              "      <td>江東区</td>\n",
              "      <td>夢の島</td>\n",
              "      <td>夢の島１丁目</td>\n",
              "      <td>0.093832</td>\n",
              "      <td>0.227555</td>\n",
              "      <td>0.957965</td>\n",
              "      <td>1</td>\n",
              "      <td>1.353142</td>\n",
              "      <td>3</td>\n",
              "    </tr>\n",
              "    <tr>\n",
              "      <th>695</th>\n",
              "      <td>大田区</td>\n",
              "      <td>京浜島</td>\n",
              "      <td>京浜島１丁目</td>\n",
              "      <td>0.075524</td>\n",
              "      <td>0.157765</td>\n",
              "      <td>1.093650</td>\n",
              "      <td>0</td>\n",
              "      <td>1.458263</td>\n",
              "      <td>3</td>\n",
              "    </tr>\n",
              "    <tr>\n",
              "      <th>696</th>\n",
              "      <td>大田区</td>\n",
              "      <td>東海</td>\n",
              "      <td>東海１丁目</td>\n",
              "      <td>0.073235</td>\n",
              "      <td>0.117797</td>\n",
              "      <td>1.199143</td>\n",
              "      <td>0</td>\n",
              "      <td>1.504265</td>\n",
              "      <td>4</td>\n",
              "    </tr>\n",
              "    <tr>\n",
              "      <th>697</th>\n",
              "      <td>江東区</td>\n",
              "      <td>新木場</td>\n",
              "      <td>新木場１丁目</td>\n",
              "      <td>0.057215</td>\n",
              "      <td>0.062131</td>\n",
              "      <td>1.705506</td>\n",
              "      <td>0</td>\n",
              "      <td>1.806329</td>\n",
              "      <td>1</td>\n",
              "    </tr>\n",
              "  </tbody>\n",
              "</table>\n",
              "</div>\n",
              "      <button class=\"colab-df-convert\" onclick=\"convertToInteractive('df-d1ed20d5-cf8d-49ac-8639-18a27585525e')\"\n",
              "              title=\"Convert this dataframe to an interactive table.\"\n",
              "              style=\"display:none;\">\n",
              "        \n",
              "  <svg xmlns=\"http://www.w3.org/2000/svg\" height=\"24px\"viewBox=\"0 0 24 24\"\n",
              "       width=\"24px\">\n",
              "    <path d=\"M0 0h24v24H0V0z\" fill=\"none\"/>\n",
              "    <path d=\"M18.56 5.44l.94 2.06.94-2.06 2.06-.94-2.06-.94-.94-2.06-.94 2.06-2.06.94zm-11 1L8.5 8.5l.94-2.06 2.06-.94-2.06-.94L8.5 2.5l-.94 2.06-2.06.94zm10 10l.94 2.06.94-2.06 2.06-.94-2.06-.94-.94-2.06-.94 2.06-2.06.94z\"/><path d=\"M17.41 7.96l-1.37-1.37c-.4-.4-.92-.59-1.43-.59-.52 0-1.04.2-1.43.59L10.3 9.45l-7.72 7.72c-.78.78-.78 2.05 0 2.83L4 21.41c.39.39.9.59 1.41.59.51 0 1.02-.2 1.41-.59l7.78-7.78 2.81-2.81c.8-.78.8-2.07 0-2.86zM5.41 20L4 18.59l7.72-7.72 1.47 1.35L5.41 20z\"/>\n",
              "  </svg>\n",
              "      </button>\n",
              "      \n",
              "  <style>\n",
              "    .colab-df-container {\n",
              "      display:flex;\n",
              "      flex-wrap:wrap;\n",
              "      gap: 12px;\n",
              "    }\n",
              "\n",
              "    .colab-df-convert {\n",
              "      background-color: #E8F0FE;\n",
              "      border: none;\n",
              "      border-radius: 50%;\n",
              "      cursor: pointer;\n",
              "      display: none;\n",
              "      fill: #1967D2;\n",
              "      height: 32px;\n",
              "      padding: 0 0 0 0;\n",
              "      width: 32px;\n",
              "    }\n",
              "\n",
              "    .colab-df-convert:hover {\n",
              "      background-color: #E2EBFA;\n",
              "      box-shadow: 0px 1px 2px rgba(60, 64, 67, 0.3), 0px 1px 3px 1px rgba(60, 64, 67, 0.15);\n",
              "      fill: #174EA6;\n",
              "    }\n",
              "\n",
              "    [theme=dark] .colab-df-convert {\n",
              "      background-color: #3B4455;\n",
              "      fill: #D2E3FC;\n",
              "    }\n",
              "\n",
              "    [theme=dark] .colab-df-convert:hover {\n",
              "      background-color: #434B5C;\n",
              "      box-shadow: 0px 1px 3px 1px rgba(0, 0, 0, 0.15);\n",
              "      filter: drop-shadow(0px 1px 2px rgba(0, 0, 0, 0.3));\n",
              "      fill: #FFFFFF;\n",
              "    }\n",
              "  </style>\n",
              "\n",
              "      <script>\n",
              "        const buttonEl =\n",
              "          document.querySelector('#df-d1ed20d5-cf8d-49ac-8639-18a27585525e button.colab-df-convert');\n",
              "        buttonEl.style.display =\n",
              "          google.colab.kernel.accessAllowed ? 'block' : 'none';\n",
              "\n",
              "        async function convertToInteractive(key) {\n",
              "          const element = document.querySelector('#df-d1ed20d5-cf8d-49ac-8639-18a27585525e');\n",
              "          const dataTable =\n",
              "            await google.colab.kernel.invokeFunction('convertToInteractive',\n",
              "                                                     [key], {});\n",
              "          if (!dataTable) return;\n",
              "\n",
              "          const docLinkHtml = 'Like what you see? Visit the ' +\n",
              "            '<a target=\"_blank\" href=https://colab.research.google.com/notebooks/data_table.ipynb>data table notebook</a>'\n",
              "            + ' to learn more about interactive tables.';\n",
              "          element.innerHTML = '';\n",
              "          dataTable['output_type'] = 'display_data';\n",
              "          await google.colab.output.renderOutput(dataTable, element);\n",
              "          const docLink = document.createElement('div');\n",
              "          docLink.innerHTML = docLinkHtml;\n",
              "          element.appendChild(docLink);\n",
              "        }\n",
              "      </script>\n",
              "    </div>\n",
              "  </div>\n",
              "  "
            ]
          },
          "metadata": {},
          "execution_count": 48
        }
      ]
    },
    {
      "cell_type": "code",
      "source": [],
      "metadata": {
        "id": "bmkGzgWCfTLa"
      },
      "execution_count": 48,
      "outputs": []
    }
  ]
}