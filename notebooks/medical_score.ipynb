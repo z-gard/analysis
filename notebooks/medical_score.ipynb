{
  "nbformat": 4,
  "nbformat_minor": 0,
  "metadata": {
    "colab": {
      "provenance": [],
      "authorship_tag": "ABX9TyNg0p7xHf6YRsWqu4MT6WsJ",
      "include_colab_link": true
    },
    "kernelspec": {
      "name": "python3",
      "display_name": "Python 3"
    },
    "language_info": {
      "name": "python"
    }
  },
  "cells": [
    {
      "cell_type": "markdown",
      "metadata": {
        "id": "view-in-github",
        "colab_type": "text"
      },
      "source": [
        "<a href=\"https://colab.research.google.com/github/z-gard/analysis/blob/main/notebooks/medical_score.ipynb\" target=\"_parent\"><img src=\"https://colab.research.google.com/assets/colab-badge.svg\" alt=\"Open In Colab\"/></a>"
      ]
    },
    {
      "cell_type": "markdown",
      "source": [
        "# 医療スコア\n",
        "- input\n",
        "    - hospital_master.cav\n",
        "        - 病院の位置とレーティング\n",
        "    - pharmacy_nearby.csv\n",
        "        - 薬局の位置とレーティング\n",
        "- output\n",
        "    - mecical_score.csv\n",
        "        - 医療スコア"
      ],
      "metadata": {
        "id": "bWg52QgHvf21"
      }
    },
    {
      "cell_type": "code",
      "source": [
        "!pip install -q japanize-matplotlib"
      ],
      "metadata": {
        "id": "qy5bYwoLzJee"
      },
      "execution_count": 1,
      "outputs": []
    },
    {
      "cell_type": "code",
      "execution_count": 2,
      "metadata": {
        "colab": {
          "base_uri": "https://localhost:8080/"
        },
        "id": "W_Ys4ZQDvYjK",
        "outputId": "0d8e5437-4f15-4fe9-ac66-2e3d980f1a9d"
      },
      "outputs": [
        {
          "output_type": "stream",
          "name": "stdout",
          "text": [
            "Drive already mounted at /content/drive; to attempt to forcibly remount, call drive.mount(\"/content/drive\", force_remount=True).\n"
          ]
        }
      ],
      "source": [
        "from google.colab import drive\n",
        "drive.mount('/content/drive')"
      ]
    },
    {
      "cell_type": "code",
      "source": [
        "import os\n",
        "import requests\n",
        "import json\n",
        "import pandas as pd\n",
        "from urllib.parse import urlparse, quote\n",
        "import io\n",
        "import math\n",
        "import numpy as np\n",
        "import matplotlib.pyplot as plt\n",
        "import japanize_matplotlib\n",
        "import seaborn as sns\n",
        "\n",
        "pd.set_option('display.max_columns', 50)\n",
        "pd.set_option('display.max_rows', 100)"
      ],
      "metadata": {
        "id": "QBjzumCZvuOS"
      },
      "execution_count": 3,
      "outputs": []
    },
    {
      "cell_type": "code",
      "source": [
        "DIR_NAME = '/content/drive/MyDrive/z-gard/data'"
      ],
      "metadata": {
        "id": "O93oCOcLv9Hr"
      },
      "execution_count": 4,
      "outputs": []
    },
    {
      "cell_type": "code",
      "source": [
        "output_score_file = 'medical_score.csv'"
      ],
      "metadata": {
        "id": "WNNN4Poqc7Nz"
      },
      "execution_count": 5,
      "outputs": []
    },
    {
      "cell_type": "markdown",
      "source": [
        "### 病院"
      ],
      "metadata": {
        "id": "-VjRZle1YqAk"
      }
    },
    {
      "cell_type": "code",
      "source": [
        "df_hospital_master = pd.read_csv(os.path.join(DIR_NAME, 'hospital_master.csv'))[['名称', '小児', '妊婦', '緯度', '経度', 'rating']]\n",
        "df_hospital_master['施設分類'] = '病院'\n",
        "df_hospital_master.loc[df_hospital_master['rating'] == 0, 'rating'] = np.NaN\n",
        "print(df_hospital_master.shape)"
      ],
      "metadata": {
        "id": "ykVLiYTnrTs6",
        "outputId": "4aacdbfd-9fec-4697-a444-7cf995b1e48b",
        "colab": {
          "base_uri": "https://localhost:8080/"
        }
      },
      "execution_count": 6,
      "outputs": [
        {
          "output_type": "stream",
          "name": "stdout",
          "text": [
            "(3571, 7)\n"
          ]
        }
      ]
    },
    {
      "cell_type": "code",
      "source": [
        "df_hospital_master.head()"
      ],
      "metadata": {
        "id": "Ikt6C8_prb_N",
        "outputId": "8944aba3-fc53-4f1f-a3d7-96496d2fc6fa",
        "colab": {
          "base_uri": "https://localhost:8080/",
          "height": 206
        }
      },
      "execution_count": 7,
      "outputs": [
        {
          "output_type": "execute_result",
          "data": {
            "text/plain": [
              "                    名称   小児   妊婦         緯度          経度  rating 施設分類\n",
              "0            メディカクリニック  1.0  1.0  35.694355  139.762639     3.6   病院\n",
              "1      九段坂内科消化器内科クリニック  NaN  NaN  35.696069  139.754469     4.2   病院\n",
              "2  医療法人社団平晴会晴海3丁目クリニック  NaN  NaN  35.654056  139.779257     4.7   病院\n",
              "3         文京春日こどもクリニック  2.0  NaN  35.710461  139.752461     4.2   病院\n",
              "4           蔵前まえだクリニック  NaN  NaN  35.706362  139.789713     4.6   病院"
            ],
            "text/html": [
              "\n",
              "  <div id=\"df-bf0caafe-b468-46b0-a0cd-ce8270d49997\">\n",
              "    <div class=\"colab-df-container\">\n",
              "      <div>\n",
              "<style scoped>\n",
              "    .dataframe tbody tr th:only-of-type {\n",
              "        vertical-align: middle;\n",
              "    }\n",
              "\n",
              "    .dataframe tbody tr th {\n",
              "        vertical-align: top;\n",
              "    }\n",
              "\n",
              "    .dataframe thead th {\n",
              "        text-align: right;\n",
              "    }\n",
              "</style>\n",
              "<table border=\"1\" class=\"dataframe\">\n",
              "  <thead>\n",
              "    <tr style=\"text-align: right;\">\n",
              "      <th></th>\n",
              "      <th>名称</th>\n",
              "      <th>小児</th>\n",
              "      <th>妊婦</th>\n",
              "      <th>緯度</th>\n",
              "      <th>経度</th>\n",
              "      <th>rating</th>\n",
              "      <th>施設分類</th>\n",
              "    </tr>\n",
              "  </thead>\n",
              "  <tbody>\n",
              "    <tr>\n",
              "      <th>0</th>\n",
              "      <td>メディカクリニック</td>\n",
              "      <td>1.0</td>\n",
              "      <td>1.0</td>\n",
              "      <td>35.694355</td>\n",
              "      <td>139.762639</td>\n",
              "      <td>3.6</td>\n",
              "      <td>病院</td>\n",
              "    </tr>\n",
              "    <tr>\n",
              "      <th>1</th>\n",
              "      <td>九段坂内科消化器内科クリニック</td>\n",
              "      <td>NaN</td>\n",
              "      <td>NaN</td>\n",
              "      <td>35.696069</td>\n",
              "      <td>139.754469</td>\n",
              "      <td>4.2</td>\n",
              "      <td>病院</td>\n",
              "    </tr>\n",
              "    <tr>\n",
              "      <th>2</th>\n",
              "      <td>医療法人社団平晴会晴海3丁目クリニック</td>\n",
              "      <td>NaN</td>\n",
              "      <td>NaN</td>\n",
              "      <td>35.654056</td>\n",
              "      <td>139.779257</td>\n",
              "      <td>4.7</td>\n",
              "      <td>病院</td>\n",
              "    </tr>\n",
              "    <tr>\n",
              "      <th>3</th>\n",
              "      <td>文京春日こどもクリニック</td>\n",
              "      <td>2.0</td>\n",
              "      <td>NaN</td>\n",
              "      <td>35.710461</td>\n",
              "      <td>139.752461</td>\n",
              "      <td>4.2</td>\n",
              "      <td>病院</td>\n",
              "    </tr>\n",
              "    <tr>\n",
              "      <th>4</th>\n",
              "      <td>蔵前まえだクリニック</td>\n",
              "      <td>NaN</td>\n",
              "      <td>NaN</td>\n",
              "      <td>35.706362</td>\n",
              "      <td>139.789713</td>\n",
              "      <td>4.6</td>\n",
              "      <td>病院</td>\n",
              "    </tr>\n",
              "  </tbody>\n",
              "</table>\n",
              "</div>\n",
              "      <button class=\"colab-df-convert\" onclick=\"convertToInteractive('df-bf0caafe-b468-46b0-a0cd-ce8270d49997')\"\n",
              "              title=\"Convert this dataframe to an interactive table.\"\n",
              "              style=\"display:none;\">\n",
              "        \n",
              "  <svg xmlns=\"http://www.w3.org/2000/svg\" height=\"24px\"viewBox=\"0 0 24 24\"\n",
              "       width=\"24px\">\n",
              "    <path d=\"M0 0h24v24H0V0z\" fill=\"none\"/>\n",
              "    <path d=\"M18.56 5.44l.94 2.06.94-2.06 2.06-.94-2.06-.94-.94-2.06-.94 2.06-2.06.94zm-11 1L8.5 8.5l.94-2.06 2.06-.94-2.06-.94L8.5 2.5l-.94 2.06-2.06.94zm10 10l.94 2.06.94-2.06 2.06-.94-2.06-.94-.94-2.06-.94 2.06-2.06.94z\"/><path d=\"M17.41 7.96l-1.37-1.37c-.4-.4-.92-.59-1.43-.59-.52 0-1.04.2-1.43.59L10.3 9.45l-7.72 7.72c-.78.78-.78 2.05 0 2.83L4 21.41c.39.39.9.59 1.41.59.51 0 1.02-.2 1.41-.59l7.78-7.78 2.81-2.81c.8-.78.8-2.07 0-2.86zM5.41 20L4 18.59l7.72-7.72 1.47 1.35L5.41 20z\"/>\n",
              "  </svg>\n",
              "      </button>\n",
              "      \n",
              "  <style>\n",
              "    .colab-df-container {\n",
              "      display:flex;\n",
              "      flex-wrap:wrap;\n",
              "      gap: 12px;\n",
              "    }\n",
              "\n",
              "    .colab-df-convert {\n",
              "      background-color: #E8F0FE;\n",
              "      border: none;\n",
              "      border-radius: 50%;\n",
              "      cursor: pointer;\n",
              "      display: none;\n",
              "      fill: #1967D2;\n",
              "      height: 32px;\n",
              "      padding: 0 0 0 0;\n",
              "      width: 32px;\n",
              "    }\n",
              "\n",
              "    .colab-df-convert:hover {\n",
              "      background-color: #E2EBFA;\n",
              "      box-shadow: 0px 1px 2px rgba(60, 64, 67, 0.3), 0px 1px 3px 1px rgba(60, 64, 67, 0.15);\n",
              "      fill: #174EA6;\n",
              "    }\n",
              "\n",
              "    [theme=dark] .colab-df-convert {\n",
              "      background-color: #3B4455;\n",
              "      fill: #D2E3FC;\n",
              "    }\n",
              "\n",
              "    [theme=dark] .colab-df-convert:hover {\n",
              "      background-color: #434B5C;\n",
              "      box-shadow: 0px 1px 3px 1px rgba(0, 0, 0, 0.15);\n",
              "      filter: drop-shadow(0px 1px 2px rgba(0, 0, 0, 0.3));\n",
              "      fill: #FFFFFF;\n",
              "    }\n",
              "  </style>\n",
              "\n",
              "      <script>\n",
              "        const buttonEl =\n",
              "          document.querySelector('#df-bf0caafe-b468-46b0-a0cd-ce8270d49997 button.colab-df-convert');\n",
              "        buttonEl.style.display =\n",
              "          google.colab.kernel.accessAllowed ? 'block' : 'none';\n",
              "\n",
              "        async function convertToInteractive(key) {\n",
              "          const element = document.querySelector('#df-bf0caafe-b468-46b0-a0cd-ce8270d49997');\n",
              "          const dataTable =\n",
              "            await google.colab.kernel.invokeFunction('convertToInteractive',\n",
              "                                                     [key], {});\n",
              "          if (!dataTable) return;\n",
              "\n",
              "          const docLinkHtml = 'Like what you see? Visit the ' +\n",
              "            '<a target=\"_blank\" href=https://colab.research.google.com/notebooks/data_table.ipynb>data table notebook</a>'\n",
              "            + ' to learn more about interactive tables.';\n",
              "          element.innerHTML = '';\n",
              "          dataTable['output_type'] = 'display_data';\n",
              "          await google.colab.output.renderOutput(dataTable, element);\n",
              "          const docLink = document.createElement('div');\n",
              "          docLink.innerHTML = docLinkHtml;\n",
              "          element.appendChild(docLink);\n",
              "        }\n",
              "      </script>\n",
              "    </div>\n",
              "  </div>\n",
              "  "
            ]
          },
          "metadata": {},
          "execution_count": 7
        }
      ]
    },
    {
      "cell_type": "code",
      "source": [],
      "metadata": {
        "id": "POQSgaFp8hTx"
      },
      "execution_count": 7,
      "outputs": []
    },
    {
      "cell_type": "markdown",
      "source": [
        "### 薬局"
      ],
      "metadata": {
        "id": "ZnBnbKZTYsjD"
      }
    },
    {
      "cell_type": "code",
      "source": [
        "df_pharmacy_master = pd.read_csv(os.path.join(DIR_NAME, 'pharmacy_nearby.csv'))[\n",
        "    ['name', 'lat', 'lng', 'rating']\n",
        "].rename(columns={'name':'名称', 'lat':'緯度', 'lng':'経度'})\n",
        "df_pharmacy_master['施設分類'] = '薬局'\n",
        "df_pharmacy_master.loc[df_pharmacy_master['rating'] == 0, 'rating'] = np.NaN\n",
        "print(df_pharmacy_master.shape)"
      ],
      "metadata": {
        "id": "B0spYUUlrmcg",
        "outputId": "52082938-6de3-4ff3-d59e-df6b7f8e8b0f",
        "colab": {
          "base_uri": "https://localhost:8080/"
        }
      },
      "execution_count": 8,
      "outputs": [
        {
          "output_type": "stream",
          "name": "stdout",
          "text": [
            "(5980, 5)\n"
          ]
        }
      ]
    },
    {
      "cell_type": "code",
      "source": [
        "df_pharmacy_master.head()"
      ],
      "metadata": {
        "id": "42Mrph99ruJe",
        "outputId": "e4646411-1734-40b0-f1aa-9156c623fd2d",
        "colab": {
          "base_uri": "https://localhost:8080/",
          "height": 206
        }
      },
      "execution_count": 9,
      "outputs": [
        {
          "output_type": "execute_result",
          "data": {
            "text/plain": [
              "                         名称         緯度          経度  rating 施設分類\n",
              "0                     日本調剤㈱  35.681553  139.769161     2.5   薬局\n",
              "1           アイン薬局 グランスタ丸の内店  35.682737  139.766298     4.0   薬局\n",
              "2          ココカラファイン ヤエチカ北口店  35.681502  139.769801     3.1   薬局\n",
              "3        ココカラファイン薬局 ヤエチカ北口店  35.681495  139.769810     3.7   薬局\n",
              "4  ウエルシア東京ミッドタウン八重洲店 (調剤薬局)  35.679466  139.769185     3.0   薬局"
            ],
            "text/html": [
              "\n",
              "  <div id=\"df-faf189d4-4e0d-4c7d-af3b-53261731dd5c\">\n",
              "    <div class=\"colab-df-container\">\n",
              "      <div>\n",
              "<style scoped>\n",
              "    .dataframe tbody tr th:only-of-type {\n",
              "        vertical-align: middle;\n",
              "    }\n",
              "\n",
              "    .dataframe tbody tr th {\n",
              "        vertical-align: top;\n",
              "    }\n",
              "\n",
              "    .dataframe thead th {\n",
              "        text-align: right;\n",
              "    }\n",
              "</style>\n",
              "<table border=\"1\" class=\"dataframe\">\n",
              "  <thead>\n",
              "    <tr style=\"text-align: right;\">\n",
              "      <th></th>\n",
              "      <th>名称</th>\n",
              "      <th>緯度</th>\n",
              "      <th>経度</th>\n",
              "      <th>rating</th>\n",
              "      <th>施設分類</th>\n",
              "    </tr>\n",
              "  </thead>\n",
              "  <tbody>\n",
              "    <tr>\n",
              "      <th>0</th>\n",
              "      <td>日本調剤㈱</td>\n",
              "      <td>35.681553</td>\n",
              "      <td>139.769161</td>\n",
              "      <td>2.5</td>\n",
              "      <td>薬局</td>\n",
              "    </tr>\n",
              "    <tr>\n",
              "      <th>1</th>\n",
              "      <td>アイン薬局 グランスタ丸の内店</td>\n",
              "      <td>35.682737</td>\n",
              "      <td>139.766298</td>\n",
              "      <td>4.0</td>\n",
              "      <td>薬局</td>\n",
              "    </tr>\n",
              "    <tr>\n",
              "      <th>2</th>\n",
              "      <td>ココカラファイン ヤエチカ北口店</td>\n",
              "      <td>35.681502</td>\n",
              "      <td>139.769801</td>\n",
              "      <td>3.1</td>\n",
              "      <td>薬局</td>\n",
              "    </tr>\n",
              "    <tr>\n",
              "      <th>3</th>\n",
              "      <td>ココカラファイン薬局 ヤエチカ北口店</td>\n",
              "      <td>35.681495</td>\n",
              "      <td>139.769810</td>\n",
              "      <td>3.7</td>\n",
              "      <td>薬局</td>\n",
              "    </tr>\n",
              "    <tr>\n",
              "      <th>4</th>\n",
              "      <td>ウエルシア東京ミッドタウン八重洲店 (調剤薬局)</td>\n",
              "      <td>35.679466</td>\n",
              "      <td>139.769185</td>\n",
              "      <td>3.0</td>\n",
              "      <td>薬局</td>\n",
              "    </tr>\n",
              "  </tbody>\n",
              "</table>\n",
              "</div>\n",
              "      <button class=\"colab-df-convert\" onclick=\"convertToInteractive('df-faf189d4-4e0d-4c7d-af3b-53261731dd5c')\"\n",
              "              title=\"Convert this dataframe to an interactive table.\"\n",
              "              style=\"display:none;\">\n",
              "        \n",
              "  <svg xmlns=\"http://www.w3.org/2000/svg\" height=\"24px\"viewBox=\"0 0 24 24\"\n",
              "       width=\"24px\">\n",
              "    <path d=\"M0 0h24v24H0V0z\" fill=\"none\"/>\n",
              "    <path d=\"M18.56 5.44l.94 2.06.94-2.06 2.06-.94-2.06-.94-.94-2.06-.94 2.06-2.06.94zm-11 1L8.5 8.5l.94-2.06 2.06-.94-2.06-.94L8.5 2.5l-.94 2.06-2.06.94zm10 10l.94 2.06.94-2.06 2.06-.94-2.06-.94-.94-2.06-.94 2.06-2.06.94z\"/><path d=\"M17.41 7.96l-1.37-1.37c-.4-.4-.92-.59-1.43-.59-.52 0-1.04.2-1.43.59L10.3 9.45l-7.72 7.72c-.78.78-.78 2.05 0 2.83L4 21.41c.39.39.9.59 1.41.59.51 0 1.02-.2 1.41-.59l7.78-7.78 2.81-2.81c.8-.78.8-2.07 0-2.86zM5.41 20L4 18.59l7.72-7.72 1.47 1.35L5.41 20z\"/>\n",
              "  </svg>\n",
              "      </button>\n",
              "      \n",
              "  <style>\n",
              "    .colab-df-container {\n",
              "      display:flex;\n",
              "      flex-wrap:wrap;\n",
              "      gap: 12px;\n",
              "    }\n",
              "\n",
              "    .colab-df-convert {\n",
              "      background-color: #E8F0FE;\n",
              "      border: none;\n",
              "      border-radius: 50%;\n",
              "      cursor: pointer;\n",
              "      display: none;\n",
              "      fill: #1967D2;\n",
              "      height: 32px;\n",
              "      padding: 0 0 0 0;\n",
              "      width: 32px;\n",
              "    }\n",
              "\n",
              "    .colab-df-convert:hover {\n",
              "      background-color: #E2EBFA;\n",
              "      box-shadow: 0px 1px 2px rgba(60, 64, 67, 0.3), 0px 1px 3px 1px rgba(60, 64, 67, 0.15);\n",
              "      fill: #174EA6;\n",
              "    }\n",
              "\n",
              "    [theme=dark] .colab-df-convert {\n",
              "      background-color: #3B4455;\n",
              "      fill: #D2E3FC;\n",
              "    }\n",
              "\n",
              "    [theme=dark] .colab-df-convert:hover {\n",
              "      background-color: #434B5C;\n",
              "      box-shadow: 0px 1px 3px 1px rgba(0, 0, 0, 0.15);\n",
              "      filter: drop-shadow(0px 1px 2px rgba(0, 0, 0, 0.3));\n",
              "      fill: #FFFFFF;\n",
              "    }\n",
              "  </style>\n",
              "\n",
              "      <script>\n",
              "        const buttonEl =\n",
              "          document.querySelector('#df-faf189d4-4e0d-4c7d-af3b-53261731dd5c button.colab-df-convert');\n",
              "        buttonEl.style.display =\n",
              "          google.colab.kernel.accessAllowed ? 'block' : 'none';\n",
              "\n",
              "        async function convertToInteractive(key) {\n",
              "          const element = document.querySelector('#df-faf189d4-4e0d-4c7d-af3b-53261731dd5c');\n",
              "          const dataTable =\n",
              "            await google.colab.kernel.invokeFunction('convertToInteractive',\n",
              "                                                     [key], {});\n",
              "          if (!dataTable) return;\n",
              "\n",
              "          const docLinkHtml = 'Like what you see? Visit the ' +\n",
              "            '<a target=\"_blank\" href=https://colab.research.google.com/notebooks/data_table.ipynb>data table notebook</a>'\n",
              "            + ' to learn more about interactive tables.';\n",
              "          element.innerHTML = '';\n",
              "          dataTable['output_type'] = 'display_data';\n",
              "          await google.colab.output.renderOutput(dataTable, element);\n",
              "          const docLink = document.createElement('div');\n",
              "          docLink.innerHTML = docLinkHtml;\n",
              "          element.appendChild(docLink);\n",
              "        }\n",
              "      </script>\n",
              "    </div>\n",
              "  </div>\n",
              "  "
            ]
          },
          "metadata": {},
          "execution_count": 9
        }
      ]
    },
    {
      "cell_type": "markdown",
      "source": [
        "### 人口マスタ"
      ],
      "metadata": {
        "id": "AlqD8mNcz8wX"
      }
    },
    {
      "cell_type": "code",
      "source": [
        "df_pop_master = pd.read_csv(os.path.join(DIR_NAME, 'population_master.csv'))[['地域ID', '市区町村名', '町名', '町丁目', '緯度', '経度']]\n",
        "print(df_pop_master.shape)"
      ],
      "metadata": {
        "colab": {
          "base_uri": "https://localhost:8080/"
        },
        "id": "u6_REO5iw4U-",
        "outputId": "30788b84-bc80-4509-fdfc-217cbd34b8cf"
      },
      "execution_count": 10,
      "outputs": [
        {
          "output_type": "stream",
          "name": "stdout",
          "text": [
            "(3145, 6)\n"
          ]
        }
      ]
    },
    {
      "cell_type": "code",
      "source": [
        "# 距離計算\n",
        "def get_distance(lat1, lon1, lat2, lon2):\n",
        "    _lat1 = lat1 * math.pi / 180\n",
        "    _lon1 = lon1 * math.pi / 180\n",
        "    _lat2 = lat2 * math.pi / 180\n",
        "    _lon2 = lon2 * math.pi / 180\n",
        "    _tmp = math.cos(_lat1) * math.cos(_lat2) * math.cos(_lon2 - _lon1) + math.sin(_lat1) * math.sin(_lat2)\n",
        "    _tmp = 1 if _tmp > 1 else -1 if _tmp < -1 else _tmp\n",
        "    return 6371 * math.acos(_tmp)\n",
        "\n",
        "# 最寄り施設までの距離\n",
        "def get_value_of_nearest_facility(df_master, df_facility, category, method='min', param=3):\n",
        "    _df_cat = df_facility[df_facility['施設分類'] == category].copy()\n",
        "    cat_values = []\n",
        "    for i, row in df_master.iterrows():\n",
        "        dist = _df_cat.apply(lambda x: get_distance(x['緯度'], x['経度'], row['緯度'], row['経度']), axis=1)\n",
        "        val = None\n",
        "        if method == 'min':\n",
        "            # 最小の距離\n",
        "            val = dist.min()\n",
        "        elif method == 'min_param':\n",
        "            # 最小の距離の時の他のパラメータを返す\n",
        "            min_idx = dist.idxmin()\n",
        "            if np.isnan(min_idx):\n",
        "                val = np.NaN\n",
        "            else:\n",
        "                val = _df_cat.iloc[min_idx][param]\n",
        "        elif method == 'count':\n",
        "            # {param}km以内の施設の数をカウント\n",
        "            val = len(dist[dist <= param])\n",
        "        elif method == 'mean':\n",
        "            # 近い{param}件の距離の平均\n",
        "            val = dist.sort_values()[:param].mean()\n",
        "        cat_values.append(val)\n",
        "    return cat_values"
      ],
      "metadata": {
        "id": "rwRbaHZYz-og"
      },
      "execution_count": 11,
      "outputs": []
    },
    {
      "cell_type": "code",
      "source": [
        "def rank_score(sr_data):\n",
        "    size = sr_data.notna().sum()\n",
        "    rank = sr_data.rank()\n",
        "    result = rank.copy()\n",
        "    # 0~1: 15%, 1~2: 20%, 2~3: 30%, 3~4: 20%, 4~5: 15%\n",
        "    level_list = [0.15, (0.15+0.2), (0.15+0.2+0.3), (0.15+0.2+0.3+0.2), 1]\n",
        "    \n",
        "    pre_level = 0\n",
        "    for index, level in enumerate([lv*size for lv in level_list]):\n",
        "        result[(rank > pre_level)&(rank <= level)] = (rank - pre_level)/(level - pre_level) + index\n",
        "        pre_level = level\n",
        "\n",
        "    return result"
      ],
      "metadata": {
        "id": "xnhp6O2H-RuY"
      },
      "execution_count": 12,
      "outputs": []
    },
    {
      "cell_type": "markdown",
      "source": [
        "## 医療スコア"
      ],
      "metadata": {
        "id": "Clz8aXvibArj"
      }
    },
    {
      "cell_type": "code",
      "source": [
        "%%time\n",
        "# 近い5件の距離の平均\n",
        "df_pop_master['病院(平均距離)'] = get_value_of_nearest_facility(df_pop_master, df_hospital_master, '病院', 'mean', 5)\n",
        "# 0.5km以内の施設の数\n",
        "df_pop_master['病院(数)'] = get_value_of_nearest_facility(df_pop_master, df_hospital_master, '病院', 'count', 0.5)\n",
        "\n",
        "df_pediatrics = df_hospital_master[df_hospital_master['小児'].notna()]\n",
        "# 近い5件の距離の距離\n",
        "df_pop_master['小児科(平均距離)'] = get_value_of_nearest_facility(df_pop_master, df_pediatrics, '病院', 'mean', 5)\n",
        "# 0.5km以内の施設の数\n",
        "df_pop_master['小児科(数)'] = get_value_of_nearest_facility(df_pop_master, df_pediatrics, '病院', 'count', 0.5)\n",
        "\n",
        "# 近い5件の距離の平均\n",
        "df_pop_master['薬局(平均距離)'] = get_value_of_nearest_facility(df_pop_master, df_pharmacy_master, '薬局', 'mean', 5)\n",
        "# 0.5km以内の施設の数\n",
        "df_pop_master['薬局(数)'] = get_value_of_nearest_facility(df_pop_master, df_pharmacy_master, '薬局', 'count', 0.5)"
      ],
      "metadata": {
        "colab": {
          "base_uri": "https://localhost:8080/"
        },
        "id": "kvmdznFL0MdV",
        "outputId": "738a4a4c-3995-4cae-985a-a4e3762cfe43"
      },
      "execution_count": 13,
      "outputs": [
        {
          "output_type": "stream",
          "name": "stdout",
          "text": [
            "CPU times: user 25min 48s, sys: 4.9 s, total: 25min 53s\n",
            "Wall time: 26min 7s\n"
          ]
        }
      ]
    },
    {
      "cell_type": "code",
      "source": [
        "print(df_pop_master.shape)\n",
        "df_pop_master.head()"
      ],
      "metadata": {
        "colab": {
          "base_uri": "https://localhost:8080/",
          "height": 224
        },
        "id": "YyIAuJht1b2-",
        "outputId": "db69127c-b0ff-465a-ee63-1b1dda1ec22c"
      },
      "execution_count": 14,
      "outputs": [
        {
          "output_type": "stream",
          "name": "stdout",
          "text": [
            "(3145, 12)\n"
          ]
        },
        {
          "output_type": "execute_result",
          "data": {
            "text/plain": [
              "     地域ID 市区町村名   町名     町丁目         緯度          経度  病院(平均距離)  病院(数)  \\\n",
              "0  101003  千代田区  丸の内  丸の内１丁目  35.681610  139.767511  0.256831      8   \n",
              "1  101004  千代田区  丸の内  丸の内２丁目  35.680071  139.763944  0.460269      2   \n",
              "2  101005  千代田区  丸の内  丸の内３丁目  35.676890  139.764039  0.252460     13   \n",
              "3  101007  千代田区  大手町  大手町１丁目  35.688067  139.764353  0.143525      8   \n",
              "4  101008  千代田区  大手町  大手町２丁目  35.686416  139.768530  0.262058     13   \n",
              "\n",
              "   小児科(平均距離)  小児科(数)  薬局(平均距離)  薬局(数)  \n",
              "0   0.344824       4  0.202633     13  \n",
              "1   0.513721       2  0.387554      5  \n",
              "2   0.423147       3  0.214938     12  \n",
              "3   0.496290       2  0.122312     14  \n",
              "4   0.466893       4  0.225793     18  "
            ],
            "text/html": [
              "\n",
              "  <div id=\"df-3ca49e55-5c97-46e5-b36e-58e4586a7ab0\">\n",
              "    <div class=\"colab-df-container\">\n",
              "      <div>\n",
              "<style scoped>\n",
              "    .dataframe tbody tr th:only-of-type {\n",
              "        vertical-align: middle;\n",
              "    }\n",
              "\n",
              "    .dataframe tbody tr th {\n",
              "        vertical-align: top;\n",
              "    }\n",
              "\n",
              "    .dataframe thead th {\n",
              "        text-align: right;\n",
              "    }\n",
              "</style>\n",
              "<table border=\"1\" class=\"dataframe\">\n",
              "  <thead>\n",
              "    <tr style=\"text-align: right;\">\n",
              "      <th></th>\n",
              "      <th>地域ID</th>\n",
              "      <th>市区町村名</th>\n",
              "      <th>町名</th>\n",
              "      <th>町丁目</th>\n",
              "      <th>緯度</th>\n",
              "      <th>経度</th>\n",
              "      <th>病院(平均距離)</th>\n",
              "      <th>病院(数)</th>\n",
              "      <th>小児科(平均距離)</th>\n",
              "      <th>小児科(数)</th>\n",
              "      <th>薬局(平均距離)</th>\n",
              "      <th>薬局(数)</th>\n",
              "    </tr>\n",
              "  </thead>\n",
              "  <tbody>\n",
              "    <tr>\n",
              "      <th>0</th>\n",
              "      <td>101003</td>\n",
              "      <td>千代田区</td>\n",
              "      <td>丸の内</td>\n",
              "      <td>丸の内１丁目</td>\n",
              "      <td>35.681610</td>\n",
              "      <td>139.767511</td>\n",
              "      <td>0.256831</td>\n",
              "      <td>8</td>\n",
              "      <td>0.344824</td>\n",
              "      <td>4</td>\n",
              "      <td>0.202633</td>\n",
              "      <td>13</td>\n",
              "    </tr>\n",
              "    <tr>\n",
              "      <th>1</th>\n",
              "      <td>101004</td>\n",
              "      <td>千代田区</td>\n",
              "      <td>丸の内</td>\n",
              "      <td>丸の内２丁目</td>\n",
              "      <td>35.680071</td>\n",
              "      <td>139.763944</td>\n",
              "      <td>0.460269</td>\n",
              "      <td>2</td>\n",
              "      <td>0.513721</td>\n",
              "      <td>2</td>\n",
              "      <td>0.387554</td>\n",
              "      <td>5</td>\n",
              "    </tr>\n",
              "    <tr>\n",
              "      <th>2</th>\n",
              "      <td>101005</td>\n",
              "      <td>千代田区</td>\n",
              "      <td>丸の内</td>\n",
              "      <td>丸の内３丁目</td>\n",
              "      <td>35.676890</td>\n",
              "      <td>139.764039</td>\n",
              "      <td>0.252460</td>\n",
              "      <td>13</td>\n",
              "      <td>0.423147</td>\n",
              "      <td>3</td>\n",
              "      <td>0.214938</td>\n",
              "      <td>12</td>\n",
              "    </tr>\n",
              "    <tr>\n",
              "      <th>3</th>\n",
              "      <td>101007</td>\n",
              "      <td>千代田区</td>\n",
              "      <td>大手町</td>\n",
              "      <td>大手町１丁目</td>\n",
              "      <td>35.688067</td>\n",
              "      <td>139.764353</td>\n",
              "      <td>0.143525</td>\n",
              "      <td>8</td>\n",
              "      <td>0.496290</td>\n",
              "      <td>2</td>\n",
              "      <td>0.122312</td>\n",
              "      <td>14</td>\n",
              "    </tr>\n",
              "    <tr>\n",
              "      <th>4</th>\n",
              "      <td>101008</td>\n",
              "      <td>千代田区</td>\n",
              "      <td>大手町</td>\n",
              "      <td>大手町２丁目</td>\n",
              "      <td>35.686416</td>\n",
              "      <td>139.768530</td>\n",
              "      <td>0.262058</td>\n",
              "      <td>13</td>\n",
              "      <td>0.466893</td>\n",
              "      <td>4</td>\n",
              "      <td>0.225793</td>\n",
              "      <td>18</td>\n",
              "    </tr>\n",
              "  </tbody>\n",
              "</table>\n",
              "</div>\n",
              "      <button class=\"colab-df-convert\" onclick=\"convertToInteractive('df-3ca49e55-5c97-46e5-b36e-58e4586a7ab0')\"\n",
              "              title=\"Convert this dataframe to an interactive table.\"\n",
              "              style=\"display:none;\">\n",
              "        \n",
              "  <svg xmlns=\"http://www.w3.org/2000/svg\" height=\"24px\"viewBox=\"0 0 24 24\"\n",
              "       width=\"24px\">\n",
              "    <path d=\"M0 0h24v24H0V0z\" fill=\"none\"/>\n",
              "    <path d=\"M18.56 5.44l.94 2.06.94-2.06 2.06-.94-2.06-.94-.94-2.06-.94 2.06-2.06.94zm-11 1L8.5 8.5l.94-2.06 2.06-.94-2.06-.94L8.5 2.5l-.94 2.06-2.06.94zm10 10l.94 2.06.94-2.06 2.06-.94-2.06-.94-.94-2.06-.94 2.06-2.06.94z\"/><path d=\"M17.41 7.96l-1.37-1.37c-.4-.4-.92-.59-1.43-.59-.52 0-1.04.2-1.43.59L10.3 9.45l-7.72 7.72c-.78.78-.78 2.05 0 2.83L4 21.41c.39.39.9.59 1.41.59.51 0 1.02-.2 1.41-.59l7.78-7.78 2.81-2.81c.8-.78.8-2.07 0-2.86zM5.41 20L4 18.59l7.72-7.72 1.47 1.35L5.41 20z\"/>\n",
              "  </svg>\n",
              "      </button>\n",
              "      \n",
              "  <style>\n",
              "    .colab-df-container {\n",
              "      display:flex;\n",
              "      flex-wrap:wrap;\n",
              "      gap: 12px;\n",
              "    }\n",
              "\n",
              "    .colab-df-convert {\n",
              "      background-color: #E8F0FE;\n",
              "      border: none;\n",
              "      border-radius: 50%;\n",
              "      cursor: pointer;\n",
              "      display: none;\n",
              "      fill: #1967D2;\n",
              "      height: 32px;\n",
              "      padding: 0 0 0 0;\n",
              "      width: 32px;\n",
              "    }\n",
              "\n",
              "    .colab-df-convert:hover {\n",
              "      background-color: #E2EBFA;\n",
              "      box-shadow: 0px 1px 2px rgba(60, 64, 67, 0.3), 0px 1px 3px 1px rgba(60, 64, 67, 0.15);\n",
              "      fill: #174EA6;\n",
              "    }\n",
              "\n",
              "    [theme=dark] .colab-df-convert {\n",
              "      background-color: #3B4455;\n",
              "      fill: #D2E3FC;\n",
              "    }\n",
              "\n",
              "    [theme=dark] .colab-df-convert:hover {\n",
              "      background-color: #434B5C;\n",
              "      box-shadow: 0px 1px 3px 1px rgba(0, 0, 0, 0.15);\n",
              "      filter: drop-shadow(0px 1px 2px rgba(0, 0, 0, 0.3));\n",
              "      fill: #FFFFFF;\n",
              "    }\n",
              "  </style>\n",
              "\n",
              "      <script>\n",
              "        const buttonEl =\n",
              "          document.querySelector('#df-3ca49e55-5c97-46e5-b36e-58e4586a7ab0 button.colab-df-convert');\n",
              "        buttonEl.style.display =\n",
              "          google.colab.kernel.accessAllowed ? 'block' : 'none';\n",
              "\n",
              "        async function convertToInteractive(key) {\n",
              "          const element = document.querySelector('#df-3ca49e55-5c97-46e5-b36e-58e4586a7ab0');\n",
              "          const dataTable =\n",
              "            await google.colab.kernel.invokeFunction('convertToInteractive',\n",
              "                                                     [key], {});\n",
              "          if (!dataTable) return;\n",
              "\n",
              "          const docLinkHtml = 'Like what you see? Visit the ' +\n",
              "            '<a target=\"_blank\" href=https://colab.research.google.com/notebooks/data_table.ipynb>data table notebook</a>'\n",
              "            + ' to learn more about interactive tables.';\n",
              "          element.innerHTML = '';\n",
              "          dataTable['output_type'] = 'display_data';\n",
              "          await google.colab.output.renderOutput(dataTable, element);\n",
              "          const docLink = document.createElement('div');\n",
              "          docLink.innerHTML = docLinkHtml;\n",
              "          element.appendChild(docLink);\n",
              "        }\n",
              "      </script>\n",
              "    </div>\n",
              "  </div>\n",
              "  "
            ]
          },
          "metadata": {},
          "execution_count": 14
        }
      ]
    },
    {
      "cell_type": "markdown",
      "source": [
        "### 病院スコア"
      ],
      "metadata": {
        "id": "Jd1rjLNd-evS"
      }
    },
    {
      "cell_type": "code",
      "source": [
        "all_feature_list = []\n",
        "all_score_list = []"
      ],
      "metadata": {
        "id": "IuS4EeBJ-hkK"
      },
      "execution_count": 15,
      "outputs": []
    },
    {
      "cell_type": "code",
      "source": [
        "score_name = '病院スコア'\n",
        "feature_list = {\n",
        "    '病院(平均距離)':   {'sort': -1, 'weight': 1}, \n",
        "    '病院(数)':         {'sort': 1, 'weight': 0.5},\n",
        "}\n",
        "all_feature_list += list(feature_list.keys())\n",
        "all_score_list.append(score_name)"
      ],
      "metadata": {
        "id": "wIU4G6HJ-jel"
      },
      "execution_count": 16,
      "outputs": []
    },
    {
      "cell_type": "code",
      "source": [
        "for feature_name in feature_list.keys():\n",
        "    sns.histplot(df_pop_master[feature_name], bins=20)\n",
        "    plt.show()"
      ],
      "metadata": {
        "id": "ff7KgX4tcQwb",
        "outputId": "f71ec12e-48e9-4107-ca10-42fff88e8bc7",
        "colab": {
          "base_uri": "https://localhost:8080/",
          "height": 539
        }
      },
      "execution_count": 17,
      "outputs": [
        {
          "output_type": "display_data",
          "data": {
            "text/plain": [
              "<Figure size 432x288 with 1 Axes>"
            ],
            "image/png": "[encoded data removed]"
          },
          "metadata": {
            "needs_background": "light"
          }
        },
        {
          "output_type": "display_data",
          "data": {
            "text/plain": [
              "<Figure size 432x288 with 1 Axes>"
            ],
            "image/png": "[encoded data removed]"
          },
          "metadata": {
            "needs_background": "light"
          }
        }
      ]
    },
    {
      "cell_type": "code",
      "source": [
        "score_list = []\n",
        "for key, value in feature_list.items():\n",
        "    df_pop_master[f'{key}レベル'] = rank_score(df_pop_master[key] * value['sort'])\n",
        "    score_list.append(df_pop_master[f'{key}レベル'] * value['weight'])\n",
        "\n",
        "_tmp_score = pd.concat(score_list, axis=1).sum(axis=1, skipna=False)\n",
        "df_pop_master[score_name] = rank_score(_tmp_score)"
      ],
      "metadata": {
        "id": "LGD8KTWsdhk3"
      },
      "execution_count": 18,
      "outputs": []
    },
    {
      "cell_type": "code",
      "source": [
        "sns.histplot(_tmp_score, bins=20)\n",
        "plt.show()"
      ],
      "metadata": {
        "id": "p4we131idJvG",
        "outputId": "ca8a0740-9c37-491b-9a4a-7e315d970098",
        "colab": {
          "base_uri": "https://localhost:8080/",
          "height": 264
        }
      },
      "execution_count": 19,
      "outputs": [
        {
          "output_type": "display_data",
          "data": {
            "text/plain": [
              "<Figure size 432x288 with 1 Axes>"
            ],
            "image/png": "[encoded data removed]"
          },
          "metadata": {
            "needs_background": "light"
          }
        }
      ]
    },
    {
      "cell_type": "code",
      "source": [
        "sns.histplot(df_pop_master[score_name], bins=20)\n",
        "plt.show()"
      ],
      "metadata": {
        "id": "ffvAc2_S_Cmq",
        "outputId": "08e4bf38-dc3b-49c2-85de-8a63cae452cd",
        "colab": {
          "base_uri": "https://localhost:8080/",
          "height": 277
        }
      },
      "execution_count": 20,
      "outputs": [
        {
          "output_type": "display_data",
          "data": {
            "text/plain": [
              "<Figure size 432x288 with 1 Axes>"
            ],
            "image/png": "[encoded data removed]"
          },
          "metadata": {
            "needs_background": "light"
          }
        }
      ]
    },
    {
      "cell_type": "markdown",
      "source": [
        "### 小児科スコア"
      ],
      "metadata": {
        "id": "Gh3CFeLJ_Hss"
      }
    },
    {
      "cell_type": "code",
      "source": [
        "score_name = '小児科スコア'\n",
        "feature_list = {\n",
        "    '小児科(平均距離)':   {'sort': -1, 'weight': 1}, \n",
        "    '小児科(数)':         {'sort': 1, 'weight': 0.5},\n",
        "}\n",
        "all_feature_list += list(feature_list.keys())\n",
        "all_score_list.append(score_name)"
      ],
      "metadata": {
        "id": "sKU1C1D__FkZ"
      },
      "execution_count": 21,
      "outputs": []
    },
    {
      "cell_type": "code",
      "source": [
        "for feature_name in feature_list.keys():\n",
        "    sns.histplot(df_pop_master[feature_name], bins=20)\n",
        "    plt.show()"
      ],
      "metadata": {
        "id": "bLuNRV_7_Fgi",
        "outputId": "45e2365a-6d94-474d-f5d0-7eed7292cc56",
        "colab": {
          "base_uri": "https://localhost:8080/",
          "height": 539
        }
      },
      "execution_count": 22,
      "outputs": [
        {
          "output_type": "display_data",
          "data": {
            "text/plain": [
              "<Figure size 432x288 with 1 Axes>"
            ],
            "image/png": "[encoded data removed]"
          },
          "metadata": {
            "needs_background": "light"
          }
        },
        {
          "output_type": "display_data",
          "data": {
            "text/plain": [
              "<Figure size 432x288 with 1 Axes>"
            ],
            "image/png": "[encoded data removed]"
          },
          "metadata": {
            "needs_background": "light"
          }
        }
      ]
    },
    {
      "cell_type": "code",
      "source": [
        "score_list = []\n",
        "for key, value in feature_list.items():\n",
        "    df_pop_master[f'{key}レベル'] = rank_score(df_pop_master[key] * value['sort'])\n",
        "    score_list.append(df_pop_master[f'{key}レベル'] * value['weight'])\n",
        "\n",
        "_tmp_score = pd.concat(score_list, axis=1).sum(axis=1, skipna=False)\n",
        "df_pop_master[score_name] = rank_score(_tmp_score)"
      ],
      "metadata": {
        "id": "lN8O3GhR_Fcj"
      },
      "execution_count": 23,
      "outputs": []
    },
    {
      "cell_type": "code",
      "source": [
        "sns.histplot(_tmp_score, bins=20)\n",
        "plt.show()"
      ],
      "metadata": {
        "id": "JmcuSzUt_FWE",
        "outputId": "cd1688ce-2c85-418b-a02e-98f03dd1031b",
        "colab": {
          "base_uri": "https://localhost:8080/",
          "height": 265
        }
      },
      "execution_count": 24,
      "outputs": [
        {
          "output_type": "display_data",
          "data": {
            "text/plain": [
              "<Figure size 432x288 with 1 Axes>"
            ],
            "image/png": "[encoded data removed]"
          },
          "metadata": {
            "needs_background": "light"
          }
        }
      ]
    },
    {
      "cell_type": "code",
      "source": [
        "sns.histplot(df_pop_master[score_name], bins=20)\n",
        "plt.show()"
      ],
      "metadata": {
        "id": "amNBLZEA_V6h",
        "outputId": "ed48074c-9160-4e61-a46d-75757ae79a28",
        "colab": {
          "base_uri": "https://localhost:8080/",
          "height": 278
        }
      },
      "execution_count": 25,
      "outputs": [
        {
          "output_type": "display_data",
          "data": {
            "text/plain": [
              "<Figure size 432x288 with 1 Axes>"
            ],
            "image/png": "[encoded data removed]"
          },
          "metadata": {
            "needs_background": "light"
          }
        }
      ]
    },
    {
      "cell_type": "markdown",
      "source": [
        "### 薬局スコア"
      ],
      "metadata": {
        "id": "k9dnl1cV_asP"
      }
    },
    {
      "cell_type": "code",
      "source": [
        "score_name = '薬局スコア'\n",
        "feature_list = {\n",
        "    '薬局(平均距離)':   {'sort': -1, 'weight': 1}, \n",
        "    '薬局(数)':         {'sort': 1, 'weight': 0.5},\n",
        "}\n",
        "all_feature_list += list(feature_list.keys())\n",
        "all_score_list.append(score_name)"
      ],
      "metadata": {
        "id": "LNWO3FEd_V33"
      },
      "execution_count": 26,
      "outputs": []
    },
    {
      "cell_type": "code",
      "source": [
        "for feature_name in feature_list.keys():\n",
        "    sns.histplot(df_pop_master[feature_name], bins=20)\n",
        "    plt.show()"
      ],
      "metadata": {
        "id": "8eY53ELj_V05",
        "outputId": "84660bd3-32f9-4ced-fd3c-c1bbfef1dbb9",
        "colab": {
          "base_uri": "https://localhost:8080/",
          "height": 542
        }
      },
      "execution_count": 27,
      "outputs": [
        {
          "output_type": "display_data",
          "data": {
            "text/plain": [
              "<Figure size 432x288 with 1 Axes>"
            ],
            "image/png": "[encoded data removed]"
          },
          "metadata": {
            "needs_background": "light"
          }
        },
        {
          "output_type": "display_data",
          "data": {
            "text/plain": [
              "<Figure size 432x288 with 1 Axes>"
            ],
            "image/png": "[encoded data removed]"
          },
          "metadata": {
            "needs_background": "light"
          }
        }
      ]
    },
    {
      "cell_type": "code",
      "source": [
        "score_list = []\n",
        "for key, value in feature_list.items():\n",
        "    df_pop_master[f'{key}レベル'] = rank_score(df_pop_master[key] * value['sort'])\n",
        "    score_list.append(df_pop_master[f'{key}レベル'] * value['weight'])\n",
        "\n",
        "_tmp_score = pd.concat(score_list, axis=1).sum(axis=1, skipna=False)\n",
        "df_pop_master[score_name] = rank_score(_tmp_score)"
      ],
      "metadata": {
        "id": "xUNmBkNA_Vx_"
      },
      "execution_count": 28,
      "outputs": []
    },
    {
      "cell_type": "code",
      "source": [
        "sns.histplot(_tmp_score, bins=20)\n",
        "plt.show()"
      ],
      "metadata": {
        "id": "qIye-yDb_Vsi",
        "outputId": "9a782606-012b-452f-fac2-21ddb2068a5d",
        "colab": {
          "base_uri": "https://localhost:8080/",
          "height": 264
        }
      },
      "execution_count": 29,
      "outputs": [
        {
          "output_type": "display_data",
          "data": {
            "text/plain": [
              "<Figure size 432x288 with 1 Axes>"
            ],
            "image/png": "[encoded data removed]"
          },
          "metadata": {
            "needs_background": "light"
          }
        }
      ]
    },
    {
      "cell_type": "code",
      "source": [
        "sns.histplot(df_pop_master[score_name], bins=20)\n",
        "plt.show()"
      ],
      "metadata": {
        "id": "Oiexwsu5_met",
        "outputId": "1ae77448-d479-4a9e-ef9e-e8a448ed7015",
        "colab": {
          "base_uri": "https://localhost:8080/",
          "height": 277
        }
      },
      "execution_count": 30,
      "outputs": [
        {
          "output_type": "display_data",
          "data": {
            "text/plain": [
              "<Figure size 432x288 with 1 Axes>"
            ],
            "image/png": "[encoded data removed]"
          },
          "metadata": {
            "needs_background": "light"
          }
        }
      ]
    },
    {
      "cell_type": "markdown",
      "source": [
        "### 医療スコア"
      ],
      "metadata": {
        "id": "sigqi8qBKtYg"
      }
    },
    {
      "cell_type": "code",
      "source": [
        "score_name = '医療スコア'\n",
        "feature_list = {\n",
        "    '病院スコア':   {'sort': 1, 'weight': 1}, \n",
        "    '小児科スコア': {'sort': 1, 'weight': 1},\n",
        "    '薬局スコア':   {'sort': 1, 'weight': 1},\n",
        "}\n",
        "all_score_list.append(score_name)"
      ],
      "metadata": {
        "id": "kFEBkFuwKtJY"
      },
      "execution_count": 31,
      "outputs": []
    },
    {
      "cell_type": "code",
      "source": [
        "score_list = []\n",
        "for key, value in feature_list.items():\n",
        "    df_pop_master[f'{key}レベル'] = rank_score(df_pop_master[key] * value['sort'])\n",
        "    score_list.append(df_pop_master[f'{key}レベル'] * value['weight'])\n",
        "\n",
        "_tmp_score = pd.concat(score_list, axis=1).sum(axis=1, skipna=False)\n",
        "df_pop_master[score_name] = rank_score(_tmp_score)"
      ],
      "metadata": {
        "id": "kwt_XQgzLGPx"
      },
      "execution_count": 32,
      "outputs": []
    },
    {
      "cell_type": "code",
      "source": [
        "sns.histplot(_tmp_score, bins=20)\n",
        "plt.show()"
      ],
      "metadata": {
        "id": "QK4fuZ2OLL_w",
        "outputId": "0fbe38fb-24e1-4511-993c-cea2bfa9761a",
        "colab": {
          "base_uri": "https://localhost:8080/",
          "height": 264
        }
      },
      "execution_count": 33,
      "outputs": [
        {
          "output_type": "display_data",
          "data": {
            "text/plain": [
              "<Figure size 432x288 with 1 Axes>"
            ],
            "image/png": "[encoded data removed]"
          },
          "metadata": {
            "needs_background": "light"
          }
        }
      ]
    },
    {
      "cell_type": "code",
      "source": [
        "sns.histplot(df_pop_master[score_name], bins=20)\n",
        "plt.show()"
      ],
      "metadata": {
        "id": "1fkwadZ2LMue",
        "outputId": "4228f62d-7ae3-442b-af08-4ac90c64bff7",
        "colab": {
          "base_uri": "https://localhost:8080/",
          "height": 277
        }
      },
      "execution_count": 34,
      "outputs": [
        {
          "output_type": "display_data",
          "data": {
            "text/plain": [
              "<Figure size 432x288 with 1 Axes>"
            ],
            "image/png": "[encoded data removed]"
          },
          "metadata": {
            "needs_background": "light"
          }
        }
      ]
    },
    {
      "cell_type": "markdown",
      "source": [
        "### 保存"
      ],
      "metadata": {
        "id": "R9nO9J4d_xVd"
      }
    },
    {
      "cell_type": "code",
      "source": [
        "all_feature_list"
      ],
      "metadata": {
        "id": "M753A4-o_mb6",
        "outputId": "3c929f16-8837-4fd8-fc8b-17d13ccccc15",
        "colab": {
          "base_uri": "https://localhost:8080/"
        }
      },
      "execution_count": 35,
      "outputs": [
        {
          "output_type": "execute_result",
          "data": {
            "text/plain": [
              "['病院(平均距離)', '病院(数)', '小児科(平均距離)', '小児科(数)', '薬局(平均距離)', '薬局(数)']"
            ]
          },
          "metadata": {},
          "execution_count": 35
        }
      ]
    },
    {
      "cell_type": "code",
      "source": [
        "all_score_list"
      ],
      "metadata": {
        "id": "jBuF876y_zF-",
        "outputId": "18dc7a96-57ac-4695-b295-2a4bc5a13926",
        "colab": {
          "base_uri": "https://localhost:8080/"
        }
      },
      "execution_count": 36,
      "outputs": [
        {
          "output_type": "execute_result",
          "data": {
            "text/plain": [
              "['病院スコア', '小児科スコア', '薬局スコア', '医療スコア']"
            ]
          },
          "metadata": {},
          "execution_count": 36
        }
      ]
    },
    {
      "cell_type": "code",
      "source": [
        "for col in [col for col in all_feature_list if '距離' in col]:\n",
        "    df_pop_master[col] = df_pop_master[col].round(3)\n",
        "\n",
        "for col in all_score_list:\n",
        "    df_pop_master[col] = df_pop_master[col].round(3)"
      ],
      "metadata": {
        "id": "10CG2FdVJ9RS"
      },
      "execution_count": 37,
      "outputs": []
    },
    {
      "cell_type": "code",
      "source": [
        "df_pop_master[\n",
        "    ['地域ID'] + all_feature_list + all_score_list\n",
        "].to_csv(os.path.join(DIR_NAME, output_score_file), index=False)"
      ],
      "metadata": {
        "id": "AqDrjIdB-jOO"
      },
      "execution_count": 38,
      "outputs": []
    },
    {
      "cell_type": "code",
      "source": [
        "for _score in all_score_list:\n",
        "    plt.figure(figsize=(15, 5))\n",
        "    sns.barplot(x='市区町村名', y=_score, data=df_pop_master)\n",
        "    plt.show()"
      ],
      "metadata": {
        "colab": {
          "base_uri": "https://localhost:8080/",
          "height": 1000
        },
        "id": "WmM2Bvqu-lKP",
        "outputId": "5812801a-4f42-47d5-c166-6ff09e5a7414"
      },
      "execution_count": 39,
      "outputs": [
        {
          "output_type": "display_data",
          "data": {
            "text/plain": [
              "<Figure size 1080x360 with 1 Axes>"
            ],
            "image/png": "[encoded data removed]"
          },
          "metadata": {
            "needs_background": "light"
          }
        },
        {
          "output_type": "display_data",
          "data": {
            "text/plain": [
              "<Figure size 1080x360 with 1 Axes>"
            ],
            "image/png": "[encoded data removed]"
          },
          "metadata": {
            "needs_background": "light"
          }
        },
        {
          "output_type": "display_data",
          "data": {
            "text/plain": [
              "<Figure size 1080x360 with 1 Axes>"
            ],
            "image/png": "[encoded data removed]"
          },
          "metadata": {
            "needs_background": "light"
          }
        },
        {
          "output_type": "display_data",
          "data": {
            "text/plain": [
              "<Figure size 1080x360 with 1 Axes>"
            ],
            "image/png": "[encoded data removed]"
          },
          "metadata": {
            "needs_background": "light"
          }
        }
      ]
    },
    {
      "cell_type": "code",
      "source": [
        "def get_score_top(df_data, target, ):\n",
        "    df_level = df_data.copy()\n",
        "    score_name = f'{target}スコア'\n",
        "    feature_cols = [col for col in all_feature_list if col.startswith(target)]\n",
        "    df_level['rank'] = df_level.groupby('町名')[score_name].transform('rank', ascending=False)\n",
        "    df_level = df_level[df_level['rank'] == 1].sort_values(score_name, ascending=False)[\n",
        "        ['市区町村名', '町名', '町丁目'] + feature_cols + [score_name]\n",
        "    ].reset_index(drop=True)\n",
        "    return df_level"
      ],
      "metadata": {
        "id": "b-jw3EH2LpXl"
      },
      "execution_count": 40,
      "outputs": []
    },
    {
      "cell_type": "code",
      "source": [
        "df_level = get_score_top(df_pop_master, '病院')\n",
        "print(df_level.shape)\n",
        "df_level.head(10)"
      ],
      "metadata": {
        "id": "ZplAKn54Lqmw",
        "outputId": "7e886447-f861-4d23-c154-4a1014802f2d",
        "colab": {
          "base_uri": "https://localhost:8080/",
          "height": 380
        }
      },
      "execution_count": 41,
      "outputs": [
        {
          "output_type": "stream",
          "name": "stdout",
          "text": [
            "(911, 6)\n"
          ]
        },
        {
          "output_type": "execute_result",
          "data": {
            "text/plain": [
              "  市区町村名      町名        町丁目  病院(平均距離)  病院(数)  病院スコア\n",
              "0    港区      新橋      新橋２丁目     0.054     25  5.000\n",
              "1   渋谷区     道玄坂     道玄坂２丁目     0.076     20  4.998\n",
              "2   中央区      銀座      銀座１丁目     0.108     22  4.996\n",
              "3  千代田区     内幸町     内幸町２丁目     0.114     24  4.994\n",
              "4   品川区      大井      大井１丁目     0.103     18  4.992\n",
              "5  江戸川区     西葛西     西葛西６丁目     0.088     17  4.989\n",
              "6    港区     西新橋     西新橋１丁目     0.123     30  4.987\n",
              "7    港区     虎ノ門     虎ノ門１丁目     0.123     22  4.981\n",
              "8   中央区  日本橋堀留町  日本橋堀留町２丁目     0.121     20  4.979\n",
              "9   豊島区     北大塚     北大塚２丁目     0.119     18  4.977"
            ],
            "text/html": [
              "\n",
              "  <div id=\"df-17af5d96-95be-4a86-b114-b51a5f5cd827\">\n",
              "    <div class=\"colab-df-container\">\n",
              "      <div>\n",
              "<style scoped>\n",
              "    .dataframe tbody tr th:only-of-type {\n",
              "        vertical-align: middle;\n",
              "    }\n",
              "\n",
              "    .dataframe tbody tr th {\n",
              "        vertical-align: top;\n",
              "    }\n",
              "\n",
              "    .dataframe thead th {\n",
              "        text-align: right;\n",
              "    }\n",
              "</style>\n",
              "<table border=\"1\" class=\"dataframe\">\n",
              "  <thead>\n",
              "    <tr style=\"text-align: right;\">\n",
              "      <th></th>\n",
              "      <th>市区町村名</th>\n",
              "      <th>町名</th>\n",
              "      <th>町丁目</th>\n",
              "      <th>病院(平均距離)</th>\n",
              "      <th>病院(数)</th>\n",
              "      <th>病院スコア</th>\n",
              "    </tr>\n",
              "  </thead>\n",
              "  <tbody>\n",
              "    <tr>\n",
              "      <th>0</th>\n",
              "      <td>港区</td>\n",
              "      <td>新橋</td>\n",
              "      <td>新橋２丁目</td>\n",
              "      <td>0.054</td>\n",
              "      <td>25</td>\n",
              "      <td>5.000</td>\n",
              "    </tr>\n",
              "    <tr>\n",
              "      <th>1</th>\n",
              "      <td>渋谷区</td>\n",
              "      <td>道玄坂</td>\n",
              "      <td>道玄坂２丁目</td>\n",
              "      <td>0.076</td>\n",
              "      <td>20</td>\n",
              "      <td>4.998</td>\n",
              "    </tr>\n",
              "    <tr>\n",
              "      <th>2</th>\n",
              "      <td>中央区</td>\n",
              "      <td>銀座</td>\n",
              "      <td>銀座１丁目</td>\n",
              "      <td>0.108</td>\n",
              "      <td>22</td>\n",
              "      <td>4.996</td>\n",
              "    </tr>\n",
              "    <tr>\n",
              "      <th>3</th>\n",
              "      <td>千代田区</td>\n",
              "      <td>内幸町</td>\n",
              "      <td>内幸町２丁目</td>\n",
              "      <td>0.114</td>\n",
              "      <td>24</td>\n",
              "      <td>4.994</td>\n",
              "    </tr>\n",
              "    <tr>\n",
              "      <th>4</th>\n",
              "      <td>品川区</td>\n",
              "      <td>大井</td>\n",
              "      <td>大井１丁目</td>\n",
              "      <td>0.103</td>\n",
              "      <td>18</td>\n",
              "      <td>4.992</td>\n",
              "    </tr>\n",
              "    <tr>\n",
              "      <th>5</th>\n",
              "      <td>江戸川区</td>\n",
              "      <td>西葛西</td>\n",
              "      <td>西葛西６丁目</td>\n",
              "      <td>0.088</td>\n",
              "      <td>17</td>\n",
              "      <td>4.989</td>\n",
              "    </tr>\n",
              "    <tr>\n",
              "      <th>6</th>\n",
              "      <td>港区</td>\n",
              "      <td>西新橋</td>\n",
              "      <td>西新橋１丁目</td>\n",
              "      <td>0.123</td>\n",
              "      <td>30</td>\n",
              "      <td>4.987</td>\n",
              "    </tr>\n",
              "    <tr>\n",
              "      <th>7</th>\n",
              "      <td>港区</td>\n",
              "      <td>虎ノ門</td>\n",
              "      <td>虎ノ門１丁目</td>\n",
              "      <td>0.123</td>\n",
              "      <td>22</td>\n",
              "      <td>4.981</td>\n",
              "    </tr>\n",
              "    <tr>\n",
              "      <th>8</th>\n",
              "      <td>中央区</td>\n",
              "      <td>日本橋堀留町</td>\n",
              "      <td>日本橋堀留町２丁目</td>\n",
              "      <td>0.121</td>\n",
              "      <td>20</td>\n",
              "      <td>4.979</td>\n",
              "    </tr>\n",
              "    <tr>\n",
              "      <th>9</th>\n",
              "      <td>豊島区</td>\n",
              "      <td>北大塚</td>\n",
              "      <td>北大塚２丁目</td>\n",
              "      <td>0.119</td>\n",
              "      <td>18</td>\n",
              "      <td>4.977</td>\n",
              "    </tr>\n",
              "  </tbody>\n",
              "</table>\n",
              "</div>\n",
              "      <button class=\"colab-df-convert\" onclick=\"convertToInteractive('df-17af5d96-95be-4a86-b114-b51a5f5cd827')\"\n",
              "              title=\"Convert this dataframe to an interactive table.\"\n",
              "              style=\"display:none;\">\n",
              "        \n",
              "  <svg xmlns=\"http://www.w3.org/2000/svg\" height=\"24px\"viewBox=\"0 0 24 24\"\n",
              "       width=\"24px\">\n",
              "    <path d=\"M0 0h24v24H0V0z\" fill=\"none\"/>\n",
              "    <path d=\"M18.56 5.44l.94 2.06.94-2.06 2.06-.94-2.06-.94-.94-2.06-.94 2.06-2.06.94zm-11 1L8.5 8.5l.94-2.06 2.06-.94-2.06-.94L8.5 2.5l-.94 2.06-2.06.94zm10 10l.94 2.06.94-2.06 2.06-.94-2.06-.94-.94-2.06-.94 2.06-2.06.94z\"/><path d=\"M17.41 7.96l-1.37-1.37c-.4-.4-.92-.59-1.43-.59-.52 0-1.04.2-1.43.59L10.3 9.45l-7.72 7.72c-.78.78-.78 2.05 0 2.83L4 21.41c.39.39.9.59 1.41.59.51 0 1.02-.2 1.41-.59l7.78-7.78 2.81-2.81c.8-.78.8-2.07 0-2.86zM5.41 20L4 18.59l7.72-7.72 1.47 1.35L5.41 20z\"/>\n",
              "  </svg>\n",
              "      </button>\n",
              "      \n",
              "  <style>\n",
              "    .colab-df-container {\n",
              "      display:flex;\n",
              "      flex-wrap:wrap;\n",
              "      gap: 12px;\n",
              "    }\n",
              "\n",
              "    .colab-df-convert {\n",
              "      background-color: #E8F0FE;\n",
              "      border: none;\n",
              "      border-radius: 50%;\n",
              "      cursor: pointer;\n",
              "      display: none;\n",
              "      fill: #1967D2;\n",
              "      height: 32px;\n",
              "      padding: 0 0 0 0;\n",
              "      width: 32px;\n",
              "    }\n",
              "\n",
              "    .colab-df-convert:hover {\n",
              "      background-color: #E2EBFA;\n",
              "      box-shadow: 0px 1px 2px rgba(60, 64, 67, 0.3), 0px 1px 3px 1px rgba(60, 64, 67, 0.15);\n",
              "      fill: #174EA6;\n",
              "    }\n",
              "\n",
              "    [theme=dark] .colab-df-convert {\n",
              "      background-color: #3B4455;\n",
              "      fill: #D2E3FC;\n",
              "    }\n",
              "\n",
              "    [theme=dark] .colab-df-convert:hover {\n",
              "      background-color: #434B5C;\n",
              "      box-shadow: 0px 1px 3px 1px rgba(0, 0, 0, 0.15);\n",
              "      filter: drop-shadow(0px 1px 2px rgba(0, 0, 0, 0.3));\n",
              "      fill: #FFFFFF;\n",
              "    }\n",
              "  </style>\n",
              "\n",
              "      <script>\n",
              "        const buttonEl =\n",
              "          document.querySelector('#df-17af5d96-95be-4a86-b114-b51a5f5cd827 button.colab-df-convert');\n",
              "        buttonEl.style.display =\n",
              "          google.colab.kernel.accessAllowed ? 'block' : 'none';\n",
              "\n",
              "        async function convertToInteractive(key) {\n",
              "          const element = document.querySelector('#df-17af5d96-95be-4a86-b114-b51a5f5cd827');\n",
              "          const dataTable =\n",
              "            await google.colab.kernel.invokeFunction('convertToInteractive',\n",
              "                                                     [key], {});\n",
              "          if (!dataTable) return;\n",
              "\n",
              "          const docLinkHtml = 'Like what you see? Visit the ' +\n",
              "            '<a target=\"_blank\" href=https://colab.research.google.com/notebooks/data_table.ipynb>data table notebook</a>'\n",
              "            + ' to learn more about interactive tables.';\n",
              "          element.innerHTML = '';\n",
              "          dataTable['output_type'] = 'display_data';\n",
              "          await google.colab.output.renderOutput(dataTable, element);\n",
              "          const docLink = document.createElement('div');\n",
              "          docLink.innerHTML = docLinkHtml;\n",
              "          element.appendChild(docLink);\n",
              "        }\n",
              "      </script>\n",
              "    </div>\n",
              "  </div>\n",
              "  "
            ]
          },
          "metadata": {},
          "execution_count": 41
        }
      ]
    },
    {
      "cell_type": "code",
      "source": [
        "df_level.tail(10)"
      ],
      "metadata": {
        "id": "Q-J5TXPZLuvX",
        "outputId": "a32392e4-fb21-4447-c5c8-d88bfc95767b",
        "colab": {
          "base_uri": "https://localhost:8080/",
          "height": 363
        }
      },
      "execution_count": 42,
      "outputs": [
        {
          "output_type": "execute_result",
          "data": {
            "text/plain": [
              "    市区町村名    町名     町丁目  病院(平均距離)  病院(数)  病院スコア\n",
              "901   大田区   昭和島  昭和島１丁目     0.934      0  0.157\n",
              "902  江戸川区  東篠崎町    東篠崎町     0.958      0  0.146\n",
              "903   足立区    神明   神明１丁目     0.995      0  0.132\n",
              "904   江東区   夢の島  夢の島１丁目     1.344      0  0.093\n",
              "905   品川区   東八潮     東八潮     1.360      0  0.091\n",
              "906   大田区    東海   東海１丁目     1.505      0  0.074\n",
              "907   大田区   京浜島  京浜島１丁目     1.759      0  0.049\n",
              "908   江東区   新木場  新木場１丁目     2.013      0  0.042\n",
              "909   大田区   城南島  城南島７丁目     2.732      0  0.023\n",
              "910   江東区    若洲   若洲１丁目     3.156      0  0.013"
            ],
            "text/html": [
              "\n",
              "  <div id=\"df-11798ded-f6c8-4182-875e-57fc37d0878c\">\n",
              "    <div class=\"colab-df-container\">\n",
              "      <div>\n",
              "<style scoped>\n",
              "    .dataframe tbody tr th:only-of-type {\n",
              "        vertical-align: middle;\n",
              "    }\n",
              "\n",
              "    .dataframe tbody tr th {\n",
              "        vertical-align: top;\n",
              "    }\n",
              "\n",
              "    .dataframe thead th {\n",
              "        text-align: right;\n",
              "    }\n",
              "</style>\n",
              "<table border=\"1\" class=\"dataframe\">\n",
              "  <thead>\n",
              "    <tr style=\"text-align: right;\">\n",
              "      <th></th>\n",
              "      <th>市区町村名</th>\n",
              "      <th>町名</th>\n",
              "      <th>町丁目</th>\n",
              "      <th>病院(平均距離)</th>\n",
              "      <th>病院(数)</th>\n",
              "      <th>病院スコア</th>\n",
              "    </tr>\n",
              "  </thead>\n",
              "  <tbody>\n",
              "    <tr>\n",
              "      <th>901</th>\n",
              "      <td>大田区</td>\n",
              "      <td>昭和島</td>\n",
              "      <td>昭和島１丁目</td>\n",
              "      <td>0.934</td>\n",
              "      <td>0</td>\n",
              "      <td>0.157</td>\n",
              "    </tr>\n",
              "    <tr>\n",
              "      <th>902</th>\n",
              "      <td>江戸川区</td>\n",
              "      <td>東篠崎町</td>\n",
              "      <td>東篠崎町</td>\n",
              "      <td>0.958</td>\n",
              "      <td>0</td>\n",
              "      <td>0.146</td>\n",
              "    </tr>\n",
              "    <tr>\n",
              "      <th>903</th>\n",
              "      <td>足立区</td>\n",
              "      <td>神明</td>\n",
              "      <td>神明１丁目</td>\n",
              "      <td>0.995</td>\n",
              "      <td>0</td>\n",
              "      <td>0.132</td>\n",
              "    </tr>\n",
              "    <tr>\n",
              "      <th>904</th>\n",
              "      <td>江東区</td>\n",
              "      <td>夢の島</td>\n",
              "      <td>夢の島１丁目</td>\n",
              "      <td>1.344</td>\n",
              "      <td>0</td>\n",
              "      <td>0.093</td>\n",
              "    </tr>\n",
              "    <tr>\n",
              "      <th>905</th>\n",
              "      <td>品川区</td>\n",
              "      <td>東八潮</td>\n",
              "      <td>東八潮</td>\n",
              "      <td>1.360</td>\n",
              "      <td>0</td>\n",
              "      <td>0.091</td>\n",
              "    </tr>\n",
              "    <tr>\n",
              "      <th>906</th>\n",
              "      <td>大田区</td>\n",
              "      <td>東海</td>\n",
              "      <td>東海１丁目</td>\n",
              "      <td>1.505</td>\n",
              "      <td>0</td>\n",
              "      <td>0.074</td>\n",
              "    </tr>\n",
              "    <tr>\n",
              "      <th>907</th>\n",
              "      <td>大田区</td>\n",
              "      <td>京浜島</td>\n",
              "      <td>京浜島１丁目</td>\n",
              "      <td>1.759</td>\n",
              "      <td>0</td>\n",
              "      <td>0.049</td>\n",
              "    </tr>\n",
              "    <tr>\n",
              "      <th>908</th>\n",
              "      <td>江東区</td>\n",
              "      <td>新木場</td>\n",
              "      <td>新木場１丁目</td>\n",
              "      <td>2.013</td>\n",
              "      <td>0</td>\n",
              "      <td>0.042</td>\n",
              "    </tr>\n",
              "    <tr>\n",
              "      <th>909</th>\n",
              "      <td>大田区</td>\n",
              "      <td>城南島</td>\n",
              "      <td>城南島７丁目</td>\n",
              "      <td>2.732</td>\n",
              "      <td>0</td>\n",
              "      <td>0.023</td>\n",
              "    </tr>\n",
              "    <tr>\n",
              "      <th>910</th>\n",
              "      <td>江東区</td>\n",
              "      <td>若洲</td>\n",
              "      <td>若洲１丁目</td>\n",
              "      <td>3.156</td>\n",
              "      <td>0</td>\n",
              "      <td>0.013</td>\n",
              "    </tr>\n",
              "  </tbody>\n",
              "</table>\n",
              "</div>\n",
              "      <button class=\"colab-df-convert\" onclick=\"convertToInteractive('df-11798ded-f6c8-4182-875e-57fc37d0878c')\"\n",
              "              title=\"Convert this dataframe to an interactive table.\"\n",
              "              style=\"display:none;\">\n",
              "        \n",
              "  <svg xmlns=\"http://www.w3.org/2000/svg\" height=\"24px\"viewBox=\"0 0 24 24\"\n",
              "       width=\"24px\">\n",
              "    <path d=\"M0 0h24v24H0V0z\" fill=\"none\"/>\n",
              "    <path d=\"M18.56 5.44l.94 2.06.94-2.06 2.06-.94-2.06-.94-.94-2.06-.94 2.06-2.06.94zm-11 1L8.5 8.5l.94-2.06 2.06-.94-2.06-.94L8.5 2.5l-.94 2.06-2.06.94zm10 10l.94 2.06.94-2.06 2.06-.94-2.06-.94-.94-2.06-.94 2.06-2.06.94z\"/><path d=\"M17.41 7.96l-1.37-1.37c-.4-.4-.92-.59-1.43-.59-.52 0-1.04.2-1.43.59L10.3 9.45l-7.72 7.72c-.78.78-.78 2.05 0 2.83L4 21.41c.39.39.9.59 1.41.59.51 0 1.02-.2 1.41-.59l7.78-7.78 2.81-2.81c.8-.78.8-2.07 0-2.86zM5.41 20L4 18.59l7.72-7.72 1.47 1.35L5.41 20z\"/>\n",
              "  </svg>\n",
              "      </button>\n",
              "      \n",
              "  <style>\n",
              "    .colab-df-container {\n",
              "      display:flex;\n",
              "      flex-wrap:wrap;\n",
              "      gap: 12px;\n",
              "    }\n",
              "\n",
              "    .colab-df-convert {\n",
              "      background-color: #E8F0FE;\n",
              "      border: none;\n",
              "      border-radius: 50%;\n",
              "      cursor: pointer;\n",
              "      display: none;\n",
              "      fill: #1967D2;\n",
              "      height: 32px;\n",
              "      padding: 0 0 0 0;\n",
              "      width: 32px;\n",
              "    }\n",
              "\n",
              "    .colab-df-convert:hover {\n",
              "      background-color: #E2EBFA;\n",
              "      box-shadow: 0px 1px 2px rgba(60, 64, 67, 0.3), 0px 1px 3px 1px rgba(60, 64, 67, 0.15);\n",
              "      fill: #174EA6;\n",
              "    }\n",
              "\n",
              "    [theme=dark] .colab-df-convert {\n",
              "      background-color: #3B4455;\n",
              "      fill: #D2E3FC;\n",
              "    }\n",
              "\n",
              "    [theme=dark] .colab-df-convert:hover {\n",
              "      background-color: #434B5C;\n",
              "      box-shadow: 0px 1px 3px 1px rgba(0, 0, 0, 0.15);\n",
              "      filter: drop-shadow(0px 1px 2px rgba(0, 0, 0, 0.3));\n",
              "      fill: #FFFFFF;\n",
              "    }\n",
              "  </style>\n",
              "\n",
              "      <script>\n",
              "        const buttonEl =\n",
              "          document.querySelector('#df-11798ded-f6c8-4182-875e-57fc37d0878c button.colab-df-convert');\n",
              "        buttonEl.style.display =\n",
              "          google.colab.kernel.accessAllowed ? 'block' : 'none';\n",
              "\n",
              "        async function convertToInteractive(key) {\n",
              "          const element = document.querySelector('#df-11798ded-f6c8-4182-875e-57fc37d0878c');\n",
              "          const dataTable =\n",
              "            await google.colab.kernel.invokeFunction('convertToInteractive',\n",
              "                                                     [key], {});\n",
              "          if (!dataTable) return;\n",
              "\n",
              "          const docLinkHtml = 'Like what you see? Visit the ' +\n",
              "            '<a target=\"_blank\" href=https://colab.research.google.com/notebooks/data_table.ipynb>data table notebook</a>'\n",
              "            + ' to learn more about interactive tables.';\n",
              "          element.innerHTML = '';\n",
              "          dataTable['output_type'] = 'display_data';\n",
              "          await google.colab.output.renderOutput(dataTable, element);\n",
              "          const docLink = document.createElement('div');\n",
              "          docLink.innerHTML = docLinkHtml;\n",
              "          element.appendChild(docLink);\n",
              "        }\n",
              "      </script>\n",
              "    </div>\n",
              "  </div>\n",
              "  "
            ]
          },
          "metadata": {},
          "execution_count": 42
        }
      ]
    },
    {
      "cell_type": "code",
      "source": [
        "df_level = get_score_top(df_pop_master, '小児科')\n",
        "print(df_level.shape)\n",
        "df_level.head(10)"
      ],
      "metadata": {
        "id": "bmkGzgWCfTLa",
        "outputId": "b55c5121-ff14-4a5b-a4e0-aa28b8c932d7",
        "colab": {
          "base_uri": "https://localhost:8080/",
          "height": 380
        }
      },
      "execution_count": 43,
      "outputs": [
        {
          "output_type": "stream",
          "name": "stdout",
          "text": [
            "(911, 6)\n"
          ]
        },
        {
          "output_type": "execute_result",
          "data": {
            "text/plain": [
              "  市区町村名   町名     町丁目  小児科(平均距離)  小児科(数)  小児科スコア\n",
              "0   渋谷区  道玄坂  道玄坂２丁目      0.157      10   5.000\n",
              "1  江戸川区  一之江  一之江８丁目      0.108       8   4.998\n",
              "2   文京区  小石川  小石川１丁目      0.153       8   4.996\n",
              "3   江東区   東陽   東陽３丁目      0.200       8   4.992\n",
              "4   豊島区  南大塚  南大塚２丁目      0.201       8   4.989\n",
              "5   渋谷区  桜丘町     桜丘町      0.157       7   4.987\n",
              "6    港区   白金   白金１丁目      0.159       7   4.985\n",
              "7   新宿区  改代町     改代町      0.163       7   4.983\n",
              "8   江東区   南砂   南砂６丁目      0.165       7   4.979\n",
              "9  江戸川区  西葛西  西葛西３丁目      0.224       9   4.977"
            ],
            "text/html": [
              "\n",
              "  <div id=\"df-e4862fce-6d1f-4ae6-b430-4f073245adc0\">\n",
              "    <div class=\"colab-df-container\">\n",
              "      <div>\n",
              "<style scoped>\n",
              "    .dataframe tbody tr th:only-of-type {\n",
              "        vertical-align: middle;\n",
              "    }\n",
              "\n",
              "    .dataframe tbody tr th {\n",
              "        vertical-align: top;\n",
              "    }\n",
              "\n",
              "    .dataframe thead th {\n",
              "        text-align: right;\n",
              "    }\n",
              "</style>\n",
              "<table border=\"1\" class=\"dataframe\">\n",
              "  <thead>\n",
              "    <tr style=\"text-align: right;\">\n",
              "      <th></th>\n",
              "      <th>市区町村名</th>\n",
              "      <th>町名</th>\n",
              "      <th>町丁目</th>\n",
              "      <th>小児科(平均距離)</th>\n",
              "      <th>小児科(数)</th>\n",
              "      <th>小児科スコア</th>\n",
              "    </tr>\n",
              "  </thead>\n",
              "  <tbody>\n",
              "    <tr>\n",
              "      <th>0</th>\n",
              "      <td>渋谷区</td>\n",
              "      <td>道玄坂</td>\n",
              "      <td>道玄坂２丁目</td>\n",
              "      <td>0.157</td>\n",
              "      <td>10</td>\n",
              "      <td>5.000</td>\n",
              "    </tr>\n",
              "    <tr>\n",
              "      <th>1</th>\n",
              "      <td>江戸川区</td>\n",
              "      <td>一之江</td>\n",
              "      <td>一之江８丁目</td>\n",
              "      <td>0.108</td>\n",
              "      <td>8</td>\n",
              "      <td>4.998</td>\n",
              "    </tr>\n",
              "    <tr>\n",
              "      <th>2</th>\n",
              "      <td>文京区</td>\n",
              "      <td>小石川</td>\n",
              "      <td>小石川１丁目</td>\n",
              "      <td>0.153</td>\n",
              "      <td>8</td>\n",
              "      <td>4.996</td>\n",
              "    </tr>\n",
              "    <tr>\n",
              "      <th>3</th>\n",
              "      <td>江東区</td>\n",
              "      <td>東陽</td>\n",
              "      <td>東陽３丁目</td>\n",
              "      <td>0.200</td>\n",
              "      <td>8</td>\n",
              "      <td>4.992</td>\n",
              "    </tr>\n",
              "    <tr>\n",
              "      <th>4</th>\n",
              "      <td>豊島区</td>\n",
              "      <td>南大塚</td>\n",
              "      <td>南大塚２丁目</td>\n",
              "      <td>0.201</td>\n",
              "      <td>8</td>\n",
              "      <td>4.989</td>\n",
              "    </tr>\n",
              "    <tr>\n",
              "      <th>5</th>\n",
              "      <td>渋谷区</td>\n",
              "      <td>桜丘町</td>\n",
              "      <td>桜丘町</td>\n",
              "      <td>0.157</td>\n",
              "      <td>7</td>\n",
              "      <td>4.987</td>\n",
              "    </tr>\n",
              "    <tr>\n",
              "      <th>6</th>\n",
              "      <td>港区</td>\n",
              "      <td>白金</td>\n",
              "      <td>白金１丁目</td>\n",
              "      <td>0.159</td>\n",
              "      <td>7</td>\n",
              "      <td>4.985</td>\n",
              "    </tr>\n",
              "    <tr>\n",
              "      <th>7</th>\n",
              "      <td>新宿区</td>\n",
              "      <td>改代町</td>\n",
              "      <td>改代町</td>\n",
              "      <td>0.163</td>\n",
              "      <td>7</td>\n",
              "      <td>4.983</td>\n",
              "    </tr>\n",
              "    <tr>\n",
              "      <th>8</th>\n",
              "      <td>江東区</td>\n",
              "      <td>南砂</td>\n",
              "      <td>南砂６丁目</td>\n",
              "      <td>0.165</td>\n",
              "      <td>7</td>\n",
              "      <td>4.979</td>\n",
              "    </tr>\n",
              "    <tr>\n",
              "      <th>9</th>\n",
              "      <td>江戸川区</td>\n",
              "      <td>西葛西</td>\n",
              "      <td>西葛西３丁目</td>\n",
              "      <td>0.224</td>\n",
              "      <td>9</td>\n",
              "      <td>4.977</td>\n",
              "    </tr>\n",
              "  </tbody>\n",
              "</table>\n",
              "</div>\n",
              "      <button class=\"colab-df-convert\" onclick=\"convertToInteractive('df-e4862fce-6d1f-4ae6-b430-4f073245adc0')\"\n",
              "              title=\"Convert this dataframe to an interactive table.\"\n",
              "              style=\"display:none;\">\n",
              "        \n",
              "  <svg xmlns=\"http://www.w3.org/2000/svg\" height=\"24px\"viewBox=\"0 0 24 24\"\n",
              "       width=\"24px\">\n",
              "    <path d=\"M0 0h24v24H0V0z\" fill=\"none\"/>\n",
              "    <path d=\"M18.56 5.44l.94 2.06.94-2.06 2.06-.94-2.06-.94-.94-2.06-.94 2.06-2.06.94zm-11 1L8.5 8.5l.94-2.06 2.06-.94-2.06-.94L8.5 2.5l-.94 2.06-2.06.94zm10 10l.94 2.06.94-2.06 2.06-.94-2.06-.94-.94-2.06-.94 2.06-2.06.94z\"/><path d=\"M17.41 7.96l-1.37-1.37c-.4-.4-.92-.59-1.43-.59-.52 0-1.04.2-1.43.59L10.3 9.45l-7.72 7.72c-.78.78-.78 2.05 0 2.83L4 21.41c.39.39.9.59 1.41.59.51 0 1.02-.2 1.41-.59l7.78-7.78 2.81-2.81c.8-.78.8-2.07 0-2.86zM5.41 20L4 18.59l7.72-7.72 1.47 1.35L5.41 20z\"/>\n",
              "  </svg>\n",
              "      </button>\n",
              "      \n",
              "  <style>\n",
              "    .colab-df-container {\n",
              "      display:flex;\n",
              "      flex-wrap:wrap;\n",
              "      gap: 12px;\n",
              "    }\n",
              "\n",
              "    .colab-df-convert {\n",
              "      background-color: #E8F0FE;\n",
              "      border: none;\n",
              "      border-radius: 50%;\n",
              "      cursor: pointer;\n",
              "      display: none;\n",
              "      fill: #1967D2;\n",
              "      height: 32px;\n",
              "      padding: 0 0 0 0;\n",
              "      width: 32px;\n",
              "    }\n",
              "\n",
              "    .colab-df-convert:hover {\n",
              "      background-color: #E2EBFA;\n",
              "      box-shadow: 0px 1px 2px rgba(60, 64, 67, 0.3), 0px 1px 3px 1px rgba(60, 64, 67, 0.15);\n",
              "      fill: #174EA6;\n",
              "    }\n",
              "\n",
              "    [theme=dark] .colab-df-convert {\n",
              "      background-color: #3B4455;\n",
              "      fill: #D2E3FC;\n",
              "    }\n",
              "\n",
              "    [theme=dark] .colab-df-convert:hover {\n",
              "      background-color: #434B5C;\n",
              "      box-shadow: 0px 1px 3px 1px rgba(0, 0, 0, 0.15);\n",
              "      filter: drop-shadow(0px 1px 2px rgba(0, 0, 0, 0.3));\n",
              "      fill: #FFFFFF;\n",
              "    }\n",
              "  </style>\n",
              "\n",
              "      <script>\n",
              "        const buttonEl =\n",
              "          document.querySelector('#df-e4862fce-6d1f-4ae6-b430-4f073245adc0 button.colab-df-convert');\n",
              "        buttonEl.style.display =\n",
              "          google.colab.kernel.accessAllowed ? 'block' : 'none';\n",
              "\n",
              "        async function convertToInteractive(key) {\n",
              "          const element = document.querySelector('#df-e4862fce-6d1f-4ae6-b430-4f073245adc0');\n",
              "          const dataTable =\n",
              "            await google.colab.kernel.invokeFunction('convertToInteractive',\n",
              "                                                     [key], {});\n",
              "          if (!dataTable) return;\n",
              "\n",
              "          const docLinkHtml = 'Like what you see? Visit the ' +\n",
              "            '<a target=\"_blank\" href=https://colab.research.google.com/notebooks/data_table.ipynb>data table notebook</a>'\n",
              "            + ' to learn more about interactive tables.';\n",
              "          element.innerHTML = '';\n",
              "          dataTable['output_type'] = 'display_data';\n",
              "          await google.colab.output.renderOutput(dataTable, element);\n",
              "          const docLink = document.createElement('div');\n",
              "          docLink.innerHTML = docLinkHtml;\n",
              "          element.appendChild(docLink);\n",
              "        }\n",
              "      </script>\n",
              "    </div>\n",
              "  </div>\n",
              "  "
            ]
          },
          "metadata": {},
          "execution_count": 43
        }
      ]
    },
    {
      "cell_type": "code",
      "source": [
        "df_level.tail(10)"
      ],
      "metadata": {
        "id": "nIumzuzZL-Dc",
        "outputId": "f206bbf3-c74f-4edd-f308-8a80f84438a8",
        "colab": {
          "base_uri": "https://localhost:8080/",
          "height": 363
        }
      },
      "execution_count": 44,
      "outputs": [
        {
          "output_type": "execute_result",
          "data": {
            "text/plain": [
              "    市区町村名    町名      町丁目  小児科(平均距離)  小児科(数)  小児科スコア\n",
              "901  江戸川区  東篠崎町     東篠崎町      1.454       0   0.132\n",
              "902   江東区   夢の島   夢の島１丁目      1.599       0   0.108\n",
              "903   大田区  羽田空港  羽田空港１丁目      1.657       0   0.093\n",
              "904   大田区    東海    東海１丁目      1.799       0   0.070\n",
              "905   品川区   東八潮      東八潮      1.917       0   0.062\n",
              "906   大田区   京浜島   京浜島１丁目      1.987       0   0.059\n",
              "907   江東区    青海    青海１丁目      2.066       0   0.057\n",
              "908   江東区   新木場   新木場１丁目      2.164       0   0.053\n",
              "909   大田区   城南島   城南島１丁目      3.077       0   0.023\n",
              "910   江東区    若洲    若洲１丁目      3.349       0   0.019"
            ],
            "text/html": [
              "\n",
              "  <div id=\"df-d9c1694c-c00a-407e-a88e-de6bb2ba592e\">\n",
              "    <div class=\"colab-df-container\">\n",
              "      <div>\n",
              "<style scoped>\n",
              "    .dataframe tbody tr th:only-of-type {\n",
              "        vertical-align: middle;\n",
              "    }\n",
              "\n",
              "    .dataframe tbody tr th {\n",
              "        vertical-align: top;\n",
              "    }\n",
              "\n",
              "    .dataframe thead th {\n",
              "        text-align: right;\n",
              "    }\n",
              "</style>\n",
              "<table border=\"1\" class=\"dataframe\">\n",
              "  <thead>\n",
              "    <tr style=\"text-align: right;\">\n",
              "      <th></th>\n",
              "      <th>市区町村名</th>\n",
              "      <th>町名</th>\n",
              "      <th>町丁目</th>\n",
              "      <th>小児科(平均距離)</th>\n",
              "      <th>小児科(数)</th>\n",
              "      <th>小児科スコア</th>\n",
              "    </tr>\n",
              "  </thead>\n",
              "  <tbody>\n",
              "    <tr>\n",
              "      <th>901</th>\n",
              "      <td>江戸川区</td>\n",
              "      <td>東篠崎町</td>\n",
              "      <td>東篠崎町</td>\n",
              "      <td>1.454</td>\n",
              "      <td>0</td>\n",
              "      <td>0.132</td>\n",
              "    </tr>\n",
              "    <tr>\n",
              "      <th>902</th>\n",
              "      <td>江東区</td>\n",
              "      <td>夢の島</td>\n",
              "      <td>夢の島１丁目</td>\n",
              "      <td>1.599</td>\n",
              "      <td>0</td>\n",
              "      <td>0.108</td>\n",
              "    </tr>\n",
              "    <tr>\n",
              "      <th>903</th>\n",
              "      <td>大田区</td>\n",
              "      <td>羽田空港</td>\n",
              "      <td>羽田空港１丁目</td>\n",
              "      <td>1.657</td>\n",
              "      <td>0</td>\n",
              "      <td>0.093</td>\n",
              "    </tr>\n",
              "    <tr>\n",
              "      <th>904</th>\n",
              "      <td>大田区</td>\n",
              "      <td>東海</td>\n",
              "      <td>東海１丁目</td>\n",
              "      <td>1.799</td>\n",
              "      <td>0</td>\n",
              "      <td>0.070</td>\n",
              "    </tr>\n",
              "    <tr>\n",
              "      <th>905</th>\n",
              "      <td>品川区</td>\n",
              "      <td>東八潮</td>\n",
              "      <td>東八潮</td>\n",
              "      <td>1.917</td>\n",
              "      <td>0</td>\n",
              "      <td>0.062</td>\n",
              "    </tr>\n",
              "    <tr>\n",
              "      <th>906</th>\n",
              "      <td>大田区</td>\n",
              "      <td>京浜島</td>\n",
              "      <td>京浜島１丁目</td>\n",
              "      <td>1.987</td>\n",
              "      <td>0</td>\n",
              "      <td>0.059</td>\n",
              "    </tr>\n",
              "    <tr>\n",
              "      <th>907</th>\n",
              "      <td>江東区</td>\n",
              "      <td>青海</td>\n",
              "      <td>青海１丁目</td>\n",
              "      <td>2.066</td>\n",
              "      <td>0</td>\n",
              "      <td>0.057</td>\n",
              "    </tr>\n",
              "    <tr>\n",
              "      <th>908</th>\n",
              "      <td>江東区</td>\n",
              "      <td>新木場</td>\n",
              "      <td>新木場１丁目</td>\n",
              "      <td>2.164</td>\n",
              "      <td>0</td>\n",
              "      <td>0.053</td>\n",
              "    </tr>\n",
              "    <tr>\n",
              "      <th>909</th>\n",
              "      <td>大田区</td>\n",
              "      <td>城南島</td>\n",
              "      <td>城南島１丁目</td>\n",
              "      <td>3.077</td>\n",
              "      <td>0</td>\n",
              "      <td>0.023</td>\n",
              "    </tr>\n",
              "    <tr>\n",
              "      <th>910</th>\n",
              "      <td>江東区</td>\n",
              "      <td>若洲</td>\n",
              "      <td>若洲１丁目</td>\n",
              "      <td>3.349</td>\n",
              "      <td>0</td>\n",
              "      <td>0.019</td>\n",
              "    </tr>\n",
              "  </tbody>\n",
              "</table>\n",
              "</div>\n",
              "      <button class=\"colab-df-convert\" onclick=\"convertToInteractive('df-d9c1694c-c00a-407e-a88e-de6bb2ba592e')\"\n",
              "              title=\"Convert this dataframe to an interactive table.\"\n",
              "              style=\"display:none;\">\n",
              "        \n",
              "  <svg xmlns=\"http://www.w3.org/2000/svg\" height=\"24px\"viewBox=\"0 0 24 24\"\n",
              "       width=\"24px\">\n",
              "    <path d=\"M0 0h24v24H0V0z\" fill=\"none\"/>\n",
              "    <path d=\"M18.56 5.44l.94 2.06.94-2.06 2.06-.94-2.06-.94-.94-2.06-.94 2.06-2.06.94zm-11 1L8.5 8.5l.94-2.06 2.06-.94-2.06-.94L8.5 2.5l-.94 2.06-2.06.94zm10 10l.94 2.06.94-2.06 2.06-.94-2.06-.94-.94-2.06-.94 2.06-2.06.94z\"/><path d=\"M17.41 7.96l-1.37-1.37c-.4-.4-.92-.59-1.43-.59-.52 0-1.04.2-1.43.59L10.3 9.45l-7.72 7.72c-.78.78-.78 2.05 0 2.83L4 21.41c.39.39.9.59 1.41.59.51 0 1.02-.2 1.41-.59l7.78-7.78 2.81-2.81c.8-.78.8-2.07 0-2.86zM5.41 20L4 18.59l7.72-7.72 1.47 1.35L5.41 20z\"/>\n",
              "  </svg>\n",
              "      </button>\n",
              "      \n",
              "  <style>\n",
              "    .colab-df-container {\n",
              "      display:flex;\n",
              "      flex-wrap:wrap;\n",
              "      gap: 12px;\n",
              "    }\n",
              "\n",
              "    .colab-df-convert {\n",
              "      background-color: #E8F0FE;\n",
              "      border: none;\n",
              "      border-radius: 50%;\n",
              "      cursor: pointer;\n",
              "      display: none;\n",
              "      fill: #1967D2;\n",
              "      height: 32px;\n",
              "      padding: 0 0 0 0;\n",
              "      width: 32px;\n",
              "    }\n",
              "\n",
              "    .colab-df-convert:hover {\n",
              "      background-color: #E2EBFA;\n",
              "      box-shadow: 0px 1px 2px rgba(60, 64, 67, 0.3), 0px 1px 3px 1px rgba(60, 64, 67, 0.15);\n",
              "      fill: #174EA6;\n",
              "    }\n",
              "\n",
              "    [theme=dark] .colab-df-convert {\n",
              "      background-color: #3B4455;\n",
              "      fill: #D2E3FC;\n",
              "    }\n",
              "\n",
              "    [theme=dark] .colab-df-convert:hover {\n",
              "      background-color: #434B5C;\n",
              "      box-shadow: 0px 1px 3px 1px rgba(0, 0, 0, 0.15);\n",
              "      filter: drop-shadow(0px 1px 2px rgba(0, 0, 0, 0.3));\n",
              "      fill: #FFFFFF;\n",
              "    }\n",
              "  </style>\n",
              "\n",
              "      <script>\n",
              "        const buttonEl =\n",
              "          document.querySelector('#df-d9c1694c-c00a-407e-a88e-de6bb2ba592e button.colab-df-convert');\n",
              "        buttonEl.style.display =\n",
              "          google.colab.kernel.accessAllowed ? 'block' : 'none';\n",
              "\n",
              "        async function convertToInteractive(key) {\n",
              "          const element = document.querySelector('#df-d9c1694c-c00a-407e-a88e-de6bb2ba592e');\n",
              "          const dataTable =\n",
              "            await google.colab.kernel.invokeFunction('convertToInteractive',\n",
              "                                                     [key], {});\n",
              "          if (!dataTable) return;\n",
              "\n",
              "          const docLinkHtml = 'Like what you see? Visit the ' +\n",
              "            '<a target=\"_blank\" href=https://colab.research.google.com/notebooks/data_table.ipynb>data table notebook</a>'\n",
              "            + ' to learn more about interactive tables.';\n",
              "          element.innerHTML = '';\n",
              "          dataTable['output_type'] = 'display_data';\n",
              "          await google.colab.output.renderOutput(dataTable, element);\n",
              "          const docLink = document.createElement('div');\n",
              "          docLink.innerHTML = docLinkHtml;\n",
              "          element.appendChild(docLink);\n",
              "        }\n",
              "      </script>\n",
              "    </div>\n",
              "  </div>\n",
              "  "
            ]
          },
          "metadata": {},
          "execution_count": 44
        }
      ]
    },
    {
      "cell_type": "code",
      "source": [
        "df_level = get_score_top(df_pop_master, '薬局')\n",
        "print(df_level.shape)\n",
        "df_level.head(10)"
      ],
      "metadata": {
        "id": "xAnKWoyBMAEC",
        "outputId": "cf79625f-ecee-4413-f3e1-f051bf4e3ed8",
        "colab": {
          "base_uri": "https://localhost:8080/",
          "height": 380
        }
      },
      "execution_count": 45,
      "outputs": [
        {
          "output_type": "stream",
          "name": "stdout",
          "text": [
            "(911, 6)\n"
          ]
        },
        {
          "output_type": "execute_result",
          "data": {
            "text/plain": [
              "  市区町村名     町名       町丁目  薬局(平均距離)  薬局(数)  薬局スコア\n",
              "0   台東区    東上野    東上野２丁目     0.040     38  5.000\n",
              "1   台東区     上野     上野６丁目     0.070     45  4.998\n",
              "2  千代田区  神田駿河台  神田駿河台２丁目     0.059     34  4.996\n",
              "3   豊島区    西池袋    西池袋１丁目     0.083     40  4.992\n",
              "4  千代田区    鍛冶町    鍛冶町２丁目     0.086     35  4.989\n",
              "5   新宿区    西新宿    西新宿１丁目     0.091     36  4.985\n",
              "6   中央区     銀座     銀座７丁目     0.080     29  4.983\n",
              "7   葛飾区    東金町    東金町１丁目     0.069     25  4.981\n",
              "8   墨田区     錦糸     錦糸３丁目     0.079     26  4.979\n",
              "9   品川区    旗の台    旗の台２丁目     0.086     28  4.977"
            ],
            "text/html": [
              "\n",
              "  <div id=\"df-0d0286d3-983e-4f64-bc63-9a3f73b465f6\">\n",
              "    <div class=\"colab-df-container\">\n",
              "      <div>\n",
              "<style scoped>\n",
              "    .dataframe tbody tr th:only-of-type {\n",
              "        vertical-align: middle;\n",
              "    }\n",
              "\n",
              "    .dataframe tbody tr th {\n",
              "        vertical-align: top;\n",
              "    }\n",
              "\n",
              "    .dataframe thead th {\n",
              "        text-align: right;\n",
              "    }\n",
              "</style>\n",
              "<table border=\"1\" class=\"dataframe\">\n",
              "  <thead>\n",
              "    <tr style=\"text-align: right;\">\n",
              "      <th></th>\n",
              "      <th>市区町村名</th>\n",
              "      <th>町名</th>\n",
              "      <th>町丁目</th>\n",
              "      <th>薬局(平均距離)</th>\n",
              "      <th>薬局(数)</th>\n",
              "      <th>薬局スコア</th>\n",
              "    </tr>\n",
              "  </thead>\n",
              "  <tbody>\n",
              "    <tr>\n",
              "      <th>0</th>\n",
              "      <td>台東区</td>\n",
              "      <td>東上野</td>\n",
              "      <td>東上野２丁目</td>\n",
              "      <td>0.040</td>\n",
              "      <td>38</td>\n",
              "      <td>5.000</td>\n",
              "    </tr>\n",
              "    <tr>\n",
              "      <th>1</th>\n",
              "      <td>台東区</td>\n",
              "      <td>上野</td>\n",
              "      <td>上野６丁目</td>\n",
              "      <td>0.070</td>\n",
              "      <td>45</td>\n",
              "      <td>4.998</td>\n",
              "    </tr>\n",
              "    <tr>\n",
              "      <th>2</th>\n",
              "      <td>千代田区</td>\n",
              "      <td>神田駿河台</td>\n",
              "      <td>神田駿河台２丁目</td>\n",
              "      <td>0.059</td>\n",
              "      <td>34</td>\n",
              "      <td>4.996</td>\n",
              "    </tr>\n",
              "    <tr>\n",
              "      <th>3</th>\n",
              "      <td>豊島区</td>\n",
              "      <td>西池袋</td>\n",
              "      <td>西池袋１丁目</td>\n",
              "      <td>0.083</td>\n",
              "      <td>40</td>\n",
              "      <td>4.992</td>\n",
              "    </tr>\n",
              "    <tr>\n",
              "      <th>4</th>\n",
              "      <td>千代田区</td>\n",
              "      <td>鍛冶町</td>\n",
              "      <td>鍛冶町２丁目</td>\n",
              "      <td>0.086</td>\n",
              "      <td>35</td>\n",
              "      <td>4.989</td>\n",
              "    </tr>\n",
              "    <tr>\n",
              "      <th>5</th>\n",
              "      <td>新宿区</td>\n",
              "      <td>西新宿</td>\n",
              "      <td>西新宿１丁目</td>\n",
              "      <td>0.091</td>\n",
              "      <td>36</td>\n",
              "      <td>4.985</td>\n",
              "    </tr>\n",
              "    <tr>\n",
              "      <th>6</th>\n",
              "      <td>中央区</td>\n",
              "      <td>銀座</td>\n",
              "      <td>銀座７丁目</td>\n",
              "      <td>0.080</td>\n",
              "      <td>29</td>\n",
              "      <td>4.983</td>\n",
              "    </tr>\n",
              "    <tr>\n",
              "      <th>7</th>\n",
              "      <td>葛飾区</td>\n",
              "      <td>東金町</td>\n",
              "      <td>東金町１丁目</td>\n",
              "      <td>0.069</td>\n",
              "      <td>25</td>\n",
              "      <td>4.981</td>\n",
              "    </tr>\n",
              "    <tr>\n",
              "      <th>8</th>\n",
              "      <td>墨田区</td>\n",
              "      <td>錦糸</td>\n",
              "      <td>錦糸３丁目</td>\n",
              "      <td>0.079</td>\n",
              "      <td>26</td>\n",
              "      <td>4.979</td>\n",
              "    </tr>\n",
              "    <tr>\n",
              "      <th>9</th>\n",
              "      <td>品川区</td>\n",
              "      <td>旗の台</td>\n",
              "      <td>旗の台２丁目</td>\n",
              "      <td>0.086</td>\n",
              "      <td>28</td>\n",
              "      <td>4.977</td>\n",
              "    </tr>\n",
              "  </tbody>\n",
              "</table>\n",
              "</div>\n",
              "      <button class=\"colab-df-convert\" onclick=\"convertToInteractive('df-0d0286d3-983e-4f64-bc63-9a3f73b465f6')\"\n",
              "              title=\"Convert this dataframe to an interactive table.\"\n",
              "              style=\"display:none;\">\n",
              "        \n",
              "  <svg xmlns=\"http://www.w3.org/2000/svg\" height=\"24px\"viewBox=\"0 0 24 24\"\n",
              "       width=\"24px\">\n",
              "    <path d=\"M0 0h24v24H0V0z\" fill=\"none\"/>\n",
              "    <path d=\"M18.56 5.44l.94 2.06.94-2.06 2.06-.94-2.06-.94-.94-2.06-.94 2.06-2.06.94zm-11 1L8.5 8.5l.94-2.06 2.06-.94-2.06-.94L8.5 2.5l-.94 2.06-2.06.94zm10 10l.94 2.06.94-2.06 2.06-.94-2.06-.94-.94-2.06-.94 2.06-2.06.94z\"/><path d=\"M17.41 7.96l-1.37-1.37c-.4-.4-.92-.59-1.43-.59-.52 0-1.04.2-1.43.59L10.3 9.45l-7.72 7.72c-.78.78-.78 2.05 0 2.83L4 21.41c.39.39.9.59 1.41.59.51 0 1.02-.2 1.41-.59l7.78-7.78 2.81-2.81c.8-.78.8-2.07 0-2.86zM5.41 20L4 18.59l7.72-7.72 1.47 1.35L5.41 20z\"/>\n",
              "  </svg>\n",
              "      </button>\n",
              "      \n",
              "  <style>\n",
              "    .colab-df-container {\n",
              "      display:flex;\n",
              "      flex-wrap:wrap;\n",
              "      gap: 12px;\n",
              "    }\n",
              "\n",
              "    .colab-df-convert {\n",
              "      background-color: #E8F0FE;\n",
              "      border: none;\n",
              "      border-radius: 50%;\n",
              "      cursor: pointer;\n",
              "      display: none;\n",
              "      fill: #1967D2;\n",
              "      height: 32px;\n",
              "      padding: 0 0 0 0;\n",
              "      width: 32px;\n",
              "    }\n",
              "\n",
              "    .colab-df-convert:hover {\n",
              "      background-color: #E2EBFA;\n",
              "      box-shadow: 0px 1px 2px rgba(60, 64, 67, 0.3), 0px 1px 3px 1px rgba(60, 64, 67, 0.15);\n",
              "      fill: #174EA6;\n",
              "    }\n",
              "\n",
              "    [theme=dark] .colab-df-convert {\n",
              "      background-color: #3B4455;\n",
              "      fill: #D2E3FC;\n",
              "    }\n",
              "\n",
              "    [theme=dark] .colab-df-convert:hover {\n",
              "      background-color: #434B5C;\n",
              "      box-shadow: 0px 1px 3px 1px rgba(0, 0, 0, 0.15);\n",
              "      filter: drop-shadow(0px 1px 2px rgba(0, 0, 0, 0.3));\n",
              "      fill: #FFFFFF;\n",
              "    }\n",
              "  </style>\n",
              "\n",
              "      <script>\n",
              "        const buttonEl =\n",
              "          document.querySelector('#df-0d0286d3-983e-4f64-bc63-9a3f73b465f6 button.colab-df-convert');\n",
              "        buttonEl.style.display =\n",
              "          google.colab.kernel.accessAllowed ? 'block' : 'none';\n",
              "\n",
              "        async function convertToInteractive(key) {\n",
              "          const element = document.querySelector('#df-0d0286d3-983e-4f64-bc63-9a3f73b465f6');\n",
              "          const dataTable =\n",
              "            await google.colab.kernel.invokeFunction('convertToInteractive',\n",
              "                                                     [key], {});\n",
              "          if (!dataTable) return;\n",
              "\n",
              "          const docLinkHtml = 'Like what you see? Visit the ' +\n",
              "            '<a target=\"_blank\" href=https://colab.research.google.com/notebooks/data_table.ipynb>data table notebook</a>'\n",
              "            + ' to learn more about interactive tables.';\n",
              "          element.innerHTML = '';\n",
              "          dataTable['output_type'] = 'display_data';\n",
              "          await google.colab.output.renderOutput(dataTable, element);\n",
              "          const docLink = document.createElement('div');\n",
              "          docLink.innerHTML = docLinkHtml;\n",
              "          element.appendChild(docLink);\n",
              "        }\n",
              "      </script>\n",
              "    </div>\n",
              "  </div>\n",
              "  "
            ]
          },
          "metadata": {},
          "execution_count": 45
        }
      ]
    },
    {
      "cell_type": "code",
      "source": [
        "df_level.tail(10)"
      ],
      "metadata": {
        "id": "gw9lPshcMKN1",
        "outputId": "f1e2b48f-7155-4b9d-af00-76daad1914e5",
        "colab": {
          "base_uri": "https://localhost:8080/",
          "height": 363
        }
      },
      "execution_count": 46,
      "outputs": [
        {
          "output_type": "execute_result",
          "data": {
            "text/plain": [
              "    市区町村名   町名     町丁目  薬局(平均距離)  薬局(数)  薬局スコア\n",
              "901   大田区  昭和島  昭和島１丁目     0.830      0  0.144\n",
              "902  千代田区  千代田     千代田     0.860      0  0.134\n",
              "903  世田谷区  砧公園     砧公園     0.863      0  0.129\n",
              "904   江東区   青海   青海１丁目     1.261      0  0.074\n",
              "905   大田区  京浜島  京浜島１丁目     1.363      0  0.070\n",
              "906   江東区  夢の島  夢の島１丁目     1.480      0  0.057\n",
              "907   品川区  東八潮     東八潮     1.720      0  0.051\n",
              "908   江東区  新木場  新木場１丁目     2.128      0  0.036\n",
              "909   大田区  城南島  城南島１丁目     2.311      0  0.030\n",
              "910   江東区   若洲   若洲１丁目     3.238      0  0.008"
            ],
            "text/html": [
              "\n",
              "  <div id=\"df-5a4b532d-0e32-40f7-93b6-77567ddb8d52\">\n",
              "    <div class=\"colab-df-container\">\n",
              "      <div>\n",
              "<style scoped>\n",
              "    .dataframe tbody tr th:only-of-type {\n",
              "        vertical-align: middle;\n",
              "    }\n",
              "\n",
              "    .dataframe tbody tr th {\n",
              "        vertical-align: top;\n",
              "    }\n",
              "\n",
              "    .dataframe thead th {\n",
              "        text-align: right;\n",
              "    }\n",
              "</style>\n",
              "<table border=\"1\" class=\"dataframe\">\n",
              "  <thead>\n",
              "    <tr style=\"text-align: right;\">\n",
              "      <th></th>\n",
              "      <th>市区町村名</th>\n",
              "      <th>町名</th>\n",
              "      <th>町丁目</th>\n",
              "      <th>薬局(平均距離)</th>\n",
              "      <th>薬局(数)</th>\n",
              "      <th>薬局スコア</th>\n",
              "    </tr>\n",
              "  </thead>\n",
              "  <tbody>\n",
              "    <tr>\n",
              "      <th>901</th>\n",
              "      <td>大田区</td>\n",
              "      <td>昭和島</td>\n",
              "      <td>昭和島１丁目</td>\n",
              "      <td>0.830</td>\n",
              "      <td>0</td>\n",
              "      <td>0.144</td>\n",
              "    </tr>\n",
              "    <tr>\n",
              "      <th>902</th>\n",
              "      <td>千代田区</td>\n",
              "      <td>千代田</td>\n",
              "      <td>千代田</td>\n",
              "      <td>0.860</td>\n",
              "      <td>0</td>\n",
              "      <td>0.134</td>\n",
              "    </tr>\n",
              "    <tr>\n",
              "      <th>903</th>\n",
              "      <td>世田谷区</td>\n",
              "      <td>砧公園</td>\n",
              "      <td>砧公園</td>\n",
              "      <td>0.863</td>\n",
              "      <td>0</td>\n",
              "      <td>0.129</td>\n",
              "    </tr>\n",
              "    <tr>\n",
              "      <th>904</th>\n",
              "      <td>江東区</td>\n",
              "      <td>青海</td>\n",
              "      <td>青海１丁目</td>\n",
              "      <td>1.261</td>\n",
              "      <td>0</td>\n",
              "      <td>0.074</td>\n",
              "    </tr>\n",
              "    <tr>\n",
              "      <th>905</th>\n",
              "      <td>大田区</td>\n",
              "      <td>京浜島</td>\n",
              "      <td>京浜島１丁目</td>\n",
              "      <td>1.363</td>\n",
              "      <td>0</td>\n",
              "      <td>0.070</td>\n",
              "    </tr>\n",
              "    <tr>\n",
              "      <th>906</th>\n",
              "      <td>江東区</td>\n",
              "      <td>夢の島</td>\n",
              "      <td>夢の島１丁目</td>\n",
              "      <td>1.480</td>\n",
              "      <td>0</td>\n",
              "      <td>0.057</td>\n",
              "    </tr>\n",
              "    <tr>\n",
              "      <th>907</th>\n",
              "      <td>品川区</td>\n",
              "      <td>東八潮</td>\n",
              "      <td>東八潮</td>\n",
              "      <td>1.720</td>\n",
              "      <td>0</td>\n",
              "      <td>0.051</td>\n",
              "    </tr>\n",
              "    <tr>\n",
              "      <th>908</th>\n",
              "      <td>江東区</td>\n",
              "      <td>新木場</td>\n",
              "      <td>新木場１丁目</td>\n",
              "      <td>2.128</td>\n",
              "      <td>0</td>\n",
              "      <td>0.036</td>\n",
              "    </tr>\n",
              "    <tr>\n",
              "      <th>909</th>\n",
              "      <td>大田区</td>\n",
              "      <td>城南島</td>\n",
              "      <td>城南島１丁目</td>\n",
              "      <td>2.311</td>\n",
              "      <td>0</td>\n",
              "      <td>0.030</td>\n",
              "    </tr>\n",
              "    <tr>\n",
              "      <th>910</th>\n",
              "      <td>江東区</td>\n",
              "      <td>若洲</td>\n",
              "      <td>若洲１丁目</td>\n",
              "      <td>3.238</td>\n",
              "      <td>0</td>\n",
              "      <td>0.008</td>\n",
              "    </tr>\n",
              "  </tbody>\n",
              "</table>\n",
              "</div>\n",
              "      <button class=\"colab-df-convert\" onclick=\"convertToInteractive('df-5a4b532d-0e32-40f7-93b6-77567ddb8d52')\"\n",
              "              title=\"Convert this dataframe to an interactive table.\"\n",
              "              style=\"display:none;\">\n",
              "        \n",
              "  <svg xmlns=\"http://www.w3.org/2000/svg\" height=\"24px\"viewBox=\"0 0 24 24\"\n",
              "       width=\"24px\">\n",
              "    <path d=\"M0 0h24v24H0V0z\" fill=\"none\"/>\n",
              "    <path d=\"M18.56 5.44l.94 2.06.94-2.06 2.06-.94-2.06-.94-.94-2.06-.94 2.06-2.06.94zm-11 1L8.5 8.5l.94-2.06 2.06-.94-2.06-.94L8.5 2.5l-.94 2.06-2.06.94zm10 10l.94 2.06.94-2.06 2.06-.94-2.06-.94-.94-2.06-.94 2.06-2.06.94z\"/><path d=\"M17.41 7.96l-1.37-1.37c-.4-.4-.92-.59-1.43-.59-.52 0-1.04.2-1.43.59L10.3 9.45l-7.72 7.72c-.78.78-.78 2.05 0 2.83L4 21.41c.39.39.9.59 1.41.59.51 0 1.02-.2 1.41-.59l7.78-7.78 2.81-2.81c.8-.78.8-2.07 0-2.86zM5.41 20L4 18.59l7.72-7.72 1.47 1.35L5.41 20z\"/>\n",
              "  </svg>\n",
              "      </button>\n",
              "      \n",
              "  <style>\n",
              "    .colab-df-container {\n",
              "      display:flex;\n",
              "      flex-wrap:wrap;\n",
              "      gap: 12px;\n",
              "    }\n",
              "\n",
              "    .colab-df-convert {\n",
              "      background-color: #E8F0FE;\n",
              "      border: none;\n",
              "      border-radius: 50%;\n",
              "      cursor: pointer;\n",
              "      display: none;\n",
              "      fill: #1967D2;\n",
              "      height: 32px;\n",
              "      padding: 0 0 0 0;\n",
              "      width: 32px;\n",
              "    }\n",
              "\n",
              "    .colab-df-convert:hover {\n",
              "      background-color: #E2EBFA;\n",
              "      box-shadow: 0px 1px 2px rgba(60, 64, 67, 0.3), 0px 1px 3px 1px rgba(60, 64, 67, 0.15);\n",
              "      fill: #174EA6;\n",
              "    }\n",
              "\n",
              "    [theme=dark] .colab-df-convert {\n",
              "      background-color: #3B4455;\n",
              "      fill: #D2E3FC;\n",
              "    }\n",
              "\n",
              "    [theme=dark] .colab-df-convert:hover {\n",
              "      background-color: #434B5C;\n",
              "      box-shadow: 0px 1px 3px 1px rgba(0, 0, 0, 0.15);\n",
              "      filter: drop-shadow(0px 1px 2px rgba(0, 0, 0, 0.3));\n",
              "      fill: #FFFFFF;\n",
              "    }\n",
              "  </style>\n",
              "\n",
              "      <script>\n",
              "        const buttonEl =\n",
              "          document.querySelector('#df-5a4b532d-0e32-40f7-93b6-77567ddb8d52 button.colab-df-convert');\n",
              "        buttonEl.style.display =\n",
              "          google.colab.kernel.accessAllowed ? 'block' : 'none';\n",
              "\n",
              "        async function convertToInteractive(key) {\n",
              "          const element = document.querySelector('#df-5a4b532d-0e32-40f7-93b6-77567ddb8d52');\n",
              "          const dataTable =\n",
              "            await google.colab.kernel.invokeFunction('convertToInteractive',\n",
              "                                                     [key], {});\n",
              "          if (!dataTable) return;\n",
              "\n",
              "          const docLinkHtml = 'Like what you see? Visit the ' +\n",
              "            '<a target=\"_blank\" href=https://colab.research.google.com/notebooks/data_table.ipynb>data table notebook</a>'\n",
              "            + ' to learn more about interactive tables.';\n",
              "          element.innerHTML = '';\n",
              "          dataTable['output_type'] = 'display_data';\n",
              "          await google.colab.output.renderOutput(dataTable, element);\n",
              "          const docLink = document.createElement('div');\n",
              "          docLink.innerHTML = docLinkHtml;\n",
              "          element.appendChild(docLink);\n",
              "        }\n",
              "      </script>\n",
              "    </div>\n",
              "  </div>\n",
              "  "
            ]
          },
          "metadata": {},
          "execution_count": 46
        }
      ]
    },
    {
      "cell_type": "code",
      "source": [
        "df_level = get_score_top(df_pop_master, '医療')\n",
        "print(df_level.shape)\n",
        "df_level.head(10)"
      ],
      "metadata": {
        "id": "RW9YrUc4MNY9",
        "outputId": "ed5ac276-e907-49a0-b15a-ba5689adb8dc",
        "colab": {
          "base_uri": "https://localhost:8080/",
          "height": 380
        }
      },
      "execution_count": 47,
      "outputs": [
        {
          "output_type": "stream",
          "name": "stdout",
          "text": [
            "(911, 4)\n"
          ]
        },
        {
          "output_type": "execute_result",
          "data": {
            "text/plain": [
              "  市区町村名      町名        町丁目  医療スコア\n",
              "0   渋谷区     道玄坂     道玄坂２丁目  5.000\n",
              "1  江戸川区     西葛西     西葛西６丁目  4.998\n",
              "2   豊島区     西池袋     西池袋１丁目  4.996\n",
              "3   台東区      上野      上野６丁目  4.994\n",
              "4   新宿区     改代町        改代町  4.992\n",
              "5   葛飾区     東金町     東金町１丁目  4.988\n",
              "6   文京区     小石川     小石川１丁目  4.985\n",
              "7   中央区  日本橋堀留町  日本橋堀留町２丁目  4.983\n",
              "8   墨田区      錦糸      錦糸３丁目  4.981\n",
              "9    北区      赤羽      赤羽２丁目  4.979"
            ],
            "text/html": [
              "\n",
              "  <div id=\"df-0f5a7de0-ab4c-45fe-bf31-63dbd2838743\">\n",
              "    <div class=\"colab-df-container\">\n",
              "      <div>\n",
              "<style scoped>\n",
              "    .dataframe tbody tr th:only-of-type {\n",
              "        vertical-align: middle;\n",
              "    }\n",
              "\n",
              "    .dataframe tbody tr th {\n",
              "        vertical-align: top;\n",
              "    }\n",
              "\n",
              "    .dataframe thead th {\n",
              "        text-align: right;\n",
              "    }\n",
              "</style>\n",
              "<table border=\"1\" class=\"dataframe\">\n",
              "  <thead>\n",
              "    <tr style=\"text-align: right;\">\n",
              "      <th></th>\n",
              "      <th>市区町村名</th>\n",
              "      <th>町名</th>\n",
              "      <th>町丁目</th>\n",
              "      <th>医療スコア</th>\n",
              "    </tr>\n",
              "  </thead>\n",
              "  <tbody>\n",
              "    <tr>\n",
              "      <th>0</th>\n",
              "      <td>渋谷区</td>\n",
              "      <td>道玄坂</td>\n",
              "      <td>道玄坂２丁目</td>\n",
              "      <td>5.000</td>\n",
              "    </tr>\n",
              "    <tr>\n",
              "      <th>1</th>\n",
              "      <td>江戸川区</td>\n",
              "      <td>西葛西</td>\n",
              "      <td>西葛西６丁目</td>\n",
              "      <td>4.998</td>\n",
              "    </tr>\n",
              "    <tr>\n",
              "      <th>2</th>\n",
              "      <td>豊島区</td>\n",
              "      <td>西池袋</td>\n",
              "      <td>西池袋１丁目</td>\n",
              "      <td>4.996</td>\n",
              "    </tr>\n",
              "    <tr>\n",
              "      <th>3</th>\n",
              "      <td>台東区</td>\n",
              "      <td>上野</td>\n",
              "      <td>上野６丁目</td>\n",
              "      <td>4.994</td>\n",
              "    </tr>\n",
              "    <tr>\n",
              "      <th>4</th>\n",
              "      <td>新宿区</td>\n",
              "      <td>改代町</td>\n",
              "      <td>改代町</td>\n",
              "      <td>4.992</td>\n",
              "    </tr>\n",
              "    <tr>\n",
              "      <th>5</th>\n",
              "      <td>葛飾区</td>\n",
              "      <td>東金町</td>\n",
              "      <td>東金町１丁目</td>\n",
              "      <td>4.988</td>\n",
              "    </tr>\n",
              "    <tr>\n",
              "      <th>6</th>\n",
              "      <td>文京区</td>\n",
              "      <td>小石川</td>\n",
              "      <td>小石川１丁目</td>\n",
              "      <td>4.985</td>\n",
              "    </tr>\n",
              "    <tr>\n",
              "      <th>7</th>\n",
              "      <td>中央区</td>\n",
              "      <td>日本橋堀留町</td>\n",
              "      <td>日本橋堀留町２丁目</td>\n",
              "      <td>4.983</td>\n",
              "    </tr>\n",
              "    <tr>\n",
              "      <th>8</th>\n",
              "      <td>墨田区</td>\n",
              "      <td>錦糸</td>\n",
              "      <td>錦糸３丁目</td>\n",
              "      <td>4.981</td>\n",
              "    </tr>\n",
              "    <tr>\n",
              "      <th>9</th>\n",
              "      <td>北区</td>\n",
              "      <td>赤羽</td>\n",
              "      <td>赤羽２丁目</td>\n",
              "      <td>4.979</td>\n",
              "    </tr>\n",
              "  </tbody>\n",
              "</table>\n",
              "</div>\n",
              "      <button class=\"colab-df-convert\" onclick=\"convertToInteractive('df-0f5a7de0-ab4c-45fe-bf31-63dbd2838743')\"\n",
              "              title=\"Convert this dataframe to an interactive table.\"\n",
              "              style=\"display:none;\">\n",
              "        \n",
              "  <svg xmlns=\"http://www.w3.org/2000/svg\" height=\"24px\"viewBox=\"0 0 24 24\"\n",
              "       width=\"24px\">\n",
              "    <path d=\"M0 0h24v24H0V0z\" fill=\"none\"/>\n",
              "    <path d=\"M18.56 5.44l.94 2.06.94-2.06 2.06-.94-2.06-.94-.94-2.06-.94 2.06-2.06.94zm-11 1L8.5 8.5l.94-2.06 2.06-.94-2.06-.94L8.5 2.5l-.94 2.06-2.06.94zm10 10l.94 2.06.94-2.06 2.06-.94-2.06-.94-.94-2.06-.94 2.06-2.06.94z\"/><path d=\"M17.41 7.96l-1.37-1.37c-.4-.4-.92-.59-1.43-.59-.52 0-1.04.2-1.43.59L10.3 9.45l-7.72 7.72c-.78.78-.78 2.05 0 2.83L4 21.41c.39.39.9.59 1.41.59.51 0 1.02-.2 1.41-.59l7.78-7.78 2.81-2.81c.8-.78.8-2.07 0-2.86zM5.41 20L4 18.59l7.72-7.72 1.47 1.35L5.41 20z\"/>\n",
              "  </svg>\n",
              "      </button>\n",
              "      \n",
              "  <style>\n",
              "    .colab-df-container {\n",
              "      display:flex;\n",
              "      flex-wrap:wrap;\n",
              "      gap: 12px;\n",
              "    }\n",
              "\n",
              "    .colab-df-convert {\n",
              "      background-color: #E8F0FE;\n",
              "      border: none;\n",
              "      border-radius: 50%;\n",
              "      cursor: pointer;\n",
              "      display: none;\n",
              "      fill: #1967D2;\n",
              "      height: 32px;\n",
              "      padding: 0 0 0 0;\n",
              "      width: 32px;\n",
              "    }\n",
              "\n",
              "    .colab-df-convert:hover {\n",
              "      background-color: #E2EBFA;\n",
              "      box-shadow: 0px 1px 2px rgba(60, 64, 67, 0.3), 0px 1px 3px 1px rgba(60, 64, 67, 0.15);\n",
              "      fill: #174EA6;\n",
              "    }\n",
              "\n",
              "    [theme=dark] .colab-df-convert {\n",
              "      background-color: #3B4455;\n",
              "      fill: #D2E3FC;\n",
              "    }\n",
              "\n",
              "    [theme=dark] .colab-df-convert:hover {\n",
              "      background-color: #434B5C;\n",
              "      box-shadow: 0px 1px 3px 1px rgba(0, 0, 0, 0.15);\n",
              "      filter: drop-shadow(0px 1px 2px rgba(0, 0, 0, 0.3));\n",
              "      fill: #FFFFFF;\n",
              "    }\n",
              "  </style>\n",
              "\n",
              "      <script>\n",
              "        const buttonEl =\n",
              "          document.querySelector('#df-0f5a7de0-ab4c-45fe-bf31-63dbd2838743 button.colab-df-convert');\n",
              "        buttonEl.style.display =\n",
              "          google.colab.kernel.accessAllowed ? 'block' : 'none';\n",
              "\n",
              "        async function convertToInteractive(key) {\n",
              "          const element = document.querySelector('#df-0f5a7de0-ab4c-45fe-bf31-63dbd2838743');\n",
              "          const dataTable =\n",
              "            await google.colab.kernel.invokeFunction('convertToInteractive',\n",
              "                                                     [key], {});\n",
              "          if (!dataTable) return;\n",
              "\n",
              "          const docLinkHtml = 'Like what you see? Visit the ' +\n",
              "            '<a target=\"_blank\" href=https://colab.research.google.com/notebooks/data_table.ipynb>data table notebook</a>'\n",
              "            + ' to learn more about interactive tables.';\n",
              "          element.innerHTML = '';\n",
              "          dataTable['output_type'] = 'display_data';\n",
              "          await google.colab.output.renderOutput(dataTable, element);\n",
              "          const docLink = document.createElement('div');\n",
              "          docLink.innerHTML = docLinkHtml;\n",
              "          element.appendChild(docLink);\n",
              "        }\n",
              "      </script>\n",
              "    </div>\n",
              "  </div>\n",
              "  "
            ]
          },
          "metadata": {},
          "execution_count": 47
        }
      ]
    },
    {
      "cell_type": "code",
      "source": [
        "df_level.tail(10)"
      ],
      "metadata": {
        "id": "WrlcKT_qMRga",
        "outputId": "d375e586-30c5-4d4a-c9ba-77dd3623bfd0",
        "colab": {
          "base_uri": "https://localhost:8080/",
          "height": 363
        }
      },
      "execution_count": 48,
      "outputs": [
        {
          "output_type": "execute_result",
          "data": {
            "text/plain": [
              "    市区町村名   町名     町丁目  医療スコア\n",
              "901  世田谷区  砧公園     砧公園  0.172\n",
              "902   大田区  昭和島  昭和島１丁目  0.153\n",
              "903   江東区   青海   青海２丁目  0.102\n",
              "904   大田区   東海   東海３丁目  0.079\n",
              "905   江東区  夢の島  夢の島１丁目  0.073\n",
              "906   品川区  東八潮     東八潮  0.056\n",
              "907   大田区  京浜島  京浜島１丁目  0.051\n",
              "908   江東区  新木場  新木場１丁目  0.045\n",
              "909   大田区  城南島  城南島１丁目  0.023\n",
              "910   江東区   若洲   若洲１丁目  0.013"
            ],
            "text/html": [
              "\n",
              "  <div id=\"df-afed1a7a-2662-42dc-b8ea-12bc02abd9f7\">\n",
              "    <div class=\"colab-df-container\">\n",
              "      <div>\n",
              "<style scoped>\n",
              "    .dataframe tbody tr th:only-of-type {\n",
              "        vertical-align: middle;\n",
              "    }\n",
              "\n",
              "    .dataframe tbody tr th {\n",
              "        vertical-align: top;\n",
              "    }\n",
              "\n",
              "    .dataframe thead th {\n",
              "        text-align: right;\n",
              "    }\n",
              "</style>\n",
              "<table border=\"1\" class=\"dataframe\">\n",
              "  <thead>\n",
              "    <tr style=\"text-align: right;\">\n",
              "      <th></th>\n",
              "      <th>市区町村名</th>\n",
              "      <th>町名</th>\n",
              "      <th>町丁目</th>\n",
              "      <th>医療スコア</th>\n",
              "    </tr>\n",
              "  </thead>\n",
              "  <tbody>\n",
              "    <tr>\n",
              "      <th>901</th>\n",
              "      <td>世田谷区</td>\n",
              "      <td>砧公園</td>\n",
              "      <td>砧公園</td>\n",
              "      <td>0.172</td>\n",
              "    </tr>\n",
              "    <tr>\n",
              "      <th>902</th>\n",
              "      <td>大田区</td>\n",
              "      <td>昭和島</td>\n",
              "      <td>昭和島１丁目</td>\n",
              "      <td>0.153</td>\n",
              "    </tr>\n",
              "    <tr>\n",
              "      <th>903</th>\n",
              "      <td>江東区</td>\n",
              "      <td>青海</td>\n",
              "      <td>青海２丁目</td>\n",
              "      <td>0.102</td>\n",
              "    </tr>\n",
              "    <tr>\n",
              "      <th>904</th>\n",
              "      <td>大田区</td>\n",
              "      <td>東海</td>\n",
              "      <td>東海３丁目</td>\n",
              "      <td>0.079</td>\n",
              "    </tr>\n",
              "    <tr>\n",
              "      <th>905</th>\n",
              "      <td>江東区</td>\n",
              "      <td>夢の島</td>\n",
              "      <td>夢の島１丁目</td>\n",
              "      <td>0.073</td>\n",
              "    </tr>\n",
              "    <tr>\n",
              "      <th>906</th>\n",
              "      <td>品川区</td>\n",
              "      <td>東八潮</td>\n",
              "      <td>東八潮</td>\n",
              "      <td>0.056</td>\n",
              "    </tr>\n",
              "    <tr>\n",
              "      <th>907</th>\n",
              "      <td>大田区</td>\n",
              "      <td>京浜島</td>\n",
              "      <td>京浜島１丁目</td>\n",
              "      <td>0.051</td>\n",
              "    </tr>\n",
              "    <tr>\n",
              "      <th>908</th>\n",
              "      <td>江東区</td>\n",
              "      <td>新木場</td>\n",
              "      <td>新木場１丁目</td>\n",
              "      <td>0.045</td>\n",
              "    </tr>\n",
              "    <tr>\n",
              "      <th>909</th>\n",
              "      <td>大田区</td>\n",
              "      <td>城南島</td>\n",
              "      <td>城南島１丁目</td>\n",
              "      <td>0.023</td>\n",
              "    </tr>\n",
              "    <tr>\n",
              "      <th>910</th>\n",
              "      <td>江東区</td>\n",
              "      <td>若洲</td>\n",
              "      <td>若洲１丁目</td>\n",
              "      <td>0.013</td>\n",
              "    </tr>\n",
              "  </tbody>\n",
              "</table>\n",
              "</div>\n",
              "      <button class=\"colab-df-convert\" onclick=\"convertToInteractive('df-afed1a7a-2662-42dc-b8ea-12bc02abd9f7')\"\n",
              "              title=\"Convert this dataframe to an interactive table.\"\n",
              "              style=\"display:none;\">\n",
              "        \n",
              "  <svg xmlns=\"http://www.w3.org/2000/svg\" height=\"24px\"viewBox=\"0 0 24 24\"\n",
              "       width=\"24px\">\n",
              "    <path d=\"M0 0h24v24H0V0z\" fill=\"none\"/>\n",
              "    <path d=\"M18.56 5.44l.94 2.06.94-2.06 2.06-.94-2.06-.94-.94-2.06-.94 2.06-2.06.94zm-11 1L8.5 8.5l.94-2.06 2.06-.94-2.06-.94L8.5 2.5l-.94 2.06-2.06.94zm10 10l.94 2.06.94-2.06 2.06-.94-2.06-.94-.94-2.06-.94 2.06-2.06.94z\"/><path d=\"M17.41 7.96l-1.37-1.37c-.4-.4-.92-.59-1.43-.59-.52 0-1.04.2-1.43.59L10.3 9.45l-7.72 7.72c-.78.78-.78 2.05 0 2.83L4 21.41c.39.39.9.59 1.41.59.51 0 1.02-.2 1.41-.59l7.78-7.78 2.81-2.81c.8-.78.8-2.07 0-2.86zM5.41 20L4 18.59l7.72-7.72 1.47 1.35L5.41 20z\"/>\n",
              "  </svg>\n",
              "      </button>\n",
              "      \n",
              "  <style>\n",
              "    .colab-df-container {\n",
              "      display:flex;\n",
              "      flex-wrap:wrap;\n",
              "      gap: 12px;\n",
              "    }\n",
              "\n",
              "    .colab-df-convert {\n",
              "      background-color: #E8F0FE;\n",
              "      border: none;\n",
              "      border-radius: 50%;\n",
              "      cursor: pointer;\n",
              "      display: none;\n",
              "      fill: #1967D2;\n",
              "      height: 32px;\n",
              "      padding: 0 0 0 0;\n",
              "      width: 32px;\n",
              "    }\n",
              "\n",
              "    .colab-df-convert:hover {\n",
              "      background-color: #E2EBFA;\n",
              "      box-shadow: 0px 1px 2px rgba(60, 64, 67, 0.3), 0px 1px 3px 1px rgba(60, 64, 67, 0.15);\n",
              "      fill: #174EA6;\n",
              "    }\n",
              "\n",
              "    [theme=dark] .colab-df-convert {\n",
              "      background-color: #3B4455;\n",
              "      fill: #D2E3FC;\n",
              "    }\n",
              "\n",
              "    [theme=dark] .colab-df-convert:hover {\n",
              "      background-color: #434B5C;\n",
              "      box-shadow: 0px 1px 3px 1px rgba(0, 0, 0, 0.15);\n",
              "      filter: drop-shadow(0px 1px 2px rgba(0, 0, 0, 0.3));\n",
              "      fill: #FFFFFF;\n",
              "    }\n",
              "  </style>\n",
              "\n",
              "      <script>\n",
              "        const buttonEl =\n",
              "          document.querySelector('#df-afed1a7a-2662-42dc-b8ea-12bc02abd9f7 button.colab-df-convert');\n",
              "        buttonEl.style.display =\n",
              "          google.colab.kernel.accessAllowed ? 'block' : 'none';\n",
              "\n",
              "        async function convertToInteractive(key) {\n",
              "          const element = document.querySelector('#df-afed1a7a-2662-42dc-b8ea-12bc02abd9f7');\n",
              "          const dataTable =\n",
              "            await google.colab.kernel.invokeFunction('convertToInteractive',\n",
              "                                                     [key], {});\n",
              "          if (!dataTable) return;\n",
              "\n",
              "          const docLinkHtml = 'Like what you see? Visit the ' +\n",
              "            '<a target=\"_blank\" href=https://colab.research.google.com/notebooks/data_table.ipynb>data table notebook</a>'\n",
              "            + ' to learn more about interactive tables.';\n",
              "          element.innerHTML = '';\n",
              "          dataTable['output_type'] = 'display_data';\n",
              "          await google.colab.output.renderOutput(dataTable, element);\n",
              "          const docLink = document.createElement('div');\n",
              "          docLink.innerHTML = docLinkHtml;\n",
              "          element.appendChild(docLink);\n",
              "        }\n",
              "      </script>\n",
              "    </div>\n",
              "  </div>\n",
              "  "
            ]
          },
          "metadata": {},
          "execution_count": 48
        }
      ]
    },
    {
      "cell_type": "code",
      "source": [],
      "metadata": {
        "id": "515YQsGHMU0D"
      },
      "execution_count": 48,
      "outputs": []
    }
  ]
}