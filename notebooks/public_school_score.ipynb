{
  "nbformat": 4,
  "nbformat_minor": 0,
  "metadata": {
    "colab": {
      "provenance": [],
      "authorship_tag": "ABX9TyMseNXPnfkWi8D5J+cKXebI",
      "include_colab_link": true
    },
    "kernelspec": {
      "name": "python3",
      "display_name": "Python 3"
    },
    "language_info": {
      "name": "python"
    }
  },
  "cells": [
    {
      "cell_type": "markdown",
      "metadata": {
        "id": "view-in-github",
        "colab_type": "text"
      },
      "source": [
        "<a href=\"https://colab.research.google.com/github/z-gard/analysis/blob/main/notebooks/public_school_score.ipynb\" target=\"_parent\"><img src=\"https://colab.research.google.com/assets/colab-badge.svg\" alt=\"Open In Colab\"/></a>"
      ]
    },
    {
      "cell_type": "markdown",
      "source": [
        "# 公立学校スコア\n",
        "- input\n",
        "    - public_school_master.csv\n",
        "        - 小学校の位置とレーティング\n",
        "        - 中学校の位置とレーティング\n",
        "        - 中学校の位置とレーティング\n",
        "- output\n",
        "    - public_school_score.csv\n",
        "        - 小学校スコア\n",
        "        - 中学校スコア\n",
        "        - 幼稚園スコア"
      ],
      "metadata": {
        "id": "kP0WeYTi3sb3"
      }
    },
    {
      "cell_type": "code",
      "source": [
        "!pip install -q japanize-matplotlib"
      ],
      "metadata": {
        "id": "E9YHHF2F37-N"
      },
      "execution_count": 1,
      "outputs": []
    },
    {
      "cell_type": "code",
      "execution_count": 2,
      "metadata": {
        "colab": {
          "base_uri": "https://localhost:8080/"
        },
        "id": "w4KT6mck3nOo",
        "outputId": "2d5f7f98-53ce-4814-c073-3095d252e7ec"
      },
      "outputs": [
        {
          "output_type": "stream",
          "name": "stdout",
          "text": [
            "Drive already mounted at /content/drive; to attempt to forcibly remount, call drive.mount(\"/content/drive\", force_remount=True).\n"
          ]
        }
      ],
      "source": [
        "from google.colab import drive\n",
        "drive.mount('/content/drive')"
      ]
    },
    {
      "cell_type": "code",
      "source": [
        "DIR_NAME = '/content/drive/MyDrive/z-gard/data'"
      ],
      "metadata": {
        "id": "ScoGtQsV3sA0"
      },
      "execution_count": 3,
      "outputs": []
    },
    {
      "cell_type": "code",
      "source": [
        "import os\n",
        "import requests\n",
        "import json\n",
        "import pandas as pd\n",
        "from urllib.parse import urlparse, quote\n",
        "import io\n",
        "import math\n",
        "import numpy as np\n",
        "import matplotlib.pyplot as plt\n",
        "import japanize_matplotlib\n",
        "import seaborn as sns\n",
        "\n",
        "pd.set_option('display.max_columns', 50)\n",
        "pd.set_option('display.max_rows', 100)"
      ],
      "metadata": {
        "id": "1ef9tlAW3zxE"
      },
      "execution_count": 4,
      "outputs": []
    },
    {
      "cell_type": "code",
      "source": [
        "output_score_file = 'public_school_score.csv'"
      ],
      "metadata": {
        "id": "yRV4HuouJ1TX"
      },
      "execution_count": 5,
      "outputs": []
    },
    {
      "cell_type": "markdown",
      "source": [
        "### 人口マスタ"
      ],
      "metadata": {
        "id": "XRO-NFWf4Gnn"
      }
    },
    {
      "cell_type": "code",
      "source": [
        "df_pop_master = pd.read_csv(os.path.join(DIR_NAME, 'population_master.csv'))[['地域ID', '市区町村名', '町名', '町丁目', '緯度', '経度']]\n",
        "print(df_pop_master.shape)"
      ],
      "metadata": {
        "colab": {
          "base_uri": "https://localhost:8080/"
        },
        "id": "hD-7wSVN4BH0",
        "outputId": "868e86cd-ca89-45de-c0da-0f4061fd9891"
      },
      "execution_count": 6,
      "outputs": [
        {
          "output_type": "stream",
          "name": "stdout",
          "text": [
            "(3145, 6)\n"
          ]
        }
      ]
    },
    {
      "cell_type": "markdown",
      "source": [
        "### 学校"
      ],
      "metadata": {
        "id": "2-pBdXmw4Ktq"
      }
    },
    {
      "cell_type": "code",
      "source": [
        "df_school_master = pd.read_csv(os.path.join(DIR_NAME, 'public_school_master.csv'))[['学校番号', '施設分類', '学校名', '名称', '緯度', '経度', 'rating']]\n",
        "df_school_master['学校番号'] = df_school_master['学校番号'].astype(str)\n",
        "print(df_school_master.shape)"
      ],
      "metadata": {
        "colab": {
          "base_uri": "https://localhost:8080/"
        },
        "id": "bZ7JBlaa4JtN",
        "outputId": "e4877475-e3e6-4fbc-c282-11a2524292b9"
      },
      "execution_count": 7,
      "outputs": [
        {
          "output_type": "stream",
          "name": "stdout",
          "text": [
            "(1363, 7)\n"
          ]
        }
      ]
    },
    {
      "cell_type": "code",
      "source": [
        "df_school_master.head()"
      ],
      "metadata": {
        "colab": {
          "base_uri": "https://localhost:8080/",
          "height": 206
        },
        "id": "4l7rTSqAT231",
        "outputId": "a03f08a4-cc77-4a98-c6e4-c7f14d068052"
      },
      "execution_count": 8,
      "outputs": [
        {
          "output_type": "execute_result",
          "data": {
            "text/plain": [
              "     学校番号 施設分類   学校名            名称         緯度          経度  rating\n",
              "0  101150  幼稚園    麹町    千代田区立麹町幼稚園  35.685691  139.740164     0.0\n",
              "1  101160  幼稚園    九段    千代田区立九段幼稚園  35.690666  139.741195     0.0\n",
              "2  101170  幼稚園    番町    千代田区立番町幼稚園  35.687629  139.733426     5.0\n",
              "3  101190  幼稚園  お茶の水  千代田区立お茶の水幼稚園  35.697445  139.748569     4.0\n",
              "4  101200  幼稚園   千代田   千代田区立千代田幼稚園  35.693169  139.768274     0.0"
            ],
            "text/html": [
              "\n",
              "  <div id=\"df-6bf2b340-cf73-402a-9e19-e2f60e802eb4\">\n",
              "    <div class=\"colab-df-container\">\n",
              "      <div>\n",
              "<style scoped>\n",
              "    .dataframe tbody tr th:only-of-type {\n",
              "        vertical-align: middle;\n",
              "    }\n",
              "\n",
              "    .dataframe tbody tr th {\n",
              "        vertical-align: top;\n",
              "    }\n",
              "\n",
              "    .dataframe thead th {\n",
              "        text-align: right;\n",
              "    }\n",
              "</style>\n",
              "<table border=\"1\" class=\"dataframe\">\n",
              "  <thead>\n",
              "    <tr style=\"text-align: right;\">\n",
              "      <th></th>\n",
              "      <th>学校番号</th>\n",
              "      <th>施設分類</th>\n",
              "      <th>学校名</th>\n",
              "      <th>名称</th>\n",
              "      <th>緯度</th>\n",
              "      <th>経度</th>\n",
              "      <th>rating</th>\n",
              "    </tr>\n",
              "  </thead>\n",
              "  <tbody>\n",
              "    <tr>\n",
              "      <th>0</th>\n",
              "      <td>101150</td>\n",
              "      <td>幼稚園</td>\n",
              "      <td>麹町</td>\n",
              "      <td>千代田区立麹町幼稚園</td>\n",
              "      <td>35.685691</td>\n",
              "      <td>139.740164</td>\n",
              "      <td>0.0</td>\n",
              "    </tr>\n",
              "    <tr>\n",
              "      <th>1</th>\n",
              "      <td>101160</td>\n",
              "      <td>幼稚園</td>\n",
              "      <td>九段</td>\n",
              "      <td>千代田区立九段幼稚園</td>\n",
              "      <td>35.690666</td>\n",
              "      <td>139.741195</td>\n",
              "      <td>0.0</td>\n",
              "    </tr>\n",
              "    <tr>\n",
              "      <th>2</th>\n",
              "      <td>101170</td>\n",
              "      <td>幼稚園</td>\n",
              "      <td>番町</td>\n",
              "      <td>千代田区立番町幼稚園</td>\n",
              "      <td>35.687629</td>\n",
              "      <td>139.733426</td>\n",
              "      <td>5.0</td>\n",
              "    </tr>\n",
              "    <tr>\n",
              "      <th>3</th>\n",
              "      <td>101190</td>\n",
              "      <td>幼稚園</td>\n",
              "      <td>お茶の水</td>\n",
              "      <td>千代田区立お茶の水幼稚園</td>\n",
              "      <td>35.697445</td>\n",
              "      <td>139.748569</td>\n",
              "      <td>4.0</td>\n",
              "    </tr>\n",
              "    <tr>\n",
              "      <th>4</th>\n",
              "      <td>101200</td>\n",
              "      <td>幼稚園</td>\n",
              "      <td>千代田</td>\n",
              "      <td>千代田区立千代田幼稚園</td>\n",
              "      <td>35.693169</td>\n",
              "      <td>139.768274</td>\n",
              "      <td>0.0</td>\n",
              "    </tr>\n",
              "  </tbody>\n",
              "</table>\n",
              "</div>\n",
              "      <button class=\"colab-df-convert\" onclick=\"convertToInteractive('df-6bf2b340-cf73-402a-9e19-e2f60e802eb4')\"\n",
              "              title=\"Convert this dataframe to an interactive table.\"\n",
              "              style=\"display:none;\">\n",
              "        \n",
              "  <svg xmlns=\"http://www.w3.org/2000/svg\" height=\"24px\"viewBox=\"0 0 24 24\"\n",
              "       width=\"24px\">\n",
              "    <path d=\"M0 0h24v24H0V0z\" fill=\"none\"/>\n",
              "    <path d=\"M18.56 5.44l.94 2.06.94-2.06 2.06-.94-2.06-.94-.94-2.06-.94 2.06-2.06.94zm-11 1L8.5 8.5l.94-2.06 2.06-.94-2.06-.94L8.5 2.5l-.94 2.06-2.06.94zm10 10l.94 2.06.94-2.06 2.06-.94-2.06-.94-.94-2.06-.94 2.06-2.06.94z\"/><path d=\"M17.41 7.96l-1.37-1.37c-.4-.4-.92-.59-1.43-.59-.52 0-1.04.2-1.43.59L10.3 9.45l-7.72 7.72c-.78.78-.78 2.05 0 2.83L4 21.41c.39.39.9.59 1.41.59.51 0 1.02-.2 1.41-.59l7.78-7.78 2.81-2.81c.8-.78.8-2.07 0-2.86zM5.41 20L4 18.59l7.72-7.72 1.47 1.35L5.41 20z\"/>\n",
              "  </svg>\n",
              "      </button>\n",
              "      \n",
              "  <style>\n",
              "    .colab-df-container {\n",
              "      display:flex;\n",
              "      flex-wrap:wrap;\n",
              "      gap: 12px;\n",
              "    }\n",
              "\n",
              "    .colab-df-convert {\n",
              "      background-color: #E8F0FE;\n",
              "      border: none;\n",
              "      border-radius: 50%;\n",
              "      cursor: pointer;\n",
              "      display: none;\n",
              "      fill: #1967D2;\n",
              "      height: 32px;\n",
              "      padding: 0 0 0 0;\n",
              "      width: 32px;\n",
              "    }\n",
              "\n",
              "    .colab-df-convert:hover {\n",
              "      background-color: #E2EBFA;\n",
              "      box-shadow: 0px 1px 2px rgba(60, 64, 67, 0.3), 0px 1px 3px 1px rgba(60, 64, 67, 0.15);\n",
              "      fill: #174EA6;\n",
              "    }\n",
              "\n",
              "    [theme=dark] .colab-df-convert {\n",
              "      background-color: #3B4455;\n",
              "      fill: #D2E3FC;\n",
              "    }\n",
              "\n",
              "    [theme=dark] .colab-df-convert:hover {\n",
              "      background-color: #434B5C;\n",
              "      box-shadow: 0px 1px 3px 1px rgba(0, 0, 0, 0.15);\n",
              "      filter: drop-shadow(0px 1px 2px rgba(0, 0, 0, 0.3));\n",
              "      fill: #FFFFFF;\n",
              "    }\n",
              "  </style>\n",
              "\n",
              "      <script>\n",
              "        const buttonEl =\n",
              "          document.querySelector('#df-6bf2b340-cf73-402a-9e19-e2f60e802eb4 button.colab-df-convert');\n",
              "        buttonEl.style.display =\n",
              "          google.colab.kernel.accessAllowed ? 'block' : 'none';\n",
              "\n",
              "        async function convertToInteractive(key) {\n",
              "          const element = document.querySelector('#df-6bf2b340-cf73-402a-9e19-e2f60e802eb4');\n",
              "          const dataTable =\n",
              "            await google.colab.kernel.invokeFunction('convertToInteractive',\n",
              "                                                     [key], {});\n",
              "          if (!dataTable) return;\n",
              "\n",
              "          const docLinkHtml = 'Like what you see? Visit the ' +\n",
              "            '<a target=\"_blank\" href=https://colab.research.google.com/notebooks/data_table.ipynb>data table notebook</a>'\n",
              "            + ' to learn more about interactive tables.';\n",
              "          element.innerHTML = '';\n",
              "          dataTable['output_type'] = 'display_data';\n",
              "          await google.colab.output.renderOutput(dataTable, element);\n",
              "          const docLink = document.createElement('div');\n",
              "          docLink.innerHTML = docLinkHtml;\n",
              "          element.appendChild(docLink);\n",
              "        }\n",
              "      </script>\n",
              "    </div>\n",
              "  </div>\n",
              "  "
            ]
          },
          "metadata": {},
          "execution_count": 8
        }
      ]
    },
    {
      "cell_type": "code",
      "source": [
        "# 距離計算\n",
        "def get_distance(lat1, lon1, lat2, lon2):\n",
        "    _lat1 = lat1 * math.pi / 180\n",
        "    _lon1 = lon1 * math.pi / 180\n",
        "    _lat2 = lat2 * math.pi / 180\n",
        "    _lon2 = lon2 * math.pi / 180\n",
        "    _tmp = math.cos(_lat1) * math.cos(_lat2) * math.cos(_lon2 - _lon1) + math.sin(_lat1) * math.sin(_lat2)\n",
        "    _tmp = 1 if _tmp > 1 else -1 if _tmp < -1 else _tmp\n",
        "    return 6371 * math.acos(_tmp)\n",
        "\n",
        "# 最寄り施設までの距離\n",
        "def get_value_of_nearest_facility(df_master, df_facility, category, method='min', param=3):\n",
        "    _df_cat = df_facility[df_facility['施設分類'] == category].reset_index(drop=True)\n",
        "    cat_values = []\n",
        "    for i, row in df_master.iterrows():\n",
        "        dist = _df_cat.apply(lambda x: get_distance(x['緯度'], x['経度'], row['緯度'], row['経度']), axis=1)\n",
        "        val = None\n",
        "        if method == 'min':\n",
        "            # 最小の距離\n",
        "            val = dist.min()\n",
        "        elif method == 'min_param':\n",
        "            # 最小の距離の時の他のパラメータを返す\n",
        "            min_idx = dist.idxmin()\n",
        "            if np.isnan(min_idx):\n",
        "                val = np.NaN\n",
        "            else:\n",
        "                val = _df_cat.iloc[min_idx][param]\n",
        "        elif method == 'count':\n",
        "            # {param}km以内の施設の数をカウント\n",
        "            val = len(dist[dist <= param])\n",
        "        elif method == 'mean':\n",
        "            # 近い{param}件の距離の平均\n",
        "            val = dist.sort_values()[:param].mean()\n",
        "        cat_values.append(val)\n",
        "    return cat_values"
      ],
      "metadata": {
        "id": "_zuCoLhg48ZN"
      },
      "execution_count": 9,
      "outputs": []
    },
    {
      "cell_type": "markdown",
      "source": [
        "### スコア"
      ],
      "metadata": {
        "id": "IILAQB3vA02_"
      }
    },
    {
      "cell_type": "code",
      "source": [
        "%%time\n",
        "# 一番近い施設の距離\n",
        "df_pop_master['小学校(最近傍距離)'] = get_value_of_nearest_facility(df_pop_master, df_school_master, '小学校', 'min')\n",
        "# 一番近い施設の距離\n",
        "df_pop_master['中学校(最近傍距離)'] = get_value_of_nearest_facility(df_pop_master, df_school_master, '中学校', 'min')\n",
        "# 一番近い施設の距離\n",
        "df_pop_master['幼稚園(最近傍距離)'] = get_value_of_nearest_facility(df_pop_master, df_school_master, '幼稚園', 'min')\n",
        "# 最寄りの小学校\n",
        "df_pop_master['小学校(学校番号)'] = get_value_of_nearest_facility(df_pop_master, df_school_master, '小学校', 'min_param', '学校番号')\n",
        "# 最寄りの中学校\n",
        "df_pop_master['中学校(学校番号)'] = get_value_of_nearest_facility(df_pop_master, df_school_master, '中学校', 'min_param', '学校番号')\n",
        "# 最寄りの幼稚園\n",
        "df_pop_master['幼稚園(学校番号)'] = get_value_of_nearest_facility(df_pop_master, df_school_master, '幼稚園', 'min_param', '学校番号')"
      ],
      "metadata": {
        "colab": {
          "base_uri": "https://localhost:8080/"
        },
        "id": "GOWzRaqi5JH2",
        "outputId": "d055ace5-9404-4131-c71e-cde31ded8b10"
      },
      "execution_count": 10,
      "outputs": [
        {
          "output_type": "stream",
          "name": "stdout",
          "text": [
            "CPU times: user 3min 24s, sys: 1.04 s, total: 3min 25s\n",
            "Wall time: 3min 30s\n"
          ]
        }
      ]
    },
    {
      "cell_type": "code",
      "source": [
        "df_pop_master.head()"
      ],
      "metadata": {
        "colab": {
          "base_uri": "https://localhost:8080/",
          "height": 354
        },
        "id": "ymsPMJuBUtcK",
        "outputId": "a6330a86-fdee-45c6-9262-ffeee54ab3f3"
      },
      "execution_count": 11,
      "outputs": [
        {
          "output_type": "execute_result",
          "data": {
            "text/plain": [
              "     地域ID 市区町村名   町名     町丁目         緯度          経度  小学校(最近傍距離)  中学校(最近傍距離)  \\\n",
              "0  101003  千代田区  丸の内  丸の内１丁目  35.681610  139.767511    0.342000    1.700911   \n",
              "1  101004  千代田区  丸の内  丸の内２丁目  35.680071  139.763944    0.524351    1.630921   \n",
              "2  101005  千代田区  丸の内  丸の内３丁目  35.676890  139.764039    0.557686    1.277244   \n",
              "3  101007  千代田区  大手町  大手町１丁目  35.688067  139.764353    0.555875    0.961946   \n",
              "4  101008  千代田区  大手町  大手町２丁目  35.686416  139.768530    0.258117    1.364439   \n",
              "\n",
              "   幼稚園(最近傍距離) 小学校(学校番号) 中学校(学校番号) 幼稚園(学校番号)  \n",
              "0    0.298203    202010    301060    102010  \n",
              "1    0.505898    202010    302050    102010  \n",
              "2    0.564959    202010    302050    102020  \n",
              "3    0.555725    202090    301060    102090  \n",
              "4    0.255021    202090    301060    102090  "
            ],
            "text/html": [
              "\n",
              "  <div id=\"df-a0107d89-cbb6-4810-adaa-e448eef47a3e\">\n",
              "    <div class=\"colab-df-container\">\n",
              "      <div>\n",
              "<style scoped>\n",
              "    .dataframe tbody tr th:only-of-type {\n",
              "        vertical-align: middle;\n",
              "    }\n",
              "\n",
              "    .dataframe tbody tr th {\n",
              "        vertical-align: top;\n",
              "    }\n",
              "\n",
              "    .dataframe thead th {\n",
              "        text-align: right;\n",
              "    }\n",
              "</style>\n",
              "<table border=\"1\" class=\"dataframe\">\n",
              "  <thead>\n",
              "    <tr style=\"text-align: right;\">\n",
              "      <th></th>\n",
              "      <th>地域ID</th>\n",
              "      <th>市区町村名</th>\n",
              "      <th>町名</th>\n",
              "      <th>町丁目</th>\n",
              "      <th>緯度</th>\n",
              "      <th>経度</th>\n",
              "      <th>小学校(最近傍距離)</th>\n",
              "      <th>中学校(最近傍距離)</th>\n",
              "      <th>幼稚園(最近傍距離)</th>\n",
              "      <th>小学校(学校番号)</th>\n",
              "      <th>中学校(学校番号)</th>\n",
              "      <th>幼稚園(学校番号)</th>\n",
              "    </tr>\n",
              "  </thead>\n",
              "  <tbody>\n",
              "    <tr>\n",
              "      <th>0</th>\n",
              "      <td>101003</td>\n",
              "      <td>千代田区</td>\n",
              "      <td>丸の内</td>\n",
              "      <td>丸の内１丁目</td>\n",
              "      <td>35.681610</td>\n",
              "      <td>139.767511</td>\n",
              "      <td>0.342000</td>\n",
              "      <td>1.700911</td>\n",
              "      <td>0.298203</td>\n",
              "      <td>202010</td>\n",
              "      <td>301060</td>\n",
              "      <td>102010</td>\n",
              "    </tr>\n",
              "    <tr>\n",
              "      <th>1</th>\n",
              "      <td>101004</td>\n",
              "      <td>千代田区</td>\n",
              "      <td>丸の内</td>\n",
              "      <td>丸の内２丁目</td>\n",
              "      <td>35.680071</td>\n",
              "      <td>139.763944</td>\n",
              "      <td>0.524351</td>\n",
              "      <td>1.630921</td>\n",
              "      <td>0.505898</td>\n",
              "      <td>202010</td>\n",
              "      <td>302050</td>\n",
              "      <td>102010</td>\n",
              "    </tr>\n",
              "    <tr>\n",
              "      <th>2</th>\n",
              "      <td>101005</td>\n",
              "      <td>千代田区</td>\n",
              "      <td>丸の内</td>\n",
              "      <td>丸の内３丁目</td>\n",
              "      <td>35.676890</td>\n",
              "      <td>139.764039</td>\n",
              "      <td>0.557686</td>\n",
              "      <td>1.277244</td>\n",
              "      <td>0.564959</td>\n",
              "      <td>202010</td>\n",
              "      <td>302050</td>\n",
              "      <td>102020</td>\n",
              "    </tr>\n",
              "    <tr>\n",
              "      <th>3</th>\n",
              "      <td>101007</td>\n",
              "      <td>千代田区</td>\n",
              "      <td>大手町</td>\n",
              "      <td>大手町１丁目</td>\n",
              "      <td>35.688067</td>\n",
              "      <td>139.764353</td>\n",
              "      <td>0.555875</td>\n",
              "      <td>0.961946</td>\n",
              "      <td>0.555725</td>\n",
              "      <td>202090</td>\n",
              "      <td>301060</td>\n",
              "      <td>102090</td>\n",
              "    </tr>\n",
              "    <tr>\n",
              "      <th>4</th>\n",
              "      <td>101008</td>\n",
              "      <td>千代田区</td>\n",
              "      <td>大手町</td>\n",
              "      <td>大手町２丁目</td>\n",
              "      <td>35.686416</td>\n",
              "      <td>139.768530</td>\n",
              "      <td>0.258117</td>\n",
              "      <td>1.364439</td>\n",
              "      <td>0.255021</td>\n",
              "      <td>202090</td>\n",
              "      <td>301060</td>\n",
              "      <td>102090</td>\n",
              "    </tr>\n",
              "  </tbody>\n",
              "</table>\n",
              "</div>\n",
              "      <button class=\"colab-df-convert\" onclick=\"convertToInteractive('df-a0107d89-cbb6-4810-adaa-e448eef47a3e')\"\n",
              "              title=\"Convert this dataframe to an interactive table.\"\n",
              "              style=\"display:none;\">\n",
              "        \n",
              "  <svg xmlns=\"http://www.w3.org/2000/svg\" height=\"24px\"viewBox=\"0 0 24 24\"\n",
              "       width=\"24px\">\n",
              "    <path d=\"M0 0h24v24H0V0z\" fill=\"none\"/>\n",
              "    <path d=\"M18.56 5.44l.94 2.06.94-2.06 2.06-.94-2.06-.94-.94-2.06-.94 2.06-2.06.94zm-11 1L8.5 8.5l.94-2.06 2.06-.94-2.06-.94L8.5 2.5l-.94 2.06-2.06.94zm10 10l.94 2.06.94-2.06 2.06-.94-2.06-.94-.94-2.06-.94 2.06-2.06.94z\"/><path d=\"M17.41 7.96l-1.37-1.37c-.4-.4-.92-.59-1.43-.59-.52 0-1.04.2-1.43.59L10.3 9.45l-7.72 7.72c-.78.78-.78 2.05 0 2.83L4 21.41c.39.39.9.59 1.41.59.51 0 1.02-.2 1.41-.59l7.78-7.78 2.81-2.81c.8-.78.8-2.07 0-2.86zM5.41 20L4 18.59l7.72-7.72 1.47 1.35L5.41 20z\"/>\n",
              "  </svg>\n",
              "      </button>\n",
              "      \n",
              "  <style>\n",
              "    .colab-df-container {\n",
              "      display:flex;\n",
              "      flex-wrap:wrap;\n",
              "      gap: 12px;\n",
              "    }\n",
              "\n",
              "    .colab-df-convert {\n",
              "      background-color: #E8F0FE;\n",
              "      border: none;\n",
              "      border-radius: 50%;\n",
              "      cursor: pointer;\n",
              "      display: none;\n",
              "      fill: #1967D2;\n",
              "      height: 32px;\n",
              "      padding: 0 0 0 0;\n",
              "      width: 32px;\n",
              "    }\n",
              "\n",
              "    .colab-df-convert:hover {\n",
              "      background-color: #E2EBFA;\n",
              "      box-shadow: 0px 1px 2px rgba(60, 64, 67, 0.3), 0px 1px 3px 1px rgba(60, 64, 67, 0.15);\n",
              "      fill: #174EA6;\n",
              "    }\n",
              "\n",
              "    [theme=dark] .colab-df-convert {\n",
              "      background-color: #3B4455;\n",
              "      fill: #D2E3FC;\n",
              "    }\n",
              "\n",
              "    [theme=dark] .colab-df-convert:hover {\n",
              "      background-color: #434B5C;\n",
              "      box-shadow: 0px 1px 3px 1px rgba(0, 0, 0, 0.15);\n",
              "      filter: drop-shadow(0px 1px 2px rgba(0, 0, 0, 0.3));\n",
              "      fill: #FFFFFF;\n",
              "    }\n",
              "  </style>\n",
              "\n",
              "      <script>\n",
              "        const buttonEl =\n",
              "          document.querySelector('#df-a0107d89-cbb6-4810-adaa-e448eef47a3e button.colab-df-convert');\n",
              "        buttonEl.style.display =\n",
              "          google.colab.kernel.accessAllowed ? 'block' : 'none';\n",
              "\n",
              "        async function convertToInteractive(key) {\n",
              "          const element = document.querySelector('#df-a0107d89-cbb6-4810-adaa-e448eef47a3e');\n",
              "          const dataTable =\n",
              "            await google.colab.kernel.invokeFunction('convertToInteractive',\n",
              "                                                     [key], {});\n",
              "          if (!dataTable) return;\n",
              "\n",
              "          const docLinkHtml = 'Like what you see? Visit the ' +\n",
              "            '<a target=\"_blank\" href=https://colab.research.google.com/notebooks/data_table.ipynb>data table notebook</a>'\n",
              "            + ' to learn more about interactive tables.';\n",
              "          element.innerHTML = '';\n",
              "          dataTable['output_type'] = 'display_data';\n",
              "          await google.colab.output.renderOutput(dataTable, element);\n",
              "          const docLink = document.createElement('div');\n",
              "          docLink.innerHTML = docLinkHtml;\n",
              "          element.appendChild(docLink);\n",
              "        }\n",
              "      </script>\n",
              "    </div>\n",
              "  </div>\n",
              "  "
            ]
          },
          "metadata": {},
          "execution_count": 11
        }
      ]
    },
    {
      "cell_type": "code",
      "source": [
        "df_pop_master_merge = pd.merge(\n",
        "    df_pop_master, \n",
        "    df_school_master[['学校番号', '名称', 'rating']].rename(columns={'学校番号': '小学校(学校番号)', '名称':'最寄りの小学校', 'rating':'小学校のレーティング'}), \n",
        "    on='小学校(学校番号)', how='left'\n",
        ")\n",
        "df_pop_master_merge = pd.merge(\n",
        "    df_pop_master_merge, \n",
        "    df_school_master[['学校番号', '名称', 'rating']].rename(columns={'学校番号': '中学校(学校番号)', '名称':'最寄りの中学校', 'rating':'中学校のレーティング'}), \n",
        "    on='中学校(学校番号)', how='left'\n",
        ")\n",
        "df_pop_master_merge = pd.merge(\n",
        "    df_pop_master_merge, \n",
        "    df_school_master[['学校番号', '名称', 'rating']].rename(columns={'学校番号': '幼稚園(学校番号)', '名称':'最寄りの幼稚園', 'rating':'幼稚園のレーティング'}), \n",
        "    on='幼稚園(学校番号)', how='left'\n",
        ")\n",
        "\n",
        "print(df_pop_master_merge.shape)"
      ],
      "metadata": {
        "colab": {
          "base_uri": "https://localhost:8080/"
        },
        "id": "MQlpmb2jTdZs",
        "outputId": "ac43d97a-00f9-4b17-b45b-2c4675bae8a5"
      },
      "execution_count": 12,
      "outputs": [
        {
          "output_type": "stream",
          "name": "stdout",
          "text": [
            "(3145, 18)\n"
          ]
        }
      ]
    },
    {
      "cell_type": "code",
      "source": [
        "assert len(df_pop_master_merge) == len(df_pop_master)\n",
        "df_pop_master = df_pop_master_merge"
      ],
      "metadata": {
        "id": "rAXQrX6FUnNF"
      },
      "execution_count": 13,
      "outputs": []
    },
    {
      "cell_type": "code",
      "source": [
        "print(df_pop_master.shape)\n",
        "df_pop_master.head()"
      ],
      "metadata": {
        "colab": {
          "base_uri": "https://localhost:8080/",
          "height": 771
        },
        "id": "GbdMQ-rc7G9B",
        "outputId": "07829aff-2a31-45b2-d8ff-c11f520d906b"
      },
      "execution_count": 14,
      "outputs": [
        {
          "output_type": "stream",
          "name": "stdout",
          "text": [
            "(3145, 18)\n"
          ]
        },
        {
          "output_type": "execute_result",
          "data": {
            "text/plain": [
              "     地域ID 市区町村名   町名     町丁目         緯度          経度  小学校(最近傍距離)  中学校(最近傍距離)  \\\n",
              "0  101003  千代田区  丸の内  丸の内１丁目  35.681610  139.767511    0.342000    1.700911   \n",
              "1  101004  千代田区  丸の内  丸の内２丁目  35.680071  139.763944    0.524351    1.630921   \n",
              "2  101005  千代田区  丸の内  丸の内３丁目  35.676890  139.764039    0.557686    1.277244   \n",
              "3  101007  千代田区  大手町  大手町１丁目  35.688067  139.764353    0.555875    0.961946   \n",
              "4  101008  千代田区  大手町  大手町２丁目  35.686416  139.768530    0.258117    1.364439   \n",
              "\n",
              "   幼稚園(最近傍距離) 小学校(学校番号) 中学校(学校番号) 幼稚園(学校番号)    最寄りの小学校  小学校のレーティング  \\\n",
              "0    0.298203    202010    301060    102010  中央区立城東小学校         4.1   \n",
              "1    0.505898    202010    302050    102010  中央区立城東小学校         4.1   \n",
              "2    0.564959    202010    302050    102020  中央区立城東小学校         4.1   \n",
              "3    0.555725    202090    301060    102090  中央区立常盤小学校         4.2   \n",
              "4    0.255021    202090    301060    102090  中央区立常盤小学校         4.2   \n",
              "\n",
              "        最寄りの中学校  中学校のレーティング    最寄りの幼稚園  幼稚園のレーティング  \n",
              "0  千代田区立神田一橋中学校         3.5  中央区立昭和幼稚園         0.0  \n",
              "1     中央区立銀座中学校         3.5  中央区立昭和幼稚園         0.0  \n",
              "2     中央区立銀座中学校         3.5  中央区立泰明幼稚園         3.4  \n",
              "3  千代田区立神田一橋中学校         3.5  中央区立常盤幼稚園         3.0  \n",
              "4  千代田区立神田一橋中学校         3.5  中央区立常盤幼稚園         3.0  "
            ],
            "text/html": [
              "\n",
              "  <div id=\"df-a0bf23c1-457d-44a3-a050-441f6157cb72\">\n",
              "    <div class=\"colab-df-container\">\n",
              "      <div>\n",
              "<style scoped>\n",
              "    .dataframe tbody tr th:only-of-type {\n",
              "        vertical-align: middle;\n",
              "    }\n",
              "\n",
              "    .dataframe tbody tr th {\n",
              "        vertical-align: top;\n",
              "    }\n",
              "\n",
              "    .dataframe thead th {\n",
              "        text-align: right;\n",
              "    }\n",
              "</style>\n",
              "<table border=\"1\" class=\"dataframe\">\n",
              "  <thead>\n",
              "    <tr style=\"text-align: right;\">\n",
              "      <th></th>\n",
              "      <th>地域ID</th>\n",
              "      <th>市区町村名</th>\n",
              "      <th>町名</th>\n",
              "      <th>町丁目</th>\n",
              "      <th>緯度</th>\n",
              "      <th>経度</th>\n",
              "      <th>小学校(最近傍距離)</th>\n",
              "      <th>中学校(最近傍距離)</th>\n",
              "      <th>幼稚園(最近傍距離)</th>\n",
              "      <th>小学校(学校番号)</th>\n",
              "      <th>中学校(学校番号)</th>\n",
              "      <th>幼稚園(学校番号)</th>\n",
              "      <th>最寄りの小学校</th>\n",
              "      <th>小学校のレーティング</th>\n",
              "      <th>最寄りの中学校</th>\n",
              "      <th>中学校のレーティング</th>\n",
              "      <th>最寄りの幼稚園</th>\n",
              "      <th>幼稚園のレーティング</th>\n",
              "    </tr>\n",
              "  </thead>\n",
              "  <tbody>\n",
              "    <tr>\n",
              "      <th>0</th>\n",
              "      <td>101003</td>\n",
              "      <td>千代田区</td>\n",
              "      <td>丸の内</td>\n",
              "      <td>丸の内１丁目</td>\n",
              "      <td>35.681610</td>\n",
              "      <td>139.767511</td>\n",
              "      <td>0.342000</td>\n",
              "      <td>1.700911</td>\n",
              "      <td>0.298203</td>\n",
              "      <td>202010</td>\n",
              "      <td>301060</td>\n",
              "      <td>102010</td>\n",
              "      <td>中央区立城東小学校</td>\n",
              "      <td>4.1</td>\n",
              "      <td>千代田区立神田一橋中学校</td>\n",
              "      <td>3.5</td>\n",
              "      <td>中央区立昭和幼稚園</td>\n",
              "      <td>0.0</td>\n",
              "    </tr>\n",
              "    <tr>\n",
              "      <th>1</th>\n",
              "      <td>101004</td>\n",
              "      <td>千代田区</td>\n",
              "      <td>丸の内</td>\n",
              "      <td>丸の内２丁目</td>\n",
              "      <td>35.680071</td>\n",
              "      <td>139.763944</td>\n",
              "      <td>0.524351</td>\n",
              "      <td>1.630921</td>\n",
              "      <td>0.505898</td>\n",
              "      <td>202010</td>\n",
              "      <td>302050</td>\n",
              "      <td>102010</td>\n",
              "      <td>中央区立城東小学校</td>\n",
              "      <td>4.1</td>\n",
              "      <td>中央区立銀座中学校</td>\n",
              "      <td>3.5</td>\n",
              "      <td>中央区立昭和幼稚園</td>\n",
              "      <td>0.0</td>\n",
              "    </tr>\n",
              "    <tr>\n",
              "      <th>2</th>\n",
              "      <td>101005</td>\n",
              "      <td>千代田区</td>\n",
              "      <td>丸の内</td>\n",
              "      <td>丸の内３丁目</td>\n",
              "      <td>35.676890</td>\n",
              "      <td>139.764039</td>\n",
              "      <td>0.557686</td>\n",
              "      <td>1.277244</td>\n",
              "      <td>0.564959</td>\n",
              "      <td>202010</td>\n",
              "      <td>302050</td>\n",
              "      <td>102020</td>\n",
              "      <td>中央区立城東小学校</td>\n",
              "      <td>4.1</td>\n",
              "      <td>中央区立銀座中学校</td>\n",
              "      <td>3.5</td>\n",
              "      <td>中央区立泰明幼稚園</td>\n",
              "      <td>3.4</td>\n",
              "    </tr>\n",
              "    <tr>\n",
              "      <th>3</th>\n",
              "      <td>101007</td>\n",
              "      <td>千代田区</td>\n",
              "      <td>大手町</td>\n",
              "      <td>大手町１丁目</td>\n",
              "      <td>35.688067</td>\n",
              "      <td>139.764353</td>\n",
              "      <td>0.555875</td>\n",
              "      <td>0.961946</td>\n",
              "      <td>0.555725</td>\n",
              "      <td>202090</td>\n",
              "      <td>301060</td>\n",
              "      <td>102090</td>\n",
              "      <td>中央区立常盤小学校</td>\n",
              "      <td>4.2</td>\n",
              "      <td>千代田区立神田一橋中学校</td>\n",
              "      <td>3.5</td>\n",
              "      <td>中央区立常盤幼稚園</td>\n",
              "      <td>3.0</td>\n",
              "    </tr>\n",
              "    <tr>\n",
              "      <th>4</th>\n",
              "      <td>101008</td>\n",
              "      <td>千代田区</td>\n",
              "      <td>大手町</td>\n",
              "      <td>大手町２丁目</td>\n",
              "      <td>35.686416</td>\n",
              "      <td>139.768530</td>\n",
              "      <td>0.258117</td>\n",
              "      <td>1.364439</td>\n",
              "      <td>0.255021</td>\n",
              "      <td>202090</td>\n",
              "      <td>301060</td>\n",
              "      <td>102090</td>\n",
              "      <td>中央区立常盤小学校</td>\n",
              "      <td>4.2</td>\n",
              "      <td>千代田区立神田一橋中学校</td>\n",
              "      <td>3.5</td>\n",
              "      <td>中央区立常盤幼稚園</td>\n",
              "      <td>3.0</td>\n",
              "    </tr>\n",
              "  </tbody>\n",
              "</table>\n",
              "</div>\n",
              "      <button class=\"colab-df-convert\" onclick=\"convertToInteractive('df-a0bf23c1-457d-44a3-a050-441f6157cb72')\"\n",
              "              title=\"Convert this dataframe to an interactive table.\"\n",
              "              style=\"display:none;\">\n",
              "        \n",
              "  <svg xmlns=\"http://www.w3.org/2000/svg\" height=\"24px\"viewBox=\"0 0 24 24\"\n",
              "       width=\"24px\">\n",
              "    <path d=\"M0 0h24v24H0V0z\" fill=\"none\"/>\n",
              "    <path d=\"M18.56 5.44l.94 2.06.94-2.06 2.06-.94-2.06-.94-.94-2.06-.94 2.06-2.06.94zm-11 1L8.5 8.5l.94-2.06 2.06-.94-2.06-.94L8.5 2.5l-.94 2.06-2.06.94zm10 10l.94 2.06.94-2.06 2.06-.94-2.06-.94-.94-2.06-.94 2.06-2.06.94z\"/><path d=\"M17.41 7.96l-1.37-1.37c-.4-.4-.92-.59-1.43-.59-.52 0-1.04.2-1.43.59L10.3 9.45l-7.72 7.72c-.78.78-.78 2.05 0 2.83L4 21.41c.39.39.9.59 1.41.59.51 0 1.02-.2 1.41-.59l7.78-7.78 2.81-2.81c.8-.78.8-2.07 0-2.86zM5.41 20L4 18.59l7.72-7.72 1.47 1.35L5.41 20z\"/>\n",
              "  </svg>\n",
              "      </button>\n",
              "      \n",
              "  <style>\n",
              "    .colab-df-container {\n",
              "      display:flex;\n",
              "      flex-wrap:wrap;\n",
              "      gap: 12px;\n",
              "    }\n",
              "\n",
              "    .colab-df-convert {\n",
              "      background-color: #E8F0FE;\n",
              "      border: none;\n",
              "      border-radius: 50%;\n",
              "      cursor: pointer;\n",
              "      display: none;\n",
              "      fill: #1967D2;\n",
              "      height: 32px;\n",
              "      padding: 0 0 0 0;\n",
              "      width: 32px;\n",
              "    }\n",
              "\n",
              "    .colab-df-convert:hover {\n",
              "      background-color: #E2EBFA;\n",
              "      box-shadow: 0px 1px 2px rgba(60, 64, 67, 0.3), 0px 1px 3px 1px rgba(60, 64, 67, 0.15);\n",
              "      fill: #174EA6;\n",
              "    }\n",
              "\n",
              "    [theme=dark] .colab-df-convert {\n",
              "      background-color: #3B4455;\n",
              "      fill: #D2E3FC;\n",
              "    }\n",
              "\n",
              "    [theme=dark] .colab-df-convert:hover {\n",
              "      background-color: #434B5C;\n",
              "      box-shadow: 0px 1px 3px 1px rgba(0, 0, 0, 0.15);\n",
              "      filter: drop-shadow(0px 1px 2px rgba(0, 0, 0, 0.3));\n",
              "      fill: #FFFFFF;\n",
              "    }\n",
              "  </style>\n",
              "\n",
              "      <script>\n",
              "        const buttonEl =\n",
              "          document.querySelector('#df-a0bf23c1-457d-44a3-a050-441f6157cb72 button.colab-df-convert');\n",
              "        buttonEl.style.display =\n",
              "          google.colab.kernel.accessAllowed ? 'block' : 'none';\n",
              "\n",
              "        async function convertToInteractive(key) {\n",
              "          const element = document.querySelector('#df-a0bf23c1-457d-44a3-a050-441f6157cb72');\n",
              "          const dataTable =\n",
              "            await google.colab.kernel.invokeFunction('convertToInteractive',\n",
              "                                                     [key], {});\n",
              "          if (!dataTable) return;\n",
              "\n",
              "          const docLinkHtml = 'Like what you see? Visit the ' +\n",
              "            '<a target=\"_blank\" href=https://colab.research.google.com/notebooks/data_table.ipynb>data table notebook</a>'\n",
              "            + ' to learn more about interactive tables.';\n",
              "          element.innerHTML = '';\n",
              "          dataTable['output_type'] = 'display_data';\n",
              "          await google.colab.output.renderOutput(dataTable, element);\n",
              "          const docLink = document.createElement('div');\n",
              "          docLink.innerHTML = docLinkHtml;\n",
              "          element.appendChild(docLink);\n",
              "        }\n",
              "      </script>\n",
              "    </div>\n",
              "  </div>\n",
              "  "
            ]
          },
          "metadata": {},
          "execution_count": 14
        }
      ]
    },
    {
      "cell_type": "code",
      "source": [
        "def normalize_score(sr_data, high=True, outlier=True):\n",
        "    score = (sr_data - sr_data.mean())/sr_data.std()\n",
        "    score = score if high else -score\n",
        "\n",
        "    if outlier:\n",
        "        high_s = score.quantile(0.99)\n",
        "        low_s = score.quantile(0.01)\n",
        "        score[score > high_s] = high_s\n",
        "        score[score < low_s] = low_s\n",
        "    else:\n",
        "        high_s = score.max()\n",
        "        low_s = score.min()\n",
        "        \n",
        "    return (score - low_s)/(high_s - low_s)\n",
        "\n",
        "\n",
        "def rank_score(sr_data):\n",
        "    size = sr_data.notna().sum()\n",
        "    rank = sr_data.rank()\n",
        "    result = rank.copy()\n",
        "    # 0~1: 15%, 1~2: 20%, 2~3: 30%, 3~4: 20%, 4~5: 15%\n",
        "    level_list = [0.15, (0.15+0.2), (0.15+0.2+0.3), (0.15+0.2+0.3+0.2), 1]\n",
        "    \n",
        "    pre_level = 0\n",
        "    for index, level in enumerate([lv*size for lv in level_list]):\n",
        "        result[(rank > pre_level)&(rank <= level)] = (rank - pre_level)/(level - pre_level) + index\n",
        "        pre_level = level\n",
        "\n",
        "    return result"
      ],
      "metadata": {
        "id": "LdClGOPa7YS5"
      },
      "execution_count": 15,
      "outputs": []
    },
    {
      "cell_type": "markdown",
      "source": [
        "## 小学校スコア"
      ],
      "metadata": {
        "id": "fLroPQUWJHGv"
      }
    },
    {
      "cell_type": "code",
      "source": [
        "all_feature_list = []\n",
        "all_score_list = []"
      ],
      "metadata": {
        "id": "ZOQkcdylNJ6K"
      },
      "execution_count": 16,
      "outputs": []
    },
    {
      "cell_type": "code",
      "source": [
        "score_name = '小学校スコア'\n",
        "feature_list = {\n",
        "    '小学校(最近傍距離)': {'high': False, 'outlier': True, 'weight': 1}, \n",
        "    '小学校のレーティング': {'high': True, 'outlier': True, 'weight': 0.5}, \n",
        "}\n",
        "all_feature_list += list(feature_list.keys())"
      ],
      "metadata": {
        "id": "U7duaODMWsas"
      },
      "execution_count": 17,
      "outputs": []
    },
    {
      "cell_type": "code",
      "source": [
        "for feature_name in feature_list.keys():\n",
        "    sns.histplot(df_pop_master[feature_name], bins=20)\n",
        "    plt.show()"
      ],
      "metadata": {
        "colab": {
          "base_uri": "https://localhost:8080/",
          "height": 539
        },
        "id": "omSbyVRv7Jjj",
        "outputId": "db41b5a7-274a-4a8e-e69b-45e71d490edd"
      },
      "execution_count": 18,
      "outputs": [
        {
          "output_type": "display_data",
          "data": {
            "text/plain": [
              "<Figure size 432x288 with 1 Axes>"
            ],
            "image/png": "[encoded data removed]"
          },
          "metadata": {
            "needs_background": "light"
          }
        },
        {
          "output_type": "display_data",
          "data": {
            "text/plain": [
              "<Figure size 432x288 with 1 Axes>"
            ],
            "image/png": "[encoded data removed]"
          },
          "metadata": {
            "needs_background": "light"
          }
        }
      ]
    },
    {
      "cell_type": "code",
      "source": [
        "for key, value in feature_list.items():\n",
        "    df_pop_master[f'{key}レベル'] = normalize_score(df_pop_master[key], high=value['high'], outlier=value['outlier'])\n",
        "    sns.histplot(df_pop_master[f'{key}レベル'], bins=20)\n",
        "    plt.show()"
      ],
      "metadata": {
        "colab": {
          "base_uri": "https://localhost:8080/",
          "height": 539
        },
        "id": "Uwx_g9_f82WM",
        "outputId": "b57dff5d-7c05-4fa4-ba98-ea512c3a21ad"
      },
      "execution_count": 19,
      "outputs": [
        {
          "output_type": "display_data",
          "data": {
            "text/plain": [
              "<Figure size 432x288 with 1 Axes>"
            ],
            "image/png": "[encoded data removed]"
          },
          "metadata": {
            "needs_background": "light"
          }
        },
        {
          "output_type": "display_data",
          "data": {
            "text/plain": [
              "<Figure size 432x288 with 1 Axes>"
            ],
            "image/png": "[encoded data removed]"
          },
          "metadata": {
            "needs_background": "light"
          }
        }
      ]
    },
    {
      "cell_type": "code",
      "source": [
        "score_list = []\n",
        "for key, value in feature_list.items():\n",
        "    score_list.append(df_pop_master[f'{key}レベル'] * value['weight'])\n",
        "\n",
        "score_sub_name = '_' + score_name\n",
        "df_pop_master[score_sub_name] = normalize_score(pd.concat(score_list, axis=1).sum(axis=1, skipna=False), outlier=False)\n",
        "df_pop_master[score_name] = rank_score(df_pop_master[score_sub_name])\n",
        "\n",
        "score_list = [score_sub_name, score_name]\n",
        "for _score in score_list:\n",
        "    sns.histplot(df_pop_master[_score], bins=20)\n",
        "    plt.show()\n",
        "\n",
        "all_score_list += score_list"
      ],
      "metadata": {
        "colab": {
          "base_uri": "https://localhost:8080/",
          "height": 539
        },
        "id": "NX28XbUB9b2C",
        "outputId": "ea4ad8a3-4ddd-484c-838f-49db7de867cd"
      },
      "execution_count": 20,
      "outputs": [
        {
          "output_type": "display_data",
          "data": {
            "text/plain": [
              "<Figure size 432x288 with 1 Axes>"
            ],
            "image/png": "[encoded data removed]"
          },
          "metadata": {
            "needs_background": "light"
          }
        },
        {
          "output_type": "display_data",
          "data": {
            "text/plain": [
              "<Figure size 432x288 with 1 Axes>"
            ],
            "image/png": "[encoded data removed]"
          },
          "metadata": {
            "needs_background": "light"
          }
        }
      ]
    },
    {
      "cell_type": "markdown",
      "source": [
        "## 中学校スコア"
      ],
      "metadata": {
        "id": "-ba5q_IlLvlS"
      }
    },
    {
      "cell_type": "code",
      "source": [
        "score_name = '中学校スコア'\n",
        "feature_list = {\n",
        "    '中学校(最近傍距離)': {'high': False, 'outlier': True, 'weight': 1}, \n",
        "    '中学校のレーティング': {'high': True, 'outlier': True, 'weight': 0.5}, \n",
        "}\n",
        "all_feature_list += list(feature_list.keys())"
      ],
      "metadata": {
        "id": "n1RCUfWjLyFI"
      },
      "execution_count": 21,
      "outputs": []
    },
    {
      "cell_type": "code",
      "source": [
        "for feature_name in feature_list.keys():\n",
        "    sns.histplot(df_pop_master[feature_name], bins=20)\n",
        "    plt.show()"
      ],
      "metadata": {
        "colab": {
          "base_uri": "https://localhost:8080/",
          "height": 539
        },
        "id": "RNef6VnRL6U1",
        "outputId": "26ec982d-4d96-46eb-aa9f-ba640cb5f775"
      },
      "execution_count": 22,
      "outputs": [
        {
          "output_type": "display_data",
          "data": {
            "text/plain": [
              "<Figure size 432x288 with 1 Axes>"
            ],
            "image/png": "[encoded data removed]"
          },
          "metadata": {
            "needs_background": "light"
          }
        },
        {
          "output_type": "display_data",
          "data": {
            "text/plain": [
              "<Figure size 432x288 with 1 Axes>"
            ],
            "image/png": "[encoded data removed]"
          },
          "metadata": {
            "needs_background": "light"
          }
        }
      ]
    },
    {
      "cell_type": "code",
      "source": [
        "for key, value in feature_list.items():\n",
        "    df_pop_master[f'{key}レベル'] = normalize_score(df_pop_master[key], high=value['high'], outlier=value['outlier'])\n",
        "    sns.histplot(df_pop_master[f'{key}レベル'], bins=20)\n",
        "    plt.show()"
      ],
      "metadata": {
        "colab": {
          "base_uri": "https://localhost:8080/",
          "height": 542
        },
        "id": "ftuyYwvbL66y",
        "outputId": "9a338b11-fc81-4b7a-b6d9-0e01542c0f96"
      },
      "execution_count": 23,
      "outputs": [
        {
          "output_type": "display_data",
          "data": {
            "text/plain": [
              "<Figure size 432x288 with 1 Axes>"
            ],
            "image/png": "[encoded data removed]"
          },
          "metadata": {
            "needs_background": "light"
          }
        },
        {
          "output_type": "display_data",
          "data": {
            "text/plain": [
              "<Figure size 432x288 with 1 Axes>"
            ],
            "image/png": "[encoded data removed]"
          },
          "metadata": {
            "needs_background": "light"
          }
        }
      ]
    },
    {
      "cell_type": "code",
      "source": [
        "score_list = []\n",
        "for key, value in feature_list.items():\n",
        "    score_list.append(df_pop_master[f'{key}レベル'] * value['weight'])\n",
        "\n",
        "score_sub_name = '_' + score_name\n",
        "df_pop_master[score_sub_name] = normalize_score(pd.concat(score_list, axis=1).sum(axis=1, skipna=False), outlier=False)\n",
        "df_pop_master[score_name] = rank_score(df_pop_master[score_sub_name])\n",
        "\n",
        "score_list = [score_sub_name, score_name]\n",
        "for _score in score_list:\n",
        "    sns.histplot(df_pop_master[_score], bins=20)\n",
        "    plt.show()\n",
        "\n",
        "all_score_list += score_list"
      ],
      "metadata": {
        "colab": {
          "base_uri": "https://localhost:8080/",
          "height": 539
        },
        "id": "jeX9EB_FMRh7",
        "outputId": "a6b83e51-ea51-4383-81e0-61a7a9d1db8a"
      },
      "execution_count": 24,
      "outputs": [
        {
          "output_type": "display_data",
          "data": {
            "text/plain": [
              "<Figure size 432x288 with 1 Axes>"
            ],
            "image/png": "[encoded data removed]"
          },
          "metadata": {
            "needs_background": "light"
          }
        },
        {
          "output_type": "display_data",
          "data": {
            "text/plain": [
              "<Figure size 432x288 with 1 Axes>"
            ],
            "image/png": "[encoded data removed]"
          },
          "metadata": {
            "needs_background": "light"
          }
        }
      ]
    },
    {
      "cell_type": "markdown",
      "source": [
        "## 幼稚園スコア"
      ],
      "metadata": {
        "id": "dbAslLpbMcTF"
      }
    },
    {
      "cell_type": "code",
      "source": [
        "score_name = '幼稚園スコア'\n",
        "feature_list = {\n",
        "    '幼稚園(最近傍距離)': {'high': False, 'outlier': True, 'weight': 1}, \n",
        "    '幼稚園のレーティング': {'high': True, 'outlier': True, 'weight': 0.3}, \n",
        "}\n",
        "all_feature_list += list(feature_list.keys())"
      ],
      "metadata": {
        "id": "8OxOvtLeMfa4"
      },
      "execution_count": 25,
      "outputs": []
    },
    {
      "cell_type": "code",
      "source": [
        "for feature_name in feature_list.keys():\n",
        "    sns.histplot(df_pop_master[feature_name], bins=20)\n",
        "    plt.show()"
      ],
      "metadata": {
        "colab": {
          "base_uri": "https://localhost:8080/",
          "height": 541
        },
        "id": "n575E41YMruy",
        "outputId": "628ca424-92f5-44f3-a6b6-e722e44f1fca"
      },
      "execution_count": 26,
      "outputs": [
        {
          "output_type": "display_data",
          "data": {
            "text/plain": [
              "<Figure size 432x288 with 1 Axes>"
            ],
            "image/png": "[encoded data removed]"
          },
          "metadata": {
            "needs_background": "light"
          }
        },
        {
          "output_type": "display_data",
          "data": {
            "text/plain": [
              "<Figure size 432x288 with 1 Axes>"
            ],
            "image/png": "[encoded data removed]"
          },
          "metadata": {
            "needs_background": "light"
          }
        }
      ]
    },
    {
      "cell_type": "code",
      "source": [
        "for key, value in feature_list.items():\n",
        "    df_pop_master[f'{key}レベル'] = normalize_score(df_pop_master[key], high=value['high'], outlier=value['outlier'])\n",
        "    sns.histplot(df_pop_master[f'{key}レベル'], bins=20)\n",
        "    plt.show()"
      ],
      "metadata": {
        "colab": {
          "base_uri": "https://localhost:8080/",
          "height": 541
        },
        "id": "KzzmzfqrMtql",
        "outputId": "3f782778-954a-42b2-894d-88c2acb78fdd"
      },
      "execution_count": 27,
      "outputs": [
        {
          "output_type": "display_data",
          "data": {
            "text/plain": [
              "<Figure size 432x288 with 1 Axes>"
            ],
            "image/png": "[encoded data removed]"
          },
          "metadata": {
            "needs_background": "light"
          }
        },
        {
          "output_type": "display_data",
          "data": {
            "text/plain": [
              "<Figure size 432x288 with 1 Axes>"
            ],
            "image/png": "[encoded data removed]"
          },
          "metadata": {
            "needs_background": "light"
          }
        }
      ]
    },
    {
      "cell_type": "code",
      "source": [
        "score_list = []\n",
        "for key, value in feature_list.items():\n",
        "    score_list.append(df_pop_master[f'{key}レベル'] * value['weight'])\n",
        "\n",
        "score_sub_name = '_' + score_name\n",
        "df_pop_master[score_sub_name] = normalize_score(pd.concat(score_list, axis=1).sum(axis=1, skipna=False), outlier=False)\n",
        "df_pop_master[score_name] = rank_score(df_pop_master[score_sub_name])\n",
        "\n",
        "score_list = [score_sub_name, score_name]\n",
        "for _score in score_list:\n",
        "    sns.histplot(df_pop_master[_score], bins=20)\n",
        "    plt.show()\n",
        "\n",
        "all_score_list += score_list"
      ],
      "metadata": {
        "colab": {
          "base_uri": "https://localhost:8080/",
          "height": 539
        },
        "id": "FH8tG056M9sQ",
        "outputId": "23b31f73-d95d-421e-e2d1-7e0b031515d4"
      },
      "execution_count": 28,
      "outputs": [
        {
          "output_type": "display_data",
          "data": {
            "text/plain": [
              "<Figure size 432x288 with 1 Axes>"
            ],
            "image/png": "[encoded data removed]"
          },
          "metadata": {
            "needs_background": "light"
          }
        },
        {
          "output_type": "display_data",
          "data": {
            "text/plain": [
              "<Figure size 432x288 with 1 Axes>"
            ],
            "image/png": "[encoded data removed]"
          },
          "metadata": {
            "needs_background": "light"
          }
        }
      ]
    },
    {
      "cell_type": "markdown",
      "source": [
        "## 保存"
      ],
      "metadata": {
        "id": "bRlK-CaYJ7Yj"
      }
    },
    {
      "cell_type": "code",
      "source": [
        "all_feature_list"
      ],
      "metadata": {
        "colab": {
          "base_uri": "https://localhost:8080/"
        },
        "id": "-kMb95bfOIbh",
        "outputId": "a75b2af8-4158-4eb9-c13c-49e219a6a779"
      },
      "execution_count": 29,
      "outputs": [
        {
          "output_type": "execute_result",
          "data": {
            "text/plain": [
              "['小学校(最近傍距離)',\n",
              " '小学校のレーティング',\n",
              " '中学校(最近傍距離)',\n",
              " '中学校のレーティング',\n",
              " '幼稚園(最近傍距離)',\n",
              " '幼稚園のレーティング']"
            ]
          },
          "metadata": {},
          "execution_count": 29
        }
      ]
    },
    {
      "cell_type": "code",
      "source": [
        "all_score_list"
      ],
      "metadata": {
        "colab": {
          "base_uri": "https://localhost:8080/"
        },
        "id": "CUuxJ9EwOHC2",
        "outputId": "5250c04a-1bbc-42a9-c07b-5a66dda96f2c"
      },
      "execution_count": 30,
      "outputs": [
        {
          "output_type": "execute_result",
          "data": {
            "text/plain": [
              "['_小学校スコア', '小学校スコア', '_中学校スコア', '中学校スコア', '_幼稚園スコア', '幼稚園スコア']"
            ]
          },
          "metadata": {},
          "execution_count": 30
        }
      ]
    },
    {
      "cell_type": "code",
      "source": [
        "df_pop_master[\n",
        "    ['地域ID', '市区町村名', '町丁目'] + all_feature_list + ['最寄りの小学校', '最寄りの中学校', '最寄りの幼稚園'] + all_score_list\n",
        "].to_csv(os.path.join(DIR_NAME, output_score_file), index=False)"
      ],
      "metadata": {
        "id": "mGvdhIyy9-kN"
      },
      "execution_count": 31,
      "outputs": []
    },
    {
      "cell_type": "markdown",
      "source": [
        "## 区ごとのスコア確認"
      ],
      "metadata": {
        "id": "uPUEdJZ3PNmx"
      }
    },
    {
      "cell_type": "code",
      "source": [
        "for _score in ['小学校スコア', '中学校スコア', '幼稚園スコア']:\n",
        "    plt.figure(figsize=(15, 5))\n",
        "    sns.barplot(x='市区町村名', y=_score, data=df_pop_master)\n",
        "    plt.show()"
      ],
      "metadata": {
        "colab": {
          "base_uri": "https://localhost:8080/",
          "height": 965
        },
        "id": "ufGDZQX3-lnp",
        "outputId": "7d7000ee-0029-4838-f89e-2d528a77c3dc"
      },
      "execution_count": 32,
      "outputs": [
        {
          "output_type": "display_data",
          "data": {
            "text/plain": [
              "<Figure size 1080x360 with 1 Axes>"
            ],
            "image/png": "[encoded data removed]"
          },
          "metadata": {
            "needs_background": "light"
          }
        },
        {
          "output_type": "display_data",
          "data": {
            "text/plain": [
              "<Figure size 1080x360 with 1 Axes>"
            ],
            "image/png": "[encoded data removed]"
          },
          "metadata": {
            "needs_background": "light"
          }
        },
        {
          "output_type": "display_data",
          "data": {
            "text/plain": [
              "<Figure size 1080x360 with 1 Axes>"
            ],
            "image/png": "[encoded data removed]"
          },
          "metadata": {
            "needs_background": "light"
          }
        }
      ]
    },
    {
      "cell_type": "code",
      "source": [],
      "metadata": {
        "id": "KwfMlqDrBmKa"
      },
      "execution_count": 32,
      "outputs": []
    }
  ]
}