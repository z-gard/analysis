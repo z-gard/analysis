{
  "nbformat": 4,
  "nbformat_minor": 0,
  "metadata": {
    "colab": {
      "provenance": [],
      "authorship_tag": "ABX9TyMhBinV5OZaraSl4gVW6Aes",
      "include_colab_link": true
    },
    "kernelspec": {
      "name": "python3",
      "display_name": "Python 3"
    },
    "language_info": {
      "name": "python"
    }
  },
  "cells": [
    {
      "cell_type": "markdown",
      "metadata": {
        "id": "view-in-github",
        "colab_type": "text"
      },
      "source": [
        "<a href=\"https://colab.research.google.com/github/z-gard/analysis/blob/main/notebooks/public_school_score.ipynb\" target=\"_parent\"><img src=\"https://colab.research.google.com/assets/colab-badge.svg\" alt=\"Open In Colab\"/></a>"
      ]
    },
    {
      "cell_type": "markdown",
      "source": [
        "# 公立学校スコア\n",
        "- input\n",
        "    - public_school_master.csv\n",
        "        - 小学校の位置とレーティング\n",
        "        - 中学校の位置とレーティング\n",
        "        - 中学校の位置とレーティング\n",
        "- output\n",
        "    - public_school_score.csv\n",
        "        - 小学校スコア\n",
        "        - 中学校スコア\n",
        "        - 幼稚園スコア"
      ],
      "metadata": {
        "id": "kP0WeYTi3sb3"
      }
    },
    {
      "cell_type": "code",
      "source": [
        "!pip install -q japanize-matplotlib"
      ],
      "metadata": {
        "id": "E9YHHF2F37-N"
      },
      "execution_count": 1,
      "outputs": []
    },
    {
      "cell_type": "code",
      "execution_count": 2,
      "metadata": {
        "colab": {
          "base_uri": "https://localhost:8080/"
        },
        "id": "w4KT6mck3nOo",
        "outputId": "aafcc2ea-4d80-4371-8456-d294312055c3"
      },
      "outputs": [
        {
          "output_type": "stream",
          "name": "stdout",
          "text": [
            "Drive already mounted at /content/drive; to attempt to forcibly remount, call drive.mount(\"/content/drive\", force_remount=True).\n"
          ]
        }
      ],
      "source": [
        "from google.colab import drive\n",
        "drive.mount('/content/drive')"
      ]
    },
    {
      "cell_type": "code",
      "source": [
        "DIR_NAME = '/content/drive/MyDrive/z-gard/data'"
      ],
      "metadata": {
        "id": "ScoGtQsV3sA0"
      },
      "execution_count": 3,
      "outputs": []
    },
    {
      "cell_type": "code",
      "source": [
        "import os\n",
        "import requests\n",
        "import json\n",
        "import pandas as pd\n",
        "from urllib.parse import urlparse, quote\n",
        "import io\n",
        "import math\n",
        "import numpy as np\n",
        "import matplotlib.pyplot as plt\n",
        "import japanize_matplotlib\n",
        "import seaborn as sns\n",
        "\n",
        "pd.set_option('display.max_columns', 50)\n",
        "pd.set_option('display.max_rows', 100)"
      ],
      "metadata": {
        "id": "1ef9tlAW3zxE"
      },
      "execution_count": 4,
      "outputs": []
    },
    {
      "cell_type": "code",
      "source": [
        "output_score_file = 'public_school_score.csv'"
      ],
      "metadata": {
        "id": "yRV4HuouJ1TX"
      },
      "execution_count": 5,
      "outputs": []
    },
    {
      "cell_type": "markdown",
      "source": [
        "### 人口マスタ"
      ],
      "metadata": {
        "id": "XRO-NFWf4Gnn"
      }
    },
    {
      "cell_type": "code",
      "source": [
        "df_pop_master = pd.read_csv(os.path.join(DIR_NAME, 'population_master.csv'))[['地域ID', '市区町村名', '町名', '町丁目', '緯度', '経度']]\n",
        "print(df_pop_master.shape)"
      ],
      "metadata": {
        "colab": {
          "base_uri": "https://localhost:8080/"
        },
        "id": "hD-7wSVN4BH0",
        "outputId": "3a9c50da-6303-4b7e-fa67-f30ffcc65201"
      },
      "execution_count": 6,
      "outputs": [
        {
          "output_type": "stream",
          "name": "stdout",
          "text": [
            "(3145, 6)\n"
          ]
        }
      ]
    },
    {
      "cell_type": "markdown",
      "source": [
        "### 学校"
      ],
      "metadata": {
        "id": "2-pBdXmw4Ktq"
      }
    },
    {
      "cell_type": "code",
      "source": [
        "df_school_master = pd.read_csv(os.path.join(DIR_NAME, 'public_school_master.csv'))[['学校番号', '施設分類', '市区町村名', '名称', '緯度', '経度', 'rating']]\n",
        "df_school_master['学校番号'] = df_school_master['学校番号'].astype(str)\n",
        "print(df_school_master.shape)"
      ],
      "metadata": {
        "colab": {
          "base_uri": "https://localhost:8080/"
        },
        "id": "bZ7JBlaa4JtN",
        "outputId": "8448b148-88f3-42fd-eec9-990ffe45b4a9"
      },
      "execution_count": 7,
      "outputs": [
        {
          "output_type": "stream",
          "name": "stdout",
          "text": [
            "(1363, 7)\n"
          ]
        }
      ]
    },
    {
      "cell_type": "code",
      "source": [
        "# レーティングが0.0 の学校は、NaNにする\n",
        "df_school_master.loc[df_school_master['rating'] == 0, 'rating'] = np.NaN\n",
        "print(len(df_school_master[df_school_master['rating'].isna()]))"
      ],
      "metadata": {
        "id": "QDXw302IR-4K",
        "outputId": "68855ae9-1a8f-4e33-c525-c1b6cc06ed10",
        "colab": {
          "base_uri": "https://localhost:8080/"
        }
      },
      "execution_count": 8,
      "outputs": [
        {
          "output_type": "stream",
          "name": "stdout",
          "text": [
            "83\n"
          ]
        }
      ]
    },
    {
      "cell_type": "code",
      "source": [
        "df_school_master.head()"
      ],
      "metadata": {
        "colab": {
          "base_uri": "https://localhost:8080/",
          "height": 206
        },
        "id": "4l7rTSqAT231",
        "outputId": "4db6a3a9-1f0f-4ab8-852b-799a123d7bb5"
      },
      "execution_count": 9,
      "outputs": [
        {
          "output_type": "execute_result",
          "data": {
            "text/plain": [
              "     学校番号 施設分類 市区町村名            名称         緯度          経度  rating\n",
              "0  101150  幼稚園  千代田区    千代田区立麹町幼稚園  35.685691  139.740164     NaN\n",
              "1  101160  幼稚園  千代田区    千代田区立九段幼稚園  35.690666  139.741195     NaN\n",
              "2  101170  幼稚園  千代田区    千代田区立番町幼稚園  35.687629  139.733426     5.0\n",
              "3  101190  幼稚園  千代田区  千代田区立お茶の水幼稚園  35.697445  139.748569     4.0\n",
              "4  101200  幼稚園  千代田区   千代田区立千代田幼稚園  35.693169  139.768274     NaN"
            ],
            "text/html": [
              "\n",
              "  <div id=\"df-abb3a65b-6f03-4349-bf65-61671d81c763\">\n",
              "    <div class=\"colab-df-container\">\n",
              "      <div>\n",
              "<style scoped>\n",
              "    .dataframe tbody tr th:only-of-type {\n",
              "        vertical-align: middle;\n",
              "    }\n",
              "\n",
              "    .dataframe tbody tr th {\n",
              "        vertical-align: top;\n",
              "    }\n",
              "\n",
              "    .dataframe thead th {\n",
              "        text-align: right;\n",
              "    }\n",
              "</style>\n",
              "<table border=\"1\" class=\"dataframe\">\n",
              "  <thead>\n",
              "    <tr style=\"text-align: right;\">\n",
              "      <th></th>\n",
              "      <th>学校番号</th>\n",
              "      <th>施設分類</th>\n",
              "      <th>市区町村名</th>\n",
              "      <th>名称</th>\n",
              "      <th>緯度</th>\n",
              "      <th>経度</th>\n",
              "      <th>rating</th>\n",
              "    </tr>\n",
              "  </thead>\n",
              "  <tbody>\n",
              "    <tr>\n",
              "      <th>0</th>\n",
              "      <td>101150</td>\n",
              "      <td>幼稚園</td>\n",
              "      <td>千代田区</td>\n",
              "      <td>千代田区立麹町幼稚園</td>\n",
              "      <td>35.685691</td>\n",
              "      <td>139.740164</td>\n",
              "      <td>NaN</td>\n",
              "    </tr>\n",
              "    <tr>\n",
              "      <th>1</th>\n",
              "      <td>101160</td>\n",
              "      <td>幼稚園</td>\n",
              "      <td>千代田区</td>\n",
              "      <td>千代田区立九段幼稚園</td>\n",
              "      <td>35.690666</td>\n",
              "      <td>139.741195</td>\n",
              "      <td>NaN</td>\n",
              "    </tr>\n",
              "    <tr>\n",
              "      <th>2</th>\n",
              "      <td>101170</td>\n",
              "      <td>幼稚園</td>\n",
              "      <td>千代田区</td>\n",
              "      <td>千代田区立番町幼稚園</td>\n",
              "      <td>35.687629</td>\n",
              "      <td>139.733426</td>\n",
              "      <td>5.0</td>\n",
              "    </tr>\n",
              "    <tr>\n",
              "      <th>3</th>\n",
              "      <td>101190</td>\n",
              "      <td>幼稚園</td>\n",
              "      <td>千代田区</td>\n",
              "      <td>千代田区立お茶の水幼稚園</td>\n",
              "      <td>35.697445</td>\n",
              "      <td>139.748569</td>\n",
              "      <td>4.0</td>\n",
              "    </tr>\n",
              "    <tr>\n",
              "      <th>4</th>\n",
              "      <td>101200</td>\n",
              "      <td>幼稚園</td>\n",
              "      <td>千代田区</td>\n",
              "      <td>千代田区立千代田幼稚園</td>\n",
              "      <td>35.693169</td>\n",
              "      <td>139.768274</td>\n",
              "      <td>NaN</td>\n",
              "    </tr>\n",
              "  </tbody>\n",
              "</table>\n",
              "</div>\n",
              "      <button class=\"colab-df-convert\" onclick=\"convertToInteractive('df-abb3a65b-6f03-4349-bf65-61671d81c763')\"\n",
              "              title=\"Convert this dataframe to an interactive table.\"\n",
              "              style=\"display:none;\">\n",
              "        \n",
              "  <svg xmlns=\"http://www.w3.org/2000/svg\" height=\"24px\"viewBox=\"0 0 24 24\"\n",
              "       width=\"24px\">\n",
              "    <path d=\"M0 0h24v24H0V0z\" fill=\"none\"/>\n",
              "    <path d=\"M18.56 5.44l.94 2.06.94-2.06 2.06-.94-2.06-.94-.94-2.06-.94 2.06-2.06.94zm-11 1L8.5 8.5l.94-2.06 2.06-.94-2.06-.94L8.5 2.5l-.94 2.06-2.06.94zm10 10l.94 2.06.94-2.06 2.06-.94-2.06-.94-.94-2.06-.94 2.06-2.06.94z\"/><path d=\"M17.41 7.96l-1.37-1.37c-.4-.4-.92-.59-1.43-.59-.52 0-1.04.2-1.43.59L10.3 9.45l-7.72 7.72c-.78.78-.78 2.05 0 2.83L4 21.41c.39.39.9.59 1.41.59.51 0 1.02-.2 1.41-.59l7.78-7.78 2.81-2.81c.8-.78.8-2.07 0-2.86zM5.41 20L4 18.59l7.72-7.72 1.47 1.35L5.41 20z\"/>\n",
              "  </svg>\n",
              "      </button>\n",
              "      \n",
              "  <style>\n",
              "    .colab-df-container {\n",
              "      display:flex;\n",
              "      flex-wrap:wrap;\n",
              "      gap: 12px;\n",
              "    }\n",
              "\n",
              "    .colab-df-convert {\n",
              "      background-color: #E8F0FE;\n",
              "      border: none;\n",
              "      border-radius: 50%;\n",
              "      cursor: pointer;\n",
              "      display: none;\n",
              "      fill: #1967D2;\n",
              "      height: 32px;\n",
              "      padding: 0 0 0 0;\n",
              "      width: 32px;\n",
              "    }\n",
              "\n",
              "    .colab-df-convert:hover {\n",
              "      background-color: #E2EBFA;\n",
              "      box-shadow: 0px 1px 2px rgba(60, 64, 67, 0.3), 0px 1px 3px 1px rgba(60, 64, 67, 0.15);\n",
              "      fill: #174EA6;\n",
              "    }\n",
              "\n",
              "    [theme=dark] .colab-df-convert {\n",
              "      background-color: #3B4455;\n",
              "      fill: #D2E3FC;\n",
              "    }\n",
              "\n",
              "    [theme=dark] .colab-df-convert:hover {\n",
              "      background-color: #434B5C;\n",
              "      box-shadow: 0px 1px 3px 1px rgba(0, 0, 0, 0.15);\n",
              "      filter: drop-shadow(0px 1px 2px rgba(0, 0, 0, 0.3));\n",
              "      fill: #FFFFFF;\n",
              "    }\n",
              "  </style>\n",
              "\n",
              "      <script>\n",
              "        const buttonEl =\n",
              "          document.querySelector('#df-abb3a65b-6f03-4349-bf65-61671d81c763 button.colab-df-convert');\n",
              "        buttonEl.style.display =\n",
              "          google.colab.kernel.accessAllowed ? 'block' : 'none';\n",
              "\n",
              "        async function convertToInteractive(key) {\n",
              "          const element = document.querySelector('#df-abb3a65b-6f03-4349-bf65-61671d81c763');\n",
              "          const dataTable =\n",
              "            await google.colab.kernel.invokeFunction('convertToInteractive',\n",
              "                                                     [key], {});\n",
              "          if (!dataTable) return;\n",
              "\n",
              "          const docLinkHtml = 'Like what you see? Visit the ' +\n",
              "            '<a target=\"_blank\" href=https://colab.research.google.com/notebooks/data_table.ipynb>data table notebook</a>'\n",
              "            + ' to learn more about interactive tables.';\n",
              "          element.innerHTML = '';\n",
              "          dataTable['output_type'] = 'display_data';\n",
              "          await google.colab.output.renderOutput(dataTable, element);\n",
              "          const docLink = document.createElement('div');\n",
              "          docLink.innerHTML = docLinkHtml;\n",
              "          element.appendChild(docLink);\n",
              "        }\n",
              "      </script>\n",
              "    </div>\n",
              "  </div>\n",
              "  "
            ]
          },
          "metadata": {},
          "execution_count": 9
        }
      ]
    },
    {
      "cell_type": "code",
      "source": [
        "# 距離計算\n",
        "def get_distance(lat1, lon1, lat2, lon2):\n",
        "    _lat1 = lat1 * math.pi / 180\n",
        "    _lon1 = lon1 * math.pi / 180\n",
        "    _lat2 = lat2 * math.pi / 180\n",
        "    _lon2 = lon2 * math.pi / 180\n",
        "    _tmp = math.cos(_lat1) * math.cos(_lat2) * math.cos(_lon2 - _lon1) + math.sin(_lat1) * math.sin(_lat2)\n",
        "    _tmp = 1 if _tmp > 1 else -1 if _tmp < -1 else _tmp\n",
        "    return 6371 * math.acos(_tmp)\n",
        "\n",
        "# 最寄り施設までの距離\n",
        "def get_value_of_nearest_facility(df_master, df_facility, category, method='min', param=3):\n",
        "    _df_cat = df_facility[df_facility['施設分類'] == category].reset_index(drop=True)\n",
        "    cat_values = []\n",
        "    for i, row in df_master.iterrows():\n",
        "        dist = _df_cat.apply(lambda x: get_distance(x['緯度'], x['経度'], row['緯度'], row['経度']), axis=1)\n",
        "        val = None\n",
        "        if method == 'min':\n",
        "            # 最小の距離\n",
        "            val = dist.min()\n",
        "        elif method == 'min_param':\n",
        "            # 最小の距離の時の他のパラメータを返す\n",
        "            min_idx = dist.idxmin()\n",
        "            if np.isnan(min_idx):\n",
        "                val = np.NaN\n",
        "            else:\n",
        "                val = _df_cat.iloc[min_idx][param]\n",
        "        elif method == 'count':\n",
        "            # {param}km以内の施設の数をカウント\n",
        "            val = len(dist[dist <= param])\n",
        "        elif method == 'mean':\n",
        "            # 近い{param}件の距離の平均\n",
        "            val = dist.sort_values()[:param].mean()\n",
        "        cat_values.append(val)\n",
        "    return cat_values"
      ],
      "metadata": {
        "id": "_zuCoLhg48ZN"
      },
      "execution_count": 10,
      "outputs": []
    },
    {
      "cell_type": "markdown",
      "source": [
        "### スコア"
      ],
      "metadata": {
        "id": "IILAQB3vA02_"
      }
    },
    {
      "cell_type": "code",
      "source": [
        "%%time\n",
        "# 一番近い施設の距離\n",
        "df_pop_master['小学校(最近傍距離)'] = get_value_of_nearest_facility(df_pop_master, df_school_master, '小学校', 'min')\n",
        "# 一番近い施設の距離\n",
        "df_pop_master['中学校(最近傍距離)'] = get_value_of_nearest_facility(df_pop_master, df_school_master, '中学校', 'min')\n",
        "# 一番近い施設の距離\n",
        "df_pop_master['幼稚園(最近傍距離)'] = get_value_of_nearest_facility(df_pop_master, df_school_master, '幼稚園', 'min')\n",
        "# 最寄りの小学校\n",
        "df_pop_master['小学校(学校番号)'] = get_value_of_nearest_facility(df_pop_master, df_school_master, '小学校', 'min_param', '学校番号')\n",
        "# 最寄りの中学校\n",
        "df_pop_master['中学校(学校番号)'] = get_value_of_nearest_facility(df_pop_master, df_school_master, '中学校', 'min_param', '学校番号')\n",
        "# 最寄りの幼稚園\n",
        "df_pop_master['幼稚園(学校番号)'] = get_value_of_nearest_facility(df_pop_master, df_school_master, '幼稚園', 'min_param', '学校番号')"
      ],
      "metadata": {
        "colab": {
          "base_uri": "https://localhost:8080/"
        },
        "id": "GOWzRaqi5JH2",
        "outputId": "676aed03-3a42-4807-eb14-e2ae3c5baf45"
      },
      "execution_count": 11,
      "outputs": [
        {
          "output_type": "stream",
          "name": "stdout",
          "text": [
            "CPU times: user 2min 40s, sys: 1.04 s, total: 2min 41s\n",
            "Wall time: 2min 45s\n"
          ]
        }
      ]
    },
    {
      "cell_type": "code",
      "source": [
        "df_pop_master_merge = pd.merge(\n",
        "    df_pop_master, \n",
        "    df_school_master[['学校番号', '名称', 'rating']].rename(columns={'学校番号': '小学校(学校番号)', '名称':'最寄りの小学校', 'rating':'小学校のレーティング'}), \n",
        "    on='小学校(学校番号)', how='left'\n",
        ")\n",
        "df_pop_master_merge = pd.merge(\n",
        "    df_pop_master_merge, \n",
        "    df_school_master[['学校番号', '名称', 'rating']].rename(columns={'学校番号': '中学校(学校番号)', '名称':'最寄りの中学校', 'rating':'中学校のレーティング'}), \n",
        "    on='中学校(学校番号)', how='left'\n",
        ")\n",
        "df_pop_master_merge = pd.merge(\n",
        "    df_pop_master_merge, \n",
        "    df_school_master[['学校番号', '名称', 'rating']].rename(columns={'学校番号': '幼稚園(学校番号)', '名称':'最寄りの幼稚園', 'rating':'幼稚園のレーティング'}), \n",
        "    on='幼稚園(学校番号)', how='left'\n",
        ")\n",
        "df_pop_master_merge = df_pop_master_merge.drop(columns=['緯度', '経度', '小学校(学校番号)', '中学校(学校番号)', '幼稚園(学校番号)'])\n",
        "print(df_pop_master_merge.shape)"
      ],
      "metadata": {
        "colab": {
          "base_uri": "https://localhost:8080/"
        },
        "id": "MQlpmb2jTdZs",
        "outputId": "89bd21e9-80bc-4ce7-a713-83fdb3f5b7da"
      },
      "execution_count": 12,
      "outputs": [
        {
          "output_type": "stream",
          "name": "stdout",
          "text": [
            "(3145, 13)\n"
          ]
        }
      ]
    },
    {
      "cell_type": "code",
      "source": [
        "# レーティングがNaNの場合は、平均レーティングで埋める\n",
        "for target in ['小学校', '中学校', '幼稚園']:\n",
        "    # 同じ町の平均レーティング\n",
        "    mean_rating = df_pop_master_merge.groupby(['市区町村名', '町名'])[f'{target}のレーティング'].transform('mean').round(2)\n",
        "    df_pop_master_merge[f'{target}のレーティング'] = df_pop_master_merge[f'{target}のレーティング'].fillna(mean_rating)\n",
        "    # それでもNaNの場合は、同じ区の平均レーティング\n",
        "    mean_rating = df_pop_master_merge.groupby(['市区町村名'])[f'{target}のレーティング'].transform('mean').round(2)\n",
        "    df_pop_master_merge[f'{target}のレーティング'] = df_pop_master_merge[f'{target}のレーティング'].fillna(mean_rating)"
      ],
      "metadata": {
        "id": "cDWyUS9AvtsQ"
      },
      "execution_count": 13,
      "outputs": []
    },
    {
      "cell_type": "code",
      "source": [
        "assert len(df_pop_master_merge) == len(df_pop_master)\n",
        "df_pop_master = df_pop_master_merge"
      ],
      "metadata": {
        "id": "rAXQrX6FUnNF"
      },
      "execution_count": 14,
      "outputs": []
    },
    {
      "cell_type": "code",
      "source": [
        "print(df_pop_master.shape)\n",
        "df_pop_master.head()"
      ],
      "metadata": {
        "colab": {
          "base_uri": "https://localhost:8080/",
          "height": 372
        },
        "id": "GbdMQ-rc7G9B",
        "outputId": "11090853-7636-4b2a-89f5-d0a10523da60"
      },
      "execution_count": 15,
      "outputs": [
        {
          "output_type": "stream",
          "name": "stdout",
          "text": [
            "(3145, 13)\n"
          ]
        },
        {
          "output_type": "execute_result",
          "data": {
            "text/plain": [
              "     地域ID 市区町村名   町名     町丁目  小学校(最近傍距離)  中学校(最近傍距離)  幼稚園(最近傍距離)    最寄りの小学校  \\\n",
              "0  101003  千代田区  丸の内  丸の内１丁目    0.342000    1.700911    0.298203  中央区立城東小学校   \n",
              "1  101004  千代田区  丸の内  丸の内２丁目    0.524351    1.630921    0.505898  中央区立城東小学校   \n",
              "2  101005  千代田区  丸の内  丸の内３丁目    0.557686    1.277244    0.564959  中央区立城東小学校   \n",
              "3  101007  千代田区  大手町  大手町１丁目    0.555875    0.961946    0.555725  中央区立常盤小学校   \n",
              "4  101008  千代田区  大手町  大手町２丁目    0.258117    1.364439    0.255021  中央区立常盤小学校   \n",
              "\n",
              "   小学校のレーティング       最寄りの中学校  中学校のレーティング    最寄りの幼稚園  幼稚園のレーティング  \n",
              "0         4.1  千代田区立神田一橋中学校         3.5  中央区立昭和幼稚園         3.4  \n",
              "1         4.1     中央区立銀座中学校         3.5  中央区立昭和幼稚園         3.4  \n",
              "2         4.1     中央区立銀座中学校         3.5  中央区立泰明幼稚園         3.4  \n",
              "3         4.2  千代田区立神田一橋中学校         3.5  中央区立常盤幼稚園         3.0  \n",
              "4         4.2  千代田区立神田一橋中学校         3.5  中央区立常盤幼稚園         3.0  "
            ],
            "text/html": [
              "\n",
              "  <div id=\"df-e7909bdc-dd82-4dd3-b199-fbf69cedb31a\">\n",
              "    <div class=\"colab-df-container\">\n",
              "      <div>\n",
              "<style scoped>\n",
              "    .dataframe tbody tr th:only-of-type {\n",
              "        vertical-align: middle;\n",
              "    }\n",
              "\n",
              "    .dataframe tbody tr th {\n",
              "        vertical-align: top;\n",
              "    }\n",
              "\n",
              "    .dataframe thead th {\n",
              "        text-align: right;\n",
              "    }\n",
              "</style>\n",
              "<table border=\"1\" class=\"dataframe\">\n",
              "  <thead>\n",
              "    <tr style=\"text-align: right;\">\n",
              "      <th></th>\n",
              "      <th>地域ID</th>\n",
              "      <th>市区町村名</th>\n",
              "      <th>町名</th>\n",
              "      <th>町丁目</th>\n",
              "      <th>小学校(最近傍距離)</th>\n",
              "      <th>中学校(最近傍距離)</th>\n",
              "      <th>幼稚園(最近傍距離)</th>\n",
              "      <th>最寄りの小学校</th>\n",
              "      <th>小学校のレーティング</th>\n",
              "      <th>最寄りの中学校</th>\n",
              "      <th>中学校のレーティング</th>\n",
              "      <th>最寄りの幼稚園</th>\n",
              "      <th>幼稚園のレーティング</th>\n",
              "    </tr>\n",
              "  </thead>\n",
              "  <tbody>\n",
              "    <tr>\n",
              "      <th>0</th>\n",
              "      <td>101003</td>\n",
              "      <td>千代田区</td>\n",
              "      <td>丸の内</td>\n",
              "      <td>丸の内１丁目</td>\n",
              "      <td>0.342000</td>\n",
              "      <td>1.700911</td>\n",
              "      <td>0.298203</td>\n",
              "      <td>中央区立城東小学校</td>\n",
              "      <td>4.1</td>\n",
              "      <td>千代田区立神田一橋中学校</td>\n",
              "      <td>3.5</td>\n",
              "      <td>中央区立昭和幼稚園</td>\n",
              "      <td>3.4</td>\n",
              "    </tr>\n",
              "    <tr>\n",
              "      <th>1</th>\n",
              "      <td>101004</td>\n",
              "      <td>千代田区</td>\n",
              "      <td>丸の内</td>\n",
              "      <td>丸の内２丁目</td>\n",
              "      <td>0.524351</td>\n",
              "      <td>1.630921</td>\n",
              "      <td>0.505898</td>\n",
              "      <td>中央区立城東小学校</td>\n",
              "      <td>4.1</td>\n",
              "      <td>中央区立銀座中学校</td>\n",
              "      <td>3.5</td>\n",
              "      <td>中央区立昭和幼稚園</td>\n",
              "      <td>3.4</td>\n",
              "    </tr>\n",
              "    <tr>\n",
              "      <th>2</th>\n",
              "      <td>101005</td>\n",
              "      <td>千代田区</td>\n",
              "      <td>丸の内</td>\n",
              "      <td>丸の内３丁目</td>\n",
              "      <td>0.557686</td>\n",
              "      <td>1.277244</td>\n",
              "      <td>0.564959</td>\n",
              "      <td>中央区立城東小学校</td>\n",
              "      <td>4.1</td>\n",
              "      <td>中央区立銀座中学校</td>\n",
              "      <td>3.5</td>\n",
              "      <td>中央区立泰明幼稚園</td>\n",
              "      <td>3.4</td>\n",
              "    </tr>\n",
              "    <tr>\n",
              "      <th>3</th>\n",
              "      <td>101007</td>\n",
              "      <td>千代田区</td>\n",
              "      <td>大手町</td>\n",
              "      <td>大手町１丁目</td>\n",
              "      <td>0.555875</td>\n",
              "      <td>0.961946</td>\n",
              "      <td>0.555725</td>\n",
              "      <td>中央区立常盤小学校</td>\n",
              "      <td>4.2</td>\n",
              "      <td>千代田区立神田一橋中学校</td>\n",
              "      <td>3.5</td>\n",
              "      <td>中央区立常盤幼稚園</td>\n",
              "      <td>3.0</td>\n",
              "    </tr>\n",
              "    <tr>\n",
              "      <th>4</th>\n",
              "      <td>101008</td>\n",
              "      <td>千代田区</td>\n",
              "      <td>大手町</td>\n",
              "      <td>大手町２丁目</td>\n",
              "      <td>0.258117</td>\n",
              "      <td>1.364439</td>\n",
              "      <td>0.255021</td>\n",
              "      <td>中央区立常盤小学校</td>\n",
              "      <td>4.2</td>\n",
              "      <td>千代田区立神田一橋中学校</td>\n",
              "      <td>3.5</td>\n",
              "      <td>中央区立常盤幼稚園</td>\n",
              "      <td>3.0</td>\n",
              "    </tr>\n",
              "  </tbody>\n",
              "</table>\n",
              "</div>\n",
              "      <button class=\"colab-df-convert\" onclick=\"convertToInteractive('df-e7909bdc-dd82-4dd3-b199-fbf69cedb31a')\"\n",
              "              title=\"Convert this dataframe to an interactive table.\"\n",
              "              style=\"display:none;\">\n",
              "        \n",
              "  <svg xmlns=\"http://www.w3.org/2000/svg\" height=\"24px\"viewBox=\"0 0 24 24\"\n",
              "       width=\"24px\">\n",
              "    <path d=\"M0 0h24v24H0V0z\" fill=\"none\"/>\n",
              "    <path d=\"M18.56 5.44l.94 2.06.94-2.06 2.06-.94-2.06-.94-.94-2.06-.94 2.06-2.06.94zm-11 1L8.5 8.5l.94-2.06 2.06-.94-2.06-.94L8.5 2.5l-.94 2.06-2.06.94zm10 10l.94 2.06.94-2.06 2.06-.94-2.06-.94-.94-2.06-.94 2.06-2.06.94z\"/><path d=\"M17.41 7.96l-1.37-1.37c-.4-.4-.92-.59-1.43-.59-.52 0-1.04.2-1.43.59L10.3 9.45l-7.72 7.72c-.78.78-.78 2.05 0 2.83L4 21.41c.39.39.9.59 1.41.59.51 0 1.02-.2 1.41-.59l7.78-7.78 2.81-2.81c.8-.78.8-2.07 0-2.86zM5.41 20L4 18.59l7.72-7.72 1.47 1.35L5.41 20z\"/>\n",
              "  </svg>\n",
              "      </button>\n",
              "      \n",
              "  <style>\n",
              "    .colab-df-container {\n",
              "      display:flex;\n",
              "      flex-wrap:wrap;\n",
              "      gap: 12px;\n",
              "    }\n",
              "\n",
              "    .colab-df-convert {\n",
              "      background-color: #E8F0FE;\n",
              "      border: none;\n",
              "      border-radius: 50%;\n",
              "      cursor: pointer;\n",
              "      display: none;\n",
              "      fill: #1967D2;\n",
              "      height: 32px;\n",
              "      padding: 0 0 0 0;\n",
              "      width: 32px;\n",
              "    }\n",
              "\n",
              "    .colab-df-convert:hover {\n",
              "      background-color: #E2EBFA;\n",
              "      box-shadow: 0px 1px 2px rgba(60, 64, 67, 0.3), 0px 1px 3px 1px rgba(60, 64, 67, 0.15);\n",
              "      fill: #174EA6;\n",
              "    }\n",
              "\n",
              "    [theme=dark] .colab-df-convert {\n",
              "      background-color: #3B4455;\n",
              "      fill: #D2E3FC;\n",
              "    }\n",
              "\n",
              "    [theme=dark] .colab-df-convert:hover {\n",
              "      background-color: #434B5C;\n",
              "      box-shadow: 0px 1px 3px 1px rgba(0, 0, 0, 0.15);\n",
              "      filter: drop-shadow(0px 1px 2px rgba(0, 0, 0, 0.3));\n",
              "      fill: #FFFFFF;\n",
              "    }\n",
              "  </style>\n",
              "\n",
              "      <script>\n",
              "        const buttonEl =\n",
              "          document.querySelector('#df-e7909bdc-dd82-4dd3-b199-fbf69cedb31a button.colab-df-convert');\n",
              "        buttonEl.style.display =\n",
              "          google.colab.kernel.accessAllowed ? 'block' : 'none';\n",
              "\n",
              "        async function convertToInteractive(key) {\n",
              "          const element = document.querySelector('#df-e7909bdc-dd82-4dd3-b199-fbf69cedb31a');\n",
              "          const dataTable =\n",
              "            await google.colab.kernel.invokeFunction('convertToInteractive',\n",
              "                                                     [key], {});\n",
              "          if (!dataTable) return;\n",
              "\n",
              "          const docLinkHtml = 'Like what you see? Visit the ' +\n",
              "            '<a target=\"_blank\" href=https://colab.research.google.com/notebooks/data_table.ipynb>data table notebook</a>'\n",
              "            + ' to learn more about interactive tables.';\n",
              "          element.innerHTML = '';\n",
              "          dataTable['output_type'] = 'display_data';\n",
              "          await google.colab.output.renderOutput(dataTable, element);\n",
              "          const docLink = document.createElement('div');\n",
              "          docLink.innerHTML = docLinkHtml;\n",
              "          element.appendChild(docLink);\n",
              "        }\n",
              "      </script>\n",
              "    </div>\n",
              "  </div>\n",
              "  "
            ]
          },
          "metadata": {},
          "execution_count": 15
        }
      ]
    },
    {
      "cell_type": "code",
      "source": [
        "import numpy as np\n",
        "from scipy.stats import norm\n",
        "\n",
        "def rank_score(sr_data):\n",
        "    rank = sr_data.rank()\n",
        "    count = rank.max() \n",
        "    x = (rank + 1)/(count + 1)\n",
        "    max_val = 5\n",
        "    y = norm.ppf(x, loc=0.5, scale=0.14)*max_val\n",
        "    return np.clip(y, 0, max_val)"
      ],
      "metadata": {
        "id": "LdClGOPa7YS5"
      },
      "execution_count": 16,
      "outputs": []
    },
    {
      "cell_type": "markdown",
      "source": [
        "## 小学校スコア"
      ],
      "metadata": {
        "id": "fLroPQUWJHGv"
      }
    },
    {
      "cell_type": "code",
      "source": [
        "all_feature_list = []\n",
        "all_score_list = []"
      ],
      "metadata": {
        "id": "ZOQkcdylNJ6K"
      },
      "execution_count": 17,
      "outputs": []
    },
    {
      "cell_type": "code",
      "source": [
        "score_name = '小学校スコア'\n",
        "feature_list = {\n",
        "    '小学校(最近傍距離)': {'sort': -1, 'weight': 0.5}, \n",
        "    '小学校のレーティング': {'sort': 1, 'weight': 1}, \n",
        "}\n",
        "all_feature_list += list(feature_list.keys())\n",
        "all_score_list.append(score_name)"
      ],
      "metadata": {
        "id": "U7duaODMWsas"
      },
      "execution_count": 18,
      "outputs": []
    },
    {
      "cell_type": "code",
      "source": [
        "for feature_name in feature_list.keys():\n",
        "    sns.histplot(df_pop_master[feature_name], bins=20)\n",
        "    plt.show()"
      ],
      "metadata": {
        "colab": {
          "base_uri": "https://localhost:8080/",
          "height": 539
        },
        "id": "omSbyVRv7Jjj",
        "outputId": "31019e96-033a-4fe6-f374-ff7064d23f48"
      },
      "execution_count": 19,
      "outputs": [
        {
          "output_type": "display_data",
          "data": {
            "text/plain": [
              "<Figure size 432x288 with 1 Axes>"
            ],
            "image/png": "[encoded data removed]"
          },
          "metadata": {
            "needs_background": "light"
          }
        },
        {
          "output_type": "display_data",
          "data": {
            "text/plain": [
              "<Figure size 432x288 with 1 Axes>"
            ],
            "image/png": "[encoded data removed]"
          },
          "metadata": {
            "needs_background": "light"
          }
        }
      ]
    },
    {
      "cell_type": "code",
      "source": [
        "score_list = []\n",
        "for key, value in feature_list.items():\n",
        "    df_pop_master[f'{key}レベル'] = rank_score(df_pop_master[key] * value['sort'])\n",
        "    score_list.append(df_pop_master[f'{key}レベル'] * value['weight'])\n",
        "\n",
        "_tmp_score = pd.concat(score_list, axis=1).sum(axis=1, skipna=False)\n",
        "df_pop_master[score_name] = rank_score(_tmp_score)"
      ],
      "metadata": {
        "id": "NX28XbUB9b2C"
      },
      "execution_count": 20,
      "outputs": []
    },
    {
      "cell_type": "code",
      "source": [
        "sns.histplot(_tmp_score, bins=20)\n",
        "plt.show()"
      ],
      "metadata": {
        "id": "zR8rp6QOJr8g",
        "outputId": "67cb30cd-a911-4439-ab6b-af2856e775f9",
        "colab": {
          "base_uri": "https://localhost:8080/",
          "height": 264
        }
      },
      "execution_count": 21,
      "outputs": [
        {
          "output_type": "display_data",
          "data": {
            "text/plain": [
              "<Figure size 432x288 with 1 Axes>"
            ],
            "image/png": "[encoded data removed]"
          },
          "metadata": {
            "needs_background": "light"
          }
        }
      ]
    },
    {
      "cell_type": "code",
      "source": [
        "sns.histplot(df_pop_master[score_name], bins=20)\n",
        "plt.show()"
      ],
      "metadata": {
        "id": "58qh3xRSJpJR",
        "outputId": "df7c1427-dfe3-4548-b02a-2b892272fb9a",
        "colab": {
          "base_uri": "https://localhost:8080/",
          "height": 278
        }
      },
      "execution_count": 22,
      "outputs": [
        {
          "output_type": "display_data",
          "data": {
            "text/plain": [
              "<Figure size 432x288 with 1 Axes>"
            ],
            "image/png": "[encoded data removed]"
          },
          "metadata": {
            "needs_background": "light"
          }
        }
      ]
    },
    {
      "cell_type": "code",
      "source": [
        "df_pop_master[score_name].describe()"
      ],
      "metadata": {
        "id": "go8nBgQoE_rr",
        "outputId": "f0f411d8-60f3-47bd-df44-2d20e8452fed",
        "colab": {
          "base_uri": "https://localhost:8080/"
        }
      },
      "execution_count": 23,
      "outputs": [
        {
          "output_type": "execute_result",
          "data": {
            "text/plain": [
              "count    3141.000000\n",
              "mean        2.501557\n",
              "std         0.698656\n",
              "min         0.244613\n",
              "25%         2.028908\n",
              "50%         2.500558\n",
              "75%         2.972493\n",
              "max         5.000000\n",
              "Name: 小学校スコア, dtype: float64"
            ]
          },
          "metadata": {},
          "execution_count": 23
        }
      ]
    },
    {
      "cell_type": "markdown",
      "source": [
        "## 中学校スコア"
      ],
      "metadata": {
        "id": "-ba5q_IlLvlS"
      }
    },
    {
      "cell_type": "code",
      "source": [
        "score_name = '中学校スコア'\n",
        "feature_list = {\n",
        "    '中学校(最近傍距離)': {'sort': -1, 'weight': 0.5}, \n",
        "    '中学校のレーティング': {'sort': 1, 'weight': 1}, \n",
        "}\n",
        "all_feature_list += list(feature_list.keys())\n",
        "all_score_list.append(score_name)"
      ],
      "metadata": {
        "id": "n1RCUfWjLyFI"
      },
      "execution_count": 24,
      "outputs": []
    },
    {
      "cell_type": "code",
      "source": [
        "for feature_name in feature_list.keys():\n",
        "    sns.histplot(df_pop_master[feature_name], bins=20)\n",
        "    plt.show()"
      ],
      "metadata": {
        "colab": {
          "base_uri": "https://localhost:8080/",
          "height": 539
        },
        "id": "RNef6VnRL6U1",
        "outputId": "95658987-2c38-4f3e-9476-866cb05aa967"
      },
      "execution_count": 25,
      "outputs": [
        {
          "output_type": "display_data",
          "data": {
            "text/plain": [
              "<Figure size 432x288 with 1 Axes>"
            ],
            "image/png": "[encoded data removed]"
          },
          "metadata": {
            "needs_background": "light"
          }
        },
        {
          "output_type": "display_data",
          "data": {
            "text/plain": [
              "<Figure size 432x288 with 1 Axes>"
            ],
            "image/png": "[encoded data removed]"
          },
          "metadata": {
            "needs_background": "light"
          }
        }
      ]
    },
    {
      "cell_type": "code",
      "source": [
        "score_list = []\n",
        "for key, value in feature_list.items():\n",
        "    df_pop_master[f'{key}レベル'] = rank_score(df_pop_master[key] * value['sort'])\n",
        "    score_list.append(df_pop_master[f'{key}レベル'] * value['weight'])\n",
        "\n",
        "_temp_score = pd.concat(score_list, axis=1).sum(axis=1, skipna=False)\n",
        "df_pop_master[score_name] = rank_score(_temp_score)"
      ],
      "metadata": {
        "id": "jeX9EB_FMRh7"
      },
      "execution_count": 26,
      "outputs": []
    },
    {
      "cell_type": "code",
      "source": [
        "sns.histplot(_temp_score, bins=20)\n",
        "plt.show()"
      ],
      "metadata": {
        "id": "o4ws4lTGLo1i",
        "outputId": "f28ea07f-0562-4629-d9e4-c6475d0148f6",
        "colab": {
          "base_uri": "https://localhost:8080/",
          "height": 264
        }
      },
      "execution_count": 27,
      "outputs": [
        {
          "output_type": "display_data",
          "data": {
            "text/plain": [
              "<Figure size 432x288 with 1 Axes>"
            ],
            "image/png": "[encoded data removed]"
          },
          "metadata": {
            "needs_background": "light"
          }
        }
      ]
    },
    {
      "cell_type": "code",
      "source": [
        "sns.histplot(df_pop_master[score_name], bins=20)\n",
        "plt.show()"
      ],
      "metadata": {
        "id": "Gn9HukpHLk_q",
        "outputId": "a54ea388-8ef4-4fb0-b997-ee95f0692eef",
        "colab": {
          "base_uri": "https://localhost:8080/",
          "height": 278
        }
      },
      "execution_count": 28,
      "outputs": [
        {
          "output_type": "display_data",
          "data": {
            "text/plain": [
              "<Figure size 432x288 with 1 Axes>"
            ],
            "image/png": "[encoded data removed]"
          },
          "metadata": {
            "needs_background": "light"
          }
        }
      ]
    },
    {
      "cell_type": "code",
      "source": [
        "df_pop_master[score_name].describe()"
      ],
      "metadata": {
        "id": "U34BsFHNFDFD",
        "outputId": "a1942afd-9d86-4ea6-e957-42a4140a944f",
        "colab": {
          "base_uri": "https://localhost:8080/"
        }
      },
      "execution_count": 29,
      "outputs": [
        {
          "output_type": "execute_result",
          "data": {
            "text/plain": [
              "count    3141.000000\n",
              "mean        2.501557\n",
              "std         0.698656\n",
              "min         0.244613\n",
              "25%         2.028908\n",
              "50%         2.500558\n",
              "75%         2.972493\n",
              "max         5.000000\n",
              "Name: 中学校スコア, dtype: float64"
            ]
          },
          "metadata": {},
          "execution_count": 29
        }
      ]
    },
    {
      "cell_type": "markdown",
      "source": [
        "## 幼稚園スコア"
      ],
      "metadata": {
        "id": "dbAslLpbMcTF"
      }
    },
    {
      "cell_type": "code",
      "source": [
        "score_name = '幼稚園スコア'\n",
        "feature_list = {\n",
        "    '幼稚園(最近傍距離)': {'sort': -1, 'weight': 0.5}, \n",
        "    '幼稚園のレーティング': {'sort': 1, 'weight': 1}, \n",
        "}\n",
        "all_feature_list += list(feature_list.keys())\n",
        "all_score_list.append(score_name)"
      ],
      "metadata": {
        "id": "8OxOvtLeMfa4"
      },
      "execution_count": 30,
      "outputs": []
    },
    {
      "cell_type": "code",
      "source": [
        "for feature_name in feature_list.keys():\n",
        "    sns.histplot(df_pop_master[feature_name], bins=20)\n",
        "    plt.show()"
      ],
      "metadata": {
        "colab": {
          "base_uri": "https://localhost:8080/",
          "height": 541
        },
        "id": "n575E41YMruy",
        "outputId": "8fda1765-a9c0-4fd9-9334-cd4083208c30"
      },
      "execution_count": 31,
      "outputs": [
        {
          "output_type": "display_data",
          "data": {
            "text/plain": [
              "<Figure size 432x288 with 1 Axes>"
            ],
            "image/png": "[encoded data removed]"
          },
          "metadata": {
            "needs_background": "light"
          }
        },
        {
          "output_type": "display_data",
          "data": {
            "text/plain": [
              "<Figure size 432x288 with 1 Axes>"
            ],
            "image/png": "[encoded data removed]"
          },
          "metadata": {
            "needs_background": "light"
          }
        }
      ]
    },
    {
      "cell_type": "code",
      "source": [
        "score_list = []\n",
        "for key, value in feature_list.items():\n",
        "    df_pop_master[f'{key}レベル'] = rank_score(df_pop_master[key] * value['sort'])\n",
        "    score_list.append(df_pop_master[f'{key}レベル'] * value['weight'])\n",
        "\n",
        "_tmp_score = pd.concat(score_list, axis=1).sum(axis=1, skipna=False)\n",
        "df_pop_master[score_name] = rank_score(_tmp_score)"
      ],
      "metadata": {
        "id": "FH8tG056M9sQ"
      },
      "execution_count": 32,
      "outputs": []
    },
    {
      "cell_type": "code",
      "source": [
        "sns.histplot(_temp_score, bins=20)\n",
        "plt.show()"
      ],
      "metadata": {
        "id": "opPG3bZqMFu-",
        "outputId": "797674e7-fbd5-4159-b5a2-dbd977b47379",
        "colab": {
          "base_uri": "https://localhost:8080/",
          "height": 264
        }
      },
      "execution_count": 33,
      "outputs": [
        {
          "output_type": "display_data",
          "data": {
            "text/plain": [
              "<Figure size 432x288 with 1 Axes>"
            ],
            "image/png": "[encoded data removed]"
          },
          "metadata": {
            "needs_background": "light"
          }
        }
      ]
    },
    {
      "cell_type": "code",
      "source": [
        "sns.histplot(df_pop_master[score_name], bins=20)\n",
        "plt.show()"
      ],
      "metadata": {
        "id": "hXEfF8FjMJcs",
        "outputId": "bceec3ae-b50a-4a5e-e9c8-d30963fa1937",
        "colab": {
          "base_uri": "https://localhost:8080/",
          "height": 278
        }
      },
      "execution_count": 34,
      "outputs": [
        {
          "output_type": "display_data",
          "data": {
            "text/plain": [
              "<Figure size 432x288 with 1 Axes>"
            ],
            "image/png": "[encoded data removed]"
          },
          "metadata": {
            "needs_background": "light"
          }
        }
      ]
    },
    {
      "cell_type": "code",
      "source": [
        "df_pop_master[score_name].describe()"
      ],
      "metadata": {
        "id": "q6gaC9IOFEVN",
        "outputId": "98363d42-69d3-4c28-fea3-06941040aad6",
        "colab": {
          "base_uri": "https://localhost:8080/"
        }
      },
      "execution_count": 35,
      "outputs": [
        {
          "output_type": "execute_result",
          "data": {
            "text/plain": [
              "count    3141.000000\n",
              "mean        2.501557\n",
              "std         0.698656\n",
              "min         0.244613\n",
              "25%         2.028908\n",
              "50%         2.500558\n",
              "75%         2.972493\n",
              "max         5.000000\n",
              "Name: 幼稚園スコア, dtype: float64"
            ]
          },
          "metadata": {},
          "execution_count": 35
        }
      ]
    },
    {
      "cell_type": "markdown",
      "source": [
        "## 保存"
      ],
      "metadata": {
        "id": "bRlK-CaYJ7Yj"
      }
    },
    {
      "cell_type": "code",
      "source": [
        "all_feature_list"
      ],
      "metadata": {
        "colab": {
          "base_uri": "https://localhost:8080/"
        },
        "id": "-kMb95bfOIbh",
        "outputId": "01f379fb-48c8-43eb-b485-7e3f4931530a"
      },
      "execution_count": 36,
      "outputs": [
        {
          "output_type": "execute_result",
          "data": {
            "text/plain": [
              "['小学校(最近傍距離)',\n",
              " '小学校のレーティング',\n",
              " '中学校(最近傍距離)',\n",
              " '中学校のレーティング',\n",
              " '幼稚園(最近傍距離)',\n",
              " '幼稚園のレーティング']"
            ]
          },
          "metadata": {},
          "execution_count": 36
        }
      ]
    },
    {
      "cell_type": "code",
      "source": [
        "all_score_list"
      ],
      "metadata": {
        "colab": {
          "base_uri": "https://localhost:8080/"
        },
        "id": "CUuxJ9EwOHC2",
        "outputId": "37605825-0ec2-4694-bdc4-fc3221047253"
      },
      "execution_count": 37,
      "outputs": [
        {
          "output_type": "execute_result",
          "data": {
            "text/plain": [
              "['小学校スコア', '中学校スコア', '幼稚園スコア']"
            ]
          },
          "metadata": {},
          "execution_count": 37
        }
      ]
    },
    {
      "cell_type": "code",
      "source": [
        "df_pop_master['小学校(最近傍距離)'] = df_pop_master['小学校(最近傍距離)'].round(3)\n",
        "df_pop_master['中学校(最近傍距離)'] = df_pop_master['中学校(最近傍距離)'].round(3)\n",
        "df_pop_master['幼稚園(最近傍距離)'] = df_pop_master['幼稚園(最近傍距離)'].round(3)\n",
        "for col in all_score_list:\n",
        "    df_pop_master[col] = df_pop_master[col].round(3)"
      ],
      "metadata": {
        "id": "BFLtYOWoMaLv"
      },
      "execution_count": 38,
      "outputs": []
    },
    {
      "cell_type": "markdown",
      "source": [
        "### 保存"
      ],
      "metadata": {
        "id": "R73PMWPIVNBZ"
      }
    },
    {
      "cell_type": "code",
      "source": [
        "df_pop_master[\n",
        "    ['地域ID'] + all_feature_list + ['最寄りの小学校', '最寄りの中学校', '最寄りの幼稚園'] + all_score_list\n",
        "].to_csv(os.path.join(DIR_NAME, output_score_file), index=False)"
      ],
      "metadata": {
        "id": "mGvdhIyy9-kN"
      },
      "execution_count": 39,
      "outputs": []
    },
    {
      "cell_type": "markdown",
      "source": [
        "## 区ごとのスコア確認"
      ],
      "metadata": {
        "id": "uPUEdJZ3PNmx"
      }
    },
    {
      "cell_type": "code",
      "source": [
        "for _score in ['小学校スコア', '中学校スコア', '幼稚園スコア']:\n",
        "    plt.figure(figsize=(15, 5))\n",
        "    sns.barplot(x='市区町村名', y=_score, data=df_pop_master)\n",
        "    plt.show()"
      ],
      "metadata": {
        "colab": {
          "base_uri": "https://localhost:8080/",
          "height": 967
        },
        "id": "ufGDZQX3-lnp",
        "outputId": "1945a65f-0d73-440f-adf1-af94654b60aa"
      },
      "execution_count": 40,
      "outputs": [
        {
          "output_type": "display_data",
          "data": {
            "text/plain": [
              "<Figure size 1080x360 with 1 Axes>"
            ],
            "image/png": "[encoded data removed]"
          },
          "metadata": {
            "needs_background": "light"
          }
        },
        {
          "output_type": "display_data",
          "data": {
            "text/plain": [
              "<Figure size 1080x360 with 1 Axes>"
            ],
            "image/png": "[encoded data removed]"
          },
          "metadata": {
            "needs_background": "light"
          }
        },
        {
          "output_type": "display_data",
          "data": {
            "text/plain": [
              "<Figure size 1080x360 with 1 Axes>"
            ],
            "image/png": "[encoded data removed]"
          },
          "metadata": {
            "needs_background": "light"
          }
        }
      ]
    },
    {
      "cell_type": "code",
      "source": [
        "def get_score_top(df_data, target):\n",
        "    df_level = df_data.copy()\n",
        "    score_name = f'{target}スコア'\n",
        "    df_level['rank'] = df_level.groupby('町名')[score_name].transform('rank', ascending=False)\n",
        "    df_level = df_level[df_level['rank'] == 1].sort_values(score_name, ascending=False)[\n",
        "        ['市区町村名', '町名', '町丁目'] + [f'最寄りの{target}', f'{target}(最近傍距離)', f'{target}のレーティング', score_name]\n",
        "    ].reset_index(drop=True)\n",
        "    return df_level"
      ],
      "metadata": {
        "id": "KwfMlqDrBmKa"
      },
      "execution_count": 41,
      "outputs": []
    },
    {
      "cell_type": "code",
      "source": [
        "df_level = get_score_top(df_pop_master, '小学校')\n",
        "print(df_level.shape)\n",
        "df_level.head(10)"
      ],
      "metadata": {
        "id": "twmfPEadWDVX",
        "outputId": "1f24adfb-b9a9-453d-c870-71ca96309059",
        "colab": {
          "base_uri": "https://localhost:8080/",
          "height": 380
        }
      },
      "execution_count": 42,
      "outputs": [
        {
          "output_type": "stream",
          "name": "stdout",
          "text": [
            "(911, 7)\n"
          ]
        },
        {
          "output_type": "execute_result",
          "data": {
            "text/plain": [
              "  市区町村名     町名      町丁目       最寄りの小学校  小学校(最近傍距離)  小学校のレーティング  小学校スコア\n",
              "0   新宿区  市谷山伏町    市谷山伏町     新宿区立市谷小学校       0.055         5.0   5.000\n",
              "1   大田区    北千束   北千束２丁目     大田区立赤松小学校       0.099         5.0   4.891\n",
              "2   足立区   西保木間  西保木間４丁目   足立区立西保木間小学校       0.099         5.0   4.755\n",
              "3   板橋区     向原    向原２丁目     板橋区立向原小学校       0.102         5.0   4.673\n",
              "4   板橋区     板橋    板橋２丁目   板橋区立板橋第二小学校       0.108         5.0   4.612\n",
              "5  江戸川区     瑞江    瑞江４丁目  江戸川区立下鎌田西小学校       0.110         5.0   4.565\n",
              "6   新宿区     中井    中井１丁目   新宿区立落合第五小学校       0.111         5.0   4.525\n",
              "7   新宿区  市谷甲良町    市谷甲良町     新宿区立市谷小学校       0.115         5.0   4.491\n",
              "8   中野区     本町    本町３丁目     中野区立第一小学校       0.120         5.0   4.461\n",
              "9   品川区   西五反田  西五反田４丁目   品川区立第四日野小学校       0.125         5.0   4.434"
            ],
            "text/html": [
              "\n",
              "  <div id=\"df-c7e12e88-7385-449d-afd8-b99dc1d090b7\">\n",
              "    <div class=\"colab-df-container\">\n",
              "      <div>\n",
              "<style scoped>\n",
              "    .dataframe tbody tr th:only-of-type {\n",
              "        vertical-align: middle;\n",
              "    }\n",
              "\n",
              "    .dataframe tbody tr th {\n",
              "        vertical-align: top;\n",
              "    }\n",
              "\n",
              "    .dataframe thead th {\n",
              "        text-align: right;\n",
              "    }\n",
              "</style>\n",
              "<table border=\"1\" class=\"dataframe\">\n",
              "  <thead>\n",
              "    <tr style=\"text-align: right;\">\n",
              "      <th></th>\n",
              "      <th>市区町村名</th>\n",
              "      <th>町名</th>\n",
              "      <th>町丁目</th>\n",
              "      <th>最寄りの小学校</th>\n",
              "      <th>小学校(最近傍距離)</th>\n",
              "      <th>小学校のレーティング</th>\n",
              "      <th>小学校スコア</th>\n",
              "    </tr>\n",
              "  </thead>\n",
              "  <tbody>\n",
              "    <tr>\n",
              "      <th>0</th>\n",
              "      <td>新宿区</td>\n",
              "      <td>市谷山伏町</td>\n",
              "      <td>市谷山伏町</td>\n",
              "      <td>新宿区立市谷小学校</td>\n",
              "      <td>0.055</td>\n",
              "      <td>5.0</td>\n",
              "      <td>5.000</td>\n",
              "    </tr>\n",
              "    <tr>\n",
              "      <th>1</th>\n",
              "      <td>大田区</td>\n",
              "      <td>北千束</td>\n",
              "      <td>北千束２丁目</td>\n",
              "      <td>大田区立赤松小学校</td>\n",
              "      <td>0.099</td>\n",
              "      <td>5.0</td>\n",
              "      <td>4.891</td>\n",
              "    </tr>\n",
              "    <tr>\n",
              "      <th>2</th>\n",
              "      <td>足立区</td>\n",
              "      <td>西保木間</td>\n",
              "      <td>西保木間４丁目</td>\n",
              "      <td>足立区立西保木間小学校</td>\n",
              "      <td>0.099</td>\n",
              "      <td>5.0</td>\n",
              "      <td>4.755</td>\n",
              "    </tr>\n",
              "    <tr>\n",
              "      <th>3</th>\n",
              "      <td>板橋区</td>\n",
              "      <td>向原</td>\n",
              "      <td>向原２丁目</td>\n",
              "      <td>板橋区立向原小学校</td>\n",
              "      <td>0.102</td>\n",
              "      <td>5.0</td>\n",
              "      <td>4.673</td>\n",
              "    </tr>\n",
              "    <tr>\n",
              "      <th>4</th>\n",
              "      <td>板橋区</td>\n",
              "      <td>板橋</td>\n",
              "      <td>板橋２丁目</td>\n",
              "      <td>板橋区立板橋第二小学校</td>\n",
              "      <td>0.108</td>\n",
              "      <td>5.0</td>\n",
              "      <td>4.612</td>\n",
              "    </tr>\n",
              "    <tr>\n",
              "      <th>5</th>\n",
              "      <td>江戸川区</td>\n",
              "      <td>瑞江</td>\n",
              "      <td>瑞江４丁目</td>\n",
              "      <td>江戸川区立下鎌田西小学校</td>\n",
              "      <td>0.110</td>\n",
              "      <td>5.0</td>\n",
              "      <td>4.565</td>\n",
              "    </tr>\n",
              "    <tr>\n",
              "      <th>6</th>\n",
              "      <td>新宿区</td>\n",
              "      <td>中井</td>\n",
              "      <td>中井１丁目</td>\n",
              "      <td>新宿区立落合第五小学校</td>\n",
              "      <td>0.111</td>\n",
              "      <td>5.0</td>\n",
              "      <td>4.525</td>\n",
              "    </tr>\n",
              "    <tr>\n",
              "      <th>7</th>\n",
              "      <td>新宿区</td>\n",
              "      <td>市谷甲良町</td>\n",
              "      <td>市谷甲良町</td>\n",
              "      <td>新宿区立市谷小学校</td>\n",
              "      <td>0.115</td>\n",
              "      <td>5.0</td>\n",
              "      <td>4.491</td>\n",
              "    </tr>\n",
              "    <tr>\n",
              "      <th>8</th>\n",
              "      <td>中野区</td>\n",
              "      <td>本町</td>\n",
              "      <td>本町３丁目</td>\n",
              "      <td>中野区立第一小学校</td>\n",
              "      <td>0.120</td>\n",
              "      <td>5.0</td>\n",
              "      <td>4.461</td>\n",
              "    </tr>\n",
              "    <tr>\n",
              "      <th>9</th>\n",
              "      <td>品川区</td>\n",
              "      <td>西五反田</td>\n",
              "      <td>西五反田４丁目</td>\n",
              "      <td>品川区立第四日野小学校</td>\n",
              "      <td>0.125</td>\n",
              "      <td>5.0</td>\n",
              "      <td>4.434</td>\n",
              "    </tr>\n",
              "  </tbody>\n",
              "</table>\n",
              "</div>\n",
              "      <button class=\"colab-df-convert\" onclick=\"convertToInteractive('df-c7e12e88-7385-449d-afd8-b99dc1d090b7')\"\n",
              "              title=\"Convert this dataframe to an interactive table.\"\n",
              "              style=\"display:none;\">\n",
              "        \n",
              "  <svg xmlns=\"http://www.w3.org/2000/svg\" height=\"24px\"viewBox=\"0 0 24 24\"\n",
              "       width=\"24px\">\n",
              "    <path d=\"M0 0h24v24H0V0z\" fill=\"none\"/>\n",
              "    <path d=\"M18.56 5.44l.94 2.06.94-2.06 2.06-.94-2.06-.94-.94-2.06-.94 2.06-2.06.94zm-11 1L8.5 8.5l.94-2.06 2.06-.94-2.06-.94L8.5 2.5l-.94 2.06-2.06.94zm10 10l.94 2.06.94-2.06 2.06-.94-2.06-.94-.94-2.06-.94 2.06-2.06.94z\"/><path d=\"M17.41 7.96l-1.37-1.37c-.4-.4-.92-.59-1.43-.59-.52 0-1.04.2-1.43.59L10.3 9.45l-7.72 7.72c-.78.78-.78 2.05 0 2.83L4 21.41c.39.39.9.59 1.41.59.51 0 1.02-.2 1.41-.59l7.78-7.78 2.81-2.81c.8-.78.8-2.07 0-2.86zM5.41 20L4 18.59l7.72-7.72 1.47 1.35L5.41 20z\"/>\n",
              "  </svg>\n",
              "      </button>\n",
              "      \n",
              "  <style>\n",
              "    .colab-df-container {\n",
              "      display:flex;\n",
              "      flex-wrap:wrap;\n",
              "      gap: 12px;\n",
              "    }\n",
              "\n",
              "    .colab-df-convert {\n",
              "      background-color: #E8F0FE;\n",
              "      border: none;\n",
              "      border-radius: 50%;\n",
              "      cursor: pointer;\n",
              "      display: none;\n",
              "      fill: #1967D2;\n",
              "      height: 32px;\n",
              "      padding: 0 0 0 0;\n",
              "      width: 32px;\n",
              "    }\n",
              "\n",
              "    .colab-df-convert:hover {\n",
              "      background-color: #E2EBFA;\n",
              "      box-shadow: 0px 1px 2px rgba(60, 64, 67, 0.3), 0px 1px 3px 1px rgba(60, 64, 67, 0.15);\n",
              "      fill: #174EA6;\n",
              "    }\n",
              "\n",
              "    [theme=dark] .colab-df-convert {\n",
              "      background-color: #3B4455;\n",
              "      fill: #D2E3FC;\n",
              "    }\n",
              "\n",
              "    [theme=dark] .colab-df-convert:hover {\n",
              "      background-color: #434B5C;\n",
              "      box-shadow: 0px 1px 3px 1px rgba(0, 0, 0, 0.15);\n",
              "      filter: drop-shadow(0px 1px 2px rgba(0, 0, 0, 0.3));\n",
              "      fill: #FFFFFF;\n",
              "    }\n",
              "  </style>\n",
              "\n",
              "      <script>\n",
              "        const buttonEl =\n",
              "          document.querySelector('#df-c7e12e88-7385-449d-afd8-b99dc1d090b7 button.colab-df-convert');\n",
              "        buttonEl.style.display =\n",
              "          google.colab.kernel.accessAllowed ? 'block' : 'none';\n",
              "\n",
              "        async function convertToInteractive(key) {\n",
              "          const element = document.querySelector('#df-c7e12e88-7385-449d-afd8-b99dc1d090b7');\n",
              "          const dataTable =\n",
              "            await google.colab.kernel.invokeFunction('convertToInteractive',\n",
              "                                                     [key], {});\n",
              "          if (!dataTable) return;\n",
              "\n",
              "          const docLinkHtml = 'Like what you see? Visit the ' +\n",
              "            '<a target=\"_blank\" href=https://colab.research.google.com/notebooks/data_table.ipynb>data table notebook</a>'\n",
              "            + ' to learn more about interactive tables.';\n",
              "          element.innerHTML = '';\n",
              "          dataTable['output_type'] = 'display_data';\n",
              "          await google.colab.output.renderOutput(dataTable, element);\n",
              "          const docLink = document.createElement('div');\n",
              "          docLink.innerHTML = docLinkHtml;\n",
              "          element.appendChild(docLink);\n",
              "        }\n",
              "      </script>\n",
              "    </div>\n",
              "  </div>\n",
              "  "
            ]
          },
          "metadata": {},
          "execution_count": 42
        }
      ]
    },
    {
      "cell_type": "code",
      "source": [
        "df_level.tail(10)"
      ],
      "metadata": {
        "id": "vv-k3ImGNrz8",
        "outputId": "b35569eb-6df1-40bb-8f05-2980665d8bfa",
        "colab": {
          "base_uri": "https://localhost:8080/",
          "height": 363
        }
      },
      "execution_count": 43,
      "outputs": [
        {
          "output_type": "execute_result",
          "data": {
            "text/plain": [
              "    市区町村名      町名     町丁目        最寄りの小学校  小学校(最近傍距離)  小学校のレーティング  小学校スコア\n",
              "901   練馬区  上石神井南町  上石神井南町    杉並区立桃井第四小学校       0.710         3.1   1.300\n",
              "902   大田区     平和島  平和島４丁目    大田区立大森第五小学校       0.471         2.8   1.283\n",
              "903   江東区      若洲   若洲１丁目      江東区立辰巳小学校       2.765         3.4   1.275\n",
              "904   江東区      千田      千田      江東区立川南小学校       0.226         2.1   1.199\n",
              "905   江東区      海辺      海辺      江東区立川南小学校       0.229         2.1   1.189\n",
              "906   練馬区    西大泉町    西大泉町     練馬区立大泉西小学校       0.479         2.6   1.102\n",
              "907   葛飾区    水元公園    水元公園     葛飾区立東水元小学校       0.372         2.4   1.094\n",
              "908  世田谷区     砧公園     砧公園     世田谷区立用賀小学校       0.852         2.8   0.922\n",
              "909  江戸川区     興宮町     興宮町  江戸川区立下小岩第二小学校       0.380         1.5   0.743\n",
              "910   大田区     京浜島  京浜島１丁目    大田区立大森第四小学校       1.569         2.5   0.612"
            ],
            "text/html": [
              "\n",
              "  <div id=\"df-0bf6756b-581a-427a-b5f1-807000d7da75\">\n",
              "    <div class=\"colab-df-container\">\n",
              "      <div>\n",
              "<style scoped>\n",
              "    .dataframe tbody tr th:only-of-type {\n",
              "        vertical-align: middle;\n",
              "    }\n",
              "\n",
              "    .dataframe tbody tr th {\n",
              "        vertical-align: top;\n",
              "    }\n",
              "\n",
              "    .dataframe thead th {\n",
              "        text-align: right;\n",
              "    }\n",
              "</style>\n",
              "<table border=\"1\" class=\"dataframe\">\n",
              "  <thead>\n",
              "    <tr style=\"text-align: right;\">\n",
              "      <th></th>\n",
              "      <th>市区町村名</th>\n",
              "      <th>町名</th>\n",
              "      <th>町丁目</th>\n",
              "      <th>最寄りの小学校</th>\n",
              "      <th>小学校(最近傍距離)</th>\n",
              "      <th>小学校のレーティング</th>\n",
              "      <th>小学校スコア</th>\n",
              "    </tr>\n",
              "  </thead>\n",
              "  <tbody>\n",
              "    <tr>\n",
              "      <th>901</th>\n",
              "      <td>練馬区</td>\n",
              "      <td>上石神井南町</td>\n",
              "      <td>上石神井南町</td>\n",
              "      <td>杉並区立桃井第四小学校</td>\n",
              "      <td>0.710</td>\n",
              "      <td>3.1</td>\n",
              "      <td>1.300</td>\n",
              "    </tr>\n",
              "    <tr>\n",
              "      <th>902</th>\n",
              "      <td>大田区</td>\n",
              "      <td>平和島</td>\n",
              "      <td>平和島４丁目</td>\n",
              "      <td>大田区立大森第五小学校</td>\n",
              "      <td>0.471</td>\n",
              "      <td>2.8</td>\n",
              "      <td>1.283</td>\n",
              "    </tr>\n",
              "    <tr>\n",
              "      <th>903</th>\n",
              "      <td>江東区</td>\n",
              "      <td>若洲</td>\n",
              "      <td>若洲１丁目</td>\n",
              "      <td>江東区立辰巳小学校</td>\n",
              "      <td>2.765</td>\n",
              "      <td>3.4</td>\n",
              "      <td>1.275</td>\n",
              "    </tr>\n",
              "    <tr>\n",
              "      <th>904</th>\n",
              "      <td>江東区</td>\n",
              "      <td>千田</td>\n",
              "      <td>千田</td>\n",
              "      <td>江東区立川南小学校</td>\n",
              "      <td>0.226</td>\n",
              "      <td>2.1</td>\n",
              "      <td>1.199</td>\n",
              "    </tr>\n",
              "    <tr>\n",
              "      <th>905</th>\n",
              "      <td>江東区</td>\n",
              "      <td>海辺</td>\n",
              "      <td>海辺</td>\n",
              "      <td>江東区立川南小学校</td>\n",
              "      <td>0.229</td>\n",
              "      <td>2.1</td>\n",
              "      <td>1.189</td>\n",
              "    </tr>\n",
              "    <tr>\n",
              "      <th>906</th>\n",
              "      <td>練馬区</td>\n",
              "      <td>西大泉町</td>\n",
              "      <td>西大泉町</td>\n",
              "      <td>練馬区立大泉西小学校</td>\n",
              "      <td>0.479</td>\n",
              "      <td>2.6</td>\n",
              "      <td>1.102</td>\n",
              "    </tr>\n",
              "    <tr>\n",
              "      <th>907</th>\n",
              "      <td>葛飾区</td>\n",
              "      <td>水元公園</td>\n",
              "      <td>水元公園</td>\n",
              "      <td>葛飾区立東水元小学校</td>\n",
              "      <td>0.372</td>\n",
              "      <td>2.4</td>\n",
              "      <td>1.094</td>\n",
              "    </tr>\n",
              "    <tr>\n",
              "      <th>908</th>\n",
              "      <td>世田谷区</td>\n",
              "      <td>砧公園</td>\n",
              "      <td>砧公園</td>\n",
              "      <td>世田谷区立用賀小学校</td>\n",
              "      <td>0.852</td>\n",
              "      <td>2.8</td>\n",
              "      <td>0.922</td>\n",
              "    </tr>\n",
              "    <tr>\n",
              "      <th>909</th>\n",
              "      <td>江戸川区</td>\n",
              "      <td>興宮町</td>\n",
              "      <td>興宮町</td>\n",
              "      <td>江戸川区立下小岩第二小学校</td>\n",
              "      <td>0.380</td>\n",
              "      <td>1.5</td>\n",
              "      <td>0.743</td>\n",
              "    </tr>\n",
              "    <tr>\n",
              "      <th>910</th>\n",
              "      <td>大田区</td>\n",
              "      <td>京浜島</td>\n",
              "      <td>京浜島１丁目</td>\n",
              "      <td>大田区立大森第四小学校</td>\n",
              "      <td>1.569</td>\n",
              "      <td>2.5</td>\n",
              "      <td>0.612</td>\n",
              "    </tr>\n",
              "  </tbody>\n",
              "</table>\n",
              "</div>\n",
              "      <button class=\"colab-df-convert\" onclick=\"convertToInteractive('df-0bf6756b-581a-427a-b5f1-807000d7da75')\"\n",
              "              title=\"Convert this dataframe to an interactive table.\"\n",
              "              style=\"display:none;\">\n",
              "        \n",
              "  <svg xmlns=\"http://www.w3.org/2000/svg\" height=\"24px\"viewBox=\"0 0 24 24\"\n",
              "       width=\"24px\">\n",
              "    <path d=\"M0 0h24v24H0V0z\" fill=\"none\"/>\n",
              "    <path d=\"M18.56 5.44l.94 2.06.94-2.06 2.06-.94-2.06-.94-.94-2.06-.94 2.06-2.06.94zm-11 1L8.5 8.5l.94-2.06 2.06-.94-2.06-.94L8.5 2.5l-.94 2.06-2.06.94zm10 10l.94 2.06.94-2.06 2.06-.94-2.06-.94-.94-2.06-.94 2.06-2.06.94z\"/><path d=\"M17.41 7.96l-1.37-1.37c-.4-.4-.92-.59-1.43-.59-.52 0-1.04.2-1.43.59L10.3 9.45l-7.72 7.72c-.78.78-.78 2.05 0 2.83L4 21.41c.39.39.9.59 1.41.59.51 0 1.02-.2 1.41-.59l7.78-7.78 2.81-2.81c.8-.78.8-2.07 0-2.86zM5.41 20L4 18.59l7.72-7.72 1.47 1.35L5.41 20z\"/>\n",
              "  </svg>\n",
              "      </button>\n",
              "      \n",
              "  <style>\n",
              "    .colab-df-container {\n",
              "      display:flex;\n",
              "      flex-wrap:wrap;\n",
              "      gap: 12px;\n",
              "    }\n",
              "\n",
              "    .colab-df-convert {\n",
              "      background-color: #E8F0FE;\n",
              "      border: none;\n",
              "      border-radius: 50%;\n",
              "      cursor: pointer;\n",
              "      display: none;\n",
              "      fill: #1967D2;\n",
              "      height: 32px;\n",
              "      padding: 0 0 0 0;\n",
              "      width: 32px;\n",
              "    }\n",
              "\n",
              "    .colab-df-convert:hover {\n",
              "      background-color: #E2EBFA;\n",
              "      box-shadow: 0px 1px 2px rgba(60, 64, 67, 0.3), 0px 1px 3px 1px rgba(60, 64, 67, 0.15);\n",
              "      fill: #174EA6;\n",
              "    }\n",
              "\n",
              "    [theme=dark] .colab-df-convert {\n",
              "      background-color: #3B4455;\n",
              "      fill: #D2E3FC;\n",
              "    }\n",
              "\n",
              "    [theme=dark] .colab-df-convert:hover {\n",
              "      background-color: #434B5C;\n",
              "      box-shadow: 0px 1px 3px 1px rgba(0, 0, 0, 0.15);\n",
              "      filter: drop-shadow(0px 1px 2px rgba(0, 0, 0, 0.3));\n",
              "      fill: #FFFFFF;\n",
              "    }\n",
              "  </style>\n",
              "\n",
              "      <script>\n",
              "        const buttonEl =\n",
              "          document.querySelector('#df-0bf6756b-581a-427a-b5f1-807000d7da75 button.colab-df-convert');\n",
              "        buttonEl.style.display =\n",
              "          google.colab.kernel.accessAllowed ? 'block' : 'none';\n",
              "\n",
              "        async function convertToInteractive(key) {\n",
              "          const element = document.querySelector('#df-0bf6756b-581a-427a-b5f1-807000d7da75');\n",
              "          const dataTable =\n",
              "            await google.colab.kernel.invokeFunction('convertToInteractive',\n",
              "                                                     [key], {});\n",
              "          if (!dataTable) return;\n",
              "\n",
              "          const docLinkHtml = 'Like what you see? Visit the ' +\n",
              "            '<a target=\"_blank\" href=https://colab.research.google.com/notebooks/data_table.ipynb>data table notebook</a>'\n",
              "            + ' to learn more about interactive tables.';\n",
              "          element.innerHTML = '';\n",
              "          dataTable['output_type'] = 'display_data';\n",
              "          await google.colab.output.renderOutput(dataTable, element);\n",
              "          const docLink = document.createElement('div');\n",
              "          docLink.innerHTML = docLinkHtml;\n",
              "          element.appendChild(docLink);\n",
              "        }\n",
              "      </script>\n",
              "    </div>\n",
              "  </div>\n",
              "  "
            ]
          },
          "metadata": {},
          "execution_count": 43
        }
      ]
    },
    {
      "cell_type": "code",
      "source": [
        "df_level = get_score_top(df_pop_master, '中学校')\n",
        "print(df_level.shape)\n",
        "df_level.head(10)"
      ],
      "metadata": {
        "id": "ypC5Qyu8ODH7",
        "outputId": "ec3c2142-f419-4344-9832-9c4e47337ae3",
        "colab": {
          "base_uri": "https://localhost:8080/",
          "height": 380
        }
      },
      "execution_count": 44,
      "outputs": [
        {
          "output_type": "stream",
          "name": "stdout",
          "text": [
            "(910, 7)\n"
          ]
        },
        {
          "output_type": "execute_result",
          "data": {
            "text/plain": [
              "  市区町村名    町名     町丁目      最寄りの中学校  中学校(最近傍距離)  中学校のレーティング  中学校スコア\n",
              "0   中野区    鷺宮   鷺宮４丁目    中野区立第八中学校       0.049         5.0   5.000\n",
              "1   葛飾区    水元   水元２丁目    葛飾区立葛美中学校       0.133         5.0   4.891\n",
              "2   葛飾区   西水元  西水元５丁目    葛飾区立葛美中学校       0.433         5.0   4.565\n",
              "3   中野区    白鷺   白鷺３丁目    中野区立第八中学校       0.442         5.0   4.525\n",
              "4   葛飾区   四つ木  四つ木４丁目   葛飾区立四ツ木中学校       0.080         4.8   4.461\n",
              "5   板橋区    坂下   坂下２丁目  板橋区立志村第三中学校       0.086         4.8   4.434\n",
              "6   新宿区  北山伏町    北山伏町  新宿区立牛込第一中学校       0.031         4.6   4.410\n",
              "7   中野区   上鷺宮  上鷺宮１丁目    中野区立第八中学校       0.566         5.0   4.388\n",
              "8   杉並区   下井草  下井草１丁目    杉並区立東原中学校       0.247         4.8   4.314\n",
              "9   葛飾区   南水元  南水元２丁目    葛飾区立葛美中学校       0.827         5.0   4.284"
            ],
            "text/html": [
              "\n",
              "  <div id=\"df-280f0663-8893-415b-b8ef-9a0911a0078e\">\n",
              "    <div class=\"colab-df-container\">\n",
              "      <div>\n",
              "<style scoped>\n",
              "    .dataframe tbody tr th:only-of-type {\n",
              "        vertical-align: middle;\n",
              "    }\n",
              "\n",
              "    .dataframe tbody tr th {\n",
              "        vertical-align: top;\n",
              "    }\n",
              "\n",
              "    .dataframe thead th {\n",
              "        text-align: right;\n",
              "    }\n",
              "</style>\n",
              "<table border=\"1\" class=\"dataframe\">\n",
              "  <thead>\n",
              "    <tr style=\"text-align: right;\">\n",
              "      <th></th>\n",
              "      <th>市区町村名</th>\n",
              "      <th>町名</th>\n",
              "      <th>町丁目</th>\n",
              "      <th>最寄りの中学校</th>\n",
              "      <th>中学校(最近傍距離)</th>\n",
              "      <th>中学校のレーティング</th>\n",
              "      <th>中学校スコア</th>\n",
              "    </tr>\n",
              "  </thead>\n",
              "  <tbody>\n",
              "    <tr>\n",
              "      <th>0</th>\n",
              "      <td>中野区</td>\n",
              "      <td>鷺宮</td>\n",
              "      <td>鷺宮４丁目</td>\n",
              "      <td>中野区立第八中学校</td>\n",
              "      <td>0.049</td>\n",
              "      <td>5.0</td>\n",
              "      <td>5.000</td>\n",
              "    </tr>\n",
              "    <tr>\n",
              "      <th>1</th>\n",
              "      <td>葛飾区</td>\n",
              "      <td>水元</td>\n",
              "      <td>水元２丁目</td>\n",
              "      <td>葛飾区立葛美中学校</td>\n",
              "      <td>0.133</td>\n",
              "      <td>5.0</td>\n",
              "      <td>4.891</td>\n",
              "    </tr>\n",
              "    <tr>\n",
              "      <th>2</th>\n",
              "      <td>葛飾区</td>\n",
              "      <td>西水元</td>\n",
              "      <td>西水元５丁目</td>\n",
              "      <td>葛飾区立葛美中学校</td>\n",
              "      <td>0.433</td>\n",
              "      <td>5.0</td>\n",
              "      <td>4.565</td>\n",
              "    </tr>\n",
              "    <tr>\n",
              "      <th>3</th>\n",
              "      <td>中野区</td>\n",
              "      <td>白鷺</td>\n",
              "      <td>白鷺３丁目</td>\n",
              "      <td>中野区立第八中学校</td>\n",
              "      <td>0.442</td>\n",
              "      <td>5.0</td>\n",
              "      <td>4.525</td>\n",
              "    </tr>\n",
              "    <tr>\n",
              "      <th>4</th>\n",
              "      <td>葛飾区</td>\n",
              "      <td>四つ木</td>\n",
              "      <td>四つ木４丁目</td>\n",
              "      <td>葛飾区立四ツ木中学校</td>\n",
              "      <td>0.080</td>\n",
              "      <td>4.8</td>\n",
              "      <td>4.461</td>\n",
              "    </tr>\n",
              "    <tr>\n",
              "      <th>5</th>\n",
              "      <td>板橋区</td>\n",
              "      <td>坂下</td>\n",
              "      <td>坂下２丁目</td>\n",
              "      <td>板橋区立志村第三中学校</td>\n",
              "      <td>0.086</td>\n",
              "      <td>4.8</td>\n",
              "      <td>4.434</td>\n",
              "    </tr>\n",
              "    <tr>\n",
              "      <th>6</th>\n",
              "      <td>新宿区</td>\n",
              "      <td>北山伏町</td>\n",
              "      <td>北山伏町</td>\n",
              "      <td>新宿区立牛込第一中学校</td>\n",
              "      <td>0.031</td>\n",
              "      <td>4.6</td>\n",
              "      <td>4.410</td>\n",
              "    </tr>\n",
              "    <tr>\n",
              "      <th>7</th>\n",
              "      <td>中野区</td>\n",
              "      <td>上鷺宮</td>\n",
              "      <td>上鷺宮１丁目</td>\n",
              "      <td>中野区立第八中学校</td>\n",
              "      <td>0.566</td>\n",
              "      <td>5.0</td>\n",
              "      <td>4.388</td>\n",
              "    </tr>\n",
              "    <tr>\n",
              "      <th>8</th>\n",
              "      <td>杉並区</td>\n",
              "      <td>下井草</td>\n",
              "      <td>下井草１丁目</td>\n",
              "      <td>杉並区立東原中学校</td>\n",
              "      <td>0.247</td>\n",
              "      <td>4.8</td>\n",
              "      <td>4.314</td>\n",
              "    </tr>\n",
              "    <tr>\n",
              "      <th>9</th>\n",
              "      <td>葛飾区</td>\n",
              "      <td>南水元</td>\n",
              "      <td>南水元２丁目</td>\n",
              "      <td>葛飾区立葛美中学校</td>\n",
              "      <td>0.827</td>\n",
              "      <td>5.0</td>\n",
              "      <td>4.284</td>\n",
              "    </tr>\n",
              "  </tbody>\n",
              "</table>\n",
              "</div>\n",
              "      <button class=\"colab-df-convert\" onclick=\"convertToInteractive('df-280f0663-8893-415b-b8ef-9a0911a0078e')\"\n",
              "              title=\"Convert this dataframe to an interactive table.\"\n",
              "              style=\"display:none;\">\n",
              "        \n",
              "  <svg xmlns=\"http://www.w3.org/2000/svg\" height=\"24px\"viewBox=\"0 0 24 24\"\n",
              "       width=\"24px\">\n",
              "    <path d=\"M0 0h24v24H0V0z\" fill=\"none\"/>\n",
              "    <path d=\"M18.56 5.44l.94 2.06.94-2.06 2.06-.94-2.06-.94-.94-2.06-.94 2.06-2.06.94zm-11 1L8.5 8.5l.94-2.06 2.06-.94-2.06-.94L8.5 2.5l-.94 2.06-2.06.94zm10 10l.94 2.06.94-2.06 2.06-.94-2.06-.94-.94-2.06-.94 2.06-2.06.94z\"/><path d=\"M17.41 7.96l-1.37-1.37c-.4-.4-.92-.59-1.43-.59-.52 0-1.04.2-1.43.59L10.3 9.45l-7.72 7.72c-.78.78-.78 2.05 0 2.83L4 21.41c.39.39.9.59 1.41.59.51 0 1.02-.2 1.41-.59l7.78-7.78 2.81-2.81c.8-.78.8-2.07 0-2.86zM5.41 20L4 18.59l7.72-7.72 1.47 1.35L5.41 20z\"/>\n",
              "  </svg>\n",
              "      </button>\n",
              "      \n",
              "  <style>\n",
              "    .colab-df-container {\n",
              "      display:flex;\n",
              "      flex-wrap:wrap;\n",
              "      gap: 12px;\n",
              "    }\n",
              "\n",
              "    .colab-df-convert {\n",
              "      background-color: #E8F0FE;\n",
              "      border: none;\n",
              "      border-radius: 50%;\n",
              "      cursor: pointer;\n",
              "      display: none;\n",
              "      fill: #1967D2;\n",
              "      height: 32px;\n",
              "      padding: 0 0 0 0;\n",
              "      width: 32px;\n",
              "    }\n",
              "\n",
              "    .colab-df-convert:hover {\n",
              "      background-color: #E2EBFA;\n",
              "      box-shadow: 0px 1px 2px rgba(60, 64, 67, 0.3), 0px 1px 3px 1px rgba(60, 64, 67, 0.15);\n",
              "      fill: #174EA6;\n",
              "    }\n",
              "\n",
              "    [theme=dark] .colab-df-convert {\n",
              "      background-color: #3B4455;\n",
              "      fill: #D2E3FC;\n",
              "    }\n",
              "\n",
              "    [theme=dark] .colab-df-convert:hover {\n",
              "      background-color: #434B5C;\n",
              "      box-shadow: 0px 1px 3px 1px rgba(0, 0, 0, 0.15);\n",
              "      filter: drop-shadow(0px 1px 2px rgba(0, 0, 0, 0.3));\n",
              "      fill: #FFFFFF;\n",
              "    }\n",
              "  </style>\n",
              "\n",
              "      <script>\n",
              "        const buttonEl =\n",
              "          document.querySelector('#df-280f0663-8893-415b-b8ef-9a0911a0078e button.colab-df-convert');\n",
              "        buttonEl.style.display =\n",
              "          google.colab.kernel.accessAllowed ? 'block' : 'none';\n",
              "\n",
              "        async function convertToInteractive(key) {\n",
              "          const element = document.querySelector('#df-280f0663-8893-415b-b8ef-9a0911a0078e');\n",
              "          const dataTable =\n",
              "            await google.colab.kernel.invokeFunction('convertToInteractive',\n",
              "                                                     [key], {});\n",
              "          if (!dataTable) return;\n",
              "\n",
              "          const docLinkHtml = 'Like what you see? Visit the ' +\n",
              "            '<a target=\"_blank\" href=https://colab.research.google.com/notebooks/data_table.ipynb>data table notebook</a>'\n",
              "            + ' to learn more about interactive tables.';\n",
              "          element.innerHTML = '';\n",
              "          dataTable['output_type'] = 'display_data';\n",
              "          await google.colab.output.renderOutput(dataTable, element);\n",
              "          const docLink = document.createElement('div');\n",
              "          docLink.innerHTML = docLinkHtml;\n",
              "          element.appendChild(docLink);\n",
              "        }\n",
              "      </script>\n",
              "    </div>\n",
              "  </div>\n",
              "  "
            ]
          },
          "metadata": {},
          "execution_count": 44
        }
      ]
    },
    {
      "cell_type": "code",
      "source": [
        "df_level.tail(10)"
      ],
      "metadata": {
        "id": "bkXq3oryWUHR",
        "outputId": "f1fce547-ef9e-465c-c0c3-438630375128",
        "colab": {
          "base_uri": "https://localhost:8080/",
          "height": 363
        }
      },
      "execution_count": 45,
      "outputs": [
        {
          "output_type": "execute_result",
          "data": {
            "text/plain": [
              "    市区町村名      町名        町丁目      最寄りの中学校  中学校(最近傍距離)  中学校のレーティング  中学校スコア\n",
              "900  千代田区     六番町        六番町    新宿区立四谷中学校       0.572         2.0   1.155\n",
              "901  世田谷区  玉川田園調布  玉川田園調布２丁目  大田区立田園調布中学校       0.478         1.9   1.145\n",
              "902   新宿区     須賀町        須賀町    新宿区立四谷中学校       0.593         2.0   1.134\n",
              "903   新宿区     三栄町        三栄町    新宿区立四谷中学校       0.703         2.0   1.049\n",
              "904   新宿区    四谷坂町       四谷坂町    新宿区立四谷中学校       0.732         2.0   1.019\n",
              "905   新宿区     左門町        左門町    新宿区立四谷中学校       0.746         2.0   1.008\n",
              "906  千代田区     五番町        五番町    新宿区立四谷中学校       0.804         2.0   0.943\n",
              "907   新宿区     荒木町        荒木町    新宿区立四谷中学校       0.856         2.0   0.884\n",
              "908   新宿区      舟町         舟町    新宿区立四谷中学校       0.928         2.0   0.842\n",
              "909   新宿区     大京町        大京町    新宿区立四谷中学校       1.041         2.0   0.730"
            ],
            "text/html": [
              "\n",
              "  <div id=\"df-1cbc49aa-7b38-4ab7-9f2b-7b05495f4615\">\n",
              "    <div class=\"colab-df-container\">\n",
              "      <div>\n",
              "<style scoped>\n",
              "    .dataframe tbody tr th:only-of-type {\n",
              "        vertical-align: middle;\n",
              "    }\n",
              "\n",
              "    .dataframe tbody tr th {\n",
              "        vertical-align: top;\n",
              "    }\n",
              "\n",
              "    .dataframe thead th {\n",
              "        text-align: right;\n",
              "    }\n",
              "</style>\n",
              "<table border=\"1\" class=\"dataframe\">\n",
              "  <thead>\n",
              "    <tr style=\"text-align: right;\">\n",
              "      <th></th>\n",
              "      <th>市区町村名</th>\n",
              "      <th>町名</th>\n",
              "      <th>町丁目</th>\n",
              "      <th>最寄りの中学校</th>\n",
              "      <th>中学校(最近傍距離)</th>\n",
              "      <th>中学校のレーティング</th>\n",
              "      <th>中学校スコア</th>\n",
              "    </tr>\n",
              "  </thead>\n",
              "  <tbody>\n",
              "    <tr>\n",
              "      <th>900</th>\n",
              "      <td>千代田区</td>\n",
              "      <td>六番町</td>\n",
              "      <td>六番町</td>\n",
              "      <td>新宿区立四谷中学校</td>\n",
              "      <td>0.572</td>\n",
              "      <td>2.0</td>\n",
              "      <td>1.155</td>\n",
              "    </tr>\n",
              "    <tr>\n",
              "      <th>901</th>\n",
              "      <td>世田谷区</td>\n",
              "      <td>玉川田園調布</td>\n",
              "      <td>玉川田園調布２丁目</td>\n",
              "      <td>大田区立田園調布中学校</td>\n",
              "      <td>0.478</td>\n",
              "      <td>1.9</td>\n",
              "      <td>1.145</td>\n",
              "    </tr>\n",
              "    <tr>\n",
              "      <th>902</th>\n",
              "      <td>新宿区</td>\n",
              "      <td>須賀町</td>\n",
              "      <td>須賀町</td>\n",
              "      <td>新宿区立四谷中学校</td>\n",
              "      <td>0.593</td>\n",
              "      <td>2.0</td>\n",
              "      <td>1.134</td>\n",
              "    </tr>\n",
              "    <tr>\n",
              "      <th>903</th>\n",
              "      <td>新宿区</td>\n",
              "      <td>三栄町</td>\n",
              "      <td>三栄町</td>\n",
              "      <td>新宿区立四谷中学校</td>\n",
              "      <td>0.703</td>\n",
              "      <td>2.0</td>\n",
              "      <td>1.049</td>\n",
              "    </tr>\n",
              "    <tr>\n",
              "      <th>904</th>\n",
              "      <td>新宿区</td>\n",
              "      <td>四谷坂町</td>\n",
              "      <td>四谷坂町</td>\n",
              "      <td>新宿区立四谷中学校</td>\n",
              "      <td>0.732</td>\n",
              "      <td>2.0</td>\n",
              "      <td>1.019</td>\n",
              "    </tr>\n",
              "    <tr>\n",
              "      <th>905</th>\n",
              "      <td>新宿区</td>\n",
              "      <td>左門町</td>\n",
              "      <td>左門町</td>\n",
              "      <td>新宿区立四谷中学校</td>\n",
              "      <td>0.746</td>\n",
              "      <td>2.0</td>\n",
              "      <td>1.008</td>\n",
              "    </tr>\n",
              "    <tr>\n",
              "      <th>906</th>\n",
              "      <td>千代田区</td>\n",
              "      <td>五番町</td>\n",
              "      <td>五番町</td>\n",
              "      <td>新宿区立四谷中学校</td>\n",
              "      <td>0.804</td>\n",
              "      <td>2.0</td>\n",
              "      <td>0.943</td>\n",
              "    </tr>\n",
              "    <tr>\n",
              "      <th>907</th>\n",
              "      <td>新宿区</td>\n",
              "      <td>荒木町</td>\n",
              "      <td>荒木町</td>\n",
              "      <td>新宿区立四谷中学校</td>\n",
              "      <td>0.856</td>\n",
              "      <td>2.0</td>\n",
              "      <td>0.884</td>\n",
              "    </tr>\n",
              "    <tr>\n",
              "      <th>908</th>\n",
              "      <td>新宿区</td>\n",
              "      <td>舟町</td>\n",
              "      <td>舟町</td>\n",
              "      <td>新宿区立四谷中学校</td>\n",
              "      <td>0.928</td>\n",
              "      <td>2.0</td>\n",
              "      <td>0.842</td>\n",
              "    </tr>\n",
              "    <tr>\n",
              "      <th>909</th>\n",
              "      <td>新宿区</td>\n",
              "      <td>大京町</td>\n",
              "      <td>大京町</td>\n",
              "      <td>新宿区立四谷中学校</td>\n",
              "      <td>1.041</td>\n",
              "      <td>2.0</td>\n",
              "      <td>0.730</td>\n",
              "    </tr>\n",
              "  </tbody>\n",
              "</table>\n",
              "</div>\n",
              "      <button class=\"colab-df-convert\" onclick=\"convertToInteractive('df-1cbc49aa-7b38-4ab7-9f2b-7b05495f4615')\"\n",
              "              title=\"Convert this dataframe to an interactive table.\"\n",
              "              style=\"display:none;\">\n",
              "        \n",
              "  <svg xmlns=\"http://www.w3.org/2000/svg\" height=\"24px\"viewBox=\"0 0 24 24\"\n",
              "       width=\"24px\">\n",
              "    <path d=\"M0 0h24v24H0V0z\" fill=\"none\"/>\n",
              "    <path d=\"M18.56 5.44l.94 2.06.94-2.06 2.06-.94-2.06-.94-.94-2.06-.94 2.06-2.06.94zm-11 1L8.5 8.5l.94-2.06 2.06-.94-2.06-.94L8.5 2.5l-.94 2.06-2.06.94zm10 10l.94 2.06.94-2.06 2.06-.94-2.06-.94-.94-2.06-.94 2.06-2.06.94z\"/><path d=\"M17.41 7.96l-1.37-1.37c-.4-.4-.92-.59-1.43-.59-.52 0-1.04.2-1.43.59L10.3 9.45l-7.72 7.72c-.78.78-.78 2.05 0 2.83L4 21.41c.39.39.9.59 1.41.59.51 0 1.02-.2 1.41-.59l7.78-7.78 2.81-2.81c.8-.78.8-2.07 0-2.86zM5.41 20L4 18.59l7.72-7.72 1.47 1.35L5.41 20z\"/>\n",
              "  </svg>\n",
              "      </button>\n",
              "      \n",
              "  <style>\n",
              "    .colab-df-container {\n",
              "      display:flex;\n",
              "      flex-wrap:wrap;\n",
              "      gap: 12px;\n",
              "    }\n",
              "\n",
              "    .colab-df-convert {\n",
              "      background-color: #E8F0FE;\n",
              "      border: none;\n",
              "      border-radius: 50%;\n",
              "      cursor: pointer;\n",
              "      display: none;\n",
              "      fill: #1967D2;\n",
              "      height: 32px;\n",
              "      padding: 0 0 0 0;\n",
              "      width: 32px;\n",
              "    }\n",
              "\n",
              "    .colab-df-convert:hover {\n",
              "      background-color: #E2EBFA;\n",
              "      box-shadow: 0px 1px 2px rgba(60, 64, 67, 0.3), 0px 1px 3px 1px rgba(60, 64, 67, 0.15);\n",
              "      fill: #174EA6;\n",
              "    }\n",
              "\n",
              "    [theme=dark] .colab-df-convert {\n",
              "      background-color: #3B4455;\n",
              "      fill: #D2E3FC;\n",
              "    }\n",
              "\n",
              "    [theme=dark] .colab-df-convert:hover {\n",
              "      background-color: #434B5C;\n",
              "      box-shadow: 0px 1px 3px 1px rgba(0, 0, 0, 0.15);\n",
              "      filter: drop-shadow(0px 1px 2px rgba(0, 0, 0, 0.3));\n",
              "      fill: #FFFFFF;\n",
              "    }\n",
              "  </style>\n",
              "\n",
              "      <script>\n",
              "        const buttonEl =\n",
              "          document.querySelector('#df-1cbc49aa-7b38-4ab7-9f2b-7b05495f4615 button.colab-df-convert');\n",
              "        buttonEl.style.display =\n",
              "          google.colab.kernel.accessAllowed ? 'block' : 'none';\n",
              "\n",
              "        async function convertToInteractive(key) {\n",
              "          const element = document.querySelector('#df-1cbc49aa-7b38-4ab7-9f2b-7b05495f4615');\n",
              "          const dataTable =\n",
              "            await google.colab.kernel.invokeFunction('convertToInteractive',\n",
              "                                                     [key], {});\n",
              "          if (!dataTable) return;\n",
              "\n",
              "          const docLinkHtml = 'Like what you see? Visit the ' +\n",
              "            '<a target=\"_blank\" href=https://colab.research.google.com/notebooks/data_table.ipynb>data table notebook</a>'\n",
              "            + ' to learn more about interactive tables.';\n",
              "          element.innerHTML = '';\n",
              "          dataTable['output_type'] = 'display_data';\n",
              "          await google.colab.output.renderOutput(dataTable, element);\n",
              "          const docLink = document.createElement('div');\n",
              "          docLink.innerHTML = docLinkHtml;\n",
              "          element.appendChild(docLink);\n",
              "        }\n",
              "      </script>\n",
              "    </div>\n",
              "  </div>\n",
              "  "
            ]
          },
          "metadata": {},
          "execution_count": 45
        }
      ]
    },
    {
      "cell_type": "code",
      "source": [
        "df_level = get_score_top(df_pop_master, '幼稚園')\n",
        "print(df_level.shape)\n",
        "df_level.head(10)"
      ],
      "metadata": {
        "id": "8qmUYLieWXyj",
        "outputId": "7060a6b1-8adc-4574-90b6-ac34a094254e",
        "colab": {
          "base_uri": "https://localhost:8080/",
          "height": 380
        }
      },
      "execution_count": 46,
      "outputs": [
        {
          "output_type": "stream",
          "name": "stdout",
          "text": [
            "(907, 7)\n"
          ]
        },
        {
          "output_type": "execute_result",
          "data": {
            "text/plain": [
              "  市区町村名    町名     町丁目       最寄りの幼稚園  幼稚園(最近傍距離)  幼稚園のレーティング  幼稚園スコア\n",
              "0  千代田区   六番町     六番町    千代田区立番町幼稚園       0.017         5.0   5.000\n",
              "1   新宿区  津久戸町    津久戸町    新宿区立津久戸幼稚園       0.035         5.0   4.891\n",
              "2   江東区   古石場  古石場１丁目    江東区立ちどり幼稚園       0.041         5.0   4.755\n",
              "3   江東区    亀戸   亀戸２丁目   江東区立第一亀戸幼稚園       0.051         5.0   4.673\n",
              "4    港区   元麻布  元麻布３丁目      港区立南山幼稚園       0.064         5.0   4.565\n",
              "5    港区   南麻布  南麻布３丁目      港区立本村幼稚園       0.068         5.0   4.525\n",
              "6   新宿区   西落合  西落合４丁目   新宿区立落合第六幼稚園       0.074         5.0   4.491\n",
              "7   文京区   小日向  小日向２丁目  文京区立小日向台町幼稚園       0.078         5.0   4.461\n",
              "8   品川区   西大井  西大井５丁目     品川区立伊藤幼稚園       0.080         5.0   4.434\n",
              "9   江東区    東砂   東砂４丁目     江東区立東砂幼稚園       0.084         5.0   4.410"
            ],
            "text/html": [
              "\n",
              "  <div id=\"df-811ce37a-5aed-446a-bbfb-03e0c9306fae\">\n",
              "    <div class=\"colab-df-container\">\n",
              "      <div>\n",
              "<style scoped>\n",
              "    .dataframe tbody tr th:only-of-type {\n",
              "        vertical-align: middle;\n",
              "    }\n",
              "\n",
              "    .dataframe tbody tr th {\n",
              "        vertical-align: top;\n",
              "    }\n",
              "\n",
              "    .dataframe thead th {\n",
              "        text-align: right;\n",
              "    }\n",
              "</style>\n",
              "<table border=\"1\" class=\"dataframe\">\n",
              "  <thead>\n",
              "    <tr style=\"text-align: right;\">\n",
              "      <th></th>\n",
              "      <th>市区町村名</th>\n",
              "      <th>町名</th>\n",
              "      <th>町丁目</th>\n",
              "      <th>最寄りの幼稚園</th>\n",
              "      <th>幼稚園(最近傍距離)</th>\n",
              "      <th>幼稚園のレーティング</th>\n",
              "      <th>幼稚園スコア</th>\n",
              "    </tr>\n",
              "  </thead>\n",
              "  <tbody>\n",
              "    <tr>\n",
              "      <th>0</th>\n",
              "      <td>千代田区</td>\n",
              "      <td>六番町</td>\n",
              "      <td>六番町</td>\n",
              "      <td>千代田区立番町幼稚園</td>\n",
              "      <td>0.017</td>\n",
              "      <td>5.0</td>\n",
              "      <td>5.000</td>\n",
              "    </tr>\n",
              "    <tr>\n",
              "      <th>1</th>\n",
              "      <td>新宿区</td>\n",
              "      <td>津久戸町</td>\n",
              "      <td>津久戸町</td>\n",
              "      <td>新宿区立津久戸幼稚園</td>\n",
              "      <td>0.035</td>\n",
              "      <td>5.0</td>\n",
              "      <td>4.891</td>\n",
              "    </tr>\n",
              "    <tr>\n",
              "      <th>2</th>\n",
              "      <td>江東区</td>\n",
              "      <td>古石場</td>\n",
              "      <td>古石場１丁目</td>\n",
              "      <td>江東区立ちどり幼稚園</td>\n",
              "      <td>0.041</td>\n",
              "      <td>5.0</td>\n",
              "      <td>4.755</td>\n",
              "    </tr>\n",
              "    <tr>\n",
              "      <th>3</th>\n",
              "      <td>江東区</td>\n",
              "      <td>亀戸</td>\n",
              "      <td>亀戸２丁目</td>\n",
              "      <td>江東区立第一亀戸幼稚園</td>\n",
              "      <td>0.051</td>\n",
              "      <td>5.0</td>\n",
              "      <td>4.673</td>\n",
              "    </tr>\n",
              "    <tr>\n",
              "      <th>4</th>\n",
              "      <td>港区</td>\n",
              "      <td>元麻布</td>\n",
              "      <td>元麻布３丁目</td>\n",
              "      <td>港区立南山幼稚園</td>\n",
              "      <td>0.064</td>\n",
              "      <td>5.0</td>\n",
              "      <td>4.565</td>\n",
              "    </tr>\n",
              "    <tr>\n",
              "      <th>5</th>\n",
              "      <td>港区</td>\n",
              "      <td>南麻布</td>\n",
              "      <td>南麻布３丁目</td>\n",
              "      <td>港区立本村幼稚園</td>\n",
              "      <td>0.068</td>\n",
              "      <td>5.0</td>\n",
              "      <td>4.525</td>\n",
              "    </tr>\n",
              "    <tr>\n",
              "      <th>6</th>\n",
              "      <td>新宿区</td>\n",
              "      <td>西落合</td>\n",
              "      <td>西落合４丁目</td>\n",
              "      <td>新宿区立落合第六幼稚園</td>\n",
              "      <td>0.074</td>\n",
              "      <td>5.0</td>\n",
              "      <td>4.491</td>\n",
              "    </tr>\n",
              "    <tr>\n",
              "      <th>7</th>\n",
              "      <td>文京区</td>\n",
              "      <td>小日向</td>\n",
              "      <td>小日向２丁目</td>\n",
              "      <td>文京区立小日向台町幼稚園</td>\n",
              "      <td>0.078</td>\n",
              "      <td>5.0</td>\n",
              "      <td>4.461</td>\n",
              "    </tr>\n",
              "    <tr>\n",
              "      <th>8</th>\n",
              "      <td>品川区</td>\n",
              "      <td>西大井</td>\n",
              "      <td>西大井５丁目</td>\n",
              "      <td>品川区立伊藤幼稚園</td>\n",
              "      <td>0.080</td>\n",
              "      <td>5.0</td>\n",
              "      <td>4.434</td>\n",
              "    </tr>\n",
              "    <tr>\n",
              "      <th>9</th>\n",
              "      <td>江東区</td>\n",
              "      <td>東砂</td>\n",
              "      <td>東砂４丁目</td>\n",
              "      <td>江東区立東砂幼稚園</td>\n",
              "      <td>0.084</td>\n",
              "      <td>5.0</td>\n",
              "      <td>4.410</td>\n",
              "    </tr>\n",
              "  </tbody>\n",
              "</table>\n",
              "</div>\n",
              "      <button class=\"colab-df-convert\" onclick=\"convertToInteractive('df-811ce37a-5aed-446a-bbfb-03e0c9306fae')\"\n",
              "              title=\"Convert this dataframe to an interactive table.\"\n",
              "              style=\"display:none;\">\n",
              "        \n",
              "  <svg xmlns=\"http://www.w3.org/2000/svg\" height=\"24px\"viewBox=\"0 0 24 24\"\n",
              "       width=\"24px\">\n",
              "    <path d=\"M0 0h24v24H0V0z\" fill=\"none\"/>\n",
              "    <path d=\"M18.56 5.44l.94 2.06.94-2.06 2.06-.94-2.06-.94-.94-2.06-.94 2.06-2.06.94zm-11 1L8.5 8.5l.94-2.06 2.06-.94-2.06-.94L8.5 2.5l-.94 2.06-2.06.94zm10 10l.94 2.06.94-2.06 2.06-.94-2.06-.94-.94-2.06-.94 2.06-2.06.94z\"/><path d=\"M17.41 7.96l-1.37-1.37c-.4-.4-.92-.59-1.43-.59-.52 0-1.04.2-1.43.59L10.3 9.45l-7.72 7.72c-.78.78-.78 2.05 0 2.83L4 21.41c.39.39.9.59 1.41.59.51 0 1.02-.2 1.41-.59l7.78-7.78 2.81-2.81c.8-.78.8-2.07 0-2.86zM5.41 20L4 18.59l7.72-7.72 1.47 1.35L5.41 20z\"/>\n",
              "  </svg>\n",
              "      </button>\n",
              "      \n",
              "  <style>\n",
              "    .colab-df-container {\n",
              "      display:flex;\n",
              "      flex-wrap:wrap;\n",
              "      gap: 12px;\n",
              "    }\n",
              "\n",
              "    .colab-df-convert {\n",
              "      background-color: #E8F0FE;\n",
              "      border: none;\n",
              "      border-radius: 50%;\n",
              "      cursor: pointer;\n",
              "      display: none;\n",
              "      fill: #1967D2;\n",
              "      height: 32px;\n",
              "      padding: 0 0 0 0;\n",
              "      width: 32px;\n",
              "    }\n",
              "\n",
              "    .colab-df-convert:hover {\n",
              "      background-color: #E2EBFA;\n",
              "      box-shadow: 0px 1px 2px rgba(60, 64, 67, 0.3), 0px 1px 3px 1px rgba(60, 64, 67, 0.15);\n",
              "      fill: #174EA6;\n",
              "    }\n",
              "\n",
              "    [theme=dark] .colab-df-convert {\n",
              "      background-color: #3B4455;\n",
              "      fill: #D2E3FC;\n",
              "    }\n",
              "\n",
              "    [theme=dark] .colab-df-convert:hover {\n",
              "      background-color: #434B5C;\n",
              "      box-shadow: 0px 1px 3px 1px rgba(0, 0, 0, 0.15);\n",
              "      filter: drop-shadow(0px 1px 2px rgba(0, 0, 0, 0.3));\n",
              "      fill: #FFFFFF;\n",
              "    }\n",
              "  </style>\n",
              "\n",
              "      <script>\n",
              "        const buttonEl =\n",
              "          document.querySelector('#df-811ce37a-5aed-446a-bbfb-03e0c9306fae button.colab-df-convert');\n",
              "        buttonEl.style.display =\n",
              "          google.colab.kernel.accessAllowed ? 'block' : 'none';\n",
              "\n",
              "        async function convertToInteractive(key) {\n",
              "          const element = document.querySelector('#df-811ce37a-5aed-446a-bbfb-03e0c9306fae');\n",
              "          const dataTable =\n",
              "            await google.colab.kernel.invokeFunction('convertToInteractive',\n",
              "                                                     [key], {});\n",
              "          if (!dataTable) return;\n",
              "\n",
              "          const docLinkHtml = 'Like what you see? Visit the ' +\n",
              "            '<a target=\"_blank\" href=https://colab.research.google.com/notebooks/data_table.ipynb>data table notebook</a>'\n",
              "            + ' to learn more about interactive tables.';\n",
              "          element.innerHTML = '';\n",
              "          dataTable['output_type'] = 'display_data';\n",
              "          await google.colab.output.renderOutput(dataTable, element);\n",
              "          const docLink = document.createElement('div');\n",
              "          docLink.innerHTML = docLinkHtml;\n",
              "          element.appendChild(docLink);\n",
              "        }\n",
              "      </script>\n",
              "    </div>\n",
              "  </div>\n",
              "  "
            ]
          },
          "metadata": {},
          "execution_count": 46
        }
      ]
    },
    {
      "cell_type": "code",
      "source": [
        "df_level.tail(10)"
      ],
      "metadata": {
        "id": "Sd1E1O3QWhBt",
        "outputId": "8587e29a-baae-420f-e6a2-be2820cf53c1",
        "colab": {
          "base_uri": "https://localhost:8080/",
          "height": 363
        }
      },
      "execution_count": 47,
      "outputs": [
        {
          "output_type": "execute_result",
          "data": {
            "text/plain": [
              "    市区町村名    町名      町丁目         最寄りの幼稚園  幼稚園(最近傍距離)  幼稚園のレーティング  幼稚園スコア\n",
              "897   大田区  羽田空港  羽田空港１丁目    品川区立八潮わかば幼稚園       4.672         3.0   1.134\n",
              "898   大田区  羽田旭町     羽田旭町    品川区立八潮わかば幼稚園       4.724         3.0   1.118\n",
              "899   品川区  東五反田  東五反田２丁目      品川区立御殿山幼稚園       0.339         1.0   1.085\n",
              "900   大田区    羽田    羽田１丁目    品川区立八潮わかば幼稚園       5.113         3.0   1.054\n",
              "901   大田区    萩中    萩中２丁目       品川区立浜川幼稚園       5.137         3.0   1.049\n",
              "902   大田区   本羽田   本羽田３丁目    品川区立八潮わかば幼稚園       5.458         3.0   0.992\n",
              "903   中野区    沼袋    沼袋２丁目     新宿区立落合第六幼稚園       1.269         2.0   0.968\n",
              "904   中野区    若宮    若宮１丁目  杉並区立高円寺北子供園幼稚園       1.360         2.0   0.929\n",
              "905   品川区   西品川   西品川２丁目       品川区立二葉幼稚園       0.632         1.0   0.669\n",
              "906   中野区    丸山    丸山１丁目  杉並区立高円寺北子供園幼稚園       1.975         2.0   0.612"
            ],
            "text/html": [
              "\n",
              "  <div id=\"df-fa33b9cd-383f-4863-b538-61bda216e470\">\n",
              "    <div class=\"colab-df-container\">\n",
              "      <div>\n",
              "<style scoped>\n",
              "    .dataframe tbody tr th:only-of-type {\n",
              "        vertical-align: middle;\n",
              "    }\n",
              "\n",
              "    .dataframe tbody tr th {\n",
              "        vertical-align: top;\n",
              "    }\n",
              "\n",
              "    .dataframe thead th {\n",
              "        text-align: right;\n",
              "    }\n",
              "</style>\n",
              "<table border=\"1\" class=\"dataframe\">\n",
              "  <thead>\n",
              "    <tr style=\"text-align: right;\">\n",
              "      <th></th>\n",
              "      <th>市区町村名</th>\n",
              "      <th>町名</th>\n",
              "      <th>町丁目</th>\n",
              "      <th>最寄りの幼稚園</th>\n",
              "      <th>幼稚園(最近傍距離)</th>\n",
              "      <th>幼稚園のレーティング</th>\n",
              "      <th>幼稚園スコア</th>\n",
              "    </tr>\n",
              "  </thead>\n",
              "  <tbody>\n",
              "    <tr>\n",
              "      <th>897</th>\n",
              "      <td>大田区</td>\n",
              "      <td>羽田空港</td>\n",
              "      <td>羽田空港１丁目</td>\n",
              "      <td>品川区立八潮わかば幼稚園</td>\n",
              "      <td>4.672</td>\n",
              "      <td>3.0</td>\n",
              "      <td>1.134</td>\n",
              "    </tr>\n",
              "    <tr>\n",
              "      <th>898</th>\n",
              "      <td>大田区</td>\n",
              "      <td>羽田旭町</td>\n",
              "      <td>羽田旭町</td>\n",
              "      <td>品川区立八潮わかば幼稚園</td>\n",
              "      <td>4.724</td>\n",
              "      <td>3.0</td>\n",
              "      <td>1.118</td>\n",
              "    </tr>\n",
              "    <tr>\n",
              "      <th>899</th>\n",
              "      <td>品川区</td>\n",
              "      <td>東五反田</td>\n",
              "      <td>東五反田２丁目</td>\n",
              "      <td>品川区立御殿山幼稚園</td>\n",
              "      <td>0.339</td>\n",
              "      <td>1.0</td>\n",
              "      <td>1.085</td>\n",
              "    </tr>\n",
              "    <tr>\n",
              "      <th>900</th>\n",
              "      <td>大田区</td>\n",
              "      <td>羽田</td>\n",
              "      <td>羽田１丁目</td>\n",
              "      <td>品川区立八潮わかば幼稚園</td>\n",
              "      <td>5.113</td>\n",
              "      <td>3.0</td>\n",
              "      <td>1.054</td>\n",
              "    </tr>\n",
              "    <tr>\n",
              "      <th>901</th>\n",
              "      <td>大田区</td>\n",
              "      <td>萩中</td>\n",
              "      <td>萩中２丁目</td>\n",
              "      <td>品川区立浜川幼稚園</td>\n",
              "      <td>5.137</td>\n",
              "      <td>3.0</td>\n",
              "      <td>1.049</td>\n",
              "    </tr>\n",
              "    <tr>\n",
              "      <th>902</th>\n",
              "      <td>大田区</td>\n",
              "      <td>本羽田</td>\n",
              "      <td>本羽田３丁目</td>\n",
              "      <td>品川区立八潮わかば幼稚園</td>\n",
              "      <td>5.458</td>\n",
              "      <td>3.0</td>\n",
              "      <td>0.992</td>\n",
              "    </tr>\n",
              "    <tr>\n",
              "      <th>903</th>\n",
              "      <td>中野区</td>\n",
              "      <td>沼袋</td>\n",
              "      <td>沼袋２丁目</td>\n",
              "      <td>新宿区立落合第六幼稚園</td>\n",
              "      <td>1.269</td>\n",
              "      <td>2.0</td>\n",
              "      <td>0.968</td>\n",
              "    </tr>\n",
              "    <tr>\n",
              "      <th>904</th>\n",
              "      <td>中野区</td>\n",
              "      <td>若宮</td>\n",
              "      <td>若宮１丁目</td>\n",
              "      <td>杉並区立高円寺北子供園幼稚園</td>\n",
              "      <td>1.360</td>\n",
              "      <td>2.0</td>\n",
              "      <td>0.929</td>\n",
              "    </tr>\n",
              "    <tr>\n",
              "      <th>905</th>\n",
              "      <td>品川区</td>\n",
              "      <td>西品川</td>\n",
              "      <td>西品川２丁目</td>\n",
              "      <td>品川区立二葉幼稚園</td>\n",
              "      <td>0.632</td>\n",
              "      <td>1.0</td>\n",
              "      <td>0.669</td>\n",
              "    </tr>\n",
              "    <tr>\n",
              "      <th>906</th>\n",
              "      <td>中野区</td>\n",
              "      <td>丸山</td>\n",
              "      <td>丸山１丁目</td>\n",
              "      <td>杉並区立高円寺北子供園幼稚園</td>\n",
              "      <td>1.975</td>\n",
              "      <td>2.0</td>\n",
              "      <td>0.612</td>\n",
              "    </tr>\n",
              "  </tbody>\n",
              "</table>\n",
              "</div>\n",
              "      <button class=\"colab-df-convert\" onclick=\"convertToInteractive('df-fa33b9cd-383f-4863-b538-61bda216e470')\"\n",
              "              title=\"Convert this dataframe to an interactive table.\"\n",
              "              style=\"display:none;\">\n",
              "        \n",
              "  <svg xmlns=\"http://www.w3.org/2000/svg\" height=\"24px\"viewBox=\"0 0 24 24\"\n",
              "       width=\"24px\">\n",
              "    <path d=\"M0 0h24v24H0V0z\" fill=\"none\"/>\n",
              "    <path d=\"M18.56 5.44l.94 2.06.94-2.06 2.06-.94-2.06-.94-.94-2.06-.94 2.06-2.06.94zm-11 1L8.5 8.5l.94-2.06 2.06-.94-2.06-.94L8.5 2.5l-.94 2.06-2.06.94zm10 10l.94 2.06.94-2.06 2.06-.94-2.06-.94-.94-2.06-.94 2.06-2.06.94z\"/><path d=\"M17.41 7.96l-1.37-1.37c-.4-.4-.92-.59-1.43-.59-.52 0-1.04.2-1.43.59L10.3 9.45l-7.72 7.72c-.78.78-.78 2.05 0 2.83L4 21.41c.39.39.9.59 1.41.59.51 0 1.02-.2 1.41-.59l7.78-7.78 2.81-2.81c.8-.78.8-2.07 0-2.86zM5.41 20L4 18.59l7.72-7.72 1.47 1.35L5.41 20z\"/>\n",
              "  </svg>\n",
              "      </button>\n",
              "      \n",
              "  <style>\n",
              "    .colab-df-container {\n",
              "      display:flex;\n",
              "      flex-wrap:wrap;\n",
              "      gap: 12px;\n",
              "    }\n",
              "\n",
              "    .colab-df-convert {\n",
              "      background-color: #E8F0FE;\n",
              "      border: none;\n",
              "      border-radius: 50%;\n",
              "      cursor: pointer;\n",
              "      display: none;\n",
              "      fill: #1967D2;\n",
              "      height: 32px;\n",
              "      padding: 0 0 0 0;\n",
              "      width: 32px;\n",
              "    }\n",
              "\n",
              "    .colab-df-convert:hover {\n",
              "      background-color: #E2EBFA;\n",
              "      box-shadow: 0px 1px 2px rgba(60, 64, 67, 0.3), 0px 1px 3px 1px rgba(60, 64, 67, 0.15);\n",
              "      fill: #174EA6;\n",
              "    }\n",
              "\n",
              "    [theme=dark] .colab-df-convert {\n",
              "      background-color: #3B4455;\n",
              "      fill: #D2E3FC;\n",
              "    }\n",
              "\n",
              "    [theme=dark] .colab-df-convert:hover {\n",
              "      background-color: #434B5C;\n",
              "      box-shadow: 0px 1px 3px 1px rgba(0, 0, 0, 0.15);\n",
              "      filter: drop-shadow(0px 1px 2px rgba(0, 0, 0, 0.3));\n",
              "      fill: #FFFFFF;\n",
              "    }\n",
              "  </style>\n",
              "\n",
              "      <script>\n",
              "        const buttonEl =\n",
              "          document.querySelector('#df-fa33b9cd-383f-4863-b538-61bda216e470 button.colab-df-convert');\n",
              "        buttonEl.style.display =\n",
              "          google.colab.kernel.accessAllowed ? 'block' : 'none';\n",
              "\n",
              "        async function convertToInteractive(key) {\n",
              "          const element = document.querySelector('#df-fa33b9cd-383f-4863-b538-61bda216e470');\n",
              "          const dataTable =\n",
              "            await google.colab.kernel.invokeFunction('convertToInteractive',\n",
              "                                                     [key], {});\n",
              "          if (!dataTable) return;\n",
              "\n",
              "          const docLinkHtml = 'Like what you see? Visit the ' +\n",
              "            '<a target=\"_blank\" href=https://colab.research.google.com/notebooks/data_table.ipynb>data table notebook</a>'\n",
              "            + ' to learn more about interactive tables.';\n",
              "          element.innerHTML = '';\n",
              "          dataTable['output_type'] = 'display_data';\n",
              "          await google.colab.output.renderOutput(dataTable, element);\n",
              "          const docLink = document.createElement('div');\n",
              "          docLink.innerHTML = docLinkHtml;\n",
              "          element.appendChild(docLink);\n",
              "        }\n",
              "      </script>\n",
              "    </div>\n",
              "  </div>\n",
              "  "
            ]
          },
          "metadata": {},
          "execution_count": 47
        }
      ]
    },
    {
      "cell_type": "code",
      "source": [],
      "metadata": {
        "id": "9EityBHhWi57"
      },
      "execution_count": 47,
      "outputs": []
    }
  ]
}