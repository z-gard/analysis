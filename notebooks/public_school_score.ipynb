{
  "nbformat": 4,
  "nbformat_minor": 0,
  "metadata": {
    "colab": {
      "provenance": [],
      "authorship_tag": "ABX9TyPmZYokWkpgsYSf6i5z4N4e",
      "include_colab_link": true
    },
    "kernelspec": {
      "name": "python3",
      "display_name": "Python 3"
    },
    "language_info": {
      "name": "python"
    }
  },
  "cells": [
    {
      "cell_type": "markdown",
      "metadata": {
        "id": "view-in-github",
        "colab_type": "text"
      },
      "source": [
        "<a href=\"https://colab.research.google.com/github/z-gard/analysis/blob/main/notebooks/public_school_score.ipynb\" target=\"_parent\"><img src=\"https://colab.research.google.com/assets/colab-badge.svg\" alt=\"Open In Colab\"/></a>"
      ]
    },
    {
      "cell_type": "markdown",
      "source": [
        "# 公立学校スコア\n",
        "- input\n",
        "    - public_school_master.csv\n",
        "        - 小学校の位置とレーティング\n",
        "        - 中学校の位置とレーティング\n",
        "        - 中学校の位置とレーティング\n",
        "- output\n",
        "    - public_school_score.csv\n",
        "        - 小学校スコア\n",
        "        - 中学校スコア\n",
        "        - 幼稚園スコア"
      ],
      "metadata": {
        "id": "kP0WeYTi3sb3"
      }
    },
    {
      "cell_type": "code",
      "source": [
        "!pip install -q japanize-matplotlib"
      ],
      "metadata": {
        "id": "E9YHHF2F37-N"
      },
      "execution_count": 1,
      "outputs": []
    },
    {
      "cell_type": "code",
      "execution_count": 2,
      "metadata": {
        "colab": {
          "base_uri": "https://localhost:8080/"
        },
        "id": "w4KT6mck3nOo",
        "outputId": "19594a5a-4122-4bbb-9be5-63888418fdca"
      },
      "outputs": [
        {
          "output_type": "stream",
          "name": "stdout",
          "text": [
            "Drive already mounted at /content/drive; to attempt to forcibly remount, call drive.mount(\"/content/drive\", force_remount=True).\n"
          ]
        }
      ],
      "source": [
        "from google.colab import drive\n",
        "drive.mount('/content/drive')"
      ]
    },
    {
      "cell_type": "code",
      "source": [
        "DIR_NAME = '/content/drive/MyDrive/z-gard/data'"
      ],
      "metadata": {
        "id": "ScoGtQsV3sA0"
      },
      "execution_count": 3,
      "outputs": []
    },
    {
      "cell_type": "code",
      "source": [
        "import os\n",
        "import requests\n",
        "import json\n",
        "import pandas as pd\n",
        "from urllib.parse import urlparse, quote\n",
        "import io\n",
        "import math\n",
        "import numpy as np\n",
        "import matplotlib.pyplot as plt\n",
        "import japanize_matplotlib\n",
        "import seaborn as sns\n",
        "\n",
        "pd.set_option('display.max_columns', 50)\n",
        "pd.set_option('display.max_rows', 100)"
      ],
      "metadata": {
        "id": "1ef9tlAW3zxE"
      },
      "execution_count": 4,
      "outputs": []
    },
    {
      "cell_type": "code",
      "source": [
        "output_score_file = 'public_school_score.csv'"
      ],
      "metadata": {
        "id": "yRV4HuouJ1TX"
      },
      "execution_count": 5,
      "outputs": []
    },
    {
      "cell_type": "markdown",
      "source": [
        "### 人口マスタ"
      ],
      "metadata": {
        "id": "XRO-NFWf4Gnn"
      }
    },
    {
      "cell_type": "code",
      "source": [
        "df_pop_master = pd.read_csv(os.path.join(DIR_NAME, 'population_master.csv'))[['地域ID', '市区町村名', '町名', '町丁目', '緯度', '経度']]\n",
        "print(df_pop_master.shape)"
      ],
      "metadata": {
        "colab": {
          "base_uri": "https://localhost:8080/"
        },
        "id": "hD-7wSVN4BH0",
        "outputId": "5caea4f0-23d7-4bac-9afa-647316f04171"
      },
      "execution_count": 6,
      "outputs": [
        {
          "output_type": "stream",
          "name": "stdout",
          "text": [
            "(3145, 6)\n"
          ]
        }
      ]
    },
    {
      "cell_type": "markdown",
      "source": [
        "### 学校"
      ],
      "metadata": {
        "id": "2-pBdXmw4Ktq"
      }
    },
    {
      "cell_type": "code",
      "source": [
        "df_school_master = pd.read_csv(os.path.join(DIR_NAME, 'public_school_master.csv'))[['学校番号', '施設分類', '市区町村名', '名称', '緯度', '経度', 'rating']]\n",
        "df_school_master['学校番号'] = df_school_master['学校番号'].astype(str)\n",
        "print(df_school_master.shape)"
      ],
      "metadata": {
        "colab": {
          "base_uri": "https://localhost:8080/"
        },
        "id": "bZ7JBlaa4JtN",
        "outputId": "8c14bb6c-6e72-4dd7-af1e-e9f5423f33ce"
      },
      "execution_count": 7,
      "outputs": [
        {
          "output_type": "stream",
          "name": "stdout",
          "text": [
            "(1363, 7)\n"
          ]
        }
      ]
    },
    {
      "cell_type": "code",
      "source": [
        "# レーティングが0.0の学校は、区ごとの平均で埋める\n",
        "mean_rating = df_school_master.groupby(['施設分類', '市区町村名'])['rating'].transform('mean').round(2)\n",
        "df_school_master.loc[df_school_master['rating'] == 0, 'rating'] = mean_rating"
      ],
      "metadata": {
        "id": "QDXw302IR-4K"
      },
      "execution_count": 8,
      "outputs": []
    },
    {
      "cell_type": "code",
      "source": [
        "df_school_master.head()"
      ],
      "metadata": {
        "colab": {
          "base_uri": "https://localhost:8080/",
          "height": 206
        },
        "id": "4l7rTSqAT231",
        "outputId": "99f48865-5321-4037-f249-8e239f74c7e7"
      },
      "execution_count": 9,
      "outputs": [
        {
          "output_type": "execute_result",
          "data": {
            "text/plain": [
              "     学校番号 施設分類 市区町村名            名称         緯度          経度  rating\n",
              "0  101150  幼稚園  千代田区    千代田区立麹町幼稚園  35.685691  139.740164    1.56\n",
              "1  101160  幼稚園  千代田区    千代田区立九段幼稚園  35.690666  139.741195    1.56\n",
              "2  101170  幼稚園  千代田区    千代田区立番町幼稚園  35.687629  139.733426    5.00\n",
              "3  101190  幼稚園  千代田区  千代田区立お茶の水幼稚園  35.697445  139.748569    4.00\n",
              "4  101200  幼稚園  千代田区   千代田区立千代田幼稚園  35.693169  139.768274    1.56"
            ],
            "text/html": [
              "\n",
              "  <div id=\"df-0c0ef0a8-5576-4d09-9071-419353ca1bea\">\n",
              "    <div class=\"colab-df-container\">\n",
              "      <div>\n",
              "<style scoped>\n",
              "    .dataframe tbody tr th:only-of-type {\n",
              "        vertical-align: middle;\n",
              "    }\n",
              "\n",
              "    .dataframe tbody tr th {\n",
              "        vertical-align: top;\n",
              "    }\n",
              "\n",
              "    .dataframe thead th {\n",
              "        text-align: right;\n",
              "    }\n",
              "</style>\n",
              "<table border=\"1\" class=\"dataframe\">\n",
              "  <thead>\n",
              "    <tr style=\"text-align: right;\">\n",
              "      <th></th>\n",
              "      <th>学校番号</th>\n",
              "      <th>施設分類</th>\n",
              "      <th>市区町村名</th>\n",
              "      <th>名称</th>\n",
              "      <th>緯度</th>\n",
              "      <th>経度</th>\n",
              "      <th>rating</th>\n",
              "    </tr>\n",
              "  </thead>\n",
              "  <tbody>\n",
              "    <tr>\n",
              "      <th>0</th>\n",
              "      <td>101150</td>\n",
              "      <td>幼稚園</td>\n",
              "      <td>千代田区</td>\n",
              "      <td>千代田区立麹町幼稚園</td>\n",
              "      <td>35.685691</td>\n",
              "      <td>139.740164</td>\n",
              "      <td>1.56</td>\n",
              "    </tr>\n",
              "    <tr>\n",
              "      <th>1</th>\n",
              "      <td>101160</td>\n",
              "      <td>幼稚園</td>\n",
              "      <td>千代田区</td>\n",
              "      <td>千代田区立九段幼稚園</td>\n",
              "      <td>35.690666</td>\n",
              "      <td>139.741195</td>\n",
              "      <td>1.56</td>\n",
              "    </tr>\n",
              "    <tr>\n",
              "      <th>2</th>\n",
              "      <td>101170</td>\n",
              "      <td>幼稚園</td>\n",
              "      <td>千代田区</td>\n",
              "      <td>千代田区立番町幼稚園</td>\n",
              "      <td>35.687629</td>\n",
              "      <td>139.733426</td>\n",
              "      <td>5.00</td>\n",
              "    </tr>\n",
              "    <tr>\n",
              "      <th>3</th>\n",
              "      <td>101190</td>\n",
              "      <td>幼稚園</td>\n",
              "      <td>千代田区</td>\n",
              "      <td>千代田区立お茶の水幼稚園</td>\n",
              "      <td>35.697445</td>\n",
              "      <td>139.748569</td>\n",
              "      <td>4.00</td>\n",
              "    </tr>\n",
              "    <tr>\n",
              "      <th>4</th>\n",
              "      <td>101200</td>\n",
              "      <td>幼稚園</td>\n",
              "      <td>千代田区</td>\n",
              "      <td>千代田区立千代田幼稚園</td>\n",
              "      <td>35.693169</td>\n",
              "      <td>139.768274</td>\n",
              "      <td>1.56</td>\n",
              "    </tr>\n",
              "  </tbody>\n",
              "</table>\n",
              "</div>\n",
              "      <button class=\"colab-df-convert\" onclick=\"convertToInteractive('df-0c0ef0a8-5576-4d09-9071-419353ca1bea')\"\n",
              "              title=\"Convert this dataframe to an interactive table.\"\n",
              "              style=\"display:none;\">\n",
              "        \n",
              "  <svg xmlns=\"http://www.w3.org/2000/svg\" height=\"24px\"viewBox=\"0 0 24 24\"\n",
              "       width=\"24px\">\n",
              "    <path d=\"M0 0h24v24H0V0z\" fill=\"none\"/>\n",
              "    <path d=\"M18.56 5.44l.94 2.06.94-2.06 2.06-.94-2.06-.94-.94-2.06-.94 2.06-2.06.94zm-11 1L8.5 8.5l.94-2.06 2.06-.94-2.06-.94L8.5 2.5l-.94 2.06-2.06.94zm10 10l.94 2.06.94-2.06 2.06-.94-2.06-.94-.94-2.06-.94 2.06-2.06.94z\"/><path d=\"M17.41 7.96l-1.37-1.37c-.4-.4-.92-.59-1.43-.59-.52 0-1.04.2-1.43.59L10.3 9.45l-7.72 7.72c-.78.78-.78 2.05 0 2.83L4 21.41c.39.39.9.59 1.41.59.51 0 1.02-.2 1.41-.59l7.78-7.78 2.81-2.81c.8-.78.8-2.07 0-2.86zM5.41 20L4 18.59l7.72-7.72 1.47 1.35L5.41 20z\"/>\n",
              "  </svg>\n",
              "      </button>\n",
              "      \n",
              "  <style>\n",
              "    .colab-df-container {\n",
              "      display:flex;\n",
              "      flex-wrap:wrap;\n",
              "      gap: 12px;\n",
              "    }\n",
              "\n",
              "    .colab-df-convert {\n",
              "      background-color: #E8F0FE;\n",
              "      border: none;\n",
              "      border-radius: 50%;\n",
              "      cursor: pointer;\n",
              "      display: none;\n",
              "      fill: #1967D2;\n",
              "      height: 32px;\n",
              "      padding: 0 0 0 0;\n",
              "      width: 32px;\n",
              "    }\n",
              "\n",
              "    .colab-df-convert:hover {\n",
              "      background-color: #E2EBFA;\n",
              "      box-shadow: 0px 1px 2px rgba(60, 64, 67, 0.3), 0px 1px 3px 1px rgba(60, 64, 67, 0.15);\n",
              "      fill: #174EA6;\n",
              "    }\n",
              "\n",
              "    [theme=dark] .colab-df-convert {\n",
              "      background-color: #3B4455;\n",
              "      fill: #D2E3FC;\n",
              "    }\n",
              "\n",
              "    [theme=dark] .colab-df-convert:hover {\n",
              "      background-color: #434B5C;\n",
              "      box-shadow: 0px 1px 3px 1px rgba(0, 0, 0, 0.15);\n",
              "      filter: drop-shadow(0px 1px 2px rgba(0, 0, 0, 0.3));\n",
              "      fill: #FFFFFF;\n",
              "    }\n",
              "  </style>\n",
              "\n",
              "      <script>\n",
              "        const buttonEl =\n",
              "          document.querySelector('#df-0c0ef0a8-5576-4d09-9071-419353ca1bea button.colab-df-convert');\n",
              "        buttonEl.style.display =\n",
              "          google.colab.kernel.accessAllowed ? 'block' : 'none';\n",
              "\n",
              "        async function convertToInteractive(key) {\n",
              "          const element = document.querySelector('#df-0c0ef0a8-5576-4d09-9071-419353ca1bea');\n",
              "          const dataTable =\n",
              "            await google.colab.kernel.invokeFunction('convertToInteractive',\n",
              "                                                     [key], {});\n",
              "          if (!dataTable) return;\n",
              "\n",
              "          const docLinkHtml = 'Like what you see? Visit the ' +\n",
              "            '<a target=\"_blank\" href=https://colab.research.google.com/notebooks/data_table.ipynb>data table notebook</a>'\n",
              "            + ' to learn more about interactive tables.';\n",
              "          element.innerHTML = '';\n",
              "          dataTable['output_type'] = 'display_data';\n",
              "          await google.colab.output.renderOutput(dataTable, element);\n",
              "          const docLink = document.createElement('div');\n",
              "          docLink.innerHTML = docLinkHtml;\n",
              "          element.appendChild(docLink);\n",
              "        }\n",
              "      </script>\n",
              "    </div>\n",
              "  </div>\n",
              "  "
            ]
          },
          "metadata": {},
          "execution_count": 9
        }
      ]
    },
    {
      "cell_type": "code",
      "source": [
        "# 距離計算\n",
        "def get_distance(lat1, lon1, lat2, lon2):\n",
        "    _lat1 = lat1 * math.pi / 180\n",
        "    _lon1 = lon1 * math.pi / 180\n",
        "    _lat2 = lat2 * math.pi / 180\n",
        "    _lon2 = lon2 * math.pi / 180\n",
        "    _tmp = math.cos(_lat1) * math.cos(_lat2) * math.cos(_lon2 - _lon1) + math.sin(_lat1) * math.sin(_lat2)\n",
        "    _tmp = 1 if _tmp > 1 else -1 if _tmp < -1 else _tmp\n",
        "    return 6371 * math.acos(_tmp)\n",
        "\n",
        "# 最寄り施設までの距離\n",
        "def get_value_of_nearest_facility(df_master, df_facility, category, method='min', param=3):\n",
        "    _df_cat = df_facility[df_facility['施設分類'] == category].reset_index(drop=True)\n",
        "    cat_values = []\n",
        "    for i, row in df_master.iterrows():\n",
        "        dist = _df_cat.apply(lambda x: get_distance(x['緯度'], x['経度'], row['緯度'], row['経度']), axis=1)\n",
        "        val = None\n",
        "        if method == 'min':\n",
        "            # 最小の距離\n",
        "            val = dist.min()\n",
        "        elif method == 'min_param':\n",
        "            # 最小の距離の時の他のパラメータを返す\n",
        "            min_idx = dist.idxmin()\n",
        "            if np.isnan(min_idx):\n",
        "                val = np.NaN\n",
        "            else:\n",
        "                val = _df_cat.iloc[min_idx][param]\n",
        "        elif method == 'count':\n",
        "            # {param}km以内の施設の数をカウント\n",
        "            val = len(dist[dist <= param])\n",
        "        elif method == 'mean':\n",
        "            # 近い{param}件の距離の平均\n",
        "            val = dist.sort_values()[:param].mean()\n",
        "        cat_values.append(val)\n",
        "    return cat_values"
      ],
      "metadata": {
        "id": "_zuCoLhg48ZN"
      },
      "execution_count": 10,
      "outputs": []
    },
    {
      "cell_type": "markdown",
      "source": [
        "### スコア"
      ],
      "metadata": {
        "id": "IILAQB3vA02_"
      }
    },
    {
      "cell_type": "code",
      "source": [
        "%%time\n",
        "# 一番近い施設の距離\n",
        "df_pop_master['小学校(最近傍距離)'] = get_value_of_nearest_facility(df_pop_master, df_school_master, '小学校', 'min')\n",
        "# 一番近い施設の距離\n",
        "df_pop_master['中学校(最近傍距離)'] = get_value_of_nearest_facility(df_pop_master, df_school_master, '中学校', 'min')\n",
        "# 一番近い施設の距離\n",
        "df_pop_master['幼稚園(最近傍距離)'] = get_value_of_nearest_facility(df_pop_master, df_school_master, '幼稚園', 'min')\n",
        "# 最寄りの小学校\n",
        "df_pop_master['小学校(学校番号)'] = get_value_of_nearest_facility(df_pop_master, df_school_master, '小学校', 'min_param', '学校番号')\n",
        "# 最寄りの中学校\n",
        "df_pop_master['中学校(学校番号)'] = get_value_of_nearest_facility(df_pop_master, df_school_master, '中学校', 'min_param', '学校番号')\n",
        "# 最寄りの幼稚園\n",
        "df_pop_master['幼稚園(学校番号)'] = get_value_of_nearest_facility(df_pop_master, df_school_master, '幼稚園', 'min_param', '学校番号')"
      ],
      "metadata": {
        "colab": {
          "base_uri": "https://localhost:8080/"
        },
        "id": "GOWzRaqi5JH2",
        "outputId": "a421528d-e21b-467b-e874-ae5bb8c39a63"
      },
      "execution_count": 11,
      "outputs": [
        {
          "output_type": "stream",
          "name": "stdout",
          "text": [
            "CPU times: user 3min 42s, sys: 1.16 s, total: 3min 43s\n",
            "Wall time: 3min 48s\n"
          ]
        }
      ]
    },
    {
      "cell_type": "code",
      "source": [
        "df_pop_master_merge = pd.merge(\n",
        "    df_pop_master, \n",
        "    df_school_master[['学校番号', '名称', 'rating']].rename(columns={'学校番号': '小学校(学校番号)', '名称':'最寄りの小学校', 'rating':'小学校のレーティング'}), \n",
        "    on='小学校(学校番号)', how='left'\n",
        ")\n",
        "df_pop_master_merge = pd.merge(\n",
        "    df_pop_master_merge, \n",
        "    df_school_master[['学校番号', '名称', 'rating']].rename(columns={'学校番号': '中学校(学校番号)', '名称':'最寄りの中学校', 'rating':'中学校のレーティング'}), \n",
        "    on='中学校(学校番号)', how='left'\n",
        ")\n",
        "df_pop_master_merge = pd.merge(\n",
        "    df_pop_master_merge, \n",
        "    df_school_master[['学校番号', '名称', 'rating']].rename(columns={'学校番号': '幼稚園(学校番号)', '名称':'最寄りの幼稚園', 'rating':'幼稚園のレーティング'}), \n",
        "    on='幼稚園(学校番号)', how='left'\n",
        ")\n",
        "df_pop_master_merge = df_pop_master_merge.drop(columns=['緯度', '経度', '小学校(学校番号)', '中学校(学校番号)', '幼稚園(学校番号)'])\n",
        "print(df_pop_master_merge.shape)"
      ],
      "metadata": {
        "colab": {
          "base_uri": "https://localhost:8080/"
        },
        "id": "MQlpmb2jTdZs",
        "outputId": "2a6f85fa-6d37-4868-e3ed-6ec8d69745b0"
      },
      "execution_count": 12,
      "outputs": [
        {
          "output_type": "stream",
          "name": "stdout",
          "text": [
            "(3145, 13)\n"
          ]
        }
      ]
    },
    {
      "cell_type": "code",
      "source": [
        "assert len(df_pop_master_merge) == len(df_pop_master)\n",
        "df_pop_master = df_pop_master_merge"
      ],
      "metadata": {
        "id": "rAXQrX6FUnNF"
      },
      "execution_count": 13,
      "outputs": []
    },
    {
      "cell_type": "code",
      "source": [
        "print(df_pop_master.shape)\n",
        "df_pop_master.head()"
      ],
      "metadata": {
        "colab": {
          "base_uri": "https://localhost:8080/",
          "height": 372
        },
        "id": "GbdMQ-rc7G9B",
        "outputId": "8e3d57c8-6f95-4df1-e46e-aae00858c54a"
      },
      "execution_count": 14,
      "outputs": [
        {
          "output_type": "stream",
          "name": "stdout",
          "text": [
            "(3145, 13)\n"
          ]
        },
        {
          "output_type": "execute_result",
          "data": {
            "text/plain": [
              "     地域ID 市区町村名   町名     町丁目  小学校(最近傍距離)  中学校(最近傍距離)  幼稚園(最近傍距離)    最寄りの小学校  \\\n",
              "0  101003  千代田区  丸の内  丸の内１丁目    0.342000    1.700911    0.298203  中央区立城東小学校   \n",
              "1  101004  千代田区  丸の内  丸の内２丁目    0.524351    1.630921    0.505898  中央区立城東小学校   \n",
              "2  101005  千代田区  丸の内  丸の内３丁目    0.557686    1.277244    0.564959  中央区立城東小学校   \n",
              "3  101007  千代田区  大手町  大手町１丁目    0.555875    0.961946    0.555725  中央区立常盤小学校   \n",
              "4  101008  千代田区  大手町  大手町２丁目    0.258117    1.364439    0.255021  中央区立常盤小学校   \n",
              "\n",
              "   小学校のレーティング       最寄りの中学校  中学校のレーティング    最寄りの幼稚園  幼稚園のレーティング  \n",
              "0         4.1  千代田区立神田一橋中学校         3.5  中央区立昭和幼稚園        2.39  \n",
              "1         4.1     中央区立銀座中学校         3.5  中央区立昭和幼稚園        2.39  \n",
              "2         4.1     中央区立銀座中学校         3.5  中央区立泰明幼稚園        3.40  \n",
              "3         4.2  千代田区立神田一橋中学校         3.5  中央区立常盤幼稚園        3.00  \n",
              "4         4.2  千代田区立神田一橋中学校         3.5  中央区立常盤幼稚園        3.00  "
            ],
            "text/html": [
              "\n",
              "  <div id=\"df-95e2b015-e22a-4aef-a5ed-c5d72c835a20\">\n",
              "    <div class=\"colab-df-container\">\n",
              "      <div>\n",
              "<style scoped>\n",
              "    .dataframe tbody tr th:only-of-type {\n",
              "        vertical-align: middle;\n",
              "    }\n",
              "\n",
              "    .dataframe tbody tr th {\n",
              "        vertical-align: top;\n",
              "    }\n",
              "\n",
              "    .dataframe thead th {\n",
              "        text-align: right;\n",
              "    }\n",
              "</style>\n",
              "<table border=\"1\" class=\"dataframe\">\n",
              "  <thead>\n",
              "    <tr style=\"text-align: right;\">\n",
              "      <th></th>\n",
              "      <th>地域ID</th>\n",
              "      <th>市区町村名</th>\n",
              "      <th>町名</th>\n",
              "      <th>町丁目</th>\n",
              "      <th>小学校(最近傍距離)</th>\n",
              "      <th>中学校(最近傍距離)</th>\n",
              "      <th>幼稚園(最近傍距離)</th>\n",
              "      <th>最寄りの小学校</th>\n",
              "      <th>小学校のレーティング</th>\n",
              "      <th>最寄りの中学校</th>\n",
              "      <th>中学校のレーティング</th>\n",
              "      <th>最寄りの幼稚園</th>\n",
              "      <th>幼稚園のレーティング</th>\n",
              "    </tr>\n",
              "  </thead>\n",
              "  <tbody>\n",
              "    <tr>\n",
              "      <th>0</th>\n",
              "      <td>101003</td>\n",
              "      <td>千代田区</td>\n",
              "      <td>丸の内</td>\n",
              "      <td>丸の内１丁目</td>\n",
              "      <td>0.342000</td>\n",
              "      <td>1.700911</td>\n",
              "      <td>0.298203</td>\n",
              "      <td>中央区立城東小学校</td>\n",
              "      <td>4.1</td>\n",
              "      <td>千代田区立神田一橋中学校</td>\n",
              "      <td>3.5</td>\n",
              "      <td>中央区立昭和幼稚園</td>\n",
              "      <td>2.39</td>\n",
              "    </tr>\n",
              "    <tr>\n",
              "      <th>1</th>\n",
              "      <td>101004</td>\n",
              "      <td>千代田区</td>\n",
              "      <td>丸の内</td>\n",
              "      <td>丸の内２丁目</td>\n",
              "      <td>0.524351</td>\n",
              "      <td>1.630921</td>\n",
              "      <td>0.505898</td>\n",
              "      <td>中央区立城東小学校</td>\n",
              "      <td>4.1</td>\n",
              "      <td>中央区立銀座中学校</td>\n",
              "      <td>3.5</td>\n",
              "      <td>中央区立昭和幼稚園</td>\n",
              "      <td>2.39</td>\n",
              "    </tr>\n",
              "    <tr>\n",
              "      <th>2</th>\n",
              "      <td>101005</td>\n",
              "      <td>千代田区</td>\n",
              "      <td>丸の内</td>\n",
              "      <td>丸の内３丁目</td>\n",
              "      <td>0.557686</td>\n",
              "      <td>1.277244</td>\n",
              "      <td>0.564959</td>\n",
              "      <td>中央区立城東小学校</td>\n",
              "      <td>4.1</td>\n",
              "      <td>中央区立銀座中学校</td>\n",
              "      <td>3.5</td>\n",
              "      <td>中央区立泰明幼稚園</td>\n",
              "      <td>3.40</td>\n",
              "    </tr>\n",
              "    <tr>\n",
              "      <th>3</th>\n",
              "      <td>101007</td>\n",
              "      <td>千代田区</td>\n",
              "      <td>大手町</td>\n",
              "      <td>大手町１丁目</td>\n",
              "      <td>0.555875</td>\n",
              "      <td>0.961946</td>\n",
              "      <td>0.555725</td>\n",
              "      <td>中央区立常盤小学校</td>\n",
              "      <td>4.2</td>\n",
              "      <td>千代田区立神田一橋中学校</td>\n",
              "      <td>3.5</td>\n",
              "      <td>中央区立常盤幼稚園</td>\n",
              "      <td>3.00</td>\n",
              "    </tr>\n",
              "    <tr>\n",
              "      <th>4</th>\n",
              "      <td>101008</td>\n",
              "      <td>千代田区</td>\n",
              "      <td>大手町</td>\n",
              "      <td>大手町２丁目</td>\n",
              "      <td>0.258117</td>\n",
              "      <td>1.364439</td>\n",
              "      <td>0.255021</td>\n",
              "      <td>中央区立常盤小学校</td>\n",
              "      <td>4.2</td>\n",
              "      <td>千代田区立神田一橋中学校</td>\n",
              "      <td>3.5</td>\n",
              "      <td>中央区立常盤幼稚園</td>\n",
              "      <td>3.00</td>\n",
              "    </tr>\n",
              "  </tbody>\n",
              "</table>\n",
              "</div>\n",
              "      <button class=\"colab-df-convert\" onclick=\"convertToInteractive('df-95e2b015-e22a-4aef-a5ed-c5d72c835a20')\"\n",
              "              title=\"Convert this dataframe to an interactive table.\"\n",
              "              style=\"display:none;\">\n",
              "        \n",
              "  <svg xmlns=\"http://www.w3.org/2000/svg\" height=\"24px\"viewBox=\"0 0 24 24\"\n",
              "       width=\"24px\">\n",
              "    <path d=\"M0 0h24v24H0V0z\" fill=\"none\"/>\n",
              "    <path d=\"M18.56 5.44l.94 2.06.94-2.06 2.06-.94-2.06-.94-.94-2.06-.94 2.06-2.06.94zm-11 1L8.5 8.5l.94-2.06 2.06-.94-2.06-.94L8.5 2.5l-.94 2.06-2.06.94zm10 10l.94 2.06.94-2.06 2.06-.94-2.06-.94-.94-2.06-.94 2.06-2.06.94z\"/><path d=\"M17.41 7.96l-1.37-1.37c-.4-.4-.92-.59-1.43-.59-.52 0-1.04.2-1.43.59L10.3 9.45l-7.72 7.72c-.78.78-.78 2.05 0 2.83L4 21.41c.39.39.9.59 1.41.59.51 0 1.02-.2 1.41-.59l7.78-7.78 2.81-2.81c.8-.78.8-2.07 0-2.86zM5.41 20L4 18.59l7.72-7.72 1.47 1.35L5.41 20z\"/>\n",
              "  </svg>\n",
              "      </button>\n",
              "      \n",
              "  <style>\n",
              "    .colab-df-container {\n",
              "      display:flex;\n",
              "      flex-wrap:wrap;\n",
              "      gap: 12px;\n",
              "    }\n",
              "\n",
              "    .colab-df-convert {\n",
              "      background-color: #E8F0FE;\n",
              "      border: none;\n",
              "      border-radius: 50%;\n",
              "      cursor: pointer;\n",
              "      display: none;\n",
              "      fill: #1967D2;\n",
              "      height: 32px;\n",
              "      padding: 0 0 0 0;\n",
              "      width: 32px;\n",
              "    }\n",
              "\n",
              "    .colab-df-convert:hover {\n",
              "      background-color: #E2EBFA;\n",
              "      box-shadow: 0px 1px 2px rgba(60, 64, 67, 0.3), 0px 1px 3px 1px rgba(60, 64, 67, 0.15);\n",
              "      fill: #174EA6;\n",
              "    }\n",
              "\n",
              "    [theme=dark] .colab-df-convert {\n",
              "      background-color: #3B4455;\n",
              "      fill: #D2E3FC;\n",
              "    }\n",
              "\n",
              "    [theme=dark] .colab-df-convert:hover {\n",
              "      background-color: #434B5C;\n",
              "      box-shadow: 0px 1px 3px 1px rgba(0, 0, 0, 0.15);\n",
              "      filter: drop-shadow(0px 1px 2px rgba(0, 0, 0, 0.3));\n",
              "      fill: #FFFFFF;\n",
              "    }\n",
              "  </style>\n",
              "\n",
              "      <script>\n",
              "        const buttonEl =\n",
              "          document.querySelector('#df-95e2b015-e22a-4aef-a5ed-c5d72c835a20 button.colab-df-convert');\n",
              "        buttonEl.style.display =\n",
              "          google.colab.kernel.accessAllowed ? 'block' : 'none';\n",
              "\n",
              "        async function convertToInteractive(key) {\n",
              "          const element = document.querySelector('#df-95e2b015-e22a-4aef-a5ed-c5d72c835a20');\n",
              "          const dataTable =\n",
              "            await google.colab.kernel.invokeFunction('convertToInteractive',\n",
              "                                                     [key], {});\n",
              "          if (!dataTable) return;\n",
              "\n",
              "          const docLinkHtml = 'Like what you see? Visit the ' +\n",
              "            '<a target=\"_blank\" href=https://colab.research.google.com/notebooks/data_table.ipynb>data table notebook</a>'\n",
              "            + ' to learn more about interactive tables.';\n",
              "          element.innerHTML = '';\n",
              "          dataTable['output_type'] = 'display_data';\n",
              "          await google.colab.output.renderOutput(dataTable, element);\n",
              "          const docLink = document.createElement('div');\n",
              "          docLink.innerHTML = docLinkHtml;\n",
              "          element.appendChild(docLink);\n",
              "        }\n",
              "      </script>\n",
              "    </div>\n",
              "  </div>\n",
              "  "
            ]
          },
          "metadata": {},
          "execution_count": 14
        }
      ]
    },
    {
      "cell_type": "code",
      "source": [
        "def rank_score(sr_data):\n",
        "    size = sr_data.notna().sum()\n",
        "    rank = sr_data.rank()\n",
        "    result = rank.copy()\n",
        "    # 0~1: 15%, 1~2: 20%, 2~3: 30%, 3~4: 20%, 4~5: 15%\n",
        "    level_list = [0.15, (0.15+0.2), (0.15+0.2+0.3), (0.15+0.2+0.3+0.2), 1]\n",
        "    \n",
        "    pre_level = 0\n",
        "    for index, level in enumerate([lv*size for lv in level_list]):\n",
        "        result[(rank > pre_level)&(rank <= level)] = (rank - pre_level)/(level - pre_level) + index\n",
        "        pre_level = level\n",
        "\n",
        "    return result"
      ],
      "metadata": {
        "id": "LdClGOPa7YS5"
      },
      "execution_count": 15,
      "outputs": []
    },
    {
      "cell_type": "markdown",
      "source": [
        "## 小学校スコア"
      ],
      "metadata": {
        "id": "fLroPQUWJHGv"
      }
    },
    {
      "cell_type": "code",
      "source": [
        "all_feature_list = []\n",
        "all_score_list = []"
      ],
      "metadata": {
        "id": "ZOQkcdylNJ6K"
      },
      "execution_count": 16,
      "outputs": []
    },
    {
      "cell_type": "code",
      "source": [
        "score_name = '小学校スコア'\n",
        "feature_list = {\n",
        "    '小学校(最近傍距離)': {'sort': -1, 'weight': 0.5}, \n",
        "    '小学校のレーティング': {'sort': 1, 'weight': 1}, \n",
        "}\n",
        "all_feature_list += list(feature_list.keys())\n",
        "all_score_list.append(score_name)"
      ],
      "metadata": {
        "id": "U7duaODMWsas"
      },
      "execution_count": 17,
      "outputs": []
    },
    {
      "cell_type": "code",
      "source": [
        "for feature_name in feature_list.keys():\n",
        "    sns.histplot(df_pop_master[feature_name], bins=20)\n",
        "    plt.show()"
      ],
      "metadata": {
        "colab": {
          "base_uri": "https://localhost:8080/",
          "height": 539
        },
        "id": "omSbyVRv7Jjj",
        "outputId": "b065546c-6aee-47d7-c964-7c75c846bb5a"
      },
      "execution_count": 18,
      "outputs": [
        {
          "output_type": "display_data",
          "data": {
            "text/plain": [
              "<Figure size 432x288 with 1 Axes>"
            ],
            "image/png": "[encoded data removed]"
          },
          "metadata": {
            "needs_background": "light"
          }
        },
        {
          "output_type": "display_data",
          "data": {
            "text/plain": [
              "<Figure size 432x288 with 1 Axes>"
            ],
            "image/png": "[encoded data removed]"
          },
          "metadata": {
            "needs_background": "light"
          }
        }
      ]
    },
    {
      "cell_type": "code",
      "source": [
        "score_list = []\n",
        "for key, value in feature_list.items():\n",
        "    df_pop_master[f'{key}レベル'] = rank_score(df_pop_master[key] * value['sort'])\n",
        "    score_list.append(df_pop_master[f'{key}レベル'] * value['weight'])\n",
        "\n",
        "_tmp_score = pd.concat(score_list, axis=1).sum(axis=1, skipna=False)\n",
        "df_pop_master[score_name] = rank_score(_tmp_score)"
      ],
      "metadata": {
        "id": "NX28XbUB9b2C"
      },
      "execution_count": 19,
      "outputs": []
    },
    {
      "cell_type": "code",
      "source": [
        "sns.histplot(_tmp_score, bins=20)\n",
        "plt.show()"
      ],
      "metadata": {
        "id": "zR8rp6QOJr8g",
        "outputId": "ae34a0e4-20d6-4597-820f-bf3d355775c2",
        "colab": {
          "base_uri": "https://localhost:8080/",
          "height": 264
        }
      },
      "execution_count": 20,
      "outputs": [
        {
          "output_type": "display_data",
          "data": {
            "text/plain": [
              "<Figure size 432x288 with 1 Axes>"
            ],
            "image/png": "[encoded data removed]"
          },
          "metadata": {
            "needs_background": "light"
          }
        }
      ]
    },
    {
      "cell_type": "code",
      "source": [
        "sns.histplot(df_pop_master[score_name], bins=20)\n",
        "plt.show()"
      ],
      "metadata": {
        "id": "58qh3xRSJpJR",
        "outputId": "5063ff8c-20df-4a3f-d8dd-2519bade0bba",
        "colab": {
          "base_uri": "https://localhost:8080/",
          "height": 278
        }
      },
      "execution_count": 21,
      "outputs": [
        {
          "output_type": "display_data",
          "data": {
            "text/plain": [
              "<Figure size 432x288 with 1 Axes>"
            ],
            "image/png": "[encoded data removed]"
          },
          "metadata": {
            "needs_background": "light"
          }
        }
      ]
    },
    {
      "cell_type": "markdown",
      "source": [
        "## 中学校スコア"
      ],
      "metadata": {
        "id": "-ba5q_IlLvlS"
      }
    },
    {
      "cell_type": "code",
      "source": [
        "score_name = '中学校スコア'\n",
        "feature_list = {\n",
        "    '中学校(最近傍距離)': {'sort': -1, 'weight': 0.5}, \n",
        "    '中学校のレーティング': {'sort': 1, 'weight': 1}, \n",
        "}\n",
        "all_feature_list += list(feature_list.keys())\n",
        "all_score_list.append(score_name)"
      ],
      "metadata": {
        "id": "n1RCUfWjLyFI"
      },
      "execution_count": 22,
      "outputs": []
    },
    {
      "cell_type": "code",
      "source": [
        "for feature_name in feature_list.keys():\n",
        "    sns.histplot(df_pop_master[feature_name], bins=20)\n",
        "    plt.show()"
      ],
      "metadata": {
        "colab": {
          "base_uri": "https://localhost:8080/",
          "height": 539
        },
        "id": "RNef6VnRL6U1",
        "outputId": "73df6daa-91cc-48ba-82e9-483ab3abfb07"
      },
      "execution_count": 23,
      "outputs": [
        {
          "output_type": "display_data",
          "data": {
            "text/plain": [
              "<Figure size 432x288 with 1 Axes>"
            ],
            "image/png": "[encoded data removed]"
          },
          "metadata": {
            "needs_background": "light"
          }
        },
        {
          "output_type": "display_data",
          "data": {
            "text/plain": [
              "<Figure size 432x288 with 1 Axes>"
            ],
            "image/png": "[encoded data removed]"
          },
          "metadata": {
            "needs_background": "light"
          }
        }
      ]
    },
    {
      "cell_type": "code",
      "source": [
        "score_list = []\n",
        "for key, value in feature_list.items():\n",
        "    df_pop_master[f'{key}レベル'] = rank_score(df_pop_master[key] * value['sort'])\n",
        "    score_list.append(df_pop_master[f'{key}レベル'] * value['weight'])\n",
        "\n",
        "_temp_score = pd.concat(score_list, axis=1).sum(axis=1, skipna=False)\n",
        "df_pop_master[score_name] = rank_score(_temp_score)"
      ],
      "metadata": {
        "id": "jeX9EB_FMRh7"
      },
      "execution_count": 24,
      "outputs": []
    },
    {
      "cell_type": "code",
      "source": [
        "sns.histplot(_temp_score, bins=20)\n",
        "plt.show()"
      ],
      "metadata": {
        "id": "o4ws4lTGLo1i",
        "outputId": "dbc79e0b-e3d6-4242-f5b6-63fcec52dc5e",
        "colab": {
          "base_uri": "https://localhost:8080/",
          "height": 264
        }
      },
      "execution_count": 25,
      "outputs": [
        {
          "output_type": "display_data",
          "data": {
            "text/plain": [
              "<Figure size 432x288 with 1 Axes>"
            ],
            "image/png": "[encoded data removed]"
          },
          "metadata": {
            "needs_background": "light"
          }
        }
      ]
    },
    {
      "cell_type": "code",
      "source": [
        "sns.histplot(df_pop_master[score_name], bins=20)\n",
        "plt.show()"
      ],
      "metadata": {
        "id": "Gn9HukpHLk_q",
        "outputId": "dfa5dd4a-1eef-4c80-cb71-8e38041b707f",
        "colab": {
          "base_uri": "https://localhost:8080/",
          "height": 278
        }
      },
      "execution_count": 26,
      "outputs": [
        {
          "output_type": "display_data",
          "data": {
            "text/plain": [
              "<Figure size 432x288 with 1 Axes>"
            ],
            "image/png": "[encoded data removed]"
          },
          "metadata": {
            "needs_background": "light"
          }
        }
      ]
    },
    {
      "cell_type": "markdown",
      "source": [
        "## 幼稚園スコア"
      ],
      "metadata": {
        "id": "dbAslLpbMcTF"
      }
    },
    {
      "cell_type": "code",
      "source": [
        "score_name = '幼稚園スコア'\n",
        "feature_list = {\n",
        "    '幼稚園(最近傍距離)': {'sort': -1, 'weight': 0.5}, \n",
        "    '幼稚園のレーティング': {'sort': 1, 'weight': 1}, \n",
        "}\n",
        "all_feature_list += list(feature_list.keys())\n",
        "all_score_list.append(score_name)"
      ],
      "metadata": {
        "id": "8OxOvtLeMfa4"
      },
      "execution_count": 27,
      "outputs": []
    },
    {
      "cell_type": "code",
      "source": [
        "for feature_name in feature_list.keys():\n",
        "    sns.histplot(df_pop_master[feature_name], bins=20)\n",
        "    plt.show()"
      ],
      "metadata": {
        "colab": {
          "base_uri": "https://localhost:8080/",
          "height": 541
        },
        "id": "n575E41YMruy",
        "outputId": "855c7452-b340-40ad-80a7-033b060a17e1"
      },
      "execution_count": 28,
      "outputs": [
        {
          "output_type": "display_data",
          "data": {
            "text/plain": [
              "<Figure size 432x288 with 1 Axes>"
            ],
            "image/png": "[encoded data removed]"
          },
          "metadata": {
            "needs_background": "light"
          }
        },
        {
          "output_type": "display_data",
          "data": {
            "text/plain": [
              "<Figure size 432x288 with 1 Axes>"
            ],
            "image/png": "[encoded data removed]"
          },
          "metadata": {
            "needs_background": "light"
          }
        }
      ]
    },
    {
      "cell_type": "code",
      "source": [
        "score_list = []\n",
        "for key, value in feature_list.items():\n",
        "    df_pop_master[f'{key}レベル'] = rank_score(df_pop_master[key] * value['sort'])\n",
        "    score_list.append(df_pop_master[f'{key}レベル'] * value['weight'])\n",
        "\n",
        "_tmp_score = pd.concat(score_list, axis=1).sum(axis=1, skipna=False)\n",
        "df_pop_master[score_name] = rank_score(_tmp_score)"
      ],
      "metadata": {
        "id": "FH8tG056M9sQ"
      },
      "execution_count": 29,
      "outputs": []
    },
    {
      "cell_type": "code",
      "source": [
        "sns.histplot(_temp_score, bins=20)\n",
        "plt.show()"
      ],
      "metadata": {
        "id": "opPG3bZqMFu-",
        "outputId": "e5ed3a11-8d5d-443b-d561-7d30fb97cda6",
        "colab": {
          "base_uri": "https://localhost:8080/",
          "height": 264
        }
      },
      "execution_count": 30,
      "outputs": [
        {
          "output_type": "display_data",
          "data": {
            "text/plain": [
              "<Figure size 432x288 with 1 Axes>"
            ],
            "image/png": "[encoded data removed]"
          },
          "metadata": {
            "needs_background": "light"
          }
        }
      ]
    },
    {
      "cell_type": "code",
      "source": [
        "sns.histplot(df_pop_master[score_name], bins=20)\n",
        "plt.show()"
      ],
      "metadata": {
        "id": "hXEfF8FjMJcs",
        "outputId": "e68288a6-5a47-4966-c6ac-7f281cea8379",
        "colab": {
          "base_uri": "https://localhost:8080/",
          "height": 278
        }
      },
      "execution_count": 31,
      "outputs": [
        {
          "output_type": "display_data",
          "data": {
            "text/plain": [
              "<Figure size 432x288 with 1 Axes>"
            ],
            "image/png": "[encoded data removed]"
          },
          "metadata": {
            "needs_background": "light"
          }
        }
      ]
    },
    {
      "cell_type": "markdown",
      "source": [
        "## 保存"
      ],
      "metadata": {
        "id": "bRlK-CaYJ7Yj"
      }
    },
    {
      "cell_type": "code",
      "source": [
        "all_feature_list"
      ],
      "metadata": {
        "colab": {
          "base_uri": "https://localhost:8080/"
        },
        "id": "-kMb95bfOIbh",
        "outputId": "5627a31b-0b5b-4a31-d98d-c962e8da9823"
      },
      "execution_count": 32,
      "outputs": [
        {
          "output_type": "execute_result",
          "data": {
            "text/plain": [
              "['小学校(最近傍距離)',\n",
              " '小学校のレーティング',\n",
              " '中学校(最近傍距離)',\n",
              " '中学校のレーティング',\n",
              " '幼稚園(最近傍距離)',\n",
              " '幼稚園のレーティング']"
            ]
          },
          "metadata": {},
          "execution_count": 32
        }
      ]
    },
    {
      "cell_type": "code",
      "source": [
        "all_score_list"
      ],
      "metadata": {
        "colab": {
          "base_uri": "https://localhost:8080/"
        },
        "id": "CUuxJ9EwOHC2",
        "outputId": "79734b30-8723-492e-b38c-ba76cd2b9446"
      },
      "execution_count": 33,
      "outputs": [
        {
          "output_type": "execute_result",
          "data": {
            "text/plain": [
              "['小学校スコア', '中学校スコア', '幼稚園スコア']"
            ]
          },
          "metadata": {},
          "execution_count": 33
        }
      ]
    },
    {
      "cell_type": "code",
      "source": [
        "df_pop_master['小学校(最近傍距離)'] = df_pop_master['小学校(最近傍距離)'].round(3)\n",
        "df_pop_master['中学校(最近傍距離)'] = df_pop_master['中学校(最近傍距離)'].round(3)\n",
        "df_pop_master['幼稚園(最近傍距離)'] = df_pop_master['幼稚園(最近傍距離)'].round(3)\n",
        "for col in all_score_list:\n",
        "    df_pop_master[col] = df_pop_master[col].round(3)"
      ],
      "metadata": {
        "id": "BFLtYOWoMaLv"
      },
      "execution_count": 34,
      "outputs": []
    },
    {
      "cell_type": "markdown",
      "source": [
        "### 保存"
      ],
      "metadata": {
        "id": "R73PMWPIVNBZ"
      }
    },
    {
      "cell_type": "code",
      "source": [
        "df_pop_master[\n",
        "    ['地域ID'] + all_feature_list + ['最寄りの小学校', '最寄りの中学校', '最寄りの幼稚園'] + all_score_list\n",
        "].to_csv(os.path.join(DIR_NAME, output_score_file), index=False)"
      ],
      "metadata": {
        "id": "mGvdhIyy9-kN"
      },
      "execution_count": 35,
      "outputs": []
    },
    {
      "cell_type": "markdown",
      "source": [
        "## 区ごとのスコア確認"
      ],
      "metadata": {
        "id": "uPUEdJZ3PNmx"
      }
    },
    {
      "cell_type": "code",
      "source": [
        "for _score in ['小学校スコア', '中学校スコア', '幼稚園スコア']:\n",
        "    plt.figure(figsize=(15, 5))\n",
        "    sns.barplot(x='市区町村名', y=_score, data=df_pop_master)\n",
        "    plt.show()"
      ],
      "metadata": {
        "colab": {
          "base_uri": "https://localhost:8080/",
          "height": 965
        },
        "id": "ufGDZQX3-lnp",
        "outputId": "aa8cc71a-56c1-419c-bcc7-1a9fb5774651"
      },
      "execution_count": 36,
      "outputs": [
        {
          "output_type": "display_data",
          "data": {
            "text/plain": [
              "<Figure size 1080x360 with 1 Axes>"
            ],
            "image/png": "[encoded data removed]"
          },
          "metadata": {
            "needs_background": "light"
          }
        },
        {
          "output_type": "display_data",
          "data": {
            "text/plain": [
              "<Figure size 1080x360 with 1 Axes>"
            ],
            "image/png": "[encoded data removed]"
          },
          "metadata": {
            "needs_background": "light"
          }
        },
        {
          "output_type": "display_data",
          "data": {
            "text/plain": [
              "<Figure size 1080x360 with 1 Axes>"
            ],
            "image/png": "[encoded data removed]"
          },
          "metadata": {
            "needs_background": "light"
          }
        }
      ]
    },
    {
      "cell_type": "code",
      "source": [
        "def get_score_top(df_data, target):\n",
        "    df_level = df_data.copy()\n",
        "    score_name = f'{target}スコア'\n",
        "    df_level['rank'] = df_level.groupby('町名')[score_name].transform('rank', ascending=False)\n",
        "    df_level = df_level[df_level['rank'] == 1].sort_values(score_name, ascending=False)[\n",
        "        ['市区町村名', '町名', '町丁目'] + [f'最寄りの{target}', f'{target}(最近傍距離)', f'{target}のレーティング', score_name]\n",
        "    ].reset_index(drop=True)\n",
        "    return df_level"
      ],
      "metadata": {
        "id": "KwfMlqDrBmKa"
      },
      "execution_count": 44,
      "outputs": []
    },
    {
      "cell_type": "code",
      "source": [
        "df_level = get_score_top(df_pop_master, '小学校')\n",
        "print(df_level.shape)\n",
        "df_level.head(10)"
      ],
      "metadata": {
        "id": "twmfPEadWDVX",
        "outputId": "be3f31ad-1035-42e8-8978-9fa6023ded08",
        "colab": {
          "base_uri": "https://localhost:8080/",
          "height": 380
        }
      },
      "execution_count": 53,
      "outputs": [
        {
          "output_type": "stream",
          "name": "stdout",
          "text": [
            "(897, 7)\n"
          ]
        },
        {
          "output_type": "execute_result",
          "data": {
            "text/plain": [
              "  市区町村名     町名      町丁目       最寄りの小学校  小学校(最近傍距離)  小学校のレーティング  小学校スコア\n",
              "0   新宿区  市谷山伏町    市谷山伏町     新宿区立市谷小学校       0.055         5.0   5.000\n",
              "1   板橋区     泉町       泉町   板橋区立志村第一小学校       0.068         4.9   4.998\n",
              "2   大田区    北千束   北千束２丁目     大田区立赤松小学校       0.099         5.0   4.996\n",
              "3   足立区   西保木間  西保木間４丁目   足立区立西保木間小学校       0.099         5.0   4.994\n",
              "4   板橋区     向原    向原２丁目     板橋区立向原小学校       0.102         5.0   4.991\n",
              "5   新宿区     新宿    新宿６丁目     新宿区立天神小学校       0.029         4.8   4.989\n",
              "6  千代田区   神田司町  神田司町２丁目   千代田区立千代田小学校       0.037         4.8   4.987\n",
              "7   板橋区     板橋    板橋２丁目   板橋区立板橋第二小学校       0.108         5.0   4.985\n",
              "8  江戸川区     瑞江    瑞江４丁目  江戸川区立下鎌田西小学校       0.110         5.0   4.983\n",
              "9   新宿区     中井    中井１丁目   新宿区立落合第五小学校       0.111         5.0   4.981"
            ],
            "text/html": [
              "\n",
              "  <div id=\"df-e4ed9744-a60c-4d4f-b680-1a82012cf49c\">\n",
              "    <div class=\"colab-df-container\">\n",
              "      <div>\n",
              "<style scoped>\n",
              "    .dataframe tbody tr th:only-of-type {\n",
              "        vertical-align: middle;\n",
              "    }\n",
              "\n",
              "    .dataframe tbody tr th {\n",
              "        vertical-align: top;\n",
              "    }\n",
              "\n",
              "    .dataframe thead th {\n",
              "        text-align: right;\n",
              "    }\n",
              "</style>\n",
              "<table border=\"1\" class=\"dataframe\">\n",
              "  <thead>\n",
              "    <tr style=\"text-align: right;\">\n",
              "      <th></th>\n",
              "      <th>市区町村名</th>\n",
              "      <th>町名</th>\n",
              "      <th>町丁目</th>\n",
              "      <th>最寄りの小学校</th>\n",
              "      <th>小学校(最近傍距離)</th>\n",
              "      <th>小学校のレーティング</th>\n",
              "      <th>小学校スコア</th>\n",
              "    </tr>\n",
              "  </thead>\n",
              "  <tbody>\n",
              "    <tr>\n",
              "      <th>0</th>\n",
              "      <td>新宿区</td>\n",
              "      <td>市谷山伏町</td>\n",
              "      <td>市谷山伏町</td>\n",
              "      <td>新宿区立市谷小学校</td>\n",
              "      <td>0.055</td>\n",
              "      <td>5.0</td>\n",
              "      <td>5.000</td>\n",
              "    </tr>\n",
              "    <tr>\n",
              "      <th>1</th>\n",
              "      <td>板橋区</td>\n",
              "      <td>泉町</td>\n",
              "      <td>泉町</td>\n",
              "      <td>板橋区立志村第一小学校</td>\n",
              "      <td>0.068</td>\n",
              "      <td>4.9</td>\n",
              "      <td>4.998</td>\n",
              "    </tr>\n",
              "    <tr>\n",
              "      <th>2</th>\n",
              "      <td>大田区</td>\n",
              "      <td>北千束</td>\n",
              "      <td>北千束２丁目</td>\n",
              "      <td>大田区立赤松小学校</td>\n",
              "      <td>0.099</td>\n",
              "      <td>5.0</td>\n",
              "      <td>4.996</td>\n",
              "    </tr>\n",
              "    <tr>\n",
              "      <th>3</th>\n",
              "      <td>足立区</td>\n",
              "      <td>西保木間</td>\n",
              "      <td>西保木間４丁目</td>\n",
              "      <td>足立区立西保木間小学校</td>\n",
              "      <td>0.099</td>\n",
              "      <td>5.0</td>\n",
              "      <td>4.994</td>\n",
              "    </tr>\n",
              "    <tr>\n",
              "      <th>4</th>\n",
              "      <td>板橋区</td>\n",
              "      <td>向原</td>\n",
              "      <td>向原２丁目</td>\n",
              "      <td>板橋区立向原小学校</td>\n",
              "      <td>0.102</td>\n",
              "      <td>5.0</td>\n",
              "      <td>4.991</td>\n",
              "    </tr>\n",
              "    <tr>\n",
              "      <th>5</th>\n",
              "      <td>新宿区</td>\n",
              "      <td>新宿</td>\n",
              "      <td>新宿６丁目</td>\n",
              "      <td>新宿区立天神小学校</td>\n",
              "      <td>0.029</td>\n",
              "      <td>4.8</td>\n",
              "      <td>4.989</td>\n",
              "    </tr>\n",
              "    <tr>\n",
              "      <th>6</th>\n",
              "      <td>千代田区</td>\n",
              "      <td>神田司町</td>\n",
              "      <td>神田司町２丁目</td>\n",
              "      <td>千代田区立千代田小学校</td>\n",
              "      <td>0.037</td>\n",
              "      <td>4.8</td>\n",
              "      <td>4.987</td>\n",
              "    </tr>\n",
              "    <tr>\n",
              "      <th>7</th>\n",
              "      <td>板橋区</td>\n",
              "      <td>板橋</td>\n",
              "      <td>板橋２丁目</td>\n",
              "      <td>板橋区立板橋第二小学校</td>\n",
              "      <td>0.108</td>\n",
              "      <td>5.0</td>\n",
              "      <td>4.985</td>\n",
              "    </tr>\n",
              "    <tr>\n",
              "      <th>8</th>\n",
              "      <td>江戸川区</td>\n",
              "      <td>瑞江</td>\n",
              "      <td>瑞江４丁目</td>\n",
              "      <td>江戸川区立下鎌田西小学校</td>\n",
              "      <td>0.110</td>\n",
              "      <td>5.0</td>\n",
              "      <td>4.983</td>\n",
              "    </tr>\n",
              "    <tr>\n",
              "      <th>9</th>\n",
              "      <td>新宿区</td>\n",
              "      <td>中井</td>\n",
              "      <td>中井１丁目</td>\n",
              "      <td>新宿区立落合第五小学校</td>\n",
              "      <td>0.111</td>\n",
              "      <td>5.0</td>\n",
              "      <td>4.981</td>\n",
              "    </tr>\n",
              "  </tbody>\n",
              "</table>\n",
              "</div>\n",
              "      <button class=\"colab-df-convert\" onclick=\"convertToInteractive('df-e4ed9744-a60c-4d4f-b680-1a82012cf49c')\"\n",
              "              title=\"Convert this dataframe to an interactive table.\"\n",
              "              style=\"display:none;\">\n",
              "        \n",
              "  <svg xmlns=\"http://www.w3.org/2000/svg\" height=\"24px\"viewBox=\"0 0 24 24\"\n",
              "       width=\"24px\">\n",
              "    <path d=\"M0 0h24v24H0V0z\" fill=\"none\"/>\n",
              "    <path d=\"M18.56 5.44l.94 2.06.94-2.06 2.06-.94-2.06-.94-.94-2.06-.94 2.06-2.06.94zm-11 1L8.5 8.5l.94-2.06 2.06-.94-2.06-.94L8.5 2.5l-.94 2.06-2.06.94zm10 10l.94 2.06.94-2.06 2.06-.94-2.06-.94-.94-2.06-.94 2.06-2.06.94z\"/><path d=\"M17.41 7.96l-1.37-1.37c-.4-.4-.92-.59-1.43-.59-.52 0-1.04.2-1.43.59L10.3 9.45l-7.72 7.72c-.78.78-.78 2.05 0 2.83L4 21.41c.39.39.9.59 1.41.59.51 0 1.02-.2 1.41-.59l7.78-7.78 2.81-2.81c.8-.78.8-2.07 0-2.86zM5.41 20L4 18.59l7.72-7.72 1.47 1.35L5.41 20z\"/>\n",
              "  </svg>\n",
              "      </button>\n",
              "      \n",
              "  <style>\n",
              "    .colab-df-container {\n",
              "      display:flex;\n",
              "      flex-wrap:wrap;\n",
              "      gap: 12px;\n",
              "    }\n",
              "\n",
              "    .colab-df-convert {\n",
              "      background-color: #E8F0FE;\n",
              "      border: none;\n",
              "      border-radius: 50%;\n",
              "      cursor: pointer;\n",
              "      display: none;\n",
              "      fill: #1967D2;\n",
              "      height: 32px;\n",
              "      padding: 0 0 0 0;\n",
              "      width: 32px;\n",
              "    }\n",
              "\n",
              "    .colab-df-convert:hover {\n",
              "      background-color: #E2EBFA;\n",
              "      box-shadow: 0px 1px 2px rgba(60, 64, 67, 0.3), 0px 1px 3px 1px rgba(60, 64, 67, 0.15);\n",
              "      fill: #174EA6;\n",
              "    }\n",
              "\n",
              "    [theme=dark] .colab-df-convert {\n",
              "      background-color: #3B4455;\n",
              "      fill: #D2E3FC;\n",
              "    }\n",
              "\n",
              "    [theme=dark] .colab-df-convert:hover {\n",
              "      background-color: #434B5C;\n",
              "      box-shadow: 0px 1px 3px 1px rgba(0, 0, 0, 0.15);\n",
              "      filter: drop-shadow(0px 1px 2px rgba(0, 0, 0, 0.3));\n",
              "      fill: #FFFFFF;\n",
              "    }\n",
              "  </style>\n",
              "\n",
              "      <script>\n",
              "        const buttonEl =\n",
              "          document.querySelector('#df-e4ed9744-a60c-4d4f-b680-1a82012cf49c button.colab-df-convert');\n",
              "        buttonEl.style.display =\n",
              "          google.colab.kernel.accessAllowed ? 'block' : 'none';\n",
              "\n",
              "        async function convertToInteractive(key) {\n",
              "          const element = document.querySelector('#df-e4ed9744-a60c-4d4f-b680-1a82012cf49c');\n",
              "          const dataTable =\n",
              "            await google.colab.kernel.invokeFunction('convertToInteractive',\n",
              "                                                     [key], {});\n",
              "          if (!dataTable) return;\n",
              "\n",
              "          const docLinkHtml = 'Like what you see? Visit the ' +\n",
              "            '<a target=\"_blank\" href=https://colab.research.google.com/notebooks/data_table.ipynb>data table notebook</a>'\n",
              "            + ' to learn more about interactive tables.';\n",
              "          element.innerHTML = '';\n",
              "          dataTable['output_type'] = 'display_data';\n",
              "          await google.colab.output.renderOutput(dataTable, element);\n",
              "          const docLink = document.createElement('div');\n",
              "          docLink.innerHTML = docLinkHtml;\n",
              "          element.appendChild(docLink);\n",
              "        }\n",
              "      </script>\n",
              "    </div>\n",
              "  </div>\n",
              "  "
            ]
          },
          "metadata": {},
          "execution_count": 53
        }
      ]
    },
    {
      "cell_type": "code",
      "source": [
        "df_level.tail(10)"
      ],
      "metadata": {
        "id": "vv-k3ImGNrz8",
        "outputId": "db1f1f5a-855c-4460-df16-857fb74cefb6",
        "colab": {
          "base_uri": "https://localhost:8080/",
          "height": 363
        }
      },
      "execution_count": 54,
      "outputs": [
        {
          "output_type": "execute_result",
          "data": {
            "text/plain": [
              "    市区町村名      町名     町丁目        最寄りの小学校  小学校(最近傍距離)  小学校のレーティング  小学校スコア\n",
              "887   新宿区     内藤町     内藤町      新宿区立花園小学校       0.437         2.9   0.329\n",
              "888   新宿区      片町      片町    新宿区立牛込仲之小学校       0.400         2.7   0.308\n",
              "889   板橋区     蓮沼町     蓮沼町    板橋区立志村第三小学校       0.402         2.7   0.306\n",
              "890   葛飾区    水元公園    水元公園     葛飾区立東水元小学校       0.372         2.4   0.237\n",
              "891  江戸川区     興宮町     興宮町  江戸川区立下小岩第二小学校       0.380         1.5   0.196\n",
              "892   大田区     平和島  平和島４丁目    大田区立大森第五小学校       0.471         2.8   0.189\n",
              "893   練馬区  上石神井南町  上石神井南町    杉並区立桃井第四小学校       0.710         3.1   0.187\n",
              "894   練馬区    西大泉町    西大泉町     練馬区立大泉西小学校       0.479         2.6   0.136\n",
              "895  世田谷区     砧公園     砧公園     世田谷区立用賀小学校       0.852         2.8   0.047\n",
              "896   大田区     京浜島  京浜島１丁目    大田区立大森第四小学校       1.569         2.5   0.011"
            ],
            "text/html": [
              "\n",
              "  <div id=\"df-4a9d77bc-6b8a-4386-84dc-6957305a9449\">\n",
              "    <div class=\"colab-df-container\">\n",
              "      <div>\n",
              "<style scoped>\n",
              "    .dataframe tbody tr th:only-of-type {\n",
              "        vertical-align: middle;\n",
              "    }\n",
              "\n",
              "    .dataframe tbody tr th {\n",
              "        vertical-align: top;\n",
              "    }\n",
              "\n",
              "    .dataframe thead th {\n",
              "        text-align: right;\n",
              "    }\n",
              "</style>\n",
              "<table border=\"1\" class=\"dataframe\">\n",
              "  <thead>\n",
              "    <tr style=\"text-align: right;\">\n",
              "      <th></th>\n",
              "      <th>市区町村名</th>\n",
              "      <th>町名</th>\n",
              "      <th>町丁目</th>\n",
              "      <th>最寄りの小学校</th>\n",
              "      <th>小学校(最近傍距離)</th>\n",
              "      <th>小学校のレーティング</th>\n",
              "      <th>小学校スコア</th>\n",
              "    </tr>\n",
              "  </thead>\n",
              "  <tbody>\n",
              "    <tr>\n",
              "      <th>887</th>\n",
              "      <td>新宿区</td>\n",
              "      <td>内藤町</td>\n",
              "      <td>内藤町</td>\n",
              "      <td>新宿区立花園小学校</td>\n",
              "      <td>0.437</td>\n",
              "      <td>2.9</td>\n",
              "      <td>0.329</td>\n",
              "    </tr>\n",
              "    <tr>\n",
              "      <th>888</th>\n",
              "      <td>新宿区</td>\n",
              "      <td>片町</td>\n",
              "      <td>片町</td>\n",
              "      <td>新宿区立牛込仲之小学校</td>\n",
              "      <td>0.400</td>\n",
              "      <td>2.7</td>\n",
              "      <td>0.308</td>\n",
              "    </tr>\n",
              "    <tr>\n",
              "      <th>889</th>\n",
              "      <td>板橋区</td>\n",
              "      <td>蓮沼町</td>\n",
              "      <td>蓮沼町</td>\n",
              "      <td>板橋区立志村第三小学校</td>\n",
              "      <td>0.402</td>\n",
              "      <td>2.7</td>\n",
              "      <td>0.306</td>\n",
              "    </tr>\n",
              "    <tr>\n",
              "      <th>890</th>\n",
              "      <td>葛飾区</td>\n",
              "      <td>水元公園</td>\n",
              "      <td>水元公園</td>\n",
              "      <td>葛飾区立東水元小学校</td>\n",
              "      <td>0.372</td>\n",
              "      <td>2.4</td>\n",
              "      <td>0.237</td>\n",
              "    </tr>\n",
              "    <tr>\n",
              "      <th>891</th>\n",
              "      <td>江戸川区</td>\n",
              "      <td>興宮町</td>\n",
              "      <td>興宮町</td>\n",
              "      <td>江戸川区立下小岩第二小学校</td>\n",
              "      <td>0.380</td>\n",
              "      <td>1.5</td>\n",
              "      <td>0.196</td>\n",
              "    </tr>\n",
              "    <tr>\n",
              "      <th>892</th>\n",
              "      <td>大田区</td>\n",
              "      <td>平和島</td>\n",
              "      <td>平和島４丁目</td>\n",
              "      <td>大田区立大森第五小学校</td>\n",
              "      <td>0.471</td>\n",
              "      <td>2.8</td>\n",
              "      <td>0.189</td>\n",
              "    </tr>\n",
              "    <tr>\n",
              "      <th>893</th>\n",
              "      <td>練馬区</td>\n",
              "      <td>上石神井南町</td>\n",
              "      <td>上石神井南町</td>\n",
              "      <td>杉並区立桃井第四小学校</td>\n",
              "      <td>0.710</td>\n",
              "      <td>3.1</td>\n",
              "      <td>0.187</td>\n",
              "    </tr>\n",
              "    <tr>\n",
              "      <th>894</th>\n",
              "      <td>練馬区</td>\n",
              "      <td>西大泉町</td>\n",
              "      <td>西大泉町</td>\n",
              "      <td>練馬区立大泉西小学校</td>\n",
              "      <td>0.479</td>\n",
              "      <td>2.6</td>\n",
              "      <td>0.136</td>\n",
              "    </tr>\n",
              "    <tr>\n",
              "      <th>895</th>\n",
              "      <td>世田谷区</td>\n",
              "      <td>砧公園</td>\n",
              "      <td>砧公園</td>\n",
              "      <td>世田谷区立用賀小学校</td>\n",
              "      <td>0.852</td>\n",
              "      <td>2.8</td>\n",
              "      <td>0.047</td>\n",
              "    </tr>\n",
              "    <tr>\n",
              "      <th>896</th>\n",
              "      <td>大田区</td>\n",
              "      <td>京浜島</td>\n",
              "      <td>京浜島１丁目</td>\n",
              "      <td>大田区立大森第四小学校</td>\n",
              "      <td>1.569</td>\n",
              "      <td>2.5</td>\n",
              "      <td>0.011</td>\n",
              "    </tr>\n",
              "  </tbody>\n",
              "</table>\n",
              "</div>\n",
              "      <button class=\"colab-df-convert\" onclick=\"convertToInteractive('df-4a9d77bc-6b8a-4386-84dc-6957305a9449')\"\n",
              "              title=\"Convert this dataframe to an interactive table.\"\n",
              "              style=\"display:none;\">\n",
              "        \n",
              "  <svg xmlns=\"http://www.w3.org/2000/svg\" height=\"24px\"viewBox=\"0 0 24 24\"\n",
              "       width=\"24px\">\n",
              "    <path d=\"M0 0h24v24H0V0z\" fill=\"none\"/>\n",
              "    <path d=\"M18.56 5.44l.94 2.06.94-2.06 2.06-.94-2.06-.94-.94-2.06-.94 2.06-2.06.94zm-11 1L8.5 8.5l.94-2.06 2.06-.94-2.06-.94L8.5 2.5l-.94 2.06-2.06.94zm10 10l.94 2.06.94-2.06 2.06-.94-2.06-.94-.94-2.06-.94 2.06-2.06.94z\"/><path d=\"M17.41 7.96l-1.37-1.37c-.4-.4-.92-.59-1.43-.59-.52 0-1.04.2-1.43.59L10.3 9.45l-7.72 7.72c-.78.78-.78 2.05 0 2.83L4 21.41c.39.39.9.59 1.41.59.51 0 1.02-.2 1.41-.59l7.78-7.78 2.81-2.81c.8-.78.8-2.07 0-2.86zM5.41 20L4 18.59l7.72-7.72 1.47 1.35L5.41 20z\"/>\n",
              "  </svg>\n",
              "      </button>\n",
              "      \n",
              "  <style>\n",
              "    .colab-df-container {\n",
              "      display:flex;\n",
              "      flex-wrap:wrap;\n",
              "      gap: 12px;\n",
              "    }\n",
              "\n",
              "    .colab-df-convert {\n",
              "      background-color: #E8F0FE;\n",
              "      border: none;\n",
              "      border-radius: 50%;\n",
              "      cursor: pointer;\n",
              "      display: none;\n",
              "      fill: #1967D2;\n",
              "      height: 32px;\n",
              "      padding: 0 0 0 0;\n",
              "      width: 32px;\n",
              "    }\n",
              "\n",
              "    .colab-df-convert:hover {\n",
              "      background-color: #E2EBFA;\n",
              "      box-shadow: 0px 1px 2px rgba(60, 64, 67, 0.3), 0px 1px 3px 1px rgba(60, 64, 67, 0.15);\n",
              "      fill: #174EA6;\n",
              "    }\n",
              "\n",
              "    [theme=dark] .colab-df-convert {\n",
              "      background-color: #3B4455;\n",
              "      fill: #D2E3FC;\n",
              "    }\n",
              "\n",
              "    [theme=dark] .colab-df-convert:hover {\n",
              "      background-color: #434B5C;\n",
              "      box-shadow: 0px 1px 3px 1px rgba(0, 0, 0, 0.15);\n",
              "      filter: drop-shadow(0px 1px 2px rgba(0, 0, 0, 0.3));\n",
              "      fill: #FFFFFF;\n",
              "    }\n",
              "  </style>\n",
              "\n",
              "      <script>\n",
              "        const buttonEl =\n",
              "          document.querySelector('#df-4a9d77bc-6b8a-4386-84dc-6957305a9449 button.colab-df-convert');\n",
              "        buttonEl.style.display =\n",
              "          google.colab.kernel.accessAllowed ? 'block' : 'none';\n",
              "\n",
              "        async function convertToInteractive(key) {\n",
              "          const element = document.querySelector('#df-4a9d77bc-6b8a-4386-84dc-6957305a9449');\n",
              "          const dataTable =\n",
              "            await google.colab.kernel.invokeFunction('convertToInteractive',\n",
              "                                                     [key], {});\n",
              "          if (!dataTable) return;\n",
              "\n",
              "          const docLinkHtml = 'Like what you see? Visit the ' +\n",
              "            '<a target=\"_blank\" href=https://colab.research.google.com/notebooks/data_table.ipynb>data table notebook</a>'\n",
              "            + ' to learn more about interactive tables.';\n",
              "          element.innerHTML = '';\n",
              "          dataTable['output_type'] = 'display_data';\n",
              "          await google.colab.output.renderOutput(dataTable, element);\n",
              "          const docLink = document.createElement('div');\n",
              "          docLink.innerHTML = docLinkHtml;\n",
              "          element.appendChild(docLink);\n",
              "        }\n",
              "      </script>\n",
              "    </div>\n",
              "  </div>\n",
              "  "
            ]
          },
          "metadata": {},
          "execution_count": 54
        }
      ]
    },
    {
      "cell_type": "code",
      "source": [
        "df_level = get_score_top(df_pop_master, '中学校')\n",
        "print(df_level.shape)\n",
        "df_level.head(10)"
      ],
      "metadata": {
        "id": "ypC5Qyu8ODH7",
        "outputId": "3a5f8d44-eabe-4ed3-f211-54818e68465d",
        "colab": {
          "base_uri": "https://localhost:8080/",
          "height": 380
        }
      },
      "execution_count": 55,
      "outputs": [
        {
          "output_type": "stream",
          "name": "stdout",
          "text": [
            "(906, 7)\n"
          ]
        },
        {
          "output_type": "execute_result",
          "data": {
            "text/plain": [
              "  市区町村名    町名     町丁目      最寄りの中学校  中学校(最近傍距離)  中学校のレーティング  中学校スコア\n",
              "0   中野区    鷺宮   鷺宮４丁目    中野区立第八中学校       0.049         5.0   5.000\n",
              "1   葛飾区   四つ木  四つ木４丁目   葛飾区立四ツ木中学校       0.080         4.8   4.998\n",
              "2   葛飾区    水元   水元２丁目    葛飾区立葛美中学校       0.133         5.0   4.996\n",
              "3   新宿区  北山伏町    北山伏町  新宿区立牛込第一中学校       0.031         4.6   4.994\n",
              "4   江東区    森下   森下４丁目  江東区立深川第一中学校       0.147         4.6   4.991\n",
              "5   足立区    柳原   柳原２丁目  足立区立千寿桜堤中学校       0.152         4.6   4.989\n",
              "6   新宿区  南山伏町    南山伏町  新宿区立牛込第一中学校       0.153         4.6   4.987\n",
              "7    北区   昭和町  昭和町１丁目    荒川区立第七中学校       0.156         4.6   4.985\n",
              "8   荒川区   西尾久  西尾久４丁目    荒川区立第七中学校       0.177         4.6   4.983\n",
              "9   練馬区   東大泉  東大泉６丁目  練馬区立大泉第二中学校       0.115         4.5   4.981"
            ],
            "text/html": [
              "\n",
              "  <div id=\"df-b2ef9c68-4d0e-425a-9574-d1e6aa30b9fc\">\n",
              "    <div class=\"colab-df-container\">\n",
              "      <div>\n",
              "<style scoped>\n",
              "    .dataframe tbody tr th:only-of-type {\n",
              "        vertical-align: middle;\n",
              "    }\n",
              "\n",
              "    .dataframe tbody tr th {\n",
              "        vertical-align: top;\n",
              "    }\n",
              "\n",
              "    .dataframe thead th {\n",
              "        text-align: right;\n",
              "    }\n",
              "</style>\n",
              "<table border=\"1\" class=\"dataframe\">\n",
              "  <thead>\n",
              "    <tr style=\"text-align: right;\">\n",
              "      <th></th>\n",
              "      <th>市区町村名</th>\n",
              "      <th>町名</th>\n",
              "      <th>町丁目</th>\n",
              "      <th>最寄りの中学校</th>\n",
              "      <th>中学校(最近傍距離)</th>\n",
              "      <th>中学校のレーティング</th>\n",
              "      <th>中学校スコア</th>\n",
              "    </tr>\n",
              "  </thead>\n",
              "  <tbody>\n",
              "    <tr>\n",
              "      <th>0</th>\n",
              "      <td>中野区</td>\n",
              "      <td>鷺宮</td>\n",
              "      <td>鷺宮４丁目</td>\n",
              "      <td>中野区立第八中学校</td>\n",
              "      <td>0.049</td>\n",
              "      <td>5.0</td>\n",
              "      <td>5.000</td>\n",
              "    </tr>\n",
              "    <tr>\n",
              "      <th>1</th>\n",
              "      <td>葛飾区</td>\n",
              "      <td>四つ木</td>\n",
              "      <td>四つ木４丁目</td>\n",
              "      <td>葛飾区立四ツ木中学校</td>\n",
              "      <td>0.080</td>\n",
              "      <td>4.8</td>\n",
              "      <td>4.998</td>\n",
              "    </tr>\n",
              "    <tr>\n",
              "      <th>2</th>\n",
              "      <td>葛飾区</td>\n",
              "      <td>水元</td>\n",
              "      <td>水元２丁目</td>\n",
              "      <td>葛飾区立葛美中学校</td>\n",
              "      <td>0.133</td>\n",
              "      <td>5.0</td>\n",
              "      <td>4.996</td>\n",
              "    </tr>\n",
              "    <tr>\n",
              "      <th>3</th>\n",
              "      <td>新宿区</td>\n",
              "      <td>北山伏町</td>\n",
              "      <td>北山伏町</td>\n",
              "      <td>新宿区立牛込第一中学校</td>\n",
              "      <td>0.031</td>\n",
              "      <td>4.6</td>\n",
              "      <td>4.994</td>\n",
              "    </tr>\n",
              "    <tr>\n",
              "      <th>4</th>\n",
              "      <td>江東区</td>\n",
              "      <td>森下</td>\n",
              "      <td>森下４丁目</td>\n",
              "      <td>江東区立深川第一中学校</td>\n",
              "      <td>0.147</td>\n",
              "      <td>4.6</td>\n",
              "      <td>4.991</td>\n",
              "    </tr>\n",
              "    <tr>\n",
              "      <th>5</th>\n",
              "      <td>足立区</td>\n",
              "      <td>柳原</td>\n",
              "      <td>柳原２丁目</td>\n",
              "      <td>足立区立千寿桜堤中学校</td>\n",
              "      <td>0.152</td>\n",
              "      <td>4.6</td>\n",
              "      <td>4.989</td>\n",
              "    </tr>\n",
              "    <tr>\n",
              "      <th>6</th>\n",
              "      <td>新宿区</td>\n",
              "      <td>南山伏町</td>\n",
              "      <td>南山伏町</td>\n",
              "      <td>新宿区立牛込第一中学校</td>\n",
              "      <td>0.153</td>\n",
              "      <td>4.6</td>\n",
              "      <td>4.987</td>\n",
              "    </tr>\n",
              "    <tr>\n",
              "      <th>7</th>\n",
              "      <td>北区</td>\n",
              "      <td>昭和町</td>\n",
              "      <td>昭和町１丁目</td>\n",
              "      <td>荒川区立第七中学校</td>\n",
              "      <td>0.156</td>\n",
              "      <td>4.6</td>\n",
              "      <td>4.985</td>\n",
              "    </tr>\n",
              "    <tr>\n",
              "      <th>8</th>\n",
              "      <td>荒川区</td>\n",
              "      <td>西尾久</td>\n",
              "      <td>西尾久４丁目</td>\n",
              "      <td>荒川区立第七中学校</td>\n",
              "      <td>0.177</td>\n",
              "      <td>4.6</td>\n",
              "      <td>4.983</td>\n",
              "    </tr>\n",
              "    <tr>\n",
              "      <th>9</th>\n",
              "      <td>練馬区</td>\n",
              "      <td>東大泉</td>\n",
              "      <td>東大泉６丁目</td>\n",
              "      <td>練馬区立大泉第二中学校</td>\n",
              "      <td>0.115</td>\n",
              "      <td>4.5</td>\n",
              "      <td>4.981</td>\n",
              "    </tr>\n",
              "  </tbody>\n",
              "</table>\n",
              "</div>\n",
              "      <button class=\"colab-df-convert\" onclick=\"convertToInteractive('df-b2ef9c68-4d0e-425a-9574-d1e6aa30b9fc')\"\n",
              "              title=\"Convert this dataframe to an interactive table.\"\n",
              "              style=\"display:none;\">\n",
              "        \n",
              "  <svg xmlns=\"http://www.w3.org/2000/svg\" height=\"24px\"viewBox=\"0 0 24 24\"\n",
              "       width=\"24px\">\n",
              "    <path d=\"M0 0h24v24H0V0z\" fill=\"none\"/>\n",
              "    <path d=\"M18.56 5.44l.94 2.06.94-2.06 2.06-.94-2.06-.94-.94-2.06-.94 2.06-2.06.94zm-11 1L8.5 8.5l.94-2.06 2.06-.94-2.06-.94L8.5 2.5l-.94 2.06-2.06.94zm10 10l.94 2.06.94-2.06 2.06-.94-2.06-.94-.94-2.06-.94 2.06-2.06.94z\"/><path d=\"M17.41 7.96l-1.37-1.37c-.4-.4-.92-.59-1.43-.59-.52 0-1.04.2-1.43.59L10.3 9.45l-7.72 7.72c-.78.78-.78 2.05 0 2.83L4 21.41c.39.39.9.59 1.41.59.51 0 1.02-.2 1.41-.59l7.78-7.78 2.81-2.81c.8-.78.8-2.07 0-2.86zM5.41 20L4 18.59l7.72-7.72 1.47 1.35L5.41 20z\"/>\n",
              "  </svg>\n",
              "      </button>\n",
              "      \n",
              "  <style>\n",
              "    .colab-df-container {\n",
              "      display:flex;\n",
              "      flex-wrap:wrap;\n",
              "      gap: 12px;\n",
              "    }\n",
              "\n",
              "    .colab-df-convert {\n",
              "      background-color: #E8F0FE;\n",
              "      border: none;\n",
              "      border-radius: 50%;\n",
              "      cursor: pointer;\n",
              "      display: none;\n",
              "      fill: #1967D2;\n",
              "      height: 32px;\n",
              "      padding: 0 0 0 0;\n",
              "      width: 32px;\n",
              "    }\n",
              "\n",
              "    .colab-df-convert:hover {\n",
              "      background-color: #E2EBFA;\n",
              "      box-shadow: 0px 1px 2px rgba(60, 64, 67, 0.3), 0px 1px 3px 1px rgba(60, 64, 67, 0.15);\n",
              "      fill: #174EA6;\n",
              "    }\n",
              "\n",
              "    [theme=dark] .colab-df-convert {\n",
              "      background-color: #3B4455;\n",
              "      fill: #D2E3FC;\n",
              "    }\n",
              "\n",
              "    [theme=dark] .colab-df-convert:hover {\n",
              "      background-color: #434B5C;\n",
              "      box-shadow: 0px 1px 3px 1px rgba(0, 0, 0, 0.15);\n",
              "      filter: drop-shadow(0px 1px 2px rgba(0, 0, 0, 0.3));\n",
              "      fill: #FFFFFF;\n",
              "    }\n",
              "  </style>\n",
              "\n",
              "      <script>\n",
              "        const buttonEl =\n",
              "          document.querySelector('#df-b2ef9c68-4d0e-425a-9574-d1e6aa30b9fc button.colab-df-convert');\n",
              "        buttonEl.style.display =\n",
              "          google.colab.kernel.accessAllowed ? 'block' : 'none';\n",
              "\n",
              "        async function convertToInteractive(key) {\n",
              "          const element = document.querySelector('#df-b2ef9c68-4d0e-425a-9574-d1e6aa30b9fc');\n",
              "          const dataTable =\n",
              "            await google.colab.kernel.invokeFunction('convertToInteractive',\n",
              "                                                     [key], {});\n",
              "          if (!dataTable) return;\n",
              "\n",
              "          const docLinkHtml = 'Like what you see? Visit the ' +\n",
              "            '<a target=\"_blank\" href=https://colab.research.google.com/notebooks/data_table.ipynb>data table notebook</a>'\n",
              "            + ' to learn more about interactive tables.';\n",
              "          element.innerHTML = '';\n",
              "          dataTable['output_type'] = 'display_data';\n",
              "          await google.colab.output.renderOutput(dataTable, element);\n",
              "          const docLink = document.createElement('div');\n",
              "          docLink.innerHTML = docLinkHtml;\n",
              "          element.appendChild(docLink);\n",
              "        }\n",
              "      </script>\n",
              "    </div>\n",
              "  </div>\n",
              "  "
            ]
          },
          "metadata": {},
          "execution_count": 55
        }
      ]
    },
    {
      "cell_type": "code",
      "source": [
        "df_level.tail(10)"
      ],
      "metadata": {
        "id": "bkXq3oryWUHR",
        "outputId": "7760584a-f4f4-4023-8a92-4cc9b99c155d",
        "colab": {
          "base_uri": "https://localhost:8080/",
          "height": 363
        }
      },
      "execution_count": 56,
      "outputs": [
        {
          "output_type": "execute_result",
          "data": {
            "text/plain": [
              "    市区町村名      町名     町丁目      最寄りの中学校  中学校(最近傍距離)  中学校のレーティング  中学校スコア\n",
              "896   葛飾区    水元公園    水元公園    葛飾区立水元中学校       0.726         2.3   0.201\n",
              "897    港区      芝浦   芝浦３丁目     港区立三田中学校       0.676         2.1   0.196\n",
              "898   中央区  日本橋箱崎町  日本橋箱崎町  江東区立深川第二中学校       1.335         2.7   0.173\n",
              "899   新宿区     三栄町     三栄町    新宿区立四谷中学校       0.703         2.0   0.129\n",
              "900   新宿区    四谷坂町    四谷坂町    新宿区立四谷中学校       0.732         2.0   0.112\n",
              "901   新宿区     左門町     左門町    新宿区立四谷中学校       0.746         2.0   0.108\n",
              "902  千代田区     五番町     五番町    新宿区立四谷中学校       0.804         2.0   0.078\n",
              "903   新宿区     荒木町     荒木町    新宿区立四谷中学校       0.856         2.0   0.063\n",
              "904   新宿区      舟町      舟町    新宿区立四谷中学校       0.928         2.0   0.032\n",
              "905   新宿区     大京町     大京町    新宿区立四谷中学校       1.041         2.0   0.019"
            ],
            "text/html": [
              "\n",
              "  <div id=\"df-86ce6070-2998-4b9a-917a-539ae6a7efbf\">\n",
              "    <div class=\"colab-df-container\">\n",
              "      <div>\n",
              "<style scoped>\n",
              "    .dataframe tbody tr th:only-of-type {\n",
              "        vertical-align: middle;\n",
              "    }\n",
              "\n",
              "    .dataframe tbody tr th {\n",
              "        vertical-align: top;\n",
              "    }\n",
              "\n",
              "    .dataframe thead th {\n",
              "        text-align: right;\n",
              "    }\n",
              "</style>\n",
              "<table border=\"1\" class=\"dataframe\">\n",
              "  <thead>\n",
              "    <tr style=\"text-align: right;\">\n",
              "      <th></th>\n",
              "      <th>市区町村名</th>\n",
              "      <th>町名</th>\n",
              "      <th>町丁目</th>\n",
              "      <th>最寄りの中学校</th>\n",
              "      <th>中学校(最近傍距離)</th>\n",
              "      <th>中学校のレーティング</th>\n",
              "      <th>中学校スコア</th>\n",
              "    </tr>\n",
              "  </thead>\n",
              "  <tbody>\n",
              "    <tr>\n",
              "      <th>896</th>\n",
              "      <td>葛飾区</td>\n",
              "      <td>水元公園</td>\n",
              "      <td>水元公園</td>\n",
              "      <td>葛飾区立水元中学校</td>\n",
              "      <td>0.726</td>\n",
              "      <td>2.3</td>\n",
              "      <td>0.201</td>\n",
              "    </tr>\n",
              "    <tr>\n",
              "      <th>897</th>\n",
              "      <td>港区</td>\n",
              "      <td>芝浦</td>\n",
              "      <td>芝浦３丁目</td>\n",
              "      <td>港区立三田中学校</td>\n",
              "      <td>0.676</td>\n",
              "      <td>2.1</td>\n",
              "      <td>0.196</td>\n",
              "    </tr>\n",
              "    <tr>\n",
              "      <th>898</th>\n",
              "      <td>中央区</td>\n",
              "      <td>日本橋箱崎町</td>\n",
              "      <td>日本橋箱崎町</td>\n",
              "      <td>江東区立深川第二中学校</td>\n",
              "      <td>1.335</td>\n",
              "      <td>2.7</td>\n",
              "      <td>0.173</td>\n",
              "    </tr>\n",
              "    <tr>\n",
              "      <th>899</th>\n",
              "      <td>新宿区</td>\n",
              "      <td>三栄町</td>\n",
              "      <td>三栄町</td>\n",
              "      <td>新宿区立四谷中学校</td>\n",
              "      <td>0.703</td>\n",
              "      <td>2.0</td>\n",
              "      <td>0.129</td>\n",
              "    </tr>\n",
              "    <tr>\n",
              "      <th>900</th>\n",
              "      <td>新宿区</td>\n",
              "      <td>四谷坂町</td>\n",
              "      <td>四谷坂町</td>\n",
              "      <td>新宿区立四谷中学校</td>\n",
              "      <td>0.732</td>\n",
              "      <td>2.0</td>\n",
              "      <td>0.112</td>\n",
              "    </tr>\n",
              "    <tr>\n",
              "      <th>901</th>\n",
              "      <td>新宿区</td>\n",
              "      <td>左門町</td>\n",
              "      <td>左門町</td>\n",
              "      <td>新宿区立四谷中学校</td>\n",
              "      <td>0.746</td>\n",
              "      <td>2.0</td>\n",
              "      <td>0.108</td>\n",
              "    </tr>\n",
              "    <tr>\n",
              "      <th>902</th>\n",
              "      <td>千代田区</td>\n",
              "      <td>五番町</td>\n",
              "      <td>五番町</td>\n",
              "      <td>新宿区立四谷中学校</td>\n",
              "      <td>0.804</td>\n",
              "      <td>2.0</td>\n",
              "      <td>0.078</td>\n",
              "    </tr>\n",
              "    <tr>\n",
              "      <th>903</th>\n",
              "      <td>新宿区</td>\n",
              "      <td>荒木町</td>\n",
              "      <td>荒木町</td>\n",
              "      <td>新宿区立四谷中学校</td>\n",
              "      <td>0.856</td>\n",
              "      <td>2.0</td>\n",
              "      <td>0.063</td>\n",
              "    </tr>\n",
              "    <tr>\n",
              "      <th>904</th>\n",
              "      <td>新宿区</td>\n",
              "      <td>舟町</td>\n",
              "      <td>舟町</td>\n",
              "      <td>新宿区立四谷中学校</td>\n",
              "      <td>0.928</td>\n",
              "      <td>2.0</td>\n",
              "      <td>0.032</td>\n",
              "    </tr>\n",
              "    <tr>\n",
              "      <th>905</th>\n",
              "      <td>新宿区</td>\n",
              "      <td>大京町</td>\n",
              "      <td>大京町</td>\n",
              "      <td>新宿区立四谷中学校</td>\n",
              "      <td>1.041</td>\n",
              "      <td>2.0</td>\n",
              "      <td>0.019</td>\n",
              "    </tr>\n",
              "  </tbody>\n",
              "</table>\n",
              "</div>\n",
              "      <button class=\"colab-df-convert\" onclick=\"convertToInteractive('df-86ce6070-2998-4b9a-917a-539ae6a7efbf')\"\n",
              "              title=\"Convert this dataframe to an interactive table.\"\n",
              "              style=\"display:none;\">\n",
              "        \n",
              "  <svg xmlns=\"http://www.w3.org/2000/svg\" height=\"24px\"viewBox=\"0 0 24 24\"\n",
              "       width=\"24px\">\n",
              "    <path d=\"M0 0h24v24H0V0z\" fill=\"none\"/>\n",
              "    <path d=\"M18.56 5.44l.94 2.06.94-2.06 2.06-.94-2.06-.94-.94-2.06-.94 2.06-2.06.94zm-11 1L8.5 8.5l.94-2.06 2.06-.94-2.06-.94L8.5 2.5l-.94 2.06-2.06.94zm10 10l.94 2.06.94-2.06 2.06-.94-2.06-.94-.94-2.06-.94 2.06-2.06.94z\"/><path d=\"M17.41 7.96l-1.37-1.37c-.4-.4-.92-.59-1.43-.59-.52 0-1.04.2-1.43.59L10.3 9.45l-7.72 7.72c-.78.78-.78 2.05 0 2.83L4 21.41c.39.39.9.59 1.41.59.51 0 1.02-.2 1.41-.59l7.78-7.78 2.81-2.81c.8-.78.8-2.07 0-2.86zM5.41 20L4 18.59l7.72-7.72 1.47 1.35L5.41 20z\"/>\n",
              "  </svg>\n",
              "      </button>\n",
              "      \n",
              "  <style>\n",
              "    .colab-df-container {\n",
              "      display:flex;\n",
              "      flex-wrap:wrap;\n",
              "      gap: 12px;\n",
              "    }\n",
              "\n",
              "    .colab-df-convert {\n",
              "      background-color: #E8F0FE;\n",
              "      border: none;\n",
              "      border-radius: 50%;\n",
              "      cursor: pointer;\n",
              "      display: none;\n",
              "      fill: #1967D2;\n",
              "      height: 32px;\n",
              "      padding: 0 0 0 0;\n",
              "      width: 32px;\n",
              "    }\n",
              "\n",
              "    .colab-df-convert:hover {\n",
              "      background-color: #E2EBFA;\n",
              "      box-shadow: 0px 1px 2px rgba(60, 64, 67, 0.3), 0px 1px 3px 1px rgba(60, 64, 67, 0.15);\n",
              "      fill: #174EA6;\n",
              "    }\n",
              "\n",
              "    [theme=dark] .colab-df-convert {\n",
              "      background-color: #3B4455;\n",
              "      fill: #D2E3FC;\n",
              "    }\n",
              "\n",
              "    [theme=dark] .colab-df-convert:hover {\n",
              "      background-color: #434B5C;\n",
              "      box-shadow: 0px 1px 3px 1px rgba(0, 0, 0, 0.15);\n",
              "      filter: drop-shadow(0px 1px 2px rgba(0, 0, 0, 0.3));\n",
              "      fill: #FFFFFF;\n",
              "    }\n",
              "  </style>\n",
              "\n",
              "      <script>\n",
              "        const buttonEl =\n",
              "          document.querySelector('#df-86ce6070-2998-4b9a-917a-539ae6a7efbf button.colab-df-convert');\n",
              "        buttonEl.style.display =\n",
              "          google.colab.kernel.accessAllowed ? 'block' : 'none';\n",
              "\n",
              "        async function convertToInteractive(key) {\n",
              "          const element = document.querySelector('#df-86ce6070-2998-4b9a-917a-539ae6a7efbf');\n",
              "          const dataTable =\n",
              "            await google.colab.kernel.invokeFunction('convertToInteractive',\n",
              "                                                     [key], {});\n",
              "          if (!dataTable) return;\n",
              "\n",
              "          const docLinkHtml = 'Like what you see? Visit the ' +\n",
              "            '<a target=\"_blank\" href=https://colab.research.google.com/notebooks/data_table.ipynb>data table notebook</a>'\n",
              "            + ' to learn more about interactive tables.';\n",
              "          element.innerHTML = '';\n",
              "          dataTable['output_type'] = 'display_data';\n",
              "          await google.colab.output.renderOutput(dataTable, element);\n",
              "          const docLink = document.createElement('div');\n",
              "          docLink.innerHTML = docLinkHtml;\n",
              "          element.appendChild(docLink);\n",
              "        }\n",
              "      </script>\n",
              "    </div>\n",
              "  </div>\n",
              "  "
            ]
          },
          "metadata": {},
          "execution_count": 56
        }
      ]
    },
    {
      "cell_type": "code",
      "source": [
        "df_level = get_score_top(df_pop_master, '幼稚園')\n",
        "print(df_level.shape)\n",
        "df_level.head(10)"
      ],
      "metadata": {
        "id": "8qmUYLieWXyj",
        "outputId": "3d047b47-8e54-477f-ea74-5064c343661b",
        "colab": {
          "base_uri": "https://localhost:8080/",
          "height": 380
        }
      },
      "execution_count": 57,
      "outputs": [
        {
          "output_type": "stream",
          "name": "stdout",
          "text": [
            "(851, 7)\n"
          ]
        },
        {
          "output_type": "execute_result",
          "data": {
            "text/plain": [
              "  市区町村名    町名     町丁目       最寄りの幼稚園  幼稚園(最近傍距離)  幼稚園のレーティング  幼稚園スコア\n",
              "0  千代田区   六番町     六番町    千代田区立番町幼稚園       0.017         5.0   5.000\n",
              "1   新宿区  津久戸町    津久戸町    新宿区立津久戸幼稚園       0.035         5.0   4.998\n",
              "2   江東区   古石場  古石場１丁目    江東区立ちどり幼稚園       0.041         5.0   4.995\n",
              "3   江東区    亀戸   亀戸２丁目   江東区立第一亀戸幼稚園       0.051         5.0   4.993\n",
              "4    港区   元麻布  元麻布３丁目      港区立南山幼稚園       0.064         5.0   4.988\n",
              "5    港区   南麻布  南麻布３丁目      港区立本村幼稚園       0.068         5.0   4.985\n",
              "6   文京区   小日向  小日向２丁目  文京区立小日向台町幼稚園       0.078         5.0   4.983\n",
              "7   品川区   西大井  西大井５丁目     品川区立伊藤幼稚園       0.080         5.0   4.981\n",
              "8   江東区    東砂   東砂４丁目     江東区立東砂幼稚園       0.084         5.0   4.978\n",
              "9    港区    三田   三田１丁目      港区立赤羽幼稚園       0.094         5.0   4.976"
            ],
            "text/html": [
              "\n",
              "  <div id=\"df-fc96a26b-0428-4d7a-a7d0-cfdb7a7b472e\">\n",
              "    <div class=\"colab-df-container\">\n",
              "      <div>\n",
              "<style scoped>\n",
              "    .dataframe tbody tr th:only-of-type {\n",
              "        vertical-align: middle;\n",
              "    }\n",
              "\n",
              "    .dataframe tbody tr th {\n",
              "        vertical-align: top;\n",
              "    }\n",
              "\n",
              "    .dataframe thead th {\n",
              "        text-align: right;\n",
              "    }\n",
              "</style>\n",
              "<table border=\"1\" class=\"dataframe\">\n",
              "  <thead>\n",
              "    <tr style=\"text-align: right;\">\n",
              "      <th></th>\n",
              "      <th>市区町村名</th>\n",
              "      <th>町名</th>\n",
              "      <th>町丁目</th>\n",
              "      <th>最寄りの幼稚園</th>\n",
              "      <th>幼稚園(最近傍距離)</th>\n",
              "      <th>幼稚園のレーティング</th>\n",
              "      <th>幼稚園スコア</th>\n",
              "    </tr>\n",
              "  </thead>\n",
              "  <tbody>\n",
              "    <tr>\n",
              "      <th>0</th>\n",
              "      <td>千代田区</td>\n",
              "      <td>六番町</td>\n",
              "      <td>六番町</td>\n",
              "      <td>千代田区立番町幼稚園</td>\n",
              "      <td>0.017</td>\n",
              "      <td>5.0</td>\n",
              "      <td>5.000</td>\n",
              "    </tr>\n",
              "    <tr>\n",
              "      <th>1</th>\n",
              "      <td>新宿区</td>\n",
              "      <td>津久戸町</td>\n",
              "      <td>津久戸町</td>\n",
              "      <td>新宿区立津久戸幼稚園</td>\n",
              "      <td>0.035</td>\n",
              "      <td>5.0</td>\n",
              "      <td>4.998</td>\n",
              "    </tr>\n",
              "    <tr>\n",
              "      <th>2</th>\n",
              "      <td>江東区</td>\n",
              "      <td>古石場</td>\n",
              "      <td>古石場１丁目</td>\n",
              "      <td>江東区立ちどり幼稚園</td>\n",
              "      <td>0.041</td>\n",
              "      <td>5.0</td>\n",
              "      <td>4.995</td>\n",
              "    </tr>\n",
              "    <tr>\n",
              "      <th>3</th>\n",
              "      <td>江東区</td>\n",
              "      <td>亀戸</td>\n",
              "      <td>亀戸２丁目</td>\n",
              "      <td>江東区立第一亀戸幼稚園</td>\n",
              "      <td>0.051</td>\n",
              "      <td>5.0</td>\n",
              "      <td>4.993</td>\n",
              "    </tr>\n",
              "    <tr>\n",
              "      <th>4</th>\n",
              "      <td>港区</td>\n",
              "      <td>元麻布</td>\n",
              "      <td>元麻布３丁目</td>\n",
              "      <td>港区立南山幼稚園</td>\n",
              "      <td>0.064</td>\n",
              "      <td>5.0</td>\n",
              "      <td>4.988</td>\n",
              "    </tr>\n",
              "    <tr>\n",
              "      <th>5</th>\n",
              "      <td>港区</td>\n",
              "      <td>南麻布</td>\n",
              "      <td>南麻布３丁目</td>\n",
              "      <td>港区立本村幼稚園</td>\n",
              "      <td>0.068</td>\n",
              "      <td>5.0</td>\n",
              "      <td>4.985</td>\n",
              "    </tr>\n",
              "    <tr>\n",
              "      <th>6</th>\n",
              "      <td>文京区</td>\n",
              "      <td>小日向</td>\n",
              "      <td>小日向２丁目</td>\n",
              "      <td>文京区立小日向台町幼稚園</td>\n",
              "      <td>0.078</td>\n",
              "      <td>5.0</td>\n",
              "      <td>4.983</td>\n",
              "    </tr>\n",
              "    <tr>\n",
              "      <th>7</th>\n",
              "      <td>品川区</td>\n",
              "      <td>西大井</td>\n",
              "      <td>西大井５丁目</td>\n",
              "      <td>品川区立伊藤幼稚園</td>\n",
              "      <td>0.080</td>\n",
              "      <td>5.0</td>\n",
              "      <td>4.981</td>\n",
              "    </tr>\n",
              "    <tr>\n",
              "      <th>8</th>\n",
              "      <td>江東区</td>\n",
              "      <td>東砂</td>\n",
              "      <td>東砂４丁目</td>\n",
              "      <td>江東区立東砂幼稚園</td>\n",
              "      <td>0.084</td>\n",
              "      <td>5.0</td>\n",
              "      <td>4.978</td>\n",
              "    </tr>\n",
              "    <tr>\n",
              "      <th>9</th>\n",
              "      <td>港区</td>\n",
              "      <td>三田</td>\n",
              "      <td>三田１丁目</td>\n",
              "      <td>港区立赤羽幼稚園</td>\n",
              "      <td>0.094</td>\n",
              "      <td>5.0</td>\n",
              "      <td>4.976</td>\n",
              "    </tr>\n",
              "  </tbody>\n",
              "</table>\n",
              "</div>\n",
              "      <button class=\"colab-df-convert\" onclick=\"convertToInteractive('df-fc96a26b-0428-4d7a-a7d0-cfdb7a7b472e')\"\n",
              "              title=\"Convert this dataframe to an interactive table.\"\n",
              "              style=\"display:none;\">\n",
              "        \n",
              "  <svg xmlns=\"http://www.w3.org/2000/svg\" height=\"24px\"viewBox=\"0 0 24 24\"\n",
              "       width=\"24px\">\n",
              "    <path d=\"M0 0h24v24H0V0z\" fill=\"none\"/>\n",
              "    <path d=\"M18.56 5.44l.94 2.06.94-2.06 2.06-.94-2.06-.94-.94-2.06-.94 2.06-2.06.94zm-11 1L8.5 8.5l.94-2.06 2.06-.94-2.06-.94L8.5 2.5l-.94 2.06-2.06.94zm10 10l.94 2.06.94-2.06 2.06-.94-2.06-.94-.94-2.06-.94 2.06-2.06.94z\"/><path d=\"M17.41 7.96l-1.37-1.37c-.4-.4-.92-.59-1.43-.59-.52 0-1.04.2-1.43.59L10.3 9.45l-7.72 7.72c-.78.78-.78 2.05 0 2.83L4 21.41c.39.39.9.59 1.41.59.51 0 1.02-.2 1.41-.59l7.78-7.78 2.81-2.81c.8-.78.8-2.07 0-2.86zM5.41 20L4 18.59l7.72-7.72 1.47 1.35L5.41 20z\"/>\n",
              "  </svg>\n",
              "      </button>\n",
              "      \n",
              "  <style>\n",
              "    .colab-df-container {\n",
              "      display:flex;\n",
              "      flex-wrap:wrap;\n",
              "      gap: 12px;\n",
              "    }\n",
              "\n",
              "    .colab-df-convert {\n",
              "      background-color: #E8F0FE;\n",
              "      border: none;\n",
              "      border-radius: 50%;\n",
              "      cursor: pointer;\n",
              "      display: none;\n",
              "      fill: #1967D2;\n",
              "      height: 32px;\n",
              "      padding: 0 0 0 0;\n",
              "      width: 32px;\n",
              "    }\n",
              "\n",
              "    .colab-df-convert:hover {\n",
              "      background-color: #E2EBFA;\n",
              "      box-shadow: 0px 1px 2px rgba(60, 64, 67, 0.3), 0px 1px 3px 1px rgba(60, 64, 67, 0.15);\n",
              "      fill: #174EA6;\n",
              "    }\n",
              "\n",
              "    [theme=dark] .colab-df-convert {\n",
              "      background-color: #3B4455;\n",
              "      fill: #D2E3FC;\n",
              "    }\n",
              "\n",
              "    [theme=dark] .colab-df-convert:hover {\n",
              "      background-color: #434B5C;\n",
              "      box-shadow: 0px 1px 3px 1px rgba(0, 0, 0, 0.15);\n",
              "      filter: drop-shadow(0px 1px 2px rgba(0, 0, 0, 0.3));\n",
              "      fill: #FFFFFF;\n",
              "    }\n",
              "  </style>\n",
              "\n",
              "      <script>\n",
              "        const buttonEl =\n",
              "          document.querySelector('#df-fc96a26b-0428-4d7a-a7d0-cfdb7a7b472e button.colab-df-convert');\n",
              "        buttonEl.style.display =\n",
              "          google.colab.kernel.accessAllowed ? 'block' : 'none';\n",
              "\n",
              "        async function convertToInteractive(key) {\n",
              "          const element = document.querySelector('#df-fc96a26b-0428-4d7a-a7d0-cfdb7a7b472e');\n",
              "          const dataTable =\n",
              "            await google.colab.kernel.invokeFunction('convertToInteractive',\n",
              "                                                     [key], {});\n",
              "          if (!dataTable) return;\n",
              "\n",
              "          const docLinkHtml = 'Like what you see? Visit the ' +\n",
              "            '<a target=\"_blank\" href=https://colab.research.google.com/notebooks/data_table.ipynb>data table notebook</a>'\n",
              "            + ' to learn more about interactive tables.';\n",
              "          element.innerHTML = '';\n",
              "          dataTable['output_type'] = 'display_data';\n",
              "          await google.colab.output.renderOutput(dataTable, element);\n",
              "          const docLink = document.createElement('div');\n",
              "          docLink.innerHTML = docLinkHtml;\n",
              "          element.appendChild(docLink);\n",
              "        }\n",
              "      </script>\n",
              "    </div>\n",
              "  </div>\n",
              "  "
            ]
          },
          "metadata": {},
          "execution_count": 57
        }
      ]
    },
    {
      "cell_type": "code",
      "source": [
        "df_level.tail(10)"
      ],
      "metadata": {
        "id": "Sd1E1O3QWhBt",
        "outputId": "376a9c17-a070-4881-c08a-7b35744761dd",
        "colab": {
          "base_uri": "https://localhost:8080/",
          "height": 363
        }
      },
      "execution_count": 58,
      "outputs": [
        {
          "output_type": "execute_result",
          "data": {
            "text/plain": [
              "    市区町村名     町名       町丁目       最寄りの幼稚園  幼稚園(最近傍距離)  幼稚園のレーティング  幼稚園スコア\n",
              "841   渋谷区   南平台町      南平台町  目黒区立ひがしやま幼稚園       1.175        1.00   0.138\n",
              "842   足立区  古千谷本町  古千谷本町１丁目   荒川区立尾久第二幼稚園       5.982        2.09   0.128\n",
              "843   渋谷区    鉢山町       鉢山町  目黒区立ひがしやま幼稚園       1.243        1.00   0.107\n",
              "844   目黒区    祐天寺    祐天寺１丁目  目黒区立ひがしやま幼稚園       1.265        1.00   0.102\n",
              "845   大田区    大森中    大森中１丁目     品川区立浜川幼稚園       2.957        1.78   0.095\n",
              "846   渋谷区    円山町       円山町  目黒区立ひがしやま幼稚園       1.395        1.00   0.087\n",
              "847   渋谷区     松涛     松涛２丁目  目黒区立ひがしやま幼稚園       1.412        1.00   0.085\n",
              "848   大田区    東蒲田    東蒲田１丁目     品川区立浜川幼稚園       3.683        1.78   0.051\n",
              "849   大田区    北糀谷    北糀谷１丁目     品川区立浜川幼稚園       3.829        1.78   0.046\n",
              "850   渋谷区    神山町       神山町  目黒区立ひがしやま幼稚園       1.858        1.00   0.029"
            ],
            "text/html": [
              "\n",
              "  <div id=\"df-af32d485-bc11-49c0-a143-d02be411410c\">\n",
              "    <div class=\"colab-df-container\">\n",
              "      <div>\n",
              "<style scoped>\n",
              "    .dataframe tbody tr th:only-of-type {\n",
              "        vertical-align: middle;\n",
              "    }\n",
              "\n",
              "    .dataframe tbody tr th {\n",
              "        vertical-align: top;\n",
              "    }\n",
              "\n",
              "    .dataframe thead th {\n",
              "        text-align: right;\n",
              "    }\n",
              "</style>\n",
              "<table border=\"1\" class=\"dataframe\">\n",
              "  <thead>\n",
              "    <tr style=\"text-align: right;\">\n",
              "      <th></th>\n",
              "      <th>市区町村名</th>\n",
              "      <th>町名</th>\n",
              "      <th>町丁目</th>\n",
              "      <th>最寄りの幼稚園</th>\n",
              "      <th>幼稚園(最近傍距離)</th>\n",
              "      <th>幼稚園のレーティング</th>\n",
              "      <th>幼稚園スコア</th>\n",
              "    </tr>\n",
              "  </thead>\n",
              "  <tbody>\n",
              "    <tr>\n",
              "      <th>841</th>\n",
              "      <td>渋谷区</td>\n",
              "      <td>南平台町</td>\n",
              "      <td>南平台町</td>\n",
              "      <td>目黒区立ひがしやま幼稚園</td>\n",
              "      <td>1.175</td>\n",
              "      <td>1.00</td>\n",
              "      <td>0.138</td>\n",
              "    </tr>\n",
              "    <tr>\n",
              "      <th>842</th>\n",
              "      <td>足立区</td>\n",
              "      <td>古千谷本町</td>\n",
              "      <td>古千谷本町１丁目</td>\n",
              "      <td>荒川区立尾久第二幼稚園</td>\n",
              "      <td>5.982</td>\n",
              "      <td>2.09</td>\n",
              "      <td>0.128</td>\n",
              "    </tr>\n",
              "    <tr>\n",
              "      <th>843</th>\n",
              "      <td>渋谷区</td>\n",
              "      <td>鉢山町</td>\n",
              "      <td>鉢山町</td>\n",
              "      <td>目黒区立ひがしやま幼稚園</td>\n",
              "      <td>1.243</td>\n",
              "      <td>1.00</td>\n",
              "      <td>0.107</td>\n",
              "    </tr>\n",
              "    <tr>\n",
              "      <th>844</th>\n",
              "      <td>目黒区</td>\n",
              "      <td>祐天寺</td>\n",
              "      <td>祐天寺１丁目</td>\n",
              "      <td>目黒区立ひがしやま幼稚園</td>\n",
              "      <td>1.265</td>\n",
              "      <td>1.00</td>\n",
              "      <td>0.102</td>\n",
              "    </tr>\n",
              "    <tr>\n",
              "      <th>845</th>\n",
              "      <td>大田区</td>\n",
              "      <td>大森中</td>\n",
              "      <td>大森中１丁目</td>\n",
              "      <td>品川区立浜川幼稚園</td>\n",
              "      <td>2.957</td>\n",
              "      <td>1.78</td>\n",
              "      <td>0.095</td>\n",
              "    </tr>\n",
              "    <tr>\n",
              "      <th>846</th>\n",
              "      <td>渋谷区</td>\n",
              "      <td>円山町</td>\n",
              "      <td>円山町</td>\n",
              "      <td>目黒区立ひがしやま幼稚園</td>\n",
              "      <td>1.395</td>\n",
              "      <td>1.00</td>\n",
              "      <td>0.087</td>\n",
              "    </tr>\n",
              "    <tr>\n",
              "      <th>847</th>\n",
              "      <td>渋谷区</td>\n",
              "      <td>松涛</td>\n",
              "      <td>松涛２丁目</td>\n",
              "      <td>目黒区立ひがしやま幼稚園</td>\n",
              "      <td>1.412</td>\n",
              "      <td>1.00</td>\n",
              "      <td>0.085</td>\n",
              "    </tr>\n",
              "    <tr>\n",
              "      <th>848</th>\n",
              "      <td>大田区</td>\n",
              "      <td>東蒲田</td>\n",
              "      <td>東蒲田１丁目</td>\n",
              "      <td>品川区立浜川幼稚園</td>\n",
              "      <td>3.683</td>\n",
              "      <td>1.78</td>\n",
              "      <td>0.051</td>\n",
              "    </tr>\n",
              "    <tr>\n",
              "      <th>849</th>\n",
              "      <td>大田区</td>\n",
              "      <td>北糀谷</td>\n",
              "      <td>北糀谷１丁目</td>\n",
              "      <td>品川区立浜川幼稚園</td>\n",
              "      <td>3.829</td>\n",
              "      <td>1.78</td>\n",
              "      <td>0.046</td>\n",
              "    </tr>\n",
              "    <tr>\n",
              "      <th>850</th>\n",
              "      <td>渋谷区</td>\n",
              "      <td>神山町</td>\n",
              "      <td>神山町</td>\n",
              "      <td>目黒区立ひがしやま幼稚園</td>\n",
              "      <td>1.858</td>\n",
              "      <td>1.00</td>\n",
              "      <td>0.029</td>\n",
              "    </tr>\n",
              "  </tbody>\n",
              "</table>\n",
              "</div>\n",
              "      <button class=\"colab-df-convert\" onclick=\"convertToInteractive('df-af32d485-bc11-49c0-a143-d02be411410c')\"\n",
              "              title=\"Convert this dataframe to an interactive table.\"\n",
              "              style=\"display:none;\">\n",
              "        \n",
              "  <svg xmlns=\"http://www.w3.org/2000/svg\" height=\"24px\"viewBox=\"0 0 24 24\"\n",
              "       width=\"24px\">\n",
              "    <path d=\"M0 0h24v24H0V0z\" fill=\"none\"/>\n",
              "    <path d=\"M18.56 5.44l.94 2.06.94-2.06 2.06-.94-2.06-.94-.94-2.06-.94 2.06-2.06.94zm-11 1L8.5 8.5l.94-2.06 2.06-.94-2.06-.94L8.5 2.5l-.94 2.06-2.06.94zm10 10l.94 2.06.94-2.06 2.06-.94-2.06-.94-.94-2.06-.94 2.06-2.06.94z\"/><path d=\"M17.41 7.96l-1.37-1.37c-.4-.4-.92-.59-1.43-.59-.52 0-1.04.2-1.43.59L10.3 9.45l-7.72 7.72c-.78.78-.78 2.05 0 2.83L4 21.41c.39.39.9.59 1.41.59.51 0 1.02-.2 1.41-.59l7.78-7.78 2.81-2.81c.8-.78.8-2.07 0-2.86zM5.41 20L4 18.59l7.72-7.72 1.47 1.35L5.41 20z\"/>\n",
              "  </svg>\n",
              "      </button>\n",
              "      \n",
              "  <style>\n",
              "    .colab-df-container {\n",
              "      display:flex;\n",
              "      flex-wrap:wrap;\n",
              "      gap: 12px;\n",
              "    }\n",
              "\n",
              "    .colab-df-convert {\n",
              "      background-color: #E8F0FE;\n",
              "      border: none;\n",
              "      border-radius: 50%;\n",
              "      cursor: pointer;\n",
              "      display: none;\n",
              "      fill: #1967D2;\n",
              "      height: 32px;\n",
              "      padding: 0 0 0 0;\n",
              "      width: 32px;\n",
              "    }\n",
              "\n",
              "    .colab-df-convert:hover {\n",
              "      background-color: #E2EBFA;\n",
              "      box-shadow: 0px 1px 2px rgba(60, 64, 67, 0.3), 0px 1px 3px 1px rgba(60, 64, 67, 0.15);\n",
              "      fill: #174EA6;\n",
              "    }\n",
              "\n",
              "    [theme=dark] .colab-df-convert {\n",
              "      background-color: #3B4455;\n",
              "      fill: #D2E3FC;\n",
              "    }\n",
              "\n",
              "    [theme=dark] .colab-df-convert:hover {\n",
              "      background-color: #434B5C;\n",
              "      box-shadow: 0px 1px 3px 1px rgba(0, 0, 0, 0.15);\n",
              "      filter: drop-shadow(0px 1px 2px rgba(0, 0, 0, 0.3));\n",
              "      fill: #FFFFFF;\n",
              "    }\n",
              "  </style>\n",
              "\n",
              "      <script>\n",
              "        const buttonEl =\n",
              "          document.querySelector('#df-af32d485-bc11-49c0-a143-d02be411410c button.colab-df-convert');\n",
              "        buttonEl.style.display =\n",
              "          google.colab.kernel.accessAllowed ? 'block' : 'none';\n",
              "\n",
              "        async function convertToInteractive(key) {\n",
              "          const element = document.querySelector('#df-af32d485-bc11-49c0-a143-d02be411410c');\n",
              "          const dataTable =\n",
              "            await google.colab.kernel.invokeFunction('convertToInteractive',\n",
              "                                                     [key], {});\n",
              "          if (!dataTable) return;\n",
              "\n",
              "          const docLinkHtml = 'Like what you see? Visit the ' +\n",
              "            '<a target=\"_blank\" href=https://colab.research.google.com/notebooks/data_table.ipynb>data table notebook</a>'\n",
              "            + ' to learn more about interactive tables.';\n",
              "          element.innerHTML = '';\n",
              "          dataTable['output_type'] = 'display_data';\n",
              "          await google.colab.output.renderOutput(dataTable, element);\n",
              "          const docLink = document.createElement('div');\n",
              "          docLink.innerHTML = docLinkHtml;\n",
              "          element.appendChild(docLink);\n",
              "        }\n",
              "      </script>\n",
              "    </div>\n",
              "  </div>\n",
              "  "
            ]
          },
          "metadata": {},
          "execution_count": 58
        }
      ]
    },
    {
      "cell_type": "code",
      "source": [],
      "metadata": {
        "id": "9EityBHhWi57"
      },
      "execution_count": 58,
      "outputs": []
    }
  ]
}