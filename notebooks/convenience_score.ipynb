{
  "nbformat": 4,
  "nbformat_minor": 0,
  "metadata": {
    "colab": {
      "provenance": [],
      "authorship_tag": "ABX9TyMpA5AZZKYztwlVNMoGEts9",
      "include_colab_link": true
    },
    "kernelspec": {
      "name": "python3",
      "display_name": "Python 3"
    },
    "language_info": {
      "name": "python"
    }
  },
  "cells": [
    {
      "cell_type": "markdown",
      "metadata": {
        "id": "view-in-github",
        "colab_type": "text"
      },
      "source": [
        "<a href=\"https://colab.research.google.com/github/z-gard/analysis/blob/main/notebooks/convenience_score.ipynb\" target=\"_parent\"><img src=\"https://colab.research.google.com/assets/colab-badge.svg\" alt=\"Open In Colab\"/></a>"
      ]
    },
    {
      "cell_type": "markdown",
      "source": [
        "# 利便性"
      ],
      "metadata": {
        "id": "kP0WeYTi3sb3"
      }
    },
    {
      "cell_type": "code",
      "source": [
        "!pip install -q japanize-matplotlib"
      ],
      "metadata": {
        "id": "E9YHHF2F37-N"
      },
      "execution_count": 1,
      "outputs": []
    },
    {
      "cell_type": "code",
      "execution_count": 2,
      "metadata": {
        "colab": {
          "base_uri": "https://localhost:8080/"
        },
        "id": "w4KT6mck3nOo",
        "outputId": "d537377b-973b-46c7-ce1c-7d69f7d8e6d3"
      },
      "outputs": [
        {
          "output_type": "stream",
          "name": "stdout",
          "text": [
            "Drive already mounted at /content/drive; to attempt to forcibly remount, call drive.mount(\"/content/drive\", force_remount=True).\n"
          ]
        }
      ],
      "source": [
        "from google.colab import drive\n",
        "drive.mount('/content/drive')"
      ]
    },
    {
      "cell_type": "code",
      "source": [
        "DIR_NAME = '/content/drive/MyDrive/z-gard/data'"
      ],
      "metadata": {
        "id": "ScoGtQsV3sA0"
      },
      "execution_count": 3,
      "outputs": []
    },
    {
      "cell_type": "code",
      "source": [
        "import os\n",
        "import requests\n",
        "import json\n",
        "import pandas as pd\n",
        "from urllib.parse import urlparse, quote\n",
        "import io\n",
        "import math\n",
        "import numpy as np\n",
        "import matplotlib.pyplot as plt\n",
        "import japanize_matplotlib\n",
        "import seaborn as sns\n",
        "\n",
        "pd.set_option('display.max_columns', 50)\n",
        "pd.set_option('display.max_rows', 100)"
      ],
      "metadata": {
        "id": "1ef9tlAW3zxE"
      },
      "execution_count": 4,
      "outputs": []
    },
    {
      "cell_type": "markdown",
      "source": [
        "### 人口マスタ"
      ],
      "metadata": {
        "id": "XRO-NFWf4Gnn"
      }
    },
    {
      "cell_type": "code",
      "source": [
        "df_pop_master = pd.read_csv(os.path.join(DIR_NAME, 'population_master.csv'))[['地域ID', '市区町村名', '町名', '町丁目', '緯度', '経度']]\n",
        "print(df_pop_master.shape)"
      ],
      "metadata": {
        "colab": {
          "base_uri": "https://localhost:8080/"
        },
        "id": "hD-7wSVN4BH0",
        "outputId": "677a04ce-e30d-442b-c103-e49f62ebd03c"
      },
      "execution_count": 5,
      "outputs": [
        {
          "output_type": "stream",
          "name": "stdout",
          "text": [
            "(3145, 6)\n"
          ]
        }
      ]
    },
    {
      "cell_type": "markdown",
      "source": [
        "### コンビニ・スーパー"
      ],
      "metadata": {
        "id": "2-pBdXmw4Ktq"
      }
    },
    {
      "cell_type": "code",
      "source": [
        "df_convini_master = pd.read_csv(os.path.join(DIR_NAME, 'convenience_store.csv'))[['name', 'lat', 'lng']]\n",
        "df_convini_master['施設分類'] = 'コンビニ'\n",
        "df_convini_master = df_convini_master.rename(columns={'lat':'緯度', 'lng':'経度'})\n",
        "print(df_convini_master.shape)"
      ],
      "metadata": {
        "colab": {
          "base_uri": "https://localhost:8080/"
        },
        "id": "bZ7JBlaa4JtN",
        "outputId": "76fa8f3a-9f37-4869-ed19-5fdcd0a2102a"
      },
      "execution_count": 6,
      "outputs": [
        {
          "output_type": "stream",
          "name": "stdout",
          "text": [
            "(6405, 4)\n"
          ]
        }
      ]
    },
    {
      "cell_type": "code",
      "source": [
        "df_super_master = pd.read_csv(os.path.join(DIR_NAME, 'supermarket.csv'))[['name', 'lat', 'lng']]\n",
        "df_super_master['施設分類'] = 'スーパー'\n",
        "df_super_master = df_super_master.rename(columns={'lat':'緯度', 'lng':'経度'})\n",
        "print(df_super_master.shape)"
      ],
      "metadata": {
        "colab": {
          "base_uri": "https://localhost:8080/"
        },
        "id": "VeBcuQyn4aee",
        "outputId": "103dea1d-0988-49ac-979a-ee75b6fbb861"
      },
      "execution_count": 7,
      "outputs": [
        {
          "output_type": "stream",
          "name": "stdout",
          "text": [
            "(2060, 4)\n"
          ]
        }
      ]
    },
    {
      "cell_type": "markdown",
      "source": [
        "### 最寄駅"
      ],
      "metadata": {
        "id": "lN64Jn4B4zTc"
      }
    },
    {
      "cell_type": "code",
      "source": [
        "df_station_master = pd.read_csv(os.path.join(DIR_NAME, 'train_station.csv'))[['no', 'name', 'lat', 'lng']]\n",
        "df_station_master = df_station_master.rename(columns={'no':'地域ID', 'name':'最寄駅'})\n",
        "print(df_station_master.shape)"
      ],
      "metadata": {
        "colab": {
          "base_uri": "https://localhost:8080/"
        },
        "id": "o-k260vj4gVe",
        "outputId": "0755b68c-d5a7-48be-ddf1-1bcf2e6951fd"
      },
      "execution_count": 8,
      "outputs": [
        {
          "output_type": "stream",
          "name": "stdout",
          "text": [
            "(3141, 4)\n"
          ]
        }
      ]
    },
    {
      "cell_type": "code",
      "source": [
        "# 距離計算\n",
        "def get_distance(lat1, lon1, lat2, lon2):\n",
        "    _lat1 = lat1 * math.pi / 180\n",
        "    _lon1 = lon1 * math.pi / 180\n",
        "    _lat2 = lat2 * math.pi / 180\n",
        "    _lon2 = lon2 * math.pi / 180\n",
        "    _tmp = math.cos(_lat1) * math.cos(_lat2) * math.cos(_lon2 - _lon1) + math.sin(_lat1) * math.sin(_lat2)\n",
        "    _tmp = 1 if _tmp > 1 else -1 if _tmp < -1 else _tmp\n",
        "    return 6371 * math.acos(_tmp)\n",
        "\n",
        "# 最寄り施設までの距離\n",
        "def get_value_of_nearest_facility(df_master, df_facility, category, method='min', param=3):\n",
        "    _df_cat = df_facility[df_facility['施設分類'] == category].copy()\n",
        "    cat_values = []\n",
        "    for i, row in df_master.iterrows():\n",
        "        dist = _df_cat.apply(lambda x: get_distance(x['緯度'], x['経度'], row['緯度'], row['経度']), axis=1)\n",
        "        val = None\n",
        "        if method == 'min':\n",
        "            # 最小の距離\n",
        "            val = dist.min()\n",
        "        elif method == 'count':\n",
        "            # {param}km以内の施設の数をカウント\n",
        "            val = len(dist[dist <= param])\n",
        "        elif method == 'mean':\n",
        "            # 近い{param}件の距離の平均\n",
        "            val = dist.sort_values()[:param].mean()\n",
        "        cat_values.append(val)\n",
        "    return cat_values"
      ],
      "metadata": {
        "id": "_zuCoLhg48ZN"
      },
      "execution_count": 9,
      "outputs": []
    },
    {
      "cell_type": "markdown",
      "source": [
        "### スコア"
      ],
      "metadata": {
        "id": "IILAQB3vA02_"
      }
    },
    {
      "cell_type": "code",
      "source": [
        "%%time\n",
        "# 0.5km以内の施設の数\n",
        "df_pop_master['コンビニ(数)'] = get_value_of_nearest_facility(df_pop_master, df_convini_master, 'コンビニ', 'count', 0.5)\n",
        "# 近い3件の距離の平均\n",
        "df_pop_master['コンビニ(平均距離)'] = get_value_of_nearest_facility(df_pop_master, df_convini_master, 'コンビニ', 'mean', 3)\n",
        "# 1km以内の施設の数\n",
        "df_pop_master['スーパー(数)'] = get_value_of_nearest_facility(df_pop_master, df_super_master, 'スーパー', 'count', 1)"
      ],
      "metadata": {
        "colab": {
          "base_uri": "https://localhost:8080/"
        },
        "id": "GOWzRaqi5JH2",
        "outputId": "c335ff6f-d4bf-4f2a-c158-9e6b2c58e4b6"
      },
      "execution_count": 10,
      "outputs": [
        {
          "output_type": "stream",
          "name": "stdout",
          "text": [
            "CPU times: user 17min 5s, sys: 3.21 s, total: 17min 8s\n",
            "Wall time: 17min 16s\n"
          ]
        }
      ]
    },
    {
      "cell_type": "code",
      "source": [
        "# 最寄駅からの距離\n",
        "pop_master_len = len(df_pop_master)\n",
        "df_pop_master = pd.merge(df_pop_master, df_station_master, on='地域ID', how='left')\n",
        "assert len(df_pop_master) == pop_master_len\n",
        "\n",
        "df_pop_master['最寄駅(距離)'] = df_pop_master.apply(lambda x: get_distance(x['緯度'], x['経度'], x['lat'], x['lng']), axis=1)\n",
        "df_pop_master = df_pop_master.drop(columns=['lat', 'lng'])"
      ],
      "metadata": {
        "id": "Gccf1DW-7cgo"
      },
      "execution_count": 11,
      "outputs": []
    },
    {
      "cell_type": "code",
      "source": [
        "print(df_pop_master.shape)\n",
        "df_pop_master.head()"
      ],
      "metadata": {
        "colab": {
          "base_uri": "https://localhost:8080/",
          "height": 224
        },
        "id": "GbdMQ-rc7G9B",
        "outputId": "f3551b5e-7887-425e-d7b1-f15430f09fd5"
      },
      "execution_count": 12,
      "outputs": [
        {
          "output_type": "stream",
          "name": "stdout",
          "text": [
            "(3145, 11)\n"
          ]
        },
        {
          "output_type": "execute_result",
          "data": {
            "text/plain": [
              "     地域ID 市区町村名   町名     町丁目         緯度          経度  コンビニ(数)  コンビニ(平均距離)  \\\n",
              "0  101003  千代田区  丸の内  丸の内１丁目  35.681610  139.767511       72    0.039658   \n",
              "1  101004  千代田区  丸の内  丸の内２丁目  35.680071  139.763944       58    0.101209   \n",
              "2  101005  千代田区  丸の内  丸の内３丁目  35.676890  139.764039       46    0.101844   \n",
              "3  101007  千代田区  大手町  大手町１丁目  35.688067  139.764353       36    0.069556   \n",
              "4  101008  千代田区  大手町  大手町２丁目  35.686416  139.768530       43    0.128402   \n",
              "\n",
              "   スーパー(数)   最寄駅   最寄駅(距離)  \n",
              "0       13   東京駅  0.054248  \n",
              "1       10   東京駅  0.315152  \n",
              "2        9  有楽町駅  0.228117  \n",
              "3        7  大手町駅  0.317383  \n",
              "4       15  大手町駅  0.488932  "
            ],
            "text/html": [
              "\n",
              "  <div id=\"df-24510b4e-35e6-4423-ad98-7bef0d892a14\">\n",
              "    <div class=\"colab-df-container\">\n",
              "      <div>\n",
              "<style scoped>\n",
              "    .dataframe tbody tr th:only-of-type {\n",
              "        vertical-align: middle;\n",
              "    }\n",
              "\n",
              "    .dataframe tbody tr th {\n",
              "        vertical-align: top;\n",
              "    }\n",
              "\n",
              "    .dataframe thead th {\n",
              "        text-align: right;\n",
              "    }\n",
              "</style>\n",
              "<table border=\"1\" class=\"dataframe\">\n",
              "  <thead>\n",
              "    <tr style=\"text-align: right;\">\n",
              "      <th></th>\n",
              "      <th>地域ID</th>\n",
              "      <th>市区町村名</th>\n",
              "      <th>町名</th>\n",
              "      <th>町丁目</th>\n",
              "      <th>緯度</th>\n",
              "      <th>経度</th>\n",
              "      <th>コンビニ(数)</th>\n",
              "      <th>コンビニ(平均距離)</th>\n",
              "      <th>スーパー(数)</th>\n",
              "      <th>最寄駅</th>\n",
              "      <th>最寄駅(距離)</th>\n",
              "    </tr>\n",
              "  </thead>\n",
              "  <tbody>\n",
              "    <tr>\n",
              "      <th>0</th>\n",
              "      <td>101003</td>\n",
              "      <td>千代田区</td>\n",
              "      <td>丸の内</td>\n",
              "      <td>丸の内１丁目</td>\n",
              "      <td>35.681610</td>\n",
              "      <td>139.767511</td>\n",
              "      <td>72</td>\n",
              "      <td>0.039658</td>\n",
              "      <td>13</td>\n",
              "      <td>東京駅</td>\n",
              "      <td>0.054248</td>\n",
              "    </tr>\n",
              "    <tr>\n",
              "      <th>1</th>\n",
              "      <td>101004</td>\n",
              "      <td>千代田区</td>\n",
              "      <td>丸の内</td>\n",
              "      <td>丸の内２丁目</td>\n",
              "      <td>35.680071</td>\n",
              "      <td>139.763944</td>\n",
              "      <td>58</td>\n",
              "      <td>0.101209</td>\n",
              "      <td>10</td>\n",
              "      <td>東京駅</td>\n",
              "      <td>0.315152</td>\n",
              "    </tr>\n",
              "    <tr>\n",
              "      <th>2</th>\n",
              "      <td>101005</td>\n",
              "      <td>千代田区</td>\n",
              "      <td>丸の内</td>\n",
              "      <td>丸の内３丁目</td>\n",
              "      <td>35.676890</td>\n",
              "      <td>139.764039</td>\n",
              "      <td>46</td>\n",
              "      <td>0.101844</td>\n",
              "      <td>9</td>\n",
              "      <td>有楽町駅</td>\n",
              "      <td>0.228117</td>\n",
              "    </tr>\n",
              "    <tr>\n",
              "      <th>3</th>\n",
              "      <td>101007</td>\n",
              "      <td>千代田区</td>\n",
              "      <td>大手町</td>\n",
              "      <td>大手町１丁目</td>\n",
              "      <td>35.688067</td>\n",
              "      <td>139.764353</td>\n",
              "      <td>36</td>\n",
              "      <td>0.069556</td>\n",
              "      <td>7</td>\n",
              "      <td>大手町駅</td>\n",
              "      <td>0.317383</td>\n",
              "    </tr>\n",
              "    <tr>\n",
              "      <th>4</th>\n",
              "      <td>101008</td>\n",
              "      <td>千代田区</td>\n",
              "      <td>大手町</td>\n",
              "      <td>大手町２丁目</td>\n",
              "      <td>35.686416</td>\n",
              "      <td>139.768530</td>\n",
              "      <td>43</td>\n",
              "      <td>0.128402</td>\n",
              "      <td>15</td>\n",
              "      <td>大手町駅</td>\n",
              "      <td>0.488932</td>\n",
              "    </tr>\n",
              "  </tbody>\n",
              "</table>\n",
              "</div>\n",
              "      <button class=\"colab-df-convert\" onclick=\"convertToInteractive('df-24510b4e-35e6-4423-ad98-7bef0d892a14')\"\n",
              "              title=\"Convert this dataframe to an interactive table.\"\n",
              "              style=\"display:none;\">\n",
              "        \n",
              "  <svg xmlns=\"http://www.w3.org/2000/svg\" height=\"24px\"viewBox=\"0 0 24 24\"\n",
              "       width=\"24px\">\n",
              "    <path d=\"M0 0h24v24H0V0z\" fill=\"none\"/>\n",
              "    <path d=\"M18.56 5.44l.94 2.06.94-2.06 2.06-.94-2.06-.94-.94-2.06-.94 2.06-2.06.94zm-11 1L8.5 8.5l.94-2.06 2.06-.94-2.06-.94L8.5 2.5l-.94 2.06-2.06.94zm10 10l.94 2.06.94-2.06 2.06-.94-2.06-.94-.94-2.06-.94 2.06-2.06.94z\"/><path d=\"M17.41 7.96l-1.37-1.37c-.4-.4-.92-.59-1.43-.59-.52 0-1.04.2-1.43.59L10.3 9.45l-7.72 7.72c-.78.78-.78 2.05 0 2.83L4 21.41c.39.39.9.59 1.41.59.51 0 1.02-.2 1.41-.59l7.78-7.78 2.81-2.81c.8-.78.8-2.07 0-2.86zM5.41 20L4 18.59l7.72-7.72 1.47 1.35L5.41 20z\"/>\n",
              "  </svg>\n",
              "      </button>\n",
              "      \n",
              "  <style>\n",
              "    .colab-df-container {\n",
              "      display:flex;\n",
              "      flex-wrap:wrap;\n",
              "      gap: 12px;\n",
              "    }\n",
              "\n",
              "    .colab-df-convert {\n",
              "      background-color: #E8F0FE;\n",
              "      border: none;\n",
              "      border-radius: 50%;\n",
              "      cursor: pointer;\n",
              "      display: none;\n",
              "      fill: #1967D2;\n",
              "      height: 32px;\n",
              "      padding: 0 0 0 0;\n",
              "      width: 32px;\n",
              "    }\n",
              "\n",
              "    .colab-df-convert:hover {\n",
              "      background-color: #E2EBFA;\n",
              "      box-shadow: 0px 1px 2px rgba(60, 64, 67, 0.3), 0px 1px 3px 1px rgba(60, 64, 67, 0.15);\n",
              "      fill: #174EA6;\n",
              "    }\n",
              "\n",
              "    [theme=dark] .colab-df-convert {\n",
              "      background-color: #3B4455;\n",
              "      fill: #D2E3FC;\n",
              "    }\n",
              "\n",
              "    [theme=dark] .colab-df-convert:hover {\n",
              "      background-color: #434B5C;\n",
              "      box-shadow: 0px 1px 3px 1px rgba(0, 0, 0, 0.15);\n",
              "      filter: drop-shadow(0px 1px 2px rgba(0, 0, 0, 0.3));\n",
              "      fill: #FFFFFF;\n",
              "    }\n",
              "  </style>\n",
              "\n",
              "      <script>\n",
              "        const buttonEl =\n",
              "          document.querySelector('#df-24510b4e-35e6-4423-ad98-7bef0d892a14 button.colab-df-convert');\n",
              "        buttonEl.style.display =\n",
              "          google.colab.kernel.accessAllowed ? 'block' : 'none';\n",
              "\n",
              "        async function convertToInteractive(key) {\n",
              "          const element = document.querySelector('#df-24510b4e-35e6-4423-ad98-7bef0d892a14');\n",
              "          const dataTable =\n",
              "            await google.colab.kernel.invokeFunction('convertToInteractive',\n",
              "                                                     [key], {});\n",
              "          if (!dataTable) return;\n",
              "\n",
              "          const docLinkHtml = 'Like what you see? Visit the ' +\n",
              "            '<a target=\"_blank\" href=https://colab.research.google.com/notebooks/data_table.ipynb>data table notebook</a>'\n",
              "            + ' to learn more about interactive tables.';\n",
              "          element.innerHTML = '';\n",
              "          dataTable['output_type'] = 'display_data';\n",
              "          await google.colab.output.renderOutput(dataTable, element);\n",
              "          const docLink = document.createElement('div');\n",
              "          docLink.innerHTML = docLinkHtml;\n",
              "          element.appendChild(docLink);\n",
              "        }\n",
              "      </script>\n",
              "    </div>\n",
              "  </div>\n",
              "  "
            ]
          },
          "metadata": {},
          "execution_count": 12
        }
      ]
    },
    {
      "cell_type": "code",
      "source": [
        "sns.histplot(df_pop_master['コンビニ(数)'], bins=20)\n",
        "plt.show()"
      ],
      "metadata": {
        "colab": {
          "base_uri": "https://localhost:8080/",
          "height": 278
        },
        "id": "omSbyVRv7Jjj",
        "outputId": "9b53f41d-216c-44cf-d572-6ce09ab76b83"
      },
      "execution_count": 13,
      "outputs": [
        {
          "output_type": "display_data",
          "data": {
            "text/plain": [
              "<Figure size 432x288 with 1 Axes>"
            ],
            "image/png": "[encoded data removed]"
          },
          "metadata": {
            "needs_background": "light"
          }
        }
      ]
    },
    {
      "cell_type": "code",
      "source": [
        "sns.histplot(df_pop_master['コンビニ(平均距離)'], bins=20)\n",
        "plt.show()"
      ],
      "metadata": {
        "colab": {
          "base_uri": "https://localhost:8080/",
          "height": 278
        },
        "id": "njF52h5T7Orq",
        "outputId": "3a260d99-e676-4022-b44f-4a5a917538eb"
      },
      "execution_count": 14,
      "outputs": [
        {
          "output_type": "display_data",
          "data": {
            "text/plain": [
              "<Figure size 432x288 with 1 Axes>"
            ],
            "image/png": "[encoded data removed]"
          },
          "metadata": {
            "needs_background": "light"
          }
        }
      ]
    },
    {
      "cell_type": "code",
      "source": [
        "sns.histplot(df_pop_master['スーパー(数)'], bins=20)\n",
        "plt.show()"
      ],
      "metadata": {
        "colab": {
          "base_uri": "https://localhost:8080/",
          "height": 278
        },
        "id": "aivC0jO97RR0",
        "outputId": "f0194656-dee2-482f-88fd-a5bca8fa1872"
      },
      "execution_count": 15,
      "outputs": [
        {
          "output_type": "display_data",
          "data": {
            "text/plain": [
              "<Figure size 432x288 with 1 Axes>"
            ],
            "image/png": "[encoded data removed]"
          },
          "metadata": {
            "needs_background": "light"
          }
        }
      ]
    },
    {
      "cell_type": "code",
      "source": [
        "sns.histplot(df_pop_master['最寄駅(距離)'], bins=20)\n",
        "plt.show()"
      ],
      "metadata": {
        "colab": {
          "base_uri": "https://localhost:8080/",
          "height": 278
        },
        "id": "fr1hDANUAXJY",
        "outputId": "fc03d4b3-30e4-4591-d18c-9f90177e4faf"
      },
      "execution_count": 16,
      "outputs": [
        {
          "output_type": "display_data",
          "data": {
            "text/plain": [
              "<Figure size 432x288 with 1 Axes>"
            ],
            "image/png": "[encoded data removed]"
          },
          "metadata": {
            "needs_background": "light"
          }
        }
      ]
    },
    {
      "cell_type": "code",
      "source": [
        "def rank_score(sr_data):\n",
        "    size = sr_data.notna().sum()\n",
        "    rank = sr_data.rank()\n",
        "    result = rank.copy()\n",
        "    # 0~1: 15%, 1~2: 20%, 2~3: 30%, 3~4: 20%, 4~5: 15%\n",
        "    level_list = [0.15, (0.15+0.2), (0.15+0.2+0.3), (0.15+0.2+0.3+0.2), 1]\n",
        "    \n",
        "    pre_level = 0\n",
        "    for index, level in enumerate([lv*size for lv in level_list]):\n",
        "        result[(rank > pre_level)&(rank <= level)] = (rank - pre_level)/(level - pre_level) + index\n",
        "        pre_level = level\n",
        "\n",
        "    return result"
      ],
      "metadata": {
        "id": "LdClGOPa7YS5"
      },
      "execution_count": 17,
      "outputs": []
    },
    {
      "cell_type": "code",
      "source": [
        "df_pop_master['コンビニ(数)レベル'] = rank_score(df_pop_master['コンビニ(数)'])\n",
        "df_pop_master['コンビニ(平均距離)レベル'] = rank_score(df_pop_master['コンビニ(平均距離)']*(-1))\n",
        "df_pop_master['スーパー(数)レベル'] = rank_score(df_pop_master['スーパー(数)'])"
      ],
      "metadata": {
        "id": "Uwx_g9_f82WM"
      },
      "execution_count": 18,
      "outputs": []
    },
    {
      "cell_type": "code",
      "source": [
        "score_name_list = []\n",
        "score_name = '買い物スコア'\n",
        "score_name_list.append(score_name)\n",
        "\n",
        "score_list = [\n",
        "    df_pop_master['コンビニ(数)レベル'] * 0.5,\n",
        "    df_pop_master['コンビニ(平均距離)レベル'] * 0.5,\n",
        "    df_pop_master['スーパー(数)レベル'] * 1.0,\n",
        "]\n",
        "_tmp_score = pd.concat(score_list, axis=1).sum(axis=1, skipna=False)\n",
        "df_pop_master[score_name] = rank_score(_tmp_score).round(3)"
      ],
      "metadata": {
        "id": "NX28XbUB9b2C"
      },
      "execution_count": 19,
      "outputs": []
    },
    {
      "cell_type": "code",
      "source": [
        "sns.histplot(_tmp_score, bins=20)\n",
        "plt.show()"
      ],
      "metadata": {
        "id": "-gXtou-6D4HZ",
        "outputId": "34aab9c9-6c76-48a2-c3ca-63c8ca822802",
        "colab": {
          "base_uri": "https://localhost:8080/",
          "height": 264
        }
      },
      "execution_count": 20,
      "outputs": [
        {
          "output_type": "display_data",
          "data": {
            "text/plain": [
              "<Figure size 432x288 with 1 Axes>"
            ],
            "image/png": "[encoded data removed]"
          },
          "metadata": {
            "needs_background": "light"
          }
        }
      ]
    },
    {
      "cell_type": "code",
      "source": [
        "sns.histplot(df_pop_master[score_name], bins=20)\n",
        "plt.show()"
      ],
      "metadata": {
        "colab": {
          "base_uri": "https://localhost:8080/",
          "height": 277
        },
        "id": "8L6IoCBO954e",
        "outputId": "5afa62b7-b08d-4530-b3b7-60798a2e2cf4"
      },
      "execution_count": 21,
      "outputs": [
        {
          "output_type": "display_data",
          "data": {
            "text/plain": [
              "<Figure size 432x288 with 1 Axes>"
            ],
            "image/png": "[encoded data removed]"
          },
          "metadata": {
            "needs_background": "light"
          }
        }
      ]
    },
    {
      "cell_type": "code",
      "source": [
        "score_name = '駅スコア'\n",
        "score_name_list.append(score_name)\n",
        "\n",
        "df_pop_master[score_name] = rank_score(df_pop_master['最寄駅(距離)']*(-1)).round(3)"
      ],
      "metadata": {
        "id": "JafH1lHS-MZK"
      },
      "execution_count": 22,
      "outputs": []
    },
    {
      "cell_type": "code",
      "source": [
        "sns.histplot(df_pop_master[score_name], bins=20)\n",
        "plt.show()"
      ],
      "metadata": {
        "id": "O5_M2y5Y-f56",
        "outputId": "75cd98df-6e06-41bf-c518-104a21ea3b09",
        "colab": {
          "base_uri": "https://localhost:8080/",
          "height": 277
        }
      },
      "execution_count": 23,
      "outputs": [
        {
          "output_type": "display_data",
          "data": {
            "text/plain": [
              "<Figure size 432x288 with 1 Axes>"
            ],
            "image/png": "[encoded data removed]"
          },
          "metadata": {
            "needs_background": "light"
          }
        }
      ]
    },
    {
      "cell_type": "code",
      "source": [
        "score_name = '利便性スコア'\n",
        "score_name_list.append(score_name)\n",
        "\n",
        "score_list = [\n",
        "    df_pop_master['買い物スコア'] * 1.0,\n",
        "    df_pop_master['駅スコア'] * 1.0,\n",
        "]\n",
        "df_pop_master[score_name] = rank_score(pd.concat(score_list, axis=1).sum(axis=1, skipna=False)).round(3)"
      ],
      "metadata": {
        "id": "EmWlIcNzB0v2"
      },
      "execution_count": 24,
      "outputs": []
    },
    {
      "cell_type": "code",
      "source": [
        "sns.histplot(df_pop_master[score_name], bins=20)\n",
        "plt.show()"
      ],
      "metadata": {
        "id": "Hh1RXAyUB_iK",
        "outputId": "d4b634f3-bdc3-489d-fbfd-f76dab1e9ac7",
        "colab": {
          "base_uri": "https://localhost:8080/",
          "height": 278
        }
      },
      "execution_count": 25,
      "outputs": [
        {
          "output_type": "display_data",
          "data": {
            "text/plain": [
              "<Figure size 432x288 with 1 Axes>"
            ],
            "image/png": "[encoded data removed]"
          },
          "metadata": {
            "needs_background": "light"
          }
        }
      ]
    },
    {
      "cell_type": "code",
      "source": [
        "feature_list = ['コンビニ(数)', 'コンビニ(平均距離)', 'スーパー(数)', '最寄駅(距離)']\n",
        "\n",
        "df_pop_master['コンビニ(平均距離)'] = df_pop_master['コンビニ(平均距離)'].round(3)\n",
        "df_pop_master['最寄駅(距離)'] = df_pop_master['最寄駅(距離)'].round(3)"
      ],
      "metadata": {
        "id": "Pc9KoSAy_Pht"
      },
      "execution_count": 26,
      "outputs": []
    },
    {
      "cell_type": "code",
      "source": [
        "output_score_file = 'convenience_score.csv'"
      ],
      "metadata": {
        "id": "3D8OiBGRBsPy"
      },
      "execution_count": 27,
      "outputs": []
    },
    {
      "cell_type": "code",
      "source": [
        "df_pop_master[\n",
        "    ['地域ID'] + feature_list + score_name_list\n",
        "].to_csv(os.path.join(DIR_NAME, output_score_file), index=False)"
      ],
      "metadata": {
        "id": "mGvdhIyy9-kN"
      },
      "execution_count": 28,
      "outputs": []
    },
    {
      "cell_type": "code",
      "source": [
        "for score in score_name_list:\n",
        "    plt.figure(figsize=(15, 5))\n",
        "    sns.barplot(x='市区町村名', y=score, data=df_pop_master)\n",
        "    plt.show()"
      ],
      "metadata": {
        "colab": {
          "base_uri": "https://localhost:8080/",
          "height": 965
        },
        "id": "ufGDZQX3-lnp",
        "outputId": "082b4ec7-ced7-4b6b-e4f0-7fdcc40576e8"
      },
      "execution_count": 29,
      "outputs": [
        {
          "output_type": "display_data",
          "data": {
            "text/plain": [
              "<Figure size 1080x360 with 1 Axes>"
            ],
            "image/png": "[encoded data removed]"
          },
          "metadata": {
            "needs_background": "light"
          }
        },
        {
          "output_type": "display_data",
          "data": {
            "text/plain": [
              "<Figure size 1080x360 with 1 Axes>"
            ],
            "image/png": "[encoded data removed]"
          },
          "metadata": {
            "needs_background": "light"
          }
        },
        {
          "output_type": "display_data",
          "data": {
            "text/plain": [
              "<Figure size 1080x360 with 1 Axes>"
            ],
            "image/png": "[encoded data removed]"
          },
          "metadata": {
            "needs_background": "light"
          }
        }
      ]
    },
    {
      "cell_type": "code",
      "source": [
        "df_level = df_pop_master.copy()\n",
        "df_level['rank'] = df_level.groupby('町名')[score_name].transform('rank', ascending=False)\n",
        "df_level = df_level[df_level['rank'] == 1].sort_values(score_name, ascending=False)[\n",
        "    ['市区町村名', '町名', '町丁目', '最寄駅'] + feature_list + score_name_list\n",
        "].reset_index(drop=True)\n",
        "print(df_level.shape)"
      ],
      "metadata": {
        "colab": {
          "base_uri": "https://localhost:8080/"
        },
        "id": "PQcg6iA0-peB",
        "outputId": "73a657e0-6820-43d2-dbc0-e3c5f920b6cc"
      },
      "execution_count": 30,
      "outputs": [
        {
          "output_type": "stream",
          "name": "stdout",
          "text": [
            "(911, 11)\n"
          ]
        }
      ]
    },
    {
      "cell_type": "code",
      "source": [
        "df_level.head(20)"
      ],
      "metadata": {
        "colab": {
          "base_uri": "https://localhost:8080/",
          "height": 677
        },
        "id": "wnuF1x9Z_mPS",
        "outputId": "f9a554ab-193a-4673-c70a-6c82aeba4bbc"
      },
      "execution_count": 31,
      "outputs": [
        {
          "output_type": "execute_result",
          "data": {
            "text/plain": [
              "   市区町村名      町名        町丁目    最寄駅  コンビニ(数)  コンビニ(平均距離)  スーパー(数)  最寄駅(距離)  \\\n",
              "0   千代田区   神田花岡町      神田花岡町   秋葉原駅       42       0.060       22    0.122   \n",
              "1    中央区   日本橋室町   日本橋室町４丁目  新日本橋駅       42       0.087       22    0.119   \n",
              "2    新宿区    歌舞伎町    歌舞伎町１丁目  西武新宿駅       47       0.052       26    0.151   \n",
              "3    豊島区     西池袋     西池袋１丁目    池袋駅       58       0.050       30    0.155   \n",
              "4   千代田区  神田佐久間町  神田佐久間町１丁目   秋葉原駅       40       0.042       21    0.157   \n",
              "5   千代田区   神田相生町      神田相生町   秋葉原駅       38       0.054       20    0.148   \n",
              "6    中央区     八丁堀     八丁堀４丁目   八丁堀駅       27       0.066       18    0.039   \n",
              "7    台東区     浅草橋     浅草橋１丁目   浅草橋駅       23       0.072       19    0.091   \n",
              "8    中央区   日本橋本町   日本橋本町３丁目  新日本橋駅       34       0.104       23    0.172   \n",
              "9    中央区  日本橋馬喰町  日本橋馬喰町１丁目   馬喰町駅       34       0.100       17    0.019   \n",
              "10   中央区  日本橋横山町     日本橋横山町   馬喰町駅       27       0.110       20    0.143   \n",
              "11   新宿区     百人町     百人町１丁目  新大久保駅       32       0.158       23    0.155   \n",
              "12  千代田区     鍛冶町     鍛冶町２丁目    神田駅       44       0.092       18    0.154   \n",
              "13   台東区      上野      上野６丁目   御徒町駅       51       0.049       22    0.208   \n",
              "14   荒川区    西日暮里    西日暮里５丁目  西日暮里駅       10       0.072       25    0.166   \n",
              "15   豊島区     北大塚     北大塚２丁目    大塚駅       24       0.120       27    0.201   \n",
              "16   新宿区     西新宿     西新宿７丁目  西武新宿駅       44       0.082       23    0.214   \n",
              "17   墨田区      錦糸      錦糸３丁目   錦糸町駅       32       0.080       21    0.205   \n",
              "18  千代田区     丸の内     丸の内１丁目    東京駅       72       0.040       13    0.054   \n",
              "19  千代田区     内神田     内神田３丁目    神田駅       41       0.050       14    0.125   \n",
              "\n",
              "    買い物スコア   駅スコア  利便性スコア  \n",
              "0    4.968  4.913   5.000  \n",
              "1    4.953  4.919   4.998  \n",
              "2    4.994  4.826   4.994  \n",
              "3    5.000  4.813   4.992  \n",
              "4    4.960  4.811   4.989  \n",
              "5    4.928  4.834   4.987  \n",
              "6    4.777  4.983   4.985  \n",
              "7    4.796  4.941   4.983  \n",
              "8    4.934  4.764   4.981  \n",
              "9    4.694  4.992   4.979  \n",
              "10   4.805  4.845   4.977  \n",
              "11   4.822  4.817   4.975  \n",
              "12   4.800  4.822   4.972  \n",
              "13   4.979  4.597   4.970  \n",
              "14   4.771  4.786   4.966  \n",
              "15   4.913  4.639   4.963  \n",
              "16   4.966  4.578   4.960  \n",
              "17   4.919  4.609   4.955  \n",
              "18   4.516  4.975   4.953  \n",
              "19   4.588  4.900   4.951  "
            ],
            "text/html": [
              "\n",
              "  <div id=\"df-bb4e7a79-3de9-4b3d-b80e-e31808068d40\">\n",
              "    <div class=\"colab-df-container\">\n",
              "      <div>\n",
              "<style scoped>\n",
              "    .dataframe tbody tr th:only-of-type {\n",
              "        vertical-align: middle;\n",
              "    }\n",
              "\n",
              "    .dataframe tbody tr th {\n",
              "        vertical-align: top;\n",
              "    }\n",
              "\n",
              "    .dataframe thead th {\n",
              "        text-align: right;\n",
              "    }\n",
              "</style>\n",
              "<table border=\"1\" class=\"dataframe\">\n",
              "  <thead>\n",
              "    <tr style=\"text-align: right;\">\n",
              "      <th></th>\n",
              "      <th>市区町村名</th>\n",
              "      <th>町名</th>\n",
              "      <th>町丁目</th>\n",
              "      <th>最寄駅</th>\n",
              "      <th>コンビニ(数)</th>\n",
              "      <th>コンビニ(平均距離)</th>\n",
              "      <th>スーパー(数)</th>\n",
              "      <th>最寄駅(距離)</th>\n",
              "      <th>買い物スコア</th>\n",
              "      <th>駅スコア</th>\n",
              "      <th>利便性スコア</th>\n",
              "    </tr>\n",
              "  </thead>\n",
              "  <tbody>\n",
              "    <tr>\n",
              "      <th>0</th>\n",
              "      <td>千代田区</td>\n",
              "      <td>神田花岡町</td>\n",
              "      <td>神田花岡町</td>\n",
              "      <td>秋葉原駅</td>\n",
              "      <td>42</td>\n",
              "      <td>0.060</td>\n",
              "      <td>22</td>\n",
              "      <td>0.122</td>\n",
              "      <td>4.968</td>\n",
              "      <td>4.913</td>\n",
              "      <td>5.000</td>\n",
              "    </tr>\n",
              "    <tr>\n",
              "      <th>1</th>\n",
              "      <td>中央区</td>\n",
              "      <td>日本橋室町</td>\n",
              "      <td>日本橋室町４丁目</td>\n",
              "      <td>新日本橋駅</td>\n",
              "      <td>42</td>\n",
              "      <td>0.087</td>\n",
              "      <td>22</td>\n",
              "      <td>0.119</td>\n",
              "      <td>4.953</td>\n",
              "      <td>4.919</td>\n",
              "      <td>4.998</td>\n",
              "    </tr>\n",
              "    <tr>\n",
              "      <th>2</th>\n",
              "      <td>新宿区</td>\n",
              "      <td>歌舞伎町</td>\n",
              "      <td>歌舞伎町１丁目</td>\n",
              "      <td>西武新宿駅</td>\n",
              "      <td>47</td>\n",
              "      <td>0.052</td>\n",
              "      <td>26</td>\n",
              "      <td>0.151</td>\n",
              "      <td>4.994</td>\n",
              "      <td>4.826</td>\n",
              "      <td>4.994</td>\n",
              "    </tr>\n",
              "    <tr>\n",
              "      <th>3</th>\n",
              "      <td>豊島区</td>\n",
              "      <td>西池袋</td>\n",
              "      <td>西池袋１丁目</td>\n",
              "      <td>池袋駅</td>\n",
              "      <td>58</td>\n",
              "      <td>0.050</td>\n",
              "      <td>30</td>\n",
              "      <td>0.155</td>\n",
              "      <td>5.000</td>\n",
              "      <td>4.813</td>\n",
              "      <td>4.992</td>\n",
              "    </tr>\n",
              "    <tr>\n",
              "      <th>4</th>\n",
              "      <td>千代田区</td>\n",
              "      <td>神田佐久間町</td>\n",
              "      <td>神田佐久間町１丁目</td>\n",
              "      <td>秋葉原駅</td>\n",
              "      <td>40</td>\n",
              "      <td>0.042</td>\n",
              "      <td>21</td>\n",
              "      <td>0.157</td>\n",
              "      <td>4.960</td>\n",
              "      <td>4.811</td>\n",
              "      <td>4.989</td>\n",
              "    </tr>\n",
              "    <tr>\n",
              "      <th>5</th>\n",
              "      <td>千代田区</td>\n",
              "      <td>神田相生町</td>\n",
              "      <td>神田相生町</td>\n",
              "      <td>秋葉原駅</td>\n",
              "      <td>38</td>\n",
              "      <td>0.054</td>\n",
              "      <td>20</td>\n",
              "      <td>0.148</td>\n",
              "      <td>4.928</td>\n",
              "      <td>4.834</td>\n",
              "      <td>4.987</td>\n",
              "    </tr>\n",
              "    <tr>\n",
              "      <th>6</th>\n",
              "      <td>中央区</td>\n",
              "      <td>八丁堀</td>\n",
              "      <td>八丁堀４丁目</td>\n",
              "      <td>八丁堀駅</td>\n",
              "      <td>27</td>\n",
              "      <td>0.066</td>\n",
              "      <td>18</td>\n",
              "      <td>0.039</td>\n",
              "      <td>4.777</td>\n",
              "      <td>4.983</td>\n",
              "      <td>4.985</td>\n",
              "    </tr>\n",
              "    <tr>\n",
              "      <th>7</th>\n",
              "      <td>台東区</td>\n",
              "      <td>浅草橋</td>\n",
              "      <td>浅草橋１丁目</td>\n",
              "      <td>浅草橋駅</td>\n",
              "      <td>23</td>\n",
              "      <td>0.072</td>\n",
              "      <td>19</td>\n",
              "      <td>0.091</td>\n",
              "      <td>4.796</td>\n",
              "      <td>4.941</td>\n",
              "      <td>4.983</td>\n",
              "    </tr>\n",
              "    <tr>\n",
              "      <th>8</th>\n",
              "      <td>中央区</td>\n",
              "      <td>日本橋本町</td>\n",
              "      <td>日本橋本町３丁目</td>\n",
              "      <td>新日本橋駅</td>\n",
              "      <td>34</td>\n",
              "      <td>0.104</td>\n",
              "      <td>23</td>\n",
              "      <td>0.172</td>\n",
              "      <td>4.934</td>\n",
              "      <td>4.764</td>\n",
              "      <td>4.981</td>\n",
              "    </tr>\n",
              "    <tr>\n",
              "      <th>9</th>\n",
              "      <td>中央区</td>\n",
              "      <td>日本橋馬喰町</td>\n",
              "      <td>日本橋馬喰町１丁目</td>\n",
              "      <td>馬喰町駅</td>\n",
              "      <td>34</td>\n",
              "      <td>0.100</td>\n",
              "      <td>17</td>\n",
              "      <td>0.019</td>\n",
              "      <td>4.694</td>\n",
              "      <td>4.992</td>\n",
              "      <td>4.979</td>\n",
              "    </tr>\n",
              "    <tr>\n",
              "      <th>10</th>\n",
              "      <td>中央区</td>\n",
              "      <td>日本橋横山町</td>\n",
              "      <td>日本橋横山町</td>\n",
              "      <td>馬喰町駅</td>\n",
              "      <td>27</td>\n",
              "      <td>0.110</td>\n",
              "      <td>20</td>\n",
              "      <td>0.143</td>\n",
              "      <td>4.805</td>\n",
              "      <td>4.845</td>\n",
              "      <td>4.977</td>\n",
              "    </tr>\n",
              "    <tr>\n",
              "      <th>11</th>\n",
              "      <td>新宿区</td>\n",
              "      <td>百人町</td>\n",
              "      <td>百人町１丁目</td>\n",
              "      <td>新大久保駅</td>\n",
              "      <td>32</td>\n",
              "      <td>0.158</td>\n",
              "      <td>23</td>\n",
              "      <td>0.155</td>\n",
              "      <td>4.822</td>\n",
              "      <td>4.817</td>\n",
              "      <td>4.975</td>\n",
              "    </tr>\n",
              "    <tr>\n",
              "      <th>12</th>\n",
              "      <td>千代田区</td>\n",
              "      <td>鍛冶町</td>\n",
              "      <td>鍛冶町２丁目</td>\n",
              "      <td>神田駅</td>\n",
              "      <td>44</td>\n",
              "      <td>0.092</td>\n",
              "      <td>18</td>\n",
              "      <td>0.154</td>\n",
              "      <td>4.800</td>\n",
              "      <td>4.822</td>\n",
              "      <td>4.972</td>\n",
              "    </tr>\n",
              "    <tr>\n",
              "      <th>13</th>\n",
              "      <td>台東区</td>\n",
              "      <td>上野</td>\n",
              "      <td>上野６丁目</td>\n",
              "      <td>御徒町駅</td>\n",
              "      <td>51</td>\n",
              "      <td>0.049</td>\n",
              "      <td>22</td>\n",
              "      <td>0.208</td>\n",
              "      <td>4.979</td>\n",
              "      <td>4.597</td>\n",
              "      <td>4.970</td>\n",
              "    </tr>\n",
              "    <tr>\n",
              "      <th>14</th>\n",
              "      <td>荒川区</td>\n",
              "      <td>西日暮里</td>\n",
              "      <td>西日暮里５丁目</td>\n",
              "      <td>西日暮里駅</td>\n",
              "      <td>10</td>\n",
              "      <td>0.072</td>\n",
              "      <td>25</td>\n",
              "      <td>0.166</td>\n",
              "      <td>4.771</td>\n",
              "      <td>4.786</td>\n",
              "      <td>4.966</td>\n",
              "    </tr>\n",
              "    <tr>\n",
              "      <th>15</th>\n",
              "      <td>豊島区</td>\n",
              "      <td>北大塚</td>\n",
              "      <td>北大塚２丁目</td>\n",
              "      <td>大塚駅</td>\n",
              "      <td>24</td>\n",
              "      <td>0.120</td>\n",
              "      <td>27</td>\n",
              "      <td>0.201</td>\n",
              "      <td>4.913</td>\n",
              "      <td>4.639</td>\n",
              "      <td>4.963</td>\n",
              "    </tr>\n",
              "    <tr>\n",
              "      <th>16</th>\n",
              "      <td>新宿区</td>\n",
              "      <td>西新宿</td>\n",
              "      <td>西新宿７丁目</td>\n",
              "      <td>西武新宿駅</td>\n",
              "      <td>44</td>\n",
              "      <td>0.082</td>\n",
              "      <td>23</td>\n",
              "      <td>0.214</td>\n",
              "      <td>4.966</td>\n",
              "      <td>4.578</td>\n",
              "      <td>4.960</td>\n",
              "    </tr>\n",
              "    <tr>\n",
              "      <th>17</th>\n",
              "      <td>墨田区</td>\n",
              "      <td>錦糸</td>\n",
              "      <td>錦糸３丁目</td>\n",
              "      <td>錦糸町駅</td>\n",
              "      <td>32</td>\n",
              "      <td>0.080</td>\n",
              "      <td>21</td>\n",
              "      <td>0.205</td>\n",
              "      <td>4.919</td>\n",
              "      <td>4.609</td>\n",
              "      <td>4.955</td>\n",
              "    </tr>\n",
              "    <tr>\n",
              "      <th>18</th>\n",
              "      <td>千代田区</td>\n",
              "      <td>丸の内</td>\n",
              "      <td>丸の内１丁目</td>\n",
              "      <td>東京駅</td>\n",
              "      <td>72</td>\n",
              "      <td>0.040</td>\n",
              "      <td>13</td>\n",
              "      <td>0.054</td>\n",
              "      <td>4.516</td>\n",
              "      <td>4.975</td>\n",
              "      <td>4.953</td>\n",
              "    </tr>\n",
              "    <tr>\n",
              "      <th>19</th>\n",
              "      <td>千代田区</td>\n",
              "      <td>内神田</td>\n",
              "      <td>内神田３丁目</td>\n",
              "      <td>神田駅</td>\n",
              "      <td>41</td>\n",
              "      <td>0.050</td>\n",
              "      <td>14</td>\n",
              "      <td>0.125</td>\n",
              "      <td>4.588</td>\n",
              "      <td>4.900</td>\n",
              "      <td>4.951</td>\n",
              "    </tr>\n",
              "  </tbody>\n",
              "</table>\n",
              "</div>\n",
              "      <button class=\"colab-df-convert\" onclick=\"convertToInteractive('df-bb4e7a79-3de9-4b3d-b80e-e31808068d40')\"\n",
              "              title=\"Convert this dataframe to an interactive table.\"\n",
              "              style=\"display:none;\">\n",
              "        \n",
              "  <svg xmlns=\"http://www.w3.org/2000/svg\" height=\"24px\"viewBox=\"0 0 24 24\"\n",
              "       width=\"24px\">\n",
              "    <path d=\"M0 0h24v24H0V0z\" fill=\"none\"/>\n",
              "    <path d=\"M18.56 5.44l.94 2.06.94-2.06 2.06-.94-2.06-.94-.94-2.06-.94 2.06-2.06.94zm-11 1L8.5 8.5l.94-2.06 2.06-.94-2.06-.94L8.5 2.5l-.94 2.06-2.06.94zm10 10l.94 2.06.94-2.06 2.06-.94-2.06-.94-.94-2.06-.94 2.06-2.06.94z\"/><path d=\"M17.41 7.96l-1.37-1.37c-.4-.4-.92-.59-1.43-.59-.52 0-1.04.2-1.43.59L10.3 9.45l-7.72 7.72c-.78.78-.78 2.05 0 2.83L4 21.41c.39.39.9.59 1.41.59.51 0 1.02-.2 1.41-.59l7.78-7.78 2.81-2.81c.8-.78.8-2.07 0-2.86zM5.41 20L4 18.59l7.72-7.72 1.47 1.35L5.41 20z\"/>\n",
              "  </svg>\n",
              "      </button>\n",
              "      \n",
              "  <style>\n",
              "    .colab-df-container {\n",
              "      display:flex;\n",
              "      flex-wrap:wrap;\n",
              "      gap: 12px;\n",
              "    }\n",
              "\n",
              "    .colab-df-convert {\n",
              "      background-color: #E8F0FE;\n",
              "      border: none;\n",
              "      border-radius: 50%;\n",
              "      cursor: pointer;\n",
              "      display: none;\n",
              "      fill: #1967D2;\n",
              "      height: 32px;\n",
              "      padding: 0 0 0 0;\n",
              "      width: 32px;\n",
              "    }\n",
              "\n",
              "    .colab-df-convert:hover {\n",
              "      background-color: #E2EBFA;\n",
              "      box-shadow: 0px 1px 2px rgba(60, 64, 67, 0.3), 0px 1px 3px 1px rgba(60, 64, 67, 0.15);\n",
              "      fill: #174EA6;\n",
              "    }\n",
              "\n",
              "    [theme=dark] .colab-df-convert {\n",
              "      background-color: #3B4455;\n",
              "      fill: #D2E3FC;\n",
              "    }\n",
              "\n",
              "    [theme=dark] .colab-df-convert:hover {\n",
              "      background-color: #434B5C;\n",
              "      box-shadow: 0px 1px 3px 1px rgba(0, 0, 0, 0.15);\n",
              "      filter: drop-shadow(0px 1px 2px rgba(0, 0, 0, 0.3));\n",
              "      fill: #FFFFFF;\n",
              "    }\n",
              "  </style>\n",
              "\n",
              "      <script>\n",
              "        const buttonEl =\n",
              "          document.querySelector('#df-bb4e7a79-3de9-4b3d-b80e-e31808068d40 button.colab-df-convert');\n",
              "        buttonEl.style.display =\n",
              "          google.colab.kernel.accessAllowed ? 'block' : 'none';\n",
              "\n",
              "        async function convertToInteractive(key) {\n",
              "          const element = document.querySelector('#df-bb4e7a79-3de9-4b3d-b80e-e31808068d40');\n",
              "          const dataTable =\n",
              "            await google.colab.kernel.invokeFunction('convertToInteractive',\n",
              "                                                     [key], {});\n",
              "          if (!dataTable) return;\n",
              "\n",
              "          const docLinkHtml = 'Like what you see? Visit the ' +\n",
              "            '<a target=\"_blank\" href=https://colab.research.google.com/notebooks/data_table.ipynb>data table notebook</a>'\n",
              "            + ' to learn more about interactive tables.';\n",
              "          element.innerHTML = '';\n",
              "          dataTable['output_type'] = 'display_data';\n",
              "          await google.colab.output.renderOutput(dataTable, element);\n",
              "          const docLink = document.createElement('div');\n",
              "          docLink.innerHTML = docLinkHtml;\n",
              "          element.appendChild(docLink);\n",
              "        }\n",
              "      </script>\n",
              "    </div>\n",
              "  </div>\n",
              "  "
            ]
          },
          "metadata": {},
          "execution_count": 31
        }
      ]
    },
    {
      "cell_type": "code",
      "source": [
        "df_level.tail(20)"
      ],
      "metadata": {
        "colab": {
          "base_uri": "https://localhost:8080/",
          "height": 677
        },
        "id": "YHYQi2qY_nIe",
        "outputId": "341011e4-eb1d-45d8-b161-b31a610548f4"
      },
      "execution_count": 32,
      "outputs": [
        {
          "output_type": "execute_result",
          "data": {
            "text/plain": [
              "    市区町村名     町名     町丁目      最寄駅  コンビニ(数)  コンビニ(平均距離)  スーパー(数)  最寄駅(距離)  \\\n",
              "891   練馬区    土支田  土支田２丁目   石神井公園駅        4       0.236        5    2.109   \n",
              "892  江戸川区     松本   松本１丁目     新小岩駅        3       0.403        7    1.682   \n",
              "893  江戸川区   下篠崎町    下篠崎町     本八幡駅        5       0.189        3    2.779   \n",
              "894   足立区     新田   新田１丁目     東十条駅        2       0.295        5    1.583   \n",
              "895  江戸川区    西篠崎  西篠崎１丁目      市川駅        2       0.281        6    2.001   \n",
              "896  江戸川区    北篠崎  北篠崎１丁目      市川駅        2       0.514        6    1.418   \n",
              "897  世田谷区     岡本   岡本１丁目      用賀駅        0       0.591        2    1.203   \n",
              "898  江戸川区   二之江町    二之江町      平井駅        3       0.252        6    3.890   \n",
              "899   板橋区     大門      大門     下赤塚駅        5       0.409        2    1.500   \n",
              "900   練馬区    立野町     立野町     武蔵関駅        2       0.439        2    1.339   \n",
              "901  世田谷区    宇奈根  宇奈根２丁目      久地駅        0       0.708        3    1.300   \n",
              "902   板橋区    新河岸  新河岸２丁目    戸田公園駅        2       0.365        6    1.915   \n",
              "903  世田谷区    砧公園     砧公園      用賀駅        0       0.660        1    1.318   \n",
              "904  江戸川区  西小松川町   西小松川町      平井駅        1       0.521        6    1.964   \n",
              "905   練馬区   西大泉町    西大泉町      保谷駅        1       0.541        4    1.675   \n",
              "906  江戸川区    東篠崎  東篠崎２丁目    市川塩浜駅        1       0.539        6    2.915   \n",
              "907   葛飾区   水元公園    水元公園      金町駅        1       0.518        2    2.035   \n",
              "908   大田区    城南島  城南島７丁目  流通センター駅        1       0.814        1    2.006   \n",
              "909   江東区     若洲   若洲１丁目     新木場駅        0       1.196        0    2.121   \n",
              "910  江戸川区   東篠崎町    東篠崎町     本八幡駅        0       0.571        3    3.027   \n",
              "\n",
              "     買い物スコア   駅スコア  利便性スコア  \n",
              "891   1.270  0.312   0.397  \n",
              "892   0.961  0.543   0.372  \n",
              "893   1.288  0.161   0.340  \n",
              "894   0.796  0.630   0.327  \n",
              "895   1.030  0.367   0.312  \n",
              "896   0.526  0.853   0.297  \n",
              "897   0.091  1.194   0.246  \n",
              "898   1.250  0.021   0.244  \n",
              "899   0.490  0.726   0.225  \n",
              "900   0.210  0.985   0.216  \n",
              "901   0.119  1.040   0.200  \n",
              "902   0.724  0.410   0.197  \n",
              "903   0.049  1.005   0.166  \n",
              "904   0.461  0.382   0.119  \n",
              "905   0.240  0.552   0.112  \n",
              "906   0.454  0.140   0.076  \n",
              "907   0.110  0.352   0.036  \n",
              "908   0.059  0.363   0.030  \n",
              "909   0.013  0.304   0.023  \n",
              "910   0.132  0.121   0.017  "
            ],
            "text/html": [
              "\n",
              "  <div id=\"df-365bc005-aca9-4238-a52b-84c7b56dd6da\">\n",
              "    <div class=\"colab-df-container\">\n",
              "      <div>\n",
              "<style scoped>\n",
              "    .dataframe tbody tr th:only-of-type {\n",
              "        vertical-align: middle;\n",
              "    }\n",
              "\n",
              "    .dataframe tbody tr th {\n",
              "        vertical-align: top;\n",
              "    }\n",
              "\n",
              "    .dataframe thead th {\n",
              "        text-align: right;\n",
              "    }\n",
              "</style>\n",
              "<table border=\"1\" class=\"dataframe\">\n",
              "  <thead>\n",
              "    <tr style=\"text-align: right;\">\n",
              "      <th></th>\n",
              "      <th>市区町村名</th>\n",
              "      <th>町名</th>\n",
              "      <th>町丁目</th>\n",
              "      <th>最寄駅</th>\n",
              "      <th>コンビニ(数)</th>\n",
              "      <th>コンビニ(平均距離)</th>\n",
              "      <th>スーパー(数)</th>\n",
              "      <th>最寄駅(距離)</th>\n",
              "      <th>買い物スコア</th>\n",
              "      <th>駅スコア</th>\n",
              "      <th>利便性スコア</th>\n",
              "    </tr>\n",
              "  </thead>\n",
              "  <tbody>\n",
              "    <tr>\n",
              "      <th>891</th>\n",
              "      <td>練馬区</td>\n",
              "      <td>土支田</td>\n",
              "      <td>土支田２丁目</td>\n",
              "      <td>石神井公園駅</td>\n",
              "      <td>4</td>\n",
              "      <td>0.236</td>\n",
              "      <td>5</td>\n",
              "      <td>2.109</td>\n",
              "      <td>1.270</td>\n",
              "      <td>0.312</td>\n",
              "      <td>0.397</td>\n",
              "    </tr>\n",
              "    <tr>\n",
              "      <th>892</th>\n",
              "      <td>江戸川区</td>\n",
              "      <td>松本</td>\n",
              "      <td>松本１丁目</td>\n",
              "      <td>新小岩駅</td>\n",
              "      <td>3</td>\n",
              "      <td>0.403</td>\n",
              "      <td>7</td>\n",
              "      <td>1.682</td>\n",
              "      <td>0.961</td>\n",
              "      <td>0.543</td>\n",
              "      <td>0.372</td>\n",
              "    </tr>\n",
              "    <tr>\n",
              "      <th>893</th>\n",
              "      <td>江戸川区</td>\n",
              "      <td>下篠崎町</td>\n",
              "      <td>下篠崎町</td>\n",
              "      <td>本八幡駅</td>\n",
              "      <td>5</td>\n",
              "      <td>0.189</td>\n",
              "      <td>3</td>\n",
              "      <td>2.779</td>\n",
              "      <td>1.288</td>\n",
              "      <td>0.161</td>\n",
              "      <td>0.340</td>\n",
              "    </tr>\n",
              "    <tr>\n",
              "      <th>894</th>\n",
              "      <td>足立区</td>\n",
              "      <td>新田</td>\n",
              "      <td>新田１丁目</td>\n",
              "      <td>東十条駅</td>\n",
              "      <td>2</td>\n",
              "      <td>0.295</td>\n",
              "      <td>5</td>\n",
              "      <td>1.583</td>\n",
              "      <td>0.796</td>\n",
              "      <td>0.630</td>\n",
              "      <td>0.327</td>\n",
              "    </tr>\n",
              "    <tr>\n",
              "      <th>895</th>\n",
              "      <td>江戸川区</td>\n",
              "      <td>西篠崎</td>\n",
              "      <td>西篠崎１丁目</td>\n",
              "      <td>市川駅</td>\n",
              "      <td>2</td>\n",
              "      <td>0.281</td>\n",
              "      <td>6</td>\n",
              "      <td>2.001</td>\n",
              "      <td>1.030</td>\n",
              "      <td>0.367</td>\n",
              "      <td>0.312</td>\n",
              "    </tr>\n",
              "    <tr>\n",
              "      <th>896</th>\n",
              "      <td>江戸川区</td>\n",
              "      <td>北篠崎</td>\n",
              "      <td>北篠崎１丁目</td>\n",
              "      <td>市川駅</td>\n",
              "      <td>2</td>\n",
              "      <td>0.514</td>\n",
              "      <td>6</td>\n",
              "      <td>1.418</td>\n",
              "      <td>0.526</td>\n",
              "      <td>0.853</td>\n",
              "      <td>0.297</td>\n",
              "    </tr>\n",
              "    <tr>\n",
              "      <th>897</th>\n",
              "      <td>世田谷区</td>\n",
              "      <td>岡本</td>\n",
              "      <td>岡本１丁目</td>\n",
              "      <td>用賀駅</td>\n",
              "      <td>0</td>\n",
              "      <td>0.591</td>\n",
              "      <td>2</td>\n",
              "      <td>1.203</td>\n",
              "      <td>0.091</td>\n",
              "      <td>1.194</td>\n",
              "      <td>0.246</td>\n",
              "    </tr>\n",
              "    <tr>\n",
              "      <th>898</th>\n",
              "      <td>江戸川区</td>\n",
              "      <td>二之江町</td>\n",
              "      <td>二之江町</td>\n",
              "      <td>平井駅</td>\n",
              "      <td>3</td>\n",
              "      <td>0.252</td>\n",
              "      <td>6</td>\n",
              "      <td>3.890</td>\n",
              "      <td>1.250</td>\n",
              "      <td>0.021</td>\n",
              "      <td>0.244</td>\n",
              "    </tr>\n",
              "    <tr>\n",
              "      <th>899</th>\n",
              "      <td>板橋区</td>\n",
              "      <td>大門</td>\n",
              "      <td>大門</td>\n",
              "      <td>下赤塚駅</td>\n",
              "      <td>5</td>\n",
              "      <td>0.409</td>\n",
              "      <td>2</td>\n",
              "      <td>1.500</td>\n",
              "      <td>0.490</td>\n",
              "      <td>0.726</td>\n",
              "      <td>0.225</td>\n",
              "    </tr>\n",
              "    <tr>\n",
              "      <th>900</th>\n",
              "      <td>練馬区</td>\n",
              "      <td>立野町</td>\n",
              "      <td>立野町</td>\n",
              "      <td>武蔵関駅</td>\n",
              "      <td>2</td>\n",
              "      <td>0.439</td>\n",
              "      <td>2</td>\n",
              "      <td>1.339</td>\n",
              "      <td>0.210</td>\n",
              "      <td>0.985</td>\n",
              "      <td>0.216</td>\n",
              "    </tr>\n",
              "    <tr>\n",
              "      <th>901</th>\n",
              "      <td>世田谷区</td>\n",
              "      <td>宇奈根</td>\n",
              "      <td>宇奈根２丁目</td>\n",
              "      <td>久地駅</td>\n",
              "      <td>0</td>\n",
              "      <td>0.708</td>\n",
              "      <td>3</td>\n",
              "      <td>1.300</td>\n",
              "      <td>0.119</td>\n",
              "      <td>1.040</td>\n",
              "      <td>0.200</td>\n",
              "    </tr>\n",
              "    <tr>\n",
              "      <th>902</th>\n",
              "      <td>板橋区</td>\n",
              "      <td>新河岸</td>\n",
              "      <td>新河岸２丁目</td>\n",
              "      <td>戸田公園駅</td>\n",
              "      <td>2</td>\n",
              "      <td>0.365</td>\n",
              "      <td>6</td>\n",
              "      <td>1.915</td>\n",
              "      <td>0.724</td>\n",
              "      <td>0.410</td>\n",
              "      <td>0.197</td>\n",
              "    </tr>\n",
              "    <tr>\n",
              "      <th>903</th>\n",
              "      <td>世田谷区</td>\n",
              "      <td>砧公園</td>\n",
              "      <td>砧公園</td>\n",
              "      <td>用賀駅</td>\n",
              "      <td>0</td>\n",
              "      <td>0.660</td>\n",
              "      <td>1</td>\n",
              "      <td>1.318</td>\n",
              "      <td>0.049</td>\n",
              "      <td>1.005</td>\n",
              "      <td>0.166</td>\n",
              "    </tr>\n",
              "    <tr>\n",
              "      <th>904</th>\n",
              "      <td>江戸川区</td>\n",
              "      <td>西小松川町</td>\n",
              "      <td>西小松川町</td>\n",
              "      <td>平井駅</td>\n",
              "      <td>1</td>\n",
              "      <td>0.521</td>\n",
              "      <td>6</td>\n",
              "      <td>1.964</td>\n",
              "      <td>0.461</td>\n",
              "      <td>0.382</td>\n",
              "      <td>0.119</td>\n",
              "    </tr>\n",
              "    <tr>\n",
              "      <th>905</th>\n",
              "      <td>練馬区</td>\n",
              "      <td>西大泉町</td>\n",
              "      <td>西大泉町</td>\n",
              "      <td>保谷駅</td>\n",
              "      <td>1</td>\n",
              "      <td>0.541</td>\n",
              "      <td>4</td>\n",
              "      <td>1.675</td>\n",
              "      <td>0.240</td>\n",
              "      <td>0.552</td>\n",
              "      <td>0.112</td>\n",
              "    </tr>\n",
              "    <tr>\n",
              "      <th>906</th>\n",
              "      <td>江戸川区</td>\n",
              "      <td>東篠崎</td>\n",
              "      <td>東篠崎２丁目</td>\n",
              "      <td>市川塩浜駅</td>\n",
              "      <td>1</td>\n",
              "      <td>0.539</td>\n",
              "      <td>6</td>\n",
              "      <td>2.915</td>\n",
              "      <td>0.454</td>\n",
              "      <td>0.140</td>\n",
              "      <td>0.076</td>\n",
              "    </tr>\n",
              "    <tr>\n",
              "      <th>907</th>\n",
              "      <td>葛飾区</td>\n",
              "      <td>水元公園</td>\n",
              "      <td>水元公園</td>\n",
              "      <td>金町駅</td>\n",
              "      <td>1</td>\n",
              "      <td>0.518</td>\n",
              "      <td>2</td>\n",
              "      <td>2.035</td>\n",
              "      <td>0.110</td>\n",
              "      <td>0.352</td>\n",
              "      <td>0.036</td>\n",
              "    </tr>\n",
              "    <tr>\n",
              "      <th>908</th>\n",
              "      <td>大田区</td>\n",
              "      <td>城南島</td>\n",
              "      <td>城南島７丁目</td>\n",
              "      <td>流通センター駅</td>\n",
              "      <td>1</td>\n",
              "      <td>0.814</td>\n",
              "      <td>1</td>\n",
              "      <td>2.006</td>\n",
              "      <td>0.059</td>\n",
              "      <td>0.363</td>\n",
              "      <td>0.030</td>\n",
              "    </tr>\n",
              "    <tr>\n",
              "      <th>909</th>\n",
              "      <td>江東区</td>\n",
              "      <td>若洲</td>\n",
              "      <td>若洲１丁目</td>\n",
              "      <td>新木場駅</td>\n",
              "      <td>0</td>\n",
              "      <td>1.196</td>\n",
              "      <td>0</td>\n",
              "      <td>2.121</td>\n",
              "      <td>0.013</td>\n",
              "      <td>0.304</td>\n",
              "      <td>0.023</td>\n",
              "    </tr>\n",
              "    <tr>\n",
              "      <th>910</th>\n",
              "      <td>江戸川区</td>\n",
              "      <td>東篠崎町</td>\n",
              "      <td>東篠崎町</td>\n",
              "      <td>本八幡駅</td>\n",
              "      <td>0</td>\n",
              "      <td>0.571</td>\n",
              "      <td>3</td>\n",
              "      <td>3.027</td>\n",
              "      <td>0.132</td>\n",
              "      <td>0.121</td>\n",
              "      <td>0.017</td>\n",
              "    </tr>\n",
              "  </tbody>\n",
              "</table>\n",
              "</div>\n",
              "      <button class=\"colab-df-convert\" onclick=\"convertToInteractive('df-365bc005-aca9-4238-a52b-84c7b56dd6da')\"\n",
              "              title=\"Convert this dataframe to an interactive table.\"\n",
              "              style=\"display:none;\">\n",
              "        \n",
              "  <svg xmlns=\"http://www.w3.org/2000/svg\" height=\"24px\"viewBox=\"0 0 24 24\"\n",
              "       width=\"24px\">\n",
              "    <path d=\"M0 0h24v24H0V0z\" fill=\"none\"/>\n",
              "    <path d=\"M18.56 5.44l.94 2.06.94-2.06 2.06-.94-2.06-.94-.94-2.06-.94 2.06-2.06.94zm-11 1L8.5 8.5l.94-2.06 2.06-.94-2.06-.94L8.5 2.5l-.94 2.06-2.06.94zm10 10l.94 2.06.94-2.06 2.06-.94-2.06-.94-.94-2.06-.94 2.06-2.06.94z\"/><path d=\"M17.41 7.96l-1.37-1.37c-.4-.4-.92-.59-1.43-.59-.52 0-1.04.2-1.43.59L10.3 9.45l-7.72 7.72c-.78.78-.78 2.05 0 2.83L4 21.41c.39.39.9.59 1.41.59.51 0 1.02-.2 1.41-.59l7.78-7.78 2.81-2.81c.8-.78.8-2.07 0-2.86zM5.41 20L4 18.59l7.72-7.72 1.47 1.35L5.41 20z\"/>\n",
              "  </svg>\n",
              "      </button>\n",
              "      \n",
              "  <style>\n",
              "    .colab-df-container {\n",
              "      display:flex;\n",
              "      flex-wrap:wrap;\n",
              "      gap: 12px;\n",
              "    }\n",
              "\n",
              "    .colab-df-convert {\n",
              "      background-color: #E8F0FE;\n",
              "      border: none;\n",
              "      border-radius: 50%;\n",
              "      cursor: pointer;\n",
              "      display: none;\n",
              "      fill: #1967D2;\n",
              "      height: 32px;\n",
              "      padding: 0 0 0 0;\n",
              "      width: 32px;\n",
              "    }\n",
              "\n",
              "    .colab-df-convert:hover {\n",
              "      background-color: #E2EBFA;\n",
              "      box-shadow: 0px 1px 2px rgba(60, 64, 67, 0.3), 0px 1px 3px 1px rgba(60, 64, 67, 0.15);\n",
              "      fill: #174EA6;\n",
              "    }\n",
              "\n",
              "    [theme=dark] .colab-df-convert {\n",
              "      background-color: #3B4455;\n",
              "      fill: #D2E3FC;\n",
              "    }\n",
              "\n",
              "    [theme=dark] .colab-df-convert:hover {\n",
              "      background-color: #434B5C;\n",
              "      box-shadow: 0px 1px 3px 1px rgba(0, 0, 0, 0.15);\n",
              "      filter: drop-shadow(0px 1px 2px rgba(0, 0, 0, 0.3));\n",
              "      fill: #FFFFFF;\n",
              "    }\n",
              "  </style>\n",
              "\n",
              "      <script>\n",
              "        const buttonEl =\n",
              "          document.querySelector('#df-365bc005-aca9-4238-a52b-84c7b56dd6da button.colab-df-convert');\n",
              "        buttonEl.style.display =\n",
              "          google.colab.kernel.accessAllowed ? 'block' : 'none';\n",
              "\n",
              "        async function convertToInteractive(key) {\n",
              "          const element = document.querySelector('#df-365bc005-aca9-4238-a52b-84c7b56dd6da');\n",
              "          const dataTable =\n",
              "            await google.colab.kernel.invokeFunction('convertToInteractive',\n",
              "                                                     [key], {});\n",
              "          if (!dataTable) return;\n",
              "\n",
              "          const docLinkHtml = 'Like what you see? Visit the ' +\n",
              "            '<a target=\"_blank\" href=https://colab.research.google.com/notebooks/data_table.ipynb>data table notebook</a>'\n",
              "            + ' to learn more about interactive tables.';\n",
              "          element.innerHTML = '';\n",
              "          dataTable['output_type'] = 'display_data';\n",
              "          await google.colab.output.renderOutput(dataTable, element);\n",
              "          const docLink = document.createElement('div');\n",
              "          docLink.innerHTML = docLinkHtml;\n",
              "          element.appendChild(docLink);\n",
              "        }\n",
              "      </script>\n",
              "    </div>\n",
              "  </div>\n",
              "  "
            ]
          },
          "metadata": {},
          "execution_count": 32
        }
      ]
    },
    {
      "cell_type": "code",
      "source": [],
      "metadata": {
        "id": "KwfMlqDrBmKa"
      },
      "execution_count": 32,
      "outputs": []
    }
  ]
}