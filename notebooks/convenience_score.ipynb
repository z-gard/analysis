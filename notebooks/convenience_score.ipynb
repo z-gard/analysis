{
  "nbformat": 4,
  "nbformat_minor": 0,
  "metadata": {
    "colab": {
      "provenance": [],
      "authorship_tag": "ABX9TyPyUfbJ8x8F/C7o+tO6O4eZ",
      "include_colab_link": true
    },
    "kernelspec": {
      "name": "python3",
      "display_name": "Python 3"
    },
    "language_info": {
      "name": "python"
    }
  },
  "cells": [
    {
      "cell_type": "markdown",
      "metadata": {
        "id": "view-in-github",
        "colab_type": "text"
      },
      "source": [
        "<a href=\"https://colab.research.google.com/github/z-gard/analysis/blob/main/notebooks/convenience_score.ipynb\" target=\"_parent\"><img src=\"https://colab.research.google.com/assets/colab-badge.svg\" alt=\"Open In Colab\"/></a>"
      ]
    },
    {
      "cell_type": "markdown",
      "source": [
        "# 利便性"
      ],
      "metadata": {
        "id": "kP0WeYTi3sb3"
      }
    },
    {
      "cell_type": "code",
      "source": [
        "!pip install -q japanize-matplotlib"
      ],
      "metadata": {
        "colab": {
          "base_uri": "https://localhost:8080/"
        },
        "id": "E9YHHF2F37-N",
        "outputId": "3962956a-7811-4305-efec-6d882eb0827a"
      },
      "execution_count": 3,
      "outputs": [
        {
          "output_type": "stream",
          "name": "stdout",
          "text": [
            "\u001b[K     |████████████████████████████████| 4.1 MB 5.4 MB/s \n",
            "\u001b[?25h  Building wheel for japanize-matplotlib (setup.py) ... \u001b[?25l\u001b[?25hdone\n"
          ]
        }
      ]
    },
    {
      "cell_type": "code",
      "execution_count": 1,
      "metadata": {
        "colab": {
          "base_uri": "https://localhost:8080/"
        },
        "id": "w4KT6mck3nOo",
        "outputId": "0a7937a1-343c-4cad-e72e-4abd06b8f07b"
      },
      "outputs": [
        {
          "output_type": "stream",
          "name": "stdout",
          "text": [
            "Mounted at /content/drive\n"
          ]
        }
      ],
      "source": [
        "from google.colab import drive\n",
        "drive.mount('/content/drive')"
      ]
    },
    {
      "cell_type": "code",
      "source": [
        "DIR_NAME = '/content/drive/MyDrive/z-gard/data'"
      ],
      "metadata": {
        "id": "ScoGtQsV3sA0"
      },
      "execution_count": 2,
      "outputs": []
    },
    {
      "cell_type": "code",
      "source": [
        "import os\n",
        "import requests\n",
        "import json\n",
        "import pandas as pd\n",
        "from urllib.parse import urlparse, quote\n",
        "import io\n",
        "import math\n",
        "import numpy as np\n",
        "import matplotlib.pyplot as plt\n",
        "import japanize_matplotlib\n",
        "import seaborn as sns\n",
        "\n",
        "pd.set_option('display.max_columns', 50)\n",
        "pd.set_option('display.max_rows', 100)"
      ],
      "metadata": {
        "id": "1ef9tlAW3zxE"
      },
      "execution_count": 4,
      "outputs": []
    },
    {
      "cell_type": "code",
      "source": [
        "score_name = '利便性スコア'\n",
        "output_score_file = 'convenience_score.csv'"
      ],
      "metadata": {
        "id": "jqGFqXus-Gxs"
      },
      "execution_count": 70,
      "outputs": []
    },
    {
      "cell_type": "markdown",
      "source": [
        "### 人口マスタ"
      ],
      "metadata": {
        "id": "XRO-NFWf4Gnn"
      }
    },
    {
      "cell_type": "code",
      "source": [
        "df_pop_master = pd.read_csv(os.path.join(DIR_NAME, 'population_master.csv'))[['地域ID', '市区町村名', '町名', '町丁目', '緯度', '経度']]\n",
        "print(df_pop_master.shape)"
      ],
      "metadata": {
        "colab": {
          "base_uri": "https://localhost:8080/"
        },
        "id": "hD-7wSVN4BH0",
        "outputId": "f08c974c-0949-4c0c-d822-a3177c2cdc35"
      },
      "execution_count": 5,
      "outputs": [
        {
          "output_type": "stream",
          "name": "stdout",
          "text": [
            "(3145, 6)\n"
          ]
        }
      ]
    },
    {
      "cell_type": "markdown",
      "source": [
        "### コンビニ・スーパー"
      ],
      "metadata": {
        "id": "2-pBdXmw4Ktq"
      }
    },
    {
      "cell_type": "code",
      "source": [
        "df_convini_master = pd.read_csv(os.path.join(DIR_NAME, 'convenience_store.csv'))[['name', 'lat', 'lng']]\n",
        "df_convini_master['施設分類'] = 'コンビニ'\n",
        "df_convini_master = df_convini_master.rename(columns={'lat':'緯度', 'lng':'経度'})\n",
        "print(df_convini_master.shape)"
      ],
      "metadata": {
        "colab": {
          "base_uri": "https://localhost:8080/"
        },
        "id": "bZ7JBlaa4JtN",
        "outputId": "fab4caae-49e9-4d0b-df26-f3569f6d1d96"
      },
      "execution_count": 21,
      "outputs": [
        {
          "output_type": "stream",
          "name": "stdout",
          "text": [
            "(6405, 4)\n"
          ]
        }
      ]
    },
    {
      "cell_type": "code",
      "source": [
        "df_super_master = pd.read_csv(os.path.join(DIR_NAME, 'supermarket.csv'))[['name', 'lat', 'lng']]\n",
        "df_super_master['施設分類'] = 'スーパー'\n",
        "df_super_master = df_super_master.rename(columns={'lat':'緯度', 'lng':'経度'})\n",
        "print(df_super_master.shape)"
      ],
      "metadata": {
        "colab": {
          "base_uri": "https://localhost:8080/"
        },
        "id": "VeBcuQyn4aee",
        "outputId": "2546cd33-0565-44d4-f3ac-b74d58c00b9d"
      },
      "execution_count": 22,
      "outputs": [
        {
          "output_type": "stream",
          "name": "stdout",
          "text": [
            "(2060, 4)\n"
          ]
        }
      ]
    },
    {
      "cell_type": "markdown",
      "source": [
        "### 最寄駅"
      ],
      "metadata": {
        "id": "lN64Jn4B4zTc"
      }
    },
    {
      "cell_type": "code",
      "source": [
        "df_station_master = pd.read_csv(os.path.join(DIR_NAME, 'train_station.csv'))[['no', 'name', 'lat', 'lng']]\n",
        "df_station_master = df_station_master.rename(columns={'no':'地域ID', 'name':'最寄駅'})\n",
        "print(df_station_master.shape)"
      ],
      "metadata": {
        "colab": {
          "base_uri": "https://localhost:8080/"
        },
        "id": "o-k260vj4gVe",
        "outputId": "71f0bfcf-684b-4be0-ec83-3ca1dd2fd3fa"
      },
      "execution_count": 33,
      "outputs": [
        {
          "output_type": "stream",
          "name": "stdout",
          "text": [
            "(3141, 4)\n"
          ]
        }
      ]
    },
    {
      "cell_type": "code",
      "source": [
        "# 距離計算\n",
        "def get_distance(lat1, lon1, lat2, lon2):\n",
        "    _lat1 = lat1 * math.pi / 180\n",
        "    _lon1 = lon1 * math.pi / 180\n",
        "    _lat2 = lat2 * math.pi / 180\n",
        "    _lon2 = lon2 * math.pi / 180\n",
        "    _tmp = math.cos(_lat1) * math.cos(_lat2) * math.cos(_lon2 - _lon1) + math.sin(_lat1) * math.sin(_lat2)\n",
        "    _tmp = 1 if _tmp > 1 else -1 if _tmp < -1 else _tmp\n",
        "    return 6371 * math.acos(_tmp)\n",
        "\n",
        "# 最寄り施設までの距離\n",
        "def get_value_of_nearest_facility(df_master, df_facility, category, method='min', param=3):\n",
        "    _df_cat = df_facility[df_facility['施設分類'] == category].copy()\n",
        "    cat_values = []\n",
        "    for i, row in df_master.iterrows():\n",
        "        dist = _df_cat.apply(lambda x: get_distance(x['緯度'], x['経度'], row['緯度'], row['経度']), axis=1)\n",
        "        val = None\n",
        "        if method == 'min':\n",
        "            # 最小の距離\n",
        "            val = dist.min()\n",
        "        elif method == 'count':\n",
        "            # {param}km以内の施設の数をカウント\n",
        "            val = len(dist[dist <= param])\n",
        "        elif method == 'mean':\n",
        "            # 近い{param}件の距離の平均\n",
        "            val = dist.sort_values()[:param].mean()\n",
        "        cat_values.append(val)\n",
        "    return cat_values"
      ],
      "metadata": {
        "id": "_zuCoLhg48ZN"
      },
      "execution_count": 20,
      "outputs": []
    },
    {
      "cell_type": "markdown",
      "source": [
        "### スコア"
      ],
      "metadata": {
        "id": "IILAQB3vA02_"
      }
    },
    {
      "cell_type": "code",
      "source": [
        "%%time\n",
        "# 1km以内の施設の数\n",
        "df_pop_master['コンビニ(数)'] = get_value_of_nearest_facility(df_pop_master, df_convini_master, 'コンビニ', 'count', 1)\n",
        "# 近い3件の距離の平均\n",
        "df_pop_master['コンビニ(平均距離)'] = get_value_of_nearest_facility(df_pop_master, df_convini_master, 'コンビニ', 'mean', 3)\n",
        "# 1km以内の施設の数\n",
        "df_pop_master['スーパー(数)'] = get_value_of_nearest_facility(df_pop_master, df_super_master, 'スーパー', 'count', 1)"
      ],
      "metadata": {
        "colab": {
          "base_uri": "https://localhost:8080/"
        },
        "id": "GOWzRaqi5JH2",
        "outputId": "f49b449d-a56f-4742-85e4-ac5ee643c13e"
      },
      "execution_count": 27,
      "outputs": [
        {
          "output_type": "stream",
          "name": "stdout",
          "text": [
            "CPU times: user 19min 1s, sys: 3.92 s, total: 19min 4s\n",
            "Wall time: 20min 20s\n"
          ]
        }
      ]
    },
    {
      "cell_type": "code",
      "source": [
        "# 最寄駅からの距離\n",
        "pop_master_len = len(df_pop_master)\n",
        "df_pop_master = pd.merge(df_pop_master, df_station_master, on='地域ID', how='left')\n",
        "assert len(df_pop_master) == pop_master_len\n",
        "\n",
        "df_pop_master['最寄駅(距離)'] = df_pop_master.apply(lambda x: get_distance(x['緯度'], x['経度'], x['lat'], x['lng']), axis=1)\n",
        "df_pop_master = df_pop_master.drop(columns=['lat', 'lng'])"
      ],
      "metadata": {
        "id": "Gccf1DW-7cgo"
      },
      "execution_count": 34,
      "outputs": []
    },
    {
      "cell_type": "code",
      "source": [
        "print(df_pop_master.shape)\n",
        "df_pop_master.head()"
      ],
      "metadata": {
        "colab": {
          "base_uri": "https://localhost:8080/",
          "height": 224
        },
        "id": "GbdMQ-rc7G9B",
        "outputId": "0f4d7c3c-9917-4a69-ab93-8b783f46e498"
      },
      "execution_count": 35,
      "outputs": [
        {
          "output_type": "stream",
          "name": "stdout",
          "text": [
            "(3145, 11)\n"
          ]
        },
        {
          "output_type": "execute_result",
          "data": {
            "text/plain": [
              "     地域ID 市区町村名   町名     町丁目         緯度          経度  コンビニ(数)  コンビニ(平均距離)  \\\n",
              "0  101003  千代田区  丸の内  丸の内１丁目  35.681610  139.767511      167    0.039658   \n",
              "1  101004  千代田区  丸の内  丸の内２丁目  35.680071  139.763944      148    0.101209   \n",
              "2  101005  千代田区  丸の内  丸の内３丁目  35.676890  139.764039      148    0.101844   \n",
              "3  101007  千代田区  大手町  大手町１丁目  35.688067  139.764353      153    0.069556   \n",
              "4  101008  千代田区  大手町  大手町２丁目  35.686416  139.768530      169    0.128402   \n",
              "\n",
              "   スーパー(数)   最寄駅   最寄駅(距離)  \n",
              "0       13   東京駅  0.054248  \n",
              "1       10   東京駅  0.315152  \n",
              "2        9  有楽町駅  0.228117  \n",
              "3        7  大手町駅  0.317383  \n",
              "4       15  大手町駅  0.488932  "
            ],
            "text/html": [
              "\n",
              "  <div id=\"df-edb83bdd-ac27-4fdd-9b2c-1e160e900b42\">\n",
              "    <div class=\"colab-df-container\">\n",
              "      <div>\n",
              "<style scoped>\n",
              "    .dataframe tbody tr th:only-of-type {\n",
              "        vertical-align: middle;\n",
              "    }\n",
              "\n",
              "    .dataframe tbody tr th {\n",
              "        vertical-align: top;\n",
              "    }\n",
              "\n",
              "    .dataframe thead th {\n",
              "        text-align: right;\n",
              "    }\n",
              "</style>\n",
              "<table border=\"1\" class=\"dataframe\">\n",
              "  <thead>\n",
              "    <tr style=\"text-align: right;\">\n",
              "      <th></th>\n",
              "      <th>地域ID</th>\n",
              "      <th>市区町村名</th>\n",
              "      <th>町名</th>\n",
              "      <th>町丁目</th>\n",
              "      <th>緯度</th>\n",
              "      <th>経度</th>\n",
              "      <th>コンビニ(数)</th>\n",
              "      <th>コンビニ(平均距離)</th>\n",
              "      <th>スーパー(数)</th>\n",
              "      <th>最寄駅</th>\n",
              "      <th>最寄駅(距離)</th>\n",
              "    </tr>\n",
              "  </thead>\n",
              "  <tbody>\n",
              "    <tr>\n",
              "      <th>0</th>\n",
              "      <td>101003</td>\n",
              "      <td>千代田区</td>\n",
              "      <td>丸の内</td>\n",
              "      <td>丸の内１丁目</td>\n",
              "      <td>35.681610</td>\n",
              "      <td>139.767511</td>\n",
              "      <td>167</td>\n",
              "      <td>0.039658</td>\n",
              "      <td>13</td>\n",
              "      <td>東京駅</td>\n",
              "      <td>0.054248</td>\n",
              "    </tr>\n",
              "    <tr>\n",
              "      <th>1</th>\n",
              "      <td>101004</td>\n",
              "      <td>千代田区</td>\n",
              "      <td>丸の内</td>\n",
              "      <td>丸の内２丁目</td>\n",
              "      <td>35.680071</td>\n",
              "      <td>139.763944</td>\n",
              "      <td>148</td>\n",
              "      <td>0.101209</td>\n",
              "      <td>10</td>\n",
              "      <td>東京駅</td>\n",
              "      <td>0.315152</td>\n",
              "    </tr>\n",
              "    <tr>\n",
              "      <th>2</th>\n",
              "      <td>101005</td>\n",
              "      <td>千代田区</td>\n",
              "      <td>丸の内</td>\n",
              "      <td>丸の内３丁目</td>\n",
              "      <td>35.676890</td>\n",
              "      <td>139.764039</td>\n",
              "      <td>148</td>\n",
              "      <td>0.101844</td>\n",
              "      <td>9</td>\n",
              "      <td>有楽町駅</td>\n",
              "      <td>0.228117</td>\n",
              "    </tr>\n",
              "    <tr>\n",
              "      <th>3</th>\n",
              "      <td>101007</td>\n",
              "      <td>千代田区</td>\n",
              "      <td>大手町</td>\n",
              "      <td>大手町１丁目</td>\n",
              "      <td>35.688067</td>\n",
              "      <td>139.764353</td>\n",
              "      <td>153</td>\n",
              "      <td>0.069556</td>\n",
              "      <td>7</td>\n",
              "      <td>大手町駅</td>\n",
              "      <td>0.317383</td>\n",
              "    </tr>\n",
              "    <tr>\n",
              "      <th>4</th>\n",
              "      <td>101008</td>\n",
              "      <td>千代田区</td>\n",
              "      <td>大手町</td>\n",
              "      <td>大手町２丁目</td>\n",
              "      <td>35.686416</td>\n",
              "      <td>139.768530</td>\n",
              "      <td>169</td>\n",
              "      <td>0.128402</td>\n",
              "      <td>15</td>\n",
              "      <td>大手町駅</td>\n",
              "      <td>0.488932</td>\n",
              "    </tr>\n",
              "  </tbody>\n",
              "</table>\n",
              "</div>\n",
              "      <button class=\"colab-df-convert\" onclick=\"convertToInteractive('df-edb83bdd-ac27-4fdd-9b2c-1e160e900b42')\"\n",
              "              title=\"Convert this dataframe to an interactive table.\"\n",
              "              style=\"display:none;\">\n",
              "        \n",
              "  <svg xmlns=\"http://www.w3.org/2000/svg\" height=\"24px\"viewBox=\"0 0 24 24\"\n",
              "       width=\"24px\">\n",
              "    <path d=\"M0 0h24v24H0V0z\" fill=\"none\"/>\n",
              "    <path d=\"M18.56 5.44l.94 2.06.94-2.06 2.06-.94-2.06-.94-.94-2.06-.94 2.06-2.06.94zm-11 1L8.5 8.5l.94-2.06 2.06-.94-2.06-.94L8.5 2.5l-.94 2.06-2.06.94zm10 10l.94 2.06.94-2.06 2.06-.94-2.06-.94-.94-2.06-.94 2.06-2.06.94z\"/><path d=\"M17.41 7.96l-1.37-1.37c-.4-.4-.92-.59-1.43-.59-.52 0-1.04.2-1.43.59L10.3 9.45l-7.72 7.72c-.78.78-.78 2.05 0 2.83L4 21.41c.39.39.9.59 1.41.59.51 0 1.02-.2 1.41-.59l7.78-7.78 2.81-2.81c.8-.78.8-2.07 0-2.86zM5.41 20L4 18.59l7.72-7.72 1.47 1.35L5.41 20z\"/>\n",
              "  </svg>\n",
              "      </button>\n",
              "      \n",
              "  <style>\n",
              "    .colab-df-container {\n",
              "      display:flex;\n",
              "      flex-wrap:wrap;\n",
              "      gap: 12px;\n",
              "    }\n",
              "\n",
              "    .colab-df-convert {\n",
              "      background-color: #E8F0FE;\n",
              "      border: none;\n",
              "      border-radius: 50%;\n",
              "      cursor: pointer;\n",
              "      display: none;\n",
              "      fill: #1967D2;\n",
              "      height: 32px;\n",
              "      padding: 0 0 0 0;\n",
              "      width: 32px;\n",
              "    }\n",
              "\n",
              "    .colab-df-convert:hover {\n",
              "      background-color: #E2EBFA;\n",
              "      box-shadow: 0px 1px 2px rgba(60, 64, 67, 0.3), 0px 1px 3px 1px rgba(60, 64, 67, 0.15);\n",
              "      fill: #174EA6;\n",
              "    }\n",
              "\n",
              "    [theme=dark] .colab-df-convert {\n",
              "      background-color: #3B4455;\n",
              "      fill: #D2E3FC;\n",
              "    }\n",
              "\n",
              "    [theme=dark] .colab-df-convert:hover {\n",
              "      background-color: #434B5C;\n",
              "      box-shadow: 0px 1px 3px 1px rgba(0, 0, 0, 0.15);\n",
              "      filter: drop-shadow(0px 1px 2px rgba(0, 0, 0, 0.3));\n",
              "      fill: #FFFFFF;\n",
              "    }\n",
              "  </style>\n",
              "\n",
              "      <script>\n",
              "        const buttonEl =\n",
              "          document.querySelector('#df-edb83bdd-ac27-4fdd-9b2c-1e160e900b42 button.colab-df-convert');\n",
              "        buttonEl.style.display =\n",
              "          google.colab.kernel.accessAllowed ? 'block' : 'none';\n",
              "\n",
              "        async function convertToInteractive(key) {\n",
              "          const element = document.querySelector('#df-edb83bdd-ac27-4fdd-9b2c-1e160e900b42');\n",
              "          const dataTable =\n",
              "            await google.colab.kernel.invokeFunction('convertToInteractive',\n",
              "                                                     [key], {});\n",
              "          if (!dataTable) return;\n",
              "\n",
              "          const docLinkHtml = 'Like what you see? Visit the ' +\n",
              "            '<a target=\"_blank\" href=https://colab.research.google.com/notebooks/data_table.ipynb>data table notebook</a>'\n",
              "            + ' to learn more about interactive tables.';\n",
              "          element.innerHTML = '';\n",
              "          dataTable['output_type'] = 'display_data';\n",
              "          await google.colab.output.renderOutput(dataTable, element);\n",
              "          const docLink = document.createElement('div');\n",
              "          docLink.innerHTML = docLinkHtml;\n",
              "          element.appendChild(docLink);\n",
              "        }\n",
              "      </script>\n",
              "    </div>\n",
              "  </div>\n",
              "  "
            ]
          },
          "metadata": {},
          "execution_count": 35
        }
      ]
    },
    {
      "cell_type": "code",
      "source": [
        "sns.histplot(df_pop_master['コンビニ(数)'], bins=20)\n",
        "plt.show()"
      ],
      "metadata": {
        "colab": {
          "base_uri": "https://localhost:8080/",
          "height": 278
        },
        "id": "omSbyVRv7Jjj",
        "outputId": "d85df469-35a7-4416-ca0f-013df1f7226a"
      },
      "execution_count": 71,
      "outputs": [
        {
          "output_type": "display_data",
          "data": {
            "text/plain": [
              "<Figure size 432x288 with 1 Axes>"
            ],
            "image/png": "[encoded data removed]"
          },
          "metadata": {
            "needs_background": "light"
          }
        }
      ]
    },
    {
      "cell_type": "code",
      "source": [
        "sns.histplot(df_pop_master['コンビニ(平均距離)'], bins=20)\n",
        "plt.show()"
      ],
      "metadata": {
        "colab": {
          "base_uri": "https://localhost:8080/",
          "height": 278
        },
        "id": "njF52h5T7Orq",
        "outputId": "61ef3a81-72b9-42ae-bf11-7d7ae283df94"
      },
      "execution_count": 72,
      "outputs": [
        {
          "output_type": "display_data",
          "data": {
            "text/plain": [
              "<Figure size 432x288 with 1 Axes>"
            ],
            "image/png": "[encoded data removed]"
          },
          "metadata": {
            "needs_background": "light"
          }
        }
      ]
    },
    {
      "cell_type": "code",
      "source": [
        "sns.histplot(df_pop_master['スーパー(数)'], bins=10)\n",
        "plt.show()"
      ],
      "metadata": {
        "colab": {
          "base_uri": "https://localhost:8080/",
          "height": 278
        },
        "id": "aivC0jO97RR0",
        "outputId": "e1fe01ed-8b8e-4c92-e5e4-049d5b9946da"
      },
      "execution_count": 73,
      "outputs": [
        {
          "output_type": "display_data",
          "data": {
            "text/plain": [
              "<Figure size 432x288 with 1 Axes>"
            ],
            "image/png": "[encoded data removed]"
          },
          "metadata": {
            "needs_background": "light"
          }
        }
      ]
    },
    {
      "cell_type": "code",
      "source": [
        "sns.histplot(df_pop_master['最寄駅(距離)'], bins=20)\n",
        "plt.show()"
      ],
      "metadata": {
        "colab": {
          "base_uri": "https://localhost:8080/",
          "height": 278
        },
        "id": "fr1hDANUAXJY",
        "outputId": "6abf7abe-e0eb-4fe5-d393-43b65ebb3b62"
      },
      "execution_count": 74,
      "outputs": [
        {
          "output_type": "display_data",
          "data": {
            "text/plain": [
              "<Figure size 432x288 with 1 Axes>"
            ],
            "image/png": "[encoded data removed]"
          },
          "metadata": {
            "needs_background": "light"
          }
        }
      ]
    },
    {
      "cell_type": "code",
      "source": [
        "def normalize_score(sr_data, high=True, outlier=True):\n",
        "    score = (sr_data - sr_data.mean())/sr_data.std()\n",
        "    score = score if high else -score\n",
        "\n",
        "    if outlier:\n",
        "        high_s = score.quantile(0.99)\n",
        "        low_s = score.quantile(0.01)\n",
        "        score[score > high_s] = high_s\n",
        "        score[score < low_s] = low_s\n",
        "    else:\n",
        "        high_s = score.max()\n",
        "        low_s = score.min()\n",
        "        \n",
        "    return (score - low_s)/(high_s - low_s)\n",
        "\n",
        "\n",
        "def rank_score(sr_data):\n",
        "    size = sr_data.notna().sum()\n",
        "    rank = sr_data.rank()\n",
        "    result = rank.copy()\n",
        "    # 0~1: 15%, 1~2: 20%, 2~3: 30%, 3~4: 20%, 4~5: 15%\n",
        "    level_list = [0.15, (0.15+0.2), (0.15+0.2+0.3), (0.15+0.2+0.3+0.2), 1]\n",
        "    \n",
        "    pre_level = 0\n",
        "    for index, level in enumerate([lv*size for lv in level_list]):\n",
        "        result[(rank > pre_level)&(rank <= level)] = (rank - pre_level)/(level - pre_level) + index\n",
        "        pre_level = level\n",
        "\n",
        "    return result"
      ],
      "metadata": {
        "id": "LdClGOPa7YS5"
      },
      "execution_count": 75,
      "outputs": []
    },
    {
      "cell_type": "code",
      "source": [
        "df_pop_master['コンビニ(数)レベル'] = normalize_score(df_pop_master['コンビニ(数)'])\n",
        "sns.histplot(df_pop_master['コンビニ(数)レベル'], bins=20)\n",
        "plt.show()"
      ],
      "metadata": {
        "colab": {
          "base_uri": "https://localhost:8080/",
          "height": 278
        },
        "id": "Uwx_g9_f82WM",
        "outputId": "6c9695f2-eb13-4c0d-b00f-584883efe61d"
      },
      "execution_count": 76,
      "outputs": [
        {
          "output_type": "display_data",
          "data": {
            "text/plain": [
              "<Figure size 432x288 with 1 Axes>"
            ],
            "image/png": "[encoded data removed]"
          },
          "metadata": {
            "needs_background": "light"
          }
        }
      ]
    },
    {
      "cell_type": "code",
      "source": [
        "df_pop_master['コンビニ(平均距離)レベル'] = normalize_score(df_pop_master['コンビニ(平均距離)'], high=False)\n",
        "sns.histplot(df_pop_master['コンビニ(平均距離)レベル'], bins=20)\n",
        "plt.show()"
      ],
      "metadata": {
        "colab": {
          "base_uri": "https://localhost:8080/",
          "height": 278
        },
        "id": "GJSdx3hY9Azg",
        "outputId": "36ff0689-10c3-4567-c3e3-d4dad90f955c"
      },
      "execution_count": 77,
      "outputs": [
        {
          "output_type": "display_data",
          "data": {
            "text/plain": [
              "<Figure size 432x288 with 1 Axes>"
            ],
            "image/png": "[encoded data removed]"
          },
          "metadata": {
            "needs_background": "light"
          }
        }
      ]
    },
    {
      "cell_type": "code",
      "source": [
        "df_pop_master['スーパー(数)レベル'] = normalize_score(df_pop_master['スーパー(数)'])\n",
        "sns.histplot(df_pop_master['スーパー(数)レベル'], bins=20)\n",
        "plt.show()"
      ],
      "metadata": {
        "colab": {
          "base_uri": "https://localhost:8080/",
          "height": 278
        },
        "id": "4wQzhRmC9H4e",
        "outputId": "141aac08-eaf4-49d2-f81f-7a709be66350"
      },
      "execution_count": 78,
      "outputs": [
        {
          "output_type": "display_data",
          "data": {
            "text/plain": [
              "<Figure size 432x288 with 1 Axes>"
            ],
            "image/png": "[encoded data removed]"
          },
          "metadata": {
            "needs_background": "light"
          }
        }
      ]
    },
    {
      "cell_type": "code",
      "source": [
        "df_pop_master['最寄駅(距離)レベル'] = normalize_score(df_pop_master['最寄駅(距離)'], high=False)\n",
        "sns.histplot(df_pop_master['最寄駅(距離)レベル'], bins=20)\n",
        "plt.show()"
      ],
      "metadata": {
        "colab": {
          "base_uri": "https://localhost:8080/",
          "height": 278
        },
        "id": "HxfC5QDn9TJI",
        "outputId": "3b021a98-b7e8-40d7-bfbe-01fd9848ceb9"
      },
      "execution_count": 79,
      "outputs": [
        {
          "output_type": "display_data",
          "data": {
            "text/plain": [
              "<Figure size 432x288 with 1 Axes>"
            ],
            "image/png": "[encoded data removed]"
          },
          "metadata": {
            "needs_background": "light"
          }
        }
      ]
    },
    {
      "cell_type": "code",
      "source": [
        "score_list = [\n",
        "    df_pop_master['コンビニ(数)レベル'] * 0.8,\n",
        "    df_pop_master['コンビニ(平均距離)レベル'] * 0.6,\n",
        "    df_pop_master['スーパー(数)レベル'] * 0.7,\n",
        "    df_pop_master['最寄駅(距離)レベル'] * 1.0,\n",
        "]\n",
        "score_sub_name = '_' + score_name\n",
        "df_pop_master[score_sub_name] = normalize_score(pd.concat(score_list, axis=1).sum(axis=1, skipna=False), outlier=False)\n",
        "df_pop_master[score_name] = rank_score(df_pop_master[score_sub_name])"
      ],
      "metadata": {
        "id": "NX28XbUB9b2C"
      },
      "execution_count": 80,
      "outputs": []
    },
    {
      "cell_type": "code",
      "source": [
        "sns.histplot(df_pop_master[score_sub_name], bins=20)\n",
        "plt.show()"
      ],
      "metadata": {
        "colab": {
          "base_uri": "https://localhost:8080/",
          "height": 278
        },
        "id": "nk0FL7WR93cd",
        "outputId": "93acfd9c-ed32-4f12-c9ab-81566ad1f4ea"
      },
      "execution_count": 81,
      "outputs": [
        {
          "output_type": "display_data",
          "data": {
            "text/plain": [
              "<Figure size 432x288 with 1 Axes>"
            ],
            "image/png": "[encoded data removed]"
          },
          "metadata": {
            "needs_background": "light"
          }
        }
      ]
    },
    {
      "cell_type": "code",
      "source": [
        "sns.histplot(df_pop_master[score_name], bins=20)\n",
        "plt.show()"
      ],
      "metadata": {
        "colab": {
          "base_uri": "https://localhost:8080/",
          "height": 278
        },
        "id": "8L6IoCBO954e",
        "outputId": "756ac355-4960-4992-fed9-8570a2e1367b"
      },
      "execution_count": 82,
      "outputs": [
        {
          "output_type": "display_data",
          "data": {
            "text/plain": [
              "<Figure size 432x288 with 1 Axes>"
            ],
            "image/png": "[encoded data removed]"
          },
          "metadata": {
            "needs_background": "light"
          }
        }
      ]
    },
    {
      "cell_type": "code",
      "source": [
        "feature_list = ['コンビニ(数)', 'コンビニ(平均距離)', 'スーパー(数)', '最寄駅(距離)', '最寄駅']"
      ],
      "metadata": {
        "id": "Pc9KoSAy_Pht"
      },
      "execution_count": 89,
      "outputs": []
    },
    {
      "cell_type": "code",
      "source": [
        "df_pop_master[\n",
        "    ['地域ID', '市区町村名', '町丁目'] + feature_list + [score_sub_name, score_name]\n",
        "].to_csv(os.path.join(DIR_NAME, output_score_file), index=False)"
      ],
      "metadata": {
        "id": "mGvdhIyy9-kN"
      },
      "execution_count": 90,
      "outputs": []
    },
    {
      "cell_type": "code",
      "source": [
        "plt.figure(figsize=(15, 5))\n",
        "sns.barplot(x='市区町村名', y=score_name, data=df_pop_master)\n",
        "plt.show()"
      ],
      "metadata": {
        "colab": {
          "base_uri": "https://localhost:8080/",
          "height": 333
        },
        "id": "ufGDZQX3-lnp",
        "outputId": "2eae4979-d528-44de-c80d-37520219b2ae"
      },
      "execution_count": 91,
      "outputs": [
        {
          "output_type": "display_data",
          "data": {
            "text/plain": [
              "<Figure size 1080x360 with 1 Axes>"
            ],
            "image/png": "[encoded data removed]"
          },
          "metadata": {
            "needs_background": "light"
          }
        }
      ]
    },
    {
      "cell_type": "code",
      "source": [
        "df_level = df_pop_master.copy()\n",
        "df_level['rank'] = df_level.groupby('町名')[score_name].transform('rank', ascending=False)\n",
        "df_level = df_level[df_level['rank'] == 1].sort_values(score_name, ascending=False)[\n",
        "    ['市区町村名', '町名', '町丁目'] + [score_name, score_sub_name] + feature_list\n",
        "].reset_index(drop=True)\n",
        "print(df_level.shape)"
      ],
      "metadata": {
        "colab": {
          "base_uri": "https://localhost:8080/"
        },
        "id": "PQcg6iA0-peB",
        "outputId": "0420501f-047f-400a-829f-15251bcd31e8"
      },
      "execution_count": 92,
      "outputs": [
        {
          "output_type": "stream",
          "name": "stdout",
          "text": [
            "(911, 10)\n"
          ]
        }
      ]
    },
    {
      "cell_type": "code",
      "source": [
        "df_level.head(20)"
      ],
      "metadata": {
        "colab": {
          "base_uri": "https://localhost:8080/",
          "height": 677
        },
        "id": "wnuF1x9Z_mPS",
        "outputId": "f43fb123-5ee3-422a-9f1a-8c5b617531c3"
      },
      "execution_count": 93,
      "outputs": [
        {
          "output_type": "execute_result",
          "data": {
            "text/plain": [
              "   市区町村名      町名        町丁目    利便性スコア   _利便性スコア  コンビニ(数)  コンビニ(平均距離)  スーパー(数)  \\\n",
              "0    新宿区    歌舞伎町    歌舞伎町１丁目  5.000000  1.000000      165    0.051609       26   \n",
              "1    中央区   日本橋室町   日本橋室町２丁目  4.997878  0.980056      175    0.066614       25   \n",
              "2    中央区   日本橋本町   日本橋本町２丁目  4.993633  0.965427      150    0.081322       25   \n",
              "3    新宿区     西新宿     西新宿７丁目  4.991510  0.960168      161    0.082089       23   \n",
              "4    豊島区     西池袋     西池袋１丁目  4.985143  0.943401      124    0.049731       30   \n",
              "5   千代田区   神田花岡町      神田花岡町  4.983020  0.940753      141    0.059689       22   \n",
              "6    中央区  日本橋本石町  日本橋本石町４丁目  4.980898  0.936915      176    0.086316       21   \n",
              "7   千代田区   神田練塀町      神田練塀町  4.976653  0.935603      132    0.047826       25   \n",
              "8   千代田区   神田平河町      神田平河町  4.972408  0.927198      135    0.031296       23   \n",
              "9   千代田区  神田佐久間町  神田佐久間町１丁目  4.970285  0.924817      139    0.041618       21   \n",
              "10   豊島区     南池袋     南池袋１丁目  4.968163  0.923099      119    0.062766       29   \n",
              "11  千代田区   神田松永町      神田松永町  4.961796  0.918277      129    0.066428       24   \n",
              "12  千代田区     鍛冶町     鍛冶町２丁目  4.959673  0.918251      156    0.091913       18   \n",
              "13  千代田区  神田西福田町     神田西福田町  4.957551  0.915382      150    0.053530       19   \n",
              "14  千代田区   神田美倉町      神田美倉町  4.955428  0.914919      154    0.098864       19   \n",
              "15  千代田区   神田相生町      神田相生町  4.953306  0.913293      137    0.054217       20   \n",
              "16  千代田区  神田北乗物町     神田北乗物町  4.946938  0.909646      155    0.090541       19   \n",
              "17   中央区     八丁堀     八丁堀１丁目  4.942693  0.908157      149    0.136320       22   \n",
              "18  千代田区     岩本町     岩本町３丁目  4.938448  0.905075      144    0.099144       23   \n",
              "19  千代田区   神田岩本町      神田岩本町  4.936326  0.904327      147    0.077815       20   \n",
              "\n",
              "     最寄駅(距離)    最寄駅  \n",
              "0   0.150929  西武新宿駅  \n",
              "1   0.243495  新日本橋駅  \n",
              "2   0.237007  新日本橋駅  \n",
              "3   0.213538  西武新宿駅  \n",
              "4   0.155340    池袋駅  \n",
              "5   0.122307   秋葉原駅  \n",
              "6   0.253162  新日本橋駅  \n",
              "7   0.283450   秋葉原駅  \n",
              "8   0.241374   秋葉原駅  \n",
              "9   0.156861   秋葉原駅  \n",
              "10  0.265589    池袋駅  \n",
              "11  0.298255   秋葉原駅  \n",
              "12  0.153772    神田駅  \n",
              "13  0.264596  新日本橋駅  \n",
              "14  0.218667  新日本橋駅  \n",
              "15  0.147550   秋葉原駅  \n",
              "16  0.315267    神田駅  \n",
              "17  0.345291   八丁堀駅  \n",
              "18  0.497113   秋葉原駅  \n",
              "19  0.358445   秋葉原駅  "
            ],
            "text/html": [
              "\n",
              "  <div id=\"df-dffd715a-9881-432f-9f57-a203414d00b5\">\n",
              "    <div class=\"colab-df-container\">\n",
              "      <div>\n",
              "<style scoped>\n",
              "    .dataframe tbody tr th:only-of-type {\n",
              "        vertical-align: middle;\n",
              "    }\n",
              "\n",
              "    .dataframe tbody tr th {\n",
              "        vertical-align: top;\n",
              "    }\n",
              "\n",
              "    .dataframe thead th {\n",
              "        text-align: right;\n",
              "    }\n",
              "</style>\n",
              "<table border=\"1\" class=\"dataframe\">\n",
              "  <thead>\n",
              "    <tr style=\"text-align: right;\">\n",
              "      <th></th>\n",
              "      <th>市区町村名</th>\n",
              "      <th>町名</th>\n",
              "      <th>町丁目</th>\n",
              "      <th>利便性スコア</th>\n",
              "      <th>_利便性スコア</th>\n",
              "      <th>コンビニ(数)</th>\n",
              "      <th>コンビニ(平均距離)</th>\n",
              "      <th>スーパー(数)</th>\n",
              "      <th>最寄駅(距離)</th>\n",
              "      <th>最寄駅</th>\n",
              "    </tr>\n",
              "  </thead>\n",
              "  <tbody>\n",
              "    <tr>\n",
              "      <th>0</th>\n",
              "      <td>新宿区</td>\n",
              "      <td>歌舞伎町</td>\n",
              "      <td>歌舞伎町１丁目</td>\n",
              "      <td>5.000000</td>\n",
              "      <td>1.000000</td>\n",
              "      <td>165</td>\n",
              "      <td>0.051609</td>\n",
              "      <td>26</td>\n",
              "      <td>0.150929</td>\n",
              "      <td>西武新宿駅</td>\n",
              "    </tr>\n",
              "    <tr>\n",
              "      <th>1</th>\n",
              "      <td>中央区</td>\n",
              "      <td>日本橋室町</td>\n",
              "      <td>日本橋室町２丁目</td>\n",
              "      <td>4.997878</td>\n",
              "      <td>0.980056</td>\n",
              "      <td>175</td>\n",
              "      <td>0.066614</td>\n",
              "      <td>25</td>\n",
              "      <td>0.243495</td>\n",
              "      <td>新日本橋駅</td>\n",
              "    </tr>\n",
              "    <tr>\n",
              "      <th>2</th>\n",
              "      <td>中央区</td>\n",
              "      <td>日本橋本町</td>\n",
              "      <td>日本橋本町２丁目</td>\n",
              "      <td>4.993633</td>\n",
              "      <td>0.965427</td>\n",
              "      <td>150</td>\n",
              "      <td>0.081322</td>\n",
              "      <td>25</td>\n",
              "      <td>0.237007</td>\n",
              "      <td>新日本橋駅</td>\n",
              "    </tr>\n",
              "    <tr>\n",
              "      <th>3</th>\n",
              "      <td>新宿区</td>\n",
              "      <td>西新宿</td>\n",
              "      <td>西新宿７丁目</td>\n",
              "      <td>4.991510</td>\n",
              "      <td>0.960168</td>\n",
              "      <td>161</td>\n",
              "      <td>0.082089</td>\n",
              "      <td>23</td>\n",
              "      <td>0.213538</td>\n",
              "      <td>西武新宿駅</td>\n",
              "    </tr>\n",
              "    <tr>\n",
              "      <th>4</th>\n",
              "      <td>豊島区</td>\n",
              "      <td>西池袋</td>\n",
              "      <td>西池袋１丁目</td>\n",
              "      <td>4.985143</td>\n",
              "      <td>0.943401</td>\n",
              "      <td>124</td>\n",
              "      <td>0.049731</td>\n",
              "      <td>30</td>\n",
              "      <td>0.155340</td>\n",
              "      <td>池袋駅</td>\n",
              "    </tr>\n",
              "    <tr>\n",
              "      <th>5</th>\n",
              "      <td>千代田区</td>\n",
              "      <td>神田花岡町</td>\n",
              "      <td>神田花岡町</td>\n",
              "      <td>4.983020</td>\n",
              "      <td>0.940753</td>\n",
              "      <td>141</td>\n",
              "      <td>0.059689</td>\n",
              "      <td>22</td>\n",
              "      <td>0.122307</td>\n",
              "      <td>秋葉原駅</td>\n",
              "    </tr>\n",
              "    <tr>\n",
              "      <th>6</th>\n",
              "      <td>中央区</td>\n",
              "      <td>日本橋本石町</td>\n",
              "      <td>日本橋本石町４丁目</td>\n",
              "      <td>4.980898</td>\n",
              "      <td>0.936915</td>\n",
              "      <td>176</td>\n",
              "      <td>0.086316</td>\n",
              "      <td>21</td>\n",
              "      <td>0.253162</td>\n",
              "      <td>新日本橋駅</td>\n",
              "    </tr>\n",
              "    <tr>\n",
              "      <th>7</th>\n",
              "      <td>千代田区</td>\n",
              "      <td>神田練塀町</td>\n",
              "      <td>神田練塀町</td>\n",
              "      <td>4.976653</td>\n",
              "      <td>0.935603</td>\n",
              "      <td>132</td>\n",
              "      <td>0.047826</td>\n",
              "      <td>25</td>\n",
              "      <td>0.283450</td>\n",
              "      <td>秋葉原駅</td>\n",
              "    </tr>\n",
              "    <tr>\n",
              "      <th>8</th>\n",
              "      <td>千代田区</td>\n",
              "      <td>神田平河町</td>\n",
              "      <td>神田平河町</td>\n",
              "      <td>4.972408</td>\n",
              "      <td>0.927198</td>\n",
              "      <td>135</td>\n",
              "      <td>0.031296</td>\n",
              "      <td>23</td>\n",
              "      <td>0.241374</td>\n",
              "      <td>秋葉原駅</td>\n",
              "    </tr>\n",
              "    <tr>\n",
              "      <th>9</th>\n",
              "      <td>千代田区</td>\n",
              "      <td>神田佐久間町</td>\n",
              "      <td>神田佐久間町１丁目</td>\n",
              "      <td>4.970285</td>\n",
              "      <td>0.924817</td>\n",
              "      <td>139</td>\n",
              "      <td>0.041618</td>\n",
              "      <td>21</td>\n",
              "      <td>0.156861</td>\n",
              "      <td>秋葉原駅</td>\n",
              "    </tr>\n",
              "    <tr>\n",
              "      <th>10</th>\n",
              "      <td>豊島区</td>\n",
              "      <td>南池袋</td>\n",
              "      <td>南池袋１丁目</td>\n",
              "      <td>4.968163</td>\n",
              "      <td>0.923099</td>\n",
              "      <td>119</td>\n",
              "      <td>0.062766</td>\n",
              "      <td>29</td>\n",
              "      <td>0.265589</td>\n",
              "      <td>池袋駅</td>\n",
              "    </tr>\n",
              "    <tr>\n",
              "      <th>11</th>\n",
              "      <td>千代田区</td>\n",
              "      <td>神田松永町</td>\n",
              "      <td>神田松永町</td>\n",
              "      <td>4.961796</td>\n",
              "      <td>0.918277</td>\n",
              "      <td>129</td>\n",
              "      <td>0.066428</td>\n",
              "      <td>24</td>\n",
              "      <td>0.298255</td>\n",
              "      <td>秋葉原駅</td>\n",
              "    </tr>\n",
              "    <tr>\n",
              "      <th>12</th>\n",
              "      <td>千代田区</td>\n",
              "      <td>鍛冶町</td>\n",
              "      <td>鍛冶町２丁目</td>\n",
              "      <td>4.959673</td>\n",
              "      <td>0.918251</td>\n",
              "      <td>156</td>\n",
              "      <td>0.091913</td>\n",
              "      <td>18</td>\n",
              "      <td>0.153772</td>\n",
              "      <td>神田駅</td>\n",
              "    </tr>\n",
              "    <tr>\n",
              "      <th>13</th>\n",
              "      <td>千代田区</td>\n",
              "      <td>神田西福田町</td>\n",
              "      <td>神田西福田町</td>\n",
              "      <td>4.957551</td>\n",
              "      <td>0.915382</td>\n",
              "      <td>150</td>\n",
              "      <td>0.053530</td>\n",
              "      <td>19</td>\n",
              "      <td>0.264596</td>\n",
              "      <td>新日本橋駅</td>\n",
              "    </tr>\n",
              "    <tr>\n",
              "      <th>14</th>\n",
              "      <td>千代田区</td>\n",
              "      <td>神田美倉町</td>\n",
              "      <td>神田美倉町</td>\n",
              "      <td>4.955428</td>\n",
              "      <td>0.914919</td>\n",
              "      <td>154</td>\n",
              "      <td>0.098864</td>\n",
              "      <td>19</td>\n",
              "      <td>0.218667</td>\n",
              "      <td>新日本橋駅</td>\n",
              "    </tr>\n",
              "    <tr>\n",
              "      <th>15</th>\n",
              "      <td>千代田区</td>\n",
              "      <td>神田相生町</td>\n",
              "      <td>神田相生町</td>\n",
              "      <td>4.953306</td>\n",
              "      <td>0.913293</td>\n",
              "      <td>137</td>\n",
              "      <td>0.054217</td>\n",
              "      <td>20</td>\n",
              "      <td>0.147550</td>\n",
              "      <td>秋葉原駅</td>\n",
              "    </tr>\n",
              "    <tr>\n",
              "      <th>16</th>\n",
              "      <td>千代田区</td>\n",
              "      <td>神田北乗物町</td>\n",
              "      <td>神田北乗物町</td>\n",
              "      <td>4.946938</td>\n",
              "      <td>0.909646</td>\n",
              "      <td>155</td>\n",
              "      <td>0.090541</td>\n",
              "      <td>19</td>\n",
              "      <td>0.315267</td>\n",
              "      <td>神田駅</td>\n",
              "    </tr>\n",
              "    <tr>\n",
              "      <th>17</th>\n",
              "      <td>中央区</td>\n",
              "      <td>八丁堀</td>\n",
              "      <td>八丁堀１丁目</td>\n",
              "      <td>4.942693</td>\n",
              "      <td>0.908157</td>\n",
              "      <td>149</td>\n",
              "      <td>0.136320</td>\n",
              "      <td>22</td>\n",
              "      <td>0.345291</td>\n",
              "      <td>八丁堀駅</td>\n",
              "    </tr>\n",
              "    <tr>\n",
              "      <th>18</th>\n",
              "      <td>千代田区</td>\n",
              "      <td>岩本町</td>\n",
              "      <td>岩本町３丁目</td>\n",
              "      <td>4.938448</td>\n",
              "      <td>0.905075</td>\n",
              "      <td>144</td>\n",
              "      <td>0.099144</td>\n",
              "      <td>23</td>\n",
              "      <td>0.497113</td>\n",
              "      <td>秋葉原駅</td>\n",
              "    </tr>\n",
              "    <tr>\n",
              "      <th>19</th>\n",
              "      <td>千代田区</td>\n",
              "      <td>神田岩本町</td>\n",
              "      <td>神田岩本町</td>\n",
              "      <td>4.936326</td>\n",
              "      <td>0.904327</td>\n",
              "      <td>147</td>\n",
              "      <td>0.077815</td>\n",
              "      <td>20</td>\n",
              "      <td>0.358445</td>\n",
              "      <td>秋葉原駅</td>\n",
              "    </tr>\n",
              "  </tbody>\n",
              "</table>\n",
              "</div>\n",
              "      <button class=\"colab-df-convert\" onclick=\"convertToInteractive('df-dffd715a-9881-432f-9f57-a203414d00b5')\"\n",
              "              title=\"Convert this dataframe to an interactive table.\"\n",
              "              style=\"display:none;\">\n",
              "        \n",
              "  <svg xmlns=\"http://www.w3.org/2000/svg\" height=\"24px\"viewBox=\"0 0 24 24\"\n",
              "       width=\"24px\">\n",
              "    <path d=\"M0 0h24v24H0V0z\" fill=\"none\"/>\n",
              "    <path d=\"M18.56 5.44l.94 2.06.94-2.06 2.06-.94-2.06-.94-.94-2.06-.94 2.06-2.06.94zm-11 1L8.5 8.5l.94-2.06 2.06-.94-2.06-.94L8.5 2.5l-.94 2.06-2.06.94zm10 10l.94 2.06.94-2.06 2.06-.94-2.06-.94-.94-2.06-.94 2.06-2.06.94z\"/><path d=\"M17.41 7.96l-1.37-1.37c-.4-.4-.92-.59-1.43-.59-.52 0-1.04.2-1.43.59L10.3 9.45l-7.72 7.72c-.78.78-.78 2.05 0 2.83L4 21.41c.39.39.9.59 1.41.59.51 0 1.02-.2 1.41-.59l7.78-7.78 2.81-2.81c.8-.78.8-2.07 0-2.86zM5.41 20L4 18.59l7.72-7.72 1.47 1.35L5.41 20z\"/>\n",
              "  </svg>\n",
              "      </button>\n",
              "      \n",
              "  <style>\n",
              "    .colab-df-container {\n",
              "      display:flex;\n",
              "      flex-wrap:wrap;\n",
              "      gap: 12px;\n",
              "    }\n",
              "\n",
              "    .colab-df-convert {\n",
              "      background-color: #E8F0FE;\n",
              "      border: none;\n",
              "      border-radius: 50%;\n",
              "      cursor: pointer;\n",
              "      display: none;\n",
              "      fill: #1967D2;\n",
              "      height: 32px;\n",
              "      padding: 0 0 0 0;\n",
              "      width: 32px;\n",
              "    }\n",
              "\n",
              "    .colab-df-convert:hover {\n",
              "      background-color: #E2EBFA;\n",
              "      box-shadow: 0px 1px 2px rgba(60, 64, 67, 0.3), 0px 1px 3px 1px rgba(60, 64, 67, 0.15);\n",
              "      fill: #174EA6;\n",
              "    }\n",
              "\n",
              "    [theme=dark] .colab-df-convert {\n",
              "      background-color: #3B4455;\n",
              "      fill: #D2E3FC;\n",
              "    }\n",
              "\n",
              "    [theme=dark] .colab-df-convert:hover {\n",
              "      background-color: #434B5C;\n",
              "      box-shadow: 0px 1px 3px 1px rgba(0, 0, 0, 0.15);\n",
              "      filter: drop-shadow(0px 1px 2px rgba(0, 0, 0, 0.3));\n",
              "      fill: #FFFFFF;\n",
              "    }\n",
              "  </style>\n",
              "\n",
              "      <script>\n",
              "        const buttonEl =\n",
              "          document.querySelector('#df-dffd715a-9881-432f-9f57-a203414d00b5 button.colab-df-convert');\n",
              "        buttonEl.style.display =\n",
              "          google.colab.kernel.accessAllowed ? 'block' : 'none';\n",
              "\n",
              "        async function convertToInteractive(key) {\n",
              "          const element = document.querySelector('#df-dffd715a-9881-432f-9f57-a203414d00b5');\n",
              "          const dataTable =\n",
              "            await google.colab.kernel.invokeFunction('convertToInteractive',\n",
              "                                                     [key], {});\n",
              "          if (!dataTable) return;\n",
              "\n",
              "          const docLinkHtml = 'Like what you see? Visit the ' +\n",
              "            '<a target=\"_blank\" href=https://colab.research.google.com/notebooks/data_table.ipynb>data table notebook</a>'\n",
              "            + ' to learn more about interactive tables.';\n",
              "          element.innerHTML = '';\n",
              "          dataTable['output_type'] = 'display_data';\n",
              "          await google.colab.output.renderOutput(dataTable, element);\n",
              "          const docLink = document.createElement('div');\n",
              "          docLink.innerHTML = docLinkHtml;\n",
              "          element.appendChild(docLink);\n",
              "        }\n",
              "      </script>\n",
              "    </div>\n",
              "  </div>\n",
              "  "
            ]
          },
          "metadata": {},
          "execution_count": 93
        }
      ]
    },
    {
      "cell_type": "code",
      "source": [
        "df_level.tail(20)"
      ],
      "metadata": {
        "colab": {
          "base_uri": "https://localhost:8080/",
          "height": 677
        },
        "id": "YHYQi2qY_nIe",
        "outputId": "ecbdf806-e248-49de-c64e-20d4cf076458"
      },
      "execution_count": 94,
      "outputs": [
        {
          "output_type": "execute_result",
          "data": {
            "text/plain": [
              "    市区町村名     町名     町丁目    利便性スコア   _利便性スコア  コンビニ(数)  コンビニ(平均距離)  スーパー(数)  \\\n",
              "891  千代田区    千代田     千代田  0.271676  0.248572       20    0.762506        0   \n",
              "892  江戸川区    江戸川  江戸川２丁目  0.267431  0.244885       17    0.336220        9   \n",
              "893  江戸川区  西小松川町   西小松川町  0.254696  0.240889       14    0.521253        6   \n",
              "894  江戸川区     船堀   船堀７丁目  0.252573  0.240716       25    0.160610        7   \n",
              "895  江戸川区    一之江  一之江６丁目  0.250451  0.239882       25    0.190894        8   \n",
              "896   大田区    京浜島  京浜島１丁目  0.235594  0.237611        2    0.835906        0   \n",
              "897   練馬区   西大泉町    西大泉町  0.229226  0.235260        8    0.540507        4   \n",
              "898  江戸川区   下篠崎町    下篠崎町  0.220736  0.230706        9    0.188782        3   \n",
              "899  江戸川区     新堀   新堀１丁目  0.195267  0.224646       16    0.278705        6   \n",
              "900  江戸川区   一之江町    一之江町  0.163430  0.216216       31    0.296719        8   \n",
              "901  江戸川区    春江町  春江町３丁目  0.161307  0.216059       24    0.397693       13   \n",
              "902  江戸川区   宇喜田町    宇喜田町  0.148573  0.211206       24    0.329611       10   \n",
              "903  世田谷区    砧公園     砧公園  0.135838  0.209183       10    0.659984        1   \n",
              "904  江戸川区   二之江町    二之江町  0.125226  0.205662       27    0.252256        6   \n",
              "905  江戸川区    西瑞江  西瑞江３丁目  0.120981  0.201171       21    0.399776       12   \n",
              "906   葛飾区   水元公園    水元公園  0.080654  0.183095        5    0.518267        2   \n",
              "907  江戸川区    東篠崎  東篠崎１丁目  0.048817  0.151456        8    0.422128        2   \n",
              "908   大田区    城南島  城南島７丁目  0.036082  0.124204        1    0.813539        1   \n",
              "909   江東区     若洲   若洲１丁目  0.021225  0.103685        1    1.195652        0   \n",
              "910  江戸川区   東篠崎町    東篠崎町  0.019102  0.089309       13    0.570651        3   \n",
              "\n",
              "      最寄駅(距離)      最寄駅  \n",
              "891  0.951987     大手町駅  \n",
              "892  2.837504    市川塩浜駅  \n",
              "893  1.963524      平井駅  \n",
              "894  3.763013  葛西臨海公園駅  \n",
              "895  3.708306      平井駅  \n",
              "896  0.789487     昭和島駅  \n",
              "897  1.674978      保谷駅  \n",
              "898  2.778613     本八幡駅  \n",
              "899  2.939070     新小岩駅  \n",
              "900  3.766315      平井駅  \n",
              "901  3.856770     新小岩駅  \n",
              "902  3.546047  葛西臨海公園駅  \n",
              "903  1.318355      用賀駅  \n",
              "904  3.889947      平井駅  \n",
              "905  3.857227    市川塩浜駅  \n",
              "906  2.034725      金町駅  \n",
              "907  2.710459     本八幡駅  \n",
              "908  2.005950  流通センター駅  \n",
              "909  2.120963     新木場駅  \n",
              "910  3.027414     本八幡駅  "
            ],
            "text/html": [
              "\n",
              "  <div id=\"df-93027b73-3a5b-4422-87df-4d5c1b157d66\">\n",
              "    <div class=\"colab-df-container\">\n",
              "      <div>\n",
              "<style scoped>\n",
              "    .dataframe tbody tr th:only-of-type {\n",
              "        vertical-align: middle;\n",
              "    }\n",
              "\n",
              "    .dataframe tbody tr th {\n",
              "        vertical-align: top;\n",
              "    }\n",
              "\n",
              "    .dataframe thead th {\n",
              "        text-align: right;\n",
              "    }\n",
              "</style>\n",
              "<table border=\"1\" class=\"dataframe\">\n",
              "  <thead>\n",
              "    <tr style=\"text-align: right;\">\n",
              "      <th></th>\n",
              "      <th>市区町村名</th>\n",
              "      <th>町名</th>\n",
              "      <th>町丁目</th>\n",
              "      <th>利便性スコア</th>\n",
              "      <th>_利便性スコア</th>\n",
              "      <th>コンビニ(数)</th>\n",
              "      <th>コンビニ(平均距離)</th>\n",
              "      <th>スーパー(数)</th>\n",
              "      <th>最寄駅(距離)</th>\n",
              "      <th>最寄駅</th>\n",
              "    </tr>\n",
              "  </thead>\n",
              "  <tbody>\n",
              "    <tr>\n",
              "      <th>891</th>\n",
              "      <td>千代田区</td>\n",
              "      <td>千代田</td>\n",
              "      <td>千代田</td>\n",
              "      <td>0.271676</td>\n",
              "      <td>0.248572</td>\n",
              "      <td>20</td>\n",
              "      <td>0.762506</td>\n",
              "      <td>0</td>\n",
              "      <td>0.951987</td>\n",
              "      <td>大手町駅</td>\n",
              "    </tr>\n",
              "    <tr>\n",
              "      <th>892</th>\n",
              "      <td>江戸川区</td>\n",
              "      <td>江戸川</td>\n",
              "      <td>江戸川２丁目</td>\n",
              "      <td>0.267431</td>\n",
              "      <td>0.244885</td>\n",
              "      <td>17</td>\n",
              "      <td>0.336220</td>\n",
              "      <td>9</td>\n",
              "      <td>2.837504</td>\n",
              "      <td>市川塩浜駅</td>\n",
              "    </tr>\n",
              "    <tr>\n",
              "      <th>893</th>\n",
              "      <td>江戸川区</td>\n",
              "      <td>西小松川町</td>\n",
              "      <td>西小松川町</td>\n",
              "      <td>0.254696</td>\n",
              "      <td>0.240889</td>\n",
              "      <td>14</td>\n",
              "      <td>0.521253</td>\n",
              "      <td>6</td>\n",
              "      <td>1.963524</td>\n",
              "      <td>平井駅</td>\n",
              "    </tr>\n",
              "    <tr>\n",
              "      <th>894</th>\n",
              "      <td>江戸川区</td>\n",
              "      <td>船堀</td>\n",
              "      <td>船堀７丁目</td>\n",
              "      <td>0.252573</td>\n",
              "      <td>0.240716</td>\n",
              "      <td>25</td>\n",
              "      <td>0.160610</td>\n",
              "      <td>7</td>\n",
              "      <td>3.763013</td>\n",
              "      <td>葛西臨海公園駅</td>\n",
              "    </tr>\n",
              "    <tr>\n",
              "      <th>895</th>\n",
              "      <td>江戸川区</td>\n",
              "      <td>一之江</td>\n",
              "      <td>一之江６丁目</td>\n",
              "      <td>0.250451</td>\n",
              "      <td>0.239882</td>\n",
              "      <td>25</td>\n",
              "      <td>0.190894</td>\n",
              "      <td>8</td>\n",
              "      <td>3.708306</td>\n",
              "      <td>平井駅</td>\n",
              "    </tr>\n",
              "    <tr>\n",
              "      <th>896</th>\n",
              "      <td>大田区</td>\n",
              "      <td>京浜島</td>\n",
              "      <td>京浜島１丁目</td>\n",
              "      <td>0.235594</td>\n",
              "      <td>0.237611</td>\n",
              "      <td>2</td>\n",
              "      <td>0.835906</td>\n",
              "      <td>0</td>\n",
              "      <td>0.789487</td>\n",
              "      <td>昭和島駅</td>\n",
              "    </tr>\n",
              "    <tr>\n",
              "      <th>897</th>\n",
              "      <td>練馬区</td>\n",
              "      <td>西大泉町</td>\n",
              "      <td>西大泉町</td>\n",
              "      <td>0.229226</td>\n",
              "      <td>0.235260</td>\n",
              "      <td>8</td>\n",
              "      <td>0.540507</td>\n",
              "      <td>4</td>\n",
              "      <td>1.674978</td>\n",
              "      <td>保谷駅</td>\n",
              "    </tr>\n",
              "    <tr>\n",
              "      <th>898</th>\n",
              "      <td>江戸川区</td>\n",
              "      <td>下篠崎町</td>\n",
              "      <td>下篠崎町</td>\n",
              "      <td>0.220736</td>\n",
              "      <td>0.230706</td>\n",
              "      <td>9</td>\n",
              "      <td>0.188782</td>\n",
              "      <td>3</td>\n",
              "      <td>2.778613</td>\n",
              "      <td>本八幡駅</td>\n",
              "    </tr>\n",
              "    <tr>\n",
              "      <th>899</th>\n",
              "      <td>江戸川区</td>\n",
              "      <td>新堀</td>\n",
              "      <td>新堀１丁目</td>\n",
              "      <td>0.195267</td>\n",
              "      <td>0.224646</td>\n",
              "      <td>16</td>\n",
              "      <td>0.278705</td>\n",
              "      <td>6</td>\n",
              "      <td>2.939070</td>\n",
              "      <td>新小岩駅</td>\n",
              "    </tr>\n",
              "    <tr>\n",
              "      <th>900</th>\n",
              "      <td>江戸川区</td>\n",
              "      <td>一之江町</td>\n",
              "      <td>一之江町</td>\n",
              "      <td>0.163430</td>\n",
              "      <td>0.216216</td>\n",
              "      <td>31</td>\n",
              "      <td>0.296719</td>\n",
              "      <td>8</td>\n",
              "      <td>3.766315</td>\n",
              "      <td>平井駅</td>\n",
              "    </tr>\n",
              "    <tr>\n",
              "      <th>901</th>\n",
              "      <td>江戸川区</td>\n",
              "      <td>春江町</td>\n",
              "      <td>春江町３丁目</td>\n",
              "      <td>0.161307</td>\n",
              "      <td>0.216059</td>\n",
              "      <td>24</td>\n",
              "      <td>0.397693</td>\n",
              "      <td>13</td>\n",
              "      <td>3.856770</td>\n",
              "      <td>新小岩駅</td>\n",
              "    </tr>\n",
              "    <tr>\n",
              "      <th>902</th>\n",
              "      <td>江戸川区</td>\n",
              "      <td>宇喜田町</td>\n",
              "      <td>宇喜田町</td>\n",
              "      <td>0.148573</td>\n",
              "      <td>0.211206</td>\n",
              "      <td>24</td>\n",
              "      <td>0.329611</td>\n",
              "      <td>10</td>\n",
              "      <td>3.546047</td>\n",
              "      <td>葛西臨海公園駅</td>\n",
              "    </tr>\n",
              "    <tr>\n",
              "      <th>903</th>\n",
              "      <td>世田谷区</td>\n",
              "      <td>砧公園</td>\n",
              "      <td>砧公園</td>\n",
              "      <td>0.135838</td>\n",
              "      <td>0.209183</td>\n",
              "      <td>10</td>\n",
              "      <td>0.659984</td>\n",
              "      <td>1</td>\n",
              "      <td>1.318355</td>\n",
              "      <td>用賀駅</td>\n",
              "    </tr>\n",
              "    <tr>\n",
              "      <th>904</th>\n",
              "      <td>江戸川区</td>\n",
              "      <td>二之江町</td>\n",
              "      <td>二之江町</td>\n",
              "      <td>0.125226</td>\n",
              "      <td>0.205662</td>\n",
              "      <td>27</td>\n",
              "      <td>0.252256</td>\n",
              "      <td>6</td>\n",
              "      <td>3.889947</td>\n",
              "      <td>平井駅</td>\n",
              "    </tr>\n",
              "    <tr>\n",
              "      <th>905</th>\n",
              "      <td>江戸川区</td>\n",
              "      <td>西瑞江</td>\n",
              "      <td>西瑞江３丁目</td>\n",
              "      <td>0.120981</td>\n",
              "      <td>0.201171</td>\n",
              "      <td>21</td>\n",
              "      <td>0.399776</td>\n",
              "      <td>12</td>\n",
              "      <td>3.857227</td>\n",
              "      <td>市川塩浜駅</td>\n",
              "    </tr>\n",
              "    <tr>\n",
              "      <th>906</th>\n",
              "      <td>葛飾区</td>\n",
              "      <td>水元公園</td>\n",
              "      <td>水元公園</td>\n",
              "      <td>0.080654</td>\n",
              "      <td>0.183095</td>\n",
              "      <td>5</td>\n",
              "      <td>0.518267</td>\n",
              "      <td>2</td>\n",
              "      <td>2.034725</td>\n",
              "      <td>金町駅</td>\n",
              "    </tr>\n",
              "    <tr>\n",
              "      <th>907</th>\n",
              "      <td>江戸川区</td>\n",
              "      <td>東篠崎</td>\n",
              "      <td>東篠崎１丁目</td>\n",
              "      <td>0.048817</td>\n",
              "      <td>0.151456</td>\n",
              "      <td>8</td>\n",
              "      <td>0.422128</td>\n",
              "      <td>2</td>\n",
              "      <td>2.710459</td>\n",
              "      <td>本八幡駅</td>\n",
              "    </tr>\n",
              "    <tr>\n",
              "      <th>908</th>\n",
              "      <td>大田区</td>\n",
              "      <td>城南島</td>\n",
              "      <td>城南島７丁目</td>\n",
              "      <td>0.036082</td>\n",
              "      <td>0.124204</td>\n",
              "      <td>1</td>\n",
              "      <td>0.813539</td>\n",
              "      <td>1</td>\n",
              "      <td>2.005950</td>\n",
              "      <td>流通センター駅</td>\n",
              "    </tr>\n",
              "    <tr>\n",
              "      <th>909</th>\n",
              "      <td>江東区</td>\n",
              "      <td>若洲</td>\n",
              "      <td>若洲１丁目</td>\n",
              "      <td>0.021225</td>\n",
              "      <td>0.103685</td>\n",
              "      <td>1</td>\n",
              "      <td>1.195652</td>\n",
              "      <td>0</td>\n",
              "      <td>2.120963</td>\n",
              "      <td>新木場駅</td>\n",
              "    </tr>\n",
              "    <tr>\n",
              "      <th>910</th>\n",
              "      <td>江戸川区</td>\n",
              "      <td>東篠崎町</td>\n",
              "      <td>東篠崎町</td>\n",
              "      <td>0.019102</td>\n",
              "      <td>0.089309</td>\n",
              "      <td>13</td>\n",
              "      <td>0.570651</td>\n",
              "      <td>3</td>\n",
              "      <td>3.027414</td>\n",
              "      <td>本八幡駅</td>\n",
              "    </tr>\n",
              "  </tbody>\n",
              "</table>\n",
              "</div>\n",
              "      <button class=\"colab-df-convert\" onclick=\"convertToInteractive('df-93027b73-3a5b-4422-87df-4d5c1b157d66')\"\n",
              "              title=\"Convert this dataframe to an interactive table.\"\n",
              "              style=\"display:none;\">\n",
              "        \n",
              "  <svg xmlns=\"http://www.w3.org/2000/svg\" height=\"24px\"viewBox=\"0 0 24 24\"\n",
              "       width=\"24px\">\n",
              "    <path d=\"M0 0h24v24H0V0z\" fill=\"none\"/>\n",
              "    <path d=\"M18.56 5.44l.94 2.06.94-2.06 2.06-.94-2.06-.94-.94-2.06-.94 2.06-2.06.94zm-11 1L8.5 8.5l.94-2.06 2.06-.94-2.06-.94L8.5 2.5l-.94 2.06-2.06.94zm10 10l.94 2.06.94-2.06 2.06-.94-2.06-.94-.94-2.06-.94 2.06-2.06.94z\"/><path d=\"M17.41 7.96l-1.37-1.37c-.4-.4-.92-.59-1.43-.59-.52 0-1.04.2-1.43.59L10.3 9.45l-7.72 7.72c-.78.78-.78 2.05 0 2.83L4 21.41c.39.39.9.59 1.41.59.51 0 1.02-.2 1.41-.59l7.78-7.78 2.81-2.81c.8-.78.8-2.07 0-2.86zM5.41 20L4 18.59l7.72-7.72 1.47 1.35L5.41 20z\"/>\n",
              "  </svg>\n",
              "      </button>\n",
              "      \n",
              "  <style>\n",
              "    .colab-df-container {\n",
              "      display:flex;\n",
              "      flex-wrap:wrap;\n",
              "      gap: 12px;\n",
              "    }\n",
              "\n",
              "    .colab-df-convert {\n",
              "      background-color: #E8F0FE;\n",
              "      border: none;\n",
              "      border-radius: 50%;\n",
              "      cursor: pointer;\n",
              "      display: none;\n",
              "      fill: #1967D2;\n",
              "      height: 32px;\n",
              "      padding: 0 0 0 0;\n",
              "      width: 32px;\n",
              "    }\n",
              "\n",
              "    .colab-df-convert:hover {\n",
              "      background-color: #E2EBFA;\n",
              "      box-shadow: 0px 1px 2px rgba(60, 64, 67, 0.3), 0px 1px 3px 1px rgba(60, 64, 67, 0.15);\n",
              "      fill: #174EA6;\n",
              "    }\n",
              "\n",
              "    [theme=dark] .colab-df-convert {\n",
              "      background-color: #3B4455;\n",
              "      fill: #D2E3FC;\n",
              "    }\n",
              "\n",
              "    [theme=dark] .colab-df-convert:hover {\n",
              "      background-color: #434B5C;\n",
              "      box-shadow: 0px 1px 3px 1px rgba(0, 0, 0, 0.15);\n",
              "      filter: drop-shadow(0px 1px 2px rgba(0, 0, 0, 0.3));\n",
              "      fill: #FFFFFF;\n",
              "    }\n",
              "  </style>\n",
              "\n",
              "      <script>\n",
              "        const buttonEl =\n",
              "          document.querySelector('#df-93027b73-3a5b-4422-87df-4d5c1b157d66 button.colab-df-convert');\n",
              "        buttonEl.style.display =\n",
              "          google.colab.kernel.accessAllowed ? 'block' : 'none';\n",
              "\n",
              "        async function convertToInteractive(key) {\n",
              "          const element = document.querySelector('#df-93027b73-3a5b-4422-87df-4d5c1b157d66');\n",
              "          const dataTable =\n",
              "            await google.colab.kernel.invokeFunction('convertToInteractive',\n",
              "                                                     [key], {});\n",
              "          if (!dataTable) return;\n",
              "\n",
              "          const docLinkHtml = 'Like what you see? Visit the ' +\n",
              "            '<a target=\"_blank\" href=https://colab.research.google.com/notebooks/data_table.ipynb>data table notebook</a>'\n",
              "            + ' to learn more about interactive tables.';\n",
              "          element.innerHTML = '';\n",
              "          dataTable['output_type'] = 'display_data';\n",
              "          await google.colab.output.renderOutput(dataTable, element);\n",
              "          const docLink = document.createElement('div');\n",
              "          docLink.innerHTML = docLinkHtml;\n",
              "          element.appendChild(docLink);\n",
              "        }\n",
              "      </script>\n",
              "    </div>\n",
              "  </div>\n",
              "  "
            ]
          },
          "metadata": {},
          "execution_count": 94
        }
      ]
    },
    {
      "cell_type": "code",
      "source": [],
      "metadata": {
        "id": "KwfMlqDrBmKa"
      },
      "execution_count": 88,
      "outputs": []
    }
  ]
}