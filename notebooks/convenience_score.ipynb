{
  "nbformat": 4,
  "nbformat_minor": 0,
  "metadata": {
    "colab": {
      "provenance": [],
      "authorship_tag": "ABX9TyM1YhFY7OykEQH8Wa16CXT3",
      "include_colab_link": true
    },
    "kernelspec": {
      "name": "python3",
      "display_name": "Python 3"
    },
    "language_info": {
      "name": "python"
    }
  },
  "cells": [
    {
      "cell_type": "markdown",
      "metadata": {
        "id": "view-in-github",
        "colab_type": "text"
      },
      "source": [
        "<a href=\"https://colab.research.google.com/github/z-gard/analysis/blob/main/notebooks/convenience_score.ipynb\" target=\"_parent\"><img src=\"https://colab.research.google.com/assets/colab-badge.svg\" alt=\"Open In Colab\"/></a>"
      ]
    },
    {
      "cell_type": "markdown",
      "source": [
        "# 利便性\n",
        "- input:\n",
        "    - convenience_store.csv\n",
        "        - コンビニ店舗位置\n",
        "    - supermarket.csv\n",
        "        - スーパー店舗位置\n",
        "    - train_station.csv\n",
        "        - 最寄り駅の位置\n",
        "- output:\n",
        "    - convenience_score.csv\n",
        "        - 買い物スコア\n",
        "        - 駅スコア\n",
        "        - 利便性スコア"
      ],
      "metadata": {
        "id": "kP0WeYTi3sb3"
      }
    },
    {
      "cell_type": "code",
      "source": [
        "!pip install -q japanize-matplotlib"
      ],
      "metadata": {
        "id": "E9YHHF2F37-N",
        "outputId": "120da017-b060-4266-f87a-a248fa713986",
        "colab": {
          "base_uri": "https://localhost:8080/"
        }
      },
      "execution_count": 1,
      "outputs": [
        {
          "output_type": "stream",
          "name": "stdout",
          "text": [
            "\u001b[K     |████████████████████████████████| 4.1 MB 6.7 MB/s \n",
            "\u001b[?25h  Building wheel for japanize-matplotlib (setup.py) ... \u001b[?25l\u001b[?25hdone\n"
          ]
        }
      ]
    },
    {
      "cell_type": "code",
      "execution_count": 2,
      "metadata": {
        "colab": {
          "base_uri": "https://localhost:8080/"
        },
        "id": "w4KT6mck3nOo",
        "outputId": "c22409cd-e4eb-4153-e2d6-8e4be293c619"
      },
      "outputs": [
        {
          "output_type": "stream",
          "name": "stdout",
          "text": [
            "Mounted at /content/drive\n"
          ]
        }
      ],
      "source": [
        "from google.colab import drive\n",
        "drive.mount('/content/drive')"
      ]
    },
    {
      "cell_type": "code",
      "source": [
        "DIR_NAME = '/content/drive/MyDrive/z-gard/data'"
      ],
      "metadata": {
        "id": "ScoGtQsV3sA0"
      },
      "execution_count": 3,
      "outputs": []
    },
    {
      "cell_type": "code",
      "source": [
        "import os\n",
        "import requests\n",
        "import json\n",
        "import pandas as pd\n",
        "from urllib.parse import urlparse, quote\n",
        "import io\n",
        "import math\n",
        "import numpy as np\n",
        "import matplotlib.pyplot as plt\n",
        "import japanize_matplotlib\n",
        "import seaborn as sns\n",
        "\n",
        "pd.set_option('display.max_columns', 50)\n",
        "pd.set_option('display.max_rows', 100)"
      ],
      "metadata": {
        "id": "1ef9tlAW3zxE"
      },
      "execution_count": 4,
      "outputs": []
    },
    {
      "cell_type": "markdown",
      "source": [
        "### 人口マスタ"
      ],
      "metadata": {
        "id": "XRO-NFWf4Gnn"
      }
    },
    {
      "cell_type": "code",
      "source": [
        "df_pop_master = pd.read_csv(os.path.join(DIR_NAME, 'population_master.csv'))[['地域ID', '市区町村名', '町名', '町丁目', '緯度', '経度']]\n",
        "print(df_pop_master.shape)"
      ],
      "metadata": {
        "colab": {
          "base_uri": "https://localhost:8080/"
        },
        "id": "hD-7wSVN4BH0",
        "outputId": "0e5393e8-d48e-41ad-e40d-a58c0746f85b"
      },
      "execution_count": 5,
      "outputs": [
        {
          "output_type": "stream",
          "name": "stdout",
          "text": [
            "(3145, 6)\n"
          ]
        }
      ]
    },
    {
      "cell_type": "markdown",
      "source": [
        "### コンビニ"
      ],
      "metadata": {
        "id": "2-pBdXmw4Ktq"
      }
    },
    {
      "cell_type": "code",
      "source": [
        "df_convini_master = pd.read_csv(os.path.join(DIR_NAME, 'convenience_store.csv'))[['name', 'lat', 'lng']]\n",
        "df_convini_master['施設分類'] = 'コンビニ'\n",
        "df_convini_master = df_convini_master.rename(columns={'lat':'緯度', 'lng':'経度'})\n",
        "print(df_convini_master.shape)"
      ],
      "metadata": {
        "colab": {
          "base_uri": "https://localhost:8080/"
        },
        "id": "bZ7JBlaa4JtN",
        "outputId": "5dedf118-e0fb-4625-92c8-dbbcdb2c3250"
      },
      "execution_count": 6,
      "outputs": [
        {
          "output_type": "stream",
          "name": "stdout",
          "text": [
            "(6405, 4)\n"
          ]
        }
      ]
    },
    {
      "cell_type": "markdown",
      "source": [
        "### スーパー"
      ],
      "metadata": {
        "id": "FJCTnQNHEoPF"
      }
    },
    {
      "cell_type": "code",
      "source": [
        "df_super_master = pd.read_csv(os.path.join(DIR_NAME, 'supermarket.csv'))[['name', 'lat', 'lng']]\n",
        "df_super_master['施設分類'] = 'スーパー'\n",
        "df_super_master = df_super_master.rename(columns={'lat':'緯度', 'lng':'経度'})\n",
        "print(df_super_master.shape)"
      ],
      "metadata": {
        "colab": {
          "base_uri": "https://localhost:8080/"
        },
        "id": "VeBcuQyn4aee",
        "outputId": "d530b377-6159-4136-8531-ef243923c423"
      },
      "execution_count": 7,
      "outputs": [
        {
          "output_type": "stream",
          "name": "stdout",
          "text": [
            "(2060, 4)\n"
          ]
        }
      ]
    },
    {
      "cell_type": "markdown",
      "source": [
        "### 最寄駅"
      ],
      "metadata": {
        "id": "lN64Jn4B4zTc"
      }
    },
    {
      "cell_type": "code",
      "source": [
        "df_station_master = pd.read_csv(os.path.join(DIR_NAME, 'train_station.csv'))[['no', 'name', 'lat', 'lng']]\n",
        "df_station_master = df_station_master.rename(columns={'no':'地域ID', 'name':'最寄駅'})\n",
        "print(df_station_master.shape)"
      ],
      "metadata": {
        "colab": {
          "base_uri": "https://localhost:8080/"
        },
        "id": "o-k260vj4gVe",
        "outputId": "84dd047c-ea8a-42ed-da39-0de79813726a"
      },
      "execution_count": 8,
      "outputs": [
        {
          "output_type": "stream",
          "name": "stdout",
          "text": [
            "(3141, 4)\n"
          ]
        }
      ]
    },
    {
      "cell_type": "code",
      "source": [
        "# 距離計算\n",
        "def get_distance(lat1, lon1, lat2, lon2):\n",
        "    _lat1 = lat1 * math.pi / 180\n",
        "    _lon1 = lon1 * math.pi / 180\n",
        "    _lat2 = lat2 * math.pi / 180\n",
        "    _lon2 = lon2 * math.pi / 180\n",
        "    _tmp = math.cos(_lat1) * math.cos(_lat2) * math.cos(_lon2 - _lon1) + math.sin(_lat1) * math.sin(_lat2)\n",
        "    _tmp = 1 if _tmp > 1 else -1 if _tmp < -1 else _tmp\n",
        "    return 6371 * math.acos(_tmp)\n",
        "\n",
        "# 最寄り施設までの距離\n",
        "def get_value_of_nearest_facility(df_master, df_facility, category, method='min', param=3):\n",
        "    _df_cat = df_facility[df_facility['施設分類'] == category].copy()\n",
        "    cat_values = []\n",
        "    for i, row in df_master.iterrows():\n",
        "        dist = _df_cat.apply(lambda x: get_distance(x['緯度'], x['経度'], row['緯度'], row['経度']), axis=1)\n",
        "        val = None\n",
        "        if method == 'min':\n",
        "            # 最小の距離\n",
        "            val = dist.min()\n",
        "        elif method == 'count':\n",
        "            # {param}km以内の施設の数をカウント\n",
        "            val = len(dist[dist <= param])\n",
        "        elif method == 'mean':\n",
        "            # 近い{param}件の距離の平均\n",
        "            val = dist.sort_values()[:param].mean()\n",
        "        cat_values.append(val)\n",
        "    return cat_values"
      ],
      "metadata": {
        "id": "_zuCoLhg48ZN"
      },
      "execution_count": 9,
      "outputs": []
    },
    {
      "cell_type": "markdown",
      "source": [
        "### スコア"
      ],
      "metadata": {
        "id": "IILAQB3vA02_"
      }
    },
    {
      "cell_type": "code",
      "source": [
        "%%time\n",
        "# 0.5km以内の施設の数\n",
        "df_pop_master['コンビニ(数)'] = get_value_of_nearest_facility(df_pop_master, df_convini_master, 'コンビニ', 'count', 0.5)\n",
        "# 近い3件の距離の平均\n",
        "df_pop_master['コンビニ(平均距離)'] = get_value_of_nearest_facility(df_pop_master, df_convini_master, 'コンビニ', 'mean', 3)\n",
        "# 1km以内の施設の数\n",
        "df_pop_master['スーパー(数)'] = get_value_of_nearest_facility(df_pop_master, df_super_master, 'スーパー', 'count', 1)"
      ],
      "metadata": {
        "colab": {
          "base_uri": "https://localhost:8080/"
        },
        "id": "GOWzRaqi5JH2",
        "outputId": "94d23b3e-3b75-4bbc-ccf7-a87513ad6b6f"
      },
      "execution_count": 10,
      "outputs": [
        {
          "output_type": "stream",
          "name": "stdout",
          "text": [
            "CPU times: user 18min 6s, sys: 3.17 s, total: 18min 9s\n",
            "Wall time: 18min 34s\n"
          ]
        }
      ]
    },
    {
      "cell_type": "code",
      "source": [
        "# 最寄駅からの距離\n",
        "pop_master_len = len(df_pop_master)\n",
        "df_pop_master = pd.merge(df_pop_master, df_station_master, on='地域ID', how='left')\n",
        "assert len(df_pop_master) == pop_master_len\n",
        "\n",
        "df_pop_master['最寄駅(距離)'] = df_pop_master.apply(lambda x: get_distance(x['緯度'], x['経度'], x['lat'], x['lng']), axis=1)\n",
        "df_pop_master = df_pop_master.drop(columns=['lat', 'lng'])"
      ],
      "metadata": {
        "id": "Gccf1DW-7cgo"
      },
      "execution_count": 11,
      "outputs": []
    },
    {
      "cell_type": "code",
      "source": [
        "print(df_pop_master.shape)\n",
        "df_pop_master.head()"
      ],
      "metadata": {
        "colab": {
          "base_uri": "https://localhost:8080/",
          "height": 224
        },
        "id": "GbdMQ-rc7G9B",
        "outputId": "e6ed13f8-c4b7-489b-c0a9-bbe42de70931"
      },
      "execution_count": 12,
      "outputs": [
        {
          "output_type": "stream",
          "name": "stdout",
          "text": [
            "(3145, 11)\n"
          ]
        },
        {
          "output_type": "execute_result",
          "data": {
            "text/plain": [
              "     地域ID 市区町村名   町名     町丁目         緯度          経度  コンビニ(数)  コンビニ(平均距離)  \\\n",
              "0  101003  千代田区  丸の内  丸の内１丁目  35.681610  139.767511       72    0.039658   \n",
              "1  101004  千代田区  丸の内  丸の内２丁目  35.680071  139.763944       58    0.101209   \n",
              "2  101005  千代田区  丸の内  丸の内３丁目  35.676890  139.764039       46    0.101844   \n",
              "3  101007  千代田区  大手町  大手町１丁目  35.688067  139.764353       36    0.069556   \n",
              "4  101008  千代田区  大手町  大手町２丁目  35.686416  139.768530       43    0.128402   \n",
              "\n",
              "   スーパー(数)   最寄駅   最寄駅(距離)  \n",
              "0       13   東京駅  0.054248  \n",
              "1       10   東京駅  0.315152  \n",
              "2        9  有楽町駅  0.228117  \n",
              "3        7  大手町駅  0.317383  \n",
              "4       15  大手町駅  0.488932  "
            ],
            "text/html": [
              "\n",
              "  <div id=\"df-64c8e610-8b98-4689-8d7d-654eb4e55ff5\">\n",
              "    <div class=\"colab-df-container\">\n",
              "      <div>\n",
              "<style scoped>\n",
              "    .dataframe tbody tr th:only-of-type {\n",
              "        vertical-align: middle;\n",
              "    }\n",
              "\n",
              "    .dataframe tbody tr th {\n",
              "        vertical-align: top;\n",
              "    }\n",
              "\n",
              "    .dataframe thead th {\n",
              "        text-align: right;\n",
              "    }\n",
              "</style>\n",
              "<table border=\"1\" class=\"dataframe\">\n",
              "  <thead>\n",
              "    <tr style=\"text-align: right;\">\n",
              "      <th></th>\n",
              "      <th>地域ID</th>\n",
              "      <th>市区町村名</th>\n",
              "      <th>町名</th>\n",
              "      <th>町丁目</th>\n",
              "      <th>緯度</th>\n",
              "      <th>経度</th>\n",
              "      <th>コンビニ(数)</th>\n",
              "      <th>コンビニ(平均距離)</th>\n",
              "      <th>スーパー(数)</th>\n",
              "      <th>最寄駅</th>\n",
              "      <th>最寄駅(距離)</th>\n",
              "    </tr>\n",
              "  </thead>\n",
              "  <tbody>\n",
              "    <tr>\n",
              "      <th>0</th>\n",
              "      <td>101003</td>\n",
              "      <td>千代田区</td>\n",
              "      <td>丸の内</td>\n",
              "      <td>丸の内１丁目</td>\n",
              "      <td>35.681610</td>\n",
              "      <td>139.767511</td>\n",
              "      <td>72</td>\n",
              "      <td>0.039658</td>\n",
              "      <td>13</td>\n",
              "      <td>東京駅</td>\n",
              "      <td>0.054248</td>\n",
              "    </tr>\n",
              "    <tr>\n",
              "      <th>1</th>\n",
              "      <td>101004</td>\n",
              "      <td>千代田区</td>\n",
              "      <td>丸の内</td>\n",
              "      <td>丸の内２丁目</td>\n",
              "      <td>35.680071</td>\n",
              "      <td>139.763944</td>\n",
              "      <td>58</td>\n",
              "      <td>0.101209</td>\n",
              "      <td>10</td>\n",
              "      <td>東京駅</td>\n",
              "      <td>0.315152</td>\n",
              "    </tr>\n",
              "    <tr>\n",
              "      <th>2</th>\n",
              "      <td>101005</td>\n",
              "      <td>千代田区</td>\n",
              "      <td>丸の内</td>\n",
              "      <td>丸の内３丁目</td>\n",
              "      <td>35.676890</td>\n",
              "      <td>139.764039</td>\n",
              "      <td>46</td>\n",
              "      <td>0.101844</td>\n",
              "      <td>9</td>\n",
              "      <td>有楽町駅</td>\n",
              "      <td>0.228117</td>\n",
              "    </tr>\n",
              "    <tr>\n",
              "      <th>3</th>\n",
              "      <td>101007</td>\n",
              "      <td>千代田区</td>\n",
              "      <td>大手町</td>\n",
              "      <td>大手町１丁目</td>\n",
              "      <td>35.688067</td>\n",
              "      <td>139.764353</td>\n",
              "      <td>36</td>\n",
              "      <td>0.069556</td>\n",
              "      <td>7</td>\n",
              "      <td>大手町駅</td>\n",
              "      <td>0.317383</td>\n",
              "    </tr>\n",
              "    <tr>\n",
              "      <th>4</th>\n",
              "      <td>101008</td>\n",
              "      <td>千代田区</td>\n",
              "      <td>大手町</td>\n",
              "      <td>大手町２丁目</td>\n",
              "      <td>35.686416</td>\n",
              "      <td>139.768530</td>\n",
              "      <td>43</td>\n",
              "      <td>0.128402</td>\n",
              "      <td>15</td>\n",
              "      <td>大手町駅</td>\n",
              "      <td>0.488932</td>\n",
              "    </tr>\n",
              "  </tbody>\n",
              "</table>\n",
              "</div>\n",
              "      <button class=\"colab-df-convert\" onclick=\"convertToInteractive('df-64c8e610-8b98-4689-8d7d-654eb4e55ff5')\"\n",
              "              title=\"Convert this dataframe to an interactive table.\"\n",
              "              style=\"display:none;\">\n",
              "        \n",
              "  <svg xmlns=\"http://www.w3.org/2000/svg\" height=\"24px\"viewBox=\"0 0 24 24\"\n",
              "       width=\"24px\">\n",
              "    <path d=\"M0 0h24v24H0V0z\" fill=\"none\"/>\n",
              "    <path d=\"M18.56 5.44l.94 2.06.94-2.06 2.06-.94-2.06-.94-.94-2.06-.94 2.06-2.06.94zm-11 1L8.5 8.5l.94-2.06 2.06-.94-2.06-.94L8.5 2.5l-.94 2.06-2.06.94zm10 10l.94 2.06.94-2.06 2.06-.94-2.06-.94-.94-2.06-.94 2.06-2.06.94z\"/><path d=\"M17.41 7.96l-1.37-1.37c-.4-.4-.92-.59-1.43-.59-.52 0-1.04.2-1.43.59L10.3 9.45l-7.72 7.72c-.78.78-.78 2.05 0 2.83L4 21.41c.39.39.9.59 1.41.59.51 0 1.02-.2 1.41-.59l7.78-7.78 2.81-2.81c.8-.78.8-2.07 0-2.86zM5.41 20L4 18.59l7.72-7.72 1.47 1.35L5.41 20z\"/>\n",
              "  </svg>\n",
              "      </button>\n",
              "      \n",
              "  <style>\n",
              "    .colab-df-container {\n",
              "      display:flex;\n",
              "      flex-wrap:wrap;\n",
              "      gap: 12px;\n",
              "    }\n",
              "\n",
              "    .colab-df-convert {\n",
              "      background-color: #E8F0FE;\n",
              "      border: none;\n",
              "      border-radius: 50%;\n",
              "      cursor: pointer;\n",
              "      display: none;\n",
              "      fill: #1967D2;\n",
              "      height: 32px;\n",
              "      padding: 0 0 0 0;\n",
              "      width: 32px;\n",
              "    }\n",
              "\n",
              "    .colab-df-convert:hover {\n",
              "      background-color: #E2EBFA;\n",
              "      box-shadow: 0px 1px 2px rgba(60, 64, 67, 0.3), 0px 1px 3px 1px rgba(60, 64, 67, 0.15);\n",
              "      fill: #174EA6;\n",
              "    }\n",
              "\n",
              "    [theme=dark] .colab-df-convert {\n",
              "      background-color: #3B4455;\n",
              "      fill: #D2E3FC;\n",
              "    }\n",
              "\n",
              "    [theme=dark] .colab-df-convert:hover {\n",
              "      background-color: #434B5C;\n",
              "      box-shadow: 0px 1px 3px 1px rgba(0, 0, 0, 0.15);\n",
              "      filter: drop-shadow(0px 1px 2px rgba(0, 0, 0, 0.3));\n",
              "      fill: #FFFFFF;\n",
              "    }\n",
              "  </style>\n",
              "\n",
              "      <script>\n",
              "        const buttonEl =\n",
              "          document.querySelector('#df-64c8e610-8b98-4689-8d7d-654eb4e55ff5 button.colab-df-convert');\n",
              "        buttonEl.style.display =\n",
              "          google.colab.kernel.accessAllowed ? 'block' : 'none';\n",
              "\n",
              "        async function convertToInteractive(key) {\n",
              "          const element = document.querySelector('#df-64c8e610-8b98-4689-8d7d-654eb4e55ff5');\n",
              "          const dataTable =\n",
              "            await google.colab.kernel.invokeFunction('convertToInteractive',\n",
              "                                                     [key], {});\n",
              "          if (!dataTable) return;\n",
              "\n",
              "          const docLinkHtml = 'Like what you see? Visit the ' +\n",
              "            '<a target=\"_blank\" href=https://colab.research.google.com/notebooks/data_table.ipynb>data table notebook</a>'\n",
              "            + ' to learn more about interactive tables.';\n",
              "          element.innerHTML = '';\n",
              "          dataTable['output_type'] = 'display_data';\n",
              "          await google.colab.output.renderOutput(dataTable, element);\n",
              "          const docLink = document.createElement('div');\n",
              "          docLink.innerHTML = docLinkHtml;\n",
              "          element.appendChild(docLink);\n",
              "        }\n",
              "      </script>\n",
              "    </div>\n",
              "  </div>\n",
              "  "
            ]
          },
          "metadata": {},
          "execution_count": 12
        }
      ]
    },
    {
      "cell_type": "code",
      "source": [
        "sns.histplot(df_pop_master['コンビニ(数)'], bins=20)\n",
        "plt.show()"
      ],
      "metadata": {
        "colab": {
          "base_uri": "https://localhost:8080/",
          "height": 278
        },
        "id": "omSbyVRv7Jjj",
        "outputId": "4dce7b20-72ad-4d72-b65f-d3e1eae759df"
      },
      "execution_count": 13,
      "outputs": [
        {
          "output_type": "display_data",
          "data": {
            "text/plain": [
              "<Figure size 432x288 with 1 Axes>"
            ],
            "image/png": "[encoded data removed]"
          },
          "metadata": {
            "needs_background": "light"
          }
        }
      ]
    },
    {
      "cell_type": "code",
      "source": [
        "sns.histplot(df_pop_master['コンビニ(平均距離)'], bins=20)\n",
        "plt.show()"
      ],
      "metadata": {
        "colab": {
          "base_uri": "https://localhost:8080/",
          "height": 278
        },
        "id": "njF52h5T7Orq",
        "outputId": "949dc09d-96dc-4f8a-d640-cb1a6e67e6df"
      },
      "execution_count": 14,
      "outputs": [
        {
          "output_type": "display_data",
          "data": {
            "text/plain": [
              "<Figure size 432x288 with 1 Axes>"
            ],
            "image/png": "[encoded data removed]"
          },
          "metadata": {
            "needs_background": "light"
          }
        }
      ]
    },
    {
      "cell_type": "code",
      "source": [
        "sns.histplot(df_pop_master['スーパー(数)'], bins=20)\n",
        "plt.show()"
      ],
      "metadata": {
        "colab": {
          "base_uri": "https://localhost:8080/",
          "height": 278
        },
        "id": "aivC0jO97RR0",
        "outputId": "cefdcec9-58cc-4db6-cf4f-e8fbb1b06544"
      },
      "execution_count": 15,
      "outputs": [
        {
          "output_type": "display_data",
          "data": {
            "text/plain": [
              "<Figure size 432x288 with 1 Axes>"
            ],
            "image/png": "[encoded data removed]"
          },
          "metadata": {
            "needs_background": "light"
          }
        }
      ]
    },
    {
      "cell_type": "code",
      "source": [
        "sns.histplot(df_pop_master['最寄駅(距離)'], bins=20)\n",
        "plt.show()"
      ],
      "metadata": {
        "colab": {
          "base_uri": "https://localhost:8080/",
          "height": 278
        },
        "id": "fr1hDANUAXJY",
        "outputId": "44918124-5e00-4d7b-da52-b92988447bbf"
      },
      "execution_count": 16,
      "outputs": [
        {
          "output_type": "display_data",
          "data": {
            "text/plain": [
              "<Figure size 432x288 with 1 Axes>"
            ],
            "image/png": "[encoded data removed]"
          },
          "metadata": {
            "needs_background": "light"
          }
        }
      ]
    },
    {
      "cell_type": "code",
      "source": [
        "import numpy as np\n",
        "from scipy.stats import norm\n",
        "\n",
        "def rank_score(sr_data):\n",
        "    rank = sr_data.rank()\n",
        "    count = rank.max() \n",
        "    x = (rank + 1)/(count + 1)\n",
        "    max_val = 5\n",
        "    y = norm.ppf(x, loc=0.5, scale=0.14)*max_val\n",
        "    return np.clip(y, 0, max_val)"
      ],
      "metadata": {
        "id": "LdClGOPa7YS5"
      },
      "execution_count": 17,
      "outputs": []
    },
    {
      "cell_type": "code",
      "source": [
        "df_pop_master['コンビニ(数)レベル'] = rank_score(df_pop_master['コンビニ(数)'])\n",
        "df_pop_master['コンビニ(平均距離)レベル'] = rank_score(df_pop_master['コンビニ(平均距離)']*(-1))\n",
        "df_pop_master['スーパー(数)レベル'] = rank_score(df_pop_master['スーパー(数)'])"
      ],
      "metadata": {
        "id": "Uwx_g9_f82WM"
      },
      "execution_count": 18,
      "outputs": []
    },
    {
      "cell_type": "code",
      "source": [
        "score_name_list = []\n",
        "score_name = '買い物スコア'\n",
        "score_name_list.append(score_name)\n",
        "\n",
        "score_list = [\n",
        "    df_pop_master['コンビニ(数)レベル'] * 0.5,\n",
        "    df_pop_master['コンビニ(平均距離)レベル'] * 0.5,\n",
        "    df_pop_master['スーパー(数)レベル'] * 1.0,\n",
        "]\n",
        "_tmp_score = pd.concat(score_list, axis=1).sum(axis=1, skipna=False)\n",
        "df_pop_master[score_name] = rank_score(_tmp_score).round(2)"
      ],
      "metadata": {
        "id": "NX28XbUB9b2C"
      },
      "execution_count": 19,
      "outputs": []
    },
    {
      "cell_type": "code",
      "source": [
        "sns.histplot(_tmp_score, bins=20)\n",
        "plt.show()"
      ],
      "metadata": {
        "id": "-gXtou-6D4HZ",
        "outputId": "a21d26f1-a9dd-4ad0-d002-2404f7a2c942",
        "colab": {
          "base_uri": "https://localhost:8080/",
          "height": 264
        }
      },
      "execution_count": 20,
      "outputs": [
        {
          "output_type": "display_data",
          "data": {
            "text/plain": [
              "<Figure size 432x288 with 1 Axes>"
            ],
            "image/png": "[encoded data removed]"
          },
          "metadata": {
            "needs_background": "light"
          }
        }
      ]
    },
    {
      "cell_type": "code",
      "source": [
        "sns.histplot(df_pop_master[score_name], bins=20)\n",
        "plt.show()"
      ],
      "metadata": {
        "colab": {
          "base_uri": "https://localhost:8080/",
          "height": 277
        },
        "id": "8L6IoCBO954e",
        "outputId": "b4b753b8-22a0-4e97-8619-b5158c4c03fa"
      },
      "execution_count": 21,
      "outputs": [
        {
          "output_type": "display_data",
          "data": {
            "text/plain": [
              "<Figure size 432x288 with 1 Axes>"
            ],
            "image/png": "[encoded data removed]"
          },
          "metadata": {
            "needs_background": "light"
          }
        }
      ]
    },
    {
      "cell_type": "code",
      "source": [
        "df_pop_master[score_name].describe()"
      ],
      "metadata": {
        "id": "uTN0QQfhDOEA",
        "outputId": "c0f85f29-bfa3-472b-8c95-afb872240adc",
        "colab": {
          "base_uri": "https://localhost:8080/"
        }
      },
      "execution_count": 22,
      "outputs": [
        {
          "output_type": "execute_result",
          "data": {
            "text/plain": [
              "count    3141.000000\n",
              "mean        2.501557\n",
              "std         0.698643\n",
              "min         0.240000\n",
              "25%         2.030000\n",
              "50%         2.500000\n",
              "75%         2.970000\n",
              "max         5.000000\n",
              "Name: 買い物スコア, dtype: float64"
            ]
          },
          "metadata": {},
          "execution_count": 22
        }
      ]
    },
    {
      "cell_type": "code",
      "source": [
        "score_name = '駅スコア'\n",
        "score_name_list.append(score_name)\n",
        "\n",
        "df_pop_master[score_name] = rank_score(df_pop_master['最寄駅(距離)']*(-1)).round(2)"
      ],
      "metadata": {
        "id": "JafH1lHS-MZK"
      },
      "execution_count": 23,
      "outputs": []
    },
    {
      "cell_type": "code",
      "source": [
        "sns.histplot(df_pop_master[score_name], bins=20)\n",
        "plt.show()"
      ],
      "metadata": {
        "id": "O5_M2y5Y-f56",
        "outputId": "38bce191-8e33-4ce7-e429-695a8c2e30ed",
        "colab": {
          "base_uri": "https://localhost:8080/",
          "height": 277
        }
      },
      "execution_count": 24,
      "outputs": [
        {
          "output_type": "display_data",
          "data": {
            "text/plain": [
              "<Figure size 432x288 with 1 Axes>"
            ],
            "image/png": "[encoded data removed]"
          },
          "metadata": {
            "needs_background": "light"
          }
        }
      ]
    },
    {
      "cell_type": "code",
      "source": [
        "df_pop_master[score_name].describe()"
      ],
      "metadata": {
        "id": "cMmg_YdXDNSQ",
        "outputId": "b89a7b3f-30e9-4554-a35c-fe36283c9e48",
        "colab": {
          "base_uri": "https://localhost:8080/"
        }
      },
      "execution_count": 25,
      "outputs": [
        {
          "output_type": "execute_result",
          "data": {
            "text/plain": [
              "count    3141.000000\n",
              "mean        2.501557\n",
              "std         0.698643\n",
              "min         0.240000\n",
              "25%         2.030000\n",
              "50%         2.500000\n",
              "75%         2.970000\n",
              "max         5.000000\n",
              "Name: 駅スコア, dtype: float64"
            ]
          },
          "metadata": {},
          "execution_count": 25
        }
      ]
    },
    {
      "cell_type": "code",
      "source": [
        "score_name = '利便性スコア'\n",
        "score_name_list.append(score_name)\n",
        "\n",
        "score_list = [\n",
        "    df_pop_master['買い物スコア'] * 1.0,\n",
        "    df_pop_master['駅スコア'] * 1.0,\n",
        "]\n",
        "df_pop_master[score_name] = rank_score(pd.concat(score_list, axis=1).sum(axis=1, skipna=False)).round(2)"
      ],
      "metadata": {
        "id": "EmWlIcNzB0v2"
      },
      "execution_count": 26,
      "outputs": []
    },
    {
      "cell_type": "code",
      "source": [
        "sns.histplot(df_pop_master[score_name], bins=20)\n",
        "plt.show()"
      ],
      "metadata": {
        "id": "Hh1RXAyUB_iK",
        "outputId": "2e472f91-653f-4fc5-8ece-81d58489b3c7",
        "colab": {
          "base_uri": "https://localhost:8080/",
          "height": 278
        }
      },
      "execution_count": 27,
      "outputs": [
        {
          "output_type": "display_data",
          "data": {
            "text/plain": [
              "<Figure size 432x288 with 1 Axes>"
            ],
            "image/png": "[encoded data removed]"
          },
          "metadata": {
            "needs_background": "light"
          }
        }
      ]
    },
    {
      "cell_type": "code",
      "source": [
        "df_pop_master[score_name].describe()"
      ],
      "metadata": {
        "id": "QO8Y8wQ3DKL4",
        "outputId": "19d87569-ff69-4514-d3bb-45ff7657967b",
        "colab": {
          "base_uri": "https://localhost:8080/"
        }
      },
      "execution_count": 28,
      "outputs": [
        {
          "output_type": "execute_result",
          "data": {
            "text/plain": [
              "count    3141.000000\n",
              "mean        2.501649\n",
              "std         0.698448\n",
              "min         0.240000\n",
              "25%         2.030000\n",
              "50%         2.500000\n",
              "75%         2.970000\n",
              "max         5.000000\n",
              "Name: 利便性スコア, dtype: float64"
            ]
          },
          "metadata": {},
          "execution_count": 28
        }
      ]
    },
    {
      "cell_type": "code",
      "source": [
        "feature_list = ['コンビニ(数)', 'コンビニ(平均距離)', 'スーパー(数)', '最寄駅(距離)']\n",
        "\n",
        "df_pop_master['コンビニ(平均距離)'] = df_pop_master['コンビニ(平均距離)'].round(3)\n",
        "df_pop_master['最寄駅(距離)'] = df_pop_master['最寄駅(距離)'].round(3)"
      ],
      "metadata": {
        "id": "Pc9KoSAy_Pht"
      },
      "execution_count": 29,
      "outputs": []
    },
    {
      "cell_type": "code",
      "source": [
        "output_score_file = 'convenience_score.csv'"
      ],
      "metadata": {
        "id": "3D8OiBGRBsPy"
      },
      "execution_count": 30,
      "outputs": []
    },
    {
      "cell_type": "code",
      "source": [
        "df_pop_master[\n",
        "    ['地域ID'] + feature_list + score_name_list\n",
        "].to_csv(os.path.join(DIR_NAME, output_score_file), index=False)"
      ],
      "metadata": {
        "id": "mGvdhIyy9-kN"
      },
      "execution_count": 31,
      "outputs": []
    },
    {
      "cell_type": "code",
      "source": [
        "for score in score_name_list:\n",
        "    plt.figure(figsize=(15, 5))\n",
        "    sns.barplot(x='市区町村名', y=score, data=df_pop_master)\n",
        "    plt.show()"
      ],
      "metadata": {
        "colab": {
          "base_uri": "https://localhost:8080/",
          "height": 969
        },
        "id": "ufGDZQX3-lnp",
        "outputId": "eca0c807-05c8-4a14-e024-ae777028770e"
      },
      "execution_count": 32,
      "outputs": [
        {
          "output_type": "display_data",
          "data": {
            "text/plain": [
              "<Figure size 1080x360 with 1 Axes>"
            ],
            "image/png": "[encoded data removed]"
          },
          "metadata": {
            "needs_background": "light"
          }
        },
        {
          "output_type": "display_data",
          "data": {
            "text/plain": [
              "<Figure size 1080x360 with 1 Axes>"
            ],
            "image/png": "[encoded data removed]"
          },
          "metadata": {
            "needs_background": "light"
          }
        },
        {
          "output_type": "display_data",
          "data": {
            "text/plain": [
              "<Figure size 1080x360 with 1 Axes>"
            ],
            "image/png": "[encoded data removed]"
          },
          "metadata": {
            "needs_background": "light"
          }
        }
      ]
    },
    {
      "cell_type": "code",
      "source": [
        "df_level = df_pop_master.copy()\n",
        "df_level['rank'] = df_level.groupby('町名')[score_name].transform('rank', ascending=False)\n",
        "df_level = df_level[df_level['rank'] == 1].sort_values(score_name, ascending=False)[\n",
        "    ['市区町村名', '町名', '町丁目', '最寄駅'] + feature_list + score_name_list\n",
        "].reset_index(drop=True)\n",
        "print(df_level.shape)"
      ],
      "metadata": {
        "colab": {
          "base_uri": "https://localhost:8080/"
        },
        "id": "PQcg6iA0-peB",
        "outputId": "5a03d3a7-d953-46be-a00c-5e705b903f10"
      },
      "execution_count": 33,
      "outputs": [
        {
          "output_type": "stream",
          "name": "stdout",
          "text": [
            "(901, 11)\n"
          ]
        }
      ]
    },
    {
      "cell_type": "code",
      "source": [
        "df_level.head(20)"
      ],
      "metadata": {
        "colab": {
          "base_uri": "https://localhost:8080/",
          "height": 721
        },
        "id": "wnuF1x9Z_mPS",
        "outputId": "e96428be-6104-42a9-d651-7c32b00c6995"
      },
      "execution_count": 34,
      "outputs": [
        {
          "output_type": "execute_result",
          "data": {
            "text/plain": [
              "   市区町村名      町名        町丁目    最寄駅  コンビニ(数)  コンビニ(平均距離)  スーパー(数)  最寄駅(距離)  \\\n",
              "0    豊島区     西池袋     西池袋１丁目    池袋駅       58       0.050       30    0.155   \n",
              "1   千代田区     丸の内     丸の内１丁目    東京駅       72       0.040       13    0.054   \n",
              "2    新宿区    歌舞伎町    歌舞伎町１丁目  西武新宿駅       47       0.052       26    0.151   \n",
              "3   千代田区   神田花岡町      神田花岡町   秋葉原駅       42       0.060       22    0.122   \n",
              "4    中央区   日本橋室町   日本橋室町３丁目  新日本橋駅       38       0.062       23    0.131   \n",
              "5    中央区  日本橋馬喰町  日本橋馬喰町１丁目   馬喰町駅       34       0.100       17    0.019   \n",
              "6    中央区     八丁堀     八丁堀４丁目   八丁堀駅       27       0.066       18    0.039   \n",
              "7   千代田区  神田佐久間町  神田佐久間町１丁目   秋葉原駅       40       0.042       21    0.157   \n",
              "8    豊島区     南池袋     南池袋１丁目    池袋駅       48       0.063       29    0.266   \n",
              "9    台東区      上野      上野６丁目   御徒町駅       51       0.049       22    0.208   \n",
              "10  千代田区   神田相生町      神田相生町   秋葉原駅       38       0.054       20    0.148   \n",
              "11  千代田区   神田平河町      神田平河町   秋葉原駅       35       0.031       23    0.241   \n",
              "12   台東区     浅草橋     浅草橋１丁目   浅草橋駅       23       0.072       19    0.091   \n",
              "13  千代田区     内神田     内神田３丁目    神田駅       41       0.050       14    0.125   \n",
              "14   豊島区     北大塚     北大塚２丁目    大塚駅       24       0.120       27    0.201   \n",
              "15   中央区   日本橋本町   日本橋本町２丁目  新日本橋駅       37       0.081       25    0.237   \n",
              "16   新宿区     西新宿     西新宿７丁目  西武新宿駅       44       0.082       23    0.214   \n",
              "17   荒川区    西日暮里    西日暮里５丁目  西日暮里駅       10       0.072       25    0.166   \n",
              "18  千代田区   神田練塀町      神田練塀町   秋葉原駅       35       0.048       25    0.283   \n",
              "19   大田区      蒲田      蒲田５丁目    蒲田駅       36       0.048       24    0.268   \n",
              "\n",
              "    買い物スコア  駅スコア  利便性スコア  \n",
              "0     5.00  3.84    5.00  \n",
              "1     4.19  4.37    4.89  \n",
              "2     4.61  3.86    4.76  \n",
              "3     4.27  4.06    4.67  \n",
              "4     4.30  3.99    4.61  \n",
              "5     3.62  4.61    4.56  \n",
              "6     3.75  4.46    4.52  \n",
              "7     4.37  3.83    4.49  \n",
              "8     4.76  3.34    4.43  \n",
              "9     4.49  3.59    4.41  \n",
              "10    4.09  3.87    4.39  \n",
              "11    4.52  3.44    4.37  \n",
              "12    3.72  4.16    4.35  \n",
              "13    3.78  4.02    4.31  \n",
              "14    4.16  3.62    4.30  \n",
              "15    4.31  3.46    4.27  \n",
              "16    4.20  3.57    4.27  \n",
              "17    3.95  3.80    4.23  \n",
              "18    4.46  3.28    4.21  \n",
              "19    4.41  3.33    4.21  "
            ],
            "text/html": [
              "\n",
              "  <div id=\"df-7b601ea8-f14e-42b5-8851-53e53a9f96fe\">\n",
              "    <div class=\"colab-df-container\">\n",
              "      <div>\n",
              "<style scoped>\n",
              "    .dataframe tbody tr th:only-of-type {\n",
              "        vertical-align: middle;\n",
              "    }\n",
              "\n",
              "    .dataframe tbody tr th {\n",
              "        vertical-align: top;\n",
              "    }\n",
              "\n",
              "    .dataframe thead th {\n",
              "        text-align: right;\n",
              "    }\n",
              "</style>\n",
              "<table border=\"1\" class=\"dataframe\">\n",
              "  <thead>\n",
              "    <tr style=\"text-align: right;\">\n",
              "      <th></th>\n",
              "      <th>市区町村名</th>\n",
              "      <th>町名</th>\n",
              "      <th>町丁目</th>\n",
              "      <th>最寄駅</th>\n",
              "      <th>コンビニ(数)</th>\n",
              "      <th>コンビニ(平均距離)</th>\n",
              "      <th>スーパー(数)</th>\n",
              "      <th>最寄駅(距離)</th>\n",
              "      <th>買い物スコア</th>\n",
              "      <th>駅スコア</th>\n",
              "      <th>利便性スコア</th>\n",
              "    </tr>\n",
              "  </thead>\n",
              "  <tbody>\n",
              "    <tr>\n",
              "      <th>0</th>\n",
              "      <td>豊島区</td>\n",
              "      <td>西池袋</td>\n",
              "      <td>西池袋１丁目</td>\n",
              "      <td>池袋駅</td>\n",
              "      <td>58</td>\n",
              "      <td>0.050</td>\n",
              "      <td>30</td>\n",
              "      <td>0.155</td>\n",
              "      <td>5.00</td>\n",
              "      <td>3.84</td>\n",
              "      <td>5.00</td>\n",
              "    </tr>\n",
              "    <tr>\n",
              "      <th>1</th>\n",
              "      <td>千代田区</td>\n",
              "      <td>丸の内</td>\n",
              "      <td>丸の内１丁目</td>\n",
              "      <td>東京駅</td>\n",
              "      <td>72</td>\n",
              "      <td>0.040</td>\n",
              "      <td>13</td>\n",
              "      <td>0.054</td>\n",
              "      <td>4.19</td>\n",
              "      <td>4.37</td>\n",
              "      <td>4.89</td>\n",
              "    </tr>\n",
              "    <tr>\n",
              "      <th>2</th>\n",
              "      <td>新宿区</td>\n",
              "      <td>歌舞伎町</td>\n",
              "      <td>歌舞伎町１丁目</td>\n",
              "      <td>西武新宿駅</td>\n",
              "      <td>47</td>\n",
              "      <td>0.052</td>\n",
              "      <td>26</td>\n",
              "      <td>0.151</td>\n",
              "      <td>4.61</td>\n",
              "      <td>3.86</td>\n",
              "      <td>4.76</td>\n",
              "    </tr>\n",
              "    <tr>\n",
              "      <th>3</th>\n",
              "      <td>千代田区</td>\n",
              "      <td>神田花岡町</td>\n",
              "      <td>神田花岡町</td>\n",
              "      <td>秋葉原駅</td>\n",
              "      <td>42</td>\n",
              "      <td>0.060</td>\n",
              "      <td>22</td>\n",
              "      <td>0.122</td>\n",
              "      <td>4.27</td>\n",
              "      <td>4.06</td>\n",
              "      <td>4.67</td>\n",
              "    </tr>\n",
              "    <tr>\n",
              "      <th>4</th>\n",
              "      <td>中央区</td>\n",
              "      <td>日本橋室町</td>\n",
              "      <td>日本橋室町３丁目</td>\n",
              "      <td>新日本橋駅</td>\n",
              "      <td>38</td>\n",
              "      <td>0.062</td>\n",
              "      <td>23</td>\n",
              "      <td>0.131</td>\n",
              "      <td>4.30</td>\n",
              "      <td>3.99</td>\n",
              "      <td>4.61</td>\n",
              "    </tr>\n",
              "    <tr>\n",
              "      <th>5</th>\n",
              "      <td>中央区</td>\n",
              "      <td>日本橋馬喰町</td>\n",
              "      <td>日本橋馬喰町１丁目</td>\n",
              "      <td>馬喰町駅</td>\n",
              "      <td>34</td>\n",
              "      <td>0.100</td>\n",
              "      <td>17</td>\n",
              "      <td>0.019</td>\n",
              "      <td>3.62</td>\n",
              "      <td>4.61</td>\n",
              "      <td>4.56</td>\n",
              "    </tr>\n",
              "    <tr>\n",
              "      <th>6</th>\n",
              "      <td>中央区</td>\n",
              "      <td>八丁堀</td>\n",
              "      <td>八丁堀４丁目</td>\n",
              "      <td>八丁堀駅</td>\n",
              "      <td>27</td>\n",
              "      <td>0.066</td>\n",
              "      <td>18</td>\n",
              "      <td>0.039</td>\n",
              "      <td>3.75</td>\n",
              "      <td>4.46</td>\n",
              "      <td>4.52</td>\n",
              "    </tr>\n",
              "    <tr>\n",
              "      <th>7</th>\n",
              "      <td>千代田区</td>\n",
              "      <td>神田佐久間町</td>\n",
              "      <td>神田佐久間町１丁目</td>\n",
              "      <td>秋葉原駅</td>\n",
              "      <td>40</td>\n",
              "      <td>0.042</td>\n",
              "      <td>21</td>\n",
              "      <td>0.157</td>\n",
              "      <td>4.37</td>\n",
              "      <td>3.83</td>\n",
              "      <td>4.49</td>\n",
              "    </tr>\n",
              "    <tr>\n",
              "      <th>8</th>\n",
              "      <td>豊島区</td>\n",
              "      <td>南池袋</td>\n",
              "      <td>南池袋１丁目</td>\n",
              "      <td>池袋駅</td>\n",
              "      <td>48</td>\n",
              "      <td>0.063</td>\n",
              "      <td>29</td>\n",
              "      <td>0.266</td>\n",
              "      <td>4.76</td>\n",
              "      <td>3.34</td>\n",
              "      <td>4.43</td>\n",
              "    </tr>\n",
              "    <tr>\n",
              "      <th>9</th>\n",
              "      <td>台東区</td>\n",
              "      <td>上野</td>\n",
              "      <td>上野６丁目</td>\n",
              "      <td>御徒町駅</td>\n",
              "      <td>51</td>\n",
              "      <td>0.049</td>\n",
              "      <td>22</td>\n",
              "      <td>0.208</td>\n",
              "      <td>4.49</td>\n",
              "      <td>3.59</td>\n",
              "      <td>4.41</td>\n",
              "    </tr>\n",
              "    <tr>\n",
              "      <th>10</th>\n",
              "      <td>千代田区</td>\n",
              "      <td>神田相生町</td>\n",
              "      <td>神田相生町</td>\n",
              "      <td>秋葉原駅</td>\n",
              "      <td>38</td>\n",
              "      <td>0.054</td>\n",
              "      <td>20</td>\n",
              "      <td>0.148</td>\n",
              "      <td>4.09</td>\n",
              "      <td>3.87</td>\n",
              "      <td>4.39</td>\n",
              "    </tr>\n",
              "    <tr>\n",
              "      <th>11</th>\n",
              "      <td>千代田区</td>\n",
              "      <td>神田平河町</td>\n",
              "      <td>神田平河町</td>\n",
              "      <td>秋葉原駅</td>\n",
              "      <td>35</td>\n",
              "      <td>0.031</td>\n",
              "      <td>23</td>\n",
              "      <td>0.241</td>\n",
              "      <td>4.52</td>\n",
              "      <td>3.44</td>\n",
              "      <td>4.37</td>\n",
              "    </tr>\n",
              "    <tr>\n",
              "      <th>12</th>\n",
              "      <td>台東区</td>\n",
              "      <td>浅草橋</td>\n",
              "      <td>浅草橋１丁目</td>\n",
              "      <td>浅草橋駅</td>\n",
              "      <td>23</td>\n",
              "      <td>0.072</td>\n",
              "      <td>19</td>\n",
              "      <td>0.091</td>\n",
              "      <td>3.72</td>\n",
              "      <td>4.16</td>\n",
              "      <td>4.35</td>\n",
              "    </tr>\n",
              "    <tr>\n",
              "      <th>13</th>\n",
              "      <td>千代田区</td>\n",
              "      <td>内神田</td>\n",
              "      <td>内神田３丁目</td>\n",
              "      <td>神田駅</td>\n",
              "      <td>41</td>\n",
              "      <td>0.050</td>\n",
              "      <td>14</td>\n",
              "      <td>0.125</td>\n",
              "      <td>3.78</td>\n",
              "      <td>4.02</td>\n",
              "      <td>4.31</td>\n",
              "    </tr>\n",
              "    <tr>\n",
              "      <th>14</th>\n",
              "      <td>豊島区</td>\n",
              "      <td>北大塚</td>\n",
              "      <td>北大塚２丁目</td>\n",
              "      <td>大塚駅</td>\n",
              "      <td>24</td>\n",
              "      <td>0.120</td>\n",
              "      <td>27</td>\n",
              "      <td>0.201</td>\n",
              "      <td>4.16</td>\n",
              "      <td>3.62</td>\n",
              "      <td>4.30</td>\n",
              "    </tr>\n",
              "    <tr>\n",
              "      <th>15</th>\n",
              "      <td>中央区</td>\n",
              "      <td>日本橋本町</td>\n",
              "      <td>日本橋本町２丁目</td>\n",
              "      <td>新日本橋駅</td>\n",
              "      <td>37</td>\n",
              "      <td>0.081</td>\n",
              "      <td>25</td>\n",
              "      <td>0.237</td>\n",
              "      <td>4.31</td>\n",
              "      <td>3.46</td>\n",
              "      <td>4.27</td>\n",
              "    </tr>\n",
              "    <tr>\n",
              "      <th>16</th>\n",
              "      <td>新宿区</td>\n",
              "      <td>西新宿</td>\n",
              "      <td>西新宿７丁目</td>\n",
              "      <td>西武新宿駅</td>\n",
              "      <td>44</td>\n",
              "      <td>0.082</td>\n",
              "      <td>23</td>\n",
              "      <td>0.214</td>\n",
              "      <td>4.20</td>\n",
              "      <td>3.57</td>\n",
              "      <td>4.27</td>\n",
              "    </tr>\n",
              "    <tr>\n",
              "      <th>17</th>\n",
              "      <td>荒川区</td>\n",
              "      <td>西日暮里</td>\n",
              "      <td>西日暮里５丁目</td>\n",
              "      <td>西日暮里駅</td>\n",
              "      <td>10</td>\n",
              "      <td>0.072</td>\n",
              "      <td>25</td>\n",
              "      <td>0.166</td>\n",
              "      <td>3.95</td>\n",
              "      <td>3.80</td>\n",
              "      <td>4.23</td>\n",
              "    </tr>\n",
              "    <tr>\n",
              "      <th>18</th>\n",
              "      <td>千代田区</td>\n",
              "      <td>神田練塀町</td>\n",
              "      <td>神田練塀町</td>\n",
              "      <td>秋葉原駅</td>\n",
              "      <td>35</td>\n",
              "      <td>0.048</td>\n",
              "      <td>25</td>\n",
              "      <td>0.283</td>\n",
              "      <td>4.46</td>\n",
              "      <td>3.28</td>\n",
              "      <td>4.21</td>\n",
              "    </tr>\n",
              "    <tr>\n",
              "      <th>19</th>\n",
              "      <td>大田区</td>\n",
              "      <td>蒲田</td>\n",
              "      <td>蒲田５丁目</td>\n",
              "      <td>蒲田駅</td>\n",
              "      <td>36</td>\n",
              "      <td>0.048</td>\n",
              "      <td>24</td>\n",
              "      <td>0.268</td>\n",
              "      <td>4.41</td>\n",
              "      <td>3.33</td>\n",
              "      <td>4.21</td>\n",
              "    </tr>\n",
              "  </tbody>\n",
              "</table>\n",
              "</div>\n",
              "      <button class=\"colab-df-convert\" onclick=\"convertToInteractive('df-7b601ea8-f14e-42b5-8851-53e53a9f96fe')\"\n",
              "              title=\"Convert this dataframe to an interactive table.\"\n",
              "              style=\"display:none;\">\n",
              "        \n",
              "  <svg xmlns=\"http://www.w3.org/2000/svg\" height=\"24px\"viewBox=\"0 0 24 24\"\n",
              "       width=\"24px\">\n",
              "    <path d=\"M0 0h24v24H0V0z\" fill=\"none\"/>\n",
              "    <path d=\"M18.56 5.44l.94 2.06.94-2.06 2.06-.94-2.06-.94-.94-2.06-.94 2.06-2.06.94zm-11 1L8.5 8.5l.94-2.06 2.06-.94-2.06-.94L8.5 2.5l-.94 2.06-2.06.94zm10 10l.94 2.06.94-2.06 2.06-.94-2.06-.94-.94-2.06-.94 2.06-2.06.94z\"/><path d=\"M17.41 7.96l-1.37-1.37c-.4-.4-.92-.59-1.43-.59-.52 0-1.04.2-1.43.59L10.3 9.45l-7.72 7.72c-.78.78-.78 2.05 0 2.83L4 21.41c.39.39.9.59 1.41.59.51 0 1.02-.2 1.41-.59l7.78-7.78 2.81-2.81c.8-.78.8-2.07 0-2.86zM5.41 20L4 18.59l7.72-7.72 1.47 1.35L5.41 20z\"/>\n",
              "  </svg>\n",
              "      </button>\n",
              "      \n",
              "  <style>\n",
              "    .colab-df-container {\n",
              "      display:flex;\n",
              "      flex-wrap:wrap;\n",
              "      gap: 12px;\n",
              "    }\n",
              "\n",
              "    .colab-df-convert {\n",
              "      background-color: #E8F0FE;\n",
              "      border: none;\n",
              "      border-radius: 50%;\n",
              "      cursor: pointer;\n",
              "      display: none;\n",
              "      fill: #1967D2;\n",
              "      height: 32px;\n",
              "      padding: 0 0 0 0;\n",
              "      width: 32px;\n",
              "    }\n",
              "\n",
              "    .colab-df-convert:hover {\n",
              "      background-color: #E2EBFA;\n",
              "      box-shadow: 0px 1px 2px rgba(60, 64, 67, 0.3), 0px 1px 3px 1px rgba(60, 64, 67, 0.15);\n",
              "      fill: #174EA6;\n",
              "    }\n",
              "\n",
              "    [theme=dark] .colab-df-convert {\n",
              "      background-color: #3B4455;\n",
              "      fill: #D2E3FC;\n",
              "    }\n",
              "\n",
              "    [theme=dark] .colab-df-convert:hover {\n",
              "      background-color: #434B5C;\n",
              "      box-shadow: 0px 1px 3px 1px rgba(0, 0, 0, 0.15);\n",
              "      filter: drop-shadow(0px 1px 2px rgba(0, 0, 0, 0.3));\n",
              "      fill: #FFFFFF;\n",
              "    }\n",
              "  </style>\n",
              "\n",
              "      <script>\n",
              "        const buttonEl =\n",
              "          document.querySelector('#df-7b601ea8-f14e-42b5-8851-53e53a9f96fe button.colab-df-convert');\n",
              "        buttonEl.style.display =\n",
              "          google.colab.kernel.accessAllowed ? 'block' : 'none';\n",
              "\n",
              "        async function convertToInteractive(key) {\n",
              "          const element = document.querySelector('#df-7b601ea8-f14e-42b5-8851-53e53a9f96fe');\n",
              "          const dataTable =\n",
              "            await google.colab.kernel.invokeFunction('convertToInteractive',\n",
              "                                                     [key], {});\n",
              "          if (!dataTable) return;\n",
              "\n",
              "          const docLinkHtml = 'Like what you see? Visit the ' +\n",
              "            '<a target=\"_blank\" href=https://colab.research.google.com/notebooks/data_table.ipynb>data table notebook</a>'\n",
              "            + ' to learn more about interactive tables.';\n",
              "          element.innerHTML = '';\n",
              "          dataTable['output_type'] = 'display_data';\n",
              "          await google.colab.output.renderOutput(dataTable, element);\n",
              "          const docLink = document.createElement('div');\n",
              "          docLink.innerHTML = docLinkHtml;\n",
              "          element.appendChild(docLink);\n",
              "        }\n",
              "      </script>\n",
              "    </div>\n",
              "  </div>\n",
              "  "
            ]
          },
          "metadata": {},
          "execution_count": 34
        }
      ]
    },
    {
      "cell_type": "code",
      "source": [
        "df_level.tail(20)"
      ],
      "metadata": {
        "colab": {
          "base_uri": "https://localhost:8080/",
          "height": 677
        },
        "id": "YHYQi2qY_nIe",
        "outputId": "2e5553d0-1ee5-43b0-c208-3b665d4ef8e7"
      },
      "execution_count": 35,
      "outputs": [
        {
          "output_type": "execute_result",
          "data": {
            "text/plain": [
              "    市区町村名     町名     町丁目      最寄駅  コンビニ(数)  コンビニ(平均距離)  スーパー(数)  最寄駅(距離)  \\\n",
              "881   板橋区    新河岸  新河岸２丁目    戸田公園駅        2       0.365        6    1.915   \n",
              "882  江戸川区     船堀   船堀３丁目      平井駅        8       0.091        3    3.432   \n",
              "883  江戸川区   宇喜田町    宇喜田町  葛西臨海公園駅        5       0.330       10    3.546   \n",
              "884   練馬区    立野町     立野町     武蔵関駅        2       0.439        2    1.339   \n",
              "885  江戸川区   下篠崎町    下篠崎町     本八幡駅        5       0.189        3    2.779   \n",
              "886  世田谷区    宇奈根  宇奈根１丁目      久地駅        2       0.414        2    1.561   \n",
              "887  世田谷区     岡本   岡本２丁目    二子玉川駅        2       0.482        1    1.346   \n",
              "888   大田区    京浜島  京浜島１丁目     昭和島駅        0       0.836        0    0.789   \n",
              "889  江戸川区   一之江町    一之江町      平井駅        4       0.297        8    3.766   \n",
              "890  江戸川区  西小松川町   西小松川町      平井駅        1       0.521        6    1.964   \n",
              "891  江戸川区    西瑞江  西瑞江３丁目    市川塩浜駅        3       0.400       12    3.857   \n",
              "892   練馬区   西大泉町    西大泉町      保谷駅        1       0.541        4    1.675   \n",
              "893  千代田区    千代田     千代田     大手町駅        0       0.763        0    0.952   \n",
              "894  世田谷区    砧公園     砧公園      用賀駅        0       0.660        1    1.318   \n",
              "895  江戸川区   二之江町    二之江町      平井駅        3       0.252        6    3.890   \n",
              "896  江戸川区    東篠崎  東篠崎１丁目     本八幡駅        4       0.422        2    2.710   \n",
              "897   葛飾区   水元公園    水元公園      金町駅        1       0.518        2    2.035   \n",
              "898   大田区    城南島  城南島１丁目  流通センター駅        1       0.761        1    2.064   \n",
              "899  江戸川区   東篠崎町    東篠崎町     本八幡駅        0       0.571        3    3.027   \n",
              "900   江東区     若洲   若洲１丁目     新木場駅        0       1.196        0    2.121   \n",
              "\n",
              "     買い物スコア  駅スコア  利便性スコア  \n",
              "881    1.67  1.42    1.35  \n",
              "882    2.23  0.86    1.35  \n",
              "883    2.24  0.82    1.33  \n",
              "884    1.25  1.77    1.30  \n",
              "885    1.90  1.12    1.30  \n",
              "886    1.27  1.59    1.21  \n",
              "887    1.10  1.76    1.21  \n",
              "888    0.54  2.29    1.19  \n",
              "889    2.10  0.72    1.18  \n",
              "890    1.42  1.40    1.17  \n",
              "891    2.17  0.65    1.17  \n",
              "892    1.25  1.53    1.14  \n",
              "893    0.57  2.11    1.06  \n",
              "894    0.83  1.78    1.02  \n",
              "895    1.94  0.61    0.96  \n",
              "896    1.37  1.16    0.93  \n",
              "897    1.08  1.37    0.84  \n",
              "898    0.89  1.35    0.69  \n",
              "899    1.04  1.04    0.63  \n",
              "900    0.51  1.32    0.54  "
            ],
            "text/html": [
              "\n",
              "  <div id=\"df-65177659-63c7-4419-8911-d2bd70ce376e\">\n",
              "    <div class=\"colab-df-container\">\n",
              "      <div>\n",
              "<style scoped>\n",
              "    .dataframe tbody tr th:only-of-type {\n",
              "        vertical-align: middle;\n",
              "    }\n",
              "\n",
              "    .dataframe tbody tr th {\n",
              "        vertical-align: top;\n",
              "    }\n",
              "\n",
              "    .dataframe thead th {\n",
              "        text-align: right;\n",
              "    }\n",
              "</style>\n",
              "<table border=\"1\" class=\"dataframe\">\n",
              "  <thead>\n",
              "    <tr style=\"text-align: right;\">\n",
              "      <th></th>\n",
              "      <th>市区町村名</th>\n",
              "      <th>町名</th>\n",
              "      <th>町丁目</th>\n",
              "      <th>最寄駅</th>\n",
              "      <th>コンビニ(数)</th>\n",
              "      <th>コンビニ(平均距離)</th>\n",
              "      <th>スーパー(数)</th>\n",
              "      <th>最寄駅(距離)</th>\n",
              "      <th>買い物スコア</th>\n",
              "      <th>駅スコア</th>\n",
              "      <th>利便性スコア</th>\n",
              "    </tr>\n",
              "  </thead>\n",
              "  <tbody>\n",
              "    <tr>\n",
              "      <th>881</th>\n",
              "      <td>板橋区</td>\n",
              "      <td>新河岸</td>\n",
              "      <td>新河岸２丁目</td>\n",
              "      <td>戸田公園駅</td>\n",
              "      <td>2</td>\n",
              "      <td>0.365</td>\n",
              "      <td>6</td>\n",
              "      <td>1.915</td>\n",
              "      <td>1.67</td>\n",
              "      <td>1.42</td>\n",
              "      <td>1.35</td>\n",
              "    </tr>\n",
              "    <tr>\n",
              "      <th>882</th>\n",
              "      <td>江戸川区</td>\n",
              "      <td>船堀</td>\n",
              "      <td>船堀３丁目</td>\n",
              "      <td>平井駅</td>\n",
              "      <td>8</td>\n",
              "      <td>0.091</td>\n",
              "      <td>3</td>\n",
              "      <td>3.432</td>\n",
              "      <td>2.23</td>\n",
              "      <td>0.86</td>\n",
              "      <td>1.35</td>\n",
              "    </tr>\n",
              "    <tr>\n",
              "      <th>883</th>\n",
              "      <td>江戸川区</td>\n",
              "      <td>宇喜田町</td>\n",
              "      <td>宇喜田町</td>\n",
              "      <td>葛西臨海公園駅</td>\n",
              "      <td>5</td>\n",
              "      <td>0.330</td>\n",
              "      <td>10</td>\n",
              "      <td>3.546</td>\n",
              "      <td>2.24</td>\n",
              "      <td>0.82</td>\n",
              "      <td>1.33</td>\n",
              "    </tr>\n",
              "    <tr>\n",
              "      <th>884</th>\n",
              "      <td>練馬区</td>\n",
              "      <td>立野町</td>\n",
              "      <td>立野町</td>\n",
              "      <td>武蔵関駅</td>\n",
              "      <td>2</td>\n",
              "      <td>0.439</td>\n",
              "      <td>2</td>\n",
              "      <td>1.339</td>\n",
              "      <td>1.25</td>\n",
              "      <td>1.77</td>\n",
              "      <td>1.30</td>\n",
              "    </tr>\n",
              "    <tr>\n",
              "      <th>885</th>\n",
              "      <td>江戸川区</td>\n",
              "      <td>下篠崎町</td>\n",
              "      <td>下篠崎町</td>\n",
              "      <td>本八幡駅</td>\n",
              "      <td>5</td>\n",
              "      <td>0.189</td>\n",
              "      <td>3</td>\n",
              "      <td>2.779</td>\n",
              "      <td>1.90</td>\n",
              "      <td>1.12</td>\n",
              "      <td>1.30</td>\n",
              "    </tr>\n",
              "    <tr>\n",
              "      <th>886</th>\n",
              "      <td>世田谷区</td>\n",
              "      <td>宇奈根</td>\n",
              "      <td>宇奈根１丁目</td>\n",
              "      <td>久地駅</td>\n",
              "      <td>2</td>\n",
              "      <td>0.414</td>\n",
              "      <td>2</td>\n",
              "      <td>1.561</td>\n",
              "      <td>1.27</td>\n",
              "      <td>1.59</td>\n",
              "      <td>1.21</td>\n",
              "    </tr>\n",
              "    <tr>\n",
              "      <th>887</th>\n",
              "      <td>世田谷区</td>\n",
              "      <td>岡本</td>\n",
              "      <td>岡本２丁目</td>\n",
              "      <td>二子玉川駅</td>\n",
              "      <td>2</td>\n",
              "      <td>0.482</td>\n",
              "      <td>1</td>\n",
              "      <td>1.346</td>\n",
              "      <td>1.10</td>\n",
              "      <td>1.76</td>\n",
              "      <td>1.21</td>\n",
              "    </tr>\n",
              "    <tr>\n",
              "      <th>888</th>\n",
              "      <td>大田区</td>\n",
              "      <td>京浜島</td>\n",
              "      <td>京浜島１丁目</td>\n",
              "      <td>昭和島駅</td>\n",
              "      <td>0</td>\n",
              "      <td>0.836</td>\n",
              "      <td>0</td>\n",
              "      <td>0.789</td>\n",
              "      <td>0.54</td>\n",
              "      <td>2.29</td>\n",
              "      <td>1.19</td>\n",
              "    </tr>\n",
              "    <tr>\n",
              "      <th>889</th>\n",
              "      <td>江戸川区</td>\n",
              "      <td>一之江町</td>\n",
              "      <td>一之江町</td>\n",
              "      <td>平井駅</td>\n",
              "      <td>4</td>\n",
              "      <td>0.297</td>\n",
              "      <td>8</td>\n",
              "      <td>3.766</td>\n",
              "      <td>2.10</td>\n",
              "      <td>0.72</td>\n",
              "      <td>1.18</td>\n",
              "    </tr>\n",
              "    <tr>\n",
              "      <th>890</th>\n",
              "      <td>江戸川区</td>\n",
              "      <td>西小松川町</td>\n",
              "      <td>西小松川町</td>\n",
              "      <td>平井駅</td>\n",
              "      <td>1</td>\n",
              "      <td>0.521</td>\n",
              "      <td>6</td>\n",
              "      <td>1.964</td>\n",
              "      <td>1.42</td>\n",
              "      <td>1.40</td>\n",
              "      <td>1.17</td>\n",
              "    </tr>\n",
              "    <tr>\n",
              "      <th>891</th>\n",
              "      <td>江戸川区</td>\n",
              "      <td>西瑞江</td>\n",
              "      <td>西瑞江３丁目</td>\n",
              "      <td>市川塩浜駅</td>\n",
              "      <td>3</td>\n",
              "      <td>0.400</td>\n",
              "      <td>12</td>\n",
              "      <td>3.857</td>\n",
              "      <td>2.17</td>\n",
              "      <td>0.65</td>\n",
              "      <td>1.17</td>\n",
              "    </tr>\n",
              "    <tr>\n",
              "      <th>892</th>\n",
              "      <td>練馬区</td>\n",
              "      <td>西大泉町</td>\n",
              "      <td>西大泉町</td>\n",
              "      <td>保谷駅</td>\n",
              "      <td>1</td>\n",
              "      <td>0.541</td>\n",
              "      <td>4</td>\n",
              "      <td>1.675</td>\n",
              "      <td>1.25</td>\n",
              "      <td>1.53</td>\n",
              "      <td>1.14</td>\n",
              "    </tr>\n",
              "    <tr>\n",
              "      <th>893</th>\n",
              "      <td>千代田区</td>\n",
              "      <td>千代田</td>\n",
              "      <td>千代田</td>\n",
              "      <td>大手町駅</td>\n",
              "      <td>0</td>\n",
              "      <td>0.763</td>\n",
              "      <td>0</td>\n",
              "      <td>0.952</td>\n",
              "      <td>0.57</td>\n",
              "      <td>2.11</td>\n",
              "      <td>1.06</td>\n",
              "    </tr>\n",
              "    <tr>\n",
              "      <th>894</th>\n",
              "      <td>世田谷区</td>\n",
              "      <td>砧公園</td>\n",
              "      <td>砧公園</td>\n",
              "      <td>用賀駅</td>\n",
              "      <td>0</td>\n",
              "      <td>0.660</td>\n",
              "      <td>1</td>\n",
              "      <td>1.318</td>\n",
              "      <td>0.83</td>\n",
              "      <td>1.78</td>\n",
              "      <td>1.02</td>\n",
              "    </tr>\n",
              "    <tr>\n",
              "      <th>895</th>\n",
              "      <td>江戸川区</td>\n",
              "      <td>二之江町</td>\n",
              "      <td>二之江町</td>\n",
              "      <td>平井駅</td>\n",
              "      <td>3</td>\n",
              "      <td>0.252</td>\n",
              "      <td>6</td>\n",
              "      <td>3.890</td>\n",
              "      <td>1.94</td>\n",
              "      <td>0.61</td>\n",
              "      <td>0.96</td>\n",
              "    </tr>\n",
              "    <tr>\n",
              "      <th>896</th>\n",
              "      <td>江戸川区</td>\n",
              "      <td>東篠崎</td>\n",
              "      <td>東篠崎１丁目</td>\n",
              "      <td>本八幡駅</td>\n",
              "      <td>4</td>\n",
              "      <td>0.422</td>\n",
              "      <td>2</td>\n",
              "      <td>2.710</td>\n",
              "      <td>1.37</td>\n",
              "      <td>1.16</td>\n",
              "      <td>0.93</td>\n",
              "    </tr>\n",
              "    <tr>\n",
              "      <th>897</th>\n",
              "      <td>葛飾区</td>\n",
              "      <td>水元公園</td>\n",
              "      <td>水元公園</td>\n",
              "      <td>金町駅</td>\n",
              "      <td>1</td>\n",
              "      <td>0.518</td>\n",
              "      <td>2</td>\n",
              "      <td>2.035</td>\n",
              "      <td>1.08</td>\n",
              "      <td>1.37</td>\n",
              "      <td>0.84</td>\n",
              "    </tr>\n",
              "    <tr>\n",
              "      <th>898</th>\n",
              "      <td>大田区</td>\n",
              "      <td>城南島</td>\n",
              "      <td>城南島１丁目</td>\n",
              "      <td>流通センター駅</td>\n",
              "      <td>1</td>\n",
              "      <td>0.761</td>\n",
              "      <td>1</td>\n",
              "      <td>2.064</td>\n",
              "      <td>0.89</td>\n",
              "      <td>1.35</td>\n",
              "      <td>0.69</td>\n",
              "    </tr>\n",
              "    <tr>\n",
              "      <th>899</th>\n",
              "      <td>江戸川区</td>\n",
              "      <td>東篠崎町</td>\n",
              "      <td>東篠崎町</td>\n",
              "      <td>本八幡駅</td>\n",
              "      <td>0</td>\n",
              "      <td>0.571</td>\n",
              "      <td>3</td>\n",
              "      <td>3.027</td>\n",
              "      <td>1.04</td>\n",
              "      <td>1.04</td>\n",
              "      <td>0.63</td>\n",
              "    </tr>\n",
              "    <tr>\n",
              "      <th>900</th>\n",
              "      <td>江東区</td>\n",
              "      <td>若洲</td>\n",
              "      <td>若洲１丁目</td>\n",
              "      <td>新木場駅</td>\n",
              "      <td>0</td>\n",
              "      <td>1.196</td>\n",
              "      <td>0</td>\n",
              "      <td>2.121</td>\n",
              "      <td>0.51</td>\n",
              "      <td>1.32</td>\n",
              "      <td>0.54</td>\n",
              "    </tr>\n",
              "  </tbody>\n",
              "</table>\n",
              "</div>\n",
              "      <button class=\"colab-df-convert\" onclick=\"convertToInteractive('df-65177659-63c7-4419-8911-d2bd70ce376e')\"\n",
              "              title=\"Convert this dataframe to an interactive table.\"\n",
              "              style=\"display:none;\">\n",
              "        \n",
              "  <svg xmlns=\"http://www.w3.org/2000/svg\" height=\"24px\"viewBox=\"0 0 24 24\"\n",
              "       width=\"24px\">\n",
              "    <path d=\"M0 0h24v24H0V0z\" fill=\"none\"/>\n",
              "    <path d=\"M18.56 5.44l.94 2.06.94-2.06 2.06-.94-2.06-.94-.94-2.06-.94 2.06-2.06.94zm-11 1L8.5 8.5l.94-2.06 2.06-.94-2.06-.94L8.5 2.5l-.94 2.06-2.06.94zm10 10l.94 2.06.94-2.06 2.06-.94-2.06-.94-.94-2.06-.94 2.06-2.06.94z\"/><path d=\"M17.41 7.96l-1.37-1.37c-.4-.4-.92-.59-1.43-.59-.52 0-1.04.2-1.43.59L10.3 9.45l-7.72 7.72c-.78.78-.78 2.05 0 2.83L4 21.41c.39.39.9.59 1.41.59.51 0 1.02-.2 1.41-.59l7.78-7.78 2.81-2.81c.8-.78.8-2.07 0-2.86zM5.41 20L4 18.59l7.72-7.72 1.47 1.35L5.41 20z\"/>\n",
              "  </svg>\n",
              "      </button>\n",
              "      \n",
              "  <style>\n",
              "    .colab-df-container {\n",
              "      display:flex;\n",
              "      flex-wrap:wrap;\n",
              "      gap: 12px;\n",
              "    }\n",
              "\n",
              "    .colab-df-convert {\n",
              "      background-color: #E8F0FE;\n",
              "      border: none;\n",
              "      border-radius: 50%;\n",
              "      cursor: pointer;\n",
              "      display: none;\n",
              "      fill: #1967D2;\n",
              "      height: 32px;\n",
              "      padding: 0 0 0 0;\n",
              "      width: 32px;\n",
              "    }\n",
              "\n",
              "    .colab-df-convert:hover {\n",
              "      background-color: #E2EBFA;\n",
              "      box-shadow: 0px 1px 2px rgba(60, 64, 67, 0.3), 0px 1px 3px 1px rgba(60, 64, 67, 0.15);\n",
              "      fill: #174EA6;\n",
              "    }\n",
              "\n",
              "    [theme=dark] .colab-df-convert {\n",
              "      background-color: #3B4455;\n",
              "      fill: #D2E3FC;\n",
              "    }\n",
              "\n",
              "    [theme=dark] .colab-df-convert:hover {\n",
              "      background-color: #434B5C;\n",
              "      box-shadow: 0px 1px 3px 1px rgba(0, 0, 0, 0.15);\n",
              "      filter: drop-shadow(0px 1px 2px rgba(0, 0, 0, 0.3));\n",
              "      fill: #FFFFFF;\n",
              "    }\n",
              "  </style>\n",
              "\n",
              "      <script>\n",
              "        const buttonEl =\n",
              "          document.querySelector('#df-65177659-63c7-4419-8911-d2bd70ce376e button.colab-df-convert');\n",
              "        buttonEl.style.display =\n",
              "          google.colab.kernel.accessAllowed ? 'block' : 'none';\n",
              "\n",
              "        async function convertToInteractive(key) {\n",
              "          const element = document.querySelector('#df-65177659-63c7-4419-8911-d2bd70ce376e');\n",
              "          const dataTable =\n",
              "            await google.colab.kernel.invokeFunction('convertToInteractive',\n",
              "                                                     [key], {});\n",
              "          if (!dataTable) return;\n",
              "\n",
              "          const docLinkHtml = 'Like what you see? Visit the ' +\n",
              "            '<a target=\"_blank\" href=https://colab.research.google.com/notebooks/data_table.ipynb>data table notebook</a>'\n",
              "            + ' to learn more about interactive tables.';\n",
              "          element.innerHTML = '';\n",
              "          dataTable['output_type'] = 'display_data';\n",
              "          await google.colab.output.renderOutput(dataTable, element);\n",
              "          const docLink = document.createElement('div');\n",
              "          docLink.innerHTML = docLinkHtml;\n",
              "          element.appendChild(docLink);\n",
              "        }\n",
              "      </script>\n",
              "    </div>\n",
              "  </div>\n",
              "  "
            ]
          },
          "metadata": {},
          "execution_count": 35
        }
      ]
    },
    {
      "cell_type": "code",
      "source": [],
      "metadata": {
        "id": "KwfMlqDrBmKa"
      },
      "execution_count": 35,
      "outputs": []
    }
  ]
}